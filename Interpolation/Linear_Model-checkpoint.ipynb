{
 "cells": [
  {
   "cell_type": "code",
   "execution_count": 1,
   "metadata": {},
   "outputs": [],
   "source": [
    "import pandas as pd\n",
    "import numpy as np\n",
    "from collections import defaultdict\n",
    "import re\n",
    "import matplotlib.pyplot as plt\n",
    "from sklearn.linear_model import LinearRegression\n",
    "from category_encoders.target_encoder import TargetEncoder\n",
    "from sklearn.preprocessing import OneHotEncoder\n",
    "from sklearn.pipeline import Pipeline\n",
    "from sklearn.compose import make_column_transformer\n",
    "from sklearn.pipeline import make_pipeline\n",
    "from sklearn.preprocessing import StandardScaler\n",
    "from sklearn.linear_model import Ridge\n",
    "import scipy\n",
    "from sklearn.model_selection import train_test_split\n",
    "from sklearn.model_selection import GridSearchCV\n",
    "from sklearn.linear_model import ElasticNet"
   ]
  },
  {
   "cell_type": "code",
   "execution_count": 2,
   "metadata": {},
   "outputs": [
    {
     "name": "stderr",
     "output_type": "stream",
     "text": [
      "/Users/tabithasugumar/anaconda3/lib/python3.7/site-packages/IPython/core/interactiveshell.py:3063: DtypeWarning: Columns (22) have mixed types. Specify dtype option on import or set low_memory=False.\n",
      "  interactivity=interactivity, compiler=compiler, result=result)\n"
     ]
    }
   ],
   "source": [
    "census_1850 = pd.read_csv(\"data/census_1850_indexUpdate.csv\")\n",
    "census_1880 = pd.read_csv(\"data/census_1880_mn_v04.csv\")#select columns to use\n",
    "cd_1880 = pd.read_csv(\"data/cd_1880.csv\")"
   ]
  },
  {
   "cell_type": "code",
   "execution_count": 3,
   "metadata": {},
   "outputs": [
    {
     "data": {
      "text/plain": [
       "Index(['OBJECTID.x', 'CENSUS_MERGEID', 'CENSUS_SERIALB', 'CENSUS_SERIAL',\n",
       "       'CENSUS_PERNUM', 'CENSUS_RECIDUS', 'CENSUS_REEL', 'CENSUS_VOLUME',\n",
       "       'CENSUS_PAGENUM', 'CENSUS_NAMEFRSTB', 'CENSUS_NAMELASTB',\n",
       "       'CENSUS_RELATE', 'CENSUS_RELATE_STR', 'CENSUS_AGE', 'CENSUS_SEXB',\n",
       "       'CENSUS_RACENAMEB', 'CENSUS_RACEB', 'CENSUS_NPERHHB',\n",
       "       'CENSUS_OCCLABELB', 'CENSUS_SEIUSBN', 'CENSUS_MATCH_ADDR',\n",
       "       'CENSUS_HOUSE_NUMB', 'CENSUS_STREETB', 'CENSUS_TYPEB',\n",
       "       'CENSUS_SEGMENT_ID', 'CENSUS_BUILDING_I', 'CENSUS_NEIGHBOR_1',\n",
       "       'CENSUS_NEIGHBOR_2', 'CENSUS_SEGGROUP_I', 'CENSUS_EXTGROUP_I',\n",
       "       'CENSUS_CITY', 'CENSUS_COUNTYUS', 'CENSUS_X', 'CENSUS_Y',\n",
       "       'CENSUS_ADDRESS', 'CENSUS_ENUMDIST', 'CENSUS_CITYNAME',\n",
       "       'CENSUS_STATENAME', 'CENSUS_UNITTYPE', 'MERGE_SRC', 'WARD_NUM',\n",
       "       'CENSUS_AD'],\n",
       "      dtype='object')"
      ]
     },
     "execution_count": 3,
     "metadata": {},
     "output_type": "execute_result"
    }
   ],
   "source": [
    "census_1880.columns"
   ]
  },
  {
   "cell_type": "code",
   "execution_count": 4,
   "metadata": {},
   "outputs": [],
   "source": [
    "def create_street_house(df, address):\n",
    "    df[[\"house_number\", \"street_name\"]] = df[address].str.split(\" \", 1, expand = True)\n",
    "    df[\"house_number\"] = df[\"house_number\"].str.extract(r'(\\d+)')#.astype('int64', errors = 'ignore') #deal with numbers when they are listed as 124-125 (choose the first one) there's also one that's 2A which becomes 2 \n",
    "    df[\"house_number\"] = df[\"house_number\"].apply(pd.to_numeric, errors='coerce').dropna()"
   ]
  },
  {
   "cell_type": "code",
   "execution_count": 5,
   "metadata": {},
   "outputs": [],
   "source": [
    "census_1880_model = census_1880.loc[:,[\"CENSUS_PAGENUM\", \"CENSUS_AGE\", \"CENSUS_ADDRESS\", \"WARD_NUM\"]]\n",
    "create_street_house(census_1880_model, \"CENSUS_ADDRESS\")"
   ]
  },
  {
   "cell_type": "code",
   "execution_count": 6,
   "metadata": {},
   "outputs": [],
   "source": [
    "def get_street_type(df):\n",
    "    types = [\"PL\",\"AVE\", \"ALY\", \"ISLAND\", \"CT\", \"ST\", \"SQ\", \"RD\", \"PARK\", \"PIER\"]\n",
    "    exp = '(?<!\\S)({})(?!\\S)'.format('|'.join(types))\n",
    "    df[\"street_type\"] = df[\"street_name\"].str.extract(exp, expand = True).fillna(\"None\")\n",
    "\n",
    "def get_street_dir(df):\n",
    "    directions = [\"S\", \"N\", \"W\", \"E\"]\n",
    "    exp = '(?<!\\S)({})(?!\\S)'.format('|'.join(directions))\n",
    "    df[\"street_dir\"] = df[\"street_name\"].str.extract(exp, expand = True).fillna(\"None\")\n",
    "    \n",
    "get_street_type(census_1880_model)\n",
    "get_street_dir(census_1880_model)"
   ]
  },
  {
   "cell_type": "code",
   "execution_count": 7,
   "metadata": {},
   "outputs": [
    {
     "data": {
      "text/plain": [
       "ST        909324\n",
       "AVE       162459\n",
       "None       19279\n",
       "PL         15183\n",
       "ISLAND      4781\n",
       "PARK        4201\n",
       "SQ          1339\n",
       "PIER         566\n",
       "RD           163\n",
       "ALY          109\n",
       "CT            75\n",
       "Name: street_type, dtype: int64"
      ]
     },
     "execution_count": 7,
     "metadata": {},
     "output_type": "execute_result"
    }
   ],
   "source": [
    "census_1880_model[\"street_type\"].value_counts()"
   ]
  },
  {
   "cell_type": "code",
   "execution_count": 8,
   "metadata": {},
   "outputs": [
    {
     "data": {
      "text/plain": [
       "None    541290\n",
       "E       313304\n",
       "W       253426\n",
       "S         5152\n",
       "N         4307\n",
       "Name: street_dir, dtype: int64"
      ]
     },
     "execution_count": 8,
     "metadata": {},
     "output_type": "execute_result"
    }
   ],
   "source": [
    "census_1880_model[\"street_dir\"].value_counts()"
   ]
  },
  {
   "cell_type": "code",
   "execution_count": 9,
   "metadata": {},
   "outputs": [],
   "source": [
    "onehot_encode = [\"street_dir\", \"street_type\"]\n",
    "target_encode = [\"street_name\", \"WARD_NUM\"]\n",
    "continuous = [\"CENSUS_AGE\", \"CENSUS_PAGENUM\"]"
   ]
  },
  {
   "cell_type": "code",
   "execution_count": 10,
   "metadata": {},
   "outputs": [],
   "source": [
    "wards = [3, 18, 22]\n",
    "census_1880_model_train = census_1880_model[~census_1880_model[\"WARD_NUM\"].isin(wards)].copy()\n",
    "census_1880_model_test = census_1880_model[census_1880_model[\"WARD_NUM\"].isin(wards)]"
   ]
  },
  {
   "cell_type": "code",
   "execution_count": 11,
   "metadata": {},
   "outputs": [
    {
     "name": "stdout",
     "output_type": "stream",
     "text": [
      "<class 'pandas.core.frame.DataFrame'>\n",
      "Int64Index: 948667 entries, 0 to 1117478\n",
      "Data columns (total 8 columns):\n",
      "CENSUS_PAGENUM    948667 non-null int64\n",
      "CENSUS_AGE        948667 non-null int64\n",
      "CENSUS_ADDRESS    948667 non-null object\n",
      "WARD_NUM          941189 non-null float64\n",
      "house_number      948667 non-null int64\n",
      "street_name       948667 non-null object\n",
      "street_type       948667 non-null object\n",
      "street_dir        948667 non-null object\n",
      "dtypes: float64(1), int64(3), object(4)\n",
      "memory usage: 65.1+ MB\n"
     ]
    }
   ],
   "source": [
    "census_1880_model_train.info()"
   ]
  },
  {
   "cell_type": "code",
   "execution_count": 12,
   "metadata": {},
   "outputs": [],
   "source": [
    "census_1880_model_train.fillna(value = {\"WARD_NUM\":\"None\"}, inplace = True)\n",
    "census_1880_model_train_y = census_1880_model_train[\"house_number\"]\n",
    "census_1880_model_train_X = census_1880_model_train.drop(labels = [\"house_number\", \"CENSUS_ADDRESS\"], axis = 1)"
   ]
  },
  {
   "cell_type": "code",
   "execution_count": 13,
   "metadata": {},
   "outputs": [],
   "source": [
    "preprocess = make_column_transformer((OneHotEncoder(), onehot_encode),\n",
    "                                     (StandardScaler(), continuous),\n",
    "                                     (TargetEncoder(), target_encode))\n",
    "model = Pipeline([('preprocess', preprocess),\n",
    "                  ('regressor', LinearRegression())])"
   ]
  },
  {
   "cell_type": "code",
   "execution_count": 14,
   "metadata": {},
   "outputs": [
    {
     "name": "stdout",
     "output_type": "stream",
     "text": [
      "Training Score: 0.6740163507722179\n"
     ]
    }
   ],
   "source": [
    "model.fit(census_1880_model_train_X, census_1880_model_train_y)\n",
    "print(\"Training Score:\", model.score(census_1880_model_train_X, census_1880_model_train_y))"
   ]
  },
  {
   "cell_type": "code",
   "execution_count": 15,
   "metadata": {},
   "outputs": [
    {
     "name": "stdout",
     "output_type": "stream",
     "text": [
      "1880 Test Score: -1.2170623593281378\n"
     ]
    }
   ],
   "source": [
    "census_1880_model_test_y = census_1880_model_test[\"house_number\"]\n",
    "census_1880_model_test_X = census_1880_model_test.drop(labels = [\"house_number\", \"CENSUS_ADDRESS\"], axis = 1)\n",
    "print(\"1880 Test Score:\", model.score(census_1880_model_test_X, census_1880_model_test_y))"
   ]
  },
  {
   "cell_type": "code",
   "execution_count": 16,
   "metadata": {},
   "outputs": [
    {
     "name": "stdout",
     "output_type": "stream",
     "text": [
      "<class 'pandas.core.frame.DataFrame'>\n",
      "Int64Index: 261460 entries, 0 to 515615\n",
      "Data columns (total 30 columns):\n",
      "CENSUS_SERIALP             261460 non-null int64\n",
      "CENSUS_AGE                 261460 non-null int64\n",
      "CENSUS_SEX                 261460 non-null int64\n",
      "CENSUS_MARST               261460 non-null int64\n",
      "CENSUS_RACE                261460 non-null int64\n",
      "CENSUS_LABFORCE            261460 non-null int64\n",
      "CENSUS_IMPREL              261460 non-null int64\n",
      "CENSUS_OCCSTR              83888 non-null object\n",
      "CENSUS_NAMELAST            261405 non-null object\n",
      "CENSUS_NAMEFRST            261158 non-null object\n",
      "CENSUS_SEQ_NUM             261460 non-null int64\n",
      "CENSUS_HH_NUM              261460 non-null int64\n",
      "CENSUS_IPUMS_UID           261460 non-null object\n",
      "CENSUS_CITY                261460 non-null int64\n",
      "CENSUS_PAGENO_HOUSEHOLD    261460 non-null int64\n",
      "CENSUS_WARD_NUM            261460 non-null int64\n",
      "CENSUS_REEL_HOUSEHOLD      261460 non-null int64\n",
      "CENSUS_PLACE               261460 non-null object\n",
      "CENSUS_DWELLING_NUM        261427 non-null float64\n",
      "CENSUS_DWELLING_SEQ        260535 non-null float64\n",
      "CENSUS_DWELLING_SIZE       261460 non-null int64\n",
      "CENSUS_GEOG                261030 non-null object\n",
      "CENSUS_LINE                261460 non-null int64\n",
      "CENSUS_INDEX               261460 non-null int64\n",
      "CENSUS_ID                  12348 non-null object\n",
      "CD_ADDRESS                 261460 non-null object\n",
      "selected                   12348 non-null float64\n",
      "spatial_weight             12348 non-null float64\n",
      "CD_X                       12348 non-null float64\n",
      "CD_Y                       12348 non-null float64\n",
      "dtypes: float64(6), int64(16), object(8)\n",
      "memory usage: 61.8+ MB\n"
     ]
    }
   ],
   "source": [
    "census_filled_1850 = pd.read_csv(\"data/dwelling_filled_sum_1850_mn.csv\")\n",
    "census_filled_1850.dropna(subset = [\"CD_ADDRESS\"], inplace = True)\n",
    "census_filled_1850.info()"
   ]
  },
  {
   "cell_type": "code",
   "execution_count": 17,
   "metadata": {},
   "outputs": [
    {
     "name": "stdout",
     "output_type": "stream",
     "text": [
      "<class 'pandas.core.frame.DataFrame'>\n",
      "Int64Index: 259173 entries, 0 to 515615\n",
      "Data columns (total 6 columns):\n",
      "CD_ADDRESS        259173 non-null object\n",
      "CENSUS_PAGENUM    259173 non-null int64\n",
      "CENSUS_AGE        259173 non-null int64\n",
      "WARD_NUM          259173 non-null int64\n",
      "house_number      259173 non-null float64\n",
      "street_name       259173 non-null object\n",
      "dtypes: float64(1), int64(3), object(2)\n",
      "memory usage: 13.8+ MB\n"
     ]
    }
   ],
   "source": [
    "census_filled_1850 = census_filled_1850.loc[:,[\"CD_ADDRESS\", \"CENSUS_PAGENO_HOUSEHOLD\", \"CENSUS_AGE\", \"CENSUS_WARD_NUM\"]]\n",
    "census_filled_1850.rename(columns = {\"CENSUS_PAGENO_HOUSEHOLD\":\"CENSUS_PAGENUM\", \"CENSUS_WARD_NUM\":\"WARD_NUM\"}, inplace = True)\n",
    "create_street_house(census_filled_1850, \"CD_ADDRESS\")\n",
    "census_filled_1850.dropna(subset = [\"street_name\", \"house_number\"], inplace = True)\n",
    "census_filled_1850.info()"
   ]
  },
  {
   "cell_type": "code",
   "execution_count": 18,
   "metadata": {},
   "outputs": [
    {
     "name": "stdout",
     "output_type": "stream",
     "text": [
      "1850 Test Score: -2.505618753493405\n"
     ]
    }
   ],
   "source": [
    "get_street_type(census_filled_1850)\n",
    "get_street_dir(census_filled_1850)\n",
    "census_filled_1850_y = census_filled_1850[\"house_number\"]\n",
    "census_filled_1850_X = census_filled_1850.drop(labels = [\"house_number\", \"CD_ADDRESS\"], axis = 1)\n",
    "print(\"1850 Test Score:\", model.score(census_filled_1850_X, census_filled_1850_y))"
   ]
  },
  {
   "cell_type": "markdown",
   "metadata": {},
   "source": [
    "#### Redo outside pipeline to look at feature importances"
   ]
  },
  {
   "cell_type": "code",
   "execution_count": 19,
   "metadata": {},
   "outputs": [],
   "source": [
    "#Let's see which features the model considered important\n",
    "ohe = OneHotEncoder()\n",
    "te = TargetEncoder()\n",
    "OHE = ohe.fit_transform(census_1880_model_train_X.loc[:,onehot_encode])\n",
    "TE = te.fit_transform(census_1880_model_train_X.loc[:,target_encode], census_1880_model_train_y)\n",
    "C = StandardScaler().fit_transform(census_1880_model_train_X.loc[:,continuous])\n",
    "X = scipy.sparse.hstack((OHE, TE, C))"
   ]
  },
  {
   "cell_type": "code",
   "execution_count": 20,
   "metadata": {},
   "outputs": [],
   "source": [
    "cols = list(ohe.get_feature_names()) + list(te.get_feature_names()) + continuous"
   ]
  },
  {
   "cell_type": "code",
   "execution_count": 21,
   "metadata": {},
   "outputs": [],
   "source": [
    "lin_mod = LinearRegression().fit(X, census_1880_model_train_y)\n",
    "coefs = lin_mod.coef_"
   ]
  },
  {
   "cell_type": "code",
   "execution_count": 22,
   "metadata": {},
   "outputs": [
    {
     "data": {
      "image/png": "[encoded data removed]",
      "text/plain": [
       "<Figure size 1440x720 with 1 Axes>"
      ]
     },
     "metadata": {
      "needs_background": "light"
     },
     "output_type": "display_data"
    }
   ],
   "source": [
    "fig, ax = plt.subplots(1, figsize=(20,10))\n",
    "ax.barh(cols, coefs)\n",
    "ax.set_title(\"Coefficients for Linear Regression Model\")\n",
    "ax.set_xlabel(\"Coefficients\")\n",
    "ax.set_ylabel(\"Features\")\n",
    "plt.show()"
   ]
  },
  {
   "cell_type": "code",
   "execution_count": 23,
   "metadata": {},
   "outputs": [
    {
     "name": "stdout",
     "output_type": "stream",
     "text": [
      "Training score without intercept: 0.6740160881260632\n"
     ]
    },
    {
     "data": {
      "image/png": "[encoded data removed]",
      "text/plain": [
       "<Figure size 1440x720 with 1 Axes>"
      ]
     },
     "metadata": {
      "needs_background": "light"
     },
     "output_type": "display_data"
    }
   ],
   "source": [
    "lin_mod = LinearRegression(fit_intercept = False).fit(X, census_1880_model_train_y)\n",
    "print(\"Training score without intercept:\", lin_mod.score(X, census_1880_model_train_y))\n",
    "coefs = lin_mod.coef_\n",
    "fig, ax = plt.subplots(1, figsize=(20,10))\n",
    "ax.barh(cols, coefs)\n",
    "ax.set_title(\"Coefficients for Linear Regression Model Without Intercept\")\n",
    "ax.set_xlabel(\"Coefficients\")\n",
    "ax.set_ylabel(\"Features\")\n",
    "plt.show()"
   ]
  },
  {
   "cell_type": "markdown",
   "metadata": {},
   "source": [
    "So this is not succeeding at generalizing at all. Let's see if regularization helps, if not we'll need to try something else."
   ]
  },
  {
   "cell_type": "code",
   "execution_count": 24,
   "metadata": {},
   "outputs": [
    {
     "name": "stdout",
     "output_type": "stream",
     "text": [
      "Training Score: 0.6739360661757745\n",
      "1880 Test Score: -1.1995624678926275\n",
      "1850 Test Score: -2.434948868979194\n"
     ]
    }
   ],
   "source": [
    "ridge = Pipeline([('preprocess', preprocess),\n",
    "                  ('regressor', Ridge(alpha = 1000))])\n",
    "ridge.fit(census_1880_model_train_X, census_1880_model_train_y)\n",
    "print(\"Training Score:\", ridge.score(census_1880_model_train_X, census_1880_model_train_y))\n",
    "print(\"1880 Test Score:\", ridge.score(census_1880_model_test_X, census_1880_model_test_y))\n",
    "print(\"1850 Test Score:\", ridge.score(census_filled_1850_X, census_filled_1850_y))"
   ]
  },
  {
   "cell_type": "code",
   "execution_count": 25,
   "metadata": {},
   "outputs": [
    {
     "name": "stdout",
     "output_type": "stream",
     "text": [
      "Training Score: 0.6302438799830188\n",
      "1880 Test Score: -0.7951653776170111\n",
      "1850 Test Score: -0.5314334575844806\n"
     ]
    }
   ],
   "source": [
    "from sklearn.linear_model import Lasso\n",
    "lasso = Pipeline([('preprocess', preprocess),\n",
    "                  ('regressor', Lasso(alpha = 10000))])\n",
    "lasso.fit(census_1880_model_train_X, census_1880_model_train_y)\n",
    "print(\"Training Score:\", lasso.score(census_1880_model_train_X, census_1880_model_train_y))\n",
    "print(\"1880 Test Score:\", lasso.score(census_1880_model_test_X, census_1880_model_test_y))\n",
    "print(\"1850 Test Score:\", lasso.score(census_filled_1850_X, census_filled_1850_y))"
   ]
  },
  {
   "cell_type": "code",
   "execution_count": 26,
   "metadata": {},
   "outputs": [
    {
     "data": {
      "image/png": "[encoded data removed]",
      "text/plain": [
       "<Figure size 1440x720 with 1 Axes>"
      ]
     },
     "metadata": {
      "needs_background": "light"
     },
     "output_type": "display_data"
    }
   ],
   "source": [
    "###Let's look at lasso's importance since it seems to work better (slightly)\n",
    "las_mod = Lasso(alpha = 10000).fit(X, census_1880_model_train_y)\n",
    "coefs = las_mod.coef_\n",
    "fig, ax = plt.subplots(1, figsize=(20,10))\n",
    "ax.barh(cols, coefs)\n",
    "ax.set_title(\"Coefficients for Lasso Regression Model\")\n",
    "ax.set_xlabel(\"Coefficients\")\n",
    "ax.set_ylabel(\"Features\")\n",
    "plt.show()"
   ]
  },
  {
   "cell_type": "code",
   "execution_count": 27,
   "metadata": {},
   "outputs": [
    {
     "data": {
      "text/plain": [
       "array([-0.        , -0.        ,  0.        ,  0.        , -0.        ,\n",
       "       -0.        ,  0.        , -0.        , -0.        ,  0.        ,\n",
       "       -0.        ,  0.        , -0.        ,  0.        , -0.        ,\n",
       "       -0.        ,  0.8451377 ,  0.17663289, -0.        ,  0.        ])"
      ]
     },
     "execution_count": 27,
     "metadata": {},
     "output_type": "execute_result"
    }
   ],
   "source": [
    "las_mod.coef_"
   ]
  },
  {
   "cell_type": "code",
   "execution_count": 28,
   "metadata": {},
   "outputs": [
    {
     "data": {
      "image/png": "[encoded data removed]",
      "text/plain": [
       "<Figure size 1440x720 with 1 Axes>"
      ]
     },
     "metadata": {
      "needs_background": "light"
     },
     "output_type": "display_data"
    }
   ],
   "source": [
    "ridge_mod = Ridge(alpha = 10000).fit(X, census_1880_model_train_y)\n",
    "coefs = ridge_mod.coef_\n",
    "fig, ax = plt.subplots(1, figsize=(20,10))\n",
    "ax.barh(cols, coefs)\n",
    "ax.set_title(\"Coefficients for Lasso Regression Model\")\n",
    "ax.set_xlabel(\"Coefficients\")\n",
    "ax.set_ylabel(\"Features\")\n",
    "plt.show()"
   ]
  },
  {
   "cell_type": "markdown",
   "metadata": {},
   "source": [
    "#### Model only with Ward_Num and street_name, as indicated by regularization"
   ]
  },
  {
   "cell_type": "code",
   "execution_count": 29,
   "metadata": {},
   "outputs": [
    {
     "name": "stdout",
     "output_type": "stream",
     "text": [
      "Training score with feature selection: 0.6338962828802052\n"
     ]
    },
    {
     "data": {
      "image/png": "[encoded data removed]",
      "text/plain": [
       "<Figure size 1440x720 with 1 Axes>"
      ]
     },
     "metadata": {
      "needs_background": "light"
     },
     "output_type": "display_data"
    }
   ],
   "source": [
    "### Let's try just using WARD_NUM and street_name\n",
    "lin_feat = LinearRegression(fit_intercept = False).fit(TE, census_1880_model_train_y)\n",
    "coefs = lin_feat.coef_\n",
    "print(\"Training score with feature selection:\", lin_feat.score(TE, census_1880_model_train_y))\n",
    "fig, ax = plt.subplots(1, figsize=(20,10))\n",
    "ax.barh(te.get_feature_names(), coefs)\n",
    "ax.set_title(\"Feature Selection for Linear Regression Model\")\n",
    "ax.set_xlabel(\"Coefficients\")\n",
    "ax.set_ylabel(\"Features\")\n",
    "plt.show()"
   ]
  },
  {
   "cell_type": "code",
   "execution_count": 30,
   "metadata": {},
   "outputs": [],
   "source": [
    "te_test = TargetEncoder()\n",
    "te_1850 = TargetEncoder()\n",
    "X_te_1880 = te_test.fit_transform(census_1880_model_test_X.loc[:,target_encode], census_1880_model_test_y)\n",
    "X_te_1850 = te_1850.fit_transform(census_filled_1850_X.loc[:,target_encode], census_filled_1850_y)"
   ]
  },
  {
   "cell_type": "code",
   "execution_count": 31,
   "metadata": {},
   "outputs": [
    {
     "name": "stdout",
     "output_type": "stream",
     "text": [
      "1880 test score with feature selection: 0.606208092857389\n",
      "1850 test score with feature selection: 0.5272094558677243\n"
     ]
    }
   ],
   "source": [
    "print(\"1880 test score with feature selection:\", lin_feat.score(X_te_1880, census_1880_model_test_y))\n",
    "print(\"1850 test score with feature selection:\", lin_feat.score(X_te_1850, census_filled_1850_y))"
   ]
  },
  {
   "cell_type": "markdown",
   "metadata": {},
   "source": [
    "This is a good indication that a model can successfully be trained on 1880 and tested on 1850 (but perhaps we can use some of 1850 in the training data)"
   ]
  },
  {
   "cell_type": "markdown",
   "metadata": {},
   "source": [
    "#### Add some of the 1850 data to the training set"
   ]
  },
  {
   "cell_type": "code",
   "execution_count": 32,
   "metadata": {},
   "outputs": [],
   "source": [
    "X_1850_train, X_1850_test, y_1850_train, y_1850_test = train_test_split(census_filled_1850_X.loc[:,target_encode], census_filled_1850_y, random_state = 123)\n",
    "X_1880_1850 = pd.concat([census_1880_model_train_X.loc[:,target_encode], X_1850_train])\n",
    "y_1880_1850 = pd.concat([census_1880_model_train_y, y_1850_train])"
   ]
  },
  {
   "cell_type": "code",
   "execution_count": 33,
   "metadata": {},
   "outputs": [],
   "source": [
    "X_1880_1850_te = te.fit_transform(X_1880_1850, y_1880_1850)\n",
    "X_1850_test_te = te.fit_transform(X_1850_test, y_1850_test)"
   ]
  },
  {
   "cell_type": "code",
   "execution_count": 34,
   "metadata": {},
   "outputs": [
    {
     "name": "stdout",
     "output_type": "stream",
     "text": [
      "Training score with 1880 and 1850 data: 0.6392200135138517\n",
      "1880 test score: 0.6087932645160461\n",
      "1850 test score: 0.5420903968340011\n"
     ]
    }
   ],
   "source": [
    "lin_feat = LinearRegression(fit_intercept = False).fit(X_1880_1850_te, y_1880_1850)\n",
    "print(\"Training score with 1880 and 1850 data:\", lin_feat.score(X_1880_1850_te, y_1880_1850))\n",
    "print(\"1880 test score:\", lin_feat.score(X_te_1880, census_1880_model_test_y))\n",
    "print(\"1850 test score:\", lin_feat.score(X_1850_test_te, y_1850_test))"
   ]
  },
  {
   "cell_type": "code",
   "execution_count": 45,
   "metadata": {},
   "outputs": [
    {
     "data": {
      "image/png": "[encoded data removed]",
      "text/plain": [
       "<Figure size 1440x720 with 1 Axes>"
      ]
     },
     "metadata": {
      "needs_background": "light"
     },
     "output_type": "display_data"
    }
   ],
   "source": [
    "fig, ax = plt.subplots(1, figsize=(20,10))\n",
    "ax.barh(te.get_feature_names(), lin_feat.coef_)\n",
    "ax.set_title(\"Linear Regression Model\")\n",
    "ax.set_xlabel(\"Coefficients\")\n",
    "ax.set_ylabel(\"Features\")\n",
    "plt.show()"
   ]
  },
  {
   "cell_type": "code",
   "execution_count": 46,
   "metadata": {},
   "outputs": [
    {
     "data": {
      "text/plain": [
       "array([0.89591116, 0.43081183])"
      ]
     },
     "execution_count": 46,
     "metadata": {},
     "output_type": "execute_result"
    }
   ],
   "source": [
    "lin_feat.coef_"
   ]
  },
  {
   "cell_type": "markdown",
   "metadata": {},
   "source": [
    "#### Find best linear regression model"
   ]
  },
  {
   "cell_type": "code",
   "execution_count": 35,
   "metadata": {},
   "outputs": [
    {
     "name": "stdout",
     "output_type": "stream",
     "text": [
      "Linear Regression without intercept\n",
      "Training score with 1880 and 1850 data: 0.6564545351965811\n",
      "1880 test score: 0.39042665655723663\n",
      "1850 test score: 0.5098115059176744\n"
     ]
    }
   ],
   "source": [
    "print(\"Linear Regression without intercept\")\n",
    "lin_feat = LinearRegression().fit(X_1880_1850_te, y_1880_1850)\n",
    "print(\"Training score with 1880 and 1850 data:\", lin_feat.score(X_1880_1850_te, y_1880_1850))\n",
    "print(\"1880 test score:\", lin_feat.score(X_te_1880, census_1880_model_test_y))\n",
    "print(\"1850 test score:\", lin_feat.score(X_1850_test_te, y_1850_test))"
   ]
  },
  {
   "cell_type": "code",
   "execution_count": 36,
   "metadata": {},
   "outputs": [
    {
     "name": "stdout",
     "output_type": "stream",
     "text": [
      "Ridge Model\n",
      "Ridge(alpha=10000000, copy_X=True, fit_intercept=True, max_iter=None,\n",
      "      normalize=False, random_state=None, solver='auto', tol=0.001)\n"
     ]
    }
   ],
   "source": [
    "print(\"Ridge Model\")\n",
    "param_grid_ridge = {\"alpha\":[5000000, 8000000, 10000000], \"fit_intercept\":[True, False]}\n",
    "Ridge_Grid = GridSearchCV(Ridge(), param_grid = param_grid_ridge).fit(X_1880_1850_te, y_1880_1850)\n",
    "print(Ridge_Grid.best_estimator_)"
   ]
  },
  {
   "cell_type": "code",
   "execution_count": 47,
   "metadata": {},
   "outputs": [
    {
     "data": {
      "text/plain": [
       "array([0.89582803, 0.43073655])"
      ]
     },
     "execution_count": 47,
     "metadata": {},
     "output_type": "execute_result"
    }
   ],
   "source": [
    "Ridge_Grid.best_estimator_.coef_"
   ]
  },
  {
   "cell_type": "code",
   "execution_count": 43,
   "metadata": {},
   "outputs": [
    {
     "data": {
      "image/png": "[encoded data removed]",
      "text/plain": [
       "<Figure size 1440x720 with 1 Axes>"
      ]
     },
     "metadata": {
      "needs_background": "light"
     },
     "output_type": "display_data"
    }
   ],
   "source": [
    "fig, ax = plt.subplots(1, figsize=(20,10))\n",
    "ax.barh(te.get_feature_names(), Ridge_Grid.best_estimator_.coef_)\n",
    "ax.set_title(\"Ridge Model\")\n",
    "ax.set_xlabel(\"Coefficients\")\n",
    "ax.set_ylabel(\"Features\")\n",
    "plt.show()"
   ]
  },
  {
   "cell_type": "code",
   "execution_count": 38,
   "metadata": {},
   "outputs": [
    {
     "name": "stdout",
     "output_type": "stream",
     "text": [
      "Training score with 1880 and 1850 data: 0.656454527708188\n",
      "1880 test score: 0.3904622769999586\n",
      "1850 test score: 0.509853488463688\n"
     ]
    }
   ],
   "source": [
    "print(\"Training score with 1880 and 1850 data:\", Ridge_Grid.score(X_1880_1850_te, y_1880_1850))\n",
    "print(\"1880 test score:\", Ridge_Grid.score(X_te_1880, census_1880_model_test_y))\n",
    "print(\"1850 test score:\", Ridge_Grid.score(X_1850_test_te, y_1850_test))"
   ]
  },
  {
   "cell_type": "code",
   "execution_count": 39,
   "metadata": {},
   "outputs": [
    {
     "name": "stdout",
     "output_type": "stream",
     "text": [
      "Lasso Model\n",
      "Lasso(alpha=3900, copy_X=True, fit_intercept=True, max_iter=1000,\n",
      "      normalize=False, positive=False, precompute=False, random_state=None,\n",
      "      selection='cyclic', tol=0.0001, warm_start=False)\n"
     ]
    }
   ],
   "source": [
    "print(\"Lasso Model\")\n",
    "param_grid_lasso = {\"alpha\":[3700, 3800, 3900], \"fit_intercept\":[True, False]}\n",
    "Lasso_Grid = GridSearchCV(Lasso(), param_grid = param_grid_lasso).fit(X_1880_1850_te, y_1880_1850)\n",
    "print(Lasso_Grid.best_estimator_)"
   ]
  },
  {
   "cell_type": "code",
   "execution_count": 40,
   "metadata": {},
   "outputs": [
    {
     "name": "stdout",
     "output_type": "stream",
     "text": [
      "Training score with 1880 and 1850 data: 0.6520672215133161\n",
      "1880 test score: 0.4971463237426117\n",
      "1850 test score: 0.538747495695554\n"
     ]
    }
   ],
   "source": [
    "print(\"Training score with 1880 and 1850 data:\", Lasso_Grid.score(X_1880_1850_te, y_1880_1850))\n",
    "print(\"1880 test score:\", Lasso_Grid.score(X_te_1880, census_1880_model_test_y))\n",
    "print(\"1850 test score:\", Lasso_Grid.score(X_1850_test_te, y_1850_test))"
   ]
  },
  {
   "cell_type": "code",
   "execution_count": 48,
   "metadata": {},
   "outputs": [
    {
     "data": {
      "text/plain": [
       "array([0.87419744, 0.31203939])"
      ]
     },
     "execution_count": 48,
     "metadata": {},
     "output_type": "execute_result"
    }
   ],
   "source": [
    "Lasso_Grid.best_estimator_.coef_"
   ]
  },
  {
   "cell_type": "code",
   "execution_count": 44,
   "metadata": {},
   "outputs": [
    {
     "data": {
      "image/png": "[encoded data removed]",
      "text/plain": [
       "<Figure size 1440x720 with 1 Axes>"
      ]
     },
     "metadata": {
      "needs_background": "light"
     },
     "output_type": "display_data"
    }
   ],
   "source": [
    "fig, ax = plt.subplots(1, figsize=(20,10))\n",
    "ax.barh(te.get_feature_names(), Lasso_Grid.best_estimator_.coef_)\n",
    "ax.set_title(\"Lasso Model\")\n",
    "ax.set_xlabel(\"Coefficients\")\n",
    "ax.set_ylabel(\"Features\")\n",
    "plt.show()"
   ]
  },
  {
   "cell_type": "code",
   "execution_count": 41,
   "metadata": {},
   "outputs": [
    {
     "name": "stdout",
     "output_type": "stream",
     "text": [
      "Elastic Model\n",
      "ElasticNet(alpha=11000, copy_X=True, fit_intercept=True, l1_ratio=0.05,\n",
      "           max_iter=1000, normalize=False, positive=False, precompute=False,\n",
      "           random_state=None, selection='cyclic', tol=0.0001, warm_start=False)\n"
     ]
    }
   ],
   "source": [
    "print(\"Elastic Model\")\n",
    "param_grid_elastic = {\"alpha\":[9000, 10000, 11000], \"fit_intercept\":[True, False], \"l1_ratio\":[0.05, 0.1]}\n",
    "Elastic_Grid = GridSearchCV(ElasticNet(), param_grid = param_grid_elastic).fit(X_1880_1850_te, y_1880_1850)\n",
    "print(Elastic_Grid.best_estimator_)"
   ]
  },
  {
   "cell_type": "code",
   "execution_count": 42,
   "metadata": {},
   "outputs": [
    {
     "name": "stdout",
     "output_type": "stream",
     "text": [
      "Training score with 1880 and 1850 data: 0.6468881784390397\n",
      "1880 test score: 0.4179462755272336\n",
      "1850 test score: 0.5350912992083139\n"
     ]
    }
   ],
   "source": [
    "print(\"Training score with 1880 and 1850 data:\", Elastic_Grid.score(X_1880_1850_te, y_1880_1850))\n",
    "print(\"1880 test score:\", Elastic_Grid.score(X_te_1880, census_1880_model_test_y))\n",
    "print(\"1850 test score:\", Elastic_Grid.score(X_1850_test_te, y_1850_test))"
   ]
  },
  {
   "cell_type": "markdown",
   "metadata": {},
   "source": [
    "#### Let's try adding in enumeration order"
   ]
  },
  {
   "cell_type": "code",
   "execution_count": 70,
   "metadata": {},
   "outputs": [
    {
     "name": "stdout",
     "output_type": "stream",
     "text": [
      "<class 'pandas.core.frame.DataFrame'>\n",
      "Int64Index: 948667 entries, 0 to 1117478\n",
      "Data columns (total 3 columns):\n",
      "street_name     948667 non-null object\n",
      "WARD_NUM        948667 non-null object\n",
      "street_order    948667 non-null int64\n",
      "dtypes: int64(1), object(2)\n",
      "memory usage: 69.0+ MB\n"
     ]
    }
   ],
   "source": [
    "#Start with just 1880 data and simple ordinal encoding/simple groupby approach to generating order\n",
    "train_1880 = census_1880_model_train_X.loc[:,target_encode]\n",
    "\n",
    "def order(df, col):\n",
    "    df[col] = list(range(len(df)))\n",
    "    return df\n",
    "\n",
    "def get_enumorder_groupby(df, ward = \"WARD_NUM\", street = \"street_name\"):\n",
    "    #df = df.groupby(ward).apply(lambda x: order(x, \"ward_order\"))\n",
    "    df = df.groupby([ward, street]).apply(lambda x: order(x, \"street_order\"))\n",
    "    return df\n",
    "    \n",
    "train_1880 = get_enumorder_groupby(train_1880)\n",
    "train_1880.info()"
   ]
  },
  {
   "cell_type": "code",
   "execution_count": 71,
   "metadata": {},
   "outputs": [
    {
     "name": "stdout",
     "output_type": "stream",
     "text": [
      "Training Score: 0.6697534990447203\n"
     ]
    }
   ],
   "source": [
    "preprocess_te = make_column_transformer((TargetEncoder(), target_encode), remainder = \"passthrough\")\n",
    "param_grid_lin = {\"fit_intercept\":[True, False]}\n",
    "Lin_Grid = GridSearchCV(LinearRegression(), param_grid = param_grid_lin)\n",
    "model_lin = Pipeline([('preprocess', preprocess_te),\n",
    "                      ('regressor', Lin_Grid)])\n",
    "model_lin.fit(train_1880, census_1880_model_train_y)\n",
    "print(\"Training Score:\", model_lin.score(train_1880, census_1880_model_train_y))"
   ]
  },
  {
   "cell_type": "code",
   "execution_count": 72,
   "metadata": {},
   "outputs": [
    {
     "name": "stdout",
     "output_type": "stream",
     "text": [
      "1880 Test Score: -0.730684642803636\n",
      "1850 Test Score: -0.07568276791188389\n"
     ]
    }
   ],
   "source": [
    "test_1880 = get_enumorder_groupby(census_1880_model_test_X.loc[:,target_encode])\n",
    "test_1850 = get_enumorder_groupby(census_filled_1850_X.loc[:,target_encode])\n",
    "print(\"1880 Test Score:\", model_lin.score(test_1880, census_1880_model_test_y))\n",
    "print(\"1850 Test Score:\", model_lin.score(test_1850, census_filled_1850_y))"
   ]
  },
  {
   "cell_type": "code",
   "execution_count": 73,
   "metadata": {},
   "outputs": [
    {
     "data": {
      "image/png": "[encoded data removed]",
      "text/plain": [
       "<Figure size 1440x720 with 1 Axes>"
      ]
     },
     "metadata": {
      "needs_background": "light"
     },
     "output_type": "display_data"
    }
   ],
   "source": [
    "fig, ax = plt.subplots(1, figsize=(20,10))\n",
    "ax.barh(te.get_feature_names() + [\"street_order\"], model_lin.named_steps[\"regressor\"].best_estimator_.coef_)\n",
    "ax.set_title(\"Regression Model with Enumeration Order\")\n",
    "ax.set_xlabel(\"Coefficients\")\n",
    "ax.set_ylabel(\"Features\")\n",
    "plt.show()"
   ]
  },
  {
   "cell_type": "code",
   "execution_count": 74,
   "metadata": {},
   "outputs": [
    {
     "data": {
      "text/plain": [
       "array([0.8193742 , 0.48210214, 0.02998694])"
      ]
     },
     "execution_count": 74,
     "metadata": {},
     "output_type": "execute_result"
    }
   ],
   "source": [
    "model_lin.named_steps[\"regressor\"].best_estimator_.coef_"
   ]
  },
  {
   "cell_type": "code",
   "execution_count": 78,
   "metadata": {},
   "outputs": [
    {
     "name": "stdout",
     "output_type": "stream",
     "text": [
      "Training Score: 0.6697534990447203\n",
      "1880 Test Score: -0.730684642803636\n",
      "1850 Test Score: -0.07568276791188389\n"
     ]
    }
   ],
   "source": [
    "#Let's try targeting encoding the enum order too\n",
    "model_lin_teall = Pipeline([('preprocess', TargetEncoder()),\n",
    "                            ('regressor', Lin_Grid)])\n",
    "model_lin_teall.fit(train_1880, census_1880_model_train_y)\n",
    "print(\"Training Score:\", model_lin_teall.score(train_1880, census_1880_model_train_y))\n",
    "print(\"1880 Test Score:\", model_lin_teall.score(test_1880, census_1880_model_test_y))\n",
    "print(\"1850 Test Score:\", model_lin_teall.score(test_1850, census_filled_1850_y))"
   ]
  },
  {
   "cell_type": "code",
   "execution_count": 76,
   "metadata": {},
   "outputs": [
    {
     "data": {
      "image/png": "[encoded data removed]",
      "text/plain": [
       "<Figure size 1440x720 with 1 Axes>"
      ]
     },
     "metadata": {
      "needs_background": "light"
     },
     "output_type": "display_data"
    }
   ],
   "source": [
    "fig, ax = plt.subplots(1, figsize=(20,10))\n",
    "ax.barh(model_lin_teall.named_steps['preprocess'].get_feature_names(), model_lin_teall.named_steps[\"regressor\"].best_estimator_.coef_)\n",
    "ax.set_title(\"Regression Model with Enumeration Order\")\n",
    "ax.set_xlabel(\"Coefficients\")\n",
    "ax.set_ylabel(\"Features\")\n",
    "plt.show()"
   ]
  },
  {
   "cell_type": "code",
   "execution_count": 80,
   "metadata": {},
   "outputs": [],
   "source": [
    "#Including the enumeration order means it's really not generalizing well, for thoroughness\n",
    "#I'll test adding in some of the 1850 data\n",
    "train_1850_order_X, test_1850_order_X, train_1850_order_y, test_1850_order_y = train_test_split(test_1850, census_filled_1850_y)\n",
    "train_1850_1880_order_X = pd.concat([train_1880, train_1850_order_X])\n",
    "train_1850_1880_order_y = pd.concat([census_1880_model_train_y, train_1850_order_y])"
   ]
  },
  {
   "cell_type": "code",
   "execution_count": 81,
   "metadata": {},
   "outputs": [
    {
     "name": "stdout",
     "output_type": "stream",
     "text": [
      "Training Score: 0.6686345957118405\n",
      "1880 Test Score: -0.7054897258809816\n",
      "1850 Test Score: -0.17230017306580958\n"
     ]
    }
   ],
   "source": [
    "model_lin_8050 = Pipeline([('preprocess', TargetEncoder()),\n",
    "                            ('regressor', Lin_Grid)])\n",
    "model_lin_8050.fit(train_1850_1880_order_X, train_1850_1880_order_y)\n",
    "print(\"Training Score:\", model_lin_8050.score(train_1880, census_1880_model_train_y))\n",
    "print(\"1880 Test Score:\", model_lin.score(test_1880, census_1880_model_test_y))\n",
    "print(\"1850 Test Score:\", model_lin.score(test_1850_order_X, test_1850_order_y))"
   ]
  },
  {
   "cell_type": "markdown",
   "metadata": {},
   "source": [
    "So this clearly didn't work well, I think it's a good indication that it would be worth exploring other ways of expressing enumeration order. Perhaps block number would work well? "
   ]
  },
  {
   "cell_type": "code",
   "execution_count": null,
   "metadata": {},
   "outputs": [],
   "source": []
  }
 ],
 "metadata": {
  "kernelspec": {
   "display_name": "Python 3",
   "language": "python",
   "name": "python3"
  },
  "language_info": {
   "codemirror_mode": {
    "name": "ipython",
    "version": 3
   },
   "file_extension": ".py",
   "mimetype": "text/x-python",
   "name": "python",
   "nbconvert_exporter": "python",
   "pygments_lexer": "ipython3",
   "version": "3.7.5"
  }
 },
 "nbformat": 4,
 "nbformat_minor": 4
}
