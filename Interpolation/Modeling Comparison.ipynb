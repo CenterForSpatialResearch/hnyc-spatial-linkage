{
 "cells": [
  {
   "cell_type": "code",
   "execution_count": 1,
   "metadata": {},
   "outputs": [],
   "source": [
    "import os\n",
    "import sys\n",
    "module_path = os.path.abspath(os.path.join('..'))\n",
    "if module_path not in sys.path:\n",
    "    sys.path.append(module_path)\n",
    "%load_ext autoreload\n",
    "%autoreload 2\n",
    "import pandas as pd\n",
    "import numpy as np\n",
    "import matplotlib.pyplot as plt\n",
    "from haversine import haversine, Unit\n",
    "from sklearn.pipeline import Pipeline\n",
    "from sklearn.model_selection import train_test_split\n",
    "from category_encoders.target_encoder import TargetEncoder\n",
    "import interpolation\n",
    "from xgboost import XGBRegressor\n",
    "from sklearn.linear_model import LinearRegression"
   ]
  },
  {
   "cell_type": "code",
   "execution_count": 2,
   "metadata": {},
   "outputs": [
    {
     "name": "stderr",
     "output_type": "stream",
     "text": [
      "/Users/tabithasugumar/anaconda3/lib/python3.7/site-packages/IPython/core/interactiveshell.py:3063: DtypeWarning: Columns (22) have mixed types. Specify dtype option on import or set low_memory=False.\n",
      "  interactivity=interactivity, compiler=compiler, result=result)\n"
     ]
    }
   ],
   "source": [
    "# I plan to move this into a file\n",
    "filled_1850 = pd.read_csv(\"../data/dwelling_filled_sum_1850_mn.csv\")\n",
    "census_1880 = pd.read_csv(\"../data/census_1880_mn_blocks.csv\")"
   ]
  },
  {
   "cell_type": "code",
   "execution_count": 3,
   "metadata": {},
   "outputs": [],
   "source": [
    "census_1880.dropna(subset = [\"block_num\"], inplace = True)\n",
    "census_1880.reset_index(inplace = True)\n",
    "filled_1850.dropna(subset = [\"CENSUS_DWELLING_NUM\"], inplace = True)\n",
    "filled_1850.rename(columns = {\"CENSUS_WARD_NUM\":\"WARD_NUM\", \"CENSUS_SERIALP\":\"CENSUS_SERIALB\", \"BLOCK_NUM\":\"block_num\"}, inplace = True)"
   ]
  },
  {
   "cell_type": "code",
   "execution_count": 4,
   "metadata": {},
   "outputs": [
    {
     "name": "stderr",
     "output_type": "stream",
     "text": [
      "/Users/tabithasugumar/anaconda3/lib/python3.7/site-packages/pandas/core/indexing.py:1418: FutureWarning: \n",
      "Passing list-likes to .loc or [] with any missing label will raise\n",
      "KeyError in the future, you can use .reindex() as an alternative.\n",
      "\n",
      "See the documentation here:\n",
      "https://pandas.pydata.org/pandas-docs/stable/user_guide/indexing.html#deprecate-loc-reindex-listlike\n",
      "  return self._getitem_tuple(key)\n"
     ]
    }
   ],
   "source": [
    "dwellings_1850, dwellings_1880, census_1850_model, census_1880_model = interpolation.sequence_datasets(filled_1850, census_1880)"
   ]
  },
  {
   "cell_type": "code",
   "execution_count": 5,
   "metadata": {},
   "outputs": [],
   "source": [
    "# dwellings_1850 = filled_1850.groupby([\"WARD_NUM\", \"CENSUS_DWELLING_NUM\"], as_index = False).first()\n",
    "# dwellings_1880 = census_1880.drop_duplicates(subset = [\"CENSUS_ADDRESS\"]).copy()"
   ]
  },
  {
   "cell_type": "code",
   "execution_count": 6,
   "metadata": {},
   "outputs": [],
   "source": [
    "# interpolation.col_for_seq(dwellings_1850, \"CD_X\", \"CD_Y\", Address = None, Ward = None)\n",
    "# interpolation.col_for_seq(dwellings_1880, \"POINT_X\", \"POINT_Y\", Address = None, Ward = None)\n",
    "# dwellings_1850 = interpolation.get_dist_seq(dwellings_1850, 0.15)[2]\n",
    "# dwellings_1880 = interpolation.get_dist_seq(dwellings_1880, 0.15)[2]\n",
    "# dwellings_1850.groupby(\"sequence_id\").apply(interpolation.sequence_order)\n",
    "# dwellings_1880.groupby(\"sequence_id\").apply(interpolation.sequence_order)\n",
    "# census_1880_model = interpolation.dwellings_to_all(census_1880, dwellings_1880, [\"CENSUS_MATCH_ADDR\", \"sequence_id\", \"sequence_order\"], [\"CENSUS_MATCH_ADDR\"])\n",
    "# census_1850_model = interpolation.dwellings_to_all(filled_1850, dwellings_1850, [\"WARD_NUM\", \"CENSUS_DWELLING_NUM\",\"sequence_id\", \"sequence_order\"], [\"WARD_NUM\", \"CENSUS_DWELLING_NUM\"])\n",
    "# interpolation.create_street_house(census_1880_model, \"CENSUS_ADDRESS\")\n",
    "# interpolation.create_street_house(census_1850_model, \"CD_ADDRESS\")"
   ]
  },
  {
   "cell_type": "code",
   "execution_count": 7,
   "metadata": {},
   "outputs": [],
   "source": [
    "cols = [\"street_name\", \"sequence_id\", \"sequence_order\", \"WARD_NUM\", \"CENSUS_SERIALB\", \"block_num\"]\n",
    "train_X, train_y, test_1880_X, test_1880_y, test_1850_X, test_1850_y = interpolation.create_train_test_data(census_1880_model, census_1850_model, cols)"
   ]
  },
  {
   "cell_type": "code",
   "execution_count": 8,
   "metadata": {},
   "outputs": [],
   "source": [
    "X_train_te = TargetEncoder(cols = cols).fit_transform(train_X, train_y)\n",
    "test_1880_X_te = TargetEncoder(cols = cols).fit_transform(test_1880_X, test_1880_y)\n",
    "test_1850_X_te = TargetEncoder(cols = cols).fit_transform(test_1850_X, test_1850_y)"
   ]
  },
  {
   "cell_type": "code",
   "execution_count": 9,
   "metadata": {},
   "outputs": [
    {
     "name": "stdout",
     "output_type": "stream",
     "text": [
      "Training Score: 0.9934638797342671\n",
      "1880 Test Score: 0.9167232279683597\n",
      "1850 Test Score: 0.7767870024510886\n"
     ]
    }
   ],
   "source": [
    "xgb = XGBRegressor(objective ='reg:squarederror', learning_rate = 0.1,\n",
    "                max_depth = 3, n_estimators = 1000, colsample_bytree = 0.5, alpha = 1)\n",
    "xgb.fit(X_train_te, train_y)\n",
    "print(\"Training Score:\", xgb.score(X_train_te, train_y))\n",
    "print(\"1880 Test Score:\", xgb.score(test_1880_X_te, test_1880_y))\n",
    "print(\"1850 Test Score:\", xgb.score(test_1850_X_te, test_1850_y))"
   ]
  },
  {
   "cell_type": "code",
   "execution_count": 16,
   "metadata": {},
   "outputs": [],
   "source": [
    "# Let's try with just training with just 1850 data\n",
    "te = TargetEncoder(cols = cols)\n",
    "train_X_1850, test_X_1850, train_y_1850, test_y_1850 = train_test_split(census_1850_model.dropna(subset = [\"house_number\"]).loc[:,cols], census_1850_model.dropna(subset = [\"house_number\"]).loc[:,\"house_number\"])\n",
    "train_X_1850_te = te.fit_transform(train_X_1850, train_y_1850)\n",
    "test_X_1850_te = te.fit_transform(test_X_1850, test_y_1850)"
   ]
  },
  {
   "cell_type": "code",
   "execution_count": 11,
   "metadata": {},
   "outputs": [
    {
     "name": "stdout",
     "output_type": "stream",
     "text": [
      "Training Score: 0.9908071048984792\n",
      "1880 Test Score: 0.7545951231312094\n",
      "1850 Test Score: 0.9141915992677216\n"
     ]
    }
   ],
   "source": [
    "xgb = XGBRegressor(objective ='reg:squarederror', learning_rate = 0.1,\n",
    "                max_depth = 3, n_estimators = 800, colsample_bytree = 0.6, alpha = 1.5)\n",
    "xgb.fit(train_X_1850_te, train_y_1850)\n",
    "print(\"Training Score:\", xgb.score(train_X_1850_te, train_y_1850))\n",
    "print(\"1880 Test Score:\", xgb.score(test_1880_X_te, test_1880_y))\n",
    "print(\"1850 Test Score:\", xgb.score(test_X_1850_te, test_y_1850))"
   ]
  },
  {
   "cell_type": "code",
   "execution_count": 12,
   "metadata": {},
   "outputs": [
    {
     "name": "stdout",
     "output_type": "stream",
     "text": [
      "Training Score: 0.9538443991579817\n",
      "1880 Test Score: 0.742573406386158\n",
      "1850 Test Score: 0.7939691573575683\n"
     ]
    }
   ],
   "source": [
    "#Let's try training the linear model with just the 1850 data\n",
    "lin_mod = LinearRegression()\n",
    "lin_mod.fit(train_X_1850_te, train_y_1850)\n",
    "print(\"Training Score:\", lin_mod.score(train_X_1850_te, train_y_1850))\n",
    "print(\"1880 Test Score:\", lin_mod.score(test_1880_X_te, test_1880_y))\n",
    "print(\"1850 Test Score:\", lin_mod.score(test_X_1850_te, test_y_1850))"
   ]
  },
  {
   "cell_type": "code",
   "execution_count": 19,
   "metadata": {},
   "outputs": [
    {
     "data": {
      "image/png": "[encoded data removed]",
      "text/plain": [
       "<Figure size 1440x720 with 1 Axes>"
      ]
     },
     "metadata": {
      "needs_background": "light"
     },
     "output_type": "display_data"
    }
   ],
   "source": [
    "interpolation.graph_coefs(te.get_feature_names(), lin_mod.coef_, \"Feature Importances Regression Trained on 1850\")"
   ]
  },
  {
   "cell_type": "code",
   "execution_count": 13,
   "metadata": {},
   "outputs": [
    {
     "name": "stdout",
     "output_type": "stream",
     "text": [
      "Training Score: 0.9667183155535946\n",
      "1880 Test Score: 0.7611310380318221\n",
      "1850 Test Score: 0.7530790196012122\n"
     ]
    }
   ],
   "source": [
    "lin_mod_all = LinearRegression()\n",
    "lin_mod_all.fit(X_train_te, train_y)\n",
    "print(\"Training Score:\", lin_mod_all.score(X_train_te, train_y))\n",
    "print(\"1880 Test Score:\", lin_mod_all.score(test_1880_X_te, test_1880_y))\n",
    "print(\"1850 Test Score:\", lin_mod_all.score(test_1850_X_te, test_1850_y))"
   ]
  },
  {
   "cell_type": "code",
   "execution_count": 14,
   "metadata": {},
   "outputs": [],
   "source": [
    "### Let's try to get a sense of how well this is working\n",
    "#First we need to create a set of addresses where we are reasonably sure we know the street names for"
   ]
  },
  {
   "cell_type": "code",
   "execution_count": 15,
   "metadata": {},
   "outputs": [],
   "source": [
    "def comp_streets(x):\n",
    "    if x[\"STREET_NAME\"] == x[\"STREET_NAME_NEXT\"]:\n",
    "        return x[\"index_next\"] - x[\"CENSUS_INDEX\"]\n",
    "    else:\n",
    "        return None\n",
    "def comp_streets_df(df):\n",
    "    df[\"STREET_NAME_NEXT\"] = df[\"STREET_NAME\"].shift(-1)\n",
    "    df[\"index_next\"] = df[\"CENSUS_INDEX\"].shift(-1)\n",
    "    df[\"index_diff\"] = df.apply(comp_streets, axis = 1)\n",
    "    return df"
   ]
  },
  {
   "cell_type": "code",
   "execution_count": 21,
   "metadata": {},
   "outputs": [
    {
     "name": "stdout",
     "output_type": "stream",
     "text": [
      "<class 'pandas.core.frame.DataFrame'>\n",
      "Int64Index: 19825 entries, 0 to 19824\n",
      "Data columns (total 42 columns):\n",
      "WARD_NUM                   19825 non-null int64\n",
      "CENSUS_DWELLING_NUM        19825 non-null float64\n",
      "block_num                  7524 non-null float64\n",
      "CD_ADDRESS                 7524 non-null object\n",
      "CD_X                       7524 non-null float64\n",
      "CD_Y                       7524 non-null float64\n",
      "CENSUS_AGE                 19825 non-null int64\n",
      "CENSUS_CITY                19825 non-null int64\n",
      "CENSUS_DWELLING_SEQ        19812 non-null float64\n",
      "CENSUS_DWELLING_SIZE       19825 non-null int64\n",
      "CENSUS_GEOG                19817 non-null object\n",
      "CENSUS_HH_NUM              19825 non-null int64\n",
      "CENSUS_ID                  7524 non-null object\n",
      "CENSUS_IMPREL              19825 non-null int64\n",
      "CENSUS_INDEX               19825 non-null int64\n",
      "CENSUS_IPUMS_UID           19825 non-null object\n",
      "CENSUS_LABFORCE            19825 non-null int64\n",
      "CENSUS_LINE                19825 non-null int64\n",
      "CENSUS_MARST               19825 non-null int64\n",
      "CENSUS_NAMEFRST            19825 non-null object\n",
      "CENSUS_NAMELAST            19825 non-null object\n",
      "CENSUS_OCCSTR              19607 non-null object\n",
      "CENSUS_PAGENO_HOUSEHOLD    19825 non-null int64\n",
      "CENSUS_PLACE               19825 non-null object\n",
      "CENSUS_RACE                19825 non-null int64\n",
      "CENSUS_REEL_HOUSEHOLD      19825 non-null int64\n",
      "CENSUS_SEQ_NUM             19825 non-null int64\n",
      "CENSUS_SERIALB             19825 non-null int64\n",
      "CENSUS_SEX                 19825 non-null int64\n",
      "selected                   7524 non-null float64\n",
      "spatial_weight             7524 non-null float64\n",
      "spatial_weight_sum         7524 non-null float64\n",
      "dwelling_num_listed        19825 non-null int64\n",
      "next_dnl                   19824 non-null float64\n",
      "next_x                     7523 non-null float64\n",
      "next_y                     7523 non-null float64\n",
      "dist                       4107 non-null float64\n",
      "num_between                19824 non-null float64\n",
      "sequence_id                18052 non-null float64\n",
      "sequence_len               18052 non-null float64\n",
      "house_number               7444 non-null float64\n",
      "street_name                7513 non-null object\n",
      "dtypes: float64(16), int64(17), object(9)\n",
      "memory usage: 6.5+ MB\n"
     ]
    }
   ],
   "source": [
    "dwellings_1850.info()"
   ]
  },
  {
   "cell_type": "code",
   "execution_count": null,
   "metadata": {},
   "outputs": [],
   "source": []
  }
 ],
 "metadata": {
  "kernelspec": {
   "display_name": "Python 3",
   "language": "python",
   "name": "python3"
  },
  "language_info": {
   "codemirror_mode": {
    "name": "ipython",
    "version": 3
   },
   "file_extension": ".py",
   "mimetype": "text/x-python",
   "name": "python",
   "nbconvert_exporter": "python",
   "pygments_lexer": "ipython3",
   "version": "3.7.5"
  }
 },
 "nbformat": 4,
 "nbformat_minor": 4
}
