{
 "cells": [
  {
   "cell_type": "markdown",
   "metadata": {},
   "source": [
    "# Model Training\n",
    "\n",
    "This notebook contains steps to create a classification model (kmeans=5, sim_label=20, target encoded sequences, one hot encoded similarity label)"
   ]
  },
  {
   "cell_type": "code",
   "execution_count": 1,
   "metadata": {},
   "outputs": [],
   "source": [
    "import os\n",
    "import sys\n",
    "module_path = os.path.abspath(os.path.join('../..'))\n",
    "if module_path not in sys.path:\n",
    "    sys.path.append(module_path)\n",
    "%load_ext autoreload\n",
    "%autoreload 2\n",
    "import pandas as pd\n",
    "import numpy as np\n",
    "from interpolation import CensusData, sequences, BlockInterpolator, CentroidInterpolator, archive, interpolation\n",
    "from sklearn.pipeline import Pipeline\n",
    "from category_encoders.target_encoder import TargetEncoder\n",
    "from xgboost import XGBClassifier\n",
    "from sklearn.cluster import KMeans, AgglomerativeClustering, DBSCAN\n",
    "from sklearn.preprocessing import OrdinalEncoder\n",
    "from sklearn.compose import make_column_transformer\n",
    "from sklearn.ensemble import RandomForestClassifier\n",
    "import matplotlib.pyplot as plt\n",
    "\n",
    "from kmodes.kmodes import KModes\n",
    "from sklearn.compose import ColumnTransformer\n",
    "from sklearn.preprocessing import OneHotEncoder\n"
   ]
  },
  {
   "cell_type": "markdown",
   "metadata": {},
   "source": [
    "## read in data"
   ]
  },
  {
   "cell_type": "code",
   "execution_count": 2,
   "metadata": {},
   "outputs": [],
   "source": [
    "#Change these values to rerun the notebook\n",
    "filled_1850 = pd.read_csv(\"../../data/dwelling_filled_sum_1850_mn_v01.csv\")\n",
    "cd_1850 = pd.read_csv(\"../../data/cd_1850_XYupdate.csv\") #For calculating centroids\n",
    "filled_1850.rename(columns = {\"CENSUS_WARD_NUM\":\"Ward_Num\", \"CENSUS_SERIALP\":\"CENSUS_SERIALB\", \"BLOCK_NUM\":\"block_num\", \"CENSUS_REEL_HOUSEHOLD\":\"CENSUS_REEL\", \"CENSUS_SEX\":\"CENSUS_SEXB\", \"CENSUS_PAGENO_HOUSEHOLD\":\"CENSUS_PAGENUM\", \"CENSUS_RACE\":\"CENSUS_RACEB\", \"CD_X\":\"cd_X\", \"CD_Y\":\"cd_Y\"}, inplace = True)\n",
    "ward_col = \"Ward_Num\"\n",
    "dwelling_col = \"dwelling_id\"\n",
    "dwelling_col_num = \"CENSUS_DWELLING_NUM\"\n",
    "block_col = \"block_num\"\n",
    "x_col = \"cd_X\"\n",
    "y_col = \"cd_Y\"\n",
    "pagenum = \"CENSUS_PAGENNO\""
   ]
  },
  {
   "cell_type": "code",
   "execution_count": 3,
   "metadata": {},
   "outputs": [
    {
     "name": "stdout",
     "output_type": "stream",
     "text": [
      "(515630, 32)\n",
      "(166500, 32)\n",
      "(349130, 32)\n"
     ]
    }
   ],
   "source": [
    "print(filled_1850.shape)\n",
    "print(filled_1850.loc[~filled_1850['block_num'].isnull()].shape)\n",
    "print(filled_1850.loc[filled_1850['block_num'].isnull()].shape)"
   ]
  },
  {
   "cell_type": "code",
   "execution_count": 4,
   "metadata": {},
   "outputs": [],
   "source": [
    "#set clustering algo -- this is to make sure that the same clustering algorithm is used\n",
    "#for each model, to ensure that testing is accurate\n",
    "#note fitting before hand won't work for all types of clustering, for example, with agglomerative\n",
    "#clustering this isn't going to work because the algorithm doesn't have a predict method\n",
    "block_centroids = {ward:{block:interpolation.make_centroid(df_block[x_col], df_block[y_col]) for block, df_block in df.groupby(block_col)} for ward,df in cd_1850.groupby(ward_col)}"
   ]
  },
  {
   "cell_type": "code",
   "execution_count": 5,
   "metadata": {},
   "outputs": [],
   "source": [
    "enumerators = pd.read_csv(\"../../data/census_1850_enumerationDetail_mn_ward10.csv\")"
   ]
  },
  {
   "cell_type": "code",
   "execution_count": 6,
   "metadata": {},
   "outputs": [],
   "source": [
    "ward10 = filled_1850[filled_1850[ward_col] == 10]\n",
    "ward10_enumerators = ward10.merge(enumerators,  how = \"left\", left_on= \"CENSUS_PAGENUM\", right_on = \"CENSUS_PAGENO_HOUSEHOLD\")"
   ]
  },
  {
   "cell_type": "markdown",
   "metadata": {},
   "source": [
    "## create sequences"
   ]
  },
  {
   "cell_type": "code",
   "execution_count": 8,
   "metadata": {},
   "outputs": [
    {
     "name": "stdout",
     "output_type": "stream",
     "text": [
      "d:  0.05\n",
      "d:  0.05\n",
      "d:  0.05\n",
      "d:  0.05\n",
      "d:  0.05\n",
      "d:  0.05\n",
      "d:  0.05\n",
      "d:  0.05\n",
      "d:  0.05\n",
      "d:  0.05\n",
      "d:  0.05\n",
      "d:  0.05\n",
      "d:  0.05\n",
      "d:  0.05\n",
      "d:  0.05\n",
      "d:  0.05\n",
      "d:  0.05\n",
      "d:  0.05\n",
      "d:  0.05\n",
      "d:  0.05\n",
      "d:  0.05\n",
      "d:  0.05\n",
      "d:  0.05\n",
      "d:  0.05\n",
      "d:  0.05\n",
      "d:  0.05\n",
      "d:  0.05\n",
      "d:  0.05\n",
      "d:  0.05\n",
      "d:  0.05\n",
      "d:  0.05\n",
      "d:  0.05\n",
      "d:  0.05\n",
      "d:  0.05\n",
      "d:  0.05\n",
      "d:  0.05\n",
      "d:  0.05\n",
      "d:  0.05\n",
      "d:  0.05\n",
      "d:  0.05\n",
      "d:  0.05\n",
      "d:  0.05\n",
      "d:  0.05\n",
      "d:  0.05\n",
      "d:  0.05\n",
      "d:  0.05\n",
      "d:  0.05\n",
      "d:  0.05\n",
      "d:  0.05\n",
      "d:  0.05\n",
      "d:  0.05\n",
      "d:  0.05\n"
     ]
    }
   ],
   "source": [
    "census_enum_seq = CensusData(ward10_enumerators, ward_col=ward_col, dwelling_col=dwelling_col, \n",
    "                             block_col =  block_col, x_col = x_col, y_col = y_col, pagenum = pagenum)\n",
    "census_enum_seq.apply_sequencing(d=0.05,after=True, enumerator_dist = True, dwelling = True, fixed = True, distance = True)"
   ]
  },
  {
   "cell_type": "markdown",
   "metadata": {},
   "source": [
    "## create similarity labels"
   ]
  },
  {
   "cell_type": "code",
   "execution_count": 9,
   "metadata": {},
   "outputs": [
    {
     "name": "stdout",
     "output_type": "stream",
     "text": [
      "Init: initializing centroids\n",
      "Init: initializing clusters\n",
      "Starting iterations...\n",
      "Run 1, iteration: 1/100, moves: 0, cost: 1995.0\n"
     ]
    }
   ],
   "source": [
    "similar_cols = [\"sequence_id\", \"dwelling_seq_id\", \"fixed_seq\", \"enum_dist_id\"]\n",
    "census_enum_seq.apply_similarity(sim_columns=similar_cols)"
   ]
  },
  {
   "cell_type": "markdown",
   "metadata": {},
   "source": [
    "## preprocessing"
   ]
  },
  {
   "cell_type": "code",
   "execution_count": 10,
   "metadata": {},
   "outputs": [],
   "source": [
    "all_cols = [\"CENSUS_SERIALB\", \"CENSUS_AGE\", \"CENSUS_PAGENUM\", \"CENSUS_SEXB\", \"CENSUS_RACEB\", \n",
    "            \"sequence_id\", \"CENSUS_DWELLING_SIZE\",\"CENSUS_SEQ_NUM\", \"CENSUS_LABFORCE\", \"CENSUS_LINE\", \n",
    "            \"CENSUS_MARST\", \"CENSUS_NAMEFRST\", \"CENSUS_NAMELAST\", \"CENSUS_OCCSTR\", \"CENSUS_IMPREL\",\n",
    "            \"sequence_order_enum\", 'CENSUS_DWELLING_SEQ', \"dwelling_seq_id\", \"fixed_seq\", \"enum_dist_id\", \n",
    "            \"enum_dist_order\"]\n",
    "\n",
    "transformer = ColumnTransformer(transformers=[('target', TargetEncoder(), all_cols), \n",
    "                                              ('onehot', OneHotEncoder(handle_unknown='ignore'), ['similarity_label'])])\n",
    "# define pipeline\n",
    "pipeline = Pipeline(steps=[('preprocess', transformer), \n",
    "                           ('classifier',XGBClassifier(colsample_bytree = 0.6, max_depth = 2, \n",
    "                                                       n_estimators = 50))])"
   ]
  },
  {
   "cell_type": "code",
   "execution_count": 11,
   "metadata": {},
   "outputs": [
    {
     "name": "stdout",
     "output_type": "stream",
     "text": [
      "n is 5 and it's the 10th iteration\n",
      "n is 5 and it's the 20th iteration\n",
      "n is 5 and it's the 30th iteration\n",
      "n is 5 and it's the 40th iteration\n",
      "n is 5 and it's the 50th iteration\n"
     ]
    },
    {
     "data": {
      "image/png": "[encoded data removed]",
      "text/plain": [
       "<Figure size 576x576 with 1 Axes>"
      ]
     },
     "metadata": {
      "needs_background": "light"
     },
     "output_type": "display_data"
    }
   ],
   "source": [
    "interpolate_sequences = CentroidInterpolator(census_enum_seq, 10, pipeline, all_cols + ['similarity_label'],\n",
    "                                             KMeans(5), block_centroids)\n",
    "score, model = interpolate_sequences.kmeans_best(5)\n",
    "interpolate_sequences.set_clustering_algo(model)\n",
    "interpolate_sequences.apply_clustering(algo_fit = True)\n",
    "interpolate_sequences.clustervis(kmeans = True)"
   ]
  },
  {
   "cell_type": "code",
   "execution_count": 12,
   "metadata": {},
   "outputs": [
    {
     "name": "stdout",
     "output_type": "stream",
     "text": [
      "avg Training score: 0.9132250835549997\n",
      "Test score: [0.48711755233494364, 0.46153846153846156, 0.5109983079526227, 0.5263653483992468, 0.560702875399361, 0.5, 0.5500863557858376, 0.5278491859468724, 0.5546492659053833, 0.5157894736842106]\n",
      "avg Test score: 0.519509682694694\n"
     ]
    }
   ],
   "source": [
    "interpolate_sequences.cross_validate_model(k=10)\n",
    "print(\"avg Training score:\", np.array(interpolate_sequences.train_score).mean())\n",
    "print('Test score:', interpolate_sequences.test_score)\n",
    "print(\"avg Test score:\", np.array(interpolate_sequences.test_score).mean())"
   ]
  },
  {
   "cell_type": "markdown",
   "metadata": {},
   "source": [
    "## Train and test the model"
   ]
  },
  {
   "cell_type": "code",
   "execution_count": 13,
   "metadata": {},
   "outputs": [],
   "source": [
    "train,test = interpolate_sequences.stratified_train_test()\n",
    "interpolate_sequences.train_test_model(train, test)"
   ]
  },
  {
   "cell_type": "code",
   "execution_count": 14,
   "metadata": {},
   "outputs": [
    {
     "name": "stdout",
     "output_type": "stream",
     "text": [
      "Training score: 0.9231104334567632\n",
      "Test score: 0.48711755233494364\n"
     ]
    }
   ],
   "source": [
    "print(\"Training score:\",interpolate_sequences.train_score)\n",
    "print(\"Test score:\", interpolate_sequences.test_score)"
   ]
  },
  {
   "cell_type": "code",
   "execution_count": 15,
   "metadata": {},
   "outputs": [],
   "source": [
    "test['pred_cluster'] = interpolate_sequences.model.predict(test)"
   ]
  },
  {
   "cell_type": "code",
   "execution_count": 16,
   "metadata": {},
   "outputs": [],
   "source": [
    "# test.drop(columns=['level_0', 'index', 'sequence_id', 'num_between', 'sequence_order_enum', 'dist',\n",
    "#        'sequence_len', 'fixed_seq', 'dwelling_seq_id', 'enum_dist_id',\n",
    "#        'enum_dist_order', 'enum_dist', 'enum_sequence_len', 'similarity_label' ]).to_csv('../../classification_result_ward_10.csv', index=False)"
   ]
  },
  {
   "cell_type": "code",
   "execution_count": null,
   "metadata": {},
   "outputs": [],
   "source": []
  }
 ],
 "metadata": {
  "kernelspec": {
   "display_name": "Python 3",
   "language": "python",
   "name": "python3"
  },
  "language_info": {
   "codemirror_mode": {
    "name": "ipython",
    "version": 3
   },
   "file_extension": ".py",
   "mimetype": "text/x-python",
   "name": "python",
   "nbconvert_exporter": "python",
   "pygments_lexer": "ipython3",
   "version": "3.7.3"
  }
 },
 "nbformat": 4,
 "nbformat_minor": 2
}
