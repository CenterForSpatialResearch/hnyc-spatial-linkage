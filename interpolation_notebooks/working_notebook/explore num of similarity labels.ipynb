{
 "cells": [
  {
   "cell_type": "markdown",
   "metadata": {},
   "source": [
    "This notebook tries different numbers of similarity clusters (`np.arange(5, 23, 2).tolist()`). The best so far is 21 although 15 is not significantly worse.\n",
    "\n",
    "Second try on `k_list = np.arange(21, 51, 2).tolist()`.\n",
    "* k = 21 >>> 0.620\n",
    "* k = 25 >>> 0.635  [**Best**]"
   ]
  },
  {
   "cell_type": "markdown",
   "metadata": {},
   "source": [
    "## Try out various values of k (#sim label)"
   ]
  },
  {
   "cell_type": "code",
   "execution_count": 1,
   "metadata": {},
   "outputs": [],
   "source": [
    "import os\n",
    "import sys\n",
    "module_path = os.path.abspath(os.path.join('../..'))\n",
    "if module_path not in sys.path:\n",
    "    sys.path.append(module_path)\n",
    "%load_ext autoreload\n",
    "%autoreload 2\n",
    "import pandas as pd\n",
    "import numpy as np\n",
    "from interpolation import CensusData, sequences, BlockInterpolator, CentroidInterpolator, archive, interpolation\n",
    "from sklearn.pipeline import Pipeline\n",
    "from category_encoders.target_encoder import TargetEncoder\n",
    "from xgboost import XGBClassifier\n",
    "from sklearn.cluster import KMeans, AgglomerativeClustering, DBSCAN\n",
    "from sklearn.preprocessing import OrdinalEncoder\n",
    "from sklearn.compose import make_column_transformer\n",
    "from sklearn.ensemble import RandomForestClassifier\n",
    "import matplotlib.pyplot as plt\n",
    "\n",
    "from kmodes.kmodes import KModes\n",
    "from sklearn.compose import ColumnTransformer\n",
    "from sklearn.preprocessing import OneHotEncoder\n"
   ]
  },
  {
   "cell_type": "code",
   "execution_count": 2,
   "metadata": {},
   "outputs": [],
   "source": [
    "#Change these values to rerun the notebook\n",
    "filled_1850 = pd.read_csv(\"../../data/dwelling_filled_sum_1850_mn_v01.csv\")\n",
    "cd_1850 = pd.read_csv(\"../../data/cd_1850_XYupdate.csv\") #For calculating centroids\n",
    "filled_1850.rename(columns = {\"CENSUS_WARD_NUM\":\"Ward_Num\", \"CENSUS_SERIALP\":\"CENSUS_SERIALB\", \"BLOCK_NUM\":\"block_num\", \"CENSUS_REEL_HOUSEHOLD\":\"CENSUS_REEL\", \"CENSUS_SEX\":\"CENSUS_SEXB\", \"CENSUS_PAGENO_HOUSEHOLD\":\"CENSUS_PAGENUM\", \"CENSUS_RACE\":\"CENSUS_RACEB\", \"CD_X\":\"cd_X\", \"CD_Y\":\"cd_Y\"}, inplace = True)\n",
    "ward_col = \"Ward_Num\"\n",
    "dwelling_col = \"dwelling_id\"\n",
    "dwelling_col_num = \"CENSUS_DWELLING_NUM\"\n",
    "block_col = \"block_num\"\n",
    "x_col = \"cd_X\"\n",
    "y_col = \"cd_Y\"\n",
    "pagenum = \"CENSUS_PAGENNO\""
   ]
  },
  {
   "cell_type": "code",
   "execution_count": 3,
   "metadata": {},
   "outputs": [
    {
     "name": "stdout",
     "output_type": "stream",
     "text": [
      "(515630, 32)\n",
      "(166500, 32)\n",
      "(349130, 32)\n"
     ]
    }
   ],
   "source": [
    "print(filled_1850.shape)\n",
    "print(filled_1850.loc[~filled_1850['block_num'].isnull()].shape)\n",
    "print(filled_1850.loc[filled_1850['block_num'].isnull()].shape)"
   ]
  },
  {
   "cell_type": "code",
   "execution_count": 4,
   "metadata": {},
   "outputs": [],
   "source": [
    "#set clustering algo -- this is to make sure that the same clustering algorithm is used\n",
    "#for each model, to ensure that testing is accurate\n",
    "#note fitting before hand won't work for all types of clustering, for example, with agglomerative\n",
    "#clustering this isn't going to work because the algorithm doesn't have a predict method\n",
    "block_centroids = {ward:{block:interpolation.make_centroid(df_block[x_col], df_block[y_col]) for block, df_block in df.groupby(block_col)} for ward,df in cd_1850.groupby(ward_col)}"
   ]
  },
  {
   "cell_type": "code",
   "execution_count": 5,
   "metadata": {},
   "outputs": [],
   "source": [
    "enumerators = pd.read_csv(\"../../data/census_1850_enumerationDetail_mn_ward10.csv\")"
   ]
  },
  {
   "cell_type": "code",
   "execution_count": 6,
   "metadata": {},
   "outputs": [],
   "source": [
    "ward10 = filled_1850[filled_1850[ward_col] == 10]\n",
    "ward10_enumerators = ward10.merge(enumerators,  how = \"left\", left_on= \"CENSUS_PAGENUM\", right_on = \"CENSUS_PAGENO_HOUSEHOLD\")"
   ]
  },
  {
   "cell_type": "code",
   "execution_count": 7,
   "metadata": {},
   "outputs": [],
   "source": [
    "census_enum_seq = CensusData(ward10_enumerators, ward_col=ward_col, dwelling_col=dwelling_col, \n",
    "                             block_col =  block_col, x_col = x_col, y_col = y_col, pagenum = pagenum)\n",
    "census_enum_seq.apply_sequencing(enumerator_dist = True, dwelling = True, fixed = True, distance = True)"
   ]
  },
  {
   "cell_type": "markdown",
   "metadata": {},
   "source": [
    "## For loop for K = k"
   ]
  },
  {
   "cell_type": "code",
   "execution_count": 8,
   "metadata": {},
   "outputs": [
    {
     "data": {
      "text/plain": [
       "[5, 7, 9, 11, 13, 15, 17, 19, 21]"
      ]
     },
     "execution_count": 8,
     "metadata": {},
     "output_type": "execute_result"
    }
   ],
   "source": [
    "import numpy as np\n",
    "k_list = np.arange(5, 23, 2).tolist()\n",
    "k_list"
   ]
  },
  {
   "cell_type": "code",
   "execution_count": 9,
   "metadata": {
    "scrolled": true
   },
   "outputs": [
    {
     "name": "stdout",
     "output_type": "stream",
     "text": [
      "Init: initializing centroids\n",
      "Init: initializing clusters\n",
      "Starting iterations...\n",
      "Run 1, iteration: 1/100, moves: 0, cost: 31868.0\n",
      "n is 5 and it's the 10th iteration\n",
      "n is 5 and it's the 20th iteration\n",
      "n is 5 and it's the 30th iteration\n",
      "n is 5 and it's the 40th iteration\n",
      "n is 5 and it's the 50th iteration\n",
      "n is 5 and it's the 60th iteration\n",
      "n is 5 and it's the 70th iteration\n",
      "n is 5 and it's the 80th iteration\n",
      "n is 5 and it's the 90th iteration\n",
      "n is 5 and it's the 100th iteration\n",
      "Cross Validation at k =  5\n",
      "avg Training score: 0.9808293811051515\n",
      "Test score: [0.6692047377326565, 0.6298076923076923, 0.5382653061224489, 0.6294416243654822, 0.6065306122448979, 0.5906779661016949, 0.5664395229982965, 0.680976430976431, 0.5736894164193868, 0.6689774696707106]\n",
      "avg Test score: 0.6154010778939697\n",
      "Init: initializing centroids\n",
      "Init: initializing clusters\n",
      "Starting iterations...\n",
      "Run 1, iteration: 1/100, moves: 0, cost: 30661.0\n",
      "n is 5 and it's the 10th iteration\n",
      "n is 5 and it's the 20th iteration\n",
      "n is 5 and it's the 30th iteration\n",
      "n is 5 and it's the 40th iteration\n",
      "n is 5 and it's the 50th iteration\n",
      "n is 5 and it's the 60th iteration\n",
      "n is 5 and it's the 70th iteration\n",
      "n is 5 and it's the 80th iteration\n",
      "n is 5 and it's the 90th iteration\n",
      "n is 5 and it's the 100th iteration\n",
      "Cross Validation at k =  7\n",
      "avg Training score: 0.9753408709844702\n",
      "Test score: [0.49478260869565216, 0.5466778805719091, 0.5907335907335908, 0.6602129719264279, 0.6475694444444444, 0.7435897435897436, 0.5691906005221932, 0.6063492063492063, 0.7016949152542373, 0.5900253592561285]\n",
      "avg Test score: 0.6150826321343534\n",
      "Init: initializing centroids\n",
      "Init: initializing clusters\n",
      "Starting iterations...\n",
      "Run 1, iteration: 1/100, moves: 0, cost: 29972.0\n",
      "n is 5 and it's the 10th iteration\n",
      "n is 5 and it's the 20th iteration\n",
      "n is 5 and it's the 30th iteration\n",
      "n is 5 and it's the 40th iteration\n",
      "n is 5 and it's the 50th iteration\n",
      "n is 5 and it's the 60th iteration\n",
      "n is 5 and it's the 70th iteration\n",
      "n is 5 and it's the 80th iteration\n",
      "n is 5 and it's the 90th iteration\n",
      "n is 5 and it's the 100th iteration\n",
      "Cross Validation at k =  9\n",
      "avg Training score: 0.9802795656157534\n",
      "Test score: [0.6200361010830325, 0.54911131898971, 0.6079494128274616, 0.7149643705463183, 0.6103286384976526, 0.6052631578947368, 0.6068441064638783, 0.7259395050412466, 0.6362053959965187, 0.5629084967320261]\n",
      "avg Test score: 0.6239550504072582\n",
      "Init: initializing centroids\n",
      "Init: initializing clusters\n",
      "Starting iterations...\n",
      "Run 1, iteration: 1/100, moves: 0, cost: 28950.0\n",
      "n is 5 and it's the 10th iteration\n",
      "n is 5 and it's the 20th iteration\n",
      "n is 5 and it's the 30th iteration\n",
      "n is 5 and it's the 40th iteration\n",
      "n is 5 and it's the 50th iteration\n",
      "n is 5 and it's the 60th iteration\n",
      "n is 5 and it's the 70th iteration\n",
      "n is 5 and it's the 80th iteration\n",
      "n is 5 and it's the 90th iteration\n",
      "n is 5 and it's the 100th iteration\n",
      "Cross Validation at k =  11\n",
      "avg Training score: 0.9808400975201034\n",
      "Test score: [0.5981375358166189, 0.6841201716738198, 0.592057761732852, 0.6682615629984051, 0.6236734693877551, 0.6446617766911166, 0.6126279863481229, 0.6800684345594525, 0.5730427764326069, 0.494949494949495]\n",
      "avg Test score: 0.6171600970590245\n",
      "Init: initializing centroids\n",
      "Init: initializing clusters\n",
      "Starting iterations...\n",
      "Run 1, iteration: 1/100, moves: 0, cost: 27867.0\n",
      "n is 5 and it's the 10th iteration\n",
      "n is 5 and it's the 20th iteration\n",
      "n is 5 and it's the 30th iteration\n",
      "n is 5 and it's the 40th iteration\n",
      "n is 5 and it's the 50th iteration\n",
      "n is 5 and it's the 60th iteration\n",
      "n is 5 and it's the 70th iteration\n",
      "n is 5 and it's the 80th iteration\n",
      "n is 5 and it's the 90th iteration\n",
      "n is 5 and it's the 100th iteration\n",
      "Cross Validation at k =  13\n",
      "avg Training score: 0.9812012756064098\n",
      "Test score: [0.6556122448979592, 0.6259842519685039, 0.6974494283201407, 0.584092792046396, 0.6112449799196787, 0.5822784810126582, 0.581998474446987, 0.7074198988195616, 0.5634920634920635, 0.6408794788273615]\n",
      "avg Test score: 0.625045209375131\n",
      "Init: initializing centroids\n",
      "Init: initializing clusters\n",
      "Starting iterations...\n",
      "Run 1, iteration: 1/100, moves: 0, cost: 26799.0\n",
      "n is 5 and it's the 10th iteration\n",
      "n is 5 and it's the 20th iteration\n",
      "n is 5 and it's the 30th iteration\n",
      "n is 5 and it's the 40th iteration\n",
      "n is 5 and it's the 50th iteration\n",
      "n is 5 and it's the 60th iteration\n",
      "n is 5 and it's the 70th iteration\n",
      "n is 5 and it's the 80th iteration\n",
      "n is 5 and it's the 90th iteration\n",
      "n is 5 and it's the 100th iteration\n",
      "Cross Validation at k =  15\n",
      "avg Training score: 0.9771082084753061\n",
      "Test score: [0.569502948609941, 0.588134135855546, 0.6794564348521183, 0.5983870967741935, 0.6718464351005484, 0.6521739130434783, 0.6186868686868687, 0.6738437001594896, 0.5901189387008234, 0.6302916274694261]\n",
      "avg Test score: 0.6272442099252433\n",
      "Init: initializing centroids\n",
      "Init: initializing clusters\n",
      "Starting iterations...\n",
      "Run 1, iteration: 1/100, moves: 0, cost: 25758.0\n",
      "n is 5 and it's the 10th iteration\n",
      "n is 5 and it's the 20th iteration\n",
      "n is 5 and it's the 30th iteration\n",
      "n is 5 and it's the 40th iteration\n",
      "n is 5 and it's the 50th iteration\n",
      "n is 5 and it's the 60th iteration\n",
      "n is 5 and it's the 70th iteration\n",
      "n is 5 and it's the 80th iteration\n",
      "n is 5 and it's the 90th iteration\n",
      "n is 5 and it's the 100th iteration\n",
      "Cross Validation at k =  17\n",
      "avg Training score: 0.9795474869224663\n",
      "Test score: [0.6040438079191238, 0.5787700084245998, 0.5802364864864865, 0.5630630630630631, 0.6920731707317073, 0.6543422184006878, 0.5873873873873874, 0.7104029990627929, 0.5761467889908257, 0.611243072050673]\n",
      "avg Test score: 0.6157709002517348\n",
      "Init: initializing centroids\n",
      "Init: initializing clusters\n",
      "Starting iterations...\n",
      "Run 1, iteration: 1/100, moves: 0, cost: 24820.0\n",
      "n is 5 and it's the 10th iteration\n",
      "n is 5 and it's the 20th iteration\n",
      "n is 5 and it's the 30th iteration\n",
      "n is 5 and it's the 40th iteration\n",
      "n is 5 and it's the 50th iteration\n",
      "n is 5 and it's the 60th iteration\n",
      "n is 5 and it's the 70th iteration\n",
      "n is 5 and it's the 80th iteration\n",
      "n is 5 and it's the 90th iteration\n",
      "n is 5 and it's the 100th iteration\n",
      "Cross Validation at k =  19\n",
      "avg Training score: 0.9778172032019059\n",
      "Test score: [0.6258503401360545, 0.6215306980656014, 0.6775658492279746, 0.627287853577371, 0.5764053840063341, 0.504258943781942, 0.6255355612682091, 0.6870689655172414, 0.6088777219430486, 0.5888689407540395]\n",
      "avg Test score: 0.6143250258277817\n",
      "Init: initializing centroids\n",
      "Init: initializing clusters\n",
      "Starting iterations...\n",
      "Run 1, iteration: 1/100, moves: 0, cost: 23729.0\n",
      "n is 5 and it's the 10th iteration\n",
      "n is 5 and it's the 20th iteration\n",
      "n is 5 and it's the 30th iteration\n",
      "n is 5 and it's the 40th iteration\n",
      "n is 5 and it's the 50th iteration\n",
      "n is 5 and it's the 60th iteration\n",
      "n is 5 and it's the 70th iteration\n",
      "n is 5 and it's the 80th iteration\n",
      "n is 5 and it's the 90th iteration\n",
      "n is 5 and it's the 100th iteration\n",
      "Cross Validation at k =  21\n",
      "avg Training score: 0.9729458643968476\n",
      "Test score: [0.5385232744783307, 0.6353350739773717, 0.7015050167224081, 0.5797598627787307, 0.6473638720829732, 0.5745721271393643, 0.5892156862745098, 0.6880308880308881, 0.6680497925311203, 0.6997455470737913]\n",
      "avg Test score: 0.6322101141089489\n"
     ]
    }
   ],
   "source": [
    "train_score_by_k = {}\n",
    "test_score_by_k = {}\n",
    "\n",
    "similar_cols = [\"sequence_id\", \"dwelling_seq_id\", \"fixed_seq\", \"enum_dist_id\"]\n",
    "all_cols = [\"CENSUS_SERIALB\", \"CENSUS_AGE\", \"CENSUS_PAGENUM\", \"CENSUS_SEXB\", \"CENSUS_RACEB\", \n",
    "            \"sequence_id\", \"CENSUS_DWELLING_SIZE\",\"CENSUS_SEQ_NUM\", \"CENSUS_LABFORCE\", \"CENSUS_LINE\", \n",
    "            \"CENSUS_MARST\", \"CENSUS_NAMEFRST\", \"CENSUS_NAMELAST\", \"CENSUS_OCCSTR\", \"CENSUS_IMPREL\",\n",
    "            \"sequence_order_enum\", 'CENSUS_DWELLING_SEQ', \"dwelling_seq_id\", \"fixed_seq\", \"enum_dist_id\", \n",
    "            \"enum_dist_order\"]\n",
    "for k in k_list:\n",
    "    \n",
    "    census_enum_seq.apply_similarity(sim_columns=similar_cols, k = k)\n",
    "    transformer = ColumnTransformer(transformers=[('target', TargetEncoder(), all_cols), \n",
    "                                                  ('onehot', OneHotEncoder(handle_unknown='ignore'), ['similarity_label'])])\n",
    "    # define pipeline\n",
    "    pipeline = Pipeline(steps=[('preprocess', transformer), \n",
    "                               ('classifier',XGBClassifier(colsample_bytree = 0.6, max_depth = 2, \n",
    "                                                           n_estimators = 50))])\n",
    "\n",
    "    interpolate_sequences = CentroidInterpolator(census_enum_seq, 10, pipeline, all_cols + ['similarity_label'],\n",
    "                                                 KMeans(5), block_centroids)\n",
    "    score, model = interpolate_sequences.kmeans_best(5)\n",
    "    interpolate_sequences.set_clustering_algo(model)\n",
    "    interpolate_sequences.apply_clustering(algo_fit = True)\n",
    "    # interpolate_sequences.clustervis(kmeans = True)\n",
    "\n",
    "    ## retrain model using kmodes result\n",
    "\n",
    "    interpolate_sequences.cross_validate_model(k=10)\n",
    "    print('Cross Validation at k = ', k)\n",
    "    print(\"avg Training score:\", np.array(interpolate_sequences.train_score).mean())\n",
    "    print('Test score:', interpolate_sequences.test_score)\n",
    "    print(\"avg Test score:\", np.array(interpolate_sequences.test_score).mean())\n",
    "    \n",
    "    train_score_by_k[k] = interpolate_sequences.train_score\n",
    "    test_score_by_k[k] = interpolate_sequences.test_score"
   ]
  },
  {
   "cell_type": "code",
   "execution_count": 17,
   "metadata": {},
   "outputs": [
    {
     "name": "stdout",
     "output_type": "stream",
     "text": [
      "5\n",
      "7\n",
      "9\n",
      "11\n",
      "13\n",
      "15\n",
      "17\n",
      "19\n",
      "21\n"
     ]
    }
   ],
   "source": [
    "avg_test_score = []\n",
    "for k, v in test_score_by_k.items():\n",
    "    avg_test_score.append(np.array(v).mean())"
   ]
  },
  {
   "cell_type": "code",
   "execution_count": 27,
   "metadata": {
    "scrolled": true
   },
   "outputs": [
    {
     "data": {
      "text/plain": [
       "[<matplotlib.lines.Line2D at 0x11b19b358>]"
      ]
     },
     "execution_count": 27,
     "metadata": {},
     "output_type": "execute_result"
    },
    {
     "data": {
      "image/png": "[encoded data removed]",
      "text/plain": [
       "<Figure size 432x288 with 1 Axes>"
      ]
     },
     "metadata": {
      "needs_background": "light"
     },
     "output_type": "display_data"
    }
   ],
   "source": [
    "plt.plot(list(test_score_by_k.keys()), avg_test_score)"
   ]
  },
  {
   "cell_type": "markdown",
   "metadata": {},
   "source": [
    "# 21 - 50"
   ]
  },
  {
   "cell_type": "markdown",
   "metadata": {},
   "source": [
    "## For loop for K = k"
   ]
  },
  {
   "cell_type": "code",
   "execution_count": 8,
   "metadata": {},
   "outputs": [
    {
     "data": {
      "text/plain": [
       "[21, 23, 25, 27, 29, 31, 33, 35, 37, 39, 41, 43, 45, 47, 49]"
      ]
     },
     "execution_count": 8,
     "metadata": {},
     "output_type": "execute_result"
    }
   ],
   "source": [
    "import numpy as np\n",
    "k_list = np.arange(21, 51, 2).tolist()\n",
    "k_list"
   ]
  },
  {
   "cell_type": "code",
   "execution_count": 9,
   "metadata": {
    "scrolled": true
   },
   "outputs": [
    {
     "name": "stdout",
     "output_type": "stream",
     "text": [
      "Init: initializing centroids\n",
      "Init: initializing clusters\n",
      "Starting iterations...\n",
      "Run 1, iteration: 1/100, moves: 0, cost: 23729.0\n",
      "n is 5 and it's the 10th iteration\n",
      "n is 5 and it's the 20th iteration\n",
      "n is 5 and it's the 30th iteration\n",
      "n is 5 and it's the 40th iteration\n",
      "n is 5 and it's the 50th iteration\n",
      "Cross Validation at k =  21\n",
      "avg Training score: 0.9795402317948187\n",
      "Test score: [0.5286916602907421, 0.7243401759530792, 0.6860254083484574, 0.5820770519262981, 0.6878710771840543, 0.6875567665758402, 0.6283185840707964, 0.592375366568915, 0.5815972222222222, 0.5075939248601119]\n",
      "avg Test score: 0.6206447238000516\n",
      "Init: initializing centroids\n",
      "Init: initializing clusters\n",
      "Starting iterations...\n",
      "Run 1, iteration: 1/100, moves: 0, cost: 22740.0\n",
      "n is 5 and it's the 10th iteration\n",
      "n is 5 and it's the 20th iteration\n",
      "n is 5 and it's the 30th iteration\n",
      "n is 5 and it's the 40th iteration\n",
      "n is 5 and it's the 50th iteration\n",
      "Cross Validation at k =  23\n",
      "avg Training score: 0.9766779001752436\n",
      "Test score: [0.6420068027210885, 0.6358284272497897, 0.6821071752951862, 0.6389351081530782, 0.5779889152810768, 0.5195911413969335, 0.6375321336760925, 0.675, 0.6105527638190955, 0.573608617594255]\n",
      "avg Test score: 0.6193151085186596\n",
      "Init: initializing centroids\n",
      "Init: initializing clusters\n",
      "Starting iterations...\n",
      "Run 1, iteration: 1/100, moves: 0, cost: 21683.0\n",
      "n is 5 and it's the 10th iteration\n",
      "n is 5 and it's the 20th iteration\n",
      "n is 5 and it's the 30th iteration\n",
      "n is 5 and it's the 40th iteration\n",
      "n is 5 and it's the 50th iteration\n",
      "Cross Validation at k =  25\n",
      "avg Training score: 0.9831074564604471\n",
      "Test score: [0.6863957597173145, 0.6067125645438899, 0.5963855421686747, 0.7018425460636516, 0.6898349261511729, 0.6433756805807622, 0.6631578947368421, 0.5973451327433629, 0.5870967741935483, 0.5863874345549738]\n",
      "avg Test score: 0.6358534255454192\n",
      "Init: initializing centroids\n",
      "Init: initializing clusters\n",
      "Starting iterations...\n",
      "Run 1, iteration: 1/100, moves: 0, cost: 20714.0\n",
      "n is 5 and it's the 10th iteration\n",
      "n is 5 and it's the 20th iteration\n",
      "n is 5 and it's the 30th iteration\n",
      "n is 5 and it's the 40th iteration\n",
      "n is 5 and it's the 50th iteration\n",
      "Cross Validation at k =  27\n",
      "avg Training score: 0.9822171561628814\n",
      "Test score: [0.6011787819253438, 0.6574154379878577, 0.6759884281581485, 0.6189300411522634, 0.5974729241877257, 0.7522441651705566, 0.620954003407155, 0.4652071931196247, 0.5831826401446655, 0.5271059216013344]\n",
      "avg Test score: 0.6099679536854674\n",
      "Init: initializing centroids\n",
      "Init: initializing clusters\n",
      "Starting iterations...\n",
      "Run 1, iteration: 1/100, moves: 0, cost: 19751.0\n",
      "n is 5 and it's the 10th iteration\n",
      "n is 5 and it's the 20th iteration\n",
      "n is 5 and it's the 30th iteration\n",
      "n is 5 and it's the 40th iteration\n",
      "n is 5 and it's the 50th iteration\n",
      "Cross Validation at k =  29\n",
      "avg Training score: 0.9790844101241373\n",
      "Test score: [0.5508798775822494, 0.7370478983382209, 0.6842105263157895, 0.5644891122278057, 0.7065309584393554, 0.6857402361489555, 0.6238938053097345, 0.5674486803519062, 0.5824652777777778, 0.513189448441247]\n",
      "avg Test score: 0.6215895820933042\n",
      "Init: initializing centroids\n",
      "Init: initializing clusters\n",
      "Starting iterations...\n",
      "Run 1, iteration: 1/100, moves: 0, cost: 18799.0\n",
      "n is 5 and it's the 10th iteration\n",
      "n is 5 and it's the 20th iteration\n",
      "n is 5 and it's the 30th iteration\n",
      "n is 5 and it's the 40th iteration\n",
      "n is 5 and it's the 50th iteration\n",
      "Cross Validation at k =  31\n",
      "avg Training score: 0.9805907711174109\n",
      "Test score: [0.6554828150572831, 0.525065963060686, 0.6133928571428572, 0.49614197530864196, 0.6680997420464316, 0.7085470085470086, 0.5481758652946679, 0.639662447257384, 0.6305114638447972, 0.5770750988142292]\n",
      "avg Test score: 0.6062155236373987\n",
      "Init: initializing centroids\n",
      "Init: initializing clusters\n",
      "Starting iterations...\n",
      "Run 1, iteration: 1/100, moves: 0, cost: 18027.0\n",
      "n is 5 and it's the 10th iteration\n",
      "n is 5 and it's the 20th iteration\n",
      "n is 5 and it's the 30th iteration\n",
      "n is 5 and it's the 40th iteration\n",
      "n is 5 and it's the 50th iteration\n",
      "Cross Validation at k =  33\n",
      "avg Training score: 0.979132999816781\n",
      "Test score: [0.5363427697016068, 0.7438905180840665, 0.676950998185118, 0.5644891122278057, 0.7090754877014419, 0.6739327883742052, 0.6256637168141593, 0.5777126099706745, 0.5807291666666666, 0.5107913669064749]\n",
      "avg Test score: 0.619957853463222\n",
      "Init: initializing centroids\n",
      "Init: initializing clusters\n",
      "Starting iterations...\n",
      "Run 1, iteration: 1/100, moves: 0, cost: 17182.0\n",
      "n is 5 and it's the 10th iteration\n",
      "n is 5 and it's the 20th iteration\n",
      "n is 5 and it's the 30th iteration\n",
      "n is 5 and it's the 40th iteration\n",
      "n is 5 and it's the 50th iteration\n",
      "Cross Validation at k =  35\n",
      "avg Training score: 0.9785459639363872\n",
      "Test score: [0.6539115646258503, 0.6307821698906644, 0.659400544959128, 0.627287853577371, 0.5756136183689627, 0.5153321976149915, 0.6555269922879178, 0.678448275862069, 0.6046901172529313, 0.5583482944344704]\n",
      "avg Test score: 0.6159341628874356\n",
      "Init: initializing centroids\n",
      "Init: initializing clusters\n",
      "Starting iterations...\n",
      "Run 1, iteration: 1/100, moves: 0, cost: 16287.0\n",
      "n is 5 and it's the 10th iteration\n",
      "n is 5 and it's the 20th iteration\n",
      "n is 5 and it's the 30th iteration\n",
      "n is 5 and it's the 40th iteration\n",
      "n is 5 and it's the 50th iteration\n",
      "Cross Validation at k =  37\n",
      "avg Training score: 0.9788588346191205\n",
      "Test score: [0.6455813953488372, 0.5548726953467954, 0.547787610619469, 0.5637168141592921, 0.680482290881688, 0.651685393258427, 0.6020503261882573, 0.626933575978162, 0.5964083175803403, 0.598694942903752]\n",
      "avg Test score: 0.606821336226502\n",
      "Init: initializing centroids\n",
      "Init: initializing clusters\n",
      "Starting iterations...\n",
      "Run 1, iteration: 1/100, moves: 0, cost: 15446.0\n",
      "n is 5 and it's the 10th iteration\n",
      "n is 5 and it's the 20th iteration\n",
      "n is 5 and it's the 30th iteration\n",
      "n is 5 and it's the 40th iteration\n",
      "n is 5 and it's the 50th iteration\n",
      "Cross Validation at k =  39\n",
      "avg Training score: 0.9737622713087749\n",
      "Test score: [0.5272873194221509, 0.6927763272410792, 0.6931438127090301, 0.5677530017152659, 0.6387208297320657, 0.5973920130399348, 0.5931372549019608, 0.6826254826254826, 0.6713692946058091, 0.648854961832061]\n",
      "avg Test score: 0.6313060297824841\n",
      "Init: initializing centroids\n",
      "Init: initializing clusters\n",
      "Starting iterations...\n",
      "Run 1, iteration: 1/100, moves: 0, cost: 14639.0\n",
      "n is 5 and it's the 10th iteration\n",
      "n is 5 and it's the 20th iteration\n",
      "n is 5 and it's the 30th iteration\n",
      "n is 5 and it's the 40th iteration\n",
      "n is 5 and it's the 50th iteration\n",
      "Cross Validation at k =  41\n",
      "avg Training score: 0.978948942628131\n",
      "Test score: [0.5972093023255814, 0.5561936013125512, 0.5556544968833482, 0.5280122793553338, 0.6739312657166806, 0.6753968253968254, 0.6013628620102215, 0.6412625096227867, 0.6392092257001647, 0.6067518248175182]\n",
      "avg Test score: 0.6074984193141011\n",
      "Init: initializing centroids\n",
      "Init: initializing clusters\n",
      "Starting iterations...\n",
      "Run 1, iteration: 1/100, moves: 0, cost: 13846.0\n",
      "n is 5 and it's the 10th iteration\n",
      "n is 5 and it's the 20th iteration\n",
      "n is 5 and it's the 30th iteration\n",
      "n is 5 and it's the 40th iteration\n",
      "n is 5 and it's the 50th iteration\n",
      "Cross Validation at k =  43\n",
      "avg Training score: 0.9813879437416875\n",
      "Test score: [0.7210610932475884, 0.5478680611423974, 0.6983333333333334, 0.6193961573650503, 0.6660869565217391, 0.6564705882352941, 0.5776545166402536, 0.5877551020408164, 0.665402124430956, 0.5416666666666666]\n",
      "avg Test score: 0.6281694599624095\n",
      "Init: initializing centroids\n",
      "Init: initializing clusters\n",
      "Starting iterations...\n",
      "Run 1, iteration: 1/100, moves: 0, cost: 13082.0\n",
      "n is 5 and it's the 10th iteration\n",
      "n is 5 and it's the 20th iteration\n",
      "n is 5 and it's the 30th iteration\n",
      "n is 5 and it's the 40th iteration\n",
      "n is 5 and it's the 50th iteration\n",
      "Cross Validation at k =  45\n",
      "avg Training score: 0.9814163579749682\n",
      "Test score: [0.6666666666666666, 0.6346153846153846, 0.532312925170068, 0.6328257191201354, 0.6155102040816327, 0.5906779661016949, 0.5843270868824532, 0.6893939393939394, 0.6083086053412463, 0.6707105719237435]\n",
      "avg Test score: 0.6225349069296964\n",
      "Init: initializing centroids\n",
      "Init: initializing clusters\n",
      "Starting iterations...\n",
      "Run 1, iteration: 1/100, moves: 0, cost: 12398.0\n",
      "n is 5 and it's the 10th iteration\n",
      "n is 5 and it's the 20th iteration\n"
     ]
    },
    {
     "name": "stdout",
     "output_type": "stream",
     "text": [
      "n is 5 and it's the 30th iteration\n",
      "n is 5 and it's the 40th iteration\n",
      "n is 5 and it's the 50th iteration\n",
      "Cross Validation at k =  47\n",
      "avg Training score: 0.9832061030891891\n",
      "Test score: [0.6547619047619048, 0.6259842519685039, 0.6842568161829375, 0.6023198011599006, 0.6265060240963856, 0.6083860759493671, 0.6003051106025934, 0.7048903878583473, 0.5529100529100529, 0.6368078175895765]\n",
      "avg Test score: 0.629712824307957\n",
      "Init: initializing centroids\n",
      "Init: initializing clusters\n",
      "Starting iterations...\n",
      "Run 1, iteration: 1/100, moves: 0, cost: 11722.0\n",
      "n is 5 and it's the 10th iteration\n",
      "n is 5 and it's the 20th iteration\n",
      "n is 5 and it's the 30th iteration\n",
      "n is 5 and it's the 40th iteration\n",
      "n is 5 and it's the 50th iteration\n",
      "Cross Validation at k =  49\n",
      "avg Training score: 0.9808099873106311\n",
      "Test score: [0.6785109983079526, 0.6378205128205128, 0.5306122448979592, 0.631979695431472, 0.6195918367346939, 0.6033898305084746, 0.5775127768313458, 0.6877104377104377, 0.6003956478733927, 0.6707105719237435]\n",
      "avg Test score: 0.6238234553039985\n"
     ]
    }
   ],
   "source": [
    "train_score_by_k = {}\n",
    "test_score_by_k = {}\n",
    "\n",
    "similar_cols = [\"sequence_id\", \"dwelling_seq_id\", \"fixed_seq\", \"enum_dist_id\"]\n",
    "all_cols = [\"CENSUS_SERIALB\", \"CENSUS_AGE\", \"CENSUS_PAGENUM\", \"CENSUS_SEXB\", \"CENSUS_RACEB\", \n",
    "            \"sequence_id\", \"CENSUS_DWELLING_SIZE\",\"CENSUS_SEQ_NUM\", \"CENSUS_LABFORCE\", \"CENSUS_LINE\", \n",
    "            \"CENSUS_MARST\", \"CENSUS_NAMEFRST\", \"CENSUS_NAMELAST\", \"CENSUS_OCCSTR\", \"CENSUS_IMPREL\",\n",
    "            \"sequence_order_enum\", 'CENSUS_DWELLING_SEQ', \"dwelling_seq_id\", \"fixed_seq\", \"enum_dist_id\", \n",
    "            \"enum_dist_order\"]\n",
    "for k in k_list:\n",
    "    \n",
    "    census_enum_seq.apply_similarity(sim_columns=similar_cols, k = k)\n",
    "    transformer = ColumnTransformer(transformers=[('target', TargetEncoder(), all_cols), \n",
    "                                                  ('onehot', OneHotEncoder(handle_unknown='ignore'), ['similarity_label'])])\n",
    "    # define pipeline\n",
    "    pipeline = Pipeline(steps=[('preprocess', transformer), \n",
    "                               ('classifier',XGBClassifier(colsample_bytree = 0.6, max_depth = 2, \n",
    "                                                           n_estimators = 50))])\n",
    "\n",
    "    interpolate_sequences = CentroidInterpolator(census_enum_seq, 10, pipeline, all_cols + ['similarity_label'],\n",
    "                                                 KMeans(5), block_centroids)\n",
    "    score, model = interpolate_sequences.kmeans_best(5)\n",
    "    interpolate_sequences.set_clustering_algo(model)\n",
    "    interpolate_sequences.apply_clustering(algo_fit = True)\n",
    "    # interpolate_sequences.clustervis(kmeans = True)\n",
    "\n",
    "    ## retrain model using kmodes result\n",
    "\n",
    "    interpolate_sequences.cross_validate_model(k=10)\n",
    "    print('Cross Validation at k = ', k)\n",
    "    print(\"avg Training score:\", np.array(interpolate_sequences.train_score).mean())\n",
    "    print('Test score:', interpolate_sequences.test_score)\n",
    "    print(\"avg Test score:\", np.array(interpolate_sequences.test_score).mean())\n",
    "    \n",
    "    train_score_by_k[k] = interpolate_sequences.train_score\n",
    "    test_score_by_k[k] = interpolate_sequences.test_score"
   ]
  },
  {
   "cell_type": "code",
   "execution_count": 10,
   "metadata": {},
   "outputs": [],
   "source": [
    "avg_test_score = []\n",
    "for k, v in test_score_by_k.items():\n",
    "    avg_test_score.append(np.array(v).mean())"
   ]
  },
  {
   "cell_type": "code",
   "execution_count": 11,
   "metadata": {
    "scrolled": true
   },
   "outputs": [
    {
     "data": {
      "text/plain": [
       "[<matplotlib.lines.Line2D at 0x12122e2e8>]"
      ]
     },
     "execution_count": 11,
     "metadata": {},
     "output_type": "execute_result"
    },
    {
     "data": {
      "image/png": "[encoded data removed]",
      "text/plain": [
       "<Figure size 432x288 with 1 Axes>"
      ]
     },
     "metadata": {
      "needs_background": "light"
     },
     "output_type": "display_data"
    }
   ],
   "source": [
    "plt.plot(list(test_score_by_k.keys()), avg_test_score)"
   ]
  },
  {
   "cell_type": "code",
   "execution_count": null,
   "metadata": {},
   "outputs": [],
   "source": []
  }
 ],
 "metadata": {
  "kernelspec": {
   "display_name": "Python 3",
   "language": "python",
   "name": "python3"
  },
  "language_info": {
   "codemirror_mode": {
    "name": "ipython",
    "version": 3
   },
   "file_extension": ".py",
   "mimetype": "text/x-python",
   "name": "python",
   "nbconvert_exporter": "python",
   "pygments_lexer": "ipython3",
   "version": "3.7.3"
  }
 },
 "nbformat": 4,
 "nbformat_minor": 2
}
