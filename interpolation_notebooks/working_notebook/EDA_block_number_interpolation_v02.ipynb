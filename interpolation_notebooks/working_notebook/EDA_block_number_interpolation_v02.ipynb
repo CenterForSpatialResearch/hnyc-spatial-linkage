{
 "cells": [
  {
   "cell_type": "markdown",
   "metadata": {},
   "source": [
    "## Block Number Interpolation\n",
    "\n",
    "(currently using disambiguous v02)\n",
    "\n",
    "1. **Sequence Restriction**\n",
    "\n",
    "This notebook interpolates block numbers by filling in if unknown dwellings are in between known dwellings of the same\n",
    "    1. block number\n",
    "    2. block number and distance sequence\n",
    "    3. block number, distance sequence, and enum_dist\n",
    "    4. block number, distance sequence, enum_dist, and other sequence\n",
    "\n",
    "2. **Max Distance Restriction** and **In between number of dwellings**"
   ]
  },
  {
   "cell_type": "code",
   "execution_count": 1,
   "metadata": {},
   "outputs": [],
   "source": [
    "import os\n",
    "import sys\n",
    "module_path = os.path.abspath(os.path.join('../..'))\n",
    "if module_path not in sys.path:\n",
    "    sys.path.append(module_path)\n",
    "%load_ext autoreload\n",
    "%autoreload 2\n",
    "import pandas as pd\n",
    "import numpy as np\n",
    "import matplotlib.pyplot as plt\n",
    "from interpolation import interpolation, CensusData, dataprocessing, sequences\n",
    "from interpolation import disambiguation_analysis as da"
   ]
  },
  {
   "cell_type": "markdown",
   "metadata": {},
   "source": [
    "# Setup\n",
    "\n",
    "* Read in datasets and set column names"
   ]
  },
  {
   "cell_type": "code",
   "execution_count": 2,
   "metadata": {},
   "outputs": [],
   "source": [
    "filled_1850 = pd.read_csv(\"../../data/dwelling_filled_sum_1850_mn_v02.csv\")\n",
    "cd_1850 = pd.read_csv(\"../../data/cd_1850_mn_20200918.csv\") #For calculating centroids\n",
    "enumerators = pd.read_csv(\"../../data/census_1850_enumerationDetail_mn_union_20201202.csv\")\n",
    "\n",
    "filled_1850['CENSUS_PAGENUM'] = filled_1850['CENSUS_PAGENUM']//10"
   ]
  },
  {
   "cell_type": "code",
   "execution_count": 3,
   "metadata": {},
   "outputs": [],
   "source": [
    "ward_col = \"CENSUS_WARD_NUM\"\n",
    "dwelling_col = \"dwelling_id\"\n",
    "block_col = \"CD_BLOCK_NUM\"\n",
    "cd_ward_col = \"CD_WARD_NUM\"\n",
    "cd_block_col = \"CD_BLOCK_NUM\"\n",
    "dwelling_num_col = \"CENSUS_DWELLING_NUM\"\n",
    "cd_address = \"CD_H_ADDRESS\"\n",
    "pagenum = \"CENSUS_PAGENUM\"\n",
    "x_col = \"CD_X\"\n",
    "y_col = \"CD_Y\""
   ]
  },
  {
   "cell_type": "markdown",
   "metadata": {},
   "source": [
    "### CENSUS_PAGENO_HOUSEHOLD - CENSUS_WARD_NUM - CENSUS_ENUMERATOR_NUM - CENSUS_ENUMERATOR_DATE is a minimal key for all wards\n",
    "\n",
    "* We have previously used only CENSUS_PAGENO_HOUSEHOLD - CENSUS_WARD_NUM for ward 10, is a minimal key for ward 10 specificaly\n",
    "* **Need more specificity when merging this into all dwellings. Otherwise, 1 dwelling could be assigned to 2 different enumeration sequences**"
   ]
  },
  {
   "cell_type": "code",
   "execution_count": 4,
   "metadata": {},
   "outputs": [
    {
     "name": "stdout",
     "output_type": "stream",
     "text": [
      "KEY: CENSUS_PAGENO_HOUSEHOLD - CENSUS_WARD_NUM is a minimal key in\n",
      "ward  1\n",
      "ward  2\n",
      "ward  3\n",
      "ward  4\n",
      "ward  5\n",
      "ward  6\n",
      "ward  10\n",
      "ward  13\n",
      "ward  14\n",
      "ward  15\n",
      "ward  19\n"
     ]
    }
   ],
   "source": [
    "print('KEY: CENSUS_PAGENO_HOUSEHOLD - CENSUS_WARD_NUM is a minimal key in')\n",
    "unique_wards = []\n",
    "for w in enumerators['CENSUS_WARD_NUM'].unique():\n",
    "    tempw = enumerators.loc[enumerators['CENSUS_WARD_NUM'] == w]\n",
    "    if tempw[['CENSUS_PAGENO_HOUSEHOLD', 'CENSUS_WARD_NUM']].shape[0] == tempw[['CENSUS_PAGENO_HOUSEHOLD', 'CENSUS_WARD_NUM']].drop_duplicates().shape[0]:\n",
    "        print('ward ', w)\n",
    "        unique_wards.append(w)"
   ]
  },
  {
   "cell_type": "code",
   "execution_count": 5,
   "metadata": {},
   "outputs": [
    {
     "name": "stdout",
     "output_type": "stream",
     "text": [
      "KEY: CENSUS_PAGENO_HOUSEHOLD - CENSUS_WARD_NUM - CENSUS_ENUMERATOR_NUM is a minimal key in \n",
      "ward  1\n",
      "ward  2\n",
      "ward  3\n",
      "ward  4\n",
      "ward  5\n",
      "ward  6\n",
      "ward  7\n",
      "ward  8\n",
      "ward  9\n",
      "ward  10\n",
      "ward  11\n",
      "ward  12\n",
      "ward  13\n",
      "ward  14\n",
      "ward  15\n",
      "ward  16\n",
      "ward  17\n",
      "ward  18\n",
      "ward  19\n"
     ]
    }
   ],
   "source": [
    "print('KEY: CENSUS_PAGENO_HOUSEHOLD - CENSUS_WARD_NUM - CENSUS_ENUMERATOR_NUM is a minimal key in ')\n",
    "for w in enumerators['CENSUS_WARD_NUM'].unique():\n",
    "    tempw = enumerators.loc[enumerators['CENSUS_WARD_NUM'] == w]\n",
    "    if tempw[['CENSUS_PAGENO_HOUSEHOLD', 'CENSUS_WARD_NUM', 'CENSUS_ENUMERATOR_NUM']].shape[0] == tempw[['CENSUS_PAGENO_HOUSEHOLD', 'CENSUS_WARD_NUM', 'CENSUS_ENUMERATOR_NUM', 'CENSUS_ENUMERATOR_DATE']].drop_duplicates().shape[0]:\n",
    "        print('ward ', w)"
   ]
  },
  {
   "cell_type": "markdown",
   "metadata": {},
   "source": [
    "## Append page sequence id for mergering with enum data"
   ]
  },
  {
   "cell_type": "code",
   "execution_count": 6,
   "metadata": {},
   "outputs": [],
   "source": [
    "def append_page_sequence_id(df, ward_col, page_col):\n",
    "    temp = df.copy()\n",
    "    temp['prev_page'] = temp.groupby(ward_col)[page_col].shift(1)\n",
    "    temp['prev_ward'] = temp[ward_col].shift(1)\n",
    "    temp['page_sequence_id'] = np.where((temp['prev_ward'] != temp[ward_col]) |\n",
    "                                        (temp['prev_page'] > temp[page_col]), \n",
    "                                        temp[page_col].index, np.nan)\n",
    "    temp['page_sequence_id'] = temp.groupby(ward_col)['page_sequence_id'].ffill()\n",
    "\n",
    "    df_list = []\n",
    "    for w in df[ward_col].unique():\n",
    "        temp_df = temp.loc[temp[ward_col] == w]\n",
    "        page_id = temp_df['page_sequence_id'].unique()\n",
    "        page_id.sort()\n",
    "        enum_list = []\n",
    "        for i in range(len(page_id)):\n",
    "            enum_list.append(i)\n",
    "        df_list.append(pd.DataFrame({ward_col: w, 'page_sequence_id': page_id, 'new_page_sequence_id': enum_list}))\n",
    "    to_new_page_id = pd.concat(df_list, axis=0)\n",
    "    temp = temp.merge(to_new_page_id, on=[ward_col, 'page_sequence_id'], how='left')\n",
    "    temp.drop(columns=['prev_page', 'prev_ward', 'page_sequence_id'], inplace=True)\n",
    "    temp.rename(columns={'new_page_sequence_id': 'page_sequence_id'}, inplace=True)\n",
    "    return temp"
   ]
  },
  {
   "cell_type": "code",
   "execution_count": 7,
   "metadata": {},
   "outputs": [],
   "source": [
    "filled_1850_2 = append_page_sequence_id(filled_1850, ward_col, pagenum)\n",
    "enumerators_2 = append_page_sequence_id(enumerators, ward_col, 'CENSUS_PAGENNO')"
   ]
  },
  {
   "cell_type": "code",
   "execution_count": 8,
   "metadata": {},
   "outputs": [
    {
     "name": "stdout",
     "output_type": "stream",
     "text": [
      "(12350, 9)\n",
      "(12350, 10)\n"
     ]
    }
   ],
   "source": [
    "print(enumerators.shape)\n",
    "print(enumerators_2.shape)"
   ]
  },
  {
   "cell_type": "code",
   "execution_count": 11,
   "metadata": {},
   "outputs": [],
   "source": [
    "filled_ch = filled_1850_2[[ward_col, 'page_sequence_id']].groupby(ward_col)['page_sequence_id'].agg('nunique')\n",
    "enum_ch = enumerators_2[[ward_col, 'page_sequence_id']].groupby(ward_col)['page_sequence_id'].agg('nunique')\n",
    "assert (filled_ch != enum_ch).sum() == 0, 'Census and Enumeration dfs are not unique using the same keys'"
   ]
  },
  {
   "cell_type": "code",
   "execution_count": 12,
   "metadata": {},
   "outputs": [],
   "source": [
    "# filled_1850_new_pagenum = filled_1850_2.merge(dwelling_to_new_pagenum, on =[ward_col, dwelling_col])\n",
    "census_enumerators = filled_1850_2.merge(enumerators_2,  how = \"left\", \n",
    "                                                   left_on= [ward_col, 'CENSUS_PAGENUM', 'page_sequence_id'], \n",
    "                                                   right_on = [\"CENSUS_WARD_NUM\", \"CENSUS_PAGENNO\", 'page_sequence_id'])\n",
    "census_enumerators.drop(columns=['CENSUS_PAGENNO', 'CENSUS_PAGENO_HOUSEHOLD', 'Notes'], inplace=True)"
   ]
  },
  {
   "cell_type": "code",
   "execution_count": 16,
   "metadata": {},
   "outputs": [],
   "source": [
    "# census_enumerators.to_csv('../../data/1850_census_enumerators_120820.csv', index=False)"
   ]
  },
  {
   "cell_type": "code",
   "execution_count": 13,
   "metadata": {},
   "outputs": [
    {
     "name": "stdout",
     "output_type": "stream",
     "text": [
      "(515630, 31)\n",
      "(515630, 36)\n"
     ]
    },
    {
     "data": {
      "text/plain": [
       "True"
      ]
     },
     "execution_count": 13,
     "metadata": {},
     "output_type": "execute_result"
    }
   ],
   "source": [
    "##check if unique. Must be True\n",
    "print(filled_1850_2.shape)\n",
    "print(census_enumerators.shape)\n",
    "\n",
    "census_enumerators.shape[0] == filled_1850_2.shape[0]"
   ]
  },
  {
   "cell_type": "markdown",
   "metadata": {},
   "source": [
    "## Ward 12 has no block number"
   ]
  },
  {
   "cell_type": "code",
   "execution_count": 14,
   "metadata": {},
   "outputs": [
    {
     "data": {
      "text/plain": [
       "array([nan], dtype=object)"
      ]
     },
     "execution_count": 14,
     "metadata": {},
     "output_type": "execute_result"
    }
   ],
   "source": [
    "filled_1850_temp = pd.read_csv(\"../../data/dwelling_filled_sum_1850_mn_v02.csv\")\n",
    "filled_1850_temp.loc[filled_1850_temp[ward_col] == 12][block_col].unique()"
   ]
  },
  {
   "cell_type": "markdown",
   "metadata": {},
   "source": [
    "## Generate sequences"
   ]
  },
  {
   "cell_type": "code",
   "execution_count": 15,
   "metadata": {},
   "outputs": [
    {
     "name": "stdout",
     "output_type": "stream",
     "text": [
      "d:  0.1\n"
     ]
    }
   ],
   "source": [
    "census_enum_seq = CensusData(census_enumerators, ward_col=ward_col, dwelling_col=dwelling_col, \n",
    "                             block_col =  block_col, x_col = x_col, y_col = y_col, pagenum = pagenum)\n",
    "census_enum_seq.apply_sequencing(enumerator_dist = True, dwelling = True, \n",
    "                                 fixed = True, distance = True, d=0.1)"
   ]
  },
  {
   "cell_type": "code",
   "execution_count": null,
   "metadata": {},
   "outputs": [],
   "source": [
    "# census_all_dwellings = census_enum_seq.df.groupby([ward_col, dwelling_col], as_index = False).first()\n",
    "# census_all_dwellings.to_csv('../../dwellings_with_sequences.csv', index=False)"
   ]
  },
  {
   "cell_type": "code",
   "execution_count": 17,
   "metadata": {},
   "outputs": [],
   "source": [
    "census_all_dwellings = census_enum_seq.df.groupby([ward_col, dwelling_col], as_index = False).first()\n",
    "dwellings_sequence = census_all_dwellings.dropna(subset=[block_col])\n",
    "\n",
    "## 1. Get dwellings that are followed by unknown dwellings whose block num can be interpolated\n",
    "## dwellings_sequence => known dwellings\n",
    "dwelling_sequence_sames = interpolation.same_next(dwellings_sequence, column = block_col)\n",
    "# dwelling_sequence_sames = dwellings_sequence.groupby(ward_col).agg(interpolation.same_next, block_col)\n",
    "\n",
    "\"\"\"\n",
    "2. Merge dwelling_sequence_sames back to all known dwelling df so that `BLOCK_NUM_next` and \n",
    "`num_between_real` are included in df of all known dwellings.\n",
    "\"\"\"\n",
    "dwellings_sequence_with_next_info = dwellings_sequence.merge(dwelling_sequence_sames[[ward_col, dwelling_col,\n",
    "                                                                        block_col+'_next', \n",
    "                                                                                      'num_between_real',\n",
    "                                                                                      'header']], \n",
    "                                                             on=[ward_col, dwelling_col], how='left')"
   ]
  },
  {
   "cell_type": "code",
   "execution_count": 18,
   "metadata": {},
   "outputs": [],
   "source": [
    "all_dwellings_1 = dataprocessing.all_dwellings_sequenced(census_all_dwellings, dwellings_sequence_with_next_info, \n",
    "                                                       block_col = block_col, fill_column = block_col,\n",
    "                                                       check_column = [block_col], ward_col = ward_col, dwelling_col = dwelling_col)\n",
    "\n",
    "all_dwellings_2 = dataprocessing.all_dwellings_sequenced(census_all_dwellings, dwellings_sequence_with_next_info, \n",
    "                                                       block_col = block_col, fill_column = block_col,\n",
    "                                                       check_column = [block_col, 'sequence_id'], ward_col = ward_col, dwelling_col = dwelling_col)\n",
    "\n",
    "all_dwellings_3 = dataprocessing.all_dwellings_sequenced(census_all_dwellings, dwellings_sequence_with_next_info, \n",
    "                                                       block_col = block_col, fill_column = block_col,\n",
    "                                                       check_column = [block_col, 'sequence_id', 'enum_dist_id'], ward_col = ward_col, dwelling_col = dwelling_col)\n",
    "\n",
    "all_dwellings_4 = dataprocessing.all_dwellings_sequenced(census_all_dwellings, dwellings_sequence_with_next_info, \n",
    "                                                       block_col = block_col, fill_column = block_col,\n",
    "                                                       check_column = [block_col, 'sequence_id', \n",
    "                                                                       'enum_dist_id', 'fixed_seq',\n",
    "                                                                      'dwelling_seq_id'], ward_col = ward_col, dwelling_col = dwelling_col)"
   ]
  },
  {
   "cell_type": "code",
   "execution_count": 19,
   "metadata": {},
   "outputs": [
    {
     "data": {
      "text/html": [
       "<div>\n",
       "<style scoped>\n",
       "    .dataframe tbody tr th:only-of-type {\n",
       "        vertical-align: middle;\n",
       "    }\n",
       "\n",
       "    .dataframe tbody tr th {\n",
       "        vertical-align: top;\n",
       "    }\n",
       "\n",
       "    .dataframe thead th {\n",
       "        text-align: right;\n",
       "    }\n",
       "</style>\n",
       "<table border=\"1\" class=\"dataframe\">\n",
       "  <thead>\n",
       "    <tr style=\"text-align: right;\">\n",
       "      <th></th>\n",
       "      <th>CENSUS_WARD_NUM</th>\n",
       "      <th>CD_BLOCK_NUM</th>\n",
       "      <th>dwelling_id</th>\n",
       "      <th>sequence_id</th>\n",
       "      <th>enum_dist_id</th>\n",
       "      <th>CENSUS_PAGENUM</th>\n",
       "    </tr>\n",
       "  </thead>\n",
       "  <tbody>\n",
       "    <tr>\n",
       "      <th>17840</th>\n",
       "      <td>10</td>\n",
       "      <td>mn1850_10_73.9958_40.7154</td>\n",
       "      <td>1977</td>\n",
       "      <td>17849.0</td>\n",
       "      <td>NaN</td>\n",
       "      <td>559</td>\n",
       "    </tr>\n",
       "    <tr>\n",
       "      <th>17845</th>\n",
       "      <td>10</td>\n",
       "      <td>mn1850_10_73.9958_40.7154</td>\n",
       "      <td>1982</td>\n",
       "      <td>17849.0</td>\n",
       "      <td>NaN</td>\n",
       "      <td>561</td>\n",
       "    </tr>\n",
       "    <tr>\n",
       "      <th>17846</th>\n",
       "      <td>10</td>\n",
       "      <td>mn1850_10_73.9958_40.7154</td>\n",
       "      <td>1983</td>\n",
       "      <td>17849.0</td>\n",
       "      <td>NaN</td>\n",
       "      <td>561</td>\n",
       "    </tr>\n",
       "    <tr>\n",
       "      <th>17848</th>\n",
       "      <td>10</td>\n",
       "      <td>mn1850_10_73.9958_40.7154</td>\n",
       "      <td>1985</td>\n",
       "      <td>17849.0</td>\n",
       "      <td>NaN</td>\n",
       "      <td>561</td>\n",
       "    </tr>\n",
       "    <tr>\n",
       "      <th>17849</th>\n",
       "      <td>10</td>\n",
       "      <td>mn1850_10_73.9958_40.7154</td>\n",
       "      <td>1986</td>\n",
       "      <td>17849.0</td>\n",
       "      <td>NaN</td>\n",
       "      <td>561</td>\n",
       "    </tr>\n",
       "    <tr>\n",
       "      <th>17850</th>\n",
       "      <td>10</td>\n",
       "      <td>mn1850_10_73.9932_40.7147</td>\n",
       "      <td>1987</td>\n",
       "      <td>17850.0</td>\n",
       "      <td>NaN</td>\n",
       "      <td>561</td>\n",
       "    </tr>\n",
       "    <tr>\n",
       "      <th>17852</th>\n",
       "      <td>10</td>\n",
       "      <td>mn1850_10_73.9949_40.7151</td>\n",
       "      <td>1989</td>\n",
       "      <td>17857.0</td>\n",
       "      <td>NaN</td>\n",
       "      <td>562</td>\n",
       "    </tr>\n",
       "    <tr>\n",
       "      <th>17854</th>\n",
       "      <td>10</td>\n",
       "      <td>mn1850_10_73.9949_40.7151</td>\n",
       "      <td>1991</td>\n",
       "      <td>17857.0</td>\n",
       "      <td>NaN</td>\n",
       "      <td>562</td>\n",
       "    </tr>\n",
       "    <tr>\n",
       "      <th>17855</th>\n",
       "      <td>10</td>\n",
       "      <td>mn1850_10_73.9949_40.7151</td>\n",
       "      <td>1992</td>\n",
       "      <td>17857.0</td>\n",
       "      <td>NaN</td>\n",
       "      <td>562</td>\n",
       "    </tr>\n",
       "    <tr>\n",
       "      <th>17856</th>\n",
       "      <td>10</td>\n",
       "      <td>mn1850_10_73.9949_40.7151</td>\n",
       "      <td>1993</td>\n",
       "      <td>17857.0</td>\n",
       "      <td>NaN</td>\n",
       "      <td>563</td>\n",
       "    </tr>\n",
       "    <tr>\n",
       "      <th>17857</th>\n",
       "      <td>10</td>\n",
       "      <td>mn1850_10_73.9949_40.7151</td>\n",
       "      <td>1994</td>\n",
       "      <td>17857.0</td>\n",
       "      <td>NaN</td>\n",
       "      <td>563</td>\n",
       "    </tr>\n",
       "    <tr>\n",
       "      <th>17858</th>\n",
       "      <td>10</td>\n",
       "      <td>mn1850_10_73.9903_40.7187</td>\n",
       "      <td>1995</td>\n",
       "      <td>17858.0</td>\n",
       "      <td>NaN</td>\n",
       "      <td>563</td>\n",
       "    </tr>\n",
       "  </tbody>\n",
       "</table>\n",
       "</div>"
      ],
      "text/plain": [
       "       CENSUS_WARD_NUM               CD_BLOCK_NUM  dwelling_id  sequence_id  \\\n",
       "17840               10  mn1850_10_73.9958_40.7154         1977      17849.0   \n",
       "17845               10  mn1850_10_73.9958_40.7154         1982      17849.0   \n",
       "17846               10  mn1850_10_73.9958_40.7154         1983      17849.0   \n",
       "17848               10  mn1850_10_73.9958_40.7154         1985      17849.0   \n",
       "17849               10  mn1850_10_73.9958_40.7154         1986      17849.0   \n",
       "17850               10  mn1850_10_73.9932_40.7147         1987      17850.0   \n",
       "17852               10  mn1850_10_73.9949_40.7151         1989      17857.0   \n",
       "17854               10  mn1850_10_73.9949_40.7151         1991      17857.0   \n",
       "17855               10  mn1850_10_73.9949_40.7151         1992      17857.0   \n",
       "17856               10  mn1850_10_73.9949_40.7151         1993      17857.0   \n",
       "17857               10  mn1850_10_73.9949_40.7151         1994      17857.0   \n",
       "17858               10  mn1850_10_73.9903_40.7187         1995      17858.0   \n",
       "\n",
       "       enum_dist_id  CENSUS_PAGENUM  \n",
       "17840           NaN             559  \n",
       "17845           NaN             561  \n",
       "17846           NaN             561  \n",
       "17848           NaN             561  \n",
       "17849           NaN             561  \n",
       "17850           NaN             561  \n",
       "17852           NaN             562  \n",
       "17854           NaN             562  \n",
       "17855           NaN             562  \n",
       "17856           NaN             563  \n",
       "17857           NaN             563  \n",
       "17858           NaN             563  "
      ]
     },
     "execution_count": 19,
     "metadata": {},
     "output_type": "execute_result"
    }
   ],
   "source": [
    "## check if sequence_id or enum_dist_id is NaN when the other is not. Should not happen\n",
    "temp = all_dwellings_3[[ward_col, block_col, dwelling_col, 'sequence_id', 'enum_dist_id', pagenum]]\n",
    "temp.loc[(~temp['sequence_id'].isnull()) & (temp['enum_dist_id'].isnull())]"
   ]
  },
  {
   "cell_type": "markdown",
   "metadata": {},
   "source": [
    "## Result"
   ]
  },
  {
   "cell_type": "code",
   "execution_count": 20,
   "metadata": {},
   "outputs": [
    {
     "name": "stdout",
     "output_type": "stream",
     "text": [
      "\n",
      "Total number of Dwellings:  38560 \n",
      "\n",
      "Maximum of 15 dwellings between\n",
      "Number of dwellings that would be assigned a block: 6086\n",
      "Proportion increase dwellings assigned a block: 0.15783 \n",
      "\n",
      "Maximum of 15 dwellings between\n",
      "Number of dwellings that would be assigned a block: 5991\n",
      "Proportion increase dwellings assigned a block: 0.15537 \n",
      "\n",
      "Maximum of 15 dwellings between\n",
      "Number of dwellings that would be assigned a block: 4830\n",
      "Proportion increase dwellings assigned a block: 0.12526 \n",
      "\n",
      "Maximum of 15 dwellings between\n",
      "Number of dwellings that would be assigned a block: 4358\n",
      "Proportion increase dwellings assigned a block: 0.11302 \n",
      "\n"
     ]
    }
   ],
   "source": [
    "total_num_dwellings = census_all_dwellings.groupby([ward_col, dwelling_col]).ngroups\n",
    "known_num_dwellings = census_all_dwellings.loc[~census_all_dwellings[block_col].isnull()].groupby([ward_col, dwelling_col]).ngroups\n",
    "\n",
    "all_dwelling_list = [all_dwellings_1,all_dwellings_2, all_dwellings_3, all_dwellings_4]\n",
    "in_between_num = 15\n",
    "num_assigned_dwelling = []\n",
    "\n",
    "print('\\nTotal number of Dwellings: ',total_num_dwellings, '\\n')\n",
    "for all_dwelling_x in all_dwelling_list:\n",
    "    ##interpolated portion\n",
    "    total_assigned_dwellings = all_dwelling_x.loc[~all_dwelling_x[block_col].isnull()].groupby([ward_col, dwelling_col]).ngroups\n",
    "#     total_assigned_dwellings = with_block_num_dwellings.shape[0]\n",
    "    num_assigned_dwelling.append(round((total_assigned_dwellings - known_num_dwellings)/total_num_dwellings, 5))\n",
    "    \n",
    "    print(\"Maximum of {} dwellings between\".format(str(in_between_num)))\n",
    "    print(\"Number of dwellings that would be assigned a block:\", total_assigned_dwellings - known_num_dwellings)\n",
    "    print(\"Proportion increase dwellings assigned a block:\", round((total_assigned_dwellings - known_num_dwellings)/total_num_dwellings, 5), \"\\n\")\n"
   ]
  },
  {
   "cell_type": "code",
   "execution_count": 21,
   "metadata": {},
   "outputs": [
    {
     "data": {
      "text/plain": [
       "Text(0.5, 1.0, 'Increase Proportion of Dwellings assigned a block')"
      ]
     },
     "execution_count": 21,
     "metadata": {},
     "output_type": "execute_result"
    },
    {
     "data": {
      "image/png": "[encoded data removed]",
      "text/plain": [
       "<Figure size 360x216 with 1 Axes>"
      ]
     },
     "metadata": {
      "needs_background": "light"
     },
     "output_type": "display_data"
    }
   ],
   "source": [
    "fig, ax = plt.subplots(1,1, figsize=(5,3))\n",
    "ax.barh(['Block Num', 'Block Num + Distance', 'Block Num + Distance + Enum_Dist', 'Block Num + All Sequences'], num_assigned_dwelling)\n",
    "# ax.scatter(num_between, num_assigned_dwelling)\n",
    "ax.set_title(\"Increase Proportion of Dwellings assigned a block\")"
   ]
  },
  {
   "cell_type": "markdown",
   "metadata": {},
   "source": [
    "## Proportion increased by wards"
   ]
  },
  {
   "cell_type": "code",
   "execution_count": 22,
   "metadata": {},
   "outputs": [
    {
     "data": {
      "text/plain": [
       "<matplotlib.legend.Legend at 0x1231a46d8>"
      ]
     },
     "execution_count": 22,
     "metadata": {},
     "output_type": "execute_result"
    },
    {
     "data": {
      "image/png": "[encoded data removed]",
      "text/plain": [
       "<Figure size 720x360 with 1 Axes>"
      ]
     },
     "metadata": {
      "needs_background": "light"
     },
     "output_type": "display_data"
    }
   ],
   "source": [
    "total_num_dwellings = census_all_dwellings.groupby(ward_col)[dwelling_col].agg('nunique')\n",
    "known_num_dwellings = census_all_dwellings.loc[~census_all_dwellings[block_col].isnull()].groupby(ward_col)[dwelling_col].agg('nunique')\n",
    "\n",
    "fig, ax = plt.subplots(1,1, figsize=(10, 5))\n",
    "for i in range(4): \n",
    "    \n",
    "    assigned_num_dwellings = all_dwelling_list[i].loc[~all_dwelling_list[i][block_col].isnull()].groupby(ward_col)[dwelling_col].agg('nunique')\n",
    "    additional_assigned_dwellings = assigned_num_dwellings - known_num_dwellings\n",
    "    increase_proportion = additional_assigned_dwellings/total_num_dwellings\n",
    "    \n",
    "    ax.scatter(increase_proportion.index, increase_proportion.values, label=f'Restriction {i+1}')\n",
    "    ax.plot(increase_proportion.index, increase_proportion.values)\n",
    "    \n",
    "ax.set_title(f'Proportion Increase from Interpolation')\n",
    "ax.set_xlabel('Ward')\n",
    "ax.legend()"
   ]
  },
  {
   "cell_type": "markdown",
   "metadata": {},
   "source": [
    "## Take a look at where they differ"
   ]
  },
  {
   "cell_type": "markdown",
   "metadata": {},
   "source": [
    "### 1 vs 2"
   ]
  },
  {
   "cell_type": "code",
   "execution_count": null,
   "metadata": {},
   "outputs": [],
   "source": [
    "(all_dwellings_1[block_col].replace(np.nan, -1) != all_dwellings_2[block_col].replace(np.nan, -1)).sum()"
   ]
  },
  {
   "cell_type": "code",
   "execution_count": null,
   "metadata": {},
   "outputs": [],
   "source": [
    "np.where(all_dwellings_1[block_col].replace(np.nan, -1) != all_dwellings_2[block_col].replace(np.nan, -1))"
   ]
  },
  {
   "cell_type": "code",
   "execution_count": null,
   "metadata": {},
   "outputs": [],
   "source": [
    "## sample of where they are different\n",
    "all_dwellings_2[[ward_col, 'dwelling_id', block_col, 'sequence_id']].iloc[4685:4695]"
   ]
  },
  {
   "cell_type": "code",
   "execution_count": null,
   "metadata": {},
   "outputs": [],
   "source": [
    "## sample of where they are different\n",
    "all_dwellings_2[[ward_col, 'dwelling_id', block_col, 'sequence_id']].iloc[25645:25660]"
   ]
  },
  {
   "cell_type": "markdown",
   "metadata": {},
   "source": [
    "### 2 vs 3"
   ]
  },
  {
   "cell_type": "code",
   "execution_count": null,
   "metadata": {},
   "outputs": [],
   "source": [
    "(all_dwellings_3[block_col].replace(np.nan, -1) != all_dwellings_2[block_col].replace(np.nan, -1)).sum()"
   ]
  },
  {
   "cell_type": "code",
   "execution_count": null,
   "metadata": {},
   "outputs": [],
   "source": [
    "np.where(all_dwellings_3[block_col].replace(np.nan, -1) != all_dwellings_2[block_col].replace(np.nan, -1))[0][100:200]"
   ]
  },
  {
   "cell_type": "code",
   "execution_count": null,
   "metadata": {},
   "outputs": [],
   "source": [
    "## sample of where they are different\n",
    "all_dwellings_3[[ward_col, 'dwelling_id', block_col, 'sequence_id', 'enum_dist_id']].iloc[490:505]"
   ]
  },
  {
   "cell_type": "markdown",
   "metadata": {},
   "source": [
    "* there are 2 same known block number before and after the unknown. We are more confident to fill down in this case. Using enum_dist_id fails to capture this.\n"
   ]
  },
  {
   "cell_type": "code",
   "execution_count": null,
   "metadata": {},
   "outputs": [],
   "source": [
    "## sample of where they are different\n",
    "all_dwellings_3[[ward_col, 'dwelling_id', block_col, 'sequence_id', 'enum_dist_id']].iloc[3575:3595]#36163"
   ]
  },
  {
   "cell_type": "markdown",
   "metadata": {},
   "source": [
    "* Quesionable fill down"
   ]
  },
  {
   "cell_type": "markdown",
   "metadata": {},
   "source": [
    "# 2. Distance Threshold for distance sequence\n",
    "# 3. In Between Num dwelling"
   ]
  },
  {
   "cell_type": "code",
   "execution_count": null,
   "metadata": {},
   "outputs": [],
   "source": [
    "distance_threshold = [0.05, 0.1, 0.2, 0.3, 0.4]\n",
    "in_between_num_list = [5, 10, 20, 25,40, None]\n",
    "result_inbetween_num = {}\n",
    "for in_between_num in in_between_num_list:\n",
    "    result_max_distance = {}\n",
    "    for max_dist in distance_threshold:\n",
    "\n",
    "        census_enum_seq.apply_sequencing(enumerator_dist = True, dwelling = True, \n",
    "                                         fixed = True, distance = True, d = max_dist)\n",
    "\n",
    "        census_all_dwellings = census_enum_seq.df.groupby([ward_col, dwelling_col], as_index = False).first()\n",
    "        dwellings_sequence = census_all_dwellings.dropna(subset=[block_col])\n",
    "\n",
    "        ## 1. Get dwellings that are followed by unknown dwellings whose block num can be interpolated\n",
    "        ## dwellings_sequence => known dwellings\n",
    "        dwelling_sequence_sames = interpolation.same_next(dwellings_sequence, column = block_col)\n",
    "\n",
    "        \"\"\"\n",
    "        2. Merge dwelling_sequence_sames back to all known dwelling df so that `BLOCK_NUM_next` and \n",
    "        `num_between_real` are included in df of all known dwellings.\n",
    "        \"\"\"\n",
    "        dwellings_sequence_with_next_info = dwellings_sequence.merge(dwelling_sequence_sames[[ward_col, dwelling_col,\n",
    "                                                                                block_col+'_next', \n",
    "                                                                                              'num_between_real',\n",
    "                                                                                              'header']], \n",
    "                                                                     on=[ward_col, dwelling_col], how='left')\n",
    "\n",
    "        all_dwellings = dataprocessing.all_dwellings_sequenced(census_all_dwellings, dwellings_sequence_with_next_info, \n",
    "                                                               block_col = block_col, fill_column = block_col,\n",
    "                                                               check_column = [block_col, 'sequence_id'], ward_col = ward_col, \n",
    "                                                                 dwelling_col = dwelling_col, dwelling_max = in_between_num)\n",
    "        result_max_distance[max_dist] = all_dwellings\n",
    "    result_inbetween_num[in_between_num] = result_max_distance\n"
   ]
  },
  {
   "cell_type": "code",
   "execution_count": null,
   "metadata": {},
   "outputs": [],
   "source": [
    "\n",
    "marginal_proportion_inbetween = []\n",
    "for ibtwnum, result in result_inbetween_num.items():\n",
    "    marginal_proportion_max_dist = {}\n",
    "    for max_dist, current_all_dwellings in result.items():\n",
    "        ##interpolated portion\n",
    "        total_num_dwellings = current_all_dwellings.groupby(ward_col)[dwelling_col].agg('nunique')\n",
    "        known_num_dwellings = current_all_dwellings.loc[~census_all_dwellings[block_col].isnull()].groupby(ward_col)[dwelling_col].agg('nunique')\n",
    "        total_assigned_dwellings = current_all_dwellings.loc[~current_all_dwellings[block_col].isnull()].groupby(ward_col)[dwelling_col].agg('nunique')\n",
    "        marginal_proportion_max_dist[max_dist] = round((total_assigned_dwellings - known_num_dwellings)/total_num_dwellings, 5)\n",
    "    \n",
    "    marginal_proportion_inbetween.append(pd.DataFrame(marginal_proportion_max_dist).reset_index())\n",
    "\n",
    "# print(\"Maximum of {} miles between each dwelling in a sequence\".format(str(max_dist)))\n",
    "# print(\"Maximum of {} dwellings in between\".format(str(in_between_num)))\n",
    "# print(\"Number of dwellings that would be assigned a block:\", total_assigned_dwellings - known_num_dwellings)\n",
    "# print(\"Proportion increase dwellings assigned a block:\", round((total_assigned_dwellings - known_num_dwellings)/total_num_dwellings, 5), \"\\n\")\n",
    "\n",
    "# result_inbetween_distthreshold[in_between_num] = result_list"
   ]
  },
  {
   "cell_type": "code",
   "execution_count": null,
   "metadata": {},
   "outputs": [],
   "source": [
    "result_list = []\n",
    "for i in range(len(in_between_num_list)):\n",
    "    temp = marginal_proportion_inbetween[i]\n",
    "    temp['in_between_num'] = in_between_num_list[i]\n",
    "    result_list.append(temp)\n",
    "grid_search_summary = pd.concat(result_list, axis=0)\n",
    "# grid_search_summary.reset_index(inplace=True)"
   ]
  },
  {
   "cell_type": "code",
   "execution_count": null,
   "metadata": {},
   "outputs": [],
   "source": [
    "grid_search_summary"
   ]
  },
  {
   "cell_type": "code",
   "execution_count": null,
   "metadata": {},
   "outputs": [],
   "source": [
    "marginal_proportion_inbetween[0]"
   ]
  },
  {
   "cell_type": "code",
   "execution_count": null,
   "metadata": {},
   "outputs": [],
   "source": [
    "fig, ax = plt.subplots(len(distance_threshold), 1, figsize=(7, 15))\n",
    "for i in range(len(distance_threshold)):\n",
    "    dist = distance_threshold[i]\n",
    "    current_summ = grid_search_summary[['CENSUS_WARD_NUM', dist, 'in_between_num']]\n",
    "    for inbtw_num in in_between_num_list:\n",
    "        current_summ_2 = current_summ.loc[current_summ['in_between_num'] == inbtw_num]\n",
    "        ax[i].scatter(current_summ_2['CENSUS_WARD_NUM'], current_summ_2[dist], \n",
    "                      label = f'inbtw_num = {inbtw_num}')\n",
    "        ax[i].plot(current_summ_2['CENSUS_WARD_NUM'], current_summ_2[dist])\n",
    "    ax[i].set_title(f'distance treshold {dist}')\n",
    "    ax[i].legend(bbox_to_anchor=(1.05, 1), loc='upper left')"
   ]
  },
  {
   "cell_type": "markdown",
   "metadata": {},
   "source": [
    "* once the number between two known dwellings is over 5, there is not much difference in how much we can interpolate.\n",
    "* if the threshold of 10 makes sense intuitively, **setting the number to 10 is recommended**, as the interpolation does not improve much and the smaller the threshold, the less likely mis-interpolation"
   ]
  },
  {
   "cell_type": "code",
   "execution_count": null,
   "metadata": {},
   "outputs": [],
   "source": [
    "fig, ax = plt.subplots(len(in_between_num_list), 1, figsize=(7, 18))\n",
    "for i in range(len(in_between_num_list)):\n",
    "    current_summary = marginal_proportion_inbetween[i]\n",
    "    for max_dist in distance_threshold:\n",
    "        ax[i].scatter(current_summary['CENSUS_WARD_NUM'], current_summary[max_dist], \n",
    "                      label = f'max_dist={max_dist}')\n",
    "        ax[i].plot(current_summary['CENSUS_WARD_NUM'], current_summary[max_dist])\n",
    "    ax[i].set_title(f'in_between_num = {in_between_num_list[i]}')\n",
    "    ax[i].legend(bbox_to_anchor=(1.05, 1), loc='upper left')\n",
    " "
   ]
  },
  {
   "cell_type": "markdown",
   "metadata": {},
   "source": [
    "* max_dist when generating distance sequence does not producing alarmingly different interpolation result, given in_between_num.\n",
    "* Once the distance threshold is over 0.05 miles, the interpolation rate is not much different\n",
    "* The value of the threshold can **solely depend on how we want the distance sequence to be**. Threshold = 0.25 generates the most even sequences (sequence length across the data)."
   ]
  },
  {
   "cell_type": "code",
   "execution_count": null,
   "metadata": {},
   "outputs": [],
   "source": []
  }
 ],
 "metadata": {
  "kernelspec": {
   "display_name": "Python 3",
   "language": "python",
   "name": "python3"
  },
  "language_info": {
   "codemirror_mode": {
    "name": "ipython",
    "version": 3
   },
   "file_extension": ".py",
   "mimetype": "text/x-python",
   "name": "python",
   "nbconvert_exporter": "python",
   "pygments_lexer": "ipython3",
   "version": "3.7.3"
  }
 },
 "nbformat": 4,
 "nbformat_minor": 4
}
