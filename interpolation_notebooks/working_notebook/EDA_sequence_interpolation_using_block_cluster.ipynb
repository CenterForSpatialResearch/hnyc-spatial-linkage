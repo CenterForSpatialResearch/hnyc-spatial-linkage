{
 "cells": [
  {
   "cell_type": "markdown",
   "metadata": {},
   "source": [
    "## Sequence Interpolation using block cluster\n",
    "\n",
    "This notebook focuses on distance sequence and enumeration distance sequence. Fixed and Dwelling seqeunces are generated using the property of the census data. Thus, they are not missing from all records. Distance and Enumeration Distance are shown to be important features in the model phase.\n",
    "\n",
    "**Criterion**: interpolate dwellings with missing sequence if they are in between 2 dwellings of the same **block cluster**. **The analysis is only on ward 10**"
   ]
  },
  {
   "cell_type": "code",
   "execution_count": 45,
   "metadata": {},
   "outputs": [
    {
     "name": "stdout",
     "output_type": "stream",
     "text": [
      "The autoreload extension is already loaded. To reload it, use:\n",
      "  %reload_ext autoreload\n"
     ]
    }
   ],
   "source": [
    "import os\n",
    "import sys\n",
    "module_path = os.path.abspath(os.path.join('../..'))\n",
    "if module_path not in sys.path:\n",
    "    sys.path.append(module_path)\n",
    "%load_ext autoreload\n",
    "%autoreload 2\n",
    "import pandas as pd\n",
    "import numpy as np\n",
    "import matplotlib.pyplot as plt\n",
    "from interpolation import interpolation, CensusData, dataprocessing, sequences\n",
    "from interpolation import CensusData, CentroidInterpolator\n",
    "from interpolation import disambiguation_analysis as da\n",
    "\n",
    "from kmodes.kmodes import KModes\n",
    "from sklearn.compose import ColumnTransformer\n",
    "# from sklearn.preprocessing import OneHotEncoder\n",
    "from sklearn.pipeline import Pipeline\n",
    "from category_encoders.target_encoder import TargetEncoder\n",
    "from xgboost import XGBClassifier\n",
    "from sklearn.cluster import KMeans\n",
    "# from sklearn.preprocessing import OrdinalEncoder\n",
    "from sklearn.compose import make_column_transformer\n",
    "from sklearn.ensemble import RandomForestClassifier"
   ]
  },
  {
   "cell_type": "code",
   "execution_count": 46,
   "metadata": {},
   "outputs": [],
   "source": [
    "ward_col = \"CENSUS_WARD_NUM\"\n",
    "dwelling_col = \"dwelling_id\"\n",
    "block_col = \"CD_BLOCK_NUM\"\n",
    "cd_ward_col = \"CD_WARD_NUM\"\n",
    "cd_block_col = \"CD_BLOCK_NUM\"\n",
    "dwelling_num_col = \"CENSUS_DWELLING_NUM\"\n",
    "cd_address = \"CD_H_ADDRESS\"\n",
    "pagenum = \"CENSUS_PAGENUM\"\n",
    "x_col = \"CD_X\"\n",
    "y_col = \"CD_Y\""
   ]
  },
  {
   "cell_type": "code",
   "execution_count": 47,
   "metadata": {},
   "outputs": [],
   "source": [
    "census_enumerators = pd.read_csv('../../data/1850_census_enumerators_120820.csv')\n",
    "census_enumerators = census_enumerators.loc[census_enumerators[ward_col] == 10]"
   ]
  },
  {
   "cell_type": "markdown",
   "metadata": {},
   "source": [
    "## Generate sequences"
   ]
  },
  {
   "cell_type": "code",
   "execution_count": 48,
   "metadata": {},
   "outputs": [
    {
     "name": "stdout",
     "output_type": "stream",
     "text": [
      "d:  0.1\n"
     ]
    }
   ],
   "source": [
    "census_enum_seq = CensusData(census_enumerators, ward_col=ward_col, dwelling_col=dwelling_col, \n",
    "                             block_col =  block_col, x_col = x_col, y_col = y_col, pagenum = pagenum)\n",
    "census_enum_seq.apply_sequencing(enumerator_dist = True, dwelling = True, \n",
    "                                 fixed = True, distance = True, d=0.1)"
   ]
  },
  {
   "cell_type": "markdown",
   "metadata": {},
   "source": [
    "## Apply clustering"
   ]
  },
  {
   "cell_type": "code",
   "execution_count": 49,
   "metadata": {},
   "outputs": [],
   "source": [
    "cd_1850 = pd.read_csv(\"../../data/cd_1850_mn_20200918.csv\") #For calculating centroids\n",
    "\n",
    "#set clustering algo -- this is to make sure that the same clustering algorithm is used\n",
    "#for each model, to ensure that testing is accurate\n",
    "#note fitting before hand won't work for all types of clustering, for example, with agglomerative\n",
    "#clustering this isn't going to work because the algorithm doesn't have a predict method\n",
    "block_centroids = {ward:{block:interpolation.make_centroid(df_block[x_col], df_block[y_col]) for block, df_block in df.groupby(block_col)} for ward,df in cd_1850.groupby('CD_WARD_NUM')}"
   ]
  },
  {
   "cell_type": "code",
   "execution_count": 50,
   "metadata": {},
   "outputs": [
    {
     "data": {
      "text/plain": [
       "Index(['CD_BLOCK_NUM', 'CD_H_ADDRESS', 'CD_X', 'CD_Y', 'CENSUS_AGE',\n",
       "       'CENSUS_CITY', 'CENSUS_DWELLING_NUM', 'CENSUS_DWELLING_SEQ',\n",
       "       'CENSUS_DWELLING_SIZE', 'CENSUS_FIRST_NAME', 'CENSUS_GENDER',\n",
       "       'CENSUS_GEOG', 'CENSUS_HH_NUM', 'CENSUS_IMPREL', 'CENSUS_INDEX',\n",
       "       'CENSUS_IPUMS_UID', 'CENSUS_LABFORCE', 'CENSUS_LAST_NAME',\n",
       "       'CENSUS_LINE', 'CENSUS_MARST', 'CENSUS_OCCUPATION', 'CENSUS_PAGENUM',\n",
       "       'CENSUS_RACE', 'CENSUS_REEL', 'CENSUS_SEQ_NUM', 'CENSUS_SERIAL',\n",
       "       'CENSUS_WARD_NUM', 'dwelling_id', 'spatial_weight',\n",
       "       'spatial_weight_sum', 'page_sequence_id', 'PLACE',\n",
       "       'CENSUS_ENUMERATOR_NUM', 'CENSUS_ENUMERATOR_DATE', 'ANCESTRY_REF',\n",
       "       'CENSUS_REEL_HOUSEHOLD', 'sequence_id', 'num_between',\n",
       "       'sequence_order_enum', 'dist', 'sequence_len', 'fixed_seq',\n",
       "       'dwelling_seq_id', 'enum_dist_id', 'enum_dist_order', 'enum_dist',\n",
       "       'enum_sequence_len'],\n",
       "      dtype='object')"
      ]
     },
     "execution_count": 50,
     "metadata": {},
     "output_type": "execute_result"
    }
   ],
   "source": [
    "census_enum_seq.df.columns"
   ]
  },
  {
   "cell_type": "code",
   "execution_count": 51,
   "metadata": {},
   "outputs": [],
   "source": [
    "all_cols = [\"CENSUS_SERIAL\", \"CENSUS_AGE\", \"CENSUS_PAGENUM\", \"CENSUS_GENDER\", \"CENSUS_RACE\", \n",
    "            \"sequence_id\", \"CENSUS_DWELLING_SIZE\",\"CENSUS_SEQ_NUM\", \"CENSUS_LABFORCE\", \"CENSUS_LINE\", \n",
    "            \"CENSUS_MARST\", \"CENSUS_FIRST_NAME\", \"CENSUS_LAST_NAME\", \"CENSUS_OCCUPATION\", \"CENSUS_IMPREL\",\n",
    "            \"sequence_order_enum\", 'CENSUS_DWELLING_SEQ', \"dwelling_seq_id\", \"fixed_seq\", \"enum_dist_id\", \n",
    "            \"enum_dist_order\"]\n",
    "\n",
    "transformer = ColumnTransformer(transformers=[('target', TargetEncoder(), all_cols)])\n",
    "# define pipeline\n",
    "pipeline = Pipeline(steps=[('preprocess', transformer), \n",
    "                           ('classifier',XGBClassifier(colsample_bytree = 0.6, max_depth = 2, \n",
    "                                                       n_estimators = 50))])"
   ]
  },
  {
   "cell_type": "code",
   "execution_count": 52,
   "metadata": {
    "scrolled": false
   },
   "outputs": [
    {
     "name": "stdout",
     "output_type": "stream",
     "text": [
      "n is 5 and it's the 10th iteration\n"
     ]
    },
    {
     "data": {
      "image/png": "[encoded data removed]",
      "text/plain": [
       "<Figure size 576x576 with 1 Axes>"
      ]
     },
     "metadata": {
      "needs_background": "light"
     },
     "output_type": "display_data"
    }
   ],
   "source": [
    "interpolate_sequences = CentroidInterpolator(census_enum_seq, 10, pipeline, all_cols,\n",
    "                                             KMeans(5), block_centroids)\n",
    "score, model = interpolate_sequences.kmeans_best(5)\n",
    "interpolate_sequences.set_clustering_algo(model)\n",
    "interpolate_sequences.apply_clustering(algo_fit = True)\n",
    "interpolate_sequences.clustervis(kmeans = True)"
   ]
  },
  {
   "cell_type": "code",
   "execution_count": 53,
   "metadata": {},
   "outputs": [],
   "source": [
    "ward = 10\n",
    "to_cluster = np.array(list(block_centroids[ward].values()))\n",
    "clusters = model.predict(to_cluster)\n",
    "block_num_to_cluster = {block_num: cluster for block_num, cluster in zip(block_centroids[ward].keys(), clusters)}"
   ]
  },
  {
   "cell_type": "code",
   "execution_count": 54,
   "metadata": {},
   "outputs": [],
   "source": [
    "census_enum_seq.df['cluster'] = [block_num_to_cluster[i] if i in block_num_to_cluster.keys() else np.nan for i in census_enum_seq.df[block_col]]"
   ]
  },
  {
   "cell_type": "markdown",
   "metadata": {},
   "source": [
    "## See how block clusters flow in the census data"
   ]
  },
  {
   "cell_type": "markdown",
   "metadata": {},
   "source": [
    "Keep only dwellings with known block clusters."
   ]
  },
  {
   "cell_type": "code",
   "execution_count": 55,
   "metadata": {},
   "outputs": [],
   "source": [
    "dwelling_cluster_df = census_enum_seq.df.copy()\n",
    "dwelling_cluster_df = dwelling_cluster_df.dropna(subset=['cluster'])"
   ]
  },
  {
   "cell_type": "code",
   "execution_count": 56,
   "metadata": {},
   "outputs": [
    {
     "data": {
      "text/plain": [
       "Text(0, 0.5, 'block cluster')"
      ]
     },
     "execution_count": 56,
     "metadata": {},
     "output_type": "execute_result"
    },
    {
     "data": {
      "image/png": "[encoded data removed]",
      "text/plain": [
       "<Figure size 432x288 with 1 Axes>"
      ]
     },
     "metadata": {
      "needs_background": "light"
     },
     "output_type": "display_data"
    }
   ],
   "source": [
    "fig, ax = plt.subplots(1,1)\n",
    "ax.scatter(dwelling_cluster_df.dwelling_id, dwelling_cluster_df.cluster, s=2)\n",
    "ax.set_xlabel('dwelling_id')\n",
    "ax.set_ylabel('block cluster')"
   ]
  },
  {
   "cell_type": "markdown",
   "metadata": {},
   "source": [
    "There are some intervals where close dwellings are in the same block cluster. This means that we should be able to recover sequences within a block cluster interval if applicable. "
   ]
  },
  {
   "cell_type": "code",
   "execution_count": 57,
   "metadata": {},
   "outputs": [],
   "source": [
    "dist_seq_col = 'sequence_id'\n",
    "dist_enum_col = 'enum_dist_id'"
   ]
  },
  {
   "cell_type": "markdown",
   "metadata": {},
   "source": [
    "## Fill in sequences by looking at sequences and block cluster"
   ]
  },
  {
   "cell_type": "markdown",
   "metadata": {},
   "source": [
    "### Distance sequence\n",
    "\n",
    "Goal: Fill in **Distance sequence**  \n",
    "Restriction: **Distance sequence** and **block cluster**\n"
   ]
  },
  {
   "cell_type": "code",
   "execution_count": 29,
   "metadata": {},
   "outputs": [],
   "source": [
    "census_all_dwellings = census_enum_seq.df.groupby([ward_col, dwelling_col], as_index = False).first()\n",
    "dwellings_sequence = census_all_dwellings.dropna(subset=[dist_seq_col])\n",
    "\n",
    "## 1. Get dwellings that are followed by no-sequence dwellings whose sequence can be interpolated\n",
    "## dwellings_sequence => dwellings with current_seq_col not missing\n",
    "dwelling_sequence_sames = interpolation.same_next(dwellings_sequence, column = dist_seq_col)\n",
    "# dwelling_sequence_sames = dwellings_sequence.groupby(ward_col).agg(interpolation.same_next, block_col)\n",
    "\n",
    "\"\"\"\n",
    "2. Merge dwelling_sequence_sames back to all known dwelling df so that `BLOCK_NUM_next` and \n",
    "`num_between_real` are included in df of all known dwellings.\n",
    "\"\"\"\n",
    "dwellings_sequence_with_next_info = dwellings_sequence.merge(dwelling_sequence_sames[[ward_col, dwelling_col,\n",
    "                                                                        dist_seq_col+'_next', \n",
    "                                                                                      'num_between_real',\n",
    "                                                                                      'header']], \n",
    "                                                             on=[ward_col, dwelling_col], how='left')\n",
    "\n",
    "## only check on sequence col\n",
    "all_dwellings_2_dist = dataprocessing.all_dwellings_sequenced(census_all_dwellings, dwellings_sequence_with_next_info, \n",
    "                                                       block_col = block_col, fill_column = dist_seq_col,\n",
    "                                                       check_column = ['cluster', dist_seq_col], ward_col = ward_col, \n",
    "                                                              dwelling_col = dwelling_col)\n",
    "## remove the other sequence col. To be filled later.\n",
    "all_dwellings_2_dist.drop(columns=[dist_enum_col], inplace=True)\n"
   ]
  },
  {
   "cell_type": "code",
   "execution_count": 30,
   "metadata": {},
   "outputs": [
    {
     "data": {
      "text/html": [
       "<div>\n",
       "<style scoped>\n",
       "    .dataframe tbody tr th:only-of-type {\n",
       "        vertical-align: middle;\n",
       "    }\n",
       "\n",
       "    .dataframe tbody tr th {\n",
       "        vertical-align: top;\n",
       "    }\n",
       "\n",
       "    .dataframe thead th {\n",
       "        text-align: right;\n",
       "    }\n",
       "</style>\n",
       "<table border=\"1\" class=\"dataframe\">\n",
       "  <thead>\n",
       "    <tr style=\"text-align: right;\">\n",
       "      <th></th>\n",
       "      <th>dwelling_id</th>\n",
       "      <th>cluster</th>\n",
       "      <th>sequence_id</th>\n",
       "    </tr>\n",
       "  </thead>\n",
       "  <tbody>\n",
       "    <tr>\n",
       "      <th>30</th>\n",
       "      <td>31</td>\n",
       "      <td>0.0</td>\n",
       "      <td>38.0</td>\n",
       "    </tr>\n",
       "    <tr>\n",
       "      <th>31</th>\n",
       "      <td>32</td>\n",
       "      <td>0.0</td>\n",
       "      <td>38.0</td>\n",
       "    </tr>\n",
       "    <tr>\n",
       "      <th>32</th>\n",
       "      <td>33</td>\n",
       "      <td>NaN</td>\n",
       "      <td>38.0</td>\n",
       "    </tr>\n",
       "    <tr>\n",
       "      <th>33</th>\n",
       "      <td>34</td>\n",
       "      <td>NaN</td>\n",
       "      <td>38.0</td>\n",
       "    </tr>\n",
       "    <tr>\n",
       "      <th>34</th>\n",
       "      <td>35</td>\n",
       "      <td>NaN</td>\n",
       "      <td>38.0</td>\n",
       "    </tr>\n",
       "    <tr>\n",
       "      <th>35</th>\n",
       "      <td>36</td>\n",
       "      <td>NaN</td>\n",
       "      <td>38.0</td>\n",
       "    </tr>\n",
       "    <tr>\n",
       "      <th>36</th>\n",
       "      <td>37</td>\n",
       "      <td>NaN</td>\n",
       "      <td>38.0</td>\n",
       "    </tr>\n",
       "    <tr>\n",
       "      <th>37</th>\n",
       "      <td>38</td>\n",
       "      <td>NaN</td>\n",
       "      <td>38.0</td>\n",
       "    </tr>\n",
       "    <tr>\n",
       "      <th>38</th>\n",
       "      <td>39</td>\n",
       "      <td>0.0</td>\n",
       "      <td>38.0</td>\n",
       "    </tr>\n",
       "    <tr>\n",
       "      <th>39</th>\n",
       "      <td>40</td>\n",
       "      <td>1.0</td>\n",
       "      <td>39.0</td>\n",
       "    </tr>\n",
       "    <tr>\n",
       "      <th>40</th>\n",
       "      <td>41</td>\n",
       "      <td>NaN</td>\n",
       "      <td>NaN</td>\n",
       "    </tr>\n",
       "    <tr>\n",
       "      <th>41</th>\n",
       "      <td>42</td>\n",
       "      <td>4.0</td>\n",
       "      <td>65.0</td>\n",
       "    </tr>\n",
       "    <tr>\n",
       "      <th>42</th>\n",
       "      <td>43</td>\n",
       "      <td>4.0</td>\n",
       "      <td>65.0</td>\n",
       "    </tr>\n",
       "    <tr>\n",
       "      <th>43</th>\n",
       "      <td>44</td>\n",
       "      <td>4.0</td>\n",
       "      <td>65.0</td>\n",
       "    </tr>\n",
       "    <tr>\n",
       "      <th>44</th>\n",
       "      <td>45</td>\n",
       "      <td>NaN</td>\n",
       "      <td>65.0</td>\n",
       "    </tr>\n",
       "    <tr>\n",
       "      <th>45</th>\n",
       "      <td>46</td>\n",
       "      <td>NaN</td>\n",
       "      <td>65.0</td>\n",
       "    </tr>\n",
       "    <tr>\n",
       "      <th>46</th>\n",
       "      <td>47</td>\n",
       "      <td>NaN</td>\n",
       "      <td>65.0</td>\n",
       "    </tr>\n",
       "    <tr>\n",
       "      <th>47</th>\n",
       "      <td>48</td>\n",
       "      <td>NaN</td>\n",
       "      <td>65.0</td>\n",
       "    </tr>\n",
       "    <tr>\n",
       "      <th>48</th>\n",
       "      <td>49</td>\n",
       "      <td>4.0</td>\n",
       "      <td>65.0</td>\n",
       "    </tr>\n",
       "    <tr>\n",
       "      <th>49</th>\n",
       "      <td>50</td>\n",
       "      <td>4.0</td>\n",
       "      <td>65.0</td>\n",
       "    </tr>\n",
       "    <tr>\n",
       "      <th>50</th>\n",
       "      <td>51</td>\n",
       "      <td>NaN</td>\n",
       "      <td>65.0</td>\n",
       "    </tr>\n",
       "    <tr>\n",
       "      <th>51</th>\n",
       "      <td>52</td>\n",
       "      <td>4.0</td>\n",
       "      <td>65.0</td>\n",
       "    </tr>\n",
       "    <tr>\n",
       "      <th>52</th>\n",
       "      <td>53</td>\n",
       "      <td>4.0</td>\n",
       "      <td>65.0</td>\n",
       "    </tr>\n",
       "    <tr>\n",
       "      <th>53</th>\n",
       "      <td>54</td>\n",
       "      <td>NaN</td>\n",
       "      <td>65.0</td>\n",
       "    </tr>\n",
       "    <tr>\n",
       "      <th>54</th>\n",
       "      <td>55</td>\n",
       "      <td>NaN</td>\n",
       "      <td>65.0</td>\n",
       "    </tr>\n",
       "    <tr>\n",
       "      <th>55</th>\n",
       "      <td>56</td>\n",
       "      <td>NaN</td>\n",
       "      <td>65.0</td>\n",
       "    </tr>\n",
       "    <tr>\n",
       "      <th>56</th>\n",
       "      <td>57</td>\n",
       "      <td>4.0</td>\n",
       "      <td>65.0</td>\n",
       "    </tr>\n",
       "    <tr>\n",
       "      <th>57</th>\n",
       "      <td>58</td>\n",
       "      <td>4.0</td>\n",
       "      <td>65.0</td>\n",
       "    </tr>\n",
       "    <tr>\n",
       "      <th>58</th>\n",
       "      <td>59</td>\n",
       "      <td>NaN</td>\n",
       "      <td>65.0</td>\n",
       "    </tr>\n",
       "    <tr>\n",
       "      <th>59</th>\n",
       "      <td>60</td>\n",
       "      <td>NaN</td>\n",
       "      <td>65.0</td>\n",
       "    </tr>\n",
       "  </tbody>\n",
       "</table>\n",
       "</div>"
      ],
      "text/plain": [
       "    dwelling_id  cluster  sequence_id\n",
       "30           31      0.0         38.0\n",
       "31           32      0.0         38.0\n",
       "32           33      NaN         38.0\n",
       "33           34      NaN         38.0\n",
       "34           35      NaN         38.0\n",
       "35           36      NaN         38.0\n",
       "36           37      NaN         38.0\n",
       "37           38      NaN         38.0\n",
       "38           39      0.0         38.0\n",
       "39           40      1.0         39.0\n",
       "40           41      NaN          NaN\n",
       "41           42      4.0         65.0\n",
       "42           43      4.0         65.0\n",
       "43           44      4.0         65.0\n",
       "44           45      NaN         65.0\n",
       "45           46      NaN         65.0\n",
       "46           47      NaN         65.0\n",
       "47           48      NaN         65.0\n",
       "48           49      4.0         65.0\n",
       "49           50      4.0         65.0\n",
       "50           51      NaN         65.0\n",
       "51           52      4.0         65.0\n",
       "52           53      4.0         65.0\n",
       "53           54      NaN         65.0\n",
       "54           55      NaN         65.0\n",
       "55           56      NaN         65.0\n",
       "56           57      4.0         65.0\n",
       "57           58      4.0         65.0\n",
       "58           59      NaN         65.0\n",
       "59           60      NaN         65.0"
      ]
     },
     "execution_count": 30,
     "metadata": {},
     "output_type": "execute_result"
    }
   ],
   "source": [
    "all_dwellings_2_dist[[dwelling_col, 'cluster', 'sequence_id']].iloc[30:60]\n"
   ]
  },
  {
   "cell_type": "markdown",
   "metadata": {},
   "source": [
    "### Enumeration Distance sequence\n",
    "\n",
    "Goal: Fill in **Enumeration Distance sequence**  \n",
    "Restriction: **Distance sequence** and **block cluster**\n"
   ]
  },
  {
   "cell_type": "code",
   "execution_count": 59,
   "metadata": {},
   "outputs": [],
   "source": [
    "census_all_dwellings = census_enum_seq.df.groupby([ward_col, dwelling_col], as_index = False).first()\n",
    "dwellings_sequence = census_all_dwellings.dropna(subset=[dist_enum_col])\n",
    "\n",
    "## 1. Get dwellings that are followed by no-sequence dwellings whose sequence can be interpolated\n",
    "## dwellings_sequence => dwellings with current_seq_col not missing\n",
    "dwelling_sequence_sames = interpolation.same_next(dwellings_sequence, column = dist_enum_col)\n",
    "# dwelling_sequence_sames = dwellings_sequence.groupby(ward_col).agg(interpolation.same_next, block_col)\n",
    "\n",
    "\"\"\"\n",
    "2. Merge dwelling_sequence_sames back to all known dwelling df so that `BLOCK_NUM_next` and \n",
    "`num_between_real` are included in df of all known dwellings.\n",
    "\"\"\"\n",
    "dwellings_sequence_with_next_info = dwellings_sequence.merge(dwelling_sequence_sames[[ward_col, dwelling_col,\n",
    "                                                                        dist_enum_col+'_next', \n",
    "                                                                                      'num_between_real',\n",
    "                                                                                      'header']], \n",
    "                                                             on=[ward_col, dwelling_col], how='left')\n",
    "\n",
    "## only check on sequence col\n",
    "all_dwellings_2_enum = dataprocessing.all_dwellings_sequenced(census_all_dwellings, dwellings_sequence_with_next_info, \n",
    "                                                       block_col = block_col, fill_column = dist_enum_col,\n",
    "                                                       check_column = ['cluster', dist_enum_col], ward_col = ward_col,\n",
    "                                                              dwelling_col = dwelling_col)\n",
    "## remove the other sequence col. To be filled later.\n",
    "all_dwellings_2_enum = all_dwellings_2_enum[[dwelling_col, dist_enum_col]]"
   ]
  },
  {
   "cell_type": "code",
   "execution_count": 65,
   "metadata": {},
   "outputs": [
    {
     "data": {
      "text/html": [
       "<div>\n",
       "<style scoped>\n",
       "    .dataframe tbody tr th:only-of-type {\n",
       "        vertical-align: middle;\n",
       "    }\n",
       "\n",
       "    .dataframe tbody tr th {\n",
       "        vertical-align: top;\n",
       "    }\n",
       "\n",
       "    .dataframe thead th {\n",
       "        text-align: right;\n",
       "    }\n",
       "</style>\n",
       "<table border=\"1\" class=\"dataframe\">\n",
       "  <thead>\n",
       "    <tr style=\"text-align: right;\">\n",
       "      <th></th>\n",
       "      <th>dwelling_id</th>\n",
       "      <th>sequence_id</th>\n",
       "      <th>cluster</th>\n",
       "    </tr>\n",
       "  </thead>\n",
       "  <tbody>\n",
       "    <tr>\n",
       "      <th>0</th>\n",
       "      <td>1</td>\n",
       "      <td>NaN</td>\n",
       "      <td>NaN</td>\n",
       "    </tr>\n",
       "    <tr>\n",
       "      <th>1</th>\n",
       "      <td>2</td>\n",
       "      <td>1.0</td>\n",
       "      <td>1.0</td>\n",
       "    </tr>\n",
       "    <tr>\n",
       "      <th>2</th>\n",
       "      <td>3</td>\n",
       "      <td>2.0</td>\n",
       "      <td>3.0</td>\n",
       "    </tr>\n",
       "    <tr>\n",
       "      <th>3</th>\n",
       "      <td>4</td>\n",
       "      <td>11.0</td>\n",
       "      <td>1.0</td>\n",
       "    </tr>\n",
       "    <tr>\n",
       "      <th>4</th>\n",
       "      <td>5</td>\n",
       "      <td>11.0</td>\n",
       "      <td>1.0</td>\n",
       "    </tr>\n",
       "    <tr>\n",
       "      <th>5</th>\n",
       "      <td>6</td>\n",
       "      <td>NaN</td>\n",
       "      <td>NaN</td>\n",
       "    </tr>\n",
       "    <tr>\n",
       "      <th>6</th>\n",
       "      <td>7</td>\n",
       "      <td>NaN</td>\n",
       "      <td>NaN</td>\n",
       "    </tr>\n",
       "    <tr>\n",
       "      <th>7</th>\n",
       "      <td>8</td>\n",
       "      <td>11.0</td>\n",
       "      <td>1.0</td>\n",
       "    </tr>\n",
       "    <tr>\n",
       "      <th>8</th>\n",
       "      <td>9</td>\n",
       "      <td>NaN</td>\n",
       "      <td>NaN</td>\n",
       "    </tr>\n",
       "    <tr>\n",
       "      <th>9</th>\n",
       "      <td>10</td>\n",
       "      <td>NaN</td>\n",
       "      <td>NaN</td>\n",
       "    </tr>\n",
       "  </tbody>\n",
       "</table>\n",
       "</div>"
      ],
      "text/plain": [
       "   dwelling_id  sequence_id  cluster\n",
       "0            1          NaN      NaN\n",
       "1            2          1.0      1.0\n",
       "2            3          2.0      3.0\n",
       "3            4         11.0      1.0\n",
       "4            5         11.0      1.0\n",
       "5            6          NaN      NaN\n",
       "6            7          NaN      NaN\n",
       "7            8         11.0      1.0\n",
       "8            9          NaN      NaN\n",
       "9           10          NaN      NaN"
      ]
     },
     "execution_count": 65,
     "metadata": {},
     "output_type": "execute_result"
    }
   ],
   "source": [
    "census_all_dwellings[['dwelling_id', dist_seq_col, 'cluster']].head(10)"
   ]
  },
  {
   "cell_type": "code",
   "execution_count": 67,
   "metadata": {},
   "outputs": [
    {
     "data": {
      "text/html": [
       "<div>\n",
       "<style scoped>\n",
       "    .dataframe tbody tr th:only-of-type {\n",
       "        vertical-align: middle;\n",
       "    }\n",
       "\n",
       "    .dataframe tbody tr th {\n",
       "        vertical-align: top;\n",
       "    }\n",
       "\n",
       "    .dataframe thead th {\n",
       "        text-align: right;\n",
       "    }\n",
       "</style>\n",
       "<table border=\"1\" class=\"dataframe\">\n",
       "  <thead>\n",
       "    <tr style=\"text-align: right;\">\n",
       "      <th></th>\n",
       "      <th>dwelling_id</th>\n",
       "      <th>sequence_id</th>\n",
       "      <th>cluster</th>\n",
       "    </tr>\n",
       "  </thead>\n",
       "  <tbody>\n",
       "    <tr>\n",
       "      <th>0</th>\n",
       "      <td>1</td>\n",
       "      <td>NaN</td>\n",
       "      <td>NaN</td>\n",
       "    </tr>\n",
       "    <tr>\n",
       "      <th>1</th>\n",
       "      <td>2</td>\n",
       "      <td>1.0</td>\n",
       "      <td>1.0</td>\n",
       "    </tr>\n",
       "    <tr>\n",
       "      <th>2</th>\n",
       "      <td>3</td>\n",
       "      <td>2.0</td>\n",
       "      <td>3.0</td>\n",
       "    </tr>\n",
       "    <tr>\n",
       "      <th>3</th>\n",
       "      <td>4</td>\n",
       "      <td>11.0</td>\n",
       "      <td>1.0</td>\n",
       "    </tr>\n",
       "    <tr>\n",
       "      <th>4</th>\n",
       "      <td>5</td>\n",
       "      <td>11.0</td>\n",
       "      <td>1.0</td>\n",
       "    </tr>\n",
       "    <tr>\n",
       "      <th>5</th>\n",
       "      <td>6</td>\n",
       "      <td>11.0</td>\n",
       "      <td>NaN</td>\n",
       "    </tr>\n",
       "    <tr>\n",
       "      <th>6</th>\n",
       "      <td>7</td>\n",
       "      <td>11.0</td>\n",
       "      <td>NaN</td>\n",
       "    </tr>\n",
       "    <tr>\n",
       "      <th>7</th>\n",
       "      <td>8</td>\n",
       "      <td>11.0</td>\n",
       "      <td>1.0</td>\n",
       "    </tr>\n",
       "    <tr>\n",
       "      <th>8</th>\n",
       "      <td>9</td>\n",
       "      <td>11.0</td>\n",
       "      <td>NaN</td>\n",
       "    </tr>\n",
       "    <tr>\n",
       "      <th>9</th>\n",
       "      <td>10</td>\n",
       "      <td>11.0</td>\n",
       "      <td>NaN</td>\n",
       "    </tr>\n",
       "  </tbody>\n",
       "</table>\n",
       "</div>"
      ],
      "text/plain": [
       "   dwelling_id  sequence_id  cluster\n",
       "0            1          NaN      NaN\n",
       "1            2          1.0      1.0\n",
       "2            3          2.0      3.0\n",
       "3            4         11.0      1.0\n",
       "4            5         11.0      1.0\n",
       "5            6         11.0      NaN\n",
       "6            7         11.0      NaN\n",
       "7            8         11.0      1.0\n",
       "8            9         11.0      NaN\n",
       "9           10         11.0      NaN"
      ]
     },
     "execution_count": 67,
     "metadata": {},
     "output_type": "execute_result"
    }
   ],
   "source": [
    "all_dwellings_2[['dwelling_id', dist_seq_col, 'cluster']].head(10)"
   ]
  },
  {
   "cell_type": "code",
   "execution_count": 64,
   "metadata": {
    "collapsed": true
   },
   "outputs": [
    {
     "data": {
      "text/plain": [
       "(array([   0,    5,    6,    8,    9,   10,   12,   13,   15,   17,   18,\n",
       "          22,   23,   24,   25,   26,   27,   28,   32,   33,   34,   35,\n",
       "          36,   37,   40,   44,   45,   46,   47,   50,   53,   54,   55,\n",
       "          58,   59,   60,   61,   62,   67,   68,   70,   71,   74,   75,\n",
       "          76,   77,   78,   79,   80,   81,   82,   83,   84,   86,   87,\n",
       "          88,   89,   90,   91,   94,   95,   97,   98,  100,  104,  106,\n",
       "         107,  118,  121,  125,  131,  133,  142,  145,  154,  163,  165,\n",
       "         167,  168,  169,  174,  178,  179,  181,  182,  183,  184,  187,\n",
       "         189,  191,  193,  194,  195,  198,  200,  201,  204,  208,  210,\n",
       "         211,  215,  217,  218,  220,  224,  227,  228,  231,  232,  236,\n",
       "         237,  238,  241,  242,  245,  246,  247,  248,  249,  250,  251,\n",
       "         253,  255,  259,  262,  263,  265,  266,  267,  268,  269,  270,\n",
       "         271,  275,  277,  278,  279,  288,  289,  290,  293,  296,  297,\n",
       "         303,  307,  311,  313,  314,  315,  319,  320,  324,  325,  327,\n",
       "         329,  332,  334,  336,  338,  344,  346,  347,  348,  349,  354,\n",
       "         358,  363,  364,  365,  366,  368,  370,  374,  376,  379,  381,\n",
       "         382,  384,  387,  388,  390,  391,  393,  394,  396,  400,  401,\n",
       "         402,  406,  410,  411,  416,  417,  419,  422,  424,  425,  427,\n",
       "         430,  434,  435,  439,  440,  444,  448,  451,  452,  453,  455,\n",
       "         457,  458,  465,  466,  467,  470,  471,  472,  476,  481,  485,\n",
       "         493,  497,  498,  499,  500,  501,  503,  506,  508,  510,  512,\n",
       "         514,  515,  517,  518,  519,  521,  523,  529,  530,  532,  533,\n",
       "         534,  537,  538,  539,  541,  543,  545,  546,  548,  552,  553,\n",
       "         558,  562,  563,  565,  567,  571,  572,  573,  575,  576,  582,\n",
       "         584,  592,  595,  598,  600,  604,  605,  606,  607,  609,  610,\n",
       "         616,  621,  622,  623,  625,  632,  633,  637,  638,  639,  640,\n",
       "         643,  645,  646,  650,  653,  657,  667,  670,  671,  672,  674,\n",
       "         675,  676,  678,  679,  680,  681,  684,  688,  694,  695,  697,\n",
       "         698,  702,  706,  707,  709,  710,  711,  712,  716,  719,  720,\n",
       "         721,  722,  727,  728,  731,  736,  741,  746,  748,  749,  752,\n",
       "         753,  756,  757,  759,  760,  762,  768,  769,  772,  773,  775,\n",
       "         778,  780,  785,  786,  787,  788,  789,  790,  791,  794,  797,\n",
       "         800,  805,  806,  812,  813,  815,  816,  819,  820,  824,  828,\n",
       "         830,  832,  835,  836,  838,  842,  844,  846,  849,  850,  852,\n",
       "         853,  856,  857,  861,  864,  866,  867,  868,  869,  870,  873,\n",
       "         874,  877,  878,  880,  881,  882,  885,  886,  888,  889,  890,\n",
       "         894,  896,  899,  901,  902,  905,  906,  910,  915,  916,  917,\n",
       "         918,  920,  922,  923,  925,  930,  931,  942,  948,  949,  952,\n",
       "         953,  954,  958,  959,  960,  961,  962,  965,  968,  972,  974,\n",
       "         977,  980,  981,  985,  987,  988,  990,  992,  993,  995,  997,\n",
       "         998,  999, 1000, 1001, 1004, 1005, 1011, 1012, 1013, 1014, 1023,\n",
       "        1024, 1025, 1026, 1028, 1029, 1031, 1032, 1033, 1034, 1035, 1037,\n",
       "        1038, 1039, 1040, 1041, 1045, 1046, 1049, 1051, 1052, 1054, 1059,\n",
       "        1062, 1063, 1066, 1071, 1078, 1079, 1080, 1081, 1083, 1084, 1088,\n",
       "        1089, 1090, 1091, 1092, 1093, 1095, 1096, 1097, 1098, 1099, 1100,\n",
       "        1102, 1103, 1107, 1108, 1109, 1110, 1111, 1113, 1114, 1115, 1116,\n",
       "        1117, 1118, 1120, 1121, 1122, 1123, 1124, 1125, 1127, 1128, 1129,\n",
       "        1131, 1132, 1134, 1136, 1137, 1139, 1141, 1142, 1145, 1147, 1148,\n",
       "        1149, 1150, 1151, 1153, 1154, 1156, 1157, 1158, 1159, 1160, 1161,\n",
       "        1163, 1164, 1165, 1170, 1172, 1173, 1174, 1176, 1177, 1183, 1184,\n",
       "        1185, 1186, 1187, 1188, 1189, 1190, 1191, 1192, 1193, 1194, 1196,\n",
       "        1198, 1199, 1200, 1205, 1210, 1211, 1213, 1214, 1215, 1216, 1217,\n",
       "        1220, 1226, 1228, 1229, 1231, 1238, 1241, 1244, 1245, 1250, 1252,\n",
       "        1254, 1255, 1256, 1259, 1260, 1262, 1263, 1264, 1265, 1266, 1267,\n",
       "        1268, 1269, 1270, 1271, 1272, 1273, 1276, 1277, 1279, 1282, 1285,\n",
       "        1287, 1289, 1291, 1292, 1295, 1296, 1297, 1299, 1305, 1306, 1313,\n",
       "        1315, 1316, 1321, 1324, 1325, 1327, 1328, 1330, 1332, 1334, 1335,\n",
       "        1339, 1341, 1348, 1351, 1354, 1359, 1360, 1363, 1366, 1369, 1370,\n",
       "        1371, 1372, 1375, 1376, 1377, 1378, 1379, 1380, 1381, 1384, 1386,\n",
       "        1388, 1391, 1393, 1395, 1400, 1401, 1406, 1408, 1409, 1414, 1417,\n",
       "        1424, 1425, 1432, 1434, 1435, 1442, 1445, 1447, 1448, 1451, 1452,\n",
       "        1462, 1463, 1465, 1469, 1471, 1472, 1473, 1474, 1478, 1482, 1485,\n",
       "        1486, 1494, 1499, 1514, 1525, 1526, 1530, 1531, 1537, 1542, 1546,\n",
       "        1548, 1549, 1551, 1552, 1553, 1555, 1556, 1558, 1560, 1563, 1564,\n",
       "        1565, 1567, 1574, 1575, 1579, 1580, 1584, 1587, 1590, 1591, 1592,\n",
       "        1595, 1597, 1601, 1602, 1608, 1611, 1615, 1616, 1617, 1622, 1625,\n",
       "        1626, 1627, 1635, 1636, 1638, 1639, 1645, 1646, 1647, 1650, 1652,\n",
       "        1653, 1654, 1655, 1657, 1660, 1670, 1672, 1673, 1675, 1682, 1684,\n",
       "        1685, 1686, 1687, 1693, 1697, 1701, 1704, 1710, 1711, 1712, 1715,\n",
       "        1717, 1722, 1725, 1730, 1734, 1740, 1742, 1743, 1744, 1745, 1746,\n",
       "        1747, 1748, 1749, 1751, 1752, 1755, 1760, 1768, 1771, 1772, 1773,\n",
       "        1779, 1780, 1782, 1783, 1788, 1789, 1790, 1791, 1792, 1793, 1797,\n",
       "        1798, 1802, 1803, 1804, 1805, 1807, 1814, 1815, 1816, 1820, 1821,\n",
       "        1824, 1825, 1833, 1834, 1835, 1837, 1838, 1839, 1840, 1841, 1843,\n",
       "        1844, 1846, 1847, 1848, 1849, 1850, 1851, 1852, 1853, 1854, 1855,\n",
       "        1856, 1857, 1858, 1860, 1862, 1864, 1865, 1868, 1870, 1872, 1875,\n",
       "        1878, 1880, 1885, 1886, 1887, 1889, 1890, 1894, 1895, 1904, 1911,\n",
       "        1912, 1913, 1914, 1915, 1916, 1917, 1919, 1921, 1922, 1924, 1925,\n",
       "        1926, 1928, 1931, 1932, 1933, 1934, 1938, 1939, 1940, 1941, 1942,\n",
       "        1943, 1944, 1946, 1947, 1948, 1949, 1950, 1952, 1953, 1955, 1957,\n",
       "        1961, 1964, 1965, 1969, 1971, 1972, 1973, 1974, 1975, 1977, 1978,\n",
       "        1979, 1980, 1983, 1987, 1989]),)"
      ]
     },
     "execution_count": 64,
     "metadata": {},
     "output_type": "execute_result"
    }
   ],
   "source": [
    "np.where(census_all_dwellings['sequence_id'].isnull())"
   ]
  },
  {
   "cell_type": "markdown",
   "metadata": {},
   "source": [
    "### merge interpolated sequence columns into one df"
   ]
  },
  {
   "cell_type": "code",
   "execution_count": 66,
   "metadata": {},
   "outputs": [
    {
     "name": "stdout",
     "output_type": "stream",
     "text": [
      "(1995, 51)\n",
      "(1995, 50)\n",
      "(1995, 2)\n"
     ]
    }
   ],
   "source": [
    "all_dwellings_2 = all_dwellings_2_dist.copy()\n",
    "all_dwellings_2[dist_enum_col] = all_dwellings_2_enum[dist_enum_col]\n",
    "print(all_dwellings_2.shape)\n",
    "print(all_dwellings_2_dist.shape)\n",
    "print(all_dwellings_2_enum.shape)"
   ]
  },
  {
   "cell_type": "markdown",
   "metadata": {},
   "source": [
    "## Result"
   ]
  },
  {
   "cell_type": "markdown",
   "metadata": {},
   "source": [
    "## Proportion increased by wards"
   ]
  },
  {
   "cell_type": "markdown",
   "metadata": {},
   "source": [
    "**The proportion of dwellings without addresses that have been assigned interpolated sequences to the total number of dwellings.**"
   ]
  },
  {
   "cell_type": "code",
   "execution_count": 68,
   "metadata": {},
   "outputs": [],
   "source": [
    "total_num_dwellings = census_all_dwellings.groupby(ward_col)[dwelling_col].agg('nunique')\n",
    "known_dist_num_dwellings = census_all_dwellings.loc[~census_all_dwellings[dist_seq_col].isnull()].groupby(ward_col)[dwelling_col].agg('nunique')\n",
    "known_distenum_num_dwellings = census_all_dwellings.loc[~census_all_dwellings[dist_enum_col].isnull()].groupby(ward_col)[dwelling_col].agg('nunique')"
   ]
  },
  {
   "cell_type": "code",
   "execution_count": 69,
   "metadata": {},
   "outputs": [],
   "source": [
    "def get_increase_prop(filled_df, filled_col, known_dwelling_by_ward, total_dwelling_by_ward):\n",
    "    assigned = filled_df.loc[~filled_df[filled_col].isnull()].groupby(ward_col)[dwelling_col].agg('nunique')\n",
    "    additional_assigned = assigned - known_dwelling_by_ward\n",
    "    return additional_assigned/total_dwelling_by_ward"
   ]
  },
  {
   "cell_type": "code",
   "execution_count": 70,
   "metadata": {},
   "outputs": [],
   "source": [
    "increase_prop_dist_2 = get_increase_prop(all_dwellings_2, 'sequence_id', known_dist_num_dwellings, total_num_dwellings)\n",
    "increase_prop_distenum_2 = get_increase_prop(all_dwellings_2, 'enum_dist_id', known_distenum_num_dwellings, total_num_dwellings)\n"
   ]
  },
  {
   "cell_type": "code",
   "execution_count": 71,
   "metadata": {},
   "outputs": [
    {
     "data": {
      "text/plain": [
       "CENSUS_WARD_NUM\n",
       "10    0.286216\n",
       "Name: dwelling_id, dtype: float64"
      ]
     },
     "execution_count": 71,
     "metadata": {},
     "output_type": "execute_result"
    }
   ],
   "source": [
    "increase_prop_dist_2"
   ]
  },
  {
   "cell_type": "code",
   "execution_count": 72,
   "metadata": {},
   "outputs": [
    {
     "data": {
      "text/plain": [
       "CENSUS_WARD_NUM\n",
       "10    0.258647\n",
       "Name: dwelling_id, dtype: float64"
      ]
     },
     "execution_count": 72,
     "metadata": {},
     "output_type": "execute_result"
    }
   ],
   "source": [
    "increase_prop_distenum_2"
   ]
  },
  {
   "cell_type": "markdown",
   "metadata": {},
   "source": [
    "When restricting on block clusters rather than block numbers:\n",
    "* Distance sequence interpolation: the proportion of additional assignment increase from ~0.2 to 0.29 when using block clusters \n",
    "* Distance Enumeration interpolation: from ~0.15 to 0.25"
   ]
  },
  {
   "cell_type": "markdown",
   "metadata": {},
   "source": [
    "**The proportion of dwellings without sequences after the interpolation to the total number of dwellings (with and without addresses).**"
   ]
  },
  {
   "cell_type": "code",
   "execution_count": 76,
   "metadata": {},
   "outputs": [
    {
     "name": "stdout",
     "output_type": "stream",
     "text": [
      "%dwelling missing distance sequence:  CENSUS_WARD_NUM\n",
      "10    0.162907\n",
      "Name: dwelling_id, dtype: float64\n",
      "%dwelling missing enumeration distance sequence:  CENSUS_WARD_NUM\n",
      "10    0.196491\n",
      "Name: dwelling_id, dtype: float64\n"
     ]
    }
   ],
   "source": [
    "print('%dwelling missing distance sequence: ', \n",
    "      all_dwellings_2.loc[all_dwellings_2['sequence_id'].isnull()].shape[0]\\\n",
    "      /total_num_dwellings)\n",
    "print('%dwelling missing enumeration distance sequence: ', \n",
    "      all_dwellings_2.loc[all_dwellings_2[dist_enum_col].isnull()].shape[0]\\\n",
    "      /total_num_dwellings) "
   ]
  },
  {
   "cell_type": "code",
   "execution_count": null,
   "metadata": {},
   "outputs": [],
   "source": []
  }
 ],
 "metadata": {
  "kernelspec": {
   "display_name": "Python 3",
   "language": "python",
   "name": "python3"
  },
  "language_info": {
   "codemirror_mode": {
    "name": "ipython",
    "version": 3
   },
   "file_extension": ".py",
   "mimetype": "text/x-python",
   "name": "python",
   "nbconvert_exporter": "python",
   "pygments_lexer": "ipython3",
   "version": "3.7.3"
  }
 },
 "nbformat": 4,
 "nbformat_minor": 4
}
