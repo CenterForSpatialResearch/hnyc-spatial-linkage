{
 "cells": [
  {
   "cell_type": "markdown",
   "metadata": {},
   "source": [
    "# Sample Code for Model Training (ward 10)\n",
    "\n",
    "* This notebook contains sample use of code for the model phase. This step has not been evaluated after I have updated the interpolation phase. The idea should be the similar. \n",
    "* Intended to be called after PROCESS_interpolation.ipynb (interpolation phase)\n",
    "* The model works on record-level\n",
    "* Currently similarity label has not been included. More thinking is needed for this feature."
   ]
  },
  {
   "cell_type": "code",
   "execution_count": 13,
   "metadata": {},
   "outputs": [
    {
     "name": "stdout",
     "output_type": "stream",
     "text": [
      "The autoreload extension is already loaded. To reload it, use:\n",
      "  %reload_ext autoreload\n"
     ]
    }
   ],
   "source": [
    "import os\n",
    "import sys\n",
    "module_path = os.path.abspath(os.path.join('../..'))\n",
    "if module_path not in sys.path:\n",
    "    sys.path.append(module_path)\n",
    "%load_ext autoreload\n",
    "%autoreload 2\n",
    "import pandas as pd\n",
    "import numpy as np\n",
    "from interpolation import CensusData, sequences, BlockInterpolator, CentroidInterpolator, archive, interpolation\n",
    "from sklearn.pipeline import Pipeline\n",
    "from category_encoders.target_encoder import TargetEncoder\n",
    "from xgboost import XGBClassifier\n",
    "from sklearn.cluster import KMeans, AgglomerativeClustering, DBSCAN\n",
    "from sklearn.preprocessing import OrdinalEncoder\n",
    "from sklearn.compose import make_column_transformer\n",
    "from sklearn.ensemble import RandomForestClassifier\n",
    "import matplotlib.pyplot as plt\n",
    "\n",
    "from kmodes.kmodes import KModes\n",
    "from sklearn.compose import ColumnTransformer\n",
    "from sklearn.preprocessing import OneHotEncoder\n"
   ]
  },
  {
   "cell_type": "markdown",
   "metadata": {},
   "source": [
    "## Read in data"
   ]
  },
  {
   "cell_type": "code",
   "execution_count": 14,
   "metadata": {},
   "outputs": [
    {
     "name": "stderr",
     "output_type": "stream",
     "text": [
      "//anaconda3/lib/python3.7/site-packages/IPython/core/interactiveshell.py:3051: DtypeWarning: Columns (31,32,33) have mixed types. Specify dtype option on import or set low_memory=False.\n",
      "  interactivity=interactivity, compiler=compiler, result=result)\n"
     ]
    }
   ],
   "source": [
    "#Change these values to rerun the notebook\n",
    "preprocessed_census = pd.read_csv('../../data/census_interpolated_1850_mn_20201219.csv')\n",
    "cd_1850 = pd.read_csv(\"../../data/cd_1850_mn_20200918.csv\")\n",
    "\n",
    "ward_col = \"CENSUS_WARD_NUM\"\n",
    "dwelling_col = \"dwelling_id\"\n",
    "block_col = \"CD_BLOCK_NUM\"\n",
    "cd_ward_col = \"CD_WARD_NUM\"\n",
    "cd_block_col = \"CD_BLOCK_NUM\"\n",
    "dwelling_num_col = \"CENSUS_DWELLING_NUM\"\n",
    "cd_address = \"CD_H_ADDRESS\"\n",
    "pagenum = \"CENSUS_PAGENUM\"\n",
    "x_col = \"CD_X\"\n",
    "y_col = \"CD_Y\"\n"
   ]
  },
  {
   "cell_type": "markdown",
   "metadata": {},
   "source": [
    "## Keep only part for the model\n",
    "\n",
    "* Remove records whose block numbers have previously been interpolated. This is to make sure that a mode is trained on correct data. However, this decision can be changed after some thinking/discussions \n",
    "* Remove records whose both distance seq and enum dist seq are not present (either empirically or interpolation). We can't do anything about them at this step."
   ]
  },
  {
   "cell_type": "code",
   "execution_count": 15,
   "metadata": {},
   "outputs": [],
   "source": [
    "preprocessed_census_model = preprocessed_census.loc[(preprocessed_census['filled_block_num'] == 0) &\n",
    "                                              (~preprocessed_census['sequence_id'].isnull()) &\n",
    "                                              (~preprocessed_census['enum_dist_id'].isnull())]\n"
   ]
  },
  {
   "cell_type": "code",
   "execution_count": 16,
   "metadata": {},
   "outputs": [
    {
     "name": "stdout",
     "output_type": "stream",
     "text": [
      "Total records:  515630\n",
      "Records used in the model:  9310\n"
     ]
    }
   ],
   "source": [
    "print('Total records: ', preprocessed_census.shape[0])\n",
    "print('Records used in the model: ', preprocessed_census_model.shape[0])"
   ]
  },
  {
   "cell_type": "code",
   "execution_count": 17,
   "metadata": {},
   "outputs": [],
   "source": [
    "#set clustering algo -- this is to make sure that the same clustering algorithm is used\n",
    "#for each model, to ensure that testing is accurate\n",
    "#note fitting before hand won't work for all types of clustering, for example, with agglomerative\n",
    "#clustering this isn't going to work because the algorithm doesn't have a predict method\n",
    "block_centroids = {ward:{block:interpolation.make_centroid(df_block[x_col], df_block[y_col]) for block, df_block in df.groupby(block_col)} for ward,df in cd_1850.groupby('CD_WARD_NUM')}"
   ]
  },
  {
   "cell_type": "markdown",
   "metadata": {},
   "source": [
    "## Only work with ward 10"
   ]
  },
  {
   "cell_type": "code",
   "execution_count": 18,
   "metadata": {},
   "outputs": [],
   "source": [
    "census_ward10 = preprocessed_census[preprocessed_census[ward_col] == 10]"
   ]
  },
  {
   "cell_type": "code",
   "execution_count": 19,
   "metadata": {},
   "outputs": [
    {
     "data": {
      "text/html": [
       "<div>\n",
       "<style scoped>\n",
       "    .dataframe tbody tr th:only-of-type {\n",
       "        vertical-align: middle;\n",
       "    }\n",
       "\n",
       "    .dataframe tbody tr th {\n",
       "        vertical-align: top;\n",
       "    }\n",
       "\n",
       "    .dataframe thead th {\n",
       "        text-align: right;\n",
       "    }\n",
       "</style>\n",
       "<table border=\"1\" class=\"dataframe\">\n",
       "  <thead>\n",
       "    <tr style=\"text-align: right;\">\n",
       "      <th></th>\n",
       "      <th>CD_BLOCK_NUM</th>\n",
       "      <th>CD_H_ADDRESS</th>\n",
       "      <th>CD_X</th>\n",
       "      <th>CD_Y</th>\n",
       "      <th>CENSUS_AGE</th>\n",
       "      <th>CENSUS_CITY</th>\n",
       "      <th>CENSUS_DWELLING_NUM</th>\n",
       "      <th>CENSUS_DWELLING_SEQ</th>\n",
       "      <th>CENSUS_DWELLING_SIZE</th>\n",
       "      <th>CENSUS_FIRST_NAME</th>\n",
       "      <th>...</th>\n",
       "      <th>enum_dist_order</th>\n",
       "      <th>enum_dist</th>\n",
       "      <th>enum_sequence_len</th>\n",
       "      <th>filled_block_num</th>\n",
       "      <th>known_address</th>\n",
       "      <th>cluster</th>\n",
       "      <th>sequence_id</th>\n",
       "      <th>enum_dist_id</th>\n",
       "      <th>filled_sequence_id</th>\n",
       "      <th>filled_enum_dist_id</th>\n",
       "    </tr>\n",
       "  </thead>\n",
       "  <tbody>\n",
       "    <tr>\n",
       "      <th>215441</th>\n",
       "      <td>NaN</td>\n",
       "      <td>NaN</td>\n",
       "      <td>NaN</td>\n",
       "      <td>NaN</td>\n",
       "      <td>16</td>\n",
       "      <td>MANHATTAN</td>\n",
       "      <td>1.0</td>\n",
       "      <td>1.0</td>\n",
       "      <td>1</td>\n",
       "      <td>JOHN</td>\n",
       "      <td>...</td>\n",
       "      <td>NaN</td>\n",
       "      <td>NaN</td>\n",
       "      <td>NaN</td>\n",
       "      <td>0.0</td>\n",
       "      <td>0.0</td>\n",
       "      <td>NaN</td>\n",
       "      <td>NaN</td>\n",
       "      <td>NaN</td>\n",
       "      <td>0.0</td>\n",
       "      <td>0.0</td>\n",
       "    </tr>\n",
       "    <tr>\n",
       "      <th>215442</th>\n",
       "      <td>NaN</td>\n",
       "      <td>NaN</td>\n",
       "      <td>NaN</td>\n",
       "      <td>NaN</td>\n",
       "      <td>50</td>\n",
       "      <td>MANHATTAN</td>\n",
       "      <td>1.0</td>\n",
       "      <td>2.0</td>\n",
       "      <td>10</td>\n",
       "      <td>L</td>\n",
       "      <td>...</td>\n",
       "      <td>NaN</td>\n",
       "      <td>NaN</td>\n",
       "      <td>NaN</td>\n",
       "      <td>NaN</td>\n",
       "      <td>NaN</td>\n",
       "      <td>NaN</td>\n",
       "      <td>NaN</td>\n",
       "      <td>NaN</td>\n",
       "      <td>NaN</td>\n",
       "      <td>NaN</td>\n",
       "    </tr>\n",
       "    <tr>\n",
       "      <th>215443</th>\n",
       "      <td>NaN</td>\n",
       "      <td>NaN</td>\n",
       "      <td>NaN</td>\n",
       "      <td>NaN</td>\n",
       "      <td>35</td>\n",
       "      <td>MANHATTAN</td>\n",
       "      <td>1.0</td>\n",
       "      <td>2.0</td>\n",
       "      <td>10</td>\n",
       "      <td>FANNY</td>\n",
       "      <td>...</td>\n",
       "      <td>NaN</td>\n",
       "      <td>NaN</td>\n",
       "      <td>NaN</td>\n",
       "      <td>NaN</td>\n",
       "      <td>NaN</td>\n",
       "      <td>NaN</td>\n",
       "      <td>NaN</td>\n",
       "      <td>NaN</td>\n",
       "      <td>NaN</td>\n",
       "      <td>NaN</td>\n",
       "    </tr>\n",
       "    <tr>\n",
       "      <th>215444</th>\n",
       "      <td>NaN</td>\n",
       "      <td>NaN</td>\n",
       "      <td>NaN</td>\n",
       "      <td>NaN</td>\n",
       "      <td>21</td>\n",
       "      <td>MANHATTAN</td>\n",
       "      <td>1.0</td>\n",
       "      <td>2.0</td>\n",
       "      <td>10</td>\n",
       "      <td>SAMUEL</td>\n",
       "      <td>...</td>\n",
       "      <td>NaN</td>\n",
       "      <td>NaN</td>\n",
       "      <td>NaN</td>\n",
       "      <td>NaN</td>\n",
       "      <td>NaN</td>\n",
       "      <td>NaN</td>\n",
       "      <td>NaN</td>\n",
       "      <td>NaN</td>\n",
       "      <td>NaN</td>\n",
       "      <td>NaN</td>\n",
       "    </tr>\n",
       "    <tr>\n",
       "      <th>215445</th>\n",
       "      <td>NaN</td>\n",
       "      <td>NaN</td>\n",
       "      <td>NaN</td>\n",
       "      <td>NaN</td>\n",
       "      <td>24</td>\n",
       "      <td>MANHATTAN</td>\n",
       "      <td>1.0</td>\n",
       "      <td>2.0</td>\n",
       "      <td>10</td>\n",
       "      <td>AMSTEND</td>\n",
       "      <td>...</td>\n",
       "      <td>NaN</td>\n",
       "      <td>NaN</td>\n",
       "      <td>NaN</td>\n",
       "      <td>NaN</td>\n",
       "      <td>NaN</td>\n",
       "      <td>NaN</td>\n",
       "      <td>NaN</td>\n",
       "      <td>NaN</td>\n",
       "      <td>NaN</td>\n",
       "      <td>NaN</td>\n",
       "    </tr>\n",
       "  </tbody>\n",
       "</table>\n",
       "<p>5 rows × 52 columns</p>\n",
       "</div>"
      ],
      "text/plain": [
       "       CD_BLOCK_NUM CD_H_ADDRESS  CD_X  CD_Y  CENSUS_AGE CENSUS_CITY  \\\n",
       "215441          NaN          NaN   NaN   NaN          16   MANHATTAN   \n",
       "215442          NaN          NaN   NaN   NaN          50   MANHATTAN   \n",
       "215443          NaN          NaN   NaN   NaN          35   MANHATTAN   \n",
       "215444          NaN          NaN   NaN   NaN          21   MANHATTAN   \n",
       "215445          NaN          NaN   NaN   NaN          24   MANHATTAN   \n",
       "\n",
       "        CENSUS_DWELLING_NUM  CENSUS_DWELLING_SEQ  CENSUS_DWELLING_SIZE  \\\n",
       "215441                  1.0                  1.0                     1   \n",
       "215442                  1.0                  2.0                    10   \n",
       "215443                  1.0                  2.0                    10   \n",
       "215444                  1.0                  2.0                    10   \n",
       "215445                  1.0                  2.0                    10   \n",
       "\n",
       "       CENSUS_FIRST_NAME  ...  enum_dist_order enum_dist  enum_sequence_len  \\\n",
       "215441              JOHN  ...              NaN       NaN                NaN   \n",
       "215442                 L  ...              NaN       NaN                NaN   \n",
       "215443             FANNY  ...              NaN       NaN                NaN   \n",
       "215444            SAMUEL  ...              NaN       NaN                NaN   \n",
       "215445           AMSTEND  ...              NaN       NaN                NaN   \n",
       "\n",
       "        filled_block_num  known_address cluster  sequence_id enum_dist_id  \\\n",
       "215441               0.0            0.0     NaN          NaN          NaN   \n",
       "215442               NaN            NaN     NaN          NaN          NaN   \n",
       "215443               NaN            NaN     NaN          NaN          NaN   \n",
       "215444               NaN            NaN     NaN          NaN          NaN   \n",
       "215445               NaN            NaN     NaN          NaN          NaN   \n",
       "\n",
       "        filled_sequence_id  filled_enum_dist_id  \n",
       "215441                 0.0                  0.0  \n",
       "215442                 NaN                  NaN  \n",
       "215443                 NaN                  NaN  \n",
       "215444                 NaN                  NaN  \n",
       "215445                 NaN                  NaN  \n",
       "\n",
       "[5 rows x 52 columns]"
      ]
     },
     "execution_count": 19,
     "metadata": {},
     "output_type": "execute_result"
    }
   ],
   "source": [
    "census_ward10.head()"
   ]
  },
  {
   "cell_type": "markdown",
   "metadata": {},
   "source": [
    "## Data Preprocessing"
   ]
  },
  {
   "cell_type": "code",
   "execution_count": 20,
   "metadata": {},
   "outputs": [],
   "source": [
    "all_cols = [\"CENSUS_SERIAL\", \"CENSUS_AGE\", \"CENSUS_PAGENUM\", \"CENSUS_GENDER\", \"CENSUS_RACE\", \n",
    "            \"sequence_id\", \"CENSUS_DWELLING_SIZE\",\"CENSUS_SEQ_NUM\", \"CENSUS_LABFORCE\", \"CENSUS_LINE\", \n",
    "            \"CENSUS_MARST\", \"CENSUS_FIRST_NAME\", \"CENSUS_LAST_NAME\", \"CENSUS_OCCUPATION\", \"CENSUS_IMPREL\",\n",
    "            \"sequence_order_enum\", 'CENSUS_DWELLING_SEQ', \"dwelling_seq_id\", \"fixed_seq\", \"enum_dist_id\", \n",
    "            \"enum_dist_order\"]\n",
    "\n",
    "transformer = ColumnTransformer(transformers=[('target', TargetEncoder(), all_cols)])\n",
    "# define pipeline\n",
    "pipeline = Pipeline(steps=[('preprocess', transformer), \n",
    "                           ('classifier',XGBClassifier(colsample_bytree = 0.6, max_depth = 2, \n",
    "                                                       n_estimators = 50))])"
   ]
  },
  {
   "cell_type": "markdown",
   "metadata": {},
   "source": [
    "This actually has been done in the interpolation step. But the model phase requires CensusData object so this is just a way to get around for now. "
   ]
  },
  {
   "cell_type": "code",
   "execution_count": 21,
   "metadata": {},
   "outputs": [
    {
     "name": "stdout",
     "output_type": "stream",
     "text": [
      "d:  0.1\n"
     ]
    }
   ],
   "source": [
    "census_enum_seq = CensusData(census_ward10, ward_col=ward_col, dwelling_col=dwelling_col, \n",
    "                             block_col =  block_col, x_col = x_col, y_col = y_col, pagenum = pagenum)\n",
    "census_enum_seq.apply_sequencing(enumerator_dist = True, dwelling = True, \n",
    "                                 fixed = True, distance = True, d=0.1)\n",
    "census_enum_seq.df = census_ward10"
   ]
  },
  {
   "cell_type": "code",
   "execution_count": 22,
   "metadata": {},
   "outputs": [
    {
     "name": "stdout",
     "output_type": "stream",
     "text": [
      "n is 5 and it's the 10th iteration\n"
     ]
    },
    {
     "data": {
      "image/png": "[encoded data removed]",
      "text/plain": [
       "<Figure size 576x576 with 1 Axes>"
      ]
     },
     "metadata": {
      "needs_background": "light"
     },
     "output_type": "display_data"
    }
   ],
   "source": [
    "interpolate_sequences = CentroidInterpolator(census_enum_seq, 10, pipeline, all_cols,\n",
    "                                             KMeans(5), block_centroids)\n",
    "score, model = interpolate_sequences.kmeans_best(5)\n",
    "interpolate_sequences.set_clustering_algo(model)\n",
    "interpolate_sequences.apply_clustering(algo_fit = True)\n",
    "interpolate_sequences.clustervis(kmeans = True)"
   ]
  },
  {
   "cell_type": "code",
   "execution_count": 23,
   "metadata": {},
   "outputs": [
    {
     "name": "stdout",
     "output_type": "stream",
     "text": [
      "avg Training score: 0.8940362469742219\n",
      "Test score: [0.5805915586573612, 0.6060500695410292, 0.6685121107266436, 0.6868279569892473, 0.5864903502501787, 0.5956614509246089, 0.6876949740034662, 0.6512856639661853, 0.6678520625889047, 0.6555901696088612]\n",
      "avg Test score: 0.6386556367256486\n"
     ]
    }
   ],
   "source": [
    "interpolate_sequences.cross_validate_model(k=10)\n",
    "print(\"avg Training score:\", np.array(interpolate_sequences.train_score).mean())\n",
    "print('Test score:', interpolate_sequences.test_score)\n",
    "print(\"avg Test score:\", np.array(interpolate_sequences.test_score).mean())"
   ]
  },
  {
   "cell_type": "markdown",
   "metadata": {},
   "source": [
    "## Train and test the model"
   ]
  },
  {
   "cell_type": "code",
   "execution_count": 24,
   "metadata": {},
   "outputs": [],
   "source": [
    "train,test = interpolate_sequences.stratified_train_test()\n",
    "interpolate_sequences.train_test_model(train, test)"
   ]
  },
  {
   "cell_type": "code",
   "execution_count": 25,
   "metadata": {},
   "outputs": [
    {
     "name": "stdout",
     "output_type": "stream",
     "text": [
      "Training score: 0.8920272954996977\n",
      "Test score: 0.5805915586573612\n"
     ]
    }
   ],
   "source": [
    "print(\"Training score:\",interpolate_sequences.train_score)\n",
    "print(\"Test score:\", interpolate_sequences.test_score)"
   ]
  },
  {
   "cell_type": "code",
   "execution_count": 26,
   "metadata": {},
   "outputs": [],
   "source": [
    "test['pred_cluster'] = interpolate_sequences.model.predict(test)"
   ]
  },
  {
   "cell_type": "code",
   "execution_count": null,
   "metadata": {},
   "outputs": [],
   "source": [
    "# test.drop(columns=['level_0', 'index', 'sequence_id', 'num_between', 'sequence_order_enum', 'dist',\n",
    "#        'sequence_len', 'fixed_seq', 'dwelling_seq_id', 'enum_dist_id',\n",
    "#        'enum_dist_order', 'enum_dist', 'enum_sequence_len', 'similarity_label' ]).to_csv('../../classification_result_ward_10.csv', index=False)"
   ]
  },
  {
   "cell_type": "code",
   "execution_count": null,
   "metadata": {},
   "outputs": [],
   "source": []
  }
 ],
 "metadata": {
  "kernelspec": {
   "display_name": "Python 3",
   "language": "python",
   "name": "python3"
  },
  "language_info": {
   "codemirror_mode": {
    "name": "ipython",
    "version": 3
   },
   "file_extension": ".py",
   "mimetype": "text/x-python",
   "name": "python",
   "nbconvert_exporter": "python",
   "pygments_lexer": "ipython3",
   "version": "3.7.3"
  }
 },
 "nbformat": 4,
 "nbformat_minor": 2
}
