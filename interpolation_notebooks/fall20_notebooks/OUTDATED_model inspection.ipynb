{
 "cells": [
  {
   "cell_type": "markdown",
   "metadata": {},
   "source": [
    "The code in this notebook is outdated. Not to be run.\n",
    "\n",
    "This notebook inspect the model that uses distance sequence, enumeration distance sequence, fixed sequence, dwelling sequence, and similarity label. The models are:\n",
    "\n",
    "* model 1: k = 7\n",
    "* model 2: k = 7 & simple imputaion for numerical columns\n",
    "\n",
    "Then feature importance is presented at the end. "
   ]
  },
  {
   "cell_type": "code",
   "execution_count": 1,
   "metadata": {},
   "outputs": [],
   "source": [
    "import os\n",
    "import sys\n",
    "module_path = os.path.abspath(os.path.join('../..'))\n",
    "if module_path not in sys.path:\n",
    "    sys.path.append(module_path)\n",
    "%load_ext autoreload\n",
    "%autoreload 2\n",
    "import pandas as pd\n",
    "import numpy as np\n",
    "from interpolation import CensusData, sequences, BlockInterpolator, CentroidInterpolator, archive, interpolation\n",
    "from sklearn.pipeline import Pipeline\n",
    "from category_encoders.target_encoder import TargetEncoder\n",
    "from xgboost import XGBClassifier\n",
    "from sklearn.cluster import KMeans, AgglomerativeClustering, DBSCAN\n",
    "from sklearn.preprocessing import OrdinalEncoder\n",
    "from sklearn.compose import make_column_transformer\n",
    "from sklearn.ensemble import RandomForestClassifier\n",
    "import matplotlib.pyplot as plt\n",
    "\n",
    "from kmodes.kmodes import KModes\n",
    "from sklearn.compose import ColumnTransformer\n",
    "from sklearn.preprocessing import OneHotEncoder\n"
   ]
  },
  {
   "cell_type": "code",
   "execution_count": 32,
   "metadata": {},
   "outputs": [],
   "source": [
    "#Change these values to rerun the notebook\n",
    "filled_1850 = pd.read_csv(\"../../data/dwelling_filled_sum_1850_mn_v01.csv\")\n",
    "cd_1850 = pd.read_csv(\"../../data/cd_1850_XYupdate.csv\") #For calculating centroids\n",
    "filled_1850.rename(columns = {\"CENSUS_WARD_NUM\":\"Ward_Num\", \"CENSUS_SERIALP\":\"CENSUS_SERIALB\", \"BLOCK_NUM\":\"block_num\", \"CENSUS_REEL_HOUSEHOLD\":\"CENSUS_REEL\", \"CENSUS_SEX\":\"CENSUS_SEXB\", \"CENSUS_PAGENO_HOUSEHOLD\":\"CENSUS_PAGENUM\", \"CENSUS_RACE\":\"CENSUS_RACEB\", \"CD_X\":\"cd_X\", \"CD_Y\":\"cd_Y\"}, inplace = True)\n",
    "ward_col = \"Ward_Num\"\n",
    "dwelling_col = \"dwelling_id\"\n",
    "dwelling_col_num = \"CENSUS_DWELLING_NUM\"\n",
    "block_col = \"block_num\"\n",
    "x_col = \"cd_X\"\n",
    "y_col = \"cd_Y\"\n",
    "pagenum = \"CENSUS_PAGENNO\""
   ]
  },
  {
   "cell_type": "code",
   "execution_count": 33,
   "metadata": {},
   "outputs": [
    {
     "name": "stdout",
     "output_type": "stream",
     "text": [
      "(515630, 32)\n",
      "(166500, 32)\n",
      "(349130, 32)\n"
     ]
    }
   ],
   "source": [
    "print(filled_1850.shape)\n",
    "print(filled_1850.loc[~filled_1850['block_num'].isnull()].shape)\n",
    "print(filled_1850.loc[filled_1850['block_num'].isnull()].shape)"
   ]
  },
  {
   "cell_type": "code",
   "execution_count": 34,
   "metadata": {},
   "outputs": [],
   "source": [
    "#set clustering algo -- this is to make sure that the same clustering algorithm is used\n",
    "#for each model, to ensure that testing is accurate\n",
    "#note fitting before hand won't work for all types of clustering, for example, with agglomerative\n",
    "#clustering this isn't going to work because the algorithm doesn't have a predict method\n",
    "block_centroids = {ward:{block:interpolation.make_centroid(df_block[x_col], df_block[y_col]) for block, df_block in df.groupby(block_col)} for ward,df in cd_1850.groupby(ward_col)}"
   ]
  },
  {
   "cell_type": "code",
   "execution_count": 35,
   "metadata": {},
   "outputs": [],
   "source": [
    "enumerators = pd.read_csv(\"../../data/census_1850_enumerationDetail_mn_ward10.csv\")"
   ]
  },
  {
   "cell_type": "code",
   "execution_count": 36,
   "metadata": {},
   "outputs": [],
   "source": [
    "ward10 = filled_1850[filled_1850[ward_col] == 10]\n",
    "ward10_enumerators = ward10.merge(enumerators,  how = \"left\", left_on= \"CENSUS_PAGENUM\", right_on = \"CENSUS_PAGENO_HOUSEHOLD\")"
   ]
  },
  {
   "cell_type": "code",
   "execution_count": 37,
   "metadata": {},
   "outputs": [],
   "source": [
    "census_enum_seq = CensusData(ward10_enumerators, ward_col=ward_col, dwelling_col=dwelling_col, \n",
    "                             block_col =  block_col, x_col = x_col, y_col = y_col, pagenum = pagenum)\n",
    "census_enum_seq.apply_sequencing(enumerator_dist = True, dwelling = True, fixed = True, distance = True)"
   ]
  },
  {
   "cell_type": "code",
   "execution_count": 41,
   "metadata": {},
   "outputs": [
    {
     "name": "stdout",
     "output_type": "stream",
     "text": [
      "Init: initializing centroids\n",
      "Init: initializing clusters\n",
      "Starting iterations...\n",
      "Run 1, iteration: 1/100, moves: 0, cost: 24272.0\n"
     ]
    }
   ],
   "source": [
    "similar_cols = [\"sequence_id\", \"dwelling_seq_id\", \"fixed_seq\", \"enum_dist_id\"]\n",
    "census_enum_seq.apply_similarity(sim_columns=similar_cols)"
   ]
  },
  {
   "cell_type": "code",
   "execution_count": 9,
   "metadata": {
    "scrolled": false
   },
   "outputs": [],
   "source": [
    "def plot_predictions(cluster_of_centroid, ward, cluster, test_df, title=None):\n",
    "    #colors = [color for color, i in zip(mcolors.CSS4_COLORS.values(), range(len(np.unique(self.clusters)))) if i < len(np.unique(self.clusters))]\n",
    "    colors = [plt.rcParams['axes.prop_cycle'].by_key()['color'][x] for x in range(len(np.unique(cluster_of_centroid)))]\n",
    "    fig, ax = plt.subplots(1, 1, figsize=(8, 8))\n",
    "    color = colors[0]\n",
    "\n",
    "    # for cluster, color in zip(np.unique(cluster_of_centroid), colors):\n",
    "        # get cluster data\n",
    "    X_subset = test_df[test_df[\"pred_cluster\"] == cluster]\n",
    "    centroids_subset = np.array(list(block_centroids[ward].values()))[cluster_of_centroid == cluster]\n",
    "\n",
    "    # graph info\n",
    "    ax.scatter(x=test_df.loc[:, x_col], y=test_df.loc[:, y_col], s=1, alpha=0.8,\n",
    "               color='grey')\n",
    "    for clus, co in zip(np.unique(cluster_of_centroid), colors):\n",
    "        if clus == cluster:\n",
    "            size = 50\n",
    "        else:\n",
    "            size = 20\n",
    "        X_subset_2 = X_subset[X_subset[\"cluster\"] == clus]\n",
    "        ax.scatter(x=X_subset_2.loc[:, x_col], y=X_subset_2.loc[:, y_col], s=size, alpha=0.8, label=str(clus),\n",
    "                   color=co)\n",
    "    #     ax.scatter(centroids_subset[:, 0], centroids_subset[:, 1], marker=\"*\", s=80, color=co)\n",
    "    if title is not None:\n",
    "        ax.set_title(title)\n",
    "    else:\n",
    "        ax.set_title(\"Clustered block centroids, Ward {}, 1850\".format(ward))\n",
    "\n",
    "    ax.legend(bbox_to_anchor = (1.04, 1), loc = \"upper left\")\n",
    "    plt.show()"
   ]
  },
  {
   "cell_type": "markdown",
   "metadata": {},
   "source": [
    "## Try with kmeans=7\n",
    "\n",
    "There should be around 6-7 blocks in a cluster (as opposed to 7-9 when kmeans=5)"
   ]
  },
  {
   "cell_type": "markdown",
   "metadata": {},
   "source": [
    "## model 1"
   ]
  },
  {
   "cell_type": "code",
   "execution_count": 10,
   "metadata": {},
   "outputs": [],
   "source": [
    "all_cols = [\"CENSUS_SERIALB\", \"CENSUS_AGE\", \"CENSUS_PAGENUM\", \"CENSUS_SEXB\", \"CENSUS_RACEB\", \n",
    "            \"sequence_id\", \"CENSUS_DWELLING_SIZE\",\"CENSUS_SEQ_NUM\", \"CENSUS_LABFORCE\", \"CENSUS_LINE\", \n",
    "            \"CENSUS_MARST\", \"CENSUS_NAMEFRST\", \"CENSUS_NAMELAST\", \"CENSUS_OCCSTR\", \"CENSUS_IMPREL\",\n",
    "            \"sequence_order_enum\", 'CENSUS_DWELLING_SEQ', \"dwelling_seq_id\", \"fixed_seq\", \"enum_dist_id\", \n",
    "            \"enum_dist_order\"]\n",
    "\n",
    "transformer = ColumnTransformer(transformers=[('target', TargetEncoder(), all_cols), \n",
    "                                              ('onehot', OneHotEncoder(handle_unknown='ignore'), ['similarity_label'])])\n",
    "# define pipeline\n",
    "pipeline = Pipeline(steps=[('preprocess', transformer), \n",
    "                           ('classifier',XGBClassifier(colsample_bytree = 0.6, max_depth = 2, \n",
    "                                                       n_estimators = 50))])"
   ]
  },
  {
   "cell_type": "code",
   "execution_count": 11,
   "metadata": {},
   "outputs": [
    {
     "name": "stdout",
     "output_type": "stream",
     "text": [
      "n is 7 and it's the 10th iteration\n",
      "n is 7 and it's the 20th iteration\n",
      "n is 7 and it's the 30th iteration\n",
      "n is 7 and it's the 40th iteration\n",
      "n is 7 and it's the 50th iteration\n"
     ]
    },
    {
     "data": {
      "image/png": "[encoded data removed]",
      "text/plain": [
       "<Figure size 576x576 with 1 Axes>"
      ]
     },
     "metadata": {
      "needs_background": "light"
     },
     "output_type": "display_data"
    }
   ],
   "source": [
    "interpolate_sequences = CentroidInterpolator(census_enum_seq, 10, pipeline, all_cols + ['similarity_label'],\n",
    "                                             KMeans(7), block_centroids)\n",
    "score, model = interpolate_sequences.kmeans_best(7)\n",
    "interpolate_sequences.set_clustering_algo(model)\n",
    "interpolate_sequences.apply_clustering(algo_fit = True)\n",
    "interpolate_sequences.clustervis(kmeans = True)"
   ]
  },
  {
   "cell_type": "code",
   "execution_count": 12,
   "metadata": {},
   "outputs": [
    {
     "name": "stdout",
     "output_type": "stream",
     "text": [
      "Cross Validation\n",
      "avg Training score: 0.98081343182539\n",
      "Test score: [0.6064623032311516, 0.538955087076077, 0.4849557522123894, 0.6343692870201096, 0.6053604436229205, 0.6020036429872495, 0.6361464968152867, 0.5909465020576131, 0.6411960132890365, 0.5709251101321586]\n",
      "avg Test score: 0.5911320638443992\n"
     ]
    }
   ],
   "source": [
    "## retrain model using kmodes result\n",
    "\n",
    "interpolate_sequences.cross_validate_model(k=10)\n",
    "print('Cross Validation')\n",
    "print(\"avg Training score:\", np.array(interpolate_sequences.train_score).mean())\n",
    "print('Test score:', interpolate_sequences.test_score)\n",
    "print(\"avg Test score:\", np.array(interpolate_sequences.test_score).mean())"
   ]
  },
  {
   "cell_type": "code",
   "execution_count": 14,
   "metadata": {},
   "outputs": [],
   "source": [
    "train_1,test_1 = interpolate_sequences.stratified_train_test()\n",
    "interpolate_sequences.train_test_model(train_1, test_1)"
   ]
  },
  {
   "cell_type": "code",
   "execution_count": 15,
   "metadata": {},
   "outputs": [
    {
     "name": "stdout",
     "output_type": "stream",
     "text": [
      "Training score: 0.9846519671422396\n",
      "Test score: 0.6064623032311516\n"
     ]
    }
   ],
   "source": [
    "print(\"Training score:\",interpolate_sequences.train_score)\n",
    "print(\"Test score:\", interpolate_sequences.test_score)"
   ]
  },
  {
   "cell_type": "code",
   "execution_count": 16,
   "metadata": {},
   "outputs": [],
   "source": [
    "test_1['pred_cluster'] = interpolate_sequences.model.predict(test_1)"
   ]
  },
  {
   "cell_type": "code",
   "execution_count": 17,
   "metadata": {},
   "outputs": [
    {
     "data": {
      "text/plain": [
       "cluster  block_num\n",
       "0        188.0         64\n",
       "         189.0         27\n",
       "         190.0         39\n",
       "         195.0         35\n",
       "         1265.0        13\n",
       "         1266.0        96\n",
       "         1267.0         9\n",
       "         1268.0        19\n",
       "1        200.0          7\n",
       "         201.0         74\n",
       "         1282.0        16\n",
       "         1283.0        18\n",
       "2        186.0         49\n",
       "         187.0         25\n",
       "         191.0        109\n",
       "         192.0         90\n",
       "         1260.0        28\n",
       "         1263.0        16\n",
       "         1270.0        43\n",
       "         1271.0        19\n",
       "3        196.0         19\n",
       "         197.0         22\n",
       "         203.0         50\n",
       "         1277.0         4\n",
       "         1285.0        41\n",
       "4        184.0         76\n",
       "         185.0         22\n",
       "         1259.0        24\n",
       "5        198.0         62\n",
       "         1274.0        27\n",
       "         1279.0         9\n",
       "         1280.0        12\n",
       "6        193.0          7\n",
       "         1272.0         5\n",
       "         1281.0        31\n",
       "Name: pred_cluster, dtype: int64"
      ]
     },
     "execution_count": 17,
     "metadata": {},
     "output_type": "execute_result"
    }
   ],
   "source": [
    "test_1.groupby(['cluster', 'block_num'])['pred_cluster'].agg('count')"
   ]
  },
  {
   "cell_type": "markdown",
   "metadata": {},
   "source": [
    "## model 2"
   ]
  },
  {
   "cell_type": "code",
   "execution_count": 19,
   "metadata": {},
   "outputs": [],
   "source": [
    "from sklearn.impute import SimpleImputer"
   ]
  },
  {
   "cell_type": "code",
   "execution_count": 38,
   "metadata": {},
   "outputs": [],
   "source": [
    "census_enum_seq.df['processed_page_line'] = census_enum_seq.df['CENSUS_PAGENUM'] * 1000 + census_enum_seq.df['CENSUS_LINE']\n",
    "census_enum_seq.data['processed_page_line'] = census_enum_seq.data['CENSUS_PAGENUM'] * 1000 + census_enum_seq.df['CENSUS_LINE']"
   ]
  },
  {
   "cell_type": "code",
   "execution_count": 47,
   "metadata": {},
   "outputs": [],
   "source": []
  },
  {
   "cell_type": "code",
   "execution_count": 50,
   "metadata": {},
   "outputs": [],
   "source": [
    "all_cols = [\"CENSUS_SERIALB\", \"CENSUS_DWELLING_SIZE\",\"CENSUS_SEQ_NUM\", \"CENSUS_NAMELAST\", \n",
    "            'CENSUS_DWELLING_SEQ']\n",
    "\n",
    "one_hot_cols = ['similarity_label']\n",
    "numerical_cols = [\"sequence_id\", 'enum_dist_order', 'dwelling_seq_id', \n",
    "                  'dwelling_seq_id','fixed_seq', 'enum_dist_id', 'enum_dist_order', 'processed_page_line']\n",
    "\n",
    "transformer = ColumnTransformer(transformers=[('target', TargetEncoder(), all_cols), \n",
    "                                              ('onehot', OneHotEncoder(handle_unknown='ignore'), one_hot_cols),\n",
    "                                              ('numerical', SimpleImputer(strategy='constant', fill_value=-10), numerical_cols)\n",
    "                                             ])\n",
    "\n",
    "# define pipeline\n",
    "pipeline = Pipeline(steps=[('preprocess', transformer), \n",
    "                           ('classifier',XGBClassifier(colsample_bytree = 0.6, max_depth = 2, \n",
    "                                                       n_estimators = 50))])"
   ]
  },
  {
   "cell_type": "code",
   "execution_count": 51,
   "metadata": {},
   "outputs": [
    {
     "name": "stdout",
     "output_type": "stream",
     "text": [
      "n is 7 and it's the 10th iteration\n",
      "n is 7 and it's the 20th iteration\n",
      "n is 7 and it's the 30th iteration\n",
      "n is 7 and it's the 40th iteration\n",
      "n is 7 and it's the 50th iteration\n"
     ]
    },
    {
     "data": {
      "image/png": "[encoded data removed]",
      "text/plain": [
       "<Figure size 576x576 with 1 Axes>"
      ]
     },
     "metadata": {
      "needs_background": "light"
     },
     "output_type": "display_data"
    }
   ],
   "source": [
    "interpolate_sequences_2 = CentroidInterpolator(census_enum_seq, 10, pipeline, all_cols + ['similarity_label'],\n",
    "                                             KMeans(7), block_centroids)\n",
    "interpolate_sequences_2.df['enum_dist_id'] = np.where(interpolate_sequences_2.df['enum_dist_id'] == 'Ward_Num', \n",
    "                                                      -10, interpolate_sequences_2.df['enum_dist_id']).tolist()\n",
    "\n",
    "\n",
    "score_2, model_2 = interpolate_sequences_2.kmeans_best(7)\n",
    "interpolate_sequences_2.set_clustering_algo(model_2)\n",
    "interpolate_sequences_2.apply_clustering(algo_fit = True)\n",
    "interpolate_sequences_2.clustervis(kmeans = True)"
   ]
  },
  {
   "cell_type": "code",
   "execution_count": 52,
   "metadata": {},
   "outputs": [
    {
     "name": "stdout",
     "output_type": "stream",
     "text": [
      "Cross Validation\n",
      "avg Training score: 0.9208531634371641\n",
      "Test score: [0.5513937282229965, 0.5392077607113985, 0.5270150575730735, 0.6350639578630549, 0.5541044776119403, 0.5143626570915619, 0.5034377387318564, 0.4762645914396887, 0.5016611295681063, 0.4898336414048059]\n",
      "avg Test score: 0.5292344740218483\n"
     ]
    }
   ],
   "source": [
    "## retrain model using kmodes result\n",
    "\n",
    "interpolate_sequences_2.cross_validate_model(k=10)\n",
    "print('Cross Validation')\n",
    "print(\"avg Training score:\", np.array(interpolate_sequences_2.train_score).mean())\n",
    "print('Test score:', interpolate_sequences_2.test_score)\n",
    "print(\"avg Test score:\", np.array(interpolate_sequences_2.test_score).mean())"
   ]
  },
  {
   "cell_type": "code",
   "execution_count": null,
   "metadata": {},
   "outputs": [],
   "source": []
  },
  {
   "cell_type": "code",
   "execution_count": null,
   "metadata": {},
   "outputs": [],
   "source": []
  },
  {
   "cell_type": "markdown",
   "metadata": {},
   "source": [
    "### Refit the model using this setting (no CV) [CV score of the model is 0.63]\n",
    "\n",
    "* Similar performance when using k = 7, but has fewer block members in a cluster\n",
    "* The results from here are used for further analysis."
   ]
  },
  {
   "cell_type": "code",
   "execution_count": null,
   "metadata": {},
   "outputs": [],
   "source": [
    "train,test = interpolate_sequences.stratified_train_test()\n",
    "interpolate_sequences.train_test_model(train, test)"
   ]
  },
  {
   "cell_type": "code",
   "execution_count": null,
   "metadata": {},
   "outputs": [],
   "source": [
    "print(\"Training score:\",interpolate_sequences.train_score)\n",
    "print(\"Test score:\", interpolate_sequences.test_score)"
   ]
  },
  {
   "cell_type": "code",
   "execution_count": null,
   "metadata": {},
   "outputs": [],
   "source": [
    "test['pred_cluster'] = interpolate_sequences.model.predict(test)"
   ]
  },
  {
   "cell_type": "code",
   "execution_count": null,
   "metadata": {},
   "outputs": [],
   "source": [
    "interpolate_sequences.clusters"
   ]
  },
  {
   "cell_type": "code",
   "execution_count": null,
   "metadata": {
    "scrolled": true
   },
   "outputs": [],
   "source": [
    "# if self.clusters is None:\n",
    "#     raise AttributeError(\"Please run apply clustering first\")\n",
    "\n",
    "cluster_of_centroid = interpolate_sequences.clusters.copy()\n",
    "ward = 10\n",
    "cluster = 0\n",
    "test_df = test\n",
    "\n",
    "\n",
    "for c in range(7):\n",
    "    title = 'true cluster ' + str(c)\n",
    "    plot_predictions(cluster_of_centroid, ward, c, test_df, title)"
   ]
  },
  {
   "cell_type": "markdown",
   "metadata": {},
   "source": [
    "The plot shows all records that are predicted as C cluster. For instance, `predicted cluster 0` plot shows all census records that the model predicts as in cluster 0. The biggest marks are correct prediction. The smaller ones are mispredictions and the grey ones are other Census records that are present in the test data.\n"
   ]
  },
  {
   "cell_type": "code",
   "execution_count": null,
   "metadata": {},
   "outputs": [],
   "source": [
    "test['cluster'].value_counts().sort_index()"
   ]
  },
  {
   "cell_type": "code",
   "execution_count": null,
   "metadata": {
    "scrolled": true
   },
   "outputs": [],
   "source": [
    "c1 = test.groupby(['cluster', 'pred_cluster'], as_index=False)['CENSUS_SERIALB'].agg('count')\n",
    "ctotal = test.groupby('cluster', as_index=False)['CENSUS_SERIALB'].agg('count')\n",
    "\n",
    "c_per = c1.merge(ctotal, how='left', on='cluster')\n",
    "c_per['percent'] = c_per['CENSUS_SERIALB_x']/c_per['CENSUS_SERIALB_y']*100\n",
    "c_per.drop(columns=['CENSUS_SERIALB_x', 'CENSUS_SERIALB_y'])\n",
    "pd.pivot_table(c_per, values='percent', index='cluster',\n",
    "                    columns=['pred_cluster'], fill_value=0)"
   ]
  },
  {
   "cell_type": "markdown",
   "metadata": {},
   "source": [
    "## Feature Importance -- target encoded sequences\n",
    "\n",
    "* sequence id and enum distance seq are the top 2 most importance sequences\n",
    "* similarity label 9 and 12 are the fourth and the fift importance features"
   ]
  },
  {
   "cell_type": "code",
   "execution_count": null,
   "metadata": {},
   "outputs": [],
   "source": [
    "importance_df = pd.DataFrame({'feature': interpolate_sequences.model.named_steps[\"preprocess\"].get_feature_names(),\n",
    "                             'importance': interpolate_sequences.model.named_steps[\"classifier\"].feature_importances_})\n",
    "cut_importance = importance_df.sort_values('importance').tail(20)"
   ]
  },
  {
   "cell_type": "code",
   "execution_count": null,
   "metadata": {},
   "outputs": [],
   "source": [
    "archive.graph_coefs(cut_importance['feature'], \n",
    "                    cut_importance['importance'],\n",
    "                    \"XGBoost Feature Importances Centroid Prediction\")"
   ]
  },
  {
   "cell_type": "markdown",
   "metadata": {},
   "source": [
    "## How similary are two records that are correctly and wrongly predicted?"
   ]
  },
  {
   "cell_type": "markdown",
   "metadata": {},
   "source": [
    "### In cluster 2 - block num 192\n",
    "\n",
    "* [2461] and [2465]: squences and similarity are not the strong predictive features. Records are classified into different clusters even when they have the same values of those features.\n",
    "* [12275] and [13965]: also proves the point above. They are classified inot the same cluster even tho they have different values of those features."
   ]
  },
  {
   "cell_type": "code",
   "execution_count": null,
   "metadata": {},
   "outputs": [],
   "source": [
    "test.reset_index(inplace=True)\n",
    "test.loc[(test['cluster']==2) & (test['pred_cluster']!=2)][similar_cols + ['similarity_label', 'cluster', 'pred_cluster', 'block_num']].drop_duplicates()"
   ]
  },
  {
   "cell_type": "code",
   "execution_count": null,
   "metadata": {
    "scrolled": true
   },
   "outputs": [],
   "source": [
    "pd.set_option('display.max_columns', None)\n",
    "test.iloc[[1251,490],:][all_cols + similar_cols + ['similarity_label', 'cluster', 'pred_cluster', 'block_num']].drop_duplicates()"
   ]
  },
  {
   "cell_type": "code",
   "execution_count": null,
   "metadata": {},
   "outputs": [],
   "source": [
    "test.shape"
   ]
  },
  {
   "cell_type": "code",
   "execution_count": null,
   "metadata": {},
   "outputs": [],
   "source": [
    "test['enum_dist_order'].unique()"
   ]
  },
  {
   "cell_type": "code",
   "execution_count": null,
   "metadata": {},
   "outputs": [],
   "source": [
    "all_cols"
   ]
  },
  {
   "cell_type": "code",
   "execution_count": null,
   "metadata": {},
   "outputs": [],
   "source": [
    "test.loc[(test['cluster']==2) &\n",
    "        (test['block_num']==192)][similar_cols + ['similarity_label', 'cluster', 'pred_cluster', 'block_num']].drop_duplicates()"
   ]
  },
  {
   "cell_type": "markdown",
   "metadata": {},
   "source": [
    "### In cluster 4 - block num 186\n",
    "\n",
    "* Records in the same block numbers have totally different sequences so from the model perspective, this misclassification is not wrong. Sequences and similarity may not be enough for correct classification.\n",
    "* cluster 1 is the most unclear cluster (analysis not shown in this notebook). The label is not unique (or closely unique) for any block cluster."
   ]
  },
  {
   "cell_type": "code",
   "execution_count": null,
   "metadata": {},
   "outputs": [],
   "source": [
    "##Wrong classification of block num 186 (cluster 4)\n",
    "test.loc[(test['cluster']==4) & \n",
    "         (test['pred_cluster']==6)][similar_cols + ['similarity_label', 'cluster', 'pred_cluster', 'block_num']].drop_duplicates()"
   ]
  },
  {
   "cell_type": "code",
   "execution_count": null,
   "metadata": {},
   "outputs": [],
   "source": [
    "## Correct classification of block num 186 (cluster 4)\n",
    "test.loc[(test['cluster']==4) & \n",
    "         (test['pred_cluster']==4) &\n",
    "        (test['block_num']==186)][similar_cols + ['similarity_label', 'cluster', 'pred_cluster', 'block_num']].drop_duplicates()"
   ]
  },
  {
   "cell_type": "markdown",
   "metadata": {},
   "source": [
    "## Is it impactfully wrong to treat sequences as numerical values?\n",
    "\n",
    "* could it be why sequences, and consequently similarity, are not strong indicator of block cluster?\n",
    "* Treating as numerical should not be a problem bc we use XGBoost which is non-linear. The problem is when the same value of a feature points to different clusters. This happens due to using *TargetEncode*."
   ]
  },
  {
   "cell_type": "code",
   "execution_count": null,
   "metadata": {},
   "outputs": [],
   "source": [
    "for c in similar_cols:\n",
    "    print('unique values of {}: {}'.format(c, interpolate_sequences.df[c].unique().shape[0]))"
   ]
  },
  {
   "cell_type": "markdown",
   "metadata": {},
   "source": [
    "There are total of ~380 levels of features. Treating them all as categorical values (not using TargetEncode) will add ~380 more columns to the dataframe. This should be insignificant compared to the number of records in the dataframe."
   ]
  },
  {
   "cell_type": "code",
   "execution_count": null,
   "metadata": {},
   "outputs": [],
   "source": [
    "all_cols = [\"CENSUS_SERIALB\", \"CENSUS_AGE\", \"CENSUS_PAGENUM\", \"CENSUS_SEXB\", \"CENSUS_RACEB\", \n",
    "             \"CENSUS_DWELLING_SIZE\",\"CENSUS_SEQ_NUM\", \"CENSUS_LABFORCE\", \"CENSUS_LINE\", \n",
    "            \"CENSUS_MARST\", \"CENSUS_NAMEFRST\", \"CENSUS_NAMELAST\", \"CENSUS_OCCSTR\", \"CENSUS_IMPREL\",\n",
    "            \"sequence_order_enum\", 'CENSUS_DWELLING_SEQ', \"enum_dist_order\"]\n",
    "\n",
    "one_hot_cols = [\"sequence_id\", \"dwelling_seq_id\", \"fixed_seq\", \"enum_dist_id\", 'similarity_label']\n",
    "transformer = ColumnTransformer(transformers=[('target', TargetEncoder(), all_cols), \n",
    "                                              ('onehot', OneHotEncoder(handle_unknown='ignore'), one_hot_cols)])\n",
    "# define pipeline\n",
    "pipeline = Pipeline(steps=[('preprocess', transformer), \n",
    "                           ('classifier',XGBClassifier(colsample_bytree = 0.6, max_depth = 2, \n",
    "                                                       n_estimators = 50))])"
   ]
  },
  {
   "cell_type": "code",
   "execution_count": null,
   "metadata": {
    "scrolled": true
   },
   "outputs": [],
   "source": [
    "census_enum_seq.df[one_hot_cols].dtypes\n",
    "for c in one_hot_cols:\n",
    "    census_enum_seq.df[c] = census_enum_seq.df[c].astype(str)\n",
    "census_enum_seq.df[one_hot_cols].dtypes"
   ]
  },
  {
   "cell_type": "code",
   "execution_count": null,
   "metadata": {},
   "outputs": [],
   "source": [
    "interpolate_sequences = CentroidInterpolator(census_enum_seq, 10, pipeline, all_cols + one_hot_cols,\n",
    "                                             KMeans(7), block_centroids)\n",
    "score, model = interpolate_sequences.kmeans_best(7)\n",
    "interpolate_sequences.set_clustering_algo(model)\n",
    "interpolate_sequences.apply_clustering(algo_fit = True)\n",
    "interpolate_sequences.clustervis(kmeans = True)"
   ]
  },
  {
   "cell_type": "code",
   "execution_count": null,
   "metadata": {},
   "outputs": [],
   "source": [
    "## retrain model using kmodes result\n",
    "\n",
    "interpolate_sequences.cross_validate_model(k=10)\n",
    "print('Cross Validation')\n",
    "print(\"avg Training score:\", np.array(interpolate_sequences.train_score).mean())\n",
    "print('Test score:', interpolate_sequences.test_score)\n",
    "print(\"avg Test score:\", np.array(interpolate_sequences.test_score).mean())"
   ]
  },
  {
   "cell_type": "markdown",
   "metadata": {},
   "source": [
    "## Feature Importance - one hot sequences\n",
    "\n",
    "* some ids of `sequence_id` (x0) and `fixed_seq` (x3) appear in the top 20 important features"
   ]
  },
  {
   "cell_type": "code",
   "execution_count": null,
   "metadata": {},
   "outputs": [],
   "source": [
    "from interpolation import archive"
   ]
  },
  {
   "cell_type": "code",
   "execution_count": null,
   "metadata": {},
   "outputs": [],
   "source": [
    "importance_df = pd.DataFrame({'feature': interpolate_sequences.model.named_steps[\"preprocess\"].get_feature_names(),\n",
    "                             'importance': interpolate_sequences.model.named_steps[\"classifier\"].feature_importances_})\n",
    "cut_importance = importance_df.sort_values('importance').tail(20)"
   ]
  },
  {
   "cell_type": "code",
   "execution_count": null,
   "metadata": {},
   "outputs": [],
   "source": [
    "archive.graph_coefs(cut_importance['feature'], \n",
    "                    cut_importance['importance'],\n",
    "                    \"XGBoost Feature Importances Centroid Prediction\")"
   ]
  },
  {
   "cell_type": "code",
   "execution_count": null,
   "metadata": {},
   "outputs": [],
   "source": [
    "one_hot_cols"
   ]
  },
  {
   "cell_type": "code",
   "execution_count": null,
   "metadata": {},
   "outputs": [],
   "source": []
  }
 ],
 "metadata": {
  "kernelspec": {
   "display_name": "Python 3",
   "language": "python",
   "name": "python3"
  },
  "language_info": {
   "codemirror_mode": {
    "name": "ipython",
    "version": 3
   },
   "file_extension": ".py",
   "mimetype": "text/x-python",
   "name": "python",
   "nbconvert_exporter": "python",
   "pygments_lexer": "ipython3",
   "version": "3.7.3"
  }
 },
 "nbformat": 4,
 "nbformat_minor": 2
}
