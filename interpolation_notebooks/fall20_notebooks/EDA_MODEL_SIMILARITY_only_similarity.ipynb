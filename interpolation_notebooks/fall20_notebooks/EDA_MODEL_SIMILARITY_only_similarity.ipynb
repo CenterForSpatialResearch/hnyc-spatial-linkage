{
 "cells": [
  {
   "cell_type": "markdown",
   "metadata": {},
   "source": [
    "Try out a model that is only trained on the similarity label (one hot encoded)."
   ]
  },
  {
   "cell_type": "code",
   "execution_count": 1,
   "metadata": {},
   "outputs": [],
   "source": [
    "import os\n",
    "import sys\n",
    "module_path = os.path.abspath(os.path.join('../..'))\n",
    "if module_path not in sys.path:\n",
    "    sys.path.append(module_path)\n",
    "%load_ext autoreload\n",
    "%autoreload 2\n",
    "import pandas as pd\n",
    "import numpy as np\n",
    "from interpolation import CensusData, sequences, BlockInterpolator, CentroidInterpolator, archive, interpolation\n",
    "from sklearn.pipeline import Pipeline\n",
    "from category_encoders.target_encoder import TargetEncoder\n",
    "from xgboost import XGBClassifier\n",
    "from sklearn.cluster import KMeans, AgglomerativeClustering, DBSCAN\n",
    "from sklearn.preprocessing import OrdinalEncoder\n",
    "from sklearn.compose import make_column_transformer\n",
    "from sklearn.ensemble import RandomForestClassifier\n",
    "import matplotlib.pyplot as plt\n",
    "\n",
    "from kmodes.kmodes import KModes\n",
    "from sklearn.compose import ColumnTransformer\n",
    "from sklearn.preprocessing import OneHotEncoder\n"
   ]
  },
  {
   "cell_type": "markdown",
   "metadata": {},
   "source": [
    "## read in data"
   ]
  },
  {
   "cell_type": "code",
   "execution_count": 2,
   "metadata": {},
   "outputs": [],
   "source": [
    "#Change these values to rerun the notebook\n",
    "filled_1850 = pd.read_csv(\"../../data/dwelling_filled_sum_1850_mn_v01.csv\")\n",
    "cd_1850 = pd.read_csv(\"../../data/cd_1850_XYupdate.csv\") #For calculating centroids\n",
    "filled_1850.rename(columns = {\"CENSUS_WARD_NUM\":\"Ward_Num\", \"CENSUS_SERIALP\":\"CENSUS_SERIALB\", \"BLOCK_NUM\":\"block_num\", \"CENSUS_REEL_HOUSEHOLD\":\"CENSUS_REEL\", \"CENSUS_SEX\":\"CENSUS_SEXB\", \"CENSUS_PAGENO_HOUSEHOLD\":\"CENSUS_PAGENUM\", \"CENSUS_RACE\":\"CENSUS_RACEB\", \"CD_X\":\"cd_X\", \"CD_Y\":\"cd_Y\"}, inplace = True)\n",
    "ward_col = \"Ward_Num\"\n",
    "dwelling_col = \"dwelling_id\"\n",
    "dwelling_col_num = \"CENSUS_DWELLING_NUM\"\n",
    "block_col = \"block_num\"\n",
    "x_col = \"cd_X\"\n",
    "y_col = \"cd_Y\"\n",
    "pagenum = \"CENSUS_PAGENNO\""
   ]
  },
  {
   "cell_type": "code",
   "execution_count": 3,
   "metadata": {},
   "outputs": [
    {
     "name": "stdout",
     "output_type": "stream",
     "text": [
      "(515630, 32)\n",
      "(166500, 32)\n",
      "(349130, 32)\n"
     ]
    }
   ],
   "source": [
    "print(filled_1850.shape)\n",
    "print(filled_1850.loc[~filled_1850['block_num'].isnull()].shape)\n",
    "print(filled_1850.loc[filled_1850['block_num'].isnull()].shape)"
   ]
  },
  {
   "cell_type": "code",
   "execution_count": 4,
   "metadata": {},
   "outputs": [],
   "source": [
    "#set clustering algo -- this is to make sure that the same clustering algorithm is used\n",
    "#for each model, to ensure that testing is accurate\n",
    "#note fitting before hand won't work for all types of clustering, for example, with agglomerative\n",
    "#clustering this isn't going to work because the algorithm doesn't have a predict method\n",
    "block_centroids = {ward:{block:interpolation.make_centroid(df_block[x_col], df_block[y_col]) for block, df_block in df.groupby(block_col)} for ward,df in cd_1850.groupby(ward_col)}"
   ]
  },
  {
   "cell_type": "code",
   "execution_count": 5,
   "metadata": {},
   "outputs": [],
   "source": [
    "enumerators = pd.read_csv(\"../../data/census_1850_enumerationDetail_mn_ward10.csv\")"
   ]
  },
  {
   "cell_type": "code",
   "execution_count": 6,
   "metadata": {},
   "outputs": [],
   "source": [
    "ward10 = filled_1850[filled_1850[ward_col] == 10]\n",
    "ward10_enumerators = ward10.merge(enumerators,  how = \"left\", left_on= \"CENSUS_PAGENUM\", right_on = \"CENSUS_PAGENO_HOUSEHOLD\")"
   ]
  },
  {
   "cell_type": "markdown",
   "metadata": {},
   "source": [
    "## create sequences"
   ]
  },
  {
   "cell_type": "code",
   "execution_count": 7,
   "metadata": {},
   "outputs": [],
   "source": [
    "census_enum_seq = CensusData(ward10_enumerators, ward_col=ward_col, dwelling_col=dwelling_col, \n",
    "                             block_col =  block_col, x_col = x_col, y_col = y_col, pagenum = pagenum)\n",
    "census_enum_seq.apply_sequencing(enumerator_dist = True, dwelling = True, fixed = True, distance = True)"
   ]
  },
  {
   "cell_type": "code",
   "execution_count": 18,
   "metadata": {},
   "outputs": [
    {
     "data": {
      "text/html": [
       "<div>\n",
       "<style scoped>\n",
       "    .dataframe tbody tr th:only-of-type {\n",
       "        vertical-align: middle;\n",
       "    }\n",
       "\n",
       "    .dataframe tbody tr th {\n",
       "        vertical-align: top;\n",
       "    }\n",
       "\n",
       "    .dataframe thead th {\n",
       "        text-align: right;\n",
       "    }\n",
       "</style>\n",
       "<table border=\"1\" class=\"dataframe\">\n",
       "  <thead>\n",
       "    <tr style=\"text-align: right;\">\n",
       "      <th></th>\n",
       "      <th>block_num</th>\n",
       "      <th>CD_ADDRESS</th>\n",
       "      <th>cd_X</th>\n",
       "      <th>cd_Y</th>\n",
       "      <th>CENSUS_AGE</th>\n",
       "      <th>CENSUS_CITY</th>\n",
       "      <th>CENSUS_DWELLING_NUM</th>\n",
       "      <th>CENSUS_DWELLING_SEQ</th>\n",
       "      <th>CENSUS_DWELLING_SIZE</th>\n",
       "      <th>CENSUS_GEOG</th>\n",
       "      <th>...</th>\n",
       "      <th>num_between</th>\n",
       "      <th>sequence_order_enum</th>\n",
       "      <th>dist</th>\n",
       "      <th>sequence_len</th>\n",
       "      <th>fixed_seq</th>\n",
       "      <th>dwelling_seq_id</th>\n",
       "      <th>enum_dist_id</th>\n",
       "      <th>enum_dist_order</th>\n",
       "      <th>enum_dist</th>\n",
       "      <th>enum_sequence_len</th>\n",
       "    </tr>\n",
       "  </thead>\n",
       "  <tbody>\n",
       "    <tr>\n",
       "      <th>0</th>\n",
       "      <td>NaN</td>\n",
       "      <td>NaN</td>\n",
       "      <td>NaN</td>\n",
       "      <td>NaN</td>\n",
       "      <td>16</td>\n",
       "      <td>4610</td>\n",
       "      <td>1.0</td>\n",
       "      <td>1.0</td>\n",
       "      <td>1</td>\n",
       "      <td>NEW YORK WARD 10</td>\n",
       "      <td>...</td>\n",
       "      <td>NaN</td>\n",
       "      <td>NaN</td>\n",
       "      <td>NaN</td>\n",
       "      <td>NaN</td>\n",
       "      <td>0</td>\n",
       "      <td>0.0</td>\n",
       "      <td>NaN</td>\n",
       "      <td>NaN</td>\n",
       "      <td>NaN</td>\n",
       "      <td>NaN</td>\n",
       "    </tr>\n",
       "    <tr>\n",
       "      <th>1</th>\n",
       "      <td>NaN</td>\n",
       "      <td>NaN</td>\n",
       "      <td>NaN</td>\n",
       "      <td>NaN</td>\n",
       "      <td>50</td>\n",
       "      <td>4610</td>\n",
       "      <td>1.0</td>\n",
       "      <td>2.0</td>\n",
       "      <td>10</td>\n",
       "      <td>NEW YORK WARD 10</td>\n",
       "      <td>...</td>\n",
       "      <td>NaN</td>\n",
       "      <td>NaN</td>\n",
       "      <td>NaN</td>\n",
       "      <td>NaN</td>\n",
       "      <td>0</td>\n",
       "      <td>0.0</td>\n",
       "      <td>NaN</td>\n",
       "      <td>NaN</td>\n",
       "      <td>NaN</td>\n",
       "      <td>NaN</td>\n",
       "    </tr>\n",
       "    <tr>\n",
       "      <th>2</th>\n",
       "      <td>NaN</td>\n",
       "      <td>NaN</td>\n",
       "      <td>NaN</td>\n",
       "      <td>NaN</td>\n",
       "      <td>35</td>\n",
       "      <td>4610</td>\n",
       "      <td>1.0</td>\n",
       "      <td>2.0</td>\n",
       "      <td>10</td>\n",
       "      <td>NEW YORK WARD 10</td>\n",
       "      <td>...</td>\n",
       "      <td>NaN</td>\n",
       "      <td>NaN</td>\n",
       "      <td>NaN</td>\n",
       "      <td>NaN</td>\n",
       "      <td>0</td>\n",
       "      <td>0.0</td>\n",
       "      <td>NaN</td>\n",
       "      <td>NaN</td>\n",
       "      <td>NaN</td>\n",
       "      <td>NaN</td>\n",
       "    </tr>\n",
       "    <tr>\n",
       "      <th>3</th>\n",
       "      <td>NaN</td>\n",
       "      <td>NaN</td>\n",
       "      <td>NaN</td>\n",
       "      <td>NaN</td>\n",
       "      <td>21</td>\n",
       "      <td>4610</td>\n",
       "      <td>1.0</td>\n",
       "      <td>2.0</td>\n",
       "      <td>10</td>\n",
       "      <td>NEW YORK WARD 10</td>\n",
       "      <td>...</td>\n",
       "      <td>NaN</td>\n",
       "      <td>NaN</td>\n",
       "      <td>NaN</td>\n",
       "      <td>NaN</td>\n",
       "      <td>0</td>\n",
       "      <td>0.0</td>\n",
       "      <td>NaN</td>\n",
       "      <td>NaN</td>\n",
       "      <td>NaN</td>\n",
       "      <td>NaN</td>\n",
       "    </tr>\n",
       "    <tr>\n",
       "      <th>4</th>\n",
       "      <td>NaN</td>\n",
       "      <td>NaN</td>\n",
       "      <td>NaN</td>\n",
       "      <td>NaN</td>\n",
       "      <td>24</td>\n",
       "      <td>4610</td>\n",
       "      <td>1.0</td>\n",
       "      <td>2.0</td>\n",
       "      <td>10</td>\n",
       "      <td>NEW YORK WARD 10</td>\n",
       "      <td>...</td>\n",
       "      <td>NaN</td>\n",
       "      <td>NaN</td>\n",
       "      <td>NaN</td>\n",
       "      <td>NaN</td>\n",
       "      <td>0</td>\n",
       "      <td>0.0</td>\n",
       "      <td>NaN</td>\n",
       "      <td>NaN</td>\n",
       "      <td>NaN</td>\n",
       "      <td>NaN</td>\n",
       "    </tr>\n",
       "    <tr>\n",
       "      <th>...</th>\n",
       "      <td>...</td>\n",
       "      <td>...</td>\n",
       "      <td>...</td>\n",
       "      <td>...</td>\n",
       "      <td>...</td>\n",
       "      <td>...</td>\n",
       "      <td>...</td>\n",
       "      <td>...</td>\n",
       "      <td>...</td>\n",
       "      <td>...</td>\n",
       "      <td>...</td>\n",
       "      <td>...</td>\n",
       "      <td>...</td>\n",
       "      <td>...</td>\n",
       "      <td>...</td>\n",
       "      <td>...</td>\n",
       "      <td>...</td>\n",
       "      <td>...</td>\n",
       "      <td>...</td>\n",
       "      <td>...</td>\n",
       "      <td>...</td>\n",
       "    </tr>\n",
       "    <tr>\n",
       "      <th>23096</th>\n",
       "      <td>NaN</td>\n",
       "      <td>NaN</td>\n",
       "      <td>NaN</td>\n",
       "      <td>NaN</td>\n",
       "      <td>30</td>\n",
       "      <td>4610</td>\n",
       "      <td>930.0</td>\n",
       "      <td>2062.0</td>\n",
       "      <td>6</td>\n",
       "      <td>NEW YORK WARD 10</td>\n",
       "      <td>...</td>\n",
       "      <td>NaN</td>\n",
       "      <td>NaN</td>\n",
       "      <td>NaN</td>\n",
       "      <td>NaN</td>\n",
       "      <td>48</td>\n",
       "      <td>1043.0</td>\n",
       "      <td>NaN</td>\n",
       "      <td>NaN</td>\n",
       "      <td>NaN</td>\n",
       "      <td>NaN</td>\n",
       "    </tr>\n",
       "    <tr>\n",
       "      <th>23097</th>\n",
       "      <td>NaN</td>\n",
       "      <td>NaN</td>\n",
       "      <td>NaN</td>\n",
       "      <td>NaN</td>\n",
       "      <td>5</td>\n",
       "      <td>4610</td>\n",
       "      <td>930.0</td>\n",
       "      <td>2062.0</td>\n",
       "      <td>6</td>\n",
       "      <td>NEW YORK WARD 10</td>\n",
       "      <td>...</td>\n",
       "      <td>NaN</td>\n",
       "      <td>NaN</td>\n",
       "      <td>NaN</td>\n",
       "      <td>NaN</td>\n",
       "      <td>48</td>\n",
       "      <td>1043.0</td>\n",
       "      <td>NaN</td>\n",
       "      <td>NaN</td>\n",
       "      <td>NaN</td>\n",
       "      <td>NaN</td>\n",
       "    </tr>\n",
       "    <tr>\n",
       "      <th>23098</th>\n",
       "      <td>NaN</td>\n",
       "      <td>NaN</td>\n",
       "      <td>NaN</td>\n",
       "      <td>NaN</td>\n",
       "      <td>3</td>\n",
       "      <td>4610</td>\n",
       "      <td>930.0</td>\n",
       "      <td>2062.0</td>\n",
       "      <td>6</td>\n",
       "      <td>NEW YORK WARD 10</td>\n",
       "      <td>...</td>\n",
       "      <td>NaN</td>\n",
       "      <td>NaN</td>\n",
       "      <td>NaN</td>\n",
       "      <td>NaN</td>\n",
       "      <td>48</td>\n",
       "      <td>1043.0</td>\n",
       "      <td>NaN</td>\n",
       "      <td>NaN</td>\n",
       "      <td>NaN</td>\n",
       "      <td>NaN</td>\n",
       "    </tr>\n",
       "    <tr>\n",
       "      <th>23099</th>\n",
       "      <td>NaN</td>\n",
       "      <td>NaN</td>\n",
       "      <td>NaN</td>\n",
       "      <td>NaN</td>\n",
       "      <td>0</td>\n",
       "      <td>4610</td>\n",
       "      <td>930.0</td>\n",
       "      <td>2062.0</td>\n",
       "      <td>6</td>\n",
       "      <td>NEW YORK WARD 10</td>\n",
       "      <td>...</td>\n",
       "      <td>NaN</td>\n",
       "      <td>NaN</td>\n",
       "      <td>NaN</td>\n",
       "      <td>NaN</td>\n",
       "      <td>48</td>\n",
       "      <td>1043.0</td>\n",
       "      <td>NaN</td>\n",
       "      <td>NaN</td>\n",
       "      <td>NaN</td>\n",
       "      <td>NaN</td>\n",
       "    </tr>\n",
       "    <tr>\n",
       "      <th>23100</th>\n",
       "      <td>NaN</td>\n",
       "      <td>NaN</td>\n",
       "      <td>NaN</td>\n",
       "      <td>NaN</td>\n",
       "      <td>25</td>\n",
       "      <td>4610</td>\n",
       "      <td>930.0</td>\n",
       "      <td>2062.0</td>\n",
       "      <td>6</td>\n",
       "      <td>NEW YORK WARD 10</td>\n",
       "      <td>...</td>\n",
       "      <td>NaN</td>\n",
       "      <td>NaN</td>\n",
       "      <td>NaN</td>\n",
       "      <td>NaN</td>\n",
       "      <td>48</td>\n",
       "      <td>1043.0</td>\n",
       "      <td>NaN</td>\n",
       "      <td>NaN</td>\n",
       "      <td>NaN</td>\n",
       "      <td>NaN</td>\n",
       "    </tr>\n",
       "  </tbody>\n",
       "</table>\n",
       "<p>23101 rows × 50 columns</p>\n",
       "</div>"
      ],
      "text/plain": [
       "       block_num CD_ADDRESS  cd_X  cd_Y  CENSUS_AGE  CENSUS_CITY  \\\n",
       "0            NaN        NaN   NaN   NaN          16         4610   \n",
       "1            NaN        NaN   NaN   NaN          50         4610   \n",
       "2            NaN        NaN   NaN   NaN          35         4610   \n",
       "3            NaN        NaN   NaN   NaN          21         4610   \n",
       "4            NaN        NaN   NaN   NaN          24         4610   \n",
       "...          ...        ...   ...   ...         ...          ...   \n",
       "23096        NaN        NaN   NaN   NaN          30         4610   \n",
       "23097        NaN        NaN   NaN   NaN           5         4610   \n",
       "23098        NaN        NaN   NaN   NaN           3         4610   \n",
       "23099        NaN        NaN   NaN   NaN           0         4610   \n",
       "23100        NaN        NaN   NaN   NaN          25         4610   \n",
       "\n",
       "       CENSUS_DWELLING_NUM  CENSUS_DWELLING_SEQ  CENSUS_DWELLING_SIZE  \\\n",
       "0                      1.0                  1.0                     1   \n",
       "1                      1.0                  2.0                    10   \n",
       "2                      1.0                  2.0                    10   \n",
       "3                      1.0                  2.0                    10   \n",
       "4                      1.0                  2.0                    10   \n",
       "...                    ...                  ...                   ...   \n",
       "23096                930.0               2062.0                     6   \n",
       "23097                930.0               2062.0                     6   \n",
       "23098                930.0               2062.0                     6   \n",
       "23099                930.0               2062.0                     6   \n",
       "23100                930.0               2062.0                     6   \n",
       "\n",
       "            CENSUS_GEOG  ...  num_between sequence_order_enum  dist  \\\n",
       "0      NEW YORK WARD 10  ...          NaN                 NaN   NaN   \n",
       "1      NEW YORK WARD 10  ...          NaN                 NaN   NaN   \n",
       "2      NEW YORK WARD 10  ...          NaN                 NaN   NaN   \n",
       "3      NEW YORK WARD 10  ...          NaN                 NaN   NaN   \n",
       "4      NEW YORK WARD 10  ...          NaN                 NaN   NaN   \n",
       "...                 ...  ...          ...                 ...   ...   \n",
       "23096  NEW YORK WARD 10  ...          NaN                 NaN   NaN   \n",
       "23097  NEW YORK WARD 10  ...          NaN                 NaN   NaN   \n",
       "23098  NEW YORK WARD 10  ...          NaN                 NaN   NaN   \n",
       "23099  NEW YORK WARD 10  ...          NaN                 NaN   NaN   \n",
       "23100  NEW YORK WARD 10  ...          NaN                 NaN   NaN   \n",
       "\n",
       "       sequence_len fixed_seq  dwelling_seq_id  enum_dist_id  enum_dist_order  \\\n",
       "0               NaN         0              0.0           NaN              NaN   \n",
       "1               NaN         0              0.0           NaN              NaN   \n",
       "2               NaN         0              0.0           NaN              NaN   \n",
       "3               NaN         0              0.0           NaN              NaN   \n",
       "4               NaN         0              0.0           NaN              NaN   \n",
       "...             ...       ...              ...           ...              ...   \n",
       "23096           NaN        48           1043.0           NaN              NaN   \n",
       "23097           NaN        48           1043.0           NaN              NaN   \n",
       "23098           NaN        48           1043.0           NaN              NaN   \n",
       "23099           NaN        48           1043.0           NaN              NaN   \n",
       "23100           NaN        48           1043.0           NaN              NaN   \n",
       "\n",
       "      enum_dist enum_sequence_len  \n",
       "0           NaN               NaN  \n",
       "1           NaN               NaN  \n",
       "2           NaN               NaN  \n",
       "3           NaN               NaN  \n",
       "4           NaN               NaN  \n",
       "...         ...               ...  \n",
       "23096       NaN               NaN  \n",
       "23097       NaN               NaN  \n",
       "23098       NaN               NaN  \n",
       "23099       NaN               NaN  \n",
       "23100       NaN               NaN  \n",
       "\n",
       "[23101 rows x 50 columns]"
      ]
     },
     "execution_count": 18,
     "metadata": {},
     "output_type": "execute_result"
    }
   ],
   "source": [
    "census_enum_seq.df"
   ]
  },
  {
   "cell_type": "code",
   "execution_count": 22,
   "metadata": {},
   "outputs": [
    {
     "data": {
      "text/plain": [
       "sequence_id        170\n",
       "dwelling_seq_id      2\n",
       "fixed_seq           49\n",
       "enum_dist_id       164\n",
       "dtype: int64"
      ]
     },
     "execution_count": 22,
     "metadata": {},
     "output_type": "execute_result"
    }
   ],
   "source": [
    "census_enum_seq.df[[\"sequence_id\", \"dwelling_seq_id\", \"fixed_seq\", \"enum_dist_id\"]].apply(lambda x: len(x.unique()))"
   ]
  },
  {
   "cell_type": "code",
   "execution_count": 21,
   "metadata": {},
   "outputs": [
    {
     "data": {
      "text/plain": [
       "array([  nan,   38.,   41.,   64.,   65.,   69.,   74.,  105.,  127.,\n",
       "        133.,  140.,  142.,  152.,  155.,  159.,  161.,  172.,  190.,\n",
       "        196.,  204.,  219.,  221.,  230.,  239.,  258.,  260.,  273.,\n",
       "        298.,  299.,  323.,  330.,  331.,  341.,  372.,  373.,  375.,\n",
       "        385.,  389.,  423.,  428.,  448.,  465.,  474.,  476.,  491.,\n",
       "        501.,  502.,  522.,  551.,  557.,  596.,  601.,  620.,  622.,\n",
       "        668.,  685.,  686.,  687.,  699.,  701.,  705.,  708.,  747.,\n",
       "        761.,  773.,  776.,  779.,  795.,  799.,  818.,  821.,  831.,\n",
       "        843.,  851.,  852.,  859.,  871.,  880.,  894.,  900.,  911.,\n",
       "        929.,  933.,  946.,  947.,  962.,  976.,  978., 1007., 1022.,\n",
       "       1028., 1050., 1054., 1067., 1069., 1096., 1112., 1121., 1135.,\n",
       "       1171., 1182., 1206., 1208., 1212., 1224., 1237., 1243., 1256.,\n",
       "       1261., 1290., 1294., 1311., 1312., 1314., 1316., 1322., 1348.,\n",
       "       1353., 1374., 1375., 1383., 1384., 1427., 1483., 1497., 1515.,\n",
       "       1522., 1524., 1534., 1543., 1544., 1554., 1585., 1593., 1598.,\n",
       "       1607., 1614., 1629., 1661., 1662., 1663., 1666., 1667., 1676.,\n",
       "       1679., 1699., 1713., 1715., 1721., 1722., 1729., 1739., 1746.,\n",
       "       1759., 1763., 1777., 1784., 1787., 1810., 1811., 1826., 1827.,\n",
       "       1859., 1879., 1885., 1897., 1899., 1922., 1930., 1970.])"
      ]
     },
     "execution_count": 21,
     "metadata": {},
     "output_type": "execute_result"
    }
   ],
   "source": [
    "census_enum_seq.df['sequence_id'].unique()"
   ]
  },
  {
   "cell_type": "markdown",
   "metadata": {},
   "source": [
    "## create similarity labels"
   ]
  },
  {
   "cell_type": "code",
   "execution_count": 23,
   "metadata": {},
   "outputs": [
    {
     "name": "stdout",
     "output_type": "stream",
     "text": [
      "Init: initializing centroids\n",
      "Init: initializing clusters\n",
      "Starting iterations...\n",
      "Run 1, iteration: 1/100, moves: 74, cost: 2812.0\n",
      "Run 1, iteration: 2/100, moves: 0, cost: 2812.0\n"
     ]
    }
   ],
   "source": [
    "similar_cols = [\"sequence_id\", \"dwelling_seq_id\", \"fixed_seq\", \"enum_dist_id\"]\n",
    "census_enum_seq.apply_similarity(sim_columns=similar_cols, k=150)"
   ]
  },
  {
   "cell_type": "code",
   "execution_count": 27,
   "metadata": {},
   "outputs": [
    {
     "data": {
      "text/plain": [
       "29     511\n",
       "2      492\n",
       "24     478\n",
       "5      457\n",
       "21     456\n",
       "      ... \n",
       "120      7\n",
       "118      6\n",
       "122      6\n",
       "129      5\n",
       "145      3\n",
       "Name: similarity_label, Length: 150, dtype: int64"
      ]
     },
     "execution_count": 27,
     "metadata": {},
     "output_type": "execute_result"
    }
   ],
   "source": [
    "census_enum_seq.df['similarity_label'].value_counts()"
   ]
  },
  {
   "cell_type": "code",
   "execution_count": 28,
   "metadata": {},
   "outputs": [
    {
     "data": {
      "text/plain": [
       "Index(['block_num', 'CD_ADDRESS', 'cd_X', 'cd_Y', 'CENSUS_AGE', 'CENSUS_CITY',\n",
       "       'CENSUS_DWELLING_NUM', 'CENSUS_DWELLING_SEQ', 'CENSUS_DWELLING_SIZE',\n",
       "       'CENSUS_GEOG', 'CENSUS_HH_NUM', 'CENSUS_ID', 'CENSUS_IMPREL',\n",
       "       'CENSUS_INDEX', 'CENSUS_IPUMS_UID', 'CENSUS_LABFORCE', 'CENSUS_LINE',\n",
       "       'CENSUS_MARST', 'CENSUS_NAMEFRST', 'CENSUS_NAMELAST', 'CENSUS_OCCSTR',\n",
       "       'CENSUS_PAGENUM', 'CENSUS_PLACE', 'CENSUS_RACEB', 'CENSUS_REEL',\n",
       "       'CENSUS_SEQ_NUM', 'CENSUS_SERIALB', 'CENSUS_SEXB', 'Ward_Num',\n",
       "       'dwelling_id', 'spatial_weight', 'spatial_weight_sum',\n",
       "       'CENSUS_PAGENO_HOUSEHOLD', 'CENSUS_PAGENNO', 'CENSUS_WARD_NUM',\n",
       "       'CENSUS_REEL_HOUSEHOLD', 'CENSUS_ENUMERATOR_NUM',\n",
       "       'CENSUS_ENUMERATOR_DATE', 'ANCESTRY_REF', 'sequence_id', 'num_between',\n",
       "       'sequence_order_enum', 'dist', 'sequence_len', 'fixed_seq',\n",
       "       'dwelling_seq_id', 'enum_dist_id', 'enum_dist_order', 'enum_dist',\n",
       "       'enum_sequence_len', 'similarity_label'],\n",
       "      dtype='object')"
      ]
     },
     "execution_count": 28,
     "metadata": {},
     "output_type": "execute_result"
    }
   ],
   "source": [
    "census_enum_seq.df.columns"
   ]
  },
  {
   "cell_type": "markdown",
   "metadata": {},
   "source": [
    "## preprocessing\n",
    "\n",
    "only on sequences\n",
    "\n",
    "* This could be a problem. There are sim labels that never appear in the training set but only on test set. Thus, it can't be applied."
   ]
  },
  {
   "cell_type": "code",
   "execution_count": 29,
   "metadata": {},
   "outputs": [],
   "source": [
    "all_cols = [\"CENSUS_SERIALB\", \"CENSUS_AGE\", \"CENSUS_PAGENUM\", \"CENSUS_SEXB\", \"CENSUS_RACEB\", \n",
    "            \"sequence_id\", \"CENSUS_DWELLING_SIZE\",\"CENSUS_SEQ_NUM\", \"CENSUS_LABFORCE\", \"CENSUS_LINE\", \n",
    "            \"CENSUS_MARST\", \"CENSUS_NAMEFRST\", \"CENSUS_NAMELAST\", \"CENSUS_OCCSTR\", \"CENSUS_IMPREL\",\n",
    "            \"sequence_order_enum\", 'CENSUS_DWELLING_SEQ', \"dwelling_seq_id\", \"fixed_seq\", \"enum_dist_id\", \n",
    "            \"enum_dist_order\"]\n",
    "\n",
    "# transformer = ColumnTransformer(transformers=[('target', TargetEncoder(), all_cols), \n",
    "#                                               ('onehot', OneHotEncoder(handle_unknown='ignore'), ['similarity_label'])])\n",
    "\n",
    "transformer = ColumnTransformer(transformers=[('onehot', OneHotEncoder(handle_unknown='ignore'), ['similarity_label'])])\n",
    "\n",
    "# define pipeline\n",
    "pipeline = Pipeline(steps=[('preprocess', transformer), \n",
    "                           ('classifier',XGBClassifier(colsample_bytree = 0.6, max_depth = 2, \n",
    "                                                       n_estimators = 50))])"
   ]
  },
  {
   "cell_type": "code",
   "execution_count": 30,
   "metadata": {},
   "outputs": [
    {
     "name": "stdout",
     "output_type": "stream",
     "text": [
      "n is 5 and it's the 10th iteration\n",
      "n is 5 and it's the 20th iteration\n",
      "n is 5 and it's the 30th iteration\n",
      "n is 5 and it's the 40th iteration\n",
      "n is 5 and it's the 50th iteration\n"
     ]
    },
    {
     "data": {
      "image/png": "[encoded data removed]",
      "text/plain": [
       "<Figure size 576x576 with 1 Axes>"
      ]
     },
     "metadata": {
      "needs_background": "light"
     },
     "output_type": "display_data"
    }
   ],
   "source": [
    "interpolate_sequences = CentroidInterpolator(census_enum_seq, 10, pipeline, all_cols + ['similarity_label'],\n",
    "                                             KMeans(5), block_centroids)\n",
    "score, model = interpolate_sequences.kmeans_best(5)\n",
    "interpolate_sequences.set_clustering_algo(model)\n",
    "interpolate_sequences.apply_clustering(algo_fit = True)\n",
    "interpolate_sequences.clustervis(kmeans = True)"
   ]
  },
  {
   "cell_type": "code",
   "execution_count": 61,
   "metadata": {},
   "outputs": [],
   "source": [
    "summary_df = interpolate_sequences.df[['similarity_label', 'cluster', 'block_num']]\n",
    "cnt = summary_df.groupby(['similarity_label', 'cluster'], as_index=False)['block_num'].agg('count')\n",
    "total = summary_df.groupby('similarity_label', as_index=False)['block_num'].agg('count')\n",
    "summary_df = cnt.merge(total, on='similarity_label', how='left')\n",
    "summary_df['membership'] = summary_df['block_num_x']/summary_df['block_num_y']*100\n",
    "summary_df.drop(columns=['block_num_x', 'block_num_y'], inplace=True)\n",
    "summary_df = summary_df.pivot_table(index='similarity_label', columns='cluster', values='membership')\n",
    "summary_df.fillna('0', inplace=True)\n",
    "summary_df.reset_index(inplace=True)\n",
    "summary_df = summary_df.merge(total, on='similarity_label', how='left')\n",
    "summary_df.rename(columns={'block_num': 'count'}, inplace=True)\n",
    "summary_df.to_csv('../../membership_table_1.csv', index=False)"
   ]
  },
  {
   "cell_type": "code",
   "execution_count": 65,
   "metadata": {},
   "outputs": [
    {
     "data": {
      "text/html": [
       "<div>\n",
       "<style scoped>\n",
       "    .dataframe tbody tr th:only-of-type {\n",
       "        vertical-align: middle;\n",
       "    }\n",
       "\n",
       "    .dataframe tbody tr th {\n",
       "        vertical-align: top;\n",
       "    }\n",
       "\n",
       "    .dataframe thead th {\n",
       "        text-align: right;\n",
       "    }\n",
       "</style>\n",
       "<table border=\"1\" class=\"dataframe\">\n",
       "  <thead>\n",
       "    <tr style=\"text-align: right;\">\n",
       "      <th></th>\n",
       "      <th>similarity_label</th>\n",
       "      <th>cluster</th>\n",
       "      <th>block_num</th>\n",
       "    </tr>\n",
       "  </thead>\n",
       "  <tbody>\n",
       "  </tbody>\n",
       "</table>\n",
       "</div>"
      ],
      "text/plain": [
       "Empty DataFrame\n",
       "Columns: [similarity_label, cluster, block_num]\n",
       "Index: []"
      ]
     },
     "execution_count": 65,
     "metadata": {},
     "output_type": "execute_result"
    }
   ],
   "source": [
    "temp = interpolate_sequences.df[['similarity_label', 'cluster', 'block_num']]\n",
    "temp.loc[temp['similarity_label']==0]"
   ]
  },
  {
   "cell_type": "code",
   "execution_count": 73,
   "metadata": {},
   "outputs": [
    {
     "data": {
      "text/plain": [
       "1193   NaN\n",
       "1194   NaN\n",
       "1195   NaN\n",
       "1196   NaN\n",
       "1197   NaN\n",
       "        ..\n",
       "1753   NaN\n",
       "1754   NaN\n",
       "1755   NaN\n",
       "1756   NaN\n",
       "1757   NaN\n",
       "Name: block_num, Length: 436, dtype: float64"
      ]
     },
     "execution_count": 73,
     "metadata": {},
     "output_type": "execute_result"
    }
   ],
   "source": [
    "temp = census_enum_seq.df[['similarity_label','block_num']]\n",
    "temp.loc[temp['similarity_label'] == 0]['block_num']\n",
    "# temp.groupby('similarity_label')['block_num'].agg('count')"
   ]
  },
  {
   "cell_type": "code",
   "execution_count": 71,
   "metadata": {},
   "outputs": [
    {
     "data": {
      "text/plain": [
       "(23101, 51)"
      ]
     },
     "execution_count": 71,
     "metadata": {},
     "output_type": "execute_result"
    }
   ],
   "source": [
    "census_enum_seq.df.shape"
   ]
  },
  {
   "cell_type": "code",
   "execution_count": 66,
   "metadata": {},
   "outputs": [
    {
     "data": {
      "text/plain": [
       "(5833, 52)"
      ]
     },
     "execution_count": 66,
     "metadata": {},
     "output_type": "execute_result"
    }
   ],
   "source": [
    "interpolate_sequences.df.shape"
   ]
  },
  {
   "cell_type": "code",
   "execution_count": 36,
   "metadata": {
    "scrolled": true
   },
   "outputs": [
    {
     "data": {
      "image/png": "[encoded data removed]",
      "text/plain": [
       "<Figure size 360x1440 with 5 Axes>"
      ]
     },
     "metadata": {
      "needs_background": "light"
     },
     "output_type": "display_data"
    }
   ],
   "source": [
    "fig, ax = plt.subplots(5, 1,figsize=(5, 20))\n",
    "for i in range(5):\n",
    "    temp = interpolate_sequences.df.loc[interpolate_sequences.df['cluster'] == i]['similarity_label']\n",
    "    temp = temp.value_counts()\n",
    "    temp.sort_values(inplace=True)\n",
    "    ax[i].bar(temp.index, temp.values)"
   ]
  },
  {
   "cell_type": "code",
   "execution_count": 31,
   "metadata": {},
   "outputs": [
    {
     "name": "stdout",
     "output_type": "stream",
     "text": [
      "Cross Validation\n",
      "avg Training score: 0.8256987233988511\n",
      "Test score: [0.6584887144259077, 0.6198979591836735, 0.5135363790186125, 0.6081668114682884, 0.6488609583660644, 0.6441281138790036, 0.6867061812023709, 0.7021466905187835, 0.6677577741407529, 0.6551418439716312]\n",
      "avg Test score: 0.6404831426175089\n"
     ]
    }
   ],
   "source": [
    "## retrain model using kmodes result\n",
    "\n",
    "interpolate_sequences.cross_validate_model(k=10)\n",
    "print('Cross Validation')\n",
    "print(\"avg Training score:\", np.array(interpolate_sequences.train_score).mean())\n",
    "print('Test score:', interpolate_sequences.test_score)\n",
    "print(\"avg Test score:\", np.array(interpolate_sequences.test_score).mean())"
   ]
  },
  {
   "cell_type": "markdown",
   "metadata": {},
   "source": [
    "## preprocessing\n",
    "\n",
    "same setting + 150 similarity labels"
   ]
  },
  {
   "cell_type": "code",
   "execution_count": 37,
   "metadata": {},
   "outputs": [],
   "source": [
    "all_cols = [\"CENSUS_SERIALB\", \"CENSUS_AGE\", \"CENSUS_PAGENUM\", \"CENSUS_SEXB\", \"CENSUS_RACEB\", \n",
    "            \"sequence_id\", \"CENSUS_DWELLING_SIZE\",\"CENSUS_SEQ_NUM\", \"CENSUS_LABFORCE\", \"CENSUS_LINE\", \n",
    "            \"CENSUS_MARST\", \"CENSUS_NAMEFRST\", \"CENSUS_NAMELAST\", \"CENSUS_OCCSTR\", \"CENSUS_IMPREL\",\n",
    "            \"sequence_order_enum\", 'CENSUS_DWELLING_SEQ', \"dwelling_seq_id\", \"fixed_seq\", \"enum_dist_id\", \n",
    "            \"enum_dist_order\"]\n",
    "\n",
    "transformer = ColumnTransformer(transformers=[('target', TargetEncoder(), all_cols), \n",
    "                                              ('onehot', OneHotEncoder(handle_unknown='ignore'), ['similarity_label'])])\n",
    "\n",
    "# define pipeline\n",
    "pipeline = Pipeline(steps=[('preprocess', transformer), \n",
    "                           ('classifier',XGBClassifier(colsample_bytree = 0.6, max_depth = 2, \n",
    "                                                       n_estimators = 50))])"
   ]
  },
  {
   "cell_type": "code",
   "execution_count": 38,
   "metadata": {},
   "outputs": [
    {
     "name": "stdout",
     "output_type": "stream",
     "text": [
      "n is 5 and it's the 10th iteration\n",
      "n is 5 and it's the 20th iteration\n",
      "n is 5 and it's the 30th iteration\n",
      "n is 5 and it's the 40th iteration\n",
      "n is 5 and it's the 50th iteration\n"
     ]
    },
    {
     "data": {
      "image/png": "[encoded data removed]",
      "text/plain": [
       "<Figure size 576x576 with 1 Axes>"
      ]
     },
     "metadata": {
      "needs_background": "light"
     },
     "output_type": "display_data"
    }
   ],
   "source": [
    "interpolate_sequences_all = CentroidInterpolator(census_enum_seq, 10, pipeline, all_cols + ['similarity_label'],\n",
    "                                             KMeans(5), block_centroids)\n",
    "score, model = interpolate_sequences_all.kmeans_best(5)\n",
    "interpolate_sequences_all.set_clustering_algo(model)\n",
    "interpolate_sequences_all.apply_clustering(algo_fit = True)\n",
    "interpolate_sequences_all.clustervis(kmeans = True)"
   ]
  },
  {
   "cell_type": "code",
   "execution_count": 39,
   "metadata": {},
   "outputs": [
    {
     "name": "stdout",
     "output_type": "stream",
     "text": [
      "Cross Validation\n",
      "avg Training score: 0.9825292413798941\n",
      "Test score: [0.6398026315789473, 0.6020066889632107, 0.689802913453299, 0.633249791144528, 0.597691673536686, 0.5547765118317266, 0.6493955094991365, 0.6993699369936993, 0.588021778584392, 0.5637130801687764]\n",
      "avg Test score: 0.6217830515754401\n"
     ]
    }
   ],
   "source": [
    "## retrain model using kmodes result\n",
    "\n",
    "interpolate_sequences_all.cross_validate_model(k=10)\n",
    "print('Cross Validation')\n",
    "print(\"avg Training score:\", np.array(interpolate_sequences_all.train_score).mean())\n",
    "print('Test score:', interpolate_sequences_all.test_score)\n",
    "print(\"avg Test score:\", np.array(interpolate_sequences_all.test_score).mean())"
   ]
  },
  {
   "cell_type": "markdown",
   "metadata": {},
   "source": [
    "# =========="
   ]
  },
  {
   "cell_type": "markdown",
   "metadata": {},
   "source": [
    "## Train and test the model"
   ]
  },
  {
   "cell_type": "code",
   "execution_count": 11,
   "metadata": {},
   "outputs": [],
   "source": [
    "train,test = interpolate_sequences.stratified_train_test()\n",
    "interpolate_sequences.train_test_model(train, test)"
   ]
  },
  {
   "cell_type": "code",
   "execution_count": 12,
   "metadata": {},
   "outputs": [
    {
     "name": "stdout",
     "output_type": "stream",
     "text": [
      "Training score: 0.9845338046840477\n",
      "Test score: 0.5332823259372609\n"
     ]
    }
   ],
   "source": [
    "print(\"Training score:\",interpolate_sequences.train_score)\n",
    "print(\"Test score:\", interpolate_sequences.test_score)"
   ]
  },
  {
   "cell_type": "code",
   "execution_count": 13,
   "metadata": {},
   "outputs": [],
   "source": [
    "test['pred_cluster'] = interpolate_sequences.model.predict(test)"
   ]
  },
  {
   "cell_type": "code",
   "execution_count": 14,
   "metadata": {},
   "outputs": [
    {
     "data": {
      "text/html": [
       "<div>\n",
       "<style scoped>\n",
       "    .dataframe tbody tr th:only-of-type {\n",
       "        vertical-align: middle;\n",
       "    }\n",
       "\n",
       "    .dataframe tbody tr th {\n",
       "        vertical-align: top;\n",
       "    }\n",
       "\n",
       "    .dataframe thead th {\n",
       "        text-align: right;\n",
       "    }\n",
       "</style>\n",
       "<table border=\"1\" class=\"dataframe\">\n",
       "  <thead>\n",
       "    <tr style=\"text-align: right;\">\n",
       "      <th></th>\n",
       "      <th>block_num</th>\n",
       "      <th>CD_ADDRESS</th>\n",
       "      <th>cd_X</th>\n",
       "      <th>cd_Y</th>\n",
       "      <th>CENSUS_AGE</th>\n",
       "      <th>CENSUS_CITY</th>\n",
       "      <th>CENSUS_DWELLING_NUM</th>\n",
       "      <th>CENSUS_DWELLING_SEQ</th>\n",
       "      <th>CENSUS_DWELLING_SIZE</th>\n",
       "      <th>CENSUS_GEOG</th>\n",
       "      <th>...</th>\n",
       "      <th>sequence_len</th>\n",
       "      <th>fixed_seq</th>\n",
       "      <th>dwelling_seq_id</th>\n",
       "      <th>enum_dist_id</th>\n",
       "      <th>enum_dist_order</th>\n",
       "      <th>enum_dist</th>\n",
       "      <th>enum_sequence_len</th>\n",
       "      <th>similarity_label</th>\n",
       "      <th>cluster</th>\n",
       "      <th>pred_cluster</th>\n",
       "    </tr>\n",
       "  </thead>\n",
       "  <tbody>\n",
       "    <tr>\n",
       "      <th>359</th>\n",
       "      <td>198.0</td>\n",
       "      <td>122 Forsyth</td>\n",
       "      <td>-73.992273</td>\n",
       "      <td>40.719295</td>\n",
       "      <td>36</td>\n",
       "      <td>4610</td>\n",
       "      <td>42.0</td>\n",
       "      <td>69.0</td>\n",
       "      <td>3</td>\n",
       "      <td>NEW YORK WARD 10</td>\n",
       "      <td>...</td>\n",
       "      <td>23.0</td>\n",
       "      <td>1</td>\n",
       "      <td>0.0</td>\n",
       "      <td>41</td>\n",
       "      <td>0.0</td>\n",
       "      <td>0.368425</td>\n",
       "      <td>23.0</td>\n",
       "      <td>0</td>\n",
       "      <td>1</td>\n",
       "      <td>2</td>\n",
       "    </tr>\n",
       "    <tr>\n",
       "      <th>360</th>\n",
       "      <td>198.0</td>\n",
       "      <td>122 Forsyth</td>\n",
       "      <td>-73.992273</td>\n",
       "      <td>40.719295</td>\n",
       "      <td>35</td>\n",
       "      <td>4610</td>\n",
       "      <td>42.0</td>\n",
       "      <td>69.0</td>\n",
       "      <td>3</td>\n",
       "      <td>NEW YORK WARD 10</td>\n",
       "      <td>...</td>\n",
       "      <td>23.0</td>\n",
       "      <td>1</td>\n",
       "      <td>0.0</td>\n",
       "      <td>41</td>\n",
       "      <td>0.0</td>\n",
       "      <td>0.368425</td>\n",
       "      <td>23.0</td>\n",
       "      <td>0</td>\n",
       "      <td>1</td>\n",
       "      <td>2</td>\n",
       "    </tr>\n",
       "    <tr>\n",
       "      <th>361</th>\n",
       "      <td>198.0</td>\n",
       "      <td>122 Forsyth</td>\n",
       "      <td>-73.992273</td>\n",
       "      <td>40.719295</td>\n",
       "      <td>5</td>\n",
       "      <td>4610</td>\n",
       "      <td>42.0</td>\n",
       "      <td>69.0</td>\n",
       "      <td>3</td>\n",
       "      <td>NEW YORK WARD 10</td>\n",
       "      <td>...</td>\n",
       "      <td>23.0</td>\n",
       "      <td>1</td>\n",
       "      <td>0.0</td>\n",
       "      <td>41</td>\n",
       "      <td>0.0</td>\n",
       "      <td>0.368425</td>\n",
       "      <td>23.0</td>\n",
       "      <td>0</td>\n",
       "      <td>1</td>\n",
       "      <td>2</td>\n",
       "    </tr>\n",
       "    <tr>\n",
       "      <th>362</th>\n",
       "      <td>198.0</td>\n",
       "      <td>122 Forsyth</td>\n",
       "      <td>-73.992273</td>\n",
       "      <td>40.719295</td>\n",
       "      <td>33</td>\n",
       "      <td>4610</td>\n",
       "      <td>42.0</td>\n",
       "      <td>70.0</td>\n",
       "      <td>5</td>\n",
       "      <td>NEW YORK WARD 10</td>\n",
       "      <td>...</td>\n",
       "      <td>23.0</td>\n",
       "      <td>1</td>\n",
       "      <td>0.0</td>\n",
       "      <td>41</td>\n",
       "      <td>0.0</td>\n",
       "      <td>0.368425</td>\n",
       "      <td>23.0</td>\n",
       "      <td>0</td>\n",
       "      <td>1</td>\n",
       "      <td>2</td>\n",
       "    </tr>\n",
       "    <tr>\n",
       "      <th>363</th>\n",
       "      <td>198.0</td>\n",
       "      <td>122 Forsyth</td>\n",
       "      <td>-73.992273</td>\n",
       "      <td>40.719295</td>\n",
       "      <td>25</td>\n",
       "      <td>4610</td>\n",
       "      <td>42.0</td>\n",
       "      <td>70.0</td>\n",
       "      <td>5</td>\n",
       "      <td>NEW YORK WARD 10</td>\n",
       "      <td>...</td>\n",
       "      <td>23.0</td>\n",
       "      <td>1</td>\n",
       "      <td>0.0</td>\n",
       "      <td>41</td>\n",
       "      <td>0.0</td>\n",
       "      <td>0.368425</td>\n",
       "      <td>23.0</td>\n",
       "      <td>0</td>\n",
       "      <td>1</td>\n",
       "      <td>2</td>\n",
       "    </tr>\n",
       "    <tr>\n",
       "      <th>...</th>\n",
       "      <td>...</td>\n",
       "      <td>...</td>\n",
       "      <td>...</td>\n",
       "      <td>...</td>\n",
       "      <td>...</td>\n",
       "      <td>...</td>\n",
       "      <td>...</td>\n",
       "      <td>...</td>\n",
       "      <td>...</td>\n",
       "      <td>...</td>\n",
       "      <td>...</td>\n",
       "      <td>...</td>\n",
       "      <td>...</td>\n",
       "      <td>...</td>\n",
       "      <td>...</td>\n",
       "      <td>...</td>\n",
       "      <td>...</td>\n",
       "      <td>...</td>\n",
       "      <td>...</td>\n",
       "      <td>...</td>\n",
       "      <td>...</td>\n",
       "    </tr>\n",
       "    <tr>\n",
       "      <th>22202</th>\n",
       "      <td>1268.0</td>\n",
       "      <td>79 Hester</td>\n",
       "      <td>-73.991170</td>\n",
       "      <td>40.716039</td>\n",
       "      <td>8</td>\n",
       "      <td>4610</td>\n",
       "      <td>860.0</td>\n",
       "      <td>1897.0</td>\n",
       "      <td>7</td>\n",
       "      <td>NEW YORK WARD 10</td>\n",
       "      <td>...</td>\n",
       "      <td>28.0</td>\n",
       "      <td>46</td>\n",
       "      <td>1043.0</td>\n",
       "      <td>1922</td>\n",
       "      <td>2.0</td>\n",
       "      <td>0.031715</td>\n",
       "      <td>28.0</td>\n",
       "      <td>1</td>\n",
       "      <td>0</td>\n",
       "      <td>0</td>\n",
       "    </tr>\n",
       "    <tr>\n",
       "      <th>22203</th>\n",
       "      <td>1268.0</td>\n",
       "      <td>79 Hester</td>\n",
       "      <td>-73.991170</td>\n",
       "      <td>40.716039</td>\n",
       "      <td>7</td>\n",
       "      <td>4610</td>\n",
       "      <td>860.0</td>\n",
       "      <td>1897.0</td>\n",
       "      <td>7</td>\n",
       "      <td>NEW YORK WARD 10</td>\n",
       "      <td>...</td>\n",
       "      <td>28.0</td>\n",
       "      <td>46</td>\n",
       "      <td>1043.0</td>\n",
       "      <td>1922</td>\n",
       "      <td>2.0</td>\n",
       "      <td>0.031715</td>\n",
       "      <td>28.0</td>\n",
       "      <td>1</td>\n",
       "      <td>0</td>\n",
       "      <td>0</td>\n",
       "    </tr>\n",
       "    <tr>\n",
       "      <th>22204</th>\n",
       "      <td>1268.0</td>\n",
       "      <td>79 Hester</td>\n",
       "      <td>-73.991170</td>\n",
       "      <td>40.716039</td>\n",
       "      <td>5</td>\n",
       "      <td>4610</td>\n",
       "      <td>860.0</td>\n",
       "      <td>1897.0</td>\n",
       "      <td>7</td>\n",
       "      <td>NEW YORK WARD 10</td>\n",
       "      <td>...</td>\n",
       "      <td>28.0</td>\n",
       "      <td>46</td>\n",
       "      <td>1043.0</td>\n",
       "      <td>1922</td>\n",
       "      <td>2.0</td>\n",
       "      <td>0.031715</td>\n",
       "      <td>28.0</td>\n",
       "      <td>1</td>\n",
       "      <td>0</td>\n",
       "      <td>0</td>\n",
       "    </tr>\n",
       "    <tr>\n",
       "      <th>22205</th>\n",
       "      <td>1268.0</td>\n",
       "      <td>79 Hester</td>\n",
       "      <td>-73.991170</td>\n",
       "      <td>40.716039</td>\n",
       "      <td>1</td>\n",
       "      <td>4610</td>\n",
       "      <td>860.0</td>\n",
       "      <td>1897.0</td>\n",
       "      <td>7</td>\n",
       "      <td>NEW YORK WARD 10</td>\n",
       "      <td>...</td>\n",
       "      <td>28.0</td>\n",
       "      <td>46</td>\n",
       "      <td>1043.0</td>\n",
       "      <td>1922</td>\n",
       "      <td>2.0</td>\n",
       "      <td>0.031715</td>\n",
       "      <td>28.0</td>\n",
       "      <td>1</td>\n",
       "      <td>0</td>\n",
       "      <td>0</td>\n",
       "    </tr>\n",
       "    <tr>\n",
       "      <th>22206</th>\n",
       "      <td>1268.0</td>\n",
       "      <td>79 Hester</td>\n",
       "      <td>-73.991170</td>\n",
       "      <td>40.716039</td>\n",
       "      <td>21</td>\n",
       "      <td>4610</td>\n",
       "      <td>860.0</td>\n",
       "      <td>1897.0</td>\n",
       "      <td>7</td>\n",
       "      <td>NEW YORK WARD 10</td>\n",
       "      <td>...</td>\n",
       "      <td>28.0</td>\n",
       "      <td>46</td>\n",
       "      <td>1043.0</td>\n",
       "      <td>1922</td>\n",
       "      <td>2.0</td>\n",
       "      <td>0.031715</td>\n",
       "      <td>28.0</td>\n",
       "      <td>1</td>\n",
       "      <td>0</td>\n",
       "      <td>0</td>\n",
       "    </tr>\n",
       "  </tbody>\n",
       "</table>\n",
       "<p>1307 rows × 53 columns</p>\n",
       "</div>"
      ],
      "text/plain": [
       "       block_num   CD_ADDRESS       cd_X       cd_Y  CENSUS_AGE  CENSUS_CITY  \\\n",
       "359        198.0  122 Forsyth -73.992273  40.719295          36         4610   \n",
       "360        198.0  122 Forsyth -73.992273  40.719295          35         4610   \n",
       "361        198.0  122 Forsyth -73.992273  40.719295           5         4610   \n",
       "362        198.0  122 Forsyth -73.992273  40.719295          33         4610   \n",
       "363        198.0  122 Forsyth -73.992273  40.719295          25         4610   \n",
       "...          ...          ...        ...        ...         ...          ...   \n",
       "22202     1268.0    79 Hester -73.991170  40.716039           8         4610   \n",
       "22203     1268.0    79 Hester -73.991170  40.716039           7         4610   \n",
       "22204     1268.0    79 Hester -73.991170  40.716039           5         4610   \n",
       "22205     1268.0    79 Hester -73.991170  40.716039           1         4610   \n",
       "22206     1268.0    79 Hester -73.991170  40.716039          21         4610   \n",
       "\n",
       "       CENSUS_DWELLING_NUM  CENSUS_DWELLING_SEQ  CENSUS_DWELLING_SIZE  \\\n",
       "359                   42.0                 69.0                     3   \n",
       "360                   42.0                 69.0                     3   \n",
       "361                   42.0                 69.0                     3   \n",
       "362                   42.0                 70.0                     5   \n",
       "363                   42.0                 70.0                     5   \n",
       "...                    ...                  ...                   ...   \n",
       "22202                860.0               1897.0                     7   \n",
       "22203                860.0               1897.0                     7   \n",
       "22204                860.0               1897.0                     7   \n",
       "22205                860.0               1897.0                     7   \n",
       "22206                860.0               1897.0                     7   \n",
       "\n",
       "            CENSUS_GEOG  ...  sequence_len fixed_seq  dwelling_seq_id  \\\n",
       "359    NEW YORK WARD 10  ...          23.0         1              0.0   \n",
       "360    NEW YORK WARD 10  ...          23.0         1              0.0   \n",
       "361    NEW YORK WARD 10  ...          23.0         1              0.0   \n",
       "362    NEW YORK WARD 10  ...          23.0         1              0.0   \n",
       "363    NEW YORK WARD 10  ...          23.0         1              0.0   \n",
       "...                 ...  ...           ...       ...              ...   \n",
       "22202  NEW YORK WARD 10  ...          28.0        46           1043.0   \n",
       "22203  NEW YORK WARD 10  ...          28.0        46           1043.0   \n",
       "22204  NEW YORK WARD 10  ...          28.0        46           1043.0   \n",
       "22205  NEW YORK WARD 10  ...          28.0        46           1043.0   \n",
       "22206  NEW YORK WARD 10  ...          28.0        46           1043.0   \n",
       "\n",
       "       enum_dist_id enum_dist_order  enum_dist  enum_sequence_len  \\\n",
       "359              41             0.0   0.368425               23.0   \n",
       "360              41             0.0   0.368425               23.0   \n",
       "361              41             0.0   0.368425               23.0   \n",
       "362              41             0.0   0.368425               23.0   \n",
       "363              41             0.0   0.368425               23.0   \n",
       "...             ...             ...        ...                ...   \n",
       "22202          1922             2.0   0.031715               28.0   \n",
       "22203          1922             2.0   0.031715               28.0   \n",
       "22204          1922             2.0   0.031715               28.0   \n",
       "22205          1922             2.0   0.031715               28.0   \n",
       "22206          1922             2.0   0.031715               28.0   \n",
       "\n",
       "       similarity_label cluster pred_cluster  \n",
       "359                   0       1            2  \n",
       "360                   0       1            2  \n",
       "361                   0       1            2  \n",
       "362                   0       1            2  \n",
       "363                   0       1            2  \n",
       "...                 ...     ...          ...  \n",
       "22202                 1       0            0  \n",
       "22203                 1       0            0  \n",
       "22204                 1       0            0  \n",
       "22205                 1       0            0  \n",
       "22206                 1       0            0  \n",
       "\n",
       "[1307 rows x 53 columns]"
      ]
     },
     "execution_count": 14,
     "metadata": {},
     "output_type": "execute_result"
    }
   ],
   "source": [
    "test"
   ]
  },
  {
   "cell_type": "code",
   "execution_count": null,
   "metadata": {},
   "outputs": [],
   "source": []
  }
 ],
 "metadata": {
  "kernelspec": {
   "display_name": "Python 3",
   "language": "python",
   "name": "python3"
  },
  "language_info": {
   "codemirror_mode": {
    "name": "ipython",
    "version": 3
   },
   "file_extension": ".py",
   "mimetype": "text/x-python",
   "name": "python",
   "nbconvert_exporter": "python",
   "pygments_lexer": "ipython3",
   "version": "3.7.3"
  }
 },
 "nbformat": 4,
 "nbformat_minor": 2
}
