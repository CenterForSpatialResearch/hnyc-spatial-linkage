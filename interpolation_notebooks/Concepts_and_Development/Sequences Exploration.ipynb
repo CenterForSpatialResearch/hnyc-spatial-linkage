{
 "cells": [
  {
   "cell_type": "code",
   "execution_count": 1,
   "metadata": {},
   "outputs": [],
   "source": [
    "import os\n",
    "import sys\n",
    "module_path = os.path.abspath(os.path.join('../..'))\n",
    "if module_path not in sys.path:\n",
    "    sys.path.append(module_path)\n",
    "%load_ext autoreload\n",
    "%autoreload 2\n",
    "import pandas as pd\n",
    "import numpy as np\n",
    "from interpolation import CensusData, sequences, BlockInterpolator, CentroidInterpolator, archive, interpolation\n",
    "from sklearn.pipeline import Pipeline\n",
    "from category_encoders.target_encoder import TargetEncoder\n",
    "from xgboost import XGBClassifier\n",
    "from sklearn.cluster import KMeans, AgglomerativeClustering, DBSCAN\n",
    "from sklearn.preprocessing import OrdinalEncoder\n",
    "from sklearn.compose import make_column_transformer\n",
    "from sklearn.ensemble import RandomForestClassifier"
   ]
  },
  {
   "cell_type": "code",
   "execution_count": 2,
   "metadata": {},
   "outputs": [],
   "source": [
    "#Change these values to rerun the notebook\n",
    "filled_1850 = pd.read_csv(\"../../data/dwelling_filled_sum_1850_mn_v01.csv\")\n",
    "cd_1850 = pd.read_csv(\"../../data/cd_1850_XYupdate.csv\") #For calculating centroids\n",
    "filled_1850.rename(columns = {\"CENSUS_WARD_NUM\":\"Ward_Num\", \"CENSUS_SERIALP\":\"CENSUS_SERIALB\", \"BLOCK_NUM\":\"block_num\", \"CENSUS_REEL_HOUSEHOLD\":\"CENSUS_REEL\", \"CENSUS_SEX\":\"CENSUS_SEXB\", \"CENSUS_PAGENO_HOUSEHOLD\":\"CENSUS_PAGENUM\", \"CENSUS_RACE\":\"CENSUS_RACEB\", \"CD_X\":\"cd_X\", \"CD_Y\":\"cd_Y\"}, inplace = True)\n",
    "ward_col = \"Ward_Num\"\n",
    "dwelling_col = \"dwelling_id\"\n",
    "dwelling_col_num = \"CENSUS_DWELLING_NUM\"\n",
    "block_col = \"block_num\"\n",
    "x_col = \"cd_X\"\n",
    "y_col = \"cd_Y\""
   ]
  },
  {
   "cell_type": "markdown",
   "metadata": {},
   "source": [
    "#### With both fixed length and distance sequences"
   ]
  },
  {
   "cell_type": "code",
   "execution_count": 3,
   "metadata": {},
   "outputs": [],
   "source": [
    "#set clustering algo -- this is to make sure that the same clustering algorithm is used\n",
    "#for each model, to ensure that testing is accurate\n",
    "#note fitting before hand won't work for all types of clustering, for example, with agglomerative\n",
    "#clustering this isn't going to work because the algorithm doesn't have a predict method\n",
    "clust_algo = AgglomerativeClustering(5)"
   ]
  },
  {
   "cell_type": "code",
   "execution_count": 4,
   "metadata": {},
   "outputs": [],
   "source": [
    "census_data = CensusData(filled_1850, ward_col=ward_col, dwelling_col=dwelling_col, block_col =  block_col, x_col = x_col, y_col = y_col)\n",
    "census_data.apply_sequencing(fixed = True, distance = True)"
   ]
  },
  {
   "cell_type": "code",
   "execution_count": 5,
   "metadata": {},
   "outputs": [],
   "source": [
    "all_cols = [\"CENSUS_SERIALB\", \"CENSUS_AGE\", \"CENSUS_PAGENUM\", \"CENSUS_SEXB\", \"CENSUS_RACEB\", \"sequence_id\", \"CENSUS_DWELLING_SIZE\",\"CENSUS_SEQ_NUM\", \"CENSUS_LABFORCE\", \"CENSUS_LINE\", \"CENSUS_MARST\", \"CENSUS_NAMEFRST\", \"CENSUS_NAMELAST\", \"CENSUS_OCCSTR\", \"CENSUS_IMPREL\", \"CENSUS_ID\", \"sequence_order_enum\", 'CENSUS_DWELLING_SEQ', \"fixed_seq\"]\n",
    "block_boost = Pipeline([('preprocess', TargetEncoder(cols = [\"CENSUS_SERIALB\", \"CENSUS_AGE\", \"CENSUS_PAGENUM\", \"CENSUS_SEXB\", \"CENSUS_RACEB\", \"sequence_id\", \"CENSUS_DWELLING_SIZE\",\"CENSUS_SEQ_NUM\", \"CENSUS_LABFORCE\", \"CENSUS_LINE\", \"CENSUS_MARST\", \"CENSUS_NAMEFRST\", \"CENSUS_NAMELAST\", \"CENSUS_OCCSTR\", \"CENSUS_IMPREL\", \"CENSUS_ID\", \"sequence_order_enum\", 'CENSUS_DWELLING_SEQ', \"fixed_seq\"])),\n",
    "                        ('classifier', XGBClassifier(colsample_bytree = 0.6, max_depth = 2, n_estimators = 80))])"
   ]
  },
  {
   "cell_type": "code",
   "execution_count": 6,
   "metadata": {},
   "outputs": [],
   "source": [
    "block_centroids = {ward:{block:interpolation.make_centroid(df_block[x_col], df_block[y_col]) for block, df_block in df.groupby(block_col)} for ward,df in cd_1850.groupby(ward_col)}\n",
    "interpolate_sequences = CentroidInterpolator(census_data, 10, block_boost, all_cols, clust_algo, block_centroids)"
   ]
  },
  {
   "cell_type": "code",
   "execution_count": 7,
   "metadata": {},
   "outputs": [],
   "source": [
    "interpolate_sequences.apply_clustering()\n",
    "train,test = interpolate_sequences.stratified_train_test()\n",
    "interpolate_sequences.train_test_model(train, test)"
   ]
  },
  {
   "cell_type": "code",
   "execution_count": 8,
   "metadata": {},
   "outputs": [
    {
     "name": "stdout",
     "output_type": "stream",
     "text": [
      "Training score: 1.0\n",
      "Test score: 0.5167037861915368\n"
     ]
    }
   ],
   "source": [
    "print(\"Training score:\",interpolate_sequences.train_score)\n",
    "print(\"Test score:\", interpolate_sequences.test_score)"
   ]
  },
  {
   "cell_type": "markdown",
   "metadata": {},
   "source": [
    "#### With only fixed length sequences"
   ]
  },
  {
   "cell_type": "code",
   "execution_count": 9,
   "metadata": {},
   "outputs": [],
   "source": [
    "census_data.apply_sequencing(fixed = True)\n",
    "all_cols = [\"CENSUS_SERIALB\", \"CENSUS_AGE\", \"CENSUS_PAGENUM\", \"CENSUS_SEXB\", \"CENSUS_RACEB\", \"CENSUS_DWELLING_SIZE\",\"CENSUS_SEQ_NUM\", \"CENSUS_LABFORCE\", \"CENSUS_LINE\", \"CENSUS_MARST\", \"CENSUS_NAMEFRST\", \"CENSUS_NAMELAST\", \"CENSUS_OCCSTR\", \"CENSUS_IMPREL\", 'CENSUS_DWELLING_SEQ', \"fixed_seq\"]\n",
    "block_boost = Pipeline([('preprocess', TargetEncoder(cols = [\"CENSUS_SERIALB\", \"CENSUS_AGE\", \"CENSUS_PAGENUM\", \"CENSUS_SEXB\", \"CENSUS_RACEB\", \"CENSUS_DWELLING_SIZE\",\"CENSUS_SEQ_NUM\", \"CENSUS_LABFORCE\", \"CENSUS_LINE\", \"CENSUS_MARST\", \"CENSUS_NAMEFRST\", \"CENSUS_NAMELAST\", \"CENSUS_OCCSTR\", \"CENSUS_IMPREL\",'CENSUS_DWELLING_SEQ', \"fixed_seq\"])),\n",
    "                        ('classifier', XGBClassifier(colsample_bytree = 0.6, max_depth = 2, n_estimators = 80))])\n",
    "interpolate_fixed = CentroidInterpolator(census_data, 10, block_boost, all_cols, clust_algo, block_centroids)"
   ]
  },
  {
   "cell_type": "code",
   "execution_count": 10,
   "metadata": {},
   "outputs": [],
   "source": [
    "interpolate_fixed.apply_clustering()\n",
    "train,test = interpolate_fixed.stratified_train_test()\n",
    "interpolate_fixed.train_test_model(train, test)"
   ]
  },
  {
   "cell_type": "code",
   "execution_count": 11,
   "metadata": {},
   "outputs": [
    {
     "name": "stdout",
     "output_type": "stream",
     "text": [
      "Training score: 1.0\n",
      "Test score: 0.2865627319970304\n"
     ]
    }
   ],
   "source": [
    "print(\"Training score:\",interpolate_fixed.train_score)\n",
    "print(\"Test score:\", interpolate_fixed.test_score)"
   ]
  },
  {
   "cell_type": "markdown",
   "metadata": {},
   "source": [
    "#### With only distance length sequences"
   ]
  },
  {
   "cell_type": "code",
   "execution_count": 12,
   "metadata": {},
   "outputs": [],
   "source": [
    "census_data.apply_sequencing(distance = True)\n",
    "all_cols = [\"CENSUS_SERIALB\", \"CENSUS_AGE\", \"CENSUS_PAGENUM\", \"CENSUS_SEXB\", \"CENSUS_RACEB\", \"sequence_id\", \"CENSUS_DWELLING_SIZE\",\"CENSUS_SEQ_NUM\", \"CENSUS_LABFORCE\", \"CENSUS_LINE\", \"CENSUS_MARST\", \"CENSUS_NAMEFRST\", \"CENSUS_NAMELAST\", \"CENSUS_OCCSTR\", \"CENSUS_IMPREL\",\"sequence_order_enum\", 'CENSUS_DWELLING_SEQ']\n",
    "block_boost = Pipeline([('preprocess', TargetEncoder(cols = [\"CENSUS_SERIALB\", \"CENSUS_AGE\", \"CENSUS_PAGENUM\", \"CENSUS_SEXB\", \"CENSUS_RACEB\", \"sequence_id\", \"CENSUS_DWELLING_SIZE\",\"CENSUS_SEQ_NUM\", \"CENSUS_LABFORCE\", \"CENSUS_LINE\", \"CENSUS_MARST\", \"CENSUS_NAMEFRST\", \"CENSUS_NAMELAST\", \"CENSUS_OCCSTR\", \"CENSUS_IMPREL\",  \"sequence_order_enum\", 'CENSUS_DWELLING_SEQ'])),\n",
    "                        ('classifier', XGBClassifier(colsample_bytree = 0.6, max_depth = 2, n_estimators = 50))])"
   ]
  },
  {
   "cell_type": "code",
   "execution_count": 13,
   "metadata": {},
   "outputs": [],
   "source": [
    "interpolate_distance = CentroidInterpolator(census_data, 10, block_boost, all_cols, clust_algo, block_centroids)\n",
    "interpolate_distance.apply_clustering()\n",
    "train,test = interpolate_distance.stratified_train_test()\n",
    "interpolate_distance.train_test_model(train, test)"
   ]
  },
  {
   "cell_type": "code",
   "execution_count": 14,
   "metadata": {},
   "outputs": [
    {
     "name": "stdout",
     "output_type": "stream",
     "text": [
      "Training score: 1.0\n",
      "Test score: 0.5077951002227171\n"
     ]
    }
   ],
   "source": [
    "print(\"Training score:\",interpolate_distance.train_score)\n",
    "print(\"Test score:\", interpolate_distance.test_score)"
   ]
  },
  {
   "cell_type": "markdown",
   "metadata": {},
   "source": [
    "#### Without sequences"
   ]
  },
  {
   "cell_type": "code",
   "execution_count": 15,
   "metadata": {},
   "outputs": [],
   "source": [
    "census_data.no_seq()"
   ]
  },
  {
   "cell_type": "code",
   "execution_count": 16,
   "metadata": {},
   "outputs": [],
   "source": [
    "all_cols = [\"CENSUS_SERIALB\", \"CENSUS_AGE\", \"CENSUS_PAGENUM\", \"CENSUS_SEXB\", \"CENSUS_RACEB\",\"CENSUS_DWELLING_SIZE\",\"CENSUS_SEQ_NUM\", \"CENSUS_LABFORCE\", \"CENSUS_LINE\", \"CENSUS_MARST\", \"CENSUS_NAMEFRST\", \"CENSUS_NAMELAST\", \"CENSUS_OCCSTR\", \"CENSUS_IMPREL\",'CENSUS_DWELLING_SEQ']\n",
    "block_boost = Pipeline([('preprocess', TargetEncoder(cols = [\"CENSUS_SERIALB\", \"CENSUS_AGE\", \"CENSUS_PAGENUM\", \"CENSUS_SEXB\", \"CENSUS_RACEB\", \"CENSUS_DWELLING_SIZE\",\"CENSUS_SEQ_NUM\", \"CENSUS_LABFORCE\", \"CENSUS_LINE\", \"CENSUS_MARST\", \"CENSUS_NAMEFRST\", \"CENSUS_NAMELAST\", \"CENSUS_OCCSTR\", \"CENSUS_IMPREL\",'CENSUS_DWELLING_SEQ'])),\n",
    "                        ('classifier', XGBClassifier(colsample_bytree = 0.6, max_depth = 2, n_estimators = 50))])"
   ]
  },
  {
   "cell_type": "code",
   "execution_count": 17,
   "metadata": {},
   "outputs": [],
   "source": [
    "interpolate_noseq = CentroidInterpolator(census_data, 10, block_boost, all_cols, clust_algo, block_centroids)\n",
    "interpolate_noseq.apply_clustering()\n",
    "train,test = interpolate_noseq.stratified_train_test()\n",
    "interpolate_noseq.train_test_model(train, test)"
   ]
  },
  {
   "cell_type": "code",
   "execution_count": 18,
   "metadata": {},
   "outputs": [
    {
     "name": "stdout",
     "output_type": "stream",
     "text": [
      "Training score: 1.0\n",
      "Test score: 0.281365998515219\n"
     ]
    }
   ],
   "source": [
    "print(\"Training score:\",interpolate_noseq.train_score)\n",
    "print(\"Test score:\", interpolate_noseq.test_score)"
   ]
  },
  {
   "cell_type": "markdown",
   "metadata": {},
   "source": [
    "#### With dwelling_col_num sequence id only"
   ]
  },
  {
   "cell_type": "code",
   "execution_count": 19,
   "metadata": {},
   "outputs": [],
   "source": [
    "all_cols = [\"CENSUS_SERIALB\", \"CENSUS_AGE\", \"CENSUS_PAGENUM\", \"CENSUS_SEXB\", \"CENSUS_RACEB\",\"CENSUS_DWELLING_SIZE\",\"CENSUS_SEQ_NUM\", \"CENSUS_LABFORCE\", \"CENSUS_LINE\", \"CENSUS_MARST\", \"CENSUS_NAMEFRST\", \"CENSUS_NAMELAST\", \"CENSUS_OCCSTR\", \"CENSUS_IMPREL\",'CENSUS_DWELLING_SEQ', \"dwelling_seq_id\"]\n",
    "block_boost = Pipeline([('preprocess', TargetEncoder(cols = [\"CENSUS_SERIALB\", \"CENSUS_AGE\", \"CENSUS_PAGENUM\", \"CENSUS_SEXB\", \"CENSUS_RACEB\", \"CENSUS_DWELLING_SIZE\",\"CENSUS_SEQ_NUM\", \"CENSUS_LABFORCE\", \"CENSUS_LINE\", \"CENSUS_MARST\", \"CENSUS_NAMEFRST\", \"CENSUS_NAMELAST\", \"CENSUS_OCCSTR\", \"CENSUS_IMPREL\",'CENSUS_DWELLING_SEQ', \"dwelling_seq_id\"])),\n",
    "                        ('classifier', XGBClassifier(colsample_bytree = 0.6, max_depth = 2, n_estimators = 50))])"
   ]
  },
  {
   "cell_type": "code",
   "execution_count": 20,
   "metadata": {},
   "outputs": [],
   "source": [
    "census_data.apply_sequencing(dwelling = True)\n",
    "interpolate_dwell = CentroidInterpolator(census_data, 10, block_boost, all_cols, clust_algo, block_centroids)\n",
    "interpolate_dwell.apply_clustering()\n",
    "train,test = interpolate_dwell.stratified_train_test()\n",
    "interpolate_dwell.train_test_model(train, test)"
   ]
  },
  {
   "cell_type": "code",
   "execution_count": 21,
   "metadata": {},
   "outputs": [
    {
     "name": "stdout",
     "output_type": "stream",
     "text": [
      "Training score: 1.0\n",
      "Test score: 0.27839643652561247\n"
     ]
    }
   ],
   "source": [
    "print(\"Training score:\",interpolate_dwell.train_score)\n",
    "print(\"Test score:\", interpolate_dwell.test_score)"
   ]
  },
  {
   "cell_type": "markdown",
   "metadata": {},
   "source": [
    "#### With dwelling_col_num sequence id and distance sequences"
   ]
  },
  {
   "cell_type": "code",
   "execution_count": 22,
   "metadata": {},
   "outputs": [],
   "source": [
    "#I think dwelling num would need to be preprocessed\n",
    "all_cols = [\"CENSUS_SERIALB\", \"CENSUS_AGE\", \"CENSUS_PAGENUM\", \"CENSUS_SEXB\", \"CENSUS_RACEB\",\"CENSUS_DWELLING_SIZE\",\"CENSUS_SEQ_NUM\", \"CENSUS_LABFORCE\", \"CENSUS_LINE\", \"CENSUS_MARST\", \"CENSUS_NAMEFRST\", \"CENSUS_NAMELAST\", \"CENSUS_OCCSTR\", \"CENSUS_IMPREL\",'CENSUS_DWELLING_SEQ', \"sequence_order_enum\", \"sequence_id\", \"dwelling_seq_id\"]\n",
    "block_boost = Pipeline([('preprocess', TargetEncoder(cols = [\"CENSUS_SERIALB\", \"CENSUS_AGE\", \"CENSUS_PAGENUM\", \"CENSUS_SEXB\", \"CENSUS_RACEB\", \"CENSUS_DWELLING_SIZE\",\"CENSUS_SEQ_NUM\", \"CENSUS_LABFORCE\", \"CENSUS_LINE\", \"CENSUS_MARST\", \"CENSUS_NAMEFRST\", \"CENSUS_NAMELAST\", \"CENSUS_OCCSTR\", \"CENSUS_IMPREL\",'CENSUS_DWELLING_SEQ', \"sequence_order_enum\", \"sequence_id\", \"dwelling_seq_id\"])),\n",
    "                        ('classifier', XGBClassifier(colsample_bytree = 0.6, max_depth = 2, n_estimators = 50))])"
   ]
  },
  {
   "cell_type": "code",
   "execution_count": 23,
   "metadata": {},
   "outputs": [],
   "source": [
    "census_data.apply_sequencing(distance = True, dwelling = True)\n",
    "interpolate_dwell = CentroidInterpolator(census_data, 10, block_boost, all_cols, clust_algo, block_centroids)\n",
    "interpolate_dwell.apply_clustering()\n",
    "train,test = interpolate_dwell.stratified_train_test()\n",
    "interpolate_dwell.train_test_model(train, test)"
   ]
  },
  {
   "cell_type": "code",
   "execution_count": 24,
   "metadata": {},
   "outputs": [
    {
     "name": "stdout",
     "output_type": "stream",
     "text": [
      "Training score: 1.0\n",
      "Test score: 0.5285820341499629\n"
     ]
    }
   ],
   "source": [
    "print(\"Training score:\",interpolate_dwell.train_score)\n",
    "print(\"Test score:\", interpolate_dwell.test_score)"
   ]
  },
  {
   "cell_type": "markdown",
   "metadata": {},
   "source": [
    "#### Random Forest"
   ]
  },
  {
   "cell_type": "code",
   "execution_count": 25,
   "metadata": {},
   "outputs": [],
   "source": [
    "all_cols = [\"CENSUS_SERIALB\", \"CENSUS_AGE\", \"CENSUS_PAGENUM\", \"CENSUS_SEXB\", \"CENSUS_RACEB\",\"CENSUS_DWELLING_SIZE\",\"CENSUS_SEQ_NUM\", \"CENSUS_LABFORCE\", \"CENSUS_LINE\", \"CENSUS_MARST\", \"CENSUS_NAMEFRST\", \"CENSUS_NAMELAST\", \"CENSUS_OCCSTR\", \"CENSUS_IMPREL\",'CENSUS_DWELLING_SEQ', \"sequence_order_enum\", \"sequence_id\", \"dwelling_seq_id\"]\n",
    "rf = Pipeline([('preprocess', TargetEncoder(cols = [\"CENSUS_SERIALB\", \"CENSUS_AGE\", \"CENSUS_PAGENUM\", \"CENSUS_SEXB\", \"CENSUS_RACEB\", \"CENSUS_DWELLING_SIZE\",\"CENSUS_SEQ_NUM\", \"CENSUS_LABFORCE\", \"CENSUS_LINE\", \"CENSUS_MARST\", \"CENSUS_NAMEFRST\", \"CENSUS_NAMELAST\", \"CENSUS_OCCSTR\", \"CENSUS_IMPREL\",'CENSUS_DWELLING_SEQ', \"sequence_order_enum\", \"sequence_id\", \"dwelling_seq_id\"])),\n",
    "                ('classifier', RandomForestClassifier(n_estimators = 400))])"
   ]
  },
  {
   "cell_type": "code",
   "execution_count": 26,
   "metadata": {},
   "outputs": [],
   "source": [
    "interpolate_rf = CentroidInterpolator(census_data, 10, rf, all_cols, clust_algo, block_centroids)\n",
    "interpolate_rf.apply_clustering()\n",
    "train,test = interpolate_rf.stratified_train_test()\n",
    "interpolate_rf.train_test_model(train, test)"
   ]
  },
  {
   "cell_type": "code",
   "execution_count": 27,
   "metadata": {},
   "outputs": [
    {
     "name": "stdout",
     "output_type": "stream",
     "text": [
      "Training score: 1.0\n",
      "Test score: 0.5085374907201188\n"
     ]
    }
   ],
   "source": [
    "print(\"Training score:\",interpolate_rf.train_score)\n",
    "print(\"Test score:\", interpolate_rf.test_score)"
   ]
  },
  {
   "cell_type": "markdown",
   "metadata": {},
   "source": [
    "#### With CENSUS_DWELLING_COL"
   ]
  },
  {
   "cell_type": "code",
   "execution_count": 28,
   "metadata": {},
   "outputs": [],
   "source": [
    "dwellings_1850 = filled_1850.groupby([ward_col, dwelling_col], as_index = False).first()"
   ]
  },
  {
   "cell_type": "code",
   "execution_count": 29,
   "metadata": {},
   "outputs": [],
   "source": [
    "#Ordinal encoding (leaving as numeric)\n",
    "all_cols = [\"CENSUS_DWELLING_NUM\",\"CENSUS_SERIALB\", \"CENSUS_AGE\", \"CENSUS_PAGENUM\", \"CENSUS_SEXB\", \"CENSUS_RACEB\",\"CENSUS_DWELLING_SIZE\",\"CENSUS_SEQ_NUM\", \"CENSUS_LABFORCE\", \"CENSUS_LINE\", \"CENSUS_MARST\", \"CENSUS_NAMEFRST\", \"CENSUS_NAMELAST\", \"CENSUS_OCCSTR\", \"CENSUS_IMPREL\",'CENSUS_DWELLING_SEQ', \"sequence_order_enum\", \"sequence_id\", \"dwelling_seq_id\"]\n",
    "ordinal_encode = make_column_transformer((OrdinalEncoder(), ['CENSUS_DWELLING_NUM']))\n",
    "block_boost_ord = Pipeline([('ordinal encode', ordinal_encode),\n",
    "    ('preprocess', TargetEncoder(cols = [\"CENSUS_SERIALB\", \"CENSUS_AGE\", \"CENSUS_PAGENUM\", \"CENSUS_SEXB\", \"CENSUS_RACEB\", \"CENSUS_DWELLING_SIZE\",\"CENSUS_SEQ_NUM\", \"CENSUS_LABFORCE\", \"CENSUS_LINE\", \"CENSUS_MARST\", \"CENSUS_NAMEFRST\", \"CENSUS_NAMELAST\", \"CENSUS_OCCSTR\", \"CENSUS_IMPREL\",'CENSUS_DWELLING_SEQ', \"sequence_order_enum\", \"sequence_id\", \"dwelling_seq_id\"])),\n",
    "                        ('classifier', XGBClassifier(colsample_bytree = 0.6, max_depth = 2, n_estimators = 50))])"
   ]
  },
  {
   "cell_type": "code",
   "execution_count": 30,
   "metadata": {},
   "outputs": [],
   "source": [
    "census_data.apply_sequencing(distance = True, dwelling = True)\n",
    "interpolate_dwell_ord = CentroidInterpolator(census_data, 10, block_boost, all_cols, clust_algo, block_centroids)\n",
    "interpolate_dwell_ord.apply_clustering()\n",
    "train,test = interpolate_dwell_ord.stratified_train_test()\n",
    "interpolate_dwell_ord.train_test_model(train, test)"
   ]
  },
  {
   "cell_type": "code",
   "execution_count": 31,
   "metadata": {},
   "outputs": [
    {
     "name": "stdout",
     "output_type": "stream",
     "text": [
      "Training score: 1.0\n",
      "Test score: 0.5241276911655531\n"
     ]
    }
   ],
   "source": [
    "print(\"Training score:\",interpolate_dwell_ord.train_score)\n",
    "print(\"Test score:\", interpolate_dwell_ord.test_score)"
   ]
  },
  {
   "cell_type": "code",
   "execution_count": 32,
   "metadata": {},
   "outputs": [],
   "source": [
    "#target encoding\n",
    "all_cols = [\"CENSUS_DWELLING_NUM\",\"CENSUS_SERIALB\", \"CENSUS_AGE\", \"CENSUS_PAGENUM\", \"CENSUS_SEXB\", \"CENSUS_RACEB\",\"CENSUS_DWELLING_SIZE\",\"CENSUS_SEQ_NUM\", \"CENSUS_LABFORCE\", \"CENSUS_LINE\", \"CENSUS_MARST\", \"CENSUS_NAMEFRST\", \"CENSUS_NAMELAST\", \"CENSUS_OCCSTR\", \"CENSUS_IMPREL\",'CENSUS_DWELLING_SEQ', \"sequence_order_enum\", \"sequence_id\", \"dwelling_seq_id\"]\n",
    "block_boost = Pipeline([('preprocess', TargetEncoder(cols = [\"CENSUS_DWELLING_NUM\",\"CENSUS_SERIALB\", \"CENSUS_AGE\", \"CENSUS_PAGENUM\", \"CENSUS_SEXB\", \"CENSUS_RACEB\", \"CENSUS_DWELLING_SIZE\",\"CENSUS_SEQ_NUM\", \"CENSUS_LABFORCE\", \"CENSUS_LINE\", \"CENSUS_MARST\", \"CENSUS_NAMEFRST\", \"CENSUS_NAMELAST\", \"CENSUS_OCCSTR\", \"CENSUS_IMPREL\",'CENSUS_DWELLING_SEQ', \"sequence_order_enum\", \"sequence_id\", \"dwelling_seq_id\"])),\n",
    "                        ('classifier', XGBClassifier(colsample_bytree = 0.6, max_depth = 2, n_estimators = 50))])"
   ]
  },
  {
   "cell_type": "code",
   "execution_count": 33,
   "metadata": {},
   "outputs": [],
   "source": [
    "census_data.apply_sequencing(dwelling = True, distance = True)\n",
    "interpolate_dwell_ord_enc = CentroidInterpolator(census_data, 10, block_boost, all_cols, clust_algo, block_centroids)\n",
    "interpolate_dwell_ord_enc.apply_clustering()\n",
    "train,test = interpolate_dwell_ord_enc.stratified_train_test()\n",
    "interpolate_dwell_ord_enc.train_test_model(train, test)"
   ]
  },
  {
   "cell_type": "code",
   "execution_count": 34,
   "metadata": {},
   "outputs": [
    {
     "name": "stdout",
     "output_type": "stream",
     "text": [
      "Training score: 1.0\n",
      "Test score: 0.38158871566443947\n"
     ]
    }
   ],
   "source": [
    "print(\"Training score:\",interpolate_dwell_ord_enc.train_score)\n",
    "print(\"Test score:\", interpolate_dwell_ord_enc.test_score)"
   ]
  },
  {
   "cell_type": "markdown",
   "metadata": {},
   "source": [
    "This indicates that using distance based sequences and dwelling based sequences with target encoding and without order within sequence works best. Next we'll experiment with incorporating the enumerator name and date"
   ]
  },
  {
   "cell_type": "markdown",
   "metadata": {},
   "source": [
    "### Explore Enumeration and Date"
   ]
  },
  {
   "cell_type": "code",
   "execution_count": 35,
   "metadata": {},
   "outputs": [],
   "source": [
    "enumerators = pd.read_csv(\"../../data/census_1850_enumerationDetail_mn_ward10.csv\")"
   ]
  },
  {
   "cell_type": "code",
   "execution_count": 36,
   "metadata": {},
   "outputs": [
    {
     "name": "stdout",
     "output_type": "stream",
     "text": [
      "<class 'pandas.core.frame.DataFrame'>\n",
      "RangeIndex: 553 entries, 0 to 552\n",
      "Data columns (total 7 columns):\n",
      "CENSUS_PAGENO_HOUSEHOLD    553 non-null int64\n",
      "CENSUS_PAGENNO             553 non-null int64\n",
      "CENSUS_WARD_NUM            553 non-null int64\n",
      "CENSUS_REEL_HOUSEHOLD      553 non-null int64\n",
      "CENSUS_ENUMERATOR_NUM      553 non-null int64\n",
      "CENSUS_ENUMERATOR_DATE     553 non-null object\n",
      "ANCESTRY_REF               553 non-null object\n",
      "dtypes: int64(5), object(2)\n",
      "memory usage: 30.4+ KB\n"
     ]
    }
   ],
   "source": [
    "enumerators.info()"
   ]
  },
  {
   "cell_type": "code",
   "execution_count": 37,
   "metadata": {},
   "outputs": [],
   "source": [
    "ward10 = filled_1850[filled_1850[ward_col] == 10]\n",
    "ward10_enumerators = ward10.merge(enumerators,  how = \"left\", left_on= \"CENSUS_PAGENUM\", right_on = \"CENSUS_PAGENO_HOUSEHOLD\")"
   ]
  },
  {
   "cell_type": "code",
   "execution_count": 38,
   "metadata": {},
   "outputs": [],
   "source": [
    "census_enumerators = CensusData(ward10_enumerators, ward_col=ward_col, dwelling_col=dwelling_col, block_col =  block_col, x_col = x_col, y_col = y_col)\n",
    "census_enumerators.apply_sequencing(distance = True, dwelling = True)"
   ]
  },
  {
   "cell_type": "code",
   "execution_count": 39,
   "metadata": {},
   "outputs": [],
   "source": [
    "all_cols_enum = [\"CENSUS_SERIALB\", \"CENSUS_AGE\", \"CENSUS_PAGENUM\", \"CENSUS_SEXB\", \"CENSUS_RACEB\",\"CENSUS_DWELLING_SIZE\",\"CENSUS_SEQ_NUM\", \"CENSUS_LABFORCE\", \"CENSUS_LINE\", \"CENSUS_MARST\", \"CENSUS_NAMEFRST\", \"CENSUS_NAMELAST\", \"CENSUS_OCCSTR\", \"CENSUS_IMPREL\",'CENSUS_DWELLING_SEQ', \"sequence_order_enum\", \"sequence_id\", \"dwelling_seq_id\", \"CENSUS_ENUMERATOR_NUM\", \"CENSUS_ENUMERATOR_DATE\", \"ANCESTRY_REF\"]\n",
    "block_boost_enum = Pipeline([('preprocess', TargetEncoder(cols = [\"CENSUS_SERIALB\", \"CENSUS_AGE\", \"CENSUS_PAGENUM\", \"CENSUS_SEXB\", \"CENSUS_RACEB\",\"CENSUS_DWELLING_SIZE\",\"CENSUS_SEQ_NUM\", \"CENSUS_LABFORCE\", \"CENSUS_LINE\", \"CENSUS_MARST\", \"CENSUS_NAMEFRST\", \"CENSUS_NAMELAST\", \"CENSUS_OCCSTR\", \"CENSUS_IMPREL\",'CENSUS_DWELLING_SEQ', \"sequence_order_enum\", \"sequence_id\", \"dwelling_seq_id\", \"CENSUS_ENUMERATOR_NUM\", \"CENSUS_ENUMERATOR_DATE\", \"ANCESTRY_REF\"])),\n",
    "                        ('classifier', XGBClassifier(colsample_bytree = 0.6, max_depth = 2, n_estimators = 50))])"
   ]
  },
  {
   "cell_type": "code",
   "execution_count": 40,
   "metadata": {},
   "outputs": [],
   "source": [
    "interpolate_enum = CentroidInterpolator(census_enumerators, 10, block_boost_enum, all_cols_enum, clust_algo, block_centroids)\n",
    "interpolate_enum.apply_clustering()\n",
    "train,test = interpolate_enum.stratified_train_test()\n",
    "interpolate_enum.train_test_model(train, test)"
   ]
  },
  {
   "cell_type": "code",
   "execution_count": 41,
   "metadata": {},
   "outputs": [
    {
     "name": "stdout",
     "output_type": "stream",
     "text": [
      "Training score: 1.0\n",
      "Test score: 0.5285820341499629\n"
     ]
    }
   ],
   "source": [
    "print(\"Training score:\",interpolate_enum.train_score)\n",
    "print(\"Test score:\", interpolate_enum.test_score)"
   ]
  },
  {
   "cell_type": "markdown",
   "metadata": {},
   "source": [
    "#### Let's try without any sequences but with the enumeration data"
   ]
  },
  {
   "cell_type": "code",
   "execution_count": 42,
   "metadata": {},
   "outputs": [],
   "source": [
    "census_enumerators = CensusData(ward10_enumerators, ward_col=ward_col, dwelling_col=dwelling_col, block_col =  block_col, x_col = x_col, y_col = y_col)\n",
    "census_enumerators.no_seq()"
   ]
  },
  {
   "cell_type": "code",
   "execution_count": 43,
   "metadata": {},
   "outputs": [],
   "source": [
    "all_cols_enum = [\"CENSUS_SERIALB\", \"CENSUS_AGE\", \"CENSUS_PAGENUM\", \"CENSUS_SEXB\", \"CENSUS_RACEB\",\"CENSUS_DWELLING_SIZE\",\"CENSUS_SEQ_NUM\", \"CENSUS_LABFORCE\", \"CENSUS_LINE\", \"CENSUS_MARST\", \"CENSUS_NAMEFRST\", \"CENSUS_NAMELAST\", \"CENSUS_OCCSTR\", \"CENSUS_IMPREL\",'CENSUS_DWELLING_SEQ', \"CENSUS_ENUMERATOR_NUM\", \"CENSUS_ENUMERATOR_DATE\", \"ANCESTRY_REF\"]\n",
    "block_boost_enum = Pipeline([('preprocess', TargetEncoder(cols = [\"CENSUS_SERIALB\", \"CENSUS_AGE\", \"CENSUS_PAGENUM\", \"CENSUS_SEXB\", \"CENSUS_RACEB\",\"CENSUS_DWELLING_SIZE\",\"CENSUS_SEQ_NUM\", \"CENSUS_LABFORCE\", \"CENSUS_LINE\", \"CENSUS_MARST\", \"CENSUS_NAMEFRST\", \"CENSUS_NAMELAST\", \"CENSUS_OCCSTR\", \"CENSUS_IMPREL\",'CENSUS_DWELLING_SEQ', \"CENSUS_ENUMERATOR_NUM\", \"CENSUS_ENUMERATOR_DATE\", \"ANCESTRY_REF\"])),\n",
    "                        ('classifier', XGBClassifier(colsample_bytree = 0.6, max_depth = 2, n_estimators = 50))])"
   ]
  },
  {
   "cell_type": "code",
   "execution_count": 44,
   "metadata": {},
   "outputs": [],
   "source": [
    "interpolate_enum = CentroidInterpolator(census_enumerators, 10, block_boost_enum, all_cols_enum, clust_algo, block_centroids)\n",
    "interpolate_enum.apply_clustering()\n",
    "train,test = interpolate_enum.stratified_train_test()\n",
    "interpolate_enum.train_test_model(train, test)"
   ]
  },
  {
   "cell_type": "code",
   "execution_count": 45,
   "metadata": {},
   "outputs": [
    {
     "name": "stdout",
     "output_type": "stream",
     "text": [
      "Training score: 1.0\n",
      "Test score: 0.2925018559762435\n"
     ]
    }
   ],
   "source": [
    "print(\"Training score:\",interpolate_enum.train_score)\n",
    "print(\"Test score:\", interpolate_enum.test_score)"
   ]
  },
  {
   "cell_type": "markdown",
   "metadata": {},
   "source": [
    "#### Let's create a sequence id from enumerator number and date, and use only that as a sequence"
   ]
  },
  {
   "cell_type": "code",
   "execution_count": 46,
   "metadata": {},
   "outputs": [],
   "source": [
    "census_enumerators_seq = CensusData(ward10_enumerators, ward_col=ward_col, dwelling_col=dwelling_col, block_col =  block_col, x_col = x_col, y_col = y_col)\n",
    "census_enumerators_seq.apply_sequencing(enumerator = True)"
   ]
  },
  {
   "cell_type": "code",
   "execution_count": 47,
   "metadata": {},
   "outputs": [],
   "source": [
    "all_cols_enum = [\"CENSUS_SERIALB\", \"CENSUS_AGE\", \"CENSUS_PAGENUM\", \"CENSUS_SEXB\", \"CENSUS_RACEB\",\"CENSUS_DWELLING_SIZE\",\"CENSUS_SEQ_NUM\", \"CENSUS_LABFORCE\", \"CENSUS_LINE\", \"CENSUS_MARST\", \"CENSUS_NAMEFRST\", \"CENSUS_NAMELAST\", \"CENSUS_OCCSTR\", \"CENSUS_IMPREL\",'CENSUS_DWELLING_SEQ', \"CENSUS_ENUMERATOR_NUM\", \"CENSUS_ENUMERATOR_DATE\", \"ANCESTRY_REF\", \"enum_seq\"]\n",
    "block_boost_enum = Pipeline([('preprocess', TargetEncoder(cols = [\"CENSUS_SERIALB\", \"CENSUS_AGE\", \"CENSUS_PAGENUM\", \"CENSUS_SEXB\", \"CENSUS_RACEB\",\"CENSUS_DWELLING_SIZE\",\"CENSUS_SEQ_NUM\", \"CENSUS_LABFORCE\", \"CENSUS_LINE\", \"CENSUS_MARST\", \"CENSUS_NAMEFRST\", \"CENSUS_NAMELAST\", \"CENSUS_OCCSTR\", \"CENSUS_IMPREL\",'CENSUS_DWELLING_SEQ', \"CENSUS_ENUMERATOR_NUM\", \"CENSUS_ENUMERATOR_DATE\", \"ANCESTRY_REF\", \"enum_seq\"])),\n",
    "                        ('classifier', XGBClassifier(colsample_bytree = 0.6, max_depth = 2, n_estimators = 50))])"
   ]
  },
  {
   "cell_type": "code",
   "execution_count": 48,
   "metadata": {},
   "outputs": [],
   "source": [
    "interpolate_enum = CentroidInterpolator(census_enumerators_seq, 10, block_boost_enum, all_cols_enum, clust_algo, block_centroids)\n",
    "interpolate_enum.apply_clustering()\n",
    "train,test = interpolate_enum.stratified_train_test()\n",
    "interpolate_enum.train_test_model(train, test)"
   ]
  },
  {
   "cell_type": "code",
   "execution_count": 49,
   "metadata": {},
   "outputs": [
    {
     "name": "stdout",
     "output_type": "stream",
     "text": [
      "Training score: 1.0\n",
      "Test score: 0.2991833704528582\n"
     ]
    }
   ],
   "source": [
    "print(\"Training score:\",interpolate_enum.train_score)\n",
    "print(\"Test score:\", interpolate_enum.test_score)"
   ]
  },
  {
   "cell_type": "markdown",
   "metadata": {},
   "source": [
    "#### Let's try including distance based sequence id, and dwelling based sequences too"
   ]
  },
  {
   "cell_type": "code",
   "execution_count": 50,
   "metadata": {},
   "outputs": [],
   "source": [
    "census_enumerators_seq = CensusData(ward10_enumerators, ward_col=ward_col, dwelling_col=dwelling_col, block_col =  block_col, x_col = x_col, y_col = y_col)\n",
    "census_enumerators_seq.apply_sequencing(enumerator = True, distance = True, dwelling = True)"
   ]
  },
  {
   "cell_type": "code",
   "execution_count": 51,
   "metadata": {},
   "outputs": [],
   "source": [
    "all_cols_enum = [\"CENSUS_SERIALB\", \"CENSUS_AGE\", \"CENSUS_PAGENUM\", \"CENSUS_SEXB\", \"CENSUS_RACEB\",\"CENSUS_DWELLING_SIZE\",\"CENSUS_SEQ_NUM\", \"CENSUS_LABFORCE\", \"CENSUS_LINE\", \"CENSUS_MARST\", \"CENSUS_NAMEFRST\", \"CENSUS_NAMELAST\", \"CENSUS_OCCSTR\", \"CENSUS_IMPREL\",'CENSUS_DWELLING_SEQ', \"sequence_order_enum\", \"sequence_id\", \"dwelling_seq_id\", \"CENSUS_ENUMERATOR_NUM\", \"CENSUS_ENUMERATOR_DATE\", \"ANCESTRY_REF\", \"enum_seq\"]\n",
    "block_boost_enum = Pipeline([('preprocess', TargetEncoder(cols = [\"CENSUS_SERIALB\", \"CENSUS_AGE\", \"CENSUS_PAGENUM\", \"CENSUS_SEXB\", \"CENSUS_RACEB\",\"CENSUS_DWELLING_SIZE\",\"CENSUS_SEQ_NUM\", \"CENSUS_LABFORCE\", \"CENSUS_LINE\", \"CENSUS_MARST\", \"CENSUS_NAMEFRST\", \"CENSUS_NAMELAST\", \"CENSUS_OCCSTR\", \"CENSUS_IMPREL\",'CENSUS_DWELLING_SEQ', \"sequence_order_enum\", \"sequence_id\", \"dwelling_seq_id\", \"CENSUS_ENUMERATOR_NUM\", \"CENSUS_ENUMERATOR_DATE\", \"ANCESTRY_REF\", \"enum_seq\"])),\n",
    "                        ('classifier', XGBClassifier(colsample_bytree = 0.6, max_depth = 2, n_estimators = 50))])"
   ]
  },
  {
   "cell_type": "code",
   "execution_count": 52,
   "metadata": {},
   "outputs": [],
   "source": [
    "interpolate_enum = CentroidInterpolator(census_enumerators_seq, 10, block_boost_enum, all_cols_enum, clust_algo, block_centroids)\n",
    "interpolate_enum.apply_clustering()\n",
    "train,test = interpolate_enum.stratified_train_test()\n",
    "interpolate_enum.train_test_model(train, test)"
   ]
  },
  {
   "cell_type": "code",
   "execution_count": 53,
   "metadata": {},
   "outputs": [
    {
     "name": "stdout",
     "output_type": "stream",
     "text": [
      "Training score: 1.0\n",
      "Test score: 0.5144766146993318\n"
     ]
    }
   ],
   "source": [
    "print(\"Training score:\",interpolate_enum.train_score)\n",
    "print(\"Test score:\", interpolate_enum.test_score)"
   ]
  },
  {
   "cell_type": "markdown",
   "metadata": {},
   "source": [
    "That made things worse, but I'm unclear as to why that is"
   ]
  },
  {
   "cell_type": "markdown",
   "metadata": {},
   "source": [
    "#### Let's try incorporating distances into the enumerator and date based sequences"
   ]
  },
  {
   "cell_type": "code",
   "execution_count": 54,
   "metadata": {
    "scrolled": false
   },
   "outputs": [],
   "source": [
    "census_enum_seq = CensusData(ward10_enumerators, ward_col=ward_col, dwelling_col=dwelling_col, block_col =  block_col, x_col = x_col, y_col = y_col)\n",
    "census_enum_seq.apply_sequencing(enumerator_dist = True, dwelling = True, fixed = True, distance = True)"
   ]
  },
  {
   "cell_type": "code",
   "execution_count": 55,
   "metadata": {},
   "outputs": [],
   "source": [
    "all_cols = [\"CENSUS_SERIALB\", \"CENSUS_AGE\", \"CENSUS_PAGENUM\", \"CENSUS_SEXB\", \"CENSUS_RACEB\", \"sequence_id\", \"CENSUS_DWELLING_SIZE\",\"CENSUS_SEQ_NUM\", \"CENSUS_LABFORCE\", \"CENSUS_LINE\", \"CENSUS_MARST\", \"CENSUS_NAMEFRST\", \"CENSUS_NAMELAST\", \"CENSUS_OCCSTR\", \"CENSUS_IMPREL\",\"sequence_order_enum\", 'CENSUS_DWELLING_SEQ', \"dwelling_seq_id\", \"fixed_seq\", \"enum_dist_id\", \"enum_dist_order\"]\n",
    "block_boost = Pipeline([('preprocess', TargetEncoder(cols = [\"CENSUS_SERIALB\", \"CENSUS_AGE\", \"CENSUS_PAGENUM\", \"CENSUS_SEXB\", \"CENSUS_RACEB\", \"sequence_id\", \"CENSUS_DWELLING_SIZE\",\"CENSUS_SEQ_NUM\", \"CENSUS_LABFORCE\", \"CENSUS_LINE\", \"CENSUS_MARST\", \"CENSUS_NAMEFRST\", \"CENSUS_NAMELAST\", \"CENSUS_OCCSTR\", \"CENSUS_IMPREL\",  \"sequence_order_enum\", 'CENSUS_DWELLING_SEQ', \"dwelling_seq_id\", \"fixed_seq\", \"enum_dist_id\", \"enum_dist_order\"])),\n",
    "                        ('classifier', XGBClassifier(colsample_bytree = 0.6, max_depth = 2, n_estimators = 50))])"
   ]
  },
  {
   "cell_type": "code",
   "execution_count": 56,
   "metadata": {},
   "outputs": [],
   "source": [
    "interpolate_sequences = CentroidInterpolator(census_enum_seq, 10, block_boost, all_cols, clust_algo, block_centroids)\n",
    "interpolate_sequences.apply_clustering()\n",
    "train,test = interpolate_sequences.stratified_train_test()\n",
    "interpolate_sequences.train_test_model(train, test)"
   ]
  },
  {
   "cell_type": "code",
   "execution_count": 57,
   "metadata": {},
   "outputs": [
    {
     "name": "stdout",
     "output_type": "stream",
     "text": [
      "Training score: 1.0\n",
      "Test score: 0.5241276911655531\n"
     ]
    }
   ],
   "source": [
    "print(\"Training score:\",interpolate_sequences.train_score)\n",
    "print(\"Test score:\", interpolate_sequences.test_score)"
   ]
  },
  {
   "cell_type": "code",
   "execution_count": null,
   "metadata": {},
   "outputs": [],
   "source": []
  }
 ],
 "metadata": {
  "kernelspec": {
   "display_name": "Python 3",
   "language": "python",
   "name": "python3"
  },
  "language_info": {
   "codemirror_mode": {
    "name": "ipython",
    "version": 3
   },
   "file_extension": ".py",
   "mimetype": "text/x-python",
   "name": "python",
   "nbconvert_exporter": "python",
   "pygments_lexer": "ipython3",
   "version": "3.7.5"
  }
 },
 "nbformat": 4,
 "nbformat_minor": 4
}
