{
  "nbformat": 4,
  "nbformat_minor": 0,
  "metadata": {
    "colab": {
      "name": "Unique_Dwelling_Addresses_Fill_In_and_Conflict_Resolution_Development.ipynb",
      "provenance": [],
      "collapsed_sections": [
        "-biNqiYJ3_hk",
        "O-nklL9S4Qqt",
        "6UgsXFMPGxh7",
        "5OVI9NBfyG9Z",
        "XwL-VDWgyrjs",
        "3Y9jeSiC69t1",
        "PGAStIOTGDwG",
        "ubI_lAYtLwTm",
        "HgBoY45HMTA4",
        "EmnR61swQ127",
        "jU-MQEGITd-K",
        "VgRFh6zOWSHv",
        "fs48COKuXsKi"
      ],
      "toc_visible": true
    },
    "kernelspec": {
      "name": "python3",
      "display_name": "Python 3"
    }
  },
  "cells": [
    {
      "cell_type": "code",
      "metadata": {
        "id": "WX-wpYYBQfZf"
      },
      "source": [
        "!pip install pyjarowinkler\n",
        "!pip install haversine\n",
        "!pip install hdbscan"
      ],
      "execution_count": null,
      "outputs": []
    },
    {
      "cell_type": "markdown",
      "metadata": {
        "id": "-biNqiYJ3_hk"
      },
      "source": [
        "### write processing module"
      ]
    },
    {
      "cell_type": "code",
      "metadata": {
        "id": "kWsl-h_2QWZM",
        "colab": {
          "base_uri": "https://localhost:8080/"
        },
        "outputId": "3e765d37-5e1b-4c8a-8cde-5e2e76e47331"
      },
      "source": [
        "# processing\n",
        "%%writefile processing.py\n",
        "\n",
        "import pandas as pd\n",
        "import networkx as nx\n",
        "import numpy as np\n",
        "from pyjarowinkler import distance\n",
        "from haversine import haversine, Unit\n",
        "import time\n",
        "\n",
        "\n",
        "def col_for_disamb(df, cd_id, cen_id, cd_fn=\"CD_FIRST_NAME\", cen_fn=\"CENSUS_FIRST_NAME\", cd_ln=\"CD_LAST_NAME\",\n",
        "                           cen_ln=\"CENSUS_LAST_NAME\", cen_occ=\"CENSUS_OCCUPATION\", cen_age=\"CENSUS_AGE\"):\n",
        "    # name jw dist\n",
        "    df[\"jw_fn\"] = df.apply(lambda x: distance.get_jaro_distance(x[cd_fn], x[cen_fn], winkler=True, scaling=0.1), axis=1)\n",
        "    df[\"jw_ln\"] = df.apply(lambda x: distance.get_jaro_distance(x[cd_ln], x[cen_ln], winkler=True, scaling=0.1), axis=1)\n",
        "    df[\"jw_score\"] = 0.4 * df[\"jw_fn\"] + 0.6 * df[\"jw_ln\"]\n",
        "\n",
        "    # occ\n",
        "    df['occ_listed'] = np.where((df[cen_occ].isnull()) | (df[cen_occ] == '*'), 0, 1)\n",
        "\n",
        "    # age\n",
        "    df['age_score'] = np.where(df[cen_age] <= 12, 0, 1)\n",
        "\n",
        "    # cd conflicts\n",
        "    df[\"cd_count\"] = df.groupby(cd_id)[cen_id].transform('count')\n",
        "    df[\"census_count\"] = df.groupby(cen_id)[cd_id].transform('count')\n",
        "\n",
        "    df['census_count_inverse'] = 1 / df['census_count']\n",
        "    df['cd_count_inverse'] = 1 / df['cd_count']\n",
        "\n",
        "    #This is so the bipartite matching algorthm works the way we need it to\n",
        "    df['CD_ID'] = 'CD_' + df[cd_id].astype(str)\n",
        "    df['CENSUS_ID'] = 'CENSUS_' + df[cen_id].astype(str)\n",
        "\n",
        "    return df\n",
        "\n",
        "\n",
        "\"\"\"\n",
        "Applies confidence score to df\n",
        "\"\"\"\n",
        "def apply_confidence_score(df, cd_fn = \"CD_FIRST_NAME\", cen_fn = \"CENSUS_FIRST_NAME\", cd_ln = \"CD_LAST_NAME\", cen_ln = \"CENSUS_LAST_NAME\", cen_occ = \"CENSUS_OCCLABELB\", cen_age = \"CENSUS_AGE\", cd_id=\"OBJECTID\", cen_id=\"OBJECTID.x\"):\n",
        "    \n",
        "    # name jw dist\n",
        "    df[\"jw_fn\"] = df.apply(lambda x: distance.get_jaro_distance(x[cd_fn], x[cen_fn], winkler=True, scaling=0.1), axis = 1)\n",
        "    df[\"jw_ln\"] = df.apply(lambda x: distance.get_jaro_distance(x[cd_ln], x[cen_ln], winkler=True, scaling=0.1), axis = 1)\n",
        "    df[\"jw_score\"] = 0.4 * df[\"jw_fn\"] + 0.6 * df[\"jw_ln\"]\n",
        "\n",
        "    # occ\n",
        "    df['occ_listed'] = np.where((df[cen_occ].isnull()) | (df[cen_occ] == '*'), 0, 1)\n",
        "\n",
        "    # age\n",
        "    df['age_score'] = np.where(df[cen_age] <= 12, 0, 1)\n",
        "\n",
        "    # cd conflicts\n",
        "    df[\"cd_count\"] = df.groupby(cd_id)[cen_id].transform('count')\n",
        "    df[\"census_count\"] = df.groupby(cen_id)[cd_id].transform('count')\n",
        "\n",
        "    df['confidence_score'] = .5*df.jw_score + .2*(1/df.cd_count) + \\\n",
        "                             .2*(1/df.census_count) + .05*df.occ_listed + \\\n",
        "                             .05*df.age_score\n",
        "    df['confidence_score'] = df['confidence_score'].round(decimals = 2)\n",
        "\n",
        "    return df\n",
        "\n",
        "\n",
        "#not needed in new run\n",
        "\"\"\"\n",
        "Takes elastic search and census directory geocode file to create a dataframe \n",
        "ready for the disambiguation process.\n",
        "Can add/incorporate new columns to include in confidence score here\n",
        "elastic_search: either df with elastic search output or elastic search output file\n",
        "city_directory: either df with city directory data or file name\n",
        "file: boolean value, set to True if elastic_search/city_directory are file names otherwise set \n",
        "to false. Default false \n",
        "\"\"\"\n",
        "def elastic_to_disamb(elastic_search, city_directory, file = False):\n",
        "\n",
        "    if file:\n",
        "        elastic_search = pd.read_csv(elastic_search, sep='\\t', engine='python')\n",
        "        city_directory = pd.read_csv(city_directory)\n",
        "\n",
        "    else:\n",
        "        elastic_search = elastic_search.copy()\n",
        "        city_directory = city_directory.copy()\n",
        "\n",
        "    latlng = city_directory[['OBJECTID', 'LONG', 'LAT']]\n",
        "\n",
        "    #print(elastic_search.head())\n",
        "    #print(latlng.head())\n",
        "\n",
        "    match = apply_confidence_score(elastic_search, cen_fn='CENSUS_NAMEFRSTB', cen_ln='CENSUS_NAMELASTB',\n",
        "                                      cen_occ='CENSUS_OCCLABELB', cen_id='OBJECTID.x')\n",
        "\n",
        "    #print(match.head())\n",
        "    match['CD_ID'] = 'CD_' + match['OBJECTID'].astype(str)\n",
        "    match['CENSUS_ID'] = 'CENSUS_' + match['OBJECTID.x'].astype(str)\n",
        "\n",
        "    #Can remove this after finalizing the confidence score\n",
        "    match['census_count_inverse'] = 1 / match['census_count']\n",
        "    match['cd_count_inverse'] = 1 / match['cd_count']\n",
        "\n",
        "    match = match.merge(latlng, how='left', on='OBJECTID', validate='many_to_one')\n",
        "    #print(match.head())\n",
        "    return match\n",
        "\"\"\"\n",
        "Create a list of dataframes where the top row is an anchor\n",
        "Each dataframe is one where spatial disambiguation will be applied\n",
        "This is necessary as else, algorithms take too long to run\n",
        "Match: df of matches\n",
        "confidence_score: name of confidence score column\n",
        "\"\"\"\n",
        "\n",
        "def split_dfs(match, sort_var=\"CENSUS_ID\", confidence=\"confidence_score\"):\n",
        "\n",
        "    match = match.sort_values(by=[sort_var])\n",
        "\n",
        "    # identify anchors and assign anchor ID\n",
        "    match['anchor'] = np.where(match[confidence] == 1, 1, None)\n",
        "    sub_group = pd.DataFrame({'index': list(match.loc[match.anchor.notnull(), :].index), 'group_ID': range(0, sum(match['anchor'].notnull()))}).set_index('index')\n",
        "    match = match.join(sub_group)\n",
        "    match['group_ID'] = match['group_ID'].fillna(method='ffill').fillna(method='backfill')\n",
        "\n",
        "    # split df into multiple df, each bounded by anchor\n",
        "\n",
        "    # sub_group_dict = {group: df for group, df in match.groupby('group_ID')}\n",
        "    sub_groups = [df for group, df in match.groupby('group_ID')]\n",
        "    \n",
        "    # add bottom anchor back\n",
        "    \"\"\"\n",
        "    for i in range(0, len(sub_group_dict) - 1):\n",
        "        sub_group_dict[i] = pd.concat([sub_group_dict[i], sub_group_dict[i+1][0:1]])\n",
        "    \"\"\"\n",
        "    return sub_groups\n",
        "\n",
        "\"\"\"\n",
        "Create node ID for each match, to be using the shortest path algorithm \n",
        "sub must be a df with each row as a potential match between a CD and census record. It must contain the columns CD_ID, CENSUS_ID, LONG, LAT, confidence_score and MATCH_ADDR.\n",
        "the column names can be specified individually if they are named differently\n",
        "Returns the dataframe with new columns, 'anchor', 'node_ID' and 'letter'.\n",
        "anchor: whether row is an anchor (confidence score = 1)\n",
        "node_ID: unique node ID. each node is a match, so e.g. A0 and A1 refers to two potential CD matches for the same census record\n",
        "letter: grouping for identical census records \n",
        "add_prefixes: whether to add prefixes 'CD_' and 'CENSUS_' to cd_id and census_id respectively. prefixes are required for subsequent bipartite matching\n",
        "\"\"\"\n",
        "def create_path_df(sub_graph, census_id = \"CENSUS_ID\"):\n",
        "\n",
        "    sub_graph['node_ID'] = sub_graph.groupby(census_id).cumcount()\n",
        "\n",
        "    letter_id = sub_graph[census_id].unique().tolist()\n",
        "    letters = ['N' + str(x) for x in range(0, len(letter_id))]\n",
        "    letter_id = pd.DataFrame({'CENSUS_ID': letter_id, 'letter': letters})\n",
        "\n",
        "    sub_graph = sub_graph.merge(letter_id, how='left', left_on=census_id, right_on=\"CENSUS_ID\", validate='many_to_one')\n",
        "\n",
        "    sub_graph['node_ID'] = sub_graph.apply(lambda row: row.letter + '_' + str(row.node_ID), axis=1)\n",
        "\n",
        "    return sub_graph\n",
        "\n",
        "\"\"\"\n",
        "Creates a graph from the sub_graph dataframe\n",
        "Each node being a potential CD-census match and \n",
        "    each edge being the link between the potential CD records of consecutive census records\n",
        "The weight of each edge = the haversine distance between the two\n",
        "cluster_col: name of column with cluster group. If does not exist, use None\n",
        "Returns the graph object\n",
        "\"\"\"\n",
        "\n",
        "def create_path_graph(g, cluster_col='in_cluster_x', lat='CD_X', lon='CD_Y'):\n",
        "\n",
        "    g.loc[:, 'key'] = 0\n",
        "    g = g.merge(g, on='key')\n",
        "\n",
        "    #This is time consuming\n",
        "    g['key'] = g.apply(lambda row: 1 if int(row.letter_x[1:]) - int(row.letter_y[1:]) == -1 else 0, axis = 1)\n",
        "\n",
        "    g = g[g.key == 1]\n",
        "\n",
        "    g['weight'] = g.apply(lambda row: haversine((row[lat + '_y'], row[lon + '_y']), (row[lat + '_x'], row[lon + '_x']), unit=Unit.METERS), axis=1)\n",
        "\n",
        "    if cluster_col != None:\n",
        "        g['weight'] = g.apply(lambda row: row.weight + 999 if row[cluster_col] == -1 else row.weight, axis=1)\n",
        "\n",
        "    g_edges = [(row.node_ID_x, row.node_ID_y, row.weight) for index, row in g.iterrows()]\n",
        "    graph = nx.DiGraph()\n",
        "    graph.add_weighted_edges_from(g_edges)\n",
        "\n",
        "    \n",
        "    return graph"
      ],
      "execution_count": 2,
      "outputs": [
        {
          "output_type": "stream",
          "text": [
            "Writing processing.py\n"
          ],
          "name": "stdout"
        }
      ]
    },
    {
      "cell_type": "markdown",
      "metadata": {
        "id": "O-nklL9S4Qqt"
      },
      "source": [
        "### write disambiguation module"
      ]
    },
    {
      "cell_type": "code",
      "metadata": {
        "id": "YEk0C_rDR8PN",
        "colab": {
          "base_uri": "https://localhost:8080/"
        },
        "outputId": "36f973c5-5208-4964-b02a-20c5735df6fc"
      },
      "source": [
        "# disambiguation\n",
        "%%writefile disambiguation.py\n",
        "\n",
        "import pandas as pd\n",
        "import networkx as nx\n",
        "import hdbscan\n",
        "from itertools import islice\n",
        "#import disambiguation.processing as dp\n",
        "import processing as dp\n",
        "import time\n",
        "\n",
        "\"\"\"\n",
        "Wrapper function for everything below, including checks\n",
        "Designed to work within list comprehension only! (refer to Disambiguator())\n",
        "Works by applying algorithm to specified df (using index i) in the list\n",
        "sub_groups: list of dfs, each df being a subset of the census bounded by 2 anchors\n",
        "i: index of df in the list\n",
        "\"\"\"\n",
        "def apply_algo(sub_groups, i, cluster=True, k_between=True, census_id='CENSUS_ID', census_count=\"census_count\", confidence='confidence_score', lat=\"CD_X\", lon=\"CD_Y\", cluster_kwargs={}, path_kwargs={}):\n",
        "\n",
        "    if i % 1000 == 0:\n",
        "        print(\"Reached: \" + str(i))\n",
        "    df = sub_groups[i]\n",
        "    if sum(df[census_count] > 1) == 0: # no disambiguation needed\n",
        "        return df\n",
        "\n",
        "    if i + 1 < len(sub_groups): # add bottom anchor\n",
        "        df = pd.concat([df, sub_groups[i+1][0:1]]) \n",
        "\n",
        "    path_df = dp.create_path_df(df, census_id)\n",
        "\n",
        "\n",
        "    if cluster:\n",
        "        # apply density clustering and remove outlier nodes\n",
        "        path_df = apply_density_clustering(path_df, lat, lon, **cluster_kwargs)\n",
        "        cluster_arg = 'in_cluster_x'\n",
        "    else:\n",
        "        cluster_arg = None\n",
        "\n",
        "    # create graph and k shortest paths centrality\n",
        "\n",
        "    g = dp.create_path_graph(path_df, cluster_col=cluster_arg, lat=lat, lon=lon)\n",
        "\n",
        "    if k_between:\n",
        "\n",
        "        output = apply_k_betweenness(path_df, g, confidence = confidence, **path_kwargs)\n",
        "    else:\n",
        "        output = apply_shortest_path(path_df, g, confidence = confidence, **path_kwargs)\n",
        "\n",
        "    return output\n",
        "\n",
        "\"\"\"\n",
        "Apply Dijkstra's algorithm to the graph and get spatial weights\n",
        "Spatial weights are computed as confidence score +1 if match was included in shortest path, and confidence score + 0 otherwise\n",
        "df: dataframe of records with confidence score and node ID, names can be modified via parameters\n",
        "graph: graph object created from create_path_graph()\n",
        "source: start node, e.g. 'A0'. By default it chooses first row in the table\n",
        "target: end node, e.g. 'J0'. By default it chooses last row in the table\n",
        "Returns a dataframe of matches with added 'spatial weight'\n",
        "\"\"\"\n",
        "def apply_shortest_path(df, graph, source = None, target = None, confidence = 'confidence_score', node_id = 'node_ID'):\n",
        "    if source == None:\n",
        "        source = list(df[node_id])[0]\n",
        "    if target == None:\n",
        "        target = list(df[node_id])[-1]\n",
        "\n",
        "    path = nx.dijkstra_path(graph, source, target)\n",
        "    df['spatial_weight'] = df.apply(lambda row: row[confidence] + 1 if row[node_id] in path else row[confidence], axis = 1)\n",
        "\n",
        "    return df\n",
        "\n",
        "\"\"\"\n",
        "Apply betweenness centrality using k shortest paths (as documented in spatial_disambiguation.ipynb)\n",
        "df: df of matches\n",
        "graph: graph object created from create_path_graph()\n",
        "source: start node, e.g. 'A0'. By default it chooses first row in the table\n",
        "target: end node, e.g. 'J0'. By default it chooses last row in the table\n",
        "k: how many shortest paths to choose from (absolute number). By default 1 or ~ 1/2 of number of possible paths if there are more than 30 paths\n",
        "scale: how much to scale the score by when adding it with confidence score. Default = 1 (equal weight of confidence score and spatial weight)\n",
        "Returns\n",
        "    df: df with spatial weights column\n",
        "    k_paths: paths used for calculation\n",
        "\"\"\"\n",
        "def apply_k_betweenness(df, graph, confidence = \"confidence_score\", source=None, target=None, k=None, scale=1):\n",
        "    if source == None:\n",
        "        source = list(df[\"node_ID\"])[0]\n",
        "    if target == None:\n",
        "        target = list(df[\"node_ID\"])[-1]\n",
        "\n",
        "    k_paths = nx.shortest_simple_paths(graph, source, target, weight=\"weight\")\n",
        "\n",
        "    length = get_n_paths(df)\n",
        "    if k == None:\n",
        "        if length < 31:\n",
        "            k = 1\n",
        "        elif length > 50:\n",
        "            k = 50\n",
        "        else:\n",
        "            k = int(0.5 * length)\n",
        "\n",
        "    k_paths = list(islice(k_paths, k))\n",
        "\n",
        "    # initialize output: dict with nodes as keys\n",
        "    spatial_weights = dict.fromkeys(graph.nodes, 0)\n",
        "    \n",
        "    # count\n",
        "    for path in k_paths:\n",
        "        for node in path:\n",
        "            spatial_weights[node] += 1\n",
        "    \n",
        "    spatial_weights = [[key , round(value / k, 2) * scale] for key, value in spatial_weights.items()]\n",
        "    spatial_df = pd.DataFrame(spatial_weights, columns=[\"node_ID\", 'spatial_weight'])\n",
        "    df = df.merge(spatial_df, how=\"inner\", on=\"node_ID\", validate=\"one_to_one\")\n",
        "    df['spatial_weight'] = df['spatial_weight'] + df[confidence]\n",
        "\n",
        "    return df\n",
        "\n",
        "\"\"\"\n",
        "Helper method to count the number of possible paths in the graph\n",
        "\"\"\"\n",
        "def get_n_paths(df):\n",
        "    k = 1\n",
        "    counts = df.groupby('letter')['letter'].size().to_list()\n",
        "    for count in counts:\n",
        "        k *= count\n",
        "    \n",
        "    return k\n",
        "\n",
        "\"\"\"\n",
        "Apply density based clustering to detect outliers. Requires `hdbscan` library\n",
        "Refer to hdbscan documentation on parameters\n",
        "Returns df with a column 'in_cluster' indicating which cluster the nodes are in\n",
        "\"\"\"\n",
        "def apply_density_clustering(df, lat='CD_X', lon=\"CD_Y\", min_cluster_size=10, min_samples=10, allow_single_cluster=True, **kwargs):\n",
        "    cluster_sub = df.loc[:, [lon, lat]]\n",
        "    clusterer = hdbscan.HDBSCAN(min_cluster_size=min_cluster_size, min_samples=min_samples, allow_single_cluster=allow_single_cluster, **kwargs).fit(cluster_sub)\n",
        "\n",
        "    df['in_cluster'] = pd.Series(clusterer.labels_).values\n",
        "    return df\n",
        "\n",
        "\"\"\"\n",
        "A bipartite graph is created from the matches, with each node being either a census or CD record and each edge indicating a potential match. \n",
        "Note that subgraph MUST have prefixes on the cd_id ('CD_') and census_id ('CENSUS_') columns\n",
        "The matching algorithm (maximum weighted matching) will \n",
        "    (1) select sets of matches that give the highest number of matches \n",
        "    (2) choose the match set that has the highest weight based on that\n",
        "Returns a dictionary with 'graph' as the list of bipartite graphs and 'results' being the original df with an additional 'selected' column, indicating the correct match and 'graph_id' column, indicated subgraph.\n",
        "\"\"\"\n",
        "def get_matches(df, cd_id = 'CD_ID', census_id = 'CENSUS_ID', weight = 'spatial_weight'):\n",
        "    b_edges = [(row[cd_id], row[census_id], row[weight]) for index, row in df.iterrows()]\n",
        "    b = nx.Graph()\n",
        "    b.add_weighted_edges_from(b_edges)\n",
        "\n",
        "    # algorithm is too expensive if we perform it on entire graph. moreover, graph is actually disconnected into sub_graphs. apply algorithm on subgraphs instead\n",
        "    subgraphs = [b.subgraph(c) for c in nx.connected_components(b)]\n",
        "    matches = [list(nx.max_weight_matching(graph, maxcardinality = True)) for graph in subgraphs]\n",
        "    matches = [sorted(list(item)) for sublist in matches for item in sublist] # unnest and convert pairs from tuple to list\n",
        "    matches = pd.DataFrame(matches, columns=[cd_id, census_id])\n",
        "    matches['selected'] = 1\n",
        "\n",
        "    df = df.merge(matches, how='left', on=[cd_id, census_id], validate='one_to_one')\n",
        "    df['selected'] = df['selected'].fillna(0)\n",
        "\n",
        "    # add subgraph id\n",
        "    subgraph_id = [{'graph_ID': i, 'CD_ID': node} for i in range(0, len(subgraphs)) for node in list(subgraphs[i].nodes) if node[:2] == 'CD']\n",
        "    subgraph_id = pd.DataFrame(subgraph_id)\n",
        "    df = df.merge(subgraph_id, how=\"inner\", left_on=cd_id, right_on=\"CD_ID\", validate=\"many_to_one\")\n",
        "\n",
        "    return {'graph': subgraphs, 'results': df}"
      ],
      "execution_count": 3,
      "outputs": [
        {
          "output_type": "stream",
          "text": [
            "Writing disambiguation.py\n"
          ],
          "name": "stdout"
        }
      ]
    },
    {
      "cell_type": "markdown",
      "metadata": {
        "id": "6UgsXFMPGxh7"
      },
      "source": [
        "### write unique dwelling module"
      ]
    },
    {
      "cell_type": "code",
      "metadata": {
        "colab": {
          "base_uri": "https://localhost:8080/"
        },
        "id": "XvO5r5m8-95A",
        "outputId": "ea6abca8-d15e-4f95-ad3f-b36db03021aa"
      },
      "source": [
        "# dataprocessing\r\n",
        "%%writefile dataprocessing.py\r\n",
        "\r\n",
        "import pandas as pd\r\n",
        "\r\n",
        "\"\"\"\r\n",
        "Purpose: generate dwelling id that's unique for every dwelling\r\n",
        "df: dataframe with census data\r\n",
        "dwelling_col: column with dwelling number information from census\r\n",
        "\"\"\"\r\n",
        "\r\n",
        "def create_unique_dwelling(df, dwelling_col = \"CENSUS_DWELLING_NUM\"):\r\n",
        "    dwelling = df[dwelling_col].iloc[0]\r\n",
        "    dwelling_num = 1\r\n",
        "    dwelling_id = []\r\n",
        "    for row in df.itertuples():\r\n",
        "        row_dwelling = getattr(row, dwelling_col)\r\n",
        "        if row_dwelling == dwelling:\r\n",
        "            dwelling_id.append(dwelling_num)\r\n",
        "        if row_dwelling != dwelling:\r\n",
        "            dwelling_num += 1\r\n",
        "            dwelling_id.append(dwelling_num)\r\n",
        "            dwelling = row_dwelling\r\n",
        "\r\n",
        "    df[\"dwelling_id\"] = dwelling_id\r\n",
        "    return df"
      ],
      "execution_count": 4,
      "outputs": [
        {
          "output_type": "stream",
          "text": [
            "Writing dataprocessing.py\n"
          ],
          "name": "stdout"
        }
      ]
    },
    {
      "cell_type": "markdown",
      "metadata": {
        "id": "nW9v_xG6xvZz"
      },
      "source": [
        "## dwellings"
      ]
    },
    {
      "cell_type": "code",
      "metadata": {
        "id": "ypoDFoTcx0z_"
      },
      "source": [
        "\r\n",
        "import pandas as pd\r\n",
        "import numpy as np\r\n",
        "from collections import defaultdict\r\n",
        "import re\r\n",
        "import networkx as nx  \r\n",
        "import os\r\n",
        "import sys\r\n",
        "module_path = os.path.abspath(os.path.join('..'))\r\n",
        "if module_path not in sys.path:\r\n",
        "    sys.path.append(module_path)\r\n",
        "%load_ext autoreload\r\n",
        "%autoreload 2\r\n",
        "import disambiguation\r\n",
        "import processing as dp\r\n",
        "from networkx.algorithms import bipartite\r\n",
        "import dataprocessing"
      ],
      "execution_count": 5,
      "outputs": []
    },
    {
      "cell_type": "markdown",
      "metadata": {
        "id": "AdH1YHQEEJ1E"
      },
      "source": [
        "Goal: Assign address, block number, x coordinate, and y coordinate to each dwelling matched with an address through disambiguation\\ Problem: Disambiguation occurs at the individual census record level, matching individuals between the city directory and census records. Because a dwelling has a single address this means that when there's a match's information can be assigned to every record within that dwelling. However, records within a dwelling could be matched to different addresses, these conflicts need to be resolved\\ Method: When there's a single match among census records within a dwelling assign values from that match to every record in that dwelling. If there's a conflict within a dwelling select one of the matches and assign those values to every record in that dwelling.\\ In this notebook: Illustrates different approaches to resolving dwelling conflicts and fills in dwellings accordingly."
      ]
    },
    {
      "cell_type": "markdown",
      "metadata": {
        "id": "5OVI9NBfyG9Z"
      },
      "source": [
        "### get data"
      ]
    },
    {
      "cell_type": "code",
      "metadata": {
        "id": "iIDwPj_tx-bv"
      },
      "source": [
        "# used 22-09 disambiguated output file for dwelling address conflicts\r\n",
        "census_1850 = pd.read_csv(\"/content/census_1850_indexUpdate.csv\")\r\n",
        "#disambiguated_1850 = pd.read_csv(\"/content/1850_mn_match_24-11-2020.csv\")\r\n",
        "disambiguated_1850 = pd.read_csv(\"/content/1850_mn_match_v2.csv\")"
      ],
      "execution_count": 6,
      "outputs": []
    },
    {
      "cell_type": "markdown",
      "metadata": {
        "id": "XwL-VDWgyrjs"
      },
      "source": [
        "### Merge 1850 census data with the selected matches from disambiguation"
      ]
    },
    {
      "cell_type": "markdown",
      "metadata": {
        "id": "1KxnZW4cEkAb"
      },
      "source": [
        "Notes: Only done on 1850 dataset due to lack of clearly indicated dwelling numbers/household numbers on 1880 dataset. Need to check how well this works manually. -Use CENSUS_ID from disambiguated and CENSUS_IPUMSUID from census data for joins, these have the same values, but need to strip the word CENSUS from CENSUS_ID data (this was added in during the disambiguation process)"
      ]
    },
    {
      "cell_type": "markdown",
      "metadata": {
        "id": "E1gQAjqNENw8"
      },
      "source": [
        "create unique dwelling ids grouped by ward no. these unique dwelling ids are further used to resolve dwelling address conflicts istead of 'census_dwelling_num'"
      ]
    },
    {
      "cell_type": "code",
      "metadata": {
        "colab": {
          "base_uri": "https://localhost:8080/"
        },
        "id": "qqR8kJNLy_LS",
        "outputId": "6d4127cf-a292-4260-cbcc-445b55b573e2"
      },
      "source": [
        "disambiguated_1850.info()"
      ],
      "execution_count": 7,
      "outputs": [
        {
          "output_type": "stream",
          "text": [
            "<class 'pandas.core.frame.DataFrame'>\n",
            "RangeIndex: 63312 entries, 0 to 63311\n",
            "Data columns (total 54 columns):\n",
            " #   Column                Non-Null Count  Dtype  \n",
            "---  ------                --------------  -----  \n",
            " 0   CENSUS_INDEX          63312 non-null  int64  \n",
            " 1   CENSUS_IPUMS_UID      63312 non-null  object \n",
            " 2   CENSUS_SERIAL         63312 non-null  int64  \n",
            " 3   CENSUS_HH_NUM         63312 non-null  int64  \n",
            " 4   CENSUS_SEQ_NUM        63312 non-null  int64  \n",
            " 5   CENSUS_REEL           63312 non-null  int64  \n",
            " 6   CENSUS_PAGENUM        63312 non-null  int64  \n",
            " 7   CENSUS_LINE           63312 non-null  int64  \n",
            " 8   CENSUS_AGE            63312 non-null  int64  \n",
            " 9   CENSUS_GENDER         63312 non-null  int64  \n",
            " 10  CENSUS_RACE           63312 non-null  int64  \n",
            " 11  CENSUS_LABFORCE       63312 non-null  int64  \n",
            " 12  CENSUS_OCCUPATION     37973 non-null  object \n",
            " 13  CENSUS_IMPREL         63312 non-null  int64  \n",
            " 14  CENSUS_FIRST_NAME     63312 non-null  object \n",
            " 15  CENSUS_LAST_NAME      63312 non-null  object \n",
            " 16  CENSUS_DWELLING_NUM   63178 non-null  float64\n",
            " 17  CENSUS_DWELLING_SEQ   63080 non-null  float64\n",
            " 18  CENSUS_DWELLING_SIZE  63312 non-null  int64  \n",
            " 19  CENSUS_GEOG           63223 non-null  object \n",
            " 20  OBJECTID              63312 non-null  int64  \n",
            " 21  CD_INDEX              63312 non-null  int64  \n",
            " 22  CD_RECORD_ID          63312 non-null  object \n",
            " 23  CD_FIRST_NAME         63312 non-null  object \n",
            " 24  CD_LAST_NAME          63312 non-null  object \n",
            " 25  CD_OCCUPATION_STD     57092 non-null  object \n",
            " 26  CD_H_ADDRESS          63312 non-null  object \n",
            " 27  CD_H_HOUSE_NUMBER     63312 non-null  int64  \n",
            " 28  CD_H_STREET_NAME      63312 non-null  object \n",
            " 29  CD_BLOCK_NUM          63312 non-null  object \n",
            " 30  CD_WARD_NUM           63312 non-null  int64  \n",
            " 31  CD_X                  63312 non-null  float64\n",
            " 32  CD_Y                  63312 non-null  float64\n",
            " 33  jw_fn                 63312 non-null  float64\n",
            " 34  jw_ln                 63312 non-null  float64\n",
            " 35  jw_score              63312 non-null  float64\n",
            " 36  occ_listed            63312 non-null  int64  \n",
            " 37  age_score             63312 non-null  int64  \n",
            " 38  cd_count              63312 non-null  int64  \n",
            " 39  census_count          63312 non-null  int64  \n",
            " 40  census_count_inverse  63312 non-null  float64\n",
            " 41  cd_count_inverse      63312 non-null  float64\n",
            " 42  CD_ID                 63312 non-null  object \n",
            " 43  CENSUS_ID             63312 non-null  object \n",
            " 44  confidence_score      63312 non-null  float64\n",
            " 45  anchor                63312 non-null  int64  \n",
            " 46  group_ID              63312 non-null  float64\n",
            " 47  node_ID               54656 non-null  object \n",
            " 48  letter                54656 non-null  object \n",
            " 49  in_cluster            54656 non-null  float64\n",
            " 50  key                   54656 non-null  float64\n",
            " 51  spatial_weight        63312 non-null  float64\n",
            " 52  selected              63312 non-null  float64\n",
            " 53  graph_ID              63312 non-null  int64  \n",
            "dtypes: float64(15), int64(23), object(16)\n",
            "memory usage: 26.1+ MB\n"
          ],
          "name": "stdout"
        }
      ]
    },
    {
      "cell_type": "code",
      "metadata": {
        "id": "xzA6_KYKytAo"
      },
      "source": [
        "disambiguated_selected = disambiguated_1850[[\"CENSUS_ID\", \"CD_H_ADDRESS\", \"selected\", \"spatial_weight\", \"CD_X\", \"CD_Y\", \"CD_BLOCK_NUM\"]]\r\n",
        "disambiguated_selected = disambiguated_selected[disambiguated_selected[\"selected\"] == 1]\r\n",
        "disambiguated_selected.loc[:,\"CENSUS_ID\"] = disambiguated_selected[\"CENSUS_ID\"].apply(lambda x: x.strip(\"CENSUS_\"))"
      ],
      "execution_count": 8,
      "outputs": []
    },
    {
      "cell_type": "code",
      "metadata": {
        "id": "tqtits30wXQO"
      },
      "source": [
        "#create unique dwelling id\r\n",
        "census_1850 = census_1850.groupby('CENSUS_WARD_NUM', as_index = False).apply(lambda x: dataprocessing.create_unique_dwelling(x, 'CENSUS_DWELLING_NUM'))"
      ],
      "execution_count": 9,
      "outputs": []
    },
    {
      "cell_type": "code",
      "metadata": {
        "colab": {
          "base_uri": "https://localhost:8080/",
          "height": 479
        },
        "id": "VJsVp0g1zVgV",
        "outputId": "767d33eb-a8e8-4492-f3f2-5e802d007e25"
      },
      "source": [
        "# merge census and disambiguated output\r\n",
        "CensusDis1850 = census_1850.merge(disambiguated_selected, how = \"left\", left_on = \"CENSUS_IPUMS_UID\", right_on = \"CENSUS_ID\")\r\n",
        "CensusDis1850.head()"
      ],
      "execution_count": 10,
      "outputs": [
        {
          "output_type": "execute_result",
          "data": {
            "text/html": [
              "<div>\n",
              "<style scoped>\n",
              "    .dataframe tbody tr th:only-of-type {\n",
              "        vertical-align: middle;\n",
              "    }\n",
              "\n",
              "    .dataframe tbody tr th {\n",
              "        vertical-align: top;\n",
              "    }\n",
              "\n",
              "    .dataframe thead th {\n",
              "        text-align: right;\n",
              "    }\n",
              "</style>\n",
              "<table border=\"1\" class=\"dataframe\">\n",
              "  <thead>\n",
              "    <tr style=\"text-align: right;\">\n",
              "      <th></th>\n",
              "      <th>CENSUS_SERIALP</th>\n",
              "      <th>CENSUS_AGE</th>\n",
              "      <th>CENSUS_SEX</th>\n",
              "      <th>CENSUS_MARST</th>\n",
              "      <th>CENSUS_RACE</th>\n",
              "      <th>CENSUS_LABFORCE</th>\n",
              "      <th>CENSUS_IMPREL</th>\n",
              "      <th>CENSUS_OCCSTR</th>\n",
              "      <th>CENSUS_NAMELAST</th>\n",
              "      <th>CENSUS_NAMEFRST</th>\n",
              "      <th>CENSUS_SEQ_NUM</th>\n",
              "      <th>CENSUS_HH_NUM</th>\n",
              "      <th>CENSUS_IPUMS_UID</th>\n",
              "      <th>CENSUS_CITY</th>\n",
              "      <th>CENSUS_PAGENO_HOUSEHOLD</th>\n",
              "      <th>CENSUS_WARD_NUM</th>\n",
              "      <th>CENSUS_REEL_HOUSEHOLD</th>\n",
              "      <th>CENSUS_PLACE</th>\n",
              "      <th>CENSUS_DWELLING_NUM</th>\n",
              "      <th>CENSUS_DWELLING_SEQ</th>\n",
              "      <th>CENSUS_DWELLING_SIZE</th>\n",
              "      <th>CENSUS_GEOG</th>\n",
              "      <th>CENSUS_LINE</th>\n",
              "      <th>CENSUS_INDEX</th>\n",
              "      <th>dwelling_id</th>\n",
              "      <th>CENSUS_ID</th>\n",
              "      <th>CD_H_ADDRESS</th>\n",
              "      <th>selected</th>\n",
              "      <th>spatial_weight</th>\n",
              "      <th>CD_X</th>\n",
              "      <th>CD_Y</th>\n",
              "      <th>CD_BLOCK_NUM</th>\n",
              "    </tr>\n",
              "  </thead>\n",
              "  <tbody>\n",
              "    <tr>\n",
              "      <th>0</th>\n",
              "      <td>2044262</td>\n",
              "      <td>49</td>\n",
              "      <td>1</td>\n",
              "      <td>6</td>\n",
              "      <td>120</td>\n",
              "      <td>2</td>\n",
              "      <td>1</td>\n",
              "      <td>INN KEEPER</td>\n",
              "      <td>FLINT</td>\n",
              "      <td>JOHN M</td>\n",
              "      <td>1</td>\n",
              "      <td>401735</td>\n",
              "      <td>1a0cea81-aa4c-4e02-af29-37f3fdadd987</td>\n",
              "      <td>4610</td>\n",
              "      <td>70</td>\n",
              "      <td>1</td>\n",
              "      <td>534</td>\n",
              "      <td>MANHATTAN</td>\n",
              "      <td>1.0</td>\n",
              "      <td>1.0</td>\n",
              "      <td>84</td>\n",
              "      <td>NEW YORK WARD 1 EASTERN DIVISION</td>\n",
              "      <td>10</td>\n",
              "      <td>1</td>\n",
              "      <td>1</td>\n",
              "      <td>NaN</td>\n",
              "      <td>NaN</td>\n",
              "      <td>NaN</td>\n",
              "      <td>NaN</td>\n",
              "      <td>NaN</td>\n",
              "      <td>NaN</td>\n",
              "      <td>NaN</td>\n",
              "    </tr>\n",
              "    <tr>\n",
              "      <th>1</th>\n",
              "      <td>2044263</td>\n",
              "      <td>36</td>\n",
              "      <td>2</td>\n",
              "      <td>6</td>\n",
              "      <td>120</td>\n",
              "      <td>0</td>\n",
              "      <td>1</td>\n",
              "      <td>NaN</td>\n",
              "      <td>FLINT</td>\n",
              "      <td>MARY A</td>\n",
              "      <td>2</td>\n",
              "      <td>401735</td>\n",
              "      <td>29aed4d0-b649-4d6b-9e28-3db8f4da81d8</td>\n",
              "      <td>4610</td>\n",
              "      <td>70</td>\n",
              "      <td>1</td>\n",
              "      <td>534</td>\n",
              "      <td>MANHATTAN</td>\n",
              "      <td>1.0</td>\n",
              "      <td>1.0</td>\n",
              "      <td>84</td>\n",
              "      <td>NEW YORK WARD 1 EASTERN DIVISION</td>\n",
              "      <td>10</td>\n",
              "      <td>2</td>\n",
              "      <td>1</td>\n",
              "      <td>NaN</td>\n",
              "      <td>NaN</td>\n",
              "      <td>NaN</td>\n",
              "      <td>NaN</td>\n",
              "      <td>NaN</td>\n",
              "      <td>NaN</td>\n",
              "      <td>NaN</td>\n",
              "    </tr>\n",
              "    <tr>\n",
              "      <th>2</th>\n",
              "      <td>2044264</td>\n",
              "      <td>12</td>\n",
              "      <td>2</td>\n",
              "      <td>6</td>\n",
              "      <td>120</td>\n",
              "      <td>0</td>\n",
              "      <td>1</td>\n",
              "      <td>NaN</td>\n",
              "      <td>FLINT</td>\n",
              "      <td>MARY D</td>\n",
              "      <td>3</td>\n",
              "      <td>401735</td>\n",
              "      <td>8cfac447-5fdf-44a4-888c-ee1c7e2a8355</td>\n",
              "      <td>4610</td>\n",
              "      <td>70</td>\n",
              "      <td>1</td>\n",
              "      <td>534</td>\n",
              "      <td>MANHATTAN</td>\n",
              "      <td>1.0</td>\n",
              "      <td>1.0</td>\n",
              "      <td>84</td>\n",
              "      <td>NEW YORK WARD 1 EASTERN DIVISION</td>\n",
              "      <td>10</td>\n",
              "      <td>3</td>\n",
              "      <td>1</td>\n",
              "      <td>NaN</td>\n",
              "      <td>NaN</td>\n",
              "      <td>NaN</td>\n",
              "      <td>NaN</td>\n",
              "      <td>NaN</td>\n",
              "      <td>NaN</td>\n",
              "      <td>NaN</td>\n",
              "    </tr>\n",
              "    <tr>\n",
              "      <th>3</th>\n",
              "      <td>2044265</td>\n",
              "      <td>40</td>\n",
              "      <td>1</td>\n",
              "      <td>6</td>\n",
              "      <td>120</td>\n",
              "      <td>2</td>\n",
              "      <td>1</td>\n",
              "      <td>COMB MERCHANT</td>\n",
              "      <td>OATMAN</td>\n",
              "      <td>JAMES C</td>\n",
              "      <td>4</td>\n",
              "      <td>401736</td>\n",
              "      <td>ec0bff21-a919-42bf-a22c-7c6ef9b656af</td>\n",
              "      <td>4610</td>\n",
              "      <td>70</td>\n",
              "      <td>1</td>\n",
              "      <td>534</td>\n",
              "      <td>MANHATTAN</td>\n",
              "      <td>1.0</td>\n",
              "      <td>1.0</td>\n",
              "      <td>84</td>\n",
              "      <td>NEW YORK WARD 1 EASTERN DIVISION</td>\n",
              "      <td>10</td>\n",
              "      <td>4</td>\n",
              "      <td>1</td>\n",
              "      <td>NaN</td>\n",
              "      <td>NaN</td>\n",
              "      <td>NaN</td>\n",
              "      <td>NaN</td>\n",
              "      <td>NaN</td>\n",
              "      <td>NaN</td>\n",
              "      <td>NaN</td>\n",
              "    </tr>\n",
              "    <tr>\n",
              "      <th>4</th>\n",
              "      <td>2044266</td>\n",
              "      <td>28</td>\n",
              "      <td>2</td>\n",
              "      <td>6</td>\n",
              "      <td>120</td>\n",
              "      <td>0</td>\n",
              "      <td>1</td>\n",
              "      <td>NaN</td>\n",
              "      <td>OATMAN</td>\n",
              "      <td>CAROLINE E</td>\n",
              "      <td>5</td>\n",
              "      <td>401736</td>\n",
              "      <td>61d38b86-d8bc-4b69-bb6b-3169fa0e594d</td>\n",
              "      <td>4610</td>\n",
              "      <td>70</td>\n",
              "      <td>1</td>\n",
              "      <td>534</td>\n",
              "      <td>MANHATTAN</td>\n",
              "      <td>1.0</td>\n",
              "      <td>1.0</td>\n",
              "      <td>84</td>\n",
              "      <td>NEW YORK WARD 1 EASTERN DIVISION</td>\n",
              "      <td>10</td>\n",
              "      <td>5</td>\n",
              "      <td>1</td>\n",
              "      <td>NaN</td>\n",
              "      <td>NaN</td>\n",
              "      <td>NaN</td>\n",
              "      <td>NaN</td>\n",
              "      <td>NaN</td>\n",
              "      <td>NaN</td>\n",
              "      <td>NaN</td>\n",
              "    </tr>\n",
              "  </tbody>\n",
              "</table>\n",
              "</div>"
            ],
            "text/plain": [
              "   CENSUS_SERIALP  CENSUS_AGE  CENSUS_SEX  ...  CD_X  CD_Y  CD_BLOCK_NUM\n",
              "0         2044262          49           1  ...   NaN   NaN           NaN\n",
              "1         2044263          36           2  ...   NaN   NaN           NaN\n",
              "2         2044264          12           2  ...   NaN   NaN           NaN\n",
              "3         2044265          40           1  ...   NaN   NaN           NaN\n",
              "4         2044266          28           2  ...   NaN   NaN           NaN\n",
              "\n",
              "[5 rows x 32 columns]"
            ]
          },
          "metadata": {
            "tags": []
          },
          "execution_count": 10
        }
      ]
    },
    {
      "cell_type": "code",
      "metadata": {
        "colab": {
          "base_uri": "https://localhost:8080/"
        },
        "id": "AI3znCSTzvsd",
        "outputId": "10e2b883-230c-4859-9f3a-4f0d7cfa132e"
      },
      "source": [
        "census_1850.shape"
      ],
      "execution_count": 11,
      "outputs": [
        {
          "output_type": "execute_result",
          "data": {
            "text/plain": [
              "(515630, 25)"
            ]
          },
          "metadata": {
            "tags": []
          },
          "execution_count": 11
        }
      ]
    },
    {
      "cell_type": "code",
      "metadata": {
        "colab": {
          "base_uri": "https://localhost:8080/"
        },
        "id": "XN0BPhxhzx8x",
        "outputId": "f296b7ac-4687-4b4a-befc-21976e87732f"
      },
      "source": [
        "print(\"Proportion of census data assigned addresses:\", CensusDis1850.CD_H_ADDRESS.count()/515630)"
      ],
      "execution_count": 12,
      "outputs": [
        {
          "output_type": "stream",
          "text": [
            "Proportion of census data assigned addresses: 0.047679537652968215\n"
          ],
          "name": "stdout"
        }
      ]
    },
    {
      "cell_type": "code",
      "metadata": {
        "id": "OYghFGDC0UG4"
      },
      "source": [
        "def get_counts(x, one_add, no_add, more_add, col, counts1, counts2, counts3):\r\n",
        "\r\n",
        "    c = x[\"CD_H_ADDRESS\"].nunique()\r\n",
        "    if c == 0:\r\n",
        "        no_add.append((x[\"CENSUS_WARD_NUM\"].iloc[0], x[col].iloc[0]))\r\n",
        "        counts1.append(len(x))\r\n",
        "    elif c == 1:\r\n",
        "        one_add.append((x[\"CENSUS_WARD_NUM\"].iloc[0], x[col].iloc[0]))\r\n",
        "        counts2.append(len(x))\r\n",
        "    \r\n",
        "    elif c > 1:\r\n",
        "        more_add.append((x[\"CENSUS_WARD_NUM\"].iloc[0], x[col].iloc[0]))\r\n",
        "        counts3.append(len(x))"
      ],
      "execution_count": 13,
      "outputs": []
    },
    {
      "cell_type": "code",
      "metadata": {
        "id": "7FZvmwcY0niv"
      },
      "source": [
        "no_add = []\r\n",
        "one_add = []\r\n",
        "more_add = []\r\n",
        "counts_no_add = []\r\n",
        "counts_one_add = []\r\n",
        "counts_more_add = []\r\n",
        "\r\n",
        "for index, df in CensusDis1850.groupby([\"CENSUS_WARD_NUM\", \"dwelling_id\"]):\r\n",
        "    get_counts(df, one_add, no_add, more_add, \"dwelling_id\", counts_no_add, counts_one_add, counts_more_add)"
      ],
      "execution_count": 14,
      "outputs": []
    },
    {
      "cell_type": "code",
      "metadata": {
        "colab": {
          "base_uri": "https://localhost:8080/"
        },
        "id": "YDWYHEvi1BF5",
        "outputId": "8532d208-e52b-4166-d035-210779d68cfb"
      },
      "source": [
        "print(\"Proportion of dwellings assigned one address:\", len(one_add)/CensusDis1850.groupby([\"CENSUS_WARD_NUM\", \"dwelling_id\"]).ngroups)\r\n",
        "print(\"Proportion of dwellings without an address:\", len(no_add)/CensusDis1850.groupby([\"CENSUS_WARD_NUM\", \"dwelling_id\"]).ngroups)\r\n",
        "print(\"Proportion of dwellings assigned more than one address:\", len(more_add)/CensusDis1850.groupby([\"CENSUS_WARD_NUM\", \"dwelling_id\"]).ngroups)"
      ],
      "execution_count": 15,
      "outputs": [
        {
          "output_type": "stream",
          "text": [
            "Proportion of dwellings assigned one address: 0.3304719917012448\n",
            "Proportion of dwellings without an address: 0.5768153526970954\n",
            "Proportion of dwellings assigned more than one address: 0.09271265560165975\n"
          ],
          "name": "stdout"
        }
      ]
    },
    {
      "cell_type": "code",
      "metadata": {
        "colab": {
          "base_uri": "https://localhost:8080/"
        },
        "id": "h_vDQKBo4Rix",
        "outputId": "064b76d4-6180-4c4c-a541-ff5237466e3a"
      },
      "source": [
        "print(\"Proportion of census data that should be assigned an address as is:\", sum(counts_one_add)/515630)\r\n",
        "print(\"Proportion of census data that should be assigned an address after dealing with conflicts:\", (sum(counts_one_add) + sum(counts_more_add))/515630)\r\n",
        "print(\"Proportion of census data that we shouldn't be able to assign an address to:\", sum(counts_no_add)/515630)"
      ],
      "execution_count": 16,
      "outputs": [
        {
          "output_type": "stream",
          "text": [
            "Proportion of census data that should be assigned an address as is: 0.3624478792932917\n",
            "Proportion of census data that should be assigned an address after dealing with conflicts: 0.533052770397378\n",
            "Proportion of census data that we shouldn't be able to assign an address to: 0.466947229602622\n"
          ],
          "name": "stdout"
        }
      ]
    },
    {
      "cell_type": "code",
      "metadata": {
        "id": "XTt2CEXV1Qzt"
      },
      "source": [
        "\r\n",
        "#Function for filling in households/dwelling numbers if relevant\r\n",
        "def check_quant(x, exceptions, col, tuple = False):\r\n",
        "\r\n",
        "    c = x[\"CD_H_ADDRESS\"].nunique()\r\n",
        "    if c > 1:\r\n",
        "        if tuple:\r\n",
        "            exceptions.append((x[\"CENSUS_WARD_NUM\"].iloc[0], x[col].iloc[0]))\r\n",
        "        else:\r\n",
        "            exceptions.append(x[col].iloc[0])\r\n",
        "    elif c == 1:\r\n",
        "        x[\"CD_H_ADDRESS\"] = x[\"CD_H_ADDRESS\"].ffill().bfill()\r\n",
        "        x[\"CD_X\"] = x[\"CD_X\"].ffill().bfill()\r\n",
        "        x[\"CD_Y\"] = x[\"CD_Y\"].ffill().bfill()\r\n",
        "        x[\"CD_BLOCK_NUM\"] = x[\"CD_BLOCK_NUM\"].ffill().bfill()\r\n",
        "    return x"
      ],
      "execution_count": 17,
      "outputs": []
    },
    {
      "cell_type": "code",
      "metadata": {
        "id": "f3wEMqCe2m-t"
      },
      "source": [
        "\r\n",
        "dwellings_conflicts = []\r\n",
        "base_fill = CensusDis1850.groupby([\"CENSUS_WARD_NUM\", \"dwelling_id\"]).apply(lambda x: check_quant(x, dwellings_conflicts, \"dwelling_id\", tuple = True))"
      ],
      "execution_count": 18,
      "outputs": []
    },
    {
      "cell_type": "code",
      "metadata": {
        "colab": {
          "base_uri": "https://localhost:8080/"
        },
        "id": "Er2heWGL5IXV",
        "outputId": "2424fbee-6477-435a-816b-75662958b766"
      },
      "source": [
        "print(\"Proportion of census data assigned addresses:\", base_fill.CD_H_ADDRESS.count()/515630)"
      ],
      "execution_count": 19,
      "outputs": [
        {
          "output_type": "stream",
          "text": [
            "Proportion of census data assigned addresses: 0.38036770552527976\n"
          ],
          "name": "stdout"
        }
      ]
    },
    {
      "cell_type": "code",
      "metadata": {
        "colab": {
          "base_uri": "https://localhost:8080/"
        },
        "id": "iJ-sVbhd5hXl",
        "outputId": "7481e697-5a36-4870-cf99-e5647159af39"
      },
      "source": [
        "base_fill.CD_H_ADDRESS.count()"
      ],
      "execution_count": 20,
      "outputs": [
        {
          "output_type": "execute_result",
          "data": {
            "text/plain": [
              "196129"
            ]
          },
          "metadata": {
            "tags": []
          },
          "execution_count": 20
        }
      ]
    },
    {
      "cell_type": "code",
      "metadata": {
        "colab": {
          "base_uri": "https://localhost:8080/"
        },
        "id": "2-5TDsSI5p6t",
        "outputId": "253995cc-e0ff-48d0-c4c4-21bccbcffa48"
      },
      "source": [
        "sum(counts_one_add)"
      ],
      "execution_count": 21,
      "outputs": [
        {
          "output_type": "execute_result",
          "data": {
            "text/plain": [
              "186889"
            ]
          },
          "metadata": {
            "tags": []
          },
          "execution_count": 21
        }
      ]
    },
    {
      "cell_type": "code",
      "metadata": {
        "colab": {
          "base_uri": "https://localhost:8080/"
        },
        "id": "8uofR3SN5thU",
        "outputId": "91294fe0-0423-4b06-f6a3-6fd75515bd08"
      },
      "source": [
        "more_add == dwellings_conflicts"
      ],
      "execution_count": 22,
      "outputs": [
        {
          "output_type": "execute_result",
          "data": {
            "text/plain": [
              "True"
            ]
          },
          "metadata": {
            "tags": []
          },
          "execution_count": 22
        }
      ]
    },
    {
      "cell_type": "code",
      "metadata": {
        "colab": {
          "base_uri": "https://localhost:8080/"
        },
        "id": "c6yzmipI5yL7",
        "outputId": "b5bd522d-f3a8-4d36-fd6a-9deab98e0ac7"
      },
      "source": [
        "Dwelling_nums_nas = CensusDis1850[CensusDis1850[\"CENSUS_DWELLING_NUM\"].isnull()]\r\n",
        "nans_addresses = Dwelling_nums_nas.CD_H_ADDRESS.count()\r\n",
        "Dwelling_nums_nas.info()"
      ],
      "execution_count": 23,
      "outputs": [
        {
          "output_type": "stream",
          "text": [
            "<class 'pandas.core.frame.DataFrame'>\n",
            "Int64Index: 912 entries, 1307 to 495263\n",
            "Data columns (total 32 columns):\n",
            " #   Column                   Non-Null Count  Dtype  \n",
            "---  ------                   --------------  -----  \n",
            " 0   CENSUS_SERIALP           912 non-null    int64  \n",
            " 1   CENSUS_AGE               912 non-null    int64  \n",
            " 2   CENSUS_SEX               912 non-null    int64  \n",
            " 3   CENSUS_MARST             912 non-null    int64  \n",
            " 4   CENSUS_RACE              912 non-null    int64  \n",
            " 5   CENSUS_LABFORCE          912 non-null    int64  \n",
            " 6   CENSUS_IMPREL            912 non-null    int64  \n",
            " 7   CENSUS_OCCSTR            367 non-null    object \n",
            " 8   CENSUS_NAMELAST          911 non-null    object \n",
            " 9   CENSUS_NAMEFRST          912 non-null    object \n",
            " 10  CENSUS_SEQ_NUM           912 non-null    int64  \n",
            " 11  CENSUS_HH_NUM            912 non-null    int64  \n",
            " 12  CENSUS_IPUMS_UID         912 non-null    object \n",
            " 13  CENSUS_CITY              912 non-null    int64  \n",
            " 14  CENSUS_PAGENO_HOUSEHOLD  912 non-null    int64  \n",
            " 15  CENSUS_WARD_NUM          912 non-null    int64  \n",
            " 16  CENSUS_REEL_HOUSEHOLD    912 non-null    int64  \n",
            " 17  CENSUS_PLACE             912 non-null    object \n",
            " 18  CENSUS_DWELLING_NUM      0 non-null      float64\n",
            " 19  CENSUS_DWELLING_SEQ      885 non-null    float64\n",
            " 20  CENSUS_DWELLING_SIZE     912 non-null    int64  \n",
            " 21  CENSUS_GEOG              912 non-null    object \n",
            " 22  CENSUS_LINE              912 non-null    int64  \n",
            " 23  CENSUS_INDEX             912 non-null    int64  \n",
            " 24  dwelling_id              912 non-null    int64  \n",
            " 25  CENSUS_ID                54 non-null     object \n",
            " 26  CD_H_ADDRESS             54 non-null     object \n",
            " 27  selected                 54 non-null     float64\n",
            " 28  spatial_weight           54 non-null     float64\n",
            " 29  CD_X                     54 non-null     float64\n",
            " 30  CD_Y                     54 non-null     float64\n",
            " 31  CD_BLOCK_NUM             54 non-null     object \n",
            "dtypes: float64(6), int64(17), object(9)\n",
            "memory usage: 235.1+ KB\n"
          ],
          "name": "stdout"
        }
      ]
    },
    {
      "cell_type": "markdown",
      "metadata": {
        "id": "91ckgiyv6eqz"
      },
      "source": [
        "So this is too small to explain the difference. For now it's not different enough to stop from continuing, but it's definitely worth keeping in mind."
      ]
    },
    {
      "cell_type": "markdown",
      "metadata": {
        "id": "3Y9jeSiC69t1"
      },
      "source": [
        "### Fill in Addresses for Household/Dwelling, based on Disambiguation Match\r\n",
        "Note: Does not resolve conflicts\r\n",
        "\r\n",
        "#### Fill in addresses for census entries in the same household"
      ]
    },
    {
      "cell_type": "code",
      "metadata": {
        "id": "cixugHq76fXl"
      },
      "source": [
        "#confirm that household/dwelling values are unique accross the entire dataset\r\n",
        "def uniqueness(df, col):\r\n",
        "    df_check = df[[\"CENSUS_WARD_NUM\", col]]\r\n",
        "    df2 = df_check.groupby(\"CENSUS_WARD_NUM\").apply(lambda x: x[col].unique())\r\n",
        "    d = df2.to_dict()\r\n",
        "    for key1 in d:\r\n",
        "        for key2 in d:\r\n",
        "            if key1 != key2:\r\n",
        "                check = any(item in d[key1] for item in d[key2])\r\n",
        "                if check is True:\r\n",
        "                    print(key1, key2)\r\n",
        "                    raise Exception(str(col) + \" numbers are not unique\")\r\n",
        "    return True"
      ],
      "execution_count": 24,
      "outputs": []
    },
    {
      "cell_type": "code",
      "metadata": {
        "colab": {
          "base_uri": "https://localhost:8080/"
        },
        "id": "Ir2W1EhN7Nxe",
        "outputId": "80f9077b-ba96-4e0d-a3f3-b1b94701a549"
      },
      "source": [
        "uniqueness(CensusDis1850, \"CENSUS_HH_NUM\")"
      ],
      "execution_count": 25,
      "outputs": [
        {
          "output_type": "execute_result",
          "data": {
            "text/plain": [
              "True"
            ]
          },
          "metadata": {
            "tags": []
          },
          "execution_count": 25
        }
      ]
    },
    {
      "cell_type": "code",
      "metadata": {
        "colab": {
          "base_uri": "https://localhost:8080/"
        },
        "id": "-T8xzSYZ7YFU",
        "outputId": "e0dcabf4-bd35-4ec9-b339-17e400ee375f"
      },
      "source": [
        "uniqueness(CensusDis1850, \"CENSUS_SERIALP\")"
      ],
      "execution_count": 26,
      "outputs": [
        {
          "output_type": "execute_result",
          "data": {
            "text/plain": [
              "True"
            ]
          },
          "metadata": {
            "tags": []
          },
          "execution_count": 26
        }
      ]
    },
    {
      "cell_type": "code",
      "metadata": {
        "id": "TlSThHtZ8xcQ"
      },
      "source": [
        "#Filling addresses for people in the same household\r\n",
        "households = [] # keep track of any households with multiple addresses \r\n",
        "Census_hh = CensusDis1850.groupby(\"CENSUS_HH_NUM\").apply(lambda x: check_quant(x, households, \"CENSUS_HH_NUM\"))"
      ],
      "execution_count": 27,
      "outputs": []
    },
    {
      "cell_type": "code",
      "metadata": {
        "colab": {
          "base_uri": "https://localhost:8080/"
        },
        "id": "DG8mjyL883p3",
        "outputId": "bded6c57-59ec-4f72-9f38-e68079ab33c2"
      },
      "source": [
        "#These households need to be inspected more carefully, it seems that they\r\n",
        "#have been assigned multiple addresses\r\n",
        "len(households)"
      ],
      "execution_count": 28,
      "outputs": [
        {
          "output_type": "execute_result",
          "data": {
            "text/plain": [
              "966"
            ]
          },
          "metadata": {
            "tags": []
          },
          "execution_count": 28
        }
      ]
    },
    {
      "cell_type": "code",
      "metadata": {
        "id": "ZkbSoWII-ZP_"
      },
      "source": [
        "with open('/content/households.txt', 'w') as filehandle:\r\n",
        "    for listitem in households:\r\n",
        "        filehandle.write('%s\\n' % listitem)"
      ],
      "execution_count": 29,
      "outputs": []
    },
    {
      "cell_type": "code",
      "metadata": {
        "colab": {
          "base_uri": "https://localhost:8080/",
          "height": 258
        },
        "id": "-7ITfkfC-x97",
        "outputId": "ecf4eeea-0403-4089-8c38-c99a2faf1a66"
      },
      "source": [
        "\r\n",
        "x = Census_hh[Census_hh[\"CENSUS_HH_NUM\"] == households[7]]\r\n",
        "x[[\"CENSUS_NAMEFRST\", \"CENSUS_NAMELAST\", \"CENSUS_AGE\", \"CENSUS_SEX\", \"CENSUS_OCCSTR\", \"CENSUS_HH_NUM\",\"dwelling_id\", \"CD_H_ADDRESS\", \"spatial_weight\"]]"
      ],
      "execution_count": 30,
      "outputs": [
        {
          "output_type": "execute_result",
          "data": {
            "text/html": [
              "<div>\n",
              "<style scoped>\n",
              "    .dataframe tbody tr th:only-of-type {\n",
              "        vertical-align: middle;\n",
              "    }\n",
              "\n",
              "    .dataframe tbody tr th {\n",
              "        vertical-align: top;\n",
              "    }\n",
              "\n",
              "    .dataframe thead th {\n",
              "        text-align: right;\n",
              "    }\n",
              "</style>\n",
              "<table border=\"1\" class=\"dataframe\">\n",
              "  <thead>\n",
              "    <tr style=\"text-align: right;\">\n",
              "      <th></th>\n",
              "      <th>CENSUS_NAMEFRST</th>\n",
              "      <th>CENSUS_NAMELAST</th>\n",
              "      <th>CENSUS_AGE</th>\n",
              "      <th>CENSUS_SEX</th>\n",
              "      <th>CENSUS_OCCSTR</th>\n",
              "      <th>CENSUS_HH_NUM</th>\n",
              "      <th>dwelling_id</th>\n",
              "      <th>CD_H_ADDRESS</th>\n",
              "      <th>spatial_weight</th>\n",
              "    </tr>\n",
              "  </thead>\n",
              "  <tbody>\n",
              "    <tr>\n",
              "      <th>15031</th>\n",
              "      <td>MICHAEL</td>\n",
              "      <td>MORAN</td>\n",
              "      <td>48</td>\n",
              "      <td>1</td>\n",
              "      <td>LABORER</td>\n",
              "      <td>409771</td>\n",
              "      <td>858</td>\n",
              "      <td>46 TRINITY PL</td>\n",
              "      <td>2.0</td>\n",
              "    </tr>\n",
              "    <tr>\n",
              "      <th>15032</th>\n",
              "      <td>CECILIA</td>\n",
              "      <td>MORAN</td>\n",
              "      <td>42</td>\n",
              "      <td>2</td>\n",
              "      <td>NaN</td>\n",
              "      <td>409771</td>\n",
              "      <td>858</td>\n",
              "      <td>NaN</td>\n",
              "      <td>NaN</td>\n",
              "    </tr>\n",
              "    <tr>\n",
              "      <th>15033</th>\n",
              "      <td>CECILIA</td>\n",
              "      <td>MORAN</td>\n",
              "      <td>15</td>\n",
              "      <td>2</td>\n",
              "      <td>NaN</td>\n",
              "      <td>409771</td>\n",
              "      <td>858</td>\n",
              "      <td>NaN</td>\n",
              "      <td>NaN</td>\n",
              "    </tr>\n",
              "    <tr>\n",
              "      <th>15034</th>\n",
              "      <td>FRANCIS</td>\n",
              "      <td>MORAN</td>\n",
              "      <td>8</td>\n",
              "      <td>1</td>\n",
              "      <td>NaN</td>\n",
              "      <td>409771</td>\n",
              "      <td>858</td>\n",
              "      <td>42 WHITEHALL ST</td>\n",
              "      <td>1.9</td>\n",
              "    </tr>\n",
              "    <tr>\n",
              "      <th>15035</th>\n",
              "      <td>JULIAN</td>\n",
              "      <td>MORAN</td>\n",
              "      <td>4</td>\n",
              "      <td>2</td>\n",
              "      <td>NaN</td>\n",
              "      <td>409771</td>\n",
              "      <td>858</td>\n",
              "      <td>NaN</td>\n",
              "      <td>NaN</td>\n",
              "    </tr>\n",
              "  </tbody>\n",
              "</table>\n",
              "</div>"
            ],
            "text/plain": [
              "      CENSUS_NAMEFRST CENSUS_NAMELAST  ...     CD_H_ADDRESS  spatial_weight\n",
              "15031         MICHAEL           MORAN  ...    46 TRINITY PL             2.0\n",
              "15032         CECILIA           MORAN  ...              NaN             NaN\n",
              "15033         CECILIA           MORAN  ...              NaN             NaN\n",
              "15034         FRANCIS           MORAN  ...  42 WHITEHALL ST             1.9\n",
              "15035          JULIAN           MORAN  ...              NaN             NaN\n",
              "\n",
              "[5 rows x 9 columns]"
            ]
          },
          "metadata": {
            "tags": []
          },
          "execution_count": 30
        }
      ]
    },
    {
      "cell_type": "code",
      "metadata": {
        "id": "ymPQweAf_KCM"
      },
      "source": [
        "Census_hh.to_csv(\"/content/Census_1850_household.csv\", index = False)"
      ],
      "execution_count": 31,
      "outputs": []
    },
    {
      "cell_type": "code",
      "metadata": {
        "colab": {
          "base_uri": "https://localhost:8080/"
        },
        "id": "38BirkbYAy5y",
        "outputId": "62db9553-7dc3-4d6d-ceb5-51f9983affe2"
      },
      "source": [
        "print(\"Proportion of census data assigned addresses:\", Census_hh[\"CD_H_ADDRESS\"].count()/522152)"
      ],
      "execution_count": 32,
      "outputs": [
        {
          "output_type": "stream",
          "text": [
            "Proportion of census data assigned addresses: 0.1690044278294443\n"
          ],
          "name": "stdout"
        }
      ]
    },
    {
      "cell_type": "markdown",
      "metadata": {
        "id": "HLJ4mmsdBR0n"
      },
      "source": [
        "#### use IPUMS household number"
      ]
    },
    {
      "cell_type": "code",
      "metadata": {
        "id": "-ZF9eyADBbwS"
      },
      "source": [
        "Census_hh = pd.read_csv(\"/content/Census_1850_household.csv\")"
      ],
      "execution_count": 33,
      "outputs": []
    },
    {
      "cell_type": "code",
      "metadata": {
        "id": "q-5EQIqrBimS"
      },
      "source": [
        "households_IPUMS = []\r\n",
        "Census_hh_IPUMS = Census_hh.groupby(\"CENSUS_SERIALP\").apply(lambda x: check_quant(x, households_IPUMS, \"CENSUS_SERIALP\"))"
      ],
      "execution_count": 34,
      "outputs": []
    },
    {
      "cell_type": "code",
      "metadata": {
        "colab": {
          "base_uri": "https://localhost:8080/"
        },
        "id": "xsLlp9FHBmys",
        "outputId": "bced699b-3a90-424c-a617-ff27fa39aece"
      },
      "source": [
        "len(households_IPUMS)"
      ],
      "execution_count": 35,
      "outputs": [
        {
          "output_type": "execute_result",
          "data": {
            "text/plain": [
              "1788"
            ]
          },
          "metadata": {
            "tags": []
          },
          "execution_count": 35
        }
      ]
    },
    {
      "cell_type": "code",
      "metadata": {
        "id": "SEmkRLGBBp2E"
      },
      "source": [
        "with open('/content/housholds_IPUMS.txt', 'w') as filehandle:\r\n",
        "    for listitem in households_IPUMS:\r\n",
        "        filehandle.write('%s\\n' % listitem)"
      ],
      "execution_count": 36,
      "outputs": []
    },
    {
      "cell_type": "code",
      "metadata": {
        "id": "ysjQZBsqBv3P"
      },
      "source": [
        "Census_hh_IPUMS.to_csv(\"/content/Census_1850_household_IPUMS.csv\", index = False)"
      ],
      "execution_count": 37,
      "outputs": []
    },
    {
      "cell_type": "code",
      "metadata": {
        "colab": {
          "base_uri": "https://localhost:8080/"
        },
        "id": "6iqiSCEtB0O8",
        "outputId": "d6ae1911-a32c-4d52-8ba6-deba50964cb8"
      },
      "source": [
        "print(\"Proportion of census data assigned addresses:\", Census_hh_IPUMS[\"CD_H_ADDRESS\"].count()/522152)"
      ],
      "execution_count": 38,
      "outputs": [
        {
          "output_type": "stream",
          "text": [
            "Proportion of census data assigned addresses: 0.2539911749835297\n"
          ],
          "name": "stdout"
        }
      ]
    },
    {
      "cell_type": "markdown",
      "metadata": {
        "id": "eRqz43LYCDNA"
      },
      "source": [
        "#### Fill in address for census entries with same dwelling number"
      ]
    },
    {
      "cell_type": "code",
      "metadata": {
        "id": "DO-pj3e1CI20"
      },
      "source": [
        "#Filling addresses for people in the same household\r\n",
        "dwellings = [] # keep track of any dwellings with multiple addresses \r\n",
        "Census_hh_dw = Census_hh_IPUMS.groupby([\"CENSUS_WARD_NUM\",\"dwelling_id\"]).apply(lambda x: check_quant(x, dwellings, \"dwelling_id\", tuple = True))"
      ],
      "execution_count": 39,
      "outputs": []
    },
    {
      "cell_type": "code",
      "metadata": {
        "colab": {
          "base_uri": "https://localhost:8080/"
        },
        "id": "JONcUDfsCRbV",
        "outputId": "a200d631-adf9-4c42-b0d3-137bf143ea86"
      },
      "source": [
        "#Dwellings that are assigned more than one address\r\n",
        "len(dwellings)"
      ],
      "execution_count": 40,
      "outputs": [
        {
          "output_type": "execute_result",
          "data": {
            "text/plain": [
              "3584"
            ]
          },
          "metadata": {
            "tags": []
          },
          "execution_count": 40
        }
      ]
    },
    {
      "cell_type": "code",
      "metadata": {
        "id": "2wj6gJreCUGg"
      },
      "source": [
        "with open('/content/dwellings.txt', 'w') as filehandle:\r\n",
        "    for listitem in dwellings:\r\n",
        "        line = ' '.join(str(x) for x in listitem)\r\n",
        "        filehandle.write(line + '\\n')"
      ],
      "execution_count": 41,
      "outputs": []
    },
    {
      "cell_type": "code",
      "metadata": {
        "id": "sRRECTQ9EtWN"
      },
      "source": [
        "Census_hh_dw.to_csv(\"/content/Census_1850_dwellings.csv\", index = False)"
      ],
      "execution_count": 42,
      "outputs": []
    },
    {
      "cell_type": "code",
      "metadata": {
        "colab": {
          "base_uri": "https://localhost:8080/"
        },
        "id": "gt8AWJKfE1cI",
        "outputId": "eab8a38d-122e-4ce0-fa80-520216e60e4a"
      },
      "source": [
        "print(\"Proportion of census data assigned addresses:\", Census_hh_dw[\"CD_H_ADDRESS\"].count()/522152)"
      ],
      "execution_count": 43,
      "outputs": [
        {
          "output_type": "stream",
          "text": [
            "Proportion of census data assigned addresses: 0.42507928725735034\n"
          ],
          "name": "stdout"
        }
      ]
    },
    {
      "cell_type": "markdown",
      "metadata": {
        "id": "pwc81HNvE9ca"
      },
      "source": [
        "#### Check Number of Dwellings with Multiple addresses"
      ]
    },
    {
      "cell_type": "code",
      "metadata": {
        "id": "tGkHvRzbE8ra"
      },
      "source": [
        "#Function for filling in households/dwelling numbers if relevant\r\n",
        "def no_address(x, col):\r\n",
        "    c = x[\"CD_H_ADDRESS\"].nunique()\r\n",
        "    if c == 0:\r\n",
        "            nones.append((x[\"CENSUS_WARD_NUM\"].iloc[0], x[col].iloc[0]))"
      ],
      "execution_count": 44,
      "outputs": []
    },
    {
      "cell_type": "code",
      "metadata": {
        "id": "nXVO8zz5FJ-s"
      },
      "source": [
        "nones = []\r\n",
        "for index,df in Census_hh_dw.groupby([\"CENSUS_WARD_NUM\", \"dwelling_id\"]):\r\n",
        "    no_address(df, \"dwelling_id\")"
      ],
      "execution_count": 45,
      "outputs": []
    },
    {
      "cell_type": "code",
      "metadata": {
        "colab": {
          "base_uri": "https://localhost:8080/"
        },
        "id": "gWgAuqfXFN2O",
        "outputId": "7a446b19-dbb1-430a-cda8-f3315d9fd9eb"
      },
      "source": [
        "len(nones)"
      ],
      "execution_count": 46,
      "outputs": [
        {
          "output_type": "execute_result",
          "data": {
            "text/plain": [
              "22002"
            ]
          },
          "metadata": {
            "tags": []
          },
          "execution_count": 46
        }
      ]
    },
    {
      "cell_type": "code",
      "metadata": {
        "colab": {
          "base_uri": "https://localhost:8080/"
        },
        "id": "vEwkHGfqFROz",
        "outputId": "0bdf448b-6d4b-4624-fd6d-fe96fd40e9e5"
      },
      "source": [
        "\r\n",
        "print(\"Proportion of dwellings with no match at all:\",len(nones)/Census_hh_dw.groupby([\"CENSUS_WARD_NUM\", \"dwelling_id\"]).ngroups)"
      ],
      "execution_count": 47,
      "outputs": [
        {
          "output_type": "stream",
          "text": [
            "Proportion of dwellings with no match at all: 0.5705912863070539\n"
          ],
          "name": "stdout"
        }
      ]
    },
    {
      "cell_type": "markdown",
      "metadata": {
        "id": "PGAStIOTGDwG"
      },
      "source": [
        "### Use Bipartite Matching to Get A Single Address for Dwellings"
      ]
    },
    {
      "cell_type": "markdown",
      "metadata": {
        "id": "4z4GWGQoFgwP"
      },
      "source": [
        "This is a little less than what we'd expect from the earlier analysis, clearly there's some situation that's not being accounted for here\r\n",
        "\r\n",
        "Issue: There are both households and dwellings that are assigned multiple addresses\r\n",
        "\r\n",
        "Potential cause: an incorrect match -- it may make sense to incorporate that dwellings/households may have only a single match within the disambiguation process\r\n",
        "\r\n",
        "* possible approach: two levels of bipartite matching for household and dwellings\r\n",
        "* possible approach: incorporate into initial bipartite matching\r\n",
        "\r\n",
        "Potential cause: dwellings/households that are referred to by multiple addresses - ei corner building, maybe a historical address change, streets with two names (Avenue of the Americas/6th Ave), etc.\r\n",
        "\r\n",
        "* standardization can help\r\n",
        "* create unique dwelling ids "
      ]
    },
    {
      "cell_type": "code",
      "metadata": {
        "id": "la02c4ugFVM-"
      },
      "source": [
        "# import census file and 1850 disambiguated output\r\n",
        "census_1850 = pd.read_csv(\"/content/census_1850_indexUpdate.csv\")\r\n",
        "#disambiguated_1850 = pd.read_csv(\"/content/1850_mn_match_24-11-2020.csv\")\r\n",
        "disambiguated_1850 = pd.read_csv(\"/content/1850_mn_match_v2.csv\")"
      ],
      "execution_count": 75,
      "outputs": []
    },
    {
      "cell_type": "code",
      "metadata": {
        "id": "mfALADKC_LXL"
      },
      "source": [
        "#create unique dwelling id\r\n",
        "census_1850 = census_1850.groupby('CENSUS_WARD_NUM', as_index = False).apply(lambda x: dataprocessing.create_unique_dwelling(x, 'CENSUS_DWELLING_NUM'))"
      ],
      "execution_count": 76,
      "outputs": []
    },
    {
      "cell_type": "code",
      "metadata": {
        "colab": {
          "base_uri": "https://localhost:8080/",
          "height": 0
        },
        "id": "7A0BpBnRJDmN",
        "outputId": "f2fc7d48-902f-4ee9-d52f-e41f744d0808"
      },
      "source": [
        "census_1850.head()"
      ],
      "execution_count": 77,
      "outputs": [
        {
          "output_type": "execute_result",
          "data": {
            "text/html": [
              "<div>\n",
              "<style scoped>\n",
              "    .dataframe tbody tr th:only-of-type {\n",
              "        vertical-align: middle;\n",
              "    }\n",
              "\n",
              "    .dataframe tbody tr th {\n",
              "        vertical-align: top;\n",
              "    }\n",
              "\n",
              "    .dataframe thead th {\n",
              "        text-align: right;\n",
              "    }\n",
              "</style>\n",
              "<table border=\"1\" class=\"dataframe\">\n",
              "  <thead>\n",
              "    <tr style=\"text-align: right;\">\n",
              "      <th></th>\n",
              "      <th>CENSUS_SERIALP</th>\n",
              "      <th>CENSUS_AGE</th>\n",
              "      <th>CENSUS_SEX</th>\n",
              "      <th>CENSUS_MARST</th>\n",
              "      <th>CENSUS_RACE</th>\n",
              "      <th>CENSUS_LABFORCE</th>\n",
              "      <th>CENSUS_IMPREL</th>\n",
              "      <th>CENSUS_OCCSTR</th>\n",
              "      <th>CENSUS_NAMELAST</th>\n",
              "      <th>CENSUS_NAMEFRST</th>\n",
              "      <th>CENSUS_SEQ_NUM</th>\n",
              "      <th>CENSUS_HH_NUM</th>\n",
              "      <th>CENSUS_IPUMS_UID</th>\n",
              "      <th>CENSUS_CITY</th>\n",
              "      <th>CENSUS_PAGENO_HOUSEHOLD</th>\n",
              "      <th>CENSUS_WARD_NUM</th>\n",
              "      <th>CENSUS_REEL_HOUSEHOLD</th>\n",
              "      <th>CENSUS_PLACE</th>\n",
              "      <th>CENSUS_DWELLING_NUM</th>\n",
              "      <th>CENSUS_DWELLING_SEQ</th>\n",
              "      <th>CENSUS_DWELLING_SIZE</th>\n",
              "      <th>CENSUS_GEOG</th>\n",
              "      <th>CENSUS_LINE</th>\n",
              "      <th>CENSUS_INDEX</th>\n",
              "      <th>dwelling_id</th>\n",
              "    </tr>\n",
              "  </thead>\n",
              "  <tbody>\n",
              "    <tr>\n",
              "      <th>0</th>\n",
              "      <td>2044262</td>\n",
              "      <td>49</td>\n",
              "      <td>1</td>\n",
              "      <td>6</td>\n",
              "      <td>120</td>\n",
              "      <td>2</td>\n",
              "      <td>1</td>\n",
              "      <td>INN KEEPER</td>\n",
              "      <td>FLINT</td>\n",
              "      <td>JOHN M</td>\n",
              "      <td>1</td>\n",
              "      <td>401735</td>\n",
              "      <td>1a0cea81-aa4c-4e02-af29-37f3fdadd987</td>\n",
              "      <td>4610</td>\n",
              "      <td>70</td>\n",
              "      <td>1</td>\n",
              "      <td>534</td>\n",
              "      <td>MANHATTAN</td>\n",
              "      <td>1.0</td>\n",
              "      <td>1.0</td>\n",
              "      <td>84</td>\n",
              "      <td>NEW YORK WARD 1 EASTERN DIVISION</td>\n",
              "      <td>10</td>\n",
              "      <td>1</td>\n",
              "      <td>1</td>\n",
              "    </tr>\n",
              "    <tr>\n",
              "      <th>1</th>\n",
              "      <td>2044263</td>\n",
              "      <td>36</td>\n",
              "      <td>2</td>\n",
              "      <td>6</td>\n",
              "      <td>120</td>\n",
              "      <td>0</td>\n",
              "      <td>1</td>\n",
              "      <td>NaN</td>\n",
              "      <td>FLINT</td>\n",
              "      <td>MARY A</td>\n",
              "      <td>2</td>\n",
              "      <td>401735</td>\n",
              "      <td>29aed4d0-b649-4d6b-9e28-3db8f4da81d8</td>\n",
              "      <td>4610</td>\n",
              "      <td>70</td>\n",
              "      <td>1</td>\n",
              "      <td>534</td>\n",
              "      <td>MANHATTAN</td>\n",
              "      <td>1.0</td>\n",
              "      <td>1.0</td>\n",
              "      <td>84</td>\n",
              "      <td>NEW YORK WARD 1 EASTERN DIVISION</td>\n",
              "      <td>10</td>\n",
              "      <td>2</td>\n",
              "      <td>1</td>\n",
              "    </tr>\n",
              "    <tr>\n",
              "      <th>2</th>\n",
              "      <td>2044264</td>\n",
              "      <td>12</td>\n",
              "      <td>2</td>\n",
              "      <td>6</td>\n",
              "      <td>120</td>\n",
              "      <td>0</td>\n",
              "      <td>1</td>\n",
              "      <td>NaN</td>\n",
              "      <td>FLINT</td>\n",
              "      <td>MARY D</td>\n",
              "      <td>3</td>\n",
              "      <td>401735</td>\n",
              "      <td>8cfac447-5fdf-44a4-888c-ee1c7e2a8355</td>\n",
              "      <td>4610</td>\n",
              "      <td>70</td>\n",
              "      <td>1</td>\n",
              "      <td>534</td>\n",
              "      <td>MANHATTAN</td>\n",
              "      <td>1.0</td>\n",
              "      <td>1.0</td>\n",
              "      <td>84</td>\n",
              "      <td>NEW YORK WARD 1 EASTERN DIVISION</td>\n",
              "      <td>10</td>\n",
              "      <td>3</td>\n",
              "      <td>1</td>\n",
              "    </tr>\n",
              "    <tr>\n",
              "      <th>3</th>\n",
              "      <td>2044265</td>\n",
              "      <td>40</td>\n",
              "      <td>1</td>\n",
              "      <td>6</td>\n",
              "      <td>120</td>\n",
              "      <td>2</td>\n",
              "      <td>1</td>\n",
              "      <td>COMB MERCHANT</td>\n",
              "      <td>OATMAN</td>\n",
              "      <td>JAMES C</td>\n",
              "      <td>4</td>\n",
              "      <td>401736</td>\n",
              "      <td>ec0bff21-a919-42bf-a22c-7c6ef9b656af</td>\n",
              "      <td>4610</td>\n",
              "      <td>70</td>\n",
              "      <td>1</td>\n",
              "      <td>534</td>\n",
              "      <td>MANHATTAN</td>\n",
              "      <td>1.0</td>\n",
              "      <td>1.0</td>\n",
              "      <td>84</td>\n",
              "      <td>NEW YORK WARD 1 EASTERN DIVISION</td>\n",
              "      <td>10</td>\n",
              "      <td>4</td>\n",
              "      <td>1</td>\n",
              "    </tr>\n",
              "    <tr>\n",
              "      <th>4</th>\n",
              "      <td>2044266</td>\n",
              "      <td>28</td>\n",
              "      <td>2</td>\n",
              "      <td>6</td>\n",
              "      <td>120</td>\n",
              "      <td>0</td>\n",
              "      <td>1</td>\n",
              "      <td>NaN</td>\n",
              "      <td>OATMAN</td>\n",
              "      <td>CAROLINE E</td>\n",
              "      <td>5</td>\n",
              "      <td>401736</td>\n",
              "      <td>61d38b86-d8bc-4b69-bb6b-3169fa0e594d</td>\n",
              "      <td>4610</td>\n",
              "      <td>70</td>\n",
              "      <td>1</td>\n",
              "      <td>534</td>\n",
              "      <td>MANHATTAN</td>\n",
              "      <td>1.0</td>\n",
              "      <td>1.0</td>\n",
              "      <td>84</td>\n",
              "      <td>NEW YORK WARD 1 EASTERN DIVISION</td>\n",
              "      <td>10</td>\n",
              "      <td>5</td>\n",
              "      <td>1</td>\n",
              "    </tr>\n",
              "  </tbody>\n",
              "</table>\n",
              "</div>"
            ],
            "text/plain": [
              "   CENSUS_SERIALP  CENSUS_AGE  ...  CENSUS_INDEX  dwelling_id\n",
              "0         2044262          49  ...             1            1\n",
              "1         2044263          36  ...             2            1\n",
              "2         2044264          12  ...             3            1\n",
              "3         2044265          40  ...             4            1\n",
              "4         2044266          28  ...             5            1\n",
              "\n",
              "[5 rows x 25 columns]"
            ]
          },
          "metadata": {
            "tags": []
          },
          "execution_count": 77
        }
      ]
    },
    {
      "cell_type": "code",
      "metadata": {
        "id": "NTI8zZ2WV9c2"
      },
      "source": [
        "# join disambiguated output with census again to get unique dwelling id rather than create it again\r\n",
        "disambiguated_1850 = disambiguated_1850.merge(census_1850[['CENSUS_IPUMS_UID','CENSUS_WARD_NUM','dwelling_id']], how = \"left\", left_on = \"CENSUS_IPUMS_UID\", right_on = \"CENSUS_IPUMS_UID\")"
      ],
      "execution_count": 78,
      "outputs": []
    },
    {
      "cell_type": "code",
      "metadata": {
        "id": "csyTQwP8_UiG",
        "colab": {
          "base_uri": "https://localhost:8080/"
        },
        "outputId": "a618f99f-e9a3-4568-f6c2-0108e4b7ed5f"
      },
      "source": [
        "disambiguated_1850.columns"
      ],
      "execution_count": 79,
      "outputs": [
        {
          "output_type": "execute_result",
          "data": {
            "text/plain": [
              "Index(['CENSUS_INDEX', 'CENSUS_IPUMS_UID', 'CENSUS_SERIAL', 'CENSUS_HH_NUM',\n",
              "       'CENSUS_SEQ_NUM', 'CENSUS_REEL', 'CENSUS_PAGENUM', 'CENSUS_LINE',\n",
              "       'CENSUS_AGE', 'CENSUS_GENDER', 'CENSUS_RACE', 'CENSUS_LABFORCE',\n",
              "       'CENSUS_OCCUPATION', 'CENSUS_IMPREL', 'CENSUS_FIRST_NAME',\n",
              "       'CENSUS_LAST_NAME', 'CENSUS_DWELLING_NUM', 'CENSUS_DWELLING_SEQ',\n",
              "       'CENSUS_DWELLING_SIZE', 'CENSUS_GEOG', 'OBJECTID', 'CD_INDEX',\n",
              "       'CD_RECORD_ID', 'CD_FIRST_NAME', 'CD_LAST_NAME', 'CD_OCCUPATION_STD',\n",
              "       'CD_H_ADDRESS', 'CD_H_HOUSE_NUMBER', 'CD_H_STREET_NAME', 'CD_BLOCK_NUM',\n",
              "       'CD_WARD_NUM', 'CD_X', 'CD_Y', 'jw_fn', 'jw_ln', 'jw_score',\n",
              "       'occ_listed', 'age_score', 'cd_count', 'census_count',\n",
              "       'census_count_inverse', 'cd_count_inverse', 'CD_ID', 'CENSUS_ID',\n",
              "       'confidence_score', 'anchor', 'group_ID', 'node_ID', 'letter',\n",
              "       'in_cluster', 'key', 'spatial_weight', 'selected', 'graph_ID',\n",
              "       'CENSUS_WARD_NUM', 'dwelling_id'],\n",
              "      dtype='object')"
            ]
          },
          "metadata": {
            "tags": []
          },
          "execution_count": 79
        }
      ]
    },
    {
      "cell_type": "code",
      "metadata": {
        "id": "j85udx2xGZek"
      },
      "source": [
        "disambiguated_1850_selected = disambiguated_1850[disambiguated_1850[\"selected\"] == 1].copy()"
      ],
      "execution_count": 80,
      "outputs": []
    },
    {
      "cell_type": "code",
      "metadata": {
        "id": "C7qr9DtqGzSj",
        "colab": {
          "base_uri": "https://localhost:8080/"
        },
        "outputId": "b1a9e2a6-72d3-4843-d99e-376a65305494"
      },
      "source": [
        "disambiguated_1850_selected.shape"
      ],
      "execution_count": 81,
      "outputs": [
        {
          "output_type": "execute_result",
          "data": {
            "text/plain": [
              "(24585, 56)"
            ]
          },
          "metadata": {
            "tags": []
          },
          "execution_count": 81
        }
      ]
    },
    {
      "cell_type": "code",
      "metadata": {
        "id": "wfcfkJndGkI-"
      },
      "source": [
        "# create unique ward no\r\n",
        "disambiguated_1850_selected[\"unique_ward\"] = disambiguated_1850_selected.apply(lambda row: str(row.CENSUS_WARD_NUM) + \"_\" + str(row.dwelling_id), axis = 1)"
      ],
      "execution_count": 82,
      "outputs": []
    },
    {
      "cell_type": "code",
      "metadata": {
        "colab": {
          "base_uri": "https://localhost:8080/"
        },
        "id": "9HYjFOOM_1oj",
        "outputId": "5ac96fa8-0317-4dba-b1fd-50c3686a7933"
      },
      "source": [
        "disambiguated_1850_selected.shape"
      ],
      "execution_count": 83,
      "outputs": [
        {
          "output_type": "execute_result",
          "data": {
            "text/plain": [
              "(24585, 57)"
            ]
          },
          "metadata": {
            "tags": []
          },
          "execution_count": 83
        }
      ]
    },
    {
      "cell_type": "code",
      "metadata": {
        "id": "Ai-YbcpZHHLZ"
      },
      "source": [
        "def get_matches_dwelling(df, cd_id = 'CD_ID', census_id = 'CENSUS_ID', weight = 'spatial_weight'):\r\n",
        "    \r\n",
        "    #This is to preserve order\r\n",
        "    df = df.copy()\r\n",
        "    df[cd_id] = \"A_ \" + df[cd_id].astype(str)\r\n",
        "    df[census_id] = \"B_ \" + df[census_id].astype(str)\r\n",
        "    \r\n",
        "    b_edges = [(row[cd_id], row[census_id], row[weight]) for index, row in df.iterrows()]\r\n",
        "    b = nx.Graph()\r\n",
        "    b.add_nodes_from(df[cd_id].unique(), bipartite = 0)\r\n",
        "    b.add_nodes_from(df[census_id].unique(), bipartite = 1)\r\n",
        "    b.add_weighted_edges_from(b_edges)\r\n",
        "\r\n",
        "    # algorithm is too expensive if we perform it on entire graph. moreover, graph is actually disconnected into sub_graphs. apply algorithm on subgraphs instead\r\n",
        "    subgraphs = [b.subgraph(c) for c in nx.connected_components(b)]\r\n",
        "    matches = [list(nx.max_weight_matching(graph, maxcardinality = True)) for graph in subgraphs]\r\n",
        "    matches = [sorted(list(item)) for sublist in matches for item in sublist] # unnest and convert pairs from tuple to list\r\n",
        "    matches = pd.DataFrame(matches, columns=[cd_id, census_id])\r\n",
        "    \r\n",
        "    matches.loc[:,cd_id] = matches[cd_id].apply(lambda x: x.strip(\"A_ \"))\r\n",
        "    matches.loc[:,census_id] = matches[census_id].apply(lambda x: x.strip(\"B_ \"))\r\n",
        "\r\n",
        "    return matches"
      ],
      "execution_count": 84,
      "outputs": []
    },
    {
      "cell_type": "code",
      "metadata": {
        "id": "tLjHRAOtHJPY"
      },
      "source": [
        "match = get_matches_dwelling(disambiguated_1850_selected, cd_id = \"unique_ward\", census_id = \"CD_H_ADDRESS\")"
      ],
      "execution_count": 85,
      "outputs": []
    },
    {
      "cell_type": "code",
      "metadata": {
        "id": "nIxc_qE6JfHF"
      },
      "source": [
        "disambiguated_1850_selected = disambiguated_1850_selected[[\"CENSUS_IPUMS_UID\", \"unique_ward\"]].copy()\r\n",
        "disambiguated_1850_selected.drop_duplicates(\"unique_ward\", inplace = True)\r\n",
        "matched = disambiguated_1850_selected.merge(match, how = \"left\", on = \"unique_ward\", validate = \"one_to_one\")\r\n",
        "dwelling_addresses = census_1850.merge(matched, how = \"left\", on = \"CENSUS_IPUMS_UID\")"
      ],
      "execution_count": 86,
      "outputs": []
    },
    {
      "cell_type": "code",
      "metadata": {
        "colab": {
          "base_uri": "https://localhost:8080/"
        },
        "id": "gTS1TISRJTku",
        "outputId": "04e11490-4248-4c73-966f-25cec31a9b6c"
      },
      "source": [
        "print(\"Proportion of census data assigned addresses:\", dwelling_addresses.CD_H_ADDRESS.count()/515630)"
      ],
      "execution_count": 87,
      "outputs": [
        {
          "output_type": "stream",
          "text": [
            "Proportion of census data assigned addresses: 0.02757403564571495\n"
          ],
          "name": "stdout"
        }
      ]
    },
    {
      "cell_type": "code",
      "metadata": {
        "id": "Q6r-1uF1JxjS"
      },
      "source": [
        "#Function for filling in households/dwelling numbers if relevant\r\n",
        "def check_quant(x, nones, exceptions, col, tuple = False):\r\n",
        "\r\n",
        "    c = x[\"CD_H_ADDRESS\"].nunique()\r\n",
        "    if c == 0:\r\n",
        "        if tuple:\r\n",
        "            nones.append((x[\"CENSUS_WARD_NUM\"].iloc[0], x[col].iloc[0]))\r\n",
        "        else:\r\n",
        "            nones.append(x[col].iloc[0])\r\n",
        "    elif c > 1:\r\n",
        "        if tuple:\r\n",
        "            exceptions.append((x[\"CENSUS_WARD_NUM\"].iloc[0], x[col].iloc[0]))\r\n",
        "        else:\r\n",
        "            exceptions.append(x[col].iloc[0])\r\n",
        "    elif c == 1:\r\n",
        "        x[\"CD_H_ADDRESS\"] = x[\"CD_H_ADDRESS\"].ffill().bfill()\r\n",
        "  \r\n",
        "    return x"
      ],
      "execution_count": 88,
      "outputs": []
    },
    {
      "cell_type": "code",
      "metadata": {
        "id": "BpiqjE_rJxsJ"
      },
      "source": [
        "dwellings_noadd = []\r\n",
        "dwellings = [] # keep track of any dwellings with multiple addresses \r\n",
        "Census_hh_dw = dwelling_addresses.groupby([\"CENSUS_WARD_NUM\",\"dwelling_id\"]).apply(lambda x: check_quant(x, dwellings_noadd, dwellings, \"dwelling_id\", tuple = True))"
      ],
      "execution_count": 89,
      "outputs": []
    },
    {
      "cell_type": "code",
      "metadata": {
        "colab": {
          "base_uri": "https://localhost:8080/"
        },
        "id": "s2WL516OKXDw",
        "outputId": "8bf973bc-d2e1-442d-9fee-ed9730ae999f"
      },
      "source": [
        "# according to understanding it should be lower as on resolving dwelling conflicts less people should get same addresses\r\n",
        "print(\"Proportion of census data assigned addresses:\", Census_hh_dw.CD_H_ADDRESS.count()/515630)"
      ],
      "execution_count": 90,
      "outputs": [
        {
          "output_type": "stream",
          "text": [
            "Proportion of census data assigned addresses: 0.4620852161433586\n"
          ],
          "name": "stdout"
        }
      ]
    },
    {
      "cell_type": "code",
      "metadata": {
        "colab": {
          "base_uri": "https://localhost:8080/"
        },
        "id": "aMy3OY_6KzLi",
        "outputId": "bc6e9dd4-9d12-42e7-f2f3-f82c98b3b80b"
      },
      "source": [
        "print(\"Proportion of Dwellings Without Addresses:\", len(dwellings_noadd)/Census_hh_dw.groupby([\"CENSUS_WARD_NUM\",\"dwelling_id\"]).ngroups)"
      ],
      "execution_count": 91,
      "outputs": [
        {
          "output_type": "stream",
          "text": [
            "Proportion of Dwellings Without Addresses: 0.6312759336099585\n"
          ],
          "name": "stdout"
        }
      ]
    },
    {
      "cell_type": "markdown",
      "metadata": {
        "id": "ubI_lAYtLwTm"
      },
      "source": [
        "### Interlude: Geog Variable\r\n",
        "Invesitgation shows that institutions have one address as expected"
      ]
    },
    {
      "cell_type": "code",
      "metadata": {
        "colab": {
          "base_uri": "https://localhost:8080/"
        },
        "id": "PN0WvZkSLy8m",
        "outputId": "e7279ebb-2dbd-4939-8e17-ee8f6d6fddea"
      },
      "source": [
        "Census_hh_dw[\"CENSUS_GEOG\"].unique()"
      ],
      "execution_count": 92,
      "outputs": [
        {
          "output_type": "execute_result",
          "data": {
            "text/plain": [
              "array(['NEW YORK WARD 1 EASTERN DIVISION',\n",
              "       'NEW YORK WARD 1 WESTERN DIVISION', nan, 'NEW YORK WARD 2',\n",
              "       'NEW YORK WARD 3', 'NEW YORK WARD 4', 'NEW YORK WARD 5',\n",
              "       'NEW YORK WARD 6', 'NEW YORK WARD 7 DISTRICT 1',\n",
              "       'NEW YORK WARD 7 DISTRICT 2', 'NEW YORK WARD 8 DISTRICT 1',\n",
              "       'NEW YORK WARD 8', 'NEW YORK WARD 9 DISTRICT 1',\n",
              "       'NEW YORK WARD 9 DISTRICT 2', 'NEW YORK WARD 9 DISTRICT 3',\n",
              "       'NEW YORK WARD 10', 'NEW YORK WARD 11', 'NEW YORK WARD 12',\n",
              "       'NEW YORK WARD 13', 'NEW YORK WARD 14',\n",
              "       'NEW YORK WARD 15 WESTERN HALF', 'NEW YORK WARD 15 EASTERN HALF',\n",
              "       'NEW YORK WARD 16 DISTRICT 1', 'NEW YORK WARD 16 DISTRICT 2',\n",
              "       'NEW YORK WARD 16 DISTRICT 3', 'NEW YORK WARD 17',\n",
              "       'NEW YORK WARD 18', 'NEW YORK WARD 18 DISTRICT 2',\n",
              "       'NEW YORK WARD 18 BELLEVUE HOSPITAL',\n",
              "       'NEW YORK WARD 18 HOUSE OF REFUGE', 'NEW YORK WARD 19'],\n",
              "      dtype=object)"
            ]
          },
          "metadata": {
            "tags": []
          },
          "execution_count": 92
        }
      ]
    },
    {
      "cell_type": "code",
      "metadata": {
        "id": "iC8Lr9DnL4uJ"
      },
      "source": [
        "hospital = Census_hh_dw[Census_hh_dw[\"CENSUS_GEOG\"] == 'NEW YORK WARD 18 BELLEVUE HOSPITAL']"
      ],
      "execution_count": 93,
      "outputs": []
    },
    {
      "cell_type": "code",
      "metadata": {
        "colab": {
          "base_uri": "https://localhost:8080/"
        },
        "id": "MzSyewlmL-BW",
        "outputId": "8c85faa0-032e-49f6-c5e4-2904fa31a977"
      },
      "source": [
        "hospital.nunique()"
      ],
      "execution_count": 94,
      "outputs": [
        {
          "output_type": "execute_result",
          "data": {
            "text/plain": [
              "CENSUS_SERIALP             438\n",
              "CENSUS_AGE                  61\n",
              "CENSUS_SEX                   2\n",
              "CENSUS_MARST                 2\n",
              "CENSUS_RACE                  2\n",
              "CENSUS_LABFORCE              2\n",
              "CENSUS_IMPREL                1\n",
              "CENSUS_OCCSTR               46\n",
              "CENSUS_NAMELAST            322\n",
              "CENSUS_NAMEFRST            117\n",
              "CENSUS_SEQ_NUM             479\n",
              "CENSUS_HH_NUM              422\n",
              "CENSUS_IPUMS_UID           479\n",
              "CENSUS_CITY                  1\n",
              "CENSUS_PAGENO_HOUSEHOLD      3\n",
              "CENSUS_WARD_NUM              1\n",
              "CENSUS_REEL_HOUSEHOLD        1\n",
              "CENSUS_PLACE                 1\n",
              "CENSUS_DWELLING_NUM          1\n",
              "CENSUS_DWELLING_SEQ          1\n",
              "CENSUS_DWELLING_SIZE         3\n",
              "CENSUS_GEOG                  1\n",
              "CENSUS_LINE                  1\n",
              "CENSUS_INDEX               479\n",
              "dwelling_id                  1\n",
              "unique_ward                  1\n",
              "CD_H_ADDRESS                 1\n",
              "dtype: int64"
            ]
          },
          "metadata": {
            "tags": []
          },
          "execution_count": 94
        }
      ]
    },
    {
      "cell_type": "code",
      "metadata": {
        "colab": {
          "base_uri": "https://localhost:8080/"
        },
        "id": "RAXyKrYbMKIz",
        "outputId": "1fc36b55-6782-43dd-ce25-3efca9e5250e"
      },
      "source": [
        "refuge = Census_hh_dw[Census_hh_dw[\"CENSUS_GEOG\"] == 'NEW YORK WARD 18 HOUSE OF REFUGE']\r\n",
        "refuge.nunique()"
      ],
      "execution_count": 95,
      "outputs": [
        {
          "output_type": "execute_result",
          "data": {
            "text/plain": [
              "CENSUS_SERIALP             372\n",
              "CENSUS_AGE                  29\n",
              "CENSUS_SEX                   2\n",
              "CENSUS_MARST                 2\n",
              "CENSUS_RACE                  3\n",
              "CENSUS_LABFORCE              2\n",
              "CENSUS_IMPREL                1\n",
              "CENSUS_OCCSTR               34\n",
              "CENSUS_NAMELAST            330\n",
              "CENSUS_NAMEFRST            142\n",
              "CENSUS_SEQ_NUM             411\n",
              "CENSUS_HH_NUM              394\n",
              "CENSUS_IPUMS_UID           411\n",
              "CENSUS_CITY                  1\n",
              "CENSUS_PAGENO_HOUSEHOLD      1\n",
              "CENSUS_WARD_NUM              1\n",
              "CENSUS_REEL_HOUSEHOLD        1\n",
              "CENSUS_PLACE                 1\n",
              "CENSUS_DWELLING_NUM          1\n",
              "CENSUS_DWELLING_SEQ          1\n",
              "CENSUS_DWELLING_SIZE         2\n",
              "CENSUS_GEOG                  1\n",
              "CENSUS_LINE                  2\n",
              "CENSUS_INDEX               411\n",
              "dwelling_id                  1\n",
              "unique_ward                  1\n",
              "CD_H_ADDRESS                 1\n",
              "dtype: int64"
            ]
          },
          "metadata": {
            "tags": []
          },
          "execution_count": 95
        }
      ]
    },
    {
      "cell_type": "markdown",
      "metadata": {
        "id": "N2Y34xmlMPjo"
      },
      "source": [
        "\r\n",
        "It seems that there are fewer NA's (no address at all for a dwelling then when using the previous nested approach). Let's try nested and see if that helps, though I am pretty confused about why it would?"
      ]
    },
    {
      "cell_type": "markdown",
      "metadata": {
        "id": "HgBoY45HMTA4"
      },
      "source": [
        "### Choose Dwelling Address By Maximum Spatial Weight"
      ]
    },
    {
      "cell_type": "code",
      "metadata": {
        "colab": {
          "base_uri": "https://localhost:8080/"
        },
        "id": "2hlUz3DQuiuo",
        "outputId": "33c24a9a-bb52-4e26-eeb9-e082581cf342"
      },
      "source": [
        "CensusDis1850.columns"
      ],
      "execution_count": 96,
      "outputs": [
        {
          "output_type": "execute_result",
          "data": {
            "text/plain": [
              "Index(['CENSUS_SERIALP', 'CENSUS_AGE', 'CENSUS_SEX', 'CENSUS_MARST',\n",
              "       'CENSUS_RACE', 'CENSUS_LABFORCE', 'CENSUS_IMPREL', 'CENSUS_OCCSTR',\n",
              "       'CENSUS_NAMELAST', 'CENSUS_NAMEFRST', 'CENSUS_SEQ_NUM', 'CENSUS_HH_NUM',\n",
              "       'CENSUS_IPUMS_UID', 'CENSUS_CITY', 'CENSUS_PAGENO_HOUSEHOLD',\n",
              "       'CENSUS_WARD_NUM', 'CENSUS_REEL_HOUSEHOLD', 'CENSUS_PLACE',\n",
              "       'CENSUS_DWELLING_NUM', 'CENSUS_DWELLING_SEQ', 'CENSUS_DWELLING_SIZE',\n",
              "       'CENSUS_GEOG', 'CENSUS_LINE', 'CENSUS_INDEX', 'dwelling_id',\n",
              "       'CENSUS_ID', 'CD_H_ADDRESS', 'selected', 'spatial_weight', 'CD_X',\n",
              "       'CD_Y', 'CD_BLOCK_NUM'],\n",
              "      dtype='object')"
            ]
          },
          "metadata": {
            "tags": []
          },
          "execution_count": 96
        }
      ]
    },
    {
      "cell_type": "code",
      "metadata": {
        "id": "MShFWEgsMLIj"
      },
      "source": [
        "#Function for filling in households/dwelling numbers if relevant\r\n",
        "def dwelling_weight_fill(x, nones):\r\n",
        "    \r\n",
        "    c = x[\"CD_H_ADDRESS\"].nunique()\r\n",
        "    if c == 0:\r\n",
        "        nones.append(1)\r\n",
        "        #nones.append((x.loc[\"CENSUS_WARD_NUM\"].iloc[0], x[col].iloc[0]))\r\n",
        "\r\n",
        "    elif c >= 1:\r\n",
        "        x.reset_index(drop = True, inplace = True)\r\n",
        "        index = x[\"spatial_weight\"].idxmax()\r\n",
        "        x[\"CD_H_ADDRESS\"] = x.iloc[index].loc[\"CD_H_ADDRESS\"]\r\n",
        "        x[\"CD_BLOCK_NUM\"] = x.iloc[index].loc[\"CD_BLOCK_NUM\"]\r\n",
        "        x[\"CD_X\"] = x.iloc[index].loc[\"CD_X\"]\r\n",
        "        x[\"CD_Y\"] = x.iloc[index].loc[\"CD_Y\"]\r\n",
        "  \r\n",
        "    return x"
      ],
      "execution_count": 97,
      "outputs": []
    },
    {
      "cell_type": "code",
      "metadata": {
        "colab": {
          "base_uri": "https://localhost:8080/"
        },
        "id": "rz_hHNgINPwN",
        "outputId": "c8695736-de5f-412e-b77d-4ed0e569d40a"
      },
      "source": [
        "dwellings = []\r\n",
        "Dwellings_weight = CensusDis1850.groupby([\"CENSUS_WARD_NUM\", \"dwelling_id\"]).apply(lambda x: dwelling_weight_fill(x, dwellings))\r\n",
        "\r\n",
        "len(dwellings)"
      ],
      "execution_count": 98,
      "outputs": [
        {
          "output_type": "execute_result",
          "data": {
            "text/plain": [
              "22242"
            ]
          },
          "metadata": {
            "tags": []
          },
          "execution_count": 98
        }
      ]
    },
    {
      "cell_type": "code",
      "metadata": {
        "colab": {
          "base_uri": "https://localhost:8080/"
        },
        "id": "m27xmLugQcQC",
        "outputId": "e483cba5-551d-450e-89af-fca21e1280cb"
      },
      "source": [
        "print(\"Proportion of census data assigned addresses:\", Dwellings_weight.CD_H_ADDRESS.count()/515630)"
      ],
      "execution_count": 99,
      "outputs": [
        {
          "output_type": "stream",
          "text": [
            "Proportion of census data assigned addresses: 0.533052770397378\n"
          ],
          "name": "stdout"
        }
      ]
    },
    {
      "cell_type": "code",
      "metadata": {
        "colab": {
          "base_uri": "https://localhost:8080/"
        },
        "id": "DKbDTv7VQghN",
        "outputId": "cea4731f-1306-4f33-a0b7-f1023f7553b0"
      },
      "source": [
        "\r\n",
        "print(\"Proportion of Dwellings Without Addresses:\", len(dwellings)/CensusDis1850.groupby([\"CENSUS_WARD_NUM\",\"dwelling_id\"]).ngroups)"
      ],
      "execution_count": 100,
      "outputs": [
        {
          "output_type": "stream",
          "text": [
            "Proportion of Dwellings Without Addresses: 0.5768153526970954\n"
          ],
          "name": "stdout"
        }
      ]
    },
    {
      "cell_type": "markdown",
      "metadata": {
        "id": "EmnR61swQ127"
      },
      "source": [
        "### Look at how often we have different dwellings with the same address"
      ]
    },
    {
      "cell_type": "code",
      "metadata": {
        "id": "CP2tvp1YXHWD"
      },
      "source": [
        "# taking more time to run if dwelling id "
      ],
      "execution_count": 101,
      "outputs": []
    },
    {
      "cell_type": "code",
      "metadata": {
        "id": "SP6-1Nb3Q0T8"
      },
      "source": [
        "org_same_add = defaultdict(list)\r\n",
        "def same_address(x, d, col):\r\n",
        "    d[(x[\"CENSUS_WARD_NUM\"].iloc[0], x[col].iloc[0])].append(x.dropna(subset = [\"CD_H_ADDRESS\"]).CD_H_ADDRESS.unique())\r\n",
        "for index, group in CensusDis1850.groupby([\"CENSUS_WARD_NUM\",\"dwelling_id\"]):\r\n",
        "    same_address(group, org_same_add, \"dwelling_id\")"
      ],
      "execution_count": 102,
      "outputs": []
    },
    {
      "cell_type": "code",
      "metadata": {
        "colab": {
          "base_uri": "https://localhost:8080/"
        },
        "id": "A__jY8JHQ9EP",
        "outputId": "ed32e146-0919-4b2c-bb77-1c0d80e9b3bd"
      },
      "source": [
        "which_dwellings = []\r\n",
        "count = 0\r\n",
        "\r\n",
        "for index,df in CensusDis1850.groupby(\"CENSUS_WARD_NUM\"):\r\n",
        "    org_same_add = defaultdict(list)\r\n",
        "    for i, group in df.groupby(\"dwelling_id\"):\r\n",
        "        same_address(group, org_same_add, \"dwelling_id\")\r\n",
        "    \r\n",
        "    #check for same name (limit to within ward for efficiency)\r\n",
        "    for key1 in org_same_add:\r\n",
        "        for key2 in org_same_add:\r\n",
        "            if key1 != key2:\r\n",
        "                if org_same_add[key1][0].any() in org_same_add[key2][0]:\r\n",
        "                    count += 1 \r\n",
        "                    which_dwellings.append((key1,key2))\r\n",
        "                    \r\n",
        "    if index % 2 == 0:\r\n",
        "        print(\"Finished up to index\", str(index))"
      ],
      "execution_count": 103,
      "outputs": [
        {
          "output_type": "stream",
          "text": [
            "Finished up to index 2\n",
            "Finished up to index 4\n",
            "Finished up to index 6\n",
            "Finished up to index 8\n",
            "Finished up to index 10\n",
            "Finished up to index 12\n",
            "Finished up to index 14\n",
            "Finished up to index 16\n",
            "Finished up to index 18\n"
          ],
          "name": "stdout"
        }
      ]
    },
    {
      "cell_type": "code",
      "metadata": {
        "id": "PhwEh8G1RIRX"
      },
      "source": [
        "with open('/content/dwellings_same_address.txt', 'w') as filehandle:\r\n",
        "    for listitem in which_dwellings:\r\n",
        "        line = ' '.join(str(x) for x in listitem)\r\n",
        "        filehandle.write(line + '\\n')"
      ],
      "execution_count": 104,
      "outputs": []
    },
    {
      "cell_type": "code",
      "metadata": {
        "colab": {
          "base_uri": "https://localhost:8080/"
        },
        "id": "RbT2dOR-Rl9U",
        "outputId": "6091364a-ac23-4fea-d061-d97e95639b47"
      },
      "source": [
        "print(\"Number of Dwellings that could share the same address:\", count)"
      ],
      "execution_count": 105,
      "outputs": [
        {
          "output_type": "stream",
          "text": [
            "Number of Dwellings that could share the same address: 10663\n"
          ],
          "name": "stdout"
        }
      ]
    },
    {
      "cell_type": "code",
      "metadata": {
        "colab": {
          "base_uri": "https://localhost:8080/"
        },
        "id": "5KjGJmQWRv9-",
        "outputId": "5df48ef3-3c55-4024-d4f4-d1bf8e0a232a"
      },
      "source": [
        "Dwellings_weight.reset_index(drop = True, inplace = True)\r\n",
        "same_add_selected = Dwellings_weight.groupby([\"CENSUS_WARD_NUM\", \"dwelling_id\"]).first()\r\n",
        "num_same = same_add_selected[\"CD_H_ADDRESS\"].count() - same_add_selected[\"CD_H_ADDRESS\"].nunique()\r\n",
        "print(\"Number of Dwellings with Same Address Selected:\", num_same)"
      ],
      "execution_count": 106,
      "outputs": [
        {
          "output_type": "stream",
          "text": [
            "Number of Dwellings with Same Address Selected: 2872\n"
          ],
          "name": "stdout"
        }
      ]
    },
    {
      "cell_type": "code",
      "metadata": {
        "colab": {
          "base_uri": "https://localhost:8080/"
        },
        "id": "BE3HF9FtR8AE",
        "outputId": "630368ab-b3c3-4765-e3e0-cc5881813bf6"
      },
      "source": [
        "print(\"Proportion of Dwellings with Same Address:\", num_same/Dwellings_weight.groupby([\"CENSUS_WARD_NUM\", \"dwelling_id\"]).ngroups)"
      ],
      "execution_count": 107,
      "outputs": [
        {
          "output_type": "stream",
          "text": [
            "Proportion of Dwellings with Same Address: 0.07448132780082987\n"
          ],
          "name": "stdout"
        }
      ]
    },
    {
      "cell_type": "code",
      "metadata": {
        "colab": {
          "base_uri": "https://localhost:8080/"
        },
        "id": "uu5GuU9CSEXe",
        "outputId": "53e7134a-3494-4192-c7b8-607dcd409ca2"
      },
      "source": [
        "print(\"Dwellings with same address selected out of possiblity:\", num_same/count)"
      ],
      "execution_count": 108,
      "outputs": [
        {
          "output_type": "stream",
          "text": [
            "Dwellings with same address selected out of possiblity: 0.26934258651411425\n"
          ],
          "name": "stdout"
        }
      ]
    },
    {
      "cell_type": "markdown",
      "metadata": {
        "id": "jU-MQEGITd-K"
      },
      "source": [
        "### Choose Dwelling Address By Maximum Spatial Weight Sum "
      ]
    },
    {
      "cell_type": "code",
      "metadata": {
        "id": "--Wpu4I7Ta9M"
      },
      "source": [
        "#we can use this to compare between the two versions, because this is where they'll cause differences\r\n",
        "count_sames = CensusDis1850.groupby([\"CENSUS_WARD_NUM\",\"dwelling_id\"], as_index = False).filter(lambda df: df[\"CD_H_ADDRESS\"].count() > 0 and df[\"CD_H_ADDRESS\"].value_counts()[0] > 1)"
      ],
      "execution_count": 109,
      "outputs": []
    },
    {
      "cell_type": "code",
      "metadata": {
        "colab": {
          "base_uri": "https://localhost:8080/"
        },
        "id": "znEz-424Tngd",
        "outputId": "b8dc05fa-db42-40c6-dd0d-ccf06565d349"
      },
      "source": [
        "\r\n",
        "count_sames.groupby([\"CENSUS_WARD_NUM\",\"dwelling_id\"]).ngroups"
      ],
      "execution_count": 110,
      "outputs": [
        {
          "output_type": "execute_result",
          "data": {
            "text/plain": [
              "2918"
            ]
          },
          "metadata": {
            "tags": []
          },
          "execution_count": 110
        }
      ]
    },
    {
      "cell_type": "code",
      "metadata": {
        "id": "LlRID4cbTtqp"
      },
      "source": [
        "def dwelling_weight_fill(x):\r\n",
        "    #x[\"CD_ADDRESS\"] = x.groupby([\"CD_ADDRESS\"])['spatial_weight'].agg('sum').idxmax()\r\n",
        "    if x[\"CD_H_ADDRESS\"].count() > 0:\r\n",
        "        x[\"spatial_weight_sum\"] = x.groupby([\"CD_H_ADDRESS\"])['spatial_weight'].transform('sum')\r\n",
        "        x.reset_index(drop = True, inplace = True)\r\n",
        "        index = x[\"spatial_weight_sum\"].idxmax()\r\n",
        "\r\n",
        "        x[\"CD_H_ADDRESS\"] = x.iloc[index].loc[\"CD_H_ADDRESS\"]\r\n",
        "        x[\"CD_BLOCK_NUM\"] = x.iloc[index].loc[\"CD_BLOCK_NUM\"]\r\n",
        "        x[\"CD_X\"] = x.iloc[index].loc[\"CD_X\"]\r\n",
        "        x[\"CD_Y\"] = x.iloc[index].loc[\"CD_Y\"]\r\n",
        "    \r\n",
        "    return x"
      ],
      "execution_count": 111,
      "outputs": []
    },
    {
      "cell_type": "code",
      "metadata": {
        "id": "yfX3wEUzT2gw"
      },
      "source": [
        "Dwelling_fill_max = Dwellings_weight.copy()"
      ],
      "execution_count": 112,
      "outputs": []
    },
    {
      "cell_type": "code",
      "metadata": {
        "id": "FyGEz3wUT53m"
      },
      "source": [
        "#We do it this way so that ordering differences don't cause arbitrary differences between the max and sum methods\r\n",
        "Dwelling_fill_sum_part1 = count_sames.groupby([\"CENSUS_WARD_NUM\",\"dwelling_id\"]).apply(dwelling_weight_fill)\r\n",
        "Dwelling_fill_sum_part2 = Dwelling_fill_max[~Dwelling_fill_max[\"CENSUS_IPUMS_UID\"].isin(count_sames.CENSUS_IPUMS_UID.values)]\r\n",
        "Dwelling_fill_sum = pd.concat([Dwelling_fill_sum_part1, Dwelling_fill_sum_part2])"
      ],
      "execution_count": 113,
      "outputs": []
    },
    {
      "cell_type": "code",
      "metadata": {
        "id": "LmZUBTlST-8t"
      },
      "source": [
        "Dwelling_fill_sum_alt = CensusDis1850.groupby([\"CENSUS_WARD_NUM\", \"dwelling_id\"]).apply(dwelling_weight_fill)"
      ],
      "execution_count": 114,
      "outputs": []
    },
    {
      "cell_type": "code",
      "metadata": {
        "id": "Szxoq9D2UEpF"
      },
      "source": [
        "#Add back entries that were eliminated because they don't have a dwelling number \r\n",
        "no_dwelling = CensusDis1850[CensusDis1850[\"dwelling_id\"].isnull()]"
      ],
      "execution_count": 115,
      "outputs": []
    },
    {
      "cell_type": "code",
      "metadata": {
        "id": "80LePhszUEsG"
      },
      "source": [
        "Dwelling_fill_sum_alt = pd.concat([Dwelling_fill_sum_alt, no_dwelling])"
      ],
      "execution_count": 116,
      "outputs": []
    },
    {
      "cell_type": "code",
      "metadata": {
        "colab": {
          "base_uri": "https://localhost:8080/"
        },
        "id": "NONa2DLyUL2P",
        "outputId": "36a56a47-e5ea-4ae4-e8c1-285d568d4670"
      },
      "source": [
        "#Dwelling_fill_max = Dwellings_weight.copy()\r\n",
        "Dwelling_fill_max =  pd.concat([Dwelling_fill_max, no_dwelling])\r\n",
        "Dwelling_fill_max.info()"
      ],
      "execution_count": 117,
      "outputs": [
        {
          "output_type": "stream",
          "text": [
            "<class 'pandas.core.frame.DataFrame'>\n",
            "Int64Index: 515630 entries, 0 to 515629\n",
            "Data columns (total 32 columns):\n",
            " #   Column                   Non-Null Count   Dtype  \n",
            "---  ------                   --------------   -----  \n",
            " 0   CENSUS_SERIALP           515630 non-null  int64  \n",
            " 1   CENSUS_AGE               515630 non-null  int64  \n",
            " 2   CENSUS_SEX               515630 non-null  int64  \n",
            " 3   CENSUS_MARST             515630 non-null  int64  \n",
            " 4   CENSUS_RACE              515630 non-null  int64  \n",
            " 5   CENSUS_LABFORCE          515630 non-null  int64  \n",
            " 6   CENSUS_IMPREL            515630 non-null  int64  \n",
            " 7   CENSUS_OCCSTR            160426 non-null  object \n",
            " 8   CENSUS_NAMELAST          515546 non-null  object \n",
            " 9   CENSUS_NAMEFRST          515046 non-null  object \n",
            " 10  CENSUS_SEQ_NUM           515630 non-null  int64  \n",
            " 11  CENSUS_HH_NUM            515630 non-null  int64  \n",
            " 12  CENSUS_IPUMS_UID         515630 non-null  object \n",
            " 13  CENSUS_CITY              515630 non-null  int64  \n",
            " 14  CENSUS_PAGENO_HOUSEHOLD  515630 non-null  int64  \n",
            " 15  CENSUS_WARD_NUM          515630 non-null  int64  \n",
            " 16  CENSUS_REEL_HOUSEHOLD    515630 non-null  int64  \n",
            " 17  CENSUS_PLACE             515630 non-null  object \n",
            " 18  CENSUS_DWELLING_NUM      514718 non-null  float64\n",
            " 19  CENSUS_DWELLING_SEQ      514020 non-null  float64\n",
            " 20  CENSUS_DWELLING_SIZE     515630 non-null  int64  \n",
            " 21  CENSUS_GEOG              514918 non-null  object \n",
            " 22  CENSUS_LINE              515630 non-null  int64  \n",
            " 23  CENSUS_INDEX             515630 non-null  int64  \n",
            " 24  dwelling_id              515630 non-null  int64  \n",
            " 25  CENSUS_ID                24585 non-null   object \n",
            " 26  CD_H_ADDRESS             274858 non-null  object \n",
            " 27  selected                 24585 non-null   float64\n",
            " 28  spatial_weight           24585 non-null   float64\n",
            " 29  CD_X                     274858 non-null  float64\n",
            " 30  CD_Y                     274858 non-null  float64\n",
            " 31  CD_BLOCK_NUM             274858 non-null  object \n",
            "dtypes: float64(6), int64(17), object(9)\n",
            "memory usage: 129.8+ MB\n"
          ],
          "name": "stdout"
        }
      ]
    },
    {
      "cell_type": "code",
      "metadata": {
        "id": "vO9QS7ynUTov"
      },
      "source": [
        "Dwelling_fill_sum_alt.to_csv(\"/content/dwelling_filled_sum_1850_mn.csv\", index = False)\r\n",
        "Dwelling_fill_max.to_csv(\"/content/dwelling_filled_max_1850_mn.csv\", index = False)"
      ],
      "execution_count": 118,
      "outputs": []
    },
    {
      "cell_type": "code",
      "metadata": {
        "colab": {
          "base_uri": "https://localhost:8080/"
        },
        "id": "3XPa2a4hUxew",
        "outputId": "9dd7934d-7e71-4bc4-bfc8-a1b24668b575"
      },
      "source": [
        "print(\"Proportion of census data assigned addresses:\", Dwelling_fill_sum_alt.CD_H_ADDRESS.count()/515630)\r\n",
        "#print(\"Proportion of Dwellings Without Addresses:\", Dwelling_fill_sum_alt.groupby([\"CENSUS_WARD_NUM\", \"dwelling_id\"], as_index = False).filter(lambda df: df[\"CD_H_ADDRESS\"].count() == 0).groupby([\"CENSUS_WARD_NUM\", \"dwelling_id\"]).ngroups/CensusDis1850.groupby([\"CENSUS_WARD_NUM\",\"dwelling_id\"]).ngroups)"
      ],
      "execution_count": 119,
      "outputs": [
        {
          "output_type": "stream",
          "text": [
            "Proportion of census data assigned addresses: 0.533052770397378\n"
          ],
          "name": "stdout"
        }
      ]
    },
    {
      "cell_type": "markdown",
      "metadata": {
        "id": "3TqbWZ8eWNS7"
      },
      "source": [
        "This matches with the expected proportions, the same as those for selecting the max weight instead of the max sum"
      ]
    },
    {
      "cell_type": "markdown",
      "metadata": {
        "id": "VgRFh6zOWSHv"
      },
      "source": [
        "### Look at difference between selecting the maximum and selecting the max sum"
      ]
    },
    {
      "cell_type": "code",
      "metadata": {
        "id": "0jjt3svgWLcP"
      },
      "source": [
        "Dwelling_fill_sum_alt.dropna(subset = [\"CD_H_ADDRESS\"], inplace = True)\r\n",
        "Dwelling_fill_max.dropna(subset = [\"CD_H_ADDRESS\"], inplace = True)"
      ],
      "execution_count": 120,
      "outputs": []
    },
    {
      "cell_type": "code",
      "metadata": {
        "id": "mis5ZFbJWfwn"
      },
      "source": [
        "Dwelling_fill_sum_dropped = Dwelling_fill_sum_alt[[\"CENSUS_IPUMS_UID\", \"CD_H_ADDRESS\", \"CD_X\", \"CD_Y\"]]\r\n",
        "Dwelling_fill_max_dropped = Dwelling_fill_max[[\"CENSUS_IPUMS_UID\", \"CD_H_ADDRESS\", \"CD_X\", \"CD_Y\"]]"
      ],
      "execution_count": 121,
      "outputs": []
    },
    {
      "cell_type": "code",
      "metadata": {
        "colab": {
          "base_uri": "https://localhost:8080/"
        },
        "id": "P29KAGiNpuHI",
        "outputId": "69fadc96-fd78-4763-f27f-9e9d80278755"
      },
      "source": [
        "Dwelling_fill_sum_dropped.columns"
      ],
      "execution_count": 122,
      "outputs": [
        {
          "output_type": "execute_result",
          "data": {
            "text/plain": [
              "Index(['CENSUS_IPUMS_UID', 'CD_H_ADDRESS', 'CD_X', 'CD_Y'], dtype='object')"
            ]
          },
          "metadata": {
            "tags": []
          },
          "execution_count": 122
        }
      ]
    },
    {
      "cell_type": "code",
      "metadata": {
        "colab": {
          "base_uri": "https://localhost:8080/"
        },
        "id": "lmRi5krtWljr",
        "outputId": "962ec3e4-f11c-47a4-b9fd-6e479db5d382"
      },
      "source": [
        "Dwelling_filled_differences = Dwelling_fill_sum_dropped.merge(Dwelling_fill_max_dropped, on = \"CENSUS_IPUMS_UID\",suffixes = ('_sum', '_max'), how = \"left\")\r\n",
        "Dwelling_filled_differences.info()"
      ],
      "execution_count": 123,
      "outputs": [
        {
          "output_type": "stream",
          "text": [
            "<class 'pandas.core.frame.DataFrame'>\n",
            "Int64Index: 274858 entries, 0 to 274857\n",
            "Data columns (total 7 columns):\n",
            " #   Column            Non-Null Count   Dtype  \n",
            "---  ------            --------------   -----  \n",
            " 0   CENSUS_IPUMS_UID  274858 non-null  object \n",
            " 1   CD_H_ADDRESS_sum  274858 non-null  object \n",
            " 2   CD_X_sum          274858 non-null  float64\n",
            " 3   CD_Y_sum          274858 non-null  float64\n",
            " 4   CD_H_ADDRESS_max  274858 non-null  object \n",
            " 5   CD_X_max          274858 non-null  float64\n",
            " 6   CD_Y_max          274858 non-null  float64\n",
            "dtypes: float64(4), object(3)\n",
            "memory usage: 16.8+ MB\n"
          ],
          "name": "stdout"
        }
      ]
    },
    {
      "cell_type": "code",
      "metadata": {
        "colab": {
          "base_uri": "https://localhost:8080/"
        },
        "id": "369cV4pzWr3P",
        "outputId": "1727b6d4-3874-483f-92fc-f23a95a34708"
      },
      "source": [
        "\r\n",
        "Dwelling_filled_same = Dwelling_filled_differences[Dwelling_filled_differences[\"CD_H_ADDRESS_max\"] == Dwelling_filled_differences[\"CD_H_ADDRESS_sum\"]]\r\n",
        "Dwelling_filled_same.info()"
      ],
      "execution_count": 124,
      "outputs": [
        {
          "output_type": "stream",
          "text": [
            "<class 'pandas.core.frame.DataFrame'>\n",
            "Int64Index: 270352 entries, 0 to 274857\n",
            "Data columns (total 7 columns):\n",
            " #   Column            Non-Null Count   Dtype  \n",
            "---  ------            --------------   -----  \n",
            " 0   CENSUS_IPUMS_UID  270352 non-null  object \n",
            " 1   CD_H_ADDRESS_sum  270352 non-null  object \n",
            " 2   CD_X_sum          270352 non-null  float64\n",
            " 3   CD_Y_sum          270352 non-null  float64\n",
            " 4   CD_H_ADDRESS_max  270352 non-null  object \n",
            " 5   CD_X_max          270352 non-null  float64\n",
            " 6   CD_Y_max          270352 non-null  float64\n",
            "dtypes: float64(4), object(3)\n",
            "memory usage: 16.5+ MB\n"
          ],
          "name": "stdout"
        }
      ]
    },
    {
      "cell_type": "code",
      "metadata": {
        "colab": {
          "base_uri": "https://localhost:8080/"
        },
        "id": "3QdoG0p5W3j2",
        "outputId": "f08cbcf9-0889-41ea-997d-ecf299e6a890"
      },
      "source": [
        "Census1850_diff = CensusDis1850[~CensusDis1850[\"CENSUS_IPUMS_UID\"].isin(Dwelling_filled_same.CENSUS_IPUMS_UID.values)]\r\n",
        "Census1850_diff.info()"
      ],
      "execution_count": 125,
      "outputs": [
        {
          "output_type": "stream",
          "text": [
            "<class 'pandas.core.frame.DataFrame'>\n",
            "Int64Index: 245278 entries, 161 to 515629\n",
            "Data columns (total 32 columns):\n",
            " #   Column                   Non-Null Count   Dtype  \n",
            "---  ------                   --------------   -----  \n",
            " 0   CENSUS_SERIALP           245278 non-null  int64  \n",
            " 1   CENSUS_AGE               245278 non-null  int64  \n",
            " 2   CENSUS_SEX               245278 non-null  int64  \n",
            " 3   CENSUS_MARST             245278 non-null  int64  \n",
            " 4   CENSUS_RACE              245278 non-null  int64  \n",
            " 5   CENSUS_LABFORCE          245278 non-null  int64  \n",
            " 6   CENSUS_IMPREL            245278 non-null  int64  \n",
            " 7   CENSUS_OCCSTR            74158 non-null   object \n",
            " 8   CENSUS_NAMELAST          245241 non-null  object \n",
            " 9   CENSUS_NAMEFRST          245010 non-null  object \n",
            " 10  CENSUS_SEQ_NUM           245278 non-null  int64  \n",
            " 11  CENSUS_HH_NUM            245278 non-null  int64  \n",
            " 12  CENSUS_IPUMS_UID         245278 non-null  object \n",
            " 13  CENSUS_CITY              245278 non-null  int64  \n",
            " 14  CENSUS_PAGENO_HOUSEHOLD  245278 non-null  int64  \n",
            " 15  CENSUS_WARD_NUM          245278 non-null  int64  \n",
            " 16  CENSUS_REEL_HOUSEHOLD    245278 non-null  int64  \n",
            " 17  CENSUS_PLACE             245278 non-null  object \n",
            " 18  CENSUS_DWELLING_NUM      244420 non-null  float64\n",
            " 19  CENSUS_DWELLING_SEQ      244536 non-null  float64\n",
            " 20  CENSUS_DWELLING_SIZE     245278 non-null  int64  \n",
            " 21  CENSUS_GEOG              245042 non-null  object \n",
            " 22  CENSUS_LINE              245278 non-null  int64  \n",
            " 23  CENSUS_INDEX             245278 non-null  int64  \n",
            " 24  dwelling_id              245278 non-null  int64  \n",
            " 25  CENSUS_ID                552 non-null     object \n",
            " 26  CD_H_ADDRESS             552 non-null     object \n",
            " 27  selected                 552 non-null     float64\n",
            " 28  spatial_weight           552 non-null     float64\n",
            " 29  CD_X                     552 non-null     float64\n",
            " 30  CD_Y                     552 non-null     float64\n",
            " 31  CD_BLOCK_NUM             552 non-null     object \n",
            "dtypes: float64(6), int64(17), object(9)\n",
            "memory usage: 61.8+ MB\n"
          ],
          "name": "stdout"
        }
      ]
    },
    {
      "cell_type": "code",
      "metadata": {
        "id": "9SGBURTAW9o4"
      },
      "source": [
        "#Create a column to display spatial weights\r\n",
        "Census1850_diff = Census1850_diff.copy()\r\n",
        "Census1850_diff[\"spatial_weight_sum\"] = Census1850_diff.groupby([\"CENSUS_WARD_NUM\",\"dwelling_id\", \"CD_H_ADDRESS\"])[\"spatial_weight\"].transform('sum')"
      ],
      "execution_count": 126,
      "outputs": []
    },
    {
      "cell_type": "code",
      "metadata": {
        "colab": {
          "base_uri": "https://localhost:8080/"
        },
        "id": "1tYg_Nm3XIN-",
        "outputId": "f1f8b8ae-7463-4374-f46a-f464320e6ed7"
      },
      "source": [
        "Dwelling_filled_differences_all = Census1850_diff.merge(Dwelling_filled_differences, how = \"left\", on = \"CENSUS_IPUMS_UID\")\r\n",
        "Dwelling_filled_differences_all.info()"
      ],
      "execution_count": 127,
      "outputs": [
        {
          "output_type": "stream",
          "text": [
            "<class 'pandas.core.frame.DataFrame'>\n",
            "Int64Index: 245278 entries, 0 to 245277\n",
            "Data columns (total 39 columns):\n",
            " #   Column                   Non-Null Count   Dtype  \n",
            "---  ------                   --------------   -----  \n",
            " 0   CENSUS_SERIALP           245278 non-null  int64  \n",
            " 1   CENSUS_AGE               245278 non-null  int64  \n",
            " 2   CENSUS_SEX               245278 non-null  int64  \n",
            " 3   CENSUS_MARST             245278 non-null  int64  \n",
            " 4   CENSUS_RACE              245278 non-null  int64  \n",
            " 5   CENSUS_LABFORCE          245278 non-null  int64  \n",
            " 6   CENSUS_IMPREL            245278 non-null  int64  \n",
            " 7   CENSUS_OCCSTR            74158 non-null   object \n",
            " 8   CENSUS_NAMELAST          245241 non-null  object \n",
            " 9   CENSUS_NAMEFRST          245010 non-null  object \n",
            " 10  CENSUS_SEQ_NUM           245278 non-null  int64  \n",
            " 11  CENSUS_HH_NUM            245278 non-null  int64  \n",
            " 12  CENSUS_IPUMS_UID         245278 non-null  object \n",
            " 13  CENSUS_CITY              245278 non-null  int64  \n",
            " 14  CENSUS_PAGENO_HOUSEHOLD  245278 non-null  int64  \n",
            " 15  CENSUS_WARD_NUM          245278 non-null  int64  \n",
            " 16  CENSUS_REEL_HOUSEHOLD    245278 non-null  int64  \n",
            " 17  CENSUS_PLACE             245278 non-null  object \n",
            " 18  CENSUS_DWELLING_NUM      244420 non-null  float64\n",
            " 19  CENSUS_DWELLING_SEQ      244536 non-null  float64\n",
            " 20  CENSUS_DWELLING_SIZE     245278 non-null  int64  \n",
            " 21  CENSUS_GEOG              245042 non-null  object \n",
            " 22  CENSUS_LINE              245278 non-null  int64  \n",
            " 23  CENSUS_INDEX             245278 non-null  int64  \n",
            " 24  dwelling_id              245278 non-null  int64  \n",
            " 25  CENSUS_ID                552 non-null     object \n",
            " 26  CD_H_ADDRESS             552 non-null     object \n",
            " 27  selected                 552 non-null     float64\n",
            " 28  spatial_weight           552 non-null     float64\n",
            " 29  CD_X                     552 non-null     float64\n",
            " 30  CD_Y                     552 non-null     float64\n",
            " 31  CD_BLOCK_NUM             552 non-null     object \n",
            " 32  spatial_weight_sum       552 non-null     float64\n",
            " 33  CD_H_ADDRESS_sum         4506 non-null    object \n",
            " 34  CD_X_sum                 4506 non-null    float64\n",
            " 35  CD_Y_sum                 4506 non-null    float64\n",
            " 36  CD_H_ADDRESS_max         4506 non-null    object \n",
            " 37  CD_X_max                 4506 non-null    float64\n",
            " 38  CD_Y_max                 4506 non-null    float64\n",
            "dtypes: float64(11), int64(17), object(11)\n",
            "memory usage: 74.9+ MB\n"
          ],
          "name": "stdout"
        }
      ]
    },
    {
      "cell_type": "code",
      "metadata": {
        "id": "oCQax1awXNDO"
      },
      "source": [
        "Dwelling_filled_differences_all.dropna(subset = [\"spatial_weight\"], inplace = True)"
      ],
      "execution_count": 128,
      "outputs": []
    },
    {
      "cell_type": "code",
      "metadata": {
        "colab": {
          "base_uri": "https://localhost:8080/",
          "height": 1000
        },
        "id": "gtsMmm67XSl6",
        "outputId": "2b18c181-4713-492b-ee70-00de7eed2a1d"
      },
      "source": [
        "i = 0\r\n",
        "for index, group in Dwelling_filled_differences_all.groupby([\"CENSUS_WARD_NUM\", \"dwelling_id\"]):\r\n",
        "    display(group.head())\r\n",
        "    i += 1\r\n",
        "    if i == 5:\r\n",
        "        break"
      ],
      "execution_count": 129,
      "outputs": [
        {
          "output_type": "display_data",
          "data": {
            "text/html": [
              "<div>\n",
              "<style scoped>\n",
              "    .dataframe tbody tr th:only-of-type {\n",
              "        vertical-align: middle;\n",
              "    }\n",
              "\n",
              "    .dataframe tbody tr th {\n",
              "        vertical-align: top;\n",
              "    }\n",
              "\n",
              "    .dataframe thead th {\n",
              "        text-align: right;\n",
              "    }\n",
              "</style>\n",
              "<table border=\"1\" class=\"dataframe\">\n",
              "  <thead>\n",
              "    <tr style=\"text-align: right;\">\n",
              "      <th></th>\n",
              "      <th>CENSUS_SERIALP</th>\n",
              "      <th>CENSUS_AGE</th>\n",
              "      <th>CENSUS_SEX</th>\n",
              "      <th>CENSUS_MARST</th>\n",
              "      <th>CENSUS_RACE</th>\n",
              "      <th>CENSUS_LABFORCE</th>\n",
              "      <th>CENSUS_IMPREL</th>\n",
              "      <th>CENSUS_OCCSTR</th>\n",
              "      <th>CENSUS_NAMELAST</th>\n",
              "      <th>CENSUS_NAMEFRST</th>\n",
              "      <th>CENSUS_SEQ_NUM</th>\n",
              "      <th>CENSUS_HH_NUM</th>\n",
              "      <th>CENSUS_IPUMS_UID</th>\n",
              "      <th>CENSUS_CITY</th>\n",
              "      <th>CENSUS_PAGENO_HOUSEHOLD</th>\n",
              "      <th>CENSUS_WARD_NUM</th>\n",
              "      <th>CENSUS_REEL_HOUSEHOLD</th>\n",
              "      <th>CENSUS_PLACE</th>\n",
              "      <th>CENSUS_DWELLING_NUM</th>\n",
              "      <th>CENSUS_DWELLING_SEQ</th>\n",
              "      <th>CENSUS_DWELLING_SIZE</th>\n",
              "      <th>CENSUS_GEOG</th>\n",
              "      <th>CENSUS_LINE</th>\n",
              "      <th>CENSUS_INDEX</th>\n",
              "      <th>dwelling_id</th>\n",
              "      <th>CENSUS_ID</th>\n",
              "      <th>CD_H_ADDRESS</th>\n",
              "      <th>selected</th>\n",
              "      <th>spatial_weight</th>\n",
              "      <th>CD_X</th>\n",
              "      <th>CD_Y</th>\n",
              "      <th>CD_BLOCK_NUM</th>\n",
              "      <th>spatial_weight_sum</th>\n",
              "      <th>CD_H_ADDRESS_sum</th>\n",
              "      <th>CD_X_sum</th>\n",
              "      <th>CD_Y_sum</th>\n",
              "      <th>CD_H_ADDRESS_max</th>\n",
              "      <th>CD_X_max</th>\n",
              "      <th>CD_Y_max</th>\n",
              "    </tr>\n",
              "  </thead>\n",
              "  <tbody>\n",
              "    <tr>\n",
              "      <th>3722</th>\n",
              "      <td>2045424</td>\n",
              "      <td>43</td>\n",
              "      <td>2</td>\n",
              "      <td>6</td>\n",
              "      <td>120</td>\n",
              "      <td>0</td>\n",
              "      <td>1</td>\n",
              "      <td>NaN</td>\n",
              "      <td>DUTCHER</td>\n",
              "      <td>CATHARINE B</td>\n",
              "      <td>1</td>\n",
              "      <td>406124</td>\n",
              "      <td>db5340b3-1f19-4350-8a56-af1670443574</td>\n",
              "      <td>4610</td>\n",
              "      <td>1810</td>\n",
              "      <td>1</td>\n",
              "      <td>534</td>\n",
              "      <td>MANHATTAN</td>\n",
              "      <td>21.0</td>\n",
              "      <td>45.0</td>\n",
              "      <td>36</td>\n",
              "      <td>NEW YORK WARD 1 WESTERN DIVISION</td>\n",
              "      <td>190</td>\n",
              "      <td>7324</td>\n",
              "      <td>471</td>\n",
              "      <td>db5340b3-1f19-4350-8a56-af1670443574</td>\n",
              "      <td>94 LIBERTY ST</td>\n",
              "      <td>1.0</td>\n",
              "      <td>1.9</td>\n",
              "      <td>-74.011412</td>\n",
              "      <td>40.709496</td>\n",
              "      <td>mn1850_01_74.0115_40.7093</td>\n",
              "      <td>3.9</td>\n",
              "      <td>94 LIBERTY ST</td>\n",
              "      <td>-74.011412</td>\n",
              "      <td>40.709496</td>\n",
              "      <td>58 CEDAR ST</td>\n",
              "      <td>-74.009383</td>\n",
              "      <td>40.707751</td>\n",
              "    </tr>\n",
              "    <tr>\n",
              "      <th>3734</th>\n",
              "      <td>2045424</td>\n",
              "      <td>20</td>\n",
              "      <td>1</td>\n",
              "      <td>6</td>\n",
              "      <td>120</td>\n",
              "      <td>2</td>\n",
              "      <td>12</td>\n",
              "      <td>CLERK</td>\n",
              "      <td>ALLEN</td>\n",
              "      <td>HENRY S</td>\n",
              "      <td>13</td>\n",
              "      <td>406128</td>\n",
              "      <td>d09684f1-b2f9-4135-a827-308438b7a73f</td>\n",
              "      <td>4610</td>\n",
              "      <td>1810</td>\n",
              "      <td>1</td>\n",
              "      <td>534</td>\n",
              "      <td>MANHATTAN</td>\n",
              "      <td>21.0</td>\n",
              "      <td>45.0</td>\n",
              "      <td>36</td>\n",
              "      <td>NEW YORK WARD 1 WESTERN DIVISION</td>\n",
              "      <td>190</td>\n",
              "      <td>7336</td>\n",
              "      <td>471</td>\n",
              "      <td>d09684f1-b2f9-4135-a827-308438b7a73f</td>\n",
              "      <td>58 CEDAR ST</td>\n",
              "      <td>1.0</td>\n",
              "      <td>2.0</td>\n",
              "      <td>-74.009383</td>\n",
              "      <td>40.707751</td>\n",
              "      <td>mn1850_01_74.0094_40.7075</td>\n",
              "      <td>2.0</td>\n",
              "      <td>94 LIBERTY ST</td>\n",
              "      <td>-74.011412</td>\n",
              "      <td>40.709496</td>\n",
              "      <td>58 CEDAR ST</td>\n",
              "      <td>-74.009383</td>\n",
              "      <td>40.707751</td>\n",
              "    </tr>\n",
              "    <tr>\n",
              "      <th>3736</th>\n",
              "      <td>2045424</td>\n",
              "      <td>26</td>\n",
              "      <td>1</td>\n",
              "      <td>6</td>\n",
              "      <td>120</td>\n",
              "      <td>2</td>\n",
              "      <td>12</td>\n",
              "      <td>MERCHANT</td>\n",
              "      <td>ELLISON</td>\n",
              "      <td>BENJAMIN</td>\n",
              "      <td>15</td>\n",
              "      <td>406129</td>\n",
              "      <td>a8615f18-14a4-4ecc-909e-a4ba43dca6f5</td>\n",
              "      <td>4610</td>\n",
              "      <td>1810</td>\n",
              "      <td>1</td>\n",
              "      <td>534</td>\n",
              "      <td>MANHATTAN</td>\n",
              "      <td>21.0</td>\n",
              "      <td>45.0</td>\n",
              "      <td>36</td>\n",
              "      <td>NEW YORK WARD 1 WESTERN DIVISION</td>\n",
              "      <td>190</td>\n",
              "      <td>7338</td>\n",
              "      <td>471</td>\n",
              "      <td>a8615f18-14a4-4ecc-909e-a4ba43dca6f5</td>\n",
              "      <td>94 LIBERTY ST</td>\n",
              "      <td>1.0</td>\n",
              "      <td>2.0</td>\n",
              "      <td>-74.011412</td>\n",
              "      <td>40.709496</td>\n",
              "      <td>mn1850_01_74.0115_40.7093</td>\n",
              "      <td>3.9</td>\n",
              "      <td>94 LIBERTY ST</td>\n",
              "      <td>-74.011412</td>\n",
              "      <td>40.709496</td>\n",
              "      <td>58 CEDAR ST</td>\n",
              "      <td>-74.009383</td>\n",
              "      <td>40.707751</td>\n",
              "    </tr>\n",
              "  </tbody>\n",
              "</table>\n",
              "</div>"
            ],
            "text/plain": [
              "      CENSUS_SERIALP  CENSUS_AGE  ...   CD_X_max   CD_Y_max\n",
              "3722         2045424          43  ... -74.009383  40.707751\n",
              "3734         2045424          20  ... -74.009383  40.707751\n",
              "3736         2045424          26  ... -74.009383  40.707751\n",
              "\n",
              "[3 rows x 39 columns]"
            ]
          },
          "metadata": {
            "tags": []
          }
        },
        {
          "output_type": "display_data",
          "data": {
            "text/html": [
              "<div>\n",
              "<style scoped>\n",
              "    .dataframe tbody tr th:only-of-type {\n",
              "        vertical-align: middle;\n",
              "    }\n",
              "\n",
              "    .dataframe tbody tr th {\n",
              "        vertical-align: top;\n",
              "    }\n",
              "\n",
              "    .dataframe thead th {\n",
              "        text-align: right;\n",
              "    }\n",
              "</style>\n",
              "<table border=\"1\" class=\"dataframe\">\n",
              "  <thead>\n",
              "    <tr style=\"text-align: right;\">\n",
              "      <th></th>\n",
              "      <th>CENSUS_SERIALP</th>\n",
              "      <th>CENSUS_AGE</th>\n",
              "      <th>CENSUS_SEX</th>\n",
              "      <th>CENSUS_MARST</th>\n",
              "      <th>CENSUS_RACE</th>\n",
              "      <th>CENSUS_LABFORCE</th>\n",
              "      <th>CENSUS_IMPREL</th>\n",
              "      <th>CENSUS_OCCSTR</th>\n",
              "      <th>CENSUS_NAMELAST</th>\n",
              "      <th>CENSUS_NAMEFRST</th>\n",
              "      <th>CENSUS_SEQ_NUM</th>\n",
              "      <th>CENSUS_HH_NUM</th>\n",
              "      <th>CENSUS_IPUMS_UID</th>\n",
              "      <th>CENSUS_CITY</th>\n",
              "      <th>CENSUS_PAGENO_HOUSEHOLD</th>\n",
              "      <th>CENSUS_WARD_NUM</th>\n",
              "      <th>CENSUS_REEL_HOUSEHOLD</th>\n",
              "      <th>CENSUS_PLACE</th>\n",
              "      <th>CENSUS_DWELLING_NUM</th>\n",
              "      <th>CENSUS_DWELLING_SEQ</th>\n",
              "      <th>CENSUS_DWELLING_SIZE</th>\n",
              "      <th>CENSUS_GEOG</th>\n",
              "      <th>CENSUS_LINE</th>\n",
              "      <th>CENSUS_INDEX</th>\n",
              "      <th>dwelling_id</th>\n",
              "      <th>CENSUS_ID</th>\n",
              "      <th>CD_H_ADDRESS</th>\n",
              "      <th>selected</th>\n",
              "      <th>spatial_weight</th>\n",
              "      <th>CD_X</th>\n",
              "      <th>CD_Y</th>\n",
              "      <th>CD_BLOCK_NUM</th>\n",
              "      <th>spatial_weight_sum</th>\n",
              "      <th>CD_H_ADDRESS_sum</th>\n",
              "      <th>CD_X_sum</th>\n",
              "      <th>CD_Y_sum</th>\n",
              "      <th>CD_H_ADDRESS_max</th>\n",
              "      <th>CD_X_max</th>\n",
              "      <th>CD_Y_max</th>\n",
              "    </tr>\n",
              "  </thead>\n",
              "  <tbody>\n",
              "    <tr>\n",
              "      <th>3854</th>\n",
              "      <td>2045438</td>\n",
              "      <td>33</td>\n",
              "      <td>1</td>\n",
              "      <td>1</td>\n",
              "      <td>120</td>\n",
              "      <td>2</td>\n",
              "      <td>1</td>\n",
              "      <td>MERCHANT</td>\n",
              "      <td>JOHNSON</td>\n",
              "      <td>JEREMIAH</td>\n",
              "      <td>1</td>\n",
              "      <td>406234</td>\n",
              "      <td>7f1291e5-4ac8-478e-bde6-fb5095cbe159</td>\n",
              "      <td>4610</td>\n",
              "      <td>1840</td>\n",
              "      <td>1</td>\n",
              "      <td>534</td>\n",
              "      <td>MANHATTAN</td>\n",
              "      <td>29.0</td>\n",
              "      <td>59.0</td>\n",
              "      <td>12</td>\n",
              "      <td>NEW YORK WARD 1 WESTERN DIVISION</td>\n",
              "      <td>410</td>\n",
              "      <td>7472</td>\n",
              "      <td>479</td>\n",
              "      <td>7f1291e5-4ac8-478e-bde6-fb5095cbe159</td>\n",
              "      <td>97 CEDAR ST</td>\n",
              "      <td>1.0</td>\n",
              "      <td>1.950000</td>\n",
              "      <td>-74.011379</td>\n",
              "      <td>40.709132</td>\n",
              "      <td>mn1850_01_74.0110_40.7091</td>\n",
              "      <td>3.883333</td>\n",
              "      <td>97 CEDAR ST</td>\n",
              "      <td>-74.011379</td>\n",
              "      <td>40.709132</td>\n",
              "      <td>97 CEDAR \"\" ST</td>\n",
              "      <td>-74.011379</td>\n",
              "      <td>40.709132</td>\n",
              "    </tr>\n",
              "    <tr>\n",
              "      <th>3870</th>\n",
              "      <td>2045441</td>\n",
              "      <td>26</td>\n",
              "      <td>1</td>\n",
              "      <td>1</td>\n",
              "      <td>120</td>\n",
              "      <td>2</td>\n",
              "      <td>1</td>\n",
              "      <td>TAILOR</td>\n",
              "      <td>CULLIN</td>\n",
              "      <td>JAMES</td>\n",
              "      <td>1</td>\n",
              "      <td>406241</td>\n",
              "      <td>7c9f8635-8953-49b1-bcc2-9db215fb6978</td>\n",
              "      <td>4610</td>\n",
              "      <td>1850</td>\n",
              "      <td>1</td>\n",
              "      <td>534</td>\n",
              "      <td>MANHATTAN</td>\n",
              "      <td>29.0</td>\n",
              "      <td>62.0</td>\n",
              "      <td>5</td>\n",
              "      <td>NEW YORK WARD 1 WESTERN DIVISION</td>\n",
              "      <td>150</td>\n",
              "      <td>7488</td>\n",
              "      <td>479</td>\n",
              "      <td>7c9f8635-8953-49b1-bcc2-9db215fb6978</td>\n",
              "      <td>97 CEDAR ST</td>\n",
              "      <td>1.0</td>\n",
              "      <td>1.933333</td>\n",
              "      <td>-74.011379</td>\n",
              "      <td>40.709132</td>\n",
              "      <td>mn1850_01_74.0110_40.7091</td>\n",
              "      <td>3.883333</td>\n",
              "      <td>97 CEDAR ST</td>\n",
              "      <td>-74.011379</td>\n",
              "      <td>40.709132</td>\n",
              "      <td>97 CEDAR \"\" ST</td>\n",
              "      <td>-74.011379</td>\n",
              "      <td>40.709132</td>\n",
              "    </tr>\n",
              "    <tr>\n",
              "      <th>3875</th>\n",
              "      <td>2045442</td>\n",
              "      <td>46</td>\n",
              "      <td>1</td>\n",
              "      <td>1</td>\n",
              "      <td>120</td>\n",
              "      <td>2</td>\n",
              "      <td>1</td>\n",
              "      <td>GOLDSMITH</td>\n",
              "      <td>SELIGER</td>\n",
              "      <td>EDWARD</td>\n",
              "      <td>1</td>\n",
              "      <td>406243</td>\n",
              "      <td>a3a16d8c-0fe4-45a0-9aab-b0004fff2c75</td>\n",
              "      <td>4610</td>\n",
              "      <td>1850</td>\n",
              "      <td>1</td>\n",
              "      <td>534</td>\n",
              "      <td>MANHATTAN</td>\n",
              "      <td>29.0</td>\n",
              "      <td>63.0</td>\n",
              "      <td>3</td>\n",
              "      <td>NEW YORK WARD 1 WESTERN DIVISION</td>\n",
              "      <td>200</td>\n",
              "      <td>7493</td>\n",
              "      <td>479</td>\n",
              "      <td>a3a16d8c-0fe4-45a0-9aab-b0004fff2c75</td>\n",
              "      <td>97 CEDAR \"\" ST</td>\n",
              "      <td>1.0</td>\n",
              "      <td>2.000000</td>\n",
              "      <td>-74.011379</td>\n",
              "      <td>40.709132</td>\n",
              "      <td>mn1850_01_74.0110_40.7091</td>\n",
              "      <td>2.000000</td>\n",
              "      <td>97 CEDAR ST</td>\n",
              "      <td>-74.011379</td>\n",
              "      <td>40.709132</td>\n",
              "      <td>97 CEDAR \"\" ST</td>\n",
              "      <td>-74.011379</td>\n",
              "      <td>40.709132</td>\n",
              "    </tr>\n",
              "  </tbody>\n",
              "</table>\n",
              "</div>"
            ],
            "text/plain": [
              "      CENSUS_SERIALP  CENSUS_AGE  ...   CD_X_max   CD_Y_max\n",
              "3854         2045438          33  ... -74.011379  40.709132\n",
              "3870         2045441          26  ... -74.011379  40.709132\n",
              "3875         2045442          46  ... -74.011379  40.709132\n",
              "\n",
              "[3 rows x 39 columns]"
            ]
          },
          "metadata": {
            "tags": []
          }
        },
        {
          "output_type": "display_data",
          "data": {
            "text/html": [
              "<div>\n",
              "<style scoped>\n",
              "    .dataframe tbody tr th:only-of-type {\n",
              "        vertical-align: middle;\n",
              "    }\n",
              "\n",
              "    .dataframe tbody tr th {\n",
              "        vertical-align: top;\n",
              "    }\n",
              "\n",
              "    .dataframe thead th {\n",
              "        text-align: right;\n",
              "    }\n",
              "</style>\n",
              "<table border=\"1\" class=\"dataframe\">\n",
              "  <thead>\n",
              "    <tr style=\"text-align: right;\">\n",
              "      <th></th>\n",
              "      <th>CENSUS_SERIALP</th>\n",
              "      <th>CENSUS_AGE</th>\n",
              "      <th>CENSUS_SEX</th>\n",
              "      <th>CENSUS_MARST</th>\n",
              "      <th>CENSUS_RACE</th>\n",
              "      <th>CENSUS_LABFORCE</th>\n",
              "      <th>CENSUS_IMPREL</th>\n",
              "      <th>CENSUS_OCCSTR</th>\n",
              "      <th>CENSUS_NAMELAST</th>\n",
              "      <th>CENSUS_NAMEFRST</th>\n",
              "      <th>CENSUS_SEQ_NUM</th>\n",
              "      <th>CENSUS_HH_NUM</th>\n",
              "      <th>CENSUS_IPUMS_UID</th>\n",
              "      <th>CENSUS_CITY</th>\n",
              "      <th>CENSUS_PAGENO_HOUSEHOLD</th>\n",
              "      <th>CENSUS_WARD_NUM</th>\n",
              "      <th>CENSUS_REEL_HOUSEHOLD</th>\n",
              "      <th>CENSUS_PLACE</th>\n",
              "      <th>CENSUS_DWELLING_NUM</th>\n",
              "      <th>CENSUS_DWELLING_SEQ</th>\n",
              "      <th>CENSUS_DWELLING_SIZE</th>\n",
              "      <th>CENSUS_GEOG</th>\n",
              "      <th>CENSUS_LINE</th>\n",
              "      <th>CENSUS_INDEX</th>\n",
              "      <th>dwelling_id</th>\n",
              "      <th>CENSUS_ID</th>\n",
              "      <th>CD_H_ADDRESS</th>\n",
              "      <th>selected</th>\n",
              "      <th>spatial_weight</th>\n",
              "      <th>CD_X</th>\n",
              "      <th>CD_Y</th>\n",
              "      <th>CD_BLOCK_NUM</th>\n",
              "      <th>spatial_weight_sum</th>\n",
              "      <th>CD_H_ADDRESS_sum</th>\n",
              "      <th>CD_X_sum</th>\n",
              "      <th>CD_Y_sum</th>\n",
              "      <th>CD_H_ADDRESS_max</th>\n",
              "      <th>CD_X_max</th>\n",
              "      <th>CD_Y_max</th>\n",
              "    </tr>\n",
              "  </thead>\n",
              "  <tbody>\n",
              "    <tr>\n",
              "      <th>5745</th>\n",
              "      <td>2046255</td>\n",
              "      <td>23</td>\n",
              "      <td>1</td>\n",
              "      <td>1</td>\n",
              "      <td>120</td>\n",
              "      <td>2</td>\n",
              "      <td>1</td>\n",
              "      <td>BOARDING HOUSE</td>\n",
              "      <td>BAST</td>\n",
              "      <td>WILLIAM</td>\n",
              "      <td>1</td>\n",
              "      <td>408367</td>\n",
              "      <td>2996ea47-3c83-4639-8e21-b6afab12fbce</td>\n",
              "      <td>4610</td>\n",
              "      <td>2890</td>\n",
              "      <td>1</td>\n",
              "      <td>534</td>\n",
              "      <td>MANHATTAN</td>\n",
              "      <td>278.0</td>\n",
              "      <td>878.0</td>\n",
              "      <td>4</td>\n",
              "      <td>NEW YORK WARD 1 WESTERN DIVISION</td>\n",
              "      <td>150</td>\n",
              "      <td>11856</td>\n",
              "      <td>728</td>\n",
              "      <td>2996ea47-3c83-4639-8e21-b6afab12fbce</td>\n",
              "      <td>135 WASHINGTON ST</td>\n",
              "      <td>1.0</td>\n",
              "      <td>1.9370</td>\n",
              "      <td>-74.013788</td>\n",
              "      <td>40.709614</td>\n",
              "      <td>mn1850_01_74.0133_40.7096</td>\n",
              "      <td>3.9034</td>\n",
              "      <td>135 WASHINGTON ST</td>\n",
              "      <td>-74.013788</td>\n",
              "      <td>40.709614</td>\n",
              "      <td>42 WHITEHALL ST</td>\n",
              "      <td>-74.012984</td>\n",
              "      <td>40.702799</td>\n",
              "    </tr>\n",
              "    <tr>\n",
              "      <th>5786</th>\n",
              "      <td>2046263</td>\n",
              "      <td>48</td>\n",
              "      <td>1</td>\n",
              "      <td>1</td>\n",
              "      <td>120</td>\n",
              "      <td>2</td>\n",
              "      <td>1</td>\n",
              "      <td>LABORER</td>\n",
              "      <td>TRY</td>\n",
              "      <td>MORRIS</td>\n",
              "      <td>1</td>\n",
              "      <td>408380</td>\n",
              "      <td>fda6f081-033e-4c5e-9c94-2f93cba7f2f4</td>\n",
              "      <td>4610</td>\n",
              "      <td>2900</td>\n",
              "      <td>1</td>\n",
              "      <td>534</td>\n",
              "      <td>MANHATTAN</td>\n",
              "      <td>278.0</td>\n",
              "      <td>886.0</td>\n",
              "      <td>7</td>\n",
              "      <td>NEW YORK WARD 1 WESTERN DIVISION</td>\n",
              "      <td>140</td>\n",
              "      <td>11897</td>\n",
              "      <td>728</td>\n",
              "      <td>fda6f081-033e-4c5e-9c94-2f93cba7f2f4</td>\n",
              "      <td>135 WASHINGTON ST</td>\n",
              "      <td>1.0</td>\n",
              "      <td>1.9664</td>\n",
              "      <td>-74.013788</td>\n",
              "      <td>40.709614</td>\n",
              "      <td>mn1850_01_74.0133_40.7096</td>\n",
              "      <td>3.9034</td>\n",
              "      <td>135 WASHINGTON ST</td>\n",
              "      <td>-74.013788</td>\n",
              "      <td>40.709614</td>\n",
              "      <td>42 WHITEHALL ST</td>\n",
              "      <td>-74.012984</td>\n",
              "      <td>40.702799</td>\n",
              "    </tr>\n",
              "    <tr>\n",
              "      <th>5802</th>\n",
              "      <td>2046266</td>\n",
              "      <td>23</td>\n",
              "      <td>1</td>\n",
              "      <td>6</td>\n",
              "      <td>120</td>\n",
              "      <td>2</td>\n",
              "      <td>3</td>\n",
              "      <td>LABORER</td>\n",
              "      <td>FARLEY</td>\n",
              "      <td>JAMES</td>\n",
              "      <td>3</td>\n",
              "      <td>408383</td>\n",
              "      <td>c1ce4a90-1a6b-4944-99c5-6e62bcb25687</td>\n",
              "      <td>4610</td>\n",
              "      <td>2900</td>\n",
              "      <td>1</td>\n",
              "      <td>534</td>\n",
              "      <td>MANHATTAN</td>\n",
              "      <td>278.0</td>\n",
              "      <td>889.0</td>\n",
              "      <td>5</td>\n",
              "      <td>NEW YORK WARD 1 WESTERN DIVISION</td>\n",
              "      <td>280</td>\n",
              "      <td>11913</td>\n",
              "      <td>728</td>\n",
              "      <td>c1ce4a90-1a6b-4944-99c5-6e62bcb25687</td>\n",
              "      <td>42 WHITEHALL ST</td>\n",
              "      <td>1.0</td>\n",
              "      <td>1.9790</td>\n",
              "      <td>-74.012984</td>\n",
              "      <td>40.702799</td>\n",
              "      <td>mn1850_01_74.0132_40.7030</td>\n",
              "      <td>1.9790</td>\n",
              "      <td>135 WASHINGTON ST</td>\n",
              "      <td>-74.013788</td>\n",
              "      <td>40.709614</td>\n",
              "      <td>42 WHITEHALL ST</td>\n",
              "      <td>-74.012984</td>\n",
              "      <td>40.702799</td>\n",
              "    </tr>\n",
              "  </tbody>\n",
              "</table>\n",
              "</div>"
            ],
            "text/plain": [
              "      CENSUS_SERIALP  CENSUS_AGE  ...   CD_X_max   CD_Y_max\n",
              "5745         2046255          23  ... -74.012984  40.702799\n",
              "5786         2046263          48  ... -74.012984  40.702799\n",
              "5802         2046266          23  ... -74.012984  40.702799\n",
              "\n",
              "[3 rows x 39 columns]"
            ]
          },
          "metadata": {
            "tags": []
          }
        },
        {
          "output_type": "display_data",
          "data": {
            "text/html": [
              "<div>\n",
              "<style scoped>\n",
              "    .dataframe tbody tr th:only-of-type {\n",
              "        vertical-align: middle;\n",
              "    }\n",
              "\n",
              "    .dataframe tbody tr th {\n",
              "        vertical-align: top;\n",
              "    }\n",
              "\n",
              "    .dataframe thead th {\n",
              "        text-align: right;\n",
              "    }\n",
              "</style>\n",
              "<table border=\"1\" class=\"dataframe\">\n",
              "  <thead>\n",
              "    <tr style=\"text-align: right;\">\n",
              "      <th></th>\n",
              "      <th>CENSUS_SERIALP</th>\n",
              "      <th>CENSUS_AGE</th>\n",
              "      <th>CENSUS_SEX</th>\n",
              "      <th>CENSUS_MARST</th>\n",
              "      <th>CENSUS_RACE</th>\n",
              "      <th>CENSUS_LABFORCE</th>\n",
              "      <th>CENSUS_IMPREL</th>\n",
              "      <th>CENSUS_OCCSTR</th>\n",
              "      <th>CENSUS_NAMELAST</th>\n",
              "      <th>CENSUS_NAMEFRST</th>\n",
              "      <th>CENSUS_SEQ_NUM</th>\n",
              "      <th>CENSUS_HH_NUM</th>\n",
              "      <th>CENSUS_IPUMS_UID</th>\n",
              "      <th>CENSUS_CITY</th>\n",
              "      <th>CENSUS_PAGENO_HOUSEHOLD</th>\n",
              "      <th>CENSUS_WARD_NUM</th>\n",
              "      <th>CENSUS_REEL_HOUSEHOLD</th>\n",
              "      <th>CENSUS_PLACE</th>\n",
              "      <th>CENSUS_DWELLING_NUM</th>\n",
              "      <th>CENSUS_DWELLING_SEQ</th>\n",
              "      <th>CENSUS_DWELLING_SIZE</th>\n",
              "      <th>CENSUS_GEOG</th>\n",
              "      <th>CENSUS_LINE</th>\n",
              "      <th>CENSUS_INDEX</th>\n",
              "      <th>dwelling_id</th>\n",
              "      <th>CENSUS_ID</th>\n",
              "      <th>CD_H_ADDRESS</th>\n",
              "      <th>selected</th>\n",
              "      <th>spatial_weight</th>\n",
              "      <th>CD_X</th>\n",
              "      <th>CD_Y</th>\n",
              "      <th>CD_BLOCK_NUM</th>\n",
              "      <th>spatial_weight_sum</th>\n",
              "      <th>CD_H_ADDRESS_sum</th>\n",
              "      <th>CD_X_sum</th>\n",
              "      <th>CD_Y_sum</th>\n",
              "      <th>CD_H_ADDRESS_max</th>\n",
              "      <th>CD_X_max</th>\n",
              "      <th>CD_Y_max</th>\n",
              "    </tr>\n",
              "  </thead>\n",
              "  <tbody>\n",
              "    <tr>\n",
              "      <th>8644</th>\n",
              "      <td>2047618</td>\n",
              "      <td>28</td>\n",
              "      <td>1</td>\n",
              "      <td>6</td>\n",
              "      <td>120</td>\n",
              "      <td>2</td>\n",
              "      <td>1</td>\n",
              "      <td>SOLDIER</td>\n",
              "      <td>GARDNER</td>\n",
              "      <td>JOHN B</td>\n",
              "      <td>2</td>\n",
              "      <td>411653</td>\n",
              "      <td>c1cbdcb0-dcb7-45ef-af3d-c89c6aaefbd1</td>\n",
              "      <td>4610</td>\n",
              "      <td>4470</td>\n",
              "      <td>1</td>\n",
              "      <td>534</td>\n",
              "      <td>MANHATTAN</td>\n",
              "      <td>549.0</td>\n",
              "      <td>1899.0</td>\n",
              "      <td>269</td>\n",
              "      <td>NEW YORK WARD 1 WESTERN DIVISION</td>\n",
              "      <td>80</td>\n",
              "      <td>18485</td>\n",
              "      <td>1006</td>\n",
              "      <td>c1cbdcb0-dcb7-45ef-af3d-c89c6aaefbd1</td>\n",
              "      <td>87 CEDAR ST</td>\n",
              "      <td>1.0</td>\n",
              "      <td>1.933333</td>\n",
              "      <td>-74.010652</td>\n",
              "      <td>40.708760</td>\n",
              "      <td>mn1850_01_74.0101_40.7086</td>\n",
              "      <td>1.933333</td>\n",
              "      <td>38 TRINITY PL</td>\n",
              "      <td>-74.01276</td>\n",
              "      <td>40.708196</td>\n",
              "      <td>58 FRONT ST</td>\n",
              "      <td>-74.009119</td>\n",
              "      <td>40.703362</td>\n",
              "    </tr>\n",
              "    <tr>\n",
              "      <th>8652</th>\n",
              "      <td>2047626</td>\n",
              "      <td>29</td>\n",
              "      <td>1</td>\n",
              "      <td>6</td>\n",
              "      <td>120</td>\n",
              "      <td>2</td>\n",
              "      <td>1</td>\n",
              "      <td>SOLDIER</td>\n",
              "      <td>ALLEN</td>\n",
              "      <td>JOSEPH</td>\n",
              "      <td>10</td>\n",
              "      <td>411661</td>\n",
              "      <td>1407a120-7742-4785-9f05-69cb978ba384</td>\n",
              "      <td>4610</td>\n",
              "      <td>4470</td>\n",
              "      <td>1</td>\n",
              "      <td>534</td>\n",
              "      <td>MANHATTAN</td>\n",
              "      <td>549.0</td>\n",
              "      <td>1899.0</td>\n",
              "      <td>269</td>\n",
              "      <td>NEW YORK WARD 1 WESTERN DIVISION</td>\n",
              "      <td>80</td>\n",
              "      <td>18493</td>\n",
              "      <td>1006</td>\n",
              "      <td>1407a120-7742-4785-9f05-69cb978ba384</td>\n",
              "      <td>58 FRONT ST</td>\n",
              "      <td>1.0</td>\n",
              "      <td>2.000000</td>\n",
              "      <td>-74.009119</td>\n",
              "      <td>40.703362</td>\n",
              "      <td>mn1850_01_74.0091_40.7036</td>\n",
              "      <td>2.000000</td>\n",
              "      <td>38 TRINITY PL</td>\n",
              "      <td>-74.01276</td>\n",
              "      <td>40.708196</td>\n",
              "      <td>58 FRONT ST</td>\n",
              "      <td>-74.009119</td>\n",
              "      <td>40.703362</td>\n",
              "    </tr>\n",
              "    <tr>\n",
              "      <th>8698</th>\n",
              "      <td>2047672</td>\n",
              "      <td>24</td>\n",
              "      <td>1</td>\n",
              "      <td>6</td>\n",
              "      <td>120</td>\n",
              "      <td>2</td>\n",
              "      <td>1</td>\n",
              "      <td>SOLDIER</td>\n",
              "      <td>DELANEY</td>\n",
              "      <td>JOHN</td>\n",
              "      <td>56</td>\n",
              "      <td>411706</td>\n",
              "      <td>9cf3730e-676f-41fe-b90c-a6b624da58df</td>\n",
              "      <td>4610</td>\n",
              "      <td>4470</td>\n",
              "      <td>1</td>\n",
              "      <td>534</td>\n",
              "      <td>MANHATTAN</td>\n",
              "      <td>549.0</td>\n",
              "      <td>1899.0</td>\n",
              "      <td>269</td>\n",
              "      <td>NEW YORK WARD 1 WESTERN DIVISION</td>\n",
              "      <td>80</td>\n",
              "      <td>18539</td>\n",
              "      <td>1006</td>\n",
              "      <td>9cf3730e-676f-41fe-b90c-a6b624da58df</td>\n",
              "      <td>38 TRINITY PL</td>\n",
              "      <td>1.0</td>\n",
              "      <td>1.916667</td>\n",
              "      <td>-74.012760</td>\n",
              "      <td>40.708196</td>\n",
              "      <td>mn1850_01_74.0129_40.7085</td>\n",
              "      <td>3.850000</td>\n",
              "      <td>38 TRINITY PL</td>\n",
              "      <td>-74.01276</td>\n",
              "      <td>40.708196</td>\n",
              "      <td>58 FRONT ST</td>\n",
              "      <td>-74.009119</td>\n",
              "      <td>40.703362</td>\n",
              "    </tr>\n",
              "    <tr>\n",
              "      <th>8722</th>\n",
              "      <td>2047696</td>\n",
              "      <td>42</td>\n",
              "      <td>1</td>\n",
              "      <td>6</td>\n",
              "      <td>120</td>\n",
              "      <td>2</td>\n",
              "      <td>1</td>\n",
              "      <td>SOLDIER</td>\n",
              "      <td>GALLAGHER</td>\n",
              "      <td>JOHN</td>\n",
              "      <td>80</td>\n",
              "      <td>411729</td>\n",
              "      <td>8dbf8ce7-aa92-486c-8fff-eddb48ce77d5</td>\n",
              "      <td>4610</td>\n",
              "      <td>4470</td>\n",
              "      <td>1</td>\n",
              "      <td>534</td>\n",
              "      <td>MANHATTAN</td>\n",
              "      <td>549.0</td>\n",
              "      <td>1899.0</td>\n",
              "      <td>269</td>\n",
              "      <td>NEW YORK WARD 1 WESTERN DIVISION</td>\n",
              "      <td>80</td>\n",
              "      <td>18563</td>\n",
              "      <td>1006</td>\n",
              "      <td>8dbf8ce7-aa92-486c-8fff-eddb48ce77d5</td>\n",
              "      <td>38 TRINITY PL</td>\n",
              "      <td>1.0</td>\n",
              "      <td>1.933333</td>\n",
              "      <td>-74.012760</td>\n",
              "      <td>40.708196</td>\n",
              "      <td>mn1850_01_74.0129_40.7085</td>\n",
              "      <td>3.850000</td>\n",
              "      <td>38 TRINITY PL</td>\n",
              "      <td>-74.01276</td>\n",
              "      <td>40.708196</td>\n",
              "      <td>58 FRONT ST</td>\n",
              "      <td>-74.009119</td>\n",
              "      <td>40.703362</td>\n",
              "    </tr>\n",
              "    <tr>\n",
              "      <th>8747</th>\n",
              "      <td>2047721</td>\n",
              "      <td>31</td>\n",
              "      <td>1</td>\n",
              "      <td>6</td>\n",
              "      <td>120</td>\n",
              "      <td>2</td>\n",
              "      <td>1</td>\n",
              "      <td>SOLDIER</td>\n",
              "      <td>KANE</td>\n",
              "      <td>JOHN</td>\n",
              "      <td>105</td>\n",
              "      <td>411752</td>\n",
              "      <td>fb05e8cf-fa87-4eb3-a77f-adfe951a2acf</td>\n",
              "      <td>4610</td>\n",
              "      <td>4470</td>\n",
              "      <td>1</td>\n",
              "      <td>534</td>\n",
              "      <td>MANHATTAN</td>\n",
              "      <td>549.0</td>\n",
              "      <td>1899.0</td>\n",
              "      <td>269</td>\n",
              "      <td>NEW YORK WARD 1 WESTERN DIVISION</td>\n",
              "      <td>80</td>\n",
              "      <td>18588</td>\n",
              "      <td>1006</td>\n",
              "      <td>fb05e8cf-fa87-4eb3-a77f-adfe951a2acf</td>\n",
              "      <td>32 TRINITY PL</td>\n",
              "      <td>1.0</td>\n",
              "      <td>1.910000</td>\n",
              "      <td>-74.012628</td>\n",
              "      <td>40.708392</td>\n",
              "      <td>mn1850_01_74.0129_40.7085</td>\n",
              "      <td>1.910000</td>\n",
              "      <td>38 TRINITY PL</td>\n",
              "      <td>-74.01276</td>\n",
              "      <td>40.708196</td>\n",
              "      <td>58 FRONT ST</td>\n",
              "      <td>-74.009119</td>\n",
              "      <td>40.703362</td>\n",
              "    </tr>\n",
              "  </tbody>\n",
              "</table>\n",
              "</div>"
            ],
            "text/plain": [
              "      CENSUS_SERIALP  CENSUS_AGE  ...   CD_X_max   CD_Y_max\n",
              "8644         2047618          28  ... -74.009119  40.703362\n",
              "8652         2047626          29  ... -74.009119  40.703362\n",
              "8698         2047672          24  ... -74.009119  40.703362\n",
              "8722         2047696          42  ... -74.009119  40.703362\n",
              "8747         2047721          31  ... -74.009119  40.703362\n",
              "\n",
              "[5 rows x 39 columns]"
            ]
          },
          "metadata": {
            "tags": []
          }
        },
        {
          "output_type": "display_data",
          "data": {
            "text/html": [
              "<div>\n",
              "<style scoped>\n",
              "    .dataframe tbody tr th:only-of-type {\n",
              "        vertical-align: middle;\n",
              "    }\n",
              "\n",
              "    .dataframe tbody tr th {\n",
              "        vertical-align: top;\n",
              "    }\n",
              "\n",
              "    .dataframe thead th {\n",
              "        text-align: right;\n",
              "    }\n",
              "</style>\n",
              "<table border=\"1\" class=\"dataframe\">\n",
              "  <thead>\n",
              "    <tr style=\"text-align: right;\">\n",
              "      <th></th>\n",
              "      <th>CENSUS_SERIALP</th>\n",
              "      <th>CENSUS_AGE</th>\n",
              "      <th>CENSUS_SEX</th>\n",
              "      <th>CENSUS_MARST</th>\n",
              "      <th>CENSUS_RACE</th>\n",
              "      <th>CENSUS_LABFORCE</th>\n",
              "      <th>CENSUS_IMPREL</th>\n",
              "      <th>CENSUS_OCCSTR</th>\n",
              "      <th>CENSUS_NAMELAST</th>\n",
              "      <th>CENSUS_NAMEFRST</th>\n",
              "      <th>CENSUS_SEQ_NUM</th>\n",
              "      <th>CENSUS_HH_NUM</th>\n",
              "      <th>CENSUS_IPUMS_UID</th>\n",
              "      <th>CENSUS_CITY</th>\n",
              "      <th>CENSUS_PAGENO_HOUSEHOLD</th>\n",
              "      <th>CENSUS_WARD_NUM</th>\n",
              "      <th>CENSUS_REEL_HOUSEHOLD</th>\n",
              "      <th>CENSUS_PLACE</th>\n",
              "      <th>CENSUS_DWELLING_NUM</th>\n",
              "      <th>CENSUS_DWELLING_SEQ</th>\n",
              "      <th>CENSUS_DWELLING_SIZE</th>\n",
              "      <th>CENSUS_GEOG</th>\n",
              "      <th>CENSUS_LINE</th>\n",
              "      <th>CENSUS_INDEX</th>\n",
              "      <th>dwelling_id</th>\n",
              "      <th>CENSUS_ID</th>\n",
              "      <th>CD_H_ADDRESS</th>\n",
              "      <th>selected</th>\n",
              "      <th>spatial_weight</th>\n",
              "      <th>CD_X</th>\n",
              "      <th>CD_Y</th>\n",
              "      <th>CD_BLOCK_NUM</th>\n",
              "      <th>spatial_weight_sum</th>\n",
              "      <th>CD_H_ADDRESS_sum</th>\n",
              "      <th>CD_X_sum</th>\n",
              "      <th>CD_Y_sum</th>\n",
              "      <th>CD_H_ADDRESS_max</th>\n",
              "      <th>CD_X_max</th>\n",
              "      <th>CD_Y_max</th>\n",
              "    </tr>\n",
              "  </thead>\n",
              "  <tbody>\n",
              "    <tr>\n",
              "      <th>10932</th>\n",
              "      <td>2048800</td>\n",
              "      <td>30</td>\n",
              "      <td>1</td>\n",
              "      <td>1</td>\n",
              "      <td>120</td>\n",
              "      <td>2</td>\n",
              "      <td>1</td>\n",
              "      <td>BOATMAN</td>\n",
              "      <td>ISAACKS</td>\n",
              "      <td>GEORGE</td>\n",
              "      <td>1</td>\n",
              "      <td>414983</td>\n",
              "      <td>2c790c4a-18b6-4c4a-8375-6e6d07d976fa</td>\n",
              "      <td>4610</td>\n",
              "      <td>880</td>\n",
              "      <td>2</td>\n",
              "      <td>535</td>\n",
              "      <td>MANHATTAN</td>\n",
              "      <td>220.0</td>\n",
              "      <td>604.0</td>\n",
              "      <td>7</td>\n",
              "      <td>NEW YORK WARD 2</td>\n",
              "      <td>10</td>\n",
              "      <td>23238</td>\n",
              "      <td>220</td>\n",
              "      <td>2c790c4a-18b6-4c4a-8375-6e6d07d976fa</td>\n",
              "      <td>299 PEARL ST</td>\n",
              "      <td>1.0</td>\n",
              "      <td>1.9332</td>\n",
              "      <td>-74.003002</td>\n",
              "      <td>40.708507</td>\n",
              "      <td>mn1850_02_74.0032_40.7086</td>\n",
              "      <td>3.9164</td>\n",
              "      <td>299 PEARL ST</td>\n",
              "      <td>-74.003002</td>\n",
              "      <td>40.708507</td>\n",
              "      <td>61 ANN ST</td>\n",
              "      <td>-74.006395</td>\n",
              "      <td>40.710161</td>\n",
              "    </tr>\n",
              "    <tr>\n",
              "      <th>10939</th>\n",
              "      <td>2048801</td>\n",
              "      <td>36</td>\n",
              "      <td>1</td>\n",
              "      <td>1</td>\n",
              "      <td>120</td>\n",
              "      <td>2</td>\n",
              "      <td>1</td>\n",
              "      <td>TAILOR</td>\n",
              "      <td>GILLMORE</td>\n",
              "      <td>FREDERICK</td>\n",
              "      <td>1</td>\n",
              "      <td>414986</td>\n",
              "      <td>5b22ae5e-d6e3-4595-a47c-c49884407fbe</td>\n",
              "      <td>4610</td>\n",
              "      <td>880</td>\n",
              "      <td>2</td>\n",
              "      <td>535</td>\n",
              "      <td>MANHATTAN</td>\n",
              "      <td>220.0</td>\n",
              "      <td>605.0</td>\n",
              "      <td>5</td>\n",
              "      <td>NEW YORK WARD 2</td>\n",
              "      <td>80</td>\n",
              "      <td>23245</td>\n",
              "      <td>220</td>\n",
              "      <td>5b22ae5e-d6e3-4595-a47c-c49884407fbe</td>\n",
              "      <td>299 PEARL ST</td>\n",
              "      <td>1.0</td>\n",
              "      <td>1.9832</td>\n",
              "      <td>-74.003002</td>\n",
              "      <td>40.708507</td>\n",
              "      <td>mn1850_02_74.0032_40.7086</td>\n",
              "      <td>3.9164</td>\n",
              "      <td>299 PEARL ST</td>\n",
              "      <td>-74.003002</td>\n",
              "      <td>40.708507</td>\n",
              "      <td>61 ANN ST</td>\n",
              "      <td>-74.006395</td>\n",
              "      <td>40.710161</td>\n",
              "    </tr>\n",
              "    <tr>\n",
              "      <th>10947</th>\n",
              "      <td>2048803</td>\n",
              "      <td>22</td>\n",
              "      <td>1</td>\n",
              "      <td>1</td>\n",
              "      <td>120</td>\n",
              "      <td>2</td>\n",
              "      <td>1</td>\n",
              "      <td>JUNK KEEPER</td>\n",
              "      <td>ATHERDEN</td>\n",
              "      <td>JOHN</td>\n",
              "      <td>1</td>\n",
              "      <td>414992</td>\n",
              "      <td>9f3f1ca0-4f5b-425e-9ffc-fe0dbabd09c2</td>\n",
              "      <td>4610</td>\n",
              "      <td>880</td>\n",
              "      <td>2</td>\n",
              "      <td>535</td>\n",
              "      <td>MANHATTAN</td>\n",
              "      <td>220.0</td>\n",
              "      <td>607.0</td>\n",
              "      <td>2</td>\n",
              "      <td>NEW YORK WARD 2</td>\n",
              "      <td>160</td>\n",
              "      <td>23253</td>\n",
              "      <td>220</td>\n",
              "      <td>9f3f1ca0-4f5b-425e-9ffc-fe0dbabd09c2</td>\n",
              "      <td>61 ANN ST</td>\n",
              "      <td>1.0</td>\n",
              "      <td>2.0000</td>\n",
              "      <td>-74.006395</td>\n",
              "      <td>40.710161</td>\n",
              "      <td>mn1850_02_74.0064_40.7105</td>\n",
              "      <td>2.0000</td>\n",
              "      <td>299 PEARL ST</td>\n",
              "      <td>-74.003002</td>\n",
              "      <td>40.708507</td>\n",
              "      <td>61 ANN ST</td>\n",
              "      <td>-74.006395</td>\n",
              "      <td>40.710161</td>\n",
              "    </tr>\n",
              "    <tr>\n",
              "      <th>10956</th>\n",
              "      <td>2048804</td>\n",
              "      <td>72</td>\n",
              "      <td>1</td>\n",
              "      <td>6</td>\n",
              "      <td>120</td>\n",
              "      <td>2</td>\n",
              "      <td>12</td>\n",
              "      <td>SHIP JOINER</td>\n",
              "      <td>ELLSWORTH</td>\n",
              "      <td>DANIEL</td>\n",
              "      <td>8</td>\n",
              "      <td>414994</td>\n",
              "      <td>fadb4579-ddd0-4e41-9795-6b504082287e</td>\n",
              "      <td>4610</td>\n",
              "      <td>880</td>\n",
              "      <td>2</td>\n",
              "      <td>535</td>\n",
              "      <td>MANHATTAN</td>\n",
              "      <td>220.0</td>\n",
              "      <td>608.0</td>\n",
              "      <td>25</td>\n",
              "      <td>NEW YORK WARD 2</td>\n",
              "      <td>180</td>\n",
              "      <td>23262</td>\n",
              "      <td>220</td>\n",
              "      <td>fadb4579-ddd0-4e41-9795-6b504082287e</td>\n",
              "      <td>305 PEARL ST</td>\n",
              "      <td>1.0</td>\n",
              "      <td>2.0000</td>\n",
              "      <td>-74.002779</td>\n",
              "      <td>40.708624</td>\n",
              "      <td>mn1850_02_74.0032_40.7086</td>\n",
              "      <td>2.0000</td>\n",
              "      <td>299 PEARL ST</td>\n",
              "      <td>-74.003002</td>\n",
              "      <td>40.708507</td>\n",
              "      <td>61 ANN ST</td>\n",
              "      <td>-74.006395</td>\n",
              "      <td>40.710161</td>\n",
              "    </tr>\n",
              "    <tr>\n",
              "      <th>10967</th>\n",
              "      <td>2048804</td>\n",
              "      <td>18</td>\n",
              "      <td>2</td>\n",
              "      <td>6</td>\n",
              "      <td>120</td>\n",
              "      <td>0</td>\n",
              "      <td>3</td>\n",
              "      <td>NaN</td>\n",
              "      <td>MAHONEY</td>\n",
              "      <td>MARY</td>\n",
              "      <td>19</td>\n",
              "      <td>415005</td>\n",
              "      <td>db76bcd2-66ac-42a3-be5f-0bc8f3c09d39</td>\n",
              "      <td>4610</td>\n",
              "      <td>880</td>\n",
              "      <td>2</td>\n",
              "      <td>535</td>\n",
              "      <td>MANHATTAN</td>\n",
              "      <td>220.0</td>\n",
              "      <td>608.0</td>\n",
              "      <td>25</td>\n",
              "      <td>NEW YORK WARD 2</td>\n",
              "      <td>180</td>\n",
              "      <td>23273</td>\n",
              "      <td>220</td>\n",
              "      <td>db76bcd2-66ac-42a3-be5f-0bc8f3c09d39</td>\n",
              "      <td>30 ANN ST</td>\n",
              "      <td>1.0</td>\n",
              "      <td>1.8832</td>\n",
              "      <td>-74.007604</td>\n",
              "      <td>40.710644</td>\n",
              "      <td>mn1850_02_74.0082_40.7107</td>\n",
              "      <td>1.8832</td>\n",
              "      <td>299 PEARL ST</td>\n",
              "      <td>-74.003002</td>\n",
              "      <td>40.708507</td>\n",
              "      <td>61 ANN ST</td>\n",
              "      <td>-74.006395</td>\n",
              "      <td>40.710161</td>\n",
              "    </tr>\n",
              "  </tbody>\n",
              "</table>\n",
              "</div>"
            ],
            "text/plain": [
              "       CENSUS_SERIALP  CENSUS_AGE  ...   CD_X_max   CD_Y_max\n",
              "10932         2048800          30  ... -74.006395  40.710161\n",
              "10939         2048801          36  ... -74.006395  40.710161\n",
              "10947         2048803          22  ... -74.006395  40.710161\n",
              "10956         2048804          72  ... -74.006395  40.710161\n",
              "10967         2048804          18  ... -74.006395  40.710161\n",
              "\n",
              "[5 rows x 39 columns]"
            ]
          },
          "metadata": {
            "tags": []
          }
        }
      ]
    },
    {
      "cell_type": "code",
      "metadata": {
        "colab": {
          "base_uri": "https://localhost:8080/"
        },
        "id": "v2zOHcq_XYB4",
        "outputId": "cbe429df-4729-484f-c480-b42af7c53e64"
      },
      "source": [
        "Dwelling_filled_differences_all.groupby([\"CENSUS_WARD_NUM\", \"dwelling_id\"]).ngroups"
      ],
      "execution_count": 130,
      "outputs": [
        {
          "output_type": "execute_result",
          "data": {
            "text/plain": [
              "141"
            ]
          },
          "metadata": {
            "tags": []
          },
          "execution_count": 130
        }
      ]
    },
    {
      "cell_type": "code",
      "metadata": {
        "id": "aEZ5BFoPXcW_"
      },
      "source": [
        "Dwelling_filled_differences_all.to_csv(\"/content/dwelling_filled_differences_all_mn_1850.csv\", index = False)"
      ],
      "execution_count": 131,
      "outputs": []
    },
    {
      "cell_type": "markdown",
      "metadata": {
        "id": "sTlYbs0hXnSH"
      },
      "source": [
        "### Conclusion\r\n",
        "Either filling in based on maximum spatial weight or maximum spatial weight sum would make sense, however which one is the better choice is somewhat unclear. Another aspect is that there are often ties between the spatial weights, currently, it's set up to simply select the first option when there's a tie, but it's unclear whether that's the best approach."
      ]
    },
    {
      "cell_type": "markdown",
      "metadata": {
        "id": "fs48COKuXsKi"
      },
      "source": [
        "### Quick sanity check"
      ]
    },
    {
      "cell_type": "code",
      "metadata": {
        "id": "x5A_ihHeXii5"
      },
      "source": [
        "dwell_max = pd.read_csv(\"/content/dwelling_filled_max_1850_mn.csv\")\r\n",
        "dwell_sum = pd.read_csv(\"/content/dwelling_filled_sum_1850_mn.csv\")"
      ],
      "execution_count": 132,
      "outputs": []
    },
    {
      "cell_type": "code",
      "metadata": {
        "colab": {
          "base_uri": "https://localhost:8080/"
        },
        "id": "BIDl5d0BX1Ty",
        "outputId": "3dcf312a-81f7-45f7-9e5c-d431ed97a341"
      },
      "source": [
        "dwell_max.info()"
      ],
      "execution_count": 133,
      "outputs": [
        {
          "output_type": "stream",
          "text": [
            "<class 'pandas.core.frame.DataFrame'>\n",
            "RangeIndex: 515630 entries, 0 to 515629\n",
            "Data columns (total 32 columns):\n",
            " #   Column                   Non-Null Count   Dtype  \n",
            "---  ------                   --------------   -----  \n",
            " 0   CENSUS_SERIALP           515630 non-null  int64  \n",
            " 1   CENSUS_AGE               515630 non-null  int64  \n",
            " 2   CENSUS_SEX               515630 non-null  int64  \n",
            " 3   CENSUS_MARST             515630 non-null  int64  \n",
            " 4   CENSUS_RACE              515630 non-null  int64  \n",
            " 5   CENSUS_LABFORCE          515630 non-null  int64  \n",
            " 6   CENSUS_IMPREL            515630 non-null  int64  \n",
            " 7   CENSUS_OCCSTR            160426 non-null  object \n",
            " 8   CENSUS_NAMELAST          515546 non-null  object \n",
            " 9   CENSUS_NAMEFRST          515046 non-null  object \n",
            " 10  CENSUS_SEQ_NUM           515630 non-null  int64  \n",
            " 11  CENSUS_HH_NUM            515630 non-null  int64  \n",
            " 12  CENSUS_IPUMS_UID         515630 non-null  object \n",
            " 13  CENSUS_CITY              515630 non-null  int64  \n",
            " 14  CENSUS_PAGENO_HOUSEHOLD  515630 non-null  int64  \n",
            " 15  CENSUS_WARD_NUM          515630 non-null  int64  \n",
            " 16  CENSUS_REEL_HOUSEHOLD    515630 non-null  int64  \n",
            " 17  CENSUS_PLACE             515630 non-null  object \n",
            " 18  CENSUS_DWELLING_NUM      514718 non-null  float64\n",
            " 19  CENSUS_DWELLING_SEQ      514020 non-null  float64\n",
            " 20  CENSUS_DWELLING_SIZE     515630 non-null  int64  \n",
            " 21  CENSUS_GEOG              514918 non-null  object \n",
            " 22  CENSUS_LINE              515630 non-null  int64  \n",
            " 23  CENSUS_INDEX             515630 non-null  int64  \n",
            " 24  dwelling_id              515630 non-null  int64  \n",
            " 25  CENSUS_ID                24585 non-null   object \n",
            " 26  CD_H_ADDRESS             274858 non-null  object \n",
            " 27  selected                 24585 non-null   float64\n",
            " 28  spatial_weight           24585 non-null   float64\n",
            " 29  CD_X                     274858 non-null  float64\n",
            " 30  CD_Y                     274858 non-null  float64\n",
            " 31  CD_BLOCK_NUM             274858 non-null  object \n",
            "dtypes: float64(6), int64(17), object(9)\n",
            "memory usage: 125.9+ MB\n"
          ],
          "name": "stdout"
        }
      ]
    },
    {
      "cell_type": "code",
      "metadata": {
        "colab": {
          "base_uri": "https://localhost:8080/"
        },
        "id": "FwNWJhw9X6t_",
        "outputId": "80e326a1-6bc0-476a-88ad-9cd856c0d14f"
      },
      "source": [
        "dwell_sum.info()"
      ],
      "execution_count": 134,
      "outputs": [
        {
          "output_type": "stream",
          "text": [
            "<class 'pandas.core.frame.DataFrame'>\n",
            "RangeIndex: 515630 entries, 0 to 515629\n",
            "Data columns (total 33 columns):\n",
            " #   Column                   Non-Null Count   Dtype  \n",
            "---  ------                   --------------   -----  \n",
            " 0   CENSUS_SERIALP           515630 non-null  int64  \n",
            " 1   CENSUS_AGE               515630 non-null  int64  \n",
            " 2   CENSUS_SEX               515630 non-null  int64  \n",
            " 3   CENSUS_MARST             515630 non-null  int64  \n",
            " 4   CENSUS_RACE              515630 non-null  int64  \n",
            " 5   CENSUS_LABFORCE          515630 non-null  int64  \n",
            " 6   CENSUS_IMPREL            515630 non-null  int64  \n",
            " 7   CENSUS_OCCSTR            160426 non-null  object \n",
            " 8   CENSUS_NAMELAST          515546 non-null  object \n",
            " 9   CENSUS_NAMEFRST          515046 non-null  object \n",
            " 10  CENSUS_SEQ_NUM           515630 non-null  int64  \n",
            " 11  CENSUS_HH_NUM            515630 non-null  int64  \n",
            " 12  CENSUS_IPUMS_UID         515630 non-null  object \n",
            " 13  CENSUS_CITY              515630 non-null  int64  \n",
            " 14  CENSUS_PAGENO_HOUSEHOLD  515630 non-null  int64  \n",
            " 15  CENSUS_WARD_NUM          515630 non-null  int64  \n",
            " 16  CENSUS_REEL_HOUSEHOLD    515630 non-null  int64  \n",
            " 17  CENSUS_PLACE             515630 non-null  object \n",
            " 18  CENSUS_DWELLING_NUM      514718 non-null  float64\n",
            " 19  CENSUS_DWELLING_SEQ      514020 non-null  float64\n",
            " 20  CENSUS_DWELLING_SIZE     515630 non-null  int64  \n",
            " 21  CENSUS_GEOG              514918 non-null  object \n",
            " 22  CENSUS_LINE              515630 non-null  int64  \n",
            " 23  CENSUS_INDEX             515630 non-null  int64  \n",
            " 24  dwelling_id              515630 non-null  int64  \n",
            " 25  CENSUS_ID                24585 non-null   object \n",
            " 26  CD_H_ADDRESS             274858 non-null  object \n",
            " 27  selected                 24585 non-null   float64\n",
            " 28  spatial_weight           24585 non-null   float64\n",
            " 29  CD_X                     274858 non-null  float64\n",
            " 30  CD_Y                     274858 non-null  float64\n",
            " 31  CD_BLOCK_NUM             274858 non-null  object \n",
            " 32  spatial_weight_sum       24585 non-null   float64\n",
            "dtypes: float64(7), int64(17), object(9)\n",
            "memory usage: 129.8+ MB\n"
          ],
          "name": "stdout"
        }
      ]
    },
    {
      "cell_type": "code",
      "metadata": {
        "id": "2Jp3K0tEjMkB"
      },
      "source": [
        ""
      ],
      "execution_count": 134,
      "outputs": []
    }
  ]
}