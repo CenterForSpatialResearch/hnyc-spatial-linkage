{
 "cells": [
  {
   "cell_type": "markdown",
   "metadata": {},
   "source": [
    "The implementation of CV is in `sequences Exploration.ipynb`\n",
    "\n",
    "Check\n",
    "\n",
    "The following uses XGBoost + target encoder all census features\n",
    "1. Fixed + Distance >> 0.63    vs .53\n",
    "2. Fixed >> 0.51    vs  .39\n",
    "3. Distance  >> 0.62    vs .48\n",
    "4. No sequence >>  0.49  vs .35\n",
    "5. dwelling >> 0.51. vs .39\n",
    "6. dwelling + distance >> 0.65  vs  .53   +++++**BEST wo CV**+++++\n",
    "7. dwelling + distance ** with ordinal encoded `CENSUS_dwelling_num` >> 0.63   vs 0.60  ++++**BEST with CV**++++\n",
    "8. dwelling + distance ** with target encoded `CENSUS_dwelling_num` >> 0.60. vs .47  \n",
    "\n",
    "**Conclusion::: dwelling + distance + (all target encoded) + not include `CENSUS_dwelling_num` is best**\n",
    "\n",
    "\n",
    "\n",
    "====== include enumerator data ======\n",
    "9. dwelling + distance + \\[enu_num + enu_date + ancestry_ref\\]  >> 0.64  vs 0.54\n",
    "10. \\[enu_num + enu_date + ancestry_ref\\]  >> 0.50   vs. 0.40\n",
    "11. enu seq >> 0.49  vs. 0.41\n",
    "12. dwelling + distance + enu seq >> 0.62    vs. 52\n",
    "13. enum_dist seq + dwelling + distance + fixed >> 0.67   vs  .53 +++++ **BEST** +++++\n",
    "14. enum_dist seq only >> 0.66  vs  .58  +++++ **BEST w CV** +++++\n",
    "\n",
    "\n",
    "\n",
    "**Conclusion:: a bit improvement when include enum_dist sequence**"
   ]
  },
  {
   "cell_type": "code",
   "execution_count": 1,
   "metadata": {},
   "outputs": [],
   "source": [
    "import os\n",
    "import sys\n",
    "module_path = os.path.abspath(os.path.join('../..'))\n",
    "if module_path not in sys.path:\n",
    "    sys.path.append(module_path)\n",
    "%load_ext autoreload\n",
    "%autoreload 2\n",
    "import pandas as pd\n",
    "import numpy as np\n",
    "from interpolation import CensusData, sequences, BlockInterpolator, \\\n",
    "                        CentroidInterpolator, archive, interpolation\n",
    "from sklearn.pipeline import Pipeline\n",
    "from category_encoders.target_encoder import TargetEncoder\n",
    "from xgboost import XGBClassifier\n",
    "from sklearn.cluster import KMeans, AgglomerativeClustering, DBSCAN\n",
    "from sklearn.preprocessing import OrdinalEncoder\n",
    "from sklearn.compose import make_column_transformer\n",
    "from sklearn.ensemble import RandomForestClassifier\n",
    "import matplotlib.pyplot as plt"
   ]
  },
  {
   "cell_type": "code",
   "execution_count": 2,
   "metadata": {},
   "outputs": [],
   "source": [
    "#Change these values to rerun the notebook\n",
    "filled_1850 = pd.read_csv(\"../../data/dwelling_filled_sum_1850_mn_v01.csv\")\n",
    "cd_1850 = pd.read_csv(\"../../data/cd_1850_XYupdate.csv\") #For calculating centroids\n",
    "filled_1850.rename(columns = {\"CENSUS_WARD_NUM\":\"Ward_Num\", \"CENSUS_SERIALP\":\"CENSUS_SERIALB\", \n",
    "                              \"BLOCK_NUM\":\"block_num\", \"CENSUS_REEL_HOUSEHOLD\":\"CENSUS_REEL\", \n",
    "                              \"CENSUS_SEX\":\"CENSUS_SEXB\", \"CENSUS_PAGENO_HOUSEHOLD\":\"CENSUS_PAGENUM\", \n",
    "                              \"CENSUS_RACE\":\"CENSUS_RACEB\", \"CD_X\":\"cd_X\", \"CD_Y\":\"cd_Y\"}, inplace = True)\n",
    "ward_col = \"Ward_Num\"\n",
    "dwelling_col = \"dwelling_id\"\n",
    "dwelling_col_num = \"CENSUS_DWELLING_NUM\"\n",
    "block_col = \"block_num\"\n",
    "x_col = \"cd_X\"\n",
    "y_col = \"cd_Y\"\n",
    "pagenum = \"CENSUS_PAGENNO\""
   ]
  },
  {
   "cell_type": "code",
   "execution_count": 3,
   "metadata": {},
   "outputs": [
    {
     "data": {
      "text/html": [
       "<div>\n",
       "<style scoped>\n",
       "    .dataframe tbody tr th:only-of-type {\n",
       "        vertical-align: middle;\n",
       "    }\n",
       "\n",
       "    .dataframe tbody tr th {\n",
       "        vertical-align: top;\n",
       "    }\n",
       "\n",
       "    .dataframe thead th {\n",
       "        text-align: right;\n",
       "    }\n",
       "</style>\n",
       "<table border=\"1\" class=\"dataframe\">\n",
       "  <thead>\n",
       "    <tr style=\"text-align: right;\">\n",
       "      <th></th>\n",
       "      <th>block_num</th>\n",
       "      <th>CD_ADDRESS</th>\n",
       "      <th>cd_X</th>\n",
       "      <th>cd_Y</th>\n",
       "      <th>CENSUS_AGE</th>\n",
       "      <th>CENSUS_CITY</th>\n",
       "      <th>CENSUS_DWELLING_NUM</th>\n",
       "      <th>CENSUS_DWELLING_SEQ</th>\n",
       "      <th>CENSUS_DWELLING_SIZE</th>\n",
       "      <th>CENSUS_GEOG</th>\n",
       "      <th>...</th>\n",
       "      <th>CENSUS_PLACE</th>\n",
       "      <th>CENSUS_RACEB</th>\n",
       "      <th>CENSUS_REEL</th>\n",
       "      <th>CENSUS_SEQ_NUM</th>\n",
       "      <th>CENSUS_SERIALB</th>\n",
       "      <th>CENSUS_SEXB</th>\n",
       "      <th>Ward_Num</th>\n",
       "      <th>dwelling_id</th>\n",
       "      <th>spatial_weight</th>\n",
       "      <th>spatial_weight_sum</th>\n",
       "    </tr>\n",
       "  </thead>\n",
       "  <tbody>\n",
       "    <tr>\n",
       "      <th>0</th>\n",
       "      <td>3794.0</td>\n",
       "      <td>37 South</td>\n",
       "      <td>-74.00825</td>\n",
       "      <td>40.703128</td>\n",
       "      <td>49</td>\n",
       "      <td>4610</td>\n",
       "      <td>1.0</td>\n",
       "      <td>1.0</td>\n",
       "      <td>84</td>\n",
       "      <td>NEW YORK WARD 1 EASTERN DIVISION</td>\n",
       "      <td>...</td>\n",
       "      <td>MANHATTAN</td>\n",
       "      <td>120</td>\n",
       "      <td>534</td>\n",
       "      <td>1</td>\n",
       "      <td>2044262</td>\n",
       "      <td>1</td>\n",
       "      <td>1</td>\n",
       "      <td>1</td>\n",
       "      <td>NaN</td>\n",
       "      <td>NaN</td>\n",
       "    </tr>\n",
       "    <tr>\n",
       "      <th>1</th>\n",
       "      <td>3794.0</td>\n",
       "      <td>37 South</td>\n",
       "      <td>-74.00825</td>\n",
       "      <td>40.703128</td>\n",
       "      <td>36</td>\n",
       "      <td>4610</td>\n",
       "      <td>1.0</td>\n",
       "      <td>1.0</td>\n",
       "      <td>84</td>\n",
       "      <td>NEW YORK WARD 1 EASTERN DIVISION</td>\n",
       "      <td>...</td>\n",
       "      <td>MANHATTAN</td>\n",
       "      <td>120</td>\n",
       "      <td>534</td>\n",
       "      <td>2</td>\n",
       "      <td>2044263</td>\n",
       "      <td>2</td>\n",
       "      <td>1</td>\n",
       "      <td>1</td>\n",
       "      <td>NaN</td>\n",
       "      <td>NaN</td>\n",
       "    </tr>\n",
       "  </tbody>\n",
       "</table>\n",
       "<p>2 rows × 32 columns</p>\n",
       "</div>"
      ],
      "text/plain": [
       "   block_num CD_ADDRESS      cd_X       cd_Y  CENSUS_AGE  CENSUS_CITY  \\\n",
       "0     3794.0   37 South -74.00825  40.703128          49         4610   \n",
       "1     3794.0   37 South -74.00825  40.703128          36         4610   \n",
       "\n",
       "   CENSUS_DWELLING_NUM  CENSUS_DWELLING_SEQ  CENSUS_DWELLING_SIZE  \\\n",
       "0                  1.0                  1.0                    84   \n",
       "1                  1.0                  1.0                    84   \n",
       "\n",
       "                        CENSUS_GEOG  ...  CENSUS_PLACE CENSUS_RACEB  \\\n",
       "0  NEW YORK WARD 1 EASTERN DIVISION  ...     MANHATTAN          120   \n",
       "1  NEW YORK WARD 1 EASTERN DIVISION  ...     MANHATTAN          120   \n",
       "\n",
       "   CENSUS_REEL  CENSUS_SEQ_NUM CENSUS_SERIALB  CENSUS_SEXB  Ward_Num  \\\n",
       "0          534               1        2044262            1         1   \n",
       "1          534               2        2044263            2         1   \n",
       "\n",
       "   dwelling_id spatial_weight spatial_weight_sum  \n",
       "0            1            NaN                NaN  \n",
       "1            1            NaN                NaN  \n",
       "\n",
       "[2 rows x 32 columns]"
      ]
     },
     "execution_count": 3,
     "metadata": {},
     "output_type": "execute_result"
    }
   ],
   "source": [
    "filled_1850.head(2)"
   ]
  },
  {
   "cell_type": "code",
   "execution_count": 4,
   "metadata": {},
   "outputs": [
    {
     "data": {
      "text/html": [
       "<div>\n",
       "<style scoped>\n",
       "    .dataframe tbody tr th:only-of-type {\n",
       "        vertical-align: middle;\n",
       "    }\n",
       "\n",
       "    .dataframe tbody tr th {\n",
       "        vertical-align: top;\n",
       "    }\n",
       "\n",
       "    .dataframe thead th {\n",
       "        text-align: right;\n",
       "    }\n",
       "</style>\n",
       "<table border=\"1\" class=\"dataframe\">\n",
       "  <thead>\n",
       "    <tr style=\"text-align: right;\">\n",
       "      <th></th>\n",
       "      <th>OBJECTID</th>\n",
       "      <th>Join_Count</th>\n",
       "      <th>TARGET_FID</th>\n",
       "      <th>Join_Cou_1</th>\n",
       "      <th>TARGET_F_1</th>\n",
       "      <th>id</th>\n",
       "      <th>type</th>\n",
       "      <th>name</th>\n",
       "      <th>F__data_pa</th>\n",
       "      <th>F__data_te</th>\n",
       "      <th>...</th>\n",
       "      <th>cd_full__1</th>\n",
       "      <th>cd_full_re</th>\n",
       "      <th>cd_occupat</th>\n",
       "      <th>cd_addr</th>\n",
       "      <th>street_add</th>\n",
       "      <th>street_nam</th>\n",
       "      <th>Ward_Num</th>\n",
       "      <th>block_num</th>\n",
       "      <th>cd_X</th>\n",
       "      <th>cd_Y</th>\n",
       "    </tr>\n",
       "  </thead>\n",
       "  <tbody>\n",
       "    <tr>\n",
       "      <th>0</th>\n",
       "      <td>1</td>\n",
       "      <td>1</td>\n",
       "      <td>1</td>\n",
       "      <td>1</td>\n",
       "      <td>1</td>\n",
       "      <td>1850-1851.169.63-215-566-246</td>\n",
       "      <td>st:Person</td>\n",
       "      <td>Evans Francis</td>\n",
       "      <td>169</td>\n",
       "      <td>Evans Francis, painter, 130 Av. C</td>\n",
       "      <td>...</td>\n",
       "      <td>Francis Evans</td>\n",
       "      <td>Evans Francis, painter, 130 Av. C</td>\n",
       "      <td>painter</td>\n",
       "      <td>130 Av . C</td>\n",
       "      <td>130 Avenue C</td>\n",
       "      <td>Avenue C</td>\n",
       "      <td>11.0</td>\n",
       "      <td>310</td>\n",
       "      <td>-73.978096</td>\n",
       "      <td>40.724956</td>\n",
       "    </tr>\n",
       "    <tr>\n",
       "      <th>1</th>\n",
       "      <td>2</td>\n",
       "      <td>1</td>\n",
       "      <td>2</td>\n",
       "      <td>1</td>\n",
       "      <td>2</td>\n",
       "      <td>1850-1851.169.63-342-684-374</td>\n",
       "      <td>st:Person</td>\n",
       "      <td>Evans George</td>\n",
       "      <td>169</td>\n",
       "      <td>Evans George, pilot, 116 Wall, h. 9 Dover</td>\n",
       "      <td>...</td>\n",
       "      <td>George Evans</td>\n",
       "      <td>Evans George, pilot, 116 Wall, h. 9 Dover</td>\n",
       "      <td>pilot</td>\n",
       "      <td>116 Wall</td>\n",
       "      <td>9 Dover Street</td>\n",
       "      <td>Dover Street</td>\n",
       "      <td>4.0</td>\n",
       "      <td>29</td>\n",
       "      <td>-74.000970</td>\n",
       "      <td>40.709062</td>\n",
       "    </tr>\n",
       "  </tbody>\n",
       "</table>\n",
       "<p>2 rows × 24 columns</p>\n",
       "</div>"
      ],
      "text/plain": [
       "   OBJECTID  Join_Count  TARGET_FID  Join_Cou_1  TARGET_F_1  \\\n",
       "0         1           1           1           1           1   \n",
       "1         2           1           2           1           2   \n",
       "\n",
       "                             id       type           name  F__data_pa  \\\n",
       "0  1850-1851.169.63-215-566-246  st:Person  Evans Francis         169   \n",
       "1  1850-1851.169.63-342-684-374  st:Person   Evans George         169   \n",
       "\n",
       "                                  F__data_te  ...     cd_full__1  \\\n",
       "0          Evans Francis, painter, 130 Av. C  ...  Francis Evans   \n",
       "1  Evans George, pilot, 116 Wall, h. 9 Dover  ...   George Evans   \n",
       "\n",
       "                                  cd_full_re cd_occupat     cd_addr  \\\n",
       "0          Evans Francis, painter, 130 Av. C    painter  130 Av . C   \n",
       "1  Evans George, pilot, 116 Wall, h. 9 Dover      pilot    116 Wall   \n",
       "\n",
       "       street_add    street_nam Ward_Num block_num       cd_X       cd_Y  \n",
       "0    130 Avenue C      Avenue C     11.0       310 -73.978096  40.724956  \n",
       "1  9 Dover Street  Dover Street      4.0        29 -74.000970  40.709062  \n",
       "\n",
       "[2 rows x 24 columns]"
      ]
     },
     "execution_count": 4,
     "metadata": {},
     "output_type": "execute_result"
    }
   ],
   "source": [
    "cd_1850.head(2)"
   ]
  },
  {
   "cell_type": "code",
   "execution_count": 5,
   "metadata": {},
   "outputs": [],
   "source": [
    "#set clustering algo -- this is to make sure that the same clustering algorithm is used\n",
    "#for each model, to ensure that testing is accurate\n",
    "#note fitting before hand won't work for all types of clustering, for example, with agglomerative\n",
    "#clustering this isn't going to work because the algorithm doesn't have a predict method\n",
    "block_centroids = {ward:{block:interpolation.make_centroid(df_block[x_col], df_block[y_col]) for block, df_block in df.groupby(block_col)} for ward,df in cd_1850.groupby(ward_col)}"
   ]
  },
  {
   "cell_type": "markdown",
   "metadata": {},
   "source": [
    "# Fixed + Distance"
   ]
  },
  {
   "cell_type": "code",
   "execution_count": 6,
   "metadata": {},
   "outputs": [],
   "source": [
    "census_data = CensusData(filled_1850, ward_col=ward_col, dwelling_col=dwelling_col, \n",
    "                         block_col =  block_col, x_col = x_col, y_col = y_col, pagenum = pagenum)\n",
    "census_data.apply_sequencing(fixed = True, distance = True)"
   ]
  },
  {
   "cell_type": "code",
   "execution_count": 7,
   "metadata": {},
   "outputs": [],
   "source": [
    "all_cols = [\"CENSUS_SERIALB\", \"CENSUS_AGE\", \"CENSUS_PAGENUM\", \"CENSUS_SEXB\", \"CENSUS_RACEB\", \n",
    "            \"sequence_id\", \"CENSUS_DWELLING_SIZE\",\"CENSUS_SEQ_NUM\", \"CENSUS_LABFORCE\", \"CENSUS_LINE\", \n",
    "            \"CENSUS_MARST\", \"CENSUS_NAMEFRST\", \"CENSUS_NAMELAST\", \"CENSUS_OCCSTR\", \"CENSUS_IMPREL\", \n",
    "            \"CENSUS_ID\", \"sequence_order_enum\", 'CENSUS_DWELLING_SEQ', \"fixed_seq\"]\n",
    "block_boost = Pipeline([('preprocess', TargetEncoder(cols = [\"CENSUS_SERIALB\", \"CENSUS_AGE\", \"CENSUS_PAGENUM\", \n",
    "                                                             \"CENSUS_SEXB\", \"CENSUS_RACEB\", \"sequence_id\", \n",
    "                                                             \"CENSUS_DWELLING_SIZE\",\"CENSUS_SEQ_NUM\", \n",
    "                                                             \"CENSUS_LABFORCE\", \"CENSUS_LINE\", \"CENSUS_MARST\", \n",
    "                                                             \"CENSUS_NAMEFRST\", \"CENSUS_NAMELAST\", \n",
    "                                                             \"CENSUS_OCCSTR\", \"CENSUS_IMPREL\", \"CENSUS_ID\", \n",
    "                                                             \"sequence_order_enum\", 'CENSUS_DWELLING_SEQ', \n",
    "                                                             \"fixed_seq\"])),\n",
    "                        ('classifier', XGBClassifier(colsample_bytree = 0.6, max_depth = 2, n_estimators = 50))])"
   ]
  },
  {
   "cell_type": "code",
   "execution_count": 8,
   "metadata": {},
   "outputs": [],
   "source": [
    "interpolate_sequences = CentroidInterpolator(census_data, 10, block_boost, all_cols, KMeans(5), block_centroids)"
   ]
  },
  {
   "cell_type": "code",
   "execution_count": 9,
   "metadata": {},
   "outputs": [
    {
     "name": "stdout",
     "output_type": "stream",
     "text": [
      "n is 5 and it's the 0th iteration\n",
      "n is 5 and it's the 50th iteration\n"
     ]
    }
   ],
   "source": [
    "score, model = interpolate_sequences.kmeans_best(5)\n",
    "interpolate_sequences.set_clustering_algo(model)\n",
    "interpolate_sequences.apply_clustering(algo_fit = True)\n",
    "# interpolate_sequences.clustervis(kmeans = True)"
   ]
  },
  {
   "cell_type": "code",
   "execution_count": 10,
   "metadata": {},
   "outputs": [
    {
     "name": "stdout",
     "output_type": "stream",
     "text": [
      "Training score: 1.0\n",
      "Test score: 0.636523266022827\n"
     ]
    }
   ],
   "source": [
    "train,test = interpolate_sequences.stratified_train_test()\n",
    "interpolate_sequences.train_test_model(train, test)\n",
    "\n",
    "print(\"Training score:\",interpolate_sequences.train_score)\n",
    "print(\"Test score:\", interpolate_sequences.test_score)"
   ]
  },
  {
   "cell_type": "code",
   "execution_count": 11,
   "metadata": {},
   "outputs": [
    {
     "data": {
      "text/plain": [
       "Index(['block_num', 'CD_ADDRESS', 'cd_X', 'cd_Y', 'CENSUS_AGE', 'CENSUS_CITY',\n",
       "       'CENSUS_DWELLING_NUM', 'CENSUS_DWELLING_SEQ', 'CENSUS_DWELLING_SIZE',\n",
       "       'CENSUS_GEOG', 'CENSUS_HH_NUM', 'CENSUS_ID', 'CENSUS_IMPREL',\n",
       "       'CENSUS_INDEX', 'CENSUS_IPUMS_UID', 'CENSUS_LABFORCE', 'CENSUS_LINE',\n",
       "       'CENSUS_MARST', 'CENSUS_NAMEFRST', 'CENSUS_NAMELAST', 'CENSUS_OCCSTR',\n",
       "       'CENSUS_PAGENUM', 'CENSUS_PLACE', 'CENSUS_RACEB', 'CENSUS_REEL',\n",
       "       'CENSUS_SEQ_NUM', 'CENSUS_SERIALB', 'CENSUS_SEXB', 'Ward_Num',\n",
       "       'dwelling_id', 'spatial_weight', 'spatial_weight_sum'],\n",
       "      dtype='object')"
      ]
     },
     "execution_count": 11,
     "metadata": {},
     "output_type": "execute_result"
    }
   ],
   "source": [
    "census_data.data.columns"
   ]
  },
  {
   "cell_type": "code",
   "execution_count": 12,
   "metadata": {},
   "outputs": [
    {
     "data": {
      "text/plain": [
       "Index(['block_num', 'CD_ADDRESS', 'cd_X', 'cd_Y', 'CENSUS_AGE', 'CENSUS_CITY',\n",
       "       'CENSUS_DWELLING_NUM', 'CENSUS_DWELLING_SEQ', 'CENSUS_DWELLING_SIZE',\n",
       "       'CENSUS_GEOG', 'CENSUS_HH_NUM', 'CENSUS_ID', 'CENSUS_IMPREL',\n",
       "       'CENSUS_INDEX', 'CENSUS_IPUMS_UID', 'CENSUS_LABFORCE', 'CENSUS_LINE',\n",
       "       'CENSUS_MARST', 'CENSUS_NAMEFRST', 'CENSUS_NAMELAST', 'CENSUS_OCCSTR',\n",
       "       'CENSUS_PAGENUM', 'CENSUS_PLACE', 'CENSUS_RACEB', 'CENSUS_REEL',\n",
       "       'CENSUS_SEQ_NUM', 'CENSUS_SERIALB', 'CENSUS_SEXB', 'Ward_Num',\n",
       "       'dwelling_id', 'spatial_weight', 'spatial_weight_sum', 'sequence_id',\n",
       "       'num_between', 'sequence_order_enum', 'dist', 'sequence_len',\n",
       "       'fixed_seq'],\n",
       "      dtype='object')"
      ]
     },
     "execution_count": 12,
     "metadata": {},
     "output_type": "execute_result"
    }
   ],
   "source": [
    "## fixed + distance\n",
    "census_data.df.columns"
   ]
  },
  {
   "cell_type": "markdown",
   "metadata": {},
   "source": [
    "# Fixed"
   ]
  },
  {
   "cell_type": "code",
   "execution_count": 13,
   "metadata": {},
   "outputs": [],
   "source": [
    "census_data.apply_sequencing(fixed = True)\n",
    "all_cols = [\"CENSUS_SERIALB\", \"CENSUS_AGE\", \"CENSUS_PAGENUM\", \"CENSUS_SEXB\", \"CENSUS_RACEB\", \n",
    "            \"CENSUS_DWELLING_SIZE\",\"CENSUS_SEQ_NUM\", \"CENSUS_LABFORCE\", \"CENSUS_LINE\", \n",
    "            \"CENSUS_MARST\", \"CENSUS_NAMEFRST\", \"CENSUS_NAMELAST\", \"CENSUS_OCCSTR\", \"CENSUS_IMPREL\", \n",
    "            'CENSUS_DWELLING_SEQ', \"fixed_seq\"]\n",
    "block_boost = Pipeline([('preprocess', TargetEncoder(cols = [\"CENSUS_SERIALB\", \"CENSUS_AGE\", \"CENSUS_PAGENUM\", \"CENSUS_SEXB\", \"CENSUS_RACEB\", \"CENSUS_DWELLING_SIZE\",\"CENSUS_SEQ_NUM\", \"CENSUS_LABFORCE\", \"CENSUS_LINE\", \"CENSUS_MARST\", \"CENSUS_NAMEFRST\", \"CENSUS_NAMELAST\", \"CENSUS_OCCSTR\", \"CENSUS_IMPREL\",'CENSUS_DWELLING_SEQ', \"fixed_seq\"])),\n",
    "                        ('classifier', XGBClassifier(colsample_bytree = 0.6, max_depth = 2, n_estimators = 50))])\n",
    "interpolate_fixed = CentroidInterpolator(census_data, 10, block_boost, all_cols, KMeans(5), block_centroids)"
   ]
  },
  {
   "cell_type": "code",
   "execution_count": 14,
   "metadata": {},
   "outputs": [
    {
     "name": "stdout",
     "output_type": "stream",
     "text": [
      "n is 5 and it's the 0th iteration\n",
      "n is 5 and it's the 50th iteration\n"
     ]
    }
   ],
   "source": [
    "score, model = interpolate_fixed.kmeans_best(5)\n",
    "interpolate_fixed.set_clustering_algo(model)\n",
    "interpolate_fixed.apply_clustering(algo_fit = True)"
   ]
  },
  {
   "cell_type": "code",
   "execution_count": 15,
   "metadata": {},
   "outputs": [],
   "source": [
    "train,test = interpolate_fixed.stratified_train_test()\n",
    "interpolate_fixed.train_test_model(train, test)"
   ]
  },
  {
   "cell_type": "code",
   "execution_count": 16,
   "metadata": {},
   "outputs": [
    {
     "name": "stdout",
     "output_type": "stream",
     "text": [
      "Training score: 1.0\n",
      "Test score: 0.510586319218241\n"
     ]
    }
   ],
   "source": [
    "print(\"Training score:\",interpolate_fixed.train_score)\n",
    "print(\"Test score:\", interpolate_fixed.test_score)"
   ]
  },
  {
   "cell_type": "code",
   "execution_count": 17,
   "metadata": {},
   "outputs": [
    {
     "data": {
      "text/plain": [
       "(515630, 33)"
      ]
     },
     "execution_count": 17,
     "metadata": {},
     "output_type": "execute_result"
    }
   ],
   "source": [
    "## fixed\n",
    "census_data.df.shape"
   ]
  },
  {
   "cell_type": "code",
   "execution_count": 18,
   "metadata": {},
   "outputs": [
    {
     "data": {
      "text/plain": [
       "Index(['block_num', 'CD_ADDRESS', 'cd_X', 'cd_Y', 'CENSUS_AGE', 'CENSUS_CITY',\n",
       "       'CENSUS_DWELLING_NUM', 'CENSUS_DWELLING_SEQ', 'CENSUS_DWELLING_SIZE',\n",
       "       'CENSUS_GEOG', 'CENSUS_HH_NUM', 'CENSUS_ID', 'CENSUS_IMPREL',\n",
       "       'CENSUS_INDEX', 'CENSUS_IPUMS_UID', 'CENSUS_LABFORCE', 'CENSUS_LINE',\n",
       "       'CENSUS_MARST', 'CENSUS_NAMEFRST', 'CENSUS_NAMELAST', 'CENSUS_OCCSTR',\n",
       "       'CENSUS_PAGENUM', 'CENSUS_PLACE', 'CENSUS_RACEB', 'CENSUS_REEL',\n",
       "       'CENSUS_SEQ_NUM', 'CENSUS_SERIALB', 'CENSUS_SEXB', 'Ward_Num',\n",
       "       'dwelling_id', 'spatial_weight', 'spatial_weight_sum', 'fixed_seq'],\n",
       "      dtype='object')"
      ]
     },
     "execution_count": 18,
     "metadata": {},
     "output_type": "execute_result"
    }
   ],
   "source": [
    "census_data.df.columns"
   ]
  },
  {
   "cell_type": "code",
   "execution_count": 19,
   "metadata": {},
   "outputs": [
    {
     "data": {
      "text/plain": [
       "16"
      ]
     },
     "execution_count": 19,
     "metadata": {},
     "output_type": "execute_result"
    }
   ],
   "source": [
    "len(all_cols)"
   ]
  },
  {
   "cell_type": "markdown",
   "metadata": {},
   "source": [
    "# Distance"
   ]
  },
  {
   "cell_type": "code",
   "execution_count": 20,
   "metadata": {},
   "outputs": [],
   "source": [
    "## distance\n",
    "census_data.apply_sequencing(distance = True)\n",
    "all_cols = [\"CENSUS_SERIALB\", \"CENSUS_AGE\", \"CENSUS_PAGENUM\", \"CENSUS_SEXB\", \"CENSUS_RACEB\", \n",
    "            \"sequence_id\", \"CENSUS_DWELLING_SIZE\",\"CENSUS_SEQ_NUM\", \"CENSUS_LABFORCE\", \"CENSUS_LINE\", \n",
    "            \"CENSUS_MARST\", \"CENSUS_NAMEFRST\", \"CENSUS_NAMELAST\", \"CENSUS_OCCSTR\", \"CENSUS_IMPREL\",\n",
    "            \"sequence_order_enum\", 'CENSUS_DWELLING_SEQ']\n",
    "block_boost = Pipeline([('preprocess', TargetEncoder(cols = [\"CENSUS_SERIALB\", \"CENSUS_AGE\", \"CENSUS_PAGENUM\", \n",
    "                                                             \"CENSUS_SEXB\", \"CENSUS_RACEB\", \"sequence_id\", \n",
    "                                                             \"CENSUS_DWELLING_SIZE\",\"CENSUS_SEQ_NUM\", \n",
    "                                                             \"CENSUS_LABFORCE\", \"CENSUS_LINE\", \"CENSUS_MARST\", \n",
    "                                                             \"CENSUS_NAMEFRST\", \"CENSUS_NAMELAST\", \n",
    "                                                             \"CENSUS_OCCSTR\", \"CENSUS_IMPREL\",  \n",
    "                                                             \"sequence_order_enum\", 'CENSUS_DWELLING_SEQ'])),\n",
    "                        ('classifier', XGBClassifier(colsample_bytree = 0.6, max_depth = 2, n_estimators = 50))])"
   ]
  },
  {
   "cell_type": "code",
   "execution_count": 21,
   "metadata": {},
   "outputs": [
    {
     "name": "stdout",
     "output_type": "stream",
     "text": [
      "n is 5 and it's the 0th iteration\n",
      "n is 5 and it's the 50th iteration\n"
     ]
    }
   ],
   "source": [
    "interpolate_distance = CentroidInterpolator(census_data, 10, block_boost, all_cols, KMeans(5), block_centroids)\n",
    "score, model = interpolate_distance.kmeans_best(5)\n",
    "interpolate_distance.set_clustering_algo(model)\n",
    "interpolate_distance.apply_clustering(algo_fit = True)"
   ]
  },
  {
   "cell_type": "code",
   "execution_count": 22,
   "metadata": {},
   "outputs": [
    {
     "name": "stdout",
     "output_type": "stream",
     "text": [
      "Training score: 1.0\n",
      "Test score: 0.6407599309153713\n"
     ]
    }
   ],
   "source": [
    "train,test = interpolate_distance.stratified_train_test()\n",
    "interpolate_distance.train_test_model(train, test)\n",
    "print(\"Training score:\",interpolate_distance.train_score)\n",
    "print(\"Test score:\", interpolate_distance.test_score)"
   ]
  },
  {
   "cell_type": "code",
   "execution_count": 23,
   "metadata": {},
   "outputs": [
    {
     "data": {
      "text/plain": [
       "Index(['block_num', 'CD_ADDRESS', 'cd_X', 'cd_Y', 'CENSUS_AGE', 'CENSUS_CITY',\n",
       "       'CENSUS_DWELLING_NUM', 'CENSUS_DWELLING_SEQ', 'CENSUS_DWELLING_SIZE',\n",
       "       'CENSUS_GEOG', 'CENSUS_HH_NUM', 'CENSUS_ID', 'CENSUS_IMPREL',\n",
       "       'CENSUS_INDEX', 'CENSUS_IPUMS_UID', 'CENSUS_LABFORCE', 'CENSUS_LINE',\n",
       "       'CENSUS_MARST', 'CENSUS_NAMEFRST', 'CENSUS_NAMELAST', 'CENSUS_OCCSTR',\n",
       "       'CENSUS_PAGENUM', 'CENSUS_PLACE', 'CENSUS_RACEB', 'CENSUS_REEL',\n",
       "       'CENSUS_SEQ_NUM', 'CENSUS_SERIALB', 'CENSUS_SEXB', 'Ward_Num',\n",
       "       'dwelling_id', 'spatial_weight', 'spatial_weight_sum', 'sequence_id',\n",
       "       'num_between', 'sequence_order_enum', 'dist', 'sequence_len'],\n",
       "      dtype='object')"
      ]
     },
     "execution_count": 23,
     "metadata": {},
     "output_type": "execute_result"
    }
   ],
   "source": [
    "## distance\n",
    "census_data.df.columns"
   ]
  },
  {
   "cell_type": "markdown",
   "metadata": {},
   "source": [
    "# No seq"
   ]
  },
  {
   "cell_type": "code",
   "execution_count": 24,
   "metadata": {},
   "outputs": [],
   "source": [
    "census_data.no_seq()\n",
    "\n",
    "all_cols = [\"CENSUS_SERIALB\", \"CENSUS_AGE\", \"CENSUS_PAGENUM\", \"CENSUS_SEXB\", \n",
    "            \"CENSUS_RACEB\",\"CENSUS_DWELLING_SIZE\",\"CENSUS_SEQ_NUM\", \"CENSUS_LABFORCE\", \n",
    "            \"CENSUS_LINE\", \"CENSUS_MARST\", \"CENSUS_NAMEFRST\", \"CENSUS_NAMELAST\", \"CENSUS_OCCSTR\", \n",
    "            \"CENSUS_IMPREL\",'CENSUS_DWELLING_SEQ']\n",
    "block_boost = Pipeline([('preprocess', TargetEncoder(cols = [\"CENSUS_SERIALB\", \"CENSUS_AGE\", \"CENSUS_PAGENUM\", \n",
    "                                                             \"CENSUS_SEXB\", \"CENSUS_RACEB\", \"CENSUS_DWELLING_SIZE\",\n",
    "                                                             \"CENSUS_SEQ_NUM\", \"CENSUS_LABFORCE\", \"CENSUS_LINE\", \n",
    "                                                             \"CENSUS_MARST\", \"CENSUS_NAMEFRST\", \"CENSUS_NAMELAST\", \n",
    "                                                             \"CENSUS_OCCSTR\", \"CENSUS_IMPREL\",'CENSUS_DWELLING_SEQ'])),\n",
    "                        ('classifier', XGBClassifier(colsample_bytree = 0.6, max_depth = 2, n_estimators = 50))])"
   ]
  },
  {
   "cell_type": "code",
   "execution_count": 25,
   "metadata": {},
   "outputs": [
    {
     "name": "stdout",
     "output_type": "stream",
     "text": [
      "n is 5 and it's the 0th iteration\n",
      "n is 5 and it's the 50th iteration\n"
     ]
    }
   ],
   "source": [
    "interpolate_noseq = CentroidInterpolator(census_data, 10, block_boost, all_cols, KMeans(5), block_centroids)\n",
    "score, model = interpolate_noseq.kmeans_best(5)\n",
    "interpolate_noseq.set_clustering_algo(model)\n",
    "interpolate_noseq.apply_clustering(algo_fit = True)"
   ]
  },
  {
   "cell_type": "code",
   "execution_count": 26,
   "metadata": {},
   "outputs": [
    {
     "name": "stdout",
     "output_type": "stream",
     "text": [
      "Training score: 1.0\n",
      "Test score: 0.4921996879875195\n"
     ]
    }
   ],
   "source": [
    "train,test = interpolate_noseq.stratified_train_test()\n",
    "interpolate_noseq.train_test_model(train, test)\n",
    "print(\"Training score:\",interpolate_noseq.train_score)\n",
    "print(\"Test score:\", interpolate_noseq.test_score)"
   ]
  },
  {
   "cell_type": "code",
   "execution_count": 27,
   "metadata": {},
   "outputs": [
    {
     "data": {
      "text/plain": [
       "Index(['block_num', 'CD_ADDRESS', 'cd_X', 'cd_Y', 'CENSUS_AGE', 'CENSUS_CITY',\n",
       "       'CENSUS_DWELLING_NUM', 'CENSUS_DWELLING_SEQ', 'CENSUS_DWELLING_SIZE',\n",
       "       'CENSUS_GEOG', 'CENSUS_HH_NUM', 'CENSUS_ID', 'CENSUS_IMPREL',\n",
       "       'CENSUS_INDEX', 'CENSUS_IPUMS_UID', 'CENSUS_LABFORCE', 'CENSUS_LINE',\n",
       "       'CENSUS_MARST', 'CENSUS_NAMEFRST', 'CENSUS_NAMELAST', 'CENSUS_OCCSTR',\n",
       "       'CENSUS_PAGENUM', 'CENSUS_PLACE', 'CENSUS_RACEB', 'CENSUS_REEL',\n",
       "       'CENSUS_SEQ_NUM', 'CENSUS_SERIALB', 'CENSUS_SEXB', 'Ward_Num',\n",
       "       'dwelling_id', 'spatial_weight', 'spatial_weight_sum'],\n",
       "      dtype='object')"
      ]
     },
     "execution_count": 27,
     "metadata": {},
     "output_type": "execute_result"
    }
   ],
   "source": [
    "## no seq\n",
    "census_data.df.columns"
   ]
  },
  {
   "cell_type": "markdown",
   "metadata": {},
   "source": [
    "# dwelling_col_num sequence id "
   ]
  },
  {
   "cell_type": "code",
   "execution_count": 28,
   "metadata": {},
   "outputs": [],
   "source": [
    "all_cols = [\"CENSUS_SERIALB\", \"CENSUS_AGE\", \"CENSUS_PAGENUM\", \"CENSUS_SEXB\", \n",
    "            \"CENSUS_RACEB\",\"CENSUS_DWELLING_SIZE\",\"CENSUS_SEQ_NUM\", \"CENSUS_LABFORCE\", \n",
    "            \"CENSUS_LINE\", \"CENSUS_MARST\", \"CENSUS_NAMEFRST\", \"CENSUS_NAMELAST\", \n",
    "            \"CENSUS_OCCSTR\", \"CENSUS_IMPREL\",'CENSUS_DWELLING_SEQ', \"dwelling_seq_id\"]\n",
    "block_boost = Pipeline([('preprocess', TargetEncoder(cols = [\"CENSUS_SERIALB\", \"CENSUS_AGE\", \"CENSUS_PAGENUM\", \n",
    "                                                             \"CENSUS_SEXB\", \"CENSUS_RACEB\", \"CENSUS_DWELLING_SIZE\",\n",
    "                                                             \"CENSUS_SEQ_NUM\", \"CENSUS_LABFORCE\", \"CENSUS_LINE\", \n",
    "                                                             \"CENSUS_MARST\", \"CENSUS_NAMEFRST\", \"CENSUS_NAMELAST\",\n",
    "                                                             \"CENSUS_OCCSTR\", \"CENSUS_IMPREL\",'CENSUS_DWELLING_SEQ',\n",
    "                                                             \"dwelling_seq_id\"])),\n",
    "                        ('classifier', XGBClassifier(colsample_bytree = 0.6, max_depth = 2, n_estimators = 50))])"
   ]
  },
  {
   "cell_type": "code",
   "execution_count": 29,
   "metadata": {},
   "outputs": [
    {
     "name": "stdout",
     "output_type": "stream",
     "text": [
      "n is 5 and it's the 0th iteration\n",
      "n is 5 and it's the 50th iteration\n"
     ]
    }
   ],
   "source": [
    "census_data.apply_sequencing(dwelling = True)\n",
    "interpolate_dwell = CentroidInterpolator(census_data, 10, block_boost, all_cols, KMeans(5), block_centroids)\n",
    "score, model = interpolate_dwell.kmeans_best(5)\n",
    "interpolate_dwell.set_clustering_algo(model)\n",
    "interpolate_dwell.apply_clustering(algo_fit = True)\n",
    "# interpolate_dwell.clustervis(kmeans = True)"
   ]
  },
  {
   "cell_type": "code",
   "execution_count": 30,
   "metadata": {},
   "outputs": [
    {
     "name": "stdout",
     "output_type": "stream",
     "text": [
      "Training score: 1.0\n",
      "Test score: 0.48947368421052634\n"
     ]
    }
   ],
   "source": [
    "train,test = interpolate_dwell.stratified_train_test()\n",
    "interpolate_dwell.train_test_model(train, test)\n",
    "print(\"Training score:\",interpolate_dwell.train_score)\n",
    "print(\"Test score:\", interpolate_dwell.test_score)"
   ]
  },
  {
   "cell_type": "markdown",
   "metadata": {},
   "source": [
    "# dwelling and distance"
   ]
  },
  {
   "cell_type": "code",
   "execution_count": 31,
   "metadata": {},
   "outputs": [],
   "source": [
    "#I think dwelling num would need to be preprocessed\n",
    "all_cols = [\"CENSUS_SERIALB\", \"CENSUS_AGE\", \"CENSUS_PAGENUM\", \"CENSUS_SEXB\", \"CENSUS_RACEB\",\n",
    "            \"CENSUS_DWELLING_SIZE\",\"CENSUS_SEQ_NUM\", \"CENSUS_LABFORCE\", \"CENSUS_LINE\", \"CENSUS_MARST\", \n",
    "            \"CENSUS_NAMEFRST\", \"CENSUS_NAMELAST\", \"CENSUS_OCCSTR\", \"CENSUS_IMPREL\",'CENSUS_DWELLING_SEQ', \n",
    "            \"sequence_order_enum\", \"sequence_id\", \"dwelling_seq_id\"]\n",
    "block_boost = Pipeline([('preprocess', TargetEncoder(cols = [\"CENSUS_SERIALB\", \"CENSUS_AGE\", \"CENSUS_PAGENUM\", \n",
    "                                                             \"CENSUS_SEXB\", \"CENSUS_RACEB\", \"CENSUS_DWELLING_SIZE\",\n",
    "                                                             \"CENSUS_SEQ_NUM\", \"CENSUS_LABFORCE\", \"CENSUS_LINE\", \n",
    "                                                             \"CENSUS_MARST\", \"CENSUS_NAMEFRST\", \"CENSUS_NAMELAST\", \n",
    "                                                             \"CENSUS_OCCSTR\", \"CENSUS_IMPREL\",'CENSUS_DWELLING_SEQ',\n",
    "                                                             \"sequence_order_enum\", \"sequence_id\", \"dwelling_seq_id\"])),\n",
    "                        ('classifier', XGBClassifier(colsample_bytree = 0.6, max_depth = 2, n_estimators = 50))])"
   ]
  },
  {
   "cell_type": "code",
   "execution_count": 32,
   "metadata": {},
   "outputs": [
    {
     "name": "stdout",
     "output_type": "stream",
     "text": [
      "n is 5 and it's the 0th iteration\n",
      "n is 5 and it's the 50th iteration\n"
     ]
    }
   ],
   "source": [
    "census_data.apply_sequencing(distance = True, dwelling = True)\n",
    "interpolate_dwell_dist = CentroidInterpolator(census_data, 10, block_boost, all_cols, KMeans(5), block_centroids)\n",
    "score, model = interpolate_dwell_dist.kmeans_best(5)\n",
    "interpolate_dwell_dist.set_clustering_algo(model)\n",
    "interpolate_dwell_dist.apply_clustering(algo_fit = True)\n",
    "# interpolate_dwell_dist.clustervis(kmeans = True)"
   ]
  },
  {
   "cell_type": "code",
   "execution_count": 33,
   "metadata": {},
   "outputs": [
    {
     "name": "stdout",
     "output_type": "stream",
     "text": [
      "Training score: 1.0\n",
      "Test score: 0.6545768566493955\n"
     ]
    }
   ],
   "source": [
    "train,test = interpolate_dwell_dist.stratified_train_test()\n",
    "interpolate_dwell_dist.train_test_model(train, test)\n",
    "print(\"Training score:\",interpolate_dwell_dist.train_score)\n",
    "print(\"Test score:\", interpolate_dwell_dist.test_score)"
   ]
  },
  {
   "cell_type": "markdown",
   "metadata": {},
   "source": [
    "# ** Include `CENSUS_dwelling_num`\n",
    "\n",
    "Tabitha: `dwelling_col_num` should be processed"
   ]
  },
  {
   "cell_type": "markdown",
   "metadata": {},
   "source": [
    "### Ordinal encoded `CENSUS_DWELLING_NUM` "
   ]
  },
  {
   "cell_type": "code",
   "execution_count": 34,
   "metadata": {},
   "outputs": [],
   "source": [
    "## take the first record of each ward_num and dwelling_id pair\n",
    "dwellings_1850 = filled_1850.groupby([ward_col, dwelling_col], as_index = False).first()"
   ]
  },
  {
   "cell_type": "code",
   "execution_count": 35,
   "metadata": {},
   "outputs": [],
   "source": [
    "#Ordinal encoding (leaving as numeric)\n",
    "all_cols = [\"CENSUS_DWELLING_NUM\",\"CENSUS_SERIALB\", \"CENSUS_AGE\", \"CENSUS_PAGENUM\", \"CENSUS_SEXB\", \n",
    "            \"CENSUS_RACEB\",\"CENSUS_DWELLING_SIZE\",\"CENSUS_SEQ_NUM\", \"CENSUS_LABFORCE\", \"CENSUS_LINE\", \n",
    "            \"CENSUS_MARST\", \"CENSUS_NAMEFRST\", \"CENSUS_NAMELAST\", \"CENSUS_OCCSTR\", \"CENSUS_IMPREL\",\n",
    "            'CENSUS_DWELLING_SEQ', \"sequence_order_enum\", \"sequence_id\", \"dwelling_seq_id\"]\n",
    "ordinal_encode = make_column_transformer((OrdinalEncoder(), ['CENSUS_DWELLING_NUM']))\n",
    "block_boost_ord = Pipeline([('ordinal encode', ordinal_encode),\n",
    "    ('preprocess', TargetEncoder(cols = [\"CENSUS_SERIALB\", \"CENSUS_AGE\", \"CENSUS_PAGENUM\", \"CENSUS_SEXB\", \n",
    "                                         \"CENSUS_RACEB\", \"CENSUS_DWELLING_SIZE\",\"CENSUS_SEQ_NUM\", \n",
    "                                         \"CENSUS_LABFORCE\", \"CENSUS_LINE\", \"CENSUS_MARST\", \"CENSUS_NAMEFRST\", \n",
    "                                         \"CENSUS_NAMELAST\", \"CENSUS_OCCSTR\", \"CENSUS_IMPREL\",'CENSUS_DWELLING_SEQ',\n",
    "                                         \"sequence_order_enum\", \"sequence_id\", \"dwelling_seq_id\"])),\n",
    "                        ('classifier', XGBClassifier(colsample_bytree = 0.6, max_depth = 2, n_estimators = 50))])"
   ]
  },
  {
   "cell_type": "code",
   "execution_count": 36,
   "metadata": {},
   "outputs": [
    {
     "name": "stdout",
     "output_type": "stream",
     "text": [
      "n is 5 and it's the 0th iteration\n",
      "n is 5 and it's the 50th iteration\n"
     ]
    },
    {
     "data": {
      "image/png": "[encoded data removed]",
      "text/plain": [
       "<Figure size 576x576 with 1 Axes>"
      ]
     },
     "metadata": {
      "needs_background": "light"
     },
     "output_type": "display_data"
    }
   ],
   "source": [
    "# census_data.no_seq()\n",
    "census_data.apply_sequencing(distance = True, dwelling = True)\n",
    "interpolate_dwell_ord = CentroidInterpolator(census_data, 10, block_boost, all_cols, KMeans(5), block_centroids)\n",
    "score, model = interpolate_dwell_ord.kmeans_best(5)\n",
    "interpolate_dwell_ord.set_clustering_algo(model)\n",
    "interpolate_dwell_ord.apply_clustering(algo_fit = True)\n",
    "interpolate_dwell_ord.clustervis(kmeans = True)"
   ]
  },
  {
   "cell_type": "code",
   "execution_count": 37,
   "metadata": {},
   "outputs": [
    {
     "name": "stdout",
     "output_type": "stream",
     "text": [
      "Training score: 1.0\n",
      "Test score: 0.6096959737058341\n"
     ]
    }
   ],
   "source": [
    "train,test = interpolate_dwell_ord.stratified_train_test()\n",
    "interpolate_dwell_ord.train_test_model(train, test)\n",
    "print(\"Training score:\",interpolate_dwell_ord.train_score)\n",
    "print(\"Test score:\", interpolate_dwell_ord.test_score)"
   ]
  },
  {
   "cell_type": "markdown",
   "metadata": {},
   "source": [
    "### Target encoded `CENSUS_DWELLING_NUM` "
   ]
  },
  {
   "cell_type": "code",
   "execution_count": 38,
   "metadata": {},
   "outputs": [],
   "source": [
    "#target encoding\n",
    "all_cols = [\"CENSUS_DWELLING_NUM\",\"CENSUS_SERIALB\", \"CENSUS_AGE\", \"CENSUS_PAGENUM\", \"CENSUS_SEXB\", \n",
    "            \"CENSUS_RACEB\",\"CENSUS_DWELLING_SIZE\",\"CENSUS_SEQ_NUM\", \"CENSUS_LABFORCE\", \"CENSUS_LINE\", \n",
    "            \"CENSUS_MARST\", \"CENSUS_NAMEFRST\", \"CENSUS_NAMELAST\", \"CENSUS_OCCSTR\", \"CENSUS_IMPREL\",\n",
    "            'CENSUS_DWELLING_SEQ', \"sequence_order_enum\", \"sequence_id\", \"dwelling_seq_id\"]\n",
    "block_boost = Pipeline([('preprocess', TargetEncoder(cols = [\"CENSUS_DWELLING_NUM\",\"CENSUS_SERIALB\", \n",
    "                                                             \"CENSUS_AGE\", \"CENSUS_PAGENUM\", \"CENSUS_SEXB\", \n",
    "                                                             \"CENSUS_RACEB\", \"CENSUS_DWELLING_SIZE\",\n",
    "                                                             \"CENSUS_SEQ_NUM\", \"CENSUS_LABFORCE\", \"CENSUS_LINE\", \n",
    "                                                             \"CENSUS_MARST\", \"CENSUS_NAMEFRST\", \"CENSUS_NAMELAST\",\n",
    "                                                             \"CENSUS_OCCSTR\", \"CENSUS_IMPREL\",'CENSUS_DWELLING_SEQ',\n",
    "                                                             \"sequence_order_enum\", \"sequence_id\", \n",
    "                                                             \"dwelling_seq_id\"])),\n",
    "                        ('classifier', XGBClassifier(colsample_bytree = 0.6, max_depth = 2, n_estimators = 50))])"
   ]
  },
  {
   "cell_type": "code",
   "execution_count": 39,
   "metadata": {},
   "outputs": [
    {
     "name": "stdout",
     "output_type": "stream",
     "text": [
      "n is 5 and it's the 0th iteration\n",
      "n is 5 and it's the 50th iteration\n"
     ]
    }
   ],
   "source": [
    "census_data.apply_sequencing(dwelling = True, distance = True)\n",
    "interpolate_dwell_ord_enc = CentroidInterpolator(census_data, 10, block_boost, all_cols, KMeans(5), block_centroids)\n",
    "score, model = interpolate_dwell_ord_enc.kmeans_best(5)\n",
    "interpolate_dwell_ord_enc.set_clustering_algo(model)\n",
    "interpolate_dwell_ord_enc.apply_clustering(algo_fit = True)\n",
    "# interpolate_dwell_ord_enc.clustervis(kmeans = True)"
   ]
  },
  {
   "cell_type": "code",
   "execution_count": 40,
   "metadata": {},
   "outputs": [
    {
     "name": "stdout",
     "output_type": "stream",
     "text": [
      "Training score: 1.0\n",
      "Test score: 0.5695897023330652\n"
     ]
    }
   ],
   "source": [
    "train,test = interpolate_dwell_ord_enc.stratified_train_test()\n",
    "interpolate_dwell_ord_enc.train_test_model(train, test)\n",
    "print(\"Training score:\",interpolate_dwell_ord_enc.train_score)\n",
    "print(\"Test score:\", interpolate_dwell_ord_enc.test_score)"
   ]
  },
  {
   "cell_type": "markdown",
   "metadata": {},
   "source": [
    "# Include enumeration date"
   ]
  },
  {
   "cell_type": "code",
   "execution_count": 41,
   "metadata": {},
   "outputs": [],
   "source": [
    "enumerators = pd.read_csv(\"../../data/census_1850_enumerationDetail_mn_ward10.csv\")"
   ]
  },
  {
   "cell_type": "code",
   "execution_count": 42,
   "metadata": {},
   "outputs": [
    {
     "data": {
      "text/html": [
       "<div>\n",
       "<style scoped>\n",
       "    .dataframe tbody tr th:only-of-type {\n",
       "        vertical-align: middle;\n",
       "    }\n",
       "\n",
       "    .dataframe tbody tr th {\n",
       "        vertical-align: top;\n",
       "    }\n",
       "\n",
       "    .dataframe thead th {\n",
       "        text-align: right;\n",
       "    }\n",
       "</style>\n",
       "<table border=\"1\" class=\"dataframe\">\n",
       "  <thead>\n",
       "    <tr style=\"text-align: right;\">\n",
       "      <th></th>\n",
       "      <th>CENSUS_PAGENO_HOUSEHOLD</th>\n",
       "      <th>CENSUS_PAGENNO</th>\n",
       "      <th>CENSUS_WARD_NUM</th>\n",
       "      <th>CENSUS_REEL_HOUSEHOLD</th>\n",
       "      <th>CENSUS_ENUMERATOR_NUM</th>\n",
       "      <th>CENSUS_ENUMERATOR_DATE</th>\n",
       "      <th>ANCESTRY_REF</th>\n",
       "    </tr>\n",
       "  </thead>\n",
       "  <tbody>\n",
       "    <tr>\n",
       "      <th>0</th>\n",
       "      <td>60</td>\n",
       "      <td>6</td>\n",
       "      <td>10</td>\n",
       "      <td>545</td>\n",
       "      <td>1</td>\n",
       "      <td>1850-07-15</td>\n",
       "      <td>4202063_6</td>\n",
       "    </tr>\n",
       "    <tr>\n",
       "      <th>1</th>\n",
       "      <td>70</td>\n",
       "      <td>7</td>\n",
       "      <td>10</td>\n",
       "      <td>545</td>\n",
       "      <td>1</td>\n",
       "      <td>1850-07-15</td>\n",
       "      <td>4202063_7</td>\n",
       "    </tr>\n",
       "    <tr>\n",
       "      <th>2</th>\n",
       "      <td>80</td>\n",
       "      <td>8</td>\n",
       "      <td>10</td>\n",
       "      <td>545</td>\n",
       "      <td>1</td>\n",
       "      <td>1850-07-15</td>\n",
       "      <td>4202063_8</td>\n",
       "    </tr>\n",
       "    <tr>\n",
       "      <th>3</th>\n",
       "      <td>90</td>\n",
       "      <td>9</td>\n",
       "      <td>10</td>\n",
       "      <td>545</td>\n",
       "      <td>1</td>\n",
       "      <td>1850-07-15</td>\n",
       "      <td>4202063_9</td>\n",
       "    </tr>\n",
       "    <tr>\n",
       "      <th>4</th>\n",
       "      <td>100</td>\n",
       "      <td>10</td>\n",
       "      <td>10</td>\n",
       "      <td>545</td>\n",
       "      <td>1</td>\n",
       "      <td>1850-07-15</td>\n",
       "      <td>4202063_10</td>\n",
       "    </tr>\n",
       "  </tbody>\n",
       "</table>\n",
       "</div>"
      ],
      "text/plain": [
       "   CENSUS_PAGENO_HOUSEHOLD  CENSUS_PAGENNO  CENSUS_WARD_NUM  \\\n",
       "0                       60               6               10   \n",
       "1                       70               7               10   \n",
       "2                       80               8               10   \n",
       "3                       90               9               10   \n",
       "4                      100              10               10   \n",
       "\n",
       "   CENSUS_REEL_HOUSEHOLD  CENSUS_ENUMERATOR_NUM CENSUS_ENUMERATOR_DATE  \\\n",
       "0                    545                      1             1850-07-15   \n",
       "1                    545                      1             1850-07-15   \n",
       "2                    545                      1             1850-07-15   \n",
       "3                    545                      1             1850-07-15   \n",
       "4                    545                      1             1850-07-15   \n",
       "\n",
       "  ANCESTRY_REF  \n",
       "0    4202063_6  \n",
       "1    4202063_7  \n",
       "2    4202063_8  \n",
       "3    4202063_9  \n",
       "4   4202063_10  "
      ]
     },
     "execution_count": 42,
     "metadata": {},
     "output_type": "execute_result"
    }
   ],
   "source": [
    "enumerators.head()"
   ]
  },
  {
   "cell_type": "code",
   "execution_count": 44,
   "metadata": {},
   "outputs": [
    {
     "name": "stdout",
     "output_type": "stream",
     "text": [
      "<class 'pandas.core.frame.DataFrame'>\n",
      "RangeIndex: 553 entries, 0 to 552\n",
      "Data columns (total 7 columns):\n",
      "CENSUS_PAGENO_HOUSEHOLD    553 non-null int64\n",
      "CENSUS_PAGENNO             553 non-null int64\n",
      "CENSUS_WARD_NUM            553 non-null int64\n",
      "CENSUS_REEL_HOUSEHOLD      553 non-null int64\n",
      "CENSUS_ENUMERATOR_NUM      553 non-null int64\n",
      "CENSUS_ENUMERATOR_DATE     553 non-null object\n",
      "ANCESTRY_REF               553 non-null object\n",
      "dtypes: int64(5), object(2)\n",
      "memory usage: 30.4+ KB\n"
     ]
    }
   ],
   "source": [
    "enumerators.info()"
   ]
  },
  {
   "cell_type": "code",
   "execution_count": 46,
   "metadata": {},
   "outputs": [
    {
     "data": {
      "text/plain": [
       "array(['1850-07-15', '1850-07-16', '1850-07-17', '1850-07-18',\n",
       "       '1850-07-19', '1850-07-20', '1850-07-22', '1850-07-23',\n",
       "       '1850-07-24', '1850-07-25', '1850-07-26', '1850-07-29',\n",
       "       '1850-07-30', '1850-07-31', '1850-08-01', '1850-08-02',\n",
       "       '1850-08-05', '1850-08-06', '1850-08-07', '1850-08-08',\n",
       "       '1850-08-09', '1850-08-12', '1850-08-13', '1850-08-14',\n",
       "       '1850-08-15', '1850-08-16', '1850-08-19', '1850-07-27',\n",
       "       '1850-08-03', '1850-08-10'], dtype=object)"
      ]
     },
     "execution_count": 46,
     "metadata": {},
     "output_type": "execute_result"
    }
   ],
   "source": [
    "enumerators.CENSUS_ENUMERATOR_DATE.unique()"
   ]
  },
  {
   "cell_type": "code",
   "execution_count": 48,
   "metadata": {},
   "outputs": [],
   "source": [
    "ward10 = filled_1850[filled_1850[ward_col] == 10]\n",
    "ward10_enumerators = ward10.merge(enumerators,  how = \"left\", left_on= \"CENSUS_PAGENUM\", right_on = \"CENSUS_PAGENO_HOUSEHOLD\")\n",
    "census_enumerators = CensusData(ward10_enumerators, ward_col=ward_col, dwelling_col=dwelling_col, block_col =  block_col, x_col = x_col, y_col = y_col)\n",
    "census_enumerators.apply_sequencing(distance = True, dwelling = True)"
   ]
  },
  {
   "cell_type": "markdown",
   "metadata": {},
   "source": [
    "## census features + sequences (dwelling + distance) + enumerator data (_num, _date, ANCESTRY_REF )"
   ]
  },
  {
   "cell_type": "code",
   "execution_count": 50,
   "metadata": {},
   "outputs": [],
   "source": [
    "all_cols_enum = [\"CENSUS_SERIALB\", \"CENSUS_AGE\", \"CENSUS_PAGENUM\", \"CENSUS_SEXB\", \"CENSUS_RACEB\",\n",
    "                 \"CENSUS_DWELLING_SIZE\",\"CENSUS_SEQ_NUM\", \"CENSUS_LABFORCE\", \"CENSUS_LINE\", \"CENSUS_MARST\", \n",
    "                 \"CENSUS_NAMEFRST\", \"CENSUS_NAMELAST\", \"CENSUS_OCCSTR\", \"CENSUS_IMPREL\",'CENSUS_DWELLING_SEQ', \n",
    "                 \"sequence_order_enum\", \"sequence_id\", \"dwelling_seq_id\", \"CENSUS_ENUMERATOR_NUM\", \n",
    "                 \"CENSUS_ENUMERATOR_DATE\", \"ANCESTRY_REF\"]\n",
    "block_boost_enum = Pipeline([('preprocess', TargetEncoder(cols = [\"CENSUS_SERIALB\", \"CENSUS_AGE\", \"CENSUS_PAGENUM\", \"CENSUS_SEXB\", \"CENSUS_RACEB\",\"CENSUS_DWELLING_SIZE\",\"CENSUS_SEQ_NUM\", \"CENSUS_LABFORCE\", \"CENSUS_LINE\", \"CENSUS_MARST\", \"CENSUS_NAMEFRST\", \"CENSUS_NAMELAST\", \"CENSUS_OCCSTR\", \"CENSUS_IMPREL\",'CENSUS_DWELLING_SEQ', \"sequence_order_enum\", \"sequence_id\", \"dwelling_seq_id\", \"CENSUS_ENUMERATOR_NUM\", \"CENSUS_ENUMERATOR_DATE\", \"ANCESTRY_REF\"])),\n",
    "                        ('classifier', XGBClassifier(colsample_bytree = 0.6, max_depth = 2, n_estimators = 50))])"
   ]
  },
  {
   "cell_type": "code",
   "execution_count": 51,
   "metadata": {},
   "outputs": [
    {
     "name": "stdout",
     "output_type": "stream",
     "text": [
      "n is 5 and it's the 0th iteration\n",
      "n is 5 and it's the 50th iteration\n"
     ]
    },
    {
     "data": {
      "image/png": "[encoded data removed]",
      "text/plain": [
       "<Figure size 576x576 with 1 Axes>"
      ]
     },
     "metadata": {
      "needs_background": "light"
     },
     "output_type": "display_data"
    }
   ],
   "source": [
    "interpolate_enum = CentroidInterpolator(census_enumerators, 10, block_boost_enum, all_cols_enum, KMeans(5), block_centroids)\n",
    "score, model = interpolate_enum.kmeans_best(5)\n",
    "interpolate_enum.set_clustering_algo(model)\n",
    "interpolate_enum.apply_clustering(algo_fit = True)\n",
    "interpolate_enum.clustervis(kmeans = True)"
   ]
  },
  {
   "cell_type": "code",
   "execution_count": 52,
   "metadata": {},
   "outputs": [
    {
     "name": "stdout",
     "output_type": "stream",
     "text": [
      "Training score: 1.0\n",
      "Test score: 0.6378286683630195\n"
     ]
    }
   ],
   "source": [
    "train,test = interpolate_enum.stratified_train_test()\n",
    "interpolate_enum.train_test_model(train, test)\n",
    "print(\"Training score:\",interpolate_enum.train_score)\n",
    "print(\"Test score:\", interpolate_enum.test_score)"
   ]
  },
  {
   "cell_type": "markdown",
   "metadata": {},
   "source": [
    "## census features + enumerator data"
   ]
  },
  {
   "cell_type": "code",
   "execution_count": 53,
   "metadata": {},
   "outputs": [],
   "source": [
    "census_enumerators = CensusData(ward10_enumerators, ward_col=ward_col, dwelling_col=dwelling_col, \n",
    "                                block_col =  block_col, x_col = x_col, y_col = y_col)\n",
    "census_enumerators.no_seq()\n",
    "\n",
    "all_cols_enum = [\"CENSUS_SERIALB\", \"CENSUS_AGE\", \"CENSUS_PAGENUM\", \"CENSUS_SEXB\", \"CENSUS_RACEB\",\n",
    "                 \"CENSUS_DWELLING_SIZE\",\"CENSUS_SEQ_NUM\", \"CENSUS_LABFORCE\", \"CENSUS_LINE\", \"CENSUS_MARST\", \n",
    "                 \"CENSUS_NAMEFRST\", \"CENSUS_NAMELAST\", \"CENSUS_OCCSTR\", \"CENSUS_IMPREL\",'CENSUS_DWELLING_SEQ', \n",
    "                 \"CENSUS_ENUMERATOR_NUM\", \"CENSUS_ENUMERATOR_DATE\", \"ANCESTRY_REF\"]\n",
    "block_boost_enum = Pipeline([('preprocess', TargetEncoder(cols = [\"CENSUS_SERIALB\", \"CENSUS_AGE\", \n",
    "                                                                  \"CENSUS_PAGENUM\", \"CENSUS_SEXB\", \n",
    "                                                                  \"CENSUS_RACEB\",\"CENSUS_DWELLING_SIZE\",\n",
    "                                                                  \"CENSUS_SEQ_NUM\", \"CENSUS_LABFORCE\", \n",
    "                                                                  \"CENSUS_LINE\", \"CENSUS_MARST\", \n",
    "                                                                  \"CENSUS_NAMEFRST\", \"CENSUS_NAMELAST\", \n",
    "                                                                  \"CENSUS_OCCSTR\", \"CENSUS_IMPREL\",\n",
    "                                                                  'CENSUS_DWELLING_SEQ', \"CENSUS_ENUMERATOR_NUM\", \n",
    "                                                                  \"CENSUS_ENUMERATOR_DATE\", \"ANCESTRY_REF\"])),\n",
    "                        ('classifier', XGBClassifier(colsample_bytree = 0.6, max_depth = 2, n_estimators = 50))])"
   ]
  },
  {
   "cell_type": "code",
   "execution_count": 54,
   "metadata": {},
   "outputs": [
    {
     "name": "stdout",
     "output_type": "stream",
     "text": [
      "n is 5 and it's the 0th iteration\n",
      "n is 5 and it's the 50th iteration\n"
     ]
    }
   ],
   "source": [
    "interpolate_enum = CentroidInterpolator(census_enumerators, 10, block_boost_enum, all_cols_enum, \n",
    "                                        KMeans(5), block_centroids)\n",
    "score, model = interpolate_enum.kmeans_best(5)\n",
    "interpolate_enum.set_clustering_algo(model)\n",
    "interpolate_enum.apply_clustering(algo_fit = True)\n",
    "# interpolate_enum.clustervis(kmeans = True)"
   ]
  },
  {
   "cell_type": "code",
   "execution_count": 55,
   "metadata": {},
   "outputs": [
    {
     "name": "stdout",
     "output_type": "stream",
     "text": [
      "Training score: 1.0\n",
      "Test score: 0.504885993485342\n"
     ]
    }
   ],
   "source": [
    "train,test = interpolate_enum.stratified_train_test()\n",
    "interpolate_enum.train_test_model(train, test)\n",
    "print(\"Training score:\",interpolate_enum.train_score)\n",
    "print(\"Test score:\", interpolate_enum.test_score)"
   ]
  },
  {
   "cell_type": "markdown",
   "metadata": {},
   "source": [
    "## only enumerator sequence"
   ]
  },
  {
   "cell_type": "code",
   "execution_count": 57,
   "metadata": {},
   "outputs": [],
   "source": [
    "census_enumerators_seq = CensusData(ward10_enumerators, ward_col=ward_col, dwelling_col=dwelling_col, \n",
    "                                    block_col =  block_col, x_col = x_col, y_col = y_col)\n",
    "census_enumerators_seq.apply_sequencing(enumerator = True)\n",
    "\n",
    "all_cols_enum = [\"CENSUS_SERIALB\", \"CENSUS_AGE\", \"CENSUS_PAGENUM\", \"CENSUS_SEXB\", \"CENSUS_RACEB\",\n",
    "                 \"CENSUS_DWELLING_SIZE\",\"CENSUS_SEQ_NUM\", \"CENSUS_LABFORCE\", \"CENSUS_LINE\", \"CENSUS_MARST\", \n",
    "                 \"CENSUS_NAMEFRST\", \"CENSUS_NAMELAST\", \"CENSUS_OCCSTR\", \"CENSUS_IMPREL\",'CENSUS_DWELLING_SEQ', \n",
    "                 \"CENSUS_ENUMERATOR_NUM\", \"CENSUS_ENUMERATOR_DATE\", \"ANCESTRY_REF\", \"enum_seq\"]\n",
    "block_boost_enum = Pipeline([('preprocess', TargetEncoder(cols = [\"CENSUS_SERIALB\", \"CENSUS_AGE\", \"CENSUS_PAGENUM\",\n",
    "                                                                  \"CENSUS_SEXB\", \"CENSUS_RACEB\",\n",
    "                                                                  \"CENSUS_DWELLING_SIZE\",\"CENSUS_SEQ_NUM\", \n",
    "                                                                  \"CENSUS_LABFORCE\", \"CENSUS_LINE\", \n",
    "                                                                  \"CENSUS_MARST\", \"CENSUS_NAMEFRST\", \n",
    "                                                                  \"CENSUS_NAMELAST\", \"CENSUS_OCCSTR\", \n",
    "                                                                  \"CENSUS_IMPREL\",'CENSUS_DWELLING_SEQ', \n",
    "                                                                  \"CENSUS_ENUMERATOR_NUM\", \"CENSUS_ENUMERATOR_DATE\",\n",
    "                                                                  \"ANCESTRY_REF\", \"enum_seq\"])),\n",
    "                        ('classifier', XGBClassifier(colsample_bytree = 0.6, max_depth = 2, n_estimators = 50))])"
   ]
  },
  {
   "cell_type": "code",
   "execution_count": 58,
   "metadata": {},
   "outputs": [
    {
     "name": "stdout",
     "output_type": "stream",
     "text": [
      "n is 5 and it's the 0th iteration\n",
      "n is 5 and it's the 50th iteration\n"
     ]
    },
    {
     "data": {
      "image/png": "[encoded data removed]",
      "text/plain": [
       "<Figure size 576x576 with 1 Axes>"
      ]
     },
     "metadata": {
      "needs_background": "light"
     },
     "output_type": "display_data"
    }
   ],
   "source": [
    "interpolate_enum = CentroidInterpolator(census_enumerators_seq, 10, block_boost_enum, all_cols_enum, \n",
    "                                        KMeans(5), block_centroids)\n",
    "score, model = interpolate_enum.kmeans_best(5)\n",
    "interpolate_enum.set_clustering_algo(model)\n",
    "interpolate_enum.apply_clustering(algo_fit = True)\n",
    "interpolate_enum.clustervis(kmeans = True)"
   ]
  },
  {
   "cell_type": "code",
   "execution_count": 59,
   "metadata": {},
   "outputs": [
    {
     "name": "stdout",
     "output_type": "stream",
     "text": [
      "Training score: 1.0\n",
      "Test score: 0.4880573248407643\n"
     ]
    }
   ],
   "source": [
    "train,test = interpolate_enum.stratified_train_test()\n",
    "interpolate_enum.train_test_model(train, test)\n",
    "print(\"Training score:\",interpolate_enum.train_score)\n",
    "print(\"Test score:\", interpolate_enum.test_score)"
   ]
  },
  {
   "cell_type": "markdown",
   "metadata": {},
   "source": [
    "## dwelling + distance + enum"
   ]
  },
  {
   "cell_type": "code",
   "execution_count": 60,
   "metadata": {},
   "outputs": [],
   "source": [
    "census_enumerators_seq = CensusData(ward10_enumerators, ward_col=ward_col, dwelling_col=dwelling_col, \n",
    "                                    block_col =  block_col, x_col = x_col, y_col = y_col)\n",
    "census_enumerators_seq.apply_sequencing(enumerator = True, distance = True, dwelling = True)\n",
    "\n",
    "all_cols_enum = [\"CENSUS_SERIALB\", \"CENSUS_AGE\", \"CENSUS_PAGENUM\", \"CENSUS_SEXB\", \"CENSUS_RACEB\",\n",
    "                 \"CENSUS_DWELLING_SIZE\",\"CENSUS_SEQ_NUM\", \"CENSUS_LABFORCE\", \"CENSUS_LINE\", \"CENSUS_MARST\", \n",
    "                 \"CENSUS_NAMEFRST\", \"CENSUS_NAMELAST\", \"CENSUS_OCCSTR\", \"CENSUS_IMPREL\",'CENSUS_DWELLING_SEQ', \n",
    "                 \"sequence_order_enum\", \"sequence_id\", \"dwelling_seq_id\", \"CENSUS_ENUMERATOR_NUM\", \n",
    "                 \"CENSUS_ENUMERATOR_DATE\", \"ANCESTRY_REF\", \"enum_seq\"]\n",
    "block_boost_enum = Pipeline([('preprocess', TargetEncoder(cols = [\"CENSUS_SERIALB\", \"CENSUS_AGE\", \n",
    "                                                                  \"CENSUS_PAGENUM\", \"CENSUS_SEXB\", \n",
    "                                                                  \"CENSUS_RACEB\",\"CENSUS_DWELLING_SIZE\",\n",
    "                                                                  \"CENSUS_SEQ_NUM\", \"CENSUS_LABFORCE\", \n",
    "                                                                  \"CENSUS_LINE\", \"CENSUS_MARST\", \n",
    "                                                                  \"CENSUS_NAMEFRST\", \"CENSUS_NAMELAST\", \n",
    "                                                                  \"CENSUS_OCCSTR\", \"CENSUS_IMPREL\",\n",
    "                                                                  'CENSUS_DWELLING_SEQ', \"sequence_order_enum\", \n",
    "                                                                  \"sequence_id\", \"dwelling_seq_id\", \n",
    "                                                                  \"CENSUS_ENUMERATOR_NUM\", \"CENSUS_ENUMERATOR_DATE\",\n",
    "                                                                  \"ANCESTRY_REF\", \"enum_seq\"])),\n",
    "                        ('classifier', XGBClassifier(colsample_bytree = 0.6, max_depth = 2, n_estimators = 50))])"
   ]
  },
  {
   "cell_type": "code",
   "execution_count": 61,
   "metadata": {},
   "outputs": [
    {
     "name": "stdout",
     "output_type": "stream",
     "text": [
      "n is 5 and it's the 0th iteration\n",
      "n is 5 and it's the 50th iteration\n"
     ]
    },
    {
     "data": {
      "image/png": "[encoded data removed]",
      "text/plain": [
       "<Figure size 576x576 with 1 Axes>"
      ]
     },
     "metadata": {
      "needs_background": "light"
     },
     "output_type": "display_data"
    }
   ],
   "source": [
    "interpolate_enum = CentroidInterpolator(census_enumerators_seq, 10, block_boost_enum, all_cols_enum, KMeans(5), block_centroids)\n",
    "score, model = interpolate_enum.kmeans_best(5)\n",
    "interpolate_enum.set_clustering_algo(model)\n",
    "interpolate_enum.apply_clustering(algo_fit = True)\n",
    "interpolate_enum.clustervis(kmeans = True)"
   ]
  },
  {
   "cell_type": "code",
   "execution_count": 62,
   "metadata": {},
   "outputs": [
    {
     "name": "stdout",
     "output_type": "stream",
     "text": [
      "Training score: 1.0\n",
      "Test score: 0.6182287188306105\n"
     ]
    }
   ],
   "source": [
    "train,test = interpolate_enum.stratified_train_test()\n",
    "interpolate_enum.train_test_model(train, test)\n",
    "print(\"Training score:\",interpolate_enum.train_score)\n",
    "print(\"Test score:\", interpolate_enum.test_score)"
   ]
  },
  {
   "cell_type": "markdown",
   "metadata": {},
   "source": [
    "## Enum_dist seq + dwelling + distance + fixed"
   ]
  },
  {
   "cell_type": "code",
   "execution_count": 63,
   "metadata": {},
   "outputs": [],
   "source": [
    "census_enum_seq = CensusData(ward10_enumerators, ward_col=ward_col, dwelling_col=dwelling_col, \n",
    "                             block_col =  block_col, x_col = x_col, y_col = y_col, pagenum = pagenum)\n",
    "census_enum_seq.apply_sequencing(enumerator_dist = True, dwelling = True, fixed = True, distance = True)\n",
    "\n",
    "all_cols = [\"CENSUS_SERIALB\", \"CENSUS_AGE\", \"CENSUS_PAGENUM\", \"CENSUS_SEXB\", \"CENSUS_RACEB\", \"sequence_id\", \"CENSUS_DWELLING_SIZE\",\"CENSUS_SEQ_NUM\", \"CENSUS_LABFORCE\", \"CENSUS_LINE\", \"CENSUS_MARST\", \"CENSUS_NAMEFRST\", \"CENSUS_NAMELAST\", \"CENSUS_OCCSTR\", \"CENSUS_IMPREL\",\"sequence_order_enum\", 'CENSUS_DWELLING_SEQ', \"dwelling_seq_id\", \"fixed_seq\", \"enum_dist_id\", \"enum_dist_order\"]\n",
    "block_boost = Pipeline([('preprocess', TargetEncoder(cols = [\"CENSUS_SERIALB\", \"CENSUS_AGE\", \"CENSUS_PAGENUM\", \"CENSUS_SEXB\", \"CENSUS_RACEB\", \"sequence_id\", \"CENSUS_DWELLING_SIZE\",\"CENSUS_SEQ_NUM\", \"CENSUS_LABFORCE\", \"CENSUS_LINE\", \"CENSUS_MARST\", \"CENSUS_NAMEFRST\", \"CENSUS_NAMELAST\", \"CENSUS_OCCSTR\", \"CENSUS_IMPREL\",  \"sequence_order_enum\", 'CENSUS_DWELLING_SEQ', \"dwelling_seq_id\", \"fixed_seq\", \"enum_dist_id\", \"enum_dist_order\"])),\n",
    "                        ('classifier', XGBClassifier(colsample_bytree = 0.6, max_depth = 2, n_estimators = 50))])"
   ]
  },
  {
   "cell_type": "code",
   "execution_count": 64,
   "metadata": {},
   "outputs": [
    {
     "name": "stdout",
     "output_type": "stream",
     "text": [
      "n is 5 and it's the 0th iteration\n",
      "n is 5 and it's the 50th iteration\n"
     ]
    }
   ],
   "source": [
    "interpolate_sequences = CentroidInterpolator(census_enum_seq, 10, block_boost, all_cols, KMeans(5), \n",
    "                                             block_centroids)\n",
    "score, model = interpolate_sequences.kmeans_best(5)\n",
    "interpolate_sequences.set_clustering_algo(model)\n",
    "interpolate_sequences.apply_clustering(algo_fit = True)\n",
    "# interpolate_sequences.clustervis(kmeans = True)"
   ]
  },
  {
   "cell_type": "code",
   "execution_count": 65,
   "metadata": {},
   "outputs": [
    {
     "name": "stdout",
     "output_type": "stream",
     "text": [
      "Training score: 1.0\n",
      "Test score: 0.6684684684684684\n"
     ]
    }
   ],
   "source": [
    "train,test = interpolate_sequences.stratified_train_test()\n",
    "interpolate_sequences.train_test_model(train, test)\n",
    "print(\"Training score:\",interpolate_sequences.train_score)\n",
    "print(\"Test score:\", interpolate_sequences.test_score)"
   ]
  },
  {
   "cell_type": "markdown",
   "metadata": {},
   "source": [
    "## Enum_dist only"
   ]
  },
  {
   "cell_type": "code",
   "execution_count": 66,
   "metadata": {},
   "outputs": [],
   "source": [
    "census_enum_seq = CensusData(ward10_enumerators, ward_col=ward_col, dwelling_col=dwelling_col, \n",
    "                             block_col = block_col, x_col = x_col, y_col = y_col, pagenum = pagenum)\n",
    "census_enum_seq.apply_sequencing(enumerator_dist = True, d = 0.05)\n",
    "\n",
    "all_cols = [\"CENSUS_SERIALB\", \"CENSUS_AGE\", \"CENSUS_PAGENUM\", \"CENSUS_SEXB\", \"CENSUS_RACEB\", \n",
    "            \"CENSUS_DWELLING_SIZE\",\"CENSUS_SEQ_NUM\", \"CENSUS_LABFORCE\", \"CENSUS_LINE\", \"CENSUS_MARST\", \n",
    "            \"CENSUS_NAMEFRST\", \"CENSUS_NAMELAST\", \"CENSUS_OCCSTR\", \"CENSUS_IMPREL\", 'CENSUS_DWELLING_SEQ', \n",
    "            \"enum_dist_id\", \"enum_dist_order\"]\n",
    "block_boost = Pipeline([('preprocess', TargetEncoder(cols = [\"CENSUS_SERIALB\", \"CENSUS_AGE\", \"CENSUS_PAGENUM\", \"CENSUS_SEXB\", \"CENSUS_RACEB\", \"CENSUS_DWELLING_SIZE\",\"CENSUS_SEQ_NUM\", \"CENSUS_LABFORCE\", \"CENSUS_LINE\", \"CENSUS_MARST\", \"CENSUS_NAMEFRST\", \"CENSUS_NAMELAST\", \"CENSUS_OCCSTR\", \"CENSUS_IMPREL\",  'CENSUS_DWELLING_SEQ', \"enum_dist_id\", \"enum_dist_order\"])),\n",
    "                        ('classifier', XGBClassifier(colsample_bytree = 0.6, max_depth = 2, n_estimators = 50))])"
   ]
  },
  {
   "cell_type": "code",
   "execution_count": 67,
   "metadata": {},
   "outputs": [
    {
     "name": "stdout",
     "output_type": "stream",
     "text": [
      "n is 5 and it's the 0th iteration\n",
      "n is 5 and it's the 50th iteration\n"
     ]
    }
   ],
   "source": [
    "interpolate_sequences = CentroidInterpolator(census_enum_seq, 10, block_boost, all_cols, KMeans(5), block_centroids)\n",
    "score, model = interpolate_sequences.kmeans_best(5)\n",
    "interpolate_sequences.set_clustering_algo(model)\n",
    "interpolate_sequences.apply_clustering(algo_fit = True)\n",
    "# interpolate_sequences.clustervis(kmeans = True)"
   ]
  },
  {
   "cell_type": "code",
   "execution_count": 68,
   "metadata": {},
   "outputs": [
    {
     "name": "stdout",
     "output_type": "stream",
     "text": [
      "Training score: 1.0\n",
      "Test score: 0.6142735768903993\n"
     ]
    }
   ],
   "source": [
    "train,test = interpolate_sequences.stratified_train_test()\n",
    "interpolate_sequences.train_test_model(train, test)\n",
    "print(\"Training score:\",interpolate_sequences.train_score)\n",
    "print(\"Test score:\", interpolate_sequences.test_score)"
   ]
  },
  {
   "cell_type": "code",
   "execution_count": null,
   "metadata": {},
   "outputs": [],
   "source": []
  }
 ],
 "metadata": {
  "kernelspec": {
   "display_name": "Python 3",
   "language": "python",
   "name": "python3"
  },
  "language_info": {
   "codemirror_mode": {
    "name": "ipython",
    "version": 3
   },
   "file_extension": ".py",
   "mimetype": "text/x-python",
   "name": "python",
   "nbconvert_exporter": "python",
   "pygments_lexer": "ipython3",
   "version": "3.7.3"
  }
 },
 "nbformat": 4,
 "nbformat_minor": 2
}
