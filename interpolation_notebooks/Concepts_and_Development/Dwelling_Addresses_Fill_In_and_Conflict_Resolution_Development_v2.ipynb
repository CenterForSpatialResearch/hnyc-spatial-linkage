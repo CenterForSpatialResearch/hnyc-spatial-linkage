{
  "nbformat": 4,
  "nbformat_minor": 0,
  "metadata": {
    "colab": {
      "name": "Dwelling Addresses Fill In and Conflict Resolution Development v2.ipynb",
      "provenance": [],
      "collapsed_sections": [
        "-biNqiYJ3_hk",
        "O-nklL9S4Qqt",
        "U0d5OKgm5DYs",
        "ENVsP89o4sf_",
        "Y5juB3JY54EZ",
        "A__HwRP4lYRD",
        "3Y9jeSiC69t1"
      ],
      "toc_visible": true
    },
    "kernelspec": {
      "name": "python3",
      "display_name": "Python 3"
    }
  },
  "cells": [
    {
      "cell_type": "code",
      "metadata": {
        "id": "WX-wpYYBQfZf"
      },
      "source": [
        "!pip install pyjarowinkler\n",
        "!pip install haversine\n",
        "!pip install hdbscan"
      ],
      "execution_count": null,
      "outputs": []
    },
    {
      "cell_type": "markdown",
      "metadata": {
        "id": "-biNqiYJ3_hk"
      },
      "source": [
        "### write processing module"
      ]
    },
    {
      "cell_type": "code",
      "metadata": {
        "id": "kWsl-h_2QWZM",
        "colab": {
          "base_uri": "https://localhost:8080/"
        },
        "outputId": "2914b168-2981-4c4e-c9e9-1d906a3fe6d9"
      },
      "source": [
        "# processing\n",
        "# Contains functions related to dataframe manipulation, ei joining dwellings to all records, etc.\n",
        "%%writefile processing.py\n",
        "\n",
        "import pandas as pd\n",
        "import networkx as nx\n",
        "import numpy as np\n",
        "from pyjarowinkler import distance\n",
        "from haversine import haversine, Unit\n",
        "import time\n",
        "\n",
        "\n",
        "def col_for_disamb(df, cd_id, cen_id, cd_fn=\"CD_FIRST_NAME\", cen_fn=\"CENSUS_FIRST_NAME\", cd_ln=\"CD_LAST_NAME\",\n",
        "                           cen_ln=\"CENSUS_LAST_NAME\", cen_occ=\"CENSUS_OCCUPATION\", cen_age=\"CENSUS_AGE\"):\n",
        "    # name jw dist\n",
        "    df[\"jw_fn\"] = df.apply(lambda x: distance.get_jaro_distance(x[cd_fn], x[cen_fn], winkler=True, scaling=0.1), axis=1)\n",
        "    df[\"jw_ln\"] = df.apply(lambda x: distance.get_jaro_distance(x[cd_ln], x[cen_ln], winkler=True, scaling=0.1), axis=1)\n",
        "    df[\"jw_score\"] = 0.4 * df[\"jw_fn\"] + 0.6 * df[\"jw_ln\"]\n",
        "\n",
        "    # occ\n",
        "    df['occ_listed'] = np.where((df[cen_occ].isnull()) | (df[cen_occ] == '*'), 0, 1)\n",
        "\n",
        "    # age\n",
        "    df['age_score'] = np.where(df[cen_age] <= 12, 0, 1)\n",
        "\n",
        "    # cd conflicts\n",
        "    df[\"cd_count\"] = df.groupby(cd_id)[cen_id].transform('count')\n",
        "    df[\"census_count\"] = df.groupby(cen_id)[cd_id].transform('count')\n",
        "\n",
        "    df['census_count_inverse'] = 1 / df['census_count']\n",
        "    df['cd_count_inverse'] = 1 / df['cd_count']\n",
        "\n",
        "    #This is so the bipartite matching algorthm works the way we need it to\n",
        "    df['CD_ID'] = 'CD_' + df[cd_id].astype(str)\n",
        "    df['CENSUS_ID'] = 'CENSUS_' + df[cen_id].astype(str)\n",
        "\n",
        "    return df\n",
        "\n",
        "\n",
        "\"\"\"\n",
        "Applies confidence score to df\n",
        "\"\"\"\n",
        "def apply_confidence_score(df, cd_fn = \"CD_FIRST_NAME\", cen_fn = \"CENSUS_FIRST_NAME\", cd_ln = \"CD_LAST_NAME\", cen_ln = \"CENSUS_LAST_NAME\", cen_occ = \"CENSUS_OCCLABELB\", cen_age = \"CENSUS_AGE\", cd_id=\"OBJECTID\", cen_id=\"OBJECTID.x\"):\n",
        "    \n",
        "    # name jw dist\n",
        "    df[\"jw_fn\"] = df.apply(lambda x: distance.get_jaro_distance(x[cd_fn], x[cen_fn], winkler=True, scaling=0.1), axis = 1)\n",
        "    df[\"jw_ln\"] = df.apply(lambda x: distance.get_jaro_distance(x[cd_ln], x[cen_ln], winkler=True, scaling=0.1), axis = 1)\n",
        "    df[\"jw_score\"] = 0.4 * df[\"jw_fn\"] + 0.6 * df[\"jw_ln\"]\n",
        "\n",
        "    # occ\n",
        "    df['occ_listed'] = np.where((df[cen_occ].isnull()) | (df[cen_occ] == '*'), 0, 1)\n",
        "\n",
        "    # age\n",
        "    df['age_score'] = np.where(df[cen_age] <= 12, 0, 1)\n",
        "\n",
        "    # cd conflicts\n",
        "    df[\"cd_count\"] = df.groupby(cd_id)[cen_id].transform('count')\n",
        "    df[\"census_count\"] = df.groupby(cen_id)[cd_id].transform('count')\n",
        "\n",
        "    df['confidence_score'] = .5*df.jw_score + .2*(1/df.cd_count) + \\\n",
        "                             .2*(1/df.census_count) + .05*df.occ_listed + \\\n",
        "                             .05*df.age_score\n",
        "    df['confidence_score'] = df['confidence_score'].round(decimals = 2)\n",
        "\n",
        "    return df\n",
        "\n",
        "\n",
        "#not needed in new run\n",
        "\"\"\"\n",
        "Takes elastic search and census directory geocode file to create a dataframe \n",
        "ready for the disambiguation process.\n",
        "Can add/incorporate new columns to include in confidence score here\n",
        "elastic_search: either df with elastic search output or elastic search output file\n",
        "city_directory: either df with city directory data or file name\n",
        "file: boolean value, set to True if elastic_search/city_directory are file names otherwise set \n",
        "to false. Default false \n",
        "\"\"\"\n",
        "def elastic_to_disamb(elastic_search, city_directory, file = False):\n",
        "\n",
        "    if file:\n",
        "        elastic_search = pd.read_csv(elastic_search, sep='\\t', engine='python')\n",
        "        city_directory = pd.read_csv(city_directory)\n",
        "\n",
        "    else:\n",
        "        elastic_search = elastic_search.copy()\n",
        "        city_directory = city_directory.copy()\n",
        "\n",
        "    latlng = city_directory[['OBJECTID', 'LONG', 'LAT']]\n",
        "\n",
        "    #print(elastic_search.head())\n",
        "    #print(latlng.head())\n",
        "\n",
        "    match = apply_confidence_score(elastic_search, cen_fn='CENSUS_NAMEFRSTB', cen_ln='CENSUS_NAMELASTB',\n",
        "                                      cen_occ='CENSUS_OCCLABELB', cen_id='OBJECTID.x')\n",
        "\n",
        "    #print(match.head())\n",
        "    match['CD_ID'] = 'CD_' + match['OBJECTID'].astype(str)\n",
        "    match['CENSUS_ID'] = 'CENSUS_' + match['OBJECTID.x'].astype(str)\n",
        "\n",
        "    #Can remove this after finalizing the confidence score\n",
        "    match['census_count_inverse'] = 1 / match['census_count']\n",
        "    match['cd_count_inverse'] = 1 / match['cd_count']\n",
        "\n",
        "    match = match.merge(latlng, how='left', on='OBJECTID', validate='many_to_one')\n",
        "    #print(match.head())\n",
        "    return match\n",
        "\"\"\"\n",
        "Create a list of dataframes where the top row is an anchor\n",
        "Each dataframe is one where spatial disambiguation will be applied\n",
        "This is necessary as else, algorithms take too long to run\n",
        "Match: df of matches\n",
        "confidence_score: name of confidence score column\n",
        "\"\"\"\n",
        "\n",
        "def split_dfs(match, sort_var=\"CENSUS_ID\", confidence=\"confidence_score\"):\n",
        "\n",
        "    match = match.sort_values(by=[sort_var])\n",
        "\n",
        "    # identify anchors and assign anchor ID\n",
        "    match['anchor'] = np.where(match[confidence] == 1, 1, None)\n",
        "    sub_group = pd.DataFrame({'index': list(match.loc[match.anchor.notnull(), :].index), 'group_ID': range(0, sum(match['anchor'].notnull()))}).set_index('index')\n",
        "    match = match.join(sub_group)\n",
        "    match['group_ID'] = match['group_ID'].fillna(method='ffill').fillna(method='backfill')\n",
        "\n",
        "    # split df into multiple df, each bounded by anchor\n",
        "\n",
        "    # sub_group_dict = {group: df for group, df in match.groupby('group_ID')}\n",
        "    sub_groups = [df for group, df in match.groupby('group_ID')]\n",
        "    \n",
        "    # add bottom anchor back\n",
        "    \"\"\"\n",
        "    for i in range(0, len(sub_group_dict) - 1):\n",
        "        sub_group_dict[i] = pd.concat([sub_group_dict[i], sub_group_dict[i+1][0:1]])\n",
        "    \"\"\"\n",
        "    return sub_groups\n",
        "\n",
        "\"\"\"\n",
        "Create node ID for each match, to be using the shortest path algorithm \n",
        "sub must be a df with each row as a potential match between a CD and census record. It must contain the columns CD_ID, CENSUS_ID, LONG, LAT, confidence_score and MATCH_ADDR.\n",
        "the column names can be specified individually if they are named differently\n",
        "Returns the dataframe with new columns, 'anchor', 'node_ID' and 'letter'.\n",
        "anchor: whether row is an anchor (confidence score = 1)\n",
        "node_ID: unique node ID. each node is a match, so e.g. A0 and A1 refers to two potential CD matches for the same census record\n",
        "letter: grouping for identical census records \n",
        "add_prefixes: whether to add prefixes 'CD_' and 'CENSUS_' to cd_id and census_id respectively. prefixes are required for subsequent bipartite matching\n",
        "\"\"\"\n",
        "def create_path_df(sub_graph, census_id = \"CENSUS_ID\"):\n",
        "\n",
        "    sub_graph['node_ID'] = sub_graph.groupby(census_id).cumcount()\n",
        "\n",
        "    letter_id = sub_graph[census_id].unique().tolist()\n",
        "    letters = ['N' + str(x) for x in range(0, len(letter_id))]\n",
        "    letter_id = pd.DataFrame({'CENSUS_ID': letter_id, 'letter': letters})\n",
        "\n",
        "    sub_graph = sub_graph.merge(letter_id, how='left', left_on=census_id, right_on=\"CENSUS_ID\", validate='many_to_one')\n",
        "\n",
        "    sub_graph['node_ID'] = sub_graph.apply(lambda row: row.letter + '_' + str(row.node_ID), axis=1)\n",
        "\n",
        "    return sub_graph\n",
        "\n",
        "\"\"\"\n",
        "Creates a graph from the sub_graph dataframe\n",
        "Each node being a potential CD-census match and \n",
        "    each edge being the link between the potential CD records of consecutive census records\n",
        "The weight of each edge = the haversine distance between the two\n",
        "cluster_col: name of column with cluster group. If does not exist, use None\n",
        "Returns the graph object\n",
        "\"\"\"\n",
        "\n",
        "def create_path_graph(g, cluster_col='in_cluster_x', lat='CD_X', lon='CD_Y'):\n",
        "\n",
        "    g.loc[:, 'key'] = 0\n",
        "    g = g.merge(g, on='key')\n",
        "\n",
        "    #This is time consuming\n",
        "    g['key'] = g.apply(lambda row: 1 if int(row.letter_x[1:]) - int(row.letter_y[1:]) == -1 else 0, axis = 1)\n",
        "\n",
        "    g = g[g.key == 1]\n",
        "\n",
        "    g['weight'] = g.apply(lambda row: haversine((row[lat + '_y'], row[lon + '_y']), (row[lat + '_x'], row[lon + '_x']), unit=Unit.METERS), axis=1)\n",
        "\n",
        "    if cluster_col != None:\n",
        "        g['weight'] = g.apply(lambda row: row.weight + 999 if row[cluster_col] == -1 else row.weight, axis=1)\n",
        "\n",
        "    g_edges = [(row.node_ID_x, row.node_ID_y, row.weight) for index, row in g.iterrows()]\n",
        "    graph = nx.DiGraph()\n",
        "    graph.add_weighted_edges_from(g_edges)\n",
        "\n",
        "    \n",
        "    return graph"
      ],
      "execution_count": null,
      "outputs": [
        {
          "output_type": "stream",
          "text": [
            "Writing processing.py\n"
          ],
          "name": "stdout"
        }
      ]
    },
    {
      "cell_type": "markdown",
      "metadata": {
        "id": "O-nklL9S4Qqt"
      },
      "source": [
        "### write disambiguation module"
      ]
    },
    {
      "cell_type": "code",
      "metadata": {
        "id": "YEk0C_rDR8PN",
        "colab": {
          "base_uri": "https://localhost:8080/"
        },
        "outputId": "a1567230-a1d2-48b7-fa0a-b15d73175a9c"
      },
      "source": [
        "# disambiguation\n",
        "%%writefile disambiguation.py\n",
        "\n",
        "import pandas as pd\n",
        "import networkx as nx\n",
        "import hdbscan\n",
        "from itertools import islice\n",
        "#import disambiguation.processing as dp\n",
        "import processing as dp\n",
        "import time\n",
        "\n",
        "\"\"\"\n",
        "Wrapper function for everything below, including checks\n",
        "Designed to work within list comprehension only! (refer to Disambiguator())\n",
        "Works by applying algorithm to specified df (using index i) in the list\n",
        "sub_groups: list of dfs, each df being a subset of the census bounded by 2 anchors\n",
        "i: index of df in the list\n",
        "\"\"\"\n",
        "def apply_algo(sub_groups, i, cluster=True, k_between=True, census_id='CENSUS_ID', census_count=\"census_count\", confidence='confidence_score', lat=\"CD_X\", lon=\"CD_Y\", cluster_kwargs={}, path_kwargs={}):\n",
        "\n",
        "    if i % 1000 == 0:\n",
        "        print(\"Reached: \" + str(i))\n",
        "    df = sub_groups[i]\n",
        "    if sum(df[census_count] > 1) == 0: # no disambiguation needed\n",
        "        return df\n",
        "\n",
        "    if i + 1 < len(sub_groups): # add bottom anchor\n",
        "        df = pd.concat([df, sub_groups[i+1][0:1]]) \n",
        "\n",
        "    path_df = dp.create_path_df(df, census_id)\n",
        "\n",
        "\n",
        "    if cluster:\n",
        "        # apply density clustering and remove outlier nodes\n",
        "        path_df = apply_density_clustering(path_df, lat, lon, **cluster_kwargs)\n",
        "        cluster_arg = 'in_cluster_x'\n",
        "    else:\n",
        "        cluster_arg = None\n",
        "\n",
        "    # create graph and k shortest paths centrality\n",
        "\n",
        "    g = dp.create_path_graph(path_df, cluster_col=cluster_arg, lat=lat, lon=lon)\n",
        "\n",
        "    if k_between:\n",
        "\n",
        "        output = apply_k_betweenness(path_df, g, confidence = confidence, **path_kwargs)\n",
        "    else:\n",
        "        output = apply_shortest_path(path_df, g, confidence = confidence, **path_kwargs)\n",
        "\n",
        "    return output\n",
        "\n",
        "\"\"\"\n",
        "Apply Dijkstra's algorithm to the graph and get spatial weights\n",
        "Spatial weights are computed as confidence score +1 if match was included in shortest path, and confidence score + 0 otherwise\n",
        "df: dataframe of records with confidence score and node ID, names can be modified via parameters\n",
        "graph: graph object created from create_path_graph()\n",
        "source: start node, e.g. 'A0'. By default it chooses first row in the table\n",
        "target: end node, e.g. 'J0'. By default it chooses last row in the table\n",
        "Returns a dataframe of matches with added 'spatial weight'\n",
        "\"\"\"\n",
        "def apply_shortest_path(df, graph, source = None, target = None, confidence = 'confidence_score', node_id = 'node_ID'):\n",
        "    if source == None:\n",
        "        source = list(df[node_id])[0]\n",
        "    if target == None:\n",
        "        target = list(df[node_id])[-1]\n",
        "\n",
        "    path = nx.dijkstra_path(graph, source, target)\n",
        "    df['spatial_weight'] = df.apply(lambda row: row[confidence] + 1 if row[node_id] in path else row[confidence], axis = 1)\n",
        "\n",
        "    return df\n",
        "\n",
        "\"\"\"\n",
        "Apply betweenness centrality using k shortest paths (as documented in spatial_disambiguation.ipynb)\n",
        "df: df of matches\n",
        "graph: graph object created from create_path_graph()\n",
        "source: start node, e.g. 'A0'. By default it chooses first row in the table\n",
        "target: end node, e.g. 'J0'. By default it chooses last row in the table\n",
        "k: how many shortest paths to choose from (absolute number). By default 1 or ~ 1/2 of number of possible paths if there are more than 30 paths\n",
        "scale: how much to scale the score by when adding it with confidence score. Default = 1 (equal weight of confidence score and spatial weight)\n",
        "Returns\n",
        "    df: df with spatial weights column\n",
        "    k_paths: paths used for calculation\n",
        "\"\"\"\n",
        "def apply_k_betweenness(df, graph, confidence = \"confidence_score\", source=None, target=None, k=None, scale=1):\n",
        "    if source == None:\n",
        "        source = list(df[\"node_ID\"])[0]\n",
        "    if target == None:\n",
        "        target = list(df[\"node_ID\"])[-1]\n",
        "\n",
        "    k_paths = nx.shortest_simple_paths(graph, source, target, weight=\"weight\")\n",
        "\n",
        "    length = get_n_paths(df)\n",
        "    if k == None:\n",
        "        if length < 31:\n",
        "            k = 1\n",
        "        elif length > 50:\n",
        "            k = 50\n",
        "        else:\n",
        "            k = int(0.5 * length)\n",
        "\n",
        "    k_paths = list(islice(k_paths, k))\n",
        "\n",
        "    # initialize output: dict with nodes as keys\n",
        "    spatial_weights = dict.fromkeys(graph.nodes, 0)\n",
        "    \n",
        "    # count\n",
        "    for path in k_paths:\n",
        "        for node in path:\n",
        "            spatial_weights[node] += 1\n",
        "    \n",
        "    spatial_weights = [[key , round(value / k, 2) * scale] for key, value in spatial_weights.items()]\n",
        "    spatial_df = pd.DataFrame(spatial_weights, columns=[\"node_ID\", 'spatial_weight'])\n",
        "    df = df.merge(spatial_df, how=\"inner\", on=\"node_ID\", validate=\"one_to_one\")\n",
        "    df['spatial_weight'] = df['spatial_weight'] + df[confidence]\n",
        "\n",
        "    return df\n",
        "\n",
        "\"\"\"\n",
        "Helper method to count the number of possible paths in the graph\n",
        "\"\"\"\n",
        "def get_n_paths(df):\n",
        "    k = 1\n",
        "    counts = df.groupby('letter')['letter'].size().to_list()\n",
        "    for count in counts:\n",
        "        k *= count\n",
        "    \n",
        "    return k\n",
        "\n",
        "\"\"\"\n",
        "Apply density based clustering to detect outliers. Requires `hdbscan` library\n",
        "Refer to hdbscan documentation on parameters\n",
        "Returns df with a column 'in_cluster' indicating which cluster the nodes are in\n",
        "\"\"\"\n",
        "def apply_density_clustering(df, lat='CD_X', lon=\"CD_Y\", min_cluster_size=10, min_samples=10, allow_single_cluster=True, **kwargs):\n",
        "    cluster_sub = df.loc[:, [lon, lat]]\n",
        "    clusterer = hdbscan.HDBSCAN(min_cluster_size=min_cluster_size, min_samples=min_samples, allow_single_cluster=allow_single_cluster, **kwargs).fit(cluster_sub)\n",
        "\n",
        "    df['in_cluster'] = pd.Series(clusterer.labels_).values\n",
        "    return df\n",
        "\n",
        "\"\"\"\n",
        "A bipartite graph is created from the matches, with each node being either a census or CD record and each edge indicating a potential match. \n",
        "Note that subgraph MUST have prefixes on the cd_id ('CD_') and census_id ('CENSUS_') columns\n",
        "The matching algorithm (maximum weighted matching) will \n",
        "    (1) select sets of matches that give the highest number of matches \n",
        "    (2) choose the match set that has the highest weight based on that\n",
        "Returns a dictionary with 'graph' as the list of bipartite graphs and 'results' being the original df with an additional 'selected' column, indicating the correct match and 'graph_id' column, indicated subgraph.\n",
        "\"\"\"\n",
        "def get_matches(df, cd_id = 'CD_ID', census_id = 'CENSUS_ID', weight = 'spatial_weight'):\n",
        "    b_edges = [(row[cd_id], row[census_id], row[weight]) for index, row in df.iterrows()]\n",
        "    b = nx.Graph()\n",
        "    b.add_weighted_edges_from(b_edges)\n",
        "\n",
        "    # algorithm is too expensive if we perform it on entire graph. moreover, graph is actually disconnected into sub_graphs. apply algorithm on subgraphs instead\n",
        "    subgraphs = [b.subgraph(c) for c in nx.connected_components(b)]\n",
        "    matches = [list(nx.max_weight_matching(graph, maxcardinality = True)) for graph in subgraphs]\n",
        "    matches = [sorted(list(item)) for sublist in matches for item in sublist] # unnest and convert pairs from tuple to list\n",
        "    matches = pd.DataFrame(matches, columns=[cd_id, census_id])\n",
        "    matches['selected'] = 1\n",
        "\n",
        "    df = df.merge(matches, how='left', on=[cd_id, census_id], validate='one_to_one')\n",
        "    df['selected'] = df['selected'].fillna(0)\n",
        "\n",
        "    # add subgraph id\n",
        "    subgraph_id = [{'graph_ID': i, 'CD_ID': node} for i in range(0, len(subgraphs)) for node in list(subgraphs[i].nodes) if node[:2] == 'CD']\n",
        "    subgraph_id = pd.DataFrame(subgraph_id)\n",
        "    df = df.merge(subgraph_id, how=\"inner\", left_on=cd_id, right_on=\"CD_ID\", validate=\"many_to_one\")\n",
        "\n",
        "    return {'graph': subgraphs, 'results': df}"
      ],
      "execution_count": null,
      "outputs": [
        {
          "output_type": "stream",
          "text": [
            "Writing disambiguation.py\n"
          ],
          "name": "stdout"
        }
      ]
    },
    {
      "cell_type": "markdown",
      "metadata": {
        "id": "U0d5OKgm5DYs"
      },
      "source": [
        "### write analysis module"
      ]
    },
    {
      "cell_type": "code",
      "metadata": {
        "id": "Ii5TyopzR8QF",
        "colab": {
          "base_uri": "https://localhost:8080/"
        },
        "outputId": "8c29d141-e550-4345-9bc8-79c7ce051758"
      },
      "source": [
        "# analysis\n",
        "%%writefile analysis.py\n",
        "\n",
        "from haversine import haversine, Unit\n",
        "from numpy import log\n",
        "#import disambiguation.disambiguation as dl\n",
        "import disambiguation as dl\n",
        "\n",
        "\"\"\"\n",
        "Get number of selected matches, out of total possible (ie unique CD records)\n",
        "df: df with \"selected\" column, after running get_matches()\n",
        "cd_id: name of cd_id column\n",
        "\"\"\"\n",
        "def get_match_rate(df, cd_id='CD_ID'):\n",
        "    n_cd_records = len(df[cd_id].unique())\n",
        "    n_selected = sum(df[\"selected\"].values)\n",
        "    match_rate = round(n_selected / n_cd_records * 100, 2)\n",
        "\n",
        "    return match_rate\n",
        "\n",
        "\"\"\"\n",
        "Get number of perfect matches (in terms of address) selected\n",
        "df: df with \"selected\" column, after running get_matches()\n",
        "cd_add: name of cd address column\n",
        "cen_add: name of cen_add column\n",
        "\"\"\"\n",
        "def get_addr_success(df, cd_add='MATCH_ADDR', cen_add='CENSUS_MATCH_ADDR'):\n",
        "    df['cd_add_cln'] = df.apply(lambda row: row[cd_add][:row[cd_add].index(',')], axis=1)\n",
        "    df['cen_add_cln'] = df.apply(lambda row: row[cen_add][:row[cen_add].index(',')], axis=1)\n",
        "    n_perfect_match_chosen = len(df.loc[(df['cd_add_cln'] == df['cen_add_cln']) & (df['selected'] == 1), :])\n",
        "    n_perfect_match = len(df.loc[df['cd_add_cln'] == df['cen_add_cln'], :])\n",
        "\n",
        "    return {'n_perfect_match_chosen': n_perfect_match_chosen, 'n_perfect_match': n_perfect_match}\n",
        "\n",
        "\"\"\"\n",
        "Get error rate based on distance (in metres) between matched and actual address\n",
        "df: df with \"selected\" column, after running get_matches()\n",
        "cen_lon: name of census long column\n",
        "cen_lat: name of census lat column\n",
        "lon: name of long column\n",
        "lat: name of lat column\n",
        "\"\"\"\n",
        "def get_dist_error(df, cen_lon='CENSUS_X', cen_lat='CENSUS_Y', lon='CD_X', lat='CD_Y'):\n",
        "    df['dist'] = df.apply(lambda row: haversine((row[cen_lat], row[cen_lon]), (row[lat], row[lon]), unit=Unit.METERS), axis=1)\n",
        "    return df\n",
        "\n",
        "\"\"\"\n",
        "Get number of selected matches, out of total possible (ie unique CD records)\n",
        "df: df with \"selected\" column, after running get_matches()\n",
        "cd_id: name of cd_id column\n",
        "\"\"\"\n",
        "def get_under12_selections(df, age='CENSUS_AGE'):\n",
        "    n_under12 = len(df.loc[(df[age] <= 12) & (df['selected'] == 1), :])\n",
        "    n_selected = len(df.loc[df['selected'] == 1, :])\n",
        "    proportion = round(n_under12 / n_selected * 100, 2)\n",
        "\n",
        "    return proportion\n",
        "\n",
        "\"\"\"\n",
        "Get df containing selected matches based on actual distances and confidence score\n",
        "df: any match df containing at least cd_id, census_id, census long/lat, cd long/lat and confidence score. preferably df with 'dist' column (after get_dist_error())\n",
        "\"\"\"\n",
        "def get_dist_based_match(df, cen_lon='CENSUS_X', cen_lat='CENSUS_Y', lon='CD_X', lat='CD_Y', cd_id='CD_ID', census_id='CENSUS_ID', confidence='confidence_score'):\n",
        "    if 'dist' not in df.columns:\n",
        "        df = get_dist_error(df, cen_lon=cen_lon, cen_lat=cen_lat, lon=lon, lat=lat)\n",
        "    \n",
        "    df['dist_weight'] = round(1 / log(df['dist']) + df[confidence], 2)\n",
        "    dist_disamb = dl.get_matches(df, cd_id = cd_id, census_id = census_id, weight = 'dist_weight')\n",
        "\n",
        "    return dist_disamb\n",
        "\n",
        "\"\"\"\n",
        "Get false positive and false negative rates\n",
        "df_algo: df with \"selected\" column, after running get_matches()\n",
        "df_dist: df with \"selected\" column, after running get_dist_based_match()\n",
        "Returns confusion matrix and df_algo with 'selected' now called 'selected_algo', and an additional column, 'selected_dist' which indicates 'true' matches.\n",
        "\"\"\"\n",
        "def compare_selections(df_algo, df_dist, cd_id=\"CD_ID\", census_id=\"CENSUS_ID\"):\n",
        "    df_algo = df_algo.merge(df_dist.loc[:, [cd_id, census_id, 'selected']], how=\"inner\", on=[cd_id, census_id], validate='one_to_one', suffixes=('_algo', '_dist'))\n",
        "\n",
        "    true_positive = len(df_algo.loc[(df_algo['selected_algo'] == 1) & (df_algo['selected_dist'] == 1), :])\n",
        "    false_positive = len(df_algo.loc[(df_algo['selected_algo'] == 1) & (df_algo['selected_dist'] == 0), :])\n",
        "    false_negative = len(df_algo.loc[(df_algo['selected_algo'] == 0) & (df_algo['selected_dist'] == 1), :])\n",
        "    true_negative = len(df_algo.loc[(df_algo['selected_algo'] == 0) & (df_algo['selected_dist'] == 0), :])\n",
        "\n",
        "    confusion_matrix = [[true_positive, false_positive], [false_negative, true_negative]]\n",
        "    return {'confusion_matrix': confusion_matrix, 'merged_df': df_algo}"
      ],
      "execution_count": null,
      "outputs": [
        {
          "output_type": "stream",
          "text": [
            "Writing analysis.py\n"
          ],
          "name": "stdout"
        }
      ]
    },
    {
      "cell_type": "markdown",
      "metadata": {
        "id": "ENVsP89o4sf_"
      },
      "source": [
        "### write benchmarking module"
      ]
    },
    {
      "cell_type": "code",
      "metadata": {
        "id": "i9jue_siR8Qx",
        "colab": {
          "base_uri": "https://localhost:8080/"
        },
        "outputId": "3a652c16-7e53-4d12-e59d-09235d862e7e"
      },
      "source": [
        "# benchmark\n",
        "%%writefile benchmark.py\n",
        "\n",
        "import pandas as pd\n",
        "import re\n",
        "import numpy as np\n",
        "#import disambiguation.analysis as da\n",
        "import analysis as da\n",
        "\n",
        "\n",
        "#Static methods\n",
        "\n",
        "def get_hn(add):\n",
        "    hn = re.search('[0-9]+', add)\n",
        "    return hn.group()\n",
        "\n",
        "def get_st(add):\n",
        "    try:\n",
        "        st = re.search('(?<=[0-9]\\\\s)([A-Z]|\\\\s)+(?=,)', add)\n",
        "        return st.group()\n",
        "    except:\n",
        "        return None"
      ],
      "execution_count": null,
      "outputs": [
        {
          "output_type": "stream",
          "text": [
            "Writing benchmark.py\n"
          ],
          "name": "stdout"
        }
      ]
    },
    {
      "cell_type": "markdown",
      "metadata": {
        "id": "Y5juB3JY54EZ"
      },
      "source": [
        "### write init module"
      ]
    },
    {
      "cell_type": "code",
      "metadata": {
        "id": "HIKHd5BG566d",
        "colab": {
          "base_uri": "https://localhost:8080/"
        },
        "outputId": "9f33414f-8e8f-4534-da11-8a6282b046ab"
      },
      "source": [
        "%%writefile __init__.py\n",
        "\n",
        "import pandas as pd\n",
        "import numpy as np\n",
        "import processing as dp\n",
        "import disambiguation as dl\n",
        "import analysis as da\n",
        "import benchmark as bm\n",
        "import time\n",
        "\n",
        "class Disambiguator:\n",
        "\n",
        "    def __init__(self, match_df, cd_id=\"CD_ID\", census_id=\"CENSUS_ID\", confidence=\"confidence_score\", census_count='census_count', lon=\"CD_Y\", lat=\"CD_X\", sort_var=\"CENSUS_ID\"):\n",
        "        # initialize input \n",
        "        self.input = match_df\n",
        "\n",
        "        # initialize col names\n",
        "        self.sort_var = sort_var\n",
        "        self.cd_id = cd_id\n",
        "        self.census_id = census_id\n",
        "        self.cen_count = census_count\n",
        "        self.confidence = confidence\n",
        "        self.lon = lon\n",
        "        self.lat = lat\n",
        "\n",
        "        # output variables \n",
        "        self.bipartite = None\n",
        "        self.results = None\n",
        "\n",
        "    def run_disambiguation(self, cluster=True, k_between=True, cluster_kwargs = {}, path_kwargs = {}):\n",
        "        start_time = time.time()\n",
        "        print(\"Running\")\n",
        "\n",
        "        print(\"Creating dictionary of sub dfs (1/4)...\")\n",
        "        sub_groups = dp.split_dfs(self.input, self.sort_var, self.confidence)\n",
        "\n",
        "        print(\"Applying algorithms iteratively (2/4)...\")\n",
        "        print(\"Number of Subgraphs: \" + str(len(sub_groups)))\n",
        "\n",
        "\n",
        "        # iteratively apply algorithms onto each sub df\n",
        "        sub_groups = [dl.apply_algo(sub_groups, i, cluster=cluster, census_id=self.census_id, confidence=self.confidence, lat=self.lat, lon=self.lon, k_between=k_between, cluster_kwargs=cluster_kwargs, path_kwargs=path_kwargs) for i in range(0, len(sub_groups))]\n",
        "\n",
        "        print(\"Cleaning output (3/4)...\")\n",
        "        final = pd.concat(sub_groups)\n",
        "\n",
        "        final = final.drop_duplicates([self.cd_id, self.census_id])\n",
        "\n",
        "        final['anchor'] = final['anchor'].fillna(0)\n",
        "        final['spatial_weight'] = np.where(final['spatial_weight'].isnull(), final[self.confidence] + 1, final['spatial_weight']) # conf + 1 when weight is null - these are the rows that had did not req. spatial disambiguation, hence would def. be in shortest path\n",
        "\n",
        "        print(\"Disambiguating (4/4)...\")\n",
        "        disambiguated = dl.get_matches(final)\n",
        "        self.bipartite = disambiguated['graph']\n",
        "        self.results = disambiguated['results']\n",
        "\n",
        "        end_time = time.time()\n",
        "        print(\"Total time:\", end_time - start_time)\n",
        "        print(\"Done! :)\")\n",
        "    \n",
        "    def get_result(self):\n",
        "        return self.results\n",
        "\n",
        "    def get_bgraph(self):\n",
        "        return self.bipartite\n",
        "\n",
        "    def save_result(self, output_fn):\n",
        "        self.results.to_csv(output_fn, index=False)\n",
        "\n",
        "class Disambiguator1880(Disambiguator):\n",
        "    def __init__(self, match_df, cd_id='CD_ID', census_id='CENSUS_ID', confidence='confidence_score', lon='LONG', lat='LAT'):\n",
        "        super().__init__(match_df, cd_id=cd_id, census_id=census_id, confidence=confidence, lon=lon, lat=lat)\n",
        "        self.cen_lon = None\n",
        "        self.cen_lat = None\n",
        "        self.cen_add = None\n",
        "        self.cd_add = None\n",
        "\n",
        "    # adding in variables needed for analysis\n",
        "    def merge_census_var(self, df, merge_cen_id=\"CENSUS_ID\"):\n",
        "        try:\n",
        "           self.results = self.results.merge(df, how=\"left\", left_on=self.census_id, right_on=merge_cen_id)\n",
        "\n",
        "        except AttributeError:\n",
        "            raise Exception(\"Please run run_disambiguation() first\")\n",
        "\n",
        "    def merge_cd_var(self, df, merge_cd_id=\"CD_ID\"):\n",
        "        try:\n",
        "            self.results = self.results.merge(df, how=\"left\", left_on=self.cd_id, right_on=merge_cd_id)\n",
        "\n",
        "        except AttributeError:\n",
        "            raise Exception(\"Please run run_disambiguation() first\")\n",
        "\n",
        "    def set_var(self, var= None):\n",
        "        if var is None:\n",
        "            var = {'cen_lon': 'CENSUS_X', 'cen_lat': 'CENSUS_Y', 'cen_add': 'CENSUS_MATCH_ADDR', 'cd_add': 'MATCH_ADDR'}\n",
        "\n",
        "        for key, value in var.items():\n",
        "            setattr(self, key, value)\n",
        "\n",
        "    # functions for analysis\n",
        "    def get_match_rate(self):\n",
        "        \n",
        "        return da.get_match_rate(self.results, cd_id=self.cd_id)\n",
        "\n",
        "    def get_addr_success(self):\n",
        "        if self.cd_add is None or self.cen_add is None:\n",
        "            raise Exception(\"Please check that cd_add and cen_add have been initialized through set_var\")\n",
        "\n",
        "        return da.get_addr_success(self.results, cd_add=self.cd_add, cen_add=self.cen_add)\n",
        "\n",
        "    def get_dist_error(self):\n",
        "        if self.cen_lon is None or self.cen_lat is None:\n",
        "            raise Exception(\"Please check that cen_lon and cen_lat have been initialized through set_var\")\n",
        "\n",
        "        return da.get_dist_error(self.results, cen_lon=self.cen_lon, cen_lat=self.cen_lat, lon=self.lon, lat=self.lat)\n",
        "\n",
        "    def get_under12_selections(self, age='CENSUS_AGE'):\n",
        "        return da.get_under12_selections(self.results, age=age)\n",
        "\n",
        "class Benchmark():\n",
        "\n",
        "    def __init__(self, match, census, cd):\n",
        "\n",
        "        #Format lat/long for census data\n",
        "        self.census = self.set_census(census)\n",
        "        self.cd = self.set_cd(cd)\n",
        "        self.match = match\n",
        "        self.benchmark = self.create_benchmark()\n",
        "\n",
        "        #Variables to set\n",
        "        self.disambiguated = None\n",
        "        self.confidence = None\n",
        "\n",
        "        #outputs\n",
        "        self.benchmark_results = None\n",
        "        self.confusion_matrix = None\n",
        "\n",
        "    def set_census(self, census):\n",
        "        census = census.loc[:,['CENSUS_MATCH_ADDR', 'CENSUS_Y', 'CENSUS_X']].drop_duplicates()  # select diff variables\n",
        "        census.loc[census.CENSUS_Y > 1000, 'CENSUS_Y'] = 40.799935\n",
        "        return census\n",
        "\n",
        "    def set_cd(self, cd):\n",
        "        return cd[['OBJECTID', 'LONG', 'LAT', \"CD_BLOCK_NUM\"]]\n",
        "\n",
        "    def set_disambiguated(self, disambiguated):\n",
        "        self.disambiguated = disambiguated\n",
        "\n",
        "    def set_confidence(self, confidence):\n",
        "        self.confidence = confidence\n",
        "        # Need to figure out what's going on here\n",
        "        self.benchmark['confidence_score'] = self.benchmark['add_match'] #+ self.benchmark[self.confidence]\n",
        "\n",
        "    def create_benchmark(self):\n",
        "\n",
        "        benchmark = self.match.merge(self.census, how='left', on='CENSUS_MATCH_ADDR', validate='many_to_one')\n",
        "\n",
        "        benchmark['cd_hn'] = benchmark.apply(lambda row: bm.get_hn(row.MATCH_ADDR), axis=1)\n",
        "        benchmark['cen_hn'] = benchmark.apply(lambda row: bm.get_hn(row.CENSUS_MATCH_ADDR), axis=1)\n",
        "        benchmark['cd_add_cln'] = benchmark.apply(lambda row: bm.get_st(row.MATCH_ADDR), axis=1)\n",
        "        benchmark['cen_add_cln'] = benchmark.apply(lambda row: bm.get_st(row.CENSUS_MATCH_ADDR), axis=1)\n",
        "\n",
        "        benchmark['add_match'] = np.where(benchmark.cd_hn == benchmark.cen_hn, 0.1, 0) + np.where(\n",
        "            benchmark.cen_add_cln == benchmark.cd_add_cln, 0.9, 0)\n",
        "\n",
        "        benchmark.merge(self.cd, how='left', on='OBJECTID', validate='many_to_one')\n",
        "\n",
        "        return benchmark\n",
        "\n",
        "    def run_benchmarking(self):\n",
        "        if self.confidence is None:\n",
        "            raise Exception(\"Please set confidence first\")\n",
        "        if self.disambiguated is None:\n",
        "            raise Exception(\"Please set disambiguated first\")\n",
        "\n",
        "        self.benchmark_results = da.get_dist_based_match(self.benchmark, lon = \"LONG\", lat = \"LAT\")['results']\n",
        "        self.confusion_matrix = da.compare_selections(self.disambiguated, self.benchmark_results)['confusion_matrix']\n",
        "\n",
        "    def get_benchmark(self):\n",
        "        return self.benchmark\n",
        "\n",
        "    def get_benchmark_results(self):\n",
        "        if self.benchmark_results is None:\n",
        "            raise Exception(\"Please run benchmarking first\")\n",
        "        return self.benchmark_results\n",
        "\n",
        "    def get_confusion_matrix(self):\n",
        "        if self.confusion_matrix is None:\n",
        "            raise Exception(\"Please run benchmarking first\")\n",
        "        return self.confusion_matrix\n",
        "\n",
        "#version for new run where cd/census information does not need to be joined in\n",
        "class Benchmark_v02():\n",
        "\n",
        "    def __init__(self, match):\n",
        "\n",
        "        self.match = match\n",
        "        self.benchmark = self.create_benchmark()\n",
        "\n",
        "        #Variables to set\n",
        "        self.disambiguated = None\n",
        "        self.confidence = None\n",
        "\n",
        "        #outputs\n",
        "        self.benchmark_results = None\n",
        "        self.confusion_matrix = None\n",
        "\n",
        "    def set_disambiguated(self, disambiguated):\n",
        "        self.disambiguated = disambiguated\n",
        "\n",
        "    def set_confidence(self, confidence):\n",
        "        self.confidence = confidence\n",
        "        # Need to figure out what's going on here\n",
        "        self.benchmark['confidence_score'] = self.benchmark['add_match'] #+ self.benchmark[self.confidence]\n",
        "\n",
        "    def create_benchmark(self):\n",
        "        benchmark = self.match.copy()\n",
        "\n",
        "        #change to use actual street/house numbers once they are sorted out for the census data\n",
        "        benchmark['cd_hn'] = benchmark.apply(lambda row: bm.get_hn(row.CD_H_ADDRESS), axis=1)\n",
        "        benchmark['cen_hn'] = benchmark.apply(lambda row: bm.get_hn(row.CENSUS_MATCH_ADDR), axis=1)\n",
        "        benchmark['cd_add_cln'] = benchmark.apply(lambda row: bm.get_st(row.CD_H_ADDRESS), axis=1)\n",
        "        benchmark['cen_add_cln'] = benchmark.apply(lambda row: bm.get_st(row.CENSUS_MATCH_ADDR), axis=1)\n",
        "\n",
        "        benchmark['add_match'] = np.where(benchmark.cd_hn == benchmark.cen_hn, 0.1, 0) + np.where(\n",
        "            benchmark.cen_add_cln == benchmark.cd_add_cln, 0.9, 0)\n",
        "\n",
        "        return benchmark\n",
        "\n",
        "    def run_benchmarking(self):\n",
        "        if self.confidence is None:\n",
        "            raise Exception(\"Please set confidence first\")\n",
        "        if self.disambiguated is None:\n",
        "            raise Exception(\"Please set disambiguated first\")\n",
        "\n",
        "        self.benchmark_results = da.get_dist_based_match(self.benchmark, confidence = self.confidence)['results']\n",
        "        self.confusion_matrix = da.compare_selections(self.disambiguated, self.benchmark_results)['confusion_matrix']\n",
        "\n",
        "    def get_benchmark(self):\n",
        "        return self.benchmark\n",
        "\n",
        "    def get_benchmark_results(self):\n",
        "        if self.benchmark_results is None:\n",
        "            raise Exception(\"Please run benchmarking first\")\n",
        "        return self.benchmark_results\n",
        "\n",
        "    def get_confusion_matrix(self):\n",
        "        if self.confusion_matrix is None:\n",
        "            raise Exception(\"Please run benchmarking first\")\n",
        "        return self.confusion_matrix"
      ],
      "execution_count": null,
      "outputs": [
        {
          "output_type": "stream",
          "text": [
            "Writing __init__.py\n"
          ],
          "name": "stdout"
        }
      ]
    },
    {
      "cell_type": "markdown",
      "metadata": {
        "id": "A__HwRP4lYRD"
      },
      "source": [
        "### confidence score tuning"
      ]
    },
    {
      "cell_type": "code",
      "metadata": {
        "colab": {
          "base_uri": "https://localhost:8080/"
        },
        "id": "UHBourqWlMt1",
        "outputId": "344f4fc0-0cc5-46a6-ea50-2f6c58c57587"
      },
      "source": [
        "%%writefile confidence_score_tuning.py\n",
        "from __init__ import Disambiguator, Disambiguator1880, Benchmark, Benchmark_v02\n",
        "\n",
        "\"\"\"\n",
        "Purpose: Generate confidence scores as a list\n",
        "df: elastic search dataframe formatted for disambiguation\n",
        "columns: columns we want to use to create confidence score\n",
        "weights: corresponding weights we want to use to create confidence score, should sum to one\n",
        "\"\"\"\n",
        "def confidence_score(df, columns, weights):\n",
        "    return [sum(row[col]*w for col, w in zip(columns,weights)) for index,row in df.iterrows()]\n",
        "\n",
        "\"\"\"\n",
        "#Unneeded in new data run\n",
        "Purpose: Format census data for benchmarking\n",
        "census: census data \n",
        "\"\"\"\n",
        "def census_for_disamb(census):\n",
        "    census_latlng_tuning = census.copy()\n",
        "    census_latlng_tuning['CENSUS_ID'] = 'CENSUS_' + census_latlng_tuning['OBJECTID.x'].astype(str)\n",
        "    census_latlng_tuning = census_latlng_tuning.loc[:, ['CENSUS_ID', 'CENSUS_X', 'CENSUS_Y']]\n",
        "    census_latlng_tuning.loc[census_latlng_tuning.CENSUS_Y > 1000, 'CENSUS_Y'] = 40.799935\n",
        "    return census_latlng_tuning\n",
        "\n",
        "\"\"\"\n",
        "param_grid: list of dictionaries with names of columns to use for a trial cf score and corresponding weights\n",
        "df_allcols: elastic search output formatted for disambiguation\n",
        "df_census: census data for benchmarking\n",
        "df_cd: city directory data for benchmarking\n",
        "\"\"\"\n",
        "def confidence_score_tuning(param_grid, df_allcols, df_census, df_cd):\n",
        "    # Store results\n",
        "    results = {}\n",
        "    df = df_allcols.copy()\n",
        "\n",
        "    # Get confidence score for each value in grid\n",
        "    for i in range(len(param_grid)):\n",
        "        name = \"confidence_score_\" + str(i)\n",
        "        df.loc[:, name] = confidence_score(df_allcols, param_grid[i][\"columns\"], param_grid[i][\"weights\"])\n",
        "\n",
        "    # Create benchmark object\n",
        "    benchmark = Benchmark(df, df_census, df_cd)\n",
        "\n",
        "    # Format census data for tuning\n",
        "    census_tuning = census_for_disamb(df_census)\n",
        "\n",
        "    # try:\n",
        "    for i in range(len(param_grid)):\n",
        "        name = \"confidence_score_\" + str(i)\n",
        "\n",
        "        # Run disambiguation process (use betweeness and clustering -- based on Jolene's work)\n",
        "        basic = Disambiguator1880(df, confidence=name)\n",
        "\n",
        "        try:\n",
        "            basic.run_disambiguation()\n",
        "        except:\n",
        "            continue\n",
        "\n",
        "        result = basic.get_result()  # .to_csv(\"..data/confidence_score_tuning/confidence_score_\"+str(i))\n",
        "\n",
        "        # Results analysis\n",
        "        basic.merge_census_var(census_tuning)\n",
        "        basic.set_var()\n",
        "\n",
        "        # benchmarking\n",
        "        benchmark.set_confidence(name)\n",
        "        benchmark.set_disambiguated(result)\n",
        "        benchmark.run_benchmarking()\n",
        "\n",
        "        # Store results\n",
        "        results[name] = {\"columns\": param_grid[i][\"columns\"], \"weights\": param_grid[i][\"weights\"],\n",
        "                         \"Match Rate\": basic.get_match_rate(), \"Address Success\": basic.get_addr_success(),\n",
        "                         \"Under 12\": basic.get_under12_selections(),\n",
        "                         \"confusion matrix\": benchmark.get_confusion_matrix()}\n",
        "\n",
        "        # will return results so far even if exception occurs\n",
        "        # Spit out the best columns and weights (Add this in when decide what makes something the best)\n",
        "        # For now simply output the analysis\n",
        "    return results\n",
        "\n",
        "#Uses new version of benchmarking, bc elastic search output means we don't need to join in the x/ys separately\n",
        "def confidence_score_tuning_v02(param_grid, df_elastic_search):\n",
        "    # Store results\n",
        "    results = {}\n",
        "    df = df_elastic_search.copy()\n",
        "\n",
        "    # Get confidence score for each value in grid\n",
        "    for i in range(len(param_grid)):\n",
        "        name = \"confidence_score_\" + str(i)\n",
        "        df.loc[:, name] = confidence_score(df_elastic_search, param_grid[i][\"columns\"], param_grid[i][\"weights\"])\n",
        "\n",
        "    benchmark = Benchmark_v02(df_elastic_search)\n",
        "\n",
        "    for i in range(len(param_grid)):\n",
        "        name = \"confidence_score_\" + str(i)\n",
        "\n",
        "        # Run disambiguation process (use betweeness and clustering -- based on Jolene's work)\n",
        "        basic = Disambiguator1880(df, confidence=name)\n",
        "\n",
        "        #try:\n",
        "        basic.run_disambiguation()\n",
        "        #except:\n",
        "            #continue\n",
        "\n",
        "        result = basic.get_result()  # .to_csv(\"..data/confidence_score_tuning/confidence_score_\"+str(i))\n",
        "\n",
        "        # Results analysis\n",
        "        basic.set_var()\n",
        "\n",
        "        # benchmarking\n",
        "        benchmark.set_confidence(name)\n",
        "        benchmark.set_disambiguated(result)\n",
        "        benchmark.run_benchmarking()\n",
        "\n",
        "        # Store results\n",
        "        results[name] = {\"columns\": param_grid[i][\"columns\"], \"weights\": param_grid[i][\"weights\"],\n",
        "                         \"Match Rate\": basic.get_match_rate(), \"Address Success\": basic.get_addr_success(),\n",
        "                         \"Under 12\": basic.get_under12_selections(),\n",
        "                         \"confusion matrix\": benchmark.get_confusion_matrix()}\n",
        "\n",
        "        # will return results so far even if exception occurs\n",
        "        # Spit out the best columns and weights (Add this in when decide what makes something the best)\n",
        "        # For now simply output the analysis\n",
        "    return results\n",
        "\n"
      ],
      "execution_count": null,
      "outputs": [
        {
          "output_type": "stream",
          "text": [
            "Writing confidence_score_tuning.py\n"
          ],
          "name": "stdout"
        }
      ]
    },
    {
      "cell_type": "markdown",
      "metadata": {
        "id": "nW9v_xG6xvZz"
      },
      "source": [
        "## dwellings"
      ]
    },
    {
      "cell_type": "markdown",
      "metadata": {
        "id": "GRH4ZmMx54Cy"
      },
      "source": [
        "Goal: Assign address, block number, x coordinate, and y coordinate to each dwelling matched with an address through disambiguation\\ Problem: Disambiguation occurs at the individual census record level, matching individuals between the city directory and census records. Because a dwelling has a single address this means that when there's a match's information can be assigned to every record within that dwelling. However, records within a dwelling could be matched to different addresses, these conflicts need to be resolved\\ Method: When there's a single match among census records within a dwelling assign values from that match to every record in that dwelling. If there's a conflict within a dwelling select one of the matches and assign those values to every record in that dwelling.\\ In this notebook: Illustrates different approaches to resolving dwelling conflicts and fills in dwellings accordingly."
      ]
    },
    {
      "cell_type": "code",
      "metadata": {
        "id": "ypoDFoTcx0z_"
      },
      "source": [
        "\r\n",
        "import pandas as pd\r\n",
        "import numpy as np\r\n",
        "from collections import defaultdict\r\n",
        "import re\r\n",
        "import networkx as nx  \r\n",
        "import os\r\n",
        "import sys\r\n",
        "module_path = os.path.abspath(os.path.join('..'))\r\n",
        "if module_path not in sys.path:\r\n",
        "    sys.path.append(module_path)\r\n",
        "%load_ext autoreload\r\n",
        "%autoreload 2\r\n",
        "import disambiguation\r\n",
        "import processing as dp\r\n",
        "from networkx.algorithms import bipartite"
      ],
      "execution_count": null,
      "outputs": []
    },
    {
      "cell_type": "markdown",
      "metadata": {
        "id": "5OVI9NBfyG9Z"
      },
      "source": [
        "### get data"
      ]
    },
    {
      "cell_type": "code",
      "metadata": {
        "id": "iIDwPj_tx-bv"
      },
      "source": [
        "census_1850 = pd.read_csv(\"/content/census_1850_indexUpdate.csv\")\r\n",
        "disambiguated_1850 = pd.read_csv(\"/content/1850_mn_match_24-11-2020.csv\")"
      ],
      "execution_count": null,
      "outputs": []
    },
    {
      "cell_type": "markdown",
      "metadata": {
        "id": "XwL-VDWgyrjs"
      },
      "source": [
        "### Merge 1850 census data with the selected matches from disambiguation"
      ]
    },
    {
      "cell_type": "code",
      "metadata": {
        "id": "qqR8kJNLy_LS"
      },
      "source": [
        "disambiguated_1850.info()"
      ],
      "execution_count": null,
      "outputs": []
    },
    {
      "cell_type": "code",
      "metadata": {
        "id": "xzA6_KYKytAo"
      },
      "source": [
        "disambiguated_selected = disambiguated_1850[[\"CENSUS_ID\", \"CD_H_ADDRESS\", \"selected\", \"spatial_weight\", \"CD_X\", \"CD_Y\", \"CD_BLOCK_NUM\"]]\r\n",
        "disambiguated_selected = disambiguated_selected[disambiguated_selected[\"selected\"] == 1]\r\n",
        "disambiguated_selected.loc[:,\"CENSUS_ID\"] = disambiguated_selected[\"CENSUS_ID\"].apply(lambda x: x.strip(\"CENSUS_\"))"
      ],
      "execution_count": null,
      "outputs": []
    },
    {
      "cell_type": "markdown",
      "metadata": {
        "id": "66Pyp3u76PHW"
      },
      "source": [
        "Notes: Only done on 1850 dataset due to lack of clearly indicated dwelling numbers/household numbers on 1880 dataset. Need to check how well this works manually. -Use CENSUS_ID from disambiguated and CENSUS_IPUMSUID from census data for joins, these have the same values, but need to strip the word CENSUS from CENSUS_ID data (this was added in during the disambiguation process)"
      ]
    },
    {
      "cell_type": "code",
      "metadata": {
        "colab": {
          "base_uri": "https://localhost:8080/",
          "height": 479
        },
        "id": "VJsVp0g1zVgV",
        "outputId": "e86910bc-3750-4b68-e485-b5418c7828ba"
      },
      "source": [
        "CensusDis1850 = census_1850.merge(disambiguated_selected, how = \"left\", left_on = \"CENSUS_IPUMS_UID\", right_on = \"CENSUS_ID\")\r\n",
        "CensusDis1850.head()"
      ],
      "execution_count": null,
      "outputs": [
        {
          "output_type": "execute_result",
          "data": {
            "text/html": [
              "<div>\n",
              "<style scoped>\n",
              "    .dataframe tbody tr th:only-of-type {\n",
              "        vertical-align: middle;\n",
              "    }\n",
              "\n",
              "    .dataframe tbody tr th {\n",
              "        vertical-align: top;\n",
              "    }\n",
              "\n",
              "    .dataframe thead th {\n",
              "        text-align: right;\n",
              "    }\n",
              "</style>\n",
              "<table border=\"1\" class=\"dataframe\">\n",
              "  <thead>\n",
              "    <tr style=\"text-align: right;\">\n",
              "      <th></th>\n",
              "      <th>CENSUS_SERIALP</th>\n",
              "      <th>CENSUS_AGE</th>\n",
              "      <th>CENSUS_SEX</th>\n",
              "      <th>CENSUS_MARST</th>\n",
              "      <th>CENSUS_RACE</th>\n",
              "      <th>CENSUS_LABFORCE</th>\n",
              "      <th>CENSUS_IMPREL</th>\n",
              "      <th>CENSUS_OCCSTR</th>\n",
              "      <th>CENSUS_NAMELAST</th>\n",
              "      <th>CENSUS_NAMEFRST</th>\n",
              "      <th>CENSUS_SEQ_NUM</th>\n",
              "      <th>CENSUS_HH_NUM</th>\n",
              "      <th>CENSUS_IPUMS_UID</th>\n",
              "      <th>CENSUS_CITY</th>\n",
              "      <th>CENSUS_PAGENO_HOUSEHOLD</th>\n",
              "      <th>CENSUS_WARD_NUM</th>\n",
              "      <th>CENSUS_REEL_HOUSEHOLD</th>\n",
              "      <th>CENSUS_PLACE</th>\n",
              "      <th>CENSUS_DWELLING_NUM</th>\n",
              "      <th>CENSUS_DWELLING_SEQ</th>\n",
              "      <th>CENSUS_DWELLING_SIZE</th>\n",
              "      <th>CENSUS_GEOG</th>\n",
              "      <th>CENSUS_LINE</th>\n",
              "      <th>CENSUS_INDEX</th>\n",
              "      <th>CENSUS_ID</th>\n",
              "      <th>CD_H_ADDRESS</th>\n",
              "      <th>selected</th>\n",
              "      <th>spatial_weight</th>\n",
              "      <th>CD_X</th>\n",
              "      <th>CD_Y</th>\n",
              "      <th>CD_BLOCK_NUM</th>\n",
              "    </tr>\n",
              "  </thead>\n",
              "  <tbody>\n",
              "    <tr>\n",
              "      <th>0</th>\n",
              "      <td>2044262</td>\n",
              "      <td>49</td>\n",
              "      <td>1</td>\n",
              "      <td>6</td>\n",
              "      <td>120</td>\n",
              "      <td>2</td>\n",
              "      <td>1</td>\n",
              "      <td>INN KEEPER</td>\n",
              "      <td>FLINT</td>\n",
              "      <td>JOHN M</td>\n",
              "      <td>1</td>\n",
              "      <td>401735</td>\n",
              "      <td>1a0cea81-aa4c-4e02-af29-37f3fdadd987</td>\n",
              "      <td>4610</td>\n",
              "      <td>70</td>\n",
              "      <td>1</td>\n",
              "      <td>534</td>\n",
              "      <td>MANHATTAN</td>\n",
              "      <td>1.0</td>\n",
              "      <td>1.0</td>\n",
              "      <td>84</td>\n",
              "      <td>NEW YORK WARD 1 EASTERN DIVISION</td>\n",
              "      <td>10</td>\n",
              "      <td>1</td>\n",
              "      <td>NaN</td>\n",
              "      <td>NaN</td>\n",
              "      <td>NaN</td>\n",
              "      <td>NaN</td>\n",
              "      <td>NaN</td>\n",
              "      <td>NaN</td>\n",
              "      <td>NaN</td>\n",
              "    </tr>\n",
              "    <tr>\n",
              "      <th>1</th>\n",
              "      <td>2044263</td>\n",
              "      <td>36</td>\n",
              "      <td>2</td>\n",
              "      <td>6</td>\n",
              "      <td>120</td>\n",
              "      <td>0</td>\n",
              "      <td>1</td>\n",
              "      <td>NaN</td>\n",
              "      <td>FLINT</td>\n",
              "      <td>MARY A</td>\n",
              "      <td>2</td>\n",
              "      <td>401735</td>\n",
              "      <td>29aed4d0-b649-4d6b-9e28-3db8f4da81d8</td>\n",
              "      <td>4610</td>\n",
              "      <td>70</td>\n",
              "      <td>1</td>\n",
              "      <td>534</td>\n",
              "      <td>MANHATTAN</td>\n",
              "      <td>1.0</td>\n",
              "      <td>1.0</td>\n",
              "      <td>84</td>\n",
              "      <td>NEW YORK WARD 1 EASTERN DIVISION</td>\n",
              "      <td>10</td>\n",
              "      <td>2</td>\n",
              "      <td>NaN</td>\n",
              "      <td>NaN</td>\n",
              "      <td>NaN</td>\n",
              "      <td>NaN</td>\n",
              "      <td>NaN</td>\n",
              "      <td>NaN</td>\n",
              "      <td>NaN</td>\n",
              "    </tr>\n",
              "    <tr>\n",
              "      <th>2</th>\n",
              "      <td>2044264</td>\n",
              "      <td>12</td>\n",
              "      <td>2</td>\n",
              "      <td>6</td>\n",
              "      <td>120</td>\n",
              "      <td>0</td>\n",
              "      <td>1</td>\n",
              "      <td>NaN</td>\n",
              "      <td>FLINT</td>\n",
              "      <td>MARY D</td>\n",
              "      <td>3</td>\n",
              "      <td>401735</td>\n",
              "      <td>8cfac447-5fdf-44a4-888c-ee1c7e2a8355</td>\n",
              "      <td>4610</td>\n",
              "      <td>70</td>\n",
              "      <td>1</td>\n",
              "      <td>534</td>\n",
              "      <td>MANHATTAN</td>\n",
              "      <td>1.0</td>\n",
              "      <td>1.0</td>\n",
              "      <td>84</td>\n",
              "      <td>NEW YORK WARD 1 EASTERN DIVISION</td>\n",
              "      <td>10</td>\n",
              "      <td>3</td>\n",
              "      <td>NaN</td>\n",
              "      <td>NaN</td>\n",
              "      <td>NaN</td>\n",
              "      <td>NaN</td>\n",
              "      <td>NaN</td>\n",
              "      <td>NaN</td>\n",
              "      <td>NaN</td>\n",
              "    </tr>\n",
              "    <tr>\n",
              "      <th>3</th>\n",
              "      <td>2044265</td>\n",
              "      <td>40</td>\n",
              "      <td>1</td>\n",
              "      <td>6</td>\n",
              "      <td>120</td>\n",
              "      <td>2</td>\n",
              "      <td>1</td>\n",
              "      <td>COMB MERCHANT</td>\n",
              "      <td>OATMAN</td>\n",
              "      <td>JAMES C</td>\n",
              "      <td>4</td>\n",
              "      <td>401736</td>\n",
              "      <td>ec0bff21-a919-42bf-a22c-7c6ef9b656af</td>\n",
              "      <td>4610</td>\n",
              "      <td>70</td>\n",
              "      <td>1</td>\n",
              "      <td>534</td>\n",
              "      <td>MANHATTAN</td>\n",
              "      <td>1.0</td>\n",
              "      <td>1.0</td>\n",
              "      <td>84</td>\n",
              "      <td>NEW YORK WARD 1 EASTERN DIVISION</td>\n",
              "      <td>10</td>\n",
              "      <td>4</td>\n",
              "      <td>NaN</td>\n",
              "      <td>NaN</td>\n",
              "      <td>NaN</td>\n",
              "      <td>NaN</td>\n",
              "      <td>NaN</td>\n",
              "      <td>NaN</td>\n",
              "      <td>NaN</td>\n",
              "    </tr>\n",
              "    <tr>\n",
              "      <th>4</th>\n",
              "      <td>2044266</td>\n",
              "      <td>28</td>\n",
              "      <td>2</td>\n",
              "      <td>6</td>\n",
              "      <td>120</td>\n",
              "      <td>0</td>\n",
              "      <td>1</td>\n",
              "      <td>NaN</td>\n",
              "      <td>OATMAN</td>\n",
              "      <td>CAROLINE E</td>\n",
              "      <td>5</td>\n",
              "      <td>401736</td>\n",
              "      <td>61d38b86-d8bc-4b69-bb6b-3169fa0e594d</td>\n",
              "      <td>4610</td>\n",
              "      <td>70</td>\n",
              "      <td>1</td>\n",
              "      <td>534</td>\n",
              "      <td>MANHATTAN</td>\n",
              "      <td>1.0</td>\n",
              "      <td>1.0</td>\n",
              "      <td>84</td>\n",
              "      <td>NEW YORK WARD 1 EASTERN DIVISION</td>\n",
              "      <td>10</td>\n",
              "      <td>5</td>\n",
              "      <td>NaN</td>\n",
              "      <td>NaN</td>\n",
              "      <td>NaN</td>\n",
              "      <td>NaN</td>\n",
              "      <td>NaN</td>\n",
              "      <td>NaN</td>\n",
              "      <td>NaN</td>\n",
              "    </tr>\n",
              "  </tbody>\n",
              "</table>\n",
              "</div>"
            ],
            "text/plain": [
              "   CENSUS_SERIALP  CENSUS_AGE  CENSUS_SEX  ...  CD_X  CD_Y  CD_BLOCK_NUM\n",
              "0         2044262          49           1  ...   NaN   NaN           NaN\n",
              "1         2044263          36           2  ...   NaN   NaN           NaN\n",
              "2         2044264          12           2  ...   NaN   NaN           NaN\n",
              "3         2044265          40           1  ...   NaN   NaN           NaN\n",
              "4         2044266          28           2  ...   NaN   NaN           NaN\n",
              "\n",
              "[5 rows x 31 columns]"
            ]
          },
          "metadata": {
            "tags": []
          },
          "execution_count": 9
        }
      ]
    },
    {
      "cell_type": "code",
      "metadata": {
        "colab": {
          "base_uri": "https://localhost:8080/"
        },
        "id": "AI3znCSTzvsd",
        "outputId": "8801461d-93fd-4cf1-892d-602aa30838cc"
      },
      "source": [
        "census_1850.shape"
      ],
      "execution_count": null,
      "outputs": [
        {
          "output_type": "execute_result",
          "data": {
            "text/plain": [
              "(515630, 24)"
            ]
          },
          "metadata": {
            "tags": []
          },
          "execution_count": 10
        }
      ]
    },
    {
      "cell_type": "code",
      "metadata": {
        "colab": {
          "base_uri": "https://localhost:8080/"
        },
        "id": "XN0BPhxhzx8x",
        "outputId": "dfbe012a-b55f-462d-fda0-c5a4bbc24158"
      },
      "source": [
        "print(\"Proportion of census data assigned addresses:\", CensusDis1850.CD_H_ADDRESS.count()/515630)"
      ],
      "execution_count": null,
      "outputs": [
        {
          "output_type": "stream",
          "text": [
            "Proportion of census data assigned addresses: 0.06170703799235886\n"
          ],
          "name": "stdout"
        }
      ]
    },
    {
      "cell_type": "code",
      "metadata": {
        "id": "OYghFGDC0UG4"
      },
      "source": [
        "def get_counts(x, one_add, no_add, more_add, col, counts1, counts2, counts3):\r\n",
        "\r\n",
        "    c = x[\"CD_H_ADDRESS\"].nunique()\r\n",
        "    if c == 0:\r\n",
        "        no_add.append((x[\"CENSUS_WARD_NUM\"].iloc[0], x[col].iloc[0]))\r\n",
        "        counts1.append(len(x))\r\n",
        "    elif c == 1:\r\n",
        "        one_add.append((x[\"CENSUS_WARD_NUM\"].iloc[0], x[col].iloc[0]))\r\n",
        "        counts2.append(len(x))\r\n",
        "    \r\n",
        "    elif c > 1:\r\n",
        "        more_add.append((x[\"CENSUS_WARD_NUM\"].iloc[0], x[col].iloc[0]))\r\n",
        "        counts3.append(len(x))"
      ],
      "execution_count": null,
      "outputs": []
    },
    {
      "cell_type": "code",
      "metadata": {
        "id": "7FZvmwcY0niv"
      },
      "source": [
        "no_add = []\r\n",
        "one_add = []\r\n",
        "more_add = []\r\n",
        "counts_no_add = []\r\n",
        "counts_one_add = []\r\n",
        "counts_more_add = []\r\n",
        "\r\n",
        "for index, df in CensusDis1850.groupby([\"CENSUS_WARD_NUM\", \"CENSUS_DWELLING_NUM\"]):\r\n",
        "    get_counts(df, one_add, no_add, more_add, \"CENSUS_DWELLING_NUM\", counts_no_add, counts_one_add, counts_more_add)"
      ],
      "execution_count": null,
      "outputs": []
    },
    {
      "cell_type": "code",
      "metadata": {
        "colab": {
          "base_uri": "https://localhost:8080/"
        },
        "id": "YDWYHEvi1BF5",
        "outputId": "cf66cc06-8e9a-4773-9679-87c6fd0d036b"
      },
      "source": [
        "print(\"Proportion of dwellings assigned one address:\", len(one_add)/CensusDis1850.groupby([\"CENSUS_WARD_NUM\", \"CENSUS_DWELLING_NUM\"]).ngroups)\r\n",
        "print(\"Proportion of dwellings without an address:\", len(no_add)/CensusDis1850.groupby([\"CENSUS_WARD_NUM\", \"CENSUS_DWELLING_NUM\"]).ngroups)\r\n",
        "print(\"Proportion of dwellings assigned more than one address:\", len(more_add)/CensusDis1850.groupby([\"CENSUS_WARD_NUM\", \"CENSUS_DWELLING_NUM\"]).ngroups)"
      ],
      "execution_count": null,
      "outputs": [
        {
          "output_type": "stream",
          "text": [
            "Proportion of dwellings assigned one address: 0.27702395964691046\n",
            "Proportion of dwellings without an address: 0.3470365699873897\n",
            "Proportion of dwellings assigned more than one address: 0.37593947036569986\n"
          ],
          "name": "stdout"
        }
      ]
    },
    {
      "cell_type": "code",
      "metadata": {
        "colab": {
          "base_uri": "https://localhost:8080/"
        },
        "id": "h_vDQKBo4Rix",
        "outputId": "8b5895ee-3717-44ef-ded9-4d4b41e4359b"
      },
      "source": [
        "print(\"Proportion of census data that should be assigned an address as is:\", sum(counts_one_add)/515630)\r\n",
        "print(\"Proportion of census data that should be assigned an address after dealing with conflicts:\", (sum(counts_one_add) + sum(counts_more_add))/515630)\r\n",
        "print(\"Proportion of census data that we shouldn't be able to assign an address to:\", sum(counts_no_add)/515630)"
      ],
      "execution_count": null,
      "outputs": [
        {
          "output_type": "stream",
          "text": [
            "Proportion of census data that should be assigned an address as is: 0.25355972305723096\n",
            "Proportion of census data that should be assigned an address after dealing with conflicts: 0.8010298081957993\n",
            "Proportion of census data that we shouldn't be able to assign an address to: 0.19720148168260188\n"
          ],
          "name": "stdout"
        }
      ]
    },
    {
      "cell_type": "code",
      "metadata": {
        "id": "XTt2CEXV1Qzt"
      },
      "source": [
        "\r\n",
        "#Function for filling in households/dwelling numbers if relevant\r\n",
        "def check_quant(x, exceptions, col, tuple = False):\r\n",
        "\r\n",
        "    c = x[\"CD_H_ADDRESS\"].nunique()\r\n",
        "    if c > 1:\r\n",
        "        if tuple:\r\n",
        "            exceptions.append((x[\"CENSUS_WARD_NUM\"].iloc[0], x[col].iloc[0]))\r\n",
        "        else:\r\n",
        "            exceptions.append(x[col].iloc[0])\r\n",
        "    elif c == 1:\r\n",
        "        x[\"CD_H_ADDRESS\"] = x[\"CD_H_ADDRESS\"].ffill().bfill()\r\n",
        "        x[\"CD_X\"] = x[\"CD_X\"].ffill().bfill()\r\n",
        "        x[\"CD_Y\"] = x[\"CD_Y\"].ffill().bfill()\r\n",
        "        x[\"CD_BLOCK_NUM\"] = x[\"CD_BLOCK_NUM\"].ffill().bfill()\r\n",
        "    return x"
      ],
      "execution_count": null,
      "outputs": []
    },
    {
      "cell_type": "code",
      "metadata": {
        "id": "f3wEMqCe2m-t"
      },
      "source": [
        "dwellings_conflicts = []\r\n",
        "base_fill = CensusDis1850.groupby([\"CENSUS_WARD_NUM\", \"CENSUS_DWELLING_NUM\"]).apply(lambda x: check_quant(x, dwellings_conflicts, \"CENSUS_DWELLING_NUM\", tuple = True))"
      ],
      "execution_count": null,
      "outputs": []
    },
    {
      "cell_type": "code",
      "metadata": {
        "colab": {
          "base_uri": "https://localhost:8080/"
        },
        "id": "Er2heWGL5IXV",
        "outputId": "2fb3d82b-58aa-46f8-cc50-db334b3ef7db"
      },
      "source": [
        "print(\"Proportion of census data assigned addresses:\", base_fill.CD_H_ADDRESS.count()/515630)"
      ],
      "execution_count": null,
      "outputs": [
        {
          "output_type": "stream",
          "text": [
            "Proportion of census data assigned addresses: 0.30232143203459844\n"
          ],
          "name": "stdout"
        }
      ]
    },
    {
      "cell_type": "code",
      "metadata": {
        "colab": {
          "base_uri": "https://localhost:8080/"
        },
        "id": "iJ-sVbhd5hXl",
        "outputId": "71e37226-3649-4d9f-c53c-03053dcdb48d"
      },
      "source": [
        "base_fill.CD_H_ADDRESS.count()"
      ],
      "execution_count": null,
      "outputs": [
        {
          "output_type": "execute_result",
          "data": {
            "text/plain": [
              "155886"
            ]
          },
          "metadata": {
            "tags": []
          },
          "execution_count": 25
        }
      ]
    },
    {
      "cell_type": "code",
      "metadata": {
        "colab": {
          "base_uri": "https://localhost:8080/"
        },
        "id": "2-5TDsSI5p6t",
        "outputId": "b9aaa925-6201-4758-97ec-d8846885f650"
      },
      "source": [
        "sum(counts_one_add)"
      ],
      "execution_count": null,
      "outputs": [
        {
          "output_type": "execute_result",
          "data": {
            "text/plain": [
              "130743"
            ]
          },
          "metadata": {
            "tags": []
          },
          "execution_count": 26
        }
      ]
    },
    {
      "cell_type": "code",
      "metadata": {
        "colab": {
          "base_uri": "https://localhost:8080/"
        },
        "id": "8uofR3SN5thU",
        "outputId": "7f3c2690-1790-40cb-b3bc-4a80c725de03"
      },
      "source": [
        "more_add == dwellings_conflicts"
      ],
      "execution_count": null,
      "outputs": [
        {
          "output_type": "execute_result",
          "data": {
            "text/plain": [
              "True"
            ]
          },
          "metadata": {
            "tags": []
          },
          "execution_count": 27
        }
      ]
    },
    {
      "cell_type": "markdown",
      "metadata": {
        "id": "iOpWp72r54Lc"
      },
      "source": [
        "It's a little odd that more values are filled in than I would expect, but that the two lists are the same seems promising? Maybe missing dwelling numbers are causing this?"
      ]
    },
    {
      "cell_type": "code",
      "metadata": {
        "colab": {
          "base_uri": "https://localhost:8080/"
        },
        "id": "c6yzmipI5yL7",
        "outputId": "d2766754-d220-47bb-b807-dd4fafe517ef"
      },
      "source": [
        "Dwelling_nums_nas = CensusDis1850[CensusDis1850[\"CENSUS_DWELLING_NUM\"].isnull()]\r\n",
        "nans_addresses = Dwelling_nums_nas.CD_H_ADDRESS.count()\r\n",
        "Dwelling_nums_nas.info()"
      ],
      "execution_count": null,
      "outputs": [
        {
          "output_type": "stream",
          "text": [
            "<class 'pandas.core.frame.DataFrame'>\n",
            "Int64Index: 912 entries, 1307 to 495263\n",
            "Data columns (total 31 columns):\n",
            " #   Column                   Non-Null Count  Dtype  \n",
            "---  ------                   --------------  -----  \n",
            " 0   CENSUS_SERIALP           912 non-null    int64  \n",
            " 1   CENSUS_AGE               912 non-null    int64  \n",
            " 2   CENSUS_SEX               912 non-null    int64  \n",
            " 3   CENSUS_MARST             912 non-null    int64  \n",
            " 4   CENSUS_RACE              912 non-null    int64  \n",
            " 5   CENSUS_LABFORCE          912 non-null    int64  \n",
            " 6   CENSUS_IMPREL            912 non-null    int64  \n",
            " 7   CENSUS_OCCSTR            367 non-null    object \n",
            " 8   CENSUS_NAMELAST          911 non-null    object \n",
            " 9   CENSUS_NAMEFRST          912 non-null    object \n",
            " 10  CENSUS_SEQ_NUM           912 non-null    int64  \n",
            " 11  CENSUS_HH_NUM            912 non-null    int64  \n",
            " 12  CENSUS_IPUMS_UID         912 non-null    object \n",
            " 13  CENSUS_CITY              912 non-null    int64  \n",
            " 14  CENSUS_PAGENO_HOUSEHOLD  912 non-null    int64  \n",
            " 15  CENSUS_WARD_NUM          912 non-null    int64  \n",
            " 16  CENSUS_REEL_HOUSEHOLD    912 non-null    int64  \n",
            " 17  CENSUS_PLACE             912 non-null    object \n",
            " 18  CENSUS_DWELLING_NUM      0 non-null      float64\n",
            " 19  CENSUS_DWELLING_SEQ      885 non-null    float64\n",
            " 20  CENSUS_DWELLING_SIZE     912 non-null    int64  \n",
            " 21  CENSUS_GEOG              912 non-null    object \n",
            " 22  CENSUS_LINE              912 non-null    int64  \n",
            " 23  CENSUS_INDEX             912 non-null    int64  \n",
            " 24  CENSUS_ID                70 non-null     object \n",
            " 25  CD_H_ADDRESS             70 non-null     object \n",
            " 26  selected                 70 non-null     float64\n",
            " 27  spatial_weight           70 non-null     float64\n",
            " 28  CD_X                     70 non-null     float64\n",
            " 29  CD_Y                     70 non-null     float64\n",
            " 30  CD_BLOCK_NUM             70 non-null     object \n",
            "dtypes: float64(6), int64(16), object(9)\n",
            "memory usage: 228.0+ KB\n"
          ],
          "name": "stdout"
        }
      ]
    },
    {
      "cell_type": "markdown",
      "metadata": {
        "id": "91ckgiyv6eqz"
      },
      "source": [
        "So this is too small to explain the difference. For now it's not different enough to stop from continuing, but it's definitely worth keeping in mind."
      ]
    },
    {
      "cell_type": "markdown",
      "metadata": {
        "id": "3Y9jeSiC69t1"
      },
      "source": [
        "### Fill in Addresses for Household/Dwelling, based on Disambiguation Match\r\n",
        "Note: Does not resolve conflicts\r\n",
        "\r\n",
        "#### Fill in addresses for census entries in the same household"
      ]
    },
    {
      "cell_type": "code",
      "metadata": {
        "id": "cixugHq76fXl"
      },
      "source": [
        "#confirm that household/dwelling values are unique accross the entire dataset\r\n",
        "def uniqueness(df, col):\r\n",
        "    df_check = df[[\"CENSUS_WARD_NUM\", col]]\r\n",
        "    df2 = df_check.groupby(\"CENSUS_WARD_NUM\").apply(lambda x: x[col].unique())\r\n",
        "    d = df2.to_dict()\r\n",
        "    for key1 in d:\r\n",
        "        for key2 in d:\r\n",
        "            if key1 != key2:\r\n",
        "                check = any(item in d[key1] for item in d[key2])\r\n",
        "                if check is True:\r\n",
        "                    print(key1, key2)\r\n",
        "                    raise Exception(str(col) + \" numbers are not unique\")\r\n",
        "    return True"
      ],
      "execution_count": null,
      "outputs": []
    },
    {
      "cell_type": "code",
      "metadata": {
        "colab": {
          "base_uri": "https://localhost:8080/"
        },
        "id": "Ir2W1EhN7Nxe",
        "outputId": "cf7c1a26-babf-4fc7-a83f-1a74d073ce3a"
      },
      "source": [
        "uniqueness(CensusDis1850, \"CENSUS_HH_NUM\")"
      ],
      "execution_count": null,
      "outputs": [
        {
          "output_type": "execute_result",
          "data": {
            "text/plain": [
              "True"
            ]
          },
          "metadata": {
            "tags": []
          },
          "execution_count": 30
        }
      ]
    },
    {
      "cell_type": "code",
      "metadata": {
        "id": "IbUXCBxq7Vnw"
      },
      "source": [
        "uniqueness(CensusDis1850, \"CENSUS_DWELLING_NUM\")"
      ],
      "execution_count": null,
      "outputs": []
    },
    {
      "cell_type": "code",
      "metadata": {
        "colab": {
          "base_uri": "https://localhost:8080/"
        },
        "id": "-T8xzSYZ7YFU",
        "outputId": "70d924ac-2820-45f5-e246-3f10abe29f03"
      },
      "source": [
        "uniqueness(CensusDis1850, \"CENSUS_SERIALP\")"
      ],
      "execution_count": null,
      "outputs": [
        {
          "output_type": "execute_result",
          "data": {
            "text/plain": [
              "True"
            ]
          },
          "metadata": {
            "tags": []
          },
          "execution_count": 33
        }
      ]
    },
    {
      "cell_type": "code",
      "metadata": {
        "id": "TlSThHtZ8xcQ"
      },
      "source": [
        "#Filling addresses for people in the same household\r\n",
        "households = [] # keep track of any households with multiple addresses \r\n",
        "Census_hh = CensusDis1850.groupby(\"CENSUS_HH_NUM\").apply(lambda x: check_quant(x, households, \"CENSUS_HH_NUM\"))"
      ],
      "execution_count": null,
      "outputs": []
    },
    {
      "cell_type": "code",
      "metadata": {
        "colab": {
          "base_uri": "https://localhost:8080/"
        },
        "id": "DG8mjyL883p3",
        "outputId": "58846a15-fdaa-45b5-f37d-3f9f8aa0db0a"
      },
      "source": [
        "#These households need to be inspected more carefully, it seems that they\r\n",
        "#have been assigned multiple addresses\r\n",
        "len(households)"
      ],
      "execution_count": null,
      "outputs": [
        {
          "output_type": "execute_result",
          "data": {
            "text/plain": [
              "1649"
            ]
          },
          "metadata": {
            "tags": []
          },
          "execution_count": 35
        }
      ]
    },
    {
      "cell_type": "code",
      "metadata": {
        "id": "ZkbSoWII-ZP_"
      },
      "source": [
        "with open('/content/households.txt', 'w') as filehandle:\r\n",
        "    for listitem in households:\r\n",
        "        filehandle.write('%s\\n' % listitem)"
      ],
      "execution_count": null,
      "outputs": []
    },
    {
      "cell_type": "code",
      "metadata": {
        "colab": {
          "base_uri": "https://localhost:8080/",
          "height": 306
        },
        "id": "-7ITfkfC-x97",
        "outputId": "6d00f938-ccfa-4860-bc7c-38bf29f82c5c"
      },
      "source": [
        "\r\n",
        "x = Census_hh[Census_hh[\"CENSUS_HH_NUM\"] == households[7]]\r\n",
        "x[[\"CENSUS_NAMEFRST\", \"CENSUS_NAMELAST\", \"CENSUS_AGE\", \"CENSUS_SEX\", \"CENSUS_OCCSTR\", \"CENSUS_HH_NUM\",\"CENSUS_DWELLING_NUM\", \"CD_H_ADDRESS\", \"spatial_weight\"]]"
      ],
      "execution_count": null,
      "outputs": [
        {
          "output_type": "execute_result",
          "data": {
            "text/html": [
              "<div>\n",
              "<style scoped>\n",
              "    .dataframe tbody tr th:only-of-type {\n",
              "        vertical-align: middle;\n",
              "    }\n",
              "\n",
              "    .dataframe tbody tr th {\n",
              "        vertical-align: top;\n",
              "    }\n",
              "\n",
              "    .dataframe thead th {\n",
              "        text-align: right;\n",
              "    }\n",
              "</style>\n",
              "<table border=\"1\" class=\"dataframe\">\n",
              "  <thead>\n",
              "    <tr style=\"text-align: right;\">\n",
              "      <th></th>\n",
              "      <th>CENSUS_NAMEFRST</th>\n",
              "      <th>CENSUS_NAMELAST</th>\n",
              "      <th>CENSUS_AGE</th>\n",
              "      <th>CENSUS_SEX</th>\n",
              "      <th>CENSUS_OCCSTR</th>\n",
              "      <th>CENSUS_HH_NUM</th>\n",
              "      <th>CENSUS_DWELLING_NUM</th>\n",
              "      <th>CD_H_ADDRESS</th>\n",
              "      <th>spatial_weight</th>\n",
              "    </tr>\n",
              "  </thead>\n",
              "  <tbody>\n",
              "    <tr>\n",
              "      <th>4655</th>\n",
              "      <td>MICHAEL</td>\n",
              "      <td>RYAN</td>\n",
              "      <td>50</td>\n",
              "      <td>1</td>\n",
              "      <td>LABORER</td>\n",
              "      <td>403866</td>\n",
              "      <td>263.0</td>\n",
              "      <td>6 DEPEYSTER ST</td>\n",
              "      <td>1.772511</td>\n",
              "    </tr>\n",
              "    <tr>\n",
              "      <th>4656</th>\n",
              "      <td>MARY</td>\n",
              "      <td>RYAN</td>\n",
              "      <td>40</td>\n",
              "      <td>2</td>\n",
              "      <td>NaN</td>\n",
              "      <td>403866</td>\n",
              "      <td>263.0</td>\n",
              "      <td>NaN</td>\n",
              "      <td>NaN</td>\n",
              "    </tr>\n",
              "    <tr>\n",
              "      <th>4657</th>\n",
              "      <td>ANN</td>\n",
              "      <td>RYAN</td>\n",
              "      <td>35</td>\n",
              "      <td>2</td>\n",
              "      <td>NaN</td>\n",
              "      <td>403866</td>\n",
              "      <td>263.0</td>\n",
              "      <td>NaN</td>\n",
              "      <td>NaN</td>\n",
              "    </tr>\n",
              "    <tr>\n",
              "      <th>4658</th>\n",
              "      <td>ANN</td>\n",
              "      <td>RYAN</td>\n",
              "      <td>4</td>\n",
              "      <td>2</td>\n",
              "      <td>NaN</td>\n",
              "      <td>403866</td>\n",
              "      <td>263.0</td>\n",
              "      <td>NaN</td>\n",
              "      <td>NaN</td>\n",
              "    </tr>\n",
              "    <tr>\n",
              "      <th>4659</th>\n",
              "      <td>JAMES</td>\n",
              "      <td>RYAN</td>\n",
              "      <td>47</td>\n",
              "      <td>1</td>\n",
              "      <td>LABORER</td>\n",
              "      <td>403866</td>\n",
              "      <td>263.0</td>\n",
              "      <td>81 GREENWICH ST</td>\n",
              "      <td>1.910000</td>\n",
              "    </tr>\n",
              "    <tr>\n",
              "      <th>4660</th>\n",
              "      <td>MICHAEL</td>\n",
              "      <td>RYAN</td>\n",
              "      <td>10</td>\n",
              "      <td>1</td>\n",
              "      <td>NaN</td>\n",
              "      <td>403866</td>\n",
              "      <td>263.0</td>\n",
              "      <td>NaN</td>\n",
              "      <td>NaN</td>\n",
              "    </tr>\n",
              "  </tbody>\n",
              "</table>\n",
              "</div>"
            ],
            "text/plain": [
              "     CENSUS_NAMEFRST CENSUS_NAMELAST  ...     CD_H_ADDRESS  spatial_weight\n",
              "4655         MICHAEL            RYAN  ...   6 DEPEYSTER ST        1.772511\n",
              "4656            MARY            RYAN  ...              NaN             NaN\n",
              "4657             ANN            RYAN  ...              NaN             NaN\n",
              "4658             ANN            RYAN  ...              NaN             NaN\n",
              "4659           JAMES            RYAN  ...  81 GREENWICH ST        1.910000\n",
              "4660         MICHAEL            RYAN  ...              NaN             NaN\n",
              "\n",
              "[6 rows x 9 columns]"
            ]
          },
          "metadata": {
            "tags": []
          },
          "execution_count": 38
        }
      ]
    },
    {
      "cell_type": "code",
      "metadata": {
        "id": "ymPQweAf_KCM"
      },
      "source": [
        "Census_hh.to_csv(\"/content/Census_1850_household.csv\", index = False)"
      ],
      "execution_count": null,
      "outputs": []
    },
    {
      "cell_type": "code",
      "metadata": {
        "colab": {
          "base_uri": "https://localhost:8080/"
        },
        "id": "38BirkbYAy5y",
        "outputId": "e19f89ed-c733-4c70-e53a-371ad55e972a"
      },
      "source": [
        "print(\"Proportion of census data assigned addresses:\", Census_hh[\"CD_H_ADDRESS\"].count()/522152)"
      ],
      "execution_count": null,
      "outputs": [
        {
          "output_type": "stream",
          "text": [
            "Proportion of census data assigned addresses: 0.20924941396375002\n"
          ],
          "name": "stdout"
        }
      ]
    },
    {
      "cell_type": "markdown",
      "metadata": {
        "id": "HLJ4mmsdBR0n"
      },
      "source": [
        "#### use IPUMS household number"
      ]
    },
    {
      "cell_type": "code",
      "metadata": {
        "id": "-ZF9eyADBbwS"
      },
      "source": [
        "Census_hh = pd.read_csv(\"/content/Census_1850_household.csv\")"
      ],
      "execution_count": null,
      "outputs": []
    },
    {
      "cell_type": "code",
      "metadata": {
        "id": "q-5EQIqrBimS"
      },
      "source": [
        "households_IPUMS = []\r\n",
        "Census_hh_IPUMS = Census_hh.groupby(\"CENSUS_SERIALP\").apply(lambda x: check_quant(x, households_IPUMS, \"CENSUS_SERIALP\"))"
      ],
      "execution_count": null,
      "outputs": []
    },
    {
      "cell_type": "code",
      "metadata": {
        "colab": {
          "base_uri": "https://localhost:8080/"
        },
        "id": "xsLlp9FHBmys",
        "outputId": "c8e12777-8311-4e5d-b86c-a1a79937044f"
      },
      "source": [
        "len(households_IPUMS)"
      ],
      "execution_count": null,
      "outputs": [
        {
          "output_type": "execute_result",
          "data": {
            "text/plain": [
              "3072"
            ]
          },
          "metadata": {
            "tags": []
          },
          "execution_count": 43
        }
      ]
    },
    {
      "cell_type": "code",
      "metadata": {
        "id": "SEmkRLGBBp2E"
      },
      "source": [
        "with open('/content/housholds_IPUMS.txt', 'w') as filehandle:\r\n",
        "    for listitem in households_IPUMS:\r\n",
        "        filehandle.write('%s\\n' % listitem)"
      ],
      "execution_count": null,
      "outputs": []
    },
    {
      "cell_type": "code",
      "metadata": {
        "id": "ysjQZBsqBv3P"
      },
      "source": [
        "Census_hh_IPUMS.to_csv(\"/content/Census_1850_household_IPUMS.csv\", index = False)"
      ],
      "execution_count": null,
      "outputs": []
    },
    {
      "cell_type": "code",
      "metadata": {
        "colab": {
          "base_uri": "https://localhost:8080/"
        },
        "id": "6iqiSCEtB0O8",
        "outputId": "4c2008ff-5397-4556-884c-bf054b2abe2b"
      },
      "source": [
        "print(\"Proportion of census data assigned addresses:\", Census_hh_IPUMS[\"CD_H_ADDRESS\"].count()/522152)"
      ],
      "execution_count": null,
      "outputs": [
        {
          "output_type": "stream",
          "text": [
            "Proportion of census data assigned addresses: 0.30396895923026246\n"
          ],
          "name": "stdout"
        }
      ]
    },
    {
      "cell_type": "markdown",
      "metadata": {
        "id": "eRqz43LYCDNA"
      },
      "source": [
        "#### Fill in address for census entries with same dwelling number"
      ]
    },
    {
      "cell_type": "code",
      "metadata": {
        "id": "DO-pj3e1CI20"
      },
      "source": [
        "#Filling addresses for people in the same household\r\n",
        "dwellings = [] # keep track of any dwellings with multiple addresses \r\n",
        "Census_hh_dw = Census_hh_IPUMS.groupby([\"CENSUS_WARD_NUM\",\"CENSUS_DWELLING_NUM\"]).apply(lambda x: check_quant(x, dwellings, \"CENSUS_DWELLING_NUM\", tuple = True))"
      ],
      "execution_count": null,
      "outputs": []
    },
    {
      "cell_type": "code",
      "metadata": {
        "colab": {
          "base_uri": "https://localhost:8080/"
        },
        "id": "JONcUDfsCRbV",
        "outputId": "9f860666-1227-4f34-8a92-69fea92e96cb"
      },
      "source": [
        "#Dwellings that are assigned more than one address\r\n",
        "len(dwellings)"
      ],
      "execution_count": null,
      "outputs": [
        {
          "output_type": "execute_result",
          "data": {
            "text/plain": [
              "7469"
            ]
          },
          "metadata": {
            "tags": []
          },
          "execution_count": 48
        }
      ]
    },
    {
      "cell_type": "code",
      "metadata": {
        "id": "2wj6gJreCUGg"
      },
      "source": [
        "with open('/content/dwellings.txt', 'w') as filehandle:\r\n",
        "    for listitem in dwellings:\r\n",
        "        line = ' '.join(str(x) for x in listitem)\r\n",
        "        filehandle.write(line + '\\n')"
      ],
      "execution_count": null,
      "outputs": []
    },
    {
      "cell_type": "code",
      "metadata": {
        "id": "sRRECTQ9EtWN"
      },
      "source": [
        "Census_hh_dw.to_csv(\"/content/Census_1850_dwellings.csv\", index = False)"
      ],
      "execution_count": null,
      "outputs": []
    },
    {
      "cell_type": "code",
      "metadata": {
        "colab": {
          "base_uri": "https://localhost:8080/"
        },
        "id": "gt8AWJKfE1cI",
        "outputId": "b4035681-5aec-45be-e9fa-b641532d4c04"
      },
      "source": [
        "print(\"Proportion of census data assigned addresses:\", Census_hh_dw[\"CD_H_ADDRESS\"].count()/522152)"
      ],
      "execution_count": null,
      "outputs": [
        {
          "output_type": "stream",
          "text": [
            "Proportion of census data assigned addresses: 0.47102376319539135\n"
          ],
          "name": "stdout"
        }
      ]
    },
    {
      "cell_type": "markdown",
      "metadata": {
        "id": "pwc81HNvE9ca"
      },
      "source": [
        "#### Check Number of Dwellings with Multiple addresses"
      ]
    },
    {
      "cell_type": "code",
      "metadata": {
        "id": "tGkHvRzbE8ra"
      },
      "source": [
        "#Function for filling in households/dwelling numbers if relevant\r\n",
        "def no_address(x, col):\r\n",
        "    c = x[\"CD_H_ADDRESS\"].nunique()\r\n",
        "    if c == 0:\r\n",
        "            nones.append((x[\"CENSUS_WARD_NUM\"].iloc[0], x[col].iloc[0]))"
      ],
      "execution_count": null,
      "outputs": []
    },
    {
      "cell_type": "code",
      "metadata": {
        "id": "nXVO8zz5FJ-s"
      },
      "source": [
        "nones = []\r\n",
        "for index,df in Census_hh_dw.groupby([\"CENSUS_WARD_NUM\", \"CENSUS_DWELLING_NUM\"]):\r\n",
        "    no_address(df, \"CENSUS_DWELLING_NUM\")"
      ],
      "execution_count": null,
      "outputs": []
    },
    {
      "cell_type": "code",
      "metadata": {
        "colab": {
          "base_uri": "https://localhost:8080/"
        },
        "id": "gWgAuqfXFN2O",
        "outputId": "1eefc8b4-a4fb-4de9-fabf-d99bdb6f70d9"
      },
      "source": [
        "len(nones)"
      ],
      "execution_count": null,
      "outputs": [
        {
          "output_type": "execute_result",
          "data": {
            "text/plain": [
              "6866"
            ]
          },
          "metadata": {
            "tags": []
          },
          "execution_count": 55
        }
      ]
    },
    {
      "cell_type": "code",
      "metadata": {
        "colab": {
          "base_uri": "https://localhost:8080/"
        },
        "id": "vEwkHGfqFROz",
        "outputId": "70a572c4-15cd-4734-da40-12e53876dc47"
      },
      "source": [
        "\r\n",
        "print(\"Proportion of dwellings with no match at all:\",len(nones)/Census_hh_dw.groupby([\"CENSUS_WARD_NUM\", \"CENSUS_DWELLING_NUM\"]).ngroups)"
      ],
      "execution_count": null,
      "outputs": [
        {
          "output_type": "stream",
          "text": [
            "Proportion of dwellings with no match at all: 0.34633039092055484\n"
          ],
          "name": "stdout"
        }
      ]
    },
    {
      "cell_type": "markdown",
      "metadata": {
        "id": "4z4GWGQoFgwP"
      },
      "source": [
        "This is a little less than what we'd expect from the earlier analysis, clearly there's some situation that's not being accounted for here\r\n",
        "\r\n",
        "Issue: There are both households and dwellings that are assigned multiple addresses\r\n",
        "Potential cause: an incorrect match -- it may make sense to incorporate that dwellings/households may have only a single match within the disambiguation process\r\n",
        "\r\n",
        "possible approach: two levels of bipartite matching for household and dwellings\r\n",
        "possible approach: incorporate into initial bipartite matching\r\n",
        "Potential cause: dwellings/households that are referred to by multiple addresses - ei corner building, maybe a historical address change, streets with two names (Avenue of the Americas/6th Ave), etc.\r\n",
        "\r\n",
        "standardization can help"
      ]
    },
    {
      "cell_type": "markdown",
      "metadata": {
        "id": "PGAStIOTGDwG"
      },
      "source": [
        "### Use Bipartite Matching to Get A Single Address for Dwellings"
      ]
    },
    {
      "cell_type": "markdown",
      "metadata": {
        "id": "aj9jS3yj620t"
      },
      "source": [
        "census 1850 index file for census data and 1850 mn match 24-11 file for disambiguated output used for the analysis"
      ]
    },
    {
      "cell_type": "code",
      "metadata": {
        "id": "la02c4ugFVM-"
      },
      "source": [
        "census_1850 = pd.read_csv(\"/content/census_1850_indexUpdate.csv\")\r\n",
        "disambiguated_1850 = pd.read_csv(\"/content/1850_mn_match_24-11-2020.csv\")"
      ],
      "execution_count": null,
      "outputs": []
    },
    {
      "cell_type": "code",
      "metadata": {
        "id": "j85udx2xGZek"
      },
      "source": [
        "# selected = 1 disambiguated records selected\r\n",
        "disambiguated_1850_selected = disambiguated_1850[disambiguated_1850[\"selected\"] == 1].copy()"
      ],
      "execution_count": null,
      "outputs": []
    },
    {
      "cell_type": "code",
      "metadata": {
        "id": "C7qr9DtqGzSj"
      },
      "source": [
        "disambiguated_1850_selected.columns"
      ],
      "execution_count": null,
      "outputs": []
    },
    {
      "cell_type": "code",
      "metadata": {
        "id": "wfcfkJndGkI-"
      },
      "source": [
        "disambiguated_1850_selected[\"unique_ward\"] = disambiguated_1850_selected.apply(lambda row: str(row.CENSUS_WARD_NUM) + \"_\" + str(row.CENSUS_DWELLING_NUM), axis = 1)"
      ],
      "execution_count": null,
      "outputs": []
    },
    {
      "cell_type": "code",
      "metadata": {
        "colab": {
          "base_uri": "https://localhost:8080/",
          "height": 204
        },
        "id": "0npI9QXwGuXD",
        "outputId": "ae8619b5-2f1d-4a90-e9ad-ff7e110750a3"
      },
      "source": [
        "disambiguated_1850_selected[[\"CENSUS_WARD_NUM\", \"CENSUS_DWELLING_NUM\",\"unique_ward\", \"CD_H_ADDRESS\"]].head()"
      ],
      "execution_count": null,
      "outputs": [
        {
          "output_type": "execute_result",
          "data": {
            "text/html": [
              "<div>\n",
              "<style scoped>\n",
              "    .dataframe tbody tr th:only-of-type {\n",
              "        vertical-align: middle;\n",
              "    }\n",
              "\n",
              "    .dataframe tbody tr th {\n",
              "        vertical-align: top;\n",
              "    }\n",
              "\n",
              "    .dataframe thead th {\n",
              "        text-align: right;\n",
              "    }\n",
              "</style>\n",
              "<table border=\"1\" class=\"dataframe\">\n",
              "  <thead>\n",
              "    <tr style=\"text-align: right;\">\n",
              "      <th></th>\n",
              "      <th>CENSUS_WARD_NUM</th>\n",
              "      <th>CENSUS_DWELLING_NUM</th>\n",
              "      <th>unique_ward</th>\n",
              "      <th>CD_H_ADDRESS</th>\n",
              "    </tr>\n",
              "  </thead>\n",
              "  <tbody>\n",
              "    <tr>\n",
              "      <th>0</th>\n",
              "      <td>1</td>\n",
              "      <td>1.0</td>\n",
              "      <td>1_1.0</td>\n",
              "      <td>47 WALL ST</td>\n",
              "    </tr>\n",
              "    <tr>\n",
              "      <th>1</th>\n",
              "      <td>1</td>\n",
              "      <td>1.0</td>\n",
              "      <td>1_1.0</td>\n",
              "      <td>11 BRG ST</td>\n",
              "    </tr>\n",
              "    <tr>\n",
              "      <th>10</th>\n",
              "      <td>1</td>\n",
              "      <td>371.0</td>\n",
              "      <td>1_371.0</td>\n",
              "      <td>8 DEPEYSTER ST</td>\n",
              "    </tr>\n",
              "    <tr>\n",
              "      <th>24</th>\n",
              "      <td>1</td>\n",
              "      <td>1.0</td>\n",
              "      <td>1_1.0</td>\n",
              "      <td>70 LIBERTY ST</td>\n",
              "    </tr>\n",
              "    <tr>\n",
              "      <th>32</th>\n",
              "      <td>1</td>\n",
              "      <td>117.0</td>\n",
              "      <td>1_117.0</td>\n",
              "      <td>39 PEARL ST</td>\n",
              "    </tr>\n",
              "  </tbody>\n",
              "</table>\n",
              "</div>"
            ],
            "text/plain": [
              "    CENSUS_WARD_NUM  CENSUS_DWELLING_NUM unique_ward    CD_H_ADDRESS\n",
              "0                 1                  1.0       1_1.0      47 WALL ST\n",
              "1                 1                  1.0       1_1.0       11 BRG ST\n",
              "10                1                371.0     1_371.0  8 DEPEYSTER ST\n",
              "24                1                  1.0       1_1.0   70 LIBERTY ST\n",
              "32                1                117.0     1_117.0     39 PEARL ST"
            ]
          },
          "metadata": {
            "tags": []
          },
          "execution_count": 63
        }
      ]
    },
    {
      "cell_type": "code",
      "metadata": {
        "id": "Ai-YbcpZHHLZ"
      },
      "source": [
        "def get_matches_dwelling(df, cd_id = 'CD_ID', census_id = 'CENSUS_ID', weight = 'spatial_weight'):\r\n",
        "    \r\n",
        "    #This is to preserve order\r\n",
        "    df = df.copy()\r\n",
        "    df[cd_id] = \"A_ \" + df[cd_id].astype(str)\r\n",
        "    df[census_id] = \"B_ \" + df[census_id].astype(str)\r\n",
        "    \r\n",
        "    b_edges = [(row[cd_id], row[census_id], row[weight]) for index, row in df.iterrows()]\r\n",
        "    b = nx.Graph()\r\n",
        "    b.add_nodes_from(df[cd_id].unique(), bipartite = 0)\r\n",
        "    b.add_nodes_from(df[census_id].unique(), bipartite = 1)\r\n",
        "    b.add_weighted_edges_from(b_edges)\r\n",
        "\r\n",
        "    # algorithm is too expensive if we perform it on entire graph. moreover, graph is actually disconnected into sub_graphs. apply algorithm on subgraphs instead\r\n",
        "    subgraphs = [b.subgraph(c) for c in nx.connected_components(b)]\r\n",
        "    matches = [list(nx.max_weight_matching(graph, maxcardinality = True)) for graph in subgraphs]\r\n",
        "    matches = [sorted(list(item)) for sublist in matches for item in sublist] # unnest and convert pairs from tuple to list\r\n",
        "    matches = pd.DataFrame(matches, columns=[cd_id, census_id])\r\n",
        "    \r\n",
        "    matches.loc[:,cd_id] = matches[cd_id].apply(lambda x: x.strip(\"A_ \"))\r\n",
        "    matches.loc[:,census_id] = matches[census_id].apply(lambda x: x.strip(\"B_ \"))\r\n",
        "\r\n",
        "    return matches"
      ],
      "execution_count": null,
      "outputs": []
    },
    {
      "cell_type": "code",
      "metadata": {
        "id": "tLjHRAOtHJPY"
      },
      "source": [
        "match = get_matches_dwelling(disambiguated_1850_selected, cd_id = \"unique_ward\", census_id = \"CD_H_ADDRESS\")"
      ],
      "execution_count": null,
      "outputs": []
    },
    {
      "cell_type": "code",
      "metadata": {
        "id": "nIxc_qE6JfHF"
      },
      "source": [
        "disambiguated_1850_selected = disambiguated_1850_selected[[\"CENSUS_IPUMS_UID\", \"unique_ward\"]].copy()\r\n",
        "disambiguated_1850_selected.drop_duplicates(\"unique_ward\", inplace = True)\r\n",
        "matched = disambiguated_1850_selected.merge(match, how = \"left\", on = \"unique_ward\", validate = \"one_to_one\")\r\n",
        "dwelling_addresses = census_1850.merge(matched, how = \"left\", on = \"CENSUS_IPUMS_UID\")"
      ],
      "execution_count": null,
      "outputs": []
    },
    {
      "cell_type": "code",
      "metadata": {
        "colab": {
          "base_uri": "https://localhost:8080/"
        },
        "id": "gTS1TISRJTku",
        "outputId": "2adb628d-aabc-491e-d281-178cdee9086f"
      },
      "source": [
        "print(\"Proportion of census data assigned addresses:\", dwelling_addresses.CD_H_ADDRESS.count()/515630)"
      ],
      "execution_count": null,
      "outputs": [
        {
          "output_type": "stream",
          "text": [
            "Proportion of census data assigned addresses: 0.024061827279250627\n"
          ],
          "name": "stdout"
        }
      ]
    },
    {
      "cell_type": "markdown",
      "metadata": {
        "id": "qS0VlJPHJzol"
      },
      "source": [
        "This is still higher than last run by tabhita"
      ]
    },
    {
      "cell_type": "code",
      "metadata": {
        "id": "Q6r-1uF1JxjS"
      },
      "source": [
        "#Function for filling in households/dwelling numbers if relevant\r\n",
        "def check_quant(x, nones, exceptions, col, tuple = False):\r\n",
        "\r\n",
        "    c = x[\"CD_H_ADDRESS\"].nunique()\r\n",
        "    if c == 0:\r\n",
        "        if tuple:\r\n",
        "            nones.append((x[\"CENSUS_WARD_NUM\"].iloc[0], x[col].iloc[0]))\r\n",
        "        else:\r\n",
        "            nones.append(x[col].iloc[0])\r\n",
        "    elif c > 1:\r\n",
        "        if tuple:\r\n",
        "            exceptions.append((x[\"CENSUS_WARD_NUM\"].iloc[0], x[col].iloc[0]))\r\n",
        "        else:\r\n",
        "            exceptions.append(x[col].iloc[0])\r\n",
        "    elif c == 1:\r\n",
        "        x[\"CD_H_ADDRESS\"] = x[\"CD_H_ADDRESS\"].ffill().bfill()\r\n",
        "  \r\n",
        "    return x"
      ],
      "execution_count": null,
      "outputs": []
    },
    {
      "cell_type": "code",
      "metadata": {
        "id": "BpiqjE_rJxsJ"
      },
      "source": [
        "dwellings_noadd = []\r\n",
        "dwellings = [] # keep track of any dwellings with multiple addresses \r\n",
        "Census_hh_dw = dwelling_addresses.groupby([\"CENSUS_WARD_NUM\",\"CENSUS_DWELLING_NUM\"]).apply(lambda x: check_quant(x, dwellings_noadd, dwellings, \"CENSUS_DWELLING_NUM\", tuple = True))"
      ],
      "execution_count": null,
      "outputs": []
    },
    {
      "cell_type": "code",
      "metadata": {
        "colab": {
          "base_uri": "https://localhost:8080/"
        },
        "id": "s2WL516OKXDw",
        "outputId": "0ea6e6aa-f308-47d8-8e67-c96bb02431d7"
      },
      "source": [
        "print(\"Proportion of census data assigned addresses:\", Census_hh_dw.CD_H_ADDRESS.count()/515630)"
      ],
      "execution_count": null,
      "outputs": [
        {
          "output_type": "stream",
          "text": [
            "Proportion of census data assigned addresses: 0.7715532455442856\n"
          ],
          "name": "stdout"
        }
      ]
    },
    {
      "cell_type": "code",
      "metadata": {
        "colab": {
          "base_uri": "https://localhost:8080/"
        },
        "id": "aMy3OY_6KzLi",
        "outputId": "2680bd53-570b-4c09-ec65-b3dcaeb86e71"
      },
      "source": [
        "print(\"Proportion of Dwellings Without Addresses:\", len(dwellings_noadd)/Census_hh_dw.groupby([\"CENSUS_WARD_NUM\",\"CENSUS_DWELLING_NUM\"]).ngroups)"
      ],
      "execution_count": null,
      "outputs": [
        {
          "output_type": "stream",
          "text": [
            "Proportion of Dwellings Without Addresses: 0.37472887767969737\n"
          ],
          "name": "stdout"
        }
      ]
    },
    {
      "cell_type": "markdown",
      "metadata": {
        "id": "ubI_lAYtLwTm"
      },
      "source": [
        "### Interlude: Geog Variable\r\n",
        "Invesitgation shows that institutions have one address as expected"
      ]
    },
    {
      "cell_type": "code",
      "metadata": {
        "colab": {
          "base_uri": "https://localhost:8080/"
        },
        "id": "PN0WvZkSLy8m",
        "outputId": "b221bfc8-f65d-498d-dfc4-23bf2eec0571"
      },
      "source": [
        "Census_hh_dw[\"CENSUS_GEOG\"].unique()"
      ],
      "execution_count": null,
      "outputs": [
        {
          "output_type": "execute_result",
          "data": {
            "text/plain": [
              "array(['NEW YORK WARD 1 EASTERN DIVISION', nan,\n",
              "       'NEW YORK WARD 1 WESTERN DIVISION', 'NEW YORK WARD 2',\n",
              "       'NEW YORK WARD 3', 'NEW YORK WARD 4', 'NEW YORK WARD 5',\n",
              "       'NEW YORK WARD 6', 'NEW YORK WARD 7 DISTRICT 1',\n",
              "       'NEW YORK WARD 7 DISTRICT 2', 'NEW YORK WARD 8 DISTRICT 1',\n",
              "       'NEW YORK WARD 8', 'NEW YORK WARD 9 DISTRICT 1',\n",
              "       'NEW YORK WARD 9 DISTRICT 2', 'NEW YORK WARD 9 DISTRICT 3',\n",
              "       'NEW YORK WARD 10', 'NEW YORK WARD 11', 'NEW YORK WARD 12',\n",
              "       'NEW YORK WARD 13', 'NEW YORK WARD 14',\n",
              "       'NEW YORK WARD 15 WESTERN HALF', 'NEW YORK WARD 15 EASTERN HALF',\n",
              "       'NEW YORK WARD 16 DISTRICT 1', 'NEW YORK WARD 16 DISTRICT 2',\n",
              "       'NEW YORK WARD 16 DISTRICT 3', 'NEW YORK WARD 17',\n",
              "       'NEW YORK WARD 18', 'NEW YORK WARD 18 DISTRICT 2',\n",
              "       'NEW YORK WARD 18 BELLEVUE HOSPITAL',\n",
              "       'NEW YORK WARD 18 HOUSE OF REFUGE', 'NEW YORK WARD 19'],\n",
              "      dtype=object)"
            ]
          },
          "metadata": {
            "tags": []
          },
          "execution_count": 73
        }
      ]
    },
    {
      "cell_type": "code",
      "metadata": {
        "id": "iC8Lr9DnL4uJ"
      },
      "source": [
        "hospital = Census_hh_dw[Census_hh_dw[\"CENSUS_GEOG\"] == 'NEW YORK WARD 18 BELLEVUE HOSPITAL']"
      ],
      "execution_count": null,
      "outputs": []
    },
    {
      "cell_type": "code",
      "metadata": {
        "colab": {
          "base_uri": "https://localhost:8080/"
        },
        "id": "MzSyewlmL-BW",
        "outputId": "398e3dce-ba9f-4678-ccf5-0a3c691bebe2"
      },
      "source": [
        "hospital.nunique()"
      ],
      "execution_count": null,
      "outputs": [
        {
          "output_type": "execute_result",
          "data": {
            "text/plain": [
              "CENSUS_SERIALP             438\n",
              "CENSUS_AGE                  61\n",
              "CENSUS_SEX                   2\n",
              "CENSUS_MARST                 2\n",
              "CENSUS_RACE                  2\n",
              "CENSUS_LABFORCE              2\n",
              "CENSUS_IMPREL                1\n",
              "CENSUS_OCCSTR               46\n",
              "CENSUS_NAMELAST            322\n",
              "CENSUS_NAMEFRST            117\n",
              "CENSUS_SEQ_NUM             479\n",
              "CENSUS_HH_NUM              422\n",
              "CENSUS_IPUMS_UID           479\n",
              "CENSUS_CITY                  1\n",
              "CENSUS_PAGENO_HOUSEHOLD      3\n",
              "CENSUS_WARD_NUM              1\n",
              "CENSUS_REEL_HOUSEHOLD        1\n",
              "CENSUS_PLACE                 1\n",
              "CENSUS_DWELLING_NUM          1\n",
              "CENSUS_DWELLING_SEQ          1\n",
              "CENSUS_DWELLING_SIZE         3\n",
              "CENSUS_GEOG                  1\n",
              "CENSUS_LINE                  1\n",
              "CENSUS_INDEX               479\n",
              "unique_ward                  1\n",
              "CD_H_ADDRESS                 1\n",
              "dtype: int64"
            ]
          },
          "metadata": {
            "tags": []
          },
          "execution_count": 75
        }
      ]
    },
    {
      "cell_type": "code",
      "metadata": {
        "colab": {
          "base_uri": "https://localhost:8080/"
        },
        "id": "RAXyKrYbMKIz",
        "outputId": "ec888893-3a7d-46b4-a920-ca0d9d8c1167"
      },
      "source": [
        "refuge = Census_hh_dw[Census_hh_dw[\"CENSUS_GEOG\"] == 'NEW YORK WARD 18 HOUSE OF REFUGE']\r\n",
        "refuge.nunique()"
      ],
      "execution_count": null,
      "outputs": [
        {
          "output_type": "execute_result",
          "data": {
            "text/plain": [
              "CENSUS_SERIALP             372\n",
              "CENSUS_AGE                  29\n",
              "CENSUS_SEX                   2\n",
              "CENSUS_MARST                 2\n",
              "CENSUS_RACE                  3\n",
              "CENSUS_LABFORCE              2\n",
              "CENSUS_IMPREL                1\n",
              "CENSUS_OCCSTR               34\n",
              "CENSUS_NAMELAST            330\n",
              "CENSUS_NAMEFRST            142\n",
              "CENSUS_SEQ_NUM             411\n",
              "CENSUS_HH_NUM              394\n",
              "CENSUS_IPUMS_UID           411\n",
              "CENSUS_CITY                  1\n",
              "CENSUS_PAGENO_HOUSEHOLD      1\n",
              "CENSUS_WARD_NUM              1\n",
              "CENSUS_REEL_HOUSEHOLD        1\n",
              "CENSUS_PLACE                 1\n",
              "CENSUS_DWELLING_NUM          1\n",
              "CENSUS_DWELLING_SEQ          1\n",
              "CENSUS_DWELLING_SIZE         2\n",
              "CENSUS_GEOG                  1\n",
              "CENSUS_LINE                  2\n",
              "CENSUS_INDEX               411\n",
              "unique_ward                  1\n",
              "CD_H_ADDRESS                 1\n",
              "dtype: int64"
            ]
          },
          "metadata": {
            "tags": []
          },
          "execution_count": 76
        }
      ]
    },
    {
      "cell_type": "markdown",
      "metadata": {
        "id": "N2Y34xmlMPjo"
      },
      "source": [
        "\r\n",
        "It seems that there are fewer NA's (no address at all for a dwelling then when using the previous nested approach). Let's try nested and see if that helps, though I am pretty confused about why it would?"
      ]
    },
    {
      "cell_type": "markdown",
      "metadata": {
        "id": "HgBoY45HMTA4"
      },
      "source": [
        "### Choose Dwelling Address By Maximum Spatial Weight"
      ]
    },
    {
      "cell_type": "code",
      "metadata": {
        "id": "MShFWEgsMLIj"
      },
      "source": [
        "#Function for filling in households/dwelling numbers if relevant\r\n",
        "def dwelling_weight_fill(x, nones):\r\n",
        "    \r\n",
        "    c = x[\"CD_H_ADDRESS\"].nunique()\r\n",
        "    if c == 0:\r\n",
        "        nones.append(1)\r\n",
        "        #nones.append((x.loc[\"CENSUS_WARD_NUM\"].iloc[0], x[col].iloc[0]))\r\n",
        "\r\n",
        "    elif c >= 1:\r\n",
        "        x.reset_index(drop = True, inplace = True)\r\n",
        "        index = x[\"spatial_weight\"].idxmax()\r\n",
        "        x[\"CD_H_ADDRESS\"] = x.iloc[index].loc[\"CD_H_ADDRESS\"]\r\n",
        "        x[\"CD_BLOCK_NUM\"] = x.iloc[index].loc[\"CD_BLOCK_NUM\"]\r\n",
        "        x[\"CD_X\"] = x.iloc[index].loc[\"CD_X\"]\r\n",
        "        x[\"CD_Y\"] = x.iloc[index].loc[\"CD_Y\"]\r\n",
        "  \r\n",
        "    return x"
      ],
      "execution_count": null,
      "outputs": []
    },
    {
      "cell_type": "code",
      "metadata": {
        "colab": {
          "base_uri": "https://localhost:8080/"
        },
        "id": "rz_hHNgINPwN",
        "outputId": "7e4f6544-affe-4d12-ced4-b9e4b4579e8f"
      },
      "source": [
        "dwellings = []\r\n",
        "Dwellings_weight = CensusDis1850.groupby([\"CENSUS_WARD_NUM\", \"CENSUS_DWELLING_NUM\"]).apply(lambda x: dwelling_weight_fill(x, dwellings))\r\n",
        "\r\n",
        "len(dwellings)"
      ],
      "execution_count": null,
      "outputs": [
        {
          "output_type": "execute_result",
          "data": {
            "text/plain": [
              "6880"
            ]
          },
          "metadata": {
            "tags": []
          },
          "execution_count": 79
        }
      ]
    },
    {
      "cell_type": "code",
      "metadata": {
        "colab": {
          "base_uri": "https://localhost:8080/"
        },
        "id": "m27xmLugQcQC",
        "outputId": "8a37457c-31cc-499d-b252-33438004647f"
      },
      "source": [
        "print(\"Proportion of census data assigned addresses:\", Dwellings_weight.CD_H_ADDRESS.count()/515630)"
      ],
      "execution_count": null,
      "outputs": [
        {
          "output_type": "stream",
          "text": [
            "Proportion of census data assigned addresses: 0.8010298081957993\n"
          ],
          "name": "stdout"
        }
      ]
    },
    {
      "cell_type": "code",
      "metadata": {
        "colab": {
          "base_uri": "https://localhost:8080/"
        },
        "id": "DKbDTv7VQghN",
        "outputId": "eb0d6a32-0539-4fff-f056-19eef620d61b"
      },
      "source": [
        "\r\n",
        "print(\"Proportion of Dwellings Without Addresses:\", len(dwellings)/CensusDis1850.groupby([\"CENSUS_WARD_NUM\",\"CENSUS_DWELLING_NUM\"]).ngroups)"
      ],
      "execution_count": null,
      "outputs": [
        {
          "output_type": "stream",
          "text": [
            "Proportion of Dwellings Without Addresses: 0.3470365699873897\n"
          ],
          "name": "stdout"
        }
      ]
    },
    {
      "cell_type": "markdown",
      "metadata": {
        "id": "EmnR61swQ127"
      },
      "source": [
        "### Look at how often we have different dwellings with the same address"
      ]
    },
    {
      "cell_type": "code",
      "metadata": {
        "id": "SP6-1Nb3Q0T8"
      },
      "source": [
        "org_same_add = defaultdict(list)\r\n",
        "def same_address(x, d, col):\r\n",
        "    d[(x[\"CENSUS_WARD_NUM\"].iloc[0], x[col].iloc[0])].append(x.dropna(subset = [\"CD_H_ADDRESS\"]).CD_H_ADDRESS.unique())\r\n",
        "for index, group in CensusDis1850.groupby([\"CENSUS_WARD_NUM\",\"CENSUS_DWELLING_NUM\"]):\r\n",
        "    same_address(group, org_same_add, \"CENSUS_DWELLING_NUM\")"
      ],
      "execution_count": null,
      "outputs": []
    },
    {
      "cell_type": "code",
      "metadata": {
        "colab": {
          "base_uri": "https://localhost:8080/"
        },
        "id": "A__jY8JHQ9EP",
        "outputId": "baaf3333-dbd0-42b9-f683-8325948230b7"
      },
      "source": [
        "which_dwellings = []\r\n",
        "count = 0\r\n",
        "\r\n",
        "for index,df in CensusDis1850.groupby(\"CENSUS_WARD_NUM\"):\r\n",
        "    org_same_add = defaultdict(list)\r\n",
        "    for i, group in df.groupby(\"CENSUS_DWELLING_NUM\"):\r\n",
        "        same_address(group, org_same_add, \"CENSUS_DWELLING_NUM\")\r\n",
        "    \r\n",
        "    #check for same name (limit to within ward for efficiency)\r\n",
        "    for key1 in org_same_add:\r\n",
        "        for key2 in org_same_add:\r\n",
        "            if key1 != key2:\r\n",
        "                if org_same_add[key1][0].any() in org_same_add[key2][0]:\r\n",
        "                    count += 1 \r\n",
        "                    which_dwellings.append((key1,key2))\r\n",
        "                    \r\n",
        "    if index % 2 == 0:\r\n",
        "        print(\"Finished up to index\", str(index))"
      ],
      "execution_count": null,
      "outputs": [
        {
          "output_type": "stream",
          "text": [
            "Finished up to index 2\n",
            "Finished up to index 4\n",
            "Finished up to index 6\n",
            "Finished up to index 8\n",
            "Finished up to index 10\n",
            "Finished up to index 12\n",
            "Finished up to index 14\n",
            "Finished up to index 16\n",
            "Finished up to index 18\n"
          ],
          "name": "stdout"
        }
      ]
    },
    {
      "cell_type": "code",
      "metadata": {
        "id": "PhwEh8G1RIRX"
      },
      "source": [
        "with open('/content/dwellings_same_address.txt', 'w') as filehandle:\r\n",
        "    for listitem in which_dwellings:\r\n",
        "        line = ' '.join(str(x) for x in listitem)\r\n",
        "        filehandle.write(line + '\\n')"
      ],
      "execution_count": null,
      "outputs": []
    },
    {
      "cell_type": "code",
      "metadata": {
        "colab": {
          "base_uri": "https://localhost:8080/"
        },
        "id": "RbT2dOR-Rl9U",
        "outputId": "1a284f92-6415-430f-9ae7-6e47e75e21d6"
      },
      "source": [
        "print(\"Number of Dwellings that could share the same address:\", count)"
      ],
      "execution_count": null,
      "outputs": [
        {
          "output_type": "stream",
          "text": [
            "Number of Dwellings that could share the same address: 11895\n"
          ],
          "name": "stdout"
        }
      ]
    },
    {
      "cell_type": "code",
      "metadata": {
        "colab": {
          "base_uri": "https://localhost:8080/"
        },
        "id": "5KjGJmQWRv9-",
        "outputId": "770625e4-a0d4-42a3-eb9f-957cca5717ee"
      },
      "source": [
        "Dwellings_weight.reset_index(drop = True, inplace = True)\r\n",
        "same_add_selected = Dwellings_weight.groupby([\"CENSUS_WARD_NUM\", \"CENSUS_DWELLING_NUM\"]).first()\r\n",
        "num_same = same_add_selected[\"CD_H_ADDRESS\"].count() - same_add_selected[\"CD_H_ADDRESS\"].nunique()\r\n",
        "print(\"Number of Dwellings with Same Address Selected:\", num_same)"
      ],
      "execution_count": null,
      "outputs": [
        {
          "output_type": "stream",
          "text": [
            "Number of Dwellings with Same Address Selected: 1844\n"
          ],
          "name": "stdout"
        }
      ]
    },
    {
      "cell_type": "code",
      "metadata": {
        "colab": {
          "base_uri": "https://localhost:8080/"
        },
        "id": "BE3HF9FtR8AE",
        "outputId": "7b3060b1-768e-4319-a8a0-42216cb5182b"
      },
      "source": [
        "print(\"Proportion of Dwellings with Same Address:\", num_same/Dwellings_weight.groupby([\"CENSUS_WARD_NUM\", \"CENSUS_DWELLING_NUM\"]).ngroups)"
      ],
      "execution_count": null,
      "outputs": [
        {
          "output_type": "stream",
          "text": [
            "Proportion of Dwellings with Same Address: 0.09301387137452712\n"
          ],
          "name": "stdout"
        }
      ]
    },
    {
      "cell_type": "code",
      "metadata": {
        "colab": {
          "base_uri": "https://localhost:8080/"
        },
        "id": "uu5GuU9CSEXe",
        "outputId": "e1ac6e89-8833-4ece-d696-b36cddf29133"
      },
      "source": [
        "print(\"Dwellings with same address selected out of possiblity:\", num_same/count)"
      ],
      "execution_count": null,
      "outputs": [
        {
          "output_type": "stream",
          "text": [
            "Dwellings with same address selected out of possiblity: 0.1550231189575452\n"
          ],
          "name": "stdout"
        }
      ]
    },
    {
      "cell_type": "markdown",
      "metadata": {
        "id": "jU-MQEGITd-K"
      },
      "source": [
        "### Choose Dwelling Address By Maximum Spatial Weight Sum "
      ]
    },
    {
      "cell_type": "code",
      "metadata": {
        "id": "--Wpu4I7Ta9M"
      },
      "source": [
        "#we can use this to compare between the two versions, because this is where they'll cause differences\r\n",
        "count_sames = CensusDis1850.groupby([\"CENSUS_WARD_NUM\",\"CENSUS_DWELLING_NUM\"], as_index = False).filter(lambda df: df[\"CD_H_ADDRESS\"].count() > 0 and df[\"CD_H_ADDRESS\"].value_counts()[0] > 1)"
      ],
      "execution_count": null,
      "outputs": []
    },
    {
      "cell_type": "code",
      "metadata": {
        "colab": {
          "base_uri": "https://localhost:8080/"
        },
        "id": "znEz-424Tngd",
        "outputId": "ed445bda-9e9f-44dd-a6d8-9c211162cbb7"
      },
      "source": [
        "\r\n",
        "count_sames.groupby([\"CENSUS_WARD_NUM\",\"CENSUS_DWELLING_NUM\"]).ngroups"
      ],
      "execution_count": null,
      "outputs": [
        {
          "output_type": "execute_result",
          "data": {
            "text/plain": [
              "3407"
            ]
          },
          "metadata": {
            "tags": []
          },
          "execution_count": 91
        }
      ]
    },
    {
      "cell_type": "code",
      "metadata": {
        "id": "LlRID4cbTtqp"
      },
      "source": [
        "def dwelling_weight_fill(x):\r\n",
        "    #x[\"CD_ADDRESS\"] = x.groupby([\"CD_ADDRESS\"])['spatial_weight'].agg('sum').idxmax()\r\n",
        "    if x[\"CD_H_ADDRESS\"].count() > 0:\r\n",
        "        x[\"spatial_weight_sum\"] = x.groupby([\"CD_H_ADDRESS\"])['spatial_weight'].transform('sum')\r\n",
        "        x.reset_index(drop = True, inplace = True)\r\n",
        "        index = x[\"spatial_weight_sum\"].idxmax()\r\n",
        "\r\n",
        "        x[\"CD_H_ADDRESS\"] = x.iloc[index].loc[\"CD_H_ADDRESS\"]\r\n",
        "        x[\"CD_BLOCK_NUM\"] = x.iloc[index].loc[\"CD_BLOCK_NUM\"]\r\n",
        "        x[\"CD_X\"] = x.iloc[index].loc[\"CD_X\"]\r\n",
        "        x[\"CD_Y\"] = x.iloc[index].loc[\"CD_Y\"]\r\n",
        "    \r\n",
        "    return x"
      ],
      "execution_count": null,
      "outputs": []
    },
    {
      "cell_type": "code",
      "metadata": {
        "id": "yfX3wEUzT2gw"
      },
      "source": [
        "Dwelling_fill_max = Dwellings_weight.copy()"
      ],
      "execution_count": null,
      "outputs": []
    },
    {
      "cell_type": "code",
      "metadata": {
        "id": "FyGEz3wUT53m"
      },
      "source": [
        "#We do it this way so that ordering differences don't cause arbitrary differences between the max and sum methods\r\n",
        "Dwelling_fill_sum_part1 = count_sames.groupby([\"CENSUS_WARD_NUM\",\"CENSUS_DWELLING_NUM\"]).apply(dwelling_weight_fill)\r\n",
        "Dwelling_fill_sum_part2 = Dwelling_fill_max[~Dwelling_fill_max[\"CENSUS_IPUMS_UID\"].isin(count_sames.CENSUS_IPUMS_UID.values)]\r\n",
        "Dwelling_fill_sum = pd.concat([Dwelling_fill_sum_part1, Dwelling_fill_sum_part2])"
      ],
      "execution_count": null,
      "outputs": []
    },
    {
      "cell_type": "code",
      "metadata": {
        "id": "LmZUBTlST-8t"
      },
      "source": [
        "Dwelling_fill_sum_alt = CensusDis1850.groupby([\"CENSUS_WARD_NUM\", \"CENSUS_DWELLING_NUM\"]).apply(dwelling_weight_fill)"
      ],
      "execution_count": null,
      "outputs": []
    },
    {
      "cell_type": "code",
      "metadata": {
        "id": "Szxoq9D2UEpF"
      },
      "source": [
        "#Add back entries that were eliminated because they don't have a dwelling number \r\n",
        "no_dwelling = CensusDis1850[CensusDis1850[\"CENSUS_DWELLING_NUM\"].isnull()]"
      ],
      "execution_count": null,
      "outputs": []
    },
    {
      "cell_type": "code",
      "metadata": {
        "id": "80LePhszUEsG"
      },
      "source": [
        "Dwelling_fill_sum_alt = pd.concat([Dwelling_fill_sum_alt, no_dwelling])"
      ],
      "execution_count": null,
      "outputs": []
    },
    {
      "cell_type": "code",
      "metadata": {
        "colab": {
          "base_uri": "https://localhost:8080/"
        },
        "id": "NONa2DLyUL2P",
        "outputId": "f51146d1-6fae-4122-9e54-986527551964"
      },
      "source": [
        "#Dwelling_fill_max = Dwellings_weight.copy()\r\n",
        "Dwelling_fill_max =  pd.concat([Dwelling_fill_max, no_dwelling])\r\n",
        "Dwelling_fill_max.info()"
      ],
      "execution_count": null,
      "outputs": [
        {
          "output_type": "stream",
          "text": [
            "<class 'pandas.core.frame.DataFrame'>\n",
            "Int64Index: 515630 entries, 0 to 495263\n",
            "Data columns (total 31 columns):\n",
            " #   Column                   Non-Null Count   Dtype  \n",
            "---  ------                   --------------   -----  \n",
            " 0   CENSUS_SERIALP           515630 non-null  int64  \n",
            " 1   CENSUS_AGE               515630 non-null  int64  \n",
            " 2   CENSUS_SEX               515630 non-null  int64  \n",
            " 3   CENSUS_MARST             515630 non-null  int64  \n",
            " 4   CENSUS_RACE              515630 non-null  int64  \n",
            " 5   CENSUS_LABFORCE          515630 non-null  int64  \n",
            " 6   CENSUS_IMPREL            515630 non-null  int64  \n",
            " 7   CENSUS_OCCSTR            160426 non-null  object \n",
            " 8   CENSUS_NAMELAST          515546 non-null  object \n",
            " 9   CENSUS_NAMEFRST          515046 non-null  object \n",
            " 10  CENSUS_SEQ_NUM           515630 non-null  int64  \n",
            " 11  CENSUS_HH_NUM            515630 non-null  int64  \n",
            " 12  CENSUS_IPUMS_UID         515630 non-null  object \n",
            " 13  CENSUS_CITY              515630 non-null  int64  \n",
            " 14  CENSUS_PAGENO_HOUSEHOLD  515630 non-null  int64  \n",
            " 15  CENSUS_WARD_NUM          515630 non-null  int64  \n",
            " 16  CENSUS_REEL_HOUSEHOLD    515630 non-null  int64  \n",
            " 17  CENSUS_PLACE             515630 non-null  object \n",
            " 18  CENSUS_DWELLING_NUM      514718 non-null  float64\n",
            " 19  CENSUS_DWELLING_SEQ      514020 non-null  float64\n",
            " 20  CENSUS_DWELLING_SIZE     515630 non-null  int64  \n",
            " 21  CENSUS_GEOG              514918 non-null  object \n",
            " 22  CENSUS_LINE              515630 non-null  int64  \n",
            " 23  CENSUS_INDEX             515630 non-null  int64  \n",
            " 24  CENSUS_ID                31818 non-null   object \n",
            " 25  CD_H_ADDRESS             413105 non-null  object \n",
            " 26  selected                 31818 non-null   float64\n",
            " 27  spatial_weight           31818 non-null   float64\n",
            " 28  CD_X                     413105 non-null  float64\n",
            " 29  CD_Y                     413105 non-null  float64\n",
            " 30  CD_BLOCK_NUM             413105 non-null  object \n",
            "dtypes: float64(6), int64(16), object(9)\n",
            "memory usage: 125.9+ MB\n"
          ],
          "name": "stdout"
        }
      ]
    },
    {
      "cell_type": "code",
      "metadata": {
        "id": "vO9QS7ynUTov"
      },
      "source": [
        "Dwelling_fill_sum_alt.to_csv(\"/content/dwelling_filled_sum_1850_mn.csv\", index = False)\r\n",
        "Dwelling_fill_max.to_csv(\"/content/dwelling_filled_max_1850_mn.csv\", index = False)"
      ],
      "execution_count": null,
      "outputs": []
    },
    {
      "cell_type": "code",
      "metadata": {
        "colab": {
          "base_uri": "https://localhost:8080/"
        },
        "id": "3XPa2a4hUxew",
        "outputId": "0561488b-3a7d-424a-f871-e49ff9fcaf78"
      },
      "source": [
        "print(\"Proportion of census data assigned addresses:\", Dwelling_fill_sum_alt.CD_H_ADDRESS.count()/515630)\r\n",
        "print(\"Proportion of Dwellings Without Addresses:\", Dwelling_fill_sum_alt.groupby([\"CENSUS_WARD_NUM\", \"CENSUS_DWELLING_NUM\"], as_index = False).filter(lambda df: df[\"CD_H_ADDRESS\"].count() == 0).groupby([\"CENSUS_WARD_NUM\", \"CENSUS_DWELLING_NUM\"]).ngroups/CensusDis1850.groupby([\"CENSUS_WARD_NUM\",\"CENSUS_DWELLING_NUM\"]).ngroups)"
      ],
      "execution_count": null,
      "outputs": [
        {
          "output_type": "stream",
          "text": [
            "Proportion of census data assigned addresses: 0.8011655644551325\n",
            "Proportion of Dwellings Without Addresses: 0.3470365699873897\n"
          ],
          "name": "stdout"
        }
      ]
    },
    {
      "cell_type": "markdown",
      "metadata": {
        "id": "3TqbWZ8eWNS7"
      },
      "source": [
        "This matches with the expected proportions, the same as those for selecting the max weight instead of the max sum"
      ]
    },
    {
      "cell_type": "markdown",
      "metadata": {
        "id": "VgRFh6zOWSHv"
      },
      "source": [
        "### Look at difference between selecting the maximum and selecting the max sum"
      ]
    },
    {
      "cell_type": "code",
      "metadata": {
        "id": "0jjt3svgWLcP"
      },
      "source": [
        "Dwelling_fill_sum_alt.dropna(subset = [\"CD_H_ADDRESS\"], inplace = True)\r\n",
        "Dwelling_fill_max.dropna(subset = [\"CD_H_ADDRESS\"], inplace = True)"
      ],
      "execution_count": null,
      "outputs": []
    },
    {
      "cell_type": "code",
      "metadata": {
        "id": "mis5ZFbJWfwn"
      },
      "source": [
        "Dwelling_fill_sum_dropped = Dwelling_fill_sum_alt[[\"CENSUS_IPUMS_UID\", \"CD_H_ADDRESS\", \"CD_X\", \"CD_Y\"]]\r\n",
        "Dwelling_fill_max_dropped = Dwelling_fill_max[[\"CENSUS_IPUMS_UID\", \"CD_H_ADDRESS\", \"CD_X\", \"CD_Y\"]]"
      ],
      "execution_count": null,
      "outputs": []
    },
    {
      "cell_type": "code",
      "metadata": {
        "colab": {
          "base_uri": "https://localhost:8080/"
        },
        "id": "lmRi5krtWljr",
        "outputId": "7844344d-956b-497a-a89f-07db8f6aa96a"
      },
      "source": [
        "Dwelling_filled_differences = Dwelling_fill_sum_dropped.merge(Dwelling_fill_max_dropped, on = \"CENSUS_IPUMS_UID\",suffixes = ('_sum', '_max'), how = \"left\", validate = \"one_to_one\")\r\n",
        "Dwelling_filled_differences.info()"
      ],
      "execution_count": null,
      "outputs": [
        {
          "output_type": "stream",
          "text": [
            "<class 'pandas.core.frame.DataFrame'>\n",
            "Int64Index: 413105 entries, 0 to 413104\n",
            "Data columns (total 7 columns):\n",
            " #   Column            Non-Null Count   Dtype  \n",
            "---  ------            --------------   -----  \n",
            " 0   CENSUS_IPUMS_UID  413105 non-null  object \n",
            " 1   CD_H_ADDRESS_sum  413105 non-null  object \n",
            " 2   CD_X_sum          413105 non-null  float64\n",
            " 3   CD_Y_sum          413105 non-null  float64\n",
            " 4   CD_H_ADDRESS_max  413105 non-null  object \n",
            " 5   CD_X_max          413105 non-null  float64\n",
            " 6   CD_Y_max          413105 non-null  float64\n",
            "dtypes: float64(4), object(3)\n",
            "memory usage: 25.2+ MB\n"
          ],
          "name": "stdout"
        }
      ]
    },
    {
      "cell_type": "code",
      "metadata": {
        "colab": {
          "base_uri": "https://localhost:8080/"
        },
        "id": "369cV4pzWr3P",
        "outputId": "7c119f01-444e-4afa-b5d2-589025c6f6df"
      },
      "source": [
        "\r\n",
        "Dwelling_filled_same = Dwelling_filled_differences[Dwelling_filled_differences[\"CD_H_ADDRESS_max\"] == Dwelling_filled_differences[\"CD_H_ADDRESS_sum\"]]\r\n",
        "Dwelling_filled_same.info()"
      ],
      "execution_count": null,
      "outputs": [
        {
          "output_type": "stream",
          "text": [
            "<class 'pandas.core.frame.DataFrame'>\n",
            "Int64Index: 378676 entries, 0 to 413104\n",
            "Data columns (total 7 columns):\n",
            " #   Column            Non-Null Count   Dtype  \n",
            "---  ------            --------------   -----  \n",
            " 0   CENSUS_IPUMS_UID  378676 non-null  object \n",
            " 1   CD_H_ADDRESS_sum  378676 non-null  object \n",
            " 2   CD_X_sum          378676 non-null  float64\n",
            " 3   CD_Y_sum          378676 non-null  float64\n",
            " 4   CD_H_ADDRESS_max  378676 non-null  object \n",
            " 5   CD_X_max          378676 non-null  float64\n",
            " 6   CD_Y_max          378676 non-null  float64\n",
            "dtypes: float64(4), object(3)\n",
            "memory usage: 23.1+ MB\n"
          ],
          "name": "stdout"
        }
      ]
    },
    {
      "cell_type": "code",
      "metadata": {
        "colab": {
          "base_uri": "https://localhost:8080/"
        },
        "id": "3QdoG0p5W3j2",
        "outputId": "1c63ffab-a3b4-416e-918c-fa4eaef2d2ee"
      },
      "source": [
        "Census1850_diff = CensusDis1850[~CensusDis1850[\"CENSUS_IPUMS_UID\"].isin(Dwelling_filled_same.CENSUS_IPUMS_UID.values)]\r\n",
        "Census1850_diff.info()"
      ],
      "execution_count": null,
      "outputs": [
        {
          "output_type": "stream",
          "text": [
            "<class 'pandas.core.frame.DataFrame'>\n",
            "Int64Index: 136954 entries, 161 to 515629\n",
            "Data columns (total 31 columns):\n",
            " #   Column                   Non-Null Count   Dtype  \n",
            "---  ------                   --------------   -----  \n",
            " 0   CENSUS_SERIALP           136954 non-null  int64  \n",
            " 1   CENSUS_AGE               136954 non-null  int64  \n",
            " 2   CENSUS_SEX               136954 non-null  int64  \n",
            " 3   CENSUS_MARST             136954 non-null  int64  \n",
            " 4   CENSUS_RACE              136954 non-null  int64  \n",
            " 5   CENSUS_LABFORCE          136954 non-null  int64  \n",
            " 6   CENSUS_IMPREL            136954 non-null  int64  \n",
            " 7   CENSUS_OCCSTR            41580 non-null   object \n",
            " 8   CENSUS_NAMELAST          136924 non-null  object \n",
            " 9   CENSUS_NAMEFRST          136765 non-null  object \n",
            " 10  CENSUS_SEQ_NUM           136954 non-null  int64  \n",
            " 11  CENSUS_HH_NUM            136954 non-null  int64  \n",
            " 12  CENSUS_IPUMS_UID         136954 non-null  object \n",
            " 13  CENSUS_CITY              136954 non-null  int64  \n",
            " 14  CENSUS_PAGENO_HOUSEHOLD  136954 non-null  int64  \n",
            " 15  CENSUS_WARD_NUM          136954 non-null  int64  \n",
            " 16  CENSUS_REEL_HOUSEHOLD    136954 non-null  int64  \n",
            " 17  CENSUS_PLACE             136954 non-null  object \n",
            " 18  CENSUS_DWELLING_NUM      136112 non-null  float64\n",
            " 19  CENSUS_DWELLING_SEQ      136519 non-null  float64\n",
            " 20  CENSUS_DWELLING_SIZE     136954 non-null  int64  \n",
            " 21  CENSUS_GEOG              136778 non-null  object \n",
            " 22  CENSUS_LINE              136954 non-null  int64  \n",
            " 23  CENSUS_INDEX             136954 non-null  int64  \n",
            " 24  CENSUS_ID                3775 non-null    object \n",
            " 25  CD_H_ADDRESS             3775 non-null    object \n",
            " 26  selected                 3775 non-null    float64\n",
            " 27  spatial_weight           3775 non-null    float64\n",
            " 28  CD_X                     3775 non-null    float64\n",
            " 29  CD_Y                     3775 non-null    float64\n",
            " 30  CD_BLOCK_NUM             3775 non-null    object \n",
            "dtypes: float64(6), int64(16), object(9)\n",
            "memory usage: 33.4+ MB\n"
          ],
          "name": "stdout"
        }
      ]
    },
    {
      "cell_type": "code",
      "metadata": {
        "id": "9SGBURTAW9o4"
      },
      "source": [
        "#Create a column to display spatial weights\r\n",
        "Census1850_diff = Census1850_diff.copy()\r\n",
        "Census1850_diff[\"spatial_weight_sum\"] = Census1850_diff.groupby([\"CENSUS_WARD_NUM\",\"CENSUS_DWELLING_NUM\", \"CD_H_ADDRESS\"])[\"spatial_weight\"].transform('sum')"
      ],
      "execution_count": null,
      "outputs": []
    },
    {
      "cell_type": "code",
      "metadata": {
        "colab": {
          "base_uri": "https://localhost:8080/"
        },
        "id": "1tYg_Nm3XIN-",
        "outputId": "eb11e933-e475-4964-ce81-f86fe5a3c93c"
      },
      "source": [
        "Dwelling_filled_differences_all = Census1850_diff.merge(Dwelling_filled_differences, how = \"left\", on = \"CENSUS_IPUMS_UID\")\r\n",
        "Dwelling_filled_differences_all.info()"
      ],
      "execution_count": null,
      "outputs": [
        {
          "output_type": "stream",
          "text": [
            "<class 'pandas.core.frame.DataFrame'>\n",
            "Int64Index: 136954 entries, 0 to 136953\n",
            "Data columns (total 38 columns):\n",
            " #   Column                   Non-Null Count   Dtype  \n",
            "---  ------                   --------------   -----  \n",
            " 0   CENSUS_SERIALP           136954 non-null  int64  \n",
            " 1   CENSUS_AGE               136954 non-null  int64  \n",
            " 2   CENSUS_SEX               136954 non-null  int64  \n",
            " 3   CENSUS_MARST             136954 non-null  int64  \n",
            " 4   CENSUS_RACE              136954 non-null  int64  \n",
            " 5   CENSUS_LABFORCE          136954 non-null  int64  \n",
            " 6   CENSUS_IMPREL            136954 non-null  int64  \n",
            " 7   CENSUS_OCCSTR            41580 non-null   object \n",
            " 8   CENSUS_NAMELAST          136924 non-null  object \n",
            " 9   CENSUS_NAMEFRST          136765 non-null  object \n",
            " 10  CENSUS_SEQ_NUM           136954 non-null  int64  \n",
            " 11  CENSUS_HH_NUM            136954 non-null  int64  \n",
            " 12  CENSUS_IPUMS_UID         136954 non-null  object \n",
            " 13  CENSUS_CITY              136954 non-null  int64  \n",
            " 14  CENSUS_PAGENO_HOUSEHOLD  136954 non-null  int64  \n",
            " 15  CENSUS_WARD_NUM          136954 non-null  int64  \n",
            " 16  CENSUS_REEL_HOUSEHOLD    136954 non-null  int64  \n",
            " 17  CENSUS_PLACE             136954 non-null  object \n",
            " 18  CENSUS_DWELLING_NUM      136112 non-null  float64\n",
            " 19  CENSUS_DWELLING_SEQ      136519 non-null  float64\n",
            " 20  CENSUS_DWELLING_SIZE     136954 non-null  int64  \n",
            " 21  CENSUS_GEOG              136778 non-null  object \n",
            " 22  CENSUS_LINE              136954 non-null  int64  \n",
            " 23  CENSUS_INDEX             136954 non-null  int64  \n",
            " 24  CENSUS_ID                3775 non-null    object \n",
            " 25  CD_H_ADDRESS             3775 non-null    object \n",
            " 26  selected                 3775 non-null    float64\n",
            " 27  spatial_weight           3775 non-null    float64\n",
            " 28  CD_X                     3775 non-null    float64\n",
            " 29  CD_Y                     3775 non-null    float64\n",
            " 30  CD_BLOCK_NUM             3775 non-null    object \n",
            " 31  spatial_weight_sum       3775 non-null    float64\n",
            " 32  CD_H_ADDRESS_sum         34429 non-null   object \n",
            " 33  CD_X_sum                 34429 non-null   float64\n",
            " 34  CD_Y_sum                 34429 non-null   float64\n",
            " 35  CD_H_ADDRESS_max         34429 non-null   object \n",
            " 36  CD_X_max                 34429 non-null   float64\n",
            " 37  CD_Y_max                 34429 non-null   float64\n",
            "dtypes: float64(11), int64(16), object(11)\n",
            "memory usage: 40.8+ MB\n"
          ],
          "name": "stdout"
        }
      ]
    },
    {
      "cell_type": "code",
      "metadata": {
        "id": "oCQax1awXNDO"
      },
      "source": [
        "Dwelling_filled_differences_all.dropna(subset = [\"spatial_weight\"], inplace = True)"
      ],
      "execution_count": null,
      "outputs": []
    },
    {
      "cell_type": "code",
      "metadata": {
        "colab": {
          "base_uri": "https://localhost:8080/",
          "height": 1000
        },
        "id": "gtsMmm67XSl6",
        "outputId": "34658add-42d6-43fd-d4ff-d9a6d9075413"
      },
      "source": [
        "i = 0\r\n",
        "for index, group in Dwelling_filled_differences_all.groupby([\"CENSUS_WARD_NUM\", \"CENSUS_DWELLING_NUM\"]):\r\n",
        "    display(group.head())\r\n",
        "    i += 1\r\n",
        "    if i == 5:\r\n",
        "        break"
      ],
      "execution_count": null,
      "outputs": [
        {
          "output_type": "display_data",
          "data": {
            "text/html": [
              "<div>\n",
              "<style scoped>\n",
              "    .dataframe tbody tr th:only-of-type {\n",
              "        vertical-align: middle;\n",
              "    }\n",
              "\n",
              "    .dataframe tbody tr th {\n",
              "        vertical-align: top;\n",
              "    }\n",
              "\n",
              "    .dataframe thead th {\n",
              "        text-align: right;\n",
              "    }\n",
              "</style>\n",
              "<table border=\"1\" class=\"dataframe\">\n",
              "  <thead>\n",
              "    <tr style=\"text-align: right;\">\n",
              "      <th></th>\n",
              "      <th>CENSUS_SERIALP</th>\n",
              "      <th>CENSUS_AGE</th>\n",
              "      <th>CENSUS_SEX</th>\n",
              "      <th>CENSUS_MARST</th>\n",
              "      <th>CENSUS_RACE</th>\n",
              "      <th>CENSUS_LABFORCE</th>\n",
              "      <th>CENSUS_IMPREL</th>\n",
              "      <th>CENSUS_OCCSTR</th>\n",
              "      <th>CENSUS_NAMELAST</th>\n",
              "      <th>CENSUS_NAMEFRST</th>\n",
              "      <th>CENSUS_SEQ_NUM</th>\n",
              "      <th>CENSUS_HH_NUM</th>\n",
              "      <th>CENSUS_IPUMS_UID</th>\n",
              "      <th>CENSUS_CITY</th>\n",
              "      <th>CENSUS_PAGENO_HOUSEHOLD</th>\n",
              "      <th>CENSUS_WARD_NUM</th>\n",
              "      <th>CENSUS_REEL_HOUSEHOLD</th>\n",
              "      <th>CENSUS_PLACE</th>\n",
              "      <th>CENSUS_DWELLING_NUM</th>\n",
              "      <th>CENSUS_DWELLING_SEQ</th>\n",
              "      <th>CENSUS_DWELLING_SIZE</th>\n",
              "      <th>CENSUS_GEOG</th>\n",
              "      <th>CENSUS_LINE</th>\n",
              "      <th>CENSUS_INDEX</th>\n",
              "      <th>CENSUS_ID</th>\n",
              "      <th>CD_H_ADDRESS</th>\n",
              "      <th>selected</th>\n",
              "      <th>spatial_weight</th>\n",
              "      <th>CD_X</th>\n",
              "      <th>CD_Y</th>\n",
              "      <th>CD_BLOCK_NUM</th>\n",
              "      <th>spatial_weight_sum</th>\n",
              "      <th>CD_H_ADDRESS_sum</th>\n",
              "      <th>CD_X_sum</th>\n",
              "      <th>CD_Y_sum</th>\n",
              "      <th>CD_H_ADDRESS_max</th>\n",
              "      <th>CD_X_max</th>\n",
              "      <th>CD_Y_max</th>\n",
              "    </tr>\n",
              "  </thead>\n",
              "  <tbody>\n",
              "    <tr>\n",
              "      <th>1713</th>\n",
              "      <td>2045391</td>\n",
              "      <td>32</td>\n",
              "      <td>1</td>\n",
              "      <td>1</td>\n",
              "      <td>120</td>\n",
              "      <td>2</td>\n",
              "      <td>3</td>\n",
              "      <td>MERCHANT</td>\n",
              "      <td>CHURCHILL</td>\n",
              "      <td>WILLIAM H</td>\n",
              "      <td>5</td>\n",
              "      <td>405981</td>\n",
              "      <td>df227495-1eee-44f2-a4f4-2b28e523e819</td>\n",
              "      <td>4610</td>\n",
              "      <td>1760</td>\n",
              "      <td>1</td>\n",
              "      <td>534</td>\n",
              "      <td>MANHATTAN</td>\n",
              "      <td>6.0</td>\n",
              "      <td>12.0</td>\n",
              "      <td>52</td>\n",
              "      <td>NEW YORK WARD 1 WESTERN DIVISION</td>\n",
              "      <td>130</td>\n",
              "      <td>7114</td>\n",
              "      <td>df227495-1eee-44f2-a4f4-2b28e523e819</td>\n",
              "      <td>46 CEDAR ST</td>\n",
              "      <td>1.0</td>\n",
              "      <td>2.000000</td>\n",
              "      <td>-74.008955</td>\n",
              "      <td>40.707471</td>\n",
              "      <td>mn1850_01_74.0094_40.7075</td>\n",
              "      <td>2.000000</td>\n",
              "      <td>96 LIBERTY ST</td>\n",
              "      <td>-74.011527</td>\n",
              "      <td>40.709551</td>\n",
              "      <td>46 CEDAR ST</td>\n",
              "      <td>-74.008955</td>\n",
              "      <td>40.707471</td>\n",
              "    </tr>\n",
              "    <tr>\n",
              "      <th>1734</th>\n",
              "      <td>2045391</td>\n",
              "      <td>23</td>\n",
              "      <td>1</td>\n",
              "      <td>6</td>\n",
              "      <td>120</td>\n",
              "      <td>2</td>\n",
              "      <td>12</td>\n",
              "      <td>CLERK</td>\n",
              "      <td>COFFIN</td>\n",
              "      <td>C B</td>\n",
              "      <td>26</td>\n",
              "      <td>405999</td>\n",
              "      <td>7e9951c2-ad41-4798-a614-8e484c007230</td>\n",
              "      <td>4610</td>\n",
              "      <td>1760</td>\n",
              "      <td>1</td>\n",
              "      <td>534</td>\n",
              "      <td>MANHATTAN</td>\n",
              "      <td>6.0</td>\n",
              "      <td>12.0</td>\n",
              "      <td>52</td>\n",
              "      <td>NEW YORK WARD 1 WESTERN DIVISION</td>\n",
              "      <td>130</td>\n",
              "      <td>7135</td>\n",
              "      <td>7e9951c2-ad41-4798-a614-8e484c007230</td>\n",
              "      <td>96 LIBERTY ST</td>\n",
              "      <td>1.0</td>\n",
              "      <td>2.000000</td>\n",
              "      <td>-74.011527</td>\n",
              "      <td>40.709551</td>\n",
              "      <td>mn1850_01_74.0115_40.7093</td>\n",
              "      <td>4.000000</td>\n",
              "      <td>96 LIBERTY ST</td>\n",
              "      <td>-74.011527</td>\n",
              "      <td>40.709551</td>\n",
              "      <td>46 CEDAR ST</td>\n",
              "      <td>-74.008955</td>\n",
              "      <td>40.707471</td>\n",
              "    </tr>\n",
              "    <tr>\n",
              "      <th>1739</th>\n",
              "      <td>2045391</td>\n",
              "      <td>21</td>\n",
              "      <td>1</td>\n",
              "      <td>1</td>\n",
              "      <td>120</td>\n",
              "      <td>2</td>\n",
              "      <td>8</td>\n",
              "      <td>CLERK</td>\n",
              "      <td>HAINES</td>\n",
              "      <td>WILLIAM C</td>\n",
              "      <td>31</td>\n",
              "      <td>406004</td>\n",
              "      <td>faa0c4fd-6111-474b-b0f9-233ad86a9ec5</td>\n",
              "      <td>4610</td>\n",
              "      <td>1760</td>\n",
              "      <td>1</td>\n",
              "      <td>534</td>\n",
              "      <td>MANHATTAN</td>\n",
              "      <td>6.0</td>\n",
              "      <td>12.0</td>\n",
              "      <td>52</td>\n",
              "      <td>NEW YORK WARD 1 WESTERN DIVISION</td>\n",
              "      <td>130</td>\n",
              "      <td>7140</td>\n",
              "      <td>faa0c4fd-6111-474b-b0f9-233ad86a9ec5</td>\n",
              "      <td>96 LIBERTY ST</td>\n",
              "      <td>1.0</td>\n",
              "      <td>2.000000</td>\n",
              "      <td>-74.011527</td>\n",
              "      <td>40.709551</td>\n",
              "      <td>mn1850_01_74.0115_40.7093</td>\n",
              "      <td>4.000000</td>\n",
              "      <td>96 LIBERTY ST</td>\n",
              "      <td>-74.011527</td>\n",
              "      <td>40.709551</td>\n",
              "      <td>46 CEDAR ST</td>\n",
              "      <td>-74.008955</td>\n",
              "      <td>40.707471</td>\n",
              "    </tr>\n",
              "    <tr>\n",
              "      <th>1743</th>\n",
              "      <td>2045391</td>\n",
              "      <td>23</td>\n",
              "      <td>1</td>\n",
              "      <td>6</td>\n",
              "      <td>120</td>\n",
              "      <td>2</td>\n",
              "      <td>12</td>\n",
              "      <td>CLERK</td>\n",
              "      <td>WHITE</td>\n",
              "      <td>JOHN H</td>\n",
              "      <td>35</td>\n",
              "      <td>406007</td>\n",
              "      <td>07084d13-5bbc-499d-be5d-d2a636068c86</td>\n",
              "      <td>4610</td>\n",
              "      <td>1760</td>\n",
              "      <td>1</td>\n",
              "      <td>534</td>\n",
              "      <td>MANHATTAN</td>\n",
              "      <td>6.0</td>\n",
              "      <td>12.0</td>\n",
              "      <td>52</td>\n",
              "      <td>NEW YORK WARD 1 WESTERN DIVISION</td>\n",
              "      <td>130</td>\n",
              "      <td>7144</td>\n",
              "      <td>07084d13-5bbc-499d-be5d-d2a636068c86</td>\n",
              "      <td>132 LIBERTY ST</td>\n",
              "      <td>1.0</td>\n",
              "      <td>1.857692</td>\n",
              "      <td>-74.013174</td>\n",
              "      <td>40.710311</td>\n",
              "      <td>mn1850_01_74.0131_40.7101</td>\n",
              "      <td>1.857692</td>\n",
              "      <td>96 LIBERTY ST</td>\n",
              "      <td>-74.011527</td>\n",
              "      <td>40.709551</td>\n",
              "      <td>46 CEDAR ST</td>\n",
              "      <td>-74.008955</td>\n",
              "      <td>40.707471</td>\n",
              "    </tr>\n",
              "    <tr>\n",
              "      <th>1754</th>\n",
              "      <td>2045391</td>\n",
              "      <td>47</td>\n",
              "      <td>1</td>\n",
              "      <td>1</td>\n",
              "      <td>120</td>\n",
              "      <td>2</td>\n",
              "      <td>12</td>\n",
              "      <td>PHYSICIAN</td>\n",
              "      <td>PRATT</td>\n",
              "      <td>PETER</td>\n",
              "      <td>46</td>\n",
              "      <td>406017</td>\n",
              "      <td>042be81b-7121-4691-a63f-360a0194faac</td>\n",
              "      <td>4610</td>\n",
              "      <td>1760</td>\n",
              "      <td>1</td>\n",
              "      <td>534</td>\n",
              "      <td>MANHATTAN</td>\n",
              "      <td>6.0</td>\n",
              "      <td>12.0</td>\n",
              "      <td>52</td>\n",
              "      <td>NEW YORK WARD 1 WESTERN DIVISION</td>\n",
              "      <td>130</td>\n",
              "      <td>7155</td>\n",
              "      <td>042be81b-7121-4691-a63f-360a0194faac</td>\n",
              "      <td>98 LIBERTY ST</td>\n",
              "      <td>1.0</td>\n",
              "      <td>2.000000</td>\n",
              "      <td>-74.011642</td>\n",
              "      <td>40.709606</td>\n",
              "      <td>mn1850_01_74.0115_40.7093</td>\n",
              "      <td>2.000000</td>\n",
              "      <td>96 LIBERTY ST</td>\n",
              "      <td>-74.011527</td>\n",
              "      <td>40.709551</td>\n",
              "      <td>46 CEDAR ST</td>\n",
              "      <td>-74.008955</td>\n",
              "      <td>40.707471</td>\n",
              "    </tr>\n",
              "  </tbody>\n",
              "</table>\n",
              "</div>"
            ],
            "text/plain": [
              "      CENSUS_SERIALP  CENSUS_AGE  ...   CD_X_max   CD_Y_max\n",
              "1713         2045391          32  ... -74.008955  40.707471\n",
              "1734         2045391          23  ... -74.008955  40.707471\n",
              "1739         2045391          21  ... -74.008955  40.707471\n",
              "1743         2045391          23  ... -74.008955  40.707471\n",
              "1754         2045391          47  ... -74.008955  40.707471\n",
              "\n",
              "[5 rows x 38 columns]"
            ]
          },
          "metadata": {
            "tags": []
          }
        },
        {
          "output_type": "display_data",
          "data": {
            "text/html": [
              "<div>\n",
              "<style scoped>\n",
              "    .dataframe tbody tr th:only-of-type {\n",
              "        vertical-align: middle;\n",
              "    }\n",
              "\n",
              "    .dataframe tbody tr th {\n",
              "        vertical-align: top;\n",
              "    }\n",
              "\n",
              "    .dataframe thead th {\n",
              "        text-align: right;\n",
              "    }\n",
              "</style>\n",
              "<table border=\"1\" class=\"dataframe\">\n",
              "  <thead>\n",
              "    <tr style=\"text-align: right;\">\n",
              "      <th></th>\n",
              "      <th>CENSUS_SERIALP</th>\n",
              "      <th>CENSUS_AGE</th>\n",
              "      <th>CENSUS_SEX</th>\n",
              "      <th>CENSUS_MARST</th>\n",
              "      <th>CENSUS_RACE</th>\n",
              "      <th>CENSUS_LABFORCE</th>\n",
              "      <th>CENSUS_IMPREL</th>\n",
              "      <th>CENSUS_OCCSTR</th>\n",
              "      <th>CENSUS_NAMELAST</th>\n",
              "      <th>CENSUS_NAMEFRST</th>\n",
              "      <th>CENSUS_SEQ_NUM</th>\n",
              "      <th>CENSUS_HH_NUM</th>\n",
              "      <th>CENSUS_IPUMS_UID</th>\n",
              "      <th>CENSUS_CITY</th>\n",
              "      <th>CENSUS_PAGENO_HOUSEHOLD</th>\n",
              "      <th>CENSUS_WARD_NUM</th>\n",
              "      <th>CENSUS_REEL_HOUSEHOLD</th>\n",
              "      <th>CENSUS_PLACE</th>\n",
              "      <th>CENSUS_DWELLING_NUM</th>\n",
              "      <th>CENSUS_DWELLING_SEQ</th>\n",
              "      <th>CENSUS_DWELLING_SIZE</th>\n",
              "      <th>CENSUS_GEOG</th>\n",
              "      <th>CENSUS_LINE</th>\n",
              "      <th>CENSUS_INDEX</th>\n",
              "      <th>CENSUS_ID</th>\n",
              "      <th>CD_H_ADDRESS</th>\n",
              "      <th>selected</th>\n",
              "      <th>spatial_weight</th>\n",
              "      <th>CD_X</th>\n",
              "      <th>CD_Y</th>\n",
              "      <th>CD_BLOCK_NUM</th>\n",
              "      <th>spatial_weight_sum</th>\n",
              "      <th>CD_H_ADDRESS_sum</th>\n",
              "      <th>CD_X_sum</th>\n",
              "      <th>CD_Y_sum</th>\n",
              "      <th>CD_H_ADDRESS_max</th>\n",
              "      <th>CD_X_max</th>\n",
              "      <th>CD_Y_max</th>\n",
              "    </tr>\n",
              "  </thead>\n",
              "  <tbody>\n",
              "    <tr>\n",
              "      <th>1838</th>\n",
              "      <td>2045424</td>\n",
              "      <td>43</td>\n",
              "      <td>2</td>\n",
              "      <td>6</td>\n",
              "      <td>120</td>\n",
              "      <td>0</td>\n",
              "      <td>1</td>\n",
              "      <td>NaN</td>\n",
              "      <td>DUTCHER</td>\n",
              "      <td>CATHARINE B</td>\n",
              "      <td>1</td>\n",
              "      <td>406124</td>\n",
              "      <td>db5340b3-1f19-4350-8a56-af1670443574</td>\n",
              "      <td>4610</td>\n",
              "      <td>1810</td>\n",
              "      <td>1</td>\n",
              "      <td>534</td>\n",
              "      <td>MANHATTAN</td>\n",
              "      <td>21.0</td>\n",
              "      <td>45.0</td>\n",
              "      <td>36</td>\n",
              "      <td>NEW YORK WARD 1 WESTERN DIVISION</td>\n",
              "      <td>190</td>\n",
              "      <td>7324</td>\n",
              "      <td>db5340b3-1f19-4350-8a56-af1670443574</td>\n",
              "      <td>94 LIBERTY ST</td>\n",
              "      <td>1.0</td>\n",
              "      <td>1.9</td>\n",
              "      <td>-74.011412</td>\n",
              "      <td>40.709496</td>\n",
              "      <td>mn1850_01_74.0115_40.7093</td>\n",
              "      <td>3.9</td>\n",
              "      <td>94 LIBERTY ST</td>\n",
              "      <td>-74.011412</td>\n",
              "      <td>40.709496</td>\n",
              "      <td>58 CEDAR ST</td>\n",
              "      <td>-74.009383</td>\n",
              "      <td>40.707751</td>\n",
              "    </tr>\n",
              "    <tr>\n",
              "      <th>1850</th>\n",
              "      <td>2045424</td>\n",
              "      <td>20</td>\n",
              "      <td>1</td>\n",
              "      <td>6</td>\n",
              "      <td>120</td>\n",
              "      <td>2</td>\n",
              "      <td>12</td>\n",
              "      <td>CLERK</td>\n",
              "      <td>ALLEN</td>\n",
              "      <td>HENRY S</td>\n",
              "      <td>13</td>\n",
              "      <td>406128</td>\n",
              "      <td>d09684f1-b2f9-4135-a827-308438b7a73f</td>\n",
              "      <td>4610</td>\n",
              "      <td>1810</td>\n",
              "      <td>1</td>\n",
              "      <td>534</td>\n",
              "      <td>MANHATTAN</td>\n",
              "      <td>21.0</td>\n",
              "      <td>45.0</td>\n",
              "      <td>36</td>\n",
              "      <td>NEW YORK WARD 1 WESTERN DIVISION</td>\n",
              "      <td>190</td>\n",
              "      <td>7336</td>\n",
              "      <td>d09684f1-b2f9-4135-a827-308438b7a73f</td>\n",
              "      <td>58 CEDAR ST</td>\n",
              "      <td>1.0</td>\n",
              "      <td>2.0</td>\n",
              "      <td>-74.009383</td>\n",
              "      <td>40.707751</td>\n",
              "      <td>mn1850_01_74.0094_40.7075</td>\n",
              "      <td>2.0</td>\n",
              "      <td>94 LIBERTY ST</td>\n",
              "      <td>-74.011412</td>\n",
              "      <td>40.709496</td>\n",
              "      <td>58 CEDAR ST</td>\n",
              "      <td>-74.009383</td>\n",
              "      <td>40.707751</td>\n",
              "    </tr>\n",
              "    <tr>\n",
              "      <th>1852</th>\n",
              "      <td>2045424</td>\n",
              "      <td>26</td>\n",
              "      <td>1</td>\n",
              "      <td>6</td>\n",
              "      <td>120</td>\n",
              "      <td>2</td>\n",
              "      <td>12</td>\n",
              "      <td>MERCHANT</td>\n",
              "      <td>ELLISON</td>\n",
              "      <td>BENJAMIN</td>\n",
              "      <td>15</td>\n",
              "      <td>406129</td>\n",
              "      <td>a8615f18-14a4-4ecc-909e-a4ba43dca6f5</td>\n",
              "      <td>4610</td>\n",
              "      <td>1810</td>\n",
              "      <td>1</td>\n",
              "      <td>534</td>\n",
              "      <td>MANHATTAN</td>\n",
              "      <td>21.0</td>\n",
              "      <td>45.0</td>\n",
              "      <td>36</td>\n",
              "      <td>NEW YORK WARD 1 WESTERN DIVISION</td>\n",
              "      <td>190</td>\n",
              "      <td>7338</td>\n",
              "      <td>a8615f18-14a4-4ecc-909e-a4ba43dca6f5</td>\n",
              "      <td>94 LIBERTY ST</td>\n",
              "      <td>1.0</td>\n",
              "      <td>2.0</td>\n",
              "      <td>-74.011412</td>\n",
              "      <td>40.709496</td>\n",
              "      <td>mn1850_01_74.0115_40.7093</td>\n",
              "      <td>3.9</td>\n",
              "      <td>94 LIBERTY ST</td>\n",
              "      <td>-74.011412</td>\n",
              "      <td>40.709496</td>\n",
              "      <td>58 CEDAR ST</td>\n",
              "      <td>-74.009383</td>\n",
              "      <td>40.707751</td>\n",
              "    </tr>\n",
              "  </tbody>\n",
              "</table>\n",
              "</div>"
            ],
            "text/plain": [
              "      CENSUS_SERIALP  CENSUS_AGE  ...   CD_X_max   CD_Y_max\n",
              "1838         2045424          43  ... -74.009383  40.707751\n",
              "1850         2045424          20  ... -74.009383  40.707751\n",
              "1852         2045424          26  ... -74.009383  40.707751\n",
              "\n",
              "[3 rows x 38 columns]"
            ]
          },
          "metadata": {
            "tags": []
          }
        },
        {
          "output_type": "display_data",
          "data": {
            "text/html": [
              "<div>\n",
              "<style scoped>\n",
              "    .dataframe tbody tr th:only-of-type {\n",
              "        vertical-align: middle;\n",
              "    }\n",
              "\n",
              "    .dataframe tbody tr th {\n",
              "        vertical-align: top;\n",
              "    }\n",
              "\n",
              "    .dataframe thead th {\n",
              "        text-align: right;\n",
              "    }\n",
              "</style>\n",
              "<table border=\"1\" class=\"dataframe\">\n",
              "  <thead>\n",
              "    <tr style=\"text-align: right;\">\n",
              "      <th></th>\n",
              "      <th>CENSUS_SERIALP</th>\n",
              "      <th>CENSUS_AGE</th>\n",
              "      <th>CENSUS_SEX</th>\n",
              "      <th>CENSUS_MARST</th>\n",
              "      <th>CENSUS_RACE</th>\n",
              "      <th>CENSUS_LABFORCE</th>\n",
              "      <th>CENSUS_IMPREL</th>\n",
              "      <th>CENSUS_OCCSTR</th>\n",
              "      <th>CENSUS_NAMELAST</th>\n",
              "      <th>CENSUS_NAMEFRST</th>\n",
              "      <th>CENSUS_SEQ_NUM</th>\n",
              "      <th>CENSUS_HH_NUM</th>\n",
              "      <th>CENSUS_IPUMS_UID</th>\n",
              "      <th>CENSUS_CITY</th>\n",
              "      <th>CENSUS_PAGENO_HOUSEHOLD</th>\n",
              "      <th>CENSUS_WARD_NUM</th>\n",
              "      <th>CENSUS_REEL_HOUSEHOLD</th>\n",
              "      <th>CENSUS_PLACE</th>\n",
              "      <th>CENSUS_DWELLING_NUM</th>\n",
              "      <th>CENSUS_DWELLING_SEQ</th>\n",
              "      <th>CENSUS_DWELLING_SIZE</th>\n",
              "      <th>CENSUS_GEOG</th>\n",
              "      <th>CENSUS_LINE</th>\n",
              "      <th>CENSUS_INDEX</th>\n",
              "      <th>CENSUS_ID</th>\n",
              "      <th>CD_H_ADDRESS</th>\n",
              "      <th>selected</th>\n",
              "      <th>spatial_weight</th>\n",
              "      <th>CD_X</th>\n",
              "      <th>CD_Y</th>\n",
              "      <th>CD_BLOCK_NUM</th>\n",
              "      <th>spatial_weight_sum</th>\n",
              "      <th>CD_H_ADDRESS_sum</th>\n",
              "      <th>CD_X_sum</th>\n",
              "      <th>CD_Y_sum</th>\n",
              "      <th>CD_H_ADDRESS_max</th>\n",
              "      <th>CD_X_max</th>\n",
              "      <th>CD_Y_max</th>\n",
              "    </tr>\n",
              "  </thead>\n",
              "  <tbody>\n",
              "    <tr>\n",
              "      <th>50</th>\n",
              "      <td>2044374</td>\n",
              "      <td>20</td>\n",
              "      <td>1</td>\n",
              "      <td>6</td>\n",
              "      <td>120</td>\n",
              "      <td>2</td>\n",
              "      <td>12</td>\n",
              "      <td>SAILOR</td>\n",
              "      <td>HARVEY</td>\n",
              "      <td>CHARLES</td>\n",
              "      <td>2</td>\n",
              "      <td>401916</td>\n",
              "      <td>a867d110-1453-413d-9e6a-831b168a71df</td>\n",
              "      <td>4610</td>\n",
              "      <td>120</td>\n",
              "      <td>1</td>\n",
              "      <td>534</td>\n",
              "      <td>MANHATTAN</td>\n",
              "      <td>28.0</td>\n",
              "      <td>28.0</td>\n",
              "      <td>3</td>\n",
              "      <td>NEW YORK WARD 1 EASTERN DIVISION</td>\n",
              "      <td>200</td>\n",
              "      <td>231</td>\n",
              "      <td>a867d110-1453-413d-9e6a-831b168a71df</td>\n",
              "      <td>51 WILLIAM ST</td>\n",
              "      <td>1.0</td>\n",
              "      <td>2.000000</td>\n",
              "      <td>-74.009179</td>\n",
              "      <td>40.706848</td>\n",
              "      <td>mn1850_01_74.0098_40.7070</td>\n",
              "      <td>2.000000</td>\n",
              "      <td>95 CEDAR ST</td>\n",
              "      <td>-74.011213</td>\n",
              "      <td>40.709056</td>\n",
              "      <td>51 WILLIAM ST</td>\n",
              "      <td>-74.009179</td>\n",
              "      <td>40.706848</td>\n",
              "    </tr>\n",
              "    <tr>\n",
              "      <th>1945</th>\n",
              "      <td>2045435</td>\n",
              "      <td>36</td>\n",
              "      <td>1</td>\n",
              "      <td>1</td>\n",
              "      <td>120</td>\n",
              "      <td>2</td>\n",
              "      <td>1</td>\n",
              "      <td>LABORER</td>\n",
              "      <td>SMITH</td>\n",
              "      <td>PATRICK</td>\n",
              "      <td>1</td>\n",
              "      <td>406226</td>\n",
              "      <td>18ab29cf-b879-4838-8f48-9a37040c2a8c</td>\n",
              "      <td>4610</td>\n",
              "      <td>1840</td>\n",
              "      <td>1</td>\n",
              "      <td>534</td>\n",
              "      <td>MANHATTAN</td>\n",
              "      <td>28.0</td>\n",
              "      <td>56.0</td>\n",
              "      <td>5</td>\n",
              "      <td>NEW YORK WARD 1 WESTERN DIVISION</td>\n",
              "      <td>250</td>\n",
              "      <td>7456</td>\n",
              "      <td>18ab29cf-b879-4838-8f48-9a37040c2a8c</td>\n",
              "      <td>95 CEDAR ST</td>\n",
              "      <td>1.0</td>\n",
              "      <td>1.883333</td>\n",
              "      <td>-74.011213</td>\n",
              "      <td>40.709056</td>\n",
              "      <td>mn1850_01_74.0110_40.7091</td>\n",
              "      <td>5.833333</td>\n",
              "      <td>95 CEDAR ST</td>\n",
              "      <td>-74.011213</td>\n",
              "      <td>40.709056</td>\n",
              "      <td>51 WILLIAM ST</td>\n",
              "      <td>-74.009179</td>\n",
              "      <td>40.706848</td>\n",
              "    </tr>\n",
              "    <tr>\n",
              "      <th>1950</th>\n",
              "      <td>2045436</td>\n",
              "      <td>45</td>\n",
              "      <td>1</td>\n",
              "      <td>1</td>\n",
              "      <td>120</td>\n",
              "      <td>2</td>\n",
              "      <td>1</td>\n",
              "      <td>TAILOR</td>\n",
              "      <td>SALTER</td>\n",
              "      <td>JOHN</td>\n",
              "      <td>1</td>\n",
              "      <td>406228</td>\n",
              "      <td>41e79e97-d423-429a-81d4-a1da2dc6a81a</td>\n",
              "      <td>4610</td>\n",
              "      <td>1840</td>\n",
              "      <td>1</td>\n",
              "      <td>534</td>\n",
              "      <td>MANHATTAN</td>\n",
              "      <td>28.0</td>\n",
              "      <td>57.0</td>\n",
              "      <td>2</td>\n",
              "      <td>NEW YORK WARD 1 WESTERN DIVISION</td>\n",
              "      <td>300</td>\n",
              "      <td>7461</td>\n",
              "      <td>41e79e97-d423-429a-81d4-a1da2dc6a81a</td>\n",
              "      <td>95 CEDAR ST</td>\n",
              "      <td>1.0</td>\n",
              "      <td>1.950000</td>\n",
              "      <td>-74.011213</td>\n",
              "      <td>40.709056</td>\n",
              "      <td>mn1850_01_74.0110_40.7091</td>\n",
              "      <td>5.833333</td>\n",
              "      <td>95 CEDAR ST</td>\n",
              "      <td>-74.011213</td>\n",
              "      <td>40.709056</td>\n",
              "      <td>51 WILLIAM ST</td>\n",
              "      <td>-74.009179</td>\n",
              "      <td>40.706848</td>\n",
              "    </tr>\n",
              "    <tr>\n",
              "      <th>1952</th>\n",
              "      <td>2045437</td>\n",
              "      <td>30</td>\n",
              "      <td>1</td>\n",
              "      <td>1</td>\n",
              "      <td>120</td>\n",
              "      <td>2</td>\n",
              "      <td>1</td>\n",
              "      <td>PORTER</td>\n",
              "      <td>MURPHY</td>\n",
              "      <td>OWEN</td>\n",
              "      <td>1</td>\n",
              "      <td>406229</td>\n",
              "      <td>9cafeaec-bcf6-4620-9a94-d3e05e668933</td>\n",
              "      <td>4610</td>\n",
              "      <td>1840</td>\n",
              "      <td>1</td>\n",
              "      <td>534</td>\n",
              "      <td>MANHATTAN</td>\n",
              "      <td>28.0</td>\n",
              "      <td>58.0</td>\n",
              "      <td>9</td>\n",
              "      <td>NEW YORK WARD 1 WESTERN DIVISION</td>\n",
              "      <td>320</td>\n",
              "      <td>7463</td>\n",
              "      <td>9cafeaec-bcf6-4620-9a94-d3e05e668933</td>\n",
              "      <td>95 CEDAR ST</td>\n",
              "      <td>1.0</td>\n",
              "      <td>2.000000</td>\n",
              "      <td>-74.011213</td>\n",
              "      <td>40.709056</td>\n",
              "      <td>mn1850_01_74.0110_40.7091</td>\n",
              "      <td>5.833333</td>\n",
              "      <td>95 CEDAR ST</td>\n",
              "      <td>-74.011213</td>\n",
              "      <td>40.709056</td>\n",
              "      <td>51 WILLIAM ST</td>\n",
              "      <td>-74.009179</td>\n",
              "      <td>40.706848</td>\n",
              "    </tr>\n",
              "    <tr>\n",
              "      <th>1958</th>\n",
              "      <td>2045437</td>\n",
              "      <td>28</td>\n",
              "      <td>1</td>\n",
              "      <td>6</td>\n",
              "      <td>120</td>\n",
              "      <td>2</td>\n",
              "      <td>12</td>\n",
              "      <td>HACK DRIVER</td>\n",
              "      <td>BOYD</td>\n",
              "      <td>WILLIAM</td>\n",
              "      <td>7</td>\n",
              "      <td>406231</td>\n",
              "      <td>f74b012d-6216-404a-9113-5f9f70493bd1</td>\n",
              "      <td>4610</td>\n",
              "      <td>1840</td>\n",
              "      <td>1</td>\n",
              "      <td>534</td>\n",
              "      <td>MANHATTAN</td>\n",
              "      <td>28.0</td>\n",
              "      <td>58.0</td>\n",
              "      <td>9</td>\n",
              "      <td>NEW YORK WARD 1 WESTERN DIVISION</td>\n",
              "      <td>320</td>\n",
              "      <td>7469</td>\n",
              "      <td>f74b012d-6216-404a-9113-5f9f70493bd1</td>\n",
              "      <td>132 BROADWAY</td>\n",
              "      <td>1.0</td>\n",
              "      <td>1.950000</td>\n",
              "      <td>-74.010699</td>\n",
              "      <td>40.708885</td>\n",
              "      <td>mn1850_01_74.0101_40.7086</td>\n",
              "      <td>1.950000</td>\n",
              "      <td>95 CEDAR ST</td>\n",
              "      <td>-74.011213</td>\n",
              "      <td>40.709056</td>\n",
              "      <td>51 WILLIAM ST</td>\n",
              "      <td>-74.009179</td>\n",
              "      <td>40.706848</td>\n",
              "    </tr>\n",
              "  </tbody>\n",
              "</table>\n",
              "</div>"
            ],
            "text/plain": [
              "      CENSUS_SERIALP  CENSUS_AGE  ...   CD_X_max   CD_Y_max\n",
              "50           2044374          20  ... -74.009179  40.706848\n",
              "1945         2045435          36  ... -74.009179  40.706848\n",
              "1950         2045436          45  ... -74.009179  40.706848\n",
              "1952         2045437          30  ... -74.009179  40.706848\n",
              "1958         2045437          28  ... -74.009179  40.706848\n",
              "\n",
              "[5 rows x 38 columns]"
            ]
          },
          "metadata": {
            "tags": []
          }
        },
        {
          "output_type": "display_data",
          "data": {
            "text/html": [
              "<div>\n",
              "<style scoped>\n",
              "    .dataframe tbody tr th:only-of-type {\n",
              "        vertical-align: middle;\n",
              "    }\n",
              "\n",
              "    .dataframe tbody tr th {\n",
              "        vertical-align: top;\n",
              "    }\n",
              "\n",
              "    .dataframe thead th {\n",
              "        text-align: right;\n",
              "    }\n",
              "</style>\n",
              "<table border=\"1\" class=\"dataframe\">\n",
              "  <thead>\n",
              "    <tr style=\"text-align: right;\">\n",
              "      <th></th>\n",
              "      <th>CENSUS_SERIALP</th>\n",
              "      <th>CENSUS_AGE</th>\n",
              "      <th>CENSUS_SEX</th>\n",
              "      <th>CENSUS_MARST</th>\n",
              "      <th>CENSUS_RACE</th>\n",
              "      <th>CENSUS_LABFORCE</th>\n",
              "      <th>CENSUS_IMPREL</th>\n",
              "      <th>CENSUS_OCCSTR</th>\n",
              "      <th>CENSUS_NAMELAST</th>\n",
              "      <th>CENSUS_NAMEFRST</th>\n",
              "      <th>CENSUS_SEQ_NUM</th>\n",
              "      <th>CENSUS_HH_NUM</th>\n",
              "      <th>CENSUS_IPUMS_UID</th>\n",
              "      <th>CENSUS_CITY</th>\n",
              "      <th>CENSUS_PAGENO_HOUSEHOLD</th>\n",
              "      <th>CENSUS_WARD_NUM</th>\n",
              "      <th>CENSUS_REEL_HOUSEHOLD</th>\n",
              "      <th>CENSUS_PLACE</th>\n",
              "      <th>CENSUS_DWELLING_NUM</th>\n",
              "      <th>CENSUS_DWELLING_SEQ</th>\n",
              "      <th>CENSUS_DWELLING_SIZE</th>\n",
              "      <th>CENSUS_GEOG</th>\n",
              "      <th>CENSUS_LINE</th>\n",
              "      <th>CENSUS_INDEX</th>\n",
              "      <th>CENSUS_ID</th>\n",
              "      <th>CD_H_ADDRESS</th>\n",
              "      <th>selected</th>\n",
              "      <th>spatial_weight</th>\n",
              "      <th>CD_X</th>\n",
              "      <th>CD_Y</th>\n",
              "      <th>CD_BLOCK_NUM</th>\n",
              "      <th>spatial_weight_sum</th>\n",
              "      <th>CD_H_ADDRESS_sum</th>\n",
              "      <th>CD_X_sum</th>\n",
              "      <th>CD_Y_sum</th>\n",
              "      <th>CD_H_ADDRESS_max</th>\n",
              "      <th>CD_X_max</th>\n",
              "      <th>CD_Y_max</th>\n",
              "    </tr>\n",
              "  </thead>\n",
              "  <tbody>\n",
              "    <tr>\n",
              "      <th>1961</th>\n",
              "      <td>2045438</td>\n",
              "      <td>33</td>\n",
              "      <td>1</td>\n",
              "      <td>1</td>\n",
              "      <td>120</td>\n",
              "      <td>2</td>\n",
              "      <td>1</td>\n",
              "      <td>MERCHANT</td>\n",
              "      <td>JOHNSON</td>\n",
              "      <td>JEREMIAH</td>\n",
              "      <td>1</td>\n",
              "      <td>406234</td>\n",
              "      <td>7f1291e5-4ac8-478e-bde6-fb5095cbe159</td>\n",
              "      <td>4610</td>\n",
              "      <td>1840</td>\n",
              "      <td>1</td>\n",
              "      <td>534</td>\n",
              "      <td>MANHATTAN</td>\n",
              "      <td>29.0</td>\n",
              "      <td>59.0</td>\n",
              "      <td>12</td>\n",
              "      <td>NEW YORK WARD 1 WESTERN DIVISION</td>\n",
              "      <td>410</td>\n",
              "      <td>7472</td>\n",
              "      <td>7f1291e5-4ac8-478e-bde6-fb5095cbe159</td>\n",
              "      <td>97 CEDAR ST</td>\n",
              "      <td>1.0</td>\n",
              "      <td>1.950000</td>\n",
              "      <td>-74.011379</td>\n",
              "      <td>40.709132</td>\n",
              "      <td>mn1850_01_74.0110_40.7091</td>\n",
              "      <td>3.883333</td>\n",
              "      <td>97 CEDAR ST</td>\n",
              "      <td>-74.011379</td>\n",
              "      <td>40.709132</td>\n",
              "      <td>97 CEDAR \"\" ST</td>\n",
              "      <td>-74.011379</td>\n",
              "      <td>40.709132</td>\n",
              "    </tr>\n",
              "    <tr>\n",
              "      <th>1977</th>\n",
              "      <td>2045441</td>\n",
              "      <td>26</td>\n",
              "      <td>1</td>\n",
              "      <td>1</td>\n",
              "      <td>120</td>\n",
              "      <td>2</td>\n",
              "      <td>1</td>\n",
              "      <td>TAILOR</td>\n",
              "      <td>CULLIN</td>\n",
              "      <td>JAMES</td>\n",
              "      <td>1</td>\n",
              "      <td>406241</td>\n",
              "      <td>7c9f8635-8953-49b1-bcc2-9db215fb6978</td>\n",
              "      <td>4610</td>\n",
              "      <td>1850</td>\n",
              "      <td>1</td>\n",
              "      <td>534</td>\n",
              "      <td>MANHATTAN</td>\n",
              "      <td>29.0</td>\n",
              "      <td>62.0</td>\n",
              "      <td>5</td>\n",
              "      <td>NEW YORK WARD 1 WESTERN DIVISION</td>\n",
              "      <td>150</td>\n",
              "      <td>7488</td>\n",
              "      <td>7c9f8635-8953-49b1-bcc2-9db215fb6978</td>\n",
              "      <td>97 CEDAR ST</td>\n",
              "      <td>1.0</td>\n",
              "      <td>1.933333</td>\n",
              "      <td>-74.011379</td>\n",
              "      <td>40.709132</td>\n",
              "      <td>mn1850_01_74.0110_40.7091</td>\n",
              "      <td>3.883333</td>\n",
              "      <td>97 CEDAR ST</td>\n",
              "      <td>-74.011379</td>\n",
              "      <td>40.709132</td>\n",
              "      <td>97 CEDAR \"\" ST</td>\n",
              "      <td>-74.011379</td>\n",
              "      <td>40.709132</td>\n",
              "    </tr>\n",
              "    <tr>\n",
              "      <th>1982</th>\n",
              "      <td>2045442</td>\n",
              "      <td>46</td>\n",
              "      <td>1</td>\n",
              "      <td>1</td>\n",
              "      <td>120</td>\n",
              "      <td>2</td>\n",
              "      <td>1</td>\n",
              "      <td>GOLDSMITH</td>\n",
              "      <td>SELIGER</td>\n",
              "      <td>EDWARD</td>\n",
              "      <td>1</td>\n",
              "      <td>406243</td>\n",
              "      <td>a3a16d8c-0fe4-45a0-9aab-b0004fff2c75</td>\n",
              "      <td>4610</td>\n",
              "      <td>1850</td>\n",
              "      <td>1</td>\n",
              "      <td>534</td>\n",
              "      <td>MANHATTAN</td>\n",
              "      <td>29.0</td>\n",
              "      <td>63.0</td>\n",
              "      <td>3</td>\n",
              "      <td>NEW YORK WARD 1 WESTERN DIVISION</td>\n",
              "      <td>200</td>\n",
              "      <td>7493</td>\n",
              "      <td>a3a16d8c-0fe4-45a0-9aab-b0004fff2c75</td>\n",
              "      <td>97 CEDAR \"\" ST</td>\n",
              "      <td>1.0</td>\n",
              "      <td>2.000000</td>\n",
              "      <td>-74.011379</td>\n",
              "      <td>40.709132</td>\n",
              "      <td>mn1850_01_74.0110_40.7091</td>\n",
              "      <td>2.000000</td>\n",
              "      <td>97 CEDAR ST</td>\n",
              "      <td>-74.011379</td>\n",
              "      <td>40.709132</td>\n",
              "      <td>97 CEDAR \"\" ST</td>\n",
              "      <td>-74.011379</td>\n",
              "      <td>40.709132</td>\n",
              "    </tr>\n",
              "  </tbody>\n",
              "</table>\n",
              "</div>"
            ],
            "text/plain": [
              "      CENSUS_SERIALP  CENSUS_AGE  ...   CD_X_max   CD_Y_max\n",
              "1961         2045438          33  ... -74.011379  40.709132\n",
              "1977         2045441          26  ... -74.011379  40.709132\n",
              "1982         2045442          46  ... -74.011379  40.709132\n",
              "\n",
              "[3 rows x 38 columns]"
            ]
          },
          "metadata": {
            "tags": []
          }
        },
        {
          "output_type": "display_data",
          "data": {
            "text/html": [
              "<div>\n",
              "<style scoped>\n",
              "    .dataframe tbody tr th:only-of-type {\n",
              "        vertical-align: middle;\n",
              "    }\n",
              "\n",
              "    .dataframe tbody tr th {\n",
              "        vertical-align: top;\n",
              "    }\n",
              "\n",
              "    .dataframe thead th {\n",
              "        text-align: right;\n",
              "    }\n",
              "</style>\n",
              "<table border=\"1\" class=\"dataframe\">\n",
              "  <thead>\n",
              "    <tr style=\"text-align: right;\">\n",
              "      <th></th>\n",
              "      <th>CENSUS_SERIALP</th>\n",
              "      <th>CENSUS_AGE</th>\n",
              "      <th>CENSUS_SEX</th>\n",
              "      <th>CENSUS_MARST</th>\n",
              "      <th>CENSUS_RACE</th>\n",
              "      <th>CENSUS_LABFORCE</th>\n",
              "      <th>CENSUS_IMPREL</th>\n",
              "      <th>CENSUS_OCCSTR</th>\n",
              "      <th>CENSUS_NAMELAST</th>\n",
              "      <th>CENSUS_NAMEFRST</th>\n",
              "      <th>CENSUS_SEQ_NUM</th>\n",
              "      <th>CENSUS_HH_NUM</th>\n",
              "      <th>CENSUS_IPUMS_UID</th>\n",
              "      <th>CENSUS_CITY</th>\n",
              "      <th>CENSUS_PAGENO_HOUSEHOLD</th>\n",
              "      <th>CENSUS_WARD_NUM</th>\n",
              "      <th>CENSUS_REEL_HOUSEHOLD</th>\n",
              "      <th>CENSUS_PLACE</th>\n",
              "      <th>CENSUS_DWELLING_NUM</th>\n",
              "      <th>CENSUS_DWELLING_SEQ</th>\n",
              "      <th>CENSUS_DWELLING_SIZE</th>\n",
              "      <th>CENSUS_GEOG</th>\n",
              "      <th>CENSUS_LINE</th>\n",
              "      <th>CENSUS_INDEX</th>\n",
              "      <th>CENSUS_ID</th>\n",
              "      <th>CD_H_ADDRESS</th>\n",
              "      <th>selected</th>\n",
              "      <th>spatial_weight</th>\n",
              "      <th>CD_X</th>\n",
              "      <th>CD_Y</th>\n",
              "      <th>CD_BLOCK_NUM</th>\n",
              "      <th>spatial_weight_sum</th>\n",
              "      <th>CD_H_ADDRESS_sum</th>\n",
              "      <th>CD_X_sum</th>\n",
              "      <th>CD_Y_sum</th>\n",
              "      <th>CD_H_ADDRESS_max</th>\n",
              "      <th>CD_X_max</th>\n",
              "      <th>CD_Y_max</th>\n",
              "    </tr>\n",
              "  </thead>\n",
              "  <tbody>\n",
              "    <tr>\n",
              "      <th>90</th>\n",
              "      <td>2044406</td>\n",
              "      <td>27</td>\n",
              "      <td>1</td>\n",
              "      <td>1</td>\n",
              "      <td>120</td>\n",
              "      <td>2</td>\n",
              "      <td>1</td>\n",
              "      <td>PORTER</td>\n",
              "      <td>LUCEY</td>\n",
              "      <td>DENNIS</td>\n",
              "      <td>1</td>\n",
              "      <td>402021</td>\n",
              "      <td>3bd314e4-14f4-4dba-969f-11bf9f63afd9</td>\n",
              "      <td>4610</td>\n",
              "      <td>150</td>\n",
              "      <td>1</td>\n",
              "      <td>534</td>\n",
              "      <td>MANHATTAN</td>\n",
              "      <td>53.0</td>\n",
              "      <td>60.0</td>\n",
              "      <td>4</td>\n",
              "      <td>NEW YORK WARD 1 EASTERN DIVISION</td>\n",
              "      <td>370</td>\n",
              "      <td>373</td>\n",
              "      <td>3bd314e4-14f4-4dba-969f-11bf9f63afd9</td>\n",
              "      <td>46 PEARL ST</td>\n",
              "      <td>1.0</td>\n",
              "      <td>1.9108</td>\n",
              "      <td>-74.011901</td>\n",
              "      <td>40.703302</td>\n",
              "      <td>mn1850_01_74.0132_40.7030</td>\n",
              "      <td>3.8104</td>\n",
              "      <td>46 PEARL ST</td>\n",
              "      <td>-74.011901</td>\n",
              "      <td>40.703302</td>\n",
              "      <td>112 CEDAR ST</td>\n",
              "      <td>-74.012473</td>\n",
              "      <td>40.709475</td>\n",
              "    </tr>\n",
              "    <tr>\n",
              "      <th>94</th>\n",
              "      <td>2044407</td>\n",
              "      <td>36</td>\n",
              "      <td>1</td>\n",
              "      <td>1</td>\n",
              "      <td>120</td>\n",
              "      <td>2</td>\n",
              "      <td>1</td>\n",
              "      <td>BAKER</td>\n",
              "      <td>FINERTY</td>\n",
              "      <td>THOMAS</td>\n",
              "      <td>1</td>\n",
              "      <td>402022</td>\n",
              "      <td>9ba10e85-2d1a-4783-9606-b48104a278be</td>\n",
              "      <td>4610</td>\n",
              "      <td>150</td>\n",
              "      <td>1</td>\n",
              "      <td>534</td>\n",
              "      <td>MANHATTAN</td>\n",
              "      <td>53.0</td>\n",
              "      <td>61.0</td>\n",
              "      <td>7</td>\n",
              "      <td>NEW YORK WARD 1 EASTERN DIVISION</td>\n",
              "      <td>410</td>\n",
              "      <td>377</td>\n",
              "      <td>9ba10e85-2d1a-4783-9606-b48104a278be</td>\n",
              "      <td>46 PEARL ST</td>\n",
              "      <td>1.0</td>\n",
              "      <td>1.8996</td>\n",
              "      <td>-74.011901</td>\n",
              "      <td>40.703302</td>\n",
              "      <td>mn1850_01_74.0132_40.7030</td>\n",
              "      <td>3.8104</td>\n",
              "      <td>46 PEARL ST</td>\n",
              "      <td>-74.011901</td>\n",
              "      <td>40.703302</td>\n",
              "      <td>112 CEDAR ST</td>\n",
              "      <td>-74.012473</td>\n",
              "      <td>40.709475</td>\n",
              "    </tr>\n",
              "    <tr>\n",
              "      <th>2205</th>\n",
              "      <td>2045525</td>\n",
              "      <td>28</td>\n",
              "      <td>1</td>\n",
              "      <td>6</td>\n",
              "      <td>120</td>\n",
              "      <td>2</td>\n",
              "      <td>1</td>\n",
              "      <td>TAILOR</td>\n",
              "      <td>DIMOND</td>\n",
              "      <td>MICHAEL</td>\n",
              "      <td>1</td>\n",
              "      <td>406438</td>\n",
              "      <td>975a81d8-87ce-4769-89d9-eb75a54e06e3</td>\n",
              "      <td>4610</td>\n",
              "      <td>1950</td>\n",
              "      <td>1</td>\n",
              "      <td>534</td>\n",
              "      <td>MANHATTAN</td>\n",
              "      <td>53.0</td>\n",
              "      <td>147.0</td>\n",
              "      <td>1</td>\n",
              "      <td>NEW YORK WARD 1 WESTERN DIVISION</td>\n",
              "      <td>50</td>\n",
              "      <td>7898</td>\n",
              "      <td>975a81d8-87ce-4769-89d9-eb75a54e06e3</td>\n",
              "      <td>112 CEDAR ST</td>\n",
              "      <td>1.0</td>\n",
              "      <td>2.0000</td>\n",
              "      <td>-74.012473</td>\n",
              "      <td>40.709475</td>\n",
              "      <td>mn1850_01_74.0124_40.7093</td>\n",
              "      <td>2.0000</td>\n",
              "      <td>46 PEARL ST</td>\n",
              "      <td>-74.011901</td>\n",
              "      <td>40.703302</td>\n",
              "      <td>112 CEDAR ST</td>\n",
              "      <td>-74.012473</td>\n",
              "      <td>40.709475</td>\n",
              "    </tr>\n",
              "  </tbody>\n",
              "</table>\n",
              "</div>"
            ],
            "text/plain": [
              "      CENSUS_SERIALP  CENSUS_AGE  ...   CD_X_max   CD_Y_max\n",
              "90           2044406          27  ... -74.012473  40.709475\n",
              "94           2044407          36  ... -74.012473  40.709475\n",
              "2205         2045525          28  ... -74.012473  40.709475\n",
              "\n",
              "[3 rows x 38 columns]"
            ]
          },
          "metadata": {
            "tags": []
          }
        }
      ]
    },
    {
      "cell_type": "code",
      "metadata": {
        "colab": {
          "base_uri": "https://localhost:8080/"
        },
        "id": "v2zOHcq_XYB4",
        "outputId": "bd679270-e017-40e3-9e05-951add96109d"
      },
      "source": [
        "Dwelling_filled_differences_all.groupby([\"CENSUS_WARD_NUM\", \"CENSUS_DWELLING_NUM\"]).ngroups"
      ],
      "execution_count": null,
      "outputs": [
        {
          "output_type": "execute_result",
          "data": {
            "text/plain": [
              "765"
            ]
          },
          "metadata": {
            "tags": []
          },
          "execution_count": 114
        }
      ]
    },
    {
      "cell_type": "code",
      "metadata": {
        "id": "aEZ5BFoPXcW_"
      },
      "source": [
        "Dwelling_filled_differences_all.to_csv(\"/content/dwelling_filled_differences_all_mn_1850.csv\", index = False)"
      ],
      "execution_count": null,
      "outputs": []
    },
    {
      "cell_type": "markdown",
      "metadata": {
        "id": "sTlYbs0hXnSH"
      },
      "source": [
        "### Conclusion\r\n",
        "Either filling in based on maximum spatial weight or maximum spatial weight sum would make sense, however which one is the better choice is somewhat unclear. Another aspect is that there are often ties between the spatial weights, currently, it's set up to simply select the first option when there's a tie, but it's unclear whether that's the best approach."
      ]
    },
    {
      "cell_type": "markdown",
      "metadata": {
        "id": "fs48COKuXsKi"
      },
      "source": [
        "### Quick sanity check"
      ]
    },
    {
      "cell_type": "code",
      "metadata": {
        "id": "x5A_ihHeXii5"
      },
      "source": [
        "# save the outputs by the two ways\r\n",
        "dwell_max = pd.read_csv(\"/content/dwelling_filled_max_1850_mn.csv\")\r\n",
        "dwell_sum = pd.read_csv(\"/content/dwelling_filled_sum_1850_mn.csv\")"
      ],
      "execution_count": null,
      "outputs": []
    },
    {
      "cell_type": "code",
      "metadata": {
        "colab": {
          "base_uri": "https://localhost:8080/"
        },
        "id": "BIDl5d0BX1Ty",
        "outputId": "18a97ee0-73fe-4d1e-c0b7-3097265702ef"
      },
      "source": [
        "dwell_max.info()"
      ],
      "execution_count": null,
      "outputs": [
        {
          "output_type": "stream",
          "text": [
            "<class 'pandas.core.frame.DataFrame'>\n",
            "RangeIndex: 515630 entries, 0 to 515629\n",
            "Data columns (total 31 columns):\n",
            " #   Column                   Non-Null Count   Dtype  \n",
            "---  ------                   --------------   -----  \n",
            " 0   CENSUS_SERIALP           515630 non-null  int64  \n",
            " 1   CENSUS_AGE               515630 non-null  int64  \n",
            " 2   CENSUS_SEX               515630 non-null  int64  \n",
            " 3   CENSUS_MARST             515630 non-null  int64  \n",
            " 4   CENSUS_RACE              515630 non-null  int64  \n",
            " 5   CENSUS_LABFORCE          515630 non-null  int64  \n",
            " 6   CENSUS_IMPREL            515630 non-null  int64  \n",
            " 7   CENSUS_OCCSTR            160426 non-null  object \n",
            " 8   CENSUS_NAMELAST          515546 non-null  object \n",
            " 9   CENSUS_NAMEFRST          515046 non-null  object \n",
            " 10  CENSUS_SEQ_NUM           515630 non-null  int64  \n",
            " 11  CENSUS_HH_NUM            515630 non-null  int64  \n",
            " 12  CENSUS_IPUMS_UID         515630 non-null  object \n",
            " 13  CENSUS_CITY              515630 non-null  int64  \n",
            " 14  CENSUS_PAGENO_HOUSEHOLD  515630 non-null  int64  \n",
            " 15  CENSUS_WARD_NUM          515630 non-null  int64  \n",
            " 16  CENSUS_REEL_HOUSEHOLD    515630 non-null  int64  \n",
            " 17  CENSUS_PLACE             515630 non-null  object \n",
            " 18  CENSUS_DWELLING_NUM      514718 non-null  float64\n",
            " 19  CENSUS_DWELLING_SEQ      514020 non-null  float64\n",
            " 20  CENSUS_DWELLING_SIZE     515630 non-null  int64  \n",
            " 21  CENSUS_GEOG              514918 non-null  object \n",
            " 22  CENSUS_LINE              515630 non-null  int64  \n",
            " 23  CENSUS_INDEX             515630 non-null  int64  \n",
            " 24  CENSUS_ID                31818 non-null   object \n",
            " 25  CD_H_ADDRESS             413105 non-null  object \n",
            " 26  selected                 31818 non-null   float64\n",
            " 27  spatial_weight           31818 non-null   float64\n",
            " 28  CD_X                     413105 non-null  float64\n",
            " 29  CD_Y                     413105 non-null  float64\n",
            " 30  CD_BLOCK_NUM             413105 non-null  object \n",
            "dtypes: float64(6), int64(16), object(9)\n",
            "memory usage: 122.0+ MB\n"
          ],
          "name": "stdout"
        }
      ]
    },
    {
      "cell_type": "code",
      "metadata": {
        "colab": {
          "base_uri": "https://localhost:8080/"
        },
        "id": "FwNWJhw9X6t_",
        "outputId": "058c04a1-f13c-4ded-8467-b5868213ce74"
      },
      "source": [
        "dwell_sum.info()"
      ],
      "execution_count": null,
      "outputs": [
        {
          "output_type": "stream",
          "text": [
            "<class 'pandas.core.frame.DataFrame'>\n",
            "RangeIndex: 515630 entries, 0 to 515629\n",
            "Data columns (total 32 columns):\n",
            " #   Column                   Non-Null Count   Dtype  \n",
            "---  ------                   --------------   -----  \n",
            " 0   CENSUS_SERIALP           515630 non-null  int64  \n",
            " 1   CENSUS_AGE               515630 non-null  int64  \n",
            " 2   CENSUS_SEX               515630 non-null  int64  \n",
            " 3   CENSUS_MARST             515630 non-null  int64  \n",
            " 4   CENSUS_RACE              515630 non-null  int64  \n",
            " 5   CENSUS_LABFORCE          515630 non-null  int64  \n",
            " 6   CENSUS_IMPREL            515630 non-null  int64  \n",
            " 7   CENSUS_OCCSTR            160426 non-null  object \n",
            " 8   CENSUS_NAMELAST          515546 non-null  object \n",
            " 9   CENSUS_NAMEFRST          515046 non-null  object \n",
            " 10  CENSUS_SEQ_NUM           515630 non-null  int64  \n",
            " 11  CENSUS_HH_NUM            515630 non-null  int64  \n",
            " 12  CENSUS_IPUMS_UID         515630 non-null  object \n",
            " 13  CENSUS_CITY              515630 non-null  int64  \n",
            " 14  CENSUS_PAGENO_HOUSEHOLD  515630 non-null  int64  \n",
            " 15  CENSUS_WARD_NUM          515630 non-null  int64  \n",
            " 16  CENSUS_REEL_HOUSEHOLD    515630 non-null  int64  \n",
            " 17  CENSUS_PLACE             515630 non-null  object \n",
            " 18  CENSUS_DWELLING_NUM      514718 non-null  float64\n",
            " 19  CENSUS_DWELLING_SEQ      514020 non-null  float64\n",
            " 20  CENSUS_DWELLING_SIZE     515630 non-null  int64  \n",
            " 21  CENSUS_GEOG              514918 non-null  object \n",
            " 22  CENSUS_LINE              515630 non-null  int64  \n",
            " 23  CENSUS_INDEX             515630 non-null  int64  \n",
            " 24  CENSUS_ID                31818 non-null   object \n",
            " 25  CD_H_ADDRESS             413105 non-null  object \n",
            " 26  selected                 31818 non-null   float64\n",
            " 27  spatial_weight           31818 non-null   float64\n",
            " 28  CD_X                     413105 non-null  float64\n",
            " 29  CD_Y                     413105 non-null  float64\n",
            " 30  CD_BLOCK_NUM             413105 non-null  object \n",
            " 31  spatial_weight_sum       31748 non-null   float64\n",
            "dtypes: float64(7), int64(16), object(9)\n",
            "memory usage: 125.9+ MB\n"
          ],
          "name": "stdout"
        }
      ]
    },
    {
      "cell_type": "code",
      "metadata": {
        "id": "2Jp3K0tEjMkB"
      },
      "source": [
        ""
      ],
      "execution_count": null,
      "outputs": []
    }
  ]
}