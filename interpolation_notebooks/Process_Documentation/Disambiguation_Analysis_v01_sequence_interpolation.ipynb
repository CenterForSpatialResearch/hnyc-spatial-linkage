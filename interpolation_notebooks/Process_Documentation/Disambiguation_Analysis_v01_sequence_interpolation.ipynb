{
 "cells": [
  {
   "cell_type": "markdown",
   "metadata": {},
   "source": [
    "## Max dwelling in between\n",
    "\n",
    "1. disambiguous and resolve conflicts [see Disambiguous_Analysis_ notebook for more detail]\n",
    "2. Set the max number of dwellings between two known dwellings for sequence interpolation"
   ]
  },
  {
   "cell_type": "code",
   "execution_count": 48,
   "metadata": {},
   "outputs": [
    {
     "name": "stdout",
     "output_type": "stream",
     "text": [
      "The autoreload extension is already loaded. To reload it, use:\n",
      "  %reload_ext autoreload\n"
     ]
    }
   ],
   "source": [
    "import os\n",
    "import sys\n",
    "module_path = os.path.abspath(os.path.join('../..'))\n",
    "if module_path not in sys.path:\n",
    "    sys.path.append(module_path)\n",
    "%load_ext autoreload\n",
    "%autoreload 2\n",
    "import pandas as pd\n",
    "import numpy as np\n",
    "import matplotlib.pyplot as plt\n",
    "from interpolation import interpolation, CensusData, dataprocessing, sequences\n",
    "from interpolation import disambiguation_analysis as da"
   ]
  },
  {
   "cell_type": "markdown",
   "metadata": {},
   "source": [
    "### Get Data"
   ]
  },
  {
   "cell_type": "code",
   "execution_count": 49,
   "metadata": {},
   "outputs": [],
   "source": [
    "## to save data later\n",
    "census_filled_file = \"../../data/dwelling_filled_sum_1850_mn_v01.csv\""
   ]
  },
  {
   "cell_type": "code",
   "execution_count": 50,
   "metadata": {},
   "outputs": [],
   "source": [
    "census = pd.read_csv(\"../../data/census_1850_indexUpdate.csv\")\n",
    "disambiguation = pd.read_csv(\"../../data/1850_disambiguated.csv\")\n",
    "city_directory = pd.read_csv(\"../../data/cd_1850_XYupdate.csv\")"
   ]
  },
  {
   "cell_type": "code",
   "execution_count": 51,
   "metadata": {},
   "outputs": [],
   "source": [
    "ward_col = \"CENSUS_WARD_NUM\"\n",
    "dwelling_col = \"dwelling_id\"\n",
    "block_col = \"BLOCK_NUM\"\n",
    "cd_ward_col = \"Ward_Num\"\n",
    "cd_block_col = \"block_num\"\n",
    "dwelling_num_col = \"CENSUS_DWELLING_NUM\""
   ]
  },
  {
   "cell_type": "markdown",
   "metadata": {},
   "source": [
    "### Initial disambiguation analysis"
   ]
  },
  {
   "cell_type": "code",
   "execution_count": 52,
   "metadata": {},
   "outputs": [],
   "source": [
    "census_disamb = da.add_disamb_census(disambiguation, census)"
   ]
  },
  {
   "cell_type": "code",
   "execution_count": 53,
   "metadata": {},
   "outputs": [],
   "source": [
    "#create unique dwelling id\n",
    "census_disamb = census_disamb.groupby(ward_col, as_index = False).apply(lambda x: dataprocessing.create_unique_dwelling(x, dwelling_num_col))"
   ]
  },
  {
   "cell_type": "code",
   "execution_count": 54,
   "metadata": {},
   "outputs": [],
   "source": [
    "total_num_dwellings = census_disamb.groupby([ward_col, dwelling_col]).ngroups"
   ]
  },
  {
   "cell_type": "code",
   "execution_count": 55,
   "metadata": {},
   "outputs": [],
   "source": [
    "#Resolve dwelling conflicts\n",
    "census_filled = census_disamb.groupby([ward_col, dwelling_col]).apply(lambda x: da.dwelling_weight_fill(x, block_col = block_col))\n",
    "#Add in values dropped because they don't have a dwelling number\n",
    "census_filled = pd.concat([census_filled, census_disamb[census_disamb[dwelling_col].isnull()]], sort= True)\n",
    "census_filled.reset_index(drop = True, inplace = True)\n",
    "# census_filled.to_csv(census_filled_file, index = False)"
   ]
  },
  {
   "cell_type": "code",
   "execution_count": 56,
   "metadata": {},
   "outputs": [],
   "source": [
    "census_filled_dwellings = census_filled.groupby([ward_col, dwelling_col], as_index = False).first()"
   ]
  },
  {
   "cell_type": "markdown",
   "metadata": {},
   "source": [
    "### keep only known dwellings and apply sequences"
   ]
  },
  {
   "cell_type": "code",
   "execution_count": 57,
   "metadata": {},
   "outputs": [],
   "source": [
    "dwellings_dropped = census_filled_dwellings.dropna(subset = [block_col])\n",
    "dwellings_dropped = dwellings_dropped.groupby(ward_col, as_index = False).apply(sequences.col_for_seq)"
   ]
  },
  {
   "cell_type": "code",
   "execution_count": 58,
   "metadata": {},
   "outputs": [
    {
     "name": "stdout",
     "output_type": "stream",
     "text": [
      "d:  0.05\n",
      "d:  0.05\n",
      "d:  0.05\n",
      "d:  0.05\n",
      "d:  0.05\n",
      "d:  0.05\n",
      "d:  0.05\n",
      "d:  0.05\n",
      "d:  0.05\n",
      "d:  0.05\n",
      "d:  0.05\n",
      "d:  0.05\n",
      "d:  0.05\n",
      "d:  0.05\n",
      "d:  0.05\n",
      "d:  0.05\n",
      "d:  0.05\n",
      "d:  0.05\n",
      "d:  0.1\n",
      "d:  0.1\n",
      "d:  0.1\n",
      "d:  0.1\n",
      "d:  0.1\n",
      "d:  0.1\n",
      "d:  0.1\n",
      "d:  0.1\n",
      "d:  0.1\n",
      "d:  0.1\n",
      "d:  0.1\n",
      "d:  0.1\n",
      "d:  0.1\n",
      "d:  0.1\n",
      "d:  0.1\n",
      "d:  0.1\n",
      "d:  0.1\n",
      "d:  0.1\n",
      "d:  0.15\n",
      "d:  0.15\n",
      "d:  0.15\n",
      "d:  0.15\n",
      "d:  0.15\n",
      "d:  0.15\n",
      "d:  0.15\n",
      "d:  0.15\n",
      "d:  0.15\n",
      "d:  0.15\n",
      "d:  0.15\n",
      "d:  0.15\n",
      "d:  0.15\n",
      "d:  0.15\n",
      "d:  0.15\n",
      "d:  0.15\n",
      "d:  0.15\n",
      "d:  0.15\n",
      "d:  0.2\n",
      "d:  0.2\n",
      "d:  0.2\n",
      "d:  0.2\n",
      "d:  0.2\n",
      "d:  0.2\n",
      "d:  0.2\n",
      "d:  0.2\n",
      "d:  0.2\n",
      "d:  0.2\n",
      "d:  0.2\n",
      "d:  0.2\n",
      "d:  0.2\n",
      "d:  0.2\n",
      "d:  0.2\n",
      "d:  0.2\n",
      "d:  0.2\n",
      "d:  0.2\n",
      "d:  0.25\n",
      "d:  0.25\n",
      "d:  0.25\n",
      "d:  0.25\n",
      "d:  0.25\n",
      "d:  0.25\n",
      "d:  0.25\n",
      "d:  0.25\n",
      "d:  0.25\n",
      "d:  0.25\n",
      "d:  0.25\n",
      "d:  0.25\n",
      "d:  0.25\n",
      "d:  0.25\n",
      "d:  0.25\n",
      "d:  0.25\n",
      "d:  0.25\n",
      "d:  0.25\n",
      "d:  0.3\n",
      "d:  0.3\n",
      "d:  0.3\n",
      "d:  0.3\n",
      "d:  0.3\n",
      "d:  0.3\n",
      "d:  0.3\n",
      "d:  0.3\n",
      "d:  0.3\n",
      "d:  0.3\n",
      "d:  0.3\n",
      "d:  0.3\n",
      "d:  0.3\n",
      "d:  0.3\n",
      "d:  0.3\n",
      "d:  0.3\n",
      "d:  0.3\n",
      "d:  0.3\n",
      "d:  0.35\n",
      "d:  0.35\n",
      "d:  0.35\n",
      "d:  0.35\n",
      "d:  0.35\n",
      "d:  0.35\n",
      "d:  0.35\n",
      "d:  0.35\n",
      "d:  0.35\n",
      "d:  0.35\n",
      "d:  0.35\n",
      "d:  0.35\n",
      "d:  0.35\n",
      "d:  0.35\n",
      "d:  0.35\n",
      "d:  0.35\n",
      "d:  0.35\n",
      "d:  0.35\n",
      "d:  0.4\n",
      "d:  0.4\n",
      "d:  0.4\n",
      "d:  0.4\n",
      "d:  0.4\n",
      "d:  0.4\n",
      "d:  0.4\n",
      "d:  0.4\n",
      "d:  0.4\n",
      "d:  0.4\n",
      "d:  0.4\n",
      "d:  0.4\n",
      "d:  0.4\n",
      "d:  0.4\n",
      "d:  0.4\n",
      "d:  0.4\n",
      "d:  0.4\n",
      "d:  0.4\n",
      "Selected maximum distance between consecutive dwellings: 0.25\n"
     ]
    }
   ],
   "source": [
    "#Select maximum possible distance between consecutive known addresses\n",
    "#Based on two options, number of \n",
    "options = [0.05, 0.1, 0.15, 0.2, 0.25, 0.3, 0.35, 0.4]\n",
    "minimize_lengths = [1]\n",
    "sequence_tuning = sequences.tune_sequence_dist(dwellings_dropped, options, minimize_lengths)\n",
    "print(\"Selected maximum distance between consecutive dwellings:\", sequence_tuning[\"dist\"])\n",
    "dwellings_sequence = sequence_tuning[\"df\"]"
   ]
  },
  {
   "cell_type": "markdown",
   "metadata": {},
   "source": [
    "### Interpolation Between Known Addresses"
   ]
  },
  {
   "cell_type": "markdown",
   "metadata": {},
   "source": [
    "**Problem:** Intuitively, if, during the disambiguation process consecutive known dwellings have the same block number or street name, it seems possible that the dwellings in between those known addresses would share that block number/street name. How accurate is making that assumption and simply filling in those unknown block numbers/street names? And how many dwellings can we gather more information for that way? How many dwellings should we limit this process to. For example, if there are 100 dwellings in between known address the validity of simply filling in the block number feels weaker than if there were only 2 dwellings in between.\\\n",
    "**Method:** Get known consecutive dwellings with shared block numbers/street name and dwellings with unknown addresses in between. Experiment with different limits of number of dwellings in between"
   ]
  },
  {
   "cell_type": "markdown",
   "metadata": {},
   "source": [
    "## Interpolate sequences if number of dwellings between known dwellings do not exceed threshold"
   ]
  },
  {
   "cell_type": "code",
   "execution_count": 84,
   "metadata": {},
   "outputs": [],
   "source": [
    "## 1. Get dwellings that are followed by unknown dwellings whose block num can be interpolated\n",
    "## dwellings_sequence => known dwellings with sequence_id\n",
    "dwelling_sequence_sames = interpolation.same_next(dwellings_sequence, column = block_col)\n",
    "\n",
    "\"\"\"\n",
    "2. Merge dwelling_sequence_sames back to all known dwelling df so that `BLOCK_NUM_next` and \n",
    "`num_between_real` are included in df of all known dwellings.\n",
    "\"\"\"\n",
    "dwellings_sequence_with_next_info = dwellings_sequence.merge(dwelling_sequence_sames[[ward_col, dwelling_col,\n",
    "                                                                                      'BLOCK_NUM_next', \n",
    "                                                                                      'num_between_real',\n",
    "                                                                                      'header']], \n",
    "                                                             on=[ward_col, dwelling_col], how='left')\n",
    "\n",
    "\"\"\"\n",
    "3. Merge `dwellings_sequence_with_next_info` back to df of all dwellings. Ffill sequences between \n",
    "2 known dwellings of the same sequences.\n",
    "\"\"\"\n",
    "all_dwellings = dataprocessing.all_dwellings_sequenced(census_filled_dwellings, dwellings_sequence_with_next_info, \n",
    "                                                       block_col = 'BLOCK_NUM', fill_column = 'sequence_id',\n",
    "                                                       check_column = 'BLOCK_NUM', ward_col = ward_col, dwelling_col = dwelling_col)\n",
    "\n",
    "\"\"\"\n",
    "4. Get consecutive dwellings that are in between 2 known dwellngs of the same sequence and block_col value.\n",
    "Used for plotting.\n",
    "\"\"\"\n",
    "interpolate_dwellings = interpolation.get_consecutive_dwellings(all_dwellings, column = block_col)"
   ]
  },
  {
   "cell_type": "markdown",
   "metadata": {},
   "source": [
    "### all_dwellings contains all dwellings with interpolation on fill_column = 'sequence_id'"
   ]
  },
  {
   "cell_type": "markdown",
   "metadata": {},
   "source": [
    "## Max dwellning analysis"
   ]
  },
  {
   "cell_type": "code",
   "execution_count": 66,
   "metadata": {},
   "outputs": [
    {
     "data": {
      "image/png": "[encoded data removed]",
      "text/plain": [
       "<Figure size 432x288 with 1 Axes>"
      ]
     },
     "metadata": {
      "needs_background": "light"
     },
     "output_type": "display_data"
    }
   ],
   "source": [
    "plt.hist(interpolate_dwellings.dropna(subset=['num_between_real'])[\"num_between_real\"], bins = \"auto\")\n",
    "plt.xlabel(\"Number of Dwellings Between Known Block Numbers\")\n",
    "plt.ylabel(\"Count\")\n",
    "plt.title(\"Number of Dwellings Between Known Block Numbers\")\n",
    "plt.tight_layout()\n",
    "plt.show()"
   ]
  },
  {
   "cell_type": "code",
   "execution_count": 85,
   "metadata": {},
   "outputs": [],
   "source": [
    "\"\"\"\n",
    "3. Merge `dwellings_sequence_with_next_info` back to df of all dwellings. Ffill sequences between \n",
    "2 known dwellings of the same sequences.\n",
    "\"\"\"\n",
    "all_dwellings_seq = dataprocessing.all_dwellings_sequenced(census_filled_dwellings, dwellings_sequence_with_next_info, \n",
    "                                                       block_col = 'BLOCK_NUM', fill_column = 'sequence_id',\n",
    "                                                       check_column = 'sequence_id', ward_col = ward_col, dwelling_col = dwelling_col)\n"
   ]
  },
  {
   "cell_type": "code",
   "execution_count": 92,
   "metadata": {},
   "outputs": [
    {
     "data": {
      "text/plain": [
       "sequence_id    0\n",
       "dtype: int64"
      ]
     },
     "execution_count": 92,
     "metadata": {},
     "output_type": "execute_result"
    }
   ],
   "source": [
    "## The number of differences interpolation bewteen only block num vs blocknum + sequence id\n",
    "(all_dwellings_seq[['sequence_id']].replace(np.nan, -1) != all_dwellings[['sequence_id']].replace(np.nan, -1)).sum()"
   ]
  },
  {
   "cell_type": "markdown",
   "metadata": {},
   "source": [
    "### Using only block number\n",
    "\n",
    "Same output as using distance sequence as well"
   ]
  },
  {
   "cell_type": "code",
   "execution_count": 93,
   "metadata": {
    "scrolled": false
   },
   "outputs": [
    {
     "name": "stdout",
     "output_type": "stream",
     "text": [
      "Maximum of 5 dwellings between\n",
      "Number of dwellings that would be assigned a block: 2015\n",
      "Proportion increase dwellings assigned a block: 0.05226 \n",
      "\n",
      "Maximum of 10 dwellings between\n",
      "Number of dwellings that would be assigned a block: 2653\n",
      "Proportion increase dwellings assigned a block: 0.0688 \n",
      "\n",
      "Maximum of 15 dwellings between\n",
      "Number of dwellings that would be assigned a block: 2895\n",
      "Proportion increase dwellings assigned a block: 0.07508 \n",
      "\n",
      "Maximum of 20 dwellings between\n",
      "Number of dwellings that would be assigned a block: 2947\n",
      "Proportion increase dwellings assigned a block: 0.07643 \n",
      "\n",
      "Maximum of 25 dwellings between\n",
      "Number of dwellings that would be assigned a block: 2971\n",
      "Proportion increase dwellings assigned a block: 0.07705 \n",
      "\n",
      "Maximum of 40 dwellings between\n",
      "Number of dwellings that would be assigned a block: 2971\n",
      "Proportion increase dwellings assigned a block: 0.07705 \n",
      "\n"
     ]
    }
   ],
   "source": [
    "num_between = [5,10,15, 20, 25,40]\n",
    "inter_increase = []\n",
    "for num in num_between:\n",
    "    to_interpolate = interpolation.limit_dwellings_between(interpolate_dwellings,num)\n",
    "    total_interpolate = to_interpolate[\"CD_ADDRESS\"].isnull().sum()\n",
    "    print(\"Maximum of {} dwellings between\".format(str(num)))\n",
    "    inter_increase.append(round(total_interpolate/total_num_dwellings, 5))\n",
    "#     display(to_interpolate.loc[:,[ward_col, dwelling_col, block_col, \"CD_ADDRESS\", \"CD_X\", \"CD_Y\", \"sequence_id\"]].head(10))\n",
    "    print(\"Number of dwellings that would be assigned a block:\", total_interpolate)\n",
    "    print(\"Proportion increase dwellings assigned a block:\", round(total_interpolate/total_num_dwellings, 5), \"\\n\")"
   ]
  },
  {
   "cell_type": "code",
   "execution_count": 98,
   "metadata": {},
   "outputs": [
    {
     "data": {
      "text/plain": [
       "Text(0.5, 0, 'Max Dwelling Between')"
      ]
     },
     "execution_count": 98,
     "metadata": {},
     "output_type": "execute_result"
    },
    {
     "data": {
      "image/png": "[encoded data removed]",
      "text/plain": [
       "<Figure size 360x216 with 1 Axes>"
      ]
     },
     "metadata": {
      "needs_background": "light"
     },
     "output_type": "display_data"
    }
   ],
   "source": [
    "fig, ax = plt.subplots(1,1, figsize=(5,3))\n",
    "ax.plot(num_between, inter_increase)\n",
    "ax.scatter(num_between, inter_increase)\n",
    "ax.set_title(\"Increase Proportion of Dwellings assigned a block\")\n",
    "ax.set_xlabel('Max Dwelling Between')"
   ]
  },
  {
   "cell_type": "markdown",
   "metadata": {},
   "source": [
    "* There are mostly below 10 unknoqn dwellings between 2 known dwellings in the same block number\n",
    "* The proportion increase dwellings assigned does not change much after max dwelling = 15\n",
    "* max dwelling = 10 is intuitively accurate. Is there any insight to support this?"
   ]
  },
  {
   "cell_type": "code",
   "execution_count": null,
   "metadata": {},
   "outputs": [],
   "source": []
  }
 ],
 "metadata": {
  "kernelspec": {
   "display_name": "Python 3",
   "language": "python",
   "name": "python3"
  },
  "language_info": {
   "codemirror_mode": {
    "name": "ipython",
    "version": 3
   },
   "file_extension": ".py",
   "mimetype": "text/x-python",
   "name": "python",
   "nbconvert_exporter": "python",
   "pygments_lexer": "ipython3",
   "version": "3.7.3"
  }
 },
 "nbformat": 4,
 "nbformat_minor": 4
}
