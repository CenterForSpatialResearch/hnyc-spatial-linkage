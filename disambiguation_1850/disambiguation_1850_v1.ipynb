{
 "cells": [
  {
   "cell_type": "markdown",
   "metadata": {},
   "source": [
    "# Disambiguation 1850\n",
    "- Getting confidence scores\n",
    "- Attaching Spatial Weight\n",
    "- Disambiguation"
   ]
  },
  {
   "cell_type": "code",
   "execution_count": 1,
   "metadata": {},
   "outputs": [],
   "source": [
    "import os\n",
    "import sys\n",
    "module_path = os.path.abspath(os.path.join('..'))\n",
    "if module_path not in sys.path:\n",
    "    sys.path.append(module_path)\n",
    "\n",
    "%load_ext autoreload\n",
    "%autoreload 2\n",
    "\n",
    "import pandas as pd\n",
    "import pyjarowinkler\n",
    "import networkx as nx\n",
    "from disambiguation import Disambiguator, Disambiguator1880\n",
    "import disambiguation.linkage as dl\n",
    "import disambiguation.processing as dp \n",
    "from disambiguation.processing import apply_confidence_score\n",
    "import matplotlib.pyplot as plt"
   ]
  },
  {
   "cell_type": "code",
   "execution_count": 2,
   "metadata": {},
   "outputs": [],
   "source": [
    "match = pd.read_csv(\"../data/es_1850_mn_IndexUpdate.csv\")"
   ]
  },
  {
   "cell_type": "code",
   "execution_count": 3,
   "metadata": {},
   "outputs": [
    {
     "output_type": "execute_result",
     "data": {
      "text/plain": "Index(['CENSUS_IPUMS_UID', 'CENSUS_NAMEFRST', 'CENSUS_NAMELAST',\n       'CENSUS_WARD_NUM', 'CENSUS_AGE', 'CENSUS_DWELLIN_NUM',\n       'CENSUS_DWELLING_SEQ', 'CENSUS_OCCSTR', 'OBJECTID', 'CD_FIRST_NAME',\n       'CD_LAST_NAME', 'CD_ADDRESS', 'BLOCK_NUM', 'CD_OCCUPATION',\n       'CENSUS_INDEX', 'CD_X', 'CD_Y'],\n      dtype='object')"
     },
     "metadata": {},
     "execution_count": 3
    }
   ],
   "source": [
    "match.columns"
   ]
  },
  {
   "cell_type": "code",
   "execution_count": 3,
   "metadata": {},
   "outputs": [],
   "source": [
    "df = apply_confidence_score(match, cen_fn='CENSUS_NAMEFRST', cen_ln='CENSUS_NAMELAST', cen_occ='CENSUS_OCCSTR', cen_id='CENSUS_IPUMS_UID')"
   ]
  },
  {
   "cell_type": "code",
   "execution_count": 4,
   "metadata": {},
   "outputs": [
    {
     "output_type": "stream",
     "name": "stdout",
     "text": "No. of matches: 33042\nNo. of unique CD records: 12513\nNo. of unique Census records: 26520\nNo. of 1:1 matches: 5945\nNo. of matches where census record <= 12: 7731\nNo. of unique matches where census record <= 12: 6106\nNo. of anchors (confidence score = 1): 3236\n"
    }
   ],
   "source": [
    "print (\"No. of matches: \" + str(len(match)))\n",
    "print (\"No. of unique CD records: \" + str(len(match['OBJECTID'].drop_duplicates())))\n",
    "print (\"No. of unique Census records: \" + str(len(match['CENSUS_IPUMS_UID'].drop_duplicates())))\n",
    "print (\"No. of 1:1 matches: \" + str(len(df[ (df['census_count'] == 1) & (df['cd_count'] == 1) ] )) )\n",
    "print (\"No. of matches where census record <= 12: \" + str( len(df[df['CENSUS_AGE'] <= 12]) ))\n",
    "print (\"No. of unique matches where census record <= 12: \" + str( len(df[df['CENSUS_AGE'] <= 12]['CENSUS_IPUMS_UID'].drop_duplicates()) ))\n",
    "print (\"No. of anchors (confidence score = 1): \" + str( len(df[df['confidence_score'] == 1]) ))"
   ]
  },
  {
   "cell_type": "markdown",
   "metadata": {},
   "source": [
    "# Disambiguation"
   ]
  },
  {
   "cell_type": "code",
   "execution_count": 5,
   "metadata": {},
   "outputs": [],
   "source": [
    "df['CD_ID'] = 'CD_' + df['OBJECTID'].astype(str)\n",
    "df['CENSUS_ID'] = 'CENSUS_' + df['CENSUS_IPUMS_UID'].astype(str)"
   ]
  },
  {
   "cell_type": "code",
   "execution_count": 6,
   "metadata": {
    "tags": [
     "outputPrepend",
     "outputPrepend",
     "outputPrepend",
     "outputPrepend",
     "outputPrepend",
     "outputPrepend",
     "outputPrepend",
     "outputPrepend",
     "outputPrepend",
     "outputPrepend",
     "outputPrepend",
     "outputPrepend",
     "outputPrepend",
     "outputPrepend",
     "outputPrepend",
     "outputPrepend",
     "outputPrepend",
     "outputPrepend",
     "outputPrepend",
     "outputPrepend",
     "outputPrepend",
     "outputPrepend",
     "outputPrepend",
     "outputPrepend",
     "outputPrepend",
     "outputPrepend",
     "outputPrepend",
     "outputPrepend",
     "outputPrepend",
     "outputPrepend",
     "outputPrepend",
     "outputPrepend",
     "outputPrepend",
     "outputPrepend",
     "outputPrepend",
     "outputPrepend",
     "outputPrepend",
     "outputPrepend",
     "outputPrepend",
     "outputPrepend",
     "outputPrepend",
     "outputPrepend",
     "outputPrepend",
     "outputPrepend",
     "outputPrepend",
     "outputPrepend",
     "outputPrepend",
     "outputPrepend",
     "outputPrepend",
     "outputPrepend",
     "outputPrepend",
     "outputPrepend",
     "outputPrepend",
     "outputPrepend",
     "outputPrepend",
     "outputPrepend",
     "outputPrepend",
     "outputPrepend",
     "outputPrepend",
     "outputPrepend",
     "outputPrepend",
     "outputPrepend",
     "outputPrepend",
     "outputPrepend",
     "outputPrepend",
     "outputPrepend",
     "outputPrepend",
     "outputPrepend",
     "outputPrepend",
     "outputPrepend",
     "outputPrepend",
     "outputPrepend",
     "outputPrepend",
     "outputPrepend",
     "outputPrepend",
     "outputPrepend",
     "outputPrepend",
     "outputPrepend",
     "outputPrepend",
     "outputPrepend",
     "outputPrepend",
     "outputPrepend",
     "outputPrepend",
     "outputPrepend",
     "outputPrepend",
     "outputPrepend",
     "outputPrepend",
     "outputPrepend",
     "outputPrepend",
     "outputPrepend",
     "outputPrepend",
     "outputPrepend",
     "outputPrepend",
     "outputPrepend",
     "outputPrepend",
     "outputPrepend",
     "outputPrepend",
     "outputPrepend",
     "outputPrepend",
     "outputPrepend",
     "outputPrepend",
     "outputPrepend",
     "outputPrepend",
     "outputPrepend",
     "outputPrepend",
     "outputPrepend",
     "outputPrepend",
     "outputPrepend",
     "outputPrepend",
     "outputPrepend",
     "outputPrepend",
     "outputPrepend",
     "outputPrepend",
     "outputPrepend",
     "outputPrepend",
     "outputPrepend",
     "outputPrepend",
     "outputPrepend",
     "outputPrepend",
     "outputPrepend",
     "outputPrepend",
     "outputPrepend",
     "outputPrepend",
     "outputPrepend",
     "outputPrepend",
     "outputPrepend",
     "outputPrepend",
     "outputPrepend",
     "outputPrepend",
     "outputPrepend",
     "outputPrepend",
     "outputPrepend",
     "outputPrepend",
     "outputPrepend",
     "outputPrepend",
     "outputPrepend",
     "outputPrepend",
     "outputPrepend",
     "outputPrepend",
     "outputPrepend",
     "outputPrepend",
     "outputPrepend",
     "outputPrepend",
     "outputPrepend",
     "outputPrepend",
     "outputPrepend",
     "outputPrepend",
     "outputPrepend",
     "outputPrepend",
     "outputPrepend",
     "outputPrepend",
     "outputPrepend",
     "outputPrepend",
     "outputPrepend",
     "outputPrepend",
     "outputPrepend",
     "outputPrepend",
     "outputPrepend",
     "outputPrepend",
     "outputPrepend",
     "outputPrepend",
     "outputPrepend",
     "outputPrepend",
     "outputPrepend",
     "outputPrepend",
     "outputPrepend",
     "outputPrepend",
     "outputPrepend",
     "outputPrepend",
     "outputPrepend",
     "outputPrepend",
     "outputPrepend",
     "outputPrepend",
     "outputPrepend",
     "outputPrepend",
     "outputPrepend",
     "outputPrepend",
     "outputPrepend",
     "outputPrepend",
     "outputPrepend",
     "outputPrepend",
     "outputPrepend",
     "outputPrepend",
     "outputPrepend",
     "outputPrepend",
     "outputPrepend",
     "outputPrepend",
     "outputPrepend",
     "outputPrepend",
     "outputPrepend",
     "outputPrepend",
     "outputPrepend",
     "outputPrepend",
     "outputPrepend",
     "outputPrepend",
     "outputPrepend",
     "outputPrepend",
     "outputPrepend",
     "outputPrepend",
     "outputPrepend",
     "outputPrepend",
     "outputPrepend",
     "outputPrepend",
     "outputPrepend",
     "outputPrepend",
     "outputPrepend",
     "outputPrepend",
     "outputPrepend",
     "outputPrepend",
     "outputPrepend",
     "outputPrepend",
     "outputPrepend",
     "outputPrepend",
     "outputPrepend",
     "outputPrepend",
     "outputPrepend",
     "outputPrepend",
     "outputPrepend",
     "outputPrepend",
     "outputPrepend",
     "outputPrepend",
     "outputPrepend",
     "outputPrepend",
     "outputPrepend",
     "outputPrepend",
     "outputPrepend",
     "outputPrepend",
     "outputPrepend",
     "outputPrepend",
     "outputPrepend",
     "outputPrepend",
     "outputPrepend",
     "outputPrepend",
     "outputPrepend",
     "outputPrepend",
     "outputPrepend",
     "outputPrepend",
     "outputPrepend",
     "outputPrepend",
     "outputPrepend",
     "outputPrepend",
     "outputPrepend",
     "outputPrepend",
     "outputPrepend",
     "outputPrepend",
     "outputPrepend",
     "outputPrepend",
     "outputPrepend",
     "outputPrepend",
     "outputPrepend",
     "outputPrepend",
     "outputPrepend",
     "outputPrepend",
     "outputPrepend",
     "outputPrepend",
     "outputPrepend",
     "outputPrepend",
     "outputPrepend",
     "outputPrepend",
     "outputPrepend",
     "outputPrepend",
     "outputPrepend",
     "outputPrepend",
     "outputPrepend",
     "outputPrepend",
     "outputPrepend",
     "outputPrepend",
     "outputPrepend",
     "outputPrepend",
     "outputPrepend",
     "outputPrepend",
     "outputPrepend",
     "outputPrepend",
     "outputPrepend",
     "outputPrepend",
     "outputPrepend",
     "outputPrepend",
     "outputPrepend",
     "outputPrepend",
     "outputPrepend",
     "outputPrepend",
     "outputPrepend",
     "outputPrepend",
     "outputPrepend",
     "outputPrepend",
     "outputPrepend"
    ]
   },
   "outputs": [
    {
     "output_type": "stream",
     "name": "stdout",
     "text": "Working on: 686\nWorking on: 689\nWorking on: 690\nWorking on: 691\nWorking on: 692\nWorking on: 693\nWorking on: 694\nWorking on: 699\nWorking on: 700\nWorking on: 701\nWorking on: 704\nWorking on: 707\nWorking on: 712\nWorking on: 715\nWorking on: 720\nWorking on: 722\nWorking on: 726\nWorking on: 727\nWorking on: 728\nWorking on: 733\nWorking on: 736\nWorking on: 737\nWorking on: 738\nWorking on: 739\nWorking on: 741\nWorking on: 743\nWorking on: 747\nWorking on: 749\nWorking on: 750\nWorking on: 755\nWorking on: 757\nWorking on: 759\nWorking on: 766\nWorking on: 767\nWorking on: 770\nWorking on: 771\nWorking on: 773\nWorking on: 774\nWorking on: 776\nWorking on: 779\nWorking on: 782\nWorking on: 784\nWorking on: 787\nWorking on: 788\nWorking on: 789\nWorking on: 791\nWorking on: 792\nWorking on: 793\nWorking on: 794\nWorking on: 795\nWorking on: 796\nWorking on: 799\nWorking on: 800\nWorking on: 801\nWorking on: 803\nWorking on: 804\nWorking on: 805\nWorking on: 806\nWorking on: 807\nWorking on: 808\nWorking on: 809\nWorking on: 813\nWorking on: 814\nWorking on: 815\nWorking on: 816\nWorking on: 819\nWorking on: 820\nWorking on: 822\nWorking on: 825\nWorking on: 827\nWorking on: 828\nWorking on: 829\nWorking on: 830\nWorking on: 831\nWorking on: 832\nWorking on: 833\nWorking on: 834\nWorking on: 835\nWorking on: 839\nWorking on: 840\nWorking on: 842\nWorking on: 845\nWorking on: 846\nWorking on: 848\nWorking on: 849\nWorking on: 852\nWorking on: 853\nWorking on: 854\nWorking on: 859\nWorking on: 862\nWorking on: 863\nWorking on: 867\nWorking on: 872\nWorking on: 873\nWorking on: 874\nWorking on: 877\nWorking on: 878\nWorking on: 879\nWorking on: 880\nWorking on: 881\nWorking on: 882\nWorking on: 883\nWorking on: 885\nWorking on: 886\nWorking on: 887\nWorking on: 888\nWorking on: 889\nWorking on: 892\nWorking on: 896\nWorking on: 897\nWorking on: 898\nWorking on: 899\nWorking on: 900\nWorking on: 901\nWorking on: 903\nWorking on: 904\nWorking on: 905\nWorking on: 906\nWorking on: 907\nWorking on: 908\nWorking on: 909\nWorking on: 910\nWorking on: 912\nWorking on: 913\nWorking on: 921\nWorking on: 922\nWorking on: 923\nWorking on: 924\nWorking on: 925\nWorking on: 927\nWorking on: 929\nWorking on: 931\nWorking on: 934\nWorking on: 936\nWorking on: 938\nWorking on: 941\nWorking on: 942\nWorking on: 945\nWorking on: 946\nWorking on: 948\nWorking on: 950\nWorking on: 951\nWorking on: 953\nWorking on: 954\nWorking on: 955\nWorking on: 957\nWorking on: 962\nWorking on: 963\nWorking on: 966\nWorking on: 967\nWorking on: 968\nWorking on: 970\nWorking on: 971\nWorking on: 973\nWorking on: 974\nWorking on: 976\nWorking on: 978\nWorking on: 979\nWorking on: 982\nWorking on: 984\nWorking on: 985\nWorking on: 986\nWorking on: 989\nWorking on: 991\nWorking on: 992\nWorking on: 994\nWorking on: 996\nWorking on: 997\nWorking on: 998\nWorking on: 1000\nWorking on: 1003\nWorking on: 1004\nWorking on: 1005\nWorking on: 1007\nWorking on: 1010\nWorking on: 1013\nWorking on: 1014\nWorking on: 1015\nWorking on: 1016\nWorking on: 1017\nWorking on: 1018\nWorking on: 1019\nWorking on: 1021\nWorking on: 1022\nWorking on: 1023\nWorking on: 1026\nWorking on: 1027\nWorking on: 1033\nWorking on: 1034\nWorking on: 1036\nWorking on: 1037\nWorking on: 1038\nWorking on: 1045\nWorking on: 1046\nWorking on: 1047\nWorking on: 1049\nWorking on: 1050\nWorking on: 1053\nWorking on: 1055\nWorking on: 1058\nWorking on: 1059\nWorking on: 1061\nWorking on: 1066\nWorking on: 1069\nWorking on: 1073\nWorking on: 1075\nWorking on: 1078\nWorking on: 1080\nWorking on: 1082\nWorking on: 1084\nWorking on: 1086\nWorking on: 1089\nWorking on: 1091\nWorking on: 1093\nWorking on: 1099\nWorking on: 1100\nWorking on: 1102\nWorking on: 1103\nWorking on: 1105\nWorking on: 1106\nWorking on: 1110\nWorking on: 1111\nWorking on: 1112\nWorking on: 1113\nWorking on: 1124\nWorking on: 1136\nWorking on: 1137\nWorking on: 1138\nWorking on: 1139\nWorking on: 1140\nWorking on: 1142\nWorking on: 1145\nWorking on: 1148\nWorking on: 1149\nWorking on: 1150\nWorking on: 1151\nWorking on: 1152\nWorking on: 1159\nWorking on: 1161\nWorking on: 1163\nWorking on: 1166\nWorking on: 1167\nWorking on: 1168\nWorking on: 1170\nWorking on: 1173\nWorking on: 1176\nWorking on: 1177\nWorking on: 1178\nWorking on: 1179\nWorking on: 1181\nWorking on: 1182\nWorking on: 1187\nWorking on: 1188\nWorking on: 1190\nWorking on: 1192\nWorking on: 1196\nWorking on: 1201\nWorking on: 1204\nWorking on: 1209\nWorking on: 1211\nWorking on: 1213\nWorking on: 1214\nWorking on: 1215\nWorking on: 1220\nWorking on: 1223\nWorking on: 1224\nWorking on: 1225\nWorking on: 1226\nWorking on: 1227\nWorking on: 1232\nWorking on: 1234\nWorking on: 1235\nWorking on: 1236\nWorking on: 1238\nWorking on: 1239\nWorking on: 1240\nWorking on: 1241\nWorking on: 1242\nWorking on: 1243\nWorking on: 1245\nWorking on: 1246\nWorking on: 1249\nWorking on: 1250\nWorking on: 1252\nWorking on: 1253\nWorking on: 1256\nWorking on: 1261\nWorking on: 1266\nWorking on: 1267\nWorking on: 1268\nWorking on: 1269\nWorking on: 1271\nWorking on: 1272\nWorking on: 1275\nWorking on: 1279\nWorking on: 1280\nWorking on: 1281\nWorking on: 1282\nWorking on: 1283\nWorking on: 1290\nWorking on: 1293\nWorking on: 1294\nWorking on: 1296\nWorking on: 1297\nWorking on: 1298\nWorking on: 1299\nWorking on: 1302\nWorking on: 1303\nWorking on: 1308\nWorking on: 1312\nWorking on: 1314\nWorking on: 1315\nWorking on: 1316\nWorking on: 1318\nWorking on: 1320\nWorking on: 1324\nWorking on: 1325\nWorking on: 1327\nWorking on: 1329\nWorking on: 1330\nWorking on: 1331\nWorking on: 1332\nWorking on: 1335\nWorking on: 1336\nWorking on: 1339\nWorking on: 1340\nWorking on: 1344\nWorking on: 1345\nWorking on: 1346\nWorking on: 1347\nWorking on: 1348\nWorking on: 1350\nWorking on: 1353\nWorking on: 1355\nWorking on: 1358\nWorking on: 1360\nWorking on: 1363\nWorking on: 1366\nWorking on: 1368\nWorking on: 1369\nWorking on: 1372\nWorking on: 1374\nWorking on: 1375\nWorking on: 1376\nWorking on: 1378\nWorking on: 1379\nWorking on: 1380\nWorking on: 1381\nWorking on: 1383\nWorking on: 1384\nWorking on: 1387\nWorking on: 1388\nWorking on: 1393\nWorking on: 1394\nWorking on: 1395\nWorking on: 1396\nWorking on: 1397\nWorking on: 1400\nWorking on: 1403\nWorking on: 1408\nWorking on: 1411\nWorking on: 1413\nWorking on: 1415\nWorking on: 1417\nWorking on: 1419\nWorking on: 1422\nWorking on: 1423\nWorking on: 1425\nWorking on: 1427\nWorking on: 1428\nWorking on: 1429\nWorking on: 1432\nWorking on: 1434\nWorking on: 1435\nWorking on: 1436\nWorking on: 1437\nWorking on: 1439\nWorking on: 1440\nWorking on: 1441\nWorking on: 1444\nWorking on: 1446\nWorking on: 1448\nWorking on: 1451\nWorking on: 1453\nWorking on: 1454\nWorking on: 1457\nWorking on: 1458\nWorking on: 1461\nWorking on: 1463\nWorking on: 1465\nWorking on: 1467\nWorking on: 1468\nWorking on: 1469\nWorking on: 1473\nWorking on: 1474\nWorking on: 1475\nWorking on: 1476\nWorking on: 1479\nWorking on: 1481\nWorking on: 1482\nWorking on: 1484\nWorking on: 1485\nWorking on: 1487\nWorking on: 1488\nWorking on: 1492\nWorking on: 1493\nWorking on: 1494\nWorking on: 1497\nWorking on: 1498\nWorking on: 1499\nWorking on: 1500\nWorking on: 1501\nWorking on: 1506\nWorking on: 1507\nWorking on: 1513\nWorking on: 1514\nWorking on: 1516\nWorking on: 1517\nWorking on: 1520\nWorking on: 1522\nWorking on: 1528\nWorking on: 1531\nWorking on: 1533\nWorking on: 1535\nWorking on: 1536\nWorking on: 1537\nWorking on: 1539\nWorking on: 1540\nWorking on: 1544\nWorking on: 1546\nWorking on: 1548\nWorking on: 1551\nWorking on: 1552\nWorking on: 1553\nWorking on: 1554\nWorking on: 1555\nWorking on: 1558\nWorking on: 1561\nWorking on: 1564\nWorking on: 1565\nWorking on: 1570\nWorking on: 1571\nWorking on: 1572\nWorking on: 1577\nWorking on: 1579\nWorking on: 1581\nWorking on: 1586\nWorking on: 1587\nWorking on: 1589\nWorking on: 1591\nWorking on: 1592\nWorking on: 1595\nWorking on: 1596\nWorking on: 1599\nWorking on: 1600\nWorking on: 1601\nWorking on: 1608\nWorking on: 1609\nWorking on: 1610\nWorking on: 1612\nWorking on: 1613\nWorking on: 1614\nWorking on: 1617\nWorking on: 1618\nWorking on: 1620\nWorking on: 1621\nWorking on: 1622\nWorking on: 1623\nWorking on: 1624\nWorking on: 1628\nWorking on: 1629\nWorking on: 1631\nWorking on: 1632\nWorking on: 1633\nWorking on: 1635\nWorking on: 1636\nWorking on: 1637\nWorking on: 1638\nWorking on: 1640\nWorking on: 1642\nWorking on: 1644\nWorking on: 1646\nWorking on: 1649\nWorking on: 1650\nWorking on: 1651\nWorking on: 1652\nWorking on: 1658\nWorking on: 1660\nWorking on: 1661\nWorking on: 1662\nWorking on: 1664\nWorking on: 1667\nWorking on: 1668\nWorking on: 1669\nWorking on: 1670\nWorking on: 1672\nWorking on: 1673\nWorking on: 1674\nWorking on: 1675\nWorking on: 1676\nWorking on: 1678\nWorking on: 1680\nWorking on: 1684\nWorking on: 1690\nWorking on: 1691\nWorking on: 1693\nWorking on: 1694\nWorking on: 1696\nWorking on: 1697\nWorking on: 1698\nWorking on: 1699\nWorking on: 1701\nWorking on: 1703\nWorking on: 1704\nWorking on: 1705\nWorking on: 1708\nWorking on: 1711\nWorking on: 1712\nWorking on: 1714\nWorking on: 1715\nWorking on: 1716\nWorking on: 1718\nWorking on: 1720\nWorking on: 1727\nWorking on: 1728\nWorking on: 1729\nWorking on: 1731\nWorking on: 1735\nWorking on: 1736\nWorking on: 1738\nWorking on: 1741\nWorking on: 1742\nWorking on: 1743\nWorking on: 1750\nWorking on: 1753\nWorking on: 1757\nWorking on: 1758\nWorking on: 1759\nWorking on: 1765\nWorking on: 1769\nWorking on: 1771\nWorking on: 1776\nWorking on: 1777\nWorking on: 1781\nWorking on: 1782\nWorking on: 1783\nWorking on: 1786\nWorking on: 1794\nWorking on: 1801\nWorking on: 1803\nWorking on: 1807\nWorking on: 1810\nWorking on: 1813\nWorking on: 1815\nWorking on: 1816\nWorking on: 1817\nWorking on: 1818\nWorking on: 1822\nWorking on: 1824\nWorking on: 1829\nWorking on: 1830\nWorking on: 1831\nWorking on: 1832\nWorking on: 1833\nWorking on: 1834\nWorking on: 1836\nWorking on: 1840\nWorking on: 1846\nWorking on: 1854\nWorking on: 1859\nWorking on: 1860\nWorking on: 1861\nWorking on: 1862\nWorking on: 1868\nWorking on: 1872\nWorking on: 1875\nWorking on: 1876\nWorking on: 1883\nWorking on: 1886\nWorking on: 1887\nWorking on: 1889\nWorking on: 1890\nWorking on: 1894\nWorking on: 1899\nWorking on: 1900\nWorking on: 1901\nWorking on: 1903\nWorking on: 1906\nWorking on: 1908\nWorking on: 1909\nWorking on: 1911\nWorking on: 1912\nWorking on: 1913\nWorking on: 1914\nWorking on: 1916\nWorking on: 1918\nWorking on: 1919\nWorking on: 1920\nWorking on: 1921\nWorking on: 1928\nWorking on: 1932\nWorking on: 1933\nWorking on: 1937\nWorking on: 1938\nWorking on: 1939\nWorking on: 1944\nWorking on: 1946\nWorking on: 1952\nWorking on: 1954\nWorking on: 1956\nWorking on: 1958\nWorking on: 1961\nWorking on: 1962\nWorking on: 1963\nWorking on: 1964\nWorking on: 1966\nWorking on: 1967\nWorking on: 1968\nWorking on: 1969\nWorking on: 1970\nWorking on: 1971\nWorking on: 1972\nWorking on: 1973\nWorking on: 1974\nWorking on: 1975\nWorking on: 1976\nWorking on: 1977\nWorking on: 1978\nWorking on: 1980\nWorking on: 1982\nWorking on: 1983\nWorking on: 1984\nWorking on: 1985\nWorking on: 1987\nWorking on: 1988\nWorking on: 1991\nWorking on: 1993\nWorking on: 1996\nWorking on: 1997\nWorking on: 1999\nWorking on: 2000\nWorking on: 2001\nWorking on: 2002\nWorking on: 2005\nWorking on: 2007\nWorking on: 2011\nWorking on: 2012\nWorking on: 2013\nWorking on: 2014\nWorking on: 2015\nWorking on: 2016\nWorking on: 2017\nWorking on: 2019\nWorking on: 2021\nWorking on: 2022\nWorking on: 2023\nWorking on: 2025\nWorking on: 2026\nWorking on: 2027\nWorking on: 2029\nWorking on: 2031\nWorking on: 2032\nWorking on: 2033\nWorking on: 2035\nWorking on: 2036\nWorking on: 2037\nWorking on: 2038\nWorking on: 2039\nWorking on: 2047\nWorking on: 2048\nWorking on: 2051\nWorking on: 2053\nWorking on: 2054\nWorking on: 2055\nWorking on: 2056\nWorking on: 2057\nWorking on: 2058\nWorking on: 2063\nWorking on: 2064\nWorking on: 2066\nWorking on: 2068\nWorking on: 2070\nWorking on: 2072\nWorking on: 2074\nWorking on: 2076\nWorking on: 2077\nWorking on: 2078\nWorking on: 2079\nWorking on: 2080\nWorking on: 2081\nWorking on: 2085\nWorking on: 2086\nWorking on: 2088\nWorking on: 2094\nWorking on: 2097\nWorking on: 2098\nWorking on: 2104\nWorking on: 2106\nWorking on: 2107\nWorking on: 2109\nWorking on: 2112\nWorking on: 2114\nWorking on: 2117\nWorking on: 2118\nWorking on: 2119\nWorking on: 2120\nWorking on: 2122\nWorking on: 2124\nWorking on: 2128\nWorking on: 2129\nWorking on: 2130\nWorking on: 2132\nWorking on: 2133\nWorking on: 2140\nWorking on: 2141\nWorking on: 2142\nWorking on: 2143\nWorking on: 2146\nWorking on: 2148\nWorking on: 2150\nWorking on: 2151\nWorking on: 2154\nWorking on: 2155\nWorking on: 2157\nWorking on: 2159\nWorking on: 2160\nWorking on: 2161\nWorking on: 2164\nWorking on: 2165\nWorking on: 2170\nWorking on: 2173\nWorking on: 2174\nWorking on: 2175\nWorking on: 2176\nWorking on: 2178\nWorking on: 2179\nWorking on: 2181\nWorking on: 2189\nWorking on: 2191\nWorking on: 2192\nWorking on: 2195\nWorking on: 2197\nWorking on: 2198\nWorking on: 2199\nWorking on: 2200\nWorking on: 2201\nWorking on: 2204\nWorking on: 2213\nWorking on: 2217\nWorking on: 2218\nWorking on: 2219\nWorking on: 2221\nWorking on: 2227\nWorking on: 2230\nWorking on: 2231\nWorking on: 2236\nWorking on: 2237\nWorking on: 2238\nWorking on: 2239\nWorking on: 2243\nWorking on: 2244\nWorking on: 2245\nWorking on: 2246\nWorking on: 2247\nWorking on: 2248\nWorking on: 2249\nWorking on: 2250\nWorking on: 2251\nWorking on: 2253\nWorking on: 2254\nWorking on: 2259\nWorking on: 2260\nWorking on: 2261\nWorking on: 2262\nWorking on: 2264\nWorking on: 2265\nWorking on: 2267\nWorking on: 2268\nWorking on: 2277\nWorking on: 2279\nWorking on: 2280\nWorking on: 2281\nWorking on: 2282\nWorking on: 2283\nWorking on: 2284\nWorking on: 2289\nWorking on: 2291\nWorking on: 2292\nWorking on: 2295\nWorking on: 2297\nWorking on: 2298\nWorking on: 2300\nWorking on: 2305\nWorking on: 2308\nWorking on: 2311\nWorking on: 2314\nWorking on: 2317\nWorking on: 2318\nWorking on: 2320\nWorking on: 2321\nWorking on: 2323\nWorking on: 2324\nWorking on: 2325\nWorking on: 2326\nWorking on: 2327\nWorking on: 2329\nWorking on: 2331\nWorking on: 2332\nWorking on: 2333\nWorking on: 2341\nWorking on: 2344\nWorking on: 2347\nWorking on: 2349\nWorking on: 2350\nWorking on: 2352\nWorking on: 2353\nWorking on: 2354\nWorking on: 2355\nWorking on: 2358\nWorking on: 2362\nWorking on: 2363\nWorking on: 2364\nWorking on: 2365\nWorking on: 2366\nWorking on: 2367\nWorking on: 2368\nWorking on: 2369\nWorking on: 2370\nWorking on: 2372\nWorking on: 2374\nWorking on: 2375\nWorking on: 2377\nWorking on: 2381\nWorking on: 2383\nWorking on: 2389\nWorking on: 2390\nWorking on: 2393\nWorking on: 2396\nWorking on: 2400\nWorking on: 2404\nWorking on: 2407\nWorking on: 2409\nWorking on: 2411\nWorking on: 2413\nWorking on: 2414\nWorking on: 2415\nWorking on: 2416\nWorking on: 2417\nWorking on: 2418\nWorking on: 2422\nWorking on: 2426\nWorking on: 2427\nWorking on: 2428\nWorking on: 2430\nWorking on: 2432\nWorking on: 2436\nWorking on: 2437\nWorking on: 2441\nWorking on: 2443\nWorking on: 2444\nWorking on: 2445\nWorking on: 2446\nWorking on: 2451\nWorking on: 2453\nWorking on: 2455\nWorking on: 2459\nWorking on: 2463\nWorking on: 2468\nWorking on: 2470\nWorking on: 2479\nWorking on: 2485\nWorking on: 2487\nWorking on: 2488\nWorking on: 2490\nWorking on: 2491\nWorking on: 2494\nWorking on: 2495\nWorking on: 2496\nWorking on: 2497\nWorking on: 2502\nWorking on: 2503\nWorking on: 2504\nWorking on: 2505\nWorking on: 2506\nWorking on: 2507\nWorking on: 2514\nWorking on: 2520\nWorking on: 2521\nWorking on: 2522\nWorking on: 2525\nWorking on: 2526\nWorking on: 2529\nWorking on: 2543\nWorking on: 2544\nWorking on: 2545\nWorking on: 2549\nWorking on: 2552\nWorking on: 2554\nWorking on: 2560\nWorking on: 2563\nWorking on: 2565\nWorking on: 2566\nWorking on: 2567\nWorking on: 2568\nWorking on: 2574\nWorking on: 2580\nWorking on: 2586\nWorking on: 2587\nWorking on: 2590\nWorking on: 2595\nWorking on: 2600\nWorking on: 2604\nWorking on: 2605\nWorking on: 2607\nWorking on: 2609\nWorking on: 2611\nWorking on: 2613\nWorking on: 2615\nWorking on: 2616\nWorking on: 2617\nWorking on: 2620\nWorking on: 2621\nWorking on: 2622\nWorking on: 2625\nWorking on: 2630\nWorking on: 2631\nWorking on: 2632\nWorking on: 2633\nWorking on: 2636\nWorking on: 2637\nWorking on: 2638\nWorking on: 2641\nWorking on: 2642\nWorking on: 2643\nWorking on: 2645\nWorking on: 2646\nWorking on: 2649\nWorking on: 2652\nWorking on: 2654\nWorking on: 2656\nWorking on: 2658\nWorking on: 2659\nWorking on: 2660\nWorking on: 2661\nWorking on: 2662\nWorking on: 2663\nWorking on: 2665\nWorking on: 2667\nWorking on: 2668\nWorking on: 2669\nWorking on: 2670\nWorking on: 2671\nWorking on: 2672\nWorking on: 2673\nWorking on: 2674\nWorking on: 2675\nWorking on: 2676\nWorking on: 2679\nWorking on: 2683\nWorking on: 2685\nWorking on: 2689\nWorking on: 2690\nWorking on: 2691\nWorking on: 2693\nWorking on: 2694\nWorking on: 2696\nWorking on: 2697\nWorking on: 2698\nWorking on: 2699\nWorking on: 2700\nWorking on: 2703\nWorking on: 2704\nWorking on: 2706\nWorking on: 2707\nWorking on: 2710\nWorking on: 2711\nWorking on: 2712\nWorking on: 2715\nWorking on: 2716\nWorking on: 2719\nWorking on: 2722\nWorking on: 2723\nWorking on: 2724\nWorking on: 2727\nWorking on: 2729\nWorking on: 2730\nWorking on: 2735\nWorking on: 2736\nWorking on: 2737\nWorking on: 2740\nWorking on: 2742\nWorking on: 2743\nWorking on: 2744\nWorking on: 2749\nWorking on: 2750\nWorking on: 2755\nWorking on: 2756\nWorking on: 2757\nWorking on: 2758\nWorking on: 2765\nWorking on: 2767\nWorking on: 2770\nWorking on: 2772\nWorking on: 2778\nWorking on: 2779\nWorking on: 2780\nWorking on: 2781\nWorking on: 2782\nWorking on: 2784\nWorking on: 2785\nWorking on: 2787\nWorking on: 2788\nWorking on: 2794\nWorking on: 2795\nWorking on: 2796\nWorking on: 2797\nWorking on: 2799\nWorking on: 2801\nWorking on: 2805\nWorking on: 2808\nWorking on: 2809\nWorking on: 2812\nWorking on: 2814\nWorking on: 2815\nWorking on: 2817\nWorking on: 2818\nWorking on: 2819\nWorking on: 2822\nWorking on: 2823\nWorking on: 2824\nWorking on: 2825\nWorking on: 2826\nWorking on: 2827\nWorking on: 2829\nWorking on: 2830\nWorking on: 2832\nWorking on: 2838\nWorking on: 2839\nWorking on: 2840\nWorking on: 2841\nWorking on: 2845\nWorking on: 2847\nWorking on: 2849\nWorking on: 2850\nWorking on: 2852\nWorking on: 2853\nWorking on: 2855\nWorking on: 2857\nWorking on: 2858\nWorking on: 2859\nWorking on: 2860\nWorking on: 2861\nWorking on: 2862\nWorking on: 2865\nWorking on: 2866\nWorking on: 2867\nWorking on: 2868\nWorking on: 2869\nWorking on: 2871\nWorking on: 2872\nWorking on: 2873\nWorking on: 2874\nWorking on: 2875\nWorking on: 2876\nWorking on: 2877\nWorking on: 2878\nWorking on: 2882\nWorking on: 2884\nWorking on: 2885\nWorking on: 2887\nWorking on: 2888\nWorking on: 2891\nWorking on: 2892\nWorking on: 2893\nWorking on: 2894\nWorking on: 2896\nWorking on: 2897\nWorking on: 2898\nWorking on: 2900\nWorking on: 2902\nWorking on: 2903\nWorking on: 2904\nWorking on: 2905\nWorking on: 2906\nWorking on: 2907\nWorking on: 2909\nWorking on: 2911\nWorking on: 2913\nWorking on: 2914\nWorking on: 2915\nWorking on: 2916\nWorking on: 2917\nWorking on: 2918\nWorking on: 2919\nWorking on: 2920\nWorking on: 2922\nWorking on: 2923\nWorking on: 2926\nWorking on: 2928\nWorking on: 2934\nWorking on: 2937\nWorking on: 2940\nWorking on: 2946\nWorking on: 2948\nWorking on: 2950\nWorking on: 2953\nWorking on: 2955\nWorking on: 2956\nWorking on: 2957\nWorking on: 2958\nWorking on: 2964\nWorking on: 2965\nWorking on: 2969\nWorking on: 2978\nWorking on: 2983\nWorking on: 2986\nWorking on: 2987\nWorking on: 2988\nWorking on: 2989\nWorking on: 2992\nWorking on: 2994\nWorking on: 2995\nWorking on: 2996\nWorking on: 2997\nWorking on: 2998\nWorking on: 2999\nWorking on: 3000\nWorking on: 3001\nWorking on: 3003\nWorking on: 3005\nWorking on: 3006\nWorking on: 3007\nWorking on: 3008\nWorking on: 3010\nWorking on: 3014\nWorking on: 3016\nWorking on: 3018\nWorking on: 3020\nWorking on: 3021\nWorking on: 3022\nWorking on: 3023\nWorking on: 3031\nWorking on: 3032\nWorking on: 3036\nWorking on: 3037\nWorking on: 3041\nWorking on: 3060\nWorking on: 3066\nWorking on: 3078\nWorking on: 3085\nWorking on: 3090\nWorking on: 3095\nWorking on: 3096\nWorking on: 3102\nWorking on: 3105\nWorking on: 3107\nWorking on: 3111\nWorking on: 3118\nWorking on: 3119\nWorking on: 3121\nWorking on: 3133\nWorking on: 3146\nWorking on: 3152\nWorking on: 3156\nWorking on: 3157\nWorking on: 3161\nWorking on: 3168\nWorking on: 3182\nWorking on: 3184\nWorking on: 3186\nWorking on: 3187\nWorking on: 3196\nWorking on: 3197\nWorking on: 3199\nWorking on: 3203\nWorking on: 3204\nWorking on: 3205\nWorking on: 3213\nWorking on: 3217\nWorking on: 3221\nWorking on: 3232\nWorking on: 3233\nWorking on: 3234\nCleaning output (3/4)...\nDisambiguating (4/4)...\nDone! :)\n"
    }
   ],
   "source": [
    "disambiguate = Disambiguator(df, lon='CD_X', lat='CD_Y',sort_var='CENSUS_INDEX')\n",
    "disambiguate.run_disambiguation()"
   ]
  },
  {
   "cell_type": "code",
   "execution_count": 7,
   "metadata": {},
   "outputs": [],
   "source": [
    "result = disambiguate.get_result()"
   ]
  },
  {
   "cell_type": "code",
   "execution_count": 8,
   "metadata": {},
   "outputs": [
    {
     "output_type": "execute_result",
     "data": {
      "text/plain": "12348.0"
     },
     "metadata": {},
     "execution_count": 8
    }
   ],
   "source": [
    "sum(result.selected)"
   ]
  },
  {
   "cell_type": "code",
   "execution_count": 9,
   "metadata": {},
   "outputs": [
    {
     "output_type": "execute_result",
     "data": {
      "text/plain": "33042"
     },
     "metadata": {},
     "execution_count": 9
    }
   ],
   "source": [
    "len(result)"
   ]
  },
  {
   "cell_type": "code",
   "execution_count": 10,
   "metadata": {},
   "outputs": [
    {
     "output_type": "execute_result",
     "data": {
      "text/plain": "12513"
     },
     "metadata": {},
     "execution_count": 10
    }
   ],
   "source": [
    "len(result['CD_ID'].drop_duplicates())"
   ]
  },
  {
   "cell_type": "code",
   "execution_count": 11,
   "metadata": {},
   "outputs": [
    {
     "output_type": "execute_result",
     "data": {
      "text/plain": "0.9868137137377128"
     },
     "metadata": {},
     "execution_count": 11
    }
   ],
   "source": [
    "sum(result.selected) / len(result['CD_ID'].drop_duplicates())"
   ]
  },
  {
   "cell_type": "code",
   "execution_count": 12,
   "metadata": {},
   "outputs": [],
   "source": [
    "result.to_csv('../data/1850_disambiguated.csv', index=False)"
   ]
  }
 ],
 "metadata": {
  "kernelspec": {
   "display_name": "Python 3",
   "language": "python",
   "name": "python3"
  },
  "language_info": {
   "codemirror_mode": {
    "name": "ipython",
    "version": 3
   },
   "file_extension": ".py",
   "mimetype": "text/x-python",
   "name": "python",
   "nbconvert_exporter": "python",
   "pygments_lexer": "ipython3",
   "version": "3.7.3-final"
  }
 },
 "nbformat": 4,
 "nbformat_minor": 2
}