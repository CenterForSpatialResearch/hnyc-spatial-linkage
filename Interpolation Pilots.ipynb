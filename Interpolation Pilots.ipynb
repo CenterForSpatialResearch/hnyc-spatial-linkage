{
 "cells": [
  {
   "cell_type": "code",
   "execution_count": 1,
   "metadata": {},
   "outputs": [],
   "source": [
    "import pandas as pd\n",
    "import numpy as np\n",
    "from collections import defaultdict\n",
    "import re"
   ]
  },
  {
   "cell_type": "markdown",
   "metadata": {},
   "source": [
    "### Get the Data"
   ]
  },
  {
   "cell_type": "code",
   "execution_count": 6,
   "metadata": {},
   "outputs": [
    {
     "name": "stderr",
     "output_type": "stream",
     "text": [
      "/Users/tabithasugumar/anaconda3/lib/python3.7/site-packages/IPython/core/interactiveshell.py:3063: DtypeWarning: Columns (22) have mixed types. Specify dtype option on import or set low_memory=False.\n",
      "  interactivity=interactivity, compiler=compiler, result=result)\n"
     ]
    }
   ],
   "source": [
    "# census_1880 = pd.read_csv(\"data/census_1880_mn_v04.csv\")\n",
    "census_1850 = pd.read_csv(\"data/census_1850_indexUpdate.csv\")\n",
    "census_1880 = pd.read_csv(\"data/census_1880_mn_v04.csv\")"
   ]
  },
  {
   "cell_type": "code",
   "execution_count": 3,
   "metadata": {},
   "outputs": [],
   "source": [
    "disambiguated_1880 = pd.read_csv(\"data/disambiguated-21-5-2020.csv\")\n",
    "disambiguated_1850 = pd.read_csv(\"data/1850_disambiguated.csv\")"
   ]
  },
  {
   "cell_type": "markdown",
   "metadata": {},
   "source": [
    "### Fill in Based on Dwelling/House when there's a match\n",
    "\n",
    "Notes: Only done on 1850 dataset due to lack of clearly indicated dwelling numbers/household numbers on 1880 dataset. Need to check how well this works manually. \n",
    "-Use CENSUS_ID from disambiguated and CENSUS_IPUMS_UID from census data for joins, these have the same values, but need to strip the word CENSUS_ from CENSUS_ID data (this was added in during the disambiguation process)"
   ]
  },
  {
   "cell_type": "markdown",
   "metadata": {},
   "source": [
    "#### Merge 1850 census data with the selected matches from disambiguation "
   ]
  },
  {
   "cell_type": "code",
   "execution_count": 4,
   "metadata": {},
   "outputs": [
    {
     "name": "stdout",
     "output_type": "stream",
     "text": [
      "<class 'pandas.core.frame.DataFrame'>\n",
      "RangeIndex: 515630 entries, 0 to 515629\n",
      "Data columns (total 24 columns):\n",
      "CENSUS_SERIALP             515630 non-null int64\n",
      "CENSUS_AGE                 515630 non-null int64\n",
      "CENSUS_SEX                 515630 non-null int64\n",
      "CENSUS_MARST               515630 non-null int64\n",
      "CENSUS_RACE                515630 non-null int64\n",
      "CENSUS_LABFORCE            515630 non-null int64\n",
      "CENSUS_IMPREL              515630 non-null int64\n",
      "CENSUS_OCCSTR              160426 non-null object\n",
      "CENSUS_NAMELAST            515546 non-null object\n",
      "CENSUS_NAMEFRST            515046 non-null object\n",
      "CENSUS_SEQ_NUM             515630 non-null int64\n",
      "CENSUS_HH_NUM              515630 non-null int64\n",
      "CENSUS_IPUMS_UID           515630 non-null object\n",
      "CENSUS_CITY                515630 non-null int64\n",
      "CENSUS_PAGENO_HOUSEHOLD    515630 non-null int64\n",
      "CENSUS_WARD_NUM            515630 non-null int64\n",
      "CENSUS_REEL_HOUSEHOLD      515630 non-null int64\n",
      "CENSUS_PLACE               515630 non-null object\n",
      "CENSUS_DWELLING_NUM        514718 non-null float64\n",
      "CENSUS_DWELLING_SEQ        514020 non-null float64\n",
      "CENSUS_DWELLING_SIZE       515630 non-null int64\n",
      "CENSUS_GEOG                514918 non-null object\n",
      "CENSUS_LINE                515630 non-null int64\n",
      "CENSUS_INDEX               515630 non-null int64\n",
      "dtypes: float64(2), int64(16), object(6)\n",
      "memory usage: 94.4+ MB\n"
     ]
    }
   ],
   "source": [
    "census_1850.info()"
   ]
  },
  {
   "cell_type": "code",
   "execution_count": 5,
   "metadata": {},
   "outputs": [
    {
     "name": "stdout",
     "output_type": "stream",
     "text": [
      "<class 'pandas.core.frame.DataFrame'>\n",
      "RangeIndex: 33042 entries, 0 to 33041\n",
      "Data columns (total 36 columns):\n",
      "BLOCK_NUM              33042 non-null int64\n",
      "CD_ADDRESS             33042 non-null object\n",
      "CD_FIRST_NAME          33042 non-null object\n",
      "CD_ID                  33042 non-null object\n",
      "CD_LAST_NAME           33042 non-null object\n",
      "CD_OCCUPATION          31686 non-null object\n",
      "CD_X                   33042 non-null float64\n",
      "CD_Y                   33042 non-null float64\n",
      "CENSUS_AGE             33042 non-null int64\n",
      "CENSUS_DWELLING_SEQ    32922 non-null float64\n",
      "CENSUS_DWELLIN_NUM     32946 non-null float64\n",
      "CENSUS_ID              33042 non-null object\n",
      "CENSUS_INDEX           33042 non-null int64\n",
      "CENSUS_IPUMS_UID       33042 non-null object\n",
      "CENSUS_NAMEFRST        33042 non-null object\n",
      "CENSUS_NAMELAST        33042 non-null object\n",
      "CENSUS_OCCSTR          19420 non-null object\n",
      "CENSUS_WARD_NUM        33042 non-null int64\n",
      "OBJECTID               33042 non-null int64\n",
      "age_score              33042 non-null int64\n",
      "anchor                 33042 non-null int64\n",
      "cd_count               33042 non-null int64\n",
      "census_count           33042 non-null int64\n",
      "confidence_score       33042 non-null float64\n",
      "group_ID               33042 non-null float64\n",
      "in_cluster             27825 non-null float64\n",
      "jw_fn                  33042 non-null float64\n",
      "jw_ln                  33042 non-null float64\n",
      "jw_score               33042 non-null float64\n",
      "key                    27825 non-null float64\n",
      "letter                 27825 non-null object\n",
      "node_ID                27825 non-null object\n",
      "occ_listed             33042 non-null int64\n",
      "spatial_weight         33042 non-null float64\n",
      "selected               33042 non-null float64\n",
      "graph_ID               33042 non-null int64\n",
      "dtypes: float64(13), int64(11), object(12)\n",
      "memory usage: 9.1+ MB\n"
     ]
    }
   ],
   "source": [
    "disambiguated_1850.info()"
   ]
  },
  {
   "cell_type": "code",
   "execution_count": 6,
   "metadata": {},
   "outputs": [],
   "source": [
    "disambiguated_selected = disambiguated_1850[[\"CENSUS_ID\", \"CD_ADDRESS\", \"selected\" ]]\n",
    "disambiguated_selected = disambiguated_selected[disambiguated_selected[\"selected\"] == 1]\n",
    "disambiguated_selected.loc[:,\"CENSUS_ID\"] = disambiguated_selected[\"CENSUS_ID\"].apply(lambda x: x.strip(\"CENSUS_\"))"
   ]
  },
  {
   "cell_type": "code",
   "execution_count": 7,
   "metadata": {},
   "outputs": [
    {
     "name": "stdout",
     "output_type": "stream",
     "text": [
      "<class 'pandas.core.frame.DataFrame'>\n",
      "Int64Index: 12348 entries, 0 to 33041\n",
      "Data columns (total 3 columns):\n",
      "CENSUS_ID     12348 non-null object\n",
      "CD_ADDRESS    12348 non-null object\n",
      "selected      12348 non-null float64\n",
      "dtypes: float64(1), object(2)\n",
      "memory usage: 385.9+ KB\n"
     ]
    }
   ],
   "source": [
    "disambiguated_selected.info()"
   ]
  },
  {
   "cell_type": "code",
   "execution_count": 8,
   "metadata": {},
   "outputs": [
    {
     "data": {
      "text/html": [
       "<div>\n",
       "<style scoped>\n",
       "    .dataframe tbody tr th:only-of-type {\n",
       "        vertical-align: middle;\n",
       "    }\n",
       "\n",
       "    .dataframe tbody tr th {\n",
       "        vertical-align: top;\n",
       "    }\n",
       "\n",
       "    .dataframe thead th {\n",
       "        text-align: right;\n",
       "    }\n",
       "</style>\n",
       "<table border=\"1\" class=\"dataframe\">\n",
       "  <thead>\n",
       "    <tr style=\"text-align: right;\">\n",
       "      <th></th>\n",
       "      <th>CENSUS_SERIALP</th>\n",
       "      <th>CENSUS_AGE</th>\n",
       "      <th>CENSUS_SEX</th>\n",
       "      <th>CENSUS_MARST</th>\n",
       "      <th>CENSUS_RACE</th>\n",
       "      <th>CENSUS_LABFORCE</th>\n",
       "      <th>CENSUS_IMPREL</th>\n",
       "      <th>CENSUS_OCCSTR</th>\n",
       "      <th>CENSUS_NAMELAST</th>\n",
       "      <th>CENSUS_NAMEFRST</th>\n",
       "      <th>...</th>\n",
       "      <th>CENSUS_PLACE</th>\n",
       "      <th>CENSUS_DWELLING_NUM</th>\n",
       "      <th>CENSUS_DWELLING_SEQ</th>\n",
       "      <th>CENSUS_DWELLING_SIZE</th>\n",
       "      <th>CENSUS_GEOG</th>\n",
       "      <th>CENSUS_LINE</th>\n",
       "      <th>CENSUS_INDEX</th>\n",
       "      <th>CENSUS_ID</th>\n",
       "      <th>CD_ADDRESS</th>\n",
       "      <th>selected</th>\n",
       "    </tr>\n",
       "  </thead>\n",
       "  <tbody>\n",
       "    <tr>\n",
       "      <th>0</th>\n",
       "      <td>2044262</td>\n",
       "      <td>49</td>\n",
       "      <td>1</td>\n",
       "      <td>6</td>\n",
       "      <td>120</td>\n",
       "      <td>2</td>\n",
       "      <td>1</td>\n",
       "      <td>INN KEEPER</td>\n",
       "      <td>FLINT</td>\n",
       "      <td>JOHN M</td>\n",
       "      <td>...</td>\n",
       "      <td>MANHATTAN</td>\n",
       "      <td>1.0</td>\n",
       "      <td>1.0</td>\n",
       "      <td>84</td>\n",
       "      <td>NEW YORK WARD 1 EASTERN DIVISION</td>\n",
       "      <td>10</td>\n",
       "      <td>1</td>\n",
       "      <td>NaN</td>\n",
       "      <td>NaN</td>\n",
       "      <td>NaN</td>\n",
       "    </tr>\n",
       "    <tr>\n",
       "      <th>1</th>\n",
       "      <td>2044263</td>\n",
       "      <td>36</td>\n",
       "      <td>2</td>\n",
       "      <td>6</td>\n",
       "      <td>120</td>\n",
       "      <td>0</td>\n",
       "      <td>1</td>\n",
       "      <td>NaN</td>\n",
       "      <td>FLINT</td>\n",
       "      <td>MARY A</td>\n",
       "      <td>...</td>\n",
       "      <td>MANHATTAN</td>\n",
       "      <td>1.0</td>\n",
       "      <td>1.0</td>\n",
       "      <td>84</td>\n",
       "      <td>NEW YORK WARD 1 EASTERN DIVISION</td>\n",
       "      <td>10</td>\n",
       "      <td>2</td>\n",
       "      <td>NaN</td>\n",
       "      <td>NaN</td>\n",
       "      <td>NaN</td>\n",
       "    </tr>\n",
       "    <tr>\n",
       "      <th>2</th>\n",
       "      <td>2044264</td>\n",
       "      <td>12</td>\n",
       "      <td>2</td>\n",
       "      <td>6</td>\n",
       "      <td>120</td>\n",
       "      <td>0</td>\n",
       "      <td>1</td>\n",
       "      <td>NaN</td>\n",
       "      <td>FLINT</td>\n",
       "      <td>MARY D</td>\n",
       "      <td>...</td>\n",
       "      <td>MANHATTAN</td>\n",
       "      <td>1.0</td>\n",
       "      <td>1.0</td>\n",
       "      <td>84</td>\n",
       "      <td>NEW YORK WARD 1 EASTERN DIVISION</td>\n",
       "      <td>10</td>\n",
       "      <td>3</td>\n",
       "      <td>NaN</td>\n",
       "      <td>NaN</td>\n",
       "      <td>NaN</td>\n",
       "    </tr>\n",
       "    <tr>\n",
       "      <th>3</th>\n",
       "      <td>2044265</td>\n",
       "      <td>40</td>\n",
       "      <td>1</td>\n",
       "      <td>6</td>\n",
       "      <td>120</td>\n",
       "      <td>2</td>\n",
       "      <td>1</td>\n",
       "      <td>COMB MERCHANT</td>\n",
       "      <td>OATMAN</td>\n",
       "      <td>JAMES C</td>\n",
       "      <td>...</td>\n",
       "      <td>MANHATTAN</td>\n",
       "      <td>1.0</td>\n",
       "      <td>1.0</td>\n",
       "      <td>84</td>\n",
       "      <td>NEW YORK WARD 1 EASTERN DIVISION</td>\n",
       "      <td>10</td>\n",
       "      <td>4</td>\n",
       "      <td>NaN</td>\n",
       "      <td>NaN</td>\n",
       "      <td>NaN</td>\n",
       "    </tr>\n",
       "    <tr>\n",
       "      <th>4</th>\n",
       "      <td>2044266</td>\n",
       "      <td>28</td>\n",
       "      <td>2</td>\n",
       "      <td>6</td>\n",
       "      <td>120</td>\n",
       "      <td>0</td>\n",
       "      <td>1</td>\n",
       "      <td>NaN</td>\n",
       "      <td>OATMAN</td>\n",
       "      <td>CAROLINE E</td>\n",
       "      <td>...</td>\n",
       "      <td>MANHATTAN</td>\n",
       "      <td>1.0</td>\n",
       "      <td>1.0</td>\n",
       "      <td>84</td>\n",
       "      <td>NEW YORK WARD 1 EASTERN DIVISION</td>\n",
       "      <td>10</td>\n",
       "      <td>5</td>\n",
       "      <td>NaN</td>\n",
       "      <td>NaN</td>\n",
       "      <td>NaN</td>\n",
       "    </tr>\n",
       "  </tbody>\n",
       "</table>\n",
       "<p>5 rows × 27 columns</p>\n",
       "</div>"
      ],
      "text/plain": [
       "   CENSUS_SERIALP  CENSUS_AGE  CENSUS_SEX  CENSUS_MARST  CENSUS_RACE  \\\n",
       "0         2044262          49           1             6          120   \n",
       "1         2044263          36           2             6          120   \n",
       "2         2044264          12           2             6          120   \n",
       "3         2044265          40           1             6          120   \n",
       "4         2044266          28           2             6          120   \n",
       "\n",
       "   CENSUS_LABFORCE  CENSUS_IMPREL  CENSUS_OCCSTR CENSUS_NAMELAST  \\\n",
       "0                2              1     INN KEEPER           FLINT   \n",
       "1                0              1            NaN           FLINT   \n",
       "2                0              1            NaN           FLINT   \n",
       "3                2              1  COMB MERCHANT          OATMAN   \n",
       "4                0              1            NaN          OATMAN   \n",
       "\n",
       "  CENSUS_NAMEFRST  ...  CENSUS_PLACE  CENSUS_DWELLING_NUM CENSUS_DWELLING_SEQ  \\\n",
       "0          JOHN M  ...     MANHATTAN                  1.0                 1.0   \n",
       "1          MARY A  ...     MANHATTAN                  1.0                 1.0   \n",
       "2          MARY D  ...     MANHATTAN                  1.0                 1.0   \n",
       "3         JAMES C  ...     MANHATTAN                  1.0                 1.0   \n",
       "4      CAROLINE E  ...     MANHATTAN                  1.0                 1.0   \n",
       "\n",
       "   CENSUS_DWELLING_SIZE                       CENSUS_GEOG  CENSUS_LINE  \\\n",
       "0                    84  NEW YORK WARD 1 EASTERN DIVISION           10   \n",
       "1                    84  NEW YORK WARD 1 EASTERN DIVISION           10   \n",
       "2                    84  NEW YORK WARD 1 EASTERN DIVISION           10   \n",
       "3                    84  NEW YORK WARD 1 EASTERN DIVISION           10   \n",
       "4                    84  NEW YORK WARD 1 EASTERN DIVISION           10   \n",
       "\n",
       "   CENSUS_INDEX CENSUS_ID  CD_ADDRESS  selected  \n",
       "0             1       NaN         NaN       NaN  \n",
       "1             2       NaN         NaN       NaN  \n",
       "2             3       NaN         NaN       NaN  \n",
       "3             4       NaN         NaN       NaN  \n",
       "4             5       NaN         NaN       NaN  \n",
       "\n",
       "[5 rows x 27 columns]"
      ]
     },
     "execution_count": 8,
     "metadata": {},
     "output_type": "execute_result"
    }
   ],
   "source": [
    "CensusDis1850 = census_1850.merge(disambiguated_selected, how = \"left\", left_on = \"CENSUS_IPUMS_UID\", right_on = \"CENSUS_ID\")\n",
    "CensusDis1850.head()"
   ]
  },
  {
   "cell_type": "code",
   "execution_count": 9,
   "metadata": {},
   "outputs": [
    {
     "name": "stdout",
     "output_type": "stream",
     "text": [
      "<class 'pandas.core.frame.DataFrame'>\n",
      "Int64Index: 515630 entries, 0 to 515629\n",
      "Data columns (total 27 columns):\n",
      "CENSUS_SERIALP             515630 non-null int64\n",
      "CENSUS_AGE                 515630 non-null int64\n",
      "CENSUS_SEX                 515630 non-null int64\n",
      "CENSUS_MARST               515630 non-null int64\n",
      "CENSUS_RACE                515630 non-null int64\n",
      "CENSUS_LABFORCE            515630 non-null int64\n",
      "CENSUS_IMPREL              515630 non-null int64\n",
      "CENSUS_OCCSTR              160426 non-null object\n",
      "CENSUS_NAMELAST            515546 non-null object\n",
      "CENSUS_NAMEFRST            515046 non-null object\n",
      "CENSUS_SEQ_NUM             515630 non-null int64\n",
      "CENSUS_HH_NUM              515630 non-null int64\n",
      "CENSUS_IPUMS_UID           515630 non-null object\n",
      "CENSUS_CITY                515630 non-null int64\n",
      "CENSUS_PAGENO_HOUSEHOLD    515630 non-null int64\n",
      "CENSUS_WARD_NUM            515630 non-null int64\n",
      "CENSUS_REEL_HOUSEHOLD      515630 non-null int64\n",
      "CENSUS_PLACE               515630 non-null object\n",
      "CENSUS_DWELLING_NUM        514718 non-null float64\n",
      "CENSUS_DWELLING_SEQ        514020 non-null float64\n",
      "CENSUS_DWELLING_SIZE       515630 non-null int64\n",
      "CENSUS_GEOG                514918 non-null object\n",
      "CENSUS_LINE                515630 non-null int64\n",
      "CENSUS_INDEX               515630 non-null int64\n",
      "CENSUS_ID                  12348 non-null object\n",
      "CD_ADDRESS                 12348 non-null object\n",
      "selected                   12348 non-null float64\n",
      "dtypes: float64(3), int64(16), object(8)\n",
      "memory usage: 110.2+ MB\n"
     ]
    }
   ],
   "source": [
    "CensusDis1850.info()"
   ]
  },
  {
   "cell_type": "code",
   "execution_count": 10,
   "metadata": {},
   "outputs": [
    {
     "name": "stdout",
     "output_type": "stream",
     "text": [
      "Proportion of census data assigned addresses: 0.023947404146384035\n"
     ]
    }
   ],
   "source": [
    "print(\"Proportion of census data assigned addresses:\", CensusDis1850.CD_ADDRESS.count()/515630)"
   ]
  },
  {
   "cell_type": "markdown",
   "metadata": {},
   "source": [
    "#### Fill in addresses for census entries in the same household"
   ]
  },
  {
   "cell_type": "code",
   "execution_count": 11,
   "metadata": {},
   "outputs": [],
   "source": [
    "#confirm that household numbers are unique accross the entire dataset\n",
    "def uniqueness(df, col):\n",
    "    df_check = df[[\"CENSUS_WARD_NUM\", col]]\n",
    "    df2 = df_check.groupby(\"CENSUS_WARD_NUM\").apply(lambda x: x[col].unique())\n",
    "    d = df2.to_dict()\n",
    "    for key1 in d:\n",
    "        for key2 in d:\n",
    "            if key1 != key2:\n",
    "                check = any(item in d[key1] for item in d[key2])\n",
    "                if check is True:\n",
    "                    print(key1, key2)\n",
    "                    raise Exception(str(col) + \" numbers are not unique\")\n",
    "    return True         "
   ]
  },
  {
   "cell_type": "code",
   "execution_count": 12,
   "metadata": {},
   "outputs": [
    {
     "data": {
      "text/plain": [
       "True"
      ]
     },
     "execution_count": 12,
     "metadata": {},
     "output_type": "execute_result"
    }
   ],
   "source": [
    "uniqueness(CensusDis1850, \"CENSUS_HH_NUM\")"
   ]
  },
  {
   "cell_type": "code",
   "execution_count": 14,
   "metadata": {},
   "outputs": [
    {
     "name": "stdout",
     "output_type": "stream",
     "text": [
      "1 2\n"
     ]
    },
    {
     "ename": "Exception",
     "evalue": "CENSUS_DWELLING_NUM numbers are not unique",
     "output_type": "error",
     "traceback": [
      "\u001b[0;31m---------------------------------------------------------------------------\u001b[0m",
      "\u001b[0;31mException\u001b[0m                                 Traceback (most recent call last)",
      "\u001b[0;32m<ipython-input-14-a454716018e6>\u001b[0m in \u001b[0;36m<module>\u001b[0;34m\u001b[0m\n\u001b[0;32m----> 1\u001b[0;31m \u001b[0muniqueness\u001b[0m\u001b[0;34m(\u001b[0m\u001b[0mCensusDis1850\u001b[0m\u001b[0;34m,\u001b[0m \u001b[0;34m\"CENSUS_DWELLING_NUM\"\u001b[0m\u001b[0;34m)\u001b[0m\u001b[0;34m\u001b[0m\u001b[0;34m\u001b[0m\u001b[0m\n\u001b[0m",
      "\u001b[0;32m<ipython-input-11-274d68d83442>\u001b[0m in \u001b[0;36muniqueness\u001b[0;34m(df, col)\u001b[0m\n\u001b[1;32m     10\u001b[0m                 \u001b[0;32mif\u001b[0m \u001b[0mcheck\u001b[0m \u001b[0;32mis\u001b[0m \u001b[0;32mTrue\u001b[0m\u001b[0;34m:\u001b[0m\u001b[0;34m\u001b[0m\u001b[0;34m\u001b[0m\u001b[0m\n\u001b[1;32m     11\u001b[0m                     \u001b[0mprint\u001b[0m\u001b[0;34m(\u001b[0m\u001b[0mkey1\u001b[0m\u001b[0;34m,\u001b[0m \u001b[0mkey2\u001b[0m\u001b[0;34m)\u001b[0m\u001b[0;34m\u001b[0m\u001b[0;34m\u001b[0m\u001b[0m\n\u001b[0;32m---> 12\u001b[0;31m                     \u001b[0;32mraise\u001b[0m \u001b[0mException\u001b[0m\u001b[0;34m(\u001b[0m\u001b[0mstr\u001b[0m\u001b[0;34m(\u001b[0m\u001b[0mcol\u001b[0m\u001b[0;34m)\u001b[0m \u001b[0;34m+\u001b[0m \u001b[0;34m\" numbers are not unique\"\u001b[0m\u001b[0;34m)\u001b[0m\u001b[0;34m\u001b[0m\u001b[0;34m\u001b[0m\u001b[0m\n\u001b[0m\u001b[1;32m     13\u001b[0m     \u001b[0;32mreturn\u001b[0m \u001b[0;32mTrue\u001b[0m\u001b[0;34m\u001b[0m\u001b[0;34m\u001b[0m\u001b[0m\n",
      "\u001b[0;31mException\u001b[0m: CENSUS_DWELLING_NUM numbers are not unique"
     ]
    }
   ],
   "source": [
    "uniqueness(CensusDis1850, \"CENSUS_DWELLING_NUM\")"
   ]
  },
  {
   "cell_type": "code",
   "execution_count": 15,
   "metadata": {},
   "outputs": [
    {
     "data": {
      "text/plain": [
       "True"
      ]
     },
     "execution_count": 15,
     "metadata": {},
     "output_type": "execute_result"
    }
   ],
   "source": [
    "uniqueness(CensusDis1850, \"CENSUS_SERIALP\")"
   ]
  },
  {
   "cell_type": "code",
   "execution_count": 11,
   "metadata": {},
   "outputs": [],
   "source": [
    "#Function for filling in households/dwelling numbers if relevant\n",
    "def check_quant(x, exceptions, col, tuple = False):\n",
    "\n",
    "    c = x[\"CD_ADDRESS\"].nunique()\n",
    "    if c == 0:\n",
    "        if tuple:\n",
    "            exceptions.append((x[\"CENSUS_WARD_NUM\"].iloc[0], x[col].iloc[0]))\n",
    "        else:\n",
    "            exceptions.append(x[col].iloc[0])\n",
    "    elif c == 1:\n",
    "        x[\"CD_ADDRESS\"] = x[\"CD_ADDRESS\"].ffill().bfill()\n",
    "  \n",
    "    return x"
   ]
  },
  {
   "cell_type": "code",
   "execution_count": 17,
   "metadata": {},
   "outputs": [],
   "source": [
    "#Filling addresses for people in the same household\n",
    "households = [] # keep track of any households with multiple addresses \n",
    "Census_hh = CensusDis1850.groupby(\"CENSUS_HH_NUM\").apply(lambda x: check_quant(x, households, \"CENSUS_HH_NUM\"))"
   ]
  },
  {
   "cell_type": "code",
   "execution_count": 18,
   "metadata": {},
   "outputs": [
    {
     "name": "stdout",
     "output_type": "stream",
     "text": [
      "<class 'pandas.core.frame.DataFrame'>\n",
      "Int64Index: 515630 entries, 0 to 515629\n",
      "Data columns (total 27 columns):\n",
      "CENSUS_SERIALP             515630 non-null int64\n",
      "CENSUS_AGE                 515630 non-null int64\n",
      "CENSUS_SEX                 515630 non-null int64\n",
      "CENSUS_MARST               515630 non-null int64\n",
      "CENSUS_RACE                515630 non-null int64\n",
      "CENSUS_LABFORCE            515630 non-null int64\n",
      "CENSUS_IMPREL              515630 non-null int64\n",
      "CENSUS_OCCSTR              160426 non-null object\n",
      "CENSUS_NAMELAST            515546 non-null object\n",
      "CENSUS_NAMEFRST            515046 non-null object\n",
      "CENSUS_SEQ_NUM             515630 non-null int64\n",
      "CENSUS_HH_NUM              515630 non-null int64\n",
      "CENSUS_IPUMS_UID           515630 non-null object\n",
      "CENSUS_CITY                515630 non-null int64\n",
      "CENSUS_PAGENO_HOUSEHOLD    515630 non-null int64\n",
      "CENSUS_WARD_NUM            515630 non-null int64\n",
      "CENSUS_REEL_HOUSEHOLD      515630 non-null int64\n",
      "CENSUS_PLACE               515630 non-null object\n",
      "CENSUS_DWELLING_NUM        514718 non-null float64\n",
      "CENSUS_DWELLING_SEQ        514020 non-null float64\n",
      "CENSUS_DWELLING_SIZE       515630 non-null int64\n",
      "CENSUS_GEOG                514918 non-null object\n",
      "CENSUS_LINE                515630 non-null int64\n",
      "CENSUS_INDEX               515630 non-null int64\n",
      "CENSUS_ID                  12348 non-null object\n",
      "CD_ADDRESS                 45034 non-null object\n",
      "selected                   12348 non-null float64\n",
      "dtypes: float64(3), int64(16), object(8)\n",
      "memory usage: 110.2+ MB\n"
     ]
    }
   ],
   "source": [
    "Census_hh.info()"
   ]
  },
  {
   "cell_type": "code",
   "execution_count": 19,
   "metadata": {},
   "outputs": [
    {
     "data": {
      "text/plain": [
       "372"
      ]
     },
     "execution_count": 19,
     "metadata": {},
     "output_type": "execute_result"
    }
   ],
   "source": [
    "#These households need to be inspected more carefully, it seems that they\n",
    "#have been assigned multiple addresses\n",
    "len(households)"
   ]
  },
  {
   "cell_type": "code",
   "execution_count": 32,
   "metadata": {},
   "outputs": [],
   "source": [
    "with open('data/housholds.txt', 'w') as filehandle:\n",
    "    for listitem in households:\n",
    "        filehandle.write('%s\\n' % listitem)"
   ]
  },
  {
   "cell_type": "code",
   "execution_count": 22,
   "metadata": {},
   "outputs": [
    {
     "data": {
      "text/html": [
       "<div>\n",
       "<style scoped>\n",
       "    .dataframe tbody tr th:only-of-type {\n",
       "        vertical-align: middle;\n",
       "    }\n",
       "\n",
       "    .dataframe tbody tr th {\n",
       "        vertical-align: top;\n",
       "    }\n",
       "\n",
       "    .dataframe thead th {\n",
       "        text-align: right;\n",
       "    }\n",
       "</style>\n",
       "<table border=\"1\" class=\"dataframe\">\n",
       "  <thead>\n",
       "    <tr style=\"text-align: right;\">\n",
       "      <th></th>\n",
       "      <th>CENSUS_NAMEFRST</th>\n",
       "      <th>CENSUS_NAMELAST</th>\n",
       "      <th>CENSUS_AGE</th>\n",
       "      <th>CENSUS_SEX</th>\n",
       "      <th>CENSUS_OCCSTR</th>\n",
       "      <th>CENSUS_HH_NUM</th>\n",
       "      <th>CENSUS_DWELLING_NUM</th>\n",
       "      <th>CD_ADDRESS</th>\n",
       "    </tr>\n",
       "  </thead>\n",
       "  <tbody>\n",
       "    <tr>\n",
       "      <th>15031</th>\n",
       "      <td>MICHAEL</td>\n",
       "      <td>MORAN</td>\n",
       "      <td>48</td>\n",
       "      <td>1</td>\n",
       "      <td>LABORER</td>\n",
       "      <td>409771</td>\n",
       "      <td>405.0</td>\n",
       "      <td>46 Trinity pl</td>\n",
       "    </tr>\n",
       "    <tr>\n",
       "      <th>15032</th>\n",
       "      <td>CECILIA</td>\n",
       "      <td>MORAN</td>\n",
       "      <td>42</td>\n",
       "      <td>2</td>\n",
       "      <td>NaN</td>\n",
       "      <td>409771</td>\n",
       "      <td>405.0</td>\n",
       "      <td>NaN</td>\n",
       "    </tr>\n",
       "    <tr>\n",
       "      <th>15033</th>\n",
       "      <td>CECILIA</td>\n",
       "      <td>MORAN</td>\n",
       "      <td>15</td>\n",
       "      <td>2</td>\n",
       "      <td>NaN</td>\n",
       "      <td>409771</td>\n",
       "      <td>405.0</td>\n",
       "      <td>NaN</td>\n",
       "    </tr>\n",
       "    <tr>\n",
       "      <th>15034</th>\n",
       "      <td>FRANCIS</td>\n",
       "      <td>MORAN</td>\n",
       "      <td>8</td>\n",
       "      <td>1</td>\n",
       "      <td>NaN</td>\n",
       "      <td>409771</td>\n",
       "      <td>405.0</td>\n",
       "      <td>42 Whitehall</td>\n",
       "    </tr>\n",
       "    <tr>\n",
       "      <th>15035</th>\n",
       "      <td>JULIAN</td>\n",
       "      <td>MORAN</td>\n",
       "      <td>4</td>\n",
       "      <td>2</td>\n",
       "      <td>NaN</td>\n",
       "      <td>409771</td>\n",
       "      <td>405.0</td>\n",
       "      <td>NaN</td>\n",
       "    </tr>\n",
       "  </tbody>\n",
       "</table>\n",
       "</div>"
      ],
      "text/plain": [
       "      CENSUS_NAMEFRST CENSUS_NAMELAST  CENSUS_AGE  CENSUS_SEX CENSUS_OCCSTR  \\\n",
       "15031         MICHAEL           MORAN          48           1       LABORER   \n",
       "15032         CECILIA           MORAN          42           2           NaN   \n",
       "15033         CECILIA           MORAN          15           2           NaN   \n",
       "15034         FRANCIS           MORAN           8           1           NaN   \n",
       "15035          JULIAN           MORAN           4           2           NaN   \n",
       "\n",
       "       CENSUS_HH_NUM  CENSUS_DWELLING_NUM     CD_ADDRESS  \n",
       "15031         409771                405.0  46 Trinity pl  \n",
       "15032         409771                405.0            NaN  \n",
       "15033         409771                405.0            NaN  \n",
       "15034         409771                405.0   42 Whitehall  \n",
       "15035         409771                405.0            NaN  "
      ]
     },
     "execution_count": 22,
     "metadata": {},
     "output_type": "execute_result"
    }
   ],
   "source": [
    "x = Census_hh[Census_hh[\"CENSUS_HH_NUM\"] == households[7]]\n",
    "x[[\"CENSUS_NAMEFRST\", \"CENSUS_NAMELAST\", \"CENSUS_AGE\", \"CENSUS_SEX\", \"CENSUS_OCCSTR\", \"CENSUS_HH_NUM\",\"CENSUS_DWELLING_NUM\", \"CD_ADDRESS\"]]"
   ]
  },
  {
   "cell_type": "code",
   "execution_count": 23,
   "metadata": {},
   "outputs": [
    {
     "name": "stdout",
     "output_type": "stream",
     "text": [
      "Proportion of census data assigned addresses: 0.08624691660665859\n"
     ]
    }
   ],
   "source": [
    "print(\"Proportion of census data assigned addresses:\", Census_hh[\"CD_ADDRESS\"].count()/522152)"
   ]
  },
  {
   "cell_type": "code",
   "execution_count": 24,
   "metadata": {},
   "outputs": [],
   "source": [
    "Census_hh.to_csv(\"data/Census_1850_household.csv\", index = False)"
   ]
  },
  {
   "cell_type": "markdown",
   "metadata": {},
   "source": [
    "#### Use IPUMs household number"
   ]
  },
  {
   "cell_type": "code",
   "execution_count": 25,
   "metadata": {},
   "outputs": [],
   "source": [
    "Census_hh = pd.read_csv(\"data/Census_1850_household.csv\")"
   ]
  },
  {
   "cell_type": "code",
   "execution_count": 26,
   "metadata": {},
   "outputs": [],
   "source": [
    "households_IPUMS = []\n",
    "Census_hh_IPUMS = Census_hh.groupby(\"CENSUS_SERIALP\").apply(lambda x: check_quant(x, households_IPUMS, \"CENSUS_SERIALP\"))"
   ]
  },
  {
   "cell_type": "code",
   "execution_count": 27,
   "metadata": {},
   "outputs": [
    {
     "name": "stdout",
     "output_type": "stream",
     "text": [
      "Proportion of census data assigned addresses: 0.1384175489129602\n"
     ]
    }
   ],
   "source": [
    "print(\"Proportion of census data assigned addresses:\", Census_hh_IPUMS[\"CD_ADDRESS\"].count()/522152)"
   ]
  },
  {
   "cell_type": "code",
   "execution_count": 28,
   "metadata": {},
   "outputs": [
    {
     "data": {
      "text/plain": [
       "751"
      ]
     },
     "execution_count": 28,
     "metadata": {},
     "output_type": "execute_result"
    }
   ],
   "source": [
    "len(households_IPUMS)"
   ]
  },
  {
   "cell_type": "code",
   "execution_count": 31,
   "metadata": {},
   "outputs": [],
   "source": [
    "with open('data/housholds_IPUMS.txt', 'w') as filehandle:\n",
    "    for listitem in households_IPUMS:\n",
    "        filehandle.write('%s\\n' % listitem)"
   ]
  },
  {
   "cell_type": "code",
   "execution_count": 35,
   "metadata": {},
   "outputs": [],
   "source": [
    "Census_hh_IPUMS.to_csv(\"data/Census_1850_household_IPUMS.csv\", index = False)"
   ]
  },
  {
   "cell_type": "markdown",
   "metadata": {},
   "source": [
    "#### Fill in address for census entries with same dwelling number"
   ]
  },
  {
   "cell_type": "code",
   "execution_count": 36,
   "metadata": {},
   "outputs": [],
   "source": [
    "#Filling addresses for people in the same household\n",
    "dwellings = [] # keep track of any dwellings with multiple addresses \n",
    "Census_hh_dw = Census_hh_IPUMS.groupby([\"CENSUS_WARD_NUM\",\"CENSUS_DWELLING_NUM\"]).apply(lambda x: check_quant(x, dwellings, \"CENSUS_DWELLING_NUM\", tuple = True))"
   ]
  },
  {
   "cell_type": "code",
   "execution_count": 37,
   "metadata": {},
   "outputs": [
    {
     "name": "stdout",
     "output_type": "stream",
     "text": [
      "Proportion of census data assigned addresses: 0.3579436639139561\n"
     ]
    }
   ],
   "source": [
    "print(\"Proportion of census data assigned addresses:\", Census_hh_dw[\"CD_ADDRESS\"].count()/522152)"
   ]
  },
  {
   "cell_type": "code",
   "execution_count": 38,
   "metadata": {},
   "outputs": [
    {
     "data": {
      "text/plain": [
       "2624"
      ]
     },
     "execution_count": 38,
     "metadata": {},
     "output_type": "execute_result"
    }
   ],
   "source": [
    "#Dwellings that are assigned more than one address\n",
    "len(dwellings)"
   ]
  },
  {
   "cell_type": "code",
   "execution_count": 41,
   "metadata": {},
   "outputs": [],
   "source": [
    "with open('data/dwellings.txt', 'w') as filehandle:\n",
    "    for listitem in dwellings:\n",
    "        line = ' '.join(str(x) for x in listitem)\n",
    "        filehandle.write(line + '\\n')"
   ]
  },
  {
   "cell_type": "code",
   "execution_count": 42,
   "metadata": {},
   "outputs": [],
   "source": [
    "Census_hh_dw.to_csv(\"data/Census_1850_dwellings.csv\", index = False)"
   ]
  },
  {
   "cell_type": "markdown",
   "metadata": {},
   "source": [
    "#### Check Number of Dwellings with No Address at All"
   ]
  },
  {
   "cell_type": "code",
   "execution_count": 15,
   "metadata": {},
   "outputs": [],
   "source": [
    "Census_hh = pd.read_csv(\"data/Census_1850_household_IPUMS.csv\")"
   ]
  },
  {
   "cell_type": "code",
   "execution_count": 16,
   "metadata": {},
   "outputs": [],
   "source": [
    "dwellings = [] # keep track of any dwellings with multiple addresses \n",
    "Census_hh_dw = Census_hh.groupby([\"CENSUS_WARD_NUM\",\"CENSUS_DWELLING_NUM\"]).apply(lambda x: check_quant(x, dwellings, \"CENSUS_DWELLING_NUM\", tuple = True))"
   ]
  },
  {
   "cell_type": "code",
   "execution_count": 17,
   "metadata": {},
   "outputs": [
    {
     "data": {
      "text/plain": [
       "12285"
      ]
     },
     "execution_count": 17,
     "metadata": {},
     "output_type": "execute_result"
    }
   ],
   "source": [
    "len(dwellings)"
   ]
  },
  {
   "cell_type": "markdown",
   "metadata": {},
   "source": [
    "#### Issue: There are both households and dwellings that are assigned multiple addresses\n",
    "- Potential cause: an incorrect match -- it may make sense to incorporate that dwellings/households may have only a single match within the disambiguation process\n",
    "    - possible approach: two levels of bipartite matching for household and dwellings\n",
    "    - possible approach: incorporate into initial bipartite matching\n",
    "\n",
    "- Potential cause: dwellings/households that are referred to by multiple addresses - ei corner building, maybe a historical address change, streets with two names (Avenue of the Americas/6th Ave), etc.\n",
    "    - standardization can help "
   ]
  },
  {
   "cell_type": "markdown",
   "metadata": {},
   "source": [
    "### Enumeration Patterns\n",
    "\n",
    "Notes: For this section I used the 1880 data since it allows for checking accuracy"
   ]
  },
  {
   "cell_type": "markdown",
   "metadata": {},
   "source": [
    "#### Problem: How do we decide what records form a sequence?\n",
    "- There is information on this in the raw data (dates/etc.) but it hasn't been transcribed\n",
    "- EDA work on this for 1910 data (in the scripts section of census_processing)\n",
    "- How can we do this in a way that can be applied accross the whole dataset?\n",
    "\n",
    "#### What do we have to work with (given that we want to do this in a way that it can be used for the 1850 dataset)?\n",
    "- The order of the census points\n",
    "- Ward level divisions\n",
    "- Have data columns CENSUS_SEQ_NUM and CENSUS_DWELLING_SEQ (1850 dataset) which sound like they could be helpful, but there's a lack of documentation as to what they are for.\n",
    "\n",
    "#### How can we check whether or not this is working?\n",
    "- Visualization -- check if what's considered a continuous sequence is actually continuous visually\n",
    "- Look at oringal data source to see if this fits with what we can see there (this might matter less because if the paths are in an order then whether or not they were actually done on the same day for example doesn't matter so much as long as order is consistent)\n",
    "- When actually assigning addresses we can use benchmarking similarly to the disambiguation process\n",
    "\n",
    "#### What we are trying to avoid:\n",
    "- Scenario where the next entry in the census is for an address not near the previous one but assigned an address corresponding to house near by\n",
    "    - started somewhere new on the next day\n",
    "    - going back for people that weren't home the first time around\n",
    "    - random chance events that change pattern\n",
    "    \n",
    "#### Approaches to consider:\n",
    "- Could we use clustering to decide which entries to include?\n",
    "- Is there an average number of households that we can extrapolate to as a general rule?\n",
    "- Could we use some sort of sequence to sequence neural network approach?\n",
    "- What if we start by looking at dwellings between dwellings with already matched addresses in the enumeration process?\n",
    "    * ei: if we had dwelling 1 with a matched address, dwelling 2 without an address, and dwelling 3 with a matched address we could probably figure out a reasonable address for dwelling 2\n",
    "- Could we think about this like sentence or token division in NLP? We don't really have a grammer here but it could be a useful approach -- maybe we could think about it the way it's done for languages that haven't been decoded?\n",
    "- Could we train a model to separate out sequences based on 1880 (ei: we pass the model a list/array of the dwelling numbers in order) and it separates them into sequences that are enumerated together and geocoded as consecutive? Then apply this to the 1850 model\n",
    "    - I think this is worth trying\n",
    "    - perhaps a sequence to sequence model?\n",
    "      - I'm not super sure what the labels should look like or what the output should look like\n",
    "      - secondly I'm not sure how well it will generalize to 1850, since it's still sequence division it seems like it could work\n",
    "- Would it make sense to use multiple approaches to try and prevent errors?"
   ]
  },
  {
   "cell_type": "markdown",
   "metadata": {},
   "source": [
    "#### Approach 1: Extrapolating addresses looking at wards when we have two matches for addresses on the same street  "
   ]
  },
  {
   "cell_type": "code",
   "execution_count": 73,
   "metadata": {},
   "outputs": [],
   "source": [
    "# First let's check to see how often this occurs in the 1850 data to see if it makes sense as an approach\n",
    "Census_Addresses = Census_hh_dw[Census_hh_dw['CD_ADDRESS'].notna()]"
   ]
  },
  {
   "cell_type": "code",
   "execution_count": 75,
   "metadata": {},
   "outputs": [],
   "source": [
    "Census_Addresses = Census_Addresses.groupby([\"CENSUS_WARD_NUM\", \"CENSUS_DWELLING_NUM\"]).first()"
   ]
  },
  {
   "cell_type": "code",
   "execution_count": 208,
   "metadata": {},
   "outputs": [],
   "source": [
    "Census_Addresses[\"STREET_NAME\"] = Census_Addresses[\"CD_ADDRESS\"].str.extract(r'([A-Za-z\\s]+)')"
   ]
  },
  {
   "cell_type": "code",
   "execution_count": 209,
   "metadata": {},
   "outputs": [],
   "source": [
    "Census_Addresses[\"STREET_NAME\"] = Census_Addresses[\"STREET_NAME\"].str.strip()"
   ]
  },
  {
   "cell_type": "markdown",
   "metadata": {},
   "source": [
    "#### Let's look at how many instances we have where two known street names are the same"
   ]
  },
  {
   "cell_type": "code",
   "execution_count": 210,
   "metadata": {},
   "outputs": [
    {
     "name": "stdout",
     "output_type": "stream",
     "text": [
      "<class 'pandas.core.frame.DataFrame'>\n",
      "MultiIndex: 7540 entries, (1.0, 1.0) to (19.0, 1688.0)\n",
      "Data columns (total 26 columns):\n",
      "CENSUS_SERIALP             7540 non-null float64\n",
      "CENSUS_AGE                 7540 non-null float64\n",
      "CENSUS_SEX                 7540 non-null float64\n",
      "CENSUS_MARST               7540 non-null float64\n",
      "CENSUS_RACE                7540 non-null float64\n",
      "CENSUS_LABFORCE            7540 non-null float64\n",
      "CENSUS_IMPREL              7540 non-null float64\n",
      "CENSUS_OCCSTR              7502 non-null object\n",
      "CENSUS_NAMELAST            7540 non-null object\n",
      "CENSUS_NAMEFRST            7540 non-null object\n",
      "CENSUS_SEQ_NUM             7540 non-null float64\n",
      "CENSUS_HH_NUM              7540 non-null float64\n",
      "CENSUS_IPUMS_UID           7540 non-null object\n",
      "CENSUS_CITY                7540 non-null float64\n",
      "CENSUS_PAGENO_HOUSEHOLD    7540 non-null float64\n",
      "CENSUS_REEL_HOUSEHOLD      7540 non-null float64\n",
      "CENSUS_PLACE               7540 non-null object\n",
      "CENSUS_DWELLING_SEQ        7536 non-null float64\n",
      "CENSUS_DWELLING_SIZE       7540 non-null float64\n",
      "CENSUS_GEOG                7539 non-null object\n",
      "CENSUS_LINE                7540 non-null float64\n",
      "CENSUS_INDEX               7540 non-null float64\n",
      "CENSUS_ID                  7524 non-null object\n",
      "CD_ADDRESS                 7540 non-null object\n",
      "selected                   7524 non-null float64\n",
      "STREET_NAME                7538 non-null object\n",
      "dtypes: float64(17), object(9)\n",
      "memory usage: 1.9+ MB\n"
     ]
    }
   ],
   "source": [
    "Census_Addresses.info()"
   ]
  },
  {
   "cell_type": "code",
   "execution_count": 17,
   "metadata": {},
   "outputs": [],
   "source": [
    "#Note, I did it this way because I wanted this to happen within groups but I'm not sure this\n",
    "#is the best approach, but it worked and didn't take too long\n",
    "#check that census id is at the dwelling level (there's a good chance it might not be)\n",
    "#would dwelling number work well here, especially since it's at the ward level? And clearly\n",
    "#represents order of enumeration\n",
    "def comp_streets(x):\n",
    "    if x[\"STREET_NAME\"] == x[\"STREET_NAME_NEXT\"]:\n",
    "        return x[\"index_next\"] - x[\"CENSUS_INDEX\"]\n",
    "    else:\n",
    "        return None\n",
    "def comp_streets_df(df):\n",
    "    df[\"STREET_NAME_NEXT\"] = df[\"STREET_NAME\"].shift(-1)\n",
    "    df[\"index_next\"] = df[\"CENSUS_INDEX\"].shift(-1)\n",
    "    df[\"index_diff\"] = df.apply(comp_streets, axis = 1)\n",
    "    return df"
   ]
  },
  {
   "cell_type": "code",
   "execution_count": null,
   "metadata": {},
   "outputs": [],
   "source": [
    "Census_Addresses = Census_Addresses.groupby(\"CENSUS_WARD_NUM\").apply(comp_streets_df) "
   ]
  },
  {
   "cell_type": "code",
   "execution_count": 212,
   "metadata": {
    "scrolled": false
   },
   "outputs": [],
   "source": [
    "valids = Census_Addresses[(Census_Addresses[\"index_diff\"].notnull()) & (Census_Addresses[\"index_diff\"] <= 20)]"
   ]
  },
  {
   "cell_type": "code",
   "execution_count": 213,
   "metadata": {
    "scrolled": false
   },
   "outputs": [],
   "source": [
    "notnull = Census_Addresses[Census_Addresses[\"index_diff\"].notnull()]"
   ]
  },
  {
   "cell_type": "code",
   "execution_count": 218,
   "metadata": {},
   "outputs": [
    {
     "data": {
      "text/plain": [
       "965"
      ]
     },
     "execution_count": 218,
     "metadata": {},
     "output_type": "execute_result"
    }
   ],
   "source": [
    "len(valids)"
   ]
  },
  {
   "cell_type": "code",
   "execution_count": 217,
   "metadata": {},
   "outputs": [
    {
     "data": {
      "text/html": [
       "<div>\n",
       "<style scoped>\n",
       "    .dataframe tbody tr th:only-of-type {\n",
       "        vertical-align: middle;\n",
       "    }\n",
       "\n",
       "    .dataframe tbody tr th {\n",
       "        vertical-align: top;\n",
       "    }\n",
       "\n",
       "    .dataframe thead th {\n",
       "        text-align: right;\n",
       "    }\n",
       "</style>\n",
       "<table border=\"1\" class=\"dataframe\">\n",
       "  <thead>\n",
       "    <tr style=\"text-align: right;\">\n",
       "      <th></th>\n",
       "      <th></th>\n",
       "      <th>CENSUS_SERIALP</th>\n",
       "      <th>CENSUS_AGE</th>\n",
       "      <th>CENSUS_SEX</th>\n",
       "      <th>CENSUS_MARST</th>\n",
       "      <th>CENSUS_RACE</th>\n",
       "      <th>CENSUS_LABFORCE</th>\n",
       "      <th>CENSUS_IMPREL</th>\n",
       "      <th>CENSUS_OCCSTR</th>\n",
       "      <th>CENSUS_NAMELAST</th>\n",
       "      <th>CENSUS_NAMEFRST</th>\n",
       "      <th>...</th>\n",
       "      <th>CENSUS_GEOG</th>\n",
       "      <th>CENSUS_LINE</th>\n",
       "      <th>CENSUS_INDEX</th>\n",
       "      <th>CENSUS_ID</th>\n",
       "      <th>CD_ADDRESS</th>\n",
       "      <th>selected</th>\n",
       "      <th>STREET_NAME</th>\n",
       "      <th>STREET_NAME_NEXT</th>\n",
       "      <th>index_next</th>\n",
       "      <th>index_diff</th>\n",
       "    </tr>\n",
       "    <tr>\n",
       "      <th>CENSUS_WARD_NUM</th>\n",
       "      <th>CENSUS_DWELLING_NUM</th>\n",
       "      <th></th>\n",
       "      <th></th>\n",
       "      <th></th>\n",
       "      <th></th>\n",
       "      <th></th>\n",
       "      <th></th>\n",
       "      <th></th>\n",
       "      <th></th>\n",
       "      <th></th>\n",
       "      <th></th>\n",
       "      <th></th>\n",
       "      <th></th>\n",
       "      <th></th>\n",
       "      <th></th>\n",
       "      <th></th>\n",
       "      <th></th>\n",
       "      <th></th>\n",
       "      <th></th>\n",
       "      <th></th>\n",
       "      <th></th>\n",
       "      <th></th>\n",
       "    </tr>\n",
       "  </thead>\n",
       "  <tbody>\n",
       "    <tr>\n",
       "      <th>2.0</th>\n",
       "      <th>432.0</th>\n",
       "      <td>2049414.0</td>\n",
       "      <td>53.0</td>\n",
       "      <td>1.0</td>\n",
       "      <td>1.0</td>\n",
       "      <td>120.0</td>\n",
       "      <td>2.0</td>\n",
       "      <td>1.0</td>\n",
       "      <td>BOARDING HOUSE</td>\n",
       "      <td>SHERWOOD</td>\n",
       "      <td>BENJ</td>\n",
       "      <td>...</td>\n",
       "      <td>NEW YORK WARD 2</td>\n",
       "      <td>230.0</td>\n",
       "      <td>26409.0</td>\n",
       "      <td>fbe31ee5-cf17-4cb2-9b80-2c6fb01895f9</td>\n",
       "      <td>222 Water</td>\n",
       "      <td>1.0</td>\n",
       "      <td>Water</td>\n",
       "      <td>NaN</td>\n",
       "      <td>NaN</td>\n",
       "      <td>NaN</td>\n",
       "    </tr>\n",
       "    <tr>\n",
       "      <th rowspan=\"4\" valign=\"top\">3.0</th>\n",
       "      <th>5.0</th>\n",
       "      <td>2049419.0</td>\n",
       "      <td>36.0</td>\n",
       "      <td>1.0</td>\n",
       "      <td>6.0</td>\n",
       "      <td>120.0</td>\n",
       "      <td>2.0</td>\n",
       "      <td>1.0</td>\n",
       "      <td>BANK TELLER</td>\n",
       "      <td>FAIRCHILD</td>\n",
       "      <td>GEORGE E</td>\n",
       "      <td>...</td>\n",
       "      <td>NEW YORK WARD 3</td>\n",
       "      <td>50.0</td>\n",
       "      <td>26495.0</td>\n",
       "      <td>e32ab9d9-9104-4671-8e63-a710d35fc4f9</td>\n",
       "      <td>131 Liberty</td>\n",
       "      <td>1.0</td>\n",
       "      <td>Liberty</td>\n",
       "      <td>Liberty</td>\n",
       "      <td>26566.0</td>\n",
       "      <td>71</td>\n",
       "    </tr>\n",
       "    <tr>\n",
       "      <th>11.0</th>\n",
       "      <td>2049430.0</td>\n",
       "      <td>50.0</td>\n",
       "      <td>1.0</td>\n",
       "      <td>1.0</td>\n",
       "      <td>120.0</td>\n",
       "      <td>2.0</td>\n",
       "      <td>1.0</td>\n",
       "      <td>MERCHANT</td>\n",
       "      <td>JACOBSON</td>\n",
       "      <td>ISAAC</td>\n",
       "      <td>...</td>\n",
       "      <td>NEW YORK WARD 3</td>\n",
       "      <td>340.0</td>\n",
       "      <td>26566.0</td>\n",
       "      <td>e3849bb8-5d9b-4c9b-8698-1ce467cdc4d1</td>\n",
       "      <td>113 Liberty</td>\n",
       "      <td>1.0</td>\n",
       "      <td>Liberty</td>\n",
       "      <td>Liberty</td>\n",
       "      <td>26585.0</td>\n",
       "      <td>19</td>\n",
       "    </tr>\n",
       "    <tr>\n",
       "      <th>12.0</th>\n",
       "      <td>2049431.0</td>\n",
       "      <td>35.0</td>\n",
       "      <td>1.0</td>\n",
       "      <td>1.0</td>\n",
       "      <td>120.0</td>\n",
       "      <td>2.0</td>\n",
       "      <td>1.0</td>\n",
       "      <td>PORTER</td>\n",
       "      <td>BRITT</td>\n",
       "      <td>THOMAS</td>\n",
       "      <td>...</td>\n",
       "      <td>NEW YORK WARD 3</td>\n",
       "      <td>110.0</td>\n",
       "      <td>26585.0</td>\n",
       "      <td>c6667760-8f1e-46ad-a7a7-069d80e0fdef</td>\n",
       "      <td>115 Liberty</td>\n",
       "      <td>1.0</td>\n",
       "      <td>Liberty</td>\n",
       "      <td>Greenwich</td>\n",
       "      <td>26698.0</td>\n",
       "      <td>NaN</td>\n",
       "    </tr>\n",
       "    <tr>\n",
       "      <th>19.0</th>\n",
       "      <td>2049452.0</td>\n",
       "      <td>47.0</td>\n",
       "      <td>1.0</td>\n",
       "      <td>1.0</td>\n",
       "      <td>120.0</td>\n",
       "      <td>2.0</td>\n",
       "      <td>1.0</td>\n",
       "      <td>PHYSICIAN</td>\n",
       "      <td>CHEATHAM</td>\n",
       "      <td>GEORGE</td>\n",
       "      <td>...</td>\n",
       "      <td>NEW YORK WARD 3</td>\n",
       "      <td>400.0</td>\n",
       "      <td>26698.0</td>\n",
       "      <td>a3d05210-e406-4a18-b334-86b7d8350354</td>\n",
       "      <td>157 Greenwich</td>\n",
       "      <td>1.0</td>\n",
       "      <td>Greenwich</td>\n",
       "      <td>Liberty</td>\n",
       "      <td>26977.0</td>\n",
       "      <td>NaN</td>\n",
       "    </tr>\n",
       "  </tbody>\n",
       "</table>\n",
       "<p>5 rows × 29 columns</p>\n",
       "</div>"
      ],
      "text/plain": [
       "                                     CENSUS_SERIALP  CENSUS_AGE  CENSUS_SEX  \\\n",
       "CENSUS_WARD_NUM CENSUS_DWELLING_NUM                                           \n",
       "2.0             432.0                     2049414.0        53.0         1.0   \n",
       "3.0             5.0                       2049419.0        36.0         1.0   \n",
       "                11.0                      2049430.0        50.0         1.0   \n",
       "                12.0                      2049431.0        35.0         1.0   \n",
       "                19.0                      2049452.0        47.0         1.0   \n",
       "\n",
       "                                     CENSUS_MARST  CENSUS_RACE  \\\n",
       "CENSUS_WARD_NUM CENSUS_DWELLING_NUM                              \n",
       "2.0             432.0                         1.0        120.0   \n",
       "3.0             5.0                           6.0        120.0   \n",
       "                11.0                          1.0        120.0   \n",
       "                12.0                          1.0        120.0   \n",
       "                19.0                          1.0        120.0   \n",
       "\n",
       "                                     CENSUS_LABFORCE  CENSUS_IMPREL  \\\n",
       "CENSUS_WARD_NUM CENSUS_DWELLING_NUM                                   \n",
       "2.0             432.0                            2.0            1.0   \n",
       "3.0             5.0                              2.0            1.0   \n",
       "                11.0                             2.0            1.0   \n",
       "                12.0                             2.0            1.0   \n",
       "                19.0                             2.0            1.0   \n",
       "\n",
       "                                      CENSUS_OCCSTR CENSUS_NAMELAST  \\\n",
       "CENSUS_WARD_NUM CENSUS_DWELLING_NUM                                   \n",
       "2.0             432.0                BOARDING HOUSE        SHERWOOD   \n",
       "3.0             5.0                     BANK TELLER       FAIRCHILD   \n",
       "                11.0                       MERCHANT        JACOBSON   \n",
       "                12.0                         PORTER           BRITT   \n",
       "                19.0                      PHYSICIAN        CHEATHAM   \n",
       "\n",
       "                                    CENSUS_NAMEFRST  ...      CENSUS_GEOG  \\\n",
       "CENSUS_WARD_NUM CENSUS_DWELLING_NUM                  ...                    \n",
       "2.0             432.0                          BENJ  ...  NEW YORK WARD 2   \n",
       "3.0             5.0                        GEORGE E  ...  NEW YORK WARD 3   \n",
       "                11.0                          ISAAC  ...  NEW YORK WARD 3   \n",
       "                12.0                         THOMAS  ...  NEW YORK WARD 3   \n",
       "                19.0                         GEORGE  ...  NEW YORK WARD 3   \n",
       "\n",
       "                                     CENSUS_LINE CENSUS_INDEX  \\\n",
       "CENSUS_WARD_NUM CENSUS_DWELLING_NUM                             \n",
       "2.0             432.0                      230.0      26409.0   \n",
       "3.0             5.0                         50.0      26495.0   \n",
       "                11.0                       340.0      26566.0   \n",
       "                12.0                       110.0      26585.0   \n",
       "                19.0                       400.0      26698.0   \n",
       "\n",
       "                                                                CENSUS_ID  \\\n",
       "CENSUS_WARD_NUM CENSUS_DWELLING_NUM                                         \n",
       "2.0             432.0                fbe31ee5-cf17-4cb2-9b80-2c6fb01895f9   \n",
       "3.0             5.0                  e32ab9d9-9104-4671-8e63-a710d35fc4f9   \n",
       "                11.0                 e3849bb8-5d9b-4c9b-8698-1ce467cdc4d1   \n",
       "                12.0                 c6667760-8f1e-46ad-a7a7-069d80e0fdef   \n",
       "                19.0                 a3d05210-e406-4a18-b334-86b7d8350354   \n",
       "\n",
       "                                        CD_ADDRESS  selected STREET_NAME  \\\n",
       "CENSUS_WARD_NUM CENSUS_DWELLING_NUM                                        \n",
       "2.0             432.0                    222 Water       1.0       Water   \n",
       "3.0             5.0                    131 Liberty       1.0     Liberty   \n",
       "                11.0                   113 Liberty       1.0     Liberty   \n",
       "                12.0                   115 Liberty       1.0     Liberty   \n",
       "                19.0                 157 Greenwich       1.0   Greenwich   \n",
       "\n",
       "                                     STREET_NAME_NEXT  index_next index_diff  \n",
       "CENSUS_WARD_NUM CENSUS_DWELLING_NUM                                           \n",
       "2.0             432.0                             NaN         NaN        NaN  \n",
       "3.0             5.0                           Liberty     26566.0         71  \n",
       "                11.0                          Liberty     26585.0         19  \n",
       "                12.0                        Greenwich     26698.0        NaN  \n",
       "                19.0                          Liberty     26977.0        NaN  \n",
       "\n",
       "[5 rows x 29 columns]"
      ]
     },
     "execution_count": 217,
     "metadata": {},
     "output_type": "execute_result"
    }
   ],
   "source": [
    "Census_Addresses.loc[(2,432):3].head()"
   ]
  },
  {
   "cell_type": "markdown",
   "metadata": {},
   "source": [
    "There are only 965 instances where dwellings on the same street are within 20 houses of one another, so I'm not sure how great the impact of this will be, but it could make moderate levels of extenstions to the addresses, and will likely work well for manual sanity checks.\n",
    "\n",
    "- It may be interesting to see how we can make this process more complex with a geography aspect from the geocoders"
   ]
  },
  {
   "cell_type": "markdown",
   "metadata": {},
   "source": [
    "#### Let's see how useful 1880 is (especially since we don't have dwelling numbers)"
   ]
  },
  {
   "cell_type": "code",
   "execution_count": 246,
   "metadata": {},
   "outputs": [
    {
     "name": "stdout",
     "output_type": "stream",
     "text": [
      "<class 'pandas.core.frame.DataFrame'>\n",
      "RangeIndex: 151046 entries, 0 to 151045\n",
      "Data columns (total 36 columns):\n",
      "CD_ED                151046 non-null float64\n",
      "CD_FINAL_HOUSENUM    151046 non-null object\n",
      "CD_FIRST_NAME        151046 non-null object\n",
      "CD_ID                151046 non-null object\n",
      "CD_LAST_NAME         151046 non-null object\n",
      "CD_OCCUPATION        143375 non-null object\n",
      "CENSUS_AGE           151046 non-null int64\n",
      "CENSUS_ID            151046 non-null object\n",
      "CENSUS_MATCH_ADDR    151046 non-null object\n",
      "CENSUS_NAMEFRSTB     151046 non-null object\n",
      "CENSUS_NAMELASTB     151046 non-null object\n",
      "CENSUS_OCCLABELB     151039 non-null object\n",
      "CENSUS_SEGMENT_ID    151046 non-null int64\n",
      "LAT                  151046 non-null float64\n",
      "LONG                 151046 non-null float64\n",
      "MATCH_ADDR           151046 non-null object\n",
      "OBJECTID             151046 non-null int64\n",
      "OBJECTID.x           151046 non-null int64\n",
      "WARD_NUM             151046 non-null int64\n",
      "age_score            151046 non-null int64\n",
      "anchor               151046 non-null int64\n",
      "cd_count             151046 non-null int64\n",
      "census_count         151046 non-null int64\n",
      "confidence_score     151046 non-null float64\n",
      "group_ID             151046 non-null float64\n",
      "in_cluster           48673 non-null float64\n",
      "jw_fn                151046 non-null float64\n",
      "jw_ln                151046 non-null float64\n",
      "jw_score             151046 non-null float64\n",
      "key                  48673 non-null float64\n",
      "letter               48673 non-null object\n",
      "node_ID              48673 non-null object\n",
      "occ_listed           151046 non-null int64\n",
      "spatial_weight       151046 non-null float64\n",
      "selected             151046 non-null float64\n",
      "graph_ID             151046 non-null int64\n",
      "dtypes: float64(12), int64(11), object(13)\n",
      "memory usage: 41.5+ MB\n"
     ]
    }
   ],
   "source": [
    "disambiguated_1880.info()"
   ]
  },
  {
   "cell_type": "code",
   "execution_count": 12,
   "metadata": {},
   "outputs": [
    {
     "name": "stdout",
     "output_type": "stream",
     "text": [
      "<class 'pandas.core.frame.DataFrame'>\n",
      "RangeIndex: 1117479 entries, 0 to 1117478\n",
      "Data columns (total 42 columns):\n",
      "OBJECTID.x           1117479 non-null int64\n",
      "CENSUS_MERGEID       1117479 non-null object\n",
      "CENSUS_SERIALB       1117479 non-null int64\n",
      "CENSUS_SERIAL        1117479 non-null int64\n",
      "CENSUS_PERNUM        1117479 non-null int64\n",
      "CENSUS_RECIDUS       1117158 non-null object\n",
      "CENSUS_REEL          1117479 non-null int64\n",
      "CENSUS_VOLUME        1117479 non-null int64\n",
      "CENSUS_PAGENUM       1117479 non-null int64\n",
      "CENSUS_NAMEFRSTB     1117479 non-null object\n",
      "CENSUS_NAMELASTB     1117479 non-null object\n",
      "CENSUS_RELATE        1117479 non-null int64\n",
      "CENSUS_RELATE_STR    1117479 non-null object\n",
      "CENSUS_AGE           1117479 non-null int64\n",
      "CENSUS_SEXB          1117479 non-null int64\n",
      "CENSUS_RACENAMEB     1117479 non-null object\n",
      "CENSUS_RACEB         1117479 non-null int64\n",
      "CENSUS_NPERHHB       1117479 non-null int64\n",
      "CENSUS_OCCLABELB     1117322 non-null object\n",
      "CENSUS_SEIUSBN       1117479 non-null int64\n",
      "CENSUS_MATCH_ADDR    1117479 non-null object\n",
      "CENSUS_HOUSE_NUMB    1117479 non-null int64\n",
      "CENSUS_STREETB       1117475 non-null object\n",
      "CENSUS_TYPEB         1117154 non-null object\n",
      "CENSUS_SEGMENT_ID    1117479 non-null int64\n",
      "CENSUS_BUILDING_I    1117479 non-null int64\n",
      "CENSUS_NEIGHBOR_1    1117479 non-null int64\n",
      "CENSUS_NEIGHBOR_2    1117479 non-null int64\n",
      "CENSUS_SEGGROUP_I    1117479 non-null int64\n",
      "CENSUS_EXTGROUP_I    1117479 non-null int64\n",
      "CENSUS_CITY          1117479 non-null int64\n",
      "CENSUS_COUNTYUS      1117479 non-null int64\n",
      "CENSUS_X             1117479 non-null float64\n",
      "CENSUS_Y             1117479 non-null float64\n",
      "CENSUS_ADDRESS       1117479 non-null object\n",
      "CENSUS_ENUMDIST      1117479 non-null int64\n",
      "CENSUS_CITYNAME      1117479 non-null object\n",
      "CENSUS_STATENAME     1117479 non-null object\n",
      "CENSUS_UNITTYPE      1117479 non-null object\n",
      "MERGE_SRC            1117479 non-null object\n",
      "WARD_NUM             1110001 non-null float64\n",
      "CENSUS_AD            1110001 non-null float64\n",
      "dtypes: float64(4), int64(23), object(15)\n",
      "memory usage: 358.1+ MB\n"
     ]
    }
   ],
   "source": [
    "census_1880.info()"
   ]
  },
  {
   "cell_type": "code",
   "execution_count": 11,
   "metadata": {},
   "outputs": [
    {
     "data": {
      "text/plain": [
       "1117470"
      ]
     },
     "execution_count": 11,
     "metadata": {},
     "output_type": "execute_result"
    }
   ],
   "source": [
    "max(disambiguated_1880[\"OBJECTID.x\"])"
   ]
  },
  {
   "cell_type": "code",
   "execution_count": 14,
   "metadata": {},
   "outputs": [
    {
     "data": {
      "text/html": [
       "<div>\n",
       "<style scoped>\n",
       "    .dataframe tbody tr th:only-of-type {\n",
       "        vertical-align: middle;\n",
       "    }\n",
       "\n",
       "    .dataframe tbody tr th {\n",
       "        vertical-align: top;\n",
       "    }\n",
       "\n",
       "    .dataframe thead th {\n",
       "        text-align: right;\n",
       "    }\n",
       "</style>\n",
       "<table border=\"1\" class=\"dataframe\">\n",
       "  <thead>\n",
       "    <tr style=\"text-align: right;\">\n",
       "      <th></th>\n",
       "      <th>OBJECTID.x</th>\n",
       "      <th>CENSUS_MERGEID</th>\n",
       "      <th>CENSUS_SERIALB</th>\n",
       "      <th>CENSUS_SERIAL</th>\n",
       "      <th>CENSUS_PERNUM</th>\n",
       "      <th>CENSUS_RECIDUS</th>\n",
       "      <th>CENSUS_REEL</th>\n",
       "      <th>CENSUS_VOLUME</th>\n",
       "      <th>CENSUS_PAGENUM</th>\n",
       "      <th>CENSUS_NAMEFRSTB</th>\n",
       "      <th>...</th>\n",
       "      <th>CENSUS_ENUMDIST</th>\n",
       "      <th>CENSUS_CITYNAME</th>\n",
       "      <th>CENSUS_STATENAME</th>\n",
       "      <th>CENSUS_UNITTYPE</th>\n",
       "      <th>MERGE_SRC</th>\n",
       "      <th>WARD_NUM</th>\n",
       "      <th>CENSUS_AD</th>\n",
       "      <th>MATCH_ADDR</th>\n",
       "      <th>CENSUS_MATCH_ADDR_y</th>\n",
       "      <th>selected</th>\n",
       "    </tr>\n",
       "  </thead>\n",
       "  <tbody>\n",
       "    <tr>\n",
       "      <th>0</th>\n",
       "      <td>1</td>\n",
       "      <td>46101106EDITH K.SANGER</td>\n",
       "      <td>6347938</td>\n",
       "      <td>6198399</td>\n",
       "      <td>3</td>\n",
       "      <td>01254866-1-0001-0003-$</td>\n",
       "      <td>866</td>\n",
       "      <td>1</td>\n",
       "      <td>1</td>\n",
       "      <td>EDITH K.</td>\n",
       "      <td>...</td>\n",
       "      <td>1</td>\n",
       "      <td>NYC-Manhattan</td>\n",
       "      <td>NY</td>\n",
       "      <td>single unit</td>\n",
       "      <td>NYC-ManhattanCE1a</td>\n",
       "      <td>1.0</td>\n",
       "      <td>1.0</td>\n",
       "      <td>NaN</td>\n",
       "      <td>NaN</td>\n",
       "      <td>NaN</td>\n",
       "    </tr>\n",
       "    <tr>\n",
       "      <th>1</th>\n",
       "      <td>2</td>\n",
       "      <td>461012776EMMAVAN BROSELIN</td>\n",
       "      <td>6347938</td>\n",
       "      <td>6198399</td>\n",
       "      <td>6</td>\n",
       "      <td>01254866-1-0001-0006-$</td>\n",
       "      <td>866</td>\n",
       "      <td>1</td>\n",
       "      <td>1</td>\n",
       "      <td>EMMA</td>\n",
       "      <td>...</td>\n",
       "      <td>1</td>\n",
       "      <td>NYC-Manhattan</td>\n",
       "      <td>NY</td>\n",
       "      <td>single unit</td>\n",
       "      <td>NYC-ManhattanCE1a</td>\n",
       "      <td>1.0</td>\n",
       "      <td>1.0</td>\n",
       "      <td>NaN</td>\n",
       "      <td>NaN</td>\n",
       "      <td>NaN</td>\n",
       "    </tr>\n",
       "    <tr>\n",
       "      <th>2</th>\n",
       "      <td>3</td>\n",
       "      <td>461012776LIZZIEMALONE</td>\n",
       "      <td>6347938</td>\n",
       "      <td>6198399</td>\n",
       "      <td>4</td>\n",
       "      <td>01254866-1-0001-0004-$</td>\n",
       "      <td>866</td>\n",
       "      <td>1</td>\n",
       "      <td>1</td>\n",
       "      <td>LIZZIE</td>\n",
       "      <td>...</td>\n",
       "      <td>1</td>\n",
       "      <td>NYC-Manhattan</td>\n",
       "      <td>NY</td>\n",
       "      <td>single unit</td>\n",
       "      <td>NYC-ManhattanCE1a</td>\n",
       "      <td>1.0</td>\n",
       "      <td>1.0</td>\n",
       "      <td>NaN</td>\n",
       "      <td>NaN</td>\n",
       "      <td>NaN</td>\n",
       "    </tr>\n",
       "    <tr>\n",
       "      <th>3</th>\n",
       "      <td>4</td>\n",
       "      <td>461012806FANNIE K.SANGER</td>\n",
       "      <td>6347938</td>\n",
       "      <td>6198399</td>\n",
       "      <td>2</td>\n",
       "      <td>01254866-1-0001-0002-$</td>\n",
       "      <td>866</td>\n",
       "      <td>1</td>\n",
       "      <td>1</td>\n",
       "      <td>FANNIE K.</td>\n",
       "      <td>...</td>\n",
       "      <td>1</td>\n",
       "      <td>NYC-Manhattan</td>\n",
       "      <td>NY</td>\n",
       "      <td>single unit</td>\n",
       "      <td>NYC-ManhattanCE1a</td>\n",
       "      <td>1.0</td>\n",
       "      <td>1.0</td>\n",
       "      <td>NaN</td>\n",
       "      <td>NaN</td>\n",
       "      <td>NaN</td>\n",
       "    </tr>\n",
       "    <tr>\n",
       "      <th>4</th>\n",
       "      <td>5</td>\n",
       "      <td>461012876MITCHILL A.LEE</td>\n",
       "      <td>6347938</td>\n",
       "      <td>6198399</td>\n",
       "      <td>5</td>\n",
       "      <td>01254866-1-0001-0005-$</td>\n",
       "      <td>866</td>\n",
       "      <td>1</td>\n",
       "      <td>1</td>\n",
       "      <td>MITCHILL A.</td>\n",
       "      <td>...</td>\n",
       "      <td>1</td>\n",
       "      <td>NYC-Manhattan</td>\n",
       "      <td>NY</td>\n",
       "      <td>single unit</td>\n",
       "      <td>NYC-ManhattanCE1a</td>\n",
       "      <td>1.0</td>\n",
       "      <td>1.0</td>\n",
       "      <td>NaN</td>\n",
       "      <td>NaN</td>\n",
       "      <td>NaN</td>\n",
       "    </tr>\n",
       "  </tbody>\n",
       "</table>\n",
       "<p>5 rows × 45 columns</p>\n",
       "</div>"
      ],
      "text/plain": [
       "   OBJECTID.x             CENSUS_MERGEID  CENSUS_SERIALB  CENSUS_SERIAL  \\\n",
       "0           1     46101106EDITH K.SANGER         6347938        6198399   \n",
       "1           2  461012776EMMAVAN BROSELIN         6347938        6198399   \n",
       "2           3      461012776LIZZIEMALONE         6347938        6198399   \n",
       "3           4   461012806FANNIE K.SANGER         6347938        6198399   \n",
       "4           5    461012876MITCHILL A.LEE         6347938        6198399   \n",
       "\n",
       "   CENSUS_PERNUM          CENSUS_RECIDUS  CENSUS_REEL  CENSUS_VOLUME  \\\n",
       "0              3  01254866-1-0001-0003-$          866              1   \n",
       "1              6  01254866-1-0001-0006-$          866              1   \n",
       "2              4  01254866-1-0001-0004-$          866              1   \n",
       "3              2  01254866-1-0001-0002-$          866              1   \n",
       "4              5  01254866-1-0001-0005-$          866              1   \n",
       "\n",
       "   CENSUS_PAGENUM CENSUS_NAMEFRSTB  ... CENSUS_ENUMDIST  CENSUS_CITYNAME  \\\n",
       "0               1         EDITH K.  ...               1    NYC-Manhattan   \n",
       "1               1             EMMA  ...               1    NYC-Manhattan   \n",
       "2               1           LIZZIE  ...               1    NYC-Manhattan   \n",
       "3               1        FANNIE K.  ...               1    NYC-Manhattan   \n",
       "4               1      MITCHILL A.  ...               1    NYC-Manhattan   \n",
       "\n",
       "  CENSUS_STATENAME  CENSUS_UNITTYPE          MERGE_SRC WARD_NUM  CENSUS_AD  \\\n",
       "0               NY      single unit  NYC-ManhattanCE1a      1.0        1.0   \n",
       "1               NY      single unit  NYC-ManhattanCE1a      1.0        1.0   \n",
       "2               NY      single unit  NYC-ManhattanCE1a      1.0        1.0   \n",
       "3               NY      single unit  NYC-ManhattanCE1a      1.0        1.0   \n",
       "4               NY      single unit  NYC-ManhattanCE1a      1.0        1.0   \n",
       "\n",
       "   MATCH_ADDR CENSUS_MATCH_ADDR_y  selected  \n",
       "0         NaN                 NaN       NaN  \n",
       "1         NaN                 NaN       NaN  \n",
       "2         NaN                 NaN       NaN  \n",
       "3         NaN                 NaN       NaN  \n",
       "4         NaN                 NaN       NaN  \n",
       "\n",
       "[5 rows x 45 columns]"
      ]
     },
     "execution_count": 14,
     "metadata": {},
     "output_type": "execute_result"
    }
   ],
   "source": [
    "disambiguated_selected_1880 = disambiguated_1880[[\"OBJECTID.x\", \"MATCH_ADDR\", \"CENSUS_MATCH_ADDR\",\"selected\"]]\n",
    "disambiguated_selected_1880 = disambiguated_selected_1880[disambiguated_selected_1880[\"selected\"] == 1]\n",
    "CensusDis1880 = census_1880.merge(disambiguated_selected_1880, how = \"left\", on = \"OBJECTID.x\", validate = \"one_to_one\")\n",
    "CensusDis1880.head()"
   ]
  },
  {
   "cell_type": "code",
   "execution_count": 16,
   "metadata": {},
   "outputs": [
    {
     "name": "stdout",
     "output_type": "stream",
     "text": [
      "<class 'pandas.core.frame.DataFrame'>\n",
      "Int64Index: 105540 entries, 0 to 151045\n",
      "Data columns (total 4 columns):\n",
      "OBJECTID.x           105540 non-null int64\n",
      "MATCH_ADDR           105540 non-null object\n",
      "CENSUS_MATCH_ADDR    105540 non-null object\n",
      "selected             105540 non-null float64\n",
      "dtypes: float64(1), int64(1), object(2)\n",
      "memory usage: 4.0+ MB\n"
     ]
    }
   ],
   "source": [
    "disambiguated_selected_1880.info()"
   ]
  },
  {
   "cell_type": "code",
   "execution_count": 15,
   "metadata": {},
   "outputs": [
    {
     "name": "stdout",
     "output_type": "stream",
     "text": [
      "<class 'pandas.core.frame.DataFrame'>\n",
      "Int64Index: 1117479 entries, 0 to 1117478\n",
      "Data columns (total 45 columns):\n",
      "OBJECTID.x             1117479 non-null int64\n",
      "CENSUS_MERGEID         1117479 non-null object\n",
      "CENSUS_SERIALB         1117479 non-null int64\n",
      "CENSUS_SERIAL          1117479 non-null int64\n",
      "CENSUS_PERNUM          1117479 non-null int64\n",
      "CENSUS_RECIDUS         1117158 non-null object\n",
      "CENSUS_REEL            1117479 non-null int64\n",
      "CENSUS_VOLUME          1117479 non-null int64\n",
      "CENSUS_PAGENUM         1117479 non-null int64\n",
      "CENSUS_NAMEFRSTB       1117479 non-null object\n",
      "CENSUS_NAMELASTB       1117479 non-null object\n",
      "CENSUS_RELATE          1117479 non-null int64\n",
      "CENSUS_RELATE_STR      1117479 non-null object\n",
      "CENSUS_AGE             1117479 non-null int64\n",
      "CENSUS_SEXB            1117479 non-null int64\n",
      "CENSUS_RACENAMEB       1117479 non-null object\n",
      "CENSUS_RACEB           1117479 non-null int64\n",
      "CENSUS_NPERHHB         1117479 non-null int64\n",
      "CENSUS_OCCLABELB       1117322 non-null object\n",
      "CENSUS_SEIUSBN         1117479 non-null int64\n",
      "CENSUS_MATCH_ADDR_x    1117479 non-null object\n",
      "CENSUS_HOUSE_NUMB      1117479 non-null int64\n",
      "CENSUS_STREETB         1117475 non-null object\n",
      "CENSUS_TYPEB           1117154 non-null object\n",
      "CENSUS_SEGMENT_ID      1117479 non-null int64\n",
      "CENSUS_BUILDING_I      1117479 non-null int64\n",
      "CENSUS_NEIGHBOR_1      1117479 non-null int64\n",
      "CENSUS_NEIGHBOR_2      1117479 non-null int64\n",
      "CENSUS_SEGGROUP_I      1117479 non-null int64\n",
      "CENSUS_EXTGROUP_I      1117479 non-null int64\n",
      "CENSUS_CITY            1117479 non-null int64\n",
      "CENSUS_COUNTYUS        1117479 non-null int64\n",
      "CENSUS_X               1117479 non-null float64\n",
      "CENSUS_Y               1117479 non-null float64\n",
      "CENSUS_ADDRESS         1117479 non-null object\n",
      "CENSUS_ENUMDIST        1117479 non-null int64\n",
      "CENSUS_CITYNAME        1117479 non-null object\n",
      "CENSUS_STATENAME       1117479 non-null object\n",
      "CENSUS_UNITTYPE        1117479 non-null object\n",
      "MERGE_SRC              1117479 non-null object\n",
      "WARD_NUM               1110001 non-null float64\n",
      "CENSUS_AD              1110001 non-null float64\n",
      "MATCH_ADDR             105540 non-null object\n",
      "CENSUS_MATCH_ADDR_y    105540 non-null object\n",
      "selected               105540 non-null float64\n",
      "dtypes: float64(5), int64(23), object(17)\n",
      "memory usage: 392.2+ MB\n"
     ]
    }
   ],
   "source": [
    "CensusDis1880.info()"
   ]
  },
  {
   "cell_type": "code",
   "execution_count": 233,
   "metadata": {},
   "outputs": [
    {
     "name": "stdout",
     "output_type": "stream",
     "text": [
      "<class 'pandas.core.frame.DataFrame'>\n",
      "Int64Index: 4078202 entries, 0 to 4078201\n",
      "Data columns (total 45 columns):\n",
      "OBJECTID.x           4078202 non-null int64\n",
      "CENSUS_MERGEID       4078202 non-null object\n",
      "CENSUS_SERIALB       4078202 non-null int64\n",
      "CENSUS_SERIAL        4078202 non-null int64\n",
      "CENSUS_PERNUM        4078202 non-null int64\n",
      "CENSUS_RECIDUS       4077112 non-null object\n",
      "CENSUS_REEL          4078202 non-null int64\n",
      "CENSUS_VOLUME        4078202 non-null int64\n",
      "CENSUS_PAGENUM       4078202 non-null int64\n",
      "CENSUS_NAMEFRSTB     4078202 non-null object\n",
      "CENSUS_NAMELASTB     4078202 non-null object\n",
      "CENSUS_RELATE        4078202 non-null int64\n",
      "CENSUS_RELATE_STR    4078202 non-null object\n",
      "CENSUS_AGE           4078202 non-null int64\n",
      "CENSUS_SEXB          4078202 non-null int64\n",
      "CENSUS_RACENAMEB     4078202 non-null object\n",
      "CENSUS_RACEB         4078202 non-null int64\n",
      "CENSUS_NPERHHB       4078202 non-null int64\n",
      "CENSUS_OCCLABELB     4077636 non-null object\n",
      "CENSUS_SEIUSBN       4078202 non-null int64\n",
      "CENSUS_MATCH_ADDR    4078202 non-null object\n",
      "CENSUS_HOUSE_NUMB    4078202 non-null int64\n",
      "CENSUS_STREETB       4078198 non-null object\n",
      "CENSUS_TYPEB         4077108 non-null object\n",
      "CENSUS_SEGMENT_ID    4078202 non-null int64\n",
      "CENSUS_BUILDING_I    4078202 non-null int64\n",
      "CENSUS_NEIGHBOR_1    4078202 non-null int64\n",
      "CENSUS_NEIGHBOR_2    4078202 non-null int64\n",
      "CENSUS_SEGGROUP_I    4078202 non-null int64\n",
      "CENSUS_EXTGROUP_I    4078202 non-null int64\n",
      "CENSUS_CITY          4078202 non-null int64\n",
      "CENSUS_COUNTYUS      4078202 non-null int64\n",
      "CENSUS_X             4078202 non-null float64\n",
      "CENSUS_Y             4078202 non-null float64\n",
      "CENSUS_ADDRESS       4078202 non-null object\n",
      "CENSUS_ENUMDIST      4078202 non-null int64\n",
      "CENSUS_CITYNAME      4078202 non-null object\n",
      "CENSUS_STATENAME     4078202 non-null object\n",
      "CENSUS_UNITTYPE      4078202 non-null object\n",
      "MERGE_SRC            4078202 non-null object\n",
      "WARD_NUM             4070724 non-null float64\n",
      "CENSUS_AD            4070724 non-null float64\n",
      "CENSUS_ID            3863556 non-null object\n",
      "MATCH_ADDR           3863556 non-null object\n",
      "selected             3863556 non-null float64\n",
      "dtypes: float64(5), int64(23), object(17)\n",
      "memory usage: 1.4+ GB\n"
     ]
    }
   ],
   "source": [
    "CensusDis1880.info(null_counts = True)"
   ]
  },
  {
   "cell_type": "code",
   "execution_count": 27,
   "metadata": {},
   "outputs": [],
   "source": [
    "#May not be the best way to do this, need to check if there are multiple streets with the same\n",
    "#name within Manhattan -- if there are, probably need to groupby ward first\n",
    "Census1880_Addresses = census_1880.drop_duplicates(subset = \"CENSUS_ADDRESS\")\n",
    "Census1880_Addresses = Census1880_Addresses[Census1880_Addresses[\"CENSUS_ADDRESS\"].notnull()]\n",
    "Census1880_Addresses[\"STREET_NAME\"] = Census1880_Addresses[\"CENSUS_ADDRESS\"].str.extract(r'([A-Za-z\\s]+)')\n",
    "Census1880_Addresses[\"STREET_NAME\"] = Census1880_Addresses[\"STREET_NAME\"].str.strip()"
   ]
  },
  {
   "cell_type": "code",
   "execution_count": 35,
   "metadata": {},
   "outputs": [
    {
     "data": {
      "text/html": [
       "<div>\n",
       "<style scoped>\n",
       "    .dataframe tbody tr th:only-of-type {\n",
       "        vertical-align: middle;\n",
       "    }\n",
       "\n",
       "    .dataframe tbody tr th {\n",
       "        vertical-align: top;\n",
       "    }\n",
       "\n",
       "    .dataframe thead th {\n",
       "        text-align: right;\n",
       "    }\n",
       "</style>\n",
       "<table border=\"1\" class=\"dataframe\">\n",
       "  <thead>\n",
       "    <tr style=\"text-align: right;\">\n",
       "      <th></th>\n",
       "      <th>index</th>\n",
       "      <th>OBJECTID.x</th>\n",
       "      <th>CENSUS_MERGEID</th>\n",
       "      <th>CENSUS_SERIALB</th>\n",
       "      <th>CENSUS_SERIAL</th>\n",
       "      <th>CENSUS_PERNUM</th>\n",
       "      <th>CENSUS_RECIDUS</th>\n",
       "      <th>CENSUS_REEL</th>\n",
       "      <th>CENSUS_VOLUME</th>\n",
       "      <th>CENSUS_PAGENUM</th>\n",
       "      <th>...</th>\n",
       "      <th>CENSUS_Y</th>\n",
       "      <th>CENSUS_ADDRESS</th>\n",
       "      <th>CENSUS_ENUMDIST</th>\n",
       "      <th>CENSUS_CITYNAME</th>\n",
       "      <th>CENSUS_STATENAME</th>\n",
       "      <th>CENSUS_UNITTYPE</th>\n",
       "      <th>MERGE_SRC</th>\n",
       "      <th>WARD_NUM</th>\n",
       "      <th>CENSUS_AD</th>\n",
       "      <th>STREET_NAME</th>\n",
       "    </tr>\n",
       "  </thead>\n",
       "  <tbody>\n",
       "    <tr>\n",
       "      <th>0</th>\n",
       "      <td>0</td>\n",
       "      <td>1</td>\n",
       "      <td>46101106EDITH K.SANGER</td>\n",
       "      <td>6347938</td>\n",
       "      <td>6198399</td>\n",
       "      <td>3</td>\n",
       "      <td>01254866-1-0001-0003-$</td>\n",
       "      <td>866</td>\n",
       "      <td>1</td>\n",
       "      <td>1</td>\n",
       "      <td>...</td>\n",
       "      <td>40.690711</td>\n",
       "      <td>36 GOVERNORS ISLAND</td>\n",
       "      <td>1</td>\n",
       "      <td>NYC-Manhattan</td>\n",
       "      <td>NY</td>\n",
       "      <td>single unit</td>\n",
       "      <td>NYC-ManhattanCE1a</td>\n",
       "      <td>1.0</td>\n",
       "      <td>1.0</td>\n",
       "      <td>GOVERNORS ISLAND</td>\n",
       "    </tr>\n",
       "    <tr>\n",
       "      <th>1</th>\n",
       "      <td>1</td>\n",
       "      <td>7</td>\n",
       "      <td>4610121181JAMES E.---</td>\n",
       "      <td>6347939</td>\n",
       "      <td>0</td>\n",
       "      <td>1</td>\n",
       "      <td>01254866-1-0001-0007-$</td>\n",
       "      <td>866</td>\n",
       "      <td>1</td>\n",
       "      <td>1</td>\n",
       "      <td>...</td>\n",
       "      <td>40.690645</td>\n",
       "      <td>43 GOVERNORS ISLAND</td>\n",
       "      <td>1</td>\n",
       "      <td>NYC-Manhattan</td>\n",
       "      <td>NY</td>\n",
       "      <td>single unit</td>\n",
       "      <td>NYC-ManhattanCE1a</td>\n",
       "      <td>1.0</td>\n",
       "      <td>1.0</td>\n",
       "      <td>GOVERNORS ISLAND</td>\n",
       "    </tr>\n",
       "    <tr>\n",
       "      <th>2</th>\n",
       "      <td>2</td>\n",
       "      <td>9</td>\n",
       "      <td>461010HENRY W.---</td>\n",
       "      <td>6347940</td>\n",
       "      <td>0</td>\n",
       "      <td>0</td>\n",
       "      <td>NaN</td>\n",
       "      <td>0</td>\n",
       "      <td>0</td>\n",
       "      <td>0</td>\n",
       "      <td>...</td>\n",
       "      <td>40.691119</td>\n",
       "      <td>16 GOVERNORS ISLAND</td>\n",
       "      <td>1</td>\n",
       "      <td>NYC-Manhattan</td>\n",
       "      <td>NY</td>\n",
       "      <td>single unit</td>\n",
       "      <td>NYC-ManhattanCE1a</td>\n",
       "      <td>1.0</td>\n",
       "      <td>1.0</td>\n",
       "      <td>GOVERNORS ISLAND</td>\n",
       "    </tr>\n",
       "    <tr>\n",
       "      <th>3</th>\n",
       "      <td>3</td>\n",
       "      <td>16</td>\n",
       "      <td>461011007MAY---</td>\n",
       "      <td>6347941</td>\n",
       "      <td>0</td>\n",
       "      <td>3</td>\n",
       "      <td>01254866-1-0001-0017-$</td>\n",
       "      <td>866</td>\n",
       "      <td>1</td>\n",
       "      <td>1</td>\n",
       "      <td>...</td>\n",
       "      <td>40.690844</td>\n",
       "      <td>33 GOVERNORS ISLAND</td>\n",
       "      <td>1</td>\n",
       "      <td>NYC-Manhattan</td>\n",
       "      <td>NY</td>\n",
       "      <td>single unit</td>\n",
       "      <td>NYC-ManhattanCE1a</td>\n",
       "      <td>1.0</td>\n",
       "      <td>1.0</td>\n",
       "      <td>GOVERNORS ISLAND</td>\n",
       "    </tr>\n",
       "    <tr>\n",
       "      <th>4</th>\n",
       "      <td>4</td>\n",
       "      <td>23</td>\n",
       "      <td>461011503AGNESCREIGHTEN</td>\n",
       "      <td>6347942</td>\n",
       "      <td>6198403</td>\n",
       "      <td>3</td>\n",
       "      <td>01254866-1-0001-0024-$</td>\n",
       "      <td>866</td>\n",
       "      <td>1</td>\n",
       "      <td>1</td>\n",
       "      <td>...</td>\n",
       "      <td>40.690915</td>\n",
       "      <td>26 GOVERNORS ISLAND</td>\n",
       "      <td>1</td>\n",
       "      <td>NYC-Manhattan</td>\n",
       "      <td>NY</td>\n",
       "      <td>multi unit</td>\n",
       "      <td>NYC-ManhattanCE1a</td>\n",
       "      <td>1.0</td>\n",
       "      <td>1.0</td>\n",
       "      <td>GOVERNORS ISLAND</td>\n",
       "    </tr>\n",
       "  </tbody>\n",
       "</table>\n",
       "<p>5 rows × 44 columns</p>\n",
       "</div>"
      ],
      "text/plain": [
       "   index  OBJECTID.x           CENSUS_MERGEID  CENSUS_SERIALB  CENSUS_SERIAL  \\\n",
       "0      0           1   46101106EDITH K.SANGER         6347938        6198399   \n",
       "1      1           7    4610121181JAMES E.---         6347939              0   \n",
       "2      2           9        461010HENRY W.---         6347940              0   \n",
       "3      3          16          461011007MAY---         6347941              0   \n",
       "4      4          23  461011503AGNESCREIGHTEN         6347942        6198403   \n",
       "\n",
       "   CENSUS_PERNUM          CENSUS_RECIDUS  CENSUS_REEL  CENSUS_VOLUME  \\\n",
       "0              3  01254866-1-0001-0003-$          866              1   \n",
       "1              1  01254866-1-0001-0007-$          866              1   \n",
       "2              0                     NaN            0              0   \n",
       "3              3  01254866-1-0001-0017-$          866              1   \n",
       "4              3  01254866-1-0001-0024-$          866              1   \n",
       "\n",
       "   CENSUS_PAGENUM  ...   CENSUS_Y       CENSUS_ADDRESS  CENSUS_ENUMDIST  \\\n",
       "0               1  ...  40.690711  36 GOVERNORS ISLAND                1   \n",
       "1               1  ...  40.690645  43 GOVERNORS ISLAND                1   \n",
       "2               0  ...  40.691119  16 GOVERNORS ISLAND                1   \n",
       "3               1  ...  40.690844  33 GOVERNORS ISLAND                1   \n",
       "4               1  ...  40.690915  26 GOVERNORS ISLAND                1   \n",
       "\n",
       "  CENSUS_CITYNAME  CENSUS_STATENAME  CENSUS_UNITTYPE          MERGE_SRC  \\\n",
       "0   NYC-Manhattan                NY      single unit  NYC-ManhattanCE1a   \n",
       "1   NYC-Manhattan                NY      single unit  NYC-ManhattanCE1a   \n",
       "2   NYC-Manhattan                NY      single unit  NYC-ManhattanCE1a   \n",
       "3   NYC-Manhattan                NY      single unit  NYC-ManhattanCE1a   \n",
       "4   NYC-Manhattan                NY       multi unit  NYC-ManhattanCE1a   \n",
       "\n",
       "   WARD_NUM  CENSUS_AD       STREET_NAME  \n",
       "0       1.0        1.0  GOVERNORS ISLAND  \n",
       "1       1.0        1.0  GOVERNORS ISLAND  \n",
       "2       1.0        1.0  GOVERNORS ISLAND  \n",
       "3       1.0        1.0  GOVERNORS ISLAND  \n",
       "4       1.0        1.0  GOVERNORS ISLAND  \n",
       "\n",
       "[5 rows x 44 columns]"
      ]
     },
     "execution_count": 35,
     "metadata": {},
     "output_type": "execute_result"
    }
   ],
   "source": [
    "#For right now why don't I try simply using the index? Definitely something to come back\n",
    "#and reconsider\n",
    "Census1880_Addresses.reset_index(drop = True, inplace = True)\n",
    "Census1880_Addresses.reset_index(inplace = True)\n",
    "Census1880_Addresses.head()"
   ]
  },
  {
   "cell_type": "code",
   "execution_count": 36,
   "metadata": {},
   "outputs": [],
   "source": [
    "def comp_streets(x):\n",
    "    if x[\"STREET_NAME\"] == x[\"STREET_NAME_NEXT\"]:\n",
    "        return x[\"index_next\"] - x[\"index\"]\n",
    "    else:\n",
    "        return None\n",
    "def comp_streets_df(df):\n",
    "    df[\"STREET_NAME_NEXT\"] = df[\"STREET_NAME\"].shift(-1)\n",
    "    df[\"index_next\"] = df[\"index\"].shift(-1)\n",
    "    df[\"index_diff\"] = df.apply(comp_streets, axis = 1)\n",
    "    return df"
   ]
  },
  {
   "cell_type": "code",
   "execution_count": 37,
   "metadata": {},
   "outputs": [],
   "source": [
    "Census1880_Addresses = Census1880_Addresses.groupby(\"WARD_NUM\").apply(comp_streets_df)"
   ]
  },
  {
   "cell_type": "code",
   "execution_count": 49,
   "metadata": {},
   "outputs": [
    {
     "name": "stdout",
     "output_type": "stream",
     "text": [
      "<class 'pandas.core.frame.DataFrame'>\n",
      "RangeIndex: 57961 entries, 0 to 57960\n",
      "Data columns (total 47 columns):\n",
      "index                57917 non-null float64\n",
      "OBJECTID.x           57917 non-null float64\n",
      "CENSUS_MERGEID       57917 non-null object\n",
      "CENSUS_SERIALB       57917 non-null float64\n",
      "CENSUS_SERIAL        57917 non-null float64\n",
      "CENSUS_PERNUM        57917 non-null float64\n",
      "CENSUS_RECIDUS       57861 non-null object\n",
      "CENSUS_REEL          57917 non-null float64\n",
      "CENSUS_VOLUME        57917 non-null float64\n",
      "CENSUS_PAGENUM       57917 non-null float64\n",
      "CENSUS_NAMEFRSTB     57917 non-null object\n",
      "CENSUS_NAMELASTB     57917 non-null object\n",
      "CENSUS_RELATE        57917 non-null float64\n",
      "CENSUS_RELATE_STR    57917 non-null object\n",
      "CENSUS_AGE           57917 non-null float64\n",
      "CENSUS_SEXB          57917 non-null float64\n",
      "CENSUS_RACENAMEB     57917 non-null object\n",
      "CENSUS_RACEB         57917 non-null float64\n",
      "CENSUS_NPERHHB       57917 non-null float64\n",
      "CENSUS_OCCLABELB     57880 non-null object\n",
      "CENSUS_SEIUSBN       57917 non-null float64\n",
      "CENSUS_MATCH_ADDR    57917 non-null object\n",
      "CENSUS_HOUSE_NUMB    57917 non-null float64\n",
      "CENSUS_STREETB       57916 non-null object\n",
      "CENSUS_TYPEB         57860 non-null object\n",
      "CENSUS_SEGMENT_ID    57917 non-null float64\n",
      "CENSUS_BUILDING_I    57917 non-null float64\n",
      "CENSUS_NEIGHBOR_1    57917 non-null float64\n",
      "CENSUS_NEIGHBOR_2    57917 non-null float64\n",
      "CENSUS_SEGGROUP_I    57917 non-null float64\n",
      "CENSUS_EXTGROUP_I    57917 non-null float64\n",
      "CENSUS_CITY          57917 non-null float64\n",
      "CENSUS_COUNTYUS      57917 non-null float64\n",
      "CENSUS_X             57917 non-null float64\n",
      "CENSUS_Y             57917 non-null float64\n",
      "CENSUS_ADDRESS       57917 non-null object\n",
      "CENSUS_ENUMDIST      57917 non-null float64\n",
      "CENSUS_CITYNAME      57917 non-null object\n",
      "CENSUS_STATENAME     57917 non-null object\n",
      "CENSUS_UNITTYPE      57917 non-null object\n",
      "MERGE_SRC            57917 non-null object\n",
      "WARD_NUM             57917 non-null float64\n",
      "CENSUS_AD            57917 non-null float64\n",
      "STREET_NAME          57917 non-null object\n",
      "STREET_NAME_NEXT     57895 non-null object\n",
      "index_next           57895 non-null float64\n",
      "index_diff           55574 non-null float64\n",
      "dtypes: float64(30), object(17)\n",
      "memory usage: 20.8+ MB\n"
     ]
    }
   ],
   "source": [
    "Census1880_Addresses.info()"
   ]
  },
  {
   "cell_type": "code",
   "execution_count": 40,
   "metadata": {},
   "outputs": [],
   "source": [
    "valids = Census1880_Addresses[(Census1880_Addresses[\"index_diff\"].notnull()) & (Census1880_Addresses[\"index_diff\"] <= 20)]"
   ]
  },
  {
   "cell_type": "code",
   "execution_count": 41,
   "metadata": {},
   "outputs": [
    {
     "data": {
      "text/plain": [
       "55544"
      ]
     },
     "execution_count": 41,
     "metadata": {},
     "output_type": "execute_result"
    }
   ],
   "source": [
    "len(valids)"
   ]
  },
  {
   "cell_type": "code",
   "execution_count": 48,
   "metadata": {},
   "outputs": [
    {
     "data": {
      "text/plain": [
       "0        36 GOVERNORS ISLAND\n",
       "1        43 GOVERNORS ISLAND\n",
       "2        16 GOVERNORS ISLAND\n",
       "3        33 GOVERNORS ISLAND\n",
       "4        26 GOVERNORS ISLAND\n",
       "                ...         \n",
       "57955          53 130TH ST W\n",
       "57956           1508 6TH AVE\n",
       "57957           1518 6TH AVE\n",
       "57958          20 133RD ST W\n",
       "57959          67 130TH ST W\n",
       "Name: CENSUS_ADDRESS, Length: 55544, dtype: object"
      ]
     },
     "execution_count": 48,
     "metadata": {},
     "output_type": "execute_result"
    }
   ],
   "source": [
    "valids.CENSUS_ADDRESS"
   ]
  },
  {
   "cell_type": "markdown",
   "metadata": {},
   "source": [
    "So I think the next step here would be finding a street present in both 1850 and 1880 (where we have some possibility of filling in for 1850) and see how well we can do so\n",
    "    - This probably means creating a column to keep track of how many dwelling level\n",
    "    entries exist between one address in valids and another (i think this is meant to be index_diff but I think that should be double checked)\n",
    "    - the hope is doing this will help us with comparison for 1880 and 1850 for model training approach\n",
    "    - also want to get a sense of how well this works as a process and how to automate over the entire dataset to help with the interpolation process on a larger level (if we can do some manual checking this might also help with determining how well a model training approach is working)"
   ]
  },
  {
   "cell_type": "markdown",
   "metadata": {},
   "source": [
    "#### Approach 2: Using Dwelling_Seq column"
   ]
  },
  {
   "cell_type": "markdown",
   "metadata": {},
   "source": [
    "At the moment, I'm not quite sure how to use this"
   ]
  },
  {
   "cell_type": "code",
   "execution_count": 110,
   "metadata": {},
   "outputs": [],
   "source": [
    "#Get list of indices where Dwelling_seq hits 1\n",
    "Census_hh_dw[\"index1\"] = Census_hh_dw.index "
   ]
  },
  {
   "cell_type": "code",
   "execution_count": 139,
   "metadata": {
    "scrolled": false
   },
   "outputs": [],
   "source": [
    "df = Census_hh_dw.groupby(\"CENSUS_SERIALP\").first()\n",
    "ones = df[df['CENSUS_DWELLING_SEQ'] == 1]"
   ]
  },
  {
   "cell_type": "code",
   "execution_count": 145,
   "metadata": {
    "scrolled": false
   },
   "outputs": [],
   "source": [
    "one_index = ones[\"index1\"].values"
   ]
  },
  {
   "cell_type": "code",
   "execution_count": 146,
   "metadata": {},
   "outputs": [
    {
     "data": {
      "text/plain": [
       "array([     0,      1,      2,      3,      4,      5,      6,      7,\n",
       "            8,      9,     10,     11,     12,     13,     14,     15,\n",
       "           16,     17,     18,     19,     20,     21,     22,     23,\n",
       "           24,     25,     26,     27,     28,     29,     30,     31,\n",
       "           32,     33,     34,     35,     36,     37,     38,     39,\n",
       "           40,     41,     42,     43,     44,     45,     46,     47,\n",
       "           48,     49,     50,     51,     52,     53,     54,     55,\n",
       "           56,     57,     58,     59,     60,     61,     62,     63,\n",
       "           64,     65,     66,     67,     68,     69,     70,     71,\n",
       "           72,     73,     74,     75,     76,     77,     78,     79,\n",
       "           80,     81,     82,     83,     84,    126,   7055,  19793,\n",
       "        26448,  36807,  51175,  60097,  71674,  82783,  95840, 107482,\n",
       "       125731, 140173, 152586, 166522, 174784, 189085, 201076, 215441,\n",
       "       227033, 238758, 248839, 269992, 282515, 292969, 306762, 321211,\n",
       "       333468, 346407, 357698, 368971, 384239, 395134, 421852, 436959,\n",
       "       453649, 465618, 478121, 483622, 497165])"
      ]
     },
     "execution_count": 146,
     "metadata": {},
     "output_type": "execute_result"
    }
   ],
   "source": [
    "one_index"
   ]
  },
  {
   "cell_type": "code",
   "execution_count": 149,
   "metadata": {},
   "outputs": [],
   "source": [
    "ward1 = Census_hh_dw[Census_hh_dw['CENSUS_WARD_NUM'] == 1]"
   ]
  },
  {
   "cell_type": "code",
   "execution_count": 154,
   "metadata": {},
   "outputs": [
    {
     "data": {
      "text/plain": [
       "19723"
      ]
     },
     "execution_count": 154,
     "metadata": {},
     "output_type": "execute_result"
    }
   ],
   "source": [
    "len(ward1)"
   ]
  },
  {
   "cell_type": "code",
   "execution_count": 153,
   "metadata": {},
   "outputs": [
    {
     "data": {
      "text/html": [
       "<div>\n",
       "<style scoped>\n",
       "    .dataframe tbody tr th:only-of-type {\n",
       "        vertical-align: middle;\n",
       "    }\n",
       "\n",
       "    .dataframe tbody tr th {\n",
       "        vertical-align: top;\n",
       "    }\n",
       "\n",
       "    .dataframe thead th {\n",
       "        text-align: right;\n",
       "    }\n",
       "</style>\n",
       "<table border=\"1\" class=\"dataframe\">\n",
       "  <thead>\n",
       "    <tr style=\"text-align: right;\">\n",
       "      <th></th>\n",
       "      <th>CENSUS_SERIALP</th>\n",
       "      <th>CENSUS_AGE</th>\n",
       "      <th>CENSUS_SEX</th>\n",
       "      <th>CENSUS_MARST</th>\n",
       "      <th>CENSUS_RACE</th>\n",
       "      <th>CENSUS_LABFORCE</th>\n",
       "      <th>CENSUS_IMPREL</th>\n",
       "      <th>CENSUS_OCCSTR</th>\n",
       "      <th>CENSUS_NAMELAST</th>\n",
       "      <th>CENSUS_NAMEFRST</th>\n",
       "      <th>...</th>\n",
       "      <th>CENSUS_DWELLING_SEQ</th>\n",
       "      <th>CENSUS_DWELLING_SIZE</th>\n",
       "      <th>CENSUS_GEOG</th>\n",
       "      <th>CENSUS_LINE</th>\n",
       "      <th>CENSUS_INDEX</th>\n",
       "      <th>CENSUS_ID</th>\n",
       "      <th>CD_ADDRESS</th>\n",
       "      <th>selected</th>\n",
       "      <th>index</th>\n",
       "      <th>index1</th>\n",
       "    </tr>\n",
       "  </thead>\n",
       "  <tbody>\n",
       "    <tr>\n",
       "      <th>0</th>\n",
       "      <td>2044262.0</td>\n",
       "      <td>49.0</td>\n",
       "      <td>1.0</td>\n",
       "      <td>6.0</td>\n",
       "      <td>120.0</td>\n",
       "      <td>2.0</td>\n",
       "      <td>1.0</td>\n",
       "      <td>INN KEEPER</td>\n",
       "      <td>FLINT</td>\n",
       "      <td>JOHN M</td>\n",
       "      <td>...</td>\n",
       "      <td>1.0</td>\n",
       "      <td>84.0</td>\n",
       "      <td>NEW YORK WARD 1 EASTERN DIVISION</td>\n",
       "      <td>10.0</td>\n",
       "      <td>1.0</td>\n",
       "      <td>NaN</td>\n",
       "      <td>NaN</td>\n",
       "      <td>NaN</td>\n",
       "      <td>0</td>\n",
       "      <td>0</td>\n",
       "    </tr>\n",
       "    <tr>\n",
       "      <th>1</th>\n",
       "      <td>2044263.0</td>\n",
       "      <td>36.0</td>\n",
       "      <td>2.0</td>\n",
       "      <td>6.0</td>\n",
       "      <td>120.0</td>\n",
       "      <td>0.0</td>\n",
       "      <td>1.0</td>\n",
       "      <td>NaN</td>\n",
       "      <td>FLINT</td>\n",
       "      <td>MARY A</td>\n",
       "      <td>...</td>\n",
       "      <td>1.0</td>\n",
       "      <td>84.0</td>\n",
       "      <td>NEW YORK WARD 1 EASTERN DIVISION</td>\n",
       "      <td>10.0</td>\n",
       "      <td>2.0</td>\n",
       "      <td>NaN</td>\n",
       "      <td>NaN</td>\n",
       "      <td>NaN</td>\n",
       "      <td>1</td>\n",
       "      <td>1</td>\n",
       "    </tr>\n",
       "    <tr>\n",
       "      <th>2</th>\n",
       "      <td>2044264.0</td>\n",
       "      <td>12.0</td>\n",
       "      <td>2.0</td>\n",
       "      <td>6.0</td>\n",
       "      <td>120.0</td>\n",
       "      <td>0.0</td>\n",
       "      <td>1.0</td>\n",
       "      <td>NaN</td>\n",
       "      <td>FLINT</td>\n",
       "      <td>MARY D</td>\n",
       "      <td>...</td>\n",
       "      <td>1.0</td>\n",
       "      <td>84.0</td>\n",
       "      <td>NEW YORK WARD 1 EASTERN DIVISION</td>\n",
       "      <td>10.0</td>\n",
       "      <td>3.0</td>\n",
       "      <td>NaN</td>\n",
       "      <td>NaN</td>\n",
       "      <td>NaN</td>\n",
       "      <td>2</td>\n",
       "      <td>2</td>\n",
       "    </tr>\n",
       "    <tr>\n",
       "      <th>3</th>\n",
       "      <td>2044265.0</td>\n",
       "      <td>40.0</td>\n",
       "      <td>1.0</td>\n",
       "      <td>6.0</td>\n",
       "      <td>120.0</td>\n",
       "      <td>2.0</td>\n",
       "      <td>1.0</td>\n",
       "      <td>COMB MERCHANT</td>\n",
       "      <td>OATMAN</td>\n",
       "      <td>JAMES C</td>\n",
       "      <td>...</td>\n",
       "      <td>1.0</td>\n",
       "      <td>84.0</td>\n",
       "      <td>NEW YORK WARD 1 EASTERN DIVISION</td>\n",
       "      <td>10.0</td>\n",
       "      <td>4.0</td>\n",
       "      <td>NaN</td>\n",
       "      <td>NaN</td>\n",
       "      <td>NaN</td>\n",
       "      <td>3</td>\n",
       "      <td>3</td>\n",
       "    </tr>\n",
       "    <tr>\n",
       "      <th>4</th>\n",
       "      <td>2044266.0</td>\n",
       "      <td>28.0</td>\n",
       "      <td>2.0</td>\n",
       "      <td>6.0</td>\n",
       "      <td>120.0</td>\n",
       "      <td>0.0</td>\n",
       "      <td>1.0</td>\n",
       "      <td>NaN</td>\n",
       "      <td>OATMAN</td>\n",
       "      <td>CAROLINE E</td>\n",
       "      <td>...</td>\n",
       "      <td>1.0</td>\n",
       "      <td>84.0</td>\n",
       "      <td>NEW YORK WARD 1 EASTERN DIVISION</td>\n",
       "      <td>10.0</td>\n",
       "      <td>5.0</td>\n",
       "      <td>NaN</td>\n",
       "      <td>NaN</td>\n",
       "      <td>NaN</td>\n",
       "      <td>4</td>\n",
       "      <td>4</td>\n",
       "    </tr>\n",
       "    <tr>\n",
       "      <th>...</th>\n",
       "      <td>...</td>\n",
       "      <td>...</td>\n",
       "      <td>...</td>\n",
       "      <td>...</td>\n",
       "      <td>...</td>\n",
       "      <td>...</td>\n",
       "      <td>...</td>\n",
       "      <td>...</td>\n",
       "      <td>...</td>\n",
       "      <td>...</td>\n",
       "      <td>...</td>\n",
       "      <td>...</td>\n",
       "      <td>...</td>\n",
       "      <td>...</td>\n",
       "      <td>...</td>\n",
       "      <td>...</td>\n",
       "      <td>...</td>\n",
       "      <td>...</td>\n",
       "      <td>...</td>\n",
       "      <td>...</td>\n",
       "      <td>...</td>\n",
       "    </tr>\n",
       "    <tr>\n",
       "      <th>160</th>\n",
       "      <td>2044347.0</td>\n",
       "      <td>22.0</td>\n",
       "      <td>2.0</td>\n",
       "      <td>6.0</td>\n",
       "      <td>120.0</td>\n",
       "      <td>0.0</td>\n",
       "      <td>12.0</td>\n",
       "      <td>NaN</td>\n",
       "      <td>REILEY</td>\n",
       "      <td>BRIDGET</td>\n",
       "      <td>...</td>\n",
       "      <td>1.0</td>\n",
       "      <td>35.0</td>\n",
       "      <td>NEW YORK WARD 1 EASTERN DIVISION</td>\n",
       "      <td>10.0</td>\n",
       "      <td>161.0</td>\n",
       "      <td>NaN</td>\n",
       "      <td>NaN</td>\n",
       "      <td>NaN</td>\n",
       "      <td>160</td>\n",
       "      <td>160</td>\n",
       "    </tr>\n",
       "    <tr>\n",
       "      <th>7055</th>\n",
       "      <td>2045380.0</td>\n",
       "      <td>29.0</td>\n",
       "      <td>1.0</td>\n",
       "      <td>1.0</td>\n",
       "      <td>120.0</td>\n",
       "      <td>2.0</td>\n",
       "      <td>1.0</td>\n",
       "      <td>CLERK</td>\n",
       "      <td>MILLIKIN</td>\n",
       "      <td>JOHN</td>\n",
       "      <td>...</td>\n",
       "      <td>1.0</td>\n",
       "      <td>4.0</td>\n",
       "      <td>NEW YORK WARD 1 WESTERN DIVISION</td>\n",
       "      <td>10.0</td>\n",
       "      <td>7056.0</td>\n",
       "      <td>NaN</td>\n",
       "      <td>NaN</td>\n",
       "      <td>NaN</td>\n",
       "      <td>7055</td>\n",
       "      <td>7055</td>\n",
       "    </tr>\n",
       "    <tr>\n",
       "      <th>7056</th>\n",
       "      <td>2045380.0</td>\n",
       "      <td>21.0</td>\n",
       "      <td>2.0</td>\n",
       "      <td>1.0</td>\n",
       "      <td>120.0</td>\n",
       "      <td>0.0</td>\n",
       "      <td>2.0</td>\n",
       "      <td>NaN</td>\n",
       "      <td>MILLIKIN</td>\n",
       "      <td>SARAH</td>\n",
       "      <td>...</td>\n",
       "      <td>1.0</td>\n",
       "      <td>4.0</td>\n",
       "      <td>NEW YORK WARD 1 WESTERN DIVISION</td>\n",
       "      <td>10.0</td>\n",
       "      <td>7057.0</td>\n",
       "      <td>NaN</td>\n",
       "      <td>NaN</td>\n",
       "      <td>NaN</td>\n",
       "      <td>7056</td>\n",
       "      <td>7056</td>\n",
       "    </tr>\n",
       "    <tr>\n",
       "      <th>7057</th>\n",
       "      <td>2045380.0</td>\n",
       "      <td>0.0</td>\n",
       "      <td>1.0</td>\n",
       "      <td>6.0</td>\n",
       "      <td>120.0</td>\n",
       "      <td>0.0</td>\n",
       "      <td>3.0</td>\n",
       "      <td>NaN</td>\n",
       "      <td>MILLIKIN</td>\n",
       "      <td>JOHN</td>\n",
       "      <td>...</td>\n",
       "      <td>1.0</td>\n",
       "      <td>4.0</td>\n",
       "      <td>NEW YORK WARD 1 WESTERN DIVISION</td>\n",
       "      <td>10.0</td>\n",
       "      <td>7058.0</td>\n",
       "      <td>NaN</td>\n",
       "      <td>NaN</td>\n",
       "      <td>NaN</td>\n",
       "      <td>7057</td>\n",
       "      <td>7057</td>\n",
       "    </tr>\n",
       "    <tr>\n",
       "      <th>7058</th>\n",
       "      <td>2045380.0</td>\n",
       "      <td>21.0</td>\n",
       "      <td>2.0</td>\n",
       "      <td>6.0</td>\n",
       "      <td>120.0</td>\n",
       "      <td>0.0</td>\n",
       "      <td>12.0</td>\n",
       "      <td>NaN</td>\n",
       "      <td>SIMS</td>\n",
       "      <td>ELLEN</td>\n",
       "      <td>...</td>\n",
       "      <td>1.0</td>\n",
       "      <td>4.0</td>\n",
       "      <td>NEW YORK WARD 1 WESTERN DIVISION</td>\n",
       "      <td>10.0</td>\n",
       "      <td>7059.0</td>\n",
       "      <td>NaN</td>\n",
       "      <td>NaN</td>\n",
       "      <td>NaN</td>\n",
       "      <td>7058</td>\n",
       "      <td>7058</td>\n",
       "    </tr>\n",
       "  </tbody>\n",
       "</table>\n",
       "<p>165 rows × 29 columns</p>\n",
       "</div>"
      ],
      "text/plain": [
       "      CENSUS_SERIALP  CENSUS_AGE  CENSUS_SEX  CENSUS_MARST  CENSUS_RACE  \\\n",
       "0          2044262.0        49.0         1.0           6.0        120.0   \n",
       "1          2044263.0        36.0         2.0           6.0        120.0   \n",
       "2          2044264.0        12.0         2.0           6.0        120.0   \n",
       "3          2044265.0        40.0         1.0           6.0        120.0   \n",
       "4          2044266.0        28.0         2.0           6.0        120.0   \n",
       "...              ...         ...         ...           ...          ...   \n",
       "160        2044347.0        22.0         2.0           6.0        120.0   \n",
       "7055       2045380.0        29.0         1.0           1.0        120.0   \n",
       "7056       2045380.0        21.0         2.0           1.0        120.0   \n",
       "7057       2045380.0         0.0         1.0           6.0        120.0   \n",
       "7058       2045380.0        21.0         2.0           6.0        120.0   \n",
       "\n",
       "      CENSUS_LABFORCE  CENSUS_IMPREL  CENSUS_OCCSTR CENSUS_NAMELAST  \\\n",
       "0                 2.0            1.0     INN KEEPER           FLINT   \n",
       "1                 0.0            1.0            NaN           FLINT   \n",
       "2                 0.0            1.0            NaN           FLINT   \n",
       "3                 2.0            1.0  COMB MERCHANT          OATMAN   \n",
       "4                 0.0            1.0            NaN          OATMAN   \n",
       "...               ...            ...            ...             ...   \n",
       "160               0.0           12.0            NaN          REILEY   \n",
       "7055              2.0            1.0          CLERK        MILLIKIN   \n",
       "7056              0.0            2.0            NaN        MILLIKIN   \n",
       "7057              0.0            3.0            NaN        MILLIKIN   \n",
       "7058              0.0           12.0            NaN            SIMS   \n",
       "\n",
       "     CENSUS_NAMEFRST  ...  CENSUS_DWELLING_SEQ  CENSUS_DWELLING_SIZE  \\\n",
       "0             JOHN M  ...                  1.0                  84.0   \n",
       "1             MARY A  ...                  1.0                  84.0   \n",
       "2             MARY D  ...                  1.0                  84.0   \n",
       "3            JAMES C  ...                  1.0                  84.0   \n",
       "4         CAROLINE E  ...                  1.0                  84.0   \n",
       "...              ...  ...                  ...                   ...   \n",
       "160          BRIDGET  ...                  1.0                  35.0   \n",
       "7055            JOHN  ...                  1.0                   4.0   \n",
       "7056           SARAH  ...                  1.0                   4.0   \n",
       "7057            JOHN  ...                  1.0                   4.0   \n",
       "7058           ELLEN  ...                  1.0                   4.0   \n",
       "\n",
       "                           CENSUS_GEOG  CENSUS_LINE  CENSUS_INDEX  CENSUS_ID  \\\n",
       "0     NEW YORK WARD 1 EASTERN DIVISION         10.0           1.0        NaN   \n",
       "1     NEW YORK WARD 1 EASTERN DIVISION         10.0           2.0        NaN   \n",
       "2     NEW YORK WARD 1 EASTERN DIVISION         10.0           3.0        NaN   \n",
       "3     NEW YORK WARD 1 EASTERN DIVISION         10.0           4.0        NaN   \n",
       "4     NEW YORK WARD 1 EASTERN DIVISION         10.0           5.0        NaN   \n",
       "...                                ...          ...           ...        ...   \n",
       "160   NEW YORK WARD 1 EASTERN DIVISION         10.0         161.0        NaN   \n",
       "7055  NEW YORK WARD 1 WESTERN DIVISION         10.0        7056.0        NaN   \n",
       "7056  NEW YORK WARD 1 WESTERN DIVISION         10.0        7057.0        NaN   \n",
       "7057  NEW YORK WARD 1 WESTERN DIVISION         10.0        7058.0        NaN   \n",
       "7058  NEW YORK WARD 1 WESTERN DIVISION         10.0        7059.0        NaN   \n",
       "\n",
       "      CD_ADDRESS selected  index  index1  \n",
       "0            NaN      NaN      0       0  \n",
       "1            NaN      NaN      1       1  \n",
       "2            NaN      NaN      2       2  \n",
       "3            NaN      NaN      3       3  \n",
       "4            NaN      NaN      4       4  \n",
       "...          ...      ...    ...     ...  \n",
       "160          NaN      NaN    160     160  \n",
       "7055         NaN      NaN   7055    7055  \n",
       "7056         NaN      NaN   7056    7056  \n",
       "7057         NaN      NaN   7057    7057  \n",
       "7058         NaN      NaN   7058    7058  \n",
       "\n",
       "[165 rows x 29 columns]"
      ]
     },
     "execution_count": 153,
     "metadata": {},
     "output_type": "execute_result"
    }
   ],
   "source": [
    "ward1[ward1[\"CENSUS_DWELLING_SEQ\"] == 1]"
   ]
  },
  {
   "cell_type": "markdown",
   "metadata": {},
   "source": [
    "#### Approach 3: Develop a model on 1880 set and apply to 1850"
   ]
  },
  {
   "cell_type": "markdown",
   "metadata": {},
   "source": [
    "Model 1 Concept:\n",
    "- Train a neural network to split up 1880 census data into sequences at dwelling label\n",
    "    - use addresses to create labelled sequences (could the geocoders do this -- and how difficult would it be?)\n",
    "- Apply to 1850 dataset so we have reliable sequences\n",
    "\n",
    "Issues:\n",
    "- How do we go about actually labelling with addresses from sequences?\n",
    "- We don't have dwelling numbers from 1880 -- how feasible is comparing them (potentially we could drop duplicate addresses to get dwellings -- ei do we have apartment numbers in 1880)?\n",
    "    - Confired that addresses are dwelling level\n",
    "    \n",
    "Model 2 Concept:\n",
    "- Train a neural network to assign addresses directly going from anchor points\n",
    "- maybe a sequence to sequence approach -- where we go from enumeration sequence to house number sequences\n",
    "\n",
    "Issues:\n",
    "- How will street names fit into it\n",
    "- Same issues with 1880 "
   ]
  },
  {
   "cell_type": "code",
   "execution_count": 151,
   "metadata": {},
   "outputs": [
    {
     "name": "stdout",
     "output_type": "stream",
     "text": [
      "<class 'pandas.core.frame.DataFrame'>\n",
      "RangeIndex: 1117479 entries, 0 to 1117478\n",
      "Data columns (total 42 columns):\n",
      "OBJECTID.x           1117479 non-null int64\n",
      "CENSUS_MERGEID       1117479 non-null object\n",
      "CENSUS_SERIALB       1117479 non-null int64\n",
      "CENSUS_SERIAL        1117479 non-null int64\n",
      "CENSUS_PERNUM        1117479 non-null int64\n",
      "CENSUS_RECIDUS       1117158 non-null object\n",
      "CENSUS_REEL          1117479 non-null int64\n",
      "CENSUS_VOLUME        1117479 non-null int64\n",
      "CENSUS_PAGENUM       1117479 non-null int64\n",
      "CENSUS_NAMEFRSTB     1117479 non-null object\n",
      "CENSUS_NAMELASTB     1117479 non-null object\n",
      "CENSUS_RELATE        1117479 non-null int64\n",
      "CENSUS_RELATE_STR    1117479 non-null object\n",
      "CENSUS_AGE           1117479 non-null int64\n",
      "CENSUS_SEXB          1117479 non-null int64\n",
      "CENSUS_RACENAMEB     1117479 non-null object\n",
      "CENSUS_RACEB         1117479 non-null int64\n",
      "CENSUS_NPERHHB       1117479 non-null int64\n",
      "CENSUS_OCCLABELB     1117322 non-null object\n",
      "CENSUS_SEIUSBN       1117479 non-null int64\n",
      "CENSUS_MATCH_ADDR    1117479 non-null object\n",
      "CENSUS_HOUSE_NUMB    1117479 non-null int64\n",
      "CENSUS_STREETB       1117475 non-null object\n",
      "CENSUS_TYPEB         1117154 non-null object\n",
      "CENSUS_SEGMENT_ID    1117479 non-null int64\n",
      "CENSUS_BUILDING_I    1117479 non-null int64\n",
      "CENSUS_NEIGHBOR_1    1117479 non-null int64\n",
      "CENSUS_NEIGHBOR_2    1117479 non-null int64\n",
      "CENSUS_SEGGROUP_I    1117479 non-null int64\n",
      "CENSUS_EXTGROUP_I    1117479 non-null int64\n",
      "CENSUS_CITY          1117479 non-null int64\n",
      "CENSUS_COUNTYUS      1117479 non-null int64\n",
      "CENSUS_X             1117479 non-null float64\n",
      "CENSUS_Y             1117479 non-null float64\n",
      "CENSUS_ADDRESS       1117479 non-null object\n",
      "CENSUS_ENUMDIST      1117479 non-null int64\n",
      "CENSUS_CITYNAME      1117479 non-null object\n",
      "CENSUS_STATENAME     1117479 non-null object\n",
      "CENSUS_UNITTYPE      1117479 non-null object\n",
      "MERGE_SRC            1117479 non-null object\n",
      "WARD_NUM             1110001 non-null float64\n",
      "CENSUS_AD            1110001 non-null float64\n",
      "dtypes: float64(4), int64(23), object(15)\n",
      "memory usage: 358.1+ MB\n"
     ]
    }
   ],
   "source": [
    "census_1880.info()"
   ]
  },
  {
   "cell_type": "code",
   "execution_count": null,
   "metadata": {},
   "outputs": [],
   "source": []
  }
 ],
 "metadata": {
  "kernelspec": {
   "display_name": "Python 3",
   "language": "python",
   "name": "python3"
  },
  "language_info": {
   "codemirror_mode": {
    "name": "ipython",
    "version": 3
   },
   "file_extension": ".py",
   "mimetype": "text/x-python",
   "name": "python",
   "nbconvert_exporter": "python",
   "pygments_lexer": "ipython3",
   "version": "3.7.5"
  }
 },
 "nbformat": 4,
 "nbformat_minor": 4
}
