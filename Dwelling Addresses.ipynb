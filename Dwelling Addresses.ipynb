{
 "cells": [
  {
   "cell_type": "code",
   "execution_count": 1,
   "metadata": {},
   "outputs": [],
   "source": [
    "import pandas as pd\n",
    "import numpy as np\n",
    "from collections import defaultdict\n",
    "import re\n",
    "import networkx as nx\n",
    "import disambiguation\n",
    "from networkx.algorithms import bipartite"
   ]
  },
  {
   "cell_type": "markdown",
   "metadata": {},
   "source": [
    "### Fill in Household/Dwelling Addresses Based on Addresses Selected in Disambiguation"
   ]
  },
  {
   "cell_type": "code",
   "execution_count": 2,
   "metadata": {},
   "outputs": [],
   "source": [
    "# census_1880 = pd.read_csv(\"data/census_1880_mn_v04.csv\")\n",
    "census_1850 = pd.read_csv(\"data/census_1850_indexUpdate.csv\")"
   ]
  },
  {
   "cell_type": "code",
   "execution_count": 3,
   "metadata": {},
   "outputs": [],
   "source": [
    "disambiguated_1880 = pd.read_csv(\"data/disambiguated-21-5-2020.csv\")\n",
    "disambiguated_1850 = pd.read_csv(\"data/1850_disambiguated.csv\")"
   ]
  },
  {
   "cell_type": "markdown",
   "metadata": {},
   "source": [
    "### Format Data and Get Some Basic Information\n",
    "\n",
    "Notes: Only done on 1850 dataset due to lack of clearly indicated dwelling numbers/household numbers on 1880 dataset. Need to check how well this works manually. \n",
    "-Use CENSUS_ID from disambiguated and CENSUS_IPUMS_UID from census data for joins, these have the same values, but need to strip the word CENSUS_ from CENSUS_ID data (this was added in during the disambiguation process)"
   ]
  },
  {
   "cell_type": "markdown",
   "metadata": {},
   "source": [
    "#### Merge 1850 census data with the selected matches from disambiguation "
   ]
  },
  {
   "cell_type": "code",
   "execution_count": 4,
   "metadata": {},
   "outputs": [
    {
     "name": "stdout",
     "output_type": "stream",
     "text": [
      "<class 'pandas.core.frame.DataFrame'>\n",
      "RangeIndex: 515630 entries, 0 to 515629\n",
      "Data columns (total 24 columns):\n",
      "CENSUS_SERIALP             515630 non-null int64\n",
      "CENSUS_AGE                 515630 non-null int64\n",
      "CENSUS_SEX                 515630 non-null int64\n",
      "CENSUS_MARST               515630 non-null int64\n",
      "CENSUS_RACE                515630 non-null int64\n",
      "CENSUS_LABFORCE            515630 non-null int64\n",
      "CENSUS_IMPREL              515630 non-null int64\n",
      "CENSUS_OCCSTR              160426 non-null object\n",
      "CENSUS_NAMELAST            515546 non-null object\n",
      "CENSUS_NAMEFRST            515046 non-null object\n",
      "CENSUS_SEQ_NUM             515630 non-null int64\n",
      "CENSUS_HH_NUM              515630 non-null int64\n",
      "CENSUS_IPUMS_UID           515630 non-null object\n",
      "CENSUS_CITY                515630 non-null int64\n",
      "CENSUS_PAGENO_HOUSEHOLD    515630 non-null int64\n",
      "CENSUS_WARD_NUM            515630 non-null int64\n",
      "CENSUS_REEL_HOUSEHOLD      515630 non-null int64\n",
      "CENSUS_PLACE               515630 non-null object\n",
      "CENSUS_DWELLING_NUM        514718 non-null float64\n",
      "CENSUS_DWELLING_SEQ        514020 non-null float64\n",
      "CENSUS_DWELLING_SIZE       515630 non-null int64\n",
      "CENSUS_GEOG                514918 non-null object\n",
      "CENSUS_LINE                515630 non-null int64\n",
      "CENSUS_INDEX               515630 non-null int64\n",
      "dtypes: float64(2), int64(16), object(6)\n",
      "memory usage: 94.4+ MB\n"
     ]
    }
   ],
   "source": [
    "census_1850.info()"
   ]
  },
  {
   "cell_type": "code",
   "execution_count": 5,
   "metadata": {},
   "outputs": [
    {
     "name": "stdout",
     "output_type": "stream",
     "text": [
      "<class 'pandas.core.frame.DataFrame'>\n",
      "RangeIndex: 33042 entries, 0 to 33041\n",
      "Data columns (total 36 columns):\n",
      "BLOCK_NUM              33042 non-null int64\n",
      "CD_ADDRESS             33042 non-null object\n",
      "CD_FIRST_NAME          33042 non-null object\n",
      "CD_ID                  33042 non-null object\n",
      "CD_LAST_NAME           33042 non-null object\n",
      "CD_OCCUPATION          31686 non-null object\n",
      "CD_X                   33042 non-null float64\n",
      "CD_Y                   33042 non-null float64\n",
      "CENSUS_AGE             33042 non-null int64\n",
      "CENSUS_DWELLING_SEQ    32922 non-null float64\n",
      "CENSUS_DWELLIN_NUM     32946 non-null float64\n",
      "CENSUS_ID              33042 non-null object\n",
      "CENSUS_INDEX           33042 non-null int64\n",
      "CENSUS_IPUMS_UID       33042 non-null object\n",
      "CENSUS_NAMEFRST        33042 non-null object\n",
      "CENSUS_NAMELAST        33042 non-null object\n",
      "CENSUS_OCCSTR          19420 non-null object\n",
      "CENSUS_WARD_NUM        33042 non-null int64\n",
      "OBJECTID               33042 non-null int64\n",
      "age_score              33042 non-null int64\n",
      "anchor                 33042 non-null int64\n",
      "cd_count               33042 non-null int64\n",
      "census_count           33042 non-null int64\n",
      "confidence_score       33042 non-null float64\n",
      "group_ID               33042 non-null float64\n",
      "in_cluster             27825 non-null float64\n",
      "jw_fn                  33042 non-null float64\n",
      "jw_ln                  33042 non-null float64\n",
      "jw_score               33042 non-null float64\n",
      "key                    27825 non-null float64\n",
      "letter                 27825 non-null object\n",
      "node_ID                27825 non-null object\n",
      "occ_listed             33042 non-null int64\n",
      "spatial_weight         33042 non-null float64\n",
      "selected               33042 non-null float64\n",
      "graph_ID               33042 non-null int64\n",
      "dtypes: float64(13), int64(11), object(12)\n",
      "memory usage: 9.1+ MB\n"
     ]
    }
   ],
   "source": [
    "disambiguated_1850.info()"
   ]
  },
  {
   "cell_type": "code",
   "execution_count": 6,
   "metadata": {},
   "outputs": [],
   "source": [
    "disambiguated_selected = disambiguated_1850[[\"CENSUS_ID\", \"CD_ADDRESS\", \"selected\", \"spatial_weight\" ]]\n",
    "disambiguated_selected = disambiguated_selected[disambiguated_selected[\"selected\"] == 1]\n",
    "disambiguated_selected.loc[:,\"CENSUS_ID\"] = disambiguated_selected[\"CENSUS_ID\"].apply(lambda x: x.strip(\"CENSUS_\"))"
   ]
  },
  {
   "cell_type": "code",
   "execution_count": 7,
   "metadata": {},
   "outputs": [
    {
     "name": "stdout",
     "output_type": "stream",
     "text": [
      "<class 'pandas.core.frame.DataFrame'>\n",
      "Int64Index: 12348 entries, 0 to 33041\n",
      "Data columns (total 4 columns):\n",
      "CENSUS_ID         12348 non-null object\n",
      "CD_ADDRESS        12348 non-null object\n",
      "selected          12348 non-null float64\n",
      "spatial_weight    12348 non-null float64\n",
      "dtypes: float64(2), object(2)\n",
      "memory usage: 482.3+ KB\n"
     ]
    }
   ],
   "source": [
    "disambiguated_selected.info()"
   ]
  },
  {
   "cell_type": "code",
   "execution_count": 8,
   "metadata": {},
   "outputs": [
    {
     "data": {
      "text/html": [
       "<div>\n",
       "<style scoped>\n",
       "    .dataframe tbody tr th:only-of-type {\n",
       "        vertical-align: middle;\n",
       "    }\n",
       "\n",
       "    .dataframe tbody tr th {\n",
       "        vertical-align: top;\n",
       "    }\n",
       "\n",
       "    .dataframe thead th {\n",
       "        text-align: right;\n",
       "    }\n",
       "</style>\n",
       "<table border=\"1\" class=\"dataframe\">\n",
       "  <thead>\n",
       "    <tr style=\"text-align: right;\">\n",
       "      <th></th>\n",
       "      <th>CENSUS_SERIALP</th>\n",
       "      <th>CENSUS_AGE</th>\n",
       "      <th>CENSUS_SEX</th>\n",
       "      <th>CENSUS_MARST</th>\n",
       "      <th>CENSUS_RACE</th>\n",
       "      <th>CENSUS_LABFORCE</th>\n",
       "      <th>CENSUS_IMPREL</th>\n",
       "      <th>CENSUS_OCCSTR</th>\n",
       "      <th>CENSUS_NAMELAST</th>\n",
       "      <th>CENSUS_NAMEFRST</th>\n",
       "      <th>...</th>\n",
       "      <th>CENSUS_DWELLING_NUM</th>\n",
       "      <th>CENSUS_DWELLING_SEQ</th>\n",
       "      <th>CENSUS_DWELLING_SIZE</th>\n",
       "      <th>CENSUS_GEOG</th>\n",
       "      <th>CENSUS_LINE</th>\n",
       "      <th>CENSUS_INDEX</th>\n",
       "      <th>CENSUS_ID</th>\n",
       "      <th>CD_ADDRESS</th>\n",
       "      <th>selected</th>\n",
       "      <th>spatial_weight</th>\n",
       "    </tr>\n",
       "  </thead>\n",
       "  <tbody>\n",
       "    <tr>\n",
       "      <th>0</th>\n",
       "      <td>2044262</td>\n",
       "      <td>49</td>\n",
       "      <td>1</td>\n",
       "      <td>6</td>\n",
       "      <td>120</td>\n",
       "      <td>2</td>\n",
       "      <td>1</td>\n",
       "      <td>INN KEEPER</td>\n",
       "      <td>FLINT</td>\n",
       "      <td>JOHN M</td>\n",
       "      <td>...</td>\n",
       "      <td>1.0</td>\n",
       "      <td>1.0</td>\n",
       "      <td>84</td>\n",
       "      <td>NEW YORK WARD 1 EASTERN DIVISION</td>\n",
       "      <td>10</td>\n",
       "      <td>1</td>\n",
       "      <td>NaN</td>\n",
       "      <td>NaN</td>\n",
       "      <td>NaN</td>\n",
       "      <td>NaN</td>\n",
       "    </tr>\n",
       "    <tr>\n",
       "      <th>1</th>\n",
       "      <td>2044263</td>\n",
       "      <td>36</td>\n",
       "      <td>2</td>\n",
       "      <td>6</td>\n",
       "      <td>120</td>\n",
       "      <td>0</td>\n",
       "      <td>1</td>\n",
       "      <td>NaN</td>\n",
       "      <td>FLINT</td>\n",
       "      <td>MARY A</td>\n",
       "      <td>...</td>\n",
       "      <td>1.0</td>\n",
       "      <td>1.0</td>\n",
       "      <td>84</td>\n",
       "      <td>NEW YORK WARD 1 EASTERN DIVISION</td>\n",
       "      <td>10</td>\n",
       "      <td>2</td>\n",
       "      <td>NaN</td>\n",
       "      <td>NaN</td>\n",
       "      <td>NaN</td>\n",
       "      <td>NaN</td>\n",
       "    </tr>\n",
       "    <tr>\n",
       "      <th>2</th>\n",
       "      <td>2044264</td>\n",
       "      <td>12</td>\n",
       "      <td>2</td>\n",
       "      <td>6</td>\n",
       "      <td>120</td>\n",
       "      <td>0</td>\n",
       "      <td>1</td>\n",
       "      <td>NaN</td>\n",
       "      <td>FLINT</td>\n",
       "      <td>MARY D</td>\n",
       "      <td>...</td>\n",
       "      <td>1.0</td>\n",
       "      <td>1.0</td>\n",
       "      <td>84</td>\n",
       "      <td>NEW YORK WARD 1 EASTERN DIVISION</td>\n",
       "      <td>10</td>\n",
       "      <td>3</td>\n",
       "      <td>NaN</td>\n",
       "      <td>NaN</td>\n",
       "      <td>NaN</td>\n",
       "      <td>NaN</td>\n",
       "    </tr>\n",
       "    <tr>\n",
       "      <th>3</th>\n",
       "      <td>2044265</td>\n",
       "      <td>40</td>\n",
       "      <td>1</td>\n",
       "      <td>6</td>\n",
       "      <td>120</td>\n",
       "      <td>2</td>\n",
       "      <td>1</td>\n",
       "      <td>COMB MERCHANT</td>\n",
       "      <td>OATMAN</td>\n",
       "      <td>JAMES C</td>\n",
       "      <td>...</td>\n",
       "      <td>1.0</td>\n",
       "      <td>1.0</td>\n",
       "      <td>84</td>\n",
       "      <td>NEW YORK WARD 1 EASTERN DIVISION</td>\n",
       "      <td>10</td>\n",
       "      <td>4</td>\n",
       "      <td>NaN</td>\n",
       "      <td>NaN</td>\n",
       "      <td>NaN</td>\n",
       "      <td>NaN</td>\n",
       "    </tr>\n",
       "    <tr>\n",
       "      <th>4</th>\n",
       "      <td>2044266</td>\n",
       "      <td>28</td>\n",
       "      <td>2</td>\n",
       "      <td>6</td>\n",
       "      <td>120</td>\n",
       "      <td>0</td>\n",
       "      <td>1</td>\n",
       "      <td>NaN</td>\n",
       "      <td>OATMAN</td>\n",
       "      <td>CAROLINE E</td>\n",
       "      <td>...</td>\n",
       "      <td>1.0</td>\n",
       "      <td>1.0</td>\n",
       "      <td>84</td>\n",
       "      <td>NEW YORK WARD 1 EASTERN DIVISION</td>\n",
       "      <td>10</td>\n",
       "      <td>5</td>\n",
       "      <td>NaN</td>\n",
       "      <td>NaN</td>\n",
       "      <td>NaN</td>\n",
       "      <td>NaN</td>\n",
       "    </tr>\n",
       "  </tbody>\n",
       "</table>\n",
       "<p>5 rows × 28 columns</p>\n",
       "</div>"
      ],
      "text/plain": [
       "   CENSUS_SERIALP  CENSUS_AGE  CENSUS_SEX  CENSUS_MARST  CENSUS_RACE  \\\n",
       "0         2044262          49           1             6          120   \n",
       "1         2044263          36           2             6          120   \n",
       "2         2044264          12           2             6          120   \n",
       "3         2044265          40           1             6          120   \n",
       "4         2044266          28           2             6          120   \n",
       "\n",
       "   CENSUS_LABFORCE  CENSUS_IMPREL  CENSUS_OCCSTR CENSUS_NAMELAST  \\\n",
       "0                2              1     INN KEEPER           FLINT   \n",
       "1                0              1            NaN           FLINT   \n",
       "2                0              1            NaN           FLINT   \n",
       "3                2              1  COMB MERCHANT          OATMAN   \n",
       "4                0              1            NaN          OATMAN   \n",
       "\n",
       "  CENSUS_NAMEFRST  ...  CENSUS_DWELLING_NUM  CENSUS_DWELLING_SEQ  \\\n",
       "0          JOHN M  ...                  1.0                  1.0   \n",
       "1          MARY A  ...                  1.0                  1.0   \n",
       "2          MARY D  ...                  1.0                  1.0   \n",
       "3         JAMES C  ...                  1.0                  1.0   \n",
       "4      CAROLINE E  ...                  1.0                  1.0   \n",
       "\n",
       "  CENSUS_DWELLING_SIZE                       CENSUS_GEOG  CENSUS_LINE  \\\n",
       "0                   84  NEW YORK WARD 1 EASTERN DIVISION           10   \n",
       "1                   84  NEW YORK WARD 1 EASTERN DIVISION           10   \n",
       "2                   84  NEW YORK WARD 1 EASTERN DIVISION           10   \n",
       "3                   84  NEW YORK WARD 1 EASTERN DIVISION           10   \n",
       "4                   84  NEW YORK WARD 1 EASTERN DIVISION           10   \n",
       "\n",
       "   CENSUS_INDEX  CENSUS_ID CD_ADDRESS  selected  spatial_weight  \n",
       "0             1        NaN        NaN       NaN             NaN  \n",
       "1             2        NaN        NaN       NaN             NaN  \n",
       "2             3        NaN        NaN       NaN             NaN  \n",
       "3             4        NaN        NaN       NaN             NaN  \n",
       "4             5        NaN        NaN       NaN             NaN  \n",
       "\n",
       "[5 rows x 28 columns]"
      ]
     },
     "execution_count": 8,
     "metadata": {},
     "output_type": "execute_result"
    }
   ],
   "source": [
    "CensusDis1850 = census_1850.merge(disambiguated_selected, how = \"left\", left_on = \"CENSUS_IPUMS_UID\", right_on = \"CENSUS_ID\")\n",
    "CensusDis1850.head()"
   ]
  },
  {
   "cell_type": "code",
   "execution_count": 9,
   "metadata": {},
   "outputs": [
    {
     "name": "stdout",
     "output_type": "stream",
     "text": [
      "<class 'pandas.core.frame.DataFrame'>\n",
      "Int64Index: 515630 entries, 0 to 515629\n",
      "Data columns (total 28 columns):\n",
      "CENSUS_SERIALP             515630 non-null int64\n",
      "CENSUS_AGE                 515630 non-null int64\n",
      "CENSUS_SEX                 515630 non-null int64\n",
      "CENSUS_MARST               515630 non-null int64\n",
      "CENSUS_RACE                515630 non-null int64\n",
      "CENSUS_LABFORCE            515630 non-null int64\n",
      "CENSUS_IMPREL              515630 non-null int64\n",
      "CENSUS_OCCSTR              160426 non-null object\n",
      "CENSUS_NAMELAST            515546 non-null object\n",
      "CENSUS_NAMEFRST            515046 non-null object\n",
      "CENSUS_SEQ_NUM             515630 non-null int64\n",
      "CENSUS_HH_NUM              515630 non-null int64\n",
      "CENSUS_IPUMS_UID           515630 non-null object\n",
      "CENSUS_CITY                515630 non-null int64\n",
      "CENSUS_PAGENO_HOUSEHOLD    515630 non-null int64\n",
      "CENSUS_WARD_NUM            515630 non-null int64\n",
      "CENSUS_REEL_HOUSEHOLD      515630 non-null int64\n",
      "CENSUS_PLACE               515630 non-null object\n",
      "CENSUS_DWELLING_NUM        514718 non-null float64\n",
      "CENSUS_DWELLING_SEQ        514020 non-null float64\n",
      "CENSUS_DWELLING_SIZE       515630 non-null int64\n",
      "CENSUS_GEOG                514918 non-null object\n",
      "CENSUS_LINE                515630 non-null int64\n",
      "CENSUS_INDEX               515630 non-null int64\n",
      "CENSUS_ID                  12348 non-null object\n",
      "CD_ADDRESS                 12348 non-null object\n",
      "selected                   12348 non-null float64\n",
      "spatial_weight             12348 non-null float64\n",
      "dtypes: float64(4), int64(16), object(8)\n",
      "memory usage: 114.1+ MB\n"
     ]
    }
   ],
   "source": [
    "CensusDis1850.info()"
   ]
  },
  {
   "cell_type": "code",
   "execution_count": 10,
   "metadata": {},
   "outputs": [
    {
     "name": "stdout",
     "output_type": "stream",
     "text": [
      "Proportion of census data assigned addresses: 0.023947404146384035\n"
     ]
    }
   ],
   "source": [
    "print(\"Proportion of census data assigned addresses:\", CensusDis1850.CD_ADDRESS.count()/515630)"
   ]
  },
  {
   "cell_type": "code",
   "execution_count": 11,
   "metadata": {},
   "outputs": [],
   "source": [
    "def get_counts(x, one_add, no_add, more_add, col, counts1, counts2, counts3):\n",
    "\n",
    "    c = x[\"CD_ADDRESS\"].nunique()\n",
    "    if c == 0:\n",
    "        no_add.append((x[\"CENSUS_WARD_NUM\"].iloc[0], x[col].iloc[0]))\n",
    "        counts1.append(len(x))\n",
    "    elif c == 1:\n",
    "        one_add.append((x[\"CENSUS_WARD_NUM\"].iloc[0], x[col].iloc[0]))\n",
    "        counts2.append(len(x))\n",
    "    \n",
    "    elif c > 1:\n",
    "        more_add.append((x[\"CENSUS_WARD_NUM\"].iloc[0], x[col].iloc[0]))\n",
    "        counts3.append(len(x))"
   ]
  },
  {
   "cell_type": "code",
   "execution_count": 12,
   "metadata": {},
   "outputs": [],
   "source": [
    "no_add = []\n",
    "one_add = []\n",
    "more_add = []\n",
    "counts_no_add = []\n",
    "counts_one_add = []\n",
    "counts_more_add = []\n",
    "\n",
    "for index, df in CensusDis1850.groupby([\"CENSUS_WARD_NUM\", \"CENSUS_DWELLING_NUM\"]):\n",
    "    get_counts(df, one_add, no_add, more_add, \"CENSUS_DWELLING_NUM\", counts_no_add, counts_one_add, counts_more_add)"
   ]
  },
  {
   "cell_type": "code",
   "execution_count": 13,
   "metadata": {},
   "outputs": [
    {
     "name": "stdout",
     "output_type": "stream",
     "text": [
      "Proportion of dwellings assigned one address: 0.247515762925599\n",
      "Proportion of dwellings without an address: 0.6204791929382093\n",
      "Proportion of dwellings assigned more than one address: 0.13200504413619168\n"
     ]
    }
   ],
   "source": [
    "print(\"Proportion of dwellings assigned one address:\", len(one_add)/CensusDis1850.groupby([\"CENSUS_WARD_NUM\", \"CENSUS_DWELLING_NUM\"]).ngroups)\n",
    "print(\"Proportion of dwellings without an address:\", len(no_add)/CensusDis1850.groupby([\"CENSUS_WARD_NUM\", \"CENSUS_DWELLING_NUM\"]).ngroups)\n",
    "print(\"Proportion of dwellings assigned more than one address:\", len(more_add)/CensusDis1850.groupby([\"CENSUS_WARD_NUM\", \"CENSUS_DWELLING_NUM\"]).ngroups)"
   ]
  },
  {
   "cell_type": "code",
   "execution_count": 14,
   "metadata": {},
   "outputs": [
    {
     "name": "stdout",
     "output_type": "stream",
     "text": [
      "Proportion of census data that should be assigned an address as is: 0.2948199290188701\n",
      "Proportion of census data that should be assigned an address after dealing with conflicts: 0.5070050229815953\n",
      "Proportion of census data that we shouldn't be able to assign an address to: 0.4912262668968059\n"
     ]
    }
   ],
   "source": [
    "print(\"Proportion of census data that should be assigned an address as is:\", sum(counts_one_add)/515630)\n",
    "print(\"Proportion of census data that should be assigned an address after dealing with conflicts:\", (sum(counts_one_add) + sum(counts_more_add))/515630)\n",
    "print(\"Proportion of census data that we shouldn't be able to assign an address to:\", sum(counts_no_add)/515630)"
   ]
  },
  {
   "cell_type": "markdown",
   "metadata": {},
   "source": [
    "So from dealing with filling in the dwelling information alone, we should be able to give 0.50 of census entries an address and 0.38 of dwellings an address."
   ]
  },
  {
   "cell_type": "markdown",
   "metadata": {},
   "source": [
    "#### Let's see if this holds for what we can do right now"
   ]
  },
  {
   "cell_type": "code",
   "execution_count": 15,
   "metadata": {},
   "outputs": [],
   "source": [
    "#Function for filling in households/dwelling numbers if relevant\n",
    "def check_quant(x, exceptions, col, tuple = False):\n",
    "\n",
    "    c = x[\"CD_ADDRESS\"].nunique()\n",
    "    if c > 1:\n",
    "        if tuple:\n",
    "            exceptions.append((x[\"CENSUS_WARD_NUM\"].iloc[0], x[col].iloc[0]))\n",
    "        else:\n",
    "            exceptions.append(x[col].iloc[0])\n",
    "    elif c == 1:\n",
    "        x[\"CD_ADDRESS\"] = x[\"CD_ADDRESS\"].ffill().bfill()\n",
    "  \n",
    "    return x"
   ]
  },
  {
   "cell_type": "code",
   "execution_count": 16,
   "metadata": {},
   "outputs": [],
   "source": [
    "dwellings_conflicts = []\n",
    "base_fill = CensusDis1850.groupby([\"CENSUS_WARD_NUM\", \"CENSUS_DWELLING_NUM\"]).apply(lambda x: check_quant(x, dwellings_conflicts, \"CENSUS_DWELLING_NUM\", tuple = True))"
   ]
  },
  {
   "cell_type": "code",
   "execution_count": 17,
   "metadata": {},
   "outputs": [
    {
     "name": "stdout",
     "output_type": "stream",
     "text": [
      "Proportion of census data assigned addresses: 0.3082966468203945\n"
     ]
    }
   ],
   "source": [
    "print(\"Proportion of census data assigned addresses:\", base_fill.CD_ADDRESS.count()/515630)"
   ]
  },
  {
   "cell_type": "code",
   "execution_count": 18,
   "metadata": {},
   "outputs": [
    {
     "data": {
      "text/plain": [
       "158967"
      ]
     },
     "execution_count": 18,
     "metadata": {},
     "output_type": "execute_result"
    }
   ],
   "source": [
    "base_fill.CD_ADDRESS.count()"
   ]
  },
  {
   "cell_type": "code",
   "execution_count": 19,
   "metadata": {},
   "outputs": [
    {
     "data": {
      "text/plain": [
       "152018"
      ]
     },
     "execution_count": 19,
     "metadata": {},
     "output_type": "execute_result"
    }
   ],
   "source": [
    "sum(counts_one_add)"
   ]
  },
  {
   "cell_type": "code",
   "execution_count": 20,
   "metadata": {},
   "outputs": [
    {
     "data": {
      "text/plain": [
       "True"
      ]
     },
     "execution_count": 20,
     "metadata": {},
     "output_type": "execute_result"
    }
   ],
   "source": [
    "more_add == dwellings_conflicts"
   ]
  },
  {
   "cell_type": "markdown",
   "metadata": {},
   "source": [
    "It's a little odd that more values are filled in than I would expect, but that the two lists are the same seems promising? Maybe missing dwelling numbers are causing this?"
   ]
  },
  {
   "cell_type": "code",
   "execution_count": 21,
   "metadata": {},
   "outputs": [
    {
     "name": "stdout",
     "output_type": "stream",
     "text": [
      "<class 'pandas.core.frame.DataFrame'>\n",
      "Int64Index: 912 entries, 1307 to 495263\n",
      "Data columns (total 28 columns):\n",
      "CENSUS_SERIALP             912 non-null int64\n",
      "CENSUS_AGE                 912 non-null int64\n",
      "CENSUS_SEX                 912 non-null int64\n",
      "CENSUS_MARST               912 non-null int64\n",
      "CENSUS_RACE                912 non-null int64\n",
      "CENSUS_LABFORCE            912 non-null int64\n",
      "CENSUS_IMPREL              912 non-null int64\n",
      "CENSUS_OCCSTR              367 non-null object\n",
      "CENSUS_NAMELAST            911 non-null object\n",
      "CENSUS_NAMEFRST            912 non-null object\n",
      "CENSUS_SEQ_NUM             912 non-null int64\n",
      "CENSUS_HH_NUM              912 non-null int64\n",
      "CENSUS_IPUMS_UID           912 non-null object\n",
      "CENSUS_CITY                912 non-null int64\n",
      "CENSUS_PAGENO_HOUSEHOLD    912 non-null int64\n",
      "CENSUS_WARD_NUM            912 non-null int64\n",
      "CENSUS_REEL_HOUSEHOLD      912 non-null int64\n",
      "CENSUS_PLACE               912 non-null object\n",
      "CENSUS_DWELLING_NUM        0 non-null float64\n",
      "CENSUS_DWELLING_SEQ        885 non-null float64\n",
      "CENSUS_DWELLING_SIZE       912 non-null int64\n",
      "CENSUS_GEOG                912 non-null object\n",
      "CENSUS_LINE                912 non-null int64\n",
      "CENSUS_INDEX               912 non-null int64\n",
      "CENSUS_ID                  33 non-null object\n",
      "CD_ADDRESS                 33 non-null object\n",
      "selected                   33 non-null float64\n",
      "spatial_weight             33 non-null float64\n",
      "dtypes: float64(4), int64(16), object(8)\n",
      "memory usage: 206.6+ KB\n"
     ]
    }
   ],
   "source": [
    "Dwelling_nums_nas = CensusDis1850[CensusDis1850[\"CENSUS_DWELLING_NUM\"].isnull()]\n",
    "nans_addresses = Dwelling_nums_nas.CD_ADDRESS.count()\n",
    "Dwelling_nums_nas.info()"
   ]
  },
  {
   "cell_type": "markdown",
   "metadata": {},
   "source": [
    "So this is too small to explain the difference. For now it's not different enough to stop from continuing, but it's definitely worth keeping in mind."
   ]
  },
  {
   "cell_type": "markdown",
   "metadata": {},
   "source": [
    "### Fill in Addresses for Household/Dwelling, based on Disambiguation Match"
   ]
  },
  {
   "cell_type": "markdown",
   "metadata": {},
   "source": [
    "#### Fill in addresses for census entries in the same household"
   ]
  },
  {
   "cell_type": "code",
   "execution_count": 22,
   "metadata": {},
   "outputs": [],
   "source": [
    "#confirm that household numbers are unique accross the entire dataset\n",
    "def uniqueness(df, col):\n",
    "    df_check = df[[\"CENSUS_WARD_NUM\", col]]\n",
    "    df2 = df_check.groupby(\"CENSUS_WARD_NUM\").apply(lambda x: x[col].unique())\n",
    "    d = df2.to_dict()\n",
    "    for key1 in d:\n",
    "        for key2 in d:\n",
    "            if key1 != key2:\n",
    "                check = any(item in d[key1] for item in d[key2])\n",
    "                if check is True:\n",
    "                    print(key1, key2)\n",
    "                    raise Exception(str(col) + \" numbers are not unique\")\n",
    "    return True         "
   ]
  },
  {
   "cell_type": "code",
   "execution_count": 23,
   "metadata": {},
   "outputs": [
    {
     "data": {
      "text/plain": [
       "True"
      ]
     },
     "execution_count": 23,
     "metadata": {},
     "output_type": "execute_result"
    }
   ],
   "source": [
    "uniqueness(CensusDis1850, \"CENSUS_HH_NUM\")"
   ]
  },
  {
   "cell_type": "code",
   "execution_count": 24,
   "metadata": {},
   "outputs": [
    {
     "name": "stdout",
     "output_type": "stream",
     "text": [
      "1 2\n"
     ]
    },
    {
     "ename": "Exception",
     "evalue": "CENSUS_DWELLING_NUM numbers are not unique",
     "output_type": "error",
     "traceback": [
      "\u001b[0;31m---------------------------------------------------------------------------\u001b[0m",
      "\u001b[0;31mException\u001b[0m                                 Traceback (most recent call last)",
      "\u001b[0;32m<ipython-input-24-a454716018e6>\u001b[0m in \u001b[0;36m<module>\u001b[0;34m\u001b[0m\n\u001b[0;32m----> 1\u001b[0;31m \u001b[0muniqueness\u001b[0m\u001b[0;34m(\u001b[0m\u001b[0mCensusDis1850\u001b[0m\u001b[0;34m,\u001b[0m \u001b[0;34m\"CENSUS_DWELLING_NUM\"\u001b[0m\u001b[0;34m)\u001b[0m\u001b[0;34m\u001b[0m\u001b[0;34m\u001b[0m\u001b[0m\n\u001b[0m",
      "\u001b[0;32m<ipython-input-22-274d68d83442>\u001b[0m in \u001b[0;36muniqueness\u001b[0;34m(df, col)\u001b[0m\n\u001b[1;32m     10\u001b[0m                 \u001b[0;32mif\u001b[0m \u001b[0mcheck\u001b[0m \u001b[0;32mis\u001b[0m \u001b[0;32mTrue\u001b[0m\u001b[0;34m:\u001b[0m\u001b[0;34m\u001b[0m\u001b[0;34m\u001b[0m\u001b[0m\n\u001b[1;32m     11\u001b[0m                     \u001b[0mprint\u001b[0m\u001b[0;34m(\u001b[0m\u001b[0mkey1\u001b[0m\u001b[0;34m,\u001b[0m \u001b[0mkey2\u001b[0m\u001b[0;34m)\u001b[0m\u001b[0;34m\u001b[0m\u001b[0;34m\u001b[0m\u001b[0m\n\u001b[0;32m---> 12\u001b[0;31m                     \u001b[0;32mraise\u001b[0m \u001b[0mException\u001b[0m\u001b[0;34m(\u001b[0m\u001b[0mstr\u001b[0m\u001b[0;34m(\u001b[0m\u001b[0mcol\u001b[0m\u001b[0;34m)\u001b[0m \u001b[0;34m+\u001b[0m \u001b[0;34m\" numbers are not unique\"\u001b[0m\u001b[0;34m)\u001b[0m\u001b[0;34m\u001b[0m\u001b[0;34m\u001b[0m\u001b[0m\n\u001b[0m\u001b[1;32m     13\u001b[0m     \u001b[0;32mreturn\u001b[0m \u001b[0;32mTrue\u001b[0m\u001b[0;34m\u001b[0m\u001b[0;34m\u001b[0m\u001b[0m\n",
      "\u001b[0;31mException\u001b[0m: CENSUS_DWELLING_NUM numbers are not unique"
     ]
    }
   ],
   "source": [
    "uniqueness(CensusDis1850, \"CENSUS_DWELLING_NUM\")"
   ]
  },
  {
   "cell_type": "code",
   "execution_count": 25,
   "metadata": {},
   "outputs": [
    {
     "data": {
      "text/plain": [
       "True"
      ]
     },
     "execution_count": 25,
     "metadata": {},
     "output_type": "execute_result"
    }
   ],
   "source": [
    "uniqueness(CensusDis1850, \"CENSUS_SERIALP\")"
   ]
  },
  {
   "cell_type": "code",
   "execution_count": 17,
   "metadata": {},
   "outputs": [],
   "source": [
    "#Filling addresses for people in the same household\n",
    "households = [] # keep track of any households with multiple addresses \n",
    "Census_hh = CensusDis1850.groupby(\"CENSUS_HH_NUM\").apply(lambda x: check_quant(x, households, \"CENSUS_HH_NUM\"))"
   ]
  },
  {
   "cell_type": "code",
   "execution_count": 18,
   "metadata": {},
   "outputs": [
    {
     "name": "stdout",
     "output_type": "stream",
     "text": [
      "<class 'pandas.core.frame.DataFrame'>\n",
      "Int64Index: 515630 entries, 0 to 515629\n",
      "Data columns (total 27 columns):\n",
      "CENSUS_SERIALP             515630 non-null int64\n",
      "CENSUS_AGE                 515630 non-null int64\n",
      "CENSUS_SEX                 515630 non-null int64\n",
      "CENSUS_MARST               515630 non-null int64\n",
      "CENSUS_RACE                515630 non-null int64\n",
      "CENSUS_LABFORCE            515630 non-null int64\n",
      "CENSUS_IMPREL              515630 non-null int64\n",
      "CENSUS_OCCSTR              160426 non-null object\n",
      "CENSUS_NAMELAST            515546 non-null object\n",
      "CENSUS_NAMEFRST            515046 non-null object\n",
      "CENSUS_SEQ_NUM             515630 non-null int64\n",
      "CENSUS_HH_NUM              515630 non-null int64\n",
      "CENSUS_IPUMS_UID           515630 non-null object\n",
      "CENSUS_CITY                515630 non-null int64\n",
      "CENSUS_PAGENO_HOUSEHOLD    515630 non-null int64\n",
      "CENSUS_WARD_NUM            515630 non-null int64\n",
      "CENSUS_REEL_HOUSEHOLD      515630 non-null int64\n",
      "CENSUS_PLACE               515630 non-null object\n",
      "CENSUS_DWELLING_NUM        514718 non-null float64\n",
      "CENSUS_DWELLING_SEQ        514020 non-null float64\n",
      "CENSUS_DWELLING_SIZE       515630 non-null int64\n",
      "CENSUS_GEOG                514918 non-null object\n",
      "CENSUS_LINE                515630 non-null int64\n",
      "CENSUS_INDEX               515630 non-null int64\n",
      "CENSUS_ID                  12348 non-null object\n",
      "CD_ADDRESS                 45034 non-null object\n",
      "selected                   12348 non-null float64\n",
      "dtypes: float64(3), int64(16), object(8)\n",
      "memory usage: 110.2+ MB\n"
     ]
    }
   ],
   "source": [
    "Census_hh.info()"
   ]
  },
  {
   "cell_type": "code",
   "execution_count": 19,
   "metadata": {},
   "outputs": [
    {
     "data": {
      "text/plain": [
       "372"
      ]
     },
     "execution_count": 19,
     "metadata": {},
     "output_type": "execute_result"
    }
   ],
   "source": [
    "#These households need to be inspected more carefully, it seems that they\n",
    "#have been assigned multiple addresses\n",
    "len(households)"
   ]
  },
  {
   "cell_type": "code",
   "execution_count": 32,
   "metadata": {},
   "outputs": [],
   "source": [
    "with open('data/housholds.txt', 'w') as filehandle:\n",
    "    for listitem in households:\n",
    "        filehandle.write('%s\\n' % listitem)"
   ]
  },
  {
   "cell_type": "code",
   "execution_count": 22,
   "metadata": {},
   "outputs": [
    {
     "data": {
      "text/html": [
       "<div>\n",
       "<style scoped>\n",
       "    .dataframe tbody tr th:only-of-type {\n",
       "        vertical-align: middle;\n",
       "    }\n",
       "\n",
       "    .dataframe tbody tr th {\n",
       "        vertical-align: top;\n",
       "    }\n",
       "\n",
       "    .dataframe thead th {\n",
       "        text-align: right;\n",
       "    }\n",
       "</style>\n",
       "<table border=\"1\" class=\"dataframe\">\n",
       "  <thead>\n",
       "    <tr style=\"text-align: right;\">\n",
       "      <th></th>\n",
       "      <th>CENSUS_NAMEFRST</th>\n",
       "      <th>CENSUS_NAMELAST</th>\n",
       "      <th>CENSUS_AGE</th>\n",
       "      <th>CENSUS_SEX</th>\n",
       "      <th>CENSUS_OCCSTR</th>\n",
       "      <th>CENSUS_HH_NUM</th>\n",
       "      <th>CENSUS_DWELLING_NUM</th>\n",
       "      <th>CD_ADDRESS</th>\n",
       "    </tr>\n",
       "  </thead>\n",
       "  <tbody>\n",
       "    <tr>\n",
       "      <th>15031</th>\n",
       "      <td>MICHAEL</td>\n",
       "      <td>MORAN</td>\n",
       "      <td>48</td>\n",
       "      <td>1</td>\n",
       "      <td>LABORER</td>\n",
       "      <td>409771</td>\n",
       "      <td>405.0</td>\n",
       "      <td>46 Trinity pl</td>\n",
       "    </tr>\n",
       "    <tr>\n",
       "      <th>15032</th>\n",
       "      <td>CECILIA</td>\n",
       "      <td>MORAN</td>\n",
       "      <td>42</td>\n",
       "      <td>2</td>\n",
       "      <td>NaN</td>\n",
       "      <td>409771</td>\n",
       "      <td>405.0</td>\n",
       "      <td>NaN</td>\n",
       "    </tr>\n",
       "    <tr>\n",
       "      <th>15033</th>\n",
       "      <td>CECILIA</td>\n",
       "      <td>MORAN</td>\n",
       "      <td>15</td>\n",
       "      <td>2</td>\n",
       "      <td>NaN</td>\n",
       "      <td>409771</td>\n",
       "      <td>405.0</td>\n",
       "      <td>NaN</td>\n",
       "    </tr>\n",
       "    <tr>\n",
       "      <th>15034</th>\n",
       "      <td>FRANCIS</td>\n",
       "      <td>MORAN</td>\n",
       "      <td>8</td>\n",
       "      <td>1</td>\n",
       "      <td>NaN</td>\n",
       "      <td>409771</td>\n",
       "      <td>405.0</td>\n",
       "      <td>42 Whitehall</td>\n",
       "    </tr>\n",
       "    <tr>\n",
       "      <th>15035</th>\n",
       "      <td>JULIAN</td>\n",
       "      <td>MORAN</td>\n",
       "      <td>4</td>\n",
       "      <td>2</td>\n",
       "      <td>NaN</td>\n",
       "      <td>409771</td>\n",
       "      <td>405.0</td>\n",
       "      <td>NaN</td>\n",
       "    </tr>\n",
       "  </tbody>\n",
       "</table>\n",
       "</div>"
      ],
      "text/plain": [
       "      CENSUS_NAMEFRST CENSUS_NAMELAST  CENSUS_AGE  CENSUS_SEX CENSUS_OCCSTR  \\\n",
       "15031         MICHAEL           MORAN          48           1       LABORER   \n",
       "15032         CECILIA           MORAN          42           2           NaN   \n",
       "15033         CECILIA           MORAN          15           2           NaN   \n",
       "15034         FRANCIS           MORAN           8           1           NaN   \n",
       "15035          JULIAN           MORAN           4           2           NaN   \n",
       "\n",
       "       CENSUS_HH_NUM  CENSUS_DWELLING_NUM     CD_ADDRESS  \n",
       "15031         409771                405.0  46 Trinity pl  \n",
       "15032         409771                405.0            NaN  \n",
       "15033         409771                405.0            NaN  \n",
       "15034         409771                405.0   42 Whitehall  \n",
       "15035         409771                405.0            NaN  "
      ]
     },
     "execution_count": 22,
     "metadata": {},
     "output_type": "execute_result"
    }
   ],
   "source": [
    "x = Census_hh[Census_hh[\"CENSUS_HH_NUM\"] == households[7]]\n",
    "x[[\"CENSUS_NAMEFRST\", \"CENSUS_NAMELAST\", \"CENSUS_AGE\", \"CENSUS_SEX\", \"CENSUS_OCCSTR\", \"CENSUS_HH_NUM\",\"CENSUS_DWELLING_NUM\", \"CD_ADDRESS\"]]"
   ]
  },
  {
   "cell_type": "code",
   "execution_count": 23,
   "metadata": {},
   "outputs": [
    {
     "name": "stdout",
     "output_type": "stream",
     "text": [
      "Proportion of census data assigned addresses: 0.08624691660665859\n"
     ]
    }
   ],
   "source": [
    "print(\"Proportion of census data assigned addresses:\", Census_hh[\"CD_ADDRESS\"].count()/522152)"
   ]
  },
  {
   "cell_type": "code",
   "execution_count": 24,
   "metadata": {},
   "outputs": [],
   "source": [
    "Census_hh.to_csv(\"data/Census_1850_household.csv\", index = False)"
   ]
  },
  {
   "cell_type": "markdown",
   "metadata": {},
   "source": [
    "#### Use IPUMs household number"
   ]
  },
  {
   "cell_type": "code",
   "execution_count": 25,
   "metadata": {},
   "outputs": [],
   "source": [
    "Census_hh = pd.read_csv(\"data/Census_1850_household.csv\")"
   ]
  },
  {
   "cell_type": "code",
   "execution_count": 26,
   "metadata": {},
   "outputs": [],
   "source": [
    "households_IPUMS = []\n",
    "Census_hh_IPUMS = Census_hh.groupby(\"CENSUS_SERIALP\").apply(lambda x: check_quant(x, households_IPUMS, \"CENSUS_SERIALP\"))"
   ]
  },
  {
   "cell_type": "code",
   "execution_count": 27,
   "metadata": {},
   "outputs": [
    {
     "name": "stdout",
     "output_type": "stream",
     "text": [
      "Proportion of census data assigned addresses: 0.1384175489129602\n"
     ]
    }
   ],
   "source": [
    "print(\"Proportion of census data assigned addresses:\", Census_hh_IPUMS[\"CD_ADDRESS\"].count()/522152)"
   ]
  },
  {
   "cell_type": "code",
   "execution_count": 28,
   "metadata": {},
   "outputs": [
    {
     "data": {
      "text/plain": [
       "751"
      ]
     },
     "execution_count": 28,
     "metadata": {},
     "output_type": "execute_result"
    }
   ],
   "source": [
    "len(households_IPUMS)"
   ]
  },
  {
   "cell_type": "code",
   "execution_count": 31,
   "metadata": {},
   "outputs": [],
   "source": [
    "with open('data/housholds_IPUMS.txt', 'w') as filehandle:\n",
    "    for listitem in households_IPUMS:\n",
    "        filehandle.write('%s\\n' % listitem)"
   ]
  },
  {
   "cell_type": "code",
   "execution_count": 35,
   "metadata": {},
   "outputs": [],
   "source": [
    "Census_hh_IPUMS.to_csv(\"data/Census_1850_household_IPUMS.csv\", index = False)"
   ]
  },
  {
   "cell_type": "markdown",
   "metadata": {},
   "source": [
    "#### Fill in address for census entries with same dwelling number"
   ]
  },
  {
   "cell_type": "code",
   "execution_count": 36,
   "metadata": {},
   "outputs": [],
   "source": [
    "#Filling addresses for people in the same household\n",
    "dwellings = [] # keep track of any dwellings with multiple addresses \n",
    "Census_hh_dw = Census_hh_IPUMS.groupby([\"CENSUS_WARD_NUM\",\"CENSUS_DWELLING_NUM\"]).apply(lambda x: check_quant(x, dwellings, \"CENSUS_DWELLING_NUM\", tuple = True))"
   ]
  },
  {
   "cell_type": "code",
   "execution_count": 37,
   "metadata": {},
   "outputs": [
    {
     "name": "stdout",
     "output_type": "stream",
     "text": [
      "Proportion of census data assigned addresses: 0.3579436639139561\n"
     ]
    }
   ],
   "source": [
    "print(\"Proportion of census data assigned addresses:\", Census_hh_dw[\"CD_ADDRESS\"].count()/522152)"
   ]
  },
  {
   "cell_type": "code",
   "execution_count": 38,
   "metadata": {},
   "outputs": [
    {
     "data": {
      "text/plain": [
       "2624"
      ]
     },
     "execution_count": 38,
     "metadata": {},
     "output_type": "execute_result"
    }
   ],
   "source": [
    "#Dwellings that are assigned more than one address\n",
    "len(dwellings)"
   ]
  },
  {
   "cell_type": "code",
   "execution_count": 41,
   "metadata": {},
   "outputs": [],
   "source": [
    "with open('data/dwellings.txt', 'w') as filehandle:\n",
    "    for listitem in dwellings:\n",
    "        line = ' '.join(str(x) for x in listitem)\n",
    "        filehandle.write(line + '\\n')"
   ]
  },
  {
   "cell_type": "code",
   "execution_count": 42,
   "metadata": {},
   "outputs": [],
   "source": [
    "Census_hh_dw.to_csv(\"data/Census_1850_dwellings.csv\", index = False)"
   ]
  },
  {
   "cell_type": "markdown",
   "metadata": {},
   "source": [
    "#### Check Number of Dwellings with Multiple addresses"
   ]
  },
  {
   "cell_type": "code",
   "execution_count": 44,
   "metadata": {},
   "outputs": [],
   "source": [
    "Census_hh = pd.read_csv(\"data/Census_1850_household_IPUMS.csv\")"
   ]
  },
  {
   "cell_type": "code",
   "execution_count": 45,
   "metadata": {},
   "outputs": [],
   "source": [
    "dwellings = [] # keep track of any dwellings with multiple addresses \n",
    "Census_hh_dw = Census_hh.groupby([\"CENSUS_WARD_NUM\",\"CENSUS_DWELLING_NUM\"]).apply(lambda x: check_quant(x, dwellings, \"CENSUS_DWELLING_NUM\", tuple = True))"
   ]
  },
  {
   "cell_type": "code",
   "execution_count": 47,
   "metadata": {},
   "outputs": [
    {
     "data": {
      "text/plain": [
       "0.13235813366960908"
      ]
     },
     "execution_count": 47,
     "metadata": {},
     "output_type": "execute_result"
    }
   ],
   "source": [
    "len(dwellings)/Census_hh_dw.groupby([\"CENSUS_WARD_NUM\", \"CENSUS_DWELLING_NUM\"]).ngroups"
   ]
  },
  {
   "cell_type": "markdown",
   "metadata": {},
   "source": [
    "This about holds with expectations from analysis in the beginning"
   ]
  },
  {
   "cell_type": "markdown",
   "metadata": {},
   "source": [
    "#### Check Number of Dwellings with No Address at All"
   ]
  },
  {
   "cell_type": "code",
   "execution_count": 48,
   "metadata": {},
   "outputs": [],
   "source": [
    "#Function for filling in households/dwelling numbers if relevant\n",
    "def no_address(x, col):\n",
    "    c = x[\"CD_ADDRESS\"].nunique()\n",
    "    if c == 0:\n",
    "            nones.append((x[\"CENSUS_WARD_NUM\"].iloc[0], x[col].iloc[0]))"
   ]
  },
  {
   "cell_type": "code",
   "execution_count": 49,
   "metadata": {},
   "outputs": [],
   "source": [
    "nones = []\n",
    "for index,df in Census_hh_dw.groupby([\"CENSUS_WARD_NUM\", \"CENSUS_DWELLING_NUM\"]):\n",
    "    no_address(df, \"CENSUS_DWELLING_NUM\")"
   ]
  },
  {
   "cell_type": "code",
   "execution_count": 50,
   "metadata": {},
   "outputs": [
    {
     "data": {
      "text/plain": [
       "12285"
      ]
     },
     "execution_count": 50,
     "metadata": {},
     "output_type": "execute_result"
    }
   ],
   "source": [
    "len(nones)"
   ]
  },
  {
   "cell_type": "code",
   "execution_count": 51,
   "metadata": {},
   "outputs": [
    {
     "data": {
      "text/plain": [
       "0.6196721311475409"
      ]
     },
     "execution_count": 51,
     "metadata": {},
     "output_type": "execute_result"
    }
   ],
   "source": [
    "len(nones)/Census_hh_dw.groupby([\"CENSUS_WARD_NUM\", \"CENSUS_DWELLING_NUM\"]).ngroups"
   ]
  },
  {
   "cell_type": "markdown",
   "metadata": {},
   "source": [
    "This is a little less than what we'd expect from the earlier analysis, clearly there's some situation that's not being accounted for here"
   ]
  },
  {
   "cell_type": "markdown",
   "metadata": {},
   "source": [
    "#### Issue: There are both households and dwellings that are assigned multiple addresses\n",
    "- Potential cause: an incorrect match -- it may make sense to incorporate that dwellings/households may have only a single match within the disambiguation process\n",
    "    - possible approach: two levels of bipartite matching for household and dwellings\n",
    "    - possible approach: incorporate into initial bipartite matching\n",
    "\n",
    "- Potential cause: dwellings/households that are referred to by multiple addresses - ei corner building, maybe a historical address change, streets with two names (Avenue of the Americas/6th Ave), etc.\n",
    "    - standardization can help "
   ]
  },
  {
   "cell_type": "markdown",
   "metadata": {},
   "source": [
    "### Use Bipartite Matching to Get A Single Address for Dwellings "
   ]
  },
  {
   "cell_type": "code",
   "execution_count": 2,
   "metadata": {},
   "outputs": [],
   "source": [
    "census_1850 = pd.read_csv(\"data/census_1850_indexUpdate.csv\")\n",
    "disambiguated_1850 = pd.read_csv(\"data/1850_disambiguated.csv\")"
   ]
  },
  {
   "cell_type": "code",
   "execution_count": 3,
   "metadata": {},
   "outputs": [],
   "source": [
    "disambiguated_1850_selected = disambiguated_1850[disambiguated_1850[\"selected\"] == 1] "
   ]
  },
  {
   "cell_type": "code",
   "execution_count": 4,
   "metadata": {},
   "outputs": [
    {
     "name": "stderr",
     "output_type": "stream",
     "text": [
      "/Users/tabithasugumar/anaconda3/lib/python3.7/site-packages/ipykernel_launcher.py:1: SettingWithCopyWarning: \n",
      "A value is trying to be set on a copy of a slice from a DataFrame.\n",
      "Try using .loc[row_indexer,col_indexer] = value instead\n",
      "\n",
      "See the caveats in the documentation: http://pandas.pydata.org/pandas-docs/stable/user_guide/indexing.html#returning-a-view-versus-a-copy\n",
      "  \"\"\"Entry point for launching an IPython kernel.\n"
     ]
    }
   ],
   "source": [
    "disambiguated_1850_selected[\"unique_ward\"] = disambiguated_1850_selected.apply(lambda row: str(row.CENSUS_WARD_NUM) + \"_\" + str(row.CENSUS_DWELLIN_NUM), axis = 1)"
   ]
  },
  {
   "cell_type": "code",
   "execution_count": 5,
   "metadata": {},
   "outputs": [
    {
     "data": {
      "text/plain": [
       "BLOCK_NUM               1054\n",
       "CD_ADDRESS              9038\n",
       "CD_FIRST_NAME            647\n",
       "CD_ID                  12348\n",
       "CD_LAST_NAME            3866\n",
       "CD_OCCUPATION           1734\n",
       "CD_X                    7696\n",
       "CD_Y                    7737\n",
       "CENSUS_AGE                92\n",
       "CENSUS_DWELLING_SEQ     3043\n",
       "CENSUS_DWELLIN_NUM      1333\n",
       "CENSUS_ID              12348\n",
       "CENSUS_INDEX           12348\n",
       "CENSUS_IPUMS_UID       12348\n",
       "CENSUS_NAMEFRST          695\n",
       "CENSUS_NAMELAST         4018\n",
       "CENSUS_OCCSTR           1140\n",
       "CENSUS_WARD_NUM           18\n",
       "OBJECTID               12348\n",
       "age_score                  2\n",
       "anchor                     2\n",
       "cd_count                  38\n",
       "census_count               6\n",
       "confidence_score          46\n",
       "group_ID                3236\n",
       "in_cluster                 3\n",
       "jw_fn                     23\n",
       "jw_ln                     32\n",
       "jw_score                 100\n",
       "key                        1\n",
       "letter                   107\n",
       "node_ID                  215\n",
       "occ_listed                 2\n",
       "spatial_weight           147\n",
       "selected                   1\n",
       "graph_ID               11508\n",
       "unique_ward             7533\n",
       "dtype: int64"
      ]
     },
     "execution_count": 5,
     "metadata": {},
     "output_type": "execute_result"
    }
   ],
   "source": [
    "disambiguated_1850_selected.nunique()"
   ]
  },
  {
   "cell_type": "code",
   "execution_count": 6,
   "metadata": {},
   "outputs": [
    {
     "data": {
      "text/html": [
       "<div>\n",
       "<style scoped>\n",
       "    .dataframe tbody tr th:only-of-type {\n",
       "        vertical-align: middle;\n",
       "    }\n",
       "\n",
       "    .dataframe tbody tr th {\n",
       "        vertical-align: top;\n",
       "    }\n",
       "\n",
       "    .dataframe thead th {\n",
       "        text-align: right;\n",
       "    }\n",
       "</style>\n",
       "<table border=\"1\" class=\"dataframe\">\n",
       "  <thead>\n",
       "    <tr style=\"text-align: right;\">\n",
       "      <th></th>\n",
       "      <th>CENSUS_WARD_NUM</th>\n",
       "      <th>CENSUS_DWELLIN_NUM</th>\n",
       "      <th>unique_ward</th>\n",
       "      <th>CD_ADDRESS</th>\n",
       "    </tr>\n",
       "  </thead>\n",
       "  <tbody>\n",
       "    <tr>\n",
       "      <th>0</th>\n",
       "      <td>1</td>\n",
       "      <td>1.0</td>\n",
       "      <td>1_1.0</td>\n",
       "      <td>37 South</td>\n",
       "    </tr>\n",
       "    <tr>\n",
       "      <th>1</th>\n",
       "      <td>1</td>\n",
       "      <td>1.0</td>\n",
       "      <td>1_1.0</td>\n",
       "      <td>47 Wall</td>\n",
       "    </tr>\n",
       "    <tr>\n",
       "      <th>2</th>\n",
       "      <td>1</td>\n",
       "      <td>1.0</td>\n",
       "      <td>1_1.0</td>\n",
       "      <td>12 Coenties slip</td>\n",
       "    </tr>\n",
       "    <tr>\n",
       "      <th>9</th>\n",
       "      <td>1</td>\n",
       "      <td>354.0</td>\n",
       "      <td>1_354.0</td>\n",
       "      <td>8 Depeyster</td>\n",
       "    </tr>\n",
       "    <tr>\n",
       "      <th>25</th>\n",
       "      <td>1</td>\n",
       "      <td>1.0</td>\n",
       "      <td>1_1.0</td>\n",
       "      <td>25 South</td>\n",
       "    </tr>\n",
       "    <tr>\n",
       "      <th>26</th>\n",
       "      <td>1</td>\n",
       "      <td>1.0</td>\n",
       "      <td>1_1.0</td>\n",
       "      <td>30 Washington</td>\n",
       "    </tr>\n",
       "    <tr>\n",
       "      <th>27</th>\n",
       "      <td>1</td>\n",
       "      <td>1.0</td>\n",
       "      <td>1_1.0</td>\n",
       "      <td>76 Wall</td>\n",
       "    </tr>\n",
       "    <tr>\n",
       "      <th>33</th>\n",
       "      <td>1</td>\n",
       "      <td>403.0</td>\n",
       "      <td>1_403.0</td>\n",
       "      <td>10 Wall</td>\n",
       "    </tr>\n",
       "    <tr>\n",
       "      <th>38</th>\n",
       "      <td>1</td>\n",
       "      <td>404.0</td>\n",
       "      <td>1_404.0</td>\n",
       "      <td>57 Pine</td>\n",
       "    </tr>\n",
       "    <tr>\n",
       "      <th>42</th>\n",
       "      <td>1</td>\n",
       "      <td>254.0</td>\n",
       "      <td>1_254.0</td>\n",
       "      <td>54 Wall</td>\n",
       "    </tr>\n",
       "    <tr>\n",
       "      <th>47</th>\n",
       "      <td>1</td>\n",
       "      <td>232.0</td>\n",
       "      <td>1_232.0</td>\n",
       "      <td>37 South</td>\n",
       "    </tr>\n",
       "    <tr>\n",
       "      <th>83</th>\n",
       "      <td>1</td>\n",
       "      <td>545.0</td>\n",
       "      <td>1_545.0</td>\n",
       "      <td>83 Front</td>\n",
       "    </tr>\n",
       "    <tr>\n",
       "      <th>108</th>\n",
       "      <td>1</td>\n",
       "      <td>560.0</td>\n",
       "      <td>1_560.0</td>\n",
       "      <td>114 Wall</td>\n",
       "    </tr>\n",
       "    <tr>\n",
       "      <th>115</th>\n",
       "      <td>1</td>\n",
       "      <td>171.0</td>\n",
       "      <td>1_171.0</td>\n",
       "      <td>20 Morris</td>\n",
       "    </tr>\n",
       "    <tr>\n",
       "      <th>120</th>\n",
       "      <td>1</td>\n",
       "      <td>571.0</td>\n",
       "      <td>1_571.0</td>\n",
       "      <td>106 Wall</td>\n",
       "    </tr>\n",
       "    <tr>\n",
       "      <th>122</th>\n",
       "      <td>1</td>\n",
       "      <td>197.0</td>\n",
       "      <td>1_197.0</td>\n",
       "      <td>103 Front</td>\n",
       "    </tr>\n",
       "    <tr>\n",
       "      <th>124</th>\n",
       "      <td>1</td>\n",
       "      <td>277.0</td>\n",
       "      <td>1_277.0</td>\n",
       "      <td>101 Greenwich</td>\n",
       "    </tr>\n",
       "    <tr>\n",
       "      <th>134</th>\n",
       "      <td>1</td>\n",
       "      <td>565.0</td>\n",
       "      <td>1_565.0</td>\n",
       "      <td>7 Carlisle</td>\n",
       "    </tr>\n",
       "    <tr>\n",
       "      <th>136</th>\n",
       "      <td>1</td>\n",
       "      <td>82.0</td>\n",
       "      <td>1_82.0</td>\n",
       "      <td>19 Broad</td>\n",
       "    </tr>\n",
       "    <tr>\n",
       "      <th>153</th>\n",
       "      <td>1</td>\n",
       "      <td>558.0</td>\n",
       "      <td>1_558.0</td>\n",
       "      <td>110 Wall</td>\n",
       "    </tr>\n",
       "    <tr>\n",
       "      <th>155</th>\n",
       "      <td>1</td>\n",
       "      <td>22.0</td>\n",
       "      <td>1_22.0</td>\n",
       "      <td>54 Wall</td>\n",
       "    </tr>\n",
       "    <tr>\n",
       "      <th>161</th>\n",
       "      <td>1</td>\n",
       "      <td>553.0</td>\n",
       "      <td>1_553.0</td>\n",
       "      <td>76 Wall</td>\n",
       "    </tr>\n",
       "    <tr>\n",
       "      <th>163</th>\n",
       "      <td>1</td>\n",
       "      <td>325.0</td>\n",
       "      <td>1_325.0</td>\n",
       "      <td>67 Wall</td>\n",
       "    </tr>\n",
       "    <tr>\n",
       "      <th>181</th>\n",
       "      <td>1</td>\n",
       "      <td>383.0</td>\n",
       "      <td>1_383.0</td>\n",
       "      <td>147 Front</td>\n",
       "    </tr>\n",
       "    <tr>\n",
       "      <th>237</th>\n",
       "      <td>1</td>\n",
       "      <td>397.0</td>\n",
       "      <td>1_397.0</td>\n",
       "      <td>18 Thames</td>\n",
       "    </tr>\n",
       "    <tr>\n",
       "      <th>258</th>\n",
       "      <td>1</td>\n",
       "      <td>360.0</td>\n",
       "      <td>1_360.0</td>\n",
       "      <td>5 Thames</td>\n",
       "    </tr>\n",
       "    <tr>\n",
       "      <th>309</th>\n",
       "      <td>1</td>\n",
       "      <td>390.0</td>\n",
       "      <td>1_390.0</td>\n",
       "      <td>104 Broad</td>\n",
       "    </tr>\n",
       "    <tr>\n",
       "      <th>334</th>\n",
       "      <td>1</td>\n",
       "      <td>379.0</td>\n",
       "      <td>1_379.0</td>\n",
       "      <td>128 Pearl</td>\n",
       "    </tr>\n",
       "    <tr>\n",
       "      <th>337</th>\n",
       "      <td>1</td>\n",
       "      <td>561.0</td>\n",
       "      <td>1_561.0</td>\n",
       "      <td>89 Wall</td>\n",
       "    </tr>\n",
       "    <tr>\n",
       "      <th>339</th>\n",
       "      <td>1</td>\n",
       "      <td>342.0</td>\n",
       "      <td>1_342.0</td>\n",
       "      <td>148 Front :</td>\n",
       "    </tr>\n",
       "  </tbody>\n",
       "</table>\n",
       "</div>"
      ],
      "text/plain": [
       "     CENSUS_WARD_NUM  CENSUS_DWELLIN_NUM unique_ward        CD_ADDRESS\n",
       "0                  1                 1.0       1_1.0          37 South\n",
       "1                  1                 1.0       1_1.0           47 Wall\n",
       "2                  1                 1.0       1_1.0  12 Coenties slip\n",
       "9                  1               354.0     1_354.0       8 Depeyster\n",
       "25                 1                 1.0       1_1.0          25 South\n",
       "26                 1                 1.0       1_1.0     30 Washington\n",
       "27                 1                 1.0       1_1.0           76 Wall\n",
       "33                 1               403.0     1_403.0           10 Wall\n",
       "38                 1               404.0     1_404.0           57 Pine\n",
       "42                 1               254.0     1_254.0           54 Wall\n",
       "47                 1               232.0     1_232.0          37 South\n",
       "83                 1               545.0     1_545.0          83 Front\n",
       "108                1               560.0     1_560.0          114 Wall\n",
       "115                1               171.0     1_171.0         20 Morris\n",
       "120                1               571.0     1_571.0          106 Wall\n",
       "122                1               197.0     1_197.0         103 Front\n",
       "124                1               277.0     1_277.0     101 Greenwich\n",
       "134                1               565.0     1_565.0        7 Carlisle\n",
       "136                1                82.0      1_82.0          19 Broad\n",
       "153                1               558.0     1_558.0          110 Wall\n",
       "155                1                22.0      1_22.0           54 Wall\n",
       "161                1               553.0     1_553.0           76 Wall\n",
       "163                1               325.0     1_325.0           67 Wall\n",
       "181                1               383.0     1_383.0         147 Front\n",
       "237                1               397.0     1_397.0         18 Thames\n",
       "258                1               360.0     1_360.0          5 Thames\n",
       "309                1               390.0     1_390.0         104 Broad\n",
       "334                1               379.0     1_379.0         128 Pearl\n",
       "337                1               561.0     1_561.0           89 Wall\n",
       "339                1               342.0     1_342.0       148 Front :"
      ]
     },
     "execution_count": 6,
     "metadata": {},
     "output_type": "execute_result"
    }
   ],
   "source": [
    "disambiguated_1850_selected[[\"CENSUS_WARD_NUM\", \"CENSUS_DWELLIN_NUM\",\"unique_ward\", \"CD_ADDRESS\"]].head(30)"
   ]
  },
  {
   "cell_type": "code",
   "execution_count": 7,
   "metadata": {},
   "outputs": [
    {
     "data": {
      "text/html": [
       "<div>\n",
       "<style scoped>\n",
       "    .dataframe tbody tr th:only-of-type {\n",
       "        vertical-align: middle;\n",
       "    }\n",
       "\n",
       "    .dataframe tbody tr th {\n",
       "        vertical-align: top;\n",
       "    }\n",
       "\n",
       "    .dataframe thead th {\n",
       "        text-align: right;\n",
       "    }\n",
       "</style>\n",
       "<table border=\"1\" class=\"dataframe\">\n",
       "  <thead>\n",
       "    <tr style=\"text-align: right;\">\n",
       "      <th></th>\n",
       "      <th>BLOCK_NUM</th>\n",
       "      <th>CD_ADDRESS</th>\n",
       "      <th>CD_FIRST_NAME</th>\n",
       "      <th>CD_ID</th>\n",
       "      <th>CD_LAST_NAME</th>\n",
       "      <th>CD_OCCUPATION</th>\n",
       "      <th>CD_X</th>\n",
       "      <th>CD_Y</th>\n",
       "      <th>CENSUS_AGE</th>\n",
       "      <th>CENSUS_DWELLING_SEQ</th>\n",
       "      <th>...</th>\n",
       "      <th>jw_ln</th>\n",
       "      <th>jw_score</th>\n",
       "      <th>key</th>\n",
       "      <th>letter</th>\n",
       "      <th>node_ID</th>\n",
       "      <th>occ_listed</th>\n",
       "      <th>spatial_weight</th>\n",
       "      <th>selected</th>\n",
       "      <th>graph_ID</th>\n",
       "      <th>unique_ward</th>\n",
       "    </tr>\n",
       "  </thead>\n",
       "  <tbody>\n",
       "    <tr>\n",
       "      <th>0</th>\n",
       "      <td>3794</td>\n",
       "      <td>37 South</td>\n",
       "      <td>Henry</td>\n",
       "      <td>CD_26119</td>\n",
       "      <td>Brookman</td>\n",
       "      <td>com</td>\n",
       "      <td>-74.008250</td>\n",
       "      <td>40.703128</td>\n",
       "      <td>32</td>\n",
       "      <td>1.0</td>\n",
       "      <td>...</td>\n",
       "      <td>1.0</td>\n",
       "      <td>1.0</td>\n",
       "      <td>NaN</td>\n",
       "      <td>NaN</td>\n",
       "      <td>NaN</td>\n",
       "      <td>1</td>\n",
       "      <td>2.00</td>\n",
       "      <td>1.0</td>\n",
       "      <td>0</td>\n",
       "      <td>1_1.0</td>\n",
       "    </tr>\n",
       "    <tr>\n",
       "      <th>1</th>\n",
       "      <td>716</td>\n",
       "      <td>47 Wall</td>\n",
       "      <td>M</td>\n",
       "      <td>CD_1932</td>\n",
       "      <td>Bingham</td>\n",
       "      <td>com</td>\n",
       "      <td>-74.009808</td>\n",
       "      <td>40.706465</td>\n",
       "      <td>55</td>\n",
       "      <td>1.0</td>\n",
       "      <td>...</td>\n",
       "      <td>1.0</td>\n",
       "      <td>1.0</td>\n",
       "      <td>NaN</td>\n",
       "      <td>NaN</td>\n",
       "      <td>NaN</td>\n",
       "      <td>1</td>\n",
       "      <td>2.00</td>\n",
       "      <td>1.0</td>\n",
       "      <td>1</td>\n",
       "      <td>1_1.0</td>\n",
       "    </tr>\n",
       "    <tr>\n",
       "      <th>2</th>\n",
       "      <td>3802</td>\n",
       "      <td>12 Coenties slip</td>\n",
       "      <td>Thomas</td>\n",
       "      <td>CD_17221</td>\n",
       "      <td>Mayhew</td>\n",
       "      <td>com</td>\n",
       "      <td>-74.013287</td>\n",
       "      <td>40.703637</td>\n",
       "      <td>42</td>\n",
       "      <td>1.0</td>\n",
       "      <td>...</td>\n",
       "      <td>1.0</td>\n",
       "      <td>1.0</td>\n",
       "      <td>NaN</td>\n",
       "      <td>NaN</td>\n",
       "      <td>NaN</td>\n",
       "      <td>1</td>\n",
       "      <td>1.90</td>\n",
       "      <td>1.0</td>\n",
       "      <td>2</td>\n",
       "      <td>1_1.0</td>\n",
       "    </tr>\n",
       "    <tr>\n",
       "      <th>9</th>\n",
       "      <td>687</td>\n",
       "      <td>8 Depeyster</td>\n",
       "      <td>John</td>\n",
       "      <td>CD_3399</td>\n",
       "      <td>Williams</td>\n",
       "      <td>porterhouse</td>\n",
       "      <td>-74.006297</td>\n",
       "      <td>40.705630</td>\n",
       "      <td>36</td>\n",
       "      <td>877.0</td>\n",
       "      <td>...</td>\n",
       "      <td>1.0</td>\n",
       "      <td>1.0</td>\n",
       "      <td>0.0</td>\n",
       "      <td>N13</td>\n",
       "      <td>N13_0</td>\n",
       "      <td>1</td>\n",
       "      <td>1.81</td>\n",
       "      <td>1.0</td>\n",
       "      <td>3</td>\n",
       "      <td>1_354.0</td>\n",
       "    </tr>\n",
       "    <tr>\n",
       "      <th>25</th>\n",
       "      <td>3781</td>\n",
       "      <td>25 South</td>\n",
       "      <td>Lorenzo</td>\n",
       "      <td>CD_31204</td>\n",
       "      <td>Nickerson</td>\n",
       "      <td>merchant</td>\n",
       "      <td>-74.008971</td>\n",
       "      <td>40.702672</td>\n",
       "      <td>30</td>\n",
       "      <td>1.0</td>\n",
       "      <td>...</td>\n",
       "      <td>1.0</td>\n",
       "      <td>1.0</td>\n",
       "      <td>NaN</td>\n",
       "      <td>NaN</td>\n",
       "      <td>NaN</td>\n",
       "      <td>1</td>\n",
       "      <td>2.00</td>\n",
       "      <td>1.0</td>\n",
       "      <td>4</td>\n",
       "      <td>1_1.0</td>\n",
       "    </tr>\n",
       "  </tbody>\n",
       "</table>\n",
       "<p>5 rows × 37 columns</p>\n",
       "</div>"
      ],
      "text/plain": [
       "    BLOCK_NUM        CD_ADDRESS CD_FIRST_NAME     CD_ID CD_LAST_NAME  \\\n",
       "0        3794          37 South         Henry  CD_26119     Brookman   \n",
       "1         716           47 Wall             M   CD_1932      Bingham   \n",
       "2        3802  12 Coenties slip        Thomas  CD_17221       Mayhew   \n",
       "9         687       8 Depeyster          John   CD_3399     Williams   \n",
       "25       3781          25 South       Lorenzo  CD_31204    Nickerson   \n",
       "\n",
       "   CD_OCCUPATION       CD_X       CD_Y  CENSUS_AGE  CENSUS_DWELLING_SEQ  ...  \\\n",
       "0            com -74.008250  40.703128          32                  1.0  ...   \n",
       "1            com -74.009808  40.706465          55                  1.0  ...   \n",
       "2            com -74.013287  40.703637          42                  1.0  ...   \n",
       "9    porterhouse -74.006297  40.705630          36                877.0  ...   \n",
       "25      merchant -74.008971  40.702672          30                  1.0  ...   \n",
       "\n",
       "    jw_ln jw_score  key letter node_ID occ_listed spatial_weight  selected  \\\n",
       "0     1.0      1.0  NaN    NaN     NaN          1           2.00       1.0   \n",
       "1     1.0      1.0  NaN    NaN     NaN          1           2.00       1.0   \n",
       "2     1.0      1.0  NaN    NaN     NaN          1           1.90       1.0   \n",
       "9     1.0      1.0  0.0    N13   N13_0          1           1.81       1.0   \n",
       "25    1.0      1.0  NaN    NaN     NaN          1           2.00       1.0   \n",
       "\n",
       "    graph_ID  unique_ward  \n",
       "0          0        1_1.0  \n",
       "1          1        1_1.0  \n",
       "2          2        1_1.0  \n",
       "9          3      1_354.0  \n",
       "25         4        1_1.0  \n",
       "\n",
       "[5 rows x 37 columns]"
      ]
     },
     "execution_count": 7,
     "metadata": {},
     "output_type": "execute_result"
    }
   ],
   "source": [
    "disambiguated_1850_selected.head()"
   ]
  },
  {
   "cell_type": "code",
   "execution_count": 8,
   "metadata": {},
   "outputs": [
    {
     "name": "stdout",
     "output_type": "stream",
     "text": [
      "<class 'pandas.core.frame.DataFrame'>\n",
      "Int64Index: 12348 entries, 0 to 33041\n",
      "Data columns (total 37 columns):\n",
      "BLOCK_NUM              12348 non-null int64\n",
      "CD_ADDRESS             12348 non-null object\n",
      "CD_FIRST_NAME          12348 non-null object\n",
      "CD_ID                  12348 non-null object\n",
      "CD_LAST_NAME           12348 non-null object\n",
      "CD_OCCUPATION          11784 non-null object\n",
      "CD_X                   12348 non-null float64\n",
      "CD_Y                   12348 non-null float64\n",
      "CENSUS_AGE             12348 non-null int64\n",
      "CENSUS_DWELLING_SEQ    12306 non-null float64\n",
      "CENSUS_DWELLIN_NUM     12315 non-null float64\n",
      "CENSUS_ID              12348 non-null object\n",
      "CENSUS_INDEX           12348 non-null int64\n",
      "CENSUS_IPUMS_UID       12348 non-null object\n",
      "CENSUS_NAMEFRST        12348 non-null object\n",
      "CENSUS_NAMELAST        12348 non-null object\n",
      "CENSUS_OCCSTR          9701 non-null object\n",
      "CENSUS_WARD_NUM        12348 non-null int64\n",
      "OBJECTID               12348 non-null int64\n",
      "age_score              12348 non-null int64\n",
      "anchor                 12348 non-null int64\n",
      "cd_count               12348 non-null int64\n",
      "census_count           12348 non-null int64\n",
      "confidence_score       12348 non-null float64\n",
      "group_ID               12348 non-null float64\n",
      "in_cluster             9410 non-null float64\n",
      "jw_fn                  12348 non-null float64\n",
      "jw_ln                  12348 non-null float64\n",
      "jw_score               12348 non-null float64\n",
      "key                    9410 non-null float64\n",
      "letter                 9410 non-null object\n",
      "node_ID                9410 non-null object\n",
      "occ_listed             12348 non-null int64\n",
      "spatial_weight         12348 non-null float64\n",
      "selected               12348 non-null float64\n",
      "graph_ID               12348 non-null int64\n",
      "unique_ward            12348 non-null object\n",
      "dtypes: float64(13), int64(11), object(13)\n",
      "memory usage: 3.6+ MB\n"
     ]
    }
   ],
   "source": [
    "disambiguated_1850_selected.info()"
   ]
  },
  {
   "cell_type": "code",
   "execution_count": 61,
   "metadata": {},
   "outputs": [],
   "source": [
    "def get_matches_dwelling(df, cd_id = 'CD_ID', census_id = 'CENSUS_ID', weight = 'spatial_weight'):\n",
    "    \n",
    "    #This is to preserve order\n",
    "    df = df.copy()\n",
    "    df[cd_id] = \"A_ \" + df[cd_id].astype(str)\n",
    "    df[census_id] = \"B_ \" + df[census_id].astype(str)\n",
    "    \n",
    "    b_edges = [(row[cd_id], row[census_id], row[weight]) for index, row in df.iterrows()]\n",
    "    b = nx.Graph()\n",
    "    b.add_nodes_from(df[cd_id].unique(), bipartite = 0)\n",
    "    b.add_nodes_from(df[census_id].unique(), bipartite = 1)\n",
    "    b.add_weighted_edges_from(b_edges)\n",
    "\n",
    "    # algorithm is too expensive if we perform it on entire graph. moreover, graph is actually disconnected into sub_graphs. apply algorithm on subgraphs instead\n",
    "    subgraphs = [b.subgraph(c) for c in nx.connected_components(b)]\n",
    "    matches = [list(nx.max_weight_matching(graph, maxcardinality = True)) for graph in subgraphs]\n",
    "    matches = [sorted(list(item)) for sublist in matches for item in sublist] # unnest and convert pairs from tuple to list\n",
    "    matches = pd.DataFrame(matches, columns=[cd_id, census_id])\n",
    "    \n",
    "    matches.loc[:,cd_id] = matches[cd_id].apply(lambda x: x.strip(\"A_ \"))\n",
    "    matches.loc[:,census_id] = matches[census_id].apply(lambda x: x.strip(\"B_ \"))\n",
    "\n",
    "    return matches"
   ]
  },
  {
   "cell_type": "code",
   "execution_count": 62,
   "metadata": {},
   "outputs": [],
   "source": [
    "match = get_matches_dwelling(disambiguated_1850_selected, cd_id = \"unique_ward\", census_id = \"CD_ADDRESS\")"
   ]
  },
  {
   "cell_type": "code",
   "execution_count": 63,
   "metadata": {},
   "outputs": [
    {
     "data": {
      "text/html": [
       "<div>\n",
       "<style scoped>\n",
       "    .dataframe tbody tr th:only-of-type {\n",
       "        vertical-align: middle;\n",
       "    }\n",
       "\n",
       "    .dataframe tbody tr th {\n",
       "        vertical-align: top;\n",
       "    }\n",
       "\n",
       "    .dataframe thead th {\n",
       "        text-align: right;\n",
       "    }\n",
       "</style>\n",
       "<table border=\"1\" class=\"dataframe\">\n",
       "  <thead>\n",
       "    <tr style=\"text-align: right;\">\n",
       "      <th></th>\n",
       "      <th>unique_ward</th>\n",
       "      <th>CD_ADDRESS</th>\n",
       "    </tr>\n",
       "  </thead>\n",
       "  <tbody>\n",
       "    <tr>\n",
       "      <th>0</th>\n",
       "      <td>1_356.0</td>\n",
       "      <td>34 Beaver</td>\n",
       "    </tr>\n",
       "    <tr>\n",
       "      <th>1</th>\n",
       "      <td>1_171.0</td>\n",
       "      <td>95 Cedar</td>\n",
       "    </tr>\n",
       "    <tr>\n",
       "      <th>2</th>\n",
       "      <td>1_141.0</td>\n",
       "      <td>13 Water</td>\n",
       "    </tr>\n",
       "    <tr>\n",
       "      <th>3</th>\n",
       "      <td>17_192.0</td>\n",
       "      <td>373} Bow» ery</td>\n",
       "    </tr>\n",
       "    <tr>\n",
       "      <th>4</th>\n",
       "      <td>1_545.0</td>\n",
       "      <td>41 Beaver</td>\n",
       "    </tr>\n",
       "    <tr>\n",
       "      <th>5</th>\n",
       "      <td>1_523.0</td>\n",
       "      <td>24 Thames</td>\n",
       "    </tr>\n",
       "    <tr>\n",
       "      <th>6</th>\n",
       "      <td>1_244.0</td>\n",
       "      <td>7 S . William</td>\n",
       "    </tr>\n",
       "    <tr>\n",
       "      <th>7</th>\n",
       "      <td>1_97.0</td>\n",
       "      <td>49 Pearl &amp; 36 Bridge</td>\n",
       "    </tr>\n",
       "    <tr>\n",
       "      <th>8</th>\n",
       "      <td>1_28.0</td>\n",
       "      <td>132 Broadway</td>\n",
       "    </tr>\n",
       "    <tr>\n",
       "      <th>9</th>\n",
       "      <td>1_134.0</td>\n",
       "      <td>42 Whitehall</td>\n",
       "    </tr>\n",
       "    <tr>\n",
       "      <th>10</th>\n",
       "      <td>1_379.0</td>\n",
       "      <td>27 Wall</td>\n",
       "    </tr>\n",
       "    <tr>\n",
       "      <th>11</th>\n",
       "      <td>1_312.0</td>\n",
       "      <td>139 Washington</td>\n",
       "    </tr>\n",
       "    <tr>\n",
       "      <th>12</th>\n",
       "      <td>1_135.0</td>\n",
       "      <td>137 Broadway</td>\n",
       "    </tr>\n",
       "    <tr>\n",
       "      <th>13</th>\n",
       "      <td>1_232.0</td>\n",
       "      <td>33 W . 13th</td>\n",
       "    </tr>\n",
       "    <tr>\n",
       "      <th>14</th>\n",
       "      <td>1_186.0</td>\n",
       "      <td>37 Wall</td>\n",
       "    </tr>\n",
       "    <tr>\n",
       "      <th>15</th>\n",
       "      <td>1_403.0</td>\n",
       "      <td>10 Wall</td>\n",
       "    </tr>\n",
       "    <tr>\n",
       "      <th>16</th>\n",
       "      <td>1_333.0</td>\n",
       "      <td>14 Wall</td>\n",
       "    </tr>\n",
       "    <tr>\n",
       "      <th>17</th>\n",
       "      <td>1_143.0</td>\n",
       "      <td>2 Front</td>\n",
       "    </tr>\n",
       "    <tr>\n",
       "      <th>18</th>\n",
       "      <td>1_264.0</td>\n",
       "      <td>$93 Pearl</td>\n",
       "    </tr>\n",
       "    <tr>\n",
       "      <th>19</th>\n",
       "      <td>1_574.0</td>\n",
       "      <td>65 Pine</td>\n",
       "    </tr>\n",
       "    <tr>\n",
       "      <th>20</th>\n",
       "      <td>1_512.0</td>\n",
       "      <td>47 Greenwich</td>\n",
       "    </tr>\n",
       "    <tr>\n",
       "      <th>21</th>\n",
       "      <td>1_245.0</td>\n",
       "      <td>14 Trinity pl</td>\n",
       "    </tr>\n",
       "    <tr>\n",
       "      <th>22</th>\n",
       "      <td>1_321.0</td>\n",
       "      <td>71 Wall</td>\n",
       "    </tr>\n",
       "    <tr>\n",
       "      <th>23</th>\n",
       "      <td>1_83.0</td>\n",
       "      <td>70 Pine</td>\n",
       "    </tr>\n",
       "    <tr>\n",
       "      <th>24</th>\n",
       "      <td>1_323.0</td>\n",
       "      <td>35 Washington</td>\n",
       "    </tr>\n",
       "    <tr>\n",
       "      <th>25</th>\n",
       "      <td>1_346.0</td>\n",
       "      <td>47 Wall</td>\n",
       "    </tr>\n",
       "    <tr>\n",
       "      <th>26</th>\n",
       "      <td>1_173.0</td>\n",
       "      <td>82 Wall</td>\n",
       "    </tr>\n",
       "    <tr>\n",
       "      <th>27</th>\n",
       "      <td>1_1.0</td>\n",
       "      <td>25 South</td>\n",
       "    </tr>\n",
       "    <tr>\n",
       "      <th>28</th>\n",
       "      <td>1_57.0</td>\n",
       "      <td>38 Pearl</td>\n",
       "    </tr>\n",
       "    <tr>\n",
       "      <th>29</th>\n",
       "      <td>1_111.0</td>\n",
       "      <td>35 Depeyster</td>\n",
       "    </tr>\n",
       "  </tbody>\n",
       "</table>\n",
       "</div>"
      ],
      "text/plain": [
       "   unique_ward            CD_ADDRESS\n",
       "0      1_356.0             34 Beaver\n",
       "1      1_171.0              95 Cedar\n",
       "2      1_141.0              13 Water\n",
       "3     17_192.0         373} Bow» ery\n",
       "4      1_545.0             41 Beaver\n",
       "5      1_523.0             24 Thames\n",
       "6      1_244.0         7 S . William\n",
       "7       1_97.0  49 Pearl & 36 Bridge\n",
       "8       1_28.0          132 Broadway\n",
       "9      1_134.0          42 Whitehall\n",
       "10     1_379.0               27 Wall\n",
       "11     1_312.0        139 Washington\n",
       "12     1_135.0          137 Broadway\n",
       "13     1_232.0           33 W . 13th\n",
       "14     1_186.0               37 Wall\n",
       "15     1_403.0               10 Wall\n",
       "16     1_333.0               14 Wall\n",
       "17     1_143.0               2 Front\n",
       "18     1_264.0             $93 Pearl\n",
       "19     1_574.0               65 Pine\n",
       "20     1_512.0          47 Greenwich\n",
       "21     1_245.0         14 Trinity pl\n",
       "22     1_321.0               71 Wall\n",
       "23      1_83.0               70 Pine\n",
       "24     1_323.0         35 Washington\n",
       "25     1_346.0               47 Wall\n",
       "26     1_173.0               82 Wall\n",
       "27       1_1.0              25 South\n",
       "28      1_57.0              38 Pearl\n",
       "29     1_111.0          35 Depeyster"
      ]
     },
     "execution_count": 63,
     "metadata": {},
     "output_type": "execute_result"
    }
   ],
   "source": [
    "match.head(30)"
   ]
  },
  {
   "cell_type": "code",
   "execution_count": 64,
   "metadata": {},
   "outputs": [
    {
     "name": "stdout",
     "output_type": "stream",
     "text": [
      "<class 'pandas.core.frame.DataFrame'>\n",
      "RangeIndex: 6953 entries, 0 to 6952\n",
      "Data columns (total 2 columns):\n",
      "unique_ward    6953 non-null object\n",
      "CD_ADDRESS     6953 non-null object\n",
      "dtypes: object(2)\n",
      "memory usage: 108.8+ KB\n"
     ]
    }
   ],
   "source": [
    "match.info()"
   ]
  },
  {
   "cell_type": "code",
   "execution_count": 65,
   "metadata": {},
   "outputs": [
    {
     "data": {
      "text/plain": [
       "BLOCK_NUM               1054\n",
       "CD_ADDRESS              9038\n",
       "CD_FIRST_NAME            647\n",
       "CD_ID                  12348\n",
       "CD_LAST_NAME            3866\n",
       "CD_OCCUPATION           1734\n",
       "CD_X                    7696\n",
       "CD_Y                    7737\n",
       "CENSUS_AGE                92\n",
       "CENSUS_DWELLING_SEQ     3043\n",
       "CENSUS_DWELLIN_NUM      1333\n",
       "CENSUS_ID              12348\n",
       "CENSUS_INDEX           12348\n",
       "CENSUS_IPUMS_UID       12348\n",
       "CENSUS_NAMEFRST          695\n",
       "CENSUS_NAMELAST         4018\n",
       "CENSUS_OCCSTR           1140\n",
       "CENSUS_WARD_NUM           18\n",
       "OBJECTID               12348\n",
       "age_score                  2\n",
       "anchor                     2\n",
       "cd_count                  38\n",
       "census_count               6\n",
       "confidence_score          46\n",
       "group_ID                3236\n",
       "in_cluster                 3\n",
       "jw_fn                     23\n",
       "jw_ln                     32\n",
       "jw_score                 100\n",
       "key                        1\n",
       "letter                   107\n",
       "node_ID                  215\n",
       "occ_listed                 2\n",
       "spatial_weight           147\n",
       "selected                   1\n",
       "graph_ID               11508\n",
       "unique_ward             7533\n",
       "dtype: int64"
      ]
     },
     "execution_count": 65,
     "metadata": {},
     "output_type": "execute_result"
    }
   ],
   "source": [
    "disambiguated_1850_selected.nunique()"
   ]
  },
  {
   "cell_type": "code",
   "execution_count": 66,
   "metadata": {},
   "outputs": [
    {
     "name": "stderr",
     "output_type": "stream",
     "text": [
      "/Users/tabithasugumar/anaconda3/lib/python3.7/site-packages/ipykernel_launcher.py:2: SettingWithCopyWarning: \n",
      "A value is trying to be set on a copy of a slice from a DataFrame\n",
      "\n",
      "See the caveats in the documentation: http://pandas.pydata.org/pandas-docs/stable/user_guide/indexing.html#returning-a-view-versus-a-copy\n",
      "  \n"
     ]
    }
   ],
   "source": [
    "disambiguated_1850_selected = disambiguated_1850_selected[[\"CENSUS_IPUMS_UID\", \"unique_ward\"]]\n",
    "disambiguated_1850_selected.drop_duplicates(\"unique_ward\", inplace = True)\n",
    "matched = disambiguated_1850_selected.merge(match, how = \"left\", on = \"unique_ward\", validate = \"one_to_one\")\n",
    "dwelling_addresses = census_1850.merge(matched, how = \"left\", on = \"CENSUS_IPUMS_UID\")"
   ]
  },
  {
   "cell_type": "code",
   "execution_count": 67,
   "metadata": {},
   "outputs": [
    {
     "data": {
      "text/plain": [
       "CENSUS_IPUMS_UID    7533\n",
       "unique_ward         7533\n",
       "CD_ADDRESS          6939\n",
       "dtype: int64"
      ]
     },
     "execution_count": 67,
     "metadata": {},
     "output_type": "execute_result"
    }
   ],
   "source": [
    "matched.nunique()"
   ]
  },
  {
   "cell_type": "code",
   "execution_count": 68,
   "metadata": {},
   "outputs": [
    {
     "name": "stdout",
     "output_type": "stream",
     "text": [
      "<class 'pandas.core.frame.DataFrame'>\n",
      "Int64Index: 515630 entries, 0 to 515629\n",
      "Data columns (total 26 columns):\n",
      "CENSUS_SERIALP             515630 non-null int64\n",
      "CENSUS_AGE                 515630 non-null int64\n",
      "CENSUS_SEX                 515630 non-null int64\n",
      "CENSUS_MARST               515630 non-null int64\n",
      "CENSUS_RACE                515630 non-null int64\n",
      "CENSUS_LABFORCE            515630 non-null int64\n",
      "CENSUS_IMPREL              515630 non-null int64\n",
      "CENSUS_OCCSTR              160426 non-null object\n",
      "CENSUS_NAMELAST            515546 non-null object\n",
      "CENSUS_NAMEFRST            515046 non-null object\n",
      "CENSUS_SEQ_NUM             515630 non-null int64\n",
      "CENSUS_HH_NUM              515630 non-null int64\n",
      "CENSUS_IPUMS_UID           515630 non-null object\n",
      "CENSUS_CITY                515630 non-null int64\n",
      "CENSUS_PAGENO_HOUSEHOLD    515630 non-null int64\n",
      "CENSUS_WARD_NUM            515630 non-null int64\n",
      "CENSUS_REEL_HOUSEHOLD      515630 non-null int64\n",
      "CENSUS_PLACE               515630 non-null object\n",
      "CENSUS_DWELLING_NUM        514718 non-null float64\n",
      "CENSUS_DWELLING_SEQ        514020 non-null float64\n",
      "CENSUS_DWELLING_SIZE       515630 non-null int64\n",
      "CENSUS_GEOG                514918 non-null object\n",
      "CENSUS_LINE                515630 non-null int64\n",
      "CENSUS_INDEX               515630 non-null int64\n",
      "unique_ward                7533 non-null object\n",
      "CD_ADDRESS                 6953 non-null object\n",
      "dtypes: float64(2), int64(16), object(8)\n",
      "memory usage: 106.2+ MB\n"
     ]
    }
   ],
   "source": [
    "dwelling_addresses.info()"
   ]
  },
  {
   "cell_type": "code",
   "execution_count": 69,
   "metadata": {},
   "outputs": [
    {
     "name": "stdout",
     "output_type": "stream",
     "text": [
      "Proportion of census data assigned addresses: 0.013484475302057677\n"
     ]
    }
   ],
   "source": [
    "print(\"Proportion of census data assigned addresses:\", dwelling_addresses.CD_ADDRESS.count()/515630)"
   ]
  },
  {
   "cell_type": "code",
   "execution_count": 75,
   "metadata": {},
   "outputs": [],
   "source": [
    "#Function for filling in households/dwelling numbers if relevant\n",
    "def check_quant(x, nones, exceptions, col, tuple = False):\n",
    "\n",
    "    c = x[\"CD_ADDRESS\"].nunique()\n",
    "    if c == 0:\n",
    "        if tuple:\n",
    "            nones.append((x[\"CENSUS_WARD_NUM\"].iloc[0], x[col].iloc[0]))\n",
    "        else:\n",
    "            nones.append(x[col].iloc[0])\n",
    "    elif c > 1:\n",
    "        if tuple:\n",
    "            exceptions.append((x[\"CENSUS_WARD_NUM\"].iloc[0], x[col].iloc[0]))\n",
    "        else:\n",
    "            exceptions.append(x[col].iloc[0])\n",
    "    elif c == 1:\n",
    "        x[\"CD_ADDRESS\"] = x[\"CD_ADDRESS\"].ffill().bfill()\n",
    "  \n",
    "    return x"
   ]
  },
  {
   "cell_type": "code",
   "execution_count": 76,
   "metadata": {},
   "outputs": [],
   "source": [
    "dwellings_noadd = []\n",
    "dwellings = [] # keep track of any dwellings with multiple addresses \n",
    "Census_hh_dw = dwelling_addresses.groupby([\"CENSUS_WARD_NUM\",\"CENSUS_DWELLING_NUM\"]).apply(lambda x: check_quant(x, dwellings_noadd, dwellings, \"CENSUS_DWELLING_NUM\", tuple = True))"
   ]
  },
  {
   "cell_type": "code",
   "execution_count": 77,
   "metadata": {},
   "outputs": [
    {
     "name": "stdout",
     "output_type": "stream",
     "text": [
      "Proportion of census data assigned addresses: 0.4702383492038865\n"
     ]
    }
   ],
   "source": [
    "print(\"Proportion of census data assigned addresses:\", Census_hh_dw.CD_ADDRESS.count()/515630)"
   ]
  },
  {
   "cell_type": "code",
   "execution_count": 78,
   "metadata": {},
   "outputs": [
    {
     "data": {
      "text/plain": [
       "0"
      ]
     },
     "execution_count": 78,
     "metadata": {},
     "output_type": "execute_result"
    }
   ],
   "source": [
    "#Four dwellings less than the earlier interpolation one\n",
    "len(dwellings)"
   ]
  },
  {
   "cell_type": "code",
   "execution_count": 79,
   "metadata": {},
   "outputs": [
    {
     "data": {
      "text/plain": [
       "12881"
      ]
     },
     "execution_count": 79,
     "metadata": {},
     "output_type": "execute_result"
    }
   ],
   "source": [
    "len(dwellings_noadd)"
   ]
  },
  {
   "cell_type": "code",
   "execution_count": 82,
   "metadata": {},
   "outputs": [
    {
     "data": {
      "text/plain": [
       "19825"
      ]
     },
     "execution_count": 82,
     "metadata": {},
     "output_type": "execute_result"
    }
   ],
   "source": [
    "Census_hh_dw.groupby([\"CENSUS_WARD_NUM\",\"CENSUS_DWELLING_NUM\"]).ngroups"
   ]
  },
  {
   "cell_type": "code",
   "execution_count": 83,
   "metadata": {},
   "outputs": [
    {
     "name": "stdout",
     "output_type": "stream",
     "text": [
      "Proportion of Dwellings Without Addresses: 0.6497351828499369\n"
     ]
    }
   ],
   "source": [
    "print(\"Proportion of Dwellings Without Addresses:\", len(dwellings_noadd)/Census_hh_dw.groupby([\"CENSUS_WARD_NUM\",\"CENSUS_DWELLING_NUM\"]).ngroups)"
   ]
  },
  {
   "cell_type": "code",
   "execution_count": 80,
   "metadata": {},
   "outputs": [
    {
     "name": "stdout",
     "output_type": "stream",
     "text": [
      "<class 'pandas.core.frame.DataFrame'>\n",
      "Int64Index: 515630 entries, 0 to 515629\n",
      "Data columns (total 26 columns):\n",
      "CENSUS_SERIALP             514718 non-null float64\n",
      "CENSUS_AGE                 514718 non-null float64\n",
      "CENSUS_SEX                 514718 non-null float64\n",
      "CENSUS_MARST               514718 non-null float64\n",
      "CENSUS_RACE                514718 non-null float64\n",
      "CENSUS_LABFORCE            514718 non-null float64\n",
      "CENSUS_IMPREL              514718 non-null float64\n",
      "CENSUS_OCCSTR              160059 non-null object\n",
      "CENSUS_NAMELAST            514635 non-null object\n",
      "CENSUS_NAMEFRST            514134 non-null object\n",
      "CENSUS_SEQ_NUM             514718 non-null float64\n",
      "CENSUS_HH_NUM              514718 non-null float64\n",
      "CENSUS_IPUMS_UID           514718 non-null object\n",
      "CENSUS_CITY                514718 non-null float64\n",
      "CENSUS_PAGENO_HOUSEHOLD    514718 non-null float64\n",
      "CENSUS_WARD_NUM            514718 non-null float64\n",
      "CENSUS_REEL_HOUSEHOLD      514718 non-null float64\n",
      "CENSUS_PLACE               514718 non-null object\n",
      "CENSUS_DWELLING_NUM        514718 non-null float64\n",
      "CENSUS_DWELLING_SEQ        513135 non-null float64\n",
      "CENSUS_DWELLING_SIZE       514718 non-null float64\n",
      "CENSUS_GEOG                514006 non-null object\n",
      "CENSUS_LINE                514718 non-null float64\n",
      "CENSUS_INDEX               514718 non-null float64\n",
      "unique_ward                7524 non-null object\n",
      "CD_ADDRESS                 242469 non-null object\n",
      "dtypes: float64(18), object(8)\n",
      "memory usage: 106.2+ MB\n"
     ]
    }
   ],
   "source": [
    "Census_hh_dw.info()"
   ]
  },
  {
   "cell_type": "markdown",
   "metadata": {},
   "source": [
    "### Interlude: Geog Variable\n",
    "\n",
    "- Invesitgation shows that institutions have one address as expected"
   ]
  },
  {
   "cell_type": "code",
   "execution_count": 85,
   "metadata": {},
   "outputs": [
    {
     "data": {
      "text/plain": [
       "array(['NEW YORK WARD 1 EASTERN DIVISION', nan,\n",
       "       'NEW YORK WARD 1 WESTERN DIVISION', 'NEW YORK WARD 2',\n",
       "       'NEW YORK WARD 3', 'NEW YORK WARD 4', 'NEW YORK WARD 5',\n",
       "       'NEW YORK WARD 6', 'NEW YORK WARD 7 DISTRICT 1',\n",
       "       'NEW YORK WARD 7 DISTRICT 2', 'NEW YORK WARD 8 DISTRICT 1',\n",
       "       'NEW YORK WARD 8', 'NEW YORK WARD 9 DISTRICT 1',\n",
       "       'NEW YORK WARD 9 DISTRICT 2', 'NEW YORK WARD 9 DISTRICT 3',\n",
       "       'NEW YORK WARD 10', 'NEW YORK WARD 11', 'NEW YORK WARD 12',\n",
       "       'NEW YORK WARD 13', 'NEW YORK WARD 14',\n",
       "       'NEW YORK WARD 15 WESTERN HALF', 'NEW YORK WARD 15 EASTERN HALF',\n",
       "       'NEW YORK WARD 16 DISTRICT 1', 'NEW YORK WARD 16 DISTRICT 2',\n",
       "       'NEW YORK WARD 16 DISTRICT 3', 'NEW YORK WARD 17',\n",
       "       'NEW YORK WARD 18', 'NEW YORK WARD 18 DISTRICT 2',\n",
       "       'NEW YORK WARD 18 BELLEVUE HOSPITAL',\n",
       "       'NEW YORK WARD 18 HOUSE OF REFUGE', 'NEW YORK WARD 19'],\n",
       "      dtype=object)"
      ]
     },
     "execution_count": 85,
     "metadata": {},
     "output_type": "execute_result"
    }
   ],
   "source": [
    "Census_hh_dw[\"CENSUS_GEOG\"].unique()"
   ]
  },
  {
   "cell_type": "code",
   "execution_count": 86,
   "metadata": {},
   "outputs": [],
   "source": [
    "hospital = Census_hh_dw[Census_hh_dw[\"CENSUS_GEOG\"] == 'NEW YORK WARD 18 BELLEVUE HOSPITAL']"
   ]
  },
  {
   "cell_type": "code",
   "execution_count": 87,
   "metadata": {},
   "outputs": [
    {
     "data": {
      "text/plain": [
       "CENSUS_SERIALP             438\n",
       "CENSUS_AGE                  61\n",
       "CENSUS_SEX                   2\n",
       "CENSUS_MARST                 2\n",
       "CENSUS_RACE                  2\n",
       "CENSUS_LABFORCE              2\n",
       "CENSUS_IMPREL                1\n",
       "CENSUS_OCCSTR               46\n",
       "CENSUS_NAMELAST            322\n",
       "CENSUS_NAMEFRST            117\n",
       "CENSUS_SEQ_NUM             479\n",
       "CENSUS_HH_NUM              422\n",
       "CENSUS_IPUMS_UID           479\n",
       "CENSUS_CITY                  1\n",
       "CENSUS_PAGENO_HOUSEHOLD      3\n",
       "CENSUS_WARD_NUM              1\n",
       "CENSUS_REEL_HOUSEHOLD        1\n",
       "CENSUS_PLACE                 1\n",
       "CENSUS_DWELLING_NUM          1\n",
       "CENSUS_DWELLING_SEQ          1\n",
       "CENSUS_DWELLING_SIZE         3\n",
       "CENSUS_GEOG                  1\n",
       "CENSUS_LINE                  1\n",
       "CENSUS_INDEX               479\n",
       "unique_ward                  1\n",
       "CD_ADDRESS                   1\n",
       "dtype: int64"
      ]
     },
     "execution_count": 87,
     "metadata": {},
     "output_type": "execute_result"
    }
   ],
   "source": [
    "hospital.nunique()"
   ]
  },
  {
   "cell_type": "code",
   "execution_count": 88,
   "metadata": {},
   "outputs": [
    {
     "data": {
      "text/plain": [
       "CENSUS_SERIALP             372\n",
       "CENSUS_AGE                  29\n",
       "CENSUS_SEX                   2\n",
       "CENSUS_MARST                 2\n",
       "CENSUS_RACE                  3\n",
       "CENSUS_LABFORCE              2\n",
       "CENSUS_IMPREL                1\n",
       "CENSUS_OCCSTR               34\n",
       "CENSUS_NAMELAST            330\n",
       "CENSUS_NAMEFRST            142\n",
       "CENSUS_SEQ_NUM             411\n",
       "CENSUS_HH_NUM              394\n",
       "CENSUS_IPUMS_UID           411\n",
       "CENSUS_CITY                  1\n",
       "CENSUS_PAGENO_HOUSEHOLD      1\n",
       "CENSUS_WARD_NUM              1\n",
       "CENSUS_REEL_HOUSEHOLD        1\n",
       "CENSUS_PLACE                 1\n",
       "CENSUS_DWELLING_NUM          1\n",
       "CENSUS_DWELLING_SEQ          1\n",
       "CENSUS_DWELLING_SIZE         2\n",
       "CENSUS_GEOG                  1\n",
       "CENSUS_LINE                  2\n",
       "CENSUS_INDEX               411\n",
       "unique_ward                  1\n",
       "CD_ADDRESS                   1\n",
       "dtype: int64"
      ]
     },
     "execution_count": 88,
     "metadata": {},
     "output_type": "execute_result"
    }
   ],
   "source": [
    "refuge = Census_hh_dw[Census_hh_dw[\"CENSUS_GEOG\"] == 'NEW YORK WARD 18 HOUSE OF REFUGE']\n",
    "refuge.nunique()"
   ]
  },
  {
   "cell_type": "markdown",
   "metadata": {},
   "source": [
    "It seems that there are fewer NA's (no address at all for a dwelling then when using the previous nested approach). Let's try nested and see if that helps, though I am pretty confused about why it would?"
   ]
  },
  {
   "cell_type": "markdown",
   "metadata": {},
   "source": [
    "### Use Weights Directly to Get Single Address for Dwelling"
   ]
  },
  {
   "cell_type": "code",
   "execution_count": 38,
   "metadata": {},
   "outputs": [],
   "source": [
    "#Function for filling in households/dwelling numbers if relevant\n",
    "#Check how idxmax is working\n",
    "def dwelling_weight_fill(x, nones):\n",
    "\n",
    "    c = x[\"CD_ADDRESS\"].nunique()\n",
    "    if c == 0:\n",
    "        nones.append(1)\n",
    "        #nones.append((x.loc[\"CENSUS_WARD_NUM\"].iloc[0], x[col].iloc[0]))\n",
    "\n",
    "    elif c >= 1:\n",
    "        x.reset_index(drop = True, inplace = True)\n",
    "        index = x[\"spatial_weight\"].idxmax()\n",
    "        x[\"CD_ADDRESS\"] = x.iloc[index].loc[\"CD_ADDRESS\"]\n",
    "  \n",
    "    return x"
   ]
  },
  {
   "cell_type": "code",
   "execution_count": 39,
   "metadata": {},
   "outputs": [],
   "source": [
    "dwellings = []\n",
    "Dwellings_weight = CensusDis1850.groupby([\"CENSUS_WARD_NUM\", \"CENSUS_DWELLING_NUM\"]).apply(lambda x: dwelling_weight_fill(x, dwellings)) "
   ]
  },
  {
   "cell_type": "code",
   "execution_count": 40,
   "metadata": {},
   "outputs": [
    {
     "data": {
      "text/plain": [
       "12301"
      ]
     },
     "execution_count": 40,
     "metadata": {},
     "output_type": "execute_result"
    }
   ],
   "source": [
    "len(dwellings)"
   ]
  },
  {
   "cell_type": "code",
   "execution_count": 41,
   "metadata": {},
   "outputs": [
    {
     "name": "stdout",
     "output_type": "stream",
     "text": [
      "Proportion of census data assigned addresses: 0.5070050229815953\n"
     ]
    }
   ],
   "source": [
    "print(\"Proportion of census data assigned addresses:\", Dwellings_weight.CD_ADDRESS.count()/515630)"
   ]
  },
  {
   "cell_type": "code",
   "execution_count": 42,
   "metadata": {},
   "outputs": [
    {
     "name": "stdout",
     "output_type": "stream",
     "text": [
      "Proportion of Dwellings Without Addresses: 0.6204791929382093\n"
     ]
    }
   ],
   "source": [
    "print(\"Proportion of Dwellings Without Addresses:\", len(dwellings)/CensusDis1850.groupby([\"CENSUS_WARD_NUM\",\"CENSUS_DWELLING_NUM\"]).ngroups)"
   ]
  },
  {
   "cell_type": "markdown",
   "metadata": {},
   "source": [
    "This matches exactly with the initial calculations"
   ]
  },
  {
   "cell_type": "markdown",
   "metadata": {},
   "source": [
    "### Look At How Often We Have Dwellings With the Same Address"
   ]
  },
  {
   "cell_type": "code",
   "execution_count": 88,
   "metadata": {},
   "outputs": [],
   "source": [
    "org_same_add = defaultdict(list)\n",
    "def same_address(x, d, col):\n",
    "    d[(x[\"CENSUS_WARD_NUM\"].iloc[0], x[col].iloc[0])].append(x.dropna(subset = [\"CD_ADDRESS\"]).CD_ADDRESS.unique())\n",
    "for index, group in CensusDis1850.groupby([\"CENSUS_WARD_NUM\",\"CENSUS_DWELLING_NUM\"]):\n",
    "    same_address(group, org_same_add, \"CENSUS_DWELLING_NUM\")"
   ]
  },
  {
   "cell_type": "code",
   "execution_count": 104,
   "metadata": {},
   "outputs": [
    {
     "data": {
      "text/plain": [
       "19"
      ]
     },
     "execution_count": 104,
     "metadata": {},
     "output_type": "execute_result"
    }
   ],
   "source": [
    "CensusDis1850.groupby(\"CENSUS_WARD_NUM\").ngroups"
   ]
  },
  {
   "cell_type": "code",
   "execution_count": 105,
   "metadata": {},
   "outputs": [
    {
     "name": "stdout",
     "output_type": "stream",
     "text": [
      "Finished up to index 2\n",
      "Finished up to index 4\n",
      "Finished up to index 6\n",
      "Finished up to index 8\n",
      "Finished up to index 10\n",
      "Finished up to index 12\n",
      "Finished up to index 14\n",
      "Finished up to index 16\n",
      "Finished up to index 18\n"
     ]
    }
   ],
   "source": [
    "which_dwellings = []\n",
    "count = 0\n",
    "\n",
    "for index,df in CensusDis1850.groupby(\"CENSUS_WARD_NUM\"):\n",
    "    org_same_add = defaultdict(list)\n",
    "    for i, group in df.groupby(\"CENSUS_DWELLING_NUM\"):\n",
    "        same_address(group, org_same_add, \"CENSUS_DWELLING_NUM\")\n",
    "    \n",
    "    #check for same name (limit to within ward for efficiency)\n",
    "    for key1 in org_same_add:\n",
    "        for key2 in org_same_add:\n",
    "            if key1 != key2:\n",
    "                if org_same_add[key1][0].any() in org_same_add[key2][0]:\n",
    "                    count += 1 \n",
    "                    which_dwellings.append((key1,key2))\n",
    "                    \n",
    "    if index % 2 == 0:\n",
    "        print(\"Finished up to index\", str(index))"
   ]
  },
  {
   "cell_type": "code",
   "execution_count": 108,
   "metadata": {},
   "outputs": [],
   "source": [
    "with open('data/dwellings_same_address.txt', 'w') as filehandle:\n",
    "    for listitem in which_dwellings:\n",
    "        line = ' '.join(str(x) for x in listitem)\n",
    "        filehandle.write(line + '\\n')"
   ]
  },
  {
   "cell_type": "code",
   "execution_count": 109,
   "metadata": {},
   "outputs": [
    {
     "name": "stdout",
     "output_type": "stream",
     "text": [
      "Number of Dwellings that could share the same address: 4039\n"
     ]
    }
   ],
   "source": [
    "print(\"Number of Dwellings that could share the same address:\", count)"
   ]
  },
  {
   "cell_type": "code",
   "execution_count": 93,
   "metadata": {},
   "outputs": [
    {
     "name": "stdout",
     "output_type": "stream",
     "text": [
      "Number of Dwellings with Same Address Selected: 1065\n"
     ]
    }
   ],
   "source": [
    "Dwellings_weight.reset_index(drop = True, inplace = True)\n",
    "same_add_selected = Dwellings_weight.groupby([\"CENSUS_WARD_NUM\", \"CENSUS_DWELLING_NUM\"]).first()\n",
    "num_same = same_add_selected[\"CD_ADDRESS\"].count() - same_add_selected[\"CD_ADDRESS\"].nunique()\n",
    "print(\"Number of Dwellings with Same Address Selected:\", num_same)"
   ]
  },
  {
   "cell_type": "code",
   "execution_count": 110,
   "metadata": {},
   "outputs": [
    {
     "name": "stdout",
     "output_type": "stream",
     "text": [
      "Proportion of Dwellings with Same Address: 0.05372005044136192\n"
     ]
    }
   ],
   "source": [
    "print(\"Proportion of Dwellings with Same Address:\", num_same/Dwellings_weight.groupby([\"CENSUS_WARD_NUM\", \"CENSUS_DWELLING_NUM\"]).ngroups)"
   ]
  },
  {
   "cell_type": "code",
   "execution_count": 111,
   "metadata": {},
   "outputs": [
    {
     "name": "stdout",
     "output_type": "stream",
     "text": [
      "Dwellings with same address selected out of possiblity: 0.26367912849715275\n"
     ]
    }
   ],
   "source": [
    "print(\"Dwellings with same address selected out of possiblity:\", num_same/count)"
   ]
  },
  {
   "cell_type": "markdown",
   "metadata": {},
   "source": [
    "### Conclusion"
   ]
  },
  {
   "cell_type": "markdown",
   "metadata": {},
   "source": [
    "Although some level of manual checking is warranted, based on these results, filling in dwelling number based on height weight of the possible options seems like the best approach."
   ]
  },
  {
   "cell_type": "code",
   "execution_count": null,
   "metadata": {},
   "outputs": [],
   "source": []
  }
 ],
 "metadata": {
  "kernelspec": {
   "display_name": "Python 3",
   "language": "python",
   "name": "python3"
  },
  "language_info": {
   "codemirror_mode": {
    "name": "ipython",
    "version": 3
   },
   "file_extension": ".py",
   "mimetype": "text/x-python",
   "name": "python",
   "nbconvert_exporter": "python",
   "pygments_lexer": "ipython3",
   "version": "3.7.5"
  }
 },
 "nbformat": 4,
 "nbformat_minor": 4
}
