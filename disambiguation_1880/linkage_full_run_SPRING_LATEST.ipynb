{
 "cells": [
  {
   "cell_type": "markdown",
   "metadata": {},
   "source": [
    "# Latest Full Run as of Spring 2020\n",
    "- Using new output from ES, after bug preventing metaphone matching was fixed"
   ]
  },
  {
   "cell_type": "code",
   "execution_count": 1,
   "metadata": {},
   "outputs": [],
   "source": [
    "import os\n",
    "import sys\n",
    "module_path = os.path.abspath(os.path.join('..'))\n",
    "if module_path not in sys.path:\n",
    "    sys.path.append(module_path)\n",
    "\n",
    "%load_ext autoreload\n",
    "%autoreload 2\n",
    "\n",
    "import pandas as pd\n",
    "import pyjarowinkler\n",
    "import networkx as nx\n",
    "from disambiguation import Disambiguator, Disambiguator1880\n",
    "import disambiguation.linkage as dl\n",
    "import disambiguation.processing as dp \n",
    "from disambiguation.processing import apply_confidence_score\n",
    "import matplotlib.pyplot as plt"
   ]
  },
  {
   "cell_type": "code",
   "execution_count": 2,
   "metadata": {},
   "outputs": [],
   "source": [
    "match = pd.read_csv(\"../data/es-1880-21-5-2020.csv\", sep='\\t', engine='python')"
   ]
  },
  {
   "cell_type": "code",
   "execution_count": 3,
   "metadata": {},
   "outputs": [
    {
     "output_type": "execute_result",
     "data": {
      "text/plain": "Index(['OBJECTID.x', 'CENSUS_NAMEFRSTB', 'CENSUS_NAMELASTB', 'CENSUS_AGE',\n       'CENSUS_OCCLABELB', 'CENSUS_MATCH_ADDR', 'CENSUS_SEGMENT_ID',\n       'WARD_NUM', 'CD_ED', 'OBJECTID', 'MATCH_ADDR', 'CD_FIRST_NAME',\n       'CD_LAST_NAME', 'CD_OCCUPATION', 'CD_FINAL_HOUSENUM'],\n      dtype='object')"
     },
     "metadata": {},
     "execution_count": 3
    }
   ],
   "source": [
    "match.columns"
   ]
  },
  {
   "cell_type": "code",
   "execution_count": 4,
   "metadata": {},
   "outputs": [],
   "source": [
    "df = apply_confidence_score(match, cen_fn='CENSUS_NAMEFRSTB', cen_ln='CENSUS_NAMELASTB', cen_occ='CENSUS_OCCLABELB', cen_id='OBJECTID.x')"
   ]
  },
  {
   "cell_type": "code",
   "execution_count": 5,
   "metadata": {},
   "outputs": [
    {
     "output_type": "stream",
     "name": "stdout",
     "text": "No. of matches: 151046\nNo. of unique CD records: 107018\nNo. of unique Census records: 141594\nNo. of 1:1 matches: 72810\nNo. of matches where census record <= 12: 21179\nNo. of unique matches where census record <= 12: 19622\nNo. of anchors (confidence score = 1): 46550\n"
    }
   ],
   "source": [
    "print (\"No. of matches: \" + str(len(match)))\n",
    "print (\"No. of unique CD records: \" + str(len(match['OBJECTID'].drop_duplicates())))\n",
    "print (\"No. of unique Census records: \" + str(len(match['OBJECTID.x'].drop_duplicates())))\n",
    "print (\"No. of 1:1 matches: \" + str(len(df[ (df['census_count'] == 1) & (df['cd_count'] == 1) ] )) )\n",
    "print (\"No. of matches where census record <= 12: \" + str( len(df[df['CENSUS_AGE'] <= 12]) ))\n",
    "print (\"No. of unique matches where census record <= 12: \" + str( len(df[df['CENSUS_AGE'] <= 12]['OBJECTID.x'].drop_duplicates()) ))\n",
    "print (\"No. of anchors (confidence score = 1): \" + str( len(df[df['confidence_score'] == 1]) ))"
   ]
  },
  {
   "cell_type": "markdown",
   "metadata": {},
   "source": [
    "## Disambiguation"
   ]
  },
  {
   "cell_type": "code",
   "execution_count": 6,
   "metadata": {},
   "outputs": [],
   "source": [
    "df['CD_ID'] = 'CD_' + df['OBJECTID'].astype(str)\n",
    "df['CENSUS_ID'] = 'CENSUS_' + df['OBJECTID.x'].astype(str)"
   ]
  },
  {
   "cell_type": "code",
   "execution_count": 7,
   "metadata": {},
   "outputs": [],
   "source": [
    "# join CD lat lng\n",
    "latlng = pd.read_csv(\"../data/cd_1880.csv\")\n",
    "latlng = latlng[['OBJECTID', 'LONG', 'LAT']]\n",
    "df = df.merge(latlng, how='left', on='OBJECTID', validate='many_to_one')"
   ]
  },
  {
   "cell_type": "code",
   "execution_count": 10,
   "metadata": {},
   "outputs": [
    {
     "output_type": "stream",
     "name": "stdout",
     "text": "Running\nCreating dictionary of sub dfs (1/4)...\nApplying algorithms iteratively (2/4)...\nNumber of Subgraphs: 46550\nReached: 0\nReached: 1000\nReached: 2000\nReached: 3000\nReached: 4000\nReached: 5000\nReached: 6000\nReached: 7000\nReached: 8000\nReached: 9000\nReached: 10000\nReached: 11000\nReached: 12000\nReached: 13000\nReached: 14000\nReached: 15000\nReached: 16000\nReached: 17000\nReached: 18000\nReached: 19000\nReached: 20000\nReached: 21000\nReached: 22000\nReached: 23000\nReached: 24000\nReached: 25000\nReached: 26000\nReached: 27000\nReached: 28000\nReached: 29000\nReached: 30000\nReached: 31000\nReached: 32000\nReached: 33000\nReached: 34000\nReached: 35000\nReached: 36000\nReached: 37000\nReached: 38000\nReached: 39000\nReached: 40000\nReached: 41000\nReached: 42000\nReached: 43000\nReached: 44000\nReached: 45000\nReached: 46000\nCleaning output (3/4)...\nDisambiguating (4/4)...\nDone! :)\n"
    }
   ],
   "source": [
    "disambiguate = Disambiguator1880(df)\n",
    "disambiguate.run_disambiguation()"
   ]
  },
  {
   "cell_type": "code",
   "execution_count": 11,
   "metadata": {},
   "outputs": [],
   "source": [
    "result = disambiguate.get_result()"
   ]
  },
  {
   "cell_type": "code",
   "execution_count": 12,
   "metadata": {},
   "outputs": [
    {
     "output_type": "execute_result",
     "data": {
      "text/plain": "   CD_ED CD_FINAL_HOUSENUM CD_FIRST_NAME      CD_ID CD_LAST_NAME  \\\n0   59.0               175         Julia  CD_170754       Dunphy   \n1   59.0                24          John   CD_12663        Walsh   \n2   59.0                24          John   CD_12663        Walsh   \n3   59.0                24          John   CD_12663        Walsh   \n4   59.0               175           Ann  CD_180152          Day   \n\n  CD_OCCUPATION  CENSUS_AGE      CENSUS_ID  \\\n0           wid          50  CENSUS_100000   \n1        police           5  CENSUS_100003   \n2        police           0   CENSUS_99318   \n3        police          46   CENSUS_99321   \n4           wid          55  CENSUS_100004   \n\n                     CENSUS_MATCH_ADDR CENSUS_NAMEFRSTB  ... jw_fn jw_ln  \\\n0  175 ELIZABETH ST, NYC-Manhattan, NY            JULIA  ...  1.00   1.0   \n1  175 ELIZABETH ST, NYC-Manhattan, NY              ANN  ...  0.53   1.0   \n2      24 PRINCE ST, NYC-Manhattan, NY             JOHN  ...  1.00   1.0   \n3      24 PRINCE ST, NYC-Manhattan, NY             JOHN  ...  1.00   1.0   \n4  175 ELIZABETH ST, NYC-Manhattan, NY              ANN  ...  1.00   1.0   \n\n   jw_score  key  letter node_ID  occ_listed  spatial_weight  selected  \\\n0     1.000  NaN     NaN     NaN           1            2.00       1.0   \n1     0.812  NaN     NaN     NaN           1            1.72       0.0   \n2     1.000  0.0      N3    N3_0           0            1.77       0.0   \n3     1.000  0.0      N4    N4_0           1            1.87       1.0   \n4     1.000  NaN     NaN     NaN           1            2.00       1.0   \n\n   graph_ID  \n0         0  \n1         1  \n2         1  \n3         1  \n4         2  \n\n[5 rows x 36 columns]",
      "text/html": "<div>\n<style scoped>\n    .dataframe tbody tr th:only-of-type {\n        vertical-align: middle;\n    }\n\n    .dataframe tbody tr th {\n        vertical-align: top;\n    }\n\n    .dataframe thead th {\n        text-align: right;\n    }\n</style>\n<table border=\"1\" class=\"dataframe\">\n  <thead>\n    <tr style=\"text-align: right;\">\n      <th></th>\n      <th>CD_ED</th>\n      <th>CD_FINAL_HOUSENUM</th>\n      <th>CD_FIRST_NAME</th>\n      <th>CD_ID</th>\n      <th>CD_LAST_NAME</th>\n      <th>CD_OCCUPATION</th>\n      <th>CENSUS_AGE</th>\n      <th>CENSUS_ID</th>\n      <th>CENSUS_MATCH_ADDR</th>\n      <th>CENSUS_NAMEFRSTB</th>\n      <th>...</th>\n      <th>jw_fn</th>\n      <th>jw_ln</th>\n      <th>jw_score</th>\n      <th>key</th>\n      <th>letter</th>\n      <th>node_ID</th>\n      <th>occ_listed</th>\n      <th>spatial_weight</th>\n      <th>selected</th>\n      <th>graph_ID</th>\n    </tr>\n  </thead>\n  <tbody>\n    <tr>\n      <th>0</th>\n      <td>59.0</td>\n      <td>175</td>\n      <td>Julia</td>\n      <td>CD_170754</td>\n      <td>Dunphy</td>\n      <td>wid</td>\n      <td>50</td>\n      <td>CENSUS_100000</td>\n      <td>175 ELIZABETH ST, NYC-Manhattan, NY</td>\n      <td>JULIA</td>\n      <td>...</td>\n      <td>1.00</td>\n      <td>1.0</td>\n      <td>1.000</td>\n      <td>NaN</td>\n      <td>NaN</td>\n      <td>NaN</td>\n      <td>1</td>\n      <td>2.00</td>\n      <td>1.0</td>\n      <td>0</td>\n    </tr>\n    <tr>\n      <th>1</th>\n      <td>59.0</td>\n      <td>24</td>\n      <td>John</td>\n      <td>CD_12663</td>\n      <td>Walsh</td>\n      <td>police</td>\n      <td>5</td>\n      <td>CENSUS_100003</td>\n      <td>175 ELIZABETH ST, NYC-Manhattan, NY</td>\n      <td>ANN</td>\n      <td>...</td>\n      <td>0.53</td>\n      <td>1.0</td>\n      <td>0.812</td>\n      <td>NaN</td>\n      <td>NaN</td>\n      <td>NaN</td>\n      <td>1</td>\n      <td>1.72</td>\n      <td>0.0</td>\n      <td>1</td>\n    </tr>\n    <tr>\n      <th>2</th>\n      <td>59.0</td>\n      <td>24</td>\n      <td>John</td>\n      <td>CD_12663</td>\n      <td>Walsh</td>\n      <td>police</td>\n      <td>0</td>\n      <td>CENSUS_99318</td>\n      <td>24 PRINCE ST, NYC-Manhattan, NY</td>\n      <td>JOHN</td>\n      <td>...</td>\n      <td>1.00</td>\n      <td>1.0</td>\n      <td>1.000</td>\n      <td>0.0</td>\n      <td>N3</td>\n      <td>N3_0</td>\n      <td>0</td>\n      <td>1.77</td>\n      <td>0.0</td>\n      <td>1</td>\n    </tr>\n    <tr>\n      <th>3</th>\n      <td>59.0</td>\n      <td>24</td>\n      <td>John</td>\n      <td>CD_12663</td>\n      <td>Walsh</td>\n      <td>police</td>\n      <td>46</td>\n      <td>CENSUS_99321</td>\n      <td>24 PRINCE ST, NYC-Manhattan, NY</td>\n      <td>JOHN</td>\n      <td>...</td>\n      <td>1.00</td>\n      <td>1.0</td>\n      <td>1.000</td>\n      <td>0.0</td>\n      <td>N4</td>\n      <td>N4_0</td>\n      <td>1</td>\n      <td>1.87</td>\n      <td>1.0</td>\n      <td>1</td>\n    </tr>\n    <tr>\n      <th>4</th>\n      <td>59.0</td>\n      <td>175</td>\n      <td>Ann</td>\n      <td>CD_180152</td>\n      <td>Day</td>\n      <td>wid</td>\n      <td>55</td>\n      <td>CENSUS_100004</td>\n      <td>175 ELIZABETH ST, NYC-Manhattan, NY</td>\n      <td>ANN</td>\n      <td>...</td>\n      <td>1.00</td>\n      <td>1.0</td>\n      <td>1.000</td>\n      <td>NaN</td>\n      <td>NaN</td>\n      <td>NaN</td>\n      <td>1</td>\n      <td>2.00</td>\n      <td>1.0</td>\n      <td>2</td>\n    </tr>\n  </tbody>\n</table>\n<p>5 rows × 36 columns</p>\n</div>"
     },
     "metadata": {},
     "execution_count": 12
    }
   ],
   "source": [
    "result.head()"
   ]
  },
  {
   "cell_type": "code",
   "execution_count": 13,
   "metadata": {},
   "outputs": [],
   "source": [
    "result.to_csv(\"../data/disambiguated-21-5-2020.csv\", index=False)"
   ]
  },
  {
   "cell_type": "markdown",
   "metadata": {},
   "source": [
    "## Analysis of Results"
   ]
  },
  {
   "cell_type": "code",
   "execution_count": 14,
   "metadata": {},
   "outputs": [],
   "source": [
    "# read in census latlng & fix outlier\n",
    "census_latlng = pd.read_csv(\"../data/census_1880_mn_v04.csv\")\n",
    "census_latlng['CENSUS_ID'] = 'CENSUS_' + census_latlng['OBJECTID.x'].astype(str)\n",
    "census_latlng = census_latlng.loc[:, ['CENSUS_ID', 'CENSUS_X', 'CENSUS_Y']]\n",
    "census_latlng.loc[census_latlng.CENSUS_Y > 1000, 'CENSUS_Y'] = 40.799935"
   ]
  },
  {
   "cell_type": "code",
   "execution_count": 15,
   "metadata": {},
   "outputs": [],
   "source": [
    "disambiguate.merge_census_var(census_latlng)\n",
    "disambiguate.set_var()"
   ]
  },
  {
   "cell_type": "code",
   "execution_count": 16,
   "metadata": {},
   "outputs": [],
   "source": [
    "match_rate = disambiguate.get_match_rate()\n",
    "addr_success = disambiguate.get_addr_success()\n",
    "dist_error = disambiguate.get_dist_error()\n",
    "under12 = disambiguate.get_under12_selections()"
   ]
  },
  {
   "cell_type": "code",
   "execution_count": 19,
   "metadata": {
    "tags": [
     "outputPrepend"
    ]
   },
   "outputs": [
    {
     "output_type": "stream",
     "name": "stdout",
     "text": "Match Rate: 98.62%\nPercentage of Perfect Address Matches Selected: 78.09\nDescriptives of Distance Error:\ncount    151046.000000\nmean         93.609218\nstd         262.683888\nmin           0.126686\n25%          38.203894\n50%          54.146137\n75%          70.446966\nmax        8375.839589\nName: dist, dtype: float64\nProportion of Selected Matches under Age 12: 2.64\n"
    }
   ],
   "source": [
    "print(\"Match Rate: \" + str(match_rate) + \"%\")\n",
    "print(\"Percentage of Perfect Address Matches Selected: \" + str(round(addr_success['n_perfect_match_chosen'] / addr_success['n_perfect_match'] * 100, 2)))\n",
    "print(\"Descriptives of Distance Error:\")\n",
    "print(dist_error['dist'].describe())\n",
    "print(\"Proportion of Selected Matches under Age 12: \" +  str(under12))"
   ]
  },
  {
   "cell_type": "markdown",
   "metadata": {},
   "source": [
    "### Benchmarking"
   ]
  },
  {
   "cell_type": "code",
   "execution_count": 20,
   "metadata": {},
   "outputs": [
    {
     "output_type": "stream",
     "name": "stdout",
     "text": "71\nPEARL ST\n"
    }
   ],
   "source": [
    "# import helper functions\n",
    "import re\n",
    "def get_hn(add):\n",
    "    hn = re.search('[0-9]+', add)\n",
    "    return hn.group()\n",
    "\n",
    "def get_st(add):\n",
    "    try:\n",
    "        st = re.search('(?<=[0-9]\\\\s)([A-Z]|\\\\s)+(?=,)', add)\n",
    "        return st.group()\n",
    "    except:\n",
    "        return None\n",
    "\n",
    "print( get_hn(\"71 PEARL ST\") )\n",
    "print( get_st(\"71 PEARL ST, NEW YORK, NY\") )"
   ]
  },
  {
   "cell_type": "code",
   "execution_count": 23,
   "metadata": {},
   "outputs": [],
   "source": [
    "census_latlng = pd.read_csv(\"../data/census_1880_mn_v04.csv\")\n",
    "census_latlng = census_latlng.loc[:, ['CENSUS_MATCH_ADDR', 'CENSUS_X', 'CENSUS_Y']].drop_duplicates() # select diff variables\n",
    "census_latlng.loc[census_latlng.CENSUS_Y > 1000, 'CENSUS_Y'] = 40.799935\n",
    "benchmark = match.merge(census_latlng, how='left', on='CENSUS_MATCH_ADDR', validate='many_to_one')"
   ]
  },
  {
   "cell_type": "code",
   "execution_count": 25,
   "metadata": {},
   "outputs": [],
   "source": [
    "# add address similarity as weight\n",
    "import numpy as np\n",
    "benchmark['cd_hn'] = benchmark.apply(lambda row: get_hn(row.MATCH_ADDR), axis=1)\n",
    "benchmark['cen_hn'] = benchmark.apply(lambda row: get_hn(row.CENSUS_MATCH_ADDR), axis=1)\n",
    "benchmark['cd_add_cln'] = benchmark.apply(lambda row: get_st(row.MATCH_ADDR), axis=1)\n",
    "benchmark['cen_add_cln'] = benchmark.apply(lambda row: get_st(row.CENSUS_MATCH_ADDR), axis=1)\n",
    "\n",
    "benchmark['add_match'] = np.where(benchmark.cd_hn == benchmark.cen_hn, 0.1, 0) + np.where(benchmark.cen_add_cln == benchmark.cd_add_cln, 0.9, 0)\n",
    "benchmark['confidence_score'] = benchmark['confidence_score'] + benchmark['add_match']"
   ]
  },
  {
   "cell_type": "code",
   "execution_count": 29,
   "metadata": {},
   "outputs": [],
   "source": [
    "benchmark = benchmark.merge(latlng, how='left', on='OBJECTID', validate='many_to_one')"
   ]
  },
  {
   "cell_type": "code",
   "execution_count": 30,
   "metadata": {},
   "outputs": [],
   "source": [
    "from disambiguation.analysis import get_dist_based_match\n",
    "benchmark = get_dist_based_match(benchmark)['results']"
   ]
  },
  {
   "cell_type": "code",
   "execution_count": 31,
   "metadata": {},
   "outputs": [],
   "source": [
    "from disambiguation.analysis import compare_selections\n",
    "confusion_matrix = compare_selections(result, benchmark)['confusion_matrix']"
   ]
  },
  {
   "cell_type": "code",
   "execution_count": 32,
   "metadata": {},
   "outputs": [
    {
     "output_type": "stream",
     "name": "stdout",
     "text": "[[102012, 3528], [3528, 41978]]\n"
    }
   ],
   "source": [
    "print(confusion_matrix)"
   ]
  }
 ],
 "metadata": {
  "language_info": {
   "codemirror_mode": {
    "name": "ipython",
    "version": 3
   },
   "file_extension": ".py",
   "mimetype": "text/x-python",
   "name": "python",
   "nbconvert_exporter": "python",
   "pygments_lexer": "ipython3",
   "version": "3.7.3-final"
  },
  "orig_nbformat": 2,
  "kernelspec": {
   "name": "python3",
   "display_name": "Python 3"
  }
 },
 "nbformat": 4,
 "nbformat_minor": 2
}