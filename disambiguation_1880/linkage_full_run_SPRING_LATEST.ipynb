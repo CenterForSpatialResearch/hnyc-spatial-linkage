{
 "cells": [
  {
   "cell_type": "markdown",
   "metadata": {},
   "source": [
    "# Latest Full Run as of Spring 2020\n",
    "- Using new output from ES, after bug preventing metaphone matching was fixed"
   ]
  },
  {
   "cell_type": "code",
   "execution_count": 2,
   "metadata": {},
   "outputs": [
    {
     "name": "stdout",
     "output_type": "stream",
     "text": [
      "The autoreload extension is already loaded. To reload it, use:\n",
      "  %reload_ext autoreload\n"
     ]
    }
   ],
   "source": [
    "import os\n",
    "import sys\n",
    "module_path = os.path.abspath(os.path.join('..'))\n",
    "if module_path not in sys.path:\n",
    "    sys.path.append(module_path)\n",
    "\n",
    "%load_ext autoreload\n",
    "%autoreload 2\n",
    "\n",
    "import pandas as pd\n",
    "import pyjarowinkler\n",
    "import networkx as nx\n",
    "from disambiguation import Disambiguator, Disambiguator1880\n",
    "import disambiguation.linkage as dl\n",
    "import disambiguation.processing as dp \n",
    "from disambiguation.processing import apply_confidence_score\n",
    "import matplotlib.pyplot as plt"
   ]
  },
  {
   "cell_type": "code",
   "execution_count": 3,
   "metadata": {},
   "outputs": [],
   "source": [
    "match = pd.read_csv(\"../data/es-1880-21-5-2020.csv\", sep='\\t', engine='python')"
   ]
  },
  {
   "cell_type": "code",
   "execution_count": 4,
   "metadata": {},
   "outputs": [
    {
     "data": {
      "text/plain": [
       "Index(['OBJECTID.x', 'CENSUS_NAMEFRSTB', 'CENSUS_NAMELASTB', 'CENSUS_AGE',\n",
       "       'CENSUS_OCCLABELB', 'CENSUS_MATCH_ADDR', 'CENSUS_SEGMENT_ID',\n",
       "       'WARD_NUM', 'CD_ED', 'OBJECTID', 'MATCH_ADDR', 'CD_FIRST_NAME',\n",
       "       'CD_LAST_NAME', 'CD_OCCUPATION', 'CD_FINAL_HOUSENUM'],\n",
       "      dtype='object')"
      ]
     },
     "execution_count": 4,
     "metadata": {},
     "output_type": "execute_result"
    }
   ],
   "source": [
    "match.columns"
   ]
  },
  {
   "cell_type": "code",
   "execution_count": 5,
   "metadata": {},
   "outputs": [],
   "source": [
    "df = apply_confidence_score(match, cen_fn='CENSUS_NAMEFRSTB', cen_ln='CENSUS_NAMELASTB', cen_occ='CENSUS_OCCLABELB', cen_id='OBJECTID.x')"
   ]
  },
  {
   "cell_type": "code",
   "execution_count": 5,
   "metadata": {},
   "outputs": [
    {
     "name": "stdout",
     "output_type": "stream",
     "text": [
      "No. of matches: 151046\n",
      "No. of unique CD records: 107018\n",
      "No. of unique Census records: 141594\n",
      "No. of 1:1 matches: 72810\n",
      "No. of matches where census record <= 12: 21179\n",
      "No. of unique matches where census record <= 12: 19622\n",
      "No. of anchors (confidence score = 1): 46550\n"
     ]
    }
   ],
   "source": [
    "print (\"No. of matches: \" + str(len(match)))\n",
    "print (\"No. of unique CD records: \" + str(len(match['OBJECTID'].drop_duplicates())))\n",
    "print (\"No. of unique Census records: \" + str(len(match['OBJECTID.x'].drop_duplicates())))\n",
    "print (\"No. of 1:1 matches: \" + str(len(df[ (df['census_count'] == 1) & (df['cd_count'] == 1) ] )) )\n",
    "print (\"No. of matches where census record <= 12: \" + str( len(df[df['CENSUS_AGE'] <= 12]) ))\n",
    "print (\"No. of unique matches where census record <= 12: \" + str( len(df[df['CENSUS_AGE'] <= 12]['OBJECTID.x'].drop_duplicates()) ))\n",
    "print (\"No. of anchors (confidence score = 1): \" + str( len(df[df['confidence_score'] == 1]) ))"
   ]
  },
  {
   "cell_type": "markdown",
   "metadata": {},
   "source": [
    "## Disambiguation"
   ]
  },
  {
   "cell_type": "code",
   "execution_count": 6,
   "metadata": {},
   "outputs": [],
   "source": [
    "df['CD_ID'] = 'CD_' + df['OBJECTID'].astype(str)\n",
    "df['CENSUS_ID'] = 'CENSUS_' + df['OBJECTID.x'].astype(str)"
   ]
  },
  {
   "cell_type": "code",
   "execution_count": 7,
   "metadata": {},
   "outputs": [],
   "source": [
    "# join CD lat lng\n",
    "latlng = pd.read_csv(\"../data/cd_1880.csv\")\n",
    "latlng = latlng[['OBJECTID', 'LONG', 'LAT']]\n",
    "df = df.merge(latlng, how='left', on='OBJECTID', validate='many_to_one')"
   ]
  },
  {
   "cell_type": "code",
   "execution_count": 10,
   "metadata": {},
   "outputs": [
    {
     "name": "stdout",
     "output_type": "stream",
     "text": [
      "Running\n",
      "Creating dictionary of sub dfs (1/4)...\n",
      "Applying algorithms iteratively (2/4)...\n",
      "Number of Subgraphs: 46550\n",
      "Reached: 0\n",
      "Reached: 1000\n",
      "Reached: 2000\n",
      "Reached: 3000\n",
      "Reached: 4000\n",
      "Reached: 5000\n",
      "Reached: 6000\n",
      "Reached: 7000\n",
      "Reached: 8000\n",
      "Reached: 9000\n",
      "Reached: 10000\n",
      "Reached: 11000\n",
      "Reached: 12000\n",
      "Reached: 13000\n",
      "Reached: 14000\n",
      "Reached: 15000\n",
      "Reached: 16000\n",
      "Reached: 17000\n",
      "Reached: 18000\n",
      "Reached: 19000\n",
      "Reached: 20000\n",
      "Reached: 21000\n",
      "Reached: 22000\n",
      "Reached: 23000\n",
      "Reached: 24000\n",
      "Reached: 25000\n",
      "Reached: 26000\n",
      "Reached: 27000\n",
      "Reached: 28000\n",
      "Reached: 29000\n",
      "Reached: 30000\n",
      "Reached: 31000\n",
      "Reached: 32000\n",
      "Reached: 33000\n",
      "Reached: 34000\n",
      "Reached: 35000\n",
      "Reached: 36000\n",
      "Reached: 37000\n",
      "Reached: 38000\n",
      "Reached: 39000\n",
      "Reached: 40000\n",
      "Reached: 41000\n",
      "Reached: 42000\n",
      "Reached: 43000\n",
      "Reached: 44000\n",
      "Reached: 45000\n",
      "Reached: 46000\n",
      "Cleaning output (3/4)...\n",
      "Disambiguating (4/4)...\n",
      "Done! :)\n"
     ]
    }
   ],
   "source": [
    "disambiguate = Disambiguator1880(df)\n",
    "disambiguate.run_disambiguation()"
   ]
  },
  {
   "cell_type": "code",
   "execution_count": 11,
   "metadata": {},
   "outputs": [],
   "source": [
    "result = disambiguate.get_result()"
   ]
  },
  {
   "cell_type": "code",
   "execution_count": 12,
   "metadata": {},
   "outputs": [
    {
     "data": {
      "text/html": [
       "<div>\n",
       "<style scoped>\n",
       "    .dataframe tbody tr th:only-of-type {\n",
       "        vertical-align: middle;\n",
       "    }\n",
       "\n",
       "    .dataframe tbody tr th {\n",
       "        vertical-align: top;\n",
       "    }\n",
       "\n",
       "    .dataframe thead th {\n",
       "        text-align: right;\n",
       "    }\n",
       "</style>\n",
       "<table border=\"1\" class=\"dataframe\">\n",
       "  <thead>\n",
       "    <tr style=\"text-align: right;\">\n",
       "      <th></th>\n",
       "      <th>CD_ED</th>\n",
       "      <th>CD_FINAL_HOUSENUM</th>\n",
       "      <th>CD_FIRST_NAME</th>\n",
       "      <th>CD_ID</th>\n",
       "      <th>CD_LAST_NAME</th>\n",
       "      <th>CD_OCCUPATION</th>\n",
       "      <th>CENSUS_AGE</th>\n",
       "      <th>CENSUS_ID</th>\n",
       "      <th>CENSUS_MATCH_ADDR</th>\n",
       "      <th>CENSUS_NAMEFRSTB</th>\n",
       "      <th>...</th>\n",
       "      <th>jw_fn</th>\n",
       "      <th>jw_ln</th>\n",
       "      <th>jw_score</th>\n",
       "      <th>key</th>\n",
       "      <th>letter</th>\n",
       "      <th>node_ID</th>\n",
       "      <th>occ_listed</th>\n",
       "      <th>spatial_weight</th>\n",
       "      <th>selected</th>\n",
       "      <th>graph_ID</th>\n",
       "    </tr>\n",
       "  </thead>\n",
       "  <tbody>\n",
       "    <tr>\n",
       "      <th>0</th>\n",
       "      <td>59.0</td>\n",
       "      <td>175</td>\n",
       "      <td>Julia</td>\n",
       "      <td>CD_170754</td>\n",
       "      <td>Dunphy</td>\n",
       "      <td>wid</td>\n",
       "      <td>50</td>\n",
       "      <td>CENSUS_100000</td>\n",
       "      <td>175 ELIZABETH ST, NYC-Manhattan, NY</td>\n",
       "      <td>JULIA</td>\n",
       "      <td>...</td>\n",
       "      <td>1.00</td>\n",
       "      <td>1.0</td>\n",
       "      <td>1.000</td>\n",
       "      <td>NaN</td>\n",
       "      <td>NaN</td>\n",
       "      <td>NaN</td>\n",
       "      <td>1</td>\n",
       "      <td>2.00</td>\n",
       "      <td>1.0</td>\n",
       "      <td>0</td>\n",
       "    </tr>\n",
       "    <tr>\n",
       "      <th>1</th>\n",
       "      <td>59.0</td>\n",
       "      <td>24</td>\n",
       "      <td>John</td>\n",
       "      <td>CD_12663</td>\n",
       "      <td>Walsh</td>\n",
       "      <td>police</td>\n",
       "      <td>5</td>\n",
       "      <td>CENSUS_100003</td>\n",
       "      <td>175 ELIZABETH ST, NYC-Manhattan, NY</td>\n",
       "      <td>ANN</td>\n",
       "      <td>...</td>\n",
       "      <td>0.53</td>\n",
       "      <td>1.0</td>\n",
       "      <td>0.812</td>\n",
       "      <td>NaN</td>\n",
       "      <td>NaN</td>\n",
       "      <td>NaN</td>\n",
       "      <td>1</td>\n",
       "      <td>1.72</td>\n",
       "      <td>0.0</td>\n",
       "      <td>1</td>\n",
       "    </tr>\n",
       "    <tr>\n",
       "      <th>2</th>\n",
       "      <td>59.0</td>\n",
       "      <td>24</td>\n",
       "      <td>John</td>\n",
       "      <td>CD_12663</td>\n",
       "      <td>Walsh</td>\n",
       "      <td>police</td>\n",
       "      <td>0</td>\n",
       "      <td>CENSUS_99318</td>\n",
       "      <td>24 PRINCE ST, NYC-Manhattan, NY</td>\n",
       "      <td>JOHN</td>\n",
       "      <td>...</td>\n",
       "      <td>1.00</td>\n",
       "      <td>1.0</td>\n",
       "      <td>1.000</td>\n",
       "      <td>0.0</td>\n",
       "      <td>N3</td>\n",
       "      <td>N3_0</td>\n",
       "      <td>0</td>\n",
       "      <td>1.77</td>\n",
       "      <td>0.0</td>\n",
       "      <td>1</td>\n",
       "    </tr>\n",
       "    <tr>\n",
       "      <th>3</th>\n",
       "      <td>59.0</td>\n",
       "      <td>24</td>\n",
       "      <td>John</td>\n",
       "      <td>CD_12663</td>\n",
       "      <td>Walsh</td>\n",
       "      <td>police</td>\n",
       "      <td>46</td>\n",
       "      <td>CENSUS_99321</td>\n",
       "      <td>24 PRINCE ST, NYC-Manhattan, NY</td>\n",
       "      <td>JOHN</td>\n",
       "      <td>...</td>\n",
       "      <td>1.00</td>\n",
       "      <td>1.0</td>\n",
       "      <td>1.000</td>\n",
       "      <td>0.0</td>\n",
       "      <td>N4</td>\n",
       "      <td>N4_0</td>\n",
       "      <td>1</td>\n",
       "      <td>1.87</td>\n",
       "      <td>1.0</td>\n",
       "      <td>1</td>\n",
       "    </tr>\n",
       "    <tr>\n",
       "      <th>4</th>\n",
       "      <td>59.0</td>\n",
       "      <td>175</td>\n",
       "      <td>Ann</td>\n",
       "      <td>CD_180152</td>\n",
       "      <td>Day</td>\n",
       "      <td>wid</td>\n",
       "      <td>55</td>\n",
       "      <td>CENSUS_100004</td>\n",
       "      <td>175 ELIZABETH ST, NYC-Manhattan, NY</td>\n",
       "      <td>ANN</td>\n",
       "      <td>...</td>\n",
       "      <td>1.00</td>\n",
       "      <td>1.0</td>\n",
       "      <td>1.000</td>\n",
       "      <td>NaN</td>\n",
       "      <td>NaN</td>\n",
       "      <td>NaN</td>\n",
       "      <td>1</td>\n",
       "      <td>2.00</td>\n",
       "      <td>1.0</td>\n",
       "      <td>2</td>\n",
       "    </tr>\n",
       "  </tbody>\n",
       "</table>\n",
       "<p>5 rows × 36 columns</p>\n",
       "</div>"
      ],
      "text/plain": [
       "   CD_ED CD_FINAL_HOUSENUM CD_FIRST_NAME      CD_ID CD_LAST_NAME  \\\n",
       "0   59.0               175         Julia  CD_170754       Dunphy   \n",
       "1   59.0                24          John   CD_12663        Walsh   \n",
       "2   59.0                24          John   CD_12663        Walsh   \n",
       "3   59.0                24          John   CD_12663        Walsh   \n",
       "4   59.0               175           Ann  CD_180152          Day   \n",
       "\n",
       "  CD_OCCUPATION  CENSUS_AGE      CENSUS_ID  \\\n",
       "0           wid          50  CENSUS_100000   \n",
       "1        police           5  CENSUS_100003   \n",
       "2        police           0   CENSUS_99318   \n",
       "3        police          46   CENSUS_99321   \n",
       "4           wid          55  CENSUS_100004   \n",
       "\n",
       "                     CENSUS_MATCH_ADDR CENSUS_NAMEFRSTB  ... jw_fn jw_ln  \\\n",
       "0  175 ELIZABETH ST, NYC-Manhattan, NY            JULIA  ...  1.00   1.0   \n",
       "1  175 ELIZABETH ST, NYC-Manhattan, NY              ANN  ...  0.53   1.0   \n",
       "2      24 PRINCE ST, NYC-Manhattan, NY             JOHN  ...  1.00   1.0   \n",
       "3      24 PRINCE ST, NYC-Manhattan, NY             JOHN  ...  1.00   1.0   \n",
       "4  175 ELIZABETH ST, NYC-Manhattan, NY              ANN  ...  1.00   1.0   \n",
       "\n",
       "   jw_score  key  letter node_ID  occ_listed  spatial_weight  selected  \\\n",
       "0     1.000  NaN     NaN     NaN           1            2.00       1.0   \n",
       "1     0.812  NaN     NaN     NaN           1            1.72       0.0   \n",
       "2     1.000  0.0      N3    N3_0           0            1.77       0.0   \n",
       "3     1.000  0.0      N4    N4_0           1            1.87       1.0   \n",
       "4     1.000  NaN     NaN     NaN           1            2.00       1.0   \n",
       "\n",
       "   graph_ID  \n",
       "0         0  \n",
       "1         1  \n",
       "2         1  \n",
       "3         1  \n",
       "4         2  \n",
       "\n",
       "[5 rows x 36 columns]"
      ]
     },
     "execution_count": 12,
     "metadata": {},
     "output_type": "execute_result"
    }
   ],
   "source": [
    "result.head()"
   ]
  },
  {
   "cell_type": "code",
   "execution_count": 13,
   "metadata": {},
   "outputs": [],
   "source": [
    "result.to_csv(\"../data/disambiguated-21-5-2020.csv\", index=False)"
   ]
  },
  {
   "cell_type": "markdown",
   "metadata": {},
   "source": [
    "## Analysis of Results"
   ]
  },
  {
   "cell_type": "code",
   "execution_count": 14,
   "metadata": {},
   "outputs": [],
   "source": [
    "# read in census latlng & fix outlier\n",
    "census_latlng = pd.read_csv(\"../data/census_1880_mn_v04.csv\")\n",
    "census_latlng['CENSUS_ID'] = 'CENSUS_' + census_latlng['OBJECTID.x'].astype(str)\n",
    "census_latlng = census_latlng.loc[:, ['CENSUS_ID', 'CENSUS_X', 'CENSUS_Y']]\n",
    "census_latlng.loc[census_latlng.CENSUS_Y > 1000, 'CENSUS_Y'] = 40.799935"
   ]
  },
  {
   "cell_type": "code",
   "execution_count": 15,
   "metadata": {},
   "outputs": [],
   "source": [
    "disambiguate.merge_census_var(census_latlng)\n",
    "disambiguate.set_var()"
   ]
  },
  {
   "cell_type": "code",
   "execution_count": 16,
   "metadata": {},
   "outputs": [],
   "source": [
    "match_rate = disambiguate.get_match_rate()\n",
    "addr_success = disambiguate.get_addr_success()\n",
    "dist_error = disambiguate.get_dist_error()\n",
    "under12 = disambiguate.get_under12_selections()"
   ]
  },
  {
   "cell_type": "code",
   "execution_count": 19,
   "metadata": {
    "tags": [
     "outputPrepend"
    ]
   },
   "outputs": [
    {
     "name": "stdout",
     "output_type": "stream",
     "text": [
      "Match Rate: 98.62%\n",
      "Percentage of Perfect Address Matches Selected: 78.09\n",
      "Descriptives of Distance Error:\n",
      "count    151046.000000\n",
      "mean         93.609218\n",
      "std         262.683888\n",
      "min           0.126686\n",
      "25%          38.203894\n",
      "50%          54.146137\n",
      "75%          70.446966\n",
      "max        8375.839589\n",
      "Name: dist, dtype: float64\n",
      "Proportion of Selected Matches under Age 12: 2.64\n"
     ]
    }
   ],
   "source": [
    "print(\"Match Rate: \" + str(match_rate) + \"%\")\n",
    "print(\"Percentage of Perfect Address Matches Selected: \" + str(round(addr_success['n_perfect_match_chosen'] / addr_success['n_perfect_match'] * 100, 2)))\n",
    "print(\"Descriptives of Distance Error:\")\n",
    "print(dist_error['dist'].describe())\n",
    "print(\"Proportion of Selected Matches under Age 12: \" +  str(under12))"
   ]
  },
  {
   "cell_type": "markdown",
   "metadata": {},
   "source": [
    "### Benchmarking"
   ]
  },
  {
   "cell_type": "code",
   "execution_count": 20,
   "metadata": {},
   "outputs": [
    {
     "name": "stdout",
     "output_type": "stream",
     "text": [
      "71\n",
      "PEARL ST\n"
     ]
    }
   ],
   "source": [
    "# import helper functions\n",
    "import re\n",
    "def get_hn(add):\n",
    "    hn = re.search('[0-9]+', add)\n",
    "    return hn.group()\n",
    "\n",
    "def get_st(add):\n",
    "    try:\n",
    "        st = re.search('(?<=[0-9]\\\\s)([A-Z]|\\\\s)+(?=,)', add)\n",
    "        return st.group()\n",
    "    except:\n",
    "        return None\n",
    "\n",
    "print( get_hn(\"71 PEARL ST\") )\n",
    "print( get_st(\"71 PEARL ST, NEW YORK, NY\") )"
   ]
  },
  {
   "cell_type": "code",
   "execution_count": 23,
   "metadata": {},
   "outputs": [],
   "source": [
    "census_latlng = pd.read_csv(\"../data/census_1880_mn_v04.csv\")\n",
    "census_latlng = census_latlng.loc[:, ['CENSUS_MATCH_ADDR', 'CENSUS_X', 'CENSUS_Y']].drop_duplicates() # select diff variables\n",
    "census_latlng.loc[census_latlng.CENSUS_Y > 1000, 'CENSUS_Y'] = 40.799935\n",
    "benchmark = match.merge(census_latlng, how='left', on='CENSUS_MATCH_ADDR', validate='many_to_one')"
   ]
  },
  {
   "cell_type": "code",
   "execution_count": 25,
   "metadata": {},
   "outputs": [],
   "source": [
    "# add address similarity as weight\n",
    "import numpy as np\n",
    "benchmark['cd_hn'] = benchmark.apply(lambda row: get_hn(row.MATCH_ADDR), axis=1)\n",
    "benchmark['cen_hn'] = benchmark.apply(lambda row: get_hn(row.CENSUS_MATCH_ADDR), axis=1)\n",
    "benchmark['cd_add_cln'] = benchmark.apply(lambda row: get_st(row.MATCH_ADDR), axis=1)\n",
    "benchmark['cen_add_cln'] = benchmark.apply(lambda row: get_st(row.CENSUS_MATCH_ADDR), axis=1)\n",
    "\n",
    "benchmark['add_match'] = np.where(benchmark.cd_hn == benchmark.cen_hn, 0.1, 0) + np.where(benchmark.cen_add_cln == benchmark.cd_add_cln, 0.9, 0)\n",
    "benchmark['confidence_score'] = benchmark['confidence_score'] + benchmark['add_match']"
   ]
  },
  {
   "cell_type": "code",
   "execution_count": 29,
   "metadata": {},
   "outputs": [],
   "source": [
    "benchmark = benchmark.merge(latlng, how='left', on='OBJECTID', validate='many_to_one')"
   ]
  },
  {
   "cell_type": "code",
   "execution_count": 30,
   "metadata": {},
   "outputs": [],
   "source": [
    "from disambiguation.analysis import get_dist_based_match\n",
    "benchmark = get_dist_based_match(benchmark)['results']"
   ]
  },
  {
   "cell_type": "code",
   "execution_count": 31,
   "metadata": {},
   "outputs": [],
   "source": [
    "from disambiguation.analysis import compare_selections\n",
    "confusion_matrix = compare_selections(result, benchmark)['confusion_matrix']"
   ]
  },
  {
   "cell_type": "code",
   "execution_count": 32,
   "metadata": {},
   "outputs": [
    {
     "name": "stdout",
     "output_type": "stream",
     "text": [
      "[[102012, 3528], [3528, 41978]]\n"
     ]
    }
   ],
   "source": [
    "print(confusion_matrix)"
   ]
  }
 ],
 "metadata": {
  "kernelspec": {
   "display_name": "Python 3",
   "language": "python",
   "name": "python3"
  },
  "language_info": {
   "codemirror_mode": {
    "name": "ipython",
    "version": 3
   },
   "file_extension": ".py",
   "mimetype": "text/x-python",
   "name": "python",
   "nbconvert_exporter": "python",
   "pygments_lexer": "ipython3",
   "version": "3.7.5"
  }
 },
 "nbformat": 4,
 "nbformat_minor": 2
}
