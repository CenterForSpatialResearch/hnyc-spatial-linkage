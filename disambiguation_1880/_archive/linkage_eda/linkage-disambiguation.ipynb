{
 "cells": [
  {
   "cell_type": "markdown",
   "metadata": {},
   "source": [
    "# Record Disambiguation"
   ]
  },
  {
   "cell_type": "markdown",
   "metadata": {},
   "source": [
    "### Algorithm\n",
    "We will use confidence scores and spatial weights to determine the correct matches. This involves:\n",
    "\n",
    "1. Generation of confidence score based on matches. Current formula used is: \n",
    "50% - Jaro-Winkler distance  \n",
    "20% - No. of CD matches (conflicts)  \n",
    "20% - No. of census matches  \n",
    "5% - Absence of occupation in the census  \n",
    "5% - Whether age is smaller than 12  \n",
    "More documentation is found in `spatial-disambiguation.ipynb`.\n",
    "\n",
    "2. Creation of spatial weights: A graph is created, with each node being a potential CD-census match and each edge being the link between the potential CD records of consecutive census records. A shortest path algorithm (Djikstra's) is run on the graph to get the nodes which comprise the shortest path. Matches involved in the shortest path are given a weight of +1. \n",
    "\n",
    "3. Matching algorithm: A bipartite graph is created from the matches, with each node being either a census or CD record and each edge indicating a potential match. The matching algorithm (maximum weighted matching) will (1) select sets of matches that give the highest number of matches (2) choose the match set that has the highest weight based on that. This match set will be the 'correct' matches for our disambiguation purposes. This step is needed because the lowest cost algorithm may select multiple CD records.\n",
    "\n",
    "**This is further demonstrated with examples below**"
   ]
  },
  {
   "cell_type": "code",
   "execution_count": 1,
   "metadata": {},
   "outputs": [],
   "source": [
    "import pandas as pd\n",
    "import networkx as nx"
   ]
  },
  {
   "cell_type": "code",
   "execution_count": 10,
   "metadata": {},
   "outputs": [],
   "source": [
    "# this is the df of matches with the correct confidence score (see spatial-disambiguation.ipynb)\n",
    "df = pd.read_csv(\"../data/matches.csv\")"
   ]
  },
  {
   "cell_type": "code",
   "execution_count": 11,
   "metadata": {},
   "outputs": [],
   "source": [
    "df['CENSUS_ID'] = df['CENSUS_ID'].str[7:].astype(int)\n",
    "df['CD_ID'] = df['CD_ID'].str[3:].astype(int)"
   ]
  },
  {
   "cell_type": "markdown",
   "metadata": {},
   "source": [
    "## Function Definitions\n",
    "UPDATE: check src/disambiguation.py for updated function definitions (some name changes)"
   ]
  },
  {
   "cell_type": "code",
   "execution_count": 4,
   "metadata": {},
   "outputs": [],
   "source": [
    "# Create node ID for each match, to be using the shortest path algorithm \n",
    "# Also select relavant columns\n",
    "# sub must be a df with each row as a potential match between a CD and census record. It must contain the columns CD_ID, CENSUS_ID, LONG, LAT, confidence_score and MATCH_ADDR\n",
    "# returns the dataframe with new columns, 'anchor', 'node_ID' and 'letter'.\n",
    "# anchor: whether row is an anchor (confidence score = 1)\n",
    "# node_ID: unique node ID. each node is a match, so e.g. A0 and A1 refers to two potential CD matches for the same census record\n",
    "# letter: grouping for identical census records \n",
    "\n",
    "def clean_matches(sub):\n",
    "    sub_graph = sub.loc[:, ['CD_ID', 'CENSUS_ID', 'LONG', 'LAT', 'confidence_score', 'MATCH_ADDR']]\n",
    "    sub_graph['anchor'] = sub_graph['confidence_score'].apply(lambda x: 1 if x == 1 else 0)\n",
    "    sub_graph['node_ID'] = sub_graph.groupby('CENSUS_ID').cumcount()\n",
    "\n",
    "    letter_id = sub_graph['CENSUS_ID'].unique().tolist()\n",
    "    letters = [chr(x+65) for x in range(0, len(letter_id))]\n",
    "    letter_id = pd.DataFrame({'CENSUS_ID': letter_id, 'letter': letters})\n",
    "\n",
    "    sub_graph = sub_graph.merge(letter_id, how='left', on='CENSUS_ID', validate='many_to_one')\n",
    "\n",
    "    sub_graph['node_ID'] = sub_graph.apply(lambda row: row.letter + str(row.node_ID), axis=1)\n",
    "    \n",
    "    return sub_graph"
   ]
  },
  {
   "cell_type": "code",
   "execution_count": 5,
   "metadata": {},
   "outputs": [],
   "source": [
    "# Creates a graph from the sub_graph dataframe\n",
    "# Each node being a potential CD-census match and \n",
    "# each edge being the link between the potential CD records of consecutive census records\n",
    "# The weight of each edge = the manhattan distance between the two\n",
    "# Returns the graph object\n",
    "\n",
    "def shortest_path_graph(sub_graph):\n",
    "    g = sub_graph\n",
    "    g['key'] = 0\n",
    "    g = g.merge(g, on='key')\n",
    "    g['key'] = g.apply(lambda row: 1 if ord(row.letter_x) - ord(row.letter_y) == -1 else 0, axis = 1)\n",
    "    g = g[g.key == 1]\n",
    "\n",
    "    g['weight'] = g.apply(lambda row: ((row.LONG_y - row.LONG_x)**2 + (row.LAT_y - row.LONG_x)**2)**(1/2), axis=1)\n",
    "    g_edges = [(row.node_ID_x, row.node_ID_y, row.weight) for index, row in g.iterrows()]\n",
    "    graph = nx.DiGraph()\n",
    "    graph.add_weighted_edges_from(g_edges)\n",
    "    \n",
    "    return graph"
   ]
  },
  {
   "cell_type": "code",
   "execution_count": 6,
   "metadata": {},
   "outputs": [],
   "source": [
    "# Runs dijkstra's algorithm on graph and returns the shortest path\n",
    "def shortest_path_nodes(sub_graph, g):\n",
    "    first_node = sub_graph.loc[0, 'node_ID']\n",
    "    last_node = sub_graph.loc[len(sub_graph)-1, 'node_ID']\n",
    "    path = nx.dijkstra_path(g, first_node, last_node, 'weight')\n",
    "    \n",
    "    return path"
   ]
  },
  {
   "cell_type": "code",
   "execution_count": 7,
   "metadata": {},
   "outputs": [],
   "source": [
    "# Using the shortest path, compute weight for each record. Each record's weight = confidence + 1 if the match was involved in the shortest path and + 0 otherwise.\n",
    "def apply_weight(sub_graph, path):\n",
    "    sub_graph['weight'] = sub_graph.apply(lambda row: row.confidence_score + 1 if row.node_ID in path else row.confidence_score, axis = 1)\n",
    "    return sub_graph"
   ]
  },
  {
   "cell_type": "code",
   "execution_count": 8,
   "metadata": {},
   "outputs": [],
   "source": [
    "# Run  A bipartite graph is created from the matches, with each node being either a census or CD record and each edge indicating a potential match. \n",
    "# The matching algorithm (maximum weighted matching) will \n",
    "# (1) select sets of matches that give the highest number of matches \n",
    "# (2) choose the match set that has the highest weight based on that\n",
    "# Returns a dictionary with 'graph' as the bipartite graph object and 'results' being the match results\n",
    "\n",
    "def matches(sub_graph):\n",
    "    b_edges = [(row.CD_ID, row.CENSUS_ID, row.weight) for index, row in sub_graph.iterrows()]\n",
    "    b = nx.DiGraph()\n",
    "    b.add_weighted_edges_from(b_edges)\n",
    "    matches = nx.max_weight_matching(b, maxcardinality = True)\n",
    "    \n",
    "    return {'graph': b, 'results': matches}"
   ]
  },
  {
   "cell_type": "markdown",
   "metadata": {},
   "source": [
    "## Demo"
   ]
  },
  {
   "cell_type": "markdown",
   "metadata": {},
   "source": [
    "### Example 1"
   ]
  },
  {
   "cell_type": "code",
   "execution_count": 12,
   "metadata": {},
   "outputs": [],
   "source": [
    "sub = df[(df.CENSUS_ID >= 1046) & (df.CENSUS_ID <= 1165)]"
   ]
  },
  {
   "cell_type": "markdown",
   "metadata": {},
   "source": [
    "### Step 1: Preprocessing\n",
    "Generate node ID for each match. Identical census records are given the same letter."
   ]
  },
  {
   "cell_type": "code",
   "execution_count": 13,
   "metadata": {},
   "outputs": [],
   "source": [
    "sub = clean_matches(sub)"
   ]
  },
  {
   "cell_type": "markdown",
   "metadata": {},
   "source": [
    "### Step 2: find the shortest path"
   ]
  },
  {
   "cell_type": "markdown",
   "metadata": {},
   "source": [
    "`shortest_path_graph()` will create a graph object like below. A-I represent consecutive census records, and the number represents the different CD records matched to a census record. E.g., G0 and G1 represent 2 different CD record matches for the same census record. By determining which node gives the overall smallest spatial distance, we can determine which matches are the most likely. E.g. in this case, because a path involving G0 and H0 would lead to the smallest distance among consecutive census records, we determine that G0 and H0 are the likeliest matches."
   ]
  },
  {
   "cell_type": "code",
   "execution_count": 76,
   "metadata": {},
   "outputs": [
    {
     "output_type": "display_data",
     "data": {
      "text/plain": "<Figure size 432x288 with 1 Axes>",
      "image/svg+xml": "<?xml version=\"1.0\" encoding=\"utf-8\" standalone=\"no\"?>\r\n<!DOCTYPE svg PUBLIC \"-//W3C//DTD SVG 1.1//EN\"\r\n  \"http://www.w3.org/Graphics/SVG/1.1/DTD/svg11.dtd\">\r\n<!-- Created with matplotlib (https://matplotlib.org/) -->\r\n<svg height=\"231.84pt\" version=\"1.1\" viewBox=\"0 0 349.2 231.84\" width=\"349.2pt\" xmlns=\"http://www.w3.org/2000/svg\" xmlns:xlink=\"http://www.w3.org/1999/xlink\">\r\n <defs>\r\n  <style type=\"text/css\">\r\n*{stroke-linecap:butt;stroke-linejoin:round;white-space:pre;}\r\n  </style>\r\n </defs>\r\n <g id=\"figure_1\">\r\n  <g id=\"patch_1\">\r\n   <path d=\"M 0 231.84 \r\nL 349.2 231.84 \r\nL 349.2 0 \r\nL 0 0 \r\nz\r\n\" style=\"fill:none;\"/>\r\n  </g>\r\n  <g id=\"axes_1\">\r\n   <g id=\"patch_2\">\r\n    <path d=\"M 7.2 224.64 \r\nL 342 224.64 \r\nL 342 7.2 \r\nL 7.2 7.2 \r\nz\r\n\" style=\"fill:#ffffff;\"/>\r\n   </g>\r\n   <g id=\"patch_3\">\r\n    <path clip-path=\"url(#pfa70999671)\" d=\"M 309.66042 26.06876 \r\nQ 304.576636 29.540654 300.416122 32.382014 \r\n\" style=\"fill:none;stroke:#000000;stroke-linecap:round;\"/>\r\n    <path clip-path=\"url(#pfa70999671)\" d=\"M 304.847246 31.777745 \r\nL 300.416122 32.382014 \r\nL 302.591381 28.474553 \r\nL 304.847246 31.777745 \r\nz\r\n\" style=\"stroke:#000000;stroke-linecap:round;\"/>\r\n   </g>\r\n   <g id=\"patch_4\">\r\n    <path clip-path=\"url(#pfa70999671)\" d=\"M 292.340246 37.897311 \r\nQ 283.120316 44.174965 274.82454 49.823383 \r\n\" style=\"fill:none;stroke:#000000;stroke-linecap:round;\"/>\r\n    <path clip-path=\"url(#pfa70999671)\" d=\"M 279.256508 49.225333 \r\nL 274.82454 49.823383 \r\nL 277.005282 45.918979 \r\nL 279.256508 49.225333 \r\nz\r\n\" style=\"stroke:#000000;stroke-linecap:round;\"/>\r\n   </g>\r\n   <g id=\"patch_5\">\r\n    <path clip-path=\"url(#pfa70999671)\" d=\"M 266.741308 55.327083 \r\nQ 254.85681 63.364159 243.898449 70.77492 \r\n\" style=\"fill:none;stroke:#000000;stroke-linecap:round;\"/>\r\n    <path clip-path=\"url(#pfa70999671)\" d=\"M 248.332283 70.190873 \r\nL 243.898449 70.77492 \r\nL 246.091512 66.877424 \r\nL 248.332283 70.190873 \r\nz\r\n\" style=\"stroke:#000000;stroke-linecap:round;\"/>\r\n   </g>\r\n   <g id=\"patch_6\">\r\n    <path clip-path=\"url(#pfa70999671)\" d=\"M 235.799687 76.251832 \r\nQ 225.802187 83.277598 216.719432 89.660524 \r\n\" style=\"fill:none;stroke:#000000;stroke-linecap:round;\"/>\r\n    <path clip-path=\"url(#pfa70999671)\" d=\"M 221.142068 88.996979 \r\nL 216.719432 89.660524 \r\nL 218.842177 85.724288 \r\nL 221.142068 88.996979 \r\nz\r\n\" style=\"stroke:#000000;stroke-linecap:round;\"/>\r\n   </g>\r\n   <g id=\"patch_7\">\r\n    <path clip-path=\"url(#pfa70999671)\" d=\"M 208.72099 95.281447 \r\nQ 204.561649 98.021018 201.336007 100.145604 \r\n\" style=\"fill:none;stroke:#000000;stroke-linecap:round;\"/>\r\n    <path clip-path=\"url(#pfa70999671)\" d=\"M 205.776628 99.615616 \r\nL 201.336007 100.145604 \r\nL 203.576389 96.275114 \r\nL 205.776628 99.615616 \r\nz\r\n\" style=\"stroke:#000000;stroke-linecap:round;\"/>\r\n   </g>\r\n   <g id=\"patch_8\">\r\n    <path clip-path=\"url(#pfa70999671)\" d=\"M 193.169498 105.524516 \r\nQ 170.963088 119.367801 149.705455 132.619627 \r\n\" style=\"fill:none;stroke:#000000;stroke-linecap:round;\"/>\r\n    <path clip-path=\"url(#pfa70999671)\" d=\"M 154.157934 132.200782 \r\nL 149.705455 132.619627 \r\nL 152.041866 128.806337 \r\nL 154.157934 132.200782 \r\nz\r\n\" style=\"stroke:#000000;stroke-linecap:round;\"/>\r\n   </g>\r\n   <g id=\"patch_9\">\r\n    <path clip-path=\"url(#pfa70999671)\" d=\"M 193.169498 105.524516 \r\nQ 208.059699 96.600472 221.990908 88.251174 \r\n\" style=\"fill:none;stroke:#000000;stroke-linecap:round;\"/>\r\n    <path clip-path=\"url(#pfa70999671)\" d=\"M 217.531775 88.591951 \r\nL 221.990908 88.251174 \r\nL 219.58805 92.022947 \r\nL 217.531775 88.591951 \r\nz\r\n\" style=\"stroke:#000000;stroke-linecap:round;\"/>\r\n   </g>\r\n   <g id=\"patch_10\">\r\n    <path clip-path=\"url(#pfa70999671)\" d=\"M 141.404568 137.794329 \r\nQ 145.500455 134.993131 148.673489 132.823076 \r\n\" style=\"fill:none;stroke:#000000;stroke-linecap:round;\"/>\r\n    <path clip-path=\"url(#pfa70999671)\" d=\"M 144.242766 133.430275 \r\nL 148.673489 132.823076 \r\nL 146.500815 136.731974 \r\nL 144.242766 133.430275 \r\nz\r\n\" style=\"stroke:#000000;stroke-linecap:round;\"/>\r\n   </g>\r\n   <g id=\"patch_11\">\r\n    <path clip-path=\"url(#pfa70999671)\" d=\"M 141.404568 137.794329 \r\nQ 121.649472 151.053824 102.822693 163.690239 \r\n\" style=\"fill:none;stroke:#000000;stroke-linecap:round;\"/>\r\n    <path clip-path=\"url(#pfa70999671)\" d=\"M 107.258538 163.121663 \r\nL 102.822693 163.690239 \r\nL 105.029339 159.800417 \r\nL 107.258538 163.121663 \r\nz\r\n\" style=\"stroke:#000000;stroke-linecap:round;\"/>\r\n   </g>\r\n   <g id=\"patch_12\">\r\n    <path clip-path=\"url(#pfa70999671)\" d=\"M 230.378536 83.224273 \r\nQ 197.278195 103.038795 165.137143 122.279068 \r\n\" style=\"fill:none;stroke:#000000;stroke-linecap:round;\"/>\r\n    <path clip-path=\"url(#pfa70999671)\" d=\"M 169.596452 121.940598 \r\nL 165.137143 122.279068 \r\nL 167.541953 118.508539 \r\nL 169.596452 121.940598 \r\nz\r\n\" style=\"stroke:#000000;stroke-linecap:round;\"/>\r\n   </g>\r\n   <g id=\"patch_13\">\r\n    <path clip-path=\"url(#pfa70999671)\" d=\"M 230.378536 83.224273 \r\nQ 166.198735 123.865816 102.963508 163.909212 \r\n\" style=\"fill:none;stroke:#000000;stroke-linecap:round;\"/>\r\n    <path clip-path=\"url(#pfa70999671)\" d=\"M 107.412916 163.458922 \r\nL 102.963508 163.909212 \r\nL 105.272921 160.079511 \r\nL 107.412916 163.458922 \r\nz\r\n\" style=\"stroke:#000000;stroke-linecap:round;\"/>\r\n   </g>\r\n   <g id=\"patch_14\">\r\n    <path clip-path=\"url(#pfa70999671)\" d=\"M 156.746821 127.301681 \r\nQ 101.739754 164.128589 47.661735 200.333505 \r\n\" style=\"fill:none;stroke:#000000;stroke-linecap:round;\"/>\r\n    <path clip-path=\"url(#pfa70999671)\" d=\"M 52.098243 199.770131 \r\nL 47.661735 200.333505 \r\nL 49.87294 196.446274 \r\nL 52.098243 199.770131 \r\nz\r\n\" style=\"stroke:#000000;stroke-linecap:round;\"/>\r\n   </g>\r\n   <g id=\"patch_15\">\r\n    <path clip-path=\"url(#pfa70999671)\" d=\"M 94.702672 169.140345 \r\nQ 70.728747 185.060163 47.686206 200.361496 \r\n\" style=\"fill:none;stroke:#000000;stroke-linecap:round;\"/>\r\n    <path clip-path=\"url(#pfa70999671)\" d=\"M 52.124808 199.814854 \r\nL 47.686206 200.361496 \r\nL 49.912053 196.48263 \r\nL 52.124808 199.814854 \r\nz\r\n\" style=\"stroke:#000000;stroke-linecap:round;\"/>\r\n   </g>\r\n   <g id=\"matplotlib.axis_1\">\r\n    <g id=\"xtick_1\"/>\r\n    <g id=\"xtick_2\"/>\r\n    <g id=\"xtick_3\"/>\r\n    <g id=\"xtick_4\"/>\r\n    <g id=\"xtick_5\"/>\r\n   </g>\r\n   <g id=\"matplotlib.axis_2\">\r\n    <g id=\"ytick_1\"/>\r\n    <g id=\"ytick_2\"/>\r\n    <g id=\"ytick_3\"/>\r\n    <g id=\"ytick_4\"/>\r\n    <g id=\"ytick_5\"/>\r\n    <g id=\"ytick_6\"/>\r\n    <g id=\"ytick_7\"/>\r\n    <g id=\"ytick_8\"/>\r\n   </g>\r\n   <g id=\"PathCollection_1\">\r\n    <defs>\r\n     <path d=\"M 0 8.660254 \r\nC 2.296726 8.660254 4.499694 7.747755 6.123724 6.123724 \r\nC 7.747755 4.499694 8.660254 2.296726 8.660254 0 \r\nC 8.660254 -2.296726 7.747755 -4.499694 6.123724 -6.123724 \r\nC 4.499694 -7.747755 2.296726 -8.660254 0 -8.660254 \r\nC -2.296726 -8.660254 -4.499694 -7.747755 -6.123724 -6.123724 \r\nC -7.747755 -4.499694 -8.660254 -2.296726 -8.660254 0 \r\nC -8.660254 2.296726 -7.747755 4.499694 -6.123724 6.123724 \r\nC -4.499694 7.747755 -2.296726 8.660254 0 8.660254 \r\nz\r\n\" id=\"m3046ad3e9e\" style=\"stroke:#e59494;\"/>\r\n    </defs>\r\n    <g clip-path=\"url(#pfa70999671)\">\r\n     <use style=\"fill:#e59494;stroke:#e59494;\" x=\"309.66042\" xlink:href=\"#m3046ad3e9e\" y=\"26.06876\"/>\r\n     <use style=\"fill:#e59494;stroke:#e59494;\" x=\"292.340246\" xlink:href=\"#m3046ad3e9e\" y=\"37.897311\"/>\r\n     <use style=\"fill:#e59494;stroke:#e59494;\" x=\"266.741308\" xlink:href=\"#m3046ad3e9e\" y=\"55.327083\"/>\r\n     <use style=\"fill:#e59494;stroke:#e59494;\" x=\"235.799687\" xlink:href=\"#m3046ad3e9e\" y=\"76.251832\"/>\r\n     <use style=\"fill:#e59494;stroke:#e59494;\" x=\"208.72099\" xlink:href=\"#m3046ad3e9e\" y=\"95.281447\"/>\r\n     <use style=\"fill:#e59494;stroke:#e59494;\" x=\"193.169498\" xlink:href=\"#m3046ad3e9e\" y=\"105.524516\"/>\r\n     <use style=\"fill:#e59494;stroke:#e59494;\" x=\"141.404568\" xlink:href=\"#m3046ad3e9e\" y=\"137.794329\"/>\r\n     <use style=\"fill:#e59494;stroke:#e59494;\" x=\"230.378536\" xlink:href=\"#m3046ad3e9e\" y=\"83.224273\"/>\r\n     <use style=\"fill:#e59494;stroke:#e59494;\" x=\"156.746821\" xlink:href=\"#m3046ad3e9e\" y=\"127.301681\"/>\r\n     <use style=\"fill:#e59494;stroke:#e59494;\" x=\"94.702672\" xlink:href=\"#m3046ad3e9e\" y=\"169.140345\"/>\r\n     <use style=\"fill:#e59494;stroke:#e59494;\" x=\"39.53958\" xlink:href=\"#m3046ad3e9e\" y=\"205.77124\"/>\r\n    </g>\r\n   </g>\r\n   <g id=\"patch_16\">\r\n    <path d=\"M 7.2 224.64 \r\nL 7.2 7.2 \r\n\" style=\"fill:none;stroke:#000000;stroke-linecap:square;stroke-linejoin:miter;stroke-width:0.8;\"/>\r\n   </g>\r\n   <g id=\"patch_17\">\r\n    <path d=\"M 342 224.64 \r\nL 342 7.2 \r\n\" style=\"fill:none;stroke:#000000;stroke-linecap:square;stroke-linejoin:miter;stroke-width:0.8;\"/>\r\n   </g>\r\n   <g id=\"patch_18\">\r\n    <path d=\"M 7.2 224.64 \r\nL 342 224.64 \r\n\" style=\"fill:none;stroke:#000000;stroke-linecap:square;stroke-linejoin:miter;stroke-width:0.8;\"/>\r\n   </g>\r\n   <g id=\"patch_19\">\r\n    <path d=\"M 7.2 7.2 \r\nL 342 7.2 \r\n\" style=\"fill:none;stroke:#000000;stroke-linecap:square;stroke-linejoin:miter;stroke-width:0.8;\"/>\r\n   </g>\r\n   <g id=\"text_1\">\r\n    <g clip-path=\"url(#pfa70999671)\">\r\n     <!-- A0 -->\r\n     <defs>\r\n      <path d=\"M 34.1875 63.1875 \r\nL 20.796875 26.90625 \r\nL 47.609375 26.90625 \r\nz\r\nM 28.609375 72.90625 \r\nL 39.796875 72.90625 \r\nL 67.578125 0 \r\nL 57.328125 0 \r\nL 50.6875 18.703125 \r\nL 17.828125 18.703125 \r\nL 11.1875 0 \r\nL 0.78125 0 \r\nz\r\n\" id=\"DejaVuSans-65\"/>\r\n      <path d=\"M 31.78125 66.40625 \r\nQ 24.171875 66.40625 20.328125 58.90625 \r\nQ 16.5 51.421875 16.5 36.375 \r\nQ 16.5 21.390625 20.328125 13.890625 \r\nQ 24.171875 6.390625 31.78125 6.390625 \r\nQ 39.453125 6.390625 43.28125 13.890625 \r\nQ 47.125 21.390625 47.125 36.375 \r\nQ 47.125 51.421875 43.28125 58.90625 \r\nQ 39.453125 66.40625 31.78125 66.40625 \r\nz\r\nM 31.78125 74.21875 \r\nQ 44.046875 74.21875 50.515625 64.515625 \r\nQ 56.984375 54.828125 56.984375 36.375 \r\nQ 56.984375 17.96875 50.515625 8.265625 \r\nQ 44.046875 -1.421875 31.78125 -1.421875 \r\nQ 19.53125 -1.421875 13.0625 8.265625 \r\nQ 6.59375 17.96875 6.59375 36.375 \r\nQ 6.59375 54.828125 13.0625 64.515625 \r\nQ 19.53125 74.21875 31.78125 74.21875 \r\nz\r\n\" id=\"DejaVuSans-48\"/>\r\n     </defs>\r\n     <g transform=\"translate(301.738545 29.38001)scale(0.12 -0.12)\">\r\n      <use xlink:href=\"#DejaVuSans-65\"/>\r\n      <use x=\"68.408203\" xlink:href=\"#DejaVuSans-48\"/>\r\n     </g>\r\n    </g>\r\n   </g>\r\n   <g id=\"text_2\">\r\n    <g clip-path=\"url(#pfa70999671)\">\r\n     <!-- B0 -->\r\n     <defs>\r\n      <path d=\"M 19.671875 34.8125 \r\nL 19.671875 8.109375 \r\nL 35.5 8.109375 \r\nQ 43.453125 8.109375 47.28125 11.40625 \r\nQ 51.125 14.703125 51.125 21.484375 \r\nQ 51.125 28.328125 47.28125 31.5625 \r\nQ 43.453125 34.8125 35.5 34.8125 \r\nz\r\nM 19.671875 64.796875 \r\nL 19.671875 42.828125 \r\nL 34.28125 42.828125 \r\nQ 41.5 42.828125 45.03125 45.53125 \r\nQ 48.578125 48.25 48.578125 53.8125 \r\nQ 48.578125 59.328125 45.03125 62.0625 \r\nQ 41.5 64.796875 34.28125 64.796875 \r\nz\r\nM 9.8125 72.90625 \r\nL 35.015625 72.90625 \r\nQ 46.296875 72.90625 52.390625 68.21875 \r\nQ 58.5 63.53125 58.5 54.890625 \r\nQ 58.5 48.1875 55.375 44.234375 \r\nQ 52.25 40.28125 46.1875 39.3125 \r\nQ 53.46875 37.75 57.5 32.78125 \r\nQ 61.53125 27.828125 61.53125 20.40625 \r\nQ 61.53125 10.640625 54.890625 5.3125 \r\nQ 48.25 0 35.984375 0 \r\nL 9.8125 0 \r\nz\r\n\" id=\"DejaVuSans-66\"/>\r\n     </defs>\r\n     <g transform=\"translate(284.406183 41.208561)scale(0.12 -0.12)\">\r\n      <use xlink:href=\"#DejaVuSans-66\"/>\r\n      <use x=\"68.603516\" xlink:href=\"#DejaVuSans-48\"/>\r\n     </g>\r\n    </g>\r\n   </g>\r\n   <g id=\"text_3\">\r\n    <g clip-path=\"url(#pfa70999671)\">\r\n     <!-- C0 -->\r\n     <defs>\r\n      <path d=\"M 64.40625 67.28125 \r\nL 64.40625 56.890625 \r\nQ 59.421875 61.53125 53.78125 63.8125 \r\nQ 48.140625 66.109375 41.796875 66.109375 \r\nQ 29.296875 66.109375 22.65625 58.46875 \r\nQ 16.015625 50.828125 16.015625 36.375 \r\nQ 16.015625 21.96875 22.65625 14.328125 \r\nQ 29.296875 6.6875 41.796875 6.6875 \r\nQ 48.140625 6.6875 53.78125 8.984375 \r\nQ 59.421875 11.28125 64.40625 15.921875 \r\nL 64.40625 5.609375 \r\nQ 59.234375 2.09375 53.4375 0.328125 \r\nQ 47.65625 -1.421875 41.21875 -1.421875 \r\nQ 24.65625 -1.421875 15.125 8.703125 \r\nQ 5.609375 18.84375 5.609375 36.375 \r\nQ 5.609375 53.953125 15.125 64.078125 \r\nQ 24.65625 74.21875 41.21875 74.21875 \r\nQ 47.75 74.21875 53.53125 72.484375 \r\nQ 59.328125 70.75 64.40625 67.28125 \r\nz\r\n\" id=\"DejaVuSans-67\"/>\r\n     </defs>\r\n     <g transform=\"translate(258.734121 58.638333)scale(0.12 -0.12)\">\r\n      <use xlink:href=\"#DejaVuSans-67\"/>\r\n      <use x=\"69.824219\" xlink:href=\"#DejaVuSans-48\"/>\r\n     </g>\r\n    </g>\r\n   </g>\r\n   <g id=\"text_4\">\r\n    <g clip-path=\"url(#pfa70999671)\">\r\n     <!-- D0 -->\r\n     <defs>\r\n      <path d=\"M 19.671875 64.796875 \r\nL 19.671875 8.109375 \r\nL 31.59375 8.109375 \r\nQ 46.6875 8.109375 53.6875 14.9375 \r\nQ 60.6875 21.78125 60.6875 36.53125 \r\nQ 60.6875 51.171875 53.6875 57.984375 \r\nQ 46.6875 64.796875 31.59375 64.796875 \r\nz\r\nM 9.8125 72.90625 \r\nL 30.078125 72.90625 \r\nQ 51.265625 72.90625 61.171875 64.09375 \r\nQ 71.09375 55.28125 71.09375 36.53125 \r\nQ 71.09375 17.671875 61.125 8.828125 \r\nQ 51.171875 0 30.078125 0 \r\nL 9.8125 0 \r\nz\r\n\" id=\"DejaVuSans-68\"/>\r\n     </defs>\r\n     <g transform=\"translate(227.362187 79.563082)scale(0.12 -0.12)\">\r\n      <use xlink:href=\"#DejaVuSans-68\"/>\r\n      <use x=\"77.001953\" xlink:href=\"#DejaVuSans-48\"/>\r\n     </g>\r\n    </g>\r\n   </g>\r\n   <g id=\"text_5\">\r\n    <g clip-path=\"url(#pfa70999671)\">\r\n     <!-- E0 -->\r\n     <defs>\r\n      <path d=\"M 9.8125 72.90625 \r\nL 55.90625 72.90625 \r\nL 55.90625 64.59375 \r\nL 19.671875 64.59375 \r\nL 19.671875 43.015625 \r\nL 54.390625 43.015625 \r\nL 54.390625 34.71875 \r\nL 19.671875 34.71875 \r\nL 19.671875 8.296875 \r\nL 56.78125 8.296875 \r\nL 56.78125 0 \r\nL 9.8125 0 \r\nz\r\n\" id=\"DejaVuSans-69\"/>\r\n     </defs>\r\n     <g transform=\"translate(201.11224 98.592697)scale(0.12 -0.12)\">\r\n      <use xlink:href=\"#DejaVuSans-69\"/>\r\n      <use x=\"63.183594\" xlink:href=\"#DejaVuSans-48\"/>\r\n     </g>\r\n    </g>\r\n   </g>\r\n   <g id=\"text_6\">\r\n    <g clip-path=\"url(#pfa70999671)\">\r\n     <!-- F0 -->\r\n     <defs>\r\n      <path d=\"M 9.8125 72.90625 \r\nL 51.703125 72.90625 \r\nL 51.703125 64.59375 \r\nL 19.671875 64.59375 \r\nL 19.671875 43.109375 \r\nL 48.578125 43.109375 \r\nL 48.578125 34.8125 \r\nL 19.671875 34.8125 \r\nL 19.671875 0 \r\nL 9.8125 0 \r\nz\r\n\" id=\"DejaVuSans-70\"/>\r\n     </defs>\r\n     <g transform=\"translate(185.90106 108.835766)scale(0.12 -0.12)\">\r\n      <use xlink:href=\"#DejaVuSans-70\"/>\r\n      <use x=\"57.519531\" xlink:href=\"#DejaVuSans-48\"/>\r\n     </g>\r\n    </g>\r\n   </g>\r\n   <g id=\"text_7\">\r\n    <g clip-path=\"url(#pfa70999671)\">\r\n     <!-- G0 -->\r\n     <defs>\r\n      <path d=\"M 59.515625 10.40625 \r\nL 59.515625 29.984375 \r\nL 43.40625 29.984375 \r\nL 43.40625 38.09375 \r\nL 69.28125 38.09375 \r\nL 69.28125 6.78125 \r\nQ 63.578125 2.734375 56.6875 0.65625 \r\nQ 49.8125 -1.421875 42 -1.421875 \r\nQ 24.90625 -1.421875 15.25 8.5625 \r\nQ 5.609375 18.5625 5.609375 36.375 \r\nQ 5.609375 54.25 15.25 64.234375 \r\nQ 24.90625 74.21875 42 74.21875 \r\nQ 49.125 74.21875 55.546875 72.453125 \r\nQ 61.96875 70.703125 67.390625 67.28125 \r\nL 67.390625 56.78125 \r\nQ 61.921875 61.421875 55.765625 63.765625 \r\nQ 49.609375 66.109375 42.828125 66.109375 \r\nQ 29.4375 66.109375 22.71875 58.640625 \r\nQ 16.015625 51.171875 16.015625 36.375 \r\nQ 16.015625 21.625 22.71875 14.15625 \r\nQ 29.4375 6.6875 42.828125 6.6875 \r\nQ 48.046875 6.6875 52.140625 7.59375 \r\nQ 56.25 8.5 59.515625 10.40625 \r\nz\r\n\" id=\"DejaVuSans-71\"/>\r\n     </defs>\r\n     <g transform=\"translate(132.938005 141.105579)scale(0.12 -0.12)\">\r\n      <use xlink:href=\"#DejaVuSans-71\"/>\r\n      <use x=\"77.490234\" xlink:href=\"#DejaVuSans-48\"/>\r\n     </g>\r\n    </g>\r\n   </g>\r\n   <g id=\"text_8\">\r\n    <g clip-path=\"url(#pfa70999671)\">\r\n     <!-- G1 -->\r\n     <defs>\r\n      <path d=\"M 12.40625 8.296875 \r\nL 28.515625 8.296875 \r\nL 28.515625 63.921875 \r\nL 10.984375 60.40625 \r\nL 10.984375 69.390625 \r\nL 28.421875 72.90625 \r\nL 38.28125 72.90625 \r\nL 38.28125 8.296875 \r\nL 54.390625 8.296875 \r\nL 54.390625 0 \r\nL 12.40625 0 \r\nz\r\n\" id=\"DejaVuSans-49\"/>\r\n     </defs>\r\n     <g transform=\"translate(221.911973 86.535523)scale(0.12 -0.12)\">\r\n      <use xlink:href=\"#DejaVuSans-71\"/>\r\n      <use x=\"77.490234\" xlink:href=\"#DejaVuSans-49\"/>\r\n     </g>\r\n    </g>\r\n   </g>\r\n   <g id=\"text_9\">\r\n    <g clip-path=\"url(#pfa70999671)\">\r\n     <!-- H0 -->\r\n     <defs>\r\n      <path d=\"M 9.8125 72.90625 \r\nL 19.671875 72.90625 \r\nL 19.671875 43.015625 \r\nL 55.515625 43.015625 \r\nL 55.515625 72.90625 \r\nL 65.375 72.90625 \r\nL 65.375 0 \r\nL 55.515625 0 \r\nL 55.515625 34.71875 \r\nL 19.671875 34.71875 \r\nL 19.671875 0 \r\nL 9.8125 0 \r\nz\r\n\" id=\"DejaVuSans-72\"/>\r\n     </defs>\r\n     <g transform=\"translate(148.417133 130.612931)scale(0.12 -0.12)\">\r\n      <use xlink:href=\"#DejaVuSans-72\"/>\r\n      <use x=\"75.195312\" xlink:href=\"#DejaVuSans-48\"/>\r\n     </g>\r\n    </g>\r\n   </g>\r\n   <g id=\"text_10\">\r\n    <g clip-path=\"url(#pfa70999671)\">\r\n     <!-- H1 -->\r\n     <g transform=\"translate(86.372985 172.451595)scale(0.12 -0.12)\">\r\n      <use xlink:href=\"#DejaVuSans-72\"/>\r\n      <use x=\"75.195312\" xlink:href=\"#DejaVuSans-49\"/>\r\n     </g>\r\n    </g>\r\n   </g>\r\n   <g id=\"text_11\">\r\n    <g clip-path=\"url(#pfa70999671)\">\r\n     <!-- I0 -->\r\n     <defs>\r\n      <path d=\"M 9.8125 72.90625 \r\nL 19.671875 72.90625 \r\nL 19.671875 0 \r\nL 9.8125 0 \r\nz\r\n\" id=\"DejaVuSans-73\"/>\r\n     </defs>\r\n     <g transform=\"translate(33.95208 209.08249)scale(0.12 -0.12)\">\r\n      <use xlink:href=\"#DejaVuSans-73\"/>\r\n      <use x=\"29.492188\" xlink:href=\"#DejaVuSans-48\"/>\r\n     </g>\r\n    </g>\r\n   </g>\r\n  </g>\r\n </g>\r\n <defs>\r\n  <clipPath id=\"pfa70999671\">\r\n   <rect height=\"217.44\" width=\"334.8\" x=\"7.2\" y=\"7.2\"/>\r\n  </clipPath>\r\n </defs>\r\n</svg>\r\n",
      "image/png": "[encoded data removed]"
     },
     "metadata": {}
    }
   ],
   "source": [
    "g = shortest_path_graph(sub)\n",
    "nx.draw_networkx(g, with_labels=True, node_color = \"#E59494\")"
   ]
  },
  {
   "cell_type": "markdown",
   "metadata": {},
   "source": [
    "These nodes will represent the combination of nodes giving the smallest path distance."
   ]
  },
  {
   "cell_type": "code",
   "execution_count": 22,
   "metadata": {},
   "outputs": [
    {
     "data": {
      "text/plain": [
       "['A0', 'B0', 'C0', 'D0', 'E0', 'F0', 'G0', 'H0', 'I0']"
      ]
     },
     "execution_count": 22,
     "metadata": {},
     "output_type": "execute_result"
    }
   ],
   "source": [
    "nodes = shortest_path_nodes(sub, g)\n",
    "nodes"
   ]
  },
  {
   "cell_type": "markdown",
   "metadata": {},
   "source": [
    "### Step 3: Add weights based on spatial weight + confidence score\n",
    "Matches that are part of the shortest path are given an additional score of 1. This adds a spatial dimension to the match score weighting."
   ]
  },
  {
   "cell_type": "code",
   "execution_count": 23,
   "metadata": {
    "scrolled": true
   },
   "outputs": [
    {
     "data": {
      "text/html": [
       "<div>\n",
       "<style scoped>\n",
       "    .dataframe tbody tr th:only-of-type {\n",
       "        vertical-align: middle;\n",
       "    }\n",
       "\n",
       "    .dataframe tbody tr th {\n",
       "        vertical-align: top;\n",
       "    }\n",
       "\n",
       "    .dataframe thead th {\n",
       "        text-align: right;\n",
       "    }\n",
       "</style>\n",
       "<table border=\"1\" class=\"dataframe\">\n",
       "  <thead>\n",
       "    <tr style=\"text-align: right;\">\n",
       "      <th></th>\n",
       "      <th>CD_ID</th>\n",
       "      <th>CENSUS_ID</th>\n",
       "      <th>LONG</th>\n",
       "      <th>LAT</th>\n",
       "      <th>confidence_score</th>\n",
       "      <th>MATCH_ADDR</th>\n",
       "      <th>anchor</th>\n",
       "      <th>node_ID</th>\n",
       "      <th>letter</th>\n",
       "      <th>key</th>\n",
       "      <th>weight</th>\n",
       "    </tr>\n",
       "  </thead>\n",
       "  <tbody>\n",
       "    <tr>\n",
       "      <th>0</th>\n",
       "      <td>111096</td>\n",
       "      <td>1046</td>\n",
       "      <td>-74.010403</td>\n",
       "      <td>40.703759</td>\n",
       "      <td>1.00</td>\n",
       "      <td>74 PEARL ST, New York, NY</td>\n",
       "      <td>1</td>\n",
       "      <td>A0</td>\n",
       "      <td>A</td>\n",
       "      <td>0</td>\n",
       "      <td>2.00</td>\n",
       "    </tr>\n",
       "    <tr>\n",
       "      <th>1</th>\n",
       "      <td>173365</td>\n",
       "      <td>1072</td>\n",
       "      <td>-74.013676</td>\n",
       "      <td>40.702483</td>\n",
       "      <td>0.90</td>\n",
       "      <td>6 STATE ST, New York, NY</td>\n",
       "      <td>0</td>\n",
       "      <td>B0</td>\n",
       "      <td>B</td>\n",
       "      <td>0</td>\n",
       "      <td>1.90</td>\n",
       "    </tr>\n",
       "    <tr>\n",
       "      <th>2</th>\n",
       "      <td>8715</td>\n",
       "      <td>1080</td>\n",
       "      <td>-74.010523</td>\n",
       "      <td>40.702785</td>\n",
       "      <td>0.80</td>\n",
       "      <td>40 FRONT ST, New York, NY</td>\n",
       "      <td>0</td>\n",
       "      <td>C0</td>\n",
       "      <td>C</td>\n",
       "      <td>0</td>\n",
       "      <td>1.80</td>\n",
       "    </tr>\n",
       "    <tr>\n",
       "      <th>3</th>\n",
       "      <td>8715</td>\n",
       "      <td>1081</td>\n",
       "      <td>-74.010523</td>\n",
       "      <td>40.702785</td>\n",
       "      <td>0.90</td>\n",
       "      <td>40 FRONT ST, New York, NY</td>\n",
       "      <td>0</td>\n",
       "      <td>D0</td>\n",
       "      <td>D</td>\n",
       "      <td>0</td>\n",
       "      <td>1.90</td>\n",
       "    </tr>\n",
       "    <tr>\n",
       "      <th>4</th>\n",
       "      <td>82090</td>\n",
       "      <td>1119</td>\n",
       "      <td>-74.011323</td>\n",
       "      <td>40.704394</td>\n",
       "      <td>0.87</td>\n",
       "      <td>34 S WILLIAM ST, New York, NY</td>\n",
       "      <td>0</td>\n",
       "      <td>E0</td>\n",
       "      <td>E</td>\n",
       "      <td>0</td>\n",
       "      <td>1.87</td>\n",
       "    </tr>\n",
       "    <tr>\n",
       "      <th>5</th>\n",
       "      <td>76251</td>\n",
       "      <td>1152</td>\n",
       "      <td>-74.010875</td>\n",
       "      <td>40.701938</td>\n",
       "      <td>0.99</td>\n",
       "      <td>17 SOUTH ST, New York, NY</td>\n",
       "      <td>0</td>\n",
       "      <td>F0</td>\n",
       "      <td>F</td>\n",
       "      <td>0</td>\n",
       "      <td>1.99</td>\n",
       "    </tr>\n",
       "    <tr>\n",
       "      <th>6</th>\n",
       "      <td>160240</td>\n",
       "      <td>1158</td>\n",
       "      <td>-74.010980</td>\n",
       "      <td>40.701913</td>\n",
       "      <td>0.80</td>\n",
       "      <td>16 SOUTH ST, New York, NY</td>\n",
       "      <td>0</td>\n",
       "      <td>G0</td>\n",
       "      <td>G</td>\n",
       "      <td>0</td>\n",
       "      <td>1.80</td>\n",
       "    </tr>\n",
       "    <tr>\n",
       "      <th>7</th>\n",
       "      <td>160237</td>\n",
       "      <td>1158</td>\n",
       "      <td>-74.011102</td>\n",
       "      <td>40.701948</td>\n",
       "      <td>0.80</td>\n",
       "      <td>129 BROAD ST, New York, NY</td>\n",
       "      <td>0</td>\n",
       "      <td>G1</td>\n",
       "      <td>G</td>\n",
       "      <td>0</td>\n",
       "      <td>0.80</td>\n",
       "    </tr>\n",
       "    <tr>\n",
       "      <th>8</th>\n",
       "      <td>160240</td>\n",
       "      <td>1162</td>\n",
       "      <td>-74.010980</td>\n",
       "      <td>40.701913</td>\n",
       "      <td>0.80</td>\n",
       "      <td>16 SOUTH ST, New York, NY</td>\n",
       "      <td>0</td>\n",
       "      <td>H0</td>\n",
       "      <td>H</td>\n",
       "      <td>0</td>\n",
       "      <td>1.80</td>\n",
       "    </tr>\n",
       "    <tr>\n",
       "      <th>9</th>\n",
       "      <td>160237</td>\n",
       "      <td>1162</td>\n",
       "      <td>-74.011102</td>\n",
       "      <td>40.701948</td>\n",
       "      <td>0.80</td>\n",
       "      <td>129 BROAD ST, New York, NY</td>\n",
       "      <td>0</td>\n",
       "      <td>H1</td>\n",
       "      <td>H</td>\n",
       "      <td>0</td>\n",
       "      <td>0.80</td>\n",
       "    </tr>\n",
       "    <tr>\n",
       "      <th>10</th>\n",
       "      <td>83641</td>\n",
       "      <td>1165</td>\n",
       "      <td>-74.011289</td>\n",
       "      <td>40.702609</td>\n",
       "      <td>1.00</td>\n",
       "      <td>111 BROAD ST, New York, NY</td>\n",
       "      <td>1</td>\n",
       "      <td>I0</td>\n",
       "      <td>I</td>\n",
       "      <td>0</td>\n",
       "      <td>2.00</td>\n",
       "    </tr>\n",
       "  </tbody>\n",
       "</table>\n",
       "</div>"
      ],
      "text/plain": [
       "     CD_ID  CENSUS_ID       LONG        LAT  confidence_score  \\\n",
       "0   111096       1046 -74.010403  40.703759              1.00   \n",
       "1   173365       1072 -74.013676  40.702483              0.90   \n",
       "2     8715       1080 -74.010523  40.702785              0.80   \n",
       "3     8715       1081 -74.010523  40.702785              0.90   \n",
       "4    82090       1119 -74.011323  40.704394              0.87   \n",
       "5    76251       1152 -74.010875  40.701938              0.99   \n",
       "6   160240       1158 -74.010980  40.701913              0.80   \n",
       "7   160237       1158 -74.011102  40.701948              0.80   \n",
       "8   160240       1162 -74.010980  40.701913              0.80   \n",
       "9   160237       1162 -74.011102  40.701948              0.80   \n",
       "10   83641       1165 -74.011289  40.702609              1.00   \n",
       "\n",
       "                       MATCH_ADDR  anchor node_ID letter  key  weight  \n",
       "0       74 PEARL ST, New York, NY       1      A0      A    0    2.00  \n",
       "1        6 STATE ST, New York, NY       0      B0      B    0    1.90  \n",
       "2       40 FRONT ST, New York, NY       0      C0      C    0    1.80  \n",
       "3       40 FRONT ST, New York, NY       0      D0      D    0    1.90  \n",
       "4   34 S WILLIAM ST, New York, NY       0      E0      E    0    1.87  \n",
       "5       17 SOUTH ST, New York, NY       0      F0      F    0    1.99  \n",
       "6       16 SOUTH ST, New York, NY       0      G0      G    0    1.80  \n",
       "7      129 BROAD ST, New York, NY       0      G1      G    0    0.80  \n",
       "8       16 SOUTH ST, New York, NY       0      H0      H    0    1.80  \n",
       "9      129 BROAD ST, New York, NY       0      H1      H    0    0.80  \n",
       "10     111 BROAD ST, New York, NY       1      I0      I    0    2.00  "
      ]
     },
     "execution_count": 23,
     "metadata": {},
     "output_type": "execute_result"
    }
   ],
   "source": [
    "weighted_df = apply_weight(sub, nodes)\n",
    "weighted_df"
   ]
  },
  {
   "cell_type": "markdown",
   "metadata": {},
   "source": [
    "### Step 4: Find the matches that maximise confidence weight\n",
    "This algorithm selects the set of matches that maximises number of matches and has the highest sum of weights.\n",
    "\n",
    "A visualization of the bipartite graph (left = CD records, right = census records)"
   ]
  },
  {
   "cell_type": "code",
   "execution_count": 31,
   "metadata": {},
   "outputs": [
    {
     "data": {
      "image/png": "[encoded data removed]",
      "text/plain": [
       "<Figure size 432x288 with 1 Axes>"
      ]
     },
     "metadata": {},
     "output_type": "display_data"
    }
   ],
   "source": [
    "b = matches(weighted_df)['graph']\n",
    "nx.draw_networkx(b, pos = nx.drawing.layout.bipartite_layout(b, weighted_df['CD_ID'].tolist()), node_size = 800)"
   ]
  },
  {
   "cell_type": "code",
   "execution_count": 26,
   "metadata": {
    "scrolled": false
   },
   "outputs": [
    {
     "data": {
      "text/plain": [
       "{(1072, 173365),\n",
       " (1081, 8715),\n",
       " (1152, 76251),\n",
       " (1162, 160237),\n",
       " (82090, 1119),\n",
       " (83641, 1165),\n",
       " (111096, 1046),\n",
       " (160240, 1158)}"
      ]
     },
     "execution_count": 26,
     "metadata": {},
     "output_type": "execute_result"
    }
   ],
   "source": [
    "matches(weighted_df)['results']"
   ]
  }
 ],
 "metadata": {
  "kernelspec": {
   "display_name": "Python 3",
   "language": "python",
   "name": "python3"
  },
  "language_info": {
   "codemirror_mode": {
    "name": "ipython",
    "version": 3
   },
   "file_extension": ".py",
   "mimetype": "text/x-python",
   "name": "python",
   "nbconvert_exporter": "python",
   "pygments_lexer": "ipython3",
   "version": "3.7.3-final"
  }
 },
 "nbformat": 4,
 "nbformat_minor": 2
}