{
 "cells": [
  {
   "cell_type": "markdown",
   "metadata": {},
   "source": [
    "# Record Disambiguation"
   ]
  },
  {
   "cell_type": "markdown",
   "metadata": {},
   "source": [
    "### Algorithm\n",
    "We will use confidence scores and spatial weights to determine the correct matches. This involves:\n",
    "\n",
    "1. Generation of confidence score based on matches. Current formula used is: \n",
    "50% - Jaro-Winkler distance  \n",
    "20% - No. of CD matches (conflicts)  \n",
    "20% - No. of census matches  \n",
    "5% - Absence of occupation in the census  \n",
    "5% - Whether age is smaller than 12  \n",
    "More documentation is found in `spatial-disambiguation.ipynb`.\n",
    "\n",
    "2. Creation of spatial weights: A graph is created, with each node being a potential CD-census match and each edge being the link between the potential CD records of consecutive census records. A shortest path algorithm (Djikstra's) is run on the graph to get the nodes which comprise the shortest path. Matches involved in the shortest path are given a weight of +1. \n",
    "\n",
    "3. Matching algorithm: A bipartite graph is created from the matches, with each node being either a census or CD record and each edge indicating a potential match. The matching algorithm (maximum weighted matching) will (1) select sets of matches that give the highest number of matches (2) choose the match set that has the highest weight based on that. This match set will be the 'correct' matches for our disambiguation purposes. This step is needed because the lowest cost algorithm may select multiple CD records.\n",
    "\n",
    "**This is further demonstrated with examples below**"
   ]
  },
  {
   "cell_type": "code",
   "execution_count": 1,
   "metadata": {},
   "outputs": [],
   "source": [
    "import pandas as pd\n",
    "import networkx as nx"
   ]
  },
  {
   "cell_type": "code",
   "execution_count": 2,
   "metadata": {},
   "outputs": [],
   "source": [
    "# this is the df of matches with the correct confidence score (see spatial-disambiguation.ipynb)\n",
    "df = pd.read_csv(\"../data/matches.csv\")"
   ]
  },
  {
   "cell_type": "markdown",
   "metadata": {},
   "source": [
    "## Function Definitions"
   ]
  },
  {
   "cell_type": "code",
   "execution_count": 3,
   "metadata": {},
   "outputs": [],
   "source": [
    "# Create node ID for each match, to be using the shortest path algorithm \n",
    "# Also select relavant columns\n",
    "# sub must be a df with each row as a potential match between a CD and census record. It must contain the columns CD_ID, CENSUS_ID, LONG, LAT, confidence_score and MATCH_ADDR\n",
    "# returns the dataframe with new columns, 'anchor', 'node_ID' and 'letter'.\n",
    "# anchor: whether row is an anchor (confidence score = 1)\n",
    "# node_ID: unique node ID. each node is a match, so e.g. A0 and A1 refers to two potential CD matches for the same census record\n",
    "# letter: grouping for identical census records \n",
    "\n",
    "def clean_matches(sub):\n",
    "    sub_graph = sub.loc[:, ['CD_ID', 'CENSUS_ID', 'LONG', 'LAT', 'confidence_score', 'MATCH_ADDR']]\n",
    "    sub_graph['anchor'] = sub_graph['confidence_score'].apply(lambda x: 1 if x == 1 else 0)\n",
    "    sub_graph['node_ID'] = sub_graph.groupby('CENSUS_ID').cumcount()\n",
    "\n",
    "    letter_id = sub_graph['CENSUS_ID'].unique().tolist()\n",
    "    letters = [chr(x+65) for x in range(0, len(letter_id))]\n",
    "    letter_id = pd.DataFrame({'CENSUS_ID': letter_id, 'letter': letters})\n",
    "\n",
    "    sub_graph = sub_graph.merge(letter_id, how='left', on='CENSUS_ID', validate='many_to_one')\n",
    "\n",
    "    sub_graph['node_ID'] = sub_graph.apply(lambda row: row.letter + str(row.node_ID), axis=1)\n",
    "    \n",
    "    return sub_graph"
   ]
  },
  {
   "cell_type": "code",
   "execution_count": 12,
   "metadata": {},
   "outputs": [],
   "source": [
    "# Creates a graph from the sub_graph dataframe\n",
    "# Each node being a potential CD-census match and \n",
    "# each edge being the link between the potential CD records of consecutive census records\n",
    "# The weight of each edge = the manhattan distance between the two\n",
    "# Returns the graph object\n",
    "\n",
    "def shortest_path_graph(sub_graph):\n",
    "    g = sub_graph\n",
    "    g['key'] = 0\n",
    "    g = g.merge(g, on='key')\n",
    "    g['key'] = g.apply(lambda row: 1 if ord(row.letter_x) - ord(row.letter_y) == -1 else 0, axis = 1)\n",
    "    g = g[g.key == 1]\n",
    "\n",
    "    g['weight'] = g.apply(lambda row: ((row.LONG_y - row.LONG_x)**2 + (row.LAT_y - row.LONG_x)**2)**(1/2), axis=1)\n",
    "    g_edges = [(row.node_ID_x, row.node_ID_y, row.weight) for index, row in g.iterrows()]\n",
    "    graph = nx.DiGraph()\n",
    "    graph.add_weighted_edges_from(g_edges)\n",
    "    \n",
    "    return graph"
   ]
  },
  {
   "cell_type": "code",
   "execution_count": 21,
   "metadata": {},
   "outputs": [],
   "source": [
    "# Runs dijkstra's algorithm on graph and returns the shortest path\n",
    "def shortest_path_nodes(sub_graph, g):\n",
    "    first_node = sub_graph.loc[0, 'node_ID']\n",
    "    last_node = sub_graph.loc[len(sub_graph)-1, 'node_ID']\n",
    "    path = nx.dijkstra_path(g, first_node, last_node, 'weight')\n",
    "    \n",
    "    return path"
   ]
  },
  {
   "cell_type": "code",
   "execution_count": 6,
   "metadata": {},
   "outputs": [],
   "source": [
    "# Using the shortest path, compute weight for each record. Each record's weight = confidence + 1 if the match was involved in the shortest path and + 0 otherwise.\n",
    "def apply_weight(sub_graph, path):\n",
    "    sub_graph['weight'] = sub_graph.apply(lambda row: row.confidence_score + 1 if row.node_ID in path else row.confidence_score, axis = 1)\n",
    "    return sub_graph"
   ]
  },
  {
   "cell_type": "code",
   "execution_count": 7,
   "metadata": {},
   "outputs": [],
   "source": [
    "# Run  A bipartite graph is created from the matches, with each node being either a census or CD record and each edge indicating a potential match. \n",
    "# The matching algorithm (maximum weighted matching) will \n",
    "# (1) select sets of matches that give the highest number of matches \n",
    "# (2) choose the match set that has the highest weight based on that\n",
    "# Returns a dictionary with 'graph' as the bipartite graph object and 'results' being the match results\n",
    "\n",
    "def matches(sub_graph):\n",
    "    b_edges = [(row.CD_ID, row.CENSUS_ID, row.weight) for index, row in sub_graph.iterrows()]\n",
    "    b = nx.DiGraph()\n",
    "    b.add_weighted_edges_from(b_edges)\n",
    "    matches = nx.max_weight_matching(b, maxcardinality = True)\n",
    "    \n",
    "    return {'graph': b, 'results': matches}"
   ]
  },
  {
   "cell_type": "markdown",
   "metadata": {},
   "source": [
    "## Demo"
   ]
  },
  {
   "cell_type": "markdown",
   "metadata": {},
   "source": [
    "### Example 1"
   ]
  },
  {
   "cell_type": "code",
   "execution_count": 9,
   "metadata": {},
   "outputs": [],
   "source": [
    "sub = df[(df.CENSUS_ID >= 1046) & (df.CENSUS_ID <= 1165)]"
   ]
  },
  {
   "cell_type": "markdown",
   "metadata": {},
   "source": [
    "### Step 1: Preprocessing\n",
    "Generate node ID for each match. Identical census records are given the same letter."
   ]
  },
  {
   "cell_type": "code",
   "execution_count": 10,
   "metadata": {},
   "outputs": [],
   "source": [
    "sub = clean_matches(sub)"
   ]
  },
  {
   "cell_type": "markdown",
   "metadata": {},
   "source": [
    "### Step 2: find the shortest path"
   ]
  },
  {
   "cell_type": "markdown",
   "metadata": {},
   "source": [
    "`shortest_path_graph()` will create a graph object like below. A-I represent consecutive census records, and the number represents the different CD records matched to a census record. E.g., G0 and G1 represent 2 different CD record matches for the same census record. By determining which node gives the overall smallest spatial distance, we can determine which matches are the most likely. E.g. in this case, because a path involving G0 and H0 would lead to the smallest distance among consecutive census records, we determine that G0 and H0 are the likeliest matches."
   ]
  },
  {
   "cell_type": "code",
   "execution_count": 17,
   "metadata": {},
   "outputs": [
    {
     "data": {
      "image/png": "[encoded data removed]",
      "text/plain": [
       "<Figure size 432x288 with 1 Axes>"
      ]
     },
     "metadata": {},
     "output_type": "display_data"
    }
   ],
   "source": [
    "g = shortest_path_graph(sub)\n",
    "labels = nx.draw_networkx_labels(g, pos=nx.spring_layout(g))\n",
    "nx.draw_networkx(g, with_labels=True)"
   ]
  },
  {
   "cell_type": "markdown",
   "metadata": {},
   "source": [
    "These nodes will represent the combination of nodes giving the smallest path distance."
   ]
  },
  {
   "cell_type": "code",
   "execution_count": 22,
   "metadata": {},
   "outputs": [
    {
     "data": {
      "text/plain": [
       "['A0', 'B0', 'C0', 'D0', 'E0', 'F0', 'G0', 'H0', 'I0']"
      ]
     },
     "execution_count": 22,
     "metadata": {},
     "output_type": "execute_result"
    }
   ],
   "source": [
    "nodes = shortest_path_nodes(sub, g)\n",
    "nodes"
   ]
  },
  {
   "cell_type": "markdown",
   "metadata": {},
   "source": [
    "### Step 3: Add weights based on spatial weight + confidence score\n",
    "Matches that are part of the shortest path are given an additional score of 1. This adds a spatial dimension to the match score weighting."
   ]
  },
  {
   "cell_type": "code",
   "execution_count": 23,
   "metadata": {
    "scrolled": true
   },
   "outputs": [
    {
     "data": {
      "text/html": [
       "<div>\n",
       "<style scoped>\n",
       "    .dataframe tbody tr th:only-of-type {\n",
       "        vertical-align: middle;\n",
       "    }\n",
       "\n",
       "    .dataframe tbody tr th {\n",
       "        vertical-align: top;\n",
       "    }\n",
       "\n",
       "    .dataframe thead th {\n",
       "        text-align: right;\n",
       "    }\n",
       "</style>\n",
       "<table border=\"1\" class=\"dataframe\">\n",
       "  <thead>\n",
       "    <tr style=\"text-align: right;\">\n",
       "      <th></th>\n",
       "      <th>CD_ID</th>\n",
       "      <th>CENSUS_ID</th>\n",
       "      <th>LONG</th>\n",
       "      <th>LAT</th>\n",
       "      <th>confidence_score</th>\n",
       "      <th>MATCH_ADDR</th>\n",
       "      <th>anchor</th>\n",
       "      <th>node_ID</th>\n",
       "      <th>letter</th>\n",
       "      <th>key</th>\n",
       "      <th>weight</th>\n",
       "    </tr>\n",
       "  </thead>\n",
       "  <tbody>\n",
       "    <tr>\n",
       "      <th>0</th>\n",
       "      <td>111096</td>\n",
       "      <td>1046</td>\n",
       "      <td>-74.010403</td>\n",
       "      <td>40.703759</td>\n",
       "      <td>1.00</td>\n",
       "      <td>74 PEARL ST, New York, NY</td>\n",
       "      <td>1</td>\n",
       "      <td>A0</td>\n",
       "      <td>A</td>\n",
       "      <td>0</td>\n",
       "      <td>2.00</td>\n",
       "    </tr>\n",
       "    <tr>\n",
       "      <th>1</th>\n",
       "      <td>173365</td>\n",
       "      <td>1072</td>\n",
       "      <td>-74.013676</td>\n",
       "      <td>40.702483</td>\n",
       "      <td>0.90</td>\n",
       "      <td>6 STATE ST, New York, NY</td>\n",
       "      <td>0</td>\n",
       "      <td>B0</td>\n",
       "      <td>B</td>\n",
       "      <td>0</td>\n",
       "      <td>1.90</td>\n",
       "    </tr>\n",
       "    <tr>\n",
       "      <th>2</th>\n",
       "      <td>8715</td>\n",
       "      <td>1080</td>\n",
       "      <td>-74.010523</td>\n",
       "      <td>40.702785</td>\n",
       "      <td>0.80</td>\n",
       "      <td>40 FRONT ST, New York, NY</td>\n",
       "      <td>0</td>\n",
       "      <td>C0</td>\n",
       "      <td>C</td>\n",
       "      <td>0</td>\n",
       "      <td>1.80</td>\n",
       "    </tr>\n",
       "    <tr>\n",
       "      <th>3</th>\n",
       "      <td>8715</td>\n",
       "      <td>1081</td>\n",
       "      <td>-74.010523</td>\n",
       "      <td>40.702785</td>\n",
       "      <td>0.90</td>\n",
       "      <td>40 FRONT ST, New York, NY</td>\n",
       "      <td>0</td>\n",
       "      <td>D0</td>\n",
       "      <td>D</td>\n",
       "      <td>0</td>\n",
       "      <td>1.90</td>\n",
       "    </tr>\n",
       "    <tr>\n",
       "      <th>4</th>\n",
       "      <td>82090</td>\n",
       "      <td>1119</td>\n",
       "      <td>-74.011323</td>\n",
       "      <td>40.704394</td>\n",
       "      <td>0.87</td>\n",
       "      <td>34 S WILLIAM ST, New York, NY</td>\n",
       "      <td>0</td>\n",
       "      <td>E0</td>\n",
       "      <td>E</td>\n",
       "      <td>0</td>\n",
       "      <td>1.87</td>\n",
       "    </tr>\n",
       "    <tr>\n",
       "      <th>5</th>\n",
       "      <td>76251</td>\n",
       "      <td>1152</td>\n",
       "      <td>-74.010875</td>\n",
       "      <td>40.701938</td>\n",
       "      <td>0.99</td>\n",
       "      <td>17 SOUTH ST, New York, NY</td>\n",
       "      <td>0</td>\n",
       "      <td>F0</td>\n",
       "      <td>F</td>\n",
       "      <td>0</td>\n",
       "      <td>1.99</td>\n",
       "    </tr>\n",
       "    <tr>\n",
       "      <th>6</th>\n",
       "      <td>160240</td>\n",
       "      <td>1158</td>\n",
       "      <td>-74.010980</td>\n",
       "      <td>40.701913</td>\n",
       "      <td>0.80</td>\n",
       "      <td>16 SOUTH ST, New York, NY</td>\n",
       "      <td>0</td>\n",
       "      <td>G0</td>\n",
       "      <td>G</td>\n",
       "      <td>0</td>\n",
       "      <td>1.80</td>\n",
       "    </tr>\n",
       "    <tr>\n",
       "      <th>7</th>\n",
       "      <td>160237</td>\n",
       "      <td>1158</td>\n",
       "      <td>-74.011102</td>\n",
       "      <td>40.701948</td>\n",
       "      <td>0.80</td>\n",
       "      <td>129 BROAD ST, New York, NY</td>\n",
       "      <td>0</td>\n",
       "      <td>G1</td>\n",
       "      <td>G</td>\n",
       "      <td>0</td>\n",
       "      <td>0.80</td>\n",
       "    </tr>\n",
       "    <tr>\n",
       "      <th>8</th>\n",
       "      <td>160240</td>\n",
       "      <td>1162</td>\n",
       "      <td>-74.010980</td>\n",
       "      <td>40.701913</td>\n",
       "      <td>0.80</td>\n",
       "      <td>16 SOUTH ST, New York, NY</td>\n",
       "      <td>0</td>\n",
       "      <td>H0</td>\n",
       "      <td>H</td>\n",
       "      <td>0</td>\n",
       "      <td>1.80</td>\n",
       "    </tr>\n",
       "    <tr>\n",
       "      <th>9</th>\n",
       "      <td>160237</td>\n",
       "      <td>1162</td>\n",
       "      <td>-74.011102</td>\n",
       "      <td>40.701948</td>\n",
       "      <td>0.80</td>\n",
       "      <td>129 BROAD ST, New York, NY</td>\n",
       "      <td>0</td>\n",
       "      <td>H1</td>\n",
       "      <td>H</td>\n",
       "      <td>0</td>\n",
       "      <td>0.80</td>\n",
       "    </tr>\n",
       "    <tr>\n",
       "      <th>10</th>\n",
       "      <td>83641</td>\n",
       "      <td>1165</td>\n",
       "      <td>-74.011289</td>\n",
       "      <td>40.702609</td>\n",
       "      <td>1.00</td>\n",
       "      <td>111 BROAD ST, New York, NY</td>\n",
       "      <td>1</td>\n",
       "      <td>I0</td>\n",
       "      <td>I</td>\n",
       "      <td>0</td>\n",
       "      <td>2.00</td>\n",
       "    </tr>\n",
       "  </tbody>\n",
       "</table>\n",
       "</div>"
      ],
      "text/plain": [
       "     CD_ID  CENSUS_ID       LONG        LAT  confidence_score  \\\n",
       "0   111096       1046 -74.010403  40.703759              1.00   \n",
       "1   173365       1072 -74.013676  40.702483              0.90   \n",
       "2     8715       1080 -74.010523  40.702785              0.80   \n",
       "3     8715       1081 -74.010523  40.702785              0.90   \n",
       "4    82090       1119 -74.011323  40.704394              0.87   \n",
       "5    76251       1152 -74.010875  40.701938              0.99   \n",
       "6   160240       1158 -74.010980  40.701913              0.80   \n",
       "7   160237       1158 -74.011102  40.701948              0.80   \n",
       "8   160240       1162 -74.010980  40.701913              0.80   \n",
       "9   160237       1162 -74.011102  40.701948              0.80   \n",
       "10   83641       1165 -74.011289  40.702609              1.00   \n",
       "\n",
       "                       MATCH_ADDR  anchor node_ID letter  key  weight  \n",
       "0       74 PEARL ST, New York, NY       1      A0      A    0    2.00  \n",
       "1        6 STATE ST, New York, NY       0      B0      B    0    1.90  \n",
       "2       40 FRONT ST, New York, NY       0      C0      C    0    1.80  \n",
       "3       40 FRONT ST, New York, NY       0      D0      D    0    1.90  \n",
       "4   34 S WILLIAM ST, New York, NY       0      E0      E    0    1.87  \n",
       "5       17 SOUTH ST, New York, NY       0      F0      F    0    1.99  \n",
       "6       16 SOUTH ST, New York, NY       0      G0      G    0    1.80  \n",
       "7      129 BROAD ST, New York, NY       0      G1      G    0    0.80  \n",
       "8       16 SOUTH ST, New York, NY       0      H0      H    0    1.80  \n",
       "9      129 BROAD ST, New York, NY       0      H1      H    0    0.80  \n",
       "10     111 BROAD ST, New York, NY       1      I0      I    0    2.00  "
      ]
     },
     "execution_count": 23,
     "metadata": {},
     "output_type": "execute_result"
    }
   ],
   "source": [
    "weighted_df = apply_weight(sub, nodes)\n",
    "weighted_df"
   ]
  },
  {
   "cell_type": "markdown",
   "metadata": {},
   "source": [
    "### Step 4: Find the matches that maximise confidence weight\n",
    "This algorithm selects the set of matches that maximises number of matches and has the highest sum of weights.\n",
    "\n",
    "A visualization of the bipartite graph (left = CD records, right = census records)"
   ]
  },
  {
   "cell_type": "code",
   "execution_count": 31,
   "metadata": {},
   "outputs": [
    {
     "data": {
      "image/png": "[encoded data removed]",
      "text/plain": [
       "<Figure size 432x288 with 1 Axes>"
      ]
     },
     "metadata": {},
     "output_type": "display_data"
    }
   ],
   "source": [
    "b = matches(weighted_df)['graph']\n",
    "nx.draw_networkx(b, pos = nx.drawing.layout.bipartite_layout(b, weighted_df['CD_ID'].tolist()), node_size = 800)"
   ]
  },
  {
   "cell_type": "code",
   "execution_count": 26,
   "metadata": {
    "scrolled": false
   },
   "outputs": [
    {
     "data": {
      "text/plain": [
       "{(1072, 173365),\n",
       " (1081, 8715),\n",
       " (1152, 76251),\n",
       " (1162, 160237),\n",
       " (82090, 1119),\n",
       " (83641, 1165),\n",
       " (111096, 1046),\n",
       " (160240, 1158)}"
      ]
     },
     "execution_count": 26,
     "metadata": {},
     "output_type": "execute_result"
    }
   ],
   "source": [
    "matches(weighted_df)['results']"
   ]
  }
 ],
 "metadata": {
  "kernelspec": {
   "display_name": "Python 3",
   "language": "python",
   "name": "python3"
  },
  "language_info": {
   "codemirror_mode": {
    "name": "ipython",
    "version": 3
   },
   "file_extension": ".py",
   "mimetype": "text/x-python",
   "name": "python",
   "nbconvert_exporter": "python",
   "pygments_lexer": "ipython3",
   "version": "3.7.3"
  }
 },
 "nbformat": 4,
 "nbformat_minor": 2
}
