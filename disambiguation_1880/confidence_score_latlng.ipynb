{
 "cells": [
  {
   "cell_type": "markdown",
   "metadata": {},
   "source": [
    "# Disambiguation 2\n",
    "\n",
    "**KEY OUTPUT**: `matches.csv`, which (1) has latlng data, (2) has confidence score including census conflicts, and (3) is sorted by census record index.\n",
    "\n",
    "Improves on confidence score generating process in `disambiguation_analysis.ipynb`  \n",
    "Summary of actions:\n",
    "- add lat lng of CD record back into matched dataset\n",
    "- add column with number of potential CD matches for each census record ('census conflicts')\n",
    "- confidence score to include age and number of **census conflicts**\n",
    "    - diff between CD and census conflicts: if one CD is matched to 2 census records, CD conflict is 2. But, for those two census records, this CD record might be the only record matched to them, hence they might both have census conflict 1.  \n",
    "    - we are looking at census records to be anchors for spatial disambiguation, where confidence = 1. Hence, confidence score should calculate census conflicts instead of CD conflicts.  \n",
    "    - no. of conflicts for CD used in disambiguation process instead.\n",
    "\n",
    "**_Note_**: This notebook is not run as the process was previously done in another notebook. However, this notebook accurately documents the steps taken for the production of `matches.csv`."
   ]
  },
  {
   "cell_type": "code",
   "execution_count": 3,
   "metadata": {},
   "outputs": [],
   "source": [
    "import pandas as pd"
   ]
  },
  {
   "cell_type": "markdown",
   "metadata": {},
   "source": [
    "## Joining lat lng"
   ]
  },
  {
   "cell_type": "code",
   "execution_count": 4,
   "metadata": {},
   "outputs": [],
   "source": [
    "match = pd.read_csv(\"../data/match_results_confidence_score.csv\")"
   ]
  },
  {
   "cell_type": "code",
   "execution_count": 5,
   "metadata": {},
   "outputs": [],
   "source": [
    "latlng = pd.read_csv(\"../data/cd_1880.csv\")\n",
    "latlng = latlng[['OBJECTID', 'LONG', 'LAT']]"
   ]
  },
  {
   "cell_type": "code",
   "execution_count": 6,
   "metadata": {},
   "outputs": [],
   "source": [
    "match = match.merge(latlng, how='left', left_on='OBJECTID', right_on='OBJECTID', validate='many_to_one')"
   ]
  },
  {
   "cell_type": "code",
   "execution_count": 7,
   "metadata": {},
   "outputs": [],
   "source": [
    "# sort by original census order\n",
    "match = match.sort_values(by = ['OBJECTID.x'])"
   ]
  },
  {
   "cell_type": "markdown",
   "metadata": {},
   "source": [
    "## RE-Constructing a confidence score\n",
    "#### Using the following weightage (abitrarily decided) in the confidence score\n",
    "1. **50%** - Jaro-Winkler distance\n",
    "2. **20%** - No. of CD matches (conflicts)\n",
    "3. **20%** - No. of census matches\n",
    "4. **5%** - Absence of occupation in the census (*)\n",
    "5. **5%** - Whether age is smaller than 12"
   ]
  },
  {
   "cell_type": "code",
   "execution_count": 8,
   "metadata": {},
   "outputs": [],
   "source": [
    "# recalculate the scores to include age and census conflicts\n",
    "match['age_score'] = match['CENSUS_AGE'].apply(lambda x: 0 if x <= 12 else 1)\n",
    "match[\"census_count\"] = match.groupby(\"OBJECTID.x\")[\"OBJECTID\"].transform('count')\n",
    "match['confidence_score'] = .5*match.jaro_winkler_aggr_score + .2*(1/match.num_matches) + \\\n",
    "                            .2*(1/match.census_count) + .05*match.census_occupation_listed + \\\n",
    "                            .05*match.age_score\n",
    "match['confidence_score'] = match['confidence_score'].round(decimals = 2)"
   ]
  },
  {
   "cell_type": "markdown",
   "metadata": {},
   "source": [
    "## Export"
   ]
  },
  {
   "cell_type": "code",
   "execution_count": 10,
   "metadata": {},
   "outputs": [],
   "source": [
    "# rename objectIDs to prevent errors\n",
    "match = match.rename(columns={'OBJECTID': 'CD_ID', 'OBJECTID.x': 'CENSUS_ID'})"
   ]
  },
  {
   "cell_type": "code",
   "execution_count": 11,
   "metadata": {},
   "outputs": [],
   "source": [
    "match['CD_ID'] = 'CD_' + match['CD_ID'].astype(str)\n",
    "match['CENSUS_ID'] = 'CENSUS_' + match['CENSUS_ID'].astype(str)"
   ]
  },
  {
   "cell_type": "code",
   "execution_count": 12,
   "metadata": {},
   "outputs": [],
   "source": [
    "match.to_csv('../data/matches.csv')"
   ]
  }
 ],
 "metadata": {
  "kernelspec": {
   "display_name": "Python 3",
   "language": "python",
   "name": "python3"
  },
  "language_info": {
   "codemirror_mode": {
    "name": "ipython",
    "version": 3
   },
   "file_extension": ".py",
   "mimetype": "text/x-python",
   "name": "python",
   "nbconvert_exporter": "python",
   "pygments_lexer": "ipython3",
   "version": "3.7.3"
  }
 },
 "nbformat": 4,
 "nbformat_minor": 2
}
