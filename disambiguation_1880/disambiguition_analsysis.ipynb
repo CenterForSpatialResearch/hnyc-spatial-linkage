{
 "cells": [
  {
   "cell_type": "code",
   "execution_count": 2,
   "metadata": {},
   "outputs": [],
   "source": [
    "import pandas as pd"
   ]
  },
  {
   "cell_type": "code",
   "execution_count": 3,
   "metadata": {},
   "outputs": [],
   "source": [
    "pd.set_option('display.max_rows', 500)"
   ]
  },
  {
   "cell_type": "code",
   "execution_count": 92,
   "metadata": {},
   "outputs": [],
   "source": [
    "results = pd.read_csv(\"cd_census_merged.csv\")"
   ]
  },
  {
   "cell_type": "code",
   "execution_count": 93,
   "metadata": {},
   "outputs": [],
   "source": [
    "results = results[['WARD_ED', 'OBJECTID', 'MATCH_ADDR', 'CD_FIRST_NAME', 'CD_LAST_NAME', 'CD_MIDDLE_NAME', \n",
    "              'CD_OCCUPATION', 'CD_FINAL_HOUSENUM', 'OBJECTID.x', 'CENSUS_NAMEFRSCLEAN', 'CENSUS_NAMELASTB', \n",
    "               'CENSUS_AGE', 'CENSUS_OCCLABELB', 'CENSUS_MATCH_ADDR', 'CENSUS_SEGMENT_ID']]"
   ]
  },
  {
   "cell_type": "code",
   "execution_count": 94,
   "metadata": {},
   "outputs": [],
   "source": [
    "results.CD_MIDDLE_NAME.fillna('NA', inplace=True)\n",
    "results.CD_OCCUPATION.fillna('NA', inplace=True)"
   ]
  },
  {
   "cell_type": "code",
   "execution_count": 95,
   "metadata": {
    "scrolled": true
   },
   "outputs": [
    {
     "data": {
      "text/html": [
       "<div>\n",
       "<style scoped>\n",
       "    .dataframe tbody tr th:only-of-type {\n",
       "        vertical-align: middle;\n",
       "    }\n",
       "\n",
       "    .dataframe tbody tr th {\n",
       "        vertical-align: top;\n",
       "    }\n",
       "\n",
       "    .dataframe thead th {\n",
       "        text-align: right;\n",
       "    }\n",
       "</style>\n",
       "<table border=\"1\" class=\"dataframe\">\n",
       "  <thead>\n",
       "    <tr style=\"text-align: right;\">\n",
       "      <th></th>\n",
       "      <th>WARD_ED</th>\n",
       "      <th>OBJECTID</th>\n",
       "      <th>MATCH_ADDR</th>\n",
       "      <th>CD_FIRST_NAME</th>\n",
       "      <th>CD_LAST_NAME</th>\n",
       "      <th>CD_MIDDLE_NAME</th>\n",
       "      <th>CD_OCCUPATION</th>\n",
       "      <th>CD_FINAL_HOUSENUM</th>\n",
       "      <th>OBJECTID.x</th>\n",
       "      <th>CENSUS_NAMEFRSCLEAN</th>\n",
       "      <th>CENSUS_NAMELASTB</th>\n",
       "      <th>CENSUS_AGE</th>\n",
       "      <th>CENSUS_OCCLABELB</th>\n",
       "      <th>CENSUS_MATCH_ADDR</th>\n",
       "      <th>CENSUS_SEGMENT_ID</th>\n",
       "    </tr>\n",
       "  </thead>\n",
       "  <tbody>\n",
       "    <tr>\n",
       "      <th>0</th>\n",
       "      <td>12_630</td>\n",
       "      <td>2092</td>\n",
       "      <td>2012 THIRD AVE, New York, NY</td>\n",
       "      <td>George</td>\n",
       "      <td>Wren</td>\n",
       "      <td>NA</td>\n",
       "      <td>pedlar li</td>\n",
       "      <td>2012</td>\n",
       "      <td>1078020</td>\n",
       "      <td>GEORGE</td>\n",
       "      <td>WREN</td>\n",
       "      <td>40</td>\n",
       "      <td>PEDDLER</td>\n",
       "      <td>2016 3RD AVE, NYC-Manhattan, NY</td>\n",
       "      <td>4823</td>\n",
       "    </tr>\n",
       "    <tr>\n",
       "      <th>1</th>\n",
       "      <td>12_630</td>\n",
       "      <td>2092</td>\n",
       "      <td>2012 THIRD AVE, New York, NY</td>\n",
       "      <td>George</td>\n",
       "      <td>Wren</td>\n",
       "      <td>NA</td>\n",
       "      <td>pedlar li</td>\n",
       "      <td>2012</td>\n",
       "      <td>1078022</td>\n",
       "      <td>GEORGE</td>\n",
       "      <td>WREN</td>\n",
       "      <td>7</td>\n",
       "      <td>*</td>\n",
       "      <td>2016 3RD AVE, NYC-Manhattan, NY</td>\n",
       "      <td>4823</td>\n",
       "    </tr>\n",
       "    <tr>\n",
       "      <th>2</th>\n",
       "      <td>12_630</td>\n",
       "      <td>2343</td>\n",
       "      <td>73 E 111 ST, New York, NY</td>\n",
       "      <td>Mary</td>\n",
       "      <td>Woolsey</td>\n",
       "      <td>A.</td>\n",
       "      <td>NA</td>\n",
       "      <td>73</td>\n",
       "      <td>1077110</td>\n",
       "      <td>MARY</td>\n",
       "      <td>WOOLSEY</td>\n",
       "      <td>52</td>\n",
       "      <td>KEEPING HOUSE</td>\n",
       "      <td>73 111TH ST E, NYC-Manhattan, NY</td>\n",
       "      <td>4921</td>\n",
       "    </tr>\n",
       "    <tr>\n",
       "      <th>3</th>\n",
       "      <td>12_630</td>\n",
       "      <td>2983</td>\n",
       "      <td>143 E 111 ST, New York, NY</td>\n",
       "      <td>Reuben</td>\n",
       "      <td>Wolff</td>\n",
       "      <td>J.</td>\n",
       "      <td>clerk</td>\n",
       "      <td>143</td>\n",
       "      <td>1077324</td>\n",
       "      <td>REUBEN</td>\n",
       "      <td>WOLFF</td>\n",
       "      <td>47</td>\n",
       "      <td>BOOKKEEPER</td>\n",
       "      <td>143 111TH ST E, NYC-Manhattan, NY</td>\n",
       "      <td>4887</td>\n",
       "    </tr>\n",
       "    <tr>\n",
       "      <th>4</th>\n",
       "      <td>12_630</td>\n",
       "      <td>3424</td>\n",
       "      <td>181 E 109 ST, New York, NY</td>\n",
       "      <td>Justin</td>\n",
       "      <td>Wohlfarth</td>\n",
       "      <td>NA</td>\n",
       "      <td>drugs</td>\n",
       "      <td>181</td>\n",
       "      <td>1076476</td>\n",
       "      <td>JUSTIN</td>\n",
       "      <td>WOHLFARTH</td>\n",
       "      <td>30</td>\n",
       "      <td>DRUGGIST</td>\n",
       "      <td>181 109TH ST E, NYC-Manhattan, NY</td>\n",
       "      <td>4795</td>\n",
       "    </tr>\n",
       "  </tbody>\n",
       "</table>\n",
       "</div>"
      ],
      "text/plain": [
       "  WARD_ED  OBJECTID                    MATCH_ADDR CD_FIRST_NAME CD_LAST_NAME  \\\n",
       "0  12_630      2092  2012 THIRD AVE, New York, NY        George         Wren   \n",
       "1  12_630      2092  2012 THIRD AVE, New York, NY        George         Wren   \n",
       "2  12_630      2343     73 E 111 ST, New York, NY          Mary      Woolsey   \n",
       "3  12_630      2983    143 E 111 ST, New York, NY        Reuben        Wolff   \n",
       "4  12_630      3424    181 E 109 ST, New York, NY        Justin    Wohlfarth   \n",
       "\n",
       "  CD_MIDDLE_NAME CD_OCCUPATION CD_FINAL_HOUSENUM  OBJECTID.x  \\\n",
       "0             NA     pedlar li              2012     1078020   \n",
       "1             NA     pedlar li              2012     1078022   \n",
       "2             A.            NA                73     1077110   \n",
       "3             J.         clerk               143     1077324   \n",
       "4             NA         drugs               181     1076476   \n",
       "\n",
       "  CENSUS_NAMEFRSCLEAN CENSUS_NAMELASTB  CENSUS_AGE CENSUS_OCCLABELB  \\\n",
       "0              GEORGE             WREN          40          PEDDLER   \n",
       "1              GEORGE             WREN           7                *   \n",
       "2                MARY          WOOLSEY          52    KEEPING HOUSE   \n",
       "3              REUBEN            WOLFF          47       BOOKKEEPER   \n",
       "4              JUSTIN        WOHLFARTH          30         DRUGGIST   \n",
       "\n",
       "                   CENSUS_MATCH_ADDR  CENSUS_SEGMENT_ID  \n",
       "0    2016 3RD AVE, NYC-Manhattan, NY               4823  \n",
       "1    2016 3RD AVE, NYC-Manhattan, NY               4823  \n",
       "2   73 111TH ST E, NYC-Manhattan, NY               4921  \n",
       "3  143 111TH ST E, NYC-Manhattan, NY               4887  \n",
       "4  181 109TH ST E, NYC-Manhattan, NY               4795  "
      ]
     },
     "execution_count": 95,
     "metadata": {},
     "output_type": "execute_result"
    }
   ],
   "source": [
    "results.head()"
   ]
  },
  {
   "cell_type": "code",
   "execution_count": 96,
   "metadata": {},
   "outputs": [],
   "source": [
    "cd_num_matches = results.groupby('OBJECTID')['OBJECTID.x'].count().reset_index()"
   ]
  },
  {
   "cell_type": "code",
   "execution_count": 97,
   "metadata": {},
   "outputs": [
    {
     "data": {
      "text/plain": [
       "138242"
      ]
     },
     "execution_count": 97,
     "metadata": {},
     "output_type": "execute_result"
    }
   ],
   "source": [
    "len(results)"
   ]
  },
  {
   "cell_type": "markdown",
   "metadata": {},
   "source": [
    "### Attach a flag to each match to indicate whether or not it's unique for the CD record"
   ]
  },
  {
   "cell_type": "code",
   "execution_count": 98,
   "metadata": {},
   "outputs": [],
   "source": [
    "single_match_objectids = cd_num_matches[cd_num_matches['OBJECTID.x'] == 1].OBJECTID"
   ]
  },
  {
   "cell_type": "code",
   "execution_count": 99,
   "metadata": {},
   "outputs": [],
   "source": [
    "single_match_object_ids = pd.DataFrame(single_match_objectids)"
   ]
  },
  {
   "cell_type": "code",
   "execution_count": 100,
   "metadata": {},
   "outputs": [
    {
     "data": {
      "text/plain": [
       "77849"
      ]
     },
     "execution_count": 100,
     "metadata": {},
     "output_type": "execute_result"
    }
   ],
   "source": [
    "len(single_match_object_ids)"
   ]
  },
  {
   "cell_type": "code",
   "execution_count": 101,
   "metadata": {},
   "outputs": [],
   "source": [
    "single_match_object_ids['unique_match'] = 'YES'"
   ]
  },
  {
   "cell_type": "code",
   "execution_count": 102,
   "metadata": {},
   "outputs": [],
   "source": [
    "results.drop('CD_MIDDLE_NAME', axis=1, inplace=True)\n",
    "results = results.merge(single_match_object_ids, on='OBJECTID', how='left').fillna(\"NO\")"
   ]
  },
  {
   "cell_type": "code",
   "execution_count": 103,
   "metadata": {},
   "outputs": [
    {
     "data": {
      "text/plain": [
       "YES    77849\n",
       "NO     60393\n",
       "Name: unique_match, dtype: int64"
      ]
     },
     "execution_count": 103,
     "metadata": {},
     "output_type": "execute_result"
    }
   ],
   "source": [
    "results.unique_match.value_counts()"
   ]
  },
  {
   "cell_type": "code",
   "execution_count": 104,
   "metadata": {},
   "outputs": [],
   "source": [
    "results.sort_values(by='OBJECTID', inplace=True)"
   ]
  },
  {
   "cell_type": "code",
   "execution_count": 105,
   "metadata": {},
   "outputs": [],
   "source": [
    "results.to_csv('cd_census_merged_with_flag.csv', index=False)"
   ]
  },
  {
   "cell_type": "code",
   "execution_count": 78,
   "metadata": {
    "scrolled": true
   },
   "outputs": [],
   "source": [
    "most_conflicts = grouped_results[grouped_results.CENSUS_IDENTIFIER > 1].sort_values(by = [\"CENSUS_IDENTIFIER\"], ascending=False)"
   ]
  },
  {
   "cell_type": "code",
   "execution_count": null,
   "metadata": {
    "scrolled": true
   },
   "outputs": [],
   "source": [
    "# results[(results.CENSUS_IDENTIFIER > 821935) & (results.CENSUS_IDENTIFIER < 823824)].sort_values(by=['CENSUS_IDENTIFIER'])\n",
    "for index, row in most_conflicts.iterrows():\n",
    "    print(results[(results.CD_IDENTIFIER == row[\"CD_IDENTIFIER\"])])"
   ]
  },
  {
   "cell_type": "code",
   "execution_count": 57,
   "metadata": {},
   "outputs": [
    {
     "data": {
      "text/html": [
       "<div>\n",
       "<style scoped>\n",
       "    .dataframe tbody tr th:only-of-type {\n",
       "        vertical-align: middle;\n",
       "    }\n",
       "\n",
       "    .dataframe tbody tr th {\n",
       "        vertical-align: top;\n",
       "    }\n",
       "\n",
       "    .dataframe thead th {\n",
       "        text-align: right;\n",
       "    }\n",
       "</style>\n",
       "<table border=\"1\" class=\"dataframe\">\n",
       "  <thead>\n",
       "    <tr style=\"text-align: right;\">\n",
       "      <th></th>\n",
       "      <th>CD_IDENTIFIER</th>\n",
       "      <th>CD_NAME</th>\n",
       "      <th>CENSUS_IDENTIFIER</th>\n",
       "      <th>CENSUS_NAME</th>\n",
       "      <th>CONFIDENCE</th>\n",
       "      <th>CD_ADDR</th>\n",
       "      <th>CENSUS_ADDR</th>\n",
       "    </tr>\n",
       "  </thead>\n",
       "  <tbody>\n",
       "    <tr>\n",
       "      <th>134336</th>\n",
       "      <td>118176</td>\n",
       "      <td>Mary Kelly</td>\n",
       "      <td>821936</td>\n",
       "      <td>MARY KELLY</td>\n",
       "      <td>HIGH</td>\n",
       "      <td>301 E 35 ST, New York, NY</td>\n",
       "      <td>322 36TH ST E, NYC-Manhattan, NY</td>\n",
       "    </tr>\n",
       "    <tr>\n",
       "      <th>134346</th>\n",
       "      <td>118176</td>\n",
       "      <td>Mary Kelly</td>\n",
       "      <td>823713</td>\n",
       "      <td>MARY KELLY</td>\n",
       "      <td>HIGH</td>\n",
       "      <td>301 E 35 ST, New York, NY</td>\n",
       "      <td>307 35TH ST E, NYC-Manhattan, NY</td>\n",
       "    </tr>\n",
       "    <tr>\n",
       "      <th>134350</th>\n",
       "      <td>118176</td>\n",
       "      <td>Mary Kelly</td>\n",
       "      <td>823823</td>\n",
       "      <td>MARY KELLY</td>\n",
       "      <td>HIGH</td>\n",
       "      <td>301 E 35 ST, New York, NY</td>\n",
       "      <td>301 35TH ST E, NYC-Manhattan, NY</td>\n",
       "    </tr>\n",
       "  </tbody>\n",
       "</table>\n",
       "</div>"
      ],
      "text/plain": [
       "        CD_IDENTIFIER     CD_NAME  CENSUS_IDENTIFIER CENSUS_NAME CONFIDENCE  \\\n",
       "134336         118176  Mary Kelly             821936  MARY KELLY       HIGH   \n",
       "134346         118176  Mary Kelly             823713  MARY KELLY       HIGH   \n",
       "134350         118176  Mary Kelly             823823  MARY KELLY       HIGH   \n",
       "\n",
       "                          CD_ADDR                       CENSUS_ADDR  \n",
       "134336  301 E 35 ST, New York, NY  322 36TH ST E, NYC-Manhattan, NY  \n",
       "134346  301 E 35 ST, New York, NY  307 35TH ST E, NYC-Manhattan, NY  \n",
       "134350  301 E 35 ST, New York, NY  301 35TH ST E, NYC-Manhattan, NY  "
      ]
     },
     "execution_count": 57,
     "metadata": {},
     "output_type": "execute_result"
    }
   ],
   "source": [
    "results[(results.CD_IDENTIFIER == 118176) & (results.CENSUS_NAME == \"MARY KELLY\") & (results.CD_NAME == \"Mary Kelly\")]"
   ]
  },
  {
   "cell_type": "code",
   "execution_count": 70,
   "metadata": {},
   "outputs": [],
   "source": [
    "del census_df"
   ]
  },
  {
   "cell_type": "code",
   "execution_count": 59,
   "metadata": {},
   "outputs": [],
   "source": [
    "cd_df = pd.read_csv(\"/Users/candide/Acads/HNYC/cd_1880_mn_v04.csv\")"
   ]
  },
  {
   "cell_type": "code",
   "execution_count": 85,
   "metadata": {},
   "outputs": [
    {
     "data": {
      "text/html": [
       "<div>\n",
       "<style scoped>\n",
       "    .dataframe tbody tr th:only-of-type {\n",
       "        vertical-align: middle;\n",
       "    }\n",
       "\n",
       "    .dataframe tbody tr th {\n",
       "        vertical-align: top;\n",
       "    }\n",
       "\n",
       "    .dataframe thead th {\n",
       "        text-align: right;\n",
       "    }\n",
       "</style>\n",
       "<table border=\"1\" class=\"dataframe\">\n",
       "  <thead>\n",
       "    <tr style=\"text-align: right;\">\n",
       "      <th></th>\n",
       "      <th>OBJECTID</th>\n",
       "      <th>MATCH_ADDR</th>\n",
       "      <th>ADDR_TYPE</th>\n",
       "      <th>ADDNUM</th>\n",
       "      <th>ADDNUMFROM</th>\n",
       "      <th>ADDNUMTO</th>\n",
       "      <th>SIDE</th>\n",
       "      <th>STPREDIR</th>\n",
       "      <th>STPRETYPE</th>\n",
       "      <th>STNAME</th>\n",
       "      <th>STTYPE</th>\n",
       "      <th>STDIR</th>\n",
       "      <th>STADDR</th>\n",
       "      <th>CITY</th>\n",
       "      <th>COUNTY</th>\n",
       "      <th>STATE</th>\n",
       "      <th>ZIP</th>\n",
       "      <th>COUNTRY</th>\n",
       "      <th>X</th>\n",
       "      <th>Y</th>\n",
       "      <th>STREETID</th>\n",
       "      <th>PCT_ALONG</th>\n",
       "      <th>CD_STREET</th>\n",
       "      <th>CD_CITY</th>\n",
       "      <th>CD_STATE</th>\n",
       "      <th>CD_FIRST_NAME</th>\n",
       "      <th>CD_LAST_NAME</th>\n",
       "      <th>CD_MIDDLE_NAME</th>\n",
       "      <th>CD_WIDOW</th>\n",
       "      <th>CD_TITLE</th>\n",
       "      <th>CD_OCCUPATION</th>\n",
       "      <th>CD_FINAL_HOUSENUM</th>\n",
       "      <th>CD_FINAL_STREET</th>\n",
       "      <th>CD_FINAL_FULLADDR</th>\n",
       "      <th>CD_NUMBER_STATUS</th>\n",
       "      <th>CD_H_STATUS</th>\n",
       "      <th>CD_CITY_1</th>\n",
       "      <th>CD_STATE_1</th>\n",
       "      <th>CD_RAW</th>\n",
       "      <th>WARD_NUM</th>\n",
       "      <th>POP_1880</th>\n",
       "      <th>CD_ED</th>\n",
       "      <th>CD_AD</th>\n",
       "      <th>LONG</th>\n",
       "      <th>LAT</th>\n",
       "      <th>CD_BLOCK_NUM</th>\n",
       "    </tr>\n",
       "  </thead>\n",
       "  <tbody>\n",
       "    <tr>\n",
       "      <th>22137</th>\n",
       "      <td>22138</td>\n",
       "      <td>11 W 46 ST, New York, NY</td>\n",
       "      <td>StreetAddress</td>\n",
       "      <td>11</td>\n",
       "      <td>1.0</td>\n",
       "      <td>79.0</td>\n",
       "      <td>R</td>\n",
       "      <td>W</td>\n",
       "      <td>NaN</td>\n",
       "      <td>46</td>\n",
       "      <td>ST</td>\n",
       "      <td>NaN</td>\n",
       "      <td>11 W 46 ST</td>\n",
       "      <td>New York</td>\n",
       "      <td>NaN</td>\n",
       "      <td>NY</td>\n",
       "      <td>NaN</td>\n",
       "      <td>USA</td>\n",
       "      <td>989939.698972</td>\n",
       "      <td>214821.527382</td>\n",
       "      <td>NaN</td>\n",
       "      <td>12.82</td>\n",
       "      <td>11 W. 46th</td>\n",
       "      <td>New York</td>\n",
       "      <td>NY</td>\n",
       "      <td>Henry</td>\n",
       "      <td>Taylor</td>\n",
       "      <td>J.</td>\n",
       "      <td>NaN</td>\n",
       "      <td>NaN</td>\n",
       "      <td>NaN</td>\n",
       "      <td>11</td>\n",
       "      <td>W. 46th</td>\n",
       "      <td>11 W. 46th</td>\n",
       "      <td>NaN</td>\n",
       "      <td>NaN</td>\n",
       "      <td>New York</td>\n",
       "      <td>NY</td>\n",
       "      <td>Taylor Henry J. h 11 W. 46th</td>\n",
       "      <td>19</td>\n",
       "      <td>1461.0</td>\n",
       "      <td>572.0</td>\n",
       "      <td>21.0</td>\n",
       "      <td>-73.979463</td>\n",
       "      <td>40.75631</td>\n",
       "      <td>3149.0</td>\n",
       "    </tr>\n",
       "  </tbody>\n",
       "</table>\n",
       "</div>"
      ],
      "text/plain": [
       "       OBJECTID                MATCH_ADDR      ADDR_TYPE  ADDNUM  ADDNUMFROM  \\\n",
       "22137     22138  11 W 46 ST, New York, NY  StreetAddress      11         1.0   \n",
       "\n",
       "       ADDNUMTO SIDE STPREDIR STPRETYPE STNAME STTYPE  STDIR      STADDR  \\\n",
       "22137      79.0    R        W       NaN     46     ST    NaN  11 W 46 ST   \n",
       "\n",
       "           CITY  COUNTY STATE  ZIP COUNTRY              X              Y  \\\n",
       "22137  New York     NaN    NY  NaN     USA  989939.698972  214821.527382   \n",
       "\n",
       "       STREETID  PCT_ALONG   CD_STREET   CD_CITY CD_STATE CD_FIRST_NAME  \\\n",
       "22137       NaN      12.82  11 W. 46th  New York       NY         Henry   \n",
       "\n",
       "      CD_LAST_NAME CD_MIDDLE_NAME  CD_WIDOW  CD_TITLE CD_OCCUPATION  \\\n",
       "22137       Taylor             J.       NaN       NaN           NaN   \n",
       "\n",
       "      CD_FINAL_HOUSENUM CD_FINAL_STREET CD_FINAL_FULLADDR CD_NUMBER_STATUS  \\\n",
       "22137                11         W. 46th        11 W. 46th              NaN   \n",
       "\n",
       "      CD_H_STATUS CD_CITY_1 CD_STATE_1                        CD_RAW  \\\n",
       "22137         NaN  New York         NY  Taylor Henry J. h 11 W. 46th   \n",
       "\n",
       "       WARD_NUM  POP_1880  CD_ED  CD_AD       LONG       LAT  CD_BLOCK_NUM  \n",
       "22137        19    1461.0  572.0   21.0 -73.979463  40.75631        3149.0  "
      ]
     },
     "execution_count": 85,
     "metadata": {},
     "output_type": "execute_result"
    }
   ],
   "source": [
    "cd_df[cd_df.OBJECTID == 22138]"
   ]
  },
  {
   "cell_type": "code",
   "execution_count": 63,
   "metadata": {},
   "outputs": [
    {
     "name": "stderr",
     "output_type": "stream",
     "text": [
      "/Users/candide/anaconda3/lib/python3.7/site-packages/IPython/core/interactiveshell.py:3057: DtypeWarning: Columns (22) have mixed types. Specify dtype option on import or set low_memory=False.\n",
      "  interactivity=interactivity, compiler=compiler, result=result)\n"
     ]
    }
   ],
   "source": [
    "census_df = pd.read_csv(\"/Users/candide/Acads/HNYC/census_1880_mn_v04.csv\")"
   ]
  },
  {
   "cell_type": "code",
   "execution_count": 69,
   "metadata": {},
   "outputs": [
    {
     "data": {
      "text/html": [
       "<div>\n",
       "<style scoped>\n",
       "    .dataframe tbody tr th:only-of-type {\n",
       "        vertical-align: middle;\n",
       "    }\n",
       "\n",
       "    .dataframe tbody tr th {\n",
       "        vertical-align: top;\n",
       "    }\n",
       "\n",
       "    .dataframe thead th {\n",
       "        text-align: right;\n",
       "    }\n",
       "</style>\n",
       "<table border=\"1\" class=\"dataframe\">\n",
       "  <thead>\n",
       "    <tr style=\"text-align: right;\">\n",
       "      <th></th>\n",
       "      <th>OBJECTID.x</th>\n",
       "      <th>CENSUS_MERGEID</th>\n",
       "      <th>CENSUS_SERIALB</th>\n",
       "      <th>CENSUS_SERIAL</th>\n",
       "      <th>CENSUS_PERNUM</th>\n",
       "      <th>CENSUS_RECIDUS</th>\n",
       "      <th>CENSUS_REEL</th>\n",
       "      <th>CENSUS_VOLUME</th>\n",
       "      <th>CENSUS_PAGENUM</th>\n",
       "      <th>CENSUS_NAMEFRSTB</th>\n",
       "      <th>CENSUS_NAMELASTB</th>\n",
       "      <th>CENSUS_RELATE</th>\n",
       "      <th>CENSUS_RELATE_STR</th>\n",
       "      <th>CENSUS_AGE</th>\n",
       "      <th>CENSUS_SEXB</th>\n",
       "      <th>CENSUS_RACENAMEB</th>\n",
       "      <th>CENSUS_RACEB</th>\n",
       "      <th>CENSUS_NPERHHB</th>\n",
       "      <th>CENSUS_OCCLABELB</th>\n",
       "      <th>CENSUS_SEIUSBN</th>\n",
       "      <th>CENSUS_MATCH_ADDR</th>\n",
       "      <th>CENSUS_HOUSE_NUMB</th>\n",
       "      <th>CENSUS_STREETB</th>\n",
       "      <th>CENSUS_TYPEB</th>\n",
       "      <th>CENSUS_SEGMENT_ID</th>\n",
       "      <th>CENSUS_BUILDING_I</th>\n",
       "      <th>CENSUS_NEIGHBOR_1</th>\n",
       "      <th>CENSUS_NEIGHBOR_2</th>\n",
       "      <th>CENSUS_SEGGROUP_I</th>\n",
       "      <th>CENSUS_EXTGROUP_I</th>\n",
       "      <th>CENSUS_CITY</th>\n",
       "      <th>CENSUS_COUNTYUS</th>\n",
       "      <th>CENSUS_X</th>\n",
       "      <th>CENSUS_Y</th>\n",
       "      <th>CENSUS_ADDRESS</th>\n",
       "      <th>CENSUS_ENUMDIST</th>\n",
       "      <th>CENSUS_CITYNAME</th>\n",
       "      <th>CENSUS_STATENAME</th>\n",
       "      <th>CENSUS_UNITTYPE</th>\n",
       "      <th>MERGE_SRC</th>\n",
       "      <th>WARD_NUM</th>\n",
       "      <th>CENSUS_AD</th>\n",
       "    </tr>\n",
       "  </thead>\n",
       "  <tbody>\n",
       "    <tr>\n",
       "      <th>823712</th>\n",
       "      <td>823713</td>\n",
       "      <td>46104884508MARYKELLY</td>\n",
       "      <td>6525656</td>\n",
       "      <td>6390586</td>\n",
       "      <td>2</td>\n",
       "      <td>01254890-1-0203-5436-$</td>\n",
       "      <td>890</td>\n",
       "      <td>1</td>\n",
       "      <td>203</td>\n",
       "      <td>MARY</td>\n",
       "      <td>KELLY</td>\n",
       "      <td>201</td>\n",
       "      <td>Spouse</td>\n",
       "      <td>45</td>\n",
       "      <td>2</td>\n",
       "      <td>white</td>\n",
       "      <td>100</td>\n",
       "      <td>8</td>\n",
       "      <td>KEEPING HOUSE</td>\n",
       "      <td>0</td>\n",
       "      <td>307 35TH ST E, NYC-Manhattan, NY</td>\n",
       "      <td>0</td>\n",
       "      <td>307</td>\n",
       "      <td>35t</td>\n",
       "      <td>2692</td>\n",
       "      <td>2692</td>\n",
       "      <td>18993</td>\n",
       "      <td>18995</td>\n",
       "      <td>18991</td>\n",
       "      <td>709</td>\n",
       "      <td>4610</td>\n",
       "      <td>610</td>\n",
       "      <td>-73.974222</td>\n",
       "      <td>40.74524</td>\n",
       "      <td>307 35TH ST E</td>\n",
       "      <td>488</td>\n",
       "      <td>NYC-Manhattan</td>\n",
       "      <td>NY</td>\n",
       "      <td>multi unit</td>\n",
       "      <td>NYC-ManhattanCE2a</td>\n",
       "      <td>21.0</td>\n",
       "      <td>18.0</td>\n",
       "    </tr>\n",
       "  </tbody>\n",
       "</table>\n",
       "</div>"
      ],
      "text/plain": [
       "        OBJECTID.x        CENSUS_MERGEID  CENSUS_SERIALB  CENSUS_SERIAL  \\\n",
       "823712      823713  46104884508MARYKELLY         6525656        6390586   \n",
       "\n",
       "        CENSUS_PERNUM          CENSUS_RECIDUS  CENSUS_REEL  CENSUS_VOLUME  \\\n",
       "823712              2  01254890-1-0203-5436-$          890              1   \n",
       "\n",
       "        CENSUS_PAGENUM CENSUS_NAMEFRSTB CENSUS_NAMELASTB  CENSUS_RELATE  \\\n",
       "823712             203             MARY            KELLY            201   \n",
       "\n",
       "       CENSUS_RELATE_STR  CENSUS_AGE  CENSUS_SEXB CENSUS_RACENAMEB  \\\n",
       "823712            Spouse          45            2            white   \n",
       "\n",
       "        CENSUS_RACEB  CENSUS_NPERHHB CENSUS_OCCLABELB  CENSUS_SEIUSBN  \\\n",
       "823712           100               8    KEEPING HOUSE               0   \n",
       "\n",
       "                       CENSUS_MATCH_ADDR  CENSUS_HOUSE_NUMB CENSUS_STREETB  \\\n",
       "823712  307 35TH ST E, NYC-Manhattan, NY                  0            307   \n",
       "\n",
       "       CENSUS_TYPEB  CENSUS_SEGMENT_ID  CENSUS_BUILDING_I  CENSUS_NEIGHBOR_1  \\\n",
       "823712          35t               2692               2692              18993   \n",
       "\n",
       "        CENSUS_NEIGHBOR_2  CENSUS_SEGGROUP_I  CENSUS_EXTGROUP_I  CENSUS_CITY  \\\n",
       "823712              18995              18991                709         4610   \n",
       "\n",
       "        CENSUS_COUNTYUS   CENSUS_X  CENSUS_Y CENSUS_ADDRESS  CENSUS_ENUMDIST  \\\n",
       "823712              610 -73.974222  40.74524  307 35TH ST E              488   \n",
       "\n",
       "       CENSUS_CITYNAME CENSUS_STATENAME CENSUS_UNITTYPE          MERGE_SRC  \\\n",
       "823712   NYC-Manhattan               NY      multi unit  NYC-ManhattanCE2a   \n",
       "\n",
       "        WARD_NUM  CENSUS_AD  \n",
       "823712      21.0       18.0  "
      ]
     },
     "execution_count": 69,
     "metadata": {},
     "output_type": "execute_result"
    }
   ],
   "source": [
    "census_df[census_df[\"OBJECTID.x\"] == 823713]"
   ]
  },
  {
   "cell_type": "code",
   "execution_count": 66,
   "metadata": {},
   "outputs": [],
   "source": [
    "pd.set_option('display.max_columns', 100)"
   ]
  },
  {
   "cell_type": "code",
   "execution_count": 4,
   "metadata": {},
   "outputs": [],
   "source": [
    "df_results = pd.read_csv(\"/Users/candide/Acads/HNYC/cd_census_merged_with_flag.csv\")"
   ]
  },
  {
   "cell_type": "markdown",
   "metadata": {},
   "source": [
    "### Get summary numbers on how many matches from CENSUS are unlikely to in CD becuase of their age\n",
    "##### (the query was modified a few times and run to get the summary numbers presented in the README on Gtihub)"
   ]
  },
  {
   "cell_type": "code",
   "execution_count": 18,
   "metadata": {},
   "outputs": [
    {
     "data": {
      "text/plain": [
       "15612"
      ]
     },
     "execution_count": 18,
     "metadata": {},
     "output_type": "execute_result"
    }
   ],
   "source": [
    "len(df_results[(df_results.CENSUS_AGE < 13) & (df_results.unique_match == 'NO')])"
   ]
  },
  {
   "cell_type": "markdown",
   "metadata": {},
   "source": [
    "### Get an idea of the missing occupations from CENSUS data, other than {blank, *}"
   ]
  },
  {
   "cell_type": "code",
   "execution_count": 5,
   "metadata": {},
   "outputs": [
    {
     "data": {
      "text/plain": [
       "array(['NO BUSINESS', 'NO OCCUPATION', 'NONE', 'NOTIONS PEDDLER',\n",
       "       'NO TRADE', 'NOTARY PUBLIC', 'NOT IN BUSINESS', 'NONE TRADE', 'NO',\n",
       "       'NOVELTY BUSINESS', 'NOTIONS, RETAIL', 'NOTE BROKER',\n",
       "       'NOT EMPLOYED', 'NOTIONS DEALER', 'NO WORK', 'NOTHING',\n",
       "       'NOVELTY MANUFACTURER', 'NOTIONS STORE', 'NOVELTY DEALER',\n",
       "       'NO EMPLOYMENT', 'NOT LIVING HOME', 'NO REGULAR OCCUPATION',\n",
       "       'NOTIONS MERCHANT', 'NOTARY & REAL ESTATE BROKER',\n",
       "       'NOT ANY BUSINESS', 'NOTIONS', 'NOTION GOODS', 'NOTARY',\n",
       "       'NOT ENGAGED', 'NO BUSINESS, AT HOME', 'NOTARY AGENT',\n",
       "       'NONE, KEEPING HOUSE', 'NOT AT HOME', 'NOTIONS STORE, WHOLESALE'],\n",
       "      dtype=object)"
      ]
     },
     "execution_count": 5,
     "metadata": {},
     "output_type": "execute_result"
    }
   ],
   "source": [
    "df_results[df_results['CENSUS_OCCLABELB'].notnull() & \n",
    "           df_results['CENSUS_OCCLABELB'].str.match('no.*', case=False)]['CENSUS_OCCLABELB'].unique()"
   ]
  },
  {
   "cell_type": "markdown",
   "metadata": {},
   "source": [
    "A few more queries like the one in the cell immediately above bring up still more strings which indicate an absence of profession and should be taken into consideration when disambiguating between conflicts:\n",
    "\n",
    "'NO BUSINESS'--'NO OCCUPATION'--'NONE'--'NO TRADE'--'NOT IN BUSINESS'--'NONE TRADE'--'NO'--'NOT EMPLOYED'--'NO WORK' --'NOTHING'--'NO EMPLOYMENT'--'NOT LIVING HOME'--'NO REGULAR OCCUPATION'--'NOT ANY BUSINESS'--'NOT ENGAGED'--'NO BUSINESS, AT HOME'--'NONE, KEEPING HOUSE'--'NOT AT HOME''AT SCHOOL'--'GOES TO SCHOOL'--'SCHOOL'--'ATTENDS SCHOOL'--'SCHOOL BOY'--'SCHOLAR, AT SCHOOL'--'PRIVATE SCHOOL'--'IN SCHOOL'--'SCHOOL GIRL'\n",
    "\n",
    "There's no guarantee that this list is exhaustive and there may definitely be more strings for absent occupations."
   ]
  },
  {
   "cell_type": "markdown",
   "metadata": {},
   "source": [
    "## Constructing a confidence score\n",
    "#### We will have the following components in the confidence score\n",
    "1. Jaro-Winkler distance\n",
    "2. No. of matches (conflicts)\n",
    "3. Absence of occupation in the census (*)"
   ]
  },
  {
   "cell_type": "code",
   "execution_count": 1,
   "metadata": {},
   "outputs": [],
   "source": [
    "from pyjarowinkler import distance"
   ]
  },
  {
   "cell_type": "code",
   "execution_count": 6,
   "metadata": {},
   "outputs": [],
   "source": [
    "df_results[\"jaro_distance_firstname\"] = df_results.apply(lambda x: distance.get_jaro_distance(x[\"CD_FIRST_NAME\"],\n",
    "                                        x[\"CENSUS_NAMEFRSCLEAN\"], winkler=True, scaling=0.1), axis = 1)"
   ]
  },
  {
   "cell_type": "code",
   "execution_count": 7,
   "metadata": {},
   "outputs": [],
   "source": [
    "df_results[\"jaro_distance_lastname\"] = df_results.apply(lambda x: distance.get_jaro_distance(x[\"CD_LAST_NAME\"],\n",
    "                                        x[\"CENSUS_NAMELASTB\"], winkler=True, scaling=0.1), axis = 1)"
   ]
  },
  {
   "cell_type": "code",
   "execution_count": 8,
   "metadata": {},
   "outputs": [],
   "source": [
    "# Let's get counts of the potential matches for each cd record in the results\n",
    "counts = df_results.groupby(\"OBJECTID\")[\"OBJECTID.x\"].count().reset_index().rename(columns = \n",
    "                                                                                   {'OBJECTID.x':'num_matches'})"
   ]
  },
  {
   "cell_type": "code",
   "execution_count": 9,
   "metadata": {},
   "outputs": [],
   "source": [
    "df_results_ext = df_results.merge(counts, on='OBJECTID', how='inner')"
   ]
  },
  {
   "cell_type": "code",
   "execution_count": 10,
   "metadata": {},
   "outputs": [],
   "source": [
    "# Only checking isnull() or == '*' because any other entry would mean that the occupation was not left blank,\n",
    "# as Dan had suggested\n",
    "df_results_ext['census_occupation_listed'] = df_results_ext.CENSUS_OCCLABELB.apply(lambda x: 0 \n",
    "                                                    if (not x) or (x == '*') else 1)"
   ]
  },
  {
   "cell_type": "code",
   "execution_count": 11,
   "metadata": {},
   "outputs": [],
   "source": [
    "df_results_ext['jaro_winkler_aggr_score'] = .4*df_results_ext['jaro_distance_firstname'] + \\\n",
    "                                                .6*df_results_ext['jaro_distance_lastname']"
   ]
  },
  {
   "cell_type": "code",
   "execution_count": 12,
   "metadata": {},
   "outputs": [
    {
     "data": {
      "text/html": [
       "<div>\n",
       "<style scoped>\n",
       "    .dataframe tbody tr th:only-of-type {\n",
       "        vertical-align: middle;\n",
       "    }\n",
       "\n",
       "    .dataframe tbody tr th {\n",
       "        vertical-align: top;\n",
       "    }\n",
       "\n",
       "    .dataframe thead th {\n",
       "        text-align: right;\n",
       "    }\n",
       "</style>\n",
       "<table border=\"1\" class=\"dataframe\">\n",
       "  <thead>\n",
       "    <tr style=\"text-align: right;\">\n",
       "      <th></th>\n",
       "      <th>WARD_ED</th>\n",
       "      <th>OBJECTID</th>\n",
       "      <th>MATCH_ADDR</th>\n",
       "      <th>CD_FIRST_NAME</th>\n",
       "      <th>CD_LAST_NAME</th>\n",
       "      <th>CD_OCCUPATION</th>\n",
       "      <th>CD_FINAL_HOUSENUM</th>\n",
       "      <th>OBJECTID.x</th>\n",
       "      <th>CENSUS_NAMEFRSCLEAN</th>\n",
       "      <th>CENSUS_NAMELASTB</th>\n",
       "      <th>CENSUS_AGE</th>\n",
       "      <th>CENSUS_OCCLABELB</th>\n",
       "      <th>CENSUS_MATCH_ADDR</th>\n",
       "      <th>CENSUS_SEGMENT_ID</th>\n",
       "      <th>unique_match</th>\n",
       "      <th>jaro_distance_firstname</th>\n",
       "      <th>jaro_distance_lastname</th>\n",
       "      <th>num_matches</th>\n",
       "      <th>census_occupation_listed</th>\n",
       "      <th>jaro_winkler_aggr_score</th>\n",
       "    </tr>\n",
       "  </thead>\n",
       "  <tbody>\n",
       "    <tr>\n",
       "      <th>0</th>\n",
       "      <td>22_513</td>\n",
       "      <td>3</td>\n",
       "      <td>504 W 55 ST, New York, NY</td>\n",
       "      <td>Stephen</td>\n",
       "      <td>Zoller</td>\n",
       "      <td>molder</td>\n",
       "      <td>504</td>\n",
       "      <td>862548</td>\n",
       "      <td>STEPHEN</td>\n",
       "      <td>ZELLER</td>\n",
       "      <td>40</td>\n",
       "      <td>IRON MOULDER</td>\n",
       "      <td>504 55TH ST W, NYC-Manhattan, NY</td>\n",
       "      <td>3789</td>\n",
       "      <td>YES</td>\n",
       "      <td>1.0</td>\n",
       "      <td>0.84</td>\n",
       "      <td>1</td>\n",
       "      <td>1</td>\n",
       "      <td>0.904</td>\n",
       "    </tr>\n",
       "    <tr>\n",
       "      <th>1</th>\n",
       "      <td>22_469</td>\n",
       "      <td>4</td>\n",
       "      <td>210 W 46 ST, New York, NY</td>\n",
       "      <td>Oscar</td>\n",
       "      <td>Zollikoffer</td>\n",
       "      <td>pres</td>\n",
       "      <td>210</td>\n",
       "      <td>795510</td>\n",
       "      <td>OSCAR</td>\n",
       "      <td>ZOLLIKOFFER</td>\n",
       "      <td>70</td>\n",
       "      <td>PRESIDENT, METROPOLITAN GAS CO.</td>\n",
       "      <td>210 46TH ST W, NYC-Manhattan, NY</td>\n",
       "      <td>3357</td>\n",
       "      <td>YES</td>\n",
       "      <td>1.0</td>\n",
       "      <td>1.00</td>\n",
       "      <td>1</td>\n",
       "      <td>1</td>\n",
       "      <td>1.000</td>\n",
       "    </tr>\n",
       "    <tr>\n",
       "      <th>2</th>\n",
       "      <td>19_582</td>\n",
       "      <td>6</td>\n",
       "      <td>65 W 54 ST, New York, NY</td>\n",
       "      <td>Oscar</td>\n",
       "      <td>Zollikoffer</td>\n",
       "      <td>sec</td>\n",
       "      <td>65</td>\n",
       "      <td>978306</td>\n",
       "      <td>OSCAR</td>\n",
       "      <td>ZOLLIKOFFER</td>\n",
       "      <td>33</td>\n",
       "      <td>SECRETARY, MET. GAS LIGHT CO.</td>\n",
       "      <td>65 54TH ST W, NYC-Manhattan, NY</td>\n",
       "      <td>3488</td>\n",
       "      <td>YES</td>\n",
       "      <td>1.0</td>\n",
       "      <td>1.00</td>\n",
       "      <td>1</td>\n",
       "      <td>1</td>\n",
       "      <td>1.000</td>\n",
       "    </tr>\n",
       "    <tr>\n",
       "      <th>3</th>\n",
       "      <td>4_36</td>\n",
       "      <td>8</td>\n",
       "      <td>5 N William St, New York, NY</td>\n",
       "      <td>Robert</td>\n",
       "      <td>Zoller</td>\n",
       "      <td>birds</td>\n",
       "      <td>5</td>\n",
       "      <td>56054</td>\n",
       "      <td>ROBERT</td>\n",
       "      <td>ZALLER</td>\n",
       "      <td>31</td>\n",
       "      <td>BIRD IMPORTER</td>\n",
       "      <td>5 WILLIAM ST N, NYC-Manhattan, NY</td>\n",
       "      <td>531</td>\n",
       "      <td>YES</td>\n",
       "      <td>1.0</td>\n",
       "      <td>0.90</td>\n",
       "      <td>1</td>\n",
       "      <td>1</td>\n",
       "      <td>0.940</td>\n",
       "    </tr>\n",
       "    <tr>\n",
       "      <th>4</th>\n",
       "      <td>11_305</td>\n",
       "      <td>13</td>\n",
       "      <td>344 E HOUSTON ST, New York, NY</td>\n",
       "      <td>Leopold</td>\n",
       "      <td>Zollmann</td>\n",
       "      <td>shoes</td>\n",
       "      <td>344</td>\n",
       "      <td>522583</td>\n",
       "      <td>LEOPOLD</td>\n",
       "      <td>ZOLLMANN</td>\n",
       "      <td>30</td>\n",
       "      <td>SHOE MAKER</td>\n",
       "      <td>342 HOUSTON ST E, NYC-Manhattan, NY</td>\n",
       "      <td>1283</td>\n",
       "      <td>YES</td>\n",
       "      <td>1.0</td>\n",
       "      <td>1.00</td>\n",
       "      <td>1</td>\n",
       "      <td>1</td>\n",
       "      <td>1.000</td>\n",
       "    </tr>\n",
       "  </tbody>\n",
       "</table>\n",
       "</div>"
      ],
      "text/plain": [
       "  WARD_ED  OBJECTID                      MATCH_ADDR CD_FIRST_NAME  \\\n",
       "0  22_513         3       504 W 55 ST, New York, NY       Stephen   \n",
       "1  22_469         4       210 W 46 ST, New York, NY         Oscar   \n",
       "2  19_582         6        65 W 54 ST, New York, NY         Oscar   \n",
       "3    4_36         8    5 N William St, New York, NY        Robert   \n",
       "4  11_305        13  344 E HOUSTON ST, New York, NY       Leopold   \n",
       "\n",
       "  CD_LAST_NAME CD_OCCUPATION CD_FINAL_HOUSENUM  OBJECTID.x  \\\n",
       "0       Zoller        molder               504      862548   \n",
       "1  Zollikoffer          pres               210      795510   \n",
       "2  Zollikoffer           sec                65      978306   \n",
       "3       Zoller         birds                 5       56054   \n",
       "4     Zollmann         shoes               344      522583   \n",
       "\n",
       "  CENSUS_NAMEFRSCLEAN CENSUS_NAMELASTB  CENSUS_AGE  \\\n",
       "0             STEPHEN           ZELLER          40   \n",
       "1               OSCAR      ZOLLIKOFFER          70   \n",
       "2               OSCAR      ZOLLIKOFFER          33   \n",
       "3              ROBERT           ZALLER          31   \n",
       "4             LEOPOLD         ZOLLMANN          30   \n",
       "\n",
       "                  CENSUS_OCCLABELB                    CENSUS_MATCH_ADDR  \\\n",
       "0                     IRON MOULDER     504 55TH ST W, NYC-Manhattan, NY   \n",
       "1  PRESIDENT, METROPOLITAN GAS CO.     210 46TH ST W, NYC-Manhattan, NY   \n",
       "2    SECRETARY, MET. GAS LIGHT CO.      65 54TH ST W, NYC-Manhattan, NY   \n",
       "3                    BIRD IMPORTER    5 WILLIAM ST N, NYC-Manhattan, NY   \n",
       "4                       SHOE MAKER  342 HOUSTON ST E, NYC-Manhattan, NY   \n",
       "\n",
       "   CENSUS_SEGMENT_ID unique_match  jaro_distance_firstname  \\\n",
       "0               3789          YES                      1.0   \n",
       "1               3357          YES                      1.0   \n",
       "2               3488          YES                      1.0   \n",
       "3                531          YES                      1.0   \n",
       "4               1283          YES                      1.0   \n",
       "\n",
       "   jaro_distance_lastname  num_matches  census_occupation_listed  \\\n",
       "0                    0.84            1                         1   \n",
       "1                    1.00            1                         1   \n",
       "2                    1.00            1                         1   \n",
       "3                    0.90            1                         1   \n",
       "4                    1.00            1                         1   \n",
       "\n",
       "   jaro_winkler_aggr_score  \n",
       "0                    0.904  \n",
       "1                    1.000  \n",
       "2                    1.000  \n",
       "3                    0.940  \n",
       "4                    1.000  "
      ]
     },
     "execution_count": 12,
     "metadata": {},
     "output_type": "execute_result"
    }
   ],
   "source": [
    "df_results_ext.head()"
   ]
  },
  {
   "cell_type": "markdown",
   "metadata": {},
   "source": [
    "## Constructing a confidence score\n",
    "#### Using the following weightage for the 3 components in the confidence score\n",
    "1. **50%** - Jaro-Winkler distance\n",
    "2. **35%** - No. of matches (conflicts)\n",
    "3. **15%** - Absence of occupation in the census (*)"
   ]
  },
  {
   "cell_type": "code",
   "execution_count": 14,
   "metadata": {},
   "outputs": [],
   "source": [
    "df_results_ext['confidence_score'] = .5*df_results_ext.jaro_winkler_aggr_score + .35*(1/df_results_ext.num_matches) +\\\n",
    "                                        + .15*df_results_ext.census_occupation_listed"
   ]
  },
  {
   "cell_type": "code",
   "execution_count": 15,
   "metadata": {},
   "outputs": [],
   "source": [
    "df_results_ext['confidence_score'] = df_results_ext.confidence_score.round(decimals=2)"
   ]
  },
  {
   "cell_type": "code",
   "execution_count": 16,
   "metadata": {},
   "outputs": [],
   "source": [
    "# df_results_ext[['OBJECTID', 'CD_FIRST_NAME', 'CD_LAST_NAME', 'MATCH_ADDR', 'CD_OCCUPATION', 'num_matches', 'OBJECTID.x', 'CENSUS_NAMEFRSCLEAN', 'CENSUS_NAMELASTB',\n",
    "#                 'CENSUS_MATCH_ADDR', 'CENSUS_AGE', 'CENSUS_OCCLABELB', 'census_occupation_listed', 'jaro_winkler_aggr_score', \n",
    "#                 'confidence_score']].to_csv(\"match_results_confidence_score.csv\", index=False)"
   ]
  },
  {
   "cell_type": "code",
   "execution_count": 17,
   "metadata": {},
   "outputs": [
    {
     "data": {
      "text/html": [
       "<div>\n",
       "<style scoped>\n",
       "    .dataframe tbody tr th:only-of-type {\n",
       "        vertical-align: middle;\n",
       "    }\n",
       "\n",
       "    .dataframe tbody tr th {\n",
       "        vertical-align: top;\n",
       "    }\n",
       "\n",
       "    .dataframe thead th {\n",
       "        text-align: right;\n",
       "    }\n",
       "</style>\n",
       "<table border=\"1\" class=\"dataframe\">\n",
       "  <thead>\n",
       "    <tr style=\"text-align: right;\">\n",
       "      <th></th>\n",
       "      <th>WARD_ED</th>\n",
       "      <th>OBJECTID</th>\n",
       "      <th>MATCH_ADDR</th>\n",
       "      <th>CD_FIRST_NAME</th>\n",
       "      <th>CD_LAST_NAME</th>\n",
       "      <th>CD_OCCUPATION</th>\n",
       "      <th>CD_FINAL_HOUSENUM</th>\n",
       "      <th>OBJECTID.x</th>\n",
       "      <th>CENSUS_NAMEFRSCLEAN</th>\n",
       "      <th>CENSUS_NAMELASTB</th>\n",
       "      <th>...</th>\n",
       "      <th>CENSUS_OCCLABELB</th>\n",
       "      <th>CENSUS_MATCH_ADDR</th>\n",
       "      <th>CENSUS_SEGMENT_ID</th>\n",
       "      <th>unique_match</th>\n",
       "      <th>jaro_distance_firstname</th>\n",
       "      <th>jaro_distance_lastname</th>\n",
       "      <th>num_matches</th>\n",
       "      <th>census_occupation_listed</th>\n",
       "      <th>jaro_winkler_aggr_score</th>\n",
       "      <th>confidence_score</th>\n",
       "    </tr>\n",
       "  </thead>\n",
       "  <tbody>\n",
       "    <tr>\n",
       "      <th>0</th>\n",
       "      <td>22_513</td>\n",
       "      <td>3</td>\n",
       "      <td>504 W 55 ST, New York, NY</td>\n",
       "      <td>Stephen</td>\n",
       "      <td>Zoller</td>\n",
       "      <td>molder</td>\n",
       "      <td>504</td>\n",
       "      <td>862548</td>\n",
       "      <td>STEPHEN</td>\n",
       "      <td>ZELLER</td>\n",
       "      <td>...</td>\n",
       "      <td>IRON MOULDER</td>\n",
       "      <td>504 55TH ST W, NYC-Manhattan, NY</td>\n",
       "      <td>3789</td>\n",
       "      <td>YES</td>\n",
       "      <td>1.0</td>\n",
       "      <td>0.84</td>\n",
       "      <td>1</td>\n",
       "      <td>1</td>\n",
       "      <td>0.904</td>\n",
       "      <td>0.95</td>\n",
       "    </tr>\n",
       "    <tr>\n",
       "      <th>1</th>\n",
       "      <td>22_469</td>\n",
       "      <td>4</td>\n",
       "      <td>210 W 46 ST, New York, NY</td>\n",
       "      <td>Oscar</td>\n",
       "      <td>Zollikoffer</td>\n",
       "      <td>pres</td>\n",
       "      <td>210</td>\n",
       "      <td>795510</td>\n",
       "      <td>OSCAR</td>\n",
       "      <td>ZOLLIKOFFER</td>\n",
       "      <td>...</td>\n",
       "      <td>PRESIDENT, METROPOLITAN GAS CO.</td>\n",
       "      <td>210 46TH ST W, NYC-Manhattan, NY</td>\n",
       "      <td>3357</td>\n",
       "      <td>YES</td>\n",
       "      <td>1.0</td>\n",
       "      <td>1.00</td>\n",
       "      <td>1</td>\n",
       "      <td>1</td>\n",
       "      <td>1.000</td>\n",
       "      <td>1.00</td>\n",
       "    </tr>\n",
       "    <tr>\n",
       "      <th>2</th>\n",
       "      <td>19_582</td>\n",
       "      <td>6</td>\n",
       "      <td>65 W 54 ST, New York, NY</td>\n",
       "      <td>Oscar</td>\n",
       "      <td>Zollikoffer</td>\n",
       "      <td>sec</td>\n",
       "      <td>65</td>\n",
       "      <td>978306</td>\n",
       "      <td>OSCAR</td>\n",
       "      <td>ZOLLIKOFFER</td>\n",
       "      <td>...</td>\n",
       "      <td>SECRETARY, MET. GAS LIGHT CO.</td>\n",
       "      <td>65 54TH ST W, NYC-Manhattan, NY</td>\n",
       "      <td>3488</td>\n",
       "      <td>YES</td>\n",
       "      <td>1.0</td>\n",
       "      <td>1.00</td>\n",
       "      <td>1</td>\n",
       "      <td>1</td>\n",
       "      <td>1.000</td>\n",
       "      <td>1.00</td>\n",
       "    </tr>\n",
       "    <tr>\n",
       "      <th>3</th>\n",
       "      <td>4_36</td>\n",
       "      <td>8</td>\n",
       "      <td>5 N William St, New York, NY</td>\n",
       "      <td>Robert</td>\n",
       "      <td>Zoller</td>\n",
       "      <td>birds</td>\n",
       "      <td>5</td>\n",
       "      <td>56054</td>\n",
       "      <td>ROBERT</td>\n",
       "      <td>ZALLER</td>\n",
       "      <td>...</td>\n",
       "      <td>BIRD IMPORTER</td>\n",
       "      <td>5 WILLIAM ST N, NYC-Manhattan, NY</td>\n",
       "      <td>531</td>\n",
       "      <td>YES</td>\n",
       "      <td>1.0</td>\n",
       "      <td>0.90</td>\n",
       "      <td>1</td>\n",
       "      <td>1</td>\n",
       "      <td>0.940</td>\n",
       "      <td>0.97</td>\n",
       "    </tr>\n",
       "    <tr>\n",
       "      <th>4</th>\n",
       "      <td>11_305</td>\n",
       "      <td>13</td>\n",
       "      <td>344 E HOUSTON ST, New York, NY</td>\n",
       "      <td>Leopold</td>\n",
       "      <td>Zollmann</td>\n",
       "      <td>shoes</td>\n",
       "      <td>344</td>\n",
       "      <td>522583</td>\n",
       "      <td>LEOPOLD</td>\n",
       "      <td>ZOLLMANN</td>\n",
       "      <td>...</td>\n",
       "      <td>SHOE MAKER</td>\n",
       "      <td>342 HOUSTON ST E, NYC-Manhattan, NY</td>\n",
       "      <td>1283</td>\n",
       "      <td>YES</td>\n",
       "      <td>1.0</td>\n",
       "      <td>1.00</td>\n",
       "      <td>1</td>\n",
       "      <td>1</td>\n",
       "      <td>1.000</td>\n",
       "      <td>1.00</td>\n",
       "    </tr>\n",
       "  </tbody>\n",
       "</table>\n",
       "<p>5 rows × 21 columns</p>\n",
       "</div>"
      ],
      "text/plain": [
       "  WARD_ED  OBJECTID                      MATCH_ADDR CD_FIRST_NAME  \\\n",
       "0  22_513         3       504 W 55 ST, New York, NY       Stephen   \n",
       "1  22_469         4       210 W 46 ST, New York, NY         Oscar   \n",
       "2  19_582         6        65 W 54 ST, New York, NY         Oscar   \n",
       "3    4_36         8    5 N William St, New York, NY        Robert   \n",
       "4  11_305        13  344 E HOUSTON ST, New York, NY       Leopold   \n",
       "\n",
       "  CD_LAST_NAME CD_OCCUPATION CD_FINAL_HOUSENUM  OBJECTID.x  \\\n",
       "0       Zoller        molder               504      862548   \n",
       "1  Zollikoffer          pres               210      795510   \n",
       "2  Zollikoffer           sec                65      978306   \n",
       "3       Zoller         birds                 5       56054   \n",
       "4     Zollmann         shoes               344      522583   \n",
       "\n",
       "  CENSUS_NAMEFRSCLEAN CENSUS_NAMELASTB  ...                 CENSUS_OCCLABELB  \\\n",
       "0             STEPHEN           ZELLER  ...                     IRON MOULDER   \n",
       "1               OSCAR      ZOLLIKOFFER  ...  PRESIDENT, METROPOLITAN GAS CO.   \n",
       "2               OSCAR      ZOLLIKOFFER  ...    SECRETARY, MET. GAS LIGHT CO.   \n",
       "3              ROBERT           ZALLER  ...                    BIRD IMPORTER   \n",
       "4             LEOPOLD         ZOLLMANN  ...                       SHOE MAKER   \n",
       "\n",
       "                     CENSUS_MATCH_ADDR CENSUS_SEGMENT_ID  unique_match  \\\n",
       "0     504 55TH ST W, NYC-Manhattan, NY              3789           YES   \n",
       "1     210 46TH ST W, NYC-Manhattan, NY              3357           YES   \n",
       "2      65 54TH ST W, NYC-Manhattan, NY              3488           YES   \n",
       "3    5 WILLIAM ST N, NYC-Manhattan, NY               531           YES   \n",
       "4  342 HOUSTON ST E, NYC-Manhattan, NY              1283           YES   \n",
       "\n",
       "  jaro_distance_firstname  jaro_distance_lastname  num_matches  \\\n",
       "0                     1.0                    0.84            1   \n",
       "1                     1.0                    1.00            1   \n",
       "2                     1.0                    1.00            1   \n",
       "3                     1.0                    0.90            1   \n",
       "4                     1.0                    1.00            1   \n",
       "\n",
       "   census_occupation_listed  jaro_winkler_aggr_score  confidence_score  \n",
       "0                         1                    0.904              0.95  \n",
       "1                         1                    1.000              1.00  \n",
       "2                         1                    1.000              1.00  \n",
       "3                         1                    0.940              0.97  \n",
       "4                         1                    1.000              1.00  \n",
       "\n",
       "[5 rows x 21 columns]"
      ]
     },
     "execution_count": 17,
     "metadata": {},
     "output_type": "execute_result"
    }
   ],
   "source": [
    "df_results_ext.head()"
   ]
  },
  {
   "cell_type": "markdown",
   "metadata": {},
   "source": [
    "**UPDATE (02/02/2020)** - The final results file with confidence scores - `match_results_confidence_score.csv`, was missing the following relevant fieds, as Dan pointed out:\n",
    "\n",
    "- WARD\n",
    "- ED\n",
    "- SEGMENT_ID\n",
    "- BLOCK_ID\n",
    "\n",
    "Will read the original census and cd data files to fetch these fields and update the file `match_results_confidence_score.csv`.\n",
    "WARD, ED, and SEGMENT_ID are present in `census_1880_mn_v04.csv` and BLOCK_ID is present in `cd_1880_mn_v04.csv`"
   ]
  },
  {
   "cell_type": "code",
   "execution_count": 4,
   "metadata": {},
   "outputs": [],
   "source": [
    "df_results_ext = pd.read_csv(\"match_results_confidence_score.csv\")"
   ]
  },
  {
   "cell_type": "code",
   "execution_count": 13,
   "metadata": {},
   "outputs": [],
   "source": [
    "# SET THE FILE PATH CORRECTLY BEFORE RUNNING THIS CELL\n",
    "\n",
    "# reading the original data file, can be found in the shared Google drive folder,\n",
    "# didn't upload it in this Github repo due to large size of the file\n",
    "\n",
    "census_df = pd.read_csv(\"census_1880_mn_v04.csv\")"
   ]
  },
  {
   "cell_type": "code",
   "execution_count": 11,
   "metadata": {},
   "outputs": [
    {
     "data": {
      "text/plain": [
       "array(['OBJECTID.x', 'CENSUS_MERGEID', 'CENSUS_SERIALB', 'CENSUS_SERIAL',\n",
       "       'CENSUS_PERNUM', 'CENSUS_RECIDUS', 'CENSUS_REEL', 'CENSUS_VOLUME',\n",
       "       'CENSUS_PAGENUM', 'CENSUS_NAMEFRSTB', 'CENSUS_NAMELASTB',\n",
       "       'CENSUS_RELATE', 'CENSUS_RELATE_STR', 'CENSUS_AGE', 'CENSUS_SEXB',\n",
       "       'CENSUS_RACENAMEB', 'CENSUS_RACEB', 'CENSUS_NPERHHB',\n",
       "       'CENSUS_OCCLABELB', 'CENSUS_SEIUSBN', 'CENSUS_MATCH_ADDR',\n",
       "       'CENSUS_HOUSE_NUMB', 'CENSUS_STREETB', 'CENSUS_TYPEB',\n",
       "       'CENSUS_SEGMENT_ID', 'CENSUS_BUILDING_I', 'CENSUS_NEIGHBOR_1',\n",
       "       'CENSUS_NEIGHBOR_2', 'CENSUS_SEGGROUP_I', 'CENSUS_EXTGROUP_I',\n",
       "       'CENSUS_CITY', 'CENSUS_COUNTYUS', 'CENSUS_X', 'CENSUS_Y',\n",
       "       'CENSUS_ADDRESS', 'CENSUS_ENUMDIST', 'CENSUS_CITYNAME',\n",
       "       'CENSUS_STATENAME', 'CENSUS_UNITTYPE', 'MERGE_SRC', 'WARD_NUM',\n",
       "       'CENSUS_AD'], dtype=object)"
      ]
     },
     "execution_count": 11,
     "metadata": {},
     "output_type": "execute_result"
    }
   ],
   "source": [
    "# Recall the exact names of the fields in the original census file\n",
    "census_df.columns.values"
   ]
  },
  {
   "cell_type": "code",
   "execution_count": 14,
   "metadata": {},
   "outputs": [],
   "source": [
    "census_df = census_df[['OBJECTID.x', 'WARD_NUM', 'CENSUS_ENUMDIST', 'CENSUS_SEGMENT_ID']]"
   ]
  },
  {
   "cell_type": "code",
   "execution_count": 15,
   "metadata": {},
   "outputs": [],
   "source": [
    "df_results_ext = df_results_ext.merge(census_df, on = 'OBJECTID.x', how = 'inner')"
   ]
  },
  {
   "cell_type": "code",
   "execution_count": 16,
   "metadata": {},
   "outputs": [],
   "source": [
    "del census_df"
   ]
  },
  {
   "cell_type": "code",
   "execution_count": 17,
   "metadata": {},
   "outputs": [],
   "source": [
    "# SET THE FILE PATH CORRECTLY BEFORE RUNNING THIS CELL\n",
    "\n",
    "# reading the original data file, can be found in the shared Google drive folder,\n",
    "# didn't upload it in this Github repo due to large size of the file\n",
    "\n",
    "cd_df = pd.read_csv(\"cd_1880_mn_v04.csv\")"
   ]
  },
  {
   "cell_type": "code",
   "execution_count": 18,
   "metadata": {},
   "outputs": [
    {
     "data": {
      "text/plain": [
       "array(['OBJECTID', 'MATCH_ADDR', 'ADDR_TYPE', 'ADDNUM', 'ADDNUMFROM',\n",
       "       'ADDNUMTO', 'SIDE', 'STPREDIR', 'STPRETYPE', 'STNAME', 'STTYPE',\n",
       "       'STDIR', 'STADDR', 'CITY', 'COUNTY', 'STATE', 'ZIP', 'COUNTRY',\n",
       "       'X', 'Y', 'STREETID', 'PCT_ALONG', 'CD_STREET', 'CD_CITY',\n",
       "       'CD_STATE', 'CD_FIRST_NAME', 'CD_LAST_NAME', 'CD_MIDDLE_NAME',\n",
       "       'CD_WIDOW', 'CD_TITLE', 'CD_OCCUPATION', 'CD_FINAL_HOUSENUM',\n",
       "       'CD_FINAL_STREET', 'CD_FINAL_FULLADDR', 'CD_NUMBER_STATUS',\n",
       "       'CD_H_STATUS', 'CD_CITY_1', 'CD_STATE_1', 'CD_RAW', 'WARD_NUM',\n",
       "       'POP_1880', 'CD_ED', 'CD_AD', 'LONG', 'LAT', 'CD_BLOCK_NUM'],\n",
       "      dtype=object)"
      ]
     },
     "execution_count": 18,
     "metadata": {},
     "output_type": "execute_result"
    }
   ],
   "source": [
    "# Recall the exact names of the fields in the original cd file. Only require BLOCK ID for our purpose\n",
    "cd_df.columns.values"
   ]
  },
  {
   "cell_type": "code",
   "execution_count": 19,
   "metadata": {},
   "outputs": [],
   "source": [
    "df_results_ext = df_results_ext.merge(cd_df[['OBJECTID', 'CD_BLOCK_NUM']], on = 'OBJECTID', how = 'inner')"
   ]
  },
  {
   "cell_type": "code",
   "execution_count": 20,
   "metadata": {},
   "outputs": [
    {
     "data": {
      "text/html": [
       "<div>\n",
       "<style scoped>\n",
       "    .dataframe tbody tr th:only-of-type {\n",
       "        vertical-align: middle;\n",
       "    }\n",
       "\n",
       "    .dataframe tbody tr th {\n",
       "        vertical-align: top;\n",
       "    }\n",
       "\n",
       "    .dataframe thead th {\n",
       "        text-align: right;\n",
       "    }\n",
       "</style>\n",
       "<table border=\"1\" class=\"dataframe\">\n",
       "  <thead>\n",
       "    <tr style=\"text-align: right;\">\n",
       "      <th></th>\n",
       "      <th>OBJECTID</th>\n",
       "      <th>CD_FIRST_NAME</th>\n",
       "      <th>CD_LAST_NAME</th>\n",
       "      <th>MATCH_ADDR</th>\n",
       "      <th>CD_OCCUPATION</th>\n",
       "      <th>num_matches</th>\n",
       "      <th>OBJECTID.x</th>\n",
       "      <th>CENSUS_NAMEFRSCLEAN</th>\n",
       "      <th>CENSUS_NAMELASTB</th>\n",
       "      <th>CENSUS_MATCH_ADDR</th>\n",
       "      <th>CENSUS_AGE</th>\n",
       "      <th>CENSUS_OCCLABELB</th>\n",
       "      <th>census_occupation_listed</th>\n",
       "      <th>jaro_winkler_aggr_score</th>\n",
       "      <th>confidence_score</th>\n",
       "      <th>WARD_NUM</th>\n",
       "      <th>CENSUS_ENUMDIST</th>\n",
       "      <th>CENSUS_SEGMENT_ID</th>\n",
       "      <th>CD_BLOCK_NUM</th>\n",
       "    </tr>\n",
       "  </thead>\n",
       "  <tbody>\n",
       "    <tr>\n",
       "      <th>0</th>\n",
       "      <td>3</td>\n",
       "      <td>Stephen</td>\n",
       "      <td>Zoller</td>\n",
       "      <td>504 W 55 ST, New York, NY</td>\n",
       "      <td>molder</td>\n",
       "      <td>1</td>\n",
       "      <td>862548</td>\n",
       "      <td>STEPHEN</td>\n",
       "      <td>ZELLER</td>\n",
       "      <td>504 55TH ST W, NYC-Manhattan, NY</td>\n",
       "      <td>40</td>\n",
       "      <td>IRON MOULDER</td>\n",
       "      <td>1</td>\n",
       "      <td>0.904</td>\n",
       "      <td>0.95</td>\n",
       "      <td>22.0</td>\n",
       "      <td>513</td>\n",
       "      <td>3789</td>\n",
       "      <td>1673.0</td>\n",
       "    </tr>\n",
       "    <tr>\n",
       "      <th>1</th>\n",
       "      <td>4</td>\n",
       "      <td>Oscar</td>\n",
       "      <td>Zollikoffer</td>\n",
       "      <td>210 W 46 ST, New York, NY</td>\n",
       "      <td>pres</td>\n",
       "      <td>1</td>\n",
       "      <td>795510</td>\n",
       "      <td>OSCAR</td>\n",
       "      <td>ZOLLIKOFFER</td>\n",
       "      <td>210 46TH ST W, NYC-Manhattan, NY</td>\n",
       "      <td>70</td>\n",
       "      <td>PRESIDENT, METROPOLITAN GAS CO.</td>\n",
       "      <td>1</td>\n",
       "      <td>1.000</td>\n",
       "      <td>1.00</td>\n",
       "      <td>22.0</td>\n",
       "      <td>469</td>\n",
       "      <td>3357</td>\n",
       "      <td>447.0</td>\n",
       "    </tr>\n",
       "    <tr>\n",
       "      <th>2</th>\n",
       "      <td>6</td>\n",
       "      <td>Oscar</td>\n",
       "      <td>Zollikoffer</td>\n",
       "      <td>65 W 54 ST, New York, NY</td>\n",
       "      <td>sec</td>\n",
       "      <td>1</td>\n",
       "      <td>978306</td>\n",
       "      <td>OSCAR</td>\n",
       "      <td>ZOLLIKOFFER</td>\n",
       "      <td>65 54TH ST W, NYC-Manhattan, NY</td>\n",
       "      <td>33</td>\n",
       "      <td>SECRETARY, MET. GAS LIGHT CO.</td>\n",
       "      <td>1</td>\n",
       "      <td>1.000</td>\n",
       "      <td>1.00</td>\n",
       "      <td>19.0</td>\n",
       "      <td>582</td>\n",
       "      <td>3488</td>\n",
       "      <td>3190.0</td>\n",
       "    </tr>\n",
       "    <tr>\n",
       "      <th>3</th>\n",
       "      <td>8</td>\n",
       "      <td>Robert</td>\n",
       "      <td>Zoller</td>\n",
       "      <td>5 N William St, New York, NY</td>\n",
       "      <td>birds</td>\n",
       "      <td>1</td>\n",
       "      <td>56054</td>\n",
       "      <td>ROBERT</td>\n",
       "      <td>ZALLER</td>\n",
       "      <td>5 WILLIAM ST N, NYC-Manhattan, NY</td>\n",
       "      <td>31</td>\n",
       "      <td>BIRD IMPORTER</td>\n",
       "      <td>1</td>\n",
       "      <td>0.940</td>\n",
       "      <td>0.97</td>\n",
       "      <td>4.0</td>\n",
       "      <td>36</td>\n",
       "      <td>531</td>\n",
       "      <td>927.0</td>\n",
       "    </tr>\n",
       "    <tr>\n",
       "      <th>4</th>\n",
       "      <td>13</td>\n",
       "      <td>Leopold</td>\n",
       "      <td>Zollmann</td>\n",
       "      <td>344 E HOUSTON ST, New York, NY</td>\n",
       "      <td>shoes</td>\n",
       "      <td>1</td>\n",
       "      <td>522583</td>\n",
       "      <td>LEOPOLD</td>\n",
       "      <td>ZOLLMANN</td>\n",
       "      <td>342 HOUSTON ST E, NYC-Manhattan, NY</td>\n",
       "      <td>30</td>\n",
       "      <td>SHOE MAKER</td>\n",
       "      <td>1</td>\n",
       "      <td>1.000</td>\n",
       "      <td>1.00</td>\n",
       "      <td>11.0</td>\n",
       "      <td>305</td>\n",
       "      <td>1283</td>\n",
       "      <td>294.0</td>\n",
       "    </tr>\n",
       "  </tbody>\n",
       "</table>\n",
       "</div>"
      ],
      "text/plain": [
       "   OBJECTID CD_FIRST_NAME CD_LAST_NAME                      MATCH_ADDR  \\\n",
       "0         3       Stephen       Zoller       504 W 55 ST, New York, NY   \n",
       "1         4         Oscar  Zollikoffer       210 W 46 ST, New York, NY   \n",
       "2         6         Oscar  Zollikoffer        65 W 54 ST, New York, NY   \n",
       "3         8        Robert       Zoller    5 N William St, New York, NY   \n",
       "4        13       Leopold     Zollmann  344 E HOUSTON ST, New York, NY   \n",
       "\n",
       "  CD_OCCUPATION  num_matches  OBJECTID.x CENSUS_NAMEFRSCLEAN CENSUS_NAMELASTB  \\\n",
       "0        molder            1      862548             STEPHEN           ZELLER   \n",
       "1          pres            1      795510               OSCAR      ZOLLIKOFFER   \n",
       "2           sec            1      978306               OSCAR      ZOLLIKOFFER   \n",
       "3         birds            1       56054              ROBERT           ZALLER   \n",
       "4         shoes            1      522583             LEOPOLD         ZOLLMANN   \n",
       "\n",
       "                     CENSUS_MATCH_ADDR  CENSUS_AGE  \\\n",
       "0     504 55TH ST W, NYC-Manhattan, NY          40   \n",
       "1     210 46TH ST W, NYC-Manhattan, NY          70   \n",
       "2      65 54TH ST W, NYC-Manhattan, NY          33   \n",
       "3    5 WILLIAM ST N, NYC-Manhattan, NY          31   \n",
       "4  342 HOUSTON ST E, NYC-Manhattan, NY          30   \n",
       "\n",
       "                  CENSUS_OCCLABELB  census_occupation_listed  \\\n",
       "0                     IRON MOULDER                         1   \n",
       "1  PRESIDENT, METROPOLITAN GAS CO.                         1   \n",
       "2    SECRETARY, MET. GAS LIGHT CO.                         1   \n",
       "3                    BIRD IMPORTER                         1   \n",
       "4                       SHOE MAKER                         1   \n",
       "\n",
       "   jaro_winkler_aggr_score  confidence_score  WARD_NUM  CENSUS_ENUMDIST  \\\n",
       "0                    0.904              0.95      22.0              513   \n",
       "1                    1.000              1.00      22.0              469   \n",
       "2                    1.000              1.00      19.0              582   \n",
       "3                    0.940              0.97       4.0               36   \n",
       "4                    1.000              1.00      11.0              305   \n",
       "\n",
       "   CENSUS_SEGMENT_ID  CD_BLOCK_NUM  \n",
       "0               3789        1673.0  \n",
       "1               3357         447.0  \n",
       "2               3488        3190.0  \n",
       "3                531         927.0  \n",
       "4               1283         294.0  "
      ]
     },
     "execution_count": 20,
     "metadata": {},
     "output_type": "execute_result"
    }
   ],
   "source": [
    "df_results_ext.head()"
   ]
  },
  {
   "cell_type": "code",
   "execution_count": 26,
   "metadata": {},
   "outputs": [],
   "source": [
    "df_results_ext = df_results_ext.astype({'WARD_NUM': 'int32', 'CD_BLOCK_NUM': 'int32'}, copy = False)"
   ]
  },
  {
   "cell_type": "code",
   "execution_count": 27,
   "metadata": {},
   "outputs": [],
   "source": [
    "# All set. Write these results to the file \"match_results_confidence_score.csv\"\n",
    "df_results_ext[['OBJECTID', 'CD_FIRST_NAME', 'CD_LAST_NAME', 'MATCH_ADDR', 'CD_OCCUPATION', 'num_matches', \\\n",
    "                'OBJECTID.x', 'CENSUS_NAMEFRSCLEAN', 'CENSUS_NAMELASTB', 'CENSUS_MATCH_ADDR', 'CENSUS_AGE', \\\n",
    "                'CENSUS_OCCLABELB', 'WARD_NUM', 'CENSUS_ENUMDIST', 'CENSUS_SEGMENT_ID', 'CD_BLOCK_NUM', \\\n",
    "                'census_occupation_listed', 'jaro_winkler_aggr_score', \\\n",
    "                'confidence_score']].to_csv(\"match_results_confidence_score.csv\", index=False)"
   ]
  }
 ],
 "metadata": {
  "kernelspec": {
   "display_name": "Python 3",
   "language": "python",
   "name": "python3"
  },
  "language_info": {
   "codemirror_mode": {
    "name": "ipython",
    "version": 3
   },
   "file_extension": ".py",
   "mimetype": "text/x-python",
   "name": "python",
   "nbconvert_exporter": "python",
   "pygments_lexer": "ipython3",
   "version": "3.7.5"
  }
 },
 "nbformat": 4,
 "nbformat_minor": 2
}
