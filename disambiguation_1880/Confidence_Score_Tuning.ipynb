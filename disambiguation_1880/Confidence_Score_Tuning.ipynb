{
 "cells": [
  {
   "cell_type": "code",
   "execution_count": 1,
   "metadata": {},
   "outputs": [],
   "source": [
    "import os\n",
    "import sys\n",
    "module_path = os.path.abspath(os.path.join('..'))\n",
    "if module_path not in sys.path:\n",
    "    sys.path.append(module_path)\n",
    "\n",
    "%load_ext autoreload\n",
    "%autoreload 2\n",
    "import pandas as pd\n",
    "import networkx as nx\n",
    "import numpy as np\n",
    "import disambiguation\n",
    "from disambiguation import Disambiguator, Disambiguator1880\n",
    "import disambiguation.analysis as da\n",
    "import matplotlib.pyplot as plt\n",
    "import seaborn as sns\n",
    "import pickle\n",
    "import random\n",
    "import re\n",
    "import disambiguation.processing as dp \n",
    "from disambiguation import Benchmark"
   ]
  },
  {
   "cell_type": "markdown",
   "metadata": {},
   "source": [
    "#### Get and Format Data"
   ]
  },
  {
   "cell_type": "code",
   "execution_count": 2,
   "metadata": {},
   "outputs": [],
   "source": [
    "#elastic_match = pd.read_csv(\"../../Data/matches.csv\")\n",
    "elastic_match = pd.read_csv(\"../data/es-1880-21-5-2020.csv\", sep='\\t', engine='python')"
   ]
  },
  {
   "cell_type": "code",
   "execution_count": 3,
   "metadata": {},
   "outputs": [
    {
     "data": {
      "text/plain": [
       "Index(['OBJECTID.x', 'CENSUS_NAMEFRSTB', 'CENSUS_NAMELASTB', 'CENSUS_AGE',\n",
       "       'CENSUS_OCCLABELB', 'CENSUS_MATCH_ADDR', 'CENSUS_SEGMENT_ID',\n",
       "       'WARD_NUM', 'CD_ED', 'OBJECTID', 'MATCH_ADDR', 'CD_FIRST_NAME',\n",
       "       'CD_LAST_NAME', 'CD_OCCUPATION', 'CD_FINAL_HOUSENUM'],\n",
       "      dtype='object')"
      ]
     },
     "execution_count": 3,
     "metadata": {},
     "output_type": "execute_result"
    }
   ],
   "source": [
    "elastic_match.columns"
   ]
  },
  {
   "cell_type": "code",
   "execution_count": 3,
   "metadata": {},
   "outputs": [
    {
     "name": "stderr",
     "output_type": "stream",
     "text": [
      "/Users/tabithasugumar/anaconda3/lib/python3.7/site-packages/IPython/core/interactiveshell.py:3063: DtypeWarning: Columns (22) have mixed types. Specify dtype option on import or set low_memory=False.\n",
      "  interactivity=interactivity, compiler=compiler, result=result)\n"
     ]
    }
   ],
   "source": [
    "census = pd.read_csv(\"../data/census_1880_mn_v04.csv\")\n",
    "def census_for_disamb(census):\n",
    "    census_latlng_tuning = census.copy()\n",
    "    census_latlng_tuning['CENSUS_ID'] = 'CENSUS_' + census_latlng_tuning['OBJECTID.x'].astype(str)\n",
    "    census_latlng_tuning = census_latlng_tuning.loc[:, ['CENSUS_ID', 'CENSUS_X', 'CENSUS_Y']]\n",
    "    census_latlng_tuning.loc[census_latlng_tuning.CENSUS_Y > 1000, 'CENSUS_Y'] = 40.799935\n",
    "    return census_latlng_tuning"
   ]
  },
  {
   "cell_type": "code",
   "execution_count": 4,
   "metadata": {},
   "outputs": [],
   "source": [
    "#cd_latlng\n",
    "latlng = pd.read_csv(\"../data/cd_1880.csv\")"
   ]
  },
  {
   "cell_type": "markdown",
   "metadata": {},
   "source": [
    "#### Format data"
   ]
  },
  {
   "cell_type": "code",
   "execution_count": 5,
   "metadata": {},
   "outputs": [],
   "source": [
    "match = dp.elastic_to_disamb(elastic_match, latlng)"
   ]
  },
  {
   "cell_type": "markdown",
   "metadata": {},
   "source": [
    "#### Create sample (a small number of Wards)"
   ]
  },
  {
   "cell_type": "code",
   "execution_count": 6,
   "metadata": {},
   "outputs": [],
   "source": [
    "# def get_sample(df, number = 5):\n",
    "#     wards = df.WARD_NUM.unique()\n",
    "#     wards_selected = random.sample(range(min(wards),max(wards)+1), number)\n",
    "#     return df[df.WARD_NUM.isin(wards_selected)]\n",
    "    \n",
    "# match_sample = get_sample(match, number = 1)"
   ]
  },
  {
   "cell_type": "code",
   "execution_count": 7,
   "metadata": {},
   "outputs": [],
   "source": [
    "# #Print wards in sample for documentation notes\n",
    "# print(\"Wards Included in Sample:\",match_sample.WARD_NUM.unique())"
   ]
  },
  {
   "cell_type": "code",
   "execution_count": 8,
   "metadata": {},
   "outputs": [],
   "source": [
    "#get sample based on historical context\n",
    "wards = [3,9,10,18,21,22]\n",
    "match_sample = match[match.WARD_NUM.isin(wards)]"
   ]
  },
  {
   "cell_type": "markdown",
   "metadata": {},
   "source": [
    "#### Confidence Score Tuning Functions"
   ]
  },
  {
   "cell_type": "markdown",
   "metadata": {},
   "source": [
    "#### Notes:\n",
    "- Start with elastic search output with added columns relavant for cf score\n",
    "- Goal: set up so this is easy to use later on when if we add more inputs to confidence score, experiment with different string measures, etc.\n",
    "- Once functions are finalized, put them into a script for easy access"
   ]
  },
  {
   "cell_type": "code",
   "execution_count": 6,
   "metadata": {},
   "outputs": [],
   "source": [
    "#function to get confidence score including specified columns and weights\n",
    "def confidence_score(df, columns, weights):\n",
    "    return [sum(row[col]*w for col, w in zip(columns,weights)) for index,row in df.iterrows()]"
   ]
  },
  {
   "cell_type": "code",
   "execution_count": 7,
   "metadata": {},
   "outputs": [],
   "source": [
    "def confidence_score_tuning(param_grid, df_allcols, df_census, df_cd):\n",
    "    #Store results\n",
    "    results = {}\n",
    "    df = df_allcols.copy()\n",
    "    \n",
    "    #Get confidence score for each value in grid\n",
    "    for i in range(len(param_grid)):\n",
    "        name = \"confidence_score_\"+str(i)\n",
    "        df.loc[:,name] = confidence_score(df_allcols, param_grid[i][\"columns\"], param_grid[i][\"weights\"])\n",
    "        \n",
    "    #Create benchmark object\n",
    "    benchmark = Benchmark(df, df_census, df_cd)\n",
    "    \n",
    "    #Format census data for tuning\n",
    "    census_tuning = census_for_disamb(df_census)\n",
    "    \n",
    "   # try:\n",
    "    for i in range(len(param_grid)):\n",
    "\n",
    "        name = \"confidence_score_\"+str(i)\n",
    "\n",
    "        #Run disambiguation process (use betweeness and clustering -- based on Jolene's work)\n",
    "        basic = disambiguation.Disambiguator1880(df, confidence = name)\n",
    "\n",
    "        #try:\n",
    "        basic.run_disambiguation()\n",
    "#         except:\n",
    "#             continue\n",
    "\n",
    "        result = basic.get_result() #.to_csv(\"..data/confidence_score_tuning/confidence_score_\"+str(i))\n",
    "\n",
    "        #Results analysis\n",
    "        basic.merge_census_var(census_tuning)\n",
    "        basic.set_var() \n",
    "\n",
    "        #benchmarking\n",
    "        benchmark.set_confidence(name)\n",
    "        benchmark.set_disambiguated(result)\n",
    "        benchmark.run_benchmarking()\n",
    "\n",
    "        #Store results\n",
    "        results[name] = {\"columns\":param_grid[i][\"columns\"], \"weights\":param_grid[i][\"weights\"], \"Match Rate\":basic.get_match_rate(), \"Address Success\":basic.get_addr_success(),\"Under 12\":basic.get_under12_selections(), \"confusion matrix\":benchmark.get_confusion_matrix()}\n",
    "        \n",
    "    #will return results so far even if exception occurs\n",
    "        #Spit out the best columns and weights (Add this in when decide what makes something the best)\n",
    "        #For now simply output the analysis\n",
    "    return results\n",
    "    "
   ]
  },
  {
   "cell_type": "markdown",
   "metadata": {},
   "source": [
    "#### Run Confidence Score Tuning"
   ]
  },
  {
   "cell_type": "code",
   "execution_count": 11,
   "metadata": {},
   "outputs": [],
   "source": [
    "#Columns and weights\n",
    "param_grid = [{\"columns\": ['jw_score','cd_count_inverse','census_count_inverse', 'occ_listed', 'age_score'], \"weights\":[0.5,0.2,0.2,0.05,0.05]},\n",
    "              {\"columns\": ['jw_score','cd_count_inverse','census_count_inverse', 'occ_listed', 'age_score'], \"weights\":[0.55,0.18,0.18,0.05,0.04]},\n",
    "             {\"columns\": ['jw_score','cd_count_inverse','census_count_inverse', 'occ_listed', 'age_score'], \"weights\":[0.7,0.1,0.1,0.05,0.05]},\n",
    "             #{\"columns\": ['jw_score','cd_count_inverse','census_count_inverse', 'occ_listed', 'age_score'], \"weights\":[0.6,0.1,0.1,0.1,0.1]}\n",
    "             {\"columns\": ['jw_score','cd_count_inverse','census_count_inverse', 'occ_listed', 'age_score'], \"weights\":[0.6,0.15,0.15,0.05,0.05]}]"
   ]
  },
  {
   "cell_type": "code",
   "execution_count": 12,
   "metadata": {
    "scrolled": false
   },
   "outputs": [
    {
     "name": "stdout",
     "output_type": "stream",
     "text": [
      "Running\n",
      "Creating dictionary of sub dfs (1/4)...\n",
      "Applying algorithms iteratively (2/4)...\n",
      "Number of Subgraphs: 15333\n",
      "Reached: 0\n",
      "Reached: 1000\n",
      "Reached: 2000\n",
      "Reached: 3000\n",
      "Reached: 4000\n",
      "Reached: 5000\n",
      "Reached: 6000\n",
      "Reached: 7000\n",
      "Reached: 8000\n",
      "Reached: 9000\n",
      "Reached: 10000\n",
      "Reached: 11000\n",
      "Reached: 12000\n",
      "Reached: 13000\n",
      "Reached: 14000\n",
      "Reached: 15000\n",
      "Cleaning output (3/4)...\n"
     ]
    },
    {
     "name": "stderr",
     "output_type": "stream",
     "text": [
      "/Users/tabithasugumar/Documents/HNYC/SpatialLinkage/disambiguation/__init__.py:38: FutureWarning: Sorting because non-concatenation axis is not aligned. A future version\n",
      "of pandas will change to not sort by default.\n",
      "\n",
      "To accept the future behavior, pass 'sort=False'.\n",
      "\n",
      "To retain the current behavior and silence the warning, pass 'sort=True'.\n",
      "\n",
      "  final = pd.concat(sub_groups)\n"
     ]
    },
    {
     "name": "stdout",
     "output_type": "stream",
     "text": [
      "Disambiguating (4/4)...\n",
      "Done! :)\n",
      "Running\n",
      "Creating dictionary of sub dfs (1/4)...\n",
      "Applying algorithms iteratively (2/4)...\n",
      "Number of Subgraphs: 15333\n",
      "Reached: 0\n",
      "Reached: 1000\n",
      "Reached: 2000\n",
      "Reached: 3000\n",
      "Reached: 4000\n",
      "Reached: 5000\n",
      "Reached: 6000\n",
      "Reached: 7000\n",
      "Reached: 8000\n",
      "Reached: 9000\n",
      "Reached: 10000\n",
      "Reached: 11000\n",
      "Reached: 12000\n",
      "Reached: 13000\n",
      "Reached: 14000\n",
      "Reached: 15000\n",
      "Cleaning output (3/4)...\n"
     ]
    },
    {
     "name": "stderr",
     "output_type": "stream",
     "text": [
      "/Users/tabithasugumar/Documents/HNYC/SpatialLinkage/disambiguation/__init__.py:38: FutureWarning: Sorting because non-concatenation axis is not aligned. A future version\n",
      "of pandas will change to not sort by default.\n",
      "\n",
      "To accept the future behavior, pass 'sort=False'.\n",
      "\n",
      "To retain the current behavior and silence the warning, pass 'sort=True'.\n",
      "\n",
      "  final = pd.concat(sub_groups)\n"
     ]
    },
    {
     "name": "stdout",
     "output_type": "stream",
     "text": [
      "Disambiguating (4/4)...\n",
      "Done! :)\n",
      "Running\n",
      "Creating dictionary of sub dfs (1/4)...\n",
      "Applying algorithms iteratively (2/4)...\n",
      "Number of Subgraphs: 15333\n",
      "Reached: 0\n",
      "Reached: 1000\n",
      "Reached: 2000\n",
      "Reached: 3000\n",
      "Reached: 4000\n",
      "Reached: 5000\n",
      "Reached: 6000\n",
      "Reached: 7000\n",
      "Reached: 8000\n",
      "Reached: 9000\n",
      "Reached: 10000\n",
      "Reached: 11000\n",
      "Reached: 12000\n",
      "Reached: 13000\n",
      "Reached: 14000\n",
      "Reached: 15000\n",
      "Cleaning output (3/4)...\n"
     ]
    },
    {
     "name": "stderr",
     "output_type": "stream",
     "text": [
      "/Users/tabithasugumar/Documents/HNYC/SpatialLinkage/disambiguation/__init__.py:38: FutureWarning: Sorting because non-concatenation axis is not aligned. A future version\n",
      "of pandas will change to not sort by default.\n",
      "\n",
      "To accept the future behavior, pass 'sort=False'.\n",
      "\n",
      "To retain the current behavior and silence the warning, pass 'sort=True'.\n",
      "\n",
      "  final = pd.concat(sub_groups)\n"
     ]
    },
    {
     "name": "stdout",
     "output_type": "stream",
     "text": [
      "Disambiguating (4/4)...\n",
      "Done! :)\n",
      "Running\n",
      "Creating dictionary of sub dfs (1/4)...\n",
      "Applying algorithms iteratively (2/4)...\n",
      "Number of Subgraphs: 15333\n",
      "Reached: 0\n",
      "Reached: 1000\n",
      "Reached: 2000\n",
      "Reached: 3000\n",
      "Reached: 4000\n",
      "Reached: 5000\n",
      "Reached: 6000\n",
      "Reached: 7000\n",
      "Reached: 8000\n",
      "Reached: 9000\n",
      "Reached: 10000\n",
      "Reached: 11000\n",
      "Reached: 12000\n",
      "Reached: 13000\n",
      "Reached: 14000\n",
      "Reached: 15000\n",
      "Cleaning output (3/4)...\n"
     ]
    },
    {
     "name": "stderr",
     "output_type": "stream",
     "text": [
      "/Users/tabithasugumar/Documents/HNYC/SpatialLinkage/disambiguation/__init__.py:38: FutureWarning: Sorting because non-concatenation axis is not aligned. A future version\n",
      "of pandas will change to not sort by default.\n",
      "\n",
      "To accept the future behavior, pass 'sort=False'.\n",
      "\n",
      "To retain the current behavior and silence the warning, pass 'sort=True'.\n",
      "\n",
      "  final = pd.concat(sub_groups)\n"
     ]
    },
    {
     "name": "stdout",
     "output_type": "stream",
     "text": [
      "Disambiguating (4/4)...\n",
      "Done! :)\n"
     ]
    }
   ],
   "source": [
    "tuning_results = confidence_score_tuning(param_grid, match_sample, census, latlng)"
   ]
  },
  {
   "cell_type": "code",
   "execution_count": 14,
   "metadata": {},
   "outputs": [
    {
     "data": {
      "text/html": [
       "<div>\n",
       "<style scoped>\n",
       "    .dataframe tbody tr th:only-of-type {\n",
       "        vertical-align: middle;\n",
       "    }\n",
       "\n",
       "    .dataframe tbody tr th {\n",
       "        vertical-align: top;\n",
       "    }\n",
       "\n",
       "    .dataframe thead th {\n",
       "        text-align: right;\n",
       "    }\n",
       "</style>\n",
       "<table border=\"1\" class=\"dataframe\">\n",
       "  <thead>\n",
       "    <tr style=\"text-align: right;\">\n",
       "      <th></th>\n",
       "      <th>confidence_score_0</th>\n",
       "      <th>confidence_score_1</th>\n",
       "      <th>confidence_score_2</th>\n",
       "      <th>confidence_score_3</th>\n",
       "    </tr>\n",
       "  </thead>\n",
       "  <tbody>\n",
       "    <tr>\n",
       "      <th>columns</th>\n",
       "      <td>[jw_score, cd_count_inverse, census_count_inve...</td>\n",
       "      <td>[jw_score, cd_count_inverse, census_count_inve...</td>\n",
       "      <td>[jw_score, cd_count_inverse, census_count_inve...</td>\n",
       "      <td>[jw_score, cd_count_inverse, census_count_inve...</td>\n",
       "    </tr>\n",
       "    <tr>\n",
       "      <th>weights</th>\n",
       "      <td>[0.5, 0.2, 0.2, 0.05, 0.05]</td>\n",
       "      <td>[0.55, 0.18, 0.18, 0.05, 0.04]</td>\n",
       "      <td>[0.7, 0.1, 0.1, 0.05, 0.05]</td>\n",
       "      <td>[0.6, 0.15, 0.15, 0.05, 0.05]</td>\n",
       "    </tr>\n",
       "    <tr>\n",
       "      <th>Match Rate</th>\n",
       "      <td>98.48</td>\n",
       "      <td>98.48</td>\n",
       "      <td>98.48</td>\n",
       "      <td>98.48</td>\n",
       "    </tr>\n",
       "    <tr>\n",
       "      <th>Address Success</th>\n",
       "      <td>{'n_perfect_match_chosen': 8446, 'n_perfect_ma...</td>\n",
       "      <td>{'n_perfect_match_chosen': 8438, 'n_perfect_ma...</td>\n",
       "      <td>{'n_perfect_match_chosen': 8436, 'n_perfect_ma...</td>\n",
       "      <td>{'n_perfect_match_chosen': 8440, 'n_perfect_ma...</td>\n",
       "    </tr>\n",
       "    <tr>\n",
       "      <th>Under 12</th>\n",
       "      <td>2.6</td>\n",
       "      <td>2.66</td>\n",
       "      <td>2.71</td>\n",
       "      <td>2.64</td>\n",
       "    </tr>\n",
       "    <tr>\n",
       "      <th>confusion matrix</th>\n",
       "      <td>[[33268, 1150], [1150, 13959]]</td>\n",
       "      <td>[[33264, 1154], [1154, 13955]]</td>\n",
       "      <td>[[33260, 1158], [1158, 13951]]</td>\n",
       "      <td>[[33279, 1139], [1139, 13970]]</td>\n",
       "    </tr>\n",
       "  </tbody>\n",
       "</table>\n",
       "</div>"
      ],
      "text/plain": [
       "                                                 confidence_score_0  \\\n",
       "columns           [jw_score, cd_count_inverse, census_count_inve...   \n",
       "weights                                 [0.5, 0.2, 0.2, 0.05, 0.05]   \n",
       "Match Rate                                                    98.48   \n",
       "Address Success   {'n_perfect_match_chosen': 8446, 'n_perfect_ma...   \n",
       "Under 12                                                        2.6   \n",
       "confusion matrix                     [[33268, 1150], [1150, 13959]]   \n",
       "\n",
       "                                                 confidence_score_1  \\\n",
       "columns           [jw_score, cd_count_inverse, census_count_inve...   \n",
       "weights                              [0.55, 0.18, 0.18, 0.05, 0.04]   \n",
       "Match Rate                                                    98.48   \n",
       "Address Success   {'n_perfect_match_chosen': 8438, 'n_perfect_ma...   \n",
       "Under 12                                                       2.66   \n",
       "confusion matrix                     [[33264, 1154], [1154, 13955]]   \n",
       "\n",
       "                                                 confidence_score_2  \\\n",
       "columns           [jw_score, cd_count_inverse, census_count_inve...   \n",
       "weights                                 [0.7, 0.1, 0.1, 0.05, 0.05]   \n",
       "Match Rate                                                    98.48   \n",
       "Address Success   {'n_perfect_match_chosen': 8436, 'n_perfect_ma...   \n",
       "Under 12                                                       2.71   \n",
       "confusion matrix                     [[33260, 1158], [1158, 13951]]   \n",
       "\n",
       "                                                 confidence_score_3  \n",
       "columns           [jw_score, cd_count_inverse, census_count_inve...  \n",
       "weights                               [0.6, 0.15, 0.15, 0.05, 0.05]  \n",
       "Match Rate                                                    98.48  \n",
       "Address Success   {'n_perfect_match_chosen': 8440, 'n_perfect_ma...  \n",
       "Under 12                                                       2.64  \n",
       "confusion matrix                     [[33279, 1139], [1139, 13970]]  "
      ]
     },
     "metadata": {},
     "output_type": "display_data"
    }
   ],
   "source": [
    "display(pd.DataFrame.from_dict(tuning_results))"
   ]
  },
  {
   "cell_type": "markdown",
   "metadata": {},
   "source": [
    "#### Tune Explore Effect of not including confidence score in benchmark"
   ]
  },
  {
   "cell_type": "markdown",
   "metadata": {},
   "source": [
    "Not including the confidence score in the benchmarking process means changing the results of the benchmarking process. Generally, more errors are indicated, and the best weighting scheme becomes what we used originally.\n",
    "- To me not including the confidence score for the benchmark makes more sense, but I'm concerned because I feel like I don't understand why it was included in the first place and there must have been a reason"
   ]
  },
  {
   "cell_type": "code",
   "execution_count": 15,
   "metadata": {
    "scrolled": false
   },
   "outputs": [
    {
     "name": "stdout",
     "output_type": "stream",
     "text": [
      "Running\n",
      "Creating dictionary of sub dfs (1/4)...\n",
      "Applying algorithms iteratively (2/4)...\n",
      "Number of Subgraphs: 15333\n",
      "Reached: 0\n",
      "Reached: 1000\n",
      "Reached: 2000\n",
      "Reached: 3000\n",
      "Reached: 4000\n",
      "Reached: 5000\n",
      "Reached: 6000\n",
      "Reached: 7000\n",
      "Reached: 8000\n",
      "Reached: 9000\n",
      "Reached: 10000\n",
      "Reached: 11000\n",
      "Reached: 12000\n",
      "Reached: 13000\n",
      "Reached: 14000\n",
      "Reached: 15000\n",
      "Cleaning output (3/4)...\n"
     ]
    },
    {
     "name": "stderr",
     "output_type": "stream",
     "text": [
      "/Users/tabithasugumar/Documents/HNYC/SpatialLinkage/disambiguation/__init__.py:40: FutureWarning: Sorting because non-concatenation axis is not aligned. A future version\n",
      "of pandas will change to not sort by default.\n",
      "\n",
      "To accept the future behavior, pass 'sort=False'.\n",
      "\n",
      "To retain the current behavior and silence the warning, pass 'sort=True'.\n",
      "\n",
      "  final = pd.concat(sub_groups)\n"
     ]
    },
    {
     "name": "stdout",
     "output_type": "stream",
     "text": [
      "Disambiguating (4/4)...\n",
      "Done! :)\n",
      "Running\n",
      "Creating dictionary of sub dfs (1/4)...\n",
      "Applying algorithms iteratively (2/4)...\n",
      "Number of Subgraphs: 15333\n",
      "Reached: 0\n",
      "Reached: 1000\n",
      "Reached: 2000\n",
      "Reached: 3000\n",
      "Reached: 4000\n",
      "Reached: 5000\n",
      "Reached: 6000\n",
      "Reached: 7000\n",
      "Reached: 8000\n",
      "Reached: 9000\n",
      "Reached: 10000\n",
      "Reached: 11000\n",
      "Reached: 12000\n",
      "Reached: 13000\n",
      "Reached: 14000\n",
      "Reached: 15000\n",
      "Cleaning output (3/4)...\n"
     ]
    },
    {
     "name": "stderr",
     "output_type": "stream",
     "text": [
      "/Users/tabithasugumar/Documents/HNYC/SpatialLinkage/disambiguation/__init__.py:40: FutureWarning: Sorting because non-concatenation axis is not aligned. A future version\n",
      "of pandas will change to not sort by default.\n",
      "\n",
      "To accept the future behavior, pass 'sort=False'.\n",
      "\n",
      "To retain the current behavior and silence the warning, pass 'sort=True'.\n",
      "\n",
      "  final = pd.concat(sub_groups)\n"
     ]
    },
    {
     "name": "stdout",
     "output_type": "stream",
     "text": [
      "Disambiguating (4/4)...\n",
      "Done! :)\n",
      "Running\n",
      "Creating dictionary of sub dfs (1/4)...\n",
      "Applying algorithms iteratively (2/4)...\n",
      "Number of Subgraphs: 15333\n",
      "Reached: 0\n",
      "Reached: 1000\n",
      "Reached: 2000\n",
      "Reached: 3000\n",
      "Reached: 4000\n",
      "Reached: 5000\n",
      "Reached: 6000\n",
      "Reached: 7000\n",
      "Reached: 8000\n",
      "Reached: 9000\n",
      "Reached: 10000\n",
      "Reached: 11000\n",
      "Reached: 12000\n",
      "Reached: 13000\n",
      "Reached: 14000\n",
      "Reached: 15000\n",
      "Cleaning output (3/4)...\n"
     ]
    },
    {
     "name": "stderr",
     "output_type": "stream",
     "text": [
      "/Users/tabithasugumar/Documents/HNYC/SpatialLinkage/disambiguation/__init__.py:40: FutureWarning: Sorting because non-concatenation axis is not aligned. A future version\n",
      "of pandas will change to not sort by default.\n",
      "\n",
      "To accept the future behavior, pass 'sort=False'.\n",
      "\n",
      "To retain the current behavior and silence the warning, pass 'sort=True'.\n",
      "\n",
      "  final = pd.concat(sub_groups)\n"
     ]
    },
    {
     "name": "stdout",
     "output_type": "stream",
     "text": [
      "Disambiguating (4/4)...\n",
      "Done! :)\n",
      "Running\n",
      "Creating dictionary of sub dfs (1/4)...\n",
      "Applying algorithms iteratively (2/4)...\n",
      "Number of Subgraphs: 15333\n",
      "Reached: 0\n",
      "Reached: 1000\n",
      "Reached: 2000\n",
      "Reached: 3000\n",
      "Reached: 4000\n",
      "Reached: 5000\n",
      "Reached: 6000\n",
      "Reached: 7000\n",
      "Reached: 8000\n",
      "Reached: 9000\n",
      "Reached: 10000\n",
      "Reached: 11000\n",
      "Reached: 12000\n",
      "Reached: 13000\n",
      "Reached: 14000\n",
      "Reached: 15000\n",
      "Cleaning output (3/4)...\n"
     ]
    },
    {
     "name": "stderr",
     "output_type": "stream",
     "text": [
      "/Users/tabithasugumar/Documents/HNYC/SpatialLinkage/disambiguation/__init__.py:40: FutureWarning: Sorting because non-concatenation axis is not aligned. A future version\n",
      "of pandas will change to not sort by default.\n",
      "\n",
      "To accept the future behavior, pass 'sort=False'.\n",
      "\n",
      "To retain the current behavior and silence the warning, pass 'sort=True'.\n",
      "\n",
      "  final = pd.concat(sub_groups)\n"
     ]
    },
    {
     "name": "stdout",
     "output_type": "stream",
     "text": [
      "Disambiguating (4/4)...\n",
      "Done! :)\n"
     ]
    }
   ],
   "source": [
    "benchmark_test = confidence_score_tuning(param_grid, match_sample, census, latlng)"
   ]
  },
  {
   "cell_type": "code",
   "execution_count": 16,
   "metadata": {},
   "outputs": [
    {
     "data": {
      "text/html": [
       "<div>\n",
       "<style scoped>\n",
       "    .dataframe tbody tr th:only-of-type {\n",
       "        vertical-align: middle;\n",
       "    }\n",
       "\n",
       "    .dataframe tbody tr th {\n",
       "        vertical-align: top;\n",
       "    }\n",
       "\n",
       "    .dataframe thead th {\n",
       "        text-align: right;\n",
       "    }\n",
       "</style>\n",
       "<table border=\"1\" class=\"dataframe\">\n",
       "  <thead>\n",
       "    <tr style=\"text-align: right;\">\n",
       "      <th></th>\n",
       "      <th>confidence_score_0</th>\n",
       "      <th>confidence_score_1</th>\n",
       "      <th>confidence_score_2</th>\n",
       "      <th>confidence_score_3</th>\n",
       "    </tr>\n",
       "  </thead>\n",
       "  <tbody>\n",
       "    <tr>\n",
       "      <th>columns</th>\n",
       "      <td>[jw_score, cd_count_inverse, census_count_inve...</td>\n",
       "      <td>[jw_score, cd_count_inverse, census_count_inve...</td>\n",
       "      <td>[jw_score, cd_count_inverse, census_count_inve...</td>\n",
       "      <td>[jw_score, cd_count_inverse, census_count_inve...</td>\n",
       "    </tr>\n",
       "    <tr>\n",
       "      <th>weights</th>\n",
       "      <td>[0.5, 0.2, 0.2, 0.05, 0.05]</td>\n",
       "      <td>[0.55, 0.18, 0.18, 0.05, 0.04]</td>\n",
       "      <td>[0.7, 0.1, 0.1, 0.05, 0.05]</td>\n",
       "      <td>[0.6, 0.15, 0.15, 0.05, 0.05]</td>\n",
       "    </tr>\n",
       "    <tr>\n",
       "      <th>Match Rate</th>\n",
       "      <td>98.48</td>\n",
       "      <td>98.48</td>\n",
       "      <td>98.48</td>\n",
       "      <td>98.48</td>\n",
       "    </tr>\n",
       "    <tr>\n",
       "      <th>Address Success</th>\n",
       "      <td>{'n_perfect_match_chosen': 8434, 'n_perfect_ma...</td>\n",
       "      <td>{'n_perfect_match_chosen': 8429, 'n_perfect_ma...</td>\n",
       "      <td>{'n_perfect_match_chosen': 8428, 'n_perfect_ma...</td>\n",
       "      <td>{'n_perfect_match_chosen': 8431, 'n_perfect_ma...</td>\n",
       "    </tr>\n",
       "    <tr>\n",
       "      <th>Under 12</th>\n",
       "      <td>2.6</td>\n",
       "      <td>2.66</td>\n",
       "      <td>2.7</td>\n",
       "      <td>2.63</td>\n",
       "    </tr>\n",
       "    <tr>\n",
       "      <th>confusion matrix</th>\n",
       "      <td>[[30536, 3882], [3882, 11227]]</td>\n",
       "      <td>[[30533, 3885], [3885, 11224]]</td>\n",
       "      <td>[[30517, 3901], [3901, 11208]]</td>\n",
       "      <td>[[30531, 3887], [3887, 11222]]</td>\n",
       "    </tr>\n",
       "  </tbody>\n",
       "</table>\n",
       "</div>"
      ],
      "text/plain": [
       "                                                 confidence_score_0  \\\n",
       "columns           [jw_score, cd_count_inverse, census_count_inve...   \n",
       "weights                                 [0.5, 0.2, 0.2, 0.05, 0.05]   \n",
       "Match Rate                                                    98.48   \n",
       "Address Success   {'n_perfect_match_chosen': 8434, 'n_perfect_ma...   \n",
       "Under 12                                                        2.6   \n",
       "confusion matrix                     [[30536, 3882], [3882, 11227]]   \n",
       "\n",
       "                                                 confidence_score_1  \\\n",
       "columns           [jw_score, cd_count_inverse, census_count_inve...   \n",
       "weights                              [0.55, 0.18, 0.18, 0.05, 0.04]   \n",
       "Match Rate                                                    98.48   \n",
       "Address Success   {'n_perfect_match_chosen': 8429, 'n_perfect_ma...   \n",
       "Under 12                                                       2.66   \n",
       "confusion matrix                     [[30533, 3885], [3885, 11224]]   \n",
       "\n",
       "                                                 confidence_score_2  \\\n",
       "columns           [jw_score, cd_count_inverse, census_count_inve...   \n",
       "weights                                 [0.7, 0.1, 0.1, 0.05, 0.05]   \n",
       "Match Rate                                                    98.48   \n",
       "Address Success   {'n_perfect_match_chosen': 8428, 'n_perfect_ma...   \n",
       "Under 12                                                        2.7   \n",
       "confusion matrix                     [[30517, 3901], [3901, 11208]]   \n",
       "\n",
       "                                                 confidence_score_3  \n",
       "columns           [jw_score, cd_count_inverse, census_count_inve...  \n",
       "weights                               [0.6, 0.15, 0.15, 0.05, 0.05]  \n",
       "Match Rate                                                    98.48  \n",
       "Address Success   {'n_perfect_match_chosen': 8431, 'n_perfect_ma...  \n",
       "Under 12                                                       2.63  \n",
       "confusion matrix                     [[30531, 3887], [3887, 11222]]  "
      ]
     },
     "metadata": {},
     "output_type": "display_data"
    }
   ],
   "source": [
    "display(pd.DataFrame.from_dict(benchmark_test))"
   ]
  },
  {
   "cell_type": "markdown",
   "metadata": {},
   "source": [
    "#### Tune Focusing on Weighting the inverses less"
   ]
  },
  {
   "cell_type": "code",
   "execution_count": 9,
   "metadata": {},
   "outputs": [],
   "source": [
    "#Columns and weights\n",
    "param_grid = [#{\"columns\": ['jw_score','cd_count_inverse', 'occ_listed', 'age_score'], \"weights\":[0.6,0.15,0.1,0.15]},\n",
    "             {\"columns\": ['jw_score', 'occ_listed', 'age_score'], \"weights\":[0.8,0.10,0.10]},\n",
    "             {\"columns\": ['jw_score','census_count_inverse', 'occ_listed', 'age_score'], \"weights\":[0.6,0.15,0.1,0.15]},\n",
    "             {\"columns\": ['jw_score','cd_count_inverse','census_count_inverse', 'occ_listed', 'age_score'], \"weights\":[0.8,0.05,0.05,0.05,0.05]}]"
   ]
  },
  {
   "cell_type": "code",
   "execution_count": 22,
   "metadata": {},
   "outputs": [
    {
     "name": "stdout",
     "output_type": "stream",
     "text": [
      "Running\n",
      "Creating dictionary of sub dfs (1/4)...\n",
      "Applying algorithms iteratively (2/4)...\n",
      "Number of Subgraphs: 26289\n",
      "Reached: 0\n",
      "Running\n",
      "Creating dictionary of sub dfs (1/4)...\n",
      "Applying algorithms iteratively (2/4)...\n",
      "Number of Subgraphs: 23671\n",
      "Reached: 0\n",
      "Reached: 1000\n",
      "Reached: 2000\n",
      "Reached: 3000\n",
      "Reached: 4000\n",
      "Reached: 5000\n",
      "Reached: 6000\n",
      "Reached: 7000\n",
      "Reached: 8000\n",
      "Reached: 9000\n",
      "Reached: 10000\n",
      "Reached: 11000\n",
      "Reached: 12000\n",
      "Reached: 13000\n",
      "Reached: 14000\n",
      "Reached: 15000\n",
      "Reached: 16000\n",
      "Reached: 17000\n",
      "Reached: 18000\n",
      "Reached: 19000\n",
      "Reached: 20000\n",
      "Reached: 21000\n",
      "Reached: 22000\n",
      "Reached: 23000\n",
      "Cleaning output (3/4)...\n"
     ]
    },
    {
     "name": "stderr",
     "output_type": "stream",
     "text": [
      "/Users/tabithasugumar/Documents/HNYC/SpatialLinkage/disambiguation/__init__.py:38: FutureWarning: Sorting because non-concatenation axis is not aligned. A future version\n",
      "of pandas will change to not sort by default.\n",
      "\n",
      "To accept the future behavior, pass 'sort=False'.\n",
      "\n",
      "To retain the current behavior and silence the warning, pass 'sort=True'.\n",
      "\n",
      "  final = pd.concat(sub_groups)\n"
     ]
    },
    {
     "name": "stdout",
     "output_type": "stream",
     "text": [
      "Disambiguating (4/4)...\n",
      "Done! :)\n"
     ]
    }
   ],
   "source": [
    "tuning_results_inverses = confidence_score_tuning(param_grid, match_sample, census, latlng)"
   ]
  },
  {
   "cell_type": "code",
   "execution_count": 23,
   "metadata": {},
   "outputs": [
    {
     "data": {
      "text/html": [
       "<div>\n",
       "<style scoped>\n",
       "    .dataframe tbody tr th:only-of-type {\n",
       "        vertical-align: middle;\n",
       "    }\n",
       "\n",
       "    .dataframe tbody tr th {\n",
       "        vertical-align: top;\n",
       "    }\n",
       "\n",
       "    .dataframe thead th {\n",
       "        text-align: right;\n",
       "    }\n",
       "</style>\n",
       "<table border=\"1\" class=\"dataframe\">\n",
       "  <thead>\n",
       "    <tr style=\"text-align: right;\">\n",
       "      <th></th>\n",
       "      <th>confidence_score_1</th>\n",
       "    </tr>\n",
       "  </thead>\n",
       "  <tbody>\n",
       "    <tr>\n",
       "      <th>Address Success</th>\n",
       "      <td>{'n_perfect_match_chosen': 8431, 'n_perfect_ma...</td>\n",
       "    </tr>\n",
       "    <tr>\n",
       "      <th>Match Rate</th>\n",
       "      <td>98.48</td>\n",
       "    </tr>\n",
       "    <tr>\n",
       "      <th>Under 12</th>\n",
       "      <td>2.53</td>\n",
       "    </tr>\n",
       "    <tr>\n",
       "      <th>columns</th>\n",
       "      <td>[jw_score, census_count_inverse, occ_listed, a...</td>\n",
       "    </tr>\n",
       "    <tr>\n",
       "      <th>confusion matrix</th>\n",
       "      <td>[[33097, 1321], [1321, 13788]]</td>\n",
       "    </tr>\n",
       "    <tr>\n",
       "      <th>weights</th>\n",
       "      <td>[0.6, 0.15, 0.1, 0.15]</td>\n",
       "    </tr>\n",
       "  </tbody>\n",
       "</table>\n",
       "</div>"
      ],
      "text/plain": [
       "                                                 confidence_score_1\n",
       "Address Success   {'n_perfect_match_chosen': 8431, 'n_perfect_ma...\n",
       "Match Rate                                                    98.48\n",
       "Under 12                                                       2.53\n",
       "columns           [jw_score, census_count_inverse, occ_listed, a...\n",
       "confusion matrix                     [[33097, 1321], [1321, 13788]]\n",
       "weights                                      [0.6, 0.15, 0.1, 0.15]"
      ]
     },
     "metadata": {},
     "output_type": "display_data"
    }
   ],
   "source": [
    "display(pd.DataFrame.from_dict(tuning_results_inverses))"
   ]
  },
  {
   "cell_type": "markdown",
   "metadata": {},
   "source": [
    "#### Explore issues with dismabiguation process at some weighting schemes"
   ]
  },
  {
   "cell_type": "code",
   "execution_count": 32,
   "metadata": {
    "scrolled": false
   },
   "outputs": [
    {
     "name": "stdout",
     "output_type": "stream",
     "text": [
      "Running\n",
      "Creating dictionary of sub dfs (1/4)...\n",
      "Applying algorithms iteratively (2/4)...\n",
      "Number of Subgraphs: 26289\n",
      "Reached: 0\n"
     ]
    },
    {
     "data": {
      "text/html": [
       "<div>\n",
       "<style scoped>\n",
       "    .dataframe tbody tr th:only-of-type {\n",
       "        vertical-align: middle;\n",
       "    }\n",
       "\n",
       "    .dataframe tbody tr th {\n",
       "        vertical-align: top;\n",
       "    }\n",
       "\n",
       "    .dataframe thead th {\n",
       "        text-align: right;\n",
       "    }\n",
       "</style>\n",
       "<table border=\"1\" class=\"dataframe\">\n",
       "  <thead>\n",
       "    <tr style=\"text-align: right;\">\n",
       "      <th></th>\n",
       "      <th>LONG</th>\n",
       "      <th>LAT</th>\n",
       "      <th>letter</th>\n",
       "    </tr>\n",
       "  </thead>\n",
       "  <tbody>\n",
       "    <tr>\n",
       "      <th>0</th>\n",
       "      <td>-73.986717</td>\n",
       "      <td>40.734097</td>\n",
       "      <td>N0</td>\n",
       "    </tr>\n",
       "    <tr>\n",
       "      <th>1</th>\n",
       "      <td>-73.986730</td>\n",
       "      <td>40.734094</td>\n",
       "      <td>N1</td>\n",
       "    </tr>\n",
       "    <tr>\n",
       "      <th>2</th>\n",
       "      <td>-73.986717</td>\n",
       "      <td>40.734097</td>\n",
       "      <td>N1</td>\n",
       "    </tr>\n",
       "    <tr>\n",
       "      <th>3</th>\n",
       "      <td>-73.986730</td>\n",
       "      <td>40.734094</td>\n",
       "      <td>N2</td>\n",
       "    </tr>\n",
       "  </tbody>\n",
       "</table>\n",
       "</div>"
      ],
      "text/plain": [
       "        LONG        LAT letter\n",
       "0 -73.986717  40.734097     N0\n",
       "1 -73.986730  40.734094     N1\n",
       "2 -73.986717  40.734097     N1\n",
       "3 -73.986730  40.734094     N2"
      ]
     },
     "metadata": {},
     "output_type": "display_data"
    },
    {
     "name": "stdout",
     "output_type": "stream",
     "text": [
      "Index(['OBJECTID.x', 'CENSUS_NAMEFRSTB', 'CENSUS_NAMELASTB', 'CENSUS_AGE',\n",
      "       'CENSUS_OCCLABELB', 'CENSUS_MATCH_ADDR', 'CENSUS_SEGMENT_ID',\n",
      "       'WARD_NUM', 'CD_ED', 'OBJECTID', 'MATCH_ADDR', 'CD_FIRST_NAME',\n",
      "       'CD_LAST_NAME', 'CD_OCCUPATION', 'CD_FINAL_HOUSENUM', 'jw_fn', 'jw_ln',\n",
      "       'jw_score', 'occ_listed', 'age_score', 'cd_count', 'census_count',\n",
      "       'confidence_score', 'CD_ID', 'CENSUS_ID', 'census_count_inverse',\n",
      "       'cd_count_inverse', 'LONG', 'LAT', 'confidence_score_0',\n",
      "       'confidence_score_1', 'confidence_score_2', 'anchor', 'group_ID',\n",
      "       'node_ID', 'letter', 'in_cluster'],\n",
      "      dtype='object')\n",
      "post merge Index(['OBJECTID.x_x', 'CENSUS_NAMEFRSTB_x', 'CENSUS_NAMELASTB_x',\n",
      "       'CENSUS_AGE_x', 'CENSUS_OCCLABELB_x', 'CENSUS_MATCH_ADDR_x',\n",
      "       'CENSUS_SEGMENT_ID_x', 'WARD_NUM_x', 'CD_ED_x', 'OBJECTID_x',\n",
      "       'MATCH_ADDR_x', 'CD_FIRST_NAME_x', 'CD_LAST_NAME_x', 'CD_OCCUPATION_x',\n",
      "       'CD_FINAL_HOUSENUM_x', 'jw_fn_x', 'jw_ln_x', 'jw_score_x',\n",
      "       'occ_listed_x', 'age_score_x', 'cd_count_x', 'census_count_x',\n",
      "       'confidence_score_x', 'CD_ID_x', 'CENSUS_ID_x',\n",
      "       'census_count_inverse_x', 'cd_count_inverse_x', 'LONG_x', 'LAT_x',\n",
      "       'confidence_score_0_x', 'confidence_score_1_x', 'confidence_score_2_x',\n",
      "       'anchor_x', 'group_ID_x', 'node_ID_x', 'letter_x', 'in_cluster_x',\n",
      "       'key', 'OBJECTID.x_y', 'CENSUS_NAMEFRSTB_y', 'CENSUS_NAMELASTB_y',\n",
      "       'CENSUS_AGE_y', 'CENSUS_OCCLABELB_y', 'CENSUS_MATCH_ADDR_y',\n",
      "       'CENSUS_SEGMENT_ID_y', 'WARD_NUM_y', 'CD_ED_y', 'OBJECTID_y',\n",
      "       'MATCH_ADDR_y', 'CD_FIRST_NAME_y', 'CD_LAST_NAME_y', 'CD_OCCUPATION_y',\n",
      "       'CD_FINAL_HOUSENUM_y', 'jw_fn_y', 'jw_ln_y', 'jw_score_y',\n",
      "       'occ_listed_y', 'age_score_y', 'cd_count_y', 'census_count_y',\n",
      "       'confidence_score_y', 'CD_ID_y', 'CENSUS_ID_y',\n",
      "       'census_count_inverse_y', 'cd_count_inverse_y', 'LONG_y', 'LAT_y',\n",
      "       'confidence_score_0_y', 'confidence_score_1_y', 'confidence_score_2_y',\n",
      "       'anchor_y', 'group_ID_y', 'node_ID_y', 'letter_y', 'in_cluster_y'],\n",
      "      dtype='object')\n"
     ]
    },
    {
     "data": {
      "text/html": [
       "<div>\n",
       "<style scoped>\n",
       "    .dataframe tbody tr th:only-of-type {\n",
       "        vertical-align: middle;\n",
       "    }\n",
       "\n",
       "    .dataframe tbody tr th {\n",
       "        vertical-align: top;\n",
       "    }\n",
       "\n",
       "    .dataframe thead th {\n",
       "        text-align: right;\n",
       "    }\n",
       "</style>\n",
       "<table border=\"1\" class=\"dataframe\">\n",
       "  <thead>\n",
       "    <tr style=\"text-align: right;\">\n",
       "      <th></th>\n",
       "      <th>LONG_x</th>\n",
       "      <th>LONG_y</th>\n",
       "      <th>LAT_x</th>\n",
       "      <th>LAT_y</th>\n",
       "      <th>letter_x</th>\n",
       "      <th>letter_y</th>\n",
       "    </tr>\n",
       "  </thead>\n",
       "  <tbody>\n",
       "    <tr>\n",
       "      <th>0</th>\n",
       "      <td>-73.986717</td>\n",
       "      <td>-73.986717</td>\n",
       "      <td>40.734097</td>\n",
       "      <td>40.734097</td>\n",
       "      <td>N0</td>\n",
       "      <td>N0</td>\n",
       "    </tr>\n",
       "    <tr>\n",
       "      <th>1</th>\n",
       "      <td>-73.986717</td>\n",
       "      <td>-73.986730</td>\n",
       "      <td>40.734097</td>\n",
       "      <td>40.734094</td>\n",
       "      <td>N0</td>\n",
       "      <td>N1</td>\n",
       "    </tr>\n",
       "    <tr>\n",
       "      <th>2</th>\n",
       "      <td>-73.986717</td>\n",
       "      <td>-73.986717</td>\n",
       "      <td>40.734097</td>\n",
       "      <td>40.734097</td>\n",
       "      <td>N0</td>\n",
       "      <td>N1</td>\n",
       "    </tr>\n",
       "    <tr>\n",
       "      <th>3</th>\n",
       "      <td>-73.986717</td>\n",
       "      <td>-73.986730</td>\n",
       "      <td>40.734097</td>\n",
       "      <td>40.734094</td>\n",
       "      <td>N0</td>\n",
       "      <td>N2</td>\n",
       "    </tr>\n",
       "    <tr>\n",
       "      <th>4</th>\n",
       "      <td>-73.986730</td>\n",
       "      <td>-73.986717</td>\n",
       "      <td>40.734094</td>\n",
       "      <td>40.734097</td>\n",
       "      <td>N1</td>\n",
       "      <td>N0</td>\n",
       "    </tr>\n",
       "  </tbody>\n",
       "</table>\n",
       "</div>"
      ],
      "text/plain": [
       "      LONG_x     LONG_y      LAT_x      LAT_y letter_x letter_y\n",
       "0 -73.986717 -73.986717  40.734097  40.734097       N0       N0\n",
       "1 -73.986717 -73.986730  40.734097  40.734094       N0       N1\n",
       "2 -73.986717 -73.986717  40.734097  40.734097       N0       N1\n",
       "3 -73.986717 -73.986730  40.734097  40.734094       N0       N2\n",
       "4 -73.986730 -73.986717  40.734094  40.734097       N1       N0"
      ]
     },
     "metadata": {},
     "output_type": "display_data"
    },
    {
     "data": {
      "text/html": [
       "<div>\n",
       "<style scoped>\n",
       "    .dataframe tbody tr th:only-of-type {\n",
       "        vertical-align: middle;\n",
       "    }\n",
       "\n",
       "    .dataframe tbody tr th {\n",
       "        vertical-align: top;\n",
       "    }\n",
       "\n",
       "    .dataframe thead th {\n",
       "        text-align: right;\n",
       "    }\n",
       "</style>\n",
       "<table border=\"1\" class=\"dataframe\">\n",
       "  <thead>\n",
       "    <tr style=\"text-align: right;\">\n",
       "      <th></th>\n",
       "      <th>LONG_x</th>\n",
       "      <th>LONG_y</th>\n",
       "      <th>LAT_x</th>\n",
       "      <th>LAT_y</th>\n",
       "      <th>letter_x</th>\n",
       "      <th>letter_y</th>\n",
       "    </tr>\n",
       "  </thead>\n",
       "  <tbody>\n",
       "    <tr>\n",
       "      <th>1</th>\n",
       "      <td>-73.986717</td>\n",
       "      <td>-73.986730</td>\n",
       "      <td>40.734097</td>\n",
       "      <td>40.734094</td>\n",
       "      <td>N0</td>\n",
       "      <td>N1</td>\n",
       "    </tr>\n",
       "    <tr>\n",
       "      <th>2</th>\n",
       "      <td>-73.986717</td>\n",
       "      <td>-73.986717</td>\n",
       "      <td>40.734097</td>\n",
       "      <td>40.734097</td>\n",
       "      <td>N0</td>\n",
       "      <td>N1</td>\n",
       "    </tr>\n",
       "    <tr>\n",
       "      <th>7</th>\n",
       "      <td>-73.986730</td>\n",
       "      <td>-73.986730</td>\n",
       "      <td>40.734094</td>\n",
       "      <td>40.734094</td>\n",
       "      <td>N1</td>\n",
       "      <td>N2</td>\n",
       "    </tr>\n",
       "    <tr>\n",
       "      <th>11</th>\n",
       "      <td>-73.986717</td>\n",
       "      <td>-73.986730</td>\n",
       "      <td>40.734097</td>\n",
       "      <td>40.734094</td>\n",
       "      <td>N1</td>\n",
       "      <td>N2</td>\n",
       "    </tr>\n",
       "  </tbody>\n",
       "</table>\n",
       "</div>"
      ],
      "text/plain": [
       "       LONG_x     LONG_y      LAT_x      LAT_y letter_x letter_y\n",
       "1  -73.986717 -73.986730  40.734097  40.734094       N0       N1\n",
       "2  -73.986717 -73.986717  40.734097  40.734097       N0       N1\n",
       "7  -73.986730 -73.986730  40.734094  40.734094       N1       N2\n",
       "11 -73.986717 -73.986730  40.734097  40.734094       N1       N2"
      ]
     },
     "metadata": {},
     "output_type": "display_data"
    },
    {
     "name": "stdout",
     "output_type": "stream",
     "text": [
      "Index(['OBJECTID.x_x', 'CENSUS_NAMEFRSTB_x', 'CENSUS_NAMELASTB_x',\n",
      "       'CENSUS_AGE_x', 'CENSUS_OCCLABELB_x', 'CENSUS_MATCH_ADDR_x',\n",
      "       'CENSUS_SEGMENT_ID_x', 'WARD_NUM_x', 'CD_ED_x', 'OBJECTID_x',\n",
      "       'MATCH_ADDR_x', 'CD_FIRST_NAME_x', 'CD_LAST_NAME_x', 'CD_OCCUPATION_x',\n",
      "       'CD_FINAL_HOUSENUM_x', 'jw_fn_x', 'jw_ln_x', 'jw_score_x',\n",
      "       'occ_listed_x', 'age_score_x', 'cd_count_x', 'census_count_x',\n",
      "       'confidence_score_x', 'CD_ID_x', 'CENSUS_ID_x',\n",
      "       'census_count_inverse_x', 'cd_count_inverse_x', 'LONG_x', 'LAT_x',\n",
      "       'confidence_score_0_x', 'confidence_score_1_x', 'confidence_score_2_x',\n",
      "       'anchor_x', 'group_ID_x', 'node_ID_x', 'letter_x', 'in_cluster_x',\n",
      "       'key', 'OBJECTID.x_y', 'CENSUS_NAMEFRSTB_y', 'CENSUS_NAMELASTB_y',\n",
      "       'CENSUS_AGE_y', 'CENSUS_OCCLABELB_y', 'CENSUS_MATCH_ADDR_y',\n",
      "       'CENSUS_SEGMENT_ID_y', 'WARD_NUM_y', 'CD_ED_y', 'OBJECTID_y',\n",
      "       'MATCH_ADDR_y', 'CD_FIRST_NAME_y', 'CD_LAST_NAME_y', 'CD_OCCUPATION_y',\n",
      "       'CD_FINAL_HOUSENUM_y', 'jw_fn_y', 'jw_ln_y', 'jw_score_y',\n",
      "       'occ_listed_y', 'age_score_y', 'cd_count_y', 'census_count_y',\n",
      "       'confidence_score_y', 'CD_ID_y', 'CENSUS_ID_y',\n",
      "       'census_count_inverse_y', 'cd_count_inverse_y', 'LONG_y', 'LAT_y',\n",
      "       'confidence_score_0_y', 'confidence_score_1_y', 'confidence_score_2_y',\n",
      "       'anchor_y', 'group_ID_y', 'node_ID_y', 'letter_y', 'in_cluster_y'],\n",
      "      dtype='object')\n"
     ]
    },
    {
     "data": {
      "text/html": [
       "<div>\n",
       "<style scoped>\n",
       "    .dataframe tbody tr th:only-of-type {\n",
       "        vertical-align: middle;\n",
       "    }\n",
       "\n",
       "    .dataframe tbody tr th {\n",
       "        vertical-align: top;\n",
       "    }\n",
       "\n",
       "    .dataframe thead th {\n",
       "        text-align: right;\n",
       "    }\n",
       "</style>\n",
       "<table border=\"1\" class=\"dataframe\">\n",
       "  <thead>\n",
       "    <tr style=\"text-align: right;\">\n",
       "      <th></th>\n",
       "      <th>LONG</th>\n",
       "      <th>LAT</th>\n",
       "      <th>letter</th>\n",
       "    </tr>\n",
       "  </thead>\n",
       "  <tbody>\n",
       "    <tr>\n",
       "      <th>0</th>\n",
       "      <td>-73.986730</td>\n",
       "      <td>40.734094</td>\n",
       "      <td>N0</td>\n",
       "    </tr>\n",
       "    <tr>\n",
       "      <th>1</th>\n",
       "      <td>-73.986717</td>\n",
       "      <td>40.734097</td>\n",
       "      <td>N0</td>\n",
       "    </tr>\n",
       "  </tbody>\n",
       "</table>\n",
       "</div>"
      ],
      "text/plain": [
       "        LONG        LAT letter\n",
       "0 -73.986730  40.734094     N0\n",
       "1 -73.986717  40.734097     N0"
      ]
     },
     "metadata": {},
     "output_type": "display_data"
    },
    {
     "name": "stdout",
     "output_type": "stream",
     "text": [
      "Index(['OBJECTID.x', 'CENSUS_NAMEFRSTB', 'CENSUS_NAMELASTB', 'CENSUS_AGE',\n",
      "       'CENSUS_OCCLABELB', 'CENSUS_MATCH_ADDR', 'CENSUS_SEGMENT_ID',\n",
      "       'WARD_NUM', 'CD_ED', 'OBJECTID', 'MATCH_ADDR', 'CD_FIRST_NAME',\n",
      "       'CD_LAST_NAME', 'CD_OCCUPATION', 'CD_FINAL_HOUSENUM', 'jw_fn', 'jw_ln',\n",
      "       'jw_score', 'occ_listed', 'age_score', 'cd_count', 'census_count',\n",
      "       'confidence_score', 'CD_ID', 'CENSUS_ID', 'census_count_inverse',\n",
      "       'cd_count_inverse', 'LONG', 'LAT', 'confidence_score_0',\n",
      "       'confidence_score_1', 'confidence_score_2', 'anchor', 'group_ID',\n",
      "       'node_ID', 'letter', 'in_cluster'],\n",
      "      dtype='object')\n",
      "post merge Index(['OBJECTID.x_x', 'CENSUS_NAMEFRSTB_x', 'CENSUS_NAMELASTB_x',\n",
      "       'CENSUS_AGE_x', 'CENSUS_OCCLABELB_x', 'CENSUS_MATCH_ADDR_x',\n",
      "       'CENSUS_SEGMENT_ID_x', 'WARD_NUM_x', 'CD_ED_x', 'OBJECTID_x',\n",
      "       'MATCH_ADDR_x', 'CD_FIRST_NAME_x', 'CD_LAST_NAME_x', 'CD_OCCUPATION_x',\n",
      "       'CD_FINAL_HOUSENUM_x', 'jw_fn_x', 'jw_ln_x', 'jw_score_x',\n",
      "       'occ_listed_x', 'age_score_x', 'cd_count_x', 'census_count_x',\n",
      "       'confidence_score_x', 'CD_ID_x', 'CENSUS_ID_x',\n",
      "       'census_count_inverse_x', 'cd_count_inverse_x', 'LONG_x', 'LAT_x',\n",
      "       'confidence_score_0_x', 'confidence_score_1_x', 'confidence_score_2_x',\n",
      "       'anchor_x', 'group_ID_x', 'node_ID_x', 'letter_x', 'in_cluster_x',\n",
      "       'key', 'OBJECTID.x_y', 'CENSUS_NAMEFRSTB_y', 'CENSUS_NAMELASTB_y',\n",
      "       'CENSUS_AGE_y', 'CENSUS_OCCLABELB_y', 'CENSUS_MATCH_ADDR_y',\n",
      "       'CENSUS_SEGMENT_ID_y', 'WARD_NUM_y', 'CD_ED_y', 'OBJECTID_y',\n",
      "       'MATCH_ADDR_y', 'CD_FIRST_NAME_y', 'CD_LAST_NAME_y', 'CD_OCCUPATION_y',\n",
      "       'CD_FINAL_HOUSENUM_y', 'jw_fn_y', 'jw_ln_y', 'jw_score_y',\n",
      "       'occ_listed_y', 'age_score_y', 'cd_count_y', 'census_count_y',\n",
      "       'confidence_score_y', 'CD_ID_y', 'CENSUS_ID_y',\n",
      "       'census_count_inverse_y', 'cd_count_inverse_y', 'LONG_y', 'LAT_y',\n",
      "       'confidence_score_0_y', 'confidence_score_1_y', 'confidence_score_2_y',\n",
      "       'anchor_y', 'group_ID_y', 'node_ID_y', 'letter_y', 'in_cluster_y'],\n",
      "      dtype='object')\n"
     ]
    },
    {
     "data": {
      "text/html": [
       "<div>\n",
       "<style scoped>\n",
       "    .dataframe tbody tr th:only-of-type {\n",
       "        vertical-align: middle;\n",
       "    }\n",
       "\n",
       "    .dataframe tbody tr th {\n",
       "        vertical-align: top;\n",
       "    }\n",
       "\n",
       "    .dataframe thead th {\n",
       "        text-align: right;\n",
       "    }\n",
       "</style>\n",
       "<table border=\"1\" class=\"dataframe\">\n",
       "  <thead>\n",
       "    <tr style=\"text-align: right;\">\n",
       "      <th></th>\n",
       "      <th>LONG_x</th>\n",
       "      <th>LONG_y</th>\n",
       "      <th>LAT_x</th>\n",
       "      <th>LAT_y</th>\n",
       "      <th>letter_x</th>\n",
       "      <th>letter_y</th>\n",
       "    </tr>\n",
       "  </thead>\n",
       "  <tbody>\n",
       "    <tr>\n",
       "      <th>0</th>\n",
       "      <td>-73.986730</td>\n",
       "      <td>-73.986730</td>\n",
       "      <td>40.734094</td>\n",
       "      <td>40.734094</td>\n",
       "      <td>N0</td>\n",
       "      <td>N0</td>\n",
       "    </tr>\n",
       "    <tr>\n",
       "      <th>1</th>\n",
       "      <td>-73.986730</td>\n",
       "      <td>-73.986717</td>\n",
       "      <td>40.734094</td>\n",
       "      <td>40.734097</td>\n",
       "      <td>N0</td>\n",
       "      <td>N0</td>\n",
       "    </tr>\n",
       "    <tr>\n",
       "      <th>2</th>\n",
       "      <td>-73.986717</td>\n",
       "      <td>-73.986730</td>\n",
       "      <td>40.734097</td>\n",
       "      <td>40.734094</td>\n",
       "      <td>N0</td>\n",
       "      <td>N0</td>\n",
       "    </tr>\n",
       "    <tr>\n",
       "      <th>3</th>\n",
       "      <td>-73.986717</td>\n",
       "      <td>-73.986717</td>\n",
       "      <td>40.734097</td>\n",
       "      <td>40.734097</td>\n",
       "      <td>N0</td>\n",
       "      <td>N0</td>\n",
       "    </tr>\n",
       "  </tbody>\n",
       "</table>\n",
       "</div>"
      ],
      "text/plain": [
       "      LONG_x     LONG_y      LAT_x      LAT_y letter_x letter_y\n",
       "0 -73.986730 -73.986730  40.734094  40.734094       N0       N0\n",
       "1 -73.986730 -73.986717  40.734094  40.734097       N0       N0\n",
       "2 -73.986717 -73.986730  40.734097  40.734094       N0       N0\n",
       "3 -73.986717 -73.986717  40.734097  40.734097       N0       N0"
      ]
     },
     "metadata": {},
     "output_type": "display_data"
    },
    {
     "data": {
      "text/html": [
       "<div>\n",
       "<style scoped>\n",
       "    .dataframe tbody tr th:only-of-type {\n",
       "        vertical-align: middle;\n",
       "    }\n",
       "\n",
       "    .dataframe tbody tr th {\n",
       "        vertical-align: top;\n",
       "    }\n",
       "\n",
       "    .dataframe thead th {\n",
       "        text-align: right;\n",
       "    }\n",
       "</style>\n",
       "<table border=\"1\" class=\"dataframe\">\n",
       "  <thead>\n",
       "    <tr style=\"text-align: right;\">\n",
       "      <th></th>\n",
       "      <th>LONG_x</th>\n",
       "      <th>LONG_y</th>\n",
       "      <th>LAT_x</th>\n",
       "      <th>LAT_y</th>\n",
       "      <th>letter_x</th>\n",
       "      <th>letter_y</th>\n",
       "    </tr>\n",
       "  </thead>\n",
       "  <tbody>\n",
       "  </tbody>\n",
       "</table>\n",
       "</div>"
      ],
      "text/plain": [
       "Empty DataFrame\n",
       "Columns: [LONG_x, LONG_y, LAT_x, LAT_y, letter_x, letter_y]\n",
       "Index: []"
      ]
     },
     "metadata": {},
     "output_type": "display_data"
    },
    {
     "name": "stdout",
     "output_type": "stream",
     "text": [
      "Index(['OBJECTID.x_x', 'CENSUS_NAMEFRSTB_x', 'CENSUS_NAMELASTB_x',\n",
      "       'CENSUS_AGE_x', 'CENSUS_OCCLABELB_x', 'CENSUS_MATCH_ADDR_x',\n",
      "       'CENSUS_SEGMENT_ID_x', 'WARD_NUM_x', 'CD_ED_x', 'OBJECTID_x',\n",
      "       'MATCH_ADDR_x', 'CD_FIRST_NAME_x', 'CD_LAST_NAME_x', 'CD_OCCUPATION_x',\n",
      "       'CD_FINAL_HOUSENUM_x', 'jw_fn_x', 'jw_ln_x', 'jw_score_x',\n",
      "       'occ_listed_x', 'age_score_x', 'cd_count_x', 'census_count_x',\n",
      "       'confidence_score_x', 'CD_ID_x', 'CENSUS_ID_x',\n",
      "       'census_count_inverse_x', 'cd_count_inverse_x', 'LONG_x', 'LAT_x',\n",
      "       'confidence_score_0_x', 'confidence_score_1_x', 'confidence_score_2_x',\n",
      "       'anchor_x', 'group_ID_x', 'node_ID_x', 'letter_x', 'in_cluster_x',\n",
      "       'key', 'OBJECTID.x_y', 'CENSUS_NAMEFRSTB_y', 'CENSUS_NAMELASTB_y',\n",
      "       'CENSUS_AGE_y', 'CENSUS_OCCLABELB_y', 'CENSUS_MATCH_ADDR_y',\n",
      "       'CENSUS_SEGMENT_ID_y', 'WARD_NUM_y', 'CD_ED_y', 'OBJECTID_y',\n",
      "       'MATCH_ADDR_y', 'CD_FIRST_NAME_y', 'CD_LAST_NAME_y', 'CD_OCCUPATION_y',\n",
      "       'CD_FINAL_HOUSENUM_y', 'jw_fn_y', 'jw_ln_y', 'jw_score_y',\n",
      "       'occ_listed_y', 'age_score_y', 'cd_count_y', 'census_count_y',\n",
      "       'confidence_score_y', 'CD_ID_y', 'CENSUS_ID_y',\n",
      "       'census_count_inverse_y', 'cd_count_inverse_y', 'LONG_y', 'LAT_y',\n",
      "       'confidence_score_0_y', 'confidence_score_1_y', 'confidence_score_2_y',\n",
      "       'anchor_y', 'group_ID_y', 'node_ID_y', 'letter_y', 'in_cluster_y'],\n",
      "      dtype='object')\n"
     ]
    },
    {
     "ename": "ValueError",
     "evalue": "Cannot set a frame with no defined index and a value that cannot be converted to a Series",
     "output_type": "error",
     "traceback": [
      "\u001b[0;31m---------------------------------------------------------------------------\u001b[0m",
      "\u001b[0;31mValueError\u001b[0m                                Traceback (most recent call last)",
      "\u001b[0;32m~/anaconda3/lib/python3.7/site-packages/pandas/core/frame.py\u001b[0m in \u001b[0;36m_ensure_valid_index\u001b[0;34m(self, value)\u001b[0m\n\u001b[1;32m   3539\u001b[0m             \u001b[0;32mtry\u001b[0m\u001b[0;34m:\u001b[0m\u001b[0;34m\u001b[0m\u001b[0;34m\u001b[0m\u001b[0m\n\u001b[0;32m-> 3540\u001b[0;31m                 \u001b[0mvalue\u001b[0m \u001b[0;34m=\u001b[0m \u001b[0mSeries\u001b[0m\u001b[0;34m(\u001b[0m\u001b[0mvalue\u001b[0m\u001b[0;34m)\u001b[0m\u001b[0;34m\u001b[0m\u001b[0;34m\u001b[0m\u001b[0m\n\u001b[0m\u001b[1;32m   3541\u001b[0m             \u001b[0;32mexcept\u001b[0m \u001b[0;34m(\u001b[0m\u001b[0mValueError\u001b[0m\u001b[0;34m,\u001b[0m \u001b[0mNotImplementedError\u001b[0m\u001b[0;34m,\u001b[0m \u001b[0mTypeError\u001b[0m\u001b[0;34m)\u001b[0m\u001b[0;34m:\u001b[0m\u001b[0;34m\u001b[0m\u001b[0;34m\u001b[0m\u001b[0m\n",
      "\u001b[0;32m~/anaconda3/lib/python3.7/site-packages/pandas/core/series.py\u001b[0m in \u001b[0;36m__init__\u001b[0;34m(self, data, index, dtype, name, copy, fastpath)\u001b[0m\n\u001b[1;32m    315\u001b[0m \u001b[0;34m\u001b[0m\u001b[0m\n\u001b[0;32m--> 316\u001b[0;31m                 \u001b[0mdata\u001b[0m \u001b[0;34m=\u001b[0m \u001b[0mSingleBlockManager\u001b[0m\u001b[0;34m(\u001b[0m\u001b[0mdata\u001b[0m\u001b[0;34m,\u001b[0m \u001b[0mindex\u001b[0m\u001b[0;34m,\u001b[0m \u001b[0mfastpath\u001b[0m\u001b[0;34m=\u001b[0m\u001b[0;32mTrue\u001b[0m\u001b[0;34m)\u001b[0m\u001b[0;34m\u001b[0m\u001b[0;34m\u001b[0m\u001b[0m\n\u001b[0m\u001b[1;32m    317\u001b[0m \u001b[0;34m\u001b[0m\u001b[0m\n",
      "\u001b[0;32m~/anaconda3/lib/python3.7/site-packages/pandas/core/internals/managers.py\u001b[0m in \u001b[0;36m__init__\u001b[0;34m(self, block, axis, do_integrity_check, fastpath)\u001b[0m\n\u001b[1;32m   1515\u001b[0m         \u001b[0;32mif\u001b[0m \u001b[0;32mnot\u001b[0m \u001b[0misinstance\u001b[0m\u001b[0;34m(\u001b[0m\u001b[0mblock\u001b[0m\u001b[0;34m,\u001b[0m \u001b[0mBlock\u001b[0m\u001b[0;34m)\u001b[0m\u001b[0;34m:\u001b[0m\u001b[0;34m\u001b[0m\u001b[0;34m\u001b[0m\u001b[0m\n\u001b[0;32m-> 1516\u001b[0;31m             \u001b[0mblock\u001b[0m \u001b[0;34m=\u001b[0m \u001b[0mmake_block\u001b[0m\u001b[0;34m(\u001b[0m\u001b[0mblock\u001b[0m\u001b[0;34m,\u001b[0m \u001b[0mplacement\u001b[0m\u001b[0;34m=\u001b[0m\u001b[0mslice\u001b[0m\u001b[0;34m(\u001b[0m\u001b[0;36m0\u001b[0m\u001b[0;34m,\u001b[0m \u001b[0mlen\u001b[0m\u001b[0;34m(\u001b[0m\u001b[0maxis\u001b[0m\u001b[0;34m)\u001b[0m\u001b[0;34m)\u001b[0m\u001b[0;34m,\u001b[0m \u001b[0mndim\u001b[0m\u001b[0;34m=\u001b[0m\u001b[0;36m1\u001b[0m\u001b[0;34m)\u001b[0m\u001b[0;34m\u001b[0m\u001b[0;34m\u001b[0m\u001b[0m\n\u001b[0m\u001b[1;32m   1517\u001b[0m \u001b[0;34m\u001b[0m\u001b[0m\n",
      "\u001b[0;32m~/anaconda3/lib/python3.7/site-packages/pandas/core/internals/blocks.py\u001b[0m in \u001b[0;36mmake_block\u001b[0;34m(values, placement, klass, ndim, dtype, fastpath)\u001b[0m\n\u001b[1;32m   3283\u001b[0m \u001b[0;34m\u001b[0m\u001b[0m\n\u001b[0;32m-> 3284\u001b[0;31m     \u001b[0;32mreturn\u001b[0m \u001b[0mklass\u001b[0m\u001b[0;34m(\u001b[0m\u001b[0mvalues\u001b[0m\u001b[0;34m,\u001b[0m \u001b[0mndim\u001b[0m\u001b[0;34m=\u001b[0m\u001b[0mndim\u001b[0m\u001b[0;34m,\u001b[0m \u001b[0mplacement\u001b[0m\u001b[0;34m=\u001b[0m\u001b[0mplacement\u001b[0m\u001b[0;34m)\u001b[0m\u001b[0;34m\u001b[0m\u001b[0;34m\u001b[0m\u001b[0m\n\u001b[0m\u001b[1;32m   3285\u001b[0m \u001b[0;34m\u001b[0m\u001b[0m\n",
      "\u001b[0;32m~/anaconda3/lib/python3.7/site-packages/pandas/core/internals/blocks.py\u001b[0m in \u001b[0;36m__init__\u001b[0;34m(self, values, placement, ndim)\u001b[0m\n\u001b[1;32m   2791\u001b[0m \u001b[0;34m\u001b[0m\u001b[0m\n\u001b[0;32m-> 2792\u001b[0;31m         \u001b[0msuper\u001b[0m\u001b[0;34m(\u001b[0m\u001b[0;34m)\u001b[0m\u001b[0;34m.\u001b[0m\u001b[0m__init__\u001b[0m\u001b[0;34m(\u001b[0m\u001b[0mvalues\u001b[0m\u001b[0;34m,\u001b[0m \u001b[0mndim\u001b[0m\u001b[0;34m=\u001b[0m\u001b[0mndim\u001b[0m\u001b[0;34m,\u001b[0m \u001b[0mplacement\u001b[0m\u001b[0;34m=\u001b[0m\u001b[0mplacement\u001b[0m\u001b[0;34m)\u001b[0m\u001b[0;34m\u001b[0m\u001b[0;34m\u001b[0m\u001b[0m\n\u001b[0m\u001b[1;32m   2793\u001b[0m \u001b[0;34m\u001b[0m\u001b[0m\n",
      "\u001b[0;32m~/anaconda3/lib/python3.7/site-packages/pandas/core/internals/blocks.py\u001b[0m in \u001b[0;36m__init__\u001b[0;34m(self, values, placement, ndim)\u001b[0m\n\u001b[1;32m    127\u001b[0m                 \u001b[0;34m\"Wrong number of items passed {val}, placement implies \"\u001b[0m\u001b[0;34m\u001b[0m\u001b[0;34m\u001b[0m\u001b[0m\n\u001b[0;32m--> 128\u001b[0;31m                 \u001b[0;34m\"{mgr}\"\u001b[0m\u001b[0;34m.\u001b[0m\u001b[0mformat\u001b[0m\u001b[0;34m(\u001b[0m\u001b[0mval\u001b[0m\u001b[0;34m=\u001b[0m\u001b[0mlen\u001b[0m\u001b[0;34m(\u001b[0m\u001b[0mself\u001b[0m\u001b[0;34m.\u001b[0m\u001b[0mvalues\u001b[0m\u001b[0;34m)\u001b[0m\u001b[0;34m,\u001b[0m \u001b[0mmgr\u001b[0m\u001b[0;34m=\u001b[0m\u001b[0mlen\u001b[0m\u001b[0;34m(\u001b[0m\u001b[0mself\u001b[0m\u001b[0;34m.\u001b[0m\u001b[0mmgr_locs\u001b[0m\u001b[0;34m)\u001b[0m\u001b[0;34m)\u001b[0m\u001b[0;34m\u001b[0m\u001b[0;34m\u001b[0m\u001b[0m\n\u001b[0m\u001b[1;32m    129\u001b[0m             )\n",
      "\u001b[0;31mValueError\u001b[0m: Wrong number of items passed 75, placement implies 0",
      "\nDuring handling of the above exception, another exception occurred:\n",
      "\u001b[0;31mValueError\u001b[0m                                Traceback (most recent call last)",
      "\u001b[0;32m<ipython-input-32-8f50fce89b08>\u001b[0m in \u001b[0;36m<module>\u001b[0;34m\u001b[0m\n\u001b[0;32m----> 1\u001b[0;31m \u001b[0mdebugging\u001b[0m \u001b[0;34m=\u001b[0m \u001b[0mconfidence_score_tuning\u001b[0m\u001b[0;34m(\u001b[0m\u001b[0mparam_grid\u001b[0m\u001b[0;34m,\u001b[0m \u001b[0mmatch_sample\u001b[0m\u001b[0;34m,\u001b[0m \u001b[0mcensus\u001b[0m\u001b[0;34m,\u001b[0m \u001b[0mlatlng\u001b[0m\u001b[0;34m)\u001b[0m\u001b[0;34m\u001b[0m\u001b[0;34m\u001b[0m\u001b[0m\n\u001b[0m",
      "\u001b[0;32m<ipython-input-24-8238e1fa7200>\u001b[0m in \u001b[0;36mconfidence_score_tuning\u001b[0;34m(param_grid, df_allcols, df_census, df_cd)\u001b[0m\n\u001b[1;32m     24\u001b[0m \u001b[0;34m\u001b[0m\u001b[0m\n\u001b[1;32m     25\u001b[0m         \u001b[0;31m#try:\u001b[0m\u001b[0;34m\u001b[0m\u001b[0;34m\u001b[0m\u001b[0;34m\u001b[0m\u001b[0m\n\u001b[0;32m---> 26\u001b[0;31m         \u001b[0mbasic\u001b[0m\u001b[0;34m.\u001b[0m\u001b[0mrun_disambiguation\u001b[0m\u001b[0;34m(\u001b[0m\u001b[0;34m)\u001b[0m\u001b[0;34m\u001b[0m\u001b[0;34m\u001b[0m\u001b[0m\n\u001b[0m\u001b[1;32m     27\u001b[0m \u001b[0;31m#         except:\u001b[0m\u001b[0;34m\u001b[0m\u001b[0;34m\u001b[0m\u001b[0;34m\u001b[0m\u001b[0m\n\u001b[1;32m     28\u001b[0m \u001b[0;31m#             continue\u001b[0m\u001b[0;34m\u001b[0m\u001b[0;34m\u001b[0m\u001b[0;34m\u001b[0m\u001b[0m\n",
      "\u001b[0;32m~/Documents/HNYC/SpatialLinkage/disambiguation/__init__.py\u001b[0m in \u001b[0;36mrun_disambiguation\u001b[0;34m(self, cluster, k_between, cluster_kwargs, path_kwargs)\u001b[0m\n\u001b[1;32m     33\u001b[0m         \u001b[0mprint\u001b[0m\u001b[0;34m(\u001b[0m\u001b[0;34m\"Number of Subgraphs: \"\u001b[0m \u001b[0;34m+\u001b[0m \u001b[0mstr\u001b[0m\u001b[0;34m(\u001b[0m\u001b[0mlen\u001b[0m\u001b[0;34m(\u001b[0m\u001b[0msub_groups\u001b[0m\u001b[0;34m)\u001b[0m\u001b[0;34m)\u001b[0m\u001b[0;34m)\u001b[0m\u001b[0;34m\u001b[0m\u001b[0;34m\u001b[0m\u001b[0m\n\u001b[1;32m     34\u001b[0m         \u001b[0;31m# iteratively apply algorithms onto each sub df\u001b[0m\u001b[0;34m\u001b[0m\u001b[0;34m\u001b[0m\u001b[0;34m\u001b[0m\u001b[0m\n\u001b[0;32m---> 35\u001b[0;31m         \u001b[0msub_groups\u001b[0m \u001b[0;34m=\u001b[0m \u001b[0;34m[\u001b[0m\u001b[0mdl\u001b[0m\u001b[0;34m.\u001b[0m\u001b[0mapply_algo\u001b[0m\u001b[0;34m(\u001b[0m\u001b[0msub_groups\u001b[0m\u001b[0;34m,\u001b[0m \u001b[0mi\u001b[0m\u001b[0;34m,\u001b[0m \u001b[0mcluster\u001b[0m\u001b[0;34m=\u001b[0m\u001b[0mcluster\u001b[0m\u001b[0;34m,\u001b[0m \u001b[0mcensus_id\u001b[0m\u001b[0;34m=\u001b[0m\u001b[0mself\u001b[0m\u001b[0;34m.\u001b[0m\u001b[0mcensus_id\u001b[0m\u001b[0;34m,\u001b[0m \u001b[0mconfidence\u001b[0m\u001b[0;34m=\u001b[0m\u001b[0mself\u001b[0m\u001b[0;34m.\u001b[0m\u001b[0mconfidence\u001b[0m\u001b[0;34m,\u001b[0m \u001b[0mlat\u001b[0m\u001b[0;34m=\u001b[0m\u001b[0mself\u001b[0m\u001b[0;34m.\u001b[0m\u001b[0mlat\u001b[0m\u001b[0;34m,\u001b[0m \u001b[0mlon\u001b[0m\u001b[0;34m=\u001b[0m\u001b[0mself\u001b[0m\u001b[0;34m.\u001b[0m\u001b[0mlon\u001b[0m\u001b[0;34m,\u001b[0m \u001b[0mk_between\u001b[0m\u001b[0;34m=\u001b[0m\u001b[0mk_between\u001b[0m\u001b[0;34m,\u001b[0m \u001b[0mcluster_kwargs\u001b[0m\u001b[0;34m=\u001b[0m\u001b[0mcluster_kwargs\u001b[0m\u001b[0;34m,\u001b[0m \u001b[0mpath_kwargs\u001b[0m\u001b[0;34m=\u001b[0m\u001b[0mpath_kwargs\u001b[0m\u001b[0;34m)\u001b[0m \u001b[0;32mfor\u001b[0m \u001b[0mi\u001b[0m \u001b[0;32min\u001b[0m \u001b[0mrange\u001b[0m\u001b[0;34m(\u001b[0m\u001b[0;36m0\u001b[0m\u001b[0;34m,\u001b[0m \u001b[0mlen\u001b[0m\u001b[0;34m(\u001b[0m\u001b[0msub_groups\u001b[0m\u001b[0;34m)\u001b[0m\u001b[0;34m)\u001b[0m\u001b[0;34m]\u001b[0m\u001b[0;34m\u001b[0m\u001b[0;34m\u001b[0m\u001b[0m\n\u001b[0m\u001b[1;32m     36\u001b[0m \u001b[0;34m\u001b[0m\u001b[0m\n\u001b[1;32m     37\u001b[0m         \u001b[0mprint\u001b[0m\u001b[0;34m(\u001b[0m\u001b[0;34m\"Cleaning output (3/4)...\"\u001b[0m\u001b[0;34m)\u001b[0m\u001b[0;34m\u001b[0m\u001b[0;34m\u001b[0m\u001b[0m\n",
      "\u001b[0;32m~/Documents/HNYC/SpatialLinkage/disambiguation/__init__.py\u001b[0m in \u001b[0;36m<listcomp>\u001b[0;34m(.0)\u001b[0m\n\u001b[1;32m     33\u001b[0m         \u001b[0mprint\u001b[0m\u001b[0;34m(\u001b[0m\u001b[0;34m\"Number of Subgraphs: \"\u001b[0m \u001b[0;34m+\u001b[0m \u001b[0mstr\u001b[0m\u001b[0;34m(\u001b[0m\u001b[0mlen\u001b[0m\u001b[0;34m(\u001b[0m\u001b[0msub_groups\u001b[0m\u001b[0;34m)\u001b[0m\u001b[0;34m)\u001b[0m\u001b[0;34m)\u001b[0m\u001b[0;34m\u001b[0m\u001b[0;34m\u001b[0m\u001b[0m\n\u001b[1;32m     34\u001b[0m         \u001b[0;31m# iteratively apply algorithms onto each sub df\u001b[0m\u001b[0;34m\u001b[0m\u001b[0;34m\u001b[0m\u001b[0;34m\u001b[0m\u001b[0m\n\u001b[0;32m---> 35\u001b[0;31m         \u001b[0msub_groups\u001b[0m \u001b[0;34m=\u001b[0m \u001b[0;34m[\u001b[0m\u001b[0mdl\u001b[0m\u001b[0;34m.\u001b[0m\u001b[0mapply_algo\u001b[0m\u001b[0;34m(\u001b[0m\u001b[0msub_groups\u001b[0m\u001b[0;34m,\u001b[0m \u001b[0mi\u001b[0m\u001b[0;34m,\u001b[0m \u001b[0mcluster\u001b[0m\u001b[0;34m=\u001b[0m\u001b[0mcluster\u001b[0m\u001b[0;34m,\u001b[0m \u001b[0mcensus_id\u001b[0m\u001b[0;34m=\u001b[0m\u001b[0mself\u001b[0m\u001b[0;34m.\u001b[0m\u001b[0mcensus_id\u001b[0m\u001b[0;34m,\u001b[0m \u001b[0mconfidence\u001b[0m\u001b[0;34m=\u001b[0m\u001b[0mself\u001b[0m\u001b[0;34m.\u001b[0m\u001b[0mconfidence\u001b[0m\u001b[0;34m,\u001b[0m \u001b[0mlat\u001b[0m\u001b[0;34m=\u001b[0m\u001b[0mself\u001b[0m\u001b[0;34m.\u001b[0m\u001b[0mlat\u001b[0m\u001b[0;34m,\u001b[0m \u001b[0mlon\u001b[0m\u001b[0;34m=\u001b[0m\u001b[0mself\u001b[0m\u001b[0;34m.\u001b[0m\u001b[0mlon\u001b[0m\u001b[0;34m,\u001b[0m \u001b[0mk_between\u001b[0m\u001b[0;34m=\u001b[0m\u001b[0mk_between\u001b[0m\u001b[0;34m,\u001b[0m \u001b[0mcluster_kwargs\u001b[0m\u001b[0;34m=\u001b[0m\u001b[0mcluster_kwargs\u001b[0m\u001b[0;34m,\u001b[0m \u001b[0mpath_kwargs\u001b[0m\u001b[0;34m=\u001b[0m\u001b[0mpath_kwargs\u001b[0m\u001b[0;34m)\u001b[0m \u001b[0;32mfor\u001b[0m \u001b[0mi\u001b[0m \u001b[0;32min\u001b[0m \u001b[0mrange\u001b[0m\u001b[0;34m(\u001b[0m\u001b[0;36m0\u001b[0m\u001b[0;34m,\u001b[0m \u001b[0mlen\u001b[0m\u001b[0;34m(\u001b[0m\u001b[0msub_groups\u001b[0m\u001b[0;34m)\u001b[0m\u001b[0;34m)\u001b[0m\u001b[0;34m]\u001b[0m\u001b[0;34m\u001b[0m\u001b[0;34m\u001b[0m\u001b[0m\n\u001b[0m\u001b[1;32m     36\u001b[0m \u001b[0;34m\u001b[0m\u001b[0m\n\u001b[1;32m     37\u001b[0m         \u001b[0mprint\u001b[0m\u001b[0;34m(\u001b[0m\u001b[0;34m\"Cleaning output (3/4)...\"\u001b[0m\u001b[0;34m)\u001b[0m\u001b[0;34m\u001b[0m\u001b[0;34m\u001b[0m\u001b[0m\n",
      "\u001b[0;32m~/Documents/HNYC/SpatialLinkage/disambiguation/disambiguation.py\u001b[0m in \u001b[0;36mapply_algo\u001b[0;34m(sub_groups, i, cluster, k_between, census_id, census_count, confidence, lat, lon, cluster_kwargs, path_kwargs)\u001b[0m\n\u001b[1;32m     34\u001b[0m \u001b[0;34m\u001b[0m\u001b[0m\n\u001b[1;32m     35\u001b[0m     \u001b[0;31m# create graph and k shortest paths centrality\u001b[0m\u001b[0;34m\u001b[0m\u001b[0;34m\u001b[0m\u001b[0;34m\u001b[0m\u001b[0m\n\u001b[0;32m---> 36\u001b[0;31m     \u001b[0mg\u001b[0m \u001b[0;34m=\u001b[0m \u001b[0mdp\u001b[0m\u001b[0;34m.\u001b[0m\u001b[0mcreate_path_graph\u001b[0m\u001b[0;34m(\u001b[0m\u001b[0mpath_df\u001b[0m\u001b[0;34m,\u001b[0m \u001b[0mcluster_col\u001b[0m\u001b[0;34m=\u001b[0m\u001b[0mcluster_arg\u001b[0m\u001b[0;34m,\u001b[0m \u001b[0mlat\u001b[0m\u001b[0;34m=\u001b[0m\u001b[0mlat\u001b[0m\u001b[0;34m,\u001b[0m \u001b[0mlon\u001b[0m\u001b[0;34m=\u001b[0m\u001b[0mlon\u001b[0m\u001b[0;34m)\u001b[0m\u001b[0;34m\u001b[0m\u001b[0;34m\u001b[0m\u001b[0m\n\u001b[0m\u001b[1;32m     37\u001b[0m \u001b[0;34m\u001b[0m\u001b[0m\n\u001b[1;32m     38\u001b[0m     \u001b[0;32mif\u001b[0m \u001b[0mk_between\u001b[0m\u001b[0;34m:\u001b[0m\u001b[0;34m\u001b[0m\u001b[0;34m\u001b[0m\u001b[0m\n",
      "\u001b[0;32m~/Documents/HNYC/SpatialLinkage/disambiguation/processing.py\u001b[0m in \u001b[0;36mcreate_path_graph\u001b[0;34m(g, cluster_col, lat, lon)\u001b[0m\n\u001b[1;32m    143\u001b[0m     \u001b[0mprint\u001b[0m\u001b[0;34m(\u001b[0m\u001b[0mg\u001b[0m\u001b[0;34m.\u001b[0m\u001b[0mcolumns\u001b[0m\u001b[0;34m)\u001b[0m\u001b[0;34m\u001b[0m\u001b[0;34m\u001b[0m\u001b[0m\n\u001b[1;32m    144\u001b[0m \u001b[0;34m\u001b[0m\u001b[0m\n\u001b[0;32m--> 145\u001b[0;31m     \u001b[0mg\u001b[0m\u001b[0;34m[\u001b[0m\u001b[0;34m'weight'\u001b[0m\u001b[0;34m]\u001b[0m \u001b[0;34m=\u001b[0m \u001b[0mg\u001b[0m\u001b[0;34m.\u001b[0m\u001b[0mapply\u001b[0m\u001b[0;34m(\u001b[0m\u001b[0;32mlambda\u001b[0m \u001b[0mrow\u001b[0m\u001b[0;34m:\u001b[0m \u001b[0mhaversine\u001b[0m\u001b[0;34m(\u001b[0m\u001b[0;34m(\u001b[0m\u001b[0mrow\u001b[0m\u001b[0;34m[\u001b[0m\u001b[0mlat\u001b[0m \u001b[0;34m+\u001b[0m \u001b[0;34m'_y'\u001b[0m\u001b[0;34m]\u001b[0m\u001b[0;34m,\u001b[0m \u001b[0mrow\u001b[0m\u001b[0;34m[\u001b[0m\u001b[0mlon\u001b[0m \u001b[0;34m+\u001b[0m \u001b[0;34m'_y'\u001b[0m\u001b[0;34m]\u001b[0m\u001b[0;34m)\u001b[0m\u001b[0;34m,\u001b[0m \u001b[0;34m(\u001b[0m\u001b[0mrow\u001b[0m\u001b[0;34m[\u001b[0m\u001b[0mlat\u001b[0m \u001b[0;34m+\u001b[0m \u001b[0;34m'_x'\u001b[0m\u001b[0;34m]\u001b[0m\u001b[0;34m,\u001b[0m \u001b[0mrow\u001b[0m\u001b[0;34m[\u001b[0m\u001b[0mlon\u001b[0m \u001b[0;34m+\u001b[0m \u001b[0;34m'_x'\u001b[0m\u001b[0;34m]\u001b[0m\u001b[0;34m)\u001b[0m\u001b[0;34m,\u001b[0m \u001b[0munit\u001b[0m\u001b[0;34m=\u001b[0m\u001b[0mUnit\u001b[0m\u001b[0;34m.\u001b[0m\u001b[0mMETERS\u001b[0m\u001b[0;34m)\u001b[0m\u001b[0;34m,\u001b[0m \u001b[0maxis\u001b[0m\u001b[0;34m=\u001b[0m\u001b[0;36m1\u001b[0m\u001b[0;34m)\u001b[0m\u001b[0;34m\u001b[0m\u001b[0;34m\u001b[0m\u001b[0m\n\u001b[0m\u001b[1;32m    146\u001b[0m \u001b[0;34m\u001b[0m\u001b[0m\n\u001b[1;32m    147\u001b[0m     \u001b[0;32mif\u001b[0m \u001b[0mcluster_col\u001b[0m \u001b[0;34m!=\u001b[0m \u001b[0;32mNone\u001b[0m\u001b[0;34m:\u001b[0m\u001b[0;34m\u001b[0m\u001b[0;34m\u001b[0m\u001b[0m\n",
      "\u001b[0;32m~/anaconda3/lib/python3.7/site-packages/pandas/core/frame.py\u001b[0m in \u001b[0;36m__setitem__\u001b[0;34m(self, key, value)\u001b[0m\n\u001b[1;32m   3485\u001b[0m         \u001b[0;32melse\u001b[0m\u001b[0;34m:\u001b[0m\u001b[0;34m\u001b[0m\u001b[0;34m\u001b[0m\u001b[0m\n\u001b[1;32m   3486\u001b[0m             \u001b[0;31m# set column\u001b[0m\u001b[0;34m\u001b[0m\u001b[0;34m\u001b[0m\u001b[0;34m\u001b[0m\u001b[0m\n\u001b[0;32m-> 3487\u001b[0;31m             \u001b[0mself\u001b[0m\u001b[0;34m.\u001b[0m\u001b[0m_set_item\u001b[0m\u001b[0;34m(\u001b[0m\u001b[0mkey\u001b[0m\u001b[0;34m,\u001b[0m \u001b[0mvalue\u001b[0m\u001b[0;34m)\u001b[0m\u001b[0;34m\u001b[0m\u001b[0;34m\u001b[0m\u001b[0m\n\u001b[0m\u001b[1;32m   3488\u001b[0m \u001b[0;34m\u001b[0m\u001b[0m\n\u001b[1;32m   3489\u001b[0m     \u001b[0;32mdef\u001b[0m \u001b[0m_setitem_slice\u001b[0m\u001b[0;34m(\u001b[0m\u001b[0mself\u001b[0m\u001b[0;34m,\u001b[0m \u001b[0mkey\u001b[0m\u001b[0;34m,\u001b[0m \u001b[0mvalue\u001b[0m\u001b[0;34m)\u001b[0m\u001b[0;34m:\u001b[0m\u001b[0;34m\u001b[0m\u001b[0;34m\u001b[0m\u001b[0m\n",
      "\u001b[0;32m~/anaconda3/lib/python3.7/site-packages/pandas/core/frame.py\u001b[0m in \u001b[0;36m_set_item\u001b[0;34m(self, key, value)\u001b[0m\n\u001b[1;32m   3561\u001b[0m         \"\"\"\n\u001b[1;32m   3562\u001b[0m \u001b[0;34m\u001b[0m\u001b[0m\n\u001b[0;32m-> 3563\u001b[0;31m         \u001b[0mself\u001b[0m\u001b[0;34m.\u001b[0m\u001b[0m_ensure_valid_index\u001b[0m\u001b[0;34m(\u001b[0m\u001b[0mvalue\u001b[0m\u001b[0;34m)\u001b[0m\u001b[0;34m\u001b[0m\u001b[0;34m\u001b[0m\u001b[0m\n\u001b[0m\u001b[1;32m   3564\u001b[0m         \u001b[0mvalue\u001b[0m \u001b[0;34m=\u001b[0m \u001b[0mself\u001b[0m\u001b[0;34m.\u001b[0m\u001b[0m_sanitize_column\u001b[0m\u001b[0;34m(\u001b[0m\u001b[0mkey\u001b[0m\u001b[0;34m,\u001b[0m \u001b[0mvalue\u001b[0m\u001b[0;34m)\u001b[0m\u001b[0;34m\u001b[0m\u001b[0;34m\u001b[0m\u001b[0m\n\u001b[1;32m   3565\u001b[0m         \u001b[0mNDFrame\u001b[0m\u001b[0;34m.\u001b[0m\u001b[0m_set_item\u001b[0m\u001b[0;34m(\u001b[0m\u001b[0mself\u001b[0m\u001b[0;34m,\u001b[0m \u001b[0mkey\u001b[0m\u001b[0;34m,\u001b[0m \u001b[0mvalue\u001b[0m\u001b[0;34m)\u001b[0m\u001b[0;34m\u001b[0m\u001b[0;34m\u001b[0m\u001b[0m\n",
      "\u001b[0;32m~/anaconda3/lib/python3.7/site-packages/pandas/core/frame.py\u001b[0m in \u001b[0;36m_ensure_valid_index\u001b[0;34m(self, value)\u001b[0m\n\u001b[1;32m   3541\u001b[0m             \u001b[0;32mexcept\u001b[0m \u001b[0;34m(\u001b[0m\u001b[0mValueError\u001b[0m\u001b[0;34m,\u001b[0m \u001b[0mNotImplementedError\u001b[0m\u001b[0;34m,\u001b[0m \u001b[0mTypeError\u001b[0m\u001b[0;34m)\u001b[0m\u001b[0;34m:\u001b[0m\u001b[0;34m\u001b[0m\u001b[0;34m\u001b[0m\u001b[0m\n\u001b[1;32m   3542\u001b[0m                 raise ValueError(\n\u001b[0;32m-> 3543\u001b[0;31m                     \u001b[0;34m\"Cannot set a frame with no defined index \"\u001b[0m\u001b[0;34m\u001b[0m\u001b[0;34m\u001b[0m\u001b[0m\n\u001b[0m\u001b[1;32m   3544\u001b[0m                     \u001b[0;34m\"and a value that cannot be converted to a \"\u001b[0m\u001b[0;34m\u001b[0m\u001b[0;34m\u001b[0m\u001b[0m\n\u001b[1;32m   3545\u001b[0m                     \u001b[0;34m\"Series\"\u001b[0m\u001b[0;34m\u001b[0m\u001b[0;34m\u001b[0m\u001b[0m\n",
      "\u001b[0;31mValueError\u001b[0m: Cannot set a frame with no defined index and a value that cannot be converted to a Series"
     ]
    }
   ],
   "source": [
    "debugging = confidence_score_tuning(param_grid, match_sample, census, latlng)"
   ]
  },
  {
   "cell_type": "code",
   "execution_count": 10,
   "metadata": {},
   "outputs": [
    {
     "name": "stdout",
     "output_type": "stream",
     "text": [
      "Running\n",
      "Creating dictionary of sub dfs (1/4)...\n",
      "Applying algorithms iteratively (2/4)...\n",
      "Number of Subgraphs: 78742\n",
      "Reached: 0\n"
     ]
    },
    {
     "ename": "ValueError",
     "evalue": "Cannot set a frame with no defined index and a value that cannot be converted to a Series",
     "output_type": "error",
     "traceback": [
      "\u001b[0;31m---------------------------------------------------------------------------\u001b[0m",
      "\u001b[0;31mValueError\u001b[0m                                Traceback (most recent call last)",
      "\u001b[0;32m~/anaconda3/lib/python3.7/site-packages/pandas/core/frame.py\u001b[0m in \u001b[0;36m_ensure_valid_index\u001b[0;34m(self, value)\u001b[0m\n\u001b[1;32m   3539\u001b[0m             \u001b[0;32mtry\u001b[0m\u001b[0;34m:\u001b[0m\u001b[0;34m\u001b[0m\u001b[0;34m\u001b[0m\u001b[0m\n\u001b[0;32m-> 3540\u001b[0;31m                 \u001b[0mvalue\u001b[0m \u001b[0;34m=\u001b[0m \u001b[0mSeries\u001b[0m\u001b[0;34m(\u001b[0m\u001b[0mvalue\u001b[0m\u001b[0;34m)\u001b[0m\u001b[0;34m\u001b[0m\u001b[0;34m\u001b[0m\u001b[0m\n\u001b[0m\u001b[1;32m   3541\u001b[0m             \u001b[0;32mexcept\u001b[0m \u001b[0;34m(\u001b[0m\u001b[0mValueError\u001b[0m\u001b[0;34m,\u001b[0m \u001b[0mNotImplementedError\u001b[0m\u001b[0;34m,\u001b[0m \u001b[0mTypeError\u001b[0m\u001b[0;34m)\u001b[0m\u001b[0;34m:\u001b[0m\u001b[0;34m\u001b[0m\u001b[0;34m\u001b[0m\u001b[0m\n",
      "\u001b[0;32m~/anaconda3/lib/python3.7/site-packages/pandas/core/series.py\u001b[0m in \u001b[0;36m__init__\u001b[0;34m(self, data, index, dtype, name, copy, fastpath)\u001b[0m\n\u001b[1;32m    315\u001b[0m \u001b[0;34m\u001b[0m\u001b[0m\n\u001b[0;32m--> 316\u001b[0;31m                 \u001b[0mdata\u001b[0m \u001b[0;34m=\u001b[0m \u001b[0mSingleBlockManager\u001b[0m\u001b[0;34m(\u001b[0m\u001b[0mdata\u001b[0m\u001b[0;34m,\u001b[0m \u001b[0mindex\u001b[0m\u001b[0;34m,\u001b[0m \u001b[0mfastpath\u001b[0m\u001b[0;34m=\u001b[0m\u001b[0;32mTrue\u001b[0m\u001b[0;34m)\u001b[0m\u001b[0;34m\u001b[0m\u001b[0;34m\u001b[0m\u001b[0m\n\u001b[0m\u001b[1;32m    317\u001b[0m \u001b[0;34m\u001b[0m\u001b[0m\n",
      "\u001b[0;32m~/anaconda3/lib/python3.7/site-packages/pandas/core/internals/managers.py\u001b[0m in \u001b[0;36m__init__\u001b[0;34m(self, block, axis, do_integrity_check, fastpath)\u001b[0m\n\u001b[1;32m   1515\u001b[0m         \u001b[0;32mif\u001b[0m \u001b[0;32mnot\u001b[0m \u001b[0misinstance\u001b[0m\u001b[0;34m(\u001b[0m\u001b[0mblock\u001b[0m\u001b[0;34m,\u001b[0m \u001b[0mBlock\u001b[0m\u001b[0;34m)\u001b[0m\u001b[0;34m:\u001b[0m\u001b[0;34m\u001b[0m\u001b[0;34m\u001b[0m\u001b[0m\n\u001b[0;32m-> 1516\u001b[0;31m             \u001b[0mblock\u001b[0m \u001b[0;34m=\u001b[0m \u001b[0mmake_block\u001b[0m\u001b[0;34m(\u001b[0m\u001b[0mblock\u001b[0m\u001b[0;34m,\u001b[0m \u001b[0mplacement\u001b[0m\u001b[0;34m=\u001b[0m\u001b[0mslice\u001b[0m\u001b[0;34m(\u001b[0m\u001b[0;36m0\u001b[0m\u001b[0;34m,\u001b[0m \u001b[0mlen\u001b[0m\u001b[0;34m(\u001b[0m\u001b[0maxis\u001b[0m\u001b[0;34m)\u001b[0m\u001b[0;34m)\u001b[0m\u001b[0;34m,\u001b[0m \u001b[0mndim\u001b[0m\u001b[0;34m=\u001b[0m\u001b[0;36m1\u001b[0m\u001b[0;34m)\u001b[0m\u001b[0;34m\u001b[0m\u001b[0;34m\u001b[0m\u001b[0m\n\u001b[0m\u001b[1;32m   1517\u001b[0m \u001b[0;34m\u001b[0m\u001b[0m\n",
      "\u001b[0;32m~/anaconda3/lib/python3.7/site-packages/pandas/core/internals/blocks.py\u001b[0m in \u001b[0;36mmake_block\u001b[0;34m(values, placement, klass, ndim, dtype, fastpath)\u001b[0m\n\u001b[1;32m   3283\u001b[0m \u001b[0;34m\u001b[0m\u001b[0m\n\u001b[0;32m-> 3284\u001b[0;31m     \u001b[0;32mreturn\u001b[0m \u001b[0mklass\u001b[0m\u001b[0;34m(\u001b[0m\u001b[0mvalues\u001b[0m\u001b[0;34m,\u001b[0m \u001b[0mndim\u001b[0m\u001b[0;34m=\u001b[0m\u001b[0mndim\u001b[0m\u001b[0;34m,\u001b[0m \u001b[0mplacement\u001b[0m\u001b[0;34m=\u001b[0m\u001b[0mplacement\u001b[0m\u001b[0;34m)\u001b[0m\u001b[0;34m\u001b[0m\u001b[0;34m\u001b[0m\u001b[0m\n\u001b[0m\u001b[1;32m   3285\u001b[0m \u001b[0;34m\u001b[0m\u001b[0m\n",
      "\u001b[0;32m~/anaconda3/lib/python3.7/site-packages/pandas/core/internals/blocks.py\u001b[0m in \u001b[0;36m__init__\u001b[0;34m(self, values, placement, ndim)\u001b[0m\n\u001b[1;32m   2791\u001b[0m \u001b[0;34m\u001b[0m\u001b[0m\n\u001b[0;32m-> 2792\u001b[0;31m         \u001b[0msuper\u001b[0m\u001b[0;34m(\u001b[0m\u001b[0;34m)\u001b[0m\u001b[0;34m.\u001b[0m\u001b[0m__init__\u001b[0m\u001b[0;34m(\u001b[0m\u001b[0mvalues\u001b[0m\u001b[0;34m,\u001b[0m \u001b[0mndim\u001b[0m\u001b[0;34m=\u001b[0m\u001b[0mndim\u001b[0m\u001b[0;34m,\u001b[0m \u001b[0mplacement\u001b[0m\u001b[0;34m=\u001b[0m\u001b[0mplacement\u001b[0m\u001b[0;34m)\u001b[0m\u001b[0;34m\u001b[0m\u001b[0;34m\u001b[0m\u001b[0m\n\u001b[0m\u001b[1;32m   2793\u001b[0m \u001b[0;34m\u001b[0m\u001b[0m\n",
      "\u001b[0;32m~/anaconda3/lib/python3.7/site-packages/pandas/core/internals/blocks.py\u001b[0m in \u001b[0;36m__init__\u001b[0;34m(self, values, placement, ndim)\u001b[0m\n\u001b[1;32m    127\u001b[0m                 \u001b[0;34m\"Wrong number of items passed {val}, placement implies \"\u001b[0m\u001b[0;34m\u001b[0m\u001b[0;34m\u001b[0m\u001b[0m\n\u001b[0;32m--> 128\u001b[0;31m                 \u001b[0;34m\"{mgr}\"\u001b[0m\u001b[0;34m.\u001b[0m\u001b[0mformat\u001b[0m\u001b[0;34m(\u001b[0m\u001b[0mval\u001b[0m\u001b[0;34m=\u001b[0m\u001b[0mlen\u001b[0m\u001b[0;34m(\u001b[0m\u001b[0mself\u001b[0m\u001b[0;34m.\u001b[0m\u001b[0mvalues\u001b[0m\u001b[0;34m)\u001b[0m\u001b[0;34m,\u001b[0m \u001b[0mmgr\u001b[0m\u001b[0;34m=\u001b[0m\u001b[0mlen\u001b[0m\u001b[0;34m(\u001b[0m\u001b[0mself\u001b[0m\u001b[0;34m.\u001b[0m\u001b[0mmgr_locs\u001b[0m\u001b[0;34m)\u001b[0m\u001b[0;34m)\u001b[0m\u001b[0;34m\u001b[0m\u001b[0;34m\u001b[0m\u001b[0m\n\u001b[0m\u001b[1;32m    129\u001b[0m             )\n",
      "\u001b[0;31mValueError\u001b[0m: Wrong number of items passed 75, placement implies 0",
      "\nDuring handling of the above exception, another exception occurred:\n",
      "\u001b[0;31mValueError\u001b[0m                                Traceback (most recent call last)",
      "\u001b[0;32m<ipython-input-10-e30971783a47>\u001b[0m in \u001b[0;36m<module>\u001b[0;34m\u001b[0m\n\u001b[0;32m----> 1\u001b[0;31m \u001b[0mdebugging\u001b[0m \u001b[0;34m=\u001b[0m \u001b[0mconfidence_score_tuning\u001b[0m\u001b[0;34m(\u001b[0m\u001b[0mparam_grid\u001b[0m\u001b[0;34m,\u001b[0m \u001b[0mmatch\u001b[0m\u001b[0;34m,\u001b[0m \u001b[0mcensus\u001b[0m\u001b[0;34m,\u001b[0m \u001b[0mlatlng\u001b[0m\u001b[0;34m)\u001b[0m\u001b[0;34m\u001b[0m\u001b[0;34m\u001b[0m\u001b[0m\n\u001b[0m",
      "\u001b[0;32m<ipython-input-7-ee8e8154dce8>\u001b[0m in \u001b[0;36mconfidence_score_tuning\u001b[0;34m(param_grid, df_allcols, df_census, df_cd)\u001b[0m\n\u001b[1;32m     24\u001b[0m \u001b[0;34m\u001b[0m\u001b[0m\n\u001b[1;32m     25\u001b[0m         \u001b[0;31m#try:\u001b[0m\u001b[0;34m\u001b[0m\u001b[0;34m\u001b[0m\u001b[0;34m\u001b[0m\u001b[0m\n\u001b[0;32m---> 26\u001b[0;31m         \u001b[0mbasic\u001b[0m\u001b[0;34m.\u001b[0m\u001b[0mrun_disambiguation\u001b[0m\u001b[0;34m(\u001b[0m\u001b[0;34m)\u001b[0m\u001b[0;34m\u001b[0m\u001b[0;34m\u001b[0m\u001b[0m\n\u001b[0m\u001b[1;32m     27\u001b[0m \u001b[0;31m#         except:\u001b[0m\u001b[0;34m\u001b[0m\u001b[0;34m\u001b[0m\u001b[0;34m\u001b[0m\u001b[0m\n\u001b[1;32m     28\u001b[0m \u001b[0;31m#             continue\u001b[0m\u001b[0;34m\u001b[0m\u001b[0;34m\u001b[0m\u001b[0;34m\u001b[0m\u001b[0m\n",
      "\u001b[0;32m~/Documents/HNYC/SpatialLinkage/disambiguation/__init__.py\u001b[0m in \u001b[0;36mrun_disambiguation\u001b[0;34m(self, cluster, k_between, cluster_kwargs, path_kwargs)\u001b[0m\n\u001b[1;32m     35\u001b[0m \u001b[0;34m\u001b[0m\u001b[0m\n\u001b[1;32m     36\u001b[0m         \u001b[0;31m# iteratively apply algorithms onto each sub df\u001b[0m\u001b[0;34m\u001b[0m\u001b[0;34m\u001b[0m\u001b[0;34m\u001b[0m\u001b[0m\n\u001b[0;32m---> 37\u001b[0;31m         \u001b[0msub_groups\u001b[0m \u001b[0;34m=\u001b[0m \u001b[0;34m[\u001b[0m\u001b[0mdl\u001b[0m\u001b[0;34m.\u001b[0m\u001b[0mapply_algo\u001b[0m\u001b[0;34m(\u001b[0m\u001b[0msub_groups\u001b[0m\u001b[0;34m,\u001b[0m \u001b[0mi\u001b[0m\u001b[0;34m,\u001b[0m \u001b[0mcluster\u001b[0m\u001b[0;34m=\u001b[0m\u001b[0mcluster\u001b[0m\u001b[0;34m,\u001b[0m \u001b[0mcensus_id\u001b[0m\u001b[0;34m=\u001b[0m\u001b[0mself\u001b[0m\u001b[0;34m.\u001b[0m\u001b[0mcensus_id\u001b[0m\u001b[0;34m,\u001b[0m \u001b[0mconfidence\u001b[0m\u001b[0;34m=\u001b[0m\u001b[0mself\u001b[0m\u001b[0;34m.\u001b[0m\u001b[0mconfidence\u001b[0m\u001b[0;34m,\u001b[0m \u001b[0mlat\u001b[0m\u001b[0;34m=\u001b[0m\u001b[0mself\u001b[0m\u001b[0;34m.\u001b[0m\u001b[0mlat\u001b[0m\u001b[0;34m,\u001b[0m \u001b[0mlon\u001b[0m\u001b[0;34m=\u001b[0m\u001b[0mself\u001b[0m\u001b[0;34m.\u001b[0m\u001b[0mlon\u001b[0m\u001b[0;34m,\u001b[0m \u001b[0mk_between\u001b[0m\u001b[0;34m=\u001b[0m\u001b[0mk_between\u001b[0m\u001b[0;34m,\u001b[0m \u001b[0mcluster_kwargs\u001b[0m\u001b[0;34m=\u001b[0m\u001b[0mcluster_kwargs\u001b[0m\u001b[0;34m,\u001b[0m \u001b[0mpath_kwargs\u001b[0m\u001b[0;34m=\u001b[0m\u001b[0mpath_kwargs\u001b[0m\u001b[0;34m)\u001b[0m \u001b[0;32mfor\u001b[0m \u001b[0mi\u001b[0m \u001b[0;32min\u001b[0m \u001b[0mrange\u001b[0m\u001b[0;34m(\u001b[0m\u001b[0;36m0\u001b[0m\u001b[0;34m,\u001b[0m \u001b[0mlen\u001b[0m\u001b[0;34m(\u001b[0m\u001b[0msub_groups\u001b[0m\u001b[0;34m)\u001b[0m\u001b[0;34m)\u001b[0m\u001b[0;34m]\u001b[0m\u001b[0;34m\u001b[0m\u001b[0;34m\u001b[0m\u001b[0m\n\u001b[0m\u001b[1;32m     38\u001b[0m \u001b[0;34m\u001b[0m\u001b[0m\n\u001b[1;32m     39\u001b[0m         \u001b[0mprint\u001b[0m\u001b[0;34m(\u001b[0m\u001b[0;34m\"Cleaning output (3/4)...\"\u001b[0m\u001b[0;34m)\u001b[0m\u001b[0;34m\u001b[0m\u001b[0;34m\u001b[0m\u001b[0m\n",
      "\u001b[0;32m~/Documents/HNYC/SpatialLinkage/disambiguation/__init__.py\u001b[0m in \u001b[0;36m<listcomp>\u001b[0;34m(.0)\u001b[0m\n\u001b[1;32m     35\u001b[0m \u001b[0;34m\u001b[0m\u001b[0m\n\u001b[1;32m     36\u001b[0m         \u001b[0;31m# iteratively apply algorithms onto each sub df\u001b[0m\u001b[0;34m\u001b[0m\u001b[0;34m\u001b[0m\u001b[0;34m\u001b[0m\u001b[0m\n\u001b[0;32m---> 37\u001b[0;31m         \u001b[0msub_groups\u001b[0m \u001b[0;34m=\u001b[0m \u001b[0;34m[\u001b[0m\u001b[0mdl\u001b[0m\u001b[0;34m.\u001b[0m\u001b[0mapply_algo\u001b[0m\u001b[0;34m(\u001b[0m\u001b[0msub_groups\u001b[0m\u001b[0;34m,\u001b[0m \u001b[0mi\u001b[0m\u001b[0;34m,\u001b[0m \u001b[0mcluster\u001b[0m\u001b[0;34m=\u001b[0m\u001b[0mcluster\u001b[0m\u001b[0;34m,\u001b[0m \u001b[0mcensus_id\u001b[0m\u001b[0;34m=\u001b[0m\u001b[0mself\u001b[0m\u001b[0;34m.\u001b[0m\u001b[0mcensus_id\u001b[0m\u001b[0;34m,\u001b[0m \u001b[0mconfidence\u001b[0m\u001b[0;34m=\u001b[0m\u001b[0mself\u001b[0m\u001b[0;34m.\u001b[0m\u001b[0mconfidence\u001b[0m\u001b[0;34m,\u001b[0m \u001b[0mlat\u001b[0m\u001b[0;34m=\u001b[0m\u001b[0mself\u001b[0m\u001b[0;34m.\u001b[0m\u001b[0mlat\u001b[0m\u001b[0;34m,\u001b[0m \u001b[0mlon\u001b[0m\u001b[0;34m=\u001b[0m\u001b[0mself\u001b[0m\u001b[0;34m.\u001b[0m\u001b[0mlon\u001b[0m\u001b[0;34m,\u001b[0m \u001b[0mk_between\u001b[0m\u001b[0;34m=\u001b[0m\u001b[0mk_between\u001b[0m\u001b[0;34m,\u001b[0m \u001b[0mcluster_kwargs\u001b[0m\u001b[0;34m=\u001b[0m\u001b[0mcluster_kwargs\u001b[0m\u001b[0;34m,\u001b[0m \u001b[0mpath_kwargs\u001b[0m\u001b[0;34m=\u001b[0m\u001b[0mpath_kwargs\u001b[0m\u001b[0;34m)\u001b[0m \u001b[0;32mfor\u001b[0m \u001b[0mi\u001b[0m \u001b[0;32min\u001b[0m \u001b[0mrange\u001b[0m\u001b[0;34m(\u001b[0m\u001b[0;36m0\u001b[0m\u001b[0;34m,\u001b[0m \u001b[0mlen\u001b[0m\u001b[0;34m(\u001b[0m\u001b[0msub_groups\u001b[0m\u001b[0;34m)\u001b[0m\u001b[0;34m)\u001b[0m\u001b[0;34m]\u001b[0m\u001b[0;34m\u001b[0m\u001b[0;34m\u001b[0m\u001b[0m\n\u001b[0m\u001b[1;32m     38\u001b[0m \u001b[0;34m\u001b[0m\u001b[0m\n\u001b[1;32m     39\u001b[0m         \u001b[0mprint\u001b[0m\u001b[0;34m(\u001b[0m\u001b[0;34m\"Cleaning output (3/4)...\"\u001b[0m\u001b[0;34m)\u001b[0m\u001b[0;34m\u001b[0m\u001b[0;34m\u001b[0m\u001b[0m\n",
      "\u001b[0;32m~/Documents/HNYC/SpatialLinkage/disambiguation/disambiguation.py\u001b[0m in \u001b[0;36mapply_algo\u001b[0;34m(sub_groups, i, cluster, k_between, census_id, census_count, confidence, lat, lon, cluster_kwargs, path_kwargs)\u001b[0m\n\u001b[1;32m     34\u001b[0m \u001b[0;34m\u001b[0m\u001b[0m\n\u001b[1;32m     35\u001b[0m     \u001b[0;31m# create graph and k shortest paths centrality\u001b[0m\u001b[0;34m\u001b[0m\u001b[0;34m\u001b[0m\u001b[0;34m\u001b[0m\u001b[0m\n\u001b[0;32m---> 36\u001b[0;31m     \u001b[0mg\u001b[0m \u001b[0;34m=\u001b[0m \u001b[0mdp\u001b[0m\u001b[0;34m.\u001b[0m\u001b[0mcreate_path_graph\u001b[0m\u001b[0;34m(\u001b[0m\u001b[0mpath_df\u001b[0m\u001b[0;34m,\u001b[0m \u001b[0mcluster_col\u001b[0m\u001b[0;34m=\u001b[0m\u001b[0mcluster_arg\u001b[0m\u001b[0;34m,\u001b[0m \u001b[0mlat\u001b[0m\u001b[0;34m=\u001b[0m\u001b[0mlat\u001b[0m\u001b[0;34m,\u001b[0m \u001b[0mlon\u001b[0m\u001b[0;34m=\u001b[0m\u001b[0mlon\u001b[0m\u001b[0;34m)\u001b[0m\u001b[0;34m\u001b[0m\u001b[0;34m\u001b[0m\u001b[0m\n\u001b[0m\u001b[1;32m     37\u001b[0m \u001b[0;34m\u001b[0m\u001b[0m\n\u001b[1;32m     38\u001b[0m     \u001b[0;32mif\u001b[0m \u001b[0mk_between\u001b[0m\u001b[0;34m:\u001b[0m\u001b[0;34m\u001b[0m\u001b[0;34m\u001b[0m\u001b[0m\n",
      "\u001b[0;32m~/Documents/HNYC/SpatialLinkage/disambiguation/processing.py\u001b[0m in \u001b[0;36mcreate_path_graph\u001b[0;34m(g, cluster_col, lat, lon)\u001b[0m\n\u001b[1;32m    143\u001b[0m     \u001b[0;31m# print(g.columns)\u001b[0m\u001b[0;34m\u001b[0m\u001b[0;34m\u001b[0m\u001b[0;34m\u001b[0m\u001b[0m\n\u001b[1;32m    144\u001b[0m \u001b[0;34m\u001b[0m\u001b[0m\n\u001b[0;32m--> 145\u001b[0;31m     \u001b[0mg\u001b[0m\u001b[0;34m[\u001b[0m\u001b[0;34m'weight'\u001b[0m\u001b[0;34m]\u001b[0m \u001b[0;34m=\u001b[0m \u001b[0mg\u001b[0m\u001b[0;34m.\u001b[0m\u001b[0mapply\u001b[0m\u001b[0;34m(\u001b[0m\u001b[0;32mlambda\u001b[0m \u001b[0mrow\u001b[0m\u001b[0;34m:\u001b[0m \u001b[0mhaversine\u001b[0m\u001b[0;34m(\u001b[0m\u001b[0;34m(\u001b[0m\u001b[0mrow\u001b[0m\u001b[0;34m[\u001b[0m\u001b[0mlat\u001b[0m \u001b[0;34m+\u001b[0m \u001b[0;34m'_y'\u001b[0m\u001b[0;34m]\u001b[0m\u001b[0;34m,\u001b[0m \u001b[0mrow\u001b[0m\u001b[0;34m[\u001b[0m\u001b[0mlon\u001b[0m \u001b[0;34m+\u001b[0m \u001b[0;34m'_y'\u001b[0m\u001b[0;34m]\u001b[0m\u001b[0;34m)\u001b[0m\u001b[0;34m,\u001b[0m \u001b[0;34m(\u001b[0m\u001b[0mrow\u001b[0m\u001b[0;34m[\u001b[0m\u001b[0mlat\u001b[0m \u001b[0;34m+\u001b[0m \u001b[0;34m'_x'\u001b[0m\u001b[0;34m]\u001b[0m\u001b[0;34m,\u001b[0m \u001b[0mrow\u001b[0m\u001b[0;34m[\u001b[0m\u001b[0mlon\u001b[0m \u001b[0;34m+\u001b[0m \u001b[0;34m'_x'\u001b[0m\u001b[0;34m]\u001b[0m\u001b[0;34m)\u001b[0m\u001b[0;34m,\u001b[0m \u001b[0munit\u001b[0m\u001b[0;34m=\u001b[0m\u001b[0mUnit\u001b[0m\u001b[0;34m.\u001b[0m\u001b[0mMETERS\u001b[0m\u001b[0;34m)\u001b[0m\u001b[0;34m,\u001b[0m \u001b[0maxis\u001b[0m\u001b[0;34m=\u001b[0m\u001b[0;36m1\u001b[0m\u001b[0;34m)\u001b[0m\u001b[0;34m\u001b[0m\u001b[0;34m\u001b[0m\u001b[0m\n\u001b[0m\u001b[1;32m    146\u001b[0m \u001b[0;34m\u001b[0m\u001b[0m\n\u001b[1;32m    147\u001b[0m     \u001b[0;32mif\u001b[0m \u001b[0mcluster_col\u001b[0m \u001b[0;34m!=\u001b[0m \u001b[0;32mNone\u001b[0m\u001b[0;34m:\u001b[0m\u001b[0;34m\u001b[0m\u001b[0;34m\u001b[0m\u001b[0m\n",
      "\u001b[0;32m~/anaconda3/lib/python3.7/site-packages/pandas/core/frame.py\u001b[0m in \u001b[0;36m__setitem__\u001b[0;34m(self, key, value)\u001b[0m\n\u001b[1;32m   3485\u001b[0m         \u001b[0;32melse\u001b[0m\u001b[0;34m:\u001b[0m\u001b[0;34m\u001b[0m\u001b[0;34m\u001b[0m\u001b[0m\n\u001b[1;32m   3486\u001b[0m             \u001b[0;31m# set column\u001b[0m\u001b[0;34m\u001b[0m\u001b[0;34m\u001b[0m\u001b[0;34m\u001b[0m\u001b[0m\n\u001b[0;32m-> 3487\u001b[0;31m             \u001b[0mself\u001b[0m\u001b[0;34m.\u001b[0m\u001b[0m_set_item\u001b[0m\u001b[0;34m(\u001b[0m\u001b[0mkey\u001b[0m\u001b[0;34m,\u001b[0m \u001b[0mvalue\u001b[0m\u001b[0;34m)\u001b[0m\u001b[0;34m\u001b[0m\u001b[0;34m\u001b[0m\u001b[0m\n\u001b[0m\u001b[1;32m   3488\u001b[0m \u001b[0;34m\u001b[0m\u001b[0m\n\u001b[1;32m   3489\u001b[0m     \u001b[0;32mdef\u001b[0m \u001b[0m_setitem_slice\u001b[0m\u001b[0;34m(\u001b[0m\u001b[0mself\u001b[0m\u001b[0;34m,\u001b[0m \u001b[0mkey\u001b[0m\u001b[0;34m,\u001b[0m \u001b[0mvalue\u001b[0m\u001b[0;34m)\u001b[0m\u001b[0;34m:\u001b[0m\u001b[0;34m\u001b[0m\u001b[0;34m\u001b[0m\u001b[0m\n",
      "\u001b[0;32m~/anaconda3/lib/python3.7/site-packages/pandas/core/frame.py\u001b[0m in \u001b[0;36m_set_item\u001b[0;34m(self, key, value)\u001b[0m\n\u001b[1;32m   3561\u001b[0m         \"\"\"\n\u001b[1;32m   3562\u001b[0m \u001b[0;34m\u001b[0m\u001b[0m\n\u001b[0;32m-> 3563\u001b[0;31m         \u001b[0mself\u001b[0m\u001b[0;34m.\u001b[0m\u001b[0m_ensure_valid_index\u001b[0m\u001b[0;34m(\u001b[0m\u001b[0mvalue\u001b[0m\u001b[0;34m)\u001b[0m\u001b[0;34m\u001b[0m\u001b[0;34m\u001b[0m\u001b[0m\n\u001b[0m\u001b[1;32m   3564\u001b[0m         \u001b[0mvalue\u001b[0m \u001b[0;34m=\u001b[0m \u001b[0mself\u001b[0m\u001b[0;34m.\u001b[0m\u001b[0m_sanitize_column\u001b[0m\u001b[0;34m(\u001b[0m\u001b[0mkey\u001b[0m\u001b[0;34m,\u001b[0m \u001b[0mvalue\u001b[0m\u001b[0;34m)\u001b[0m\u001b[0;34m\u001b[0m\u001b[0;34m\u001b[0m\u001b[0m\n\u001b[1;32m   3565\u001b[0m         \u001b[0mNDFrame\u001b[0m\u001b[0;34m.\u001b[0m\u001b[0m_set_item\u001b[0m\u001b[0;34m(\u001b[0m\u001b[0mself\u001b[0m\u001b[0;34m,\u001b[0m \u001b[0mkey\u001b[0m\u001b[0;34m,\u001b[0m \u001b[0mvalue\u001b[0m\u001b[0;34m)\u001b[0m\u001b[0;34m\u001b[0m\u001b[0;34m\u001b[0m\u001b[0m\n",
      "\u001b[0;32m~/anaconda3/lib/python3.7/site-packages/pandas/core/frame.py\u001b[0m in \u001b[0;36m_ensure_valid_index\u001b[0;34m(self, value)\u001b[0m\n\u001b[1;32m   3541\u001b[0m             \u001b[0;32mexcept\u001b[0m \u001b[0;34m(\u001b[0m\u001b[0mValueError\u001b[0m\u001b[0;34m,\u001b[0m \u001b[0mNotImplementedError\u001b[0m\u001b[0;34m,\u001b[0m \u001b[0mTypeError\u001b[0m\u001b[0;34m)\u001b[0m\u001b[0;34m:\u001b[0m\u001b[0;34m\u001b[0m\u001b[0;34m\u001b[0m\u001b[0m\n\u001b[1;32m   3542\u001b[0m                 raise ValueError(\n\u001b[0;32m-> 3543\u001b[0;31m                     \u001b[0;34m\"Cannot set a frame with no defined index \"\u001b[0m\u001b[0;34m\u001b[0m\u001b[0;34m\u001b[0m\u001b[0m\n\u001b[0m\u001b[1;32m   3544\u001b[0m                     \u001b[0;34m\"and a value that cannot be converted to a \"\u001b[0m\u001b[0;34m\u001b[0m\u001b[0;34m\u001b[0m\u001b[0m\n\u001b[1;32m   3545\u001b[0m                     \u001b[0;34m\"Series\"\u001b[0m\u001b[0;34m\u001b[0m\u001b[0;34m\u001b[0m\u001b[0m\n",
      "\u001b[0;31mValueError\u001b[0m: Cannot set a frame with no defined index and a value that cannot be converted to a Series"
     ]
    }
   ],
   "source": [
    "debugging = confidence_score_tuning(param_grid, match, census, latlng)"
   ]
  },
  {
   "cell_type": "markdown",
   "metadata": {},
   "source": [
    "This issue is not caused by sampling since it occurs over the entire dataset too."
   ]
  },
  {
   "cell_type": "code",
   "execution_count": 34,
   "metadata": {},
   "outputs": [
    {
     "name": "stdout",
     "output_type": "stream",
     "text": [
      "Running\n",
      "Creating dictionary of sub dfs (1/4)...\n"
     ]
    },
    {
     "data": {
      "text/html": [
       "<div>\n",
       "<style scoped>\n",
       "    .dataframe tbody tr th:only-of-type {\n",
       "        vertical-align: middle;\n",
       "    }\n",
       "\n",
       "    .dataframe tbody tr th {\n",
       "        vertical-align: top;\n",
       "    }\n",
       "\n",
       "    .dataframe thead th {\n",
       "        text-align: right;\n",
       "    }\n",
       "</style>\n",
       "<table border=\"1\" class=\"dataframe\">\n",
       "  <thead>\n",
       "    <tr style=\"text-align: right;\">\n",
       "      <th></th>\n",
       "      <th>OBJECTID.x</th>\n",
       "      <th>CENSUS_NAMEFRSTB</th>\n",
       "      <th>CENSUS_NAMELASTB</th>\n",
       "      <th>CENSUS_AGE</th>\n",
       "      <th>CENSUS_OCCLABELB</th>\n",
       "      <th>CENSUS_MATCH_ADDR</th>\n",
       "      <th>CENSUS_SEGMENT_ID</th>\n",
       "      <th>WARD_NUM</th>\n",
       "      <th>CD_ED</th>\n",
       "      <th>OBJECTID</th>\n",
       "      <th>...</th>\n",
       "      <th>cd_count</th>\n",
       "      <th>census_count</th>\n",
       "      <th>confidence_score</th>\n",
       "      <th>CD_ID</th>\n",
       "      <th>CENSUS_ID</th>\n",
       "      <th>census_count_inverse</th>\n",
       "      <th>cd_count_inverse</th>\n",
       "      <th>LONG</th>\n",
       "      <th>LAT</th>\n",
       "      <th>confidence_score_0</th>\n",
       "    </tr>\n",
       "  </thead>\n",
       "  <tbody>\n",
       "    <tr>\n",
       "      <th>0</th>\n",
       "      <td>862548</td>\n",
       "      <td>STEPHEN</td>\n",
       "      <td>ZELLER</td>\n",
       "      <td>40</td>\n",
       "      <td>IRON MOULDER</td>\n",
       "      <td>504 55TH ST W, NYC-Manhattan, NY</td>\n",
       "      <td>3789</td>\n",
       "      <td>22</td>\n",
       "      <td>513.0</td>\n",
       "      <td>3</td>\n",
       "      <td>...</td>\n",
       "      <td>1</td>\n",
       "      <td>1</td>\n",
       "      <td>0.95</td>\n",
       "      <td>CD_3</td>\n",
       "      <td>CENSUS_862548</td>\n",
       "      <td>1.0</td>\n",
       "      <td>1.0</td>\n",
       "      <td>-73.989856</td>\n",
       "      <td>40.767868</td>\n",
       "      <td>0.9424</td>\n",
       "    </tr>\n",
       "    <tr>\n",
       "      <th>1</th>\n",
       "      <td>795510</td>\n",
       "      <td>OSCAR</td>\n",
       "      <td>ZOLLIKOFFER</td>\n",
       "      <td>70</td>\n",
       "      <td>PRESIDENT, METROPOLITAN GAS CO.</td>\n",
       "      <td>210 46TH ST W, NYC-Manhattan, NY</td>\n",
       "      <td>3357</td>\n",
       "      <td>22</td>\n",
       "      <td>469.0</td>\n",
       "      <td>4</td>\n",
       "      <td>...</td>\n",
       "      <td>1</td>\n",
       "      <td>1</td>\n",
       "      <td>1.00</td>\n",
       "      <td>CD_4</td>\n",
       "      <td>CENSUS_795510</td>\n",
       "      <td>1.0</td>\n",
       "      <td>1.0</td>\n",
       "      <td>-73.985856</td>\n",
       "      <td>40.758819</td>\n",
       "      <td>1.0000</td>\n",
       "    </tr>\n",
       "    <tr>\n",
       "      <th>6</th>\n",
       "      <td>330206</td>\n",
       "      <td>HERMAN</td>\n",
       "      <td>ZOPFS</td>\n",
       "      <td>32</td>\n",
       "      <td>WAITER, RESTAURANT</td>\n",
       "      <td>51 ALLEN ST, NYC-Manhattan, NY</td>\n",
       "      <td>976</td>\n",
       "      <td>10</td>\n",
       "      <td>199.0</td>\n",
       "      <td>15</td>\n",
       "      <td>...</td>\n",
       "      <td>1</td>\n",
       "      <td>1</td>\n",
       "      <td>1.00</td>\n",
       "      <td>CD_15</td>\n",
       "      <td>CENSUS_330206</td>\n",
       "      <td>1.0</td>\n",
       "      <td>1.0</td>\n",
       "      <td>-73.991892</td>\n",
       "      <td>40.716711</td>\n",
       "      <td>1.0000</td>\n",
       "    </tr>\n",
       "    <tr>\n",
       "      <th>7</th>\n",
       "      <td>855850</td>\n",
       "      <td>MICHAEL</td>\n",
       "      <td>ZOPPE</td>\n",
       "      <td>23</td>\n",
       "      <td>ENGINEER</td>\n",
       "      <td>442 53RD ST W, NYC-Manhattan, NY</td>\n",
       "      <td>3681</td>\n",
       "      <td>22</td>\n",
       "      <td>508.0</td>\n",
       "      <td>16</td>\n",
       "      <td>...</td>\n",
       "      <td>1</td>\n",
       "      <td>1</td>\n",
       "      <td>1.00</td>\n",
       "      <td>CD_16</td>\n",
       "      <td>CENSUS_855850</td>\n",
       "      <td>1.0</td>\n",
       "      <td>1.0</td>\n",
       "      <td>-73.989711</td>\n",
       "      <td>40.766168</td>\n",
       "      <td>1.0000</td>\n",
       "    </tr>\n",
       "    <tr>\n",
       "      <th>8</th>\n",
       "      <td>796365</td>\n",
       "      <td>RICKA</td>\n",
       "      <td>ZORKOWSKIE</td>\n",
       "      <td>42</td>\n",
       "      <td>KEEPING HOUSE</td>\n",
       "      <td>253 44TH ST W, NYC-Manhattan, NY</td>\n",
       "      <td>3293</td>\n",
       "      <td>22</td>\n",
       "      <td>470.0</td>\n",
       "      <td>18</td>\n",
       "      <td>...</td>\n",
       "      <td>1</td>\n",
       "      <td>1</td>\n",
       "      <td>0.97</td>\n",
       "      <td>CD_18</td>\n",
       "      <td>CENSUS_796365</td>\n",
       "      <td>1.0</td>\n",
       "      <td>1.0</td>\n",
       "      <td>-73.988171</td>\n",
       "      <td>40.758155</td>\n",
       "      <td>0.9604</td>\n",
       "    </tr>\n",
       "  </tbody>\n",
       "</table>\n",
       "<p>5 rows × 30 columns</p>\n",
       "</div>"
      ],
      "text/plain": [
       "   OBJECTID.x CENSUS_NAMEFRSTB CENSUS_NAMELASTB  CENSUS_AGE  \\\n",
       "0      862548          STEPHEN           ZELLER          40   \n",
       "1      795510            OSCAR      ZOLLIKOFFER          70   \n",
       "6      330206           HERMAN            ZOPFS          32   \n",
       "7      855850          MICHAEL            ZOPPE          23   \n",
       "8      796365            RICKA       ZORKOWSKIE          42   \n",
       "\n",
       "                  CENSUS_OCCLABELB                 CENSUS_MATCH_ADDR  \\\n",
       "0                     IRON MOULDER  504 55TH ST W, NYC-Manhattan, NY   \n",
       "1  PRESIDENT, METROPOLITAN GAS CO.  210 46TH ST W, NYC-Manhattan, NY   \n",
       "6               WAITER, RESTAURANT    51 ALLEN ST, NYC-Manhattan, NY   \n",
       "7                         ENGINEER  442 53RD ST W, NYC-Manhattan, NY   \n",
       "8                    KEEPING HOUSE  253 44TH ST W, NYC-Manhattan, NY   \n",
       "\n",
       "   CENSUS_SEGMENT_ID  WARD_NUM  CD_ED  OBJECTID  ... cd_count census_count  \\\n",
       "0               3789        22  513.0         3  ...        1            1   \n",
       "1               3357        22  469.0         4  ...        1            1   \n",
       "6                976        10  199.0        15  ...        1            1   \n",
       "7               3681        22  508.0        16  ...        1            1   \n",
       "8               3293        22  470.0        18  ...        1            1   \n",
       "\n",
       "  confidence_score  CD_ID      CENSUS_ID  census_count_inverse  \\\n",
       "0             0.95   CD_3  CENSUS_862548                   1.0   \n",
       "1             1.00   CD_4  CENSUS_795510                   1.0   \n",
       "6             1.00  CD_15  CENSUS_330206                   1.0   \n",
       "7             1.00  CD_16  CENSUS_855850                   1.0   \n",
       "8             0.97  CD_18  CENSUS_796365                   1.0   \n",
       "\n",
       "   cd_count_inverse       LONG        LAT  confidence_score_0  \n",
       "0               1.0 -73.989856  40.767868              0.9424  \n",
       "1               1.0 -73.985856  40.758819              1.0000  \n",
       "6               1.0 -73.991892  40.716711              1.0000  \n",
       "7               1.0 -73.989711  40.766168              1.0000  \n",
       "8               1.0 -73.988171  40.758155              0.9604  \n",
       "\n",
       "[5 rows x 30 columns]"
      ]
     },
     "metadata": {},
     "output_type": "display_data"
    },
    {
     "name": "stdout",
     "output_type": "stream",
     "text": [
      "Applying algorithms iteratively (2/4)...\n",
      "Number of Subgraphs: 0\n",
      "Cleaning output (3/4)...\n"
     ]
    },
    {
     "ename": "ValueError",
     "evalue": "No objects to concatenate",
     "output_type": "error",
     "traceback": [
      "\u001b[0;31m---------------------------------------------------------------------------\u001b[0m",
      "\u001b[0;31mValueError\u001b[0m                                Traceback (most recent call last)",
      "\u001b[0;32m<ipython-input-34-36095014590c>\u001b[0m in \u001b[0;36m<module>\u001b[0;34m\u001b[0m\n\u001b[1;32m      1\u001b[0m \u001b[0mparam_grid\u001b[0m \u001b[0;34m=\u001b[0m \u001b[0;34m[\u001b[0m\u001b[0;34m{\u001b[0m\u001b[0;34m\"columns\"\u001b[0m\u001b[0;34m:\u001b[0m \u001b[0;34m[\u001b[0m\u001b[0;34m'jw_score'\u001b[0m\u001b[0;34m,\u001b[0m\u001b[0;34m'cd_count_inverse'\u001b[0m\u001b[0;34m,\u001b[0m\u001b[0;34m'census_count_inverse'\u001b[0m\u001b[0;34m,\u001b[0m \u001b[0;34m'occ_listed'\u001b[0m\u001b[0;34m,\u001b[0m \u001b[0;34m'age_score'\u001b[0m\u001b[0;34m]\u001b[0m\u001b[0;34m,\u001b[0m \u001b[0;34m\"weights\"\u001b[0m\u001b[0;34m:\u001b[0m\u001b[0;34m[\u001b[0m\u001b[0;36m0.6\u001b[0m\u001b[0;34m,\u001b[0m\u001b[0;36m0.1\u001b[0m\u001b[0;34m,\u001b[0m\u001b[0;36m0.1\u001b[0m\u001b[0;34m,\u001b[0m\u001b[0;36m0.1\u001b[0m\u001b[0;34m,\u001b[0m\u001b[0;36m0.1\u001b[0m\u001b[0;34m]\u001b[0m\u001b[0;34m}\u001b[0m\u001b[0;34m]\u001b[0m\u001b[0;34m\u001b[0m\u001b[0;34m\u001b[0m\u001b[0m\n\u001b[0;32m----> 2\u001b[0;31m \u001b[0mdebugging\u001b[0m \u001b[0;34m=\u001b[0m \u001b[0mconfidence_score_tuning\u001b[0m\u001b[0;34m(\u001b[0m\u001b[0mparam_grid\u001b[0m\u001b[0;34m,\u001b[0m \u001b[0mmatch_sample\u001b[0m\u001b[0;34m,\u001b[0m \u001b[0mcensus\u001b[0m\u001b[0;34m,\u001b[0m \u001b[0mlatlng\u001b[0m\u001b[0;34m)\u001b[0m\u001b[0;34m\u001b[0m\u001b[0;34m\u001b[0m\u001b[0m\n\u001b[0m",
      "\u001b[0;32m<ipython-input-24-8238e1fa7200>\u001b[0m in \u001b[0;36mconfidence_score_tuning\u001b[0;34m(param_grid, df_allcols, df_census, df_cd)\u001b[0m\n\u001b[1;32m     24\u001b[0m \u001b[0;34m\u001b[0m\u001b[0m\n\u001b[1;32m     25\u001b[0m         \u001b[0;31m#try:\u001b[0m\u001b[0;34m\u001b[0m\u001b[0;34m\u001b[0m\u001b[0;34m\u001b[0m\u001b[0m\n\u001b[0;32m---> 26\u001b[0;31m         \u001b[0mbasic\u001b[0m\u001b[0;34m.\u001b[0m\u001b[0mrun_disambiguation\u001b[0m\u001b[0;34m(\u001b[0m\u001b[0;34m)\u001b[0m\u001b[0;34m\u001b[0m\u001b[0;34m\u001b[0m\u001b[0m\n\u001b[0m\u001b[1;32m     27\u001b[0m \u001b[0;31m#         except:\u001b[0m\u001b[0;34m\u001b[0m\u001b[0;34m\u001b[0m\u001b[0;34m\u001b[0m\u001b[0m\n\u001b[1;32m     28\u001b[0m \u001b[0;31m#             continue\u001b[0m\u001b[0;34m\u001b[0m\u001b[0;34m\u001b[0m\u001b[0;34m\u001b[0m\u001b[0m\n",
      "\u001b[0;32m~/Documents/HNYC/SpatialLinkage/disambiguation/__init__.py\u001b[0m in \u001b[0;36mrun_disambiguation\u001b[0;34m(self, cluster, k_between, cluster_kwargs, path_kwargs)\u001b[0m\n\u001b[1;32m     38\u001b[0m \u001b[0;34m\u001b[0m\u001b[0m\n\u001b[1;32m     39\u001b[0m         \u001b[0mprint\u001b[0m\u001b[0;34m(\u001b[0m\u001b[0;34m\"Cleaning output (3/4)...\"\u001b[0m\u001b[0;34m)\u001b[0m\u001b[0;34m\u001b[0m\u001b[0;34m\u001b[0m\u001b[0m\n\u001b[0;32m---> 40\u001b[0;31m         \u001b[0mfinal\u001b[0m \u001b[0;34m=\u001b[0m \u001b[0mpd\u001b[0m\u001b[0;34m.\u001b[0m\u001b[0mconcat\u001b[0m\u001b[0;34m(\u001b[0m\u001b[0msub_groups\u001b[0m\u001b[0;34m)\u001b[0m\u001b[0;34m\u001b[0m\u001b[0;34m\u001b[0m\u001b[0m\n\u001b[0m\u001b[1;32m     41\u001b[0m \u001b[0;34m\u001b[0m\u001b[0m\n\u001b[1;32m     42\u001b[0m         \u001b[0mfinal\u001b[0m \u001b[0;34m=\u001b[0m \u001b[0mfinal\u001b[0m\u001b[0;34m.\u001b[0m\u001b[0mdrop_duplicates\u001b[0m\u001b[0;34m(\u001b[0m\u001b[0;34m[\u001b[0m\u001b[0mself\u001b[0m\u001b[0;34m.\u001b[0m\u001b[0mcd_id\u001b[0m\u001b[0;34m,\u001b[0m \u001b[0mself\u001b[0m\u001b[0;34m.\u001b[0m\u001b[0mcensus_id\u001b[0m\u001b[0;34m]\u001b[0m\u001b[0;34m)\u001b[0m\u001b[0;34m\u001b[0m\u001b[0;34m\u001b[0m\u001b[0m\n",
      "\u001b[0;32m~/anaconda3/lib/python3.7/site-packages/pandas/core/reshape/concat.py\u001b[0m in \u001b[0;36mconcat\u001b[0;34m(objs, axis, join, join_axes, ignore_index, keys, levels, names, verify_integrity, sort, copy)\u001b[0m\n\u001b[1;32m    253\u001b[0m         \u001b[0mverify_integrity\u001b[0m\u001b[0;34m=\u001b[0m\u001b[0mverify_integrity\u001b[0m\u001b[0;34m,\u001b[0m\u001b[0;34m\u001b[0m\u001b[0;34m\u001b[0m\u001b[0m\n\u001b[1;32m    254\u001b[0m         \u001b[0mcopy\u001b[0m\u001b[0;34m=\u001b[0m\u001b[0mcopy\u001b[0m\u001b[0;34m,\u001b[0m\u001b[0;34m\u001b[0m\u001b[0;34m\u001b[0m\u001b[0m\n\u001b[0;32m--> 255\u001b[0;31m         \u001b[0msort\u001b[0m\u001b[0;34m=\u001b[0m\u001b[0msort\u001b[0m\u001b[0;34m,\u001b[0m\u001b[0;34m\u001b[0m\u001b[0;34m\u001b[0m\u001b[0m\n\u001b[0m\u001b[1;32m    256\u001b[0m     )\n\u001b[1;32m    257\u001b[0m \u001b[0;34m\u001b[0m\u001b[0m\n",
      "\u001b[0;32m~/anaconda3/lib/python3.7/site-packages/pandas/core/reshape/concat.py\u001b[0m in \u001b[0;36m__init__\u001b[0;34m(self, objs, axis, join, join_axes, keys, levels, names, ignore_index, verify_integrity, copy, sort)\u001b[0m\n\u001b[1;32m    302\u001b[0m \u001b[0;34m\u001b[0m\u001b[0m\n\u001b[1;32m    303\u001b[0m         \u001b[0;32mif\u001b[0m \u001b[0mlen\u001b[0m\u001b[0;34m(\u001b[0m\u001b[0mobjs\u001b[0m\u001b[0;34m)\u001b[0m \u001b[0;34m==\u001b[0m \u001b[0;36m0\u001b[0m\u001b[0;34m:\u001b[0m\u001b[0;34m\u001b[0m\u001b[0;34m\u001b[0m\u001b[0m\n\u001b[0;32m--> 304\u001b[0;31m             \u001b[0;32mraise\u001b[0m \u001b[0mValueError\u001b[0m\u001b[0;34m(\u001b[0m\u001b[0;34m\"No objects to concatenate\"\u001b[0m\u001b[0;34m)\u001b[0m\u001b[0;34m\u001b[0m\u001b[0;34m\u001b[0m\u001b[0m\n\u001b[0m\u001b[1;32m    305\u001b[0m \u001b[0;34m\u001b[0m\u001b[0m\n\u001b[1;32m    306\u001b[0m         \u001b[0;32mif\u001b[0m \u001b[0mkeys\u001b[0m \u001b[0;32mis\u001b[0m \u001b[0;32mNone\u001b[0m\u001b[0;34m:\u001b[0m\u001b[0;34m\u001b[0m\u001b[0;34m\u001b[0m\u001b[0m\n",
      "\u001b[0;31mValueError\u001b[0m: No objects to concatenate"
     ]
    }
   ],
   "source": [
    "param_grid = [{\"columns\": ['jw_score','cd_count_inverse','census_count_inverse', 'occ_listed', 'age_score'], \"weights\":[0.6,0.1,0.1,0.1,0.1]}]\n",
    "debugging = confidence_score_tuning(param_grid, match_sample, census, latlng)"
   ]
  },
  {
   "cell_type": "code",
   "execution_count": null,
   "metadata": {},
   "outputs": [],
   "source": []
  },
  {
   "cell_type": "markdown",
   "metadata": {},
   "source": [
    "Here the issue is there are no subgraphs, apparently we don't have any anchor points with this weight scheme. So let's try it out simply using the entire graph if there are no subgraphs\n",
    "- I altered the disambiguation file to test this"
   ]
  },
  {
   "cell_type": "code",
   "execution_count": null,
   "metadata": {},
   "outputs": [
    {
     "name": "stdout",
     "output_type": "stream",
     "text": [
      "Running\n",
      "Creating dictionary of sub dfs (1/4)...\n",
      "Applying algorithms iteratively (2/4)...\n",
      "Number of Subgraphs: 0\n",
      "Reached: 0\n"
     ]
    }
   ],
   "source": [
    "param_grid = [{\"columns\": ['jw_score','cd_count_inverse','census_count_inverse', 'occ_listed', 'age_score'], \"weights\":[0.6,0.1,0.1,0.1,0.1]}]\n",
    "debugging = confidence_score_tuning(param_grid, match_sample, census, latlng)"
   ]
  },
  {
   "cell_type": "markdown",
   "metadata": {},
   "source": [
    "The kernel died -- I think this approach is simply too computationally expensive, even with the sample -- but it may not be an issue over the whole dataset?"
   ]
  },
  {
   "cell_type": "code",
   "execution_count": 12,
   "metadata": {},
   "outputs": [
    {
     "name": "stdout",
     "output_type": "stream",
     "text": [
      "Running\n",
      "Creating dictionary of sub dfs (1/4)...\n",
      "Applying algorithms iteratively (2/4)...\n",
      "Number of Subgraphs: 0\n",
      "Cleaning output (3/4)...\n"
     ]
    },
    {
     "ename": "ValueError",
     "evalue": "No objects to concatenate",
     "output_type": "error",
     "traceback": [
      "\u001b[0;31m---------------------------------------------------------------------------\u001b[0m",
      "\u001b[0;31mValueError\u001b[0m                                Traceback (most recent call last)",
      "\u001b[0;32m<ipython-input-12-d3819c6cd583>\u001b[0m in \u001b[0;36m<module>\u001b[0;34m\u001b[0m\n\u001b[1;32m      1\u001b[0m \u001b[0mparam_grid\u001b[0m \u001b[0;34m=\u001b[0m \u001b[0;34m[\u001b[0m\u001b[0;34m{\u001b[0m\u001b[0;34m\"columns\"\u001b[0m\u001b[0;34m:\u001b[0m \u001b[0;34m[\u001b[0m\u001b[0;34m'jw_score'\u001b[0m\u001b[0;34m,\u001b[0m\u001b[0;34m'cd_count_inverse'\u001b[0m\u001b[0;34m,\u001b[0m\u001b[0;34m'census_count_inverse'\u001b[0m\u001b[0;34m,\u001b[0m \u001b[0;34m'occ_listed'\u001b[0m\u001b[0;34m,\u001b[0m \u001b[0;34m'age_score'\u001b[0m\u001b[0;34m]\u001b[0m\u001b[0;34m,\u001b[0m \u001b[0;34m\"weights\"\u001b[0m\u001b[0;34m:\u001b[0m\u001b[0;34m[\u001b[0m\u001b[0;36m0.6\u001b[0m\u001b[0;34m,\u001b[0m\u001b[0;36m0.1\u001b[0m\u001b[0;34m,\u001b[0m\u001b[0;36m0.1\u001b[0m\u001b[0;34m,\u001b[0m\u001b[0;36m0.1\u001b[0m\u001b[0;34m,\u001b[0m\u001b[0;36m0.1\u001b[0m\u001b[0;34m]\u001b[0m\u001b[0;34m}\u001b[0m\u001b[0;34m]\u001b[0m\u001b[0;34m\u001b[0m\u001b[0;34m\u001b[0m\u001b[0m\n\u001b[0;32m----> 2\u001b[0;31m \u001b[0mdebugging\u001b[0m \u001b[0;34m=\u001b[0m \u001b[0mconfidence_score_tuning\u001b[0m\u001b[0;34m(\u001b[0m\u001b[0mparam_grid\u001b[0m\u001b[0;34m,\u001b[0m \u001b[0mmatch\u001b[0m\u001b[0;34m,\u001b[0m \u001b[0mcensus\u001b[0m\u001b[0;34m,\u001b[0m \u001b[0mlatlng\u001b[0m\u001b[0;34m)\u001b[0m\u001b[0;34m\u001b[0m\u001b[0;34m\u001b[0m\u001b[0m\n\u001b[0m",
      "\u001b[0;32m<ipython-input-11-8238e1fa7200>\u001b[0m in \u001b[0;36mconfidence_score_tuning\u001b[0;34m(param_grid, df_allcols, df_census, df_cd)\u001b[0m\n\u001b[1;32m     24\u001b[0m \u001b[0;34m\u001b[0m\u001b[0m\n\u001b[1;32m     25\u001b[0m         \u001b[0;31m#try:\u001b[0m\u001b[0;34m\u001b[0m\u001b[0;34m\u001b[0m\u001b[0;34m\u001b[0m\u001b[0m\n\u001b[0;32m---> 26\u001b[0;31m         \u001b[0mbasic\u001b[0m\u001b[0;34m.\u001b[0m\u001b[0mrun_disambiguation\u001b[0m\u001b[0;34m(\u001b[0m\u001b[0;34m)\u001b[0m\u001b[0;34m\u001b[0m\u001b[0;34m\u001b[0m\u001b[0m\n\u001b[0m\u001b[1;32m     27\u001b[0m \u001b[0;31m#         except:\u001b[0m\u001b[0;34m\u001b[0m\u001b[0;34m\u001b[0m\u001b[0;34m\u001b[0m\u001b[0m\n\u001b[1;32m     28\u001b[0m \u001b[0;31m#             continue\u001b[0m\u001b[0;34m\u001b[0m\u001b[0;34m\u001b[0m\u001b[0;34m\u001b[0m\u001b[0m\n",
      "\u001b[0;32m~/Documents/HNYC/SpatialLinkage/disambiguation/__init__.py\u001b[0m in \u001b[0;36mrun_disambiguation\u001b[0;34m(self, cluster, k_between, cluster_kwargs, path_kwargs)\u001b[0m\n\u001b[1;32m     38\u001b[0m \u001b[0;34m\u001b[0m\u001b[0m\n\u001b[1;32m     39\u001b[0m         \u001b[0mprint\u001b[0m\u001b[0;34m(\u001b[0m\u001b[0;34m\"Cleaning output (3/4)...\"\u001b[0m\u001b[0;34m)\u001b[0m\u001b[0;34m\u001b[0m\u001b[0;34m\u001b[0m\u001b[0m\n\u001b[0;32m---> 40\u001b[0;31m         \u001b[0mfinal\u001b[0m \u001b[0;34m=\u001b[0m \u001b[0mpd\u001b[0m\u001b[0;34m.\u001b[0m\u001b[0mconcat\u001b[0m\u001b[0;34m(\u001b[0m\u001b[0msub_groups\u001b[0m\u001b[0;34m)\u001b[0m\u001b[0;34m\u001b[0m\u001b[0;34m\u001b[0m\u001b[0m\n\u001b[0m\u001b[1;32m     41\u001b[0m \u001b[0;34m\u001b[0m\u001b[0m\n\u001b[1;32m     42\u001b[0m         \u001b[0mfinal\u001b[0m \u001b[0;34m=\u001b[0m \u001b[0mfinal\u001b[0m\u001b[0;34m.\u001b[0m\u001b[0mdrop_duplicates\u001b[0m\u001b[0;34m(\u001b[0m\u001b[0;34m[\u001b[0m\u001b[0mself\u001b[0m\u001b[0;34m.\u001b[0m\u001b[0mcd_id\u001b[0m\u001b[0;34m,\u001b[0m \u001b[0mself\u001b[0m\u001b[0;34m.\u001b[0m\u001b[0mcensus_id\u001b[0m\u001b[0;34m]\u001b[0m\u001b[0;34m)\u001b[0m\u001b[0;34m\u001b[0m\u001b[0;34m\u001b[0m\u001b[0m\n",
      "\u001b[0;32m~/anaconda3/lib/python3.7/site-packages/pandas/core/reshape/concat.py\u001b[0m in \u001b[0;36mconcat\u001b[0;34m(objs, axis, join, join_axes, ignore_index, keys, levels, names, verify_integrity, sort, copy)\u001b[0m\n\u001b[1;32m    253\u001b[0m         \u001b[0mverify_integrity\u001b[0m\u001b[0;34m=\u001b[0m\u001b[0mverify_integrity\u001b[0m\u001b[0;34m,\u001b[0m\u001b[0;34m\u001b[0m\u001b[0;34m\u001b[0m\u001b[0m\n\u001b[1;32m    254\u001b[0m         \u001b[0mcopy\u001b[0m\u001b[0;34m=\u001b[0m\u001b[0mcopy\u001b[0m\u001b[0;34m,\u001b[0m\u001b[0;34m\u001b[0m\u001b[0;34m\u001b[0m\u001b[0m\n\u001b[0;32m--> 255\u001b[0;31m         \u001b[0msort\u001b[0m\u001b[0;34m=\u001b[0m\u001b[0msort\u001b[0m\u001b[0;34m,\u001b[0m\u001b[0;34m\u001b[0m\u001b[0;34m\u001b[0m\u001b[0m\n\u001b[0m\u001b[1;32m    256\u001b[0m     )\n\u001b[1;32m    257\u001b[0m \u001b[0;34m\u001b[0m\u001b[0m\n",
      "\u001b[0;32m~/anaconda3/lib/python3.7/site-packages/pandas/core/reshape/concat.py\u001b[0m in \u001b[0;36m__init__\u001b[0;34m(self, objs, axis, join, join_axes, keys, levels, names, ignore_index, verify_integrity, copy, sort)\u001b[0m\n\u001b[1;32m    302\u001b[0m \u001b[0;34m\u001b[0m\u001b[0m\n\u001b[1;32m    303\u001b[0m         \u001b[0;32mif\u001b[0m \u001b[0mlen\u001b[0m\u001b[0;34m(\u001b[0m\u001b[0mobjs\u001b[0m\u001b[0;34m)\u001b[0m \u001b[0;34m==\u001b[0m \u001b[0;36m0\u001b[0m\u001b[0;34m:\u001b[0m\u001b[0;34m\u001b[0m\u001b[0;34m\u001b[0m\u001b[0m\n\u001b[0;32m--> 304\u001b[0;31m             \u001b[0;32mraise\u001b[0m \u001b[0mValueError\u001b[0m\u001b[0;34m(\u001b[0m\u001b[0;34m\"No objects to concatenate\"\u001b[0m\u001b[0;34m)\u001b[0m\u001b[0;34m\u001b[0m\u001b[0;34m\u001b[0m\u001b[0m\n\u001b[0m\u001b[1;32m    305\u001b[0m \u001b[0;34m\u001b[0m\u001b[0m\n\u001b[1;32m    306\u001b[0m         \u001b[0;32mif\u001b[0m \u001b[0mkeys\u001b[0m \u001b[0;32mis\u001b[0m \u001b[0;32mNone\u001b[0m\u001b[0;34m:\u001b[0m\u001b[0;34m\u001b[0m\u001b[0;34m\u001b[0m\u001b[0m\n",
      "\u001b[0;31mValueError\u001b[0m: No objects to concatenate"
     ]
    }
   ],
   "source": [
    "param_grid = [{\"columns\": ['jw_score','cd_count_inverse','census_count_inverse', 'occ_listed', 'age_score'], \"weights\":[0.6,0.1,0.1,0.1,0.1]}]\n",
    "debugging = confidence_score_tuning(param_grid, match, census, latlng)"
   ]
  },
  {
   "cell_type": "markdown",
   "metadata": {},
   "source": [
    "This issue occurs over the entire dataset -- so changing the sample won't help. I think at the moment the best approach would simply be not using weighting schemes that cause this error."
   ]
  }
 ],
 "metadata": {
  "kernelspec": {
   "display_name": "Python 3",
   "language": "python",
   "name": "python3"
  },
  "language_info": {
   "codemirror_mode": {
    "name": "ipython",
    "version": 3
   },
   "file_extension": ".py",
   "mimetype": "text/x-python",
   "name": "python",
   "nbconvert_exporter": "python",
   "pygments_lexer": "ipython3",
   "version": "3.7.5"
  }
 },
 "nbformat": 4,
 "nbformat_minor": 4
}
