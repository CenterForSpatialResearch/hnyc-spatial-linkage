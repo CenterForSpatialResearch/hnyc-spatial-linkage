{
 "cells": [
  {
   "cell_type": "markdown",
   "metadata": {},
   "source": [
    "# Setup"
   ]
  },
  {
   "cell_type": "code",
   "execution_count": 1,
   "metadata": {},
   "outputs": [],
   "source": [
    "import os\n",
    "import sys\n",
    "module_path = os.path.abspath(os.path.join('..'))\n",
    "if module_path not in sys.path:\n",
    "    sys.path.append(module_path)\n",
    "\n",
    "%load_ext autoreload\n",
    "%autoreload 2\n",
    "import pandas as pd\n",
    "import networkx as nx\n",
    "import numpy as np\n",
    "from disambiguation import Disambiguator, Disambiguator1880\n",
    "import disambiguation.analysis as da\n",
    "import matplotlib.pyplot as plt\n",
    "import seaborn as sns\n",
    "import pickle"
   ]
  },
  {
   "cell_type": "code",
   "execution_count": 2,
   "metadata": {},
   "outputs": [],
   "source": [
    "pd.set_option('display.min_rows', 1000)\n",
    "pd.set_option('display.max_columns', 55)\n",
    "pd.set_option('display.float_format', lambda x: '%.5f' % x)"
   ]
  },
  {
   "cell_type": "code",
   "execution_count": 43,
   "metadata": {},
   "outputs": [],
   "source": [
    "match = pd.read_csv(\"../data/matches.csv\")"
   ]
  },
  {
   "cell_type": "code",
   "execution_count": 59,
   "metadata": {},
   "outputs": [],
   "source": [
    "census_latlng = pd.read_csv(\"../data/census_1880_mn_v04.csv\")"
   ]
  },
  {
   "cell_type": "markdown",
   "metadata": {},
   "source": [
    "# Generating Test Set"
   ]
  },
  {
   "cell_type": "code",
   "execution_count": 5,
   "metadata": {},
   "outputs": [
    {
     "output_type": "execute_result",
     "data": {
      "text/plain": "   OBJECTID.x             CENSUS_MERGEID  CENSUS_SERIALB  CENSUS_SERIAL  \\\n0           1     46101106EDITH K.SANGER         6347938        6198399   \n1           2  461012776EMMAVAN BROSELIN         6347938        6198399   \n2           3      461012776LIZZIEMALONE         6347938        6198399   \n3           4   461012806FANNIE K.SANGER         6347938        6198399   \n4           5    461012876MITCHILL A.LEE         6347938        6198399   \n\n   CENSUS_PERNUM          CENSUS_RECIDUS  CENSUS_REEL  CENSUS_VOLUME  \\\n0              3  01254866-1-0001-0003-$          866              1   \n1              6  01254866-1-0001-0006-$          866              1   \n2              4  01254866-1-0001-0004-$          866              1   \n3              2  01254866-1-0001-0002-$          866              1   \n4              5  01254866-1-0001-0005-$          866              1   \n\n   CENSUS_PAGENUM CENSUS_NAMEFRSTB CENSUS_NAMELASTB  CENSUS_RELATE  \\\n0               1         EDITH K.           SANGER            301   \n1               1             EMMA     VAN BROSELIN           1200   \n2               1           LIZZIE           MALONE           1200   \n3               1        FANNIE K.           SANGER            201   \n4               1      MITCHILL A.              LEE           1200   \n\n     CENSUS_RELATE_STR  CENSUS_AGE  CENSUS_SEXB CENSUS_RACENAMEB  \\\n0                Child           1            2            white   \n1  Other non-relatives          27            2            black   \n2  Other non-relatives          27            2            black   \n3               Spouse          28            2            white   \n4  Other non-relatives          28            1            black   \n\n   CENSUS_RACEB  CENSUS_NPERHHB  CENSUS_OCCLABELB  CENSUS_SEIUSBN  \\\n0           100               6                 *               0   \n1           200               6  DOMESTIC SERVANT               7   \n2           200               6  DOMESTIC SERVANT               7   \n3           100               6              NONE               0   \n4           200               6  DOMESTIC SERVANT               7   \n\n                        CENSUS_MATCH_ADDR  CENSUS_HOUSE_NUMB CENSUS_STREETB  \\\n0  36 GOVERNORS ISLAND, NYC-Manhattan, NY                  0             36   \n1  36 GOVERNORS ISLAND, NYC-Manhattan, NY                  0             36   \n2  36 GOVERNORS ISLAND, NYC-Manhattan, NY                  0             36   \n3  36 GOVERNORS ISLAND, NYC-Manhattan, NY                  0             36   \n4  36 GOVERNORS ISLAND, NYC-Manhattan, NY                  0             36   \n\n  CENSUS_TYPEB  CENSUS_SEGMENT_ID  CENSUS_BUILDING_I  CENSUS_NEIGHBOR_1  \\\n0          Gov                  2                  2              49374   \n1          Gov                  2                  2              49374   \n2          Gov                  2                  2              49374   \n3          Gov                  2                  2              49374   \n4          Gov                  2                  2              49374   \n\n   CENSUS_NEIGHBOR_2  CENSUS_SEGGROUP_I  CENSUS_EXTGROUP_I  CENSUS_CITY  \\\n0              49376              49373                446         4610   \n1              49376              49373                446         4610   \n2              49376              49373                446         4610   \n3              49376              49373                446         4610   \n4              49376              49373                446         4610   \n\n   CENSUS_COUNTYUS  CENSUS_X  CENSUS_Y       CENSUS_ADDRESS  CENSUS_ENUMDIST  \\\n0              610 -74.01675  40.69071  36 GOVERNORS ISLAND                1   \n1              610 -74.01675  40.69071  36 GOVERNORS ISLAND                1   \n2              610 -74.01675  40.69071  36 GOVERNORS ISLAND                1   \n3              610 -74.01675  40.69071  36 GOVERNORS ISLAND                1   \n4              610 -74.01675  40.69071  36 GOVERNORS ISLAND                1   \n\n  CENSUS_CITYNAME CENSUS_STATENAME CENSUS_UNITTYPE          MERGE_SRC  \\\n0   NYC-Manhattan               NY     single unit  NYC-ManhattanCE1a   \n1   NYC-Manhattan               NY     single unit  NYC-ManhattanCE1a   \n2   NYC-Manhattan               NY     single unit  NYC-ManhattanCE1a   \n3   NYC-Manhattan               NY     single unit  NYC-ManhattanCE1a   \n4   NYC-Manhattan               NY     single unit  NYC-ManhattanCE1a   \n\n   WARD_NUM  CENSUS_AD  \n0   1.00000    1.00000  \n1   1.00000    1.00000  \n2   1.00000    1.00000  \n3   1.00000    1.00000  \n4   1.00000    1.00000  ",
      "text/html": "<div>\n<style scoped>\n    .dataframe tbody tr th:only-of-type {\n        vertical-align: middle;\n    }\n\n    .dataframe tbody tr th {\n        vertical-align: top;\n    }\n\n    .dataframe thead th {\n        text-align: right;\n    }\n</style>\n<table border=\"1\" class=\"dataframe\">\n  <thead>\n    <tr style=\"text-align: right;\">\n      <th></th>\n      <th>OBJECTID.x</th>\n      <th>CENSUS_MERGEID</th>\n      <th>CENSUS_SERIALB</th>\n      <th>CENSUS_SERIAL</th>\n      <th>CENSUS_PERNUM</th>\n      <th>CENSUS_RECIDUS</th>\n      <th>CENSUS_REEL</th>\n      <th>CENSUS_VOLUME</th>\n      <th>CENSUS_PAGENUM</th>\n      <th>CENSUS_NAMEFRSTB</th>\n      <th>CENSUS_NAMELASTB</th>\n      <th>CENSUS_RELATE</th>\n      <th>CENSUS_RELATE_STR</th>\n      <th>CENSUS_AGE</th>\n      <th>CENSUS_SEXB</th>\n      <th>CENSUS_RACENAMEB</th>\n      <th>CENSUS_RACEB</th>\n      <th>CENSUS_NPERHHB</th>\n      <th>CENSUS_OCCLABELB</th>\n      <th>CENSUS_SEIUSBN</th>\n      <th>CENSUS_MATCH_ADDR</th>\n      <th>CENSUS_HOUSE_NUMB</th>\n      <th>CENSUS_STREETB</th>\n      <th>CENSUS_TYPEB</th>\n      <th>CENSUS_SEGMENT_ID</th>\n      <th>CENSUS_BUILDING_I</th>\n      <th>CENSUS_NEIGHBOR_1</th>\n      <th>CENSUS_NEIGHBOR_2</th>\n      <th>CENSUS_SEGGROUP_I</th>\n      <th>CENSUS_EXTGROUP_I</th>\n      <th>CENSUS_CITY</th>\n      <th>CENSUS_COUNTYUS</th>\n      <th>CENSUS_X</th>\n      <th>CENSUS_Y</th>\n      <th>CENSUS_ADDRESS</th>\n      <th>CENSUS_ENUMDIST</th>\n      <th>CENSUS_CITYNAME</th>\n      <th>CENSUS_STATENAME</th>\n      <th>CENSUS_UNITTYPE</th>\n      <th>MERGE_SRC</th>\n      <th>WARD_NUM</th>\n      <th>CENSUS_AD</th>\n    </tr>\n  </thead>\n  <tbody>\n    <tr>\n      <th>0</th>\n      <td>1</td>\n      <td>46101106EDITH K.SANGER</td>\n      <td>6347938</td>\n      <td>6198399</td>\n      <td>3</td>\n      <td>01254866-1-0001-0003-$</td>\n      <td>866</td>\n      <td>1</td>\n      <td>1</td>\n      <td>EDITH K.</td>\n      <td>SANGER</td>\n      <td>301</td>\n      <td>Child</td>\n      <td>1</td>\n      <td>2</td>\n      <td>white</td>\n      <td>100</td>\n      <td>6</td>\n      <td>*</td>\n      <td>0</td>\n      <td>36 GOVERNORS ISLAND, NYC-Manhattan, NY</td>\n      <td>0</td>\n      <td>36</td>\n      <td>Gov</td>\n      <td>2</td>\n      <td>2</td>\n      <td>49374</td>\n      <td>49376</td>\n      <td>49373</td>\n      <td>446</td>\n      <td>4610</td>\n      <td>610</td>\n      <td>-74.01675</td>\n      <td>40.69071</td>\n      <td>36 GOVERNORS ISLAND</td>\n      <td>1</td>\n      <td>NYC-Manhattan</td>\n      <td>NY</td>\n      <td>single unit</td>\n      <td>NYC-ManhattanCE1a</td>\n      <td>1.00000</td>\n      <td>1.00000</td>\n    </tr>\n    <tr>\n      <th>1</th>\n      <td>2</td>\n      <td>461012776EMMAVAN BROSELIN</td>\n      <td>6347938</td>\n      <td>6198399</td>\n      <td>6</td>\n      <td>01254866-1-0001-0006-$</td>\n      <td>866</td>\n      <td>1</td>\n      <td>1</td>\n      <td>EMMA</td>\n      <td>VAN BROSELIN</td>\n      <td>1200</td>\n      <td>Other non-relatives</td>\n      <td>27</td>\n      <td>2</td>\n      <td>black</td>\n      <td>200</td>\n      <td>6</td>\n      <td>DOMESTIC SERVANT</td>\n      <td>7</td>\n      <td>36 GOVERNORS ISLAND, NYC-Manhattan, NY</td>\n      <td>0</td>\n      <td>36</td>\n      <td>Gov</td>\n      <td>2</td>\n      <td>2</td>\n      <td>49374</td>\n      <td>49376</td>\n      <td>49373</td>\n      <td>446</td>\n      <td>4610</td>\n      <td>610</td>\n      <td>-74.01675</td>\n      <td>40.69071</td>\n      <td>36 GOVERNORS ISLAND</td>\n      <td>1</td>\n      <td>NYC-Manhattan</td>\n      <td>NY</td>\n      <td>single unit</td>\n      <td>NYC-ManhattanCE1a</td>\n      <td>1.00000</td>\n      <td>1.00000</td>\n    </tr>\n    <tr>\n      <th>2</th>\n      <td>3</td>\n      <td>461012776LIZZIEMALONE</td>\n      <td>6347938</td>\n      <td>6198399</td>\n      <td>4</td>\n      <td>01254866-1-0001-0004-$</td>\n      <td>866</td>\n      <td>1</td>\n      <td>1</td>\n      <td>LIZZIE</td>\n      <td>MALONE</td>\n      <td>1200</td>\n      <td>Other non-relatives</td>\n      <td>27</td>\n      <td>2</td>\n      <td>black</td>\n      <td>200</td>\n      <td>6</td>\n      <td>DOMESTIC SERVANT</td>\n      <td>7</td>\n      <td>36 GOVERNORS ISLAND, NYC-Manhattan, NY</td>\n      <td>0</td>\n      <td>36</td>\n      <td>Gov</td>\n      <td>2</td>\n      <td>2</td>\n      <td>49374</td>\n      <td>49376</td>\n      <td>49373</td>\n      <td>446</td>\n      <td>4610</td>\n      <td>610</td>\n      <td>-74.01675</td>\n      <td>40.69071</td>\n      <td>36 GOVERNORS ISLAND</td>\n      <td>1</td>\n      <td>NYC-Manhattan</td>\n      <td>NY</td>\n      <td>single unit</td>\n      <td>NYC-ManhattanCE1a</td>\n      <td>1.00000</td>\n      <td>1.00000</td>\n    </tr>\n    <tr>\n      <th>3</th>\n      <td>4</td>\n      <td>461012806FANNIE K.SANGER</td>\n      <td>6347938</td>\n      <td>6198399</td>\n      <td>2</td>\n      <td>01254866-1-0001-0002-$</td>\n      <td>866</td>\n      <td>1</td>\n      <td>1</td>\n      <td>FANNIE K.</td>\n      <td>SANGER</td>\n      <td>201</td>\n      <td>Spouse</td>\n      <td>28</td>\n      <td>2</td>\n      <td>white</td>\n      <td>100</td>\n      <td>6</td>\n      <td>NONE</td>\n      <td>0</td>\n      <td>36 GOVERNORS ISLAND, NYC-Manhattan, NY</td>\n      <td>0</td>\n      <td>36</td>\n      <td>Gov</td>\n      <td>2</td>\n      <td>2</td>\n      <td>49374</td>\n      <td>49376</td>\n      <td>49373</td>\n      <td>446</td>\n      <td>4610</td>\n      <td>610</td>\n      <td>-74.01675</td>\n      <td>40.69071</td>\n      <td>36 GOVERNORS ISLAND</td>\n      <td>1</td>\n      <td>NYC-Manhattan</td>\n      <td>NY</td>\n      <td>single unit</td>\n      <td>NYC-ManhattanCE1a</td>\n      <td>1.00000</td>\n      <td>1.00000</td>\n    </tr>\n    <tr>\n      <th>4</th>\n      <td>5</td>\n      <td>461012876MITCHILL A.LEE</td>\n      <td>6347938</td>\n      <td>6198399</td>\n      <td>5</td>\n      <td>01254866-1-0001-0005-$</td>\n      <td>866</td>\n      <td>1</td>\n      <td>1</td>\n      <td>MITCHILL A.</td>\n      <td>LEE</td>\n      <td>1200</td>\n      <td>Other non-relatives</td>\n      <td>28</td>\n      <td>1</td>\n      <td>black</td>\n      <td>200</td>\n      <td>6</td>\n      <td>DOMESTIC SERVANT</td>\n      <td>7</td>\n      <td>36 GOVERNORS ISLAND, NYC-Manhattan, NY</td>\n      <td>0</td>\n      <td>36</td>\n      <td>Gov</td>\n      <td>2</td>\n      <td>2</td>\n      <td>49374</td>\n      <td>49376</td>\n      <td>49373</td>\n      <td>446</td>\n      <td>4610</td>\n      <td>610</td>\n      <td>-74.01675</td>\n      <td>40.69071</td>\n      <td>36 GOVERNORS ISLAND</td>\n      <td>1</td>\n      <td>NYC-Manhattan</td>\n      <td>NY</td>\n      <td>single unit</td>\n      <td>NYC-ManhattanCE1a</td>\n      <td>1.00000</td>\n      <td>1.00000</td>\n    </tr>\n  </tbody>\n</table>\n</div>"
     },
     "metadata": {},
     "execution_count": 5
    }
   ],
   "source": [
    "census_latlng.head()"
   ]
  },
  {
   "cell_type": "code",
   "execution_count": 6,
   "metadata": {},
   "outputs": [],
   "source": [
    "census_latlng = census_latlng.loc[:, ['CENSUS_MATCH_ADDR', 'CENSUS_X', 'CENSUS_Y']].drop_duplicates()"
   ]
  },
  {
   "cell_type": "code",
   "execution_count": 7,
   "metadata": {},
   "outputs": [],
   "source": [
    "benchmark = match.merge(census_latlng, how='left', on='CENSUS_MATCH_ADDR', validate='many_to_one')"
   ]
  },
  {
   "cell_type": "code",
   "execution_count": 8,
   "metadata": {},
   "outputs": [
    {
     "output_type": "execute_result",
     "data": {
      "text/plain": "   Unnamed: 0      CD_ID CD_FIRST_NAME CD_LAST_NAME  \\\n0       43236   CD_74371       Patrick       Murphy   \n1       14137   CD_24242        George         Suau   \n2       47741   CD_80330          John       Moller   \n3      114669  CD_185397         James     Costello   \n4       84448  CD_137772          John    Hazeltine   \n\n                      MATCH_ADDR CD_OCCUPATION  num_matches   CENSUS_ID  \\\n0      71 PEARL ST, New York, NY       express            4  CENSUS_172   \n1     129 BROAD ST, New York, NY           mer            2  CENSUS_306   \n2      14 STATE ST, New York, NY         clerk            2  CENSUS_317   \n3  49 WHITEHALL ST, New York, NY       liquors            1  CENSUS_359   \n4      17 STONE ST, New York, NY           NaN            2  CENSUS_361   \n\n  CENSUS_NAMEFRSCLEAN CENSUS_NAMELASTB  \\\n0             PATRICK           MURPHY   \n1              GEORGE             SWEE   \n2                JOHN           MULLER   \n3               JAMES          COSTELA   \n4                JOHN        HESELTINE   \n\n                        CENSUS_MATCH_ADDR  CENSUS_AGE  CENSUS_OCCLABELB  \\\n0  42 GOVERNORS ISLAND, NYC-Manhattan, NY          39  CLERK, U.S. ARMY   \n1  22 GOVERNORS ISLAND, NYC-Manhattan, NY           5                 *   \n2  87 GOVERNORS ISLAND, NYC-Manhattan, NY          22           SOLDIER   \n3  87 GOVERNORS ISLAND, NYC-Manhattan, NY          29           SOLDIER   \n4  87 GOVERNORS ISLAND, NYC-Manhattan, NY          29           SOLDIER   \n\n   WARD_NUM  CENSUS_ENUMDIST  CENSUS_SEGMENT_ID  CD_BLOCK_NUM  \\\n0         1                1                  2          3783   \n1         1                1                  2          3798   \n2         1                1                  2           649   \n3         1                1                  2          3780   \n4         1                1                  2          3801   \n\n   census_occupation_listed  jaro_winkler_aggr_score  confidence_score  \\\n0                         1                  1.00000           0.85000   \n1                         0                  0.73000           0.66000   \n2                         1                  0.94000           0.87000   \n3                         1                  0.92800           0.96000   \n4                         1                  0.92200           0.86000   \n\n       LONG      LAT  age_score  census_count  CENSUS_X  CENSUS_Y  \n0 -74.01085 40.70374          1             1 -74.01658  40.69059  \n1 -74.01110 40.70195          0             1 -74.01714  40.69100  \n2 -74.01430 40.70308          1             1 -74.01525  40.68977  \n3 -74.01269 40.70231          1             1 -74.01525  40.68977  \n4 -74.01207 40.70411          1             1 -74.01525  40.68977  ",
      "text/html": "<div>\n<style scoped>\n    .dataframe tbody tr th:only-of-type {\n        vertical-align: middle;\n    }\n\n    .dataframe tbody tr th {\n        vertical-align: top;\n    }\n\n    .dataframe thead th {\n        text-align: right;\n    }\n</style>\n<table border=\"1\" class=\"dataframe\">\n  <thead>\n    <tr style=\"text-align: right;\">\n      <th></th>\n      <th>Unnamed: 0</th>\n      <th>CD_ID</th>\n      <th>CD_FIRST_NAME</th>\n      <th>CD_LAST_NAME</th>\n      <th>MATCH_ADDR</th>\n      <th>CD_OCCUPATION</th>\n      <th>num_matches</th>\n      <th>CENSUS_ID</th>\n      <th>CENSUS_NAMEFRSCLEAN</th>\n      <th>CENSUS_NAMELASTB</th>\n      <th>CENSUS_MATCH_ADDR</th>\n      <th>CENSUS_AGE</th>\n      <th>CENSUS_OCCLABELB</th>\n      <th>WARD_NUM</th>\n      <th>CENSUS_ENUMDIST</th>\n      <th>CENSUS_SEGMENT_ID</th>\n      <th>CD_BLOCK_NUM</th>\n      <th>census_occupation_listed</th>\n      <th>jaro_winkler_aggr_score</th>\n      <th>confidence_score</th>\n      <th>LONG</th>\n      <th>LAT</th>\n      <th>age_score</th>\n      <th>census_count</th>\n      <th>CENSUS_X</th>\n      <th>CENSUS_Y</th>\n    </tr>\n  </thead>\n  <tbody>\n    <tr>\n      <th>0</th>\n      <td>43236</td>\n      <td>CD_74371</td>\n      <td>Patrick</td>\n      <td>Murphy</td>\n      <td>71 PEARL ST, New York, NY</td>\n      <td>express</td>\n      <td>4</td>\n      <td>CENSUS_172</td>\n      <td>PATRICK</td>\n      <td>MURPHY</td>\n      <td>42 GOVERNORS ISLAND, NYC-Manhattan, NY</td>\n      <td>39</td>\n      <td>CLERK, U.S. ARMY</td>\n      <td>1</td>\n      <td>1</td>\n      <td>2</td>\n      <td>3783</td>\n      <td>1</td>\n      <td>1.00000</td>\n      <td>0.85000</td>\n      <td>-74.01085</td>\n      <td>40.70374</td>\n      <td>1</td>\n      <td>1</td>\n      <td>-74.01658</td>\n      <td>40.69059</td>\n    </tr>\n    <tr>\n      <th>1</th>\n      <td>14137</td>\n      <td>CD_24242</td>\n      <td>George</td>\n      <td>Suau</td>\n      <td>129 BROAD ST, New York, NY</td>\n      <td>mer</td>\n      <td>2</td>\n      <td>CENSUS_306</td>\n      <td>GEORGE</td>\n      <td>SWEE</td>\n      <td>22 GOVERNORS ISLAND, NYC-Manhattan, NY</td>\n      <td>5</td>\n      <td>*</td>\n      <td>1</td>\n      <td>1</td>\n      <td>2</td>\n      <td>3798</td>\n      <td>0</td>\n      <td>0.73000</td>\n      <td>0.66000</td>\n      <td>-74.01110</td>\n      <td>40.70195</td>\n      <td>0</td>\n      <td>1</td>\n      <td>-74.01714</td>\n      <td>40.69100</td>\n    </tr>\n    <tr>\n      <th>2</th>\n      <td>47741</td>\n      <td>CD_80330</td>\n      <td>John</td>\n      <td>Moller</td>\n      <td>14 STATE ST, New York, NY</td>\n      <td>clerk</td>\n      <td>2</td>\n      <td>CENSUS_317</td>\n      <td>JOHN</td>\n      <td>MULLER</td>\n      <td>87 GOVERNORS ISLAND, NYC-Manhattan, NY</td>\n      <td>22</td>\n      <td>SOLDIER</td>\n      <td>1</td>\n      <td>1</td>\n      <td>2</td>\n      <td>649</td>\n      <td>1</td>\n      <td>0.94000</td>\n      <td>0.87000</td>\n      <td>-74.01430</td>\n      <td>40.70308</td>\n      <td>1</td>\n      <td>1</td>\n      <td>-74.01525</td>\n      <td>40.68977</td>\n    </tr>\n    <tr>\n      <th>3</th>\n      <td>114669</td>\n      <td>CD_185397</td>\n      <td>James</td>\n      <td>Costello</td>\n      <td>49 WHITEHALL ST, New York, NY</td>\n      <td>liquors</td>\n      <td>1</td>\n      <td>CENSUS_359</td>\n      <td>JAMES</td>\n      <td>COSTELA</td>\n      <td>87 GOVERNORS ISLAND, NYC-Manhattan, NY</td>\n      <td>29</td>\n      <td>SOLDIER</td>\n      <td>1</td>\n      <td>1</td>\n      <td>2</td>\n      <td>3780</td>\n      <td>1</td>\n      <td>0.92800</td>\n      <td>0.96000</td>\n      <td>-74.01269</td>\n      <td>40.70231</td>\n      <td>1</td>\n      <td>1</td>\n      <td>-74.01525</td>\n      <td>40.68977</td>\n    </tr>\n    <tr>\n      <th>4</th>\n      <td>84448</td>\n      <td>CD_137772</td>\n      <td>John</td>\n      <td>Hazeltine</td>\n      <td>17 STONE ST, New York, NY</td>\n      <td>NaN</td>\n      <td>2</td>\n      <td>CENSUS_361</td>\n      <td>JOHN</td>\n      <td>HESELTINE</td>\n      <td>87 GOVERNORS ISLAND, NYC-Manhattan, NY</td>\n      <td>29</td>\n      <td>SOLDIER</td>\n      <td>1</td>\n      <td>1</td>\n      <td>2</td>\n      <td>3801</td>\n      <td>1</td>\n      <td>0.92200</td>\n      <td>0.86000</td>\n      <td>-74.01207</td>\n      <td>40.70411</td>\n      <td>1</td>\n      <td>1</td>\n      <td>-74.01525</td>\n      <td>40.68977</td>\n    </tr>\n  </tbody>\n</table>\n</div>"
     },
     "metadata": {},
     "execution_count": 8
    }
   ],
   "source": [
    "benchmark.head()"
   ]
  },
  {
   "cell_type": "code",
   "execution_count": 9,
   "metadata": {},
   "outputs": [
    {
     "output_type": "stream",
     "name": "stdout",
     "text": "71\nPEARL ST\n"
    }
   ],
   "source": [
    "import re\n",
    "def get_hn(add):\n",
    "    hn = re.search('[0-9]+', add)\n",
    "    return hn.group()\n",
    "\n",
    "def get_st(add):\n",
    "    try:\n",
    "        st = re.search('(?<=[0-9]\\\\s)([A-Z]|\\\\s)+(?=,)', add)\n",
    "        return st.group()\n",
    "    except:\n",
    "        return None\n",
    "\n",
    "print( get_hn(\"71 PEARL ST\") )\n",
    "print( get_st(\"71 PEARL ST, NEW YORK, NY\") )"
   ]
  },
  {
   "cell_type": "code",
   "execution_count": 10,
   "metadata": {},
   "outputs": [],
   "source": [
    "benchmark['cd_hn'] = benchmark.apply(lambda row: get_hn(row.MATCH_ADDR), axis=1)\n",
    "benchmark['cen_hn'] = benchmark.apply(lambda row: get_hn(row.CENSUS_MATCH_ADDR), axis=1)\n",
    "benchmark['cd_add_cln'] = benchmark.apply(lambda row: get_st(row.MATCH_ADDR), axis=1)\n",
    "benchmark['cen_add_cln'] = benchmark.apply(lambda row: get_st(row.CENSUS_MATCH_ADDR), axis=1)"
   ]
  },
  {
   "cell_type": "code",
   "execution_count": 11,
   "metadata": {},
   "outputs": [
    {
     "output_type": "execute_result",
     "data": {
      "text/plain": "   Unnamed: 0      CD_ID CD_FIRST_NAME CD_LAST_NAME  \\\n0       43236   CD_74371       Patrick       Murphy   \n1       14137   CD_24242        George         Suau   \n2       47741   CD_80330          John       Moller   \n3      114669  CD_185397         James     Costello   \n4       84448  CD_137772          John    Hazeltine   \n\n                      MATCH_ADDR CD_OCCUPATION  num_matches   CENSUS_ID  \\\n0      71 PEARL ST, New York, NY       express            4  CENSUS_172   \n1     129 BROAD ST, New York, NY           mer            2  CENSUS_306   \n2      14 STATE ST, New York, NY         clerk            2  CENSUS_317   \n3  49 WHITEHALL ST, New York, NY       liquors            1  CENSUS_359   \n4      17 STONE ST, New York, NY           NaN            2  CENSUS_361   \n\n  CENSUS_NAMEFRSCLEAN CENSUS_NAMELASTB  \\\n0             PATRICK           MURPHY   \n1              GEORGE             SWEE   \n2                JOHN           MULLER   \n3               JAMES          COSTELA   \n4                JOHN        HESELTINE   \n\n                        CENSUS_MATCH_ADDR  CENSUS_AGE  CENSUS_OCCLABELB  \\\n0  42 GOVERNORS ISLAND, NYC-Manhattan, NY          39  CLERK, U.S. ARMY   \n1  22 GOVERNORS ISLAND, NYC-Manhattan, NY           5                 *   \n2  87 GOVERNORS ISLAND, NYC-Manhattan, NY          22           SOLDIER   \n3  87 GOVERNORS ISLAND, NYC-Manhattan, NY          29           SOLDIER   \n4  87 GOVERNORS ISLAND, NYC-Manhattan, NY          29           SOLDIER   \n\n   WARD_NUM  CENSUS_ENUMDIST  CENSUS_SEGMENT_ID  CD_BLOCK_NUM  \\\n0         1                1                  2          3783   \n1         1                1                  2          3798   \n2         1                1                  2           649   \n3         1                1                  2          3780   \n4         1                1                  2          3801   \n\n   census_occupation_listed  jaro_winkler_aggr_score  confidence_score  \\\n0                         1                  1.00000           0.85000   \n1                         0                  0.73000           0.66000   \n2                         1                  0.94000           0.87000   \n3                         1                  0.92800           0.96000   \n4                         1                  0.92200           0.86000   \n\n       LONG      LAT  age_score  census_count  CENSUS_X  CENSUS_Y cd_hn  \\\n0 -74.01085 40.70374          1             1 -74.01658  40.69059    71   \n1 -74.01110 40.70195          0             1 -74.01714  40.69100   129   \n2 -74.01430 40.70308          1             1 -74.01525  40.68977    14   \n3 -74.01269 40.70231          1             1 -74.01525  40.68977    49   \n4 -74.01207 40.70411          1             1 -74.01525  40.68977    17   \n\n  cen_hn    cd_add_cln       cen_add_cln  \n0     42      PEARL ST  GOVERNORS ISLAND  \n1     22      BROAD ST  GOVERNORS ISLAND  \n2     87      STATE ST  GOVERNORS ISLAND  \n3     87  WHITEHALL ST  GOVERNORS ISLAND  \n4     87      STONE ST  GOVERNORS ISLAND  ",
      "text/html": "<div>\n<style scoped>\n    .dataframe tbody tr th:only-of-type {\n        vertical-align: middle;\n    }\n\n    .dataframe tbody tr th {\n        vertical-align: top;\n    }\n\n    .dataframe thead th {\n        text-align: right;\n    }\n</style>\n<table border=\"1\" class=\"dataframe\">\n  <thead>\n    <tr style=\"text-align: right;\">\n      <th></th>\n      <th>Unnamed: 0</th>\n      <th>CD_ID</th>\n      <th>CD_FIRST_NAME</th>\n      <th>CD_LAST_NAME</th>\n      <th>MATCH_ADDR</th>\n      <th>CD_OCCUPATION</th>\n      <th>num_matches</th>\n      <th>CENSUS_ID</th>\n      <th>CENSUS_NAMEFRSCLEAN</th>\n      <th>CENSUS_NAMELASTB</th>\n      <th>CENSUS_MATCH_ADDR</th>\n      <th>CENSUS_AGE</th>\n      <th>CENSUS_OCCLABELB</th>\n      <th>WARD_NUM</th>\n      <th>CENSUS_ENUMDIST</th>\n      <th>CENSUS_SEGMENT_ID</th>\n      <th>CD_BLOCK_NUM</th>\n      <th>census_occupation_listed</th>\n      <th>jaro_winkler_aggr_score</th>\n      <th>confidence_score</th>\n      <th>LONG</th>\n      <th>LAT</th>\n      <th>age_score</th>\n      <th>census_count</th>\n      <th>CENSUS_X</th>\n      <th>CENSUS_Y</th>\n      <th>cd_hn</th>\n      <th>cen_hn</th>\n      <th>cd_add_cln</th>\n      <th>cen_add_cln</th>\n    </tr>\n  </thead>\n  <tbody>\n    <tr>\n      <th>0</th>\n      <td>43236</td>\n      <td>CD_74371</td>\n      <td>Patrick</td>\n      <td>Murphy</td>\n      <td>71 PEARL ST, New York, NY</td>\n      <td>express</td>\n      <td>4</td>\n      <td>CENSUS_172</td>\n      <td>PATRICK</td>\n      <td>MURPHY</td>\n      <td>42 GOVERNORS ISLAND, NYC-Manhattan, NY</td>\n      <td>39</td>\n      <td>CLERK, U.S. ARMY</td>\n      <td>1</td>\n      <td>1</td>\n      <td>2</td>\n      <td>3783</td>\n      <td>1</td>\n      <td>1.00000</td>\n      <td>0.85000</td>\n      <td>-74.01085</td>\n      <td>40.70374</td>\n      <td>1</td>\n      <td>1</td>\n      <td>-74.01658</td>\n      <td>40.69059</td>\n      <td>71</td>\n      <td>42</td>\n      <td>PEARL ST</td>\n      <td>GOVERNORS ISLAND</td>\n    </tr>\n    <tr>\n      <th>1</th>\n      <td>14137</td>\n      <td>CD_24242</td>\n      <td>George</td>\n      <td>Suau</td>\n      <td>129 BROAD ST, New York, NY</td>\n      <td>mer</td>\n      <td>2</td>\n      <td>CENSUS_306</td>\n      <td>GEORGE</td>\n      <td>SWEE</td>\n      <td>22 GOVERNORS ISLAND, NYC-Manhattan, NY</td>\n      <td>5</td>\n      <td>*</td>\n      <td>1</td>\n      <td>1</td>\n      <td>2</td>\n      <td>3798</td>\n      <td>0</td>\n      <td>0.73000</td>\n      <td>0.66000</td>\n      <td>-74.01110</td>\n      <td>40.70195</td>\n      <td>0</td>\n      <td>1</td>\n      <td>-74.01714</td>\n      <td>40.69100</td>\n      <td>129</td>\n      <td>22</td>\n      <td>BROAD ST</td>\n      <td>GOVERNORS ISLAND</td>\n    </tr>\n    <tr>\n      <th>2</th>\n      <td>47741</td>\n      <td>CD_80330</td>\n      <td>John</td>\n      <td>Moller</td>\n      <td>14 STATE ST, New York, NY</td>\n      <td>clerk</td>\n      <td>2</td>\n      <td>CENSUS_317</td>\n      <td>JOHN</td>\n      <td>MULLER</td>\n      <td>87 GOVERNORS ISLAND, NYC-Manhattan, NY</td>\n      <td>22</td>\n      <td>SOLDIER</td>\n      <td>1</td>\n      <td>1</td>\n      <td>2</td>\n      <td>649</td>\n      <td>1</td>\n      <td>0.94000</td>\n      <td>0.87000</td>\n      <td>-74.01430</td>\n      <td>40.70308</td>\n      <td>1</td>\n      <td>1</td>\n      <td>-74.01525</td>\n      <td>40.68977</td>\n      <td>14</td>\n      <td>87</td>\n      <td>STATE ST</td>\n      <td>GOVERNORS ISLAND</td>\n    </tr>\n    <tr>\n      <th>3</th>\n      <td>114669</td>\n      <td>CD_185397</td>\n      <td>James</td>\n      <td>Costello</td>\n      <td>49 WHITEHALL ST, New York, NY</td>\n      <td>liquors</td>\n      <td>1</td>\n      <td>CENSUS_359</td>\n      <td>JAMES</td>\n      <td>COSTELA</td>\n      <td>87 GOVERNORS ISLAND, NYC-Manhattan, NY</td>\n      <td>29</td>\n      <td>SOLDIER</td>\n      <td>1</td>\n      <td>1</td>\n      <td>2</td>\n      <td>3780</td>\n      <td>1</td>\n      <td>0.92800</td>\n      <td>0.96000</td>\n      <td>-74.01269</td>\n      <td>40.70231</td>\n      <td>1</td>\n      <td>1</td>\n      <td>-74.01525</td>\n      <td>40.68977</td>\n      <td>49</td>\n      <td>87</td>\n      <td>WHITEHALL ST</td>\n      <td>GOVERNORS ISLAND</td>\n    </tr>\n    <tr>\n      <th>4</th>\n      <td>84448</td>\n      <td>CD_137772</td>\n      <td>John</td>\n      <td>Hazeltine</td>\n      <td>17 STONE ST, New York, NY</td>\n      <td>NaN</td>\n      <td>2</td>\n      <td>CENSUS_361</td>\n      <td>JOHN</td>\n      <td>HESELTINE</td>\n      <td>87 GOVERNORS ISLAND, NYC-Manhattan, NY</td>\n      <td>29</td>\n      <td>SOLDIER</td>\n      <td>1</td>\n      <td>1</td>\n      <td>2</td>\n      <td>3801</td>\n      <td>1</td>\n      <td>0.92200</td>\n      <td>0.86000</td>\n      <td>-74.01207</td>\n      <td>40.70411</td>\n      <td>1</td>\n      <td>1</td>\n      <td>-74.01525</td>\n      <td>40.68977</td>\n      <td>17</td>\n      <td>87</td>\n      <td>STONE ST</td>\n      <td>GOVERNORS ISLAND</td>\n    </tr>\n  </tbody>\n</table>\n</div>"
     },
     "metadata": {},
     "execution_count": 11
    }
   ],
   "source": [
    "benchmark.head()"
   ]
  },
  {
   "cell_type": "code",
   "execution_count": 12,
   "metadata": {},
   "outputs": [],
   "source": [
    "benchmark['add_match'] = np.where(benchmark.cd_hn == benchmark.cen_hn, 0.1, 0) + np.where(benchmark.cen_add_cln == benchmark.cd_add_cln, 0.9, 0)"
   ]
  },
  {
   "cell_type": "code",
   "execution_count": 13,
   "metadata": {},
   "outputs": [],
   "source": [
    "benchmark['confidence_score'] = benchmark['confidence_score'] + benchmark['add_match']"
   ]
  },
  {
   "cell_type": "code",
   "execution_count": 14,
   "metadata": {},
   "outputs": [],
   "source": [
    "benchmark = da.get_dist_based_match(benchmark)['results']"
   ]
  },
  {
   "cell_type": "code",
   "execution_count": 15,
   "metadata": {},
   "outputs": [
    {
     "output_type": "execute_result",
     "data": {
      "text/plain": "   Unnamed: 0     CD_ID CD_FIRST_NAME CD_LAST_NAME  \\\n0       43236  CD_74371       Patrick       Murphy   \n1       43233  CD_74371       Patrick       Murphy   \n2       43235  CD_74371       Patrick       Murphy   \n3       43234  CD_74371       Patrick       Murphy   \n4       14137  CD_24242        George         Suau   \n\n                   MATCH_ADDR CD_OCCUPATION  num_matches    CENSUS_ID  \\\n0   71 PEARL ST, New York, NY       express            4   CENSUS_172   \n1   71 PEARL ST, New York, NY       express            4  CENSUS_1537   \n2   71 PEARL ST, New York, NY       express            4  CENSUS_3399   \n3   71 PEARL ST, New York, NY       express            4  CENSUS_3783   \n4  129 BROAD ST, New York, NY           mer            2   CENSUS_306   \n\n  CENSUS_NAMEFRSCLEAN CENSUS_NAMELASTB  \\\n0             PATRICK           MURPHY   \n1             PATRICK           MURPHY   \n2             PATRICK          MURPHEY   \n3             PATRICK           MURPHY   \n4              GEORGE             SWEE   \n\n                        CENSUS_MATCH_ADDR  CENSUS_AGE  CENSUS_OCCLABELB  \\\n0  42 GOVERNORS ISLAND, NYC-Manhattan, NY          39  CLERK, U.S. ARMY   \n1          57 PEARL ST, NYC-Manhattan, NY          44        EXPRESSMAN   \n2       26 CASTLE PARK, NYC-Manhattan, NY          24           LABORER   \n3       26 CASTLE PARK, NYC-Manhattan, NY          30           LABORER   \n4  22 GOVERNORS ISLAND, NYC-Manhattan, NY           5                 *   \n\n   WARD_NUM  CENSUS_ENUMDIST  CENSUS_SEGMENT_ID  CD_BLOCK_NUM  \\\n0         1                1                  2          3783   \n1         1                1                 41          3783   \n2         1                1                 64          3783   \n3         1                1                 64          3783   \n4         1                1                  2          3798   \n\n   census_occupation_listed  jaro_winkler_aggr_score  confidence_score  \\\n0                         1                  1.00000           0.85000   \n1                         1                  1.00000           1.75000   \n2                         1                  0.97600           0.84000   \n3                         1                  1.00000           0.85000   \n4                         0                  0.73000           0.66000   \n\n       LONG      LAT  age_score  census_count  CENSUS_X  CENSUS_Y cd_hn  \\\n0 -74.01085 40.70374          1             1 -74.01658  40.69059    71   \n1 -74.01085 40.70374          1             1 -74.01138  40.70359    71   \n2 -74.01085 40.70374          1             1 -74.01655  40.70456    71   \n3 -74.01085 40.70374          1             1 -74.01655  40.70456    71   \n4 -74.01110 40.70195          0             1 -74.01714  40.69100   129   \n\n  cen_hn cd_add_cln       cen_add_cln  add_match       dist  dist_weight  \\\n0     42   PEARL ST  GOVERNORS ISLAND    0.00000 1540.21310      0.99000   \n1     57   PEARL ST          PEARL ST    0.90000   47.17421      2.01000   \n2     26   PEARL ST       CASTLE PARK    0.00000  488.53956      1.00000   \n3     26   PEARL ST       CASTLE PARK    0.00000  488.53956      1.01000   \n4     22   BROAD ST  GOVERNORS ISLAND    0.00000 1319.87053      0.80000   \n\n   selected  graph_ID  \n0   0.00000         0  \n1   1.00000         0  \n2   0.00000         0  \n3   0.00000         0  \n4   0.00000         1  ",
      "text/html": "<div>\n<style scoped>\n    .dataframe tbody tr th:only-of-type {\n        vertical-align: middle;\n    }\n\n    .dataframe tbody tr th {\n        vertical-align: top;\n    }\n\n    .dataframe thead th {\n        text-align: right;\n    }\n</style>\n<table border=\"1\" class=\"dataframe\">\n  <thead>\n    <tr style=\"text-align: right;\">\n      <th></th>\n      <th>Unnamed: 0</th>\n      <th>CD_ID</th>\n      <th>CD_FIRST_NAME</th>\n      <th>CD_LAST_NAME</th>\n      <th>MATCH_ADDR</th>\n      <th>CD_OCCUPATION</th>\n      <th>num_matches</th>\n      <th>CENSUS_ID</th>\n      <th>CENSUS_NAMEFRSCLEAN</th>\n      <th>CENSUS_NAMELASTB</th>\n      <th>CENSUS_MATCH_ADDR</th>\n      <th>CENSUS_AGE</th>\n      <th>CENSUS_OCCLABELB</th>\n      <th>WARD_NUM</th>\n      <th>CENSUS_ENUMDIST</th>\n      <th>CENSUS_SEGMENT_ID</th>\n      <th>CD_BLOCK_NUM</th>\n      <th>census_occupation_listed</th>\n      <th>jaro_winkler_aggr_score</th>\n      <th>confidence_score</th>\n      <th>LONG</th>\n      <th>LAT</th>\n      <th>age_score</th>\n      <th>census_count</th>\n      <th>CENSUS_X</th>\n      <th>CENSUS_Y</th>\n      <th>cd_hn</th>\n      <th>cen_hn</th>\n      <th>cd_add_cln</th>\n      <th>cen_add_cln</th>\n      <th>add_match</th>\n      <th>dist</th>\n      <th>dist_weight</th>\n      <th>selected</th>\n      <th>graph_ID</th>\n    </tr>\n  </thead>\n  <tbody>\n    <tr>\n      <th>0</th>\n      <td>43236</td>\n      <td>CD_74371</td>\n      <td>Patrick</td>\n      <td>Murphy</td>\n      <td>71 PEARL ST, New York, NY</td>\n      <td>express</td>\n      <td>4</td>\n      <td>CENSUS_172</td>\n      <td>PATRICK</td>\n      <td>MURPHY</td>\n      <td>42 GOVERNORS ISLAND, NYC-Manhattan, NY</td>\n      <td>39</td>\n      <td>CLERK, U.S. ARMY</td>\n      <td>1</td>\n      <td>1</td>\n      <td>2</td>\n      <td>3783</td>\n      <td>1</td>\n      <td>1.00000</td>\n      <td>0.85000</td>\n      <td>-74.01085</td>\n      <td>40.70374</td>\n      <td>1</td>\n      <td>1</td>\n      <td>-74.01658</td>\n      <td>40.69059</td>\n      <td>71</td>\n      <td>42</td>\n      <td>PEARL ST</td>\n      <td>GOVERNORS ISLAND</td>\n      <td>0.00000</td>\n      <td>1540.21310</td>\n      <td>0.99000</td>\n      <td>0.00000</td>\n      <td>0</td>\n    </tr>\n    <tr>\n      <th>1</th>\n      <td>43233</td>\n      <td>CD_74371</td>\n      <td>Patrick</td>\n      <td>Murphy</td>\n      <td>71 PEARL ST, New York, NY</td>\n      <td>express</td>\n      <td>4</td>\n      <td>CENSUS_1537</td>\n      <td>PATRICK</td>\n      <td>MURPHY</td>\n      <td>57 PEARL ST, NYC-Manhattan, NY</td>\n      <td>44</td>\n      <td>EXPRESSMAN</td>\n      <td>1</td>\n      <td>1</td>\n      <td>41</td>\n      <td>3783</td>\n      <td>1</td>\n      <td>1.00000</td>\n      <td>1.75000</td>\n      <td>-74.01085</td>\n      <td>40.70374</td>\n      <td>1</td>\n      <td>1</td>\n      <td>-74.01138</td>\n      <td>40.70359</td>\n      <td>71</td>\n      <td>57</td>\n      <td>PEARL ST</td>\n      <td>PEARL ST</td>\n      <td>0.90000</td>\n      <td>47.17421</td>\n      <td>2.01000</td>\n      <td>1.00000</td>\n      <td>0</td>\n    </tr>\n    <tr>\n      <th>2</th>\n      <td>43235</td>\n      <td>CD_74371</td>\n      <td>Patrick</td>\n      <td>Murphy</td>\n      <td>71 PEARL ST, New York, NY</td>\n      <td>express</td>\n      <td>4</td>\n      <td>CENSUS_3399</td>\n      <td>PATRICK</td>\n      <td>MURPHEY</td>\n      <td>26 CASTLE PARK, NYC-Manhattan, NY</td>\n      <td>24</td>\n      <td>LABORER</td>\n      <td>1</td>\n      <td>1</td>\n      <td>64</td>\n      <td>3783</td>\n      <td>1</td>\n      <td>0.97600</td>\n      <td>0.84000</td>\n      <td>-74.01085</td>\n      <td>40.70374</td>\n      <td>1</td>\n      <td>1</td>\n      <td>-74.01655</td>\n      <td>40.70456</td>\n      <td>71</td>\n      <td>26</td>\n      <td>PEARL ST</td>\n      <td>CASTLE PARK</td>\n      <td>0.00000</td>\n      <td>488.53956</td>\n      <td>1.00000</td>\n      <td>0.00000</td>\n      <td>0</td>\n    </tr>\n    <tr>\n      <th>3</th>\n      <td>43234</td>\n      <td>CD_74371</td>\n      <td>Patrick</td>\n      <td>Murphy</td>\n      <td>71 PEARL ST, New York, NY</td>\n      <td>express</td>\n      <td>4</td>\n      <td>CENSUS_3783</td>\n      <td>PATRICK</td>\n      <td>MURPHY</td>\n      <td>26 CASTLE PARK, NYC-Manhattan, NY</td>\n      <td>30</td>\n      <td>LABORER</td>\n      <td>1</td>\n      <td>1</td>\n      <td>64</td>\n      <td>3783</td>\n      <td>1</td>\n      <td>1.00000</td>\n      <td>0.85000</td>\n      <td>-74.01085</td>\n      <td>40.70374</td>\n      <td>1</td>\n      <td>1</td>\n      <td>-74.01655</td>\n      <td>40.70456</td>\n      <td>71</td>\n      <td>26</td>\n      <td>PEARL ST</td>\n      <td>CASTLE PARK</td>\n      <td>0.00000</td>\n      <td>488.53956</td>\n      <td>1.01000</td>\n      <td>0.00000</td>\n      <td>0</td>\n    </tr>\n    <tr>\n      <th>4</th>\n      <td>14137</td>\n      <td>CD_24242</td>\n      <td>George</td>\n      <td>Suau</td>\n      <td>129 BROAD ST, New York, NY</td>\n      <td>mer</td>\n      <td>2</td>\n      <td>CENSUS_306</td>\n      <td>GEORGE</td>\n      <td>SWEE</td>\n      <td>22 GOVERNORS ISLAND, NYC-Manhattan, NY</td>\n      <td>5</td>\n      <td>*</td>\n      <td>1</td>\n      <td>1</td>\n      <td>2</td>\n      <td>3798</td>\n      <td>0</td>\n      <td>0.73000</td>\n      <td>0.66000</td>\n      <td>-74.01110</td>\n      <td>40.70195</td>\n      <td>0</td>\n      <td>1</td>\n      <td>-74.01714</td>\n      <td>40.69100</td>\n      <td>129</td>\n      <td>22</td>\n      <td>BROAD ST</td>\n      <td>GOVERNORS ISLAND</td>\n      <td>0.00000</td>\n      <td>1319.87053</td>\n      <td>0.80000</td>\n      <td>0.00000</td>\n      <td>1</td>\n    </tr>\n  </tbody>\n</table>\n</div>"
     },
     "metadata": {},
     "execution_count": 15
    }
   ],
   "source": [
    "benchmark.head()"
   ]
  },
  {
   "cell_type": "markdown",
   "metadata": {},
   "source": [
    "# Fill down"
   ]
  },
  {
   "cell_type": "code",
   "execution_count": 73,
   "metadata": {},
   "outputs": [],
   "source": [
    "fill_down = match\n",
    "fill_down['CENSUS_X'] = np.where(fill_down['confidence_score'] == 1, fill_down['LONG'], None)\n",
    "fill_down['CENSUS_Y'] = np.where(fill_down['confidence_score'] == 1, fill_down['LAT'], None)\n",
    "fill_down['CENSUS_X'] = fill_down['CENSUS_X'].fillna(method='ffill').fillna(method='backfill')\n",
    "fill_down['CENSUS_Y'] = fill_down['CENSUS_Y'].fillna(method='ffill').fillna(method='backfill')"
   ]
  },
  {
   "cell_type": "code",
   "execution_count": 79,
   "metadata": {},
   "outputs": [],
   "source": [
    "fill_down_df = da.get_dist_based_match(match)['results']"
   ]
  },
  {
   "cell_type": "code",
   "execution_count": 80,
   "metadata": {},
   "outputs": [],
   "source": [
    "fill_down_match_rate = da.get_match_rate(fill_down_df)\n",
    "fill_down_addr_success = da.get_addr_success(fill_down_df)\n",
    "fill_down_dist_error = da.get_dist_error(fill_down_df)\n",
    "fill_down_under12 = da.get_under12_selections(fill_down_df)"
   ]
  },
  {
   "cell_type": "code",
   "execution_count": 81,
   "metadata": {},
   "outputs": [],
   "source": [
    "fill_down_cm = da.compare_selections(fill_down_df, benchmark)['confusion_matrix']"
   ]
  },
  {
   "cell_type": "code",
   "execution_count": 82,
   "metadata": {
    "tags": [
     "outputPrepend"
    ]
   },
   "outputs": [
    {
     "output_type": "stream",
     "name": "stdout",
     "text": "98.97\n{'n_perfect_match_chosen': 28651, 'n_perfect_match': 36480}\ncount   138242.00000\nmean        24.84959\nstd         80.62666\nmin          0.00000\n25%          0.00000\n50%          0.00000\n75%         14.45250\nmax       4588.54161\nName: dist, dtype: float64\n2.93\n[[99581, 4429], [4429, 29803]]\n"
    }
   ],
   "source": [
    "print(fill_down_match_rate)\n",
    "print(fill_down_addr_success)\n",
    "print(fill_down_dist_error['dist'].describe())\n",
    "print(fill_down_under12)\n",
    "print(fill_down_cm)"
   ]
  },
  {
   "cell_type": "markdown",
   "metadata": {},
   "source": [
    "# K-Between"
   ]
  },
  {
   "cell_type": "code",
   "execution_count": 58,
   "metadata": {},
   "outputs": [
    {
     "output_type": "stream",
     "name": "stdout",
     "text": "Running\nCreating dictionary of sub dfs (1/4)...\nApplying algorithms iteratively (2/4)...\nCleaning output (3/4)...\nDisambiguating (4/4)...\nDone! :)\n"
    }
   ],
   "source": [
    "basic = Disambiguator1880(match)\n",
    "basic.run_disambiguation()"
   ]
  },
  {
   "cell_type": "code",
   "execution_count": 60,
   "metadata": {},
   "outputs": [
    {
     "output_type": "execute_result",
     "data": {
      "text/plain": "138242"
     },
     "metadata": {},
     "execution_count": 60
    }
   ],
   "source": [
    "len(basic.get_result())"
   ]
  },
  {
   "cell_type": "code",
   "execution_count": 66,
   "metadata": {},
   "outputs": [],
   "source": [
    "census = benchmark.loc[:, ['CENSUS_ID', 'CENSUS_X', 'CENSUS_Y']].drop_duplicates()"
   ]
  },
  {
   "cell_type": "code",
   "execution_count": 67,
   "metadata": {},
   "outputs": [],
   "source": [
    "basic.merge_census_var(census)\n",
    "basic.set_var()"
   ]
  },
  {
   "cell_type": "code",
   "execution_count": 68,
   "metadata": {},
   "outputs": [
    {
     "output_type": "execute_result",
     "data": {
      "text/plain": "   Unnamed: 0     CD_ID CD_FIRST_NAME CD_LAST_NAME  \\\n0       43236  CD_74371       Patrick       Murphy   \n1       43233  CD_74371       Patrick       Murphy   \n2       43235  CD_74371       Patrick       Murphy   \n3       43234  CD_74371       Patrick       Murphy   \n4       14137  CD_24242        George         Suau   \n\n                   MATCH_ADDR CD_OCCUPATION  num_matches    CENSUS_ID  \\\n0   71 PEARL ST, New York, NY       express            4   CENSUS_172   \n1   71 PEARL ST, New York, NY       express            4  CENSUS_1537   \n2   71 PEARL ST, New York, NY       express            4  CENSUS_3399   \n3   71 PEARL ST, New York, NY       express            4  CENSUS_3783   \n4  129 BROAD ST, New York, NY           mer            2   CENSUS_306   \n\n  CENSUS_NAMEFRSCLEAN CENSUS_NAMELASTB  \\\n0             PATRICK           MURPHY   \n1             PATRICK           MURPHY   \n2             PATRICK          MURPHEY   \n3             PATRICK           MURPHY   \n4              GEORGE             SWEE   \n\n                        CENSUS_MATCH_ADDR  CENSUS_AGE  CENSUS_OCCLABELB  \\\n0  42 GOVERNORS ISLAND, NYC-Manhattan, NY          39  CLERK, U.S. ARMY   \n1          57 PEARL ST, NYC-Manhattan, NY          44        EXPRESSMAN   \n2       26 CASTLE PARK, NYC-Manhattan, NY          24           LABORER   \n3       26 CASTLE PARK, NYC-Manhattan, NY          30           LABORER   \n4  22 GOVERNORS ISLAND, NYC-Manhattan, NY           5                 *   \n\n   WARD_NUM  CENSUS_ENUMDIST  CENSUS_SEGMENT_ID  CD_BLOCK_NUM  \\\n0         1                1                  2          3783   \n1         1                1                 41          3783   \n2         1                1                 64          3783   \n3         1                1                 64          3783   \n4         1                1                  2          3798   \n\n   census_occupation_listed  jaro_winkler_aggr_score  confidence_score  \\\n0                         1                  1.00000           0.85000   \n1                         1                  1.00000           0.85000   \n2                         1                  0.97600           0.84000   \n3                         1                  1.00000           0.85000   \n4                         0                  0.73000           0.66000   \n\n       LONG      LAT  age_score  census_count  anchor  group_ID node_ID  \\\n0 -74.01085 40.70374          1             1       0   0.00000     NaN   \n1 -74.01085 40.70374          1             1       0  46.00000    N7_0   \n2 -74.01085 40.70374          1             1       0  54.00000    N8_0   \n3 -74.01085 40.70374          1             1       0  55.00000    N1_0   \n4 -74.01110 40.70195          0             1       0   0.00000     NaN   \n\n  letter  in_cluster     key  spatial_weight  selected  graph_ID  CENSUS_X  \\\n0    NaN         nan     nan         1.85000   0.00000         0 -74.01658   \n1     N7     0.00000 0.00000         1.85000   0.00000         0 -74.01138   \n2     N8    -1.00000 0.00000         1.84000   0.00000         0 -74.01655   \n3     N1     0.00000 0.00000         1.85000   1.00000         0 -74.01655   \n4    NaN         nan     nan         1.66000   1.00000         1 -74.01714   \n\n   CENSUS_Y  \n0  40.69059  \n1  40.70359  \n2  40.70456  \n3  40.70456  \n4  40.69100  ",
      "text/html": "<div>\n<style scoped>\n    .dataframe tbody tr th:only-of-type {\n        vertical-align: middle;\n    }\n\n    .dataframe tbody tr th {\n        vertical-align: top;\n    }\n\n    .dataframe thead th {\n        text-align: right;\n    }\n</style>\n<table border=\"1\" class=\"dataframe\">\n  <thead>\n    <tr style=\"text-align: right;\">\n      <th></th>\n      <th>Unnamed: 0</th>\n      <th>CD_ID</th>\n      <th>CD_FIRST_NAME</th>\n      <th>CD_LAST_NAME</th>\n      <th>MATCH_ADDR</th>\n      <th>CD_OCCUPATION</th>\n      <th>num_matches</th>\n      <th>CENSUS_ID</th>\n      <th>CENSUS_NAMEFRSCLEAN</th>\n      <th>CENSUS_NAMELASTB</th>\n      <th>CENSUS_MATCH_ADDR</th>\n      <th>CENSUS_AGE</th>\n      <th>CENSUS_OCCLABELB</th>\n      <th>WARD_NUM</th>\n      <th>CENSUS_ENUMDIST</th>\n      <th>CENSUS_SEGMENT_ID</th>\n      <th>CD_BLOCK_NUM</th>\n      <th>census_occupation_listed</th>\n      <th>jaro_winkler_aggr_score</th>\n      <th>confidence_score</th>\n      <th>LONG</th>\n      <th>LAT</th>\n      <th>age_score</th>\n      <th>census_count</th>\n      <th>anchor</th>\n      <th>group_ID</th>\n      <th>node_ID</th>\n      <th>letter</th>\n      <th>in_cluster</th>\n      <th>key</th>\n      <th>spatial_weight</th>\n      <th>selected</th>\n      <th>graph_ID</th>\n      <th>CENSUS_X</th>\n      <th>CENSUS_Y</th>\n    </tr>\n  </thead>\n  <tbody>\n    <tr>\n      <th>0</th>\n      <td>43236</td>\n      <td>CD_74371</td>\n      <td>Patrick</td>\n      <td>Murphy</td>\n      <td>71 PEARL ST, New York, NY</td>\n      <td>express</td>\n      <td>4</td>\n      <td>CENSUS_172</td>\n      <td>PATRICK</td>\n      <td>MURPHY</td>\n      <td>42 GOVERNORS ISLAND, NYC-Manhattan, NY</td>\n      <td>39</td>\n      <td>CLERK, U.S. ARMY</td>\n      <td>1</td>\n      <td>1</td>\n      <td>2</td>\n      <td>3783</td>\n      <td>1</td>\n      <td>1.00000</td>\n      <td>0.85000</td>\n      <td>-74.01085</td>\n      <td>40.70374</td>\n      <td>1</td>\n      <td>1</td>\n      <td>0</td>\n      <td>0.00000</td>\n      <td>NaN</td>\n      <td>NaN</td>\n      <td>nan</td>\n      <td>nan</td>\n      <td>1.85000</td>\n      <td>0.00000</td>\n      <td>0</td>\n      <td>-74.01658</td>\n      <td>40.69059</td>\n    </tr>\n    <tr>\n      <th>1</th>\n      <td>43233</td>\n      <td>CD_74371</td>\n      <td>Patrick</td>\n      <td>Murphy</td>\n      <td>71 PEARL ST, New York, NY</td>\n      <td>express</td>\n      <td>4</td>\n      <td>CENSUS_1537</td>\n      <td>PATRICK</td>\n      <td>MURPHY</td>\n      <td>57 PEARL ST, NYC-Manhattan, NY</td>\n      <td>44</td>\n      <td>EXPRESSMAN</td>\n      <td>1</td>\n      <td>1</td>\n      <td>41</td>\n      <td>3783</td>\n      <td>1</td>\n      <td>1.00000</td>\n      <td>0.85000</td>\n      <td>-74.01085</td>\n      <td>40.70374</td>\n      <td>1</td>\n      <td>1</td>\n      <td>0</td>\n      <td>46.00000</td>\n      <td>N7_0</td>\n      <td>N7</td>\n      <td>0.00000</td>\n      <td>0.00000</td>\n      <td>1.85000</td>\n      <td>0.00000</td>\n      <td>0</td>\n      <td>-74.01138</td>\n      <td>40.70359</td>\n    </tr>\n    <tr>\n      <th>2</th>\n      <td>43235</td>\n      <td>CD_74371</td>\n      <td>Patrick</td>\n      <td>Murphy</td>\n      <td>71 PEARL ST, New York, NY</td>\n      <td>express</td>\n      <td>4</td>\n      <td>CENSUS_3399</td>\n      <td>PATRICK</td>\n      <td>MURPHEY</td>\n      <td>26 CASTLE PARK, NYC-Manhattan, NY</td>\n      <td>24</td>\n      <td>LABORER</td>\n      <td>1</td>\n      <td>1</td>\n      <td>64</td>\n      <td>3783</td>\n      <td>1</td>\n      <td>0.97600</td>\n      <td>0.84000</td>\n      <td>-74.01085</td>\n      <td>40.70374</td>\n      <td>1</td>\n      <td>1</td>\n      <td>0</td>\n      <td>54.00000</td>\n      <td>N8_0</td>\n      <td>N8</td>\n      <td>-1.00000</td>\n      <td>0.00000</td>\n      <td>1.84000</td>\n      <td>0.00000</td>\n      <td>0</td>\n      <td>-74.01655</td>\n      <td>40.70456</td>\n    </tr>\n    <tr>\n      <th>3</th>\n      <td>43234</td>\n      <td>CD_74371</td>\n      <td>Patrick</td>\n      <td>Murphy</td>\n      <td>71 PEARL ST, New York, NY</td>\n      <td>express</td>\n      <td>4</td>\n      <td>CENSUS_3783</td>\n      <td>PATRICK</td>\n      <td>MURPHY</td>\n      <td>26 CASTLE PARK, NYC-Manhattan, NY</td>\n      <td>30</td>\n      <td>LABORER</td>\n      <td>1</td>\n      <td>1</td>\n      <td>64</td>\n      <td>3783</td>\n      <td>1</td>\n      <td>1.00000</td>\n      <td>0.85000</td>\n      <td>-74.01085</td>\n      <td>40.70374</td>\n      <td>1</td>\n      <td>1</td>\n      <td>0</td>\n      <td>55.00000</td>\n      <td>N1_0</td>\n      <td>N1</td>\n      <td>0.00000</td>\n      <td>0.00000</td>\n      <td>1.85000</td>\n      <td>1.00000</td>\n      <td>0</td>\n      <td>-74.01655</td>\n      <td>40.70456</td>\n    </tr>\n    <tr>\n      <th>4</th>\n      <td>14137</td>\n      <td>CD_24242</td>\n      <td>George</td>\n      <td>Suau</td>\n      <td>129 BROAD ST, New York, NY</td>\n      <td>mer</td>\n      <td>2</td>\n      <td>CENSUS_306</td>\n      <td>GEORGE</td>\n      <td>SWEE</td>\n      <td>22 GOVERNORS ISLAND, NYC-Manhattan, NY</td>\n      <td>5</td>\n      <td>*</td>\n      <td>1</td>\n      <td>1</td>\n      <td>2</td>\n      <td>3798</td>\n      <td>0</td>\n      <td>0.73000</td>\n      <td>0.66000</td>\n      <td>-74.01110</td>\n      <td>40.70195</td>\n      <td>0</td>\n      <td>1</td>\n      <td>0</td>\n      <td>0.00000</td>\n      <td>NaN</td>\n      <td>NaN</td>\n      <td>nan</td>\n      <td>nan</td>\n      <td>1.66000</td>\n      <td>1.00000</td>\n      <td>1</td>\n      <td>-74.01714</td>\n      <td>40.69100</td>\n    </tr>\n  </tbody>\n</table>\n</div>"
     },
     "metadata": {},
     "execution_count": 68
    }
   ],
   "source": [
    "basic_df = basic.get_result()\n",
    "basic_df.head()"
   ]
  },
  {
   "cell_type": "code",
   "execution_count": 70,
   "metadata": {},
   "outputs": [],
   "source": [
    "basic_match_rate = da.get_match_rate(basic_df)\n",
    "basic_addr_success = da.get_addr_success(basic_df)\n",
    "basic_dist_error = da.get_dist_error(basic_df)\n",
    "basic_under12 = da.get_under12_selections(basic_df)"
   ]
  },
  {
   "cell_type": "code",
   "execution_count": 71,
   "metadata": {},
   "outputs": [],
   "source": [
    "basic_cm = da.compare_selections(basic_df, benchmark)['confusion_matrix']"
   ]
  },
  {
   "cell_type": "code",
   "execution_count": 72,
   "metadata": {},
   "outputs": [
    {
     "output_type": "stream",
     "name": "stdout",
     "text": "98.97\n{'n_perfect_match_chosen': 29098, 'n_perfect_match': 36480}\ncount    138242.00000\nmean        108.16645\nstd        6943.01410\nmin           0.12669\n25%          37.29095\n50%          53.17061\n75%          66.81086\nmax     2579733.13267\nName: dist, dtype: float64\n2.16\n[[100519, 3491], [3491, 30741]]\n"
    }
   ],
   "source": [
    "print(basic_match_rate)\n",
    "print(basic_addr_success)\n",
    "print(basic_dist_error['dist'].describe())\n",
    "print(basic_under12)\n",
    "print(basic_cm)"
   ]
  }
 ],
 "metadata": {
  "language_info": {
   "codemirror_mode": {
    "name": "ipython",
    "version": 3
   },
   "file_extension": ".py",
   "mimetype": "text/x-python",
   "name": "python",
   "nbconvert_exporter": "python",
   "pygments_lexer": "ipython3",
   "version": "3.7.3-final"
  },
  "orig_nbformat": 2,
  "kernelspec": {
   "name": "python3",
   "display_name": "Python 3"
  }
 },
 "nbformat": 4,
 "nbformat_minor": 2
}