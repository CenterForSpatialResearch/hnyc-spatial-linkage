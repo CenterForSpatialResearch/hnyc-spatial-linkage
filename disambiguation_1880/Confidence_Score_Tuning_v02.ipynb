{
 "cells": [
  {
   "cell_type": "code",
   "execution_count": 1,
   "metadata": {},
   "outputs": [],
   "source": [
    "import os\n",
    "import sys\n",
    "module_path = os.path.abspath(os.path.join('..'))\n",
    "if module_path not in sys.path:\n",
    "    sys.path.append(module_path)\n",
    "\n",
    "%load_ext autoreload\n",
    "%autoreload 2\n",
    "import pandas as pd\n",
    "import networkx as nx\n",
    "import numpy as np\n",
    "import disambiguation\n",
    "from disambiguation import Disambiguator, Disambiguator1880\n",
    "import disambiguation.analysis as da\n",
    "import matplotlib.pyplot as plt\n",
    "import seaborn as sns\n",
    "import pickle\n",
    "import random\n",
    "import re\n",
    "import disambiguation.processing as dp \n",
    "from disambiguation import Benchmark"
   ]
  },
  {
   "cell_type": "markdown",
   "metadata": {},
   "source": [
    "#### Get and Format Data"
   ]
  },
  {
   "cell_type": "code",
   "execution_count": 2,
   "metadata": {},
   "outputs": [],
   "source": [
    "#elastic_match = pd.read_csv(\"../../Data/matches.csv\")\n",
    "elastic_match = pd.read_csv(\"../data/es-1880-21-5-2020.csv\", sep='\\t', engine='python')"
   ]
  },
  {
   "cell_type": "code",
   "execution_count": 3,
   "metadata": {},
   "outputs": [
    {
     "name": "stderr",
     "output_type": "stream",
     "text": [
      "/Users/tabithasugumar/anaconda3/lib/python3.7/site-packages/IPython/core/interactiveshell.py:3063: DtypeWarning: Columns (22) have mixed types. Specify dtype option on import or set low_memory=False.\n",
      "  interactivity=interactivity, compiler=compiler, result=result)\n"
     ]
    }
   ],
   "source": [
    "census = pd.read_csv(\"../data/census_1880_mn_v04.csv\")\n",
    "def census_for_disamb(census):\n",
    "    census_latlng_tuning = census.copy()\n",
    "    census_latlng_tuning['CENSUS_ID'] = 'CENSUS_' + census_latlng_tuning['OBJECTID.x'].astype(str)\n",
    "    census_latlng_tuning = census_latlng_tuning.loc[:, ['CENSUS_ID', 'CENSUS_X', 'CENSUS_Y']]\n",
    "    census_latlng_tuning.loc[census_latlng_tuning.CENSUS_Y > 1000, 'CENSUS_Y'] = 40.799935\n",
    "    return census_latlng_tuning"
   ]
  },
  {
   "cell_type": "code",
   "execution_count": 4,
   "metadata": {},
   "outputs": [],
   "source": [
    "#cd_latlng\n",
    "latlng = pd.read_csv(\"../data/cd_1880.csv\")"
   ]
  },
  {
   "cell_type": "markdown",
   "metadata": {},
   "source": [
    "#### Format data"
   ]
  },
  {
   "cell_type": "code",
   "execution_count": 5,
   "metadata": {},
   "outputs": [],
   "source": [
    "match = dp.elastic_to_disamb(elastic_match, latlng)"
   ]
  },
  {
   "cell_type": "markdown",
   "metadata": {},
   "source": [
    "#### Create sample (a small number of Wards)"
   ]
  },
  {
   "cell_type": "code",
   "execution_count": 6,
   "metadata": {},
   "outputs": [],
   "source": [
    "# def get_sample(df, number = 5):\n",
    "#     wards = df.WARD_NUM.unique()\n",
    "#     wards_selected = random.sample(range(min(wards),max(wards)+1), number)\n",
    "#     return df[df.WARD_NUM.isin(wards_selected)]\n",
    "    \n",
    "# match_sample = get_sample(match, number = 1)"
   ]
  },
  {
   "cell_type": "code",
   "execution_count": 7,
   "metadata": {},
   "outputs": [],
   "source": [
    "# #Print wards in sample for documentation notes\n",
    "# print(\"Wards Included in Sample:\",match_sample.WARD_NUM.unique())"
   ]
  },
  {
   "cell_type": "code",
   "execution_count": 6,
   "metadata": {},
   "outputs": [],
   "source": [
    "#get sample based on historical context\n",
    "wards = [3,9,10,18,21,22]\n",
    "match_sample = match[match.WARD_NUM.isin(wards)]"
   ]
  },
  {
   "cell_type": "markdown",
   "metadata": {},
   "source": [
    "#### Confidence Score Tuning Functions"
   ]
  },
  {
   "cell_type": "markdown",
   "metadata": {},
   "source": [
    "#### Note: The version used here does not incorporate the cf score in the benchmark weights"
   ]
  },
  {
   "cell_type": "code",
   "execution_count": 7,
   "metadata": {},
   "outputs": [],
   "source": [
    "#function to get confidence score including specified columns and weights\n",
    "def confidence_score(df, columns, weights):\n",
    "    return [sum(row[col]*w for col, w in zip(columns,weights)) for index,row in df.iterrows()]"
   ]
  },
  {
   "cell_type": "code",
   "execution_count": 8,
   "metadata": {},
   "outputs": [],
   "source": [
    "def confidence_score_tuning(param_grid, df_allcols, df_census, df_cd):\n",
    "    #Store results\n",
    "    results = {}\n",
    "    df = df_allcols.copy()\n",
    "    \n",
    "    #Get confidence score for each value in grid\n",
    "    for i in range(len(param_grid)):\n",
    "        name = \"confidence_score_\"+str(i)\n",
    "        df.loc[:,name] = confidence_score(df_allcols, param_grid[i][\"columns\"], param_grid[i][\"weights\"])\n",
    "        \n",
    "    #Create benchmark object\n",
    "    benchmark = Benchmark(df, df_census, df_cd)\n",
    "    \n",
    "    #Format census data for tuning\n",
    "    census_tuning = census_for_disamb(df_census)\n",
    "    \n",
    "   # try:\n",
    "    for i in range(len(param_grid)):\n",
    "\n",
    "        name = \"confidence_score_\"+str(i)\n",
    "\n",
    "        #Run disambiguation process (use betweeness and clustering -- based on Jolene's work)\n",
    "        basic = disambiguation.Disambiguator1880(df, confidence = name)\n",
    "\n",
    "        try:\n",
    "            basic.run_disambiguation()\n",
    "        except:\n",
    "            continue\n",
    "\n",
    "        result = basic.get_result() #.to_csv(\"..data/confidence_score_tuning/confidence_score_\"+str(i))\n",
    "\n",
    "        #Results analysis\n",
    "        basic.merge_census_var(census_tuning)\n",
    "        basic.set_var() \n",
    "\n",
    "        #benchmarking\n",
    "        benchmark.set_confidence(name)\n",
    "        benchmark.set_disambiguated(result)\n",
    "        benchmark.run_benchmarking()\n",
    "\n",
    "        #Store results\n",
    "        results[name] = {\"columns\":param_grid[i][\"columns\"], \"weights\":param_grid[i][\"weights\"], \"Match Rate\":basic.get_match_rate(), \"Address Success\":basic.get_addr_success(),\"Under 12\":basic.get_under12_selections(), \"confusion matrix\":benchmark.get_confusion_matrix()}\n",
    "        \n",
    "    #will return results so far even if exception occurs\n",
    "        #Spit out the best columns and weights (Add this in when decide what makes something the best)\n",
    "        #For now simply output the analysis\n",
    "    return results\n",
    "    "
   ]
  },
  {
   "cell_type": "markdown",
   "metadata": {},
   "source": [
    "#### Run Confidence Score Tuning"
   ]
  },
  {
   "cell_type": "code",
   "execution_count": 17,
   "metadata": {},
   "outputs": [],
   "source": [
    "#Columns and weights\n",
    "param_grid = [{\"columns\": ['jw_score','cd_count_inverse','census_count_inverse', 'occ_listed', 'age_score'], \"weights\":[0.5,0.2,0.2,0.05,0.05]},\n",
    "              {\"columns\": ['jw_score','cd_count_inverse','census_count_inverse', 'occ_listed', 'age_score'], \"weights\":[0.55,0.18,0.18,0.05,0.04]},\n",
    "             {\"columns\": ['jw_score','cd_count_inverse','census_count_inverse', 'occ_listed', 'age_score'], \"weights\":[0.7,0.1,0.1,0.05,0.05]}, #Best outcome\n",
    "             {\"columns\": ['jw_score','cd_count_inverse','census_count_inverse', 'occ_listed', 'age_score'], \"weights\":[0.6,0.1,0.1,0.1,0.1]},\n",
    "              {\"columns\": ['jw_score', 'occ_listed', 'age_score'], \"weights\":[0.8,0.10,0.10]},\n",
    "             {\"columns\": ['jw_score','census_count_inverse', 'occ_listed', 'age_score'], \"weights\":[0.6,0.15,0.1,0.15]},\n",
    "             {\"columns\": ['jw_score','cd_count_inverse','census_count_inverse', 'occ_listed', 'age_score'], \"weights\":[0.8,0.05,0.05,0.05,0.05]},\n",
    "             {\"columns\": ['jw_score','cd_count_inverse','census_count_inverse', 'occ_listed', 'age_score'], \"weights\":[0.6,0.15,0.15,0.05,0.05]}]"
   ]
  },
  {
   "cell_type": "code",
   "execution_count": 20,
   "metadata": {
    "scrolled": false
   },
   "outputs": [
    {
     "name": "stdout",
     "output_type": "stream",
     "text": [
      "Running\n",
      "Creating dictionary of sub dfs (1/4)...\n",
      "Applying algorithms iteratively (2/4)...\n",
      "Number of Subgraphs: 15333\n",
      "Reached: 0\n",
      "Reached: 1000\n",
      "Reached: 2000\n",
      "Reached: 3000\n",
      "Reached: 4000\n",
      "Reached: 5000\n",
      "Reached: 6000\n",
      "Reached: 7000\n",
      "Reached: 8000\n",
      "Reached: 9000\n",
      "Reached: 10000\n",
      "Reached: 11000\n",
      "Reached: 12000\n",
      "Reached: 13000\n",
      "Reached: 14000\n",
      "Reached: 15000\n",
      "Cleaning output (3/4)...\n"
     ]
    },
    {
     "name": "stderr",
     "output_type": "stream",
     "text": [
      "/Users/tabithasugumar/Documents/HNYC/SpatialLinkage/disambiguation/__init__.py:43: FutureWarning: Sorting because non-concatenation axis is not aligned. A future version\n",
      "of pandas will change to not sort by default.\n",
      "\n",
      "To accept the future behavior, pass 'sort=False'.\n",
      "\n",
      "To retain the current behavior and silence the warning, pass 'sort=True'.\n",
      "\n",
      "  final = pd.concat(sub_groups)\n"
     ]
    },
    {
     "name": "stdout",
     "output_type": "stream",
     "text": [
      "Disambiguating (4/4)...\n",
      "Total time: 206.41312289237976\n",
      "Done! :)\n",
      "Running\n",
      "Creating dictionary of sub dfs (1/4)...\n",
      "Applying algorithms iteratively (2/4)...\n",
      "Number of Subgraphs: 15333\n",
      "Reached: 0\n",
      "Reached: 1000\n",
      "Reached: 2000\n",
      "Reached: 3000\n",
      "Reached: 4000\n",
      "Reached: 5000\n",
      "Reached: 6000\n",
      "Reached: 7000\n",
      "Reached: 8000\n",
      "Reached: 9000\n",
      "Reached: 10000\n",
      "Reached: 11000\n",
      "Reached: 12000\n",
      "Reached: 13000\n",
      "Reached: 14000\n",
      "Reached: 15000\n",
      "Cleaning output (3/4)...\n"
     ]
    },
    {
     "name": "stderr",
     "output_type": "stream",
     "text": [
      "/Users/tabithasugumar/Documents/HNYC/SpatialLinkage/disambiguation/__init__.py:43: FutureWarning: Sorting because non-concatenation axis is not aligned. A future version\n",
      "of pandas will change to not sort by default.\n",
      "\n",
      "To accept the future behavior, pass 'sort=False'.\n",
      "\n",
      "To retain the current behavior and silence the warning, pass 'sort=True'.\n",
      "\n",
      "  final = pd.concat(sub_groups)\n"
     ]
    },
    {
     "name": "stdout",
     "output_type": "stream",
     "text": [
      "Disambiguating (4/4)...\n",
      "Total time: 217.6718089580536\n",
      "Done! :)\n",
      "Running\n",
      "Creating dictionary of sub dfs (1/4)...\n",
      "Applying algorithms iteratively (2/4)...\n",
      "Number of Subgraphs: 15333\n",
      "Reached: 0\n",
      "Reached: 1000\n",
      "Reached: 2000\n",
      "Reached: 3000\n",
      "Reached: 4000\n",
      "Reached: 5000\n",
      "Reached: 6000\n",
      "Reached: 7000\n",
      "Reached: 8000\n",
      "Reached: 9000\n",
      "Reached: 10000\n",
      "Reached: 11000\n",
      "Reached: 12000\n",
      "Reached: 13000\n",
      "Reached: 14000\n",
      "Reached: 15000\n",
      "Cleaning output (3/4)...\n"
     ]
    },
    {
     "name": "stderr",
     "output_type": "stream",
     "text": [
      "/Users/tabithasugumar/Documents/HNYC/SpatialLinkage/disambiguation/__init__.py:43: FutureWarning: Sorting because non-concatenation axis is not aligned. A future version\n",
      "of pandas will change to not sort by default.\n",
      "\n",
      "To accept the future behavior, pass 'sort=False'.\n",
      "\n",
      "To retain the current behavior and silence the warning, pass 'sort=True'.\n",
      "\n",
      "  final = pd.concat(sub_groups)\n"
     ]
    },
    {
     "name": "stdout",
     "output_type": "stream",
     "text": [
      "Disambiguating (4/4)...\n",
      "Total time: 217.9502329826355\n",
      "Done! :)\n",
      "Running\n",
      "Creating dictionary of sub dfs (1/4)...\n",
      "Applying algorithms iteratively (2/4)...\n",
      "Number of Subgraphs: 0\n",
      "Cleaning output (3/4)...\n",
      "Running\n",
      "Creating dictionary of sub dfs (1/4)...\n",
      "Applying algorithms iteratively (2/4)...\n",
      "Number of Subgraphs: 26289\n",
      "Reached: 0\n",
      "Running\n",
      "Creating dictionary of sub dfs (1/4)...\n",
      "Applying algorithms iteratively (2/4)...\n",
      "Number of Subgraphs: 23671\n",
      "Reached: 0\n",
      "Reached: 1000\n",
      "Reached: 2000\n",
      "Reached: 3000\n",
      "Reached: 4000\n",
      "Reached: 5000\n",
      "Reached: 6000\n",
      "Reached: 7000\n",
      "Reached: 8000\n",
      "Reached: 9000\n",
      "Reached: 10000\n",
      "Reached: 11000\n",
      "Reached: 12000\n",
      "Reached: 13000\n",
      "Reached: 14000\n",
      "Reached: 15000\n",
      "Reached: 16000\n",
      "Reached: 17000\n",
      "Reached: 18000\n",
      "Reached: 19000\n",
      "Reached: 20000\n",
      "Reached: 21000\n",
      "Reached: 22000\n",
      "Reached: 23000\n",
      "Cleaning output (3/4)...\n"
     ]
    },
    {
     "name": "stderr",
     "output_type": "stream",
     "text": [
      "/Users/tabithasugumar/Documents/HNYC/SpatialLinkage/disambiguation/__init__.py:43: FutureWarning: Sorting because non-concatenation axis is not aligned. A future version\n",
      "of pandas will change to not sort by default.\n",
      "\n",
      "To accept the future behavior, pass 'sort=False'.\n",
      "\n",
      "To retain the current behavior and silence the warning, pass 'sort=True'.\n",
      "\n",
      "  final = pd.concat(sub_groups)\n"
     ]
    },
    {
     "name": "stdout",
     "output_type": "stream",
     "text": [
      "Disambiguating (4/4)...\n",
      "Total time: 257.7328791618347\n",
      "Done! :)\n",
      "Running\n",
      "Creating dictionary of sub dfs (1/4)...\n",
      "Applying algorithms iteratively (2/4)...\n",
      "Number of Subgraphs: 0\n",
      "Cleaning output (3/4)...\n",
      "Running\n",
      "Creating dictionary of sub dfs (1/4)...\n",
      "Applying algorithms iteratively (2/4)...\n",
      "Number of Subgraphs: 15333\n",
      "Reached: 0\n",
      "Reached: 1000\n",
      "Reached: 2000\n",
      "Reached: 3000\n",
      "Reached: 4000\n",
      "Reached: 5000\n",
      "Reached: 6000\n",
      "Reached: 7000\n",
      "Reached: 8000\n",
      "Reached: 9000\n",
      "Reached: 10000\n",
      "Reached: 11000\n",
      "Reached: 12000\n",
      "Reached: 13000\n",
      "Reached: 14000\n",
      "Reached: 15000\n",
      "Cleaning output (3/4)...\n"
     ]
    },
    {
     "name": "stderr",
     "output_type": "stream",
     "text": [
      "/Users/tabithasugumar/Documents/HNYC/SpatialLinkage/disambiguation/__init__.py:43: FutureWarning: Sorting because non-concatenation axis is not aligned. A future version\n",
      "of pandas will change to not sort by default.\n",
      "\n",
      "To accept the future behavior, pass 'sort=False'.\n",
      "\n",
      "To retain the current behavior and silence the warning, pass 'sort=True'.\n",
      "\n",
      "  final = pd.concat(sub_groups)\n"
     ]
    },
    {
     "name": "stdout",
     "output_type": "stream",
     "text": [
      "Disambiguating (4/4)...\n",
      "Total time: 210.45189690589905\n",
      "Done! :)\n"
     ]
    }
   ],
   "source": [
    "tuning_results = confidence_score_tuning(param_grid, match_sample, census, latlng)"
   ]
  },
  {
   "cell_type": "code",
   "execution_count": 21,
   "metadata": {},
   "outputs": [
    {
     "data": {
      "text/html": [
       "<div>\n",
       "<style scoped>\n",
       "    .dataframe tbody tr th:only-of-type {\n",
       "        vertical-align: middle;\n",
       "    }\n",
       "\n",
       "    .dataframe tbody tr th {\n",
       "        vertical-align: top;\n",
       "    }\n",
       "\n",
       "    .dataframe thead th {\n",
       "        text-align: right;\n",
       "    }\n",
       "</style>\n",
       "<table border=\"1\" class=\"dataframe\">\n",
       "  <thead>\n",
       "    <tr style=\"text-align: right;\">\n",
       "      <th></th>\n",
       "      <th>confidence_score_0</th>\n",
       "      <th>confidence_score_1</th>\n",
       "      <th>confidence_score_2</th>\n",
       "      <th>confidence_score_5</th>\n",
       "      <th>confidence_score_7</th>\n",
       "    </tr>\n",
       "  </thead>\n",
       "  <tbody>\n",
       "    <tr>\n",
       "      <th>columns</th>\n",
       "      <td>[jw_score, cd_count_inverse, census_count_inve...</td>\n",
       "      <td>[jw_score, cd_count_inverse, census_count_inve...</td>\n",
       "      <td>[jw_score, cd_count_inverse, census_count_inve...</td>\n",
       "      <td>[jw_score, census_count_inverse, occ_listed, a...</td>\n",
       "      <td>[jw_score, cd_count_inverse, census_count_inve...</td>\n",
       "    </tr>\n",
       "    <tr>\n",
       "      <th>weights</th>\n",
       "      <td>[0.5, 0.2, 0.2, 0.05, 0.05]</td>\n",
       "      <td>[0.55, 0.18, 0.18, 0.05, 0.04]</td>\n",
       "      <td>[0.7, 0.1, 0.1, 0.05, 0.05]</td>\n",
       "      <td>[0.6, 0.15, 0.1, 0.15]</td>\n",
       "      <td>[0.6, 0.15, 0.15, 0.05, 0.05]</td>\n",
       "    </tr>\n",
       "    <tr>\n",
       "      <th>Match Rate</th>\n",
       "      <td>98.48</td>\n",
       "      <td>98.48</td>\n",
       "      <td>98.48</td>\n",
       "      <td>98.48</td>\n",
       "      <td>98.48</td>\n",
       "    </tr>\n",
       "    <tr>\n",
       "      <th>Address Success</th>\n",
       "      <td>{'n_perfect_match_chosen': 8446, 'n_perfect_ma...</td>\n",
       "      <td>{'n_perfect_match_chosen': 8444, 'n_perfect_ma...</td>\n",
       "      <td>{'n_perfect_match_chosen': 8445, 'n_perfect_ma...</td>\n",
       "      <td>{'n_perfect_match_chosen': 8442, 'n_perfect_ma...</td>\n",
       "      <td>{'n_perfect_match_chosen': 8448, 'n_perfect_ma...</td>\n",
       "    </tr>\n",
       "    <tr>\n",
       "      <th>Under 12</th>\n",
       "      <td>2.6</td>\n",
       "      <td>2.68</td>\n",
       "      <td>2.68</td>\n",
       "      <td>2.45</td>\n",
       "      <td>2.65</td>\n",
       "    </tr>\n",
       "    <tr>\n",
       "      <th>confusion matrix</th>\n",
       "      <td>[[30643, 3775], [3775, 11334]]</td>\n",
       "      <td>[[30652, 3766], [3766, 11343]]</td>\n",
       "      <td>[[30653, 3765], [3765, 11344]]</td>\n",
       "      <td>[[30627, 3791], [3791, 11318]]</td>\n",
       "      <td>[[30648, 3770], [3770, 11339]]</td>\n",
       "    </tr>\n",
       "  </tbody>\n",
       "</table>\n",
       "</div>"
      ],
      "text/plain": [
       "                                                 confidence_score_0  \\\n",
       "columns           [jw_score, cd_count_inverse, census_count_inve...   \n",
       "weights                                 [0.5, 0.2, 0.2, 0.05, 0.05]   \n",
       "Match Rate                                                    98.48   \n",
       "Address Success   {'n_perfect_match_chosen': 8446, 'n_perfect_ma...   \n",
       "Under 12                                                        2.6   \n",
       "confusion matrix                     [[30643, 3775], [3775, 11334]]   \n",
       "\n",
       "                                                 confidence_score_1  \\\n",
       "columns           [jw_score, cd_count_inverse, census_count_inve...   \n",
       "weights                              [0.55, 0.18, 0.18, 0.05, 0.04]   \n",
       "Match Rate                                                    98.48   \n",
       "Address Success   {'n_perfect_match_chosen': 8444, 'n_perfect_ma...   \n",
       "Under 12                                                       2.68   \n",
       "confusion matrix                     [[30652, 3766], [3766, 11343]]   \n",
       "\n",
       "                                                 confidence_score_2  \\\n",
       "columns           [jw_score, cd_count_inverse, census_count_inve...   \n",
       "weights                                 [0.7, 0.1, 0.1, 0.05, 0.05]   \n",
       "Match Rate                                                    98.48   \n",
       "Address Success   {'n_perfect_match_chosen': 8445, 'n_perfect_ma...   \n",
       "Under 12                                                       2.68   \n",
       "confusion matrix                     [[30653, 3765], [3765, 11344]]   \n",
       "\n",
       "                                                 confidence_score_5  \\\n",
       "columns           [jw_score, census_count_inverse, occ_listed, a...   \n",
       "weights                                      [0.6, 0.15, 0.1, 0.15]   \n",
       "Match Rate                                                    98.48   \n",
       "Address Success   {'n_perfect_match_chosen': 8442, 'n_perfect_ma...   \n",
       "Under 12                                                       2.45   \n",
       "confusion matrix                     [[30627, 3791], [3791, 11318]]   \n",
       "\n",
       "                                                 confidence_score_7  \n",
       "columns           [jw_score, cd_count_inverse, census_count_inve...  \n",
       "weights                               [0.6, 0.15, 0.15, 0.05, 0.05]  \n",
       "Match Rate                                                    98.48  \n",
       "Address Success   {'n_perfect_match_chosen': 8448, 'n_perfect_ma...  \n",
       "Under 12                                                       2.65  \n",
       "confusion matrix                     [[30648, 3770], [3770, 11339]]  "
      ]
     },
     "metadata": {},
     "output_type": "display_data"
    }
   ],
   "source": [
    "display(pd.DataFrame.from_dict(tuning_results))"
   ]
  },
  {
   "cell_type": "markdown",
   "metadata": {},
   "source": [
    "#### Tune Explore Effect of not including confidence score in benchmark"
   ]
  },
  {
   "cell_type": "markdown",
   "metadata": {},
   "source": [
    "Not including the confidence score in the benchmarking process means changing the results of the benchmarking process. Generally, more errors are indicated, and the best weighting scheme becomes what we used originally.\n",
    "- To me not including the confidence score for the benchmark makes more sense, but I'm concerned because I feel like I don't understand why it was included in the first place and there must have been a reason"
   ]
  },
  {
   "cell_type": "code",
   "execution_count": 15,
   "metadata": {
    "scrolled": false
   },
   "outputs": [
    {
     "name": "stdout",
     "output_type": "stream",
     "text": [
      "Running\n",
      "Creating dictionary of sub dfs (1/4)...\n",
      "Applying algorithms iteratively (2/4)...\n",
      "Number of Subgraphs: 15333\n",
      "Reached: 0\n",
      "Reached: 1000\n",
      "Reached: 2000\n",
      "Reached: 3000\n",
      "Reached: 4000\n",
      "Reached: 5000\n",
      "Reached: 6000\n",
      "Reached: 7000\n",
      "Reached: 8000\n",
      "Reached: 9000\n",
      "Reached: 10000\n",
      "Reached: 11000\n",
      "Reached: 12000\n",
      "Reached: 13000\n",
      "Reached: 14000\n",
      "Reached: 15000\n",
      "Cleaning output (3/4)...\n"
     ]
    },
    {
     "name": "stderr",
     "output_type": "stream",
     "text": [
      "/Users/tabithasugumar/Documents/HNYC/SpatialLinkage/disambiguation/__init__.py:40: FutureWarning: Sorting because non-concatenation axis is not aligned. A future version\n",
      "of pandas will change to not sort by default.\n",
      "\n",
      "To accept the future behavior, pass 'sort=False'.\n",
      "\n",
      "To retain the current behavior and silence the warning, pass 'sort=True'.\n",
      "\n",
      "  final = pd.concat(sub_groups)\n"
     ]
    },
    {
     "name": "stdout",
     "output_type": "stream",
     "text": [
      "Disambiguating (4/4)...\n",
      "Done! :)\n",
      "Running\n",
      "Creating dictionary of sub dfs (1/4)...\n",
      "Applying algorithms iteratively (2/4)...\n",
      "Number of Subgraphs: 15333\n",
      "Reached: 0\n",
      "Reached: 1000\n",
      "Reached: 2000\n",
      "Reached: 3000\n",
      "Reached: 4000\n",
      "Reached: 5000\n",
      "Reached: 6000\n",
      "Reached: 7000\n",
      "Reached: 8000\n",
      "Reached: 9000\n",
      "Reached: 10000\n",
      "Reached: 11000\n",
      "Reached: 12000\n",
      "Reached: 13000\n",
      "Reached: 14000\n",
      "Reached: 15000\n",
      "Cleaning output (3/4)...\n"
     ]
    },
    {
     "name": "stderr",
     "output_type": "stream",
     "text": [
      "/Users/tabithasugumar/Documents/HNYC/SpatialLinkage/disambiguation/__init__.py:40: FutureWarning: Sorting because non-concatenation axis is not aligned. A future version\n",
      "of pandas will change to not sort by default.\n",
      "\n",
      "To accept the future behavior, pass 'sort=False'.\n",
      "\n",
      "To retain the current behavior and silence the warning, pass 'sort=True'.\n",
      "\n",
      "  final = pd.concat(sub_groups)\n"
     ]
    },
    {
     "name": "stdout",
     "output_type": "stream",
     "text": [
      "Disambiguating (4/4)...\n",
      "Done! :)\n",
      "Running\n",
      "Creating dictionary of sub dfs (1/4)...\n",
      "Applying algorithms iteratively (2/4)...\n",
      "Number of Subgraphs: 15333\n",
      "Reached: 0\n",
      "Reached: 1000\n",
      "Reached: 2000\n",
      "Reached: 3000\n",
      "Reached: 4000\n",
      "Reached: 5000\n",
      "Reached: 6000\n",
      "Reached: 7000\n",
      "Reached: 8000\n",
      "Reached: 9000\n",
      "Reached: 10000\n",
      "Reached: 11000\n",
      "Reached: 12000\n",
      "Reached: 13000\n",
      "Reached: 14000\n",
      "Reached: 15000\n",
      "Cleaning output (3/4)...\n"
     ]
    },
    {
     "name": "stderr",
     "output_type": "stream",
     "text": [
      "/Users/tabithasugumar/Documents/HNYC/SpatialLinkage/disambiguation/__init__.py:40: FutureWarning: Sorting because non-concatenation axis is not aligned. A future version\n",
      "of pandas will change to not sort by default.\n",
      "\n",
      "To accept the future behavior, pass 'sort=False'.\n",
      "\n",
      "To retain the current behavior and silence the warning, pass 'sort=True'.\n",
      "\n",
      "  final = pd.concat(sub_groups)\n"
     ]
    },
    {
     "name": "stdout",
     "output_type": "stream",
     "text": [
      "Disambiguating (4/4)...\n",
      "Done! :)\n",
      "Running\n",
      "Creating dictionary of sub dfs (1/4)...\n",
      "Applying algorithms iteratively (2/4)...\n",
      "Number of Subgraphs: 15333\n",
      "Reached: 0\n",
      "Reached: 1000\n",
      "Reached: 2000\n",
      "Reached: 3000\n",
      "Reached: 4000\n",
      "Reached: 5000\n",
      "Reached: 6000\n",
      "Reached: 7000\n",
      "Reached: 8000\n",
      "Reached: 9000\n",
      "Reached: 10000\n",
      "Reached: 11000\n",
      "Reached: 12000\n",
      "Reached: 13000\n",
      "Reached: 14000\n",
      "Reached: 15000\n",
      "Cleaning output (3/4)...\n"
     ]
    },
    {
     "name": "stderr",
     "output_type": "stream",
     "text": [
      "/Users/tabithasugumar/Documents/HNYC/SpatialLinkage/disambiguation/__init__.py:40: FutureWarning: Sorting because non-concatenation axis is not aligned. A future version\n",
      "of pandas will change to not sort by default.\n",
      "\n",
      "To accept the future behavior, pass 'sort=False'.\n",
      "\n",
      "To retain the current behavior and silence the warning, pass 'sort=True'.\n",
      "\n",
      "  final = pd.concat(sub_groups)\n"
     ]
    },
    {
     "name": "stdout",
     "output_type": "stream",
     "text": [
      "Disambiguating (4/4)...\n",
      "Done! :)\n"
     ]
    }
   ],
   "source": [
    "benchmark_test = confidence_score_tuning(param_grid, match_sample, census, latlng)"
   ]
  },
  {
   "cell_type": "code",
   "execution_count": 16,
   "metadata": {},
   "outputs": [
    {
     "data": {
      "text/html": [
       "<div>\n",
       "<style scoped>\n",
       "    .dataframe tbody tr th:only-of-type {\n",
       "        vertical-align: middle;\n",
       "    }\n",
       "\n",
       "    .dataframe tbody tr th {\n",
       "        vertical-align: top;\n",
       "    }\n",
       "\n",
       "    .dataframe thead th {\n",
       "        text-align: right;\n",
       "    }\n",
       "</style>\n",
       "<table border=\"1\" class=\"dataframe\">\n",
       "  <thead>\n",
       "    <tr style=\"text-align: right;\">\n",
       "      <th></th>\n",
       "      <th>confidence_score_0</th>\n",
       "      <th>confidence_score_1</th>\n",
       "      <th>confidence_score_2</th>\n",
       "      <th>confidence_score_3</th>\n",
       "    </tr>\n",
       "  </thead>\n",
       "  <tbody>\n",
       "    <tr>\n",
       "      <th>columns</th>\n",
       "      <td>[jw_score, cd_count_inverse, census_count_inve...</td>\n",
       "      <td>[jw_score, cd_count_inverse, census_count_inve...</td>\n",
       "      <td>[jw_score, cd_count_inverse, census_count_inve...</td>\n",
       "      <td>[jw_score, cd_count_inverse, census_count_inve...</td>\n",
       "    </tr>\n",
       "    <tr>\n",
       "      <th>weights</th>\n",
       "      <td>[0.5, 0.2, 0.2, 0.05, 0.05]</td>\n",
       "      <td>[0.55, 0.18, 0.18, 0.05, 0.04]</td>\n",
       "      <td>[0.7, 0.1, 0.1, 0.05, 0.05]</td>\n",
       "      <td>[0.6, 0.15, 0.15, 0.05, 0.05]</td>\n",
       "    </tr>\n",
       "    <tr>\n",
       "      <th>Match Rate</th>\n",
       "      <td>98.48</td>\n",
       "      <td>98.48</td>\n",
       "      <td>98.48</td>\n",
       "      <td>98.48</td>\n",
       "    </tr>\n",
       "    <tr>\n",
       "      <th>Address Success</th>\n",
       "      <td>{'n_perfect_match_chosen': 8434, 'n_perfect_ma...</td>\n",
       "      <td>{'n_perfect_match_chosen': 8429, 'n_perfect_ma...</td>\n",
       "      <td>{'n_perfect_match_chosen': 8428, 'n_perfect_ma...</td>\n",
       "      <td>{'n_perfect_match_chosen': 8431, 'n_perfect_ma...</td>\n",
       "    </tr>\n",
       "    <tr>\n",
       "      <th>Under 12</th>\n",
       "      <td>2.6</td>\n",
       "      <td>2.66</td>\n",
       "      <td>2.7</td>\n",
       "      <td>2.63</td>\n",
       "    </tr>\n",
       "    <tr>\n",
       "      <th>confusion matrix</th>\n",
       "      <td>[[30536, 3882], [3882, 11227]]</td>\n",
       "      <td>[[30533, 3885], [3885, 11224]]</td>\n",
       "      <td>[[30517, 3901], [3901, 11208]]</td>\n",
       "      <td>[[30531, 3887], [3887, 11222]]</td>\n",
       "    </tr>\n",
       "  </tbody>\n",
       "</table>\n",
       "</div>"
      ],
      "text/plain": [
       "                                                 confidence_score_0  \\\n",
       "columns           [jw_score, cd_count_inverse, census_count_inve...   \n",
       "weights                                 [0.5, 0.2, 0.2, 0.05, 0.05]   \n",
       "Match Rate                                                    98.48   \n",
       "Address Success   {'n_perfect_match_chosen': 8434, 'n_perfect_ma...   \n",
       "Under 12                                                        2.6   \n",
       "confusion matrix                     [[30536, 3882], [3882, 11227]]   \n",
       "\n",
       "                                                 confidence_score_1  \\\n",
       "columns           [jw_score, cd_count_inverse, census_count_inve...   \n",
       "weights                              [0.55, 0.18, 0.18, 0.05, 0.04]   \n",
       "Match Rate                                                    98.48   \n",
       "Address Success   {'n_perfect_match_chosen': 8429, 'n_perfect_ma...   \n",
       "Under 12                                                       2.66   \n",
       "confusion matrix                     [[30533, 3885], [3885, 11224]]   \n",
       "\n",
       "                                                 confidence_score_2  \\\n",
       "columns           [jw_score, cd_count_inverse, census_count_inve...   \n",
       "weights                                 [0.7, 0.1, 0.1, 0.05, 0.05]   \n",
       "Match Rate                                                    98.48   \n",
       "Address Success   {'n_perfect_match_chosen': 8428, 'n_perfect_ma...   \n",
       "Under 12                                                        2.7   \n",
       "confusion matrix                     [[30517, 3901], [3901, 11208]]   \n",
       "\n",
       "                                                 confidence_score_3  \n",
       "columns           [jw_score, cd_count_inverse, census_count_inve...  \n",
       "weights                               [0.6, 0.15, 0.15, 0.05, 0.05]  \n",
       "Match Rate                                                    98.48  \n",
       "Address Success   {'n_perfect_match_chosen': 8431, 'n_perfect_ma...  \n",
       "Under 12                                                       2.63  \n",
       "confusion matrix                     [[30531, 3887], [3887, 11222]]  "
      ]
     },
     "metadata": {},
     "output_type": "display_data"
    }
   ],
   "source": [
    "display(pd.DataFrame.from_dict(benchmark_test))"
   ]
  }
 ],
 "metadata": {
  "kernelspec": {
   "display_name": "Python 3",
   "language": "python",
   "name": "python3"
  },
  "language_info": {
   "codemirror_mode": {
    "name": "ipython",
    "version": 3
   },
   "file_extension": ".py",
   "mimetype": "text/x-python",
   "name": "python",
   "nbconvert_exporter": "python",
   "pygments_lexer": "ipython3",
   "version": "3.7.5"
  }
 },
 "nbformat": 4,
 "nbformat_minor": 4
}
