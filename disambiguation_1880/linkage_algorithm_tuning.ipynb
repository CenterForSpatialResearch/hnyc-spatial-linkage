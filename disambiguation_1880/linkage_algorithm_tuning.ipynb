{
 "cells": [
  {
   "cell_type": "code",
   "execution_count": 1,
   "metadata": {},
   "outputs": [],
   "source": [
    "import os\n",
    "import sys\n",
    "module_path = os.path.abspath(os.path.join('..'))\n",
    "if module_path not in sys.path:\n",
    "    sys.path.append(module_path)"
   ]
  },
  {
   "cell_type": "code",
   "execution_count": 2,
   "metadata": {},
   "outputs": [],
   "source": [
    "%load_ext autoreload\n",
    "%autoreload 2\n",
    "import pandas as pd\n",
    "import networkx as nx\n",
    "import disambiguation.processing as dp\n",
    "import disambiguation.linkage as dl\n",
    "import matplotlib.pyplot as plt"
   ]
  },
  {
   "cell_type": "code",
   "execution_count": 3,
   "metadata": {},
   "outputs": [],
   "source": [
    "pd.set_option('display.min_rows', 1000)\n",
    "pd.set_option('display.max_columns', 40)"
   ]
  },
  {
   "cell_type": "code",
   "execution_count": 16,
   "metadata": {},
   "outputs": [],
   "source": [
    "match = pd.read_csv(\"../data/matches.csv\")"
   ]
  },
  {
   "cell_type": "markdown",
   "metadata": {},
   "source": [
    "## Preprocessing\n",
    "- Data is currently too large to apply algorithms on\n",
    "- Split into df, each df bounded by anchors\n",
    "- Apply algorithms on sub dfs which require disambiguation (because some dfs not have multiple matches)\n",
    "- Combine after"
   ]
  },
  {
   "cell_type": "code",
   "execution_count": 5,
   "metadata": {
    "scrolled": true
   },
   "outputs": [],
   "source": [
    "match['anchor'] = match.apply(lambda row: 1 if row.confidence_score == 1 else None, axis=1)"
   ]
  },
  {
   "cell_type": "code",
   "execution_count": 6,
   "metadata": {},
   "outputs": [
    {
     "data": {
      "text/plain": [
       "48716"
      ]
     },
     "execution_count": 6,
     "metadata": {},
     "output_type": "execute_result"
    }
   ],
   "source": [
    "sum(match['anchor'].notnull())"
   ]
  },
  {
   "cell_type": "code",
   "execution_count": 6,
   "metadata": {
    "scrolled": false
   },
   "outputs": [
    {
     "data": {
      "text/html": [
       "<div>\n",
       "<style scoped>\n",
       "    .dataframe tbody tr th:only-of-type {\n",
       "        vertical-align: middle;\n",
       "    }\n",
       "\n",
       "    .dataframe tbody tr th {\n",
       "        vertical-align: top;\n",
       "    }\n",
       "\n",
       "    .dataframe thead th {\n",
       "        text-align: right;\n",
       "    }\n",
       "</style>\n",
       "<table border=\"1\" class=\"dataframe\">\n",
       "  <thead>\n",
       "    <tr style=\"text-align: right;\">\n",
       "      <th></th>\n",
       "      <th>group</th>\n",
       "    </tr>\n",
       "    <tr>\n",
       "      <th>index</th>\n",
       "      <th></th>\n",
       "    </tr>\n",
       "  </thead>\n",
       "  <tbody>\n",
       "    <tr>\n",
       "      <th>9</th>\n",
       "      <td>0</td>\n",
       "    </tr>\n",
       "    <tr>\n",
       "      <th>10</th>\n",
       "      <td>1</td>\n",
       "    </tr>\n",
       "    <tr>\n",
       "      <th>13</th>\n",
       "      <td>2</td>\n",
       "    </tr>\n",
       "    <tr>\n",
       "      <th>15</th>\n",
       "      <td>3</td>\n",
       "    </tr>\n",
       "    <tr>\n",
       "      <th>16</th>\n",
       "      <td>4</td>\n",
       "    </tr>\n",
       "  </tbody>\n",
       "</table>\n",
       "</div>"
      ],
      "text/plain": [
       "       group\n",
       "index       \n",
       "9          0\n",
       "10         1\n",
       "13         2\n",
       "15         3\n",
       "16         4"
      ]
     },
     "execution_count": 6,
     "metadata": {},
     "output_type": "execute_result"
    }
   ],
   "source": [
    "# create a df with an id ('group') for each anchor\n",
    "sub_group = pd.DataFrame({'index': list(match.loc[match.anchor.notnull(), :].index), 'group': range(0, sum(match['anchor'].notnull()))}).set_index('index')\n",
    "sub_group.head()"
   ]
  },
  {
   "cell_type": "code",
   "execution_count": 7,
   "metadata": {},
   "outputs": [],
   "source": [
    "# join it back and fill down\n",
    "match = match.join(sub_group)"
   ]
  },
  {
   "cell_type": "code",
   "execution_count": 8,
   "metadata": {},
   "outputs": [],
   "source": [
    "match['group'] = match['group'].fillna(method='ffill').fillna(method='backfill')"
   ]
  },
  {
   "cell_type": "code",
   "execution_count": 9,
   "metadata": {},
   "outputs": [],
   "source": [
    "# split df into multiple df, each bounded by anchor\n",
    "sub_group_dict = {group: df for group, df in match.groupby('group')}"
   ]
  },
  {
   "cell_type": "code",
   "execution_count": 10,
   "metadata": {},
   "outputs": [],
   "source": [
    "# add bottom anchor back\n",
    "for i in range(0, len(sub_group_dict) - 1):\n",
    "    sub_group_dict[i] = pd.concat([sub_group_dict[i], sub_group_dict[i+1][0:1]])"
   ]
  },
  {
   "cell_type": "code",
   "execution_count": 11,
   "metadata": {},
   "outputs": [],
   "source": [
    "# create list of dataframes keys where spatial disambiguation needs to creates weights\n",
    "sub_group_algos = [i for i in range(0, len(sub_group_dict) - 1) if sum(sub_group_dict[i].census_count > 1) > 0]"
   ]
  },
  {
   "cell_type": "code",
   "execution_count": 12,
   "metadata": {},
   "outputs": [
    {
     "name": "stdout",
     "output_type": "stream",
     "text": [
      "48716\n",
      "3687\n"
     ]
    }
   ],
   "source": [
    "print(len(sub_group_dict))\n",
    "print(len(sub_group_algos))"
   ]
  },
  {
   "cell_type": "markdown",
   "metadata": {},
   "source": [
    "## Apply Algorithms\n",
    "- First pass, minimal tuning\n",
    "- Results will serve as benchmark for further tuning"
   ]
  },
  {
   "cell_type": "code",
   "execution_count": 13,
   "metadata": {
    "scrolled": true
   },
   "outputs": [],
   "source": [
    "error = []\n",
    "\n",
    "# iteratively apply algorithms onto each sub df\n",
    "for i in sub_group_algos:\n",
    "    \n",
    "    try:\n",
    "        # save df and wrangle to necessary format\n",
    "        df = sub_group_dict[i]\n",
    "        path_df = dp.create_path_df(df)\n",
    "\n",
    "        # apply density clustering and remove outlier nodes\n",
    "        filtered = dl.apply_density_clustering(path_df)\n",
    "\n",
    "        # create graph and k shortest paths centrality\n",
    "        g = dp.create_path_graph(filtered)\n",
    "        output = dl.apply_k_betweenness(filtered, g)['df']\n",
    "\n",
    "        sub_group_dict[i] = output\n",
    "    \n",
    "    except:\n",
    "        error.append(i)"
   ]
  },
  {
   "cell_type": "code",
   "execution_count": 18,
   "metadata": {},
   "outputs": [
    {
     "data": {
      "text/plain": [
       "0"
      ]
     },
     "execution_count": 18,
     "metadata": {},
     "output_type": "execute_result"
    }
   ],
   "source": [
    "len(error)"
   ]
  },
  {
   "cell_type": "code",
   "execution_count": 19,
   "metadata": {},
   "outputs": [
    {
     "data": {
      "text/html": [
       "<div>\n",
       "<style scoped>\n",
       "    .dataframe tbody tr th:only-of-type {\n",
       "        vertical-align: middle;\n",
       "    }\n",
       "\n",
       "    .dataframe tbody tr th {\n",
       "        vertical-align: top;\n",
       "    }\n",
       "\n",
       "    .dataframe thead th {\n",
       "        text-align: right;\n",
       "    }\n",
       "</style>\n",
       "<table border=\"1\" class=\"dataframe\">\n",
       "  <thead>\n",
       "    <tr style=\"text-align: right;\">\n",
       "      <th></th>\n",
       "      <th>CD_ID</th>\n",
       "      <th>CENSUS_ID</th>\n",
       "      <th>LONG</th>\n",
       "      <th>LAT</th>\n",
       "      <th>confidence_score</th>\n",
       "      <th>MATCH_ADDR</th>\n",
       "      <th>anchor</th>\n",
       "      <th>node_ID</th>\n",
       "      <th>letter</th>\n",
       "      <th>in_cluster</th>\n",
       "      <th>key</th>\n",
       "      <th>spatial_weight</th>\n",
       "    </tr>\n",
       "  </thead>\n",
       "  <tbody>\n",
       "    <tr>\n",
       "      <th>0</th>\n",
       "      <td>CD_10691</td>\n",
       "      <td>CENSUS_162526</td>\n",
       "      <td>-73.984600</td>\n",
       "      <td>40.712312</td>\n",
       "      <td>1.00</td>\n",
       "      <td>190 MONROE ST, New York, NY</td>\n",
       "      <td>1</td>\n",
       "      <td>N0_0</td>\n",
       "      <td>N0</td>\n",
       "      <td>0</td>\n",
       "      <td>0</td>\n",
       "      <td>2.00</td>\n",
       "    </tr>\n",
       "    <tr>\n",
       "      <th>1</th>\n",
       "      <td>CD_56128</td>\n",
       "      <td>CENSUS_162536</td>\n",
       "      <td>-73.984600</td>\n",
       "      <td>40.712312</td>\n",
       "      <td>0.97</td>\n",
       "      <td>190 MONROE ST, New York, NY</td>\n",
       "      <td>0</td>\n",
       "      <td>N1_0</td>\n",
       "      <td>N1</td>\n",
       "      <td>0</td>\n",
       "      <td>0</td>\n",
       "      <td>1.97</td>\n",
       "    </tr>\n",
       "    <tr>\n",
       "      <th>2</th>\n",
       "      <td>CD_102471</td>\n",
       "      <td>CENSUS_162546</td>\n",
       "      <td>-73.984600</td>\n",
       "      <td>40.712312</td>\n",
       "      <td>0.99</td>\n",
       "      <td>190 MONROE ST, New York, NY</td>\n",
       "      <td>0</td>\n",
       "      <td>N2_0</td>\n",
       "      <td>N2</td>\n",
       "      <td>0</td>\n",
       "      <td>0</td>\n",
       "      <td>1.99</td>\n",
       "    </tr>\n",
       "    <tr>\n",
       "      <th>3</th>\n",
       "      <td>CD_137980</td>\n",
       "      <td>CENSUS_162552</td>\n",
       "      <td>-73.984672</td>\n",
       "      <td>40.712304</td>\n",
       "      <td>0.80</td>\n",
       "      <td>188 MONROE ST, New York, NY</td>\n",
       "      <td>0</td>\n",
       "      <td>N3_0</td>\n",
       "      <td>N3</td>\n",
       "      <td>0</td>\n",
       "      <td>0</td>\n",
       "      <td>0.80</td>\n",
       "    </tr>\n",
       "    <tr>\n",
       "      <th>4</th>\n",
       "      <td>CD_137978</td>\n",
       "      <td>CENSUS_162552</td>\n",
       "      <td>-73.983897</td>\n",
       "      <td>40.711899</td>\n",
       "      <td>0.80</td>\n",
       "      <td>372 CHERRY ST, New York, NY</td>\n",
       "      <td>0</td>\n",
       "      <td>N3_1</td>\n",
       "      <td>N3</td>\n",
       "      <td>0</td>\n",
       "      <td>0</td>\n",
       "      <td>1.80</td>\n",
       "    </tr>\n",
       "    <tr>\n",
       "      <th>5</th>\n",
       "      <td>CD_82866</td>\n",
       "      <td>CENSUS_162560</td>\n",
       "      <td>-73.984672</td>\n",
       "      <td>40.712304</td>\n",
       "      <td>0.97</td>\n",
       "      <td>188 MONROE ST, New York, NY</td>\n",
       "      <td>0</td>\n",
       "      <td>N4_0</td>\n",
       "      <td>N4</td>\n",
       "      <td>0</td>\n",
       "      <td>0</td>\n",
       "      <td>1.97</td>\n",
       "    </tr>\n",
       "    <tr>\n",
       "      <th>6</th>\n",
       "      <td>CD_66597</td>\n",
       "      <td>CENSUS_162566</td>\n",
       "      <td>-73.984672</td>\n",
       "      <td>40.712304</td>\n",
       "      <td>0.96</td>\n",
       "      <td>188 MONROE ST, New York, NY</td>\n",
       "      <td>0</td>\n",
       "      <td>N5_0</td>\n",
       "      <td>N5</td>\n",
       "      <td>0</td>\n",
       "      <td>0</td>\n",
       "      <td>1.96</td>\n",
       "    </tr>\n",
       "    <tr>\n",
       "      <th>7</th>\n",
       "      <td>CD_107671</td>\n",
       "      <td>CENSUS_162574</td>\n",
       "      <td>-73.984672</td>\n",
       "      <td>40.712304</td>\n",
       "      <td>0.97</td>\n",
       "      <td>188 MONROE ST, New York, NY</td>\n",
       "      <td>0</td>\n",
       "      <td>N6_0</td>\n",
       "      <td>N6</td>\n",
       "      <td>0</td>\n",
       "      <td>0</td>\n",
       "      <td>1.97</td>\n",
       "    </tr>\n",
       "    <tr>\n",
       "      <th>8</th>\n",
       "      <td>CD_201993</td>\n",
       "      <td>CENSUS_162578</td>\n",
       "      <td>-73.984600</td>\n",
       "      <td>40.712312</td>\n",
       "      <td>0.74</td>\n",
       "      <td>190 MONROE ST, New York, NY</td>\n",
       "      <td>0</td>\n",
       "      <td>N7_0</td>\n",
       "      <td>N7</td>\n",
       "      <td>0</td>\n",
       "      <td>0</td>\n",
       "      <td>0.74</td>\n",
       "    </tr>\n",
       "    <tr>\n",
       "      <th>9</th>\n",
       "      <td>CD_201973</td>\n",
       "      <td>CENSUS_162578</td>\n",
       "      <td>-73.983609</td>\n",
       "      <td>40.712074</td>\n",
       "      <td>0.74</td>\n",
       "      <td>60 GOUVERNEUR ST, New York, NY</td>\n",
       "      <td>0</td>\n",
       "      <td>N7_1</td>\n",
       "      <td>N7</td>\n",
       "      <td>0</td>\n",
       "      <td>0</td>\n",
       "      <td>1.74</td>\n",
       "    </tr>\n",
       "    <tr>\n",
       "      <th>10</th>\n",
       "      <td>CD_201803</td>\n",
       "      <td>CENSUS_162580</td>\n",
       "      <td>-73.984745</td>\n",
       "      <td>40.712296</td>\n",
       "      <td>1.00</td>\n",
       "      <td>186 MONROE ST, New York, NY</td>\n",
       "      <td>1</td>\n",
       "      <td>N8_0</td>\n",
       "      <td>N8</td>\n",
       "      <td>0</td>\n",
       "      <td>0</td>\n",
       "      <td>2.00</td>\n",
       "    </tr>\n",
       "  </tbody>\n",
       "</table>\n",
       "</div>"
      ],
      "text/plain": [
       "        CD_ID      CENSUS_ID       LONG        LAT  confidence_score  \\\n",
       "0    CD_10691  CENSUS_162526 -73.984600  40.712312              1.00   \n",
       "1    CD_56128  CENSUS_162536 -73.984600  40.712312              0.97   \n",
       "2   CD_102471  CENSUS_162546 -73.984600  40.712312              0.99   \n",
       "3   CD_137980  CENSUS_162552 -73.984672  40.712304              0.80   \n",
       "4   CD_137978  CENSUS_162552 -73.983897  40.711899              0.80   \n",
       "5    CD_82866  CENSUS_162560 -73.984672  40.712304              0.97   \n",
       "6    CD_66597  CENSUS_162566 -73.984672  40.712304              0.96   \n",
       "7   CD_107671  CENSUS_162574 -73.984672  40.712304              0.97   \n",
       "8   CD_201993  CENSUS_162578 -73.984600  40.712312              0.74   \n",
       "9   CD_201973  CENSUS_162578 -73.983609  40.712074              0.74   \n",
       "10  CD_201803  CENSUS_162580 -73.984745  40.712296              1.00   \n",
       "\n",
       "                        MATCH_ADDR  anchor node_ID letter  in_cluster  key  \\\n",
       "0      190 MONROE ST, New York, NY       1    N0_0     N0           0    0   \n",
       "1      190 MONROE ST, New York, NY       0    N1_0     N1           0    0   \n",
       "2      190 MONROE ST, New York, NY       0    N2_0     N2           0    0   \n",
       "3      188 MONROE ST, New York, NY       0    N3_0     N3           0    0   \n",
       "4      372 CHERRY ST, New York, NY       0    N3_1     N3           0    0   \n",
       "5      188 MONROE ST, New York, NY       0    N4_0     N4           0    0   \n",
       "6      188 MONROE ST, New York, NY       0    N5_0     N5           0    0   \n",
       "7      188 MONROE ST, New York, NY       0    N6_0     N6           0    0   \n",
       "8      190 MONROE ST, New York, NY       0    N7_0     N7           0    0   \n",
       "9   60 GOUVERNEUR ST, New York, NY       0    N7_1     N7           0    0   \n",
       "10     186 MONROE ST, New York, NY       1    N8_0     N8           0    0   \n",
       "\n",
       "    spatial_weight  \n",
       "0             2.00  \n",
       "1             1.97  \n",
       "2             1.99  \n",
       "3             0.80  \n",
       "4             1.80  \n",
       "5             1.97  \n",
       "6             1.96  \n",
       "7             1.97  \n",
       "8             0.74  \n",
       "9             1.74  \n",
       "10            2.00  "
      ]
     },
     "execution_count": 19,
     "metadata": {},
     "output_type": "execute_result"
    }
   ],
   "source": [
    "# treatment for rows which were not involved in spatial disambiguation\n",
    "# anchor: NaN fill 0\n",
    "# key: 0\n",
    "# in_cluster: NaN\n",
    "# spatial weight: confidence weight + 1\n",
    "sub_group_dict[5918]"
   ]
  },
  {
   "cell_type": "code",
   "execution_count": 20,
   "metadata": {},
   "outputs": [],
   "source": [
    "sub_grp_list = [v for k,v in sub_group_dict.items()] \n",
    "final = pd.concat(sub_grp_list)"
   ]
  },
  {
   "cell_type": "code",
   "execution_count": 21,
   "metadata": {},
   "outputs": [],
   "source": [
    "final_processed = final.loc[:, ['CD_ID', 'CENSUS_ID', 'anchor', 'confidence_score', 'in_cluster', 'spatial_weight']]"
   ]
  },
  {
   "cell_type": "code",
   "execution_count": 22,
   "metadata": {},
   "outputs": [
    {
     "data": {
      "text/plain": [
       "186957"
      ]
     },
     "execution_count": 22,
     "metadata": {},
     "output_type": "execute_result"
    }
   ],
   "source": [
    "len(final_processed)"
   ]
  },
  {
   "cell_type": "code",
   "execution_count": 23,
   "metadata": {},
   "outputs": [],
   "source": [
    "# there will be duplicate rows- remove these\n",
    "final_processed = final_processed.drop_duplicates(['CD_ID', 'CENSUS_ID'])"
   ]
  },
  {
   "cell_type": "code",
   "execution_count": 26,
   "metadata": {},
   "outputs": [],
   "source": [
    "final_processed['anchor'] = final_processed['anchor'].fillna(0)"
   ]
  },
  {
   "cell_type": "code",
   "execution_count": 27,
   "metadata": {},
   "outputs": [],
   "source": [
    "final_processed['spatial_weight'] = final_processed.apply(lambda row: row.confidence_score + 1 if pd.isna(row.spatial_weight) else row.spatial_weight, axis=1)"
   ]
  },
  {
   "cell_type": "code",
   "execution_count": 25,
   "metadata": {},
   "outputs": [
    {
     "data": {
      "text/plain": [
       "138242"
      ]
     },
     "execution_count": 25,
     "metadata": {},
     "output_type": "execute_result"
    }
   ],
   "source": [
    "len(final_processed)"
   ]
  },
  {
   "cell_type": "code",
   "execution_count": 28,
   "metadata": {},
   "outputs": [],
   "source": [
    "final_processed.to_csv('../data/matches_w_weights.csv')"
   ]
  },
  {
   "cell_type": "markdown",
   "metadata": {},
   "source": [
    "**Bipartite Matching**\n",
    "- process up to here is quite expensive, save output\n",
    "- bipartite matching has to act on subgraphs, else will be too expensive"
   ]
  },
  {
   "cell_type": "code",
   "execution_count": 37,
   "metadata": {},
   "outputs": [],
   "source": [
    "final_processed = pd.read_csv(\"../data/matches_w_weights.csv\")"
   ]
  },
  {
   "cell_type": "code",
   "execution_count": 38,
   "metadata": {},
   "outputs": [],
   "source": [
    "b_edges = [(row['CD_ID'], row['CENSUS_ID'], row['spatial_weight']) for index, row in final_processed.iterrows()]\n",
    "b = nx.Graph()\n",
    "b.add_weighted_edges_from(b_edges)"
   ]
  },
  {
   "cell_type": "code",
   "execution_count": 39,
   "metadata": {},
   "outputs": [],
   "source": [
    "subgraphs = list(nx.connected_component_subgraphs(b))"
   ]
  },
  {
   "cell_type": "code",
   "execution_count": 44,
   "metadata": {},
   "outputs": [
    {
     "data": {
      "text/plain": [
       "['CD_74371', 'CENSUS_1537', 'CENSUS_172', 'CENSUS_3399', 'CENSUS_3783']"
      ]
     },
     "execution_count": 44,
     "metadata": {},
     "output_type": "execute_result"
    }
   ],
   "source": [
    "sorted(list(subgraphs[0].nodes))"
   ]
  },
  {
   "cell_type": "code",
   "execution_count": 45,
   "metadata": {},
   "outputs": [],
   "source": [
    "for i in range(0, len(subgraphs)):\n",
    "    nodes = sorted(list(subgraphs[i].nodes))\n",
    "    for node in nodes:\n",
    "        if node[:2] == 'CD':\n",
    "            final_processed.at[final_processed.CD_ID == node, 'graph_ID'] = i"
   ]
  },
  {
   "cell_type": "code",
   "execution_count": 42,
   "metadata": {},
   "outputs": [
    {
     "data": {
      "text/plain": [
       "102185"
      ]
     },
     "execution_count": 42,
     "metadata": {},
     "output_type": "execute_result"
    }
   ],
   "source": [
    "len(subgraphs)"
   ]
  },
  {
   "cell_type": "code",
   "execution_count": 128,
   "metadata": {},
   "outputs": [],
   "source": [
    "matches = [list(nx.max_weight_matching(graph, maxcardinality = True)) for graph in subgraphs]"
   ]
  },
  {
   "cell_type": "code",
   "execution_count": 129,
   "metadata": {},
   "outputs": [],
   "source": [
    "matches = [sorted(list(item)) for sublist in matches for item in sublist]"
   ]
  },
  {
   "cell_type": "code",
   "execution_count": 130,
   "metadata": {},
   "outputs": [
    {
     "data": {
      "text/plain": [
       "104010"
      ]
     },
     "execution_count": 130,
     "metadata": {},
     "output_type": "execute_result"
    }
   ],
   "source": [
    "len(matches)"
   ]
  },
  {
   "cell_type": "code",
   "execution_count": 131,
   "metadata": {},
   "outputs": [],
   "source": [
    "matches = pd.DataFrame(matches, columns=['CD_ID', 'CENSUS_ID'])"
   ]
  },
  {
   "cell_type": "code",
   "execution_count": 132,
   "metadata": {},
   "outputs": [],
   "source": [
    "matches['selected'] = 1"
   ]
  },
  {
   "cell_type": "code",
   "execution_count": 68,
   "metadata": {
    "scrolled": true
   },
   "outputs": [
    {
     "data": {
      "text/html": [
       "<div>\n",
       "<style scoped>\n",
       "    .dataframe tbody tr th:only-of-type {\n",
       "        vertical-align: middle;\n",
       "    }\n",
       "\n",
       "    .dataframe tbody tr th {\n",
       "        vertical-align: top;\n",
       "    }\n",
       "\n",
       "    .dataframe thead th {\n",
       "        text-align: right;\n",
       "    }\n",
       "</style>\n",
       "<table border=\"1\" class=\"dataframe\">\n",
       "  <thead>\n",
       "    <tr style=\"text-align: right;\">\n",
       "      <th></th>\n",
       "      <th>Unnamed: 0</th>\n",
       "      <th>CD_ID</th>\n",
       "      <th>CENSUS_ID</th>\n",
       "      <th>anchor</th>\n",
       "      <th>confidence_score</th>\n",
       "      <th>in_cluster</th>\n",
       "      <th>spatial_weight</th>\n",
       "      <th>graph_ID</th>\n",
       "    </tr>\n",
       "  </thead>\n",
       "  <tbody>\n",
       "    <tr>\n",
       "      <th>0</th>\n",
       "      <td>0</td>\n",
       "      <td>CD_74371</td>\n",
       "      <td>CENSUS_172</td>\n",
       "      <td>0.0</td>\n",
       "      <td>0.85</td>\n",
       "      <td>NaN</td>\n",
       "      <td>1.85</td>\n",
       "      <td>0.0</td>\n",
       "    </tr>\n",
       "    <tr>\n",
       "      <th>1</th>\n",
       "      <td>1</td>\n",
       "      <td>CD_24242</td>\n",
       "      <td>CENSUS_306</td>\n",
       "      <td>0.0</td>\n",
       "      <td>0.66</td>\n",
       "      <td>NaN</td>\n",
       "      <td>1.66</td>\n",
       "      <td>1.0</td>\n",
       "    </tr>\n",
       "    <tr>\n",
       "      <th>2</th>\n",
       "      <td>2</td>\n",
       "      <td>CD_80330</td>\n",
       "      <td>CENSUS_317</td>\n",
       "      <td>0.0</td>\n",
       "      <td>0.87</td>\n",
       "      <td>NaN</td>\n",
       "      <td>1.87</td>\n",
       "      <td>2.0</td>\n",
       "    </tr>\n",
       "    <tr>\n",
       "      <th>3</th>\n",
       "      <td>3</td>\n",
       "      <td>CD_185397</td>\n",
       "      <td>CENSUS_359</td>\n",
       "      <td>0.0</td>\n",
       "      <td>0.96</td>\n",
       "      <td>NaN</td>\n",
       "      <td>1.96</td>\n",
       "      <td>3.0</td>\n",
       "    </tr>\n",
       "    <tr>\n",
       "      <th>4</th>\n",
       "      <td>4</td>\n",
       "      <td>CD_137772</td>\n",
       "      <td>CENSUS_361</td>\n",
       "      <td>0.0</td>\n",
       "      <td>0.86</td>\n",
       "      <td>NaN</td>\n",
       "      <td>1.86</td>\n",
       "      <td>4.0</td>\n",
       "    </tr>\n",
       "  </tbody>\n",
       "</table>\n",
       "</div>"
      ],
      "text/plain": [
       "   Unnamed: 0      CD_ID   CENSUS_ID  anchor  confidence_score  in_cluster  \\\n",
       "0           0   CD_74371  CENSUS_172     0.0              0.85         NaN   \n",
       "1           1   CD_24242  CENSUS_306     0.0              0.66         NaN   \n",
       "2           2   CD_80330  CENSUS_317     0.0              0.87         NaN   \n",
       "3           3  CD_185397  CENSUS_359     0.0              0.96         NaN   \n",
       "4           4  CD_137772  CENSUS_361     0.0              0.86         NaN   \n",
       "\n",
       "   spatial_weight  graph_ID  \n",
       "0            1.85       0.0  \n",
       "1            1.66       1.0  \n",
       "2            1.87       2.0  \n",
       "3            1.96       3.0  \n",
       "4            1.86       4.0  "
      ]
     },
     "execution_count": 68,
     "metadata": {},
     "output_type": "execute_result"
    }
   ],
   "source": [
    "final_processed.head()"
   ]
  },
  {
   "cell_type": "code",
   "execution_count": 54,
   "metadata": {},
   "outputs": [
    {
     "ename": "NameError",
     "evalue": "name 'matches' is not defined",
     "output_type": "error",
     "traceback": [
      "\u001b[1;31m---------------------------------------------------------------------------\u001b[0m",
      "\u001b[1;31mNameError\u001b[0m                                 Traceback (most recent call last)",
      "\u001b[1;32m<ipython-input-54-eb93554c0357>\u001b[0m in \u001b[0;36m<module>\u001b[1;34m\u001b[0m\n\u001b[1;32m----> 1\u001b[1;33m \u001b[0mfinal_processed\u001b[0m \u001b[1;33m=\u001b[0m \u001b[0mfinal_processed\u001b[0m\u001b[1;33m.\u001b[0m\u001b[0mmerge\u001b[0m\u001b[1;33m(\u001b[0m\u001b[0mmatches\u001b[0m\u001b[1;33m,\u001b[0m \u001b[0mhow\u001b[0m\u001b[1;33m=\u001b[0m\u001b[1;34m'left'\u001b[0m\u001b[1;33m,\u001b[0m \u001b[0mon\u001b[0m\u001b[1;33m=\u001b[0m\u001b[1;33m[\u001b[0m\u001b[1;34m'CD_ID'\u001b[0m\u001b[1;33m,\u001b[0m \u001b[1;34m'CENSUS_ID'\u001b[0m\u001b[1;33m]\u001b[0m\u001b[1;33m,\u001b[0m \u001b[0mvalidate\u001b[0m\u001b[1;33m=\u001b[0m\u001b[1;34m'one_to_one'\u001b[0m\u001b[1;33m)\u001b[0m\u001b[1;33m\u001b[0m\u001b[1;33m\u001b[0m\u001b[0m\n\u001b[0m\u001b[0;32m      2\u001b[0m \u001b[0mfinal_processed\u001b[0m\u001b[1;33m[\u001b[0m\u001b[1;34m'selected'\u001b[0m\u001b[1;33m]\u001b[0m \u001b[1;33m=\u001b[0m \u001b[0mfinal_processed\u001b[0m\u001b[1;33m[\u001b[0m\u001b[1;34m'selected'\u001b[0m\u001b[1;33m]\u001b[0m\u001b[1;33m.\u001b[0m\u001b[0mfillna\u001b[0m\u001b[1;33m(\u001b[0m\u001b[1;36m0\u001b[0m\u001b[1;33m)\u001b[0m\u001b[1;33m\u001b[0m\u001b[1;33m\u001b[0m\u001b[0m\n",
      "\u001b[1;31mNameError\u001b[0m: name 'matches' is not defined"
     ]
    }
   ],
   "source": [
    "final_processed = final_processed.merge(matches, how='left', on=['CD_ID', 'CENSUS_ID'], validate='one_to_one')\n",
    "final_processed['selected'] = final_processed['selected'].fillna(0)"
   ]
  },
  {
   "cell_type": "code",
   "execution_count": 135,
   "metadata": {},
   "outputs": [
    {
     "data": {
      "text/plain": [
       "104010.0"
      ]
     },
     "execution_count": 135,
     "metadata": {},
     "output_type": "execute_result"
    }
   ],
   "source": [
    "sum(final_processed.selected.values)"
   ]
  },
  {
   "cell_type": "code",
   "execution_count": 136,
   "metadata": {},
   "outputs": [],
   "source": [
    "final_processed.to_csv(\"../data/matches_disambiguated.csv\")"
   ]
  },
  {
   "cell_type": "code",
   "execution_count": 90,
   "metadata": {},
   "outputs": [
    {
     "data": {
      "text/plain": [
       "'\\nfinal_processed = pd.read_csv(\"../data/matches_w_weights.csv\")\\nfinal_matched = dl.get_matches(final_processed)\\nfinal_matched[\\'results\\'].to_csv(\"../data/matches_disambiguated.csv\")\\n'"
      ]
     },
     "execution_count": 90,
     "metadata": {},
     "output_type": "execute_result"
    }
   ],
   "source": [
    "# everything above is equivalent to: \n",
    "\"\"\"\n",
    "final_processed = pd.read_csv(\"../data/matches_w_weights.csv\")\n",
    "final_matched = dl.get_matches(final_processed)\n",
    "final_matched['results'].to_csv(\"../data/matches_disambiguated.csv\")\n",
    "\"\"\""
   ]
  },
  {
   "cell_type": "markdown",
   "metadata": {},
   "source": [
    "## Performance\n",
    "Some metrics to consider:\n",
    "- how many matches retrieved\n",
    "- accuracy of the matches\n",
    "- some way to check false positive/false negative rate?"
   ]
  },
  {
   "cell_type": "code",
   "execution_count": 84,
   "metadata": {},
   "outputs": [],
   "source": [
    "final_df = pd.read_csv(\"../data/matches_disambiguated.csv\")"
   ]
  },
  {
   "cell_type": "code",
   "execution_count": 86,
   "metadata": {},
   "outputs": [
    {
     "name": "stderr",
     "output_type": "stream",
     "text": [
      "C:\\Users\\jolen\\Anaconda3\\lib\\site-packages\\IPython\\core\\interactiveshell.py:3057: DtypeWarning: Columns (22) have mixed types.Specify dtype option on import or set low_memory=False.\n",
      "  interactivity=interactivity, compiler=compiler, result=result)\n"
     ]
    }
   ],
   "source": [
    "# add census lat lng\n",
    "census_latlng = pd.read_csv(\"../data/census_1880_mn_v04.csv\")\n",
    "census_latlng['CENSUS_ID'] = 'CENSUS_' + census_latlng['OBJECTID.x'].astype(str)\n",
    "census_latlng = census_latlng.loc[:, ['CENSUS_ID', 'CENSUS_X', 'CENSUS_Y']]"
   ]
  },
  {
   "cell_type": "code",
   "execution_count": 87,
   "metadata": {},
   "outputs": [],
   "source": [
    "final_df = final_df.merge(census_latlng, how='left', on='CENSUS_ID', validate='many_to_one')"
   ]
  },
  {
   "cell_type": "code",
   "execution_count": 88,
   "metadata": {},
   "outputs": [
    {
     "data": {
      "text/html": [
       "<div>\n",
       "<style scoped>\n",
       "    .dataframe tbody tr th:only-of-type {\n",
       "        vertical-align: middle;\n",
       "    }\n",
       "\n",
       "    .dataframe tbody tr th {\n",
       "        vertical-align: top;\n",
       "    }\n",
       "\n",
       "    .dataframe thead th {\n",
       "        text-align: right;\n",
       "    }\n",
       "</style>\n",
       "<table border=\"1\" class=\"dataframe\">\n",
       "  <thead>\n",
       "    <tr style=\"text-align: right;\">\n",
       "      <th></th>\n",
       "      <th>Unnamed: 0</th>\n",
       "      <th>CD_ID</th>\n",
       "      <th>CENSUS_ID</th>\n",
       "      <th>anchor</th>\n",
       "      <th>confidence_score</th>\n",
       "      <th>in_cluster</th>\n",
       "      <th>spatial_weight</th>\n",
       "      <th>graph_ID</th>\n",
       "      <th>selected</th>\n",
       "      <th>CENSUS_X</th>\n",
       "      <th>CENSUS_Y</th>\n",
       "    </tr>\n",
       "  </thead>\n",
       "  <tbody>\n",
       "    <tr>\n",
       "      <th>0</th>\n",
       "      <td>0</td>\n",
       "      <td>CD_74371</td>\n",
       "      <td>CENSUS_172</td>\n",
       "      <td>0.0</td>\n",
       "      <td>0.85</td>\n",
       "      <td>NaN</td>\n",
       "      <td>1.85</td>\n",
       "      <td>0.0</td>\n",
       "      <td>0.0</td>\n",
       "      <td>-74.016583</td>\n",
       "      <td>40.690589</td>\n",
       "    </tr>\n",
       "    <tr>\n",
       "      <th>1</th>\n",
       "      <td>1</td>\n",
       "      <td>CD_24242</td>\n",
       "      <td>CENSUS_306</td>\n",
       "      <td>0.0</td>\n",
       "      <td>0.66</td>\n",
       "      <td>NaN</td>\n",
       "      <td>1.66</td>\n",
       "      <td>1.0</td>\n",
       "      <td>0.0</td>\n",
       "      <td>-74.017143</td>\n",
       "      <td>40.690997</td>\n",
       "    </tr>\n",
       "    <tr>\n",
       "      <th>2</th>\n",
       "      <td>2</td>\n",
       "      <td>CD_80330</td>\n",
       "      <td>CENSUS_317</td>\n",
       "      <td>0.0</td>\n",
       "      <td>0.87</td>\n",
       "      <td>NaN</td>\n",
       "      <td>1.87</td>\n",
       "      <td>2.0</td>\n",
       "      <td>0.0</td>\n",
       "      <td>-74.015246</td>\n",
       "      <td>40.689766</td>\n",
       "    </tr>\n",
       "    <tr>\n",
       "      <th>3</th>\n",
       "      <td>3</td>\n",
       "      <td>CD_185397</td>\n",
       "      <td>CENSUS_359</td>\n",
       "      <td>0.0</td>\n",
       "      <td>0.96</td>\n",
       "      <td>NaN</td>\n",
       "      <td>1.96</td>\n",
       "      <td>3.0</td>\n",
       "      <td>1.0</td>\n",
       "      <td>-74.015246</td>\n",
       "      <td>40.689766</td>\n",
       "    </tr>\n",
       "    <tr>\n",
       "      <th>4</th>\n",
       "      <td>4</td>\n",
       "      <td>CD_137772</td>\n",
       "      <td>CENSUS_361</td>\n",
       "      <td>0.0</td>\n",
       "      <td>0.86</td>\n",
       "      <td>NaN</td>\n",
       "      <td>1.86</td>\n",
       "      <td>4.0</td>\n",
       "      <td>0.0</td>\n",
       "      <td>-74.015246</td>\n",
       "      <td>40.689766</td>\n",
       "    </tr>\n",
       "  </tbody>\n",
       "</table>\n",
       "</div>"
      ],
      "text/plain": [
       "   Unnamed: 0      CD_ID   CENSUS_ID  anchor  confidence_score  in_cluster  \\\n",
       "0           0   CD_74371  CENSUS_172     0.0              0.85         NaN   \n",
       "1           1   CD_24242  CENSUS_306     0.0              0.66         NaN   \n",
       "2           2   CD_80330  CENSUS_317     0.0              0.87         NaN   \n",
       "3           3  CD_185397  CENSUS_359     0.0              0.96         NaN   \n",
       "4           4  CD_137772  CENSUS_361     0.0              0.86         NaN   \n",
       "\n",
       "   spatial_weight  graph_ID  selected   CENSUS_X   CENSUS_Y  \n",
       "0            1.85       0.0       0.0 -74.016583  40.690589  \n",
       "1            1.66       1.0       0.0 -74.017143  40.690997  \n",
       "2            1.87       2.0       0.0 -74.015246  40.689766  \n",
       "3            1.96       3.0       1.0 -74.015246  40.689766  \n",
       "4            1.86       4.0       0.0 -74.015246  40.689766  "
      ]
     },
     "execution_count": 88,
     "metadata": {},
     "output_type": "execute_result"
    }
   ],
   "source": [
    "final_df.head()"
   ]
  },
  {
   "cell_type": "code",
   "execution_count": 89,
   "metadata": {},
   "outputs": [
    {
     "name": "stdout",
     "output_type": "stream",
     "text": [
      "        Unnamed: 0      CD_ID       CENSUS_ID  anchor  confidence_score  \\\n",
      "135669      135669  CD_117484  CENSUS_1092865     1.0               1.0   \n",
      "\n",
      "        in_cluster  spatial_weight  graph_ID  selected   CENSUS_X  CENSUS_Y  \n",
      "135669         NaN             2.0  100200.0       1.0 -73.938883   14824.0  \n",
      "Empty DataFrame\n",
      "Columns: [Unnamed: 0, CD_ID, CENSUS_ID, anchor, confidence_score, in_cluster, spatial_weight, graph_ID, selected, CENSUS_X, CENSUS_Y]\n",
      "Index: []\n"
     ]
    }
   ],
   "source": [
    "# there is one outlier, fix it\n",
    "print(final_df.loc[final_df.CENSUS_Y > 1000])\n",
    "final_df.loc[final_df.CENSUS_Y > 1000, 'CENSUS_Y'] = 40.799935\n",
    "print(final_df.loc[final_df.CENSUS_Y > 1000])"
   ]
  },
  {
   "cell_type": "code",
   "execution_count": 93,
   "metadata": {},
   "outputs": [],
   "source": [
    "# add streets back\n",
    "final_df = final_df.merge(match.loc[:, ~match.columns.str.contains('^Unnamed')], how='inner', on = ['CD_ID', 'CENSUS_ID'], validate='one_to_one')"
   ]
  },
  {
   "cell_type": "code",
   "execution_count": 96,
   "metadata": {},
   "outputs": [],
   "source": [
    "# save for viz\n",
    "final_df.loc[:, ~final_df.columns.str.contains('^Unnamed')].to_csv(\"matching_viz/data/matched_viz.csv\")"
   ]
  },
  {
   "cell_type": "markdown",
   "metadata": {},
   "source": [
    "### How many matches retrieved\n",
    "- as a proportion of CD records (since that's the max no. of matches)"
   ]
  },
  {
   "cell_type": "code",
   "execution_count": 33,
   "metadata": {},
   "outputs": [
    {
     "data": {
      "text/plain": [
       "0.9897136767182727"
      ]
     },
     "execution_count": 33,
     "metadata": {},
     "output_type": "execute_result"
    }
   ],
   "source": [
    "sum(final_df.selected.values) / len(final_df.CD_ID.unique())"
   ]
  },
  {
   "cell_type": "markdown",
   "metadata": {},
   "source": [
    "### Accuracy"
   ]
  },
  {
   "cell_type": "markdown",
   "metadata": {},
   "source": [
    "**Using address**"
   ]
  },
  {
   "cell_type": "code",
   "execution_count": 99,
   "metadata": {},
   "outputs": [],
   "source": [
    "# extract the first part of the street (without manhattan etc) for better standardization\n",
    "final_df['cd_add_cln'] = final_df.apply(lambda row: row.MATCH_ADDR[:row.MATCH_ADDR.index(',')], axis=1)\n",
    "final_df['cen_add_cln'] = final_df.apply(lambda row: row.CENSUS_MATCH_ADDR[:row.CENSUS_MATCH_ADDR.index(',')], axis=1)"
   ]
  },
  {
   "cell_type": "markdown",
   "metadata": {},
   "source": [
    "Success rate based on address:\n",
    "- how many matches (before disambiguation) have exactly same address?\n",
    "- how many such matches have been selected via disambiguation?"
   ]
  },
  {
   "cell_type": "code",
   "execution_count": 48,
   "metadata": {
    "scrolled": true
   },
   "outputs": [
    {
     "data": {
      "text/plain": [
       "36480"
      ]
     },
     "execution_count": 48,
     "metadata": {},
     "output_type": "execute_result"
    }
   ],
   "source": [
    "# number of exact street name matches\n",
    "len(final_df.loc[final_df.cd_add_cln == final_df.cen_add_cln, :])"
   ]
  },
  {
   "cell_type": "code",
   "execution_count": 50,
   "metadata": {},
   "outputs": [
    {
     "data": {
      "text/plain": [
       "29140"
      ]
     },
     "execution_count": 50,
     "metadata": {},
     "output_type": "execute_result"
    }
   ],
   "source": [
    "# number of exact street name matches CHOSEN\n",
    "len(final_df.loc[(final_df.cd_add_cln == final_df.cen_add_cln) & (final_df.selected == 1), :])"
   ]
  },
  {
   "cell_type": "code",
   "execution_count": 51,
   "metadata": {},
   "outputs": [
    {
     "data": {
      "text/plain": [
       "0.7987938596491229"
      ]
     },
     "execution_count": 51,
     "metadata": {},
     "output_type": "execute_result"
    }
   ],
   "source": [
    "# out of these perfect matches, how many were chosen\n",
    "29140 / 36480"
   ]
  },
  {
   "cell_type": "code",
   "execution_count": 57,
   "metadata": {},
   "outputs": [
    {
     "data": {
      "text/plain": [
       "0.27728349715960454"
      ]
     },
     "execution_count": 57,
     "metadata": {},
     "output_type": "execute_result"
    }
   ],
   "source": [
    "# out of the max no. of matches, how many were chosen\n",
    "29140 / len(final_df.CD_ID.unique())"
   ]
  },
  {
   "cell_type": "markdown",
   "metadata": {},
   "source": [
    "**Why are there some 'perfect matches' that are not being returned?**  \n",
    "One theory is that most are records of other members of the household (particularly children with similar names) who have hence not been selected"
   ]
  },
  {
   "cell_type": "code",
   "execution_count": 138,
   "metadata": {
    "scrolled": true
   },
   "outputs": [
    {
     "data": {
      "text/plain": [
       "7319"
      ]
     },
     "execution_count": 138,
     "metadata": {},
     "output_type": "execute_result"
    }
   ],
   "source": [
    "len(final_df.loc[(final_df.cd_add_cln == final_df.cen_add_cln) & (final_df.selected != 1), \n",
    "             ['CD_FIRST_NAME', 'CD_LAST_NAME', 'CENSUS_NAMEFRSCLEAN', 'CENSUS_NAMELASTB', 'CENSUS_AGE',\n",
    "             'confidence_score_x', 'spatial_weight', 'selected']])"
   ]
  },
  {
   "cell_type": "code",
   "execution_count": 134,
   "metadata": {
    "scrolled": true
   },
   "outputs": [
    {
     "name": "stderr",
     "output_type": "stream",
     "text": [
      "C:\\Users\\jolen\\Anaconda3\\lib\\site-packages\\ipykernel_launcher.py:2: SettingWithCopyWarning: \n",
      "A value is trying to be set on a copy of a slice from a DataFrame.\n",
      "Try using .loc[row_indexer,col_indexer] = value instead\n",
      "\n",
      "See the caveats in the documentation: https://pandas.pydata.org/pandas-docs/stable/user_guide/indexing.html#returning-a-view-versus-a-copy\n",
      "  \n"
     ]
    }
   ],
   "source": [
    "perfect_matches = final_df.loc[(final_df.cd_add_cln == final_df.cen_add_cln) & (final_df.selected != 1), :]\n",
    "perfect_matches['age_grp'] = perfect_matches.apply(lambda row: \"below 12\" if row.CENSUS_AGE <= 12 else \"over 12\", axis = 1)\n",
    "perfect_matches = perfect_matches['age_grp'].value_counts().rename_axis(\"below_12\").reset_index(name=\"counts\")"
   ]
  },
  {
   "cell_type": "markdown",
   "metadata": {},
   "source": [
    "One thing to note is that of these perfect matches which weren't chosen, only half were below 12 years old."
   ]
  },
  {
   "cell_type": "code",
   "execution_count": 137,
   "metadata": {
    "scrolled": true
   },
   "outputs": [
    {
     "data": {
      "image/png": "[encoded data removed]",
      "text/plain": [
       "<Figure size 432x288 with 1 Axes>"
      ]
     },
     "metadata": {
      "needs_background": "light"
     },
     "output_type": "display_data"
    }
   ],
   "source": [
    "fig, ax = plt.subplots()\n",
    "plt.bar(np.arange(len(perfect_matches.below_12)), height=perfect_matches.counts.to_list())\n",
    "plt.xticks(np.arange(len(perfect_matches.below_12)), perfect_matches.below_12.to_list())\n",
    "plt.title(\"Perfect Match Records, Not Selected By Age\")\n",
    "plt.show()"
   ]
  },
  {
   "cell_type": "code",
   "execution_count": 132,
   "metadata": {},
   "outputs": [
    {
     "data": {
      "text/plain": [
       "array([0, 1])"
      ]
     },
     "execution_count": 132,
     "metadata": {},
     "output_type": "execute_result"
    }
   ],
   "source": [
    "np.arange(len(perfect_matches.below_12))"
   ]
  },
  {
   "cell_type": "markdown",
   "metadata": {},
   "source": [
    "**Using distance**"
   ]
  },
  {
   "cell_type": "code",
   "execution_count": 139,
   "metadata": {},
   "outputs": [],
   "source": [
    "from haversine import haversine, Unit"
   ]
  },
  {
   "cell_type": "code",
   "execution_count": 140,
   "metadata": {},
   "outputs": [],
   "source": [
    "final_df['dist'] = final_df.apply(lambda row: haversine((row.CENSUS_X, row.CENSUS_Y), (row.LONG, row.LAT), unit=Unit.METERS), axis=1)"
   ]
  },
  {
   "cell_type": "code",
   "execution_count": 67,
   "metadata": {
    "scrolled": false
   },
   "outputs": [
    {
     "data": {
      "image/png": "[encoded data removed]",
      "text/plain": [
       "<Figure size 432x288 with 1 Axes>"
      ]
     },
     "metadata": {
      "needs_background": "light"
     },
     "output_type": "display_data"
    }
   ],
   "source": [
    "import math\n",
    "plt.hist([final_df[(final_df.selected == 1)].dist.values, final_df.dist.values], log = True, label = ['Disambiguated', 'All Matches'])\n",
    "plt.legend()\n",
    "plt.title('Distribution of Distance between Census Location and Matched CD Location')\n",
    "plt.show()"
   ]
  },
  {
   "cell_type": "code",
   "execution_count": null,
   "metadata": {},
   "outputs": [],
   "source": [
    "# how does distance differ by ED"
   ]
  },
  {
   "cell_type": "code",
   "execution_count": 195,
   "metadata": {},
   "outputs": [],
   "source": [
    "# how does distance differ by graph\n",
    "graph_dist = final_df.groupby(\"graph_ID\").agg({'dist': ['mean', 'count']})\n",
    "graph_dist.columns = graph_dist.columns.get_level_values(1)"
   ]
  },
  {
   "cell_type": "markdown",
   "metadata": {},
   "source": [
    "## EDA\n",
    "### Graphs"
   ]
  },
  {
   "cell_type": "code",
   "execution_count": 201,
   "metadata": {},
   "outputs": [
    {
     "data": {
      "image/png": "[encoded data removed]",
      "text/plain": [
       "<Figure size 432x288 with 1 Axes>"
      ]
     },
     "metadata": {
      "needs_background": "light"
     },
     "output_type": "display_data"
    }
   ],
   "source": [
    "ax, fig = plt.subplots()\n",
    "plt.hist(graph_dist['mean'].values, log=True)\n",
    "plt.title(\"Distribution of Average Distance Within Graph\")\n",
    "plt.show()"
   ]
  },
  {
   "cell_type": "code",
   "execution_count": 202,
   "metadata": {},
   "outputs": [
    {
     "data": {
      "image/png": "[encoded data removed]",
      "text/plain": [
       "<Figure size 432x288 with 1 Axes>"
      ]
     },
     "metadata": {
      "needs_background": "light"
     },
     "output_type": "display_data"
    }
   ],
   "source": [
    "ax, fig = plt.subplots()\n",
    "plt.hist(graph_dist['count'].values, log=True)\n",
    "plt.title(\"Distribution of Graph Size\")\n",
    "plt.show()"
   ]
  },
  {
   "cell_type": "code",
   "execution_count": 211,
   "metadata": {},
   "outputs": [
    {
     "data": {
      "text/html": [
       "<div>\n",
       "<style scoped>\n",
       "    .dataframe tbody tr th:only-of-type {\n",
       "        vertical-align: middle;\n",
       "    }\n",
       "\n",
       "    .dataframe tbody tr th {\n",
       "        vertical-align: top;\n",
       "    }\n",
       "\n",
       "    .dataframe thead th {\n",
       "        text-align: right;\n",
       "    }\n",
       "</style>\n",
       "<table border=\"1\" class=\"dataframe\">\n",
       "  <thead>\n",
       "    <tr style=\"text-align: right;\">\n",
       "      <th></th>\n",
       "      <th>Unnamed: 0</th>\n",
       "      <th>CD_ID</th>\n",
       "      <th>CENSUS_ID</th>\n",
       "      <th>anchor</th>\n",
       "      <th>confidence_score_x</th>\n",
       "      <th>in_cluster</th>\n",
       "      <th>spatial_weight</th>\n",
       "      <th>graph_ID</th>\n",
       "      <th>selected</th>\n",
       "      <th>CENSUS_X</th>\n",
       "      <th>CENSUS_Y</th>\n",
       "      <th>CD_FIRST_NAME</th>\n",
       "      <th>CD_LAST_NAME</th>\n",
       "      <th>MATCH_ADDR</th>\n",
       "      <th>CD_OCCUPATION</th>\n",
       "      <th>num_matches</th>\n",
       "      <th>CENSUS_NAMEFRSCLEAN</th>\n",
       "      <th>CENSUS_NAMELASTB</th>\n",
       "      <th>CENSUS_MATCH_ADDR</th>\n",
       "      <th>CENSUS_AGE</th>\n",
       "      <th>CENSUS_OCCLABELB</th>\n",
       "      <th>WARD_NUM</th>\n",
       "      <th>CENSUS_ENUMDIST</th>\n",
       "      <th>CENSUS_SEGMENT_ID</th>\n",
       "      <th>CD_BLOCK_NUM</th>\n",
       "      <th>census_occupation_listed</th>\n",
       "      <th>jaro_winkler_aggr_score</th>\n",
       "      <th>confidence_score_y</th>\n",
       "      <th>LONG</th>\n",
       "      <th>LAT</th>\n",
       "      <th>age_score</th>\n",
       "      <th>census_count</th>\n",
       "      <th>cd_add_cln</th>\n",
       "      <th>cen_add_cln</th>\n",
       "      <th>dist</th>\n",
       "    </tr>\n",
       "  </thead>\n",
       "  <tbody>\n",
       "    <tr>\n",
       "      <th>138214</th>\n",
       "      <td>138214</td>\n",
       "      <td>CD_148209</td>\n",
       "      <td>CENSUS_1116343</td>\n",
       "      <td>0.0</td>\n",
       "      <td>0.95</td>\n",
       "      <td>NaN</td>\n",
       "      <td>1.95</td>\n",
       "      <td>102160.0</td>\n",
       "      <td>1.0</td>\n",
       "      <td>-73.983779</td>\n",
       "      <td>40.744217</td>\n",
       "      <td>George</td>\n",
       "      <td>Gould</td>\n",
       "      <td>2529 FOURTH AVE, New York, NY</td>\n",
       "      <td>clerk</td>\n",
       "      <td>1</td>\n",
       "      <td>GEORGE</td>\n",
       "      <td>GOLDEY</td>\n",
       "      <td>421 4TH AVE, NYC-Manhattan, NY</td>\n",
       "      <td>26</td>\n",
       "      <td>BOILER MAKER</td>\n",
       "      <td>12</td>\n",
       "      <td>653</td>\n",
       "      <td>2654</td>\n",
       "      <td>3666</td>\n",
       "      <td>1</td>\n",
       "      <td>0.904</td>\n",
       "      <td>0.95</td>\n",
       "      <td>-73.935834</td>\n",
       "      <td>40.809072</td>\n",
       "      <td>1</td>\n",
       "      <td>1</td>\n",
       "      <td>2529 FOURTH AVE</td>\n",
       "      <td>421 4TH AVE</td>\n",
       "      <td>5691.505222</td>\n",
       "    </tr>\n",
       "  </tbody>\n",
       "</table>\n",
       "</div>"
      ],
      "text/plain": [
       "        Unnamed: 0      CD_ID       CENSUS_ID  anchor  confidence_score_x  \\\n",
       "138214      138214  CD_148209  CENSUS_1116343     0.0                0.95   \n",
       "\n",
       "        in_cluster  spatial_weight  graph_ID  selected   CENSUS_X   CENSUS_Y  \\\n",
       "138214         NaN            1.95  102160.0       1.0 -73.983779  40.744217   \n",
       "\n",
       "       CD_FIRST_NAME CD_LAST_NAME                     MATCH_ADDR  \\\n",
       "138214        George        Gould  2529 FOURTH AVE, New York, NY   \n",
       "\n",
       "       CD_OCCUPATION  num_matches CENSUS_NAMEFRSCLEAN CENSUS_NAMELASTB  \\\n",
       "138214         clerk            1              GEORGE           GOLDEY   \n",
       "\n",
       "                     CENSUS_MATCH_ADDR  CENSUS_AGE CENSUS_OCCLABELB  WARD_NUM  \\\n",
       "138214  421 4TH AVE, NYC-Manhattan, NY          26     BOILER MAKER        12   \n",
       "\n",
       "        CENSUS_ENUMDIST  CENSUS_SEGMENT_ID  CD_BLOCK_NUM  \\\n",
       "138214              653               2654          3666   \n",
       "\n",
       "        census_occupation_listed  jaro_winkler_aggr_score  confidence_score_y  \\\n",
       "138214                         1                    0.904                0.95   \n",
       "\n",
       "             LONG        LAT  age_score  census_count       cd_add_cln  \\\n",
       "138214 -73.935834  40.809072          1             1  2529 FOURTH AVE   \n",
       "\n",
       "        cen_add_cln         dist  \n",
       "138214  421 4TH AVE  5691.505222  "
      ]
     },
     "execution_count": 211,
     "metadata": {},
     "output_type": "execute_result"
    }
   ],
   "source": [
    "# which records are far away\n",
    "final_df[final_df.dist > 5000]"
   ]
  },
  {
   "cell_type": "markdown",
   "metadata": {},
   "source": [
    "We can see that the graphs of larger sizes tend to have lower average distances. This suggests that the large distances might be a result of few matches to those records."
   ]
  },
  {
   "cell_type": "code",
   "execution_count": 210,
   "metadata": {},
   "outputs": [
    {
     "data": {
      "image/png": "[encoded data removed]",
      "text/plain": [
       "<Figure size 432x288 with 1 Axes>"
      ]
     },
     "metadata": {
      "needs_background": "light"
     },
     "output_type": "display_data"
    }
   ],
   "source": [
    "ax, fig = plt.subplots()\n",
    "plt.scatter(graph_dist['count'].to_list(), graph_dist['mean'].to_list())\n",
    "plt.xlabel(\"Graph Size\")\n",
    "plt.ylabel(\"Graph Average Distance\")\n",
    "plt.title(\"Graph Size vs. Graph Distance\")\n",
    "plt.show()"
   ]
  },
  {
   "cell_type": "markdown",
   "metadata": {},
   "source": [
    "### Average confidence score of selected matches"
   ]
  },
  {
   "cell_type": "code",
   "execution_count": 54,
   "metadata": {},
   "outputs": [
    {
     "data": {
      "text/plain": [
       "0.9558351120083621"
      ]
     },
     "execution_count": 54,
     "metadata": {},
     "output_type": "execute_result"
    }
   ],
   "source": [
    "sum(final_df.loc[final_df.selected == 1, :].confidence_score.values) / len(final_df.loc[final_df.selected == 1, :])"
   ]
  },
  {
   "cell_type": "code",
   "execution_count": 55,
   "metadata": {
    "scrolled": true
   },
   "outputs": [
    {
     "data": {
      "text/plain": [
       "0.9215124202484423"
      ]
     },
     "execution_count": 55,
     "metadata": {},
     "output_type": "execute_result"
    }
   ],
   "source": [
    "sum(final_df.confidence_score.values) / len(final_df)"
   ]
  }
 ],
 "metadata": {
  "kernelspec": {
   "display_name": "Python 3",
   "language": "python",
   "name": "python3"
  },
  "language_info": {
   "codemirror_mode": {
    "name": "ipython",
    "version": 3
   },
   "file_extension": ".py",
   "mimetype": "text/x-python",
   "name": "python",
   "nbconvert_exporter": "python",
   "pygments_lexer": "ipython3",
   "version": "3.7.3"
  }
 },
 "nbformat": 4,
 "nbformat_minor": 2
}
