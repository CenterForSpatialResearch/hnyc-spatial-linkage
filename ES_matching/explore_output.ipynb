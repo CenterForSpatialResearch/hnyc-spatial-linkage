{
 "cells": [
  {
   "cell_type": "code",
   "execution_count": 1,
   "metadata": {},
   "outputs": [],
   "source": [
    "import pandas as pd"
   ]
  },
  {
   "cell_type": "code",
   "execution_count": 10,
   "metadata": {},
   "outputs": [],
   "source": [
    "es1880_amo = pd.read_csv(\"../data/es-1880-2-3-2020.csv\", engine='python', sep='\\t')"
   ]
  },
  {
   "cell_type": "code",
   "execution_count": 4,
   "metadata": {},
   "outputs": [],
   "source": [
    "es1880 = pd.read_csv(\"../data/test.csv\", engine='python', sep='\\t')"
   ]
  },
  {
   "cell_type": "code",
   "execution_count": 5,
   "metadata": {},
   "outputs": [
    {
     "output_type": "execute_result",
     "data": {
      "text/plain": "Index(['OBJECTID.x', 'CENSUS_NAMEFRSTB', 'CENSUS_NAMELASTB', 'CENSUS_AGE',\n       'CENSUS_OCCLABELB', 'CENSUS_MATCH_ADDR', 'CENSUS_SEGMENT_ID',\n       'WARD_NUM', 'CD_ED', 'OBJECTID', 'MATCH_ADDR', 'CD_FIRST_NAME',\n       'CD_LAST_NAME', 'CD_OCCUPATION', 'CD_FINAL_HOUSENUM'],\n      dtype='object')"
     },
     "metadata": {},
     "execution_count": 5
    }
   ],
   "source": [
    "es1880.columns"
   ]
  },
  {
   "cell_type": "code",
   "execution_count": 12,
   "metadata": {},
   "outputs": [
    {
     "output_type": "execute_result",
     "data": {
      "text/plain": "    CENSUS_NAMEFRSTB CENSUS_NAMELASTB CD_FIRST_NAME CD_LAST_NAME\n8              RICKA       ZORKOWSKIE         Rieka    Zorkowski\n22              GEO.           ZUCKER           Geo       Zucker\n30         VALENTINO            ZULCH     Valentine        Zulch\n46             ANNIE           ZWIGER          John       Zwiger\n75              ANNE             ZEPP          John         Zipp\n77              ANNA             ZEPP          John         Zipp\n86            ANTHON             ZOCK       Anthony         Zock\n87            ANTHON             ZOCK       Anthony         Zock\n90          FREDRICK            ZOREB     Frederick        Zoerb\n93              JOHN           ZIMMER         Annie       Zimmer\n115          PHILLIP           ZIMMER        Philip       Zimmer\n116          PHILLIP           ZIMMER        Philip       Zimmer\n121           ATILLA           ZIMMER          Otto       Zimmer\n128            ANNIE           SOMMER          John       Zimmer\n139           LOUISA        ZIMMERMAN        Louise    Zimmerman\n140            LOUIS        ZIMMERMAN        Louise    Zimmerman\n149           ISADOR        ZIMMERMAN        Isidor   Zimmermann\n150           GOSTIF       ZIMMERMANN        Gustav   Zimmermann\n165         THEADORE        ZIMMERMAN      Theodore   Zimmermann\n172          CAROLIN          ZETTLER      Caroline      Zettler",
      "text/html": "<div>\n<style scoped>\n    .dataframe tbody tr th:only-of-type {\n        vertical-align: middle;\n    }\n\n    .dataframe tbody tr th {\n        vertical-align: top;\n    }\n\n    .dataframe thead th {\n        text-align: right;\n    }\n</style>\n<table border=\"1\" class=\"dataframe\">\n  <thead>\n    <tr style=\"text-align: right;\">\n      <th></th>\n      <th>CENSUS_NAMEFRSTB</th>\n      <th>CENSUS_NAMELASTB</th>\n      <th>CD_FIRST_NAME</th>\n      <th>CD_LAST_NAME</th>\n    </tr>\n  </thead>\n  <tbody>\n    <tr>\n      <th>8</th>\n      <td>RICKA</td>\n      <td>ZORKOWSKIE</td>\n      <td>Rieka</td>\n      <td>Zorkowski</td>\n    </tr>\n    <tr>\n      <th>22</th>\n      <td>GEO.</td>\n      <td>ZUCKER</td>\n      <td>Geo</td>\n      <td>Zucker</td>\n    </tr>\n    <tr>\n      <th>30</th>\n      <td>VALENTINO</td>\n      <td>ZULCH</td>\n      <td>Valentine</td>\n      <td>Zulch</td>\n    </tr>\n    <tr>\n      <th>46</th>\n      <td>ANNIE</td>\n      <td>ZWIGER</td>\n      <td>John</td>\n      <td>Zwiger</td>\n    </tr>\n    <tr>\n      <th>75</th>\n      <td>ANNE</td>\n      <td>ZEPP</td>\n      <td>John</td>\n      <td>Zipp</td>\n    </tr>\n    <tr>\n      <th>77</th>\n      <td>ANNA</td>\n      <td>ZEPP</td>\n      <td>John</td>\n      <td>Zipp</td>\n    </tr>\n    <tr>\n      <th>86</th>\n      <td>ANTHON</td>\n      <td>ZOCK</td>\n      <td>Anthony</td>\n      <td>Zock</td>\n    </tr>\n    <tr>\n      <th>87</th>\n      <td>ANTHON</td>\n      <td>ZOCK</td>\n      <td>Anthony</td>\n      <td>Zock</td>\n    </tr>\n    <tr>\n      <th>90</th>\n      <td>FREDRICK</td>\n      <td>ZOREB</td>\n      <td>Frederick</td>\n      <td>Zoerb</td>\n    </tr>\n    <tr>\n      <th>93</th>\n      <td>JOHN</td>\n      <td>ZIMMER</td>\n      <td>Annie</td>\n      <td>Zimmer</td>\n    </tr>\n    <tr>\n      <th>115</th>\n      <td>PHILLIP</td>\n      <td>ZIMMER</td>\n      <td>Philip</td>\n      <td>Zimmer</td>\n    </tr>\n    <tr>\n      <th>116</th>\n      <td>PHILLIP</td>\n      <td>ZIMMER</td>\n      <td>Philip</td>\n      <td>Zimmer</td>\n    </tr>\n    <tr>\n      <th>121</th>\n      <td>ATILLA</td>\n      <td>ZIMMER</td>\n      <td>Otto</td>\n      <td>Zimmer</td>\n    </tr>\n    <tr>\n      <th>128</th>\n      <td>ANNIE</td>\n      <td>SOMMER</td>\n      <td>John</td>\n      <td>Zimmer</td>\n    </tr>\n    <tr>\n      <th>139</th>\n      <td>LOUISA</td>\n      <td>ZIMMERMAN</td>\n      <td>Louise</td>\n      <td>Zimmerman</td>\n    </tr>\n    <tr>\n      <th>140</th>\n      <td>LOUIS</td>\n      <td>ZIMMERMAN</td>\n      <td>Louise</td>\n      <td>Zimmerman</td>\n    </tr>\n    <tr>\n      <th>149</th>\n      <td>ISADOR</td>\n      <td>ZIMMERMAN</td>\n      <td>Isidor</td>\n      <td>Zimmermann</td>\n    </tr>\n    <tr>\n      <th>150</th>\n      <td>GOSTIF</td>\n      <td>ZIMMERMANN</td>\n      <td>Gustav</td>\n      <td>Zimmermann</td>\n    </tr>\n    <tr>\n      <th>165</th>\n      <td>THEADORE</td>\n      <td>ZIMMERMAN</td>\n      <td>Theodore</td>\n      <td>Zimmermann</td>\n    </tr>\n    <tr>\n      <th>172</th>\n      <td>CAROLIN</td>\n      <td>ZETTLER</td>\n      <td>Caroline</td>\n      <td>Zettler</td>\n    </tr>\n  </tbody>\n</table>\n</div>"
     },
     "metadata": {},
     "execution_count": 12
    }
   ],
   "source": [
    "es1880.loc[es1880.CENSUS_NAMEFRSTB.str.lower() != es1880.CD_FIRST_NAME.str.lower(), ['CENSUS_NAMEFRSTB', 'CENSUS_NAMELASTB', 'CD_FIRST_NAME', 'CD_LAST_NAME']].head(20)"
   ]
  },
  {
   "cell_type": "code",
   "execution_count": 13,
   "metadata": {},
   "outputs": [
    {
     "output_type": "execute_result",
     "data": {
      "text/plain": "      CENSUS_NAMEFRSTB CENSUS_NAMELASTB CD_FIRST_NAME CD_LAST_NAME\n17                GEO.           ZUCKER           Geo       Zucker\n3147              GEO.          WHEELER           Geo      Wheeler\n3148              GEO.          WHEELER           Geo      Wheeler\n5406              EDW.          WALLACE           Edw      Wallace\n5997              GEO.       WADDINGTON           Geo   Waddington\n6502              GEO.       VANDERBILT           Geo   Vanderbilt\n9645            ELIZA.         SULLIVAN         Eliza     Sullivan\n13414             GEO.            SMITH           Geo        Smith\n14659            THEO.         SHOTWELL          Theo     Shotwell\n16041             GEO.            SCOTT           Geo        Scott\n16115             GEO.         SCHWERDT           Geo     Schwerdt\n17486             GEO.      SCHIEFFELIN           Geo  Schieffelin\n20795             GEO.          ROBERTS           Geo      Roberts\n25880             GEO.           PARKER           Geo       Parker\n27670           HENRY,          NICHOLS         Henry      Nichols\n31183             GEO.         MORRISON           Geo     Morrison\n31345             GEO.           MORRIS           Geo       Morris\n34433             GEO.         MEHRTENS           Geo     Mehrtens\n35502           HENRY.           MARTIN         Henry       Martin\n36181             GEO.       MANCHESTER           Geo   Manchester",
      "text/html": "<div>\n<style scoped>\n    .dataframe tbody tr th:only-of-type {\n        vertical-align: middle;\n    }\n\n    .dataframe tbody tr th {\n        vertical-align: top;\n    }\n\n    .dataframe thead th {\n        text-align: right;\n    }\n</style>\n<table border=\"1\" class=\"dataframe\">\n  <thead>\n    <tr style=\"text-align: right;\">\n      <th></th>\n      <th>CENSUS_NAMEFRSTB</th>\n      <th>CENSUS_NAMELASTB</th>\n      <th>CD_FIRST_NAME</th>\n      <th>CD_LAST_NAME</th>\n    </tr>\n  </thead>\n  <tbody>\n    <tr>\n      <th>17</th>\n      <td>GEO.</td>\n      <td>ZUCKER</td>\n      <td>Geo</td>\n      <td>Zucker</td>\n    </tr>\n    <tr>\n      <th>3147</th>\n      <td>GEO.</td>\n      <td>WHEELER</td>\n      <td>Geo</td>\n      <td>Wheeler</td>\n    </tr>\n    <tr>\n      <th>3148</th>\n      <td>GEO.</td>\n      <td>WHEELER</td>\n      <td>Geo</td>\n      <td>Wheeler</td>\n    </tr>\n    <tr>\n      <th>5406</th>\n      <td>EDW.</td>\n      <td>WALLACE</td>\n      <td>Edw</td>\n      <td>Wallace</td>\n    </tr>\n    <tr>\n      <th>5997</th>\n      <td>GEO.</td>\n      <td>WADDINGTON</td>\n      <td>Geo</td>\n      <td>Waddington</td>\n    </tr>\n    <tr>\n      <th>6502</th>\n      <td>GEO.</td>\n      <td>VANDERBILT</td>\n      <td>Geo</td>\n      <td>Vanderbilt</td>\n    </tr>\n    <tr>\n      <th>9645</th>\n      <td>ELIZA.</td>\n      <td>SULLIVAN</td>\n      <td>Eliza</td>\n      <td>Sullivan</td>\n    </tr>\n    <tr>\n      <th>13414</th>\n      <td>GEO.</td>\n      <td>SMITH</td>\n      <td>Geo</td>\n      <td>Smith</td>\n    </tr>\n    <tr>\n      <th>14659</th>\n      <td>THEO.</td>\n      <td>SHOTWELL</td>\n      <td>Theo</td>\n      <td>Shotwell</td>\n    </tr>\n    <tr>\n      <th>16041</th>\n      <td>GEO.</td>\n      <td>SCOTT</td>\n      <td>Geo</td>\n      <td>Scott</td>\n    </tr>\n    <tr>\n      <th>16115</th>\n      <td>GEO.</td>\n      <td>SCHWERDT</td>\n      <td>Geo</td>\n      <td>Schwerdt</td>\n    </tr>\n    <tr>\n      <th>17486</th>\n      <td>GEO.</td>\n      <td>SCHIEFFELIN</td>\n      <td>Geo</td>\n      <td>Schieffelin</td>\n    </tr>\n    <tr>\n      <th>20795</th>\n      <td>GEO.</td>\n      <td>ROBERTS</td>\n      <td>Geo</td>\n      <td>Roberts</td>\n    </tr>\n    <tr>\n      <th>25880</th>\n      <td>GEO.</td>\n      <td>PARKER</td>\n      <td>Geo</td>\n      <td>Parker</td>\n    </tr>\n    <tr>\n      <th>27670</th>\n      <td>HENRY,</td>\n      <td>NICHOLS</td>\n      <td>Henry</td>\n      <td>Nichols</td>\n    </tr>\n    <tr>\n      <th>31183</th>\n      <td>GEO.</td>\n      <td>MORRISON</td>\n      <td>Geo</td>\n      <td>Morrison</td>\n    </tr>\n    <tr>\n      <th>31345</th>\n      <td>GEO.</td>\n      <td>MORRIS</td>\n      <td>Geo</td>\n      <td>Morris</td>\n    </tr>\n    <tr>\n      <th>34433</th>\n      <td>GEO.</td>\n      <td>MEHRTENS</td>\n      <td>Geo</td>\n      <td>Mehrtens</td>\n    </tr>\n    <tr>\n      <th>35502</th>\n      <td>HENRY.</td>\n      <td>MARTIN</td>\n      <td>Henry</td>\n      <td>Martin</td>\n    </tr>\n    <tr>\n      <th>36181</th>\n      <td>GEO.</td>\n      <td>MANCHESTER</td>\n      <td>Geo</td>\n      <td>Manchester</td>\n    </tr>\n  </tbody>\n</table>\n</div>"
     },
     "metadata": {},
     "execution_count": 13
    }
   ],
   "source": [
    "es1880_amo.loc[es1880_amo.CENSUS_NAMEFRSTB.str.lower() != es1880_amo.CD_FIRST_NAME.str.lower(), ['CENSUS_NAMEFRSTB', 'CENSUS_NAMELASTB', 'CD_FIRST_NAME', 'CD_LAST_NAME']].head(20)"
   ]
  }
 ],
 "metadata": {
  "language_info": {
   "codemirror_mode": {
    "name": "ipython",
    "version": 3
   },
   "file_extension": ".py",
   "mimetype": "text/x-python",
   "name": "python",
   "nbconvert_exporter": "python",
   "pygments_lexer": "ipython3",
   "version": "3.7.3-final"
  },
  "orig_nbformat": 2,
  "kernelspec": {
   "name": "python3",
   "display_name": "Python 3"
  }
 },
 "nbformat": 4,
 "nbformat_minor": 2
}