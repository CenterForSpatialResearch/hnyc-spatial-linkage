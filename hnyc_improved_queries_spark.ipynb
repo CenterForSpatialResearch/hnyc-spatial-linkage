{
 "cells": [
  {
   "cell_type": "code",
   "execution_count": 0,
   "metadata": {
    "colab": {
     "base_uri": "https://localhost:8080/",
     "height": 384
    },
    "colab_type": "code",
    "id": "GuX9RtHp53Dt",
    "outputId": "c8a968b5-0b52-440b-bb53-f9c690083555"
   },
   "outputs": [
    {
     "name": "stdout",
     "output_type": "stream",
     "text": [
      "Collecting python-Levenshtein\n",
      "\u001b[?25l  Downloading https://files.pythonhosted.org/packages/42/a9/d1785c85ebf9b7dfacd08938dd028209c34a0ea3b1bcdb895208bd40a67d/python-Levenshtein-0.12.0.tar.gz (48kB)\n",
      "\r",
      "\u001b[K     |██████▊                         | 10kB 16.2MB/s eta 0:00:01\r",
      "\u001b[K     |█████████████▌                  | 20kB 1.8MB/s eta 0:00:01\r",
      "\u001b[K     |████████████████████▏           | 30kB 2.6MB/s eta 0:00:01\r",
      "\u001b[K     |███████████████████████████     | 40kB 1.7MB/s eta 0:00:01\r",
      "\u001b[K     |████████████████████████████████| 51kB 1.6MB/s \n",
      "\u001b[?25hRequirement already satisfied: setuptools in /usr/local/lib/python3.6/dist-packages (from python-Levenshtein) (41.6.0)\n",
      "Building wheels for collected packages: python-Levenshtein\n",
      "  Building wheel for python-Levenshtein (setup.py) ... \u001b[?25l\u001b[?25hdone\n",
      "  Created wheel for python-Levenshtein: filename=python_Levenshtein-0.12.0-cp36-cp36m-linux_x86_64.whl size=144674 sha256=4f7365898d7b0e4d261ad65b9e6bdec414181c9464a7bc895fdb8329ed6706e6\n",
      "  Stored in directory: /root/.cache/pip/wheels/de/c2/93/660fd5f7559049268ad2dc6d81c4e39e9e36518766eaf7e342\n",
      "Successfully built python-Levenshtein\n",
      "Installing collected packages: python-Levenshtein\n",
      "Successfully installed python-Levenshtein-0.12.0\n",
      "Collecting Metaphone\n",
      "  Downloading https://files.pythonhosted.org/packages/d4/ae/c9e4d007e32a6469be212da11d0b8e104d643f6f247d771742caf6ac6bb8/Metaphone-0.6.tar.gz\n",
      "Building wheels for collected packages: Metaphone\n",
      "  Building wheel for Metaphone (setup.py) ... \u001b[?25l\u001b[?25hdone\n",
      "  Created wheel for Metaphone: filename=Metaphone-0.6-cp36-none-any.whl size=13906 sha256=49761b944334a95b9a59cbbee1167eddb3a68b29d3203d2668596dea712f1fac\n",
      "  Stored in directory: /root/.cache/pip/wheels/4e/7c/f7/162d726fc83491ef23c7a0b989005024eb83a1408c96f32eaf\n",
      "Successfully built Metaphone\n",
      "Installing collected packages: Metaphone\n",
      "Successfully installed Metaphone-0.6\n"
     ]
    }
   ],
   "source": [
    "!pip install python-Levenshtein\n",
    "!pip install Metaphone"
   ]
  },
  {
   "cell_type": "code",
   "execution_count": 0,
   "metadata": {
    "colab": {},
    "colab_type": "code",
    "id": "xKtBPqUBzlc_"
   },
   "outputs": [],
   "source": [
    "import pandas as pd\n",
    "from Levenshtein import distance\n",
    "from metaphone import doublemetaphone\n",
    "pd.set_option('display.max_columns', 500)"
   ]
  },
  {
   "cell_type": "code",
   "execution_count": 0,
   "metadata": {
    "colab": {
     "base_uri": "https://localhost:8080/",
     "height": 124
    },
    "colab_type": "code",
    "id": "aQxOHeU2zx5E",
    "outputId": "2152caa1-c018-453d-e47d-ccf81ee7810b"
   },
   "outputs": [
    {
     "name": "stdout",
     "output_type": "stream",
     "text": [
      "Go to this URL in a browser: https://accounts.google.com/o/oauth2/auth?client_id=947318989803-6bn6qk8qdgf4n4g3pfee6491hc0brc4i.apps.googleusercontent.com&redirect_uri=urn%3aietf%3awg%3aoauth%3a2.0%3aoob&response_type=code&scope=email%20https%3a%2f%2fwww.googleapis.com%2fauth%2fdocs.test%20https%3a%2f%2fwww.googleapis.com%2fauth%2fdrive%20https%3a%2f%2fwww.googleapis.com%2fauth%2fdrive.photos.readonly%20https%3a%2f%2fwww.googleapis.com%2fauth%2fpeopleapi.readonly\n",
      "\n",
      "Enter your authorization code:\n",
      "··········\n",
      "Mounted at /content/gdrive\n"
     ]
    }
   ],
   "source": [
    "from google.colab import drive\n",
    "drive.mount('/content/gdrive')"
   ]
  },
  {
   "cell_type": "code",
   "execution_count": 0,
   "metadata": {
    "colab": {},
    "colab_type": "code",
    "id": "IjDucjaczldL"
   },
   "outputs": [],
   "source": [
    "!apt-get install openjdk-8-jdk-headless -qq > /dev/null"
   ]
  },
  {
   "cell_type": "code",
   "execution_count": 0,
   "metadata": {
    "colab": {},
    "colab_type": "code",
    "id": "waIOR0foxQf8"
   },
   "outputs": [],
   "source": [
    "!wget -q http://mirrors.viethosting.com/apache/spark/spark-2.4.4/spark-2.4.4-bin-hadoop2.7.tgz"
   ]
  },
  {
   "cell_type": "code",
   "execution_count": 0,
   "metadata": {
    "colab": {},
    "colab_type": "code",
    "id": "gQ872m3byYKS"
   },
   "outputs": [],
   "source": [
    "!tar xf spark-2.4.4-bin-hadoop2.7.tgz"
   ]
  },
  {
   "cell_type": "code",
   "execution_count": 0,
   "metadata": {
    "colab": {},
    "colab_type": "code",
    "id": "tOzHga9iybUU"
   },
   "outputs": [],
   "source": [
    "!pip install -q findspark"
   ]
  },
  {
   "cell_type": "code",
   "execution_count": 0,
   "metadata": {
    "colab": {},
    "colab_type": "code",
    "id": "6kjA5APmzldS"
   },
   "outputs": [],
   "source": [
    "import os\n",
    "os.environ[\"JAVA_HOME\"] = \"/usr/lib/jvm/java-8-openjdk-amd64\"\n",
    "os.environ[\"SPARK_HOME\"] = \"/content/spark-2.4.4-bin-hadoop2.7\"\n",
    "import findspark\n",
    "findspark.init()\n",
    "from pyspark.sql import SparkSession\n",
    "spark = SparkSession.builder.master(\"local[*]\").getOrCreate()"
   ]
  },
  {
   "cell_type": "code",
   "execution_count": 0,
   "metadata": {
    "colab": {},
    "colab_type": "code",
    "id": "FeEZEDyKzldd"
   },
   "outputs": [],
   "source": [
    "cd_df_pys = spark.read.csv(\"gdrive/My Drive/HNYC Collab/cd_df_final.csv\", header=True)\n",
    "census_df_pys = spark.read.csv(\"gdrive/My Drive/HNYC Collab/census_df_final.csv\", header=True)"
   ]
  },
  {
   "cell_type": "code",
   "execution_count": 0,
   "metadata": {
    "colab": {},
    "colab_type": "code",
    "id": "x3VcyfyAz2p_"
   },
   "outputs": [],
   "source": [
    "def levenshteinMetaphoneFunc(first_cd, first_cn, last_cd, last_cn):\n",
    "    first_cd, last_cd, first_cn, last_cn = first_cd.strip(), last_cd.strip(), first_cn.strip(), last_cn.strip() \n",
    "    s1 = (first_cd + last_cd).lower()\n",
    "    s2 = (first_cn + last_cn).lower()\n",
    "    mf_first_cd = set(doublemetaphone(first_cd))\n",
    "    mf_last_cd = set(doublemetaphone(last_cd))\n",
    "    mf_first_cn = set(doublemetaphone(first_cn))\n",
    "    mf_last_cn = set(doublemetaphone(last_cn))\n",
    "    if len(mf_first_cd.intersection(mf_first_cn).difference({''})) > 0:\n",
    "        first_good = True\n",
    "    else:\n",
    "        first_good = False\n",
    "    if len(mf_last_cd.intersection(mf_last_cn).difference({''})) > 0:\n",
    "        last_good = True\n",
    "    else:\n",
    "        last_good = False\n",
    "    if (distance(s1, s2) < 4) and first_good and last_good:\n",
    "        return True\n",
    "    return False"
   ]
  },
  {
   "cell_type": "code",
   "execution_count": 0,
   "metadata": {
    "colab": {},
    "colab_type": "code",
    "id": "OkxEgPGRz3EO"
   },
   "outputs": [],
   "source": [
    "from pyspark.sql.types import BooleanType\n",
    "func = spark.udf.register(\"nameMatchCheckWithPython\", levenshteinMetaphoneFunc, BooleanType())"
   ]
  },
  {
   "cell_type": "code",
   "execution_count": 0,
   "metadata": {
    "colab": {},
    "colab_type": "code",
    "id": "QvGk46CB4CSb"
   },
   "outputs": [],
   "source": [
    "merged = cd_df_pys.join(census_df_pys, 'WARD_ED', 'inner')\n",
    "results = merged.filter(func(merged.CD_FIRST_NAME, merged.CENSUS_NAMEFRSTCLEAN, merged.CD_LAST_NAME, \\\n",
    "                          merged.CENSUS_NAMELASTB))"
   ]
  },
  {
   "cell_type": "code",
   "execution_count": 0,
   "metadata": {
    "colab": {},
    "colab_type": "code",
    "id": "fwHSDnFvz_ZB"
   },
   "outputs": [],
   "source": [
    "results.write.csv('gdrive/My Drive/HNYC Collab/cd_census_merged.csv')"
   ]
  }
 ],
 "metadata": {
  "colab": {
   "machine_shape": "hm",
   "name": "hnyc_improved_queries.ipynb",
   "provenance": []
  },
  "kernelspec": {
   "display_name": "Python 3",
   "language": "python",
   "name": "python3"
  },
  "language_info": {
   "codemirror_mode": {
    "name": "ipython",
    "version": 3
   },
   "file_extension": ".py",
   "mimetype": "text/x-python",
   "name": "python",
   "nbconvert_exporter": "python",
   "pygments_lexer": "ipython3",
   "version": "3.7.5"
  }
 },
 "nbformat": 4,
 "nbformat_minor": 1
}
